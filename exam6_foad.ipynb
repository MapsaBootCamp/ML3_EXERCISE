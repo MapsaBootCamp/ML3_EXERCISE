{
 "cells": [
  {
   "cell_type": "markdown",
   "metadata": {},
   "source": [
    "answer below questions\n",
    "\n",
    "1-what is diffrent betwee select and select distinct\n",
    "\n",
    "2- with sql how do you select all the records from the table named\"Person\" where the value of the column\"FirstName\" starts with an \"a\"\n",
    "\n",
    "3-what does truncate do \n",
    "\n",
    "4-with which sql command you can change table schema ? make an example\n",
    "\n",
    "5-how do you cahnge a record that saved in table\n",
    "\n",
    "6-what is the meaning of pk and foreign key are they diffrent?\n",
    "\n"
   ]
  },
  {
   "cell_type": "code",
   "execution_count": null,
   "metadata": {},
   "outputs": [],
   "source": [
    "1-what is diffrent betwee select and select distinct:\n",
    "    select: انتخاب از بین همه رکوردها\n",
    "select distinct: انتخاب از ردیفها بافیلتر یکتا بودن آنها\n"
   ]
  },
  {
   "cell_type": "code",
   "execution_count": null,
   "metadata": {},
   "outputs": [],
   "source": [
    "2- with sql how do you select all the records from the table named\"Person\" where the value of the column\"FirstName\" starts with an \"a\"\n",
    "\"SELECT * FROM person where FirstName like \"a%\""
   ]
  },
  {
   "cell_type": "code",
   "execution_count": null,
   "metadata": {},
   "outputs": [],
   "source": [
    "3-what does truncate do :\n",
    " پاک کردن همه دیتای یک جدول بدون اینکه خود جدول پاک شود\n"
   ]
  },
  {
   "cell_type": "markdown",
   "metadata": {},
   "source": [
    "4-with which sql command you can change table schema ? make an example\n",
    "// اضافه کردن یک ستون به جدول موجود \n",
    "\n",
    "\"ALTER TABLE mytable ADD age int\""
   ]
  },
  {
   "cell_type": "code",
   "execution_count": null,
   "metadata": {},
   "outputs": [],
   "source": [
    "5-how do you cahnge a record that saved in table\n",
    "\n",
    "\"UPDATE titanic SET cabin='**EMPTY**' WHERE cabin IS NULL\")"
   ]
  },
  {
   "cell_type": "code",
   "execution_count": null,
   "metadata": {},
   "outputs": [],
   "source": [
    "6-what is the meaning of pk and foreign key are they diffrent?\n",
    "pk:  فیلد یکتا و غیر خالی است که دریک جدول مانند ایندکس و شناسه ردیف خود میباشد. \n",
    "بنابراین به عنوان نماینده هنگام ارتباط با دیگر جداول استفاده میشود\n",
    "fk: وقتی  در جدولی برای ایجاد ارتباط با جدولی دیگر فیلدی به عنوان نماینده جدول اصلی استفاده میشود عنوان کلید خارجی را میگیرد.\n",
    "  و  رفرنس به ردیفی در جدول دیگر میدهد. بنابراین میتواند تکراری باشد\n"
   ]
  },
  {
   "cell_type": "markdown",
   "metadata": {
    "tags": []
   },
   "source": [
    "## from calss\n",
    "#### fill in the ..... blanks\n"
   ]
  },
  {
   "cell_type": "code",
   "execution_count": null,
   "metadata": {},
   "outputs": [],
   "source": []
  },
  {
   "cell_type": "code",
   "execution_count": 16,
   "metadata": {},
   "outputs": [],
   "source": [
    "import sqlite3\n",
    "conn = sqlite3.connect(\"titanic.db\")\n",
    "curs = conn.cursor()\n",
    "curs.execute(\"SELECT name FROM sqlite_master WHERE type='table';\")\n",
    "print(curs.fetch(2))\n",
    "curs.execute(\"UPDATE titanic SET IsReverend = 0 WHERE Name NOT LIKE '%Rev%'\")\n",
    "conn.commit()"
   ]
  },
  {
   "cell_type": "code",
   "execution_count": null,
   "metadata": {},
   "outputs": [],
   "source": [
    "import psycopg2\n",
    "import psycopg2.extras\n",
    "import pandas as pd\n",
    "\n",
    "# Connect to your postgres DB\n",
    "conn = psycopg2.....(\n",
    "    host=\"localhost\",\n",
    "    database=\"ml\",\n",
    "    user=\"mapsa\",\n",
    "    password=\"mapsa1234\")\n",
    "\n",
    "# pandas dataframe\n",
    "# df = pd.read_sql_query(\"SELECT * FROM users\", conn)\n",
    "\n",
    "# Open a cursor to perform database operations\n",
    "cur = conn.cursor(cursor_factory=psycopg2.extras.DictCursor)\n",
    "# cur = conn.cursor()\n",
    "\n",
    "\n",
    "# find users\n",
    "cur.execute(\"SELECT username FROM users\")"
   ]
  },
  {
   "cell_type": "markdown",
   "metadata": {
    "id": "OPWpWSXHJTSz",
    "tags": []
   },
   "source": [
    "### sqlalchemy is big orm i want you use peewe orm that give you a hand in making queries\n",
    "1-use it to make sqlite database with name and day(date kind)scheme that named peewedb.db and create it"
   ]
  },
  {
   "cell_type": "code",
   "execution_count": 12,
   "metadata": {},
   "outputs": [],
   "source": [
    "import sqlalchemy as db\n",
    "from sqlalchemy import create_engine\n",
    "engine = create_engine('sqlite:///peewedb.db', echo = True)\n",
    "from sqlalchemy import MetaData\n",
    "from sqlalchemy.orm import sessionmaker\n",
    "from sqlalchemy.ext.declarative import declarative_base\n",
    "meta = MetaData()"
   ]
  },
  {
   "cell_type": "code",
   "execution_count": 72,
   "metadata": {},
   "outputs": [
    {
     "name": "stdout",
     "output_type": "stream",
     "text": [
      "2022-12-24 08:30:51,954 INFO sqlalchemy.engine.Engine BEGIN (implicit)\n",
      "2022-12-24 08:30:51,956 INFO sqlalchemy.engine.Engine PRAGMA main.table_info(\"mytable\")\n",
      "2022-12-24 08:30:51,958 INFO sqlalchemy.engine.Engine [raw sql] ()\n",
      "2022-12-24 08:30:51,961 INFO sqlalchemy.engine.Engine COMMIT\n"
     ]
    }
   ],
   "source": [
    "from sqlalchemy import Table, Column, Integer, String, MetaData, Date\n",
    "meta = MetaData()\n",
    "\n",
    "mytable = Table(\n",
    "   'mytable', meta, \n",
    "   Column('id', Integer, primary_key = True), \n",
    "   Column('name', String), \n",
    "   Column('day', String), \n",
    ")\n",
    "meta.create_all(engine)\n",
    "\n",
    "class Mytable(declarative_base()):\n",
    "    __tablename__ = 'mytable'\n",
    "    id = db.Column(db.Integer, primary_key=True)\n",
    "    name = db.Column(db.String(16))"
   ]
  },
  {
   "cell_type": "code",
   "execution_count": null,
   "metadata": {},
   "outputs": [],
   "source": [
    "2- add two row in your database first on is (name=azaddel and day= (1991,2,14) and second one is (name=yourname, day=yourbirthday) and save it to peewedb datbase in person table"
   ]
  },
  {
   "cell_type": "code",
   "execution_count": 60,
   "metadata": {},
   "outputs": [
    {
     "name": "stdout",
     "output_type": "stream",
     "text": [
      "INSERT INTO mytable (name, day) VALUES (:name, :day)\n"
     ]
    }
   ],
   "source": [
    "from sqlalchemy import insert\n",
    "mtable = insert(mytable).values(name= 'azaddel', day = '1991/2/14')\n",
    "compiled = mtable.compile()\n",
    "compiled.params\n",
    "print(mtable)\n",
    "with engine.connect() as conn:\n",
    "    result = conn.execute(mtable)"
   ]
  },
  {
   "cell_type": "code",
   "execution_count": 61,
   "metadata": {},
   "outputs": [
    {
     "data": {
      "text/plain": [
       "{'name': 'azaddel', 'day': '1991/2/14'}"
      ]
     },
     "execution_count": 61,
     "metadata": {},
     "output_type": "execute_result"
    }
   ],
   "source": [
    "compiled = mtable.compile()\n",
    "compiled.params"
   ]
  },
  {
   "cell_type": "code",
   "execution_count": 62,
   "metadata": {},
   "outputs": [
    {
     "name": "stdout",
     "output_type": "stream",
     "text": [
      "2022-12-24 08:16:33,232 INFO sqlalchemy.engine.Engine INSERT INTO mytable (name, day) VALUES (?, ?)\n",
      "2022-12-24 08:16:33,235 INFO sqlalchemy.engine.Engine [generated in 0.00353s] ('azaddel', '1991/2/14')\n",
      "2022-12-24 08:16:33,237 INFO sqlalchemy.engine.Engine COMMIT\n"
     ]
    }
   ],
   "source": [
    "with engine.connect() as conn:\n",
    "    result = conn.execute(mtable)\n",
    "    # conn.commit()"
   ]
  },
  {
   "cell_type": "code",
   "execution_count": 76,
   "metadata": {},
   "outputs": [
    {
     "name": "stdout",
     "output_type": "stream",
     "text": [
      "INSERT INTO mytable (name, day) VALUES (:name, :day)\n",
      "2022-12-24 08:54:13,882 INFO sqlalchemy.engine.Engine INSERT INTO mytable (name, day) VALUES (?, ?)\n",
      "2022-12-24 08:54:13,884 INFO sqlalchemy.engine.Engine [generated in 0.00165s] ('faod', '1982/9/11')\n",
      "2022-12-24 08:54:13,886 INFO sqlalchemy.engine.Engine COMMIT\n"
     ]
    }
   ],
   "source": [
    "from sqlalchemy import insert\n",
    "mtable = insert(mytable).values(name= 'faod', day = '1982/9/11')\n",
    "compiled = mtable.compile()\n",
    "compiled.params\n",
    "print(mtable)\n",
    "with engine.connect() as conn:\n",
    "    result = conn.execute(mtable)"
   ]
  },
  {
   "cell_type": "markdown",
   "metadata": {},
   "source": [
    "3- filter the table with rows that their name is equal to your name "
   ]
  },
  {
   "cell_type": "code",
   "execution_count": 75,
   "metadata": {},
   "outputs": [
    {
     "name": "stdout",
     "output_type": "stream",
     "text": [
      "SELECT mytable.id AS mytable_id, mytable.name AS mytable_name \n",
      "FROM mytable \n",
      "WHERE mytable.name = ?\n"
     ]
    }
   ],
   "source": [
    "\n",
    "\n",
    "# Base = declarative_base()\n",
    "# class Mytable(Base):\n",
    "#     __tablename__ = 'mytable'\n",
    "\n",
    "Session = sessionmaker(bind =engine)\n",
    "session = Session()\n",
    "result = session.query(Mytable).filter(Mytable.name=='foad')\n",
    "print(result)\n",
    "\n"
   ]
  }
 ],
 "metadata": {
  "colab": {
   "provenance": []
  },
  "kernelspec": {
   "display_name": "Python 3 (ipykernel)",
   "language": "python",
   "name": "python3"
  },
  "language_info": {
   "codemirror_mode": {
    "name": "ipython",
    "version": 3
   },
   "file_extension": ".py",
   "mimetype": "text/x-python",
   "name": "python",
   "nbconvert_exporter": "python",
   "pygments_lexer": "ipython3",
   "version": "3.10.6"
  },
  "widgets": {
   "application/vnd.jupyter.widget-state+json": {
    "state": {},
    "version_major": 2,
    "version_minor": 0
   }
  }
 },
 "nbformat": 4,
 "nbformat_minor": 4
}
