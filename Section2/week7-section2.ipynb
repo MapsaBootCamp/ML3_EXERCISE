{
 "cells": [
  {
   "cell_type": "markdown",
   "id": "47f59ba8",
   "metadata": {},
   "source": [
    "<br><p style=\"margin-left: 25%; font-size:20px;\">Machine Learning Camp: HomeWork 7 Section 2</p><br>"
   ]
  },
  {
   "cell_type": "markdown",
   "id": "2218b073",
   "metadata": {},
   "source": [
    "## 1. **Working with datetime data;** The object `myDate` contains the date and time. Based on this object answer the following questions and type the answer after your findings."
   ]
  },
  {
   "cell_type": "code",
   "execution_count": 337,
   "id": "64a04c89-8d85-4e89-b8a6-2886baa22a80",
   "metadata": {},
   "outputs": [],
   "source": [
    "import pandas as pd\n",
    "import datetime as dt\n",
    "from pandas.tseries.holiday import USFederalHolidayCalendar\n",
    "import datetime\n",
    "import matplotlib.pyplot as plt\n",
    "import seaborn as sns"
   ]
  },
  {
   "cell_type": "code",
   "execution_count": 62,
   "id": "8e4680e3",
   "metadata": {},
   "outputs": [],
   "source": [
    "myDate = \"2022-10-01 09:42:43\""
   ]
  },
  {
   "cell_type": "markdown",
   "id": "666d9ea6",
   "metadata": {},
   "source": [
    "a. Convert `myDate` into a datetime object with Iran time zone. Display the result."
   ]
  },
  {
   "cell_type": "code",
   "execution_count": 64,
   "id": "cfda1e0e-b305-4442-9ada-19f27261e56b",
   "metadata": {},
   "outputs": [],
   "source": [
    "myDate=pd.date_range(myDate, freq='H', periods=3,tz='Asia/Tehran')"
   ]
  },
  {
   "cell_type": "code",
   "execution_count": 51,
   "id": "0debd74f",
   "metadata": {},
   "outputs": [
    {
     "data": {
      "text/plain": [
       "DatetimeIndex(['2022-10-01 09:42:43+03:30', '2022-10-01 10:42:43+03:30',\n",
       "               '2022-10-01 11:42:43+03:30'],\n",
       "              dtype='datetime64[ns, Asia/Tehran]', freq='H')"
      ]
     },
     "execution_count": 51,
     "metadata": {},
     "output_type": "execute_result"
    }
   ],
   "source": [
    "myDate"
   ]
  },
  {
   "cell_type": "markdown",
   "id": "f2684fe9",
   "metadata": {},
   "source": [
    "b. Write your codes so that it displays the week day and also the month of `myDate`."
   ]
  },
  {
   "cell_type": "code",
   "execution_count": 52,
   "id": "884c4d41",
   "metadata": {},
   "outputs": [
    {
     "data": {
      "text/plain": [
       "Index(['Saturday', 'Saturday', 'Saturday'], dtype='object')"
      ]
     },
     "execution_count": 52,
     "metadata": {},
     "output_type": "execute_result"
    }
   ],
   "source": [
    "myDate.day_name()"
   ]
  },
  {
   "cell_type": "code",
   "execution_count": 53,
   "id": "4397fa48-e008-41d3-9ad9-ef115ea99e07",
   "metadata": {},
   "outputs": [
    {
     "data": {
      "text/plain": [
       "Index(['October', 'October', 'October'], dtype='object')"
      ]
     },
     "execution_count": 53,
     "metadata": {},
     "output_type": "execute_result"
    }
   ],
   "source": [
    "myDate.month_name()"
   ]
  },
  {
   "cell_type": "markdown",
   "id": "57f8a4a0",
   "metadata": {},
   "source": [
    "c. What weekday and the month is it after exactly 100 years from `myDate`?"
   ]
  },
  {
   "cell_type": "code",
   "execution_count": 88,
   "id": "c8bc864e",
   "metadata": {},
   "outputs": [],
   "source": [
    "newDate = myDate +  pd.to_timedelta(100*365,unit='days')"
   ]
  },
  {
   "cell_type": "code",
   "execution_count": 82,
   "id": "110df636-f117-4189-ad8a-2f6eed8982a7",
   "metadata": {},
   "outputs": [
    {
     "data": {
      "text/plain": [
       "Index(['September', 'September', 'September'], dtype='object')"
      ]
     },
     "execution_count": 82,
     "metadata": {},
     "output_type": "execute_result"
    }
   ],
   "source": [
    "newDate.month_name()"
   ]
  },
  {
   "cell_type": "code",
   "execution_count": 93,
   "id": "e76602ab-c2d3-4da9-b8d9-67d16dbfa573",
   "metadata": {},
   "outputs": [
    {
     "data": {
      "text/plain": [
       "Index(['Monday', 'Monday', 'Monday'], dtype='object')"
      ]
     },
     "execution_count": 93,
     "metadata": {},
     "output_type": "execute_result"
    }
   ],
   "source": [
    "newDate.day_name()"
   ]
  },
  {
   "cell_type": "markdown",
   "id": "211c0893",
   "metadata": {},
   "source": [
    "d. Add two month with myDate and display the resulting date time."
   ]
  },
  {
   "cell_type": "code",
   "execution_count": 99,
   "id": "4427d37a",
   "metadata": {},
   "outputs": [],
   "source": [
    "newnewDate = myDate +  pd.to_timedelta(2*31,unit='days')"
   ]
  },
  {
   "cell_type": "code",
   "execution_count": 100,
   "id": "439d6022-3a56-4807-a2f1-b4453fc2ca3c",
   "metadata": {},
   "outputs": [
    {
     "data": {
      "text/plain": [
       "DatetimeIndex(['2022-12-02 09:42:43+03:30', '2022-12-02 10:42:43+03:30',\n",
       "               '2022-12-02 11:42:43+03:30'],\n",
       "              dtype='datetime64[ns, Asia/Tehran]', freq='H')"
      ]
     },
     "execution_count": 100,
     "metadata": {},
     "output_type": "execute_result"
    }
   ],
   "source": [
    "newnewDate"
   ]
  },
  {
   "cell_type": "markdown",
   "id": "717c3957",
   "metadata": {},
   "source": [
    "e. Suppose this homework is due on December 23, 2022 by 11.59PM. Compute and display how many seconds you got to complete this homework? Also compute the hours."
   ]
  },
  {
   "cell_type": "code",
   "execution_count": 136,
   "id": "8b46dd46",
   "metadata": {},
   "outputs": [
    {
     "data": {
      "text/plain": [
       "48.03779607277777"
      ]
     },
     "execution_count": 136,
     "metadata": {},
     "output_type": "execute_result"
    }
   ],
   "source": [
    "now = dt.datetime.now()\n",
    "Due = dt.datetime(2022,12,23,11,59,59,0)\n",
    "((Due - now).total_seconds()/60)/60"
   ]
  },
  {
   "cell_type": "markdown",
   "id": "a94748d3",
   "metadata": {},
   "source": [
    "f. For the years `2021` & `2022`, count the number of weekends. Which year has the highest number of Weekends?"
   ]
  },
  {
   "cell_type": "code",
   "execution_count": 145,
   "id": "062a60ff",
   "metadata": {},
   "outputs": [
    {
     "name": "stdout",
     "output_type": "stream",
     "text": [
      "104 104\n"
     ]
    }
   ],
   "source": [
    "#2021\n",
    "Weekends_2021 = len(pd.bdate_range(start=\"2021/01/01\", end=\"2021/12/30\", freq=\"C\", weekmask=\"Sat Sun\"))\n",
    "#2022\n",
    "Weekends_2022 = len(pd.bdate_range(start=\"2022/01/01\", end=\"2022/12/30\", freq=\"C\", weekmask=\"Sat Sun\"))\n",
    "print(Weekends_2021,Weekends_2022)"
   ]
  },
  {
   "cell_type": "markdown",
   "id": "31f068c5",
   "metadata": {},
   "source": [
    "g. What is the month(MM) and day(DD) on the `305`th day of the current year?"
   ]
  },
  {
   "cell_type": "code",
   "execution_count": 157,
   "id": "5e17ad7a",
   "metadata": {},
   "outputs": [
    {
     "data": {
      "text/html": [
       "<div>\n",
       "<style scoped>\n",
       "    .dataframe tbody tr th:only-of-type {\n",
       "        vertical-align: middle;\n",
       "    }\n",
       "\n",
       "    .dataframe tbody tr th {\n",
       "        vertical-align: top;\n",
       "    }\n",
       "\n",
       "    .dataframe thead th {\n",
       "        text-align: right;\n",
       "    }\n",
       "</style>\n",
       "<table border=\"1\" class=\"dataframe\">\n",
       "  <thead>\n",
       "    <tr style=\"text-align: right;\">\n",
       "      <th></th>\n",
       "      <th>days</th>\n",
       "      <th>date</th>\n",
       "    </tr>\n",
       "  </thead>\n",
       "  <tbody>\n",
       "    <tr>\n",
       "      <th>0</th>\n",
       "      <td>305</td>\n",
       "      <td>2022-11-02</td>\n",
       "    </tr>\n",
       "  </tbody>\n",
       "</table>\n",
       "</div>"
      ],
      "text/plain": [
       "   days       date\n",
       "0   305 2022-11-02"
      ]
     },
     "execution_count": 157,
     "metadata": {},
     "output_type": "execute_result"
    }
   ],
   "source": [
    "dt = pd.to_datetime('2022-01-01')\n",
    "df = pd.DataFrame({'days': [305]})\n",
    "df['date'] = df['days'].apply(lambda x: dt + pd.Timedelta(f'{x}D'))\n",
    "df"
   ]
  },
  {
   "cell_type": "markdown",
   "id": "2b6f4dd0",
   "metadata": {},
   "source": [
    "h. The Date `2022-10-20` is formatted `YYYY-MM-DD`, format it into `MM-DD-YYYY`"
   ]
  },
  {
   "cell_type": "code",
   "execution_count": 178,
   "id": "6c5a84c2",
   "metadata": {},
   "outputs": [
    {
     "data": {
      "text/plain": [
       "0    00-10/20/22-2022\n",
       "dtype: object"
      ]
     },
     "execution_count": 178,
     "metadata": {},
     "output_type": "execute_result"
    }
   ],
   "source": [
    "Date = pd.to_datetime(pd.Series(\"2022-10-20\"))\n",
    "change_format = Date.dt.strftime('%M-%D-%Y')\n",
    "change_format"
   ]
  },
  {
   "cell_type": "markdown",
   "id": "8ecba4de",
   "metadata": {},
   "source": [
    "i. Find if the Date on the question above is the weekend or a weekday."
   ]
  },
  {
   "cell_type": "code",
   "execution_count": 185,
   "id": "bcc38e46",
   "metadata": {},
   "outputs": [
    {
     "name": "stdout",
     "output_type": "stream",
     "text": [
      "Weekday\n"
     ]
    }
   ],
   "source": [
    "weekno = datetime.datetime.today().weekday()\n",
    "if weekno < 5:\n",
    "    print(\"Weekday\")\n",
    "else:  # 5 Sat, 6 Sun\n",
    "    print(\"Weekend\")"
   ]
  },
  {
   "cell_type": "markdown",
   "id": "5761a24f",
   "metadata": {},
   "source": [
    "## 2. **Walmart Sales Analysis:** load and read the dataset `walmart_sales.csv` and `walmart_fuel_prices.csv`.\n",
    "\n",
    "We will follow the following data description when working with the above 2 datasets:\n",
    "\n",
    " * `index:` index is a default value of count\n",
    " * `Store:` Store is represented in number ID(1,2,3,4,...)\n",
    " * `Dept:` Dept is Department in each Store represented in number ID (1,2,3,4,...)\n",
    " * `Date:` Date is in YYYY-MM-DD char format - *needs to be converted into Date data type*\n",
    " * `Weekly_Sales:` Sales of a given Dept in a given Store for the Date\n",
    " * `Temperature:` Average temperature on the Date at given Store region\n",
    " * `Fuel_Price:` Cost of the Fuel on the given Date at a given Store\n",
    " * `IsHoliday:` Is the given Date a holiday Week? "
   ]
  },
  {
   "cell_type": "code",
   "execution_count": 223,
   "id": "06623146",
   "metadata": {},
   "outputs": [],
   "source": [
    "sales = pd.read_csv('walmart_sales.csv')\n",
    "fuel_price = pd.read_csv('walmart_fuel_prices.csv')"
   ]
  },
  {
   "cell_type": "code",
   "execution_count": 224,
   "id": "f4db0ec5-7574-4204-8a76-9d509440c8cf",
   "metadata": {},
   "outputs": [
    {
     "data": {
      "text/html": [
       "<div>\n",
       "<style scoped>\n",
       "    .dataframe tbody tr th:only-of-type {\n",
       "        vertical-align: middle;\n",
       "    }\n",
       "\n",
       "    .dataframe tbody tr th {\n",
       "        vertical-align: top;\n",
       "    }\n",
       "\n",
       "    .dataframe thead th {\n",
       "        text-align: right;\n",
       "    }\n",
       "</style>\n",
       "<table border=\"1\" class=\"dataframe\">\n",
       "  <thead>\n",
       "    <tr style=\"text-align: right;\">\n",
       "      <th></th>\n",
       "      <th>Store</th>\n",
       "      <th>Dept</th>\n",
       "      <th>Date</th>\n",
       "      <th>Weekly_Sales</th>\n",
       "      <th>IsHoliday</th>\n",
       "    </tr>\n",
       "  </thead>\n",
       "  <tbody>\n",
       "    <tr>\n",
       "      <th>0</th>\n",
       "      <td>1</td>\n",
       "      <td>1</td>\n",
       "      <td>2010-02-05</td>\n",
       "      <td>24924.50</td>\n",
       "      <td>False</td>\n",
       "    </tr>\n",
       "    <tr>\n",
       "      <th>1</th>\n",
       "      <td>1</td>\n",
       "      <td>1</td>\n",
       "      <td>2010-02-12</td>\n",
       "      <td>46039.49</td>\n",
       "      <td>True</td>\n",
       "    </tr>\n",
       "    <tr>\n",
       "      <th>2</th>\n",
       "      <td>1</td>\n",
       "      <td>1</td>\n",
       "      <td>2010-02-19</td>\n",
       "      <td>41595.55</td>\n",
       "      <td>False</td>\n",
       "    </tr>\n",
       "    <tr>\n",
       "      <th>3</th>\n",
       "      <td>1</td>\n",
       "      <td>1</td>\n",
       "      <td>2010-02-26</td>\n",
       "      <td>19403.54</td>\n",
       "      <td>False</td>\n",
       "    </tr>\n",
       "    <tr>\n",
       "      <th>4</th>\n",
       "      <td>1</td>\n",
       "      <td>1</td>\n",
       "      <td>2010-03-05</td>\n",
       "      <td>21827.90</td>\n",
       "      <td>False</td>\n",
       "    </tr>\n",
       "  </tbody>\n",
       "</table>\n",
       "</div>"
      ],
      "text/plain": [
       "   Store  Dept        Date  Weekly_Sales  IsHoliday\n",
       "0      1     1  2010-02-05      24924.50      False\n",
       "1      1     1  2010-02-12      46039.49       True\n",
       "2      1     1  2010-02-19      41595.55      False\n",
       "3      1     1  2010-02-26      19403.54      False\n",
       "4      1     1  2010-03-05      21827.90      False"
      ]
     },
     "execution_count": 224,
     "metadata": {},
     "output_type": "execute_result"
    }
   ],
   "source": [
    "sales.head()"
   ]
  },
  {
   "cell_type": "code",
   "execution_count": 225,
   "id": "ac5a5293-5e96-4abb-9197-c84e28363bff",
   "metadata": {},
   "outputs": [
    {
     "data": {
      "text/html": [
       "<div>\n",
       "<style scoped>\n",
       "    .dataframe tbody tr th:only-of-type {\n",
       "        vertical-align: middle;\n",
       "    }\n",
       "\n",
       "    .dataframe tbody tr th {\n",
       "        vertical-align: top;\n",
       "    }\n",
       "\n",
       "    .dataframe thead th {\n",
       "        text-align: right;\n",
       "    }\n",
       "</style>\n",
       "<table border=\"1\" class=\"dataframe\">\n",
       "  <thead>\n",
       "    <tr style=\"text-align: right;\">\n",
       "      <th></th>\n",
       "      <th>index</th>\n",
       "      <th>Store</th>\n",
       "      <th>Date</th>\n",
       "      <th>Temperature</th>\n",
       "      <th>Fuel_Price</th>\n",
       "      <th>IsHoliday</th>\n",
       "    </tr>\n",
       "  </thead>\n",
       "  <tbody>\n",
       "    <tr>\n",
       "      <th>0</th>\n",
       "      <td>1</td>\n",
       "      <td>1</td>\n",
       "      <td>2010-02-05</td>\n",
       "      <td>42.31</td>\n",
       "      <td>2.572</td>\n",
       "      <td>False</td>\n",
       "    </tr>\n",
       "    <tr>\n",
       "      <th>1</th>\n",
       "      <td>2</td>\n",
       "      <td>1</td>\n",
       "      <td>2010-02-12</td>\n",
       "      <td>38.51</td>\n",
       "      <td>2.548</td>\n",
       "      <td>True</td>\n",
       "    </tr>\n",
       "    <tr>\n",
       "      <th>2</th>\n",
       "      <td>3</td>\n",
       "      <td>1</td>\n",
       "      <td>2010-02-19</td>\n",
       "      <td>39.93</td>\n",
       "      <td>2.514</td>\n",
       "      <td>False</td>\n",
       "    </tr>\n",
       "    <tr>\n",
       "      <th>3</th>\n",
       "      <td>4</td>\n",
       "      <td>1</td>\n",
       "      <td>2010-02-26</td>\n",
       "      <td>46.63</td>\n",
       "      <td>2.561</td>\n",
       "      <td>False</td>\n",
       "    </tr>\n",
       "    <tr>\n",
       "      <th>4</th>\n",
       "      <td>5</td>\n",
       "      <td>1</td>\n",
       "      <td>2010-03-05</td>\n",
       "      <td>46.50</td>\n",
       "      <td>2.625</td>\n",
       "      <td>False</td>\n",
       "    </tr>\n",
       "  </tbody>\n",
       "</table>\n",
       "</div>"
      ],
      "text/plain": [
       "   index  Store        Date  Temperature  Fuel_Price  IsHoliday\n",
       "0      1      1  2010-02-05        42.31       2.572      False\n",
       "1      2      1  2010-02-12        38.51       2.548       True\n",
       "2      3      1  2010-02-19        39.93       2.514      False\n",
       "3      4      1  2010-02-26        46.63       2.561      False\n",
       "4      5      1  2010-03-05        46.50       2.625      False"
      ]
     },
     "execution_count": 225,
     "metadata": {},
     "output_type": "execute_result"
    }
   ],
   "source": [
    "fuel_price.head()"
   ]
  },
  {
   "cell_type": "code",
   "execution_count": 226,
   "id": "ef4b1d70-924b-41a4-9d31-b8eacfe850a5",
   "metadata": {},
   "outputs": [
    {
     "data": {
      "text/html": [
       "<div>\n",
       "<style scoped>\n",
       "    .dataframe tbody tr th:only-of-type {\n",
       "        vertical-align: middle;\n",
       "    }\n",
       "\n",
       "    .dataframe tbody tr th {\n",
       "        vertical-align: top;\n",
       "    }\n",
       "\n",
       "    .dataframe thead th {\n",
       "        text-align: right;\n",
       "    }\n",
       "</style>\n",
       "<table border=\"1\" class=\"dataframe\">\n",
       "  <thead>\n",
       "    <tr style=\"text-align: right;\">\n",
       "      <th></th>\n",
       "      <th>Store</th>\n",
       "      <th>Dept</th>\n",
       "      <th>Date</th>\n",
       "      <th>Weekly_Sales</th>\n",
       "      <th>IsHoliday</th>\n",
       "      <th>index</th>\n",
       "      <th>Temperature</th>\n",
       "      <th>Fuel_Price</th>\n",
       "    </tr>\n",
       "  </thead>\n",
       "  <tbody>\n",
       "    <tr>\n",
       "      <th>0</th>\n",
       "      <td>1</td>\n",
       "      <td>1</td>\n",
       "      <td>2010-02-05</td>\n",
       "      <td>24924.50</td>\n",
       "      <td>False</td>\n",
       "      <td>1</td>\n",
       "      <td>42.31</td>\n",
       "      <td>2.572</td>\n",
       "    </tr>\n",
       "    <tr>\n",
       "      <th>1</th>\n",
       "      <td>1</td>\n",
       "      <td>2</td>\n",
       "      <td>2010-02-05</td>\n",
       "      <td>50605.27</td>\n",
       "      <td>False</td>\n",
       "      <td>1</td>\n",
       "      <td>42.31</td>\n",
       "      <td>2.572</td>\n",
       "    </tr>\n",
       "    <tr>\n",
       "      <th>2</th>\n",
       "      <td>1</td>\n",
       "      <td>3</td>\n",
       "      <td>2010-02-05</td>\n",
       "      <td>13740.12</td>\n",
       "      <td>False</td>\n",
       "      <td>1</td>\n",
       "      <td>42.31</td>\n",
       "      <td>2.572</td>\n",
       "    </tr>\n",
       "    <tr>\n",
       "      <th>3</th>\n",
       "      <td>1</td>\n",
       "      <td>4</td>\n",
       "      <td>2010-02-05</td>\n",
       "      <td>39954.04</td>\n",
       "      <td>False</td>\n",
       "      <td>1</td>\n",
       "      <td>42.31</td>\n",
       "      <td>2.572</td>\n",
       "    </tr>\n",
       "    <tr>\n",
       "      <th>4</th>\n",
       "      <td>1</td>\n",
       "      <td>5</td>\n",
       "      <td>2010-02-05</td>\n",
       "      <td>32229.38</td>\n",
       "      <td>False</td>\n",
       "      <td>1</td>\n",
       "      <td>42.31</td>\n",
       "      <td>2.572</td>\n",
       "    </tr>\n",
       "    <tr>\n",
       "      <th>...</th>\n",
       "      <td>...</td>\n",
       "      <td>...</td>\n",
       "      <td>...</td>\n",
       "      <td>...</td>\n",
       "      <td>...</td>\n",
       "      <td>...</td>\n",
       "      <td>...</td>\n",
       "      <td>...</td>\n",
       "    </tr>\n",
       "    <tr>\n",
       "      <th>421565</th>\n",
       "      <td>45</td>\n",
       "      <td>93</td>\n",
       "      <td>2012-10-26</td>\n",
       "      <td>2487.80</td>\n",
       "      <td>False</td>\n",
       "      <td>8151</td>\n",
       "      <td>58.85</td>\n",
       "      <td>3.882</td>\n",
       "    </tr>\n",
       "    <tr>\n",
       "      <th>421566</th>\n",
       "      <td>45</td>\n",
       "      <td>94</td>\n",
       "      <td>2012-10-26</td>\n",
       "      <td>5203.31</td>\n",
       "      <td>False</td>\n",
       "      <td>8151</td>\n",
       "      <td>58.85</td>\n",
       "      <td>3.882</td>\n",
       "    </tr>\n",
       "    <tr>\n",
       "      <th>421567</th>\n",
       "      <td>45</td>\n",
       "      <td>95</td>\n",
       "      <td>2012-10-26</td>\n",
       "      <td>56017.47</td>\n",
       "      <td>False</td>\n",
       "      <td>8151</td>\n",
       "      <td>58.85</td>\n",
       "      <td>3.882</td>\n",
       "    </tr>\n",
       "    <tr>\n",
       "      <th>421568</th>\n",
       "      <td>45</td>\n",
       "      <td>97</td>\n",
       "      <td>2012-10-26</td>\n",
       "      <td>6817.48</td>\n",
       "      <td>False</td>\n",
       "      <td>8151</td>\n",
       "      <td>58.85</td>\n",
       "      <td>3.882</td>\n",
       "    </tr>\n",
       "    <tr>\n",
       "      <th>421569</th>\n",
       "      <td>45</td>\n",
       "      <td>98</td>\n",
       "      <td>2012-10-26</td>\n",
       "      <td>1076.80</td>\n",
       "      <td>False</td>\n",
       "      <td>8151</td>\n",
       "      <td>58.85</td>\n",
       "      <td>3.882</td>\n",
       "    </tr>\n",
       "  </tbody>\n",
       "</table>\n",
       "<p>421570 rows × 8 columns</p>\n",
       "</div>"
      ],
      "text/plain": [
       "        Store  Dept        Date  Weekly_Sales  IsHoliday  index  Temperature  \\\n",
       "0           1     1  2010-02-05      24924.50      False      1        42.31   \n",
       "1           1     2  2010-02-05      50605.27      False      1        42.31   \n",
       "2           1     3  2010-02-05      13740.12      False      1        42.31   \n",
       "3           1     4  2010-02-05      39954.04      False      1        42.31   \n",
       "4           1     5  2010-02-05      32229.38      False      1        42.31   \n",
       "...       ...   ...         ...           ...        ...    ...          ...   \n",
       "421565     45    93  2012-10-26       2487.80      False   8151        58.85   \n",
       "421566     45    94  2012-10-26       5203.31      False   8151        58.85   \n",
       "421567     45    95  2012-10-26      56017.47      False   8151        58.85   \n",
       "421568     45    97  2012-10-26       6817.48      False   8151        58.85   \n",
       "421569     45    98  2012-10-26       1076.80      False   8151        58.85   \n",
       "\n",
       "        Fuel_Price  \n",
       "0            2.572  \n",
       "1            2.572  \n",
       "2            2.572  \n",
       "3            2.572  \n",
       "4            2.572  \n",
       "...            ...  \n",
       "421565       3.882  \n",
       "421566       3.882  \n",
       "421567       3.882  \n",
       "421568       3.882  \n",
       "421569       3.882  \n",
       "\n",
       "[421570 rows x 8 columns]"
      ]
     },
     "execution_count": 226,
     "metadata": {},
     "output_type": "execute_result"
    }
   ],
   "source": [
    "df = pd.merge(sales, fuel_price, on=['Date','IsHoliday','Store'])\n",
    "df"
   ]
  },
  {
   "cell_type": "markdown",
   "id": "28576a96",
   "metadata": {},
   "source": [
    " a. For both datasets, breakdown the `Date` column and create additional new columns `Year`, `Month`, and `Day`. You should now have additional 3 new columns in your both dataset. Report only the column names for both the dataset."
   ]
  },
  {
   "cell_type": "code",
   "execution_count": 215,
   "id": "69d17cb5",
   "metadata": {},
   "outputs": [],
   "source": [
    "def Add_column(data_frame, column):\n",
    "    data_frame[[column]] = data_frame[[column]].apply(pd.to_datetime)\n",
    "    data_frame['day'] = data_frame['Date'].dt.day\n",
    "    data_frame['month'] = data_frame['Date'].dt.month\n",
    "    data_frame['year'] = data_frame['Date'].dt.year"
   ]
  },
  {
   "cell_type": "code",
   "execution_count": 381,
   "id": "38a4c084-664f-46a8-afdc-c230a544453f",
   "metadata": {},
   "outputs": [
    {
     "data": {
      "text/html": [
       "<div>\n",
       "<style scoped>\n",
       "    .dataframe tbody tr th:only-of-type {\n",
       "        vertical-align: middle;\n",
       "    }\n",
       "\n",
       "    .dataframe tbody tr th {\n",
       "        vertical-align: top;\n",
       "    }\n",
       "\n",
       "    .dataframe thead th {\n",
       "        text-align: right;\n",
       "    }\n",
       "</style>\n",
       "<table border=\"1\" class=\"dataframe\">\n",
       "  <thead>\n",
       "    <tr style=\"text-align: right;\">\n",
       "      <th></th>\n",
       "      <th>Store</th>\n",
       "      <th>Dept</th>\n",
       "      <th>Date</th>\n",
       "      <th>Weekly_Sales</th>\n",
       "      <th>IsHoliday</th>\n",
       "      <th>day</th>\n",
       "      <th>month</th>\n",
       "      <th>year</th>\n",
       "    </tr>\n",
       "  </thead>\n",
       "  <tbody>\n",
       "    <tr>\n",
       "      <th>0</th>\n",
       "      <td>1</td>\n",
       "      <td>1</td>\n",
       "      <td>2010-02-05</td>\n",
       "      <td>24924.50</td>\n",
       "      <td>False</td>\n",
       "      <td>5</td>\n",
       "      <td>2</td>\n",
       "      <td>2010</td>\n",
       "    </tr>\n",
       "    <tr>\n",
       "      <th>1</th>\n",
       "      <td>1</td>\n",
       "      <td>1</td>\n",
       "      <td>2010-02-12</td>\n",
       "      <td>46039.49</td>\n",
       "      <td>True</td>\n",
       "      <td>12</td>\n",
       "      <td>2</td>\n",
       "      <td>2010</td>\n",
       "    </tr>\n",
       "    <tr>\n",
       "      <th>2</th>\n",
       "      <td>1</td>\n",
       "      <td>1</td>\n",
       "      <td>2010-02-19</td>\n",
       "      <td>41595.55</td>\n",
       "      <td>False</td>\n",
       "      <td>19</td>\n",
       "      <td>2</td>\n",
       "      <td>2010</td>\n",
       "    </tr>\n",
       "    <tr>\n",
       "      <th>3</th>\n",
       "      <td>1</td>\n",
       "      <td>1</td>\n",
       "      <td>2010-02-26</td>\n",
       "      <td>19403.54</td>\n",
       "      <td>False</td>\n",
       "      <td>26</td>\n",
       "      <td>2</td>\n",
       "      <td>2010</td>\n",
       "    </tr>\n",
       "    <tr>\n",
       "      <th>4</th>\n",
       "      <td>1</td>\n",
       "      <td>1</td>\n",
       "      <td>2010-03-05</td>\n",
       "      <td>21827.90</td>\n",
       "      <td>False</td>\n",
       "      <td>5</td>\n",
       "      <td>3</td>\n",
       "      <td>2010</td>\n",
       "    </tr>\n",
       "    <tr>\n",
       "      <th>...</th>\n",
       "      <td>...</td>\n",
       "      <td>...</td>\n",
       "      <td>...</td>\n",
       "      <td>...</td>\n",
       "      <td>...</td>\n",
       "      <td>...</td>\n",
       "      <td>...</td>\n",
       "      <td>...</td>\n",
       "    </tr>\n",
       "    <tr>\n",
       "      <th>421565</th>\n",
       "      <td>45</td>\n",
       "      <td>98</td>\n",
       "      <td>2012-09-28</td>\n",
       "      <td>508.37</td>\n",
       "      <td>False</td>\n",
       "      <td>28</td>\n",
       "      <td>9</td>\n",
       "      <td>2012</td>\n",
       "    </tr>\n",
       "    <tr>\n",
       "      <th>421566</th>\n",
       "      <td>45</td>\n",
       "      <td>98</td>\n",
       "      <td>2012-10-05</td>\n",
       "      <td>628.10</td>\n",
       "      <td>False</td>\n",
       "      <td>5</td>\n",
       "      <td>10</td>\n",
       "      <td>2012</td>\n",
       "    </tr>\n",
       "    <tr>\n",
       "      <th>421567</th>\n",
       "      <td>45</td>\n",
       "      <td>98</td>\n",
       "      <td>2012-10-12</td>\n",
       "      <td>1061.02</td>\n",
       "      <td>False</td>\n",
       "      <td>12</td>\n",
       "      <td>10</td>\n",
       "      <td>2012</td>\n",
       "    </tr>\n",
       "    <tr>\n",
       "      <th>421568</th>\n",
       "      <td>45</td>\n",
       "      <td>98</td>\n",
       "      <td>2012-10-19</td>\n",
       "      <td>760.01</td>\n",
       "      <td>False</td>\n",
       "      <td>19</td>\n",
       "      <td>10</td>\n",
       "      <td>2012</td>\n",
       "    </tr>\n",
       "    <tr>\n",
       "      <th>421569</th>\n",
       "      <td>45</td>\n",
       "      <td>98</td>\n",
       "      <td>2012-10-26</td>\n",
       "      <td>1076.80</td>\n",
       "      <td>False</td>\n",
       "      <td>26</td>\n",
       "      <td>10</td>\n",
       "      <td>2012</td>\n",
       "    </tr>\n",
       "  </tbody>\n",
       "</table>\n",
       "<p>421570 rows × 8 columns</p>\n",
       "</div>"
      ],
      "text/plain": [
       "        Store  Dept       Date  Weekly_Sales  IsHoliday  day  month  year\n",
       "0           1     1 2010-02-05      24924.50      False    5      2  2010\n",
       "1           1     1 2010-02-12      46039.49       True   12      2  2010\n",
       "2           1     1 2010-02-19      41595.55      False   19      2  2010\n",
       "3           1     1 2010-02-26      19403.54      False   26      2  2010\n",
       "4           1     1 2010-03-05      21827.90      False    5      3  2010\n",
       "...       ...   ...        ...           ...        ...  ...    ...   ...\n",
       "421565     45    98 2012-09-28        508.37      False   28      9  2012\n",
       "421566     45    98 2012-10-05        628.10      False    5     10  2012\n",
       "421567     45    98 2012-10-12       1061.02      False   12     10  2012\n",
       "421568     45    98 2012-10-19        760.01      False   19     10  2012\n",
       "421569     45    98 2012-10-26       1076.80      False   26     10  2012\n",
       "\n",
       "[421570 rows x 8 columns]"
      ]
     },
     "execution_count": 381,
     "metadata": {},
     "output_type": "execute_result"
    }
   ],
   "source": [
    "Add_column(sales, 'Date')\n",
    "sales"
   ]
  },
  {
   "cell_type": "code",
   "execution_count": 382,
   "id": "d993f8bf-8f7b-4a9e-b544-3f7abd830124",
   "metadata": {},
   "outputs": [
    {
     "data": {
      "text/html": [
       "<div>\n",
       "<style scoped>\n",
       "    .dataframe tbody tr th:only-of-type {\n",
       "        vertical-align: middle;\n",
       "    }\n",
       "\n",
       "    .dataframe tbody tr th {\n",
       "        vertical-align: top;\n",
       "    }\n",
       "\n",
       "    .dataframe thead th {\n",
       "        text-align: right;\n",
       "    }\n",
       "</style>\n",
       "<table border=\"1\" class=\"dataframe\">\n",
       "  <thead>\n",
       "    <tr style=\"text-align: right;\">\n",
       "      <th></th>\n",
       "      <th>index</th>\n",
       "      <th>Store</th>\n",
       "      <th>Date</th>\n",
       "      <th>Temperature</th>\n",
       "      <th>Fuel_Price</th>\n",
       "      <th>IsHoliday</th>\n",
       "      <th>day</th>\n",
       "      <th>month</th>\n",
       "      <th>year</th>\n",
       "    </tr>\n",
       "  </thead>\n",
       "  <tbody>\n",
       "    <tr>\n",
       "      <th>0</th>\n",
       "      <td>1</td>\n",
       "      <td>1</td>\n",
       "      <td>2010-02-05</td>\n",
       "      <td>42.31</td>\n",
       "      <td>2.572</td>\n",
       "      <td>False</td>\n",
       "      <td>5</td>\n",
       "      <td>2</td>\n",
       "      <td>2010</td>\n",
       "    </tr>\n",
       "    <tr>\n",
       "      <th>1</th>\n",
       "      <td>2</td>\n",
       "      <td>1</td>\n",
       "      <td>2010-02-12</td>\n",
       "      <td>38.51</td>\n",
       "      <td>2.548</td>\n",
       "      <td>True</td>\n",
       "      <td>12</td>\n",
       "      <td>2</td>\n",
       "      <td>2010</td>\n",
       "    </tr>\n",
       "    <tr>\n",
       "      <th>2</th>\n",
       "      <td>3</td>\n",
       "      <td>1</td>\n",
       "      <td>2010-02-19</td>\n",
       "      <td>39.93</td>\n",
       "      <td>2.514</td>\n",
       "      <td>False</td>\n",
       "      <td>19</td>\n",
       "      <td>2</td>\n",
       "      <td>2010</td>\n",
       "    </tr>\n",
       "    <tr>\n",
       "      <th>3</th>\n",
       "      <td>4</td>\n",
       "      <td>1</td>\n",
       "      <td>2010-02-26</td>\n",
       "      <td>46.63</td>\n",
       "      <td>2.561</td>\n",
       "      <td>False</td>\n",
       "      <td>26</td>\n",
       "      <td>2</td>\n",
       "      <td>2010</td>\n",
       "    </tr>\n",
       "    <tr>\n",
       "      <th>4</th>\n",
       "      <td>5</td>\n",
       "      <td>1</td>\n",
       "      <td>2010-03-05</td>\n",
       "      <td>46.50</td>\n",
       "      <td>2.625</td>\n",
       "      <td>False</td>\n",
       "      <td>5</td>\n",
       "      <td>3</td>\n",
       "      <td>2010</td>\n",
       "    </tr>\n",
       "    <tr>\n",
       "      <th>...</th>\n",
       "      <td>...</td>\n",
       "      <td>...</td>\n",
       "      <td>...</td>\n",
       "      <td>...</td>\n",
       "      <td>...</td>\n",
       "      <td>...</td>\n",
       "      <td>...</td>\n",
       "      <td>...</td>\n",
       "      <td>...</td>\n",
       "    </tr>\n",
       "    <tr>\n",
       "      <th>8185</th>\n",
       "      <td>8186</td>\n",
       "      <td>45</td>\n",
       "      <td>2013-06-28</td>\n",
       "      <td>76.05</td>\n",
       "      <td>3.639</td>\n",
       "      <td>False</td>\n",
       "      <td>28</td>\n",
       "      <td>6</td>\n",
       "      <td>2013</td>\n",
       "    </tr>\n",
       "    <tr>\n",
       "      <th>8186</th>\n",
       "      <td>8187</td>\n",
       "      <td>45</td>\n",
       "      <td>2013-07-05</td>\n",
       "      <td>77.50</td>\n",
       "      <td>3.614</td>\n",
       "      <td>False</td>\n",
       "      <td>5</td>\n",
       "      <td>7</td>\n",
       "      <td>2013</td>\n",
       "    </tr>\n",
       "    <tr>\n",
       "      <th>8187</th>\n",
       "      <td>8188</td>\n",
       "      <td>45</td>\n",
       "      <td>2013-07-12</td>\n",
       "      <td>79.37</td>\n",
       "      <td>3.614</td>\n",
       "      <td>False</td>\n",
       "      <td>12</td>\n",
       "      <td>7</td>\n",
       "      <td>2013</td>\n",
       "    </tr>\n",
       "    <tr>\n",
       "      <th>8188</th>\n",
       "      <td>8189</td>\n",
       "      <td>45</td>\n",
       "      <td>2013-07-19</td>\n",
       "      <td>82.84</td>\n",
       "      <td>3.737</td>\n",
       "      <td>False</td>\n",
       "      <td>19</td>\n",
       "      <td>7</td>\n",
       "      <td>2013</td>\n",
       "    </tr>\n",
       "    <tr>\n",
       "      <th>8189</th>\n",
       "      <td>8190</td>\n",
       "      <td>45</td>\n",
       "      <td>2013-07-26</td>\n",
       "      <td>76.06</td>\n",
       "      <td>3.804</td>\n",
       "      <td>False</td>\n",
       "      <td>26</td>\n",
       "      <td>7</td>\n",
       "      <td>2013</td>\n",
       "    </tr>\n",
       "  </tbody>\n",
       "</table>\n",
       "<p>8190 rows × 9 columns</p>\n",
       "</div>"
      ],
      "text/plain": [
       "      index  Store       Date  Temperature  Fuel_Price  IsHoliday  day  month  \\\n",
       "0         1      1 2010-02-05        42.31       2.572      False    5      2   \n",
       "1         2      1 2010-02-12        38.51       2.548       True   12      2   \n",
       "2         3      1 2010-02-19        39.93       2.514      False   19      2   \n",
       "3         4      1 2010-02-26        46.63       2.561      False   26      2   \n",
       "4         5      1 2010-03-05        46.50       2.625      False    5      3   \n",
       "...     ...    ...        ...          ...         ...        ...  ...    ...   \n",
       "8185   8186     45 2013-06-28        76.05       3.639      False   28      6   \n",
       "8186   8187     45 2013-07-05        77.50       3.614      False    5      7   \n",
       "8187   8188     45 2013-07-12        79.37       3.614      False   12      7   \n",
       "8188   8189     45 2013-07-19        82.84       3.737      False   19      7   \n",
       "8189   8190     45 2013-07-26        76.06       3.804      False   26      7   \n",
       "\n",
       "      year  \n",
       "0     2010  \n",
       "1     2010  \n",
       "2     2010  \n",
       "3     2010  \n",
       "4     2010  \n",
       "...    ...  \n",
       "8185  2013  \n",
       "8186  2013  \n",
       "8187  2013  \n",
       "8188  2013  \n",
       "8189  2013  \n",
       "\n",
       "[8190 rows x 9 columns]"
      ]
     },
     "execution_count": 382,
     "metadata": {},
     "output_type": "execute_result"
    }
   ],
   "source": [
    "Add_column(fuel_price, 'Date')\n",
    "fuel_price"
   ]
  },
  {
   "cell_type": "code",
   "execution_count": 228,
   "id": "e95bf9d9-123a-4f4f-9f48-e493d4283050",
   "metadata": {},
   "outputs": [
    {
     "data": {
      "text/html": [
       "<div>\n",
       "<style scoped>\n",
       "    .dataframe tbody tr th:only-of-type {\n",
       "        vertical-align: middle;\n",
       "    }\n",
       "\n",
       "    .dataframe tbody tr th {\n",
       "        vertical-align: top;\n",
       "    }\n",
       "\n",
       "    .dataframe thead th {\n",
       "        text-align: right;\n",
       "    }\n",
       "</style>\n",
       "<table border=\"1\" class=\"dataframe\">\n",
       "  <thead>\n",
       "    <tr style=\"text-align: right;\">\n",
       "      <th></th>\n",
       "      <th>Store</th>\n",
       "      <th>Dept</th>\n",
       "      <th>Date</th>\n",
       "      <th>Weekly_Sales</th>\n",
       "      <th>IsHoliday</th>\n",
       "      <th>index</th>\n",
       "      <th>Temperature</th>\n",
       "      <th>Fuel_Price</th>\n",
       "      <th>day</th>\n",
       "      <th>month</th>\n",
       "      <th>year</th>\n",
       "    </tr>\n",
       "  </thead>\n",
       "  <tbody>\n",
       "    <tr>\n",
       "      <th>0</th>\n",
       "      <td>1</td>\n",
       "      <td>1</td>\n",
       "      <td>2010-02-05</td>\n",
       "      <td>24924.50</td>\n",
       "      <td>False</td>\n",
       "      <td>1</td>\n",
       "      <td>42.31</td>\n",
       "      <td>2.572</td>\n",
       "      <td>5</td>\n",
       "      <td>2</td>\n",
       "      <td>2010</td>\n",
       "    </tr>\n",
       "    <tr>\n",
       "      <th>1</th>\n",
       "      <td>1</td>\n",
       "      <td>2</td>\n",
       "      <td>2010-02-05</td>\n",
       "      <td>50605.27</td>\n",
       "      <td>False</td>\n",
       "      <td>1</td>\n",
       "      <td>42.31</td>\n",
       "      <td>2.572</td>\n",
       "      <td>5</td>\n",
       "      <td>2</td>\n",
       "      <td>2010</td>\n",
       "    </tr>\n",
       "    <tr>\n",
       "      <th>2</th>\n",
       "      <td>1</td>\n",
       "      <td>3</td>\n",
       "      <td>2010-02-05</td>\n",
       "      <td>13740.12</td>\n",
       "      <td>False</td>\n",
       "      <td>1</td>\n",
       "      <td>42.31</td>\n",
       "      <td>2.572</td>\n",
       "      <td>5</td>\n",
       "      <td>2</td>\n",
       "      <td>2010</td>\n",
       "    </tr>\n",
       "    <tr>\n",
       "      <th>3</th>\n",
       "      <td>1</td>\n",
       "      <td>4</td>\n",
       "      <td>2010-02-05</td>\n",
       "      <td>39954.04</td>\n",
       "      <td>False</td>\n",
       "      <td>1</td>\n",
       "      <td>42.31</td>\n",
       "      <td>2.572</td>\n",
       "      <td>5</td>\n",
       "      <td>2</td>\n",
       "      <td>2010</td>\n",
       "    </tr>\n",
       "    <tr>\n",
       "      <th>4</th>\n",
       "      <td>1</td>\n",
       "      <td>5</td>\n",
       "      <td>2010-02-05</td>\n",
       "      <td>32229.38</td>\n",
       "      <td>False</td>\n",
       "      <td>1</td>\n",
       "      <td>42.31</td>\n",
       "      <td>2.572</td>\n",
       "      <td>5</td>\n",
       "      <td>2</td>\n",
       "      <td>2010</td>\n",
       "    </tr>\n",
       "    <tr>\n",
       "      <th>...</th>\n",
       "      <td>...</td>\n",
       "      <td>...</td>\n",
       "      <td>...</td>\n",
       "      <td>...</td>\n",
       "      <td>...</td>\n",
       "      <td>...</td>\n",
       "      <td>...</td>\n",
       "      <td>...</td>\n",
       "      <td>...</td>\n",
       "      <td>...</td>\n",
       "      <td>...</td>\n",
       "    </tr>\n",
       "    <tr>\n",
       "      <th>421565</th>\n",
       "      <td>45</td>\n",
       "      <td>93</td>\n",
       "      <td>2012-10-26</td>\n",
       "      <td>2487.80</td>\n",
       "      <td>False</td>\n",
       "      <td>8151</td>\n",
       "      <td>58.85</td>\n",
       "      <td>3.882</td>\n",
       "      <td>26</td>\n",
       "      <td>10</td>\n",
       "      <td>2012</td>\n",
       "    </tr>\n",
       "    <tr>\n",
       "      <th>421566</th>\n",
       "      <td>45</td>\n",
       "      <td>94</td>\n",
       "      <td>2012-10-26</td>\n",
       "      <td>5203.31</td>\n",
       "      <td>False</td>\n",
       "      <td>8151</td>\n",
       "      <td>58.85</td>\n",
       "      <td>3.882</td>\n",
       "      <td>26</td>\n",
       "      <td>10</td>\n",
       "      <td>2012</td>\n",
       "    </tr>\n",
       "    <tr>\n",
       "      <th>421567</th>\n",
       "      <td>45</td>\n",
       "      <td>95</td>\n",
       "      <td>2012-10-26</td>\n",
       "      <td>56017.47</td>\n",
       "      <td>False</td>\n",
       "      <td>8151</td>\n",
       "      <td>58.85</td>\n",
       "      <td>3.882</td>\n",
       "      <td>26</td>\n",
       "      <td>10</td>\n",
       "      <td>2012</td>\n",
       "    </tr>\n",
       "    <tr>\n",
       "      <th>421568</th>\n",
       "      <td>45</td>\n",
       "      <td>97</td>\n",
       "      <td>2012-10-26</td>\n",
       "      <td>6817.48</td>\n",
       "      <td>False</td>\n",
       "      <td>8151</td>\n",
       "      <td>58.85</td>\n",
       "      <td>3.882</td>\n",
       "      <td>26</td>\n",
       "      <td>10</td>\n",
       "      <td>2012</td>\n",
       "    </tr>\n",
       "    <tr>\n",
       "      <th>421569</th>\n",
       "      <td>45</td>\n",
       "      <td>98</td>\n",
       "      <td>2012-10-26</td>\n",
       "      <td>1076.80</td>\n",
       "      <td>False</td>\n",
       "      <td>8151</td>\n",
       "      <td>58.85</td>\n",
       "      <td>3.882</td>\n",
       "      <td>26</td>\n",
       "      <td>10</td>\n",
       "      <td>2012</td>\n",
       "    </tr>\n",
       "  </tbody>\n",
       "</table>\n",
       "<p>421570 rows × 11 columns</p>\n",
       "</div>"
      ],
      "text/plain": [
       "        Store  Dept       Date  Weekly_Sales  IsHoliday  index  Temperature  \\\n",
       "0           1     1 2010-02-05      24924.50      False      1        42.31   \n",
       "1           1     2 2010-02-05      50605.27      False      1        42.31   \n",
       "2           1     3 2010-02-05      13740.12      False      1        42.31   \n",
       "3           1     4 2010-02-05      39954.04      False      1        42.31   \n",
       "4           1     5 2010-02-05      32229.38      False      1        42.31   \n",
       "...       ...   ...        ...           ...        ...    ...          ...   \n",
       "421565     45    93 2012-10-26       2487.80      False   8151        58.85   \n",
       "421566     45    94 2012-10-26       5203.31      False   8151        58.85   \n",
       "421567     45    95 2012-10-26      56017.47      False   8151        58.85   \n",
       "421568     45    97 2012-10-26       6817.48      False   8151        58.85   \n",
       "421569     45    98 2012-10-26       1076.80      False   8151        58.85   \n",
       "\n",
       "        Fuel_Price  day  month  year  \n",
       "0            2.572    5      2  2010  \n",
       "1            2.572    5      2  2010  \n",
       "2            2.572    5      2  2010  \n",
       "3            2.572    5      2  2010  \n",
       "4            2.572    5      2  2010  \n",
       "...            ...  ...    ...   ...  \n",
       "421565       3.882   26     10  2012  \n",
       "421566       3.882   26     10  2012  \n",
       "421567       3.882   26     10  2012  \n",
       "421568       3.882   26     10  2012  \n",
       "421569       3.882   26     10  2012  \n",
       "\n",
       "[421570 rows x 11 columns]"
      ]
     },
     "execution_count": 228,
     "metadata": {},
     "output_type": "execute_result"
    }
   ],
   "source": [
    "Add_column(df, 'Date')\n",
    "df"
   ]
  },
  {
   "cell_type": "markdown",
   "id": "13877d45",
   "metadata": {},
   "source": [
    "b. In `walmart_sales`: which `Month(s)` of `Year` have the highest `Weekly_Sales`? Report the Year, Month, Store, and Dept."
   ]
  },
  {
   "cell_type": "code",
   "execution_count": 243,
   "id": "b3bbf97e",
   "metadata": {},
   "outputs": [
    {
     "data": {
      "text/plain": [
       "Store                            10\n",
       "Dept                             72\n",
       "Date            2010-11-26 00:00:00\n",
       "Weekly_Sales              693099.36\n",
       "IsHoliday                      True\n",
       "day                              26\n",
       "month                            11\n",
       "year                           2010\n",
       "Name: 95373, dtype: object"
      ]
     },
     "execution_count": 243,
     "metadata": {},
     "output_type": "execute_result"
    }
   ],
   "source": [
    "sales.loc[sales['Weekly_Sales'].idxmax()]"
   ]
  },
  {
   "cell_type": "markdown",
   "id": "e0a1faef",
   "metadata": {},
   "source": [
    "c. In `walmart_sales`: calculate the average monthly sales by Department for each Store. Which Store(s) has the highest average monthly sales on the department(s)? Report the Store, Department, Date."
   ]
  },
  {
   "cell_type": "code",
   "execution_count": 269,
   "id": "15ef73fa",
   "metadata": {},
   "outputs": [
    {
     "data": {
      "text/plain": [
       "Store  Dept  Date      \n",
       "10     72    2010-11-26    693099.36\n",
       "35     72    2011-11-25    649770.18\n",
       "10     72    2011-11-25    630999.19\n",
       "35     72    2010-11-26    627962.93\n",
       "14     72    2010-11-26    474330.10\n",
       "                             ...    \n",
       "28     32    2011-03-25     -1321.48\n",
       "16     47    2012-03-09     -1699.00\n",
       "45     47    2010-02-26     -1750.00\n",
       "35     47    2011-09-02     -3924.00\n",
       "28     6     2010-10-08     -4988.94\n",
       "Name: Weekly_Sales, Length: 421570, dtype: float64"
      ]
     },
     "execution_count": 269,
     "metadata": {},
     "output_type": "execute_result"
    }
   ],
   "source": [
    "sales.groupby(['Store', 'Dept','Date'])['Weekly_Sales'].mean().sort_values(ascending=False)"
   ]
  },
  {
   "cell_type": "markdown",
   "id": "ee38e63a",
   "metadata": {},
   "source": [
    "d. In `walmart_sales`: which month of year `2011` has the highest overall sales by Store? Name the holiday(Labor day, July 4th, Halloween, Thanksgiving, Christmas,... etcs) that falls on the month. After that do the same for `2012`. Does the highest sales per month fall on the same holiday for both years? Report your findings for both year."
   ]
  },
  {
   "cell_type": "code",
   "execution_count": 296,
   "id": "67ce1306",
   "metadata": {},
   "outputs": [],
   "source": [
    "def highest_sale(year):\n",
    "    sales1 = sales[sales.year == year]\n",
    "    sales1 = sales1.groupby(['month'])['Weekly_Sales'].sum().sort_values(ascending=False).reset_index()\n",
    "    return sales1.head(1)['month']"
   ]
  },
  {
   "cell_type": "code",
   "execution_count": 297,
   "id": "2b449587-007f-4bee-8d3e-c6582a927d2d",
   "metadata": {},
   "outputs": [
    {
     "data": {
      "text/plain": [
       "0    12\n",
       "Name: month, dtype: int64"
      ]
     },
     "execution_count": 297,
     "metadata": {},
     "output_type": "execute_result"
    }
   ],
   "source": [
    "highest_sale(2011)"
   ]
  },
  {
   "cell_type": "code",
   "execution_count": 298,
   "id": "bc6cc045-6057-468d-97e1-aedbc4daf6a4",
   "metadata": {},
   "outputs": [
    {
     "data": {
      "text/plain": [
       "0    6\n",
       "Name: month, dtype: int64"
      ]
     },
     "execution_count": 298,
     "metadata": {},
     "output_type": "execute_result"
    }
   ],
   "source": [
    "highest_sale(2012)"
   ]
  },
  {
   "cell_type": "markdown",
   "id": "0e6c35a7",
   "metadata": {},
   "source": [
    " e. In `walmart_sales`: report the lowest sales per month for the year `2011` for `IsHoliday == TRUE`. Name the holiday(Labor day, July 4th, Halloween, Thanksgiving, Christmas,... etcs) that falls on the month. Do the same for `2012` and report if the lowest sales are on the same month."
   ]
  },
  {
   "cell_type": "code",
   "execution_count": 321,
   "id": "da376d70",
   "metadata": {},
   "outputs": [],
   "source": [
    "def lowest_sale(year):\n",
    "    sales1 = sales[sales.year == 2011]\n",
    "    sales1 = sales1[sales1.IsHoliday == True]\n",
    "    sales1 = sales1.groupby(['month'])['Weekly_Sales'].sum().sort_values(ascending=True).reset_index()\n",
    "    return sales1.head(1)['month']"
   ]
  },
  {
   "cell_type": "code",
   "execution_count": 322,
   "id": "fe458f7a-831a-469b-8634-8a165fad07ec",
   "metadata": {},
   "outputs": [
    {
     "data": {
      "text/plain": [
       "0    12\n",
       "Name: month, dtype: int64"
      ]
     },
     "execution_count": 322,
     "metadata": {},
     "output_type": "execute_result"
    }
   ],
   "source": [
    "lowest_sale(2011)"
   ]
  },
  {
   "cell_type": "code",
   "execution_count": 323,
   "id": "9ef980a4-20f0-4fff-be30-8df8d7d87244",
   "metadata": {},
   "outputs": [
    {
     "data": {
      "text/plain": [
       "0    12\n",
       "Name: month, dtype: int64"
      ]
     },
     "execution_count": 323,
     "metadata": {},
     "output_type": "execute_result"
    }
   ],
   "source": [
    "lowest_sale(2012)"
   ]
  },
  {
   "cell_type": "markdown",
   "id": "1b50bfcd",
   "metadata": {},
   "source": [
    "f. In `walmart_sales`: We have 45 unique stores. Generate a nice plot on the total sales by store for the year `2012`. Report the Store number."
   ]
  },
  {
   "cell_type": "code",
   "execution_count": 369,
   "id": "4d83becc",
   "metadata": {},
   "outputs": [
    {
     "data": {
      "text/plain": [
       "Text(0.5, 0, 'Stores')"
      ]
     },
     "execution_count": 369,
     "metadata": {},
     "output_type": "execute_result"
    },
    {
     "data": {
      "image/png": "[encoded data removed]",
      "text/plain": [
       "<Figure size 1000x500 with 1 Axes>"
      ]
     },
     "metadata": {},
     "output_type": "display_data"
    }
   ],
   "source": [
    "sales1 = sales[sales.year == 2012]\n",
    "sales1 = sales1.groupby(['Store'])['Weekly_Sales'].sum().sort_values().reset_index()\n",
    "sales1.plot(kind='bar', x='Store', y='Weekly_Sales',figsize=(10,5))\n",
    "plt.title('Total sales by stores for the year 2012', fontsize=17)\n",
    "plt.ylabel('Sales', fontsize=15)\n",
    "plt.xlabel('Stores', fontsize=15)\n"
   ]
  },
  {
   "cell_type": "markdown",
   "id": "5289a946",
   "metadata": {},
   "source": [
    "g. In `walmart_fuel_prices`: For the year `2011` do you think higher the `temperature` relates to higher `fuel price`? Support your answer with a nice plot."
   ]
  },
  {
   "cell_type": "code",
   "execution_count": 387,
   "id": "42da1e4e",
   "metadata": {},
   "outputs": [
    {
     "data": {
      "text/html": [
       "<div>\n",
       "<style scoped>\n",
       "    .dataframe tbody tr th:only-of-type {\n",
       "        vertical-align: middle;\n",
       "    }\n",
       "\n",
       "    .dataframe tbody tr th {\n",
       "        vertical-align: top;\n",
       "    }\n",
       "\n",
       "    .dataframe thead th {\n",
       "        text-align: right;\n",
       "    }\n",
       "</style>\n",
       "<table border=\"1\" class=\"dataframe\">\n",
       "  <thead>\n",
       "    <tr style=\"text-align: right;\">\n",
       "      <th></th>\n",
       "      <th>Temperature</th>\n",
       "      <th>Fuel_Price</th>\n",
       "    </tr>\n",
       "  </thead>\n",
       "  <tbody>\n",
       "    <tr>\n",
       "      <th>Temperature</th>\n",
       "      <td>1.00000</td>\n",
       "      <td>0.48825</td>\n",
       "    </tr>\n",
       "    <tr>\n",
       "      <th>Fuel_Price</th>\n",
       "      <td>0.48825</td>\n",
       "      <td>1.00000</td>\n",
       "    </tr>\n",
       "  </tbody>\n",
       "</table>\n",
       "</div>"
      ],
      "text/plain": [
       "             Temperature  Fuel_Price\n",
       "Temperature      1.00000     0.48825\n",
       "Fuel_Price       0.48825     1.00000"
      ]
     },
     "execution_count": 387,
     "metadata": {},
     "output_type": "execute_result"
    }
   ],
   "source": [
    "cor = fuel_price[fuel_price.year == 2011]\n",
    "cor = cor[['Temperature','Fuel_Price']].corr()\n",
    "cor"
   ]
  },
  {
   "cell_type": "code",
   "execution_count": 388,
   "id": "45547523-fbe3-4c0b-b631-94e5c33fc19d",
   "metadata": {},
   "outputs": [
    {
     "data": {
      "text/plain": [
       "<AxesSubplot: >"
      ]
     },
     "execution_count": 388,
     "metadata": {},
     "output_type": "execute_result"
    },
    {
     "data": {
      "image/png": "[encoded data removed]",
      "text/plain": [
       "<Figure size 640x480 with 2 Axes>"
      ]
     },
     "metadata": {},
     "output_type": "display_data"
    }
   ],
   "source": [
    "sns.heatmap(cor, annot = True, fmt='.1g',cmap= 'coolwarm')"
   ]
  },
  {
   "cell_type": "markdown",
   "id": "1f3cf869",
   "metadata": {},
   "source": [
    " h. In `walmart_fuel_prices`: For the year `2010` which `Store` had the lowest Fuel Price? Report the `month` and `temperature`. On the same `month`, what was the highest fuel price for the store? Report the difference."
   ]
  },
  {
   "cell_type": "code",
   "execution_count": 411,
   "id": "5f740476-fca9-42b9-ab9d-a4e0a106167b",
   "metadata": {},
   "outputs": [
    {
     "data": {
      "text/html": [
       "<div>\n",
       "<style scoped>\n",
       "    .dataframe tbody tr th:only-of-type {\n",
       "        vertical-align: middle;\n",
       "    }\n",
       "\n",
       "    .dataframe tbody tr th {\n",
       "        vertical-align: top;\n",
       "    }\n",
       "\n",
       "    .dataframe thead th {\n",
       "        text-align: right;\n",
       "    }\n",
       "</style>\n",
       "<table border=\"1\" class=\"dataframe\">\n",
       "  <thead>\n",
       "    <tr style=\"text-align: right;\">\n",
       "      <th></th>\n",
       "      <th>index</th>\n",
       "      <th>Store</th>\n",
       "      <th>Date</th>\n",
       "      <th>Temperature</th>\n",
       "      <th>Fuel_Price</th>\n",
       "      <th>IsHoliday</th>\n",
       "      <th>day</th>\n",
       "      <th>month</th>\n",
       "      <th>year</th>\n",
       "    </tr>\n",
       "  </thead>\n",
       "  <tbody>\n",
       "    <tr>\n",
       "      <th>0</th>\n",
       "      <td>1</td>\n",
       "      <td>1</td>\n",
       "      <td>2010-02-05</td>\n",
       "      <td>42.31</td>\n",
       "      <td>2.572</td>\n",
       "      <td>False</td>\n",
       "      <td>5</td>\n",
       "      <td>2</td>\n",
       "      <td>2010</td>\n",
       "    </tr>\n",
       "    <tr>\n",
       "      <th>1</th>\n",
       "      <td>2</td>\n",
       "      <td>1</td>\n",
       "      <td>2010-02-12</td>\n",
       "      <td>38.51</td>\n",
       "      <td>2.548</td>\n",
       "      <td>True</td>\n",
       "      <td>12</td>\n",
       "      <td>2</td>\n",
       "      <td>2010</td>\n",
       "    </tr>\n",
       "    <tr>\n",
       "      <th>2</th>\n",
       "      <td>3</td>\n",
       "      <td>1</td>\n",
       "      <td>2010-02-19</td>\n",
       "      <td>39.93</td>\n",
       "      <td>2.514</td>\n",
       "      <td>False</td>\n",
       "      <td>19</td>\n",
       "      <td>2</td>\n",
       "      <td>2010</td>\n",
       "    </tr>\n",
       "    <tr>\n",
       "      <th>3</th>\n",
       "      <td>4</td>\n",
       "      <td>1</td>\n",
       "      <td>2010-02-26</td>\n",
       "      <td>46.63</td>\n",
       "      <td>2.561</td>\n",
       "      <td>False</td>\n",
       "      <td>26</td>\n",
       "      <td>2</td>\n",
       "      <td>2010</td>\n",
       "    </tr>\n",
       "    <tr>\n",
       "      <th>4</th>\n",
       "      <td>5</td>\n",
       "      <td>1</td>\n",
       "      <td>2010-03-05</td>\n",
       "      <td>46.50</td>\n",
       "      <td>2.625</td>\n",
       "      <td>False</td>\n",
       "      <td>5</td>\n",
       "      <td>3</td>\n",
       "      <td>2010</td>\n",
       "    </tr>\n",
       "  </tbody>\n",
       "</table>\n",
       "</div>"
      ],
      "text/plain": [
       "   index  Store       Date  Temperature  Fuel_Price  IsHoliday  day  month  \\\n",
       "0      1      1 2010-02-05        42.31       2.572      False    5      2   \n",
       "1      2      1 2010-02-12        38.51       2.548       True   12      2   \n",
       "2      3      1 2010-02-19        39.93       2.514      False   19      2   \n",
       "3      4      1 2010-02-26        46.63       2.561      False   26      2   \n",
       "4      5      1 2010-03-05        46.50       2.625      False    5      3   \n",
       "\n",
       "   year  \n",
       "0  2010  \n",
       "1  2010  \n",
       "2  2010  \n",
       "3  2010  \n",
       "4  2010  "
      ]
     },
     "execution_count": 411,
     "metadata": {},
     "output_type": "execute_result"
    }
   ],
   "source": [
    "new = fuel_price[fuel_price.year == 2010]\n",
    "new.groupby(['Store'])['Fuel_Price'].mean().reset_index()\n",
    "new.head()"
   ]
  },
  {
   "cell_type": "code",
   "execution_count": 406,
   "id": "ab2df5ad",
   "metadata": {},
   "outputs": [
    {
     "data": {
      "text/plain": [
       "0.40474999999999994"
      ]
     },
     "execution_count": 406,
     "metadata": {},
     "output_type": "execute_result"
    }
   ],
   "source": [
    "\n",
    "lowest= new.groupby(['Store'])['Fuel_Price'].mean().min()\n",
    "highest = new.groupby(['Store'])['Fuel_Price'].mean().max()\n",
    "highest- lowest \n"
   ]
  },
  {
   "cell_type": "markdown",
   "id": "12b0075e",
   "metadata": {},
   "source": [
    "i. In `walmart_fuel_prices`: For the `IsHoliday == TRUE`, which month has the lowest `Fuel Price` for the year `2012`? name the holiday(Labor day, July 4th, Halloween, Thanksgiving, Christmas,... etcs) that falls on the month. Also report month of the highest fuel price and name of the holiday."
   ]
  },
  {
   "cell_type": "code",
   "execution_count": 20,
   "id": "ac259d5d",
   "metadata": {},
   "outputs": [],
   "source": [
    "# TODO"
   ]
  },
  {
   "cell_type": "markdown",
   "id": "320b4a0a",
   "metadata": {},
   "source": [
    "## 3. **COVID19 Time Series Data:**\n",
    "\n",
    "<br/>\n",
    "Download the data from\n",
    "<a target='_blank' href=\"https://raw.githubusercontent.com/CSSEGISandData/COVID-19/master/csse_covid_19_data/csse_covid_19_time_series/time_series_covid19_confirmed_US.csv\">[github link]</a>\n",
    "(https://raw.githubusercontent.com/CSSEGISandData/COVID-19/master/csse_covid_19_data/csse_covid_19_time_series/time_series_covid19_confirmed_US.csv) \n",
    "\n",
    "<br/>\n",
    "<br/>\n",
    "The link above contains a time-series data for COVID-19 confirmed cases in the US. Limit the data to only use `New York State` and please answer the following questions:\n",
    "\n"
   ]
  },
  {
   "cell_type": "markdown",
   "id": "9c4fa99f",
   "metadata": {},
   "source": [
    "a. What is the total confirmed cases in Nebraska as of October 30th 2020 as per the dataset?\n"
   ]
  },
  {
   "cell_type": "code",
   "execution_count": 21,
   "id": "698b1b5d",
   "metadata": {},
   "outputs": [],
   "source": [
    "# TODO"
   ]
  },
  {
   "cell_type": "markdown",
   "id": "9b27a973",
   "metadata": {},
   "source": [
    "b. On what date has the highest confirmed cases? Demonstrate using a suitable graph for all the available data.\n"
   ]
  },
  {
   "cell_type": "code",
   "execution_count": 22,
   "id": "b5f71a56",
   "metadata": {},
   "outputs": [],
   "source": [
    "# TODO"
   ]
  },
  {
   "cell_type": "markdown",
   "id": "82bc1299",
   "metadata": {},
   "source": [
    "c. Which County has the highest daily confirmed cases? Report both the County name and the date\n"
   ]
  },
  {
   "cell_type": "code",
   "execution_count": 23,
   "id": "856370d5",
   "metadata": {},
   "outputs": [],
   "source": [
    "# TODO"
   ]
  },
  {
   "cell_type": "markdown",
   "id": "db5f161f",
   "metadata": {},
   "source": [
    "d. Identify two countries that have top total confirmed cases. Generate a time series plot of daily confirm cases for these two countries.\n"
   ]
  },
  {
   "cell_type": "code",
   "execution_count": 24,
   "id": "a4380686",
   "metadata": {},
   "outputs": [],
   "source": [
    "# TODO"
   ]
  },
  {
   "cell_type": "markdown",
   "id": "f54baef0",
   "metadata": {},
   "source": [
    "e. Show the total confirmed cases for all the locations in an interactive world map (hint: you may use `leaflet` package in `python`.\n"
   ]
  },
  {
   "cell_type": "code",
   "execution_count": null,
   "id": "da907734",
   "metadata": {},
   "outputs": [],
   "source": [
    "# TODO"
   ]
  }
 ],
 "metadata": {
  "kernelspec": {
   "display_name": "Python 3 (ipykernel)",
   "language": "python",
   "name": "python3"
  },
  "language_info": {
   "codemirror_mode": {
    "name": "ipython",
    "version": 3
   },
   "file_extension": ".py",
   "mimetype": "text/x-python",
   "name": "python",
   "nbconvert_exporter": "python",
   "pygments_lexer": "ipython3",
   "version": "3.10.5"
  }
 },
 "nbformat": 4,
 "nbformat_minor": 5
}
