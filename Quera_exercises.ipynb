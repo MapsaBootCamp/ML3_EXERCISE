{
 "cells": [
  {
   "cell_type": "code",
   "execution_count": 230,
   "id": "ddcb8cc9-6487-4b24-a20e-e42f5b5cd4bc",
   "metadata": {},
   "outputs": [],
   "source": [
    "import numpy as np\n",
    "import matplotlib.pyplot as plt\n",
    "import pandas as pd\n",
    "import seaborn as sns"
   ]
  },
  {
   "cell_type": "markdown",
   "id": "43bf39cd-cc2a-428a-b230-2d97f5efadaa",
   "metadata": {
    "jp-MarkdownHeadingCollapsed": true,
    "tags": []
   },
   "source": [
    "# تحلیل بیمه"
   ]
  },
  {
   "cell_type": "code",
   "execution_count": 2,
   "id": "8820a1d3-687d-4610-8066-78e98d7f3fb5",
   "metadata": {},
   "outputs": [],
   "source": [
    "df = pd.read_csv(\"train_quera.csv\")"
   ]
  },
  {
   "cell_type": "code",
   "execution_count": 3,
   "id": "bfd1448c-268c-48ca-844d-0fa9827a246d",
   "metadata": {},
   "outputs": [
    {
     "data": {
      "text/html": [
       "<div>\n",
       "<style scoped>\n",
       "    .dataframe tbody tr th:only-of-type {\n",
       "        vertical-align: middle;\n",
       "    }\n",
       "\n",
       "    .dataframe tbody tr th {\n",
       "        vertical-align: top;\n",
       "    }\n",
       "\n",
       "    .dataframe thead th {\n",
       "        text-align: right;\n",
       "    }\n",
       "</style>\n",
       "<table border=\"1\" class=\"dataframe\">\n",
       "  <thead>\n",
       "    <tr style=\"text-align: right;\">\n",
       "      <th></th>\n",
       "      <th>Customer Id</th>\n",
       "      <th>Age</th>\n",
       "      <th>Employment Type</th>\n",
       "      <th>GraduateOrNot</th>\n",
       "      <th>AnnualIncome</th>\n",
       "      <th>FamilyMembers</th>\n",
       "      <th>ChronicDiseases</th>\n",
       "      <th>FrequentFlyer</th>\n",
       "      <th>EverTravelledAbroad</th>\n",
       "      <th>TravelInsurance</th>\n",
       "    </tr>\n",
       "  </thead>\n",
       "  <tbody>\n",
       "    <tr>\n",
       "      <th>0</th>\n",
       "      <td>3JUN0VW6F043</td>\n",
       "      <td>34</td>\n",
       "      <td>Private Sector/Self Employed</td>\n",
       "      <td>Yes</td>\n",
       "      <td>1300000</td>\n",
       "      <td>6</td>\n",
       "      <td>0</td>\n",
       "      <td>Yes</td>\n",
       "      <td>No</td>\n",
       "      <td>No</td>\n",
       "    </tr>\n",
       "    <tr>\n",
       "      <th>1</th>\n",
       "      <td>VLHY2ABIR4QL</td>\n",
       "      <td>28</td>\n",
       "      <td>Private Sector/Self Employed</td>\n",
       "      <td>Yes</td>\n",
       "      <td>750000</td>\n",
       "      <td>7</td>\n",
       "      <td>0</td>\n",
       "      <td>Yes</td>\n",
       "      <td>No</td>\n",
       "      <td>No</td>\n",
       "    </tr>\n",
       "    <tr>\n",
       "      <th>2</th>\n",
       "      <td>6E3F7UNXYNFF</td>\n",
       "      <td>28</td>\n",
       "      <td>Private Sector/Self Employed</td>\n",
       "      <td>Yes</td>\n",
       "      <td>750000</td>\n",
       "      <td>6</td>\n",
       "      <td>0</td>\n",
       "      <td>Yes</td>\n",
       "      <td>No</td>\n",
       "      <td>No</td>\n",
       "    </tr>\n",
       "    <tr>\n",
       "      <th>3</th>\n",
       "      <td>JJ8R0ZRYWR31</td>\n",
       "      <td>32</td>\n",
       "      <td>Government Sector</td>\n",
       "      <td>Yes</td>\n",
       "      <td>800000</td>\n",
       "      <td>6</td>\n",
       "      <td>1</td>\n",
       "      <td>No</td>\n",
       "      <td>No</td>\n",
       "      <td>No</td>\n",
       "    </tr>\n",
       "    <tr>\n",
       "      <th>4</th>\n",
       "      <td>2WGFUEX6IEHM</td>\n",
       "      <td>34</td>\n",
       "      <td>Private Sector/Self Employed</td>\n",
       "      <td>Yes</td>\n",
       "      <td>700000</td>\n",
       "      <td>4</td>\n",
       "      <td>1</td>\n",
       "      <td>No</td>\n",
       "      <td>No</td>\n",
       "      <td>No</td>\n",
       "    </tr>\n",
       "  </tbody>\n",
       "</table>\n",
       "</div>"
      ],
      "text/plain": [
       "    Customer Id  Age               Employment Type GraduateOrNot  \\\n",
       "0  3JUN0VW6F043   34  Private Sector/Self Employed           Yes   \n",
       "1  VLHY2ABIR4QL   28  Private Sector/Self Employed           Yes   \n",
       "2  6E3F7UNXYNFF   28  Private Sector/Self Employed           Yes   \n",
       "3  JJ8R0ZRYWR31   32             Government Sector           Yes   \n",
       "4  2WGFUEX6IEHM   34  Private Sector/Self Employed           Yes   \n",
       "\n",
       "   AnnualIncome  FamilyMembers  ChronicDiseases FrequentFlyer  \\\n",
       "0       1300000              6                0           Yes   \n",
       "1        750000              7                0           Yes   \n",
       "2        750000              6                0           Yes   \n",
       "3        800000              6                1            No   \n",
       "4        700000              4                1            No   \n",
       "\n",
       "  EverTravelledAbroad TravelInsurance  \n",
       "0                  No              No  \n",
       "1                  No              No  \n",
       "2                  No              No  \n",
       "3                  No              No  \n",
       "4                  No              No  "
      ]
     },
     "execution_count": 3,
     "metadata": {},
     "output_type": "execute_result"
    }
   ],
   "source": [
    "df.head()"
   ]
  },
  {
   "cell_type": "markdown",
   "id": "bc25075f-6ceb-487a-bf6a-9eba87809a79",
   "metadata": {
    "jp-MarkdownHeadingCollapsed": true,
    "tags": []
   },
   "source": [
    "### تعداد سطر ها و ستون ها"
   ]
  },
  {
   "cell_type": "code",
   "execution_count": 4,
   "id": "fe5e2f94-6e23-495f-b0f4-d2662fbb7413",
   "metadata": {},
   "outputs": [
    {
     "name": "stdout",
     "output_type": "stream",
     "text": [
      "1590 10\n"
     ]
    }
   ],
   "source": [
    "print(df.shape[0] , df.shape[1])"
   ]
  },
  {
   "cell_type": "markdown",
   "id": "359cf64d-f095-4245-b82c-edcd2b609c55",
   "metadata": {
    "jp-MarkdownHeadingCollapsed": true,
    "tags": []
   },
   "source": [
    "### میانگین درآمد سالانه"
   ]
  },
  {
   "cell_type": "code",
   "execution_count": 5,
   "id": "5e179bde-6a4d-4b10-abcd-3207150d5bf0",
   "metadata": {},
   "outputs": [
    {
     "data": {
      "text/plain": [
       "928553"
      ]
     },
     "execution_count": 5,
     "metadata": {},
     "output_type": "execute_result"
    }
   ],
   "source": [
    "int(df[\"AnnualIncome\"].mean())"
   ]
  },
  {
   "cell_type": "markdown",
   "id": "b367a7b4-5183-4aa6-a0f5-572e156e1202",
   "metadata": {
    "jp-MarkdownHeadingCollapsed": true,
    "tags": []
   },
   "source": [
    "### تعداد افرادی که سفر خارجی داشته اند"
   ]
  },
  {
   "cell_type": "code",
   "execution_count": 6,
   "id": "1c02a263-0240-444a-8884-1405dbbdc6fc",
   "metadata": {},
   "outputs": [
    {
     "name": "stdout",
     "output_type": "stream",
     "text": [
      "302 people have traveled abroad\n"
     ]
    }
   ],
   "source": [
    "print(sum(df[\"EverTravelledAbroad\"] == \"Yes\"), \"people have traveled abroad\")"
   ]
  },
  {
   "cell_type": "markdown",
   "id": "dd962a2e-8299-4968-9430-57b765f87006",
   "metadata": {
    "jp-MarkdownHeadingCollapsed": true,
    "tags": []
   },
   "source": [
    "### درصد افرادی که شغل دولتی دارند"
   ]
  },
  {
   "cell_type": "code",
   "execution_count": 7,
   "id": "c71803f9-3876-4a38-b5ef-5bf1b3b2ccc7",
   "metadata": {},
   "outputs": [],
   "source": [
    "temp = df.groupby(\"Employment Type\",as_index=False).size()"
   ]
  },
  {
   "cell_type": "code",
   "execution_count": 8,
   "id": "6f93465d-ede9-4a18-abb3-b7b732ff7c99",
   "metadata": {},
   "outputs": [
    {
     "data": {
      "text/plain": [
       "0    0.273585\n",
       "1    0.726415\n",
       "Name: size, dtype: float64"
      ]
     },
     "execution_count": 8,
     "metadata": {},
     "output_type": "execute_result"
    }
   ],
   "source": [
    "temp[\"size\"] / temp[\"size\"].sum()"
   ]
  },
  {
   "cell_type": "markdown",
   "id": "0a6d41d1-1f40-48e8-aac1-5bf2a6152bc2",
   "metadata": {
    "jp-MarkdownHeadingCollapsed": true,
    "tags": []
   },
   "source": [
    "### درصد افرادی با بیماری زمینه ای که خود را بیمه کرده اند"
   ]
  },
  {
   "cell_type": "code",
   "execution_count": 13,
   "id": "b206d7ff-3297-4771-b95d-80cddd1b2bfe",
   "metadata": {},
   "outputs": [
    {
     "data": {
      "text/html": [
       "<div>\n",
       "<style scoped>\n",
       "    .dataframe tbody tr th:only-of-type {\n",
       "        vertical-align: middle;\n",
       "    }\n",
       "\n",
       "    .dataframe tbody tr th {\n",
       "        vertical-align: top;\n",
       "    }\n",
       "\n",
       "    .dataframe thead th {\n",
       "        text-align: right;\n",
       "    }\n",
       "</style>\n",
       "<table border=\"1\" class=\"dataframe\">\n",
       "  <thead>\n",
       "    <tr style=\"text-align: right;\">\n",
       "      <th></th>\n",
       "      <th>Customer Id</th>\n",
       "      <th>Age</th>\n",
       "      <th>Employment Type</th>\n",
       "      <th>GraduateOrNot</th>\n",
       "      <th>AnnualIncome</th>\n",
       "      <th>FamilyMembers</th>\n",
       "      <th>ChronicDiseases</th>\n",
       "      <th>FrequentFlyer</th>\n",
       "      <th>EverTravelledAbroad</th>\n",
       "      <th>TravelInsurance</th>\n",
       "    </tr>\n",
       "  </thead>\n",
       "  <tbody>\n",
       "    <tr>\n",
       "      <th>3</th>\n",
       "      <td>JJ8R0ZRYWR31</td>\n",
       "      <td>32</td>\n",
       "      <td>Government Sector</td>\n",
       "      <td>Yes</td>\n",
       "      <td>800000</td>\n",
       "      <td>6</td>\n",
       "      <td>1</td>\n",
       "      <td>No</td>\n",
       "      <td>No</td>\n",
       "      <td>No</td>\n",
       "    </tr>\n",
       "    <tr>\n",
       "      <th>4</th>\n",
       "      <td>2WGFUEX6IEHM</td>\n",
       "      <td>34</td>\n",
       "      <td>Private Sector/Self Employed</td>\n",
       "      <td>Yes</td>\n",
       "      <td>700000</td>\n",
       "      <td>4</td>\n",
       "      <td>1</td>\n",
       "      <td>No</td>\n",
       "      <td>No</td>\n",
       "      <td>No</td>\n",
       "    </tr>\n",
       "    <tr>\n",
       "      <th>5</th>\n",
       "      <td>V4GZ5HKMGHZ1</td>\n",
       "      <td>28</td>\n",
       "      <td>Government Sector</td>\n",
       "      <td>Yes</td>\n",
       "      <td>300000</td>\n",
       "      <td>6</td>\n",
       "      <td>1</td>\n",
       "      <td>No</td>\n",
       "      <td>No</td>\n",
       "      <td>No</td>\n",
       "    </tr>\n",
       "    <tr>\n",
       "      <th>14</th>\n",
       "      <td>D9M4QDEJFMDL</td>\n",
       "      <td>30</td>\n",
       "      <td>Private Sector/Self Employed</td>\n",
       "      <td>No</td>\n",
       "      <td>750000</td>\n",
       "      <td>3</td>\n",
       "      <td>1</td>\n",
       "      <td>No</td>\n",
       "      <td>No</td>\n",
       "      <td>Yes</td>\n",
       "    </tr>\n",
       "    <tr>\n",
       "      <th>15</th>\n",
       "      <td>HOJG4E0IMD3U</td>\n",
       "      <td>29</td>\n",
       "      <td>Private Sector/Self Employed</td>\n",
       "      <td>Yes</td>\n",
       "      <td>1350000</td>\n",
       "      <td>7</td>\n",
       "      <td>1</td>\n",
       "      <td>No</td>\n",
       "      <td>Yes</td>\n",
       "      <td>Yes</td>\n",
       "    </tr>\n",
       "    <tr>\n",
       "      <th>...</th>\n",
       "      <td>...</td>\n",
       "      <td>...</td>\n",
       "      <td>...</td>\n",
       "      <td>...</td>\n",
       "      <td>...</td>\n",
       "      <td>...</td>\n",
       "      <td>...</td>\n",
       "      <td>...</td>\n",
       "      <td>...</td>\n",
       "      <td>...</td>\n",
       "    </tr>\n",
       "    <tr>\n",
       "      <th>1563</th>\n",
       "      <td>C70HFLJF7640</td>\n",
       "      <td>30</td>\n",
       "      <td>Private Sector/Self Employed</td>\n",
       "      <td>No</td>\n",
       "      <td>800000</td>\n",
       "      <td>4</td>\n",
       "      <td>1</td>\n",
       "      <td>Yes</td>\n",
       "      <td>No</td>\n",
       "      <td>No</td>\n",
       "    </tr>\n",
       "    <tr>\n",
       "      <th>1568</th>\n",
       "      <td>8CUXXHH4MD44</td>\n",
       "      <td>35</td>\n",
       "      <td>Private Sector/Self Employed</td>\n",
       "      <td>No</td>\n",
       "      <td>800000</td>\n",
       "      <td>7</td>\n",
       "      <td>1</td>\n",
       "      <td>No</td>\n",
       "      <td>No</td>\n",
       "      <td>Yes</td>\n",
       "    </tr>\n",
       "    <tr>\n",
       "      <th>1581</th>\n",
       "      <td>231OGPC8MOZH</td>\n",
       "      <td>26</td>\n",
       "      <td>Private Sector/Self Employed</td>\n",
       "      <td>Yes</td>\n",
       "      <td>600000</td>\n",
       "      <td>4</td>\n",
       "      <td>1</td>\n",
       "      <td>No</td>\n",
       "      <td>No</td>\n",
       "      <td>No</td>\n",
       "    </tr>\n",
       "    <tr>\n",
       "      <th>1586</th>\n",
       "      <td>2JEE5P5T9MT0</td>\n",
       "      <td>34</td>\n",
       "      <td>Private Sector/Self Employed</td>\n",
       "      <td>Yes</td>\n",
       "      <td>850000</td>\n",
       "      <td>3</td>\n",
       "      <td>1</td>\n",
       "      <td>No</td>\n",
       "      <td>Yes</td>\n",
       "      <td>No</td>\n",
       "    </tr>\n",
       "    <tr>\n",
       "      <th>1589</th>\n",
       "      <td>8VEME4MXPTBC</td>\n",
       "      <td>28</td>\n",
       "      <td>Private Sector/Self Employed</td>\n",
       "      <td>Yes</td>\n",
       "      <td>750000</td>\n",
       "      <td>5</td>\n",
       "      <td>1</td>\n",
       "      <td>Yes</td>\n",
       "      <td>No</td>\n",
       "      <td>No</td>\n",
       "    </tr>\n",
       "  </tbody>\n",
       "</table>\n",
       "<p>445 rows × 10 columns</p>\n",
       "</div>"
      ],
      "text/plain": [
       "       Customer Id  Age               Employment Type GraduateOrNot  \\\n",
       "3     JJ8R0ZRYWR31   32             Government Sector           Yes   \n",
       "4     2WGFUEX6IEHM   34  Private Sector/Self Employed           Yes   \n",
       "5     V4GZ5HKMGHZ1   28             Government Sector           Yes   \n",
       "14    D9M4QDEJFMDL   30  Private Sector/Self Employed            No   \n",
       "15    HOJG4E0IMD3U   29  Private Sector/Self Employed           Yes   \n",
       "...            ...  ...                           ...           ...   \n",
       "1563  C70HFLJF7640   30  Private Sector/Self Employed            No   \n",
       "1568  8CUXXHH4MD44   35  Private Sector/Self Employed            No   \n",
       "1581  231OGPC8MOZH   26  Private Sector/Self Employed           Yes   \n",
       "1586  2JEE5P5T9MT0   34  Private Sector/Self Employed           Yes   \n",
       "1589  8VEME4MXPTBC   28  Private Sector/Self Employed           Yes   \n",
       "\n",
       "      AnnualIncome  FamilyMembers  ChronicDiseases FrequentFlyer  \\\n",
       "3           800000              6                1            No   \n",
       "4           700000              4                1            No   \n",
       "5           300000              6                1            No   \n",
       "14          750000              3                1            No   \n",
       "15         1350000              7                1            No   \n",
       "...            ...            ...              ...           ...   \n",
       "1563        800000              4                1           Yes   \n",
       "1568        800000              7                1            No   \n",
       "1581        600000              4                1            No   \n",
       "1586        850000              3                1            No   \n",
       "1589        750000              5                1           Yes   \n",
       "\n",
       "     EverTravelledAbroad TravelInsurance  \n",
       "3                     No              No  \n",
       "4                     No              No  \n",
       "5                     No              No  \n",
       "14                    No             Yes  \n",
       "15                   Yes             Yes  \n",
       "...                  ...             ...  \n",
       "1563                  No              No  \n",
       "1568                  No             Yes  \n",
       "1581                  No              No  \n",
       "1586                 Yes              No  \n",
       "1589                  No              No  \n",
       "\n",
       "[445 rows x 10 columns]"
      ]
     },
     "execution_count": 13,
     "metadata": {},
     "output_type": "execute_result"
    }
   ],
   "source": [
    "df[df[\"ChronicDiseases\"] == 1]"
   ]
  },
  {
   "cell_type": "code",
   "execution_count": 18,
   "id": "705f3a06-ab1a-42f0-b3a6-a00be70f480a",
   "metadata": {},
   "outputs": [
    {
     "data": {
      "text/html": [
       "<div>\n",
       "<style scoped>\n",
       "    .dataframe tbody tr th:only-of-type {\n",
       "        vertical-align: middle;\n",
       "    }\n",
       "\n",
       "    .dataframe tbody tr th {\n",
       "        vertical-align: top;\n",
       "    }\n",
       "\n",
       "    .dataframe thead th {\n",
       "        text-align: right;\n",
       "    }\n",
       "</style>\n",
       "<table border=\"1\" class=\"dataframe\">\n",
       "  <thead>\n",
       "    <tr style=\"text-align: right;\">\n",
       "      <th>ChronicDiseases</th>\n",
       "      <th>0</th>\n",
       "      <th>1</th>\n",
       "    </tr>\n",
       "    <tr>\n",
       "      <th>TravelInsurance</th>\n",
       "      <th></th>\n",
       "      <th></th>\n",
       "    </tr>\n",
       "  </thead>\n",
       "  <tbody>\n",
       "    <tr>\n",
       "      <th>No</th>\n",
       "      <td>65.76</td>\n",
       "      <td>62.47</td>\n",
       "    </tr>\n",
       "    <tr>\n",
       "      <th>Yes</th>\n",
       "      <td>34.24</td>\n",
       "      <td>37.53</td>\n",
       "    </tr>\n",
       "  </tbody>\n",
       "</table>\n",
       "</div>"
      ],
      "text/plain": [
       "ChronicDiseases      0      1\n",
       "TravelInsurance              \n",
       "No               65.76  62.47\n",
       "Yes              34.24  37.53"
      ]
     },
     "execution_count": 18,
     "metadata": {},
     "output_type": "execute_result"
    }
   ],
   "source": [
    "df.pivot_table(index=\"TravelInsurance\" , columns=\"ChronicDiseases\",aggfunc=\"size\").apply(lambda x: round(x/sum(x)*100,2))"
   ]
  },
  {
   "cell_type": "markdown",
   "id": "09f22779-4f66-4bfa-84bb-8b3a02775bdb",
   "metadata": {
    "jp-MarkdownHeadingCollapsed": true,
    "tags": []
   },
   "source": [
    "# سبد خرید"
   ]
  },
  {
   "cell_type": "code",
   "execution_count": null,
   "id": "b4bfbf89-783c-4082-9b7a-0b4f14103b48",
   "metadata": {},
   "outputs": [],
   "source": []
  },
  {
   "cell_type": "code",
   "execution_count": 19,
   "id": "665ff83b-7575-4be4-ba53-043a2f5cce11",
   "metadata": {},
   "outputs": [],
   "source": [
    "basket = pd.read_csv(\"supermarket.csv\")"
   ]
  },
  {
   "cell_type": "code",
   "execution_count": 23,
   "id": "b127a791-40e8-47bd-b86d-836279958488",
   "metadata": {},
   "outputs": [
    {
     "name": "stdout",
     "output_type": "stream",
     "text": [
      "<class 'pandas.core.frame.DataFrame'>\n",
      "RangeIndex: 32710 entries, 0 to 32709\n",
      "Data columns (total 3 columns):\n",
      " #   Column       Non-Null Count  Dtype \n",
      "---  ------       --------------  ----- \n",
      " 0   Customer Id  32710 non-null  object\n",
      " 1   Date         32710 non-null  object\n",
      " 2   Product      32710 non-null  object\n",
      "dtypes: object(3)\n",
      "memory usage: 766.8+ KB\n"
     ]
    }
   ],
   "source": [
    "basket.info()"
   ]
  },
  {
   "cell_type": "markdown",
   "id": "0fe591f5-e0fc-463b-9db3-5760d54762a5",
   "metadata": {
    "jp-MarkdownHeadingCollapsed": true,
    "tags": []
   },
   "source": [
    "### تعداد محصولات منحصر به فرد"
   ]
  },
  {
   "cell_type": "code",
   "execution_count": 21,
   "id": "14075a85-63bf-47ca-b1b7-0f67b249b914",
   "metadata": {},
   "outputs": [
    {
     "data": {
      "text/plain": [
       "137"
      ]
     },
     "execution_count": 21,
     "metadata": {},
     "output_type": "execute_result"
    }
   ],
   "source": [
    "basket[\"Product\"].nunique()"
   ]
  },
  {
   "cell_type": "markdown",
   "id": "fc27b183-66c7-4e5c-9de7-ca5b000374af",
   "metadata": {
    "jp-MarkdownHeadingCollapsed": true,
    "tags": []
   },
   "source": [
    "### میانگین فروش روزانه"
   ]
  },
  {
   "cell_type": "code",
   "execution_count": 28,
   "id": "4ef5d7e2-f187-4cc0-a0f3-9594e40a0148",
   "metadata": {},
   "outputs": [
    {
     "data": {
      "text/plain": [
       "44.93131868131868"
      ]
     },
     "execution_count": 28,
     "metadata": {},
     "output_type": "execute_result"
    }
   ],
   "source": [
    "basket.groupby(\"Date\").size().mean()"
   ]
  },
  {
   "cell_type": "markdown",
   "id": "aa057232-2964-402e-8ed6-5bb38adaf20d",
   "metadata": {
    "jp-MarkdownHeadingCollapsed": true,
    "tags": []
   },
   "source": [
    "### کم فروش ترین محصولات"
   ]
  },
  {
   "cell_type": "code",
   "execution_count": 30,
   "id": "1cea3343-65ae-4786-88aa-09a2e627ecdb",
   "metadata": {},
   "outputs": [
    {
     "data": {
      "text/plain": [
       "Product\n",
       "kitchen utensil          1\n",
       "preservation products    1\n",
       "baby cosmetics           3\n",
       "bags                     4\n",
       "dtype: int64"
      ]
     },
     "execution_count": 30,
     "metadata": {},
     "output_type": "execute_result"
    }
   ],
   "source": [
    "basket.groupby(\"Product\").size().nsmallest(4)"
   ]
  },
  {
   "cell_type": "markdown",
   "id": "9162916e-9020-4d8f-9878-34d108b256b1",
   "metadata": {
    "jp-MarkdownHeadingCollapsed": true,
    "tags": []
   },
   "source": [
    "### افراد با بیشترین تعداد سبد خرید در 2020"
   ]
  },
  {
   "cell_type": "code",
   "execution_count": 38,
   "id": "b68d0a10-1a0a-4850-bbcf-0da5884ef640",
   "metadata": {},
   "outputs": [],
   "source": [
    "import datetime"
   ]
  },
  {
   "cell_type": "code",
   "execution_count": 56,
   "id": "14976316-255b-4a35-9980-4287afd8467d",
   "metadata": {},
   "outputs": [],
   "source": [
    "basket[\"Date\"] = pd.to_datetime(basket[\"Date\"] , format=\"%Y-%m-%d\")"
   ]
  },
  {
   "cell_type": "code",
   "execution_count": 96,
   "id": "2f771757-aa0c-409a-94f1-7eba3cff7199",
   "metadata": {},
   "outputs": [
    {
     "data": {
      "text/plain": [
       "Customer Id   Date      \n",
       "0011457U6R3Y  2020-10-13    3\n",
       "00D4E3I1MS2R  2020-07-19    1\n",
       "              2020-07-27    2\n",
       "              2020-12-09    2\n",
       "011K5G14VFYQ  2020-08-31    2\n",
       "                           ..\n",
       "ZZ22WYIS9ORL  2020-05-07    3\n",
       "              2020-08-10    2\n",
       "              2020-09-08    2\n",
       "ZZRT1GFUKTZ7  2020-06-13    1\n",
       "              2020-07-30    2\n",
       "Length: 6889, dtype: int64"
      ]
     },
     "execution_count": 96,
     "metadata": {},
     "output_type": "execute_result"
    }
   ],
   "source": [
    "(basket[(basket[\"Date\"] >= pd.to_datetime(\"2020-01-01\")) & (basket[\"Date\"] < pd.to_datetime(\"2021-01-01\")) ]\n",
    " .groupby([\"Customer Id\" , \"Date\"])\n",
    " .size())"
   ]
  },
  {
   "cell_type": "code",
   "execution_count": 97,
   "id": "db5911d9-2ab2-49fa-acfe-2aa9b585a9db",
   "metadata": {},
   "outputs": [],
   "source": [
    "temp = (basket[(basket[\"Date\"] >= pd.to_datetime(\"2020-01-01\")) & (basket[\"Date\"] < pd.to_datetime(\"2021-01-01\"))]\n",
    " .groupby([\"Customer Id\" , \"Date\"])\n",
    " .count())"
   ]
  },
  {
   "cell_type": "code",
   "execution_count": 98,
   "id": "f80d974f-aa2e-4c2d-9547-82d546b5cdc9",
   "metadata": {},
   "outputs": [],
   "source": [
    "temp[\"has_basket\"] = 1"
   ]
  },
  {
   "cell_type": "code",
   "execution_count": 99,
   "id": "968ae4da-4263-4ec7-85a7-aeea05ce4f46",
   "metadata": {},
   "outputs": [
    {
     "data": {
      "text/html": [
       "<div>\n",
       "<style scoped>\n",
       "    .dataframe tbody tr th:only-of-type {\n",
       "        vertical-align: middle;\n",
       "    }\n",
       "\n",
       "    .dataframe tbody tr th {\n",
       "        vertical-align: top;\n",
       "    }\n",
       "\n",
       "    .dataframe thead th {\n",
       "        text-align: right;\n",
       "    }\n",
       "</style>\n",
       "<table border=\"1\" class=\"dataframe\">\n",
       "  <thead>\n",
       "    <tr style=\"text-align: right;\">\n",
       "      <th></th>\n",
       "      <th></th>\n",
       "      <th>Product</th>\n",
       "      <th>DayOfWeek</th>\n",
       "      <th>has_basket</th>\n",
       "    </tr>\n",
       "    <tr>\n",
       "      <th>Customer Id</th>\n",
       "      <th>Date</th>\n",
       "      <th></th>\n",
       "      <th></th>\n",
       "      <th></th>\n",
       "    </tr>\n",
       "  </thead>\n",
       "  <tbody>\n",
       "    <tr>\n",
       "      <th>0011457U6R3Y</th>\n",
       "      <th>2020-10-13</th>\n",
       "      <td>3</td>\n",
       "      <td>3</td>\n",
       "      <td>1</td>\n",
       "    </tr>\n",
       "    <tr>\n",
       "      <th rowspan=\"3\" valign=\"top\">00D4E3I1MS2R</th>\n",
       "      <th>2020-07-19</th>\n",
       "      <td>1</td>\n",
       "      <td>1</td>\n",
       "      <td>1</td>\n",
       "    </tr>\n",
       "    <tr>\n",
       "      <th>2020-07-27</th>\n",
       "      <td>2</td>\n",
       "      <td>2</td>\n",
       "      <td>1</td>\n",
       "    </tr>\n",
       "    <tr>\n",
       "      <th>2020-12-09</th>\n",
       "      <td>2</td>\n",
       "      <td>2</td>\n",
       "      <td>1</td>\n",
       "    </tr>\n",
       "    <tr>\n",
       "      <th>011K5G14VFYQ</th>\n",
       "      <th>2020-08-31</th>\n",
       "      <td>2</td>\n",
       "      <td>2</td>\n",
       "      <td>1</td>\n",
       "    </tr>\n",
       "    <tr>\n",
       "      <th>...</th>\n",
       "      <th>...</th>\n",
       "      <td>...</td>\n",
       "      <td>...</td>\n",
       "      <td>...</td>\n",
       "    </tr>\n",
       "    <tr>\n",
       "      <th rowspan=\"3\" valign=\"top\">ZZ22WYIS9ORL</th>\n",
       "      <th>2020-05-07</th>\n",
       "      <td>3</td>\n",
       "      <td>3</td>\n",
       "      <td>1</td>\n",
       "    </tr>\n",
       "    <tr>\n",
       "      <th>2020-08-10</th>\n",
       "      <td>2</td>\n",
       "      <td>2</td>\n",
       "      <td>1</td>\n",
       "    </tr>\n",
       "    <tr>\n",
       "      <th>2020-09-08</th>\n",
       "      <td>2</td>\n",
       "      <td>2</td>\n",
       "      <td>1</td>\n",
       "    </tr>\n",
       "    <tr>\n",
       "      <th rowspan=\"2\" valign=\"top\">ZZRT1GFUKTZ7</th>\n",
       "      <th>2020-06-13</th>\n",
       "      <td>1</td>\n",
       "      <td>1</td>\n",
       "      <td>1</td>\n",
       "    </tr>\n",
       "    <tr>\n",
       "      <th>2020-07-30</th>\n",
       "      <td>2</td>\n",
       "      <td>2</td>\n",
       "      <td>1</td>\n",
       "    </tr>\n",
       "  </tbody>\n",
       "</table>\n",
       "<p>6889 rows × 3 columns</p>\n",
       "</div>"
      ],
      "text/plain": [
       "                         Product  DayOfWeek  has_basket\n",
       "Customer Id  Date                                      \n",
       "0011457U6R3Y 2020-10-13        3          3           1\n",
       "00D4E3I1MS2R 2020-07-19        1          1           1\n",
       "             2020-07-27        2          2           1\n",
       "             2020-12-09        2          2           1\n",
       "011K5G14VFYQ 2020-08-31        2          2           1\n",
       "...                          ...        ...         ...\n",
       "ZZ22WYIS9ORL 2020-05-07        3          3           1\n",
       "             2020-08-10        2          2           1\n",
       "             2020-09-08        2          2           1\n",
       "ZZRT1GFUKTZ7 2020-06-13        1          1           1\n",
       "             2020-07-30        2          2           1\n",
       "\n",
       "[6889 rows x 3 columns]"
      ]
     },
     "execution_count": 99,
     "metadata": {},
     "output_type": "execute_result"
    }
   ],
   "source": [
    "temp"
   ]
  },
  {
   "cell_type": "code",
   "execution_count": 100,
   "id": "4714f2d2-21b6-48c7-880b-06922aa18bd1",
   "metadata": {},
   "outputs": [
    {
     "data": {
      "text/plain": [
       "Customer Id\n",
       "0ZRF32AJ06BC    7\n",
       "E7FD9BU4OK0F    7\n",
       "M2DT2Z00NQCH    7\n",
       "M722MPITBY07    7\n",
       "QBUS9NZY39BE    7\n",
       "0P1TPIH74E79    6\n",
       "Name: has_basket, dtype: int64"
      ]
     },
     "execution_count": 100,
     "metadata": {},
     "output_type": "execute_result"
    }
   ],
   "source": [
    "temp.groupby(\"Customer Id\").sum()[\"has_basket\"].nlargest(6)"
   ]
  },
  {
   "cell_type": "markdown",
   "id": "c9d3f0b9-f55a-4922-a35c-2f357b5b4aff",
   "metadata": {
    "jp-MarkdownHeadingCollapsed": true,
    "tags": []
   },
   "source": [
    "### یافتن روز هفته با بیشترین فروش "
   ]
  },
  {
   "cell_type": "code",
   "execution_count": 101,
   "id": "0e8994df-403f-4096-b455-c4ae4ab604d7",
   "metadata": {},
   "outputs": [],
   "source": [
    "# basket[\"DayOfWeek\"] = basket[\"Date\"].dt.dayofweek\n",
    "dw_mapping={\n",
    "    0: 'Monday', \n",
    "    1: 'Tuesday', \n",
    "    2: 'Wednesday', \n",
    "    3: 'Thursday', \n",
    "    4: 'Friday',\n",
    "    5: 'Saturday', \n",
    "    6: 'Sunday'\n",
    "}\n",
    "basket['DayOfWeek'] = basket['Date'].dt.weekday.map(dw_mapping)"
   ]
  },
  {
   "cell_type": "code",
   "execution_count": 104,
   "id": "86345459-f26a-4fbf-8181-5a5734675716",
   "metadata": {},
   "outputs": [
    {
     "data": {
      "text/plain": [
       "DayOfWeek\n",
       "Wednesday    4846\n",
       "dtype: int64"
      ]
     },
     "execution_count": 104,
     "metadata": {},
     "output_type": "execute_result"
    }
   ],
   "source": [
    "basket.groupby(\"DayOfWeek\").size().nlargest(1)"
   ]
  },
  {
   "cell_type": "markdown",
   "id": "edeea647-106c-4996-9f84-63287377407e",
   "metadata": {
    "jp-MarkdownHeadingCollapsed": true,
    "tags": []
   },
   "source": [
    "### ساپورت"
   ]
  },
  {
   "cell_type": "code",
   "execution_count": 123,
   "id": "0b540d65-a94d-447c-bd4e-da4116710aad",
   "metadata": {},
   "outputs": [],
   "source": [
    "basket_date_id = basket.groupby([\"Customer Id\" , \"Date\"]).agg(lambda x : \",\".join(x.to_list())).drop(\"DayOfWeek\" , axis = 1)\n",
    "basket_date_id.columns = [\"Basket\"]"
   ]
  },
  {
   "cell_type": "code",
   "execution_count": 137,
   "id": "64690f38-0a75-41ed-93e5-63389647d2f2",
   "metadata": {},
   "outputs": [
    {
     "data": {
      "text/html": [
       "<div>\n",
       "<style scoped>\n",
       "    .dataframe tbody tr th:only-of-type {\n",
       "        vertical-align: middle;\n",
       "    }\n",
       "\n",
       "    .dataframe tbody tr th {\n",
       "        vertical-align: top;\n",
       "    }\n",
       "\n",
       "    .dataframe thead th {\n",
       "        text-align: right;\n",
       "    }\n",
       "</style>\n",
       "<table border=\"1\" class=\"dataframe\">\n",
       "  <thead>\n",
       "    <tr style=\"text-align: right;\">\n",
       "      <th></th>\n",
       "      <th></th>\n",
       "      <th>Basket</th>\n",
       "    </tr>\n",
       "    <tr>\n",
       "      <th>Customer Id</th>\n",
       "      <th>Date</th>\n",
       "      <th></th>\n",
       "    </tr>\n",
       "  </thead>\n",
       "  <tbody>\n",
       "    <tr>\n",
       "      <th rowspan=\"6\" valign=\"top\">ZZRT1GFUKTZ7</th>\n",
       "      <th>2019-01-16</th>\n",
       "      <td>whole milk</td>\n",
       "    </tr>\n",
       "    <tr>\n",
       "      <th>2019-03-30</th>\n",
       "      <td>whole milk,dishes</td>\n",
       "    </tr>\n",
       "    <tr>\n",
       "      <th>2019-11-12</th>\n",
       "      <td>candy,specialty fat</td>\n",
       "    </tr>\n",
       "    <tr>\n",
       "      <th>2019-12-28</th>\n",
       "      <td>UHT-milk,other vegetables</td>\n",
       "    </tr>\n",
       "    <tr>\n",
       "      <th>2020-06-13</th>\n",
       "      <td>hamburger meat</td>\n",
       "    </tr>\n",
       "    <tr>\n",
       "      <th>2020-07-30</th>\n",
       "      <td>other vegetables,bottled water</td>\n",
       "    </tr>\n",
       "    <tr>\n",
       "      <th rowspan=\"4\" valign=\"top\">008J5Z3CJPYU</th>\n",
       "      <th>2019-01-27</th>\n",
       "      <td>root vegetables,flour</td>\n",
       "    </tr>\n",
       "    <tr>\n",
       "      <th>2019-06-12</th>\n",
       "      <td>salty snack,bottled beer</td>\n",
       "    </tr>\n",
       "    <tr>\n",
       "      <th>2019-10-17</th>\n",
       "      <td>domestic eggs</td>\n",
       "    </tr>\n",
       "    <tr>\n",
       "      <th>2019-10-28</th>\n",
       "      <td>white bread</td>\n",
       "    </tr>\n",
       "  </tbody>\n",
       "</table>\n",
       "</div>"
      ],
      "text/plain": [
       "                                                 Basket\n",
       "Customer Id  Date                                      \n",
       "ZZRT1GFUKTZ7 2019-01-16                      whole milk\n",
       "             2019-03-30               whole milk,dishes\n",
       "             2019-11-12             candy,specialty fat\n",
       "             2019-12-28       UHT-milk,other vegetables\n",
       "             2020-06-13                  hamburger meat\n",
       "             2020-07-30  other vegetables,bottled water\n",
       "008J5Z3CJPYU 2019-01-27           root vegetables,flour\n",
       "             2019-06-12        salty snack,bottled beer\n",
       "             2019-10-17                   domestic eggs\n",
       "             2019-10-28                     white bread"
      ]
     },
     "execution_count": 137,
     "metadata": {},
     "output_type": "execute_result"
    }
   ],
   "source": [
    "basket_date_id.loc[[\"ZZRT1GFUKTZ7\" , \"008J5Z3CJPYU\"]]"
   ]
  },
  {
   "cell_type": "code",
   "execution_count": 145,
   "id": "476cdcda-2e3c-47d5-a934-f01452b10cf9",
   "metadata": {},
   "outputs": [
    {
     "data": {
      "text/html": [
       "<div>\n",
       "<style scoped>\n",
       "    .dataframe tbody tr th:only-of-type {\n",
       "        vertical-align: middle;\n",
       "    }\n",
       "\n",
       "    .dataframe tbody tr th {\n",
       "        vertical-align: top;\n",
       "    }\n",
       "\n",
       "    .dataframe thead th {\n",
       "        text-align: right;\n",
       "    }\n",
       "</style>\n",
       "<table border=\"1\" class=\"dataframe\">\n",
       "  <thead>\n",
       "    <tr style=\"text-align: right;\">\n",
       "      <th>Date</th>\n",
       "      <th>2019-01-01</th>\n",
       "      <th>2019-01-02</th>\n",
       "      <th>2019-01-03</th>\n",
       "      <th>2019-01-04</th>\n",
       "      <th>2019-01-05</th>\n",
       "      <th>2019-01-06</th>\n",
       "      <th>2019-01-07</th>\n",
       "      <th>2019-01-08</th>\n",
       "      <th>2019-01-09</th>\n",
       "      <th>2019-01-10</th>\n",
       "      <th>...</th>\n",
       "      <th>2020-12-20</th>\n",
       "      <th>2020-12-21</th>\n",
       "      <th>2020-12-22</th>\n",
       "      <th>2020-12-23</th>\n",
       "      <th>2020-12-24</th>\n",
       "      <th>2020-12-25</th>\n",
       "      <th>2020-12-26</th>\n",
       "      <th>2020-12-27</th>\n",
       "      <th>2020-12-28</th>\n",
       "      <th>2020-12-29</th>\n",
       "    </tr>\n",
       "    <tr>\n",
       "      <th>Product</th>\n",
       "      <th></th>\n",
       "      <th></th>\n",
       "      <th></th>\n",
       "      <th></th>\n",
       "      <th></th>\n",
       "      <th></th>\n",
       "      <th></th>\n",
       "      <th></th>\n",
       "      <th></th>\n",
       "      <th></th>\n",
       "      <th></th>\n",
       "      <th></th>\n",
       "      <th></th>\n",
       "      <th></th>\n",
       "      <th></th>\n",
       "      <th></th>\n",
       "      <th></th>\n",
       "      <th></th>\n",
       "      <th></th>\n",
       "      <th></th>\n",
       "      <th></th>\n",
       "    </tr>\n",
       "  </thead>\n",
       "  <tbody>\n",
       "    <tr>\n",
       "      <th>Instant food products</th>\n",
       "      <td>D3A6L7CDR88RKCTZ72QHMDFI</td>\n",
       "      <td>NaN</td>\n",
       "      <td>NaN</td>\n",
       "      <td>NaN</td>\n",
       "      <td>NaN</td>\n",
       "      <td>NaN</td>\n",
       "      <td>NaN</td>\n",
       "      <td>NaN</td>\n",
       "      <td>NaN</td>\n",
       "      <td>NaN</td>\n",
       "      <td>...</td>\n",
       "      <td>NaN</td>\n",
       "      <td>NaN</td>\n",
       "      <td>NaN</td>\n",
       "      <td>NaN</td>\n",
       "      <td>NaN</td>\n",
       "      <td>6MSD4L4T9LTW</td>\n",
       "      <td>NaN</td>\n",
       "      <td>NaN</td>\n",
       "      <td>NaN</td>\n",
       "      <td>NaN</td>\n",
       "    </tr>\n",
       "    <tr>\n",
       "      <th>UHT-milk</th>\n",
       "      <td>NaN</td>\n",
       "      <td>NaN</td>\n",
       "      <td>NaN</td>\n",
       "      <td>NaN</td>\n",
       "      <td>NaN</td>\n",
       "      <td>AWQ3I481SOL7</td>\n",
       "      <td>NaN</td>\n",
       "      <td>NaN</td>\n",
       "      <td>GJZRN0OACMDTVG9DA7OXS1IV</td>\n",
       "      <td>NaN</td>\n",
       "      <td>...</td>\n",
       "      <td>92G8CAH6SYLL</td>\n",
       "      <td>NaN</td>\n",
       "      <td>G3GGOIZ3UAPT</td>\n",
       "      <td>XCWXX15THPIX</td>\n",
       "      <td>52RX1WQ8A9XF</td>\n",
       "      <td>NaN</td>\n",
       "      <td>NaN</td>\n",
       "      <td>8U48GVBAX3SH52RX1WQ8A9XF</td>\n",
       "      <td>IKS50DV1YCNZZT1CGIO14N1M</td>\n",
       "      <td>NaN</td>\n",
       "    </tr>\n",
       "    <tr>\n",
       "      <th>abrasive cleaner</th>\n",
       "      <td>NaN</td>\n",
       "      <td>NaN</td>\n",
       "      <td>NaN</td>\n",
       "      <td>NaN</td>\n",
       "      <td>NaN</td>\n",
       "      <td>NaN</td>\n",
       "      <td>NaN</td>\n",
       "      <td>NaN</td>\n",
       "      <td>NaN</td>\n",
       "      <td>NaN</td>\n",
       "      <td>...</td>\n",
       "      <td>NaN</td>\n",
       "      <td>NaN</td>\n",
       "      <td>NaN</td>\n",
       "      <td>NaN</td>\n",
       "      <td>NaN</td>\n",
       "      <td>NaN</td>\n",
       "      <td>NaN</td>\n",
       "      <td>NaN</td>\n",
       "      <td>NaN</td>\n",
       "      <td>NaN</td>\n",
       "    </tr>\n",
       "    <tr>\n",
       "      <th>artif. sweetener</th>\n",
       "      <td>NaN</td>\n",
       "      <td>NaN</td>\n",
       "      <td>NaN</td>\n",
       "      <td>NaN</td>\n",
       "      <td>NaN</td>\n",
       "      <td>NaN</td>\n",
       "      <td>NaN</td>\n",
       "      <td>NaN</td>\n",
       "      <td>NaN</td>\n",
       "      <td>NaN</td>\n",
       "      <td>...</td>\n",
       "      <td>NaN</td>\n",
       "      <td>NaN</td>\n",
       "      <td>NaN</td>\n",
       "      <td>NaN</td>\n",
       "      <td>NaN</td>\n",
       "      <td>NaN</td>\n",
       "      <td>NaN</td>\n",
       "      <td>NaN</td>\n",
       "      <td>NaN</td>\n",
       "      <td>NaN</td>\n",
       "    </tr>\n",
       "    <tr>\n",
       "      <th>baby cosmetics</th>\n",
       "      <td>NaN</td>\n",
       "      <td>NaN</td>\n",
       "      <td>NaN</td>\n",
       "      <td>NaN</td>\n",
       "      <td>NaN</td>\n",
       "      <td>NaN</td>\n",
       "      <td>NaN</td>\n",
       "      <td>NaN</td>\n",
       "      <td>NaN</td>\n",
       "      <td>NaN</td>\n",
       "      <td>...</td>\n",
       "      <td>NaN</td>\n",
       "      <td>NaN</td>\n",
       "      <td>NaN</td>\n",
       "      <td>NaN</td>\n",
       "      <td>NaN</td>\n",
       "      <td>NaN</td>\n",
       "      <td>NaN</td>\n",
       "      <td>NaN</td>\n",
       "      <td>NaN</td>\n",
       "      <td>NaN</td>\n",
       "    </tr>\n",
       "    <tr>\n",
       "      <th>...</th>\n",
       "      <td>...</td>\n",
       "      <td>...</td>\n",
       "      <td>...</td>\n",
       "      <td>...</td>\n",
       "      <td>...</td>\n",
       "      <td>...</td>\n",
       "      <td>...</td>\n",
       "      <td>...</td>\n",
       "      <td>...</td>\n",
       "      <td>...</td>\n",
       "      <td>...</td>\n",
       "      <td>...</td>\n",
       "      <td>...</td>\n",
       "      <td>...</td>\n",
       "      <td>...</td>\n",
       "      <td>...</td>\n",
       "      <td>...</td>\n",
       "      <td>...</td>\n",
       "      <td>...</td>\n",
       "      <td>...</td>\n",
       "      <td>...</td>\n",
       "    </tr>\n",
       "    <tr>\n",
       "      <th>whipped/sour cream</th>\n",
       "      <td>JWHJ93QGOKVX730XG4F865YL</td>\n",
       "      <td>T5HNQIME7MUX</td>\n",
       "      <td>KUJAWX2Y34A5B7FSAN4CC5DJNJI7TUIGEIXL</td>\n",
       "      <td>NU99JSW5FAGV</td>\n",
       "      <td>XWRWQ7OGP1M4</td>\n",
       "      <td>KQKZ5QJ2DX4F</td>\n",
       "      <td>NaN</td>\n",
       "      <td>NaN</td>\n",
       "      <td>S6HTJSOQCIZTYC1PMFJJ71MM</td>\n",
       "      <td>NaN</td>\n",
       "      <td>...</td>\n",
       "      <td>92G8CAH6SYLL</td>\n",
       "      <td>H74MEHEWGHUR</td>\n",
       "      <td>R05DWE0WQ3QCZ3EJ7OLVBT55M722MPITBY07QJ7BSEZEXTDA</td>\n",
       "      <td>NaN</td>\n",
       "      <td>YEKLOC3BBD6A</td>\n",
       "      <td>QBUS9NZY39BE</td>\n",
       "      <td>TIAMKGHIMVX9</td>\n",
       "      <td>NaN</td>\n",
       "      <td>NaN</td>\n",
       "      <td>FLUJI1KLVGJ9</td>\n",
       "    </tr>\n",
       "    <tr>\n",
       "      <th>white bread</th>\n",
       "      <td>NaN</td>\n",
       "      <td>3RYPXAQGHMWN</td>\n",
       "      <td>0U9V5MZXYQG9</td>\n",
       "      <td>G1WV6BNCZCWIMWRACVEYCJNMG2CQDLTQ1VQZ</td>\n",
       "      <td>ARWMKF512X0N</td>\n",
       "      <td>NaN</td>\n",
       "      <td>NaN</td>\n",
       "      <td>NaN</td>\n",
       "      <td>NaN</td>\n",
       "      <td>NaN</td>\n",
       "      <td>...</td>\n",
       "      <td>NaN</td>\n",
       "      <td>NaN</td>\n",
       "      <td>FDOPEVEN4U19AWQ3I481SOL7</td>\n",
       "      <td>NaN</td>\n",
       "      <td>NaN</td>\n",
       "      <td>NaN</td>\n",
       "      <td>NaN</td>\n",
       "      <td>NaN</td>\n",
       "      <td>NaN</td>\n",
       "      <td>NaN</td>\n",
       "    </tr>\n",
       "    <tr>\n",
       "      <th>whole milk</th>\n",
       "      <td>PD3YIDHKOY674E0EO8NZKUE3</td>\n",
       "      <td>3BZCCTONI2FZ</td>\n",
       "      <td>597IELVVIOQQ</td>\n",
       "      <td>QDNQQRTJJ9V3ZV4I7HDDL42WO14ELB0ZSPXFL47Z5BT9DZ...</td>\n",
       "      <td>3HVVV3DQUFOIJ0EMTPM99GDV</td>\n",
       "      <td>9ZBFPRHOW4KB5IQWT3MWQ3WF</td>\n",
       "      <td>MPPEUCUN9W4R</td>\n",
       "      <td>206QRMTD4LG56O788MD2ZZS999RDCZPWM4OLS58IR7NV57HI</td>\n",
       "      <td>XAO4HUXF5W96AHTR72FDLIDB</td>\n",
       "      <td>810T1BFUWZYBSZO8LSCLJK2D</td>\n",
       "      <td>...</td>\n",
       "      <td>NaN</td>\n",
       "      <td>PDRL620G7TO6</td>\n",
       "      <td>GRX0QI2ZP7TAMGYSEA0XNEMLDJM7SDSR2JAV8NESBOU2FJ...</td>\n",
       "      <td>US27OPZ2JNT0</td>\n",
       "      <td>C3V0B6L69J1F</td>\n",
       "      <td>8GIW5721M8D4GGLXY7V22SAU</td>\n",
       "      <td>IWE7JG9H3CE17VFOEFV4HNIKJS4R1I2PUM8C</td>\n",
       "      <td>GIXQ0M8UZBNC5WWU3VQQDMXP5NBN9YQGOWCMF1N8H1SYTBOL</td>\n",
       "      <td>790SMRGPK7Z7JNP39NE4NFECX97LCXSXT7XAT9HBCN8FL3...</td>\n",
       "      <td>XLD2BAGCXC7GDCQIRWQ5SA89NV334BJ2XM2Z</td>\n",
       "    </tr>\n",
       "    <tr>\n",
       "      <th>yogurt</th>\n",
       "      <td>105DJC42T2LK3K6D758U6XEWU6TXWMHCW0DHKCTZ72QHMDFI</td>\n",
       "      <td>0FM3ZLTTNMXOQGIENOPFX9RCT9XLUCHJU7E8</td>\n",
       "      <td>6WH86NDADMHW</td>\n",
       "      <td>TYQ879IGLQVXUS54BERUVVXMNU99JSW5FAGV</td>\n",
       "      <td>NaN</td>\n",
       "      <td>NaN</td>\n",
       "      <td>HIHEZ99UA2F1</td>\n",
       "      <td>W2Y55AY3LQHOP6CCIY5S4KRA</td>\n",
       "      <td>5AYLXX39O2I1</td>\n",
       "      <td>FF4PB2JBS0CSHFHA82BV2AC146TVYI9F7RLISZO8LSCLJK2D</td>\n",
       "      <td>...</td>\n",
       "      <td>ZRLWQ6JYWNUV8PQTK0864Z90</td>\n",
       "      <td>1ALAUM5W1DFZ</td>\n",
       "      <td>GRX0QI2ZP7TARN9CQQ6PKA5G</td>\n",
       "      <td>2ADXFIGGOBAX</td>\n",
       "      <td>NaN</td>\n",
       "      <td>NaN</td>\n",
       "      <td>PT7YA61AP4G8</td>\n",
       "      <td>7B48HR5D2ECZ4EGZY6K9CNQA</td>\n",
       "      <td>F06XLOF4L5VXJNP39NE4NFEC</td>\n",
       "      <td>JOS88LWNW3ST4QJML7MXGDR5</td>\n",
       "    </tr>\n",
       "    <tr>\n",
       "      <th>zwieback</th>\n",
       "      <td>NaN</td>\n",
       "      <td>NaN</td>\n",
       "      <td>NaN</td>\n",
       "      <td>NaN</td>\n",
       "      <td>NaN</td>\n",
       "      <td>NaN</td>\n",
       "      <td>NaN</td>\n",
       "      <td>NaN</td>\n",
       "      <td>NaN</td>\n",
       "      <td>NaN</td>\n",
       "      <td>...</td>\n",
       "      <td>NaN</td>\n",
       "      <td>NaN</td>\n",
       "      <td>NaN</td>\n",
       "      <td>NaN</td>\n",
       "      <td>NaN</td>\n",
       "      <td>NaN</td>\n",
       "      <td>NaN</td>\n",
       "      <td>NaN</td>\n",
       "      <td>NaN</td>\n",
       "      <td>NaN</td>\n",
       "    </tr>\n",
       "  </tbody>\n",
       "</table>\n",
       "<p>137 rows × 728 columns</p>\n",
       "</div>"
      ],
      "text/plain": [
       "Date                                                         2019-01-01  \\\n",
       "Product                                                                   \n",
       "Instant food products                          D3A6L7CDR88RKCTZ72QHMDFI   \n",
       "UHT-milk                                                            NaN   \n",
       "abrasive cleaner                                                    NaN   \n",
       "artif. sweetener                                                    NaN   \n",
       "baby cosmetics                                                      NaN   \n",
       "...                                                                 ...   \n",
       "whipped/sour cream                             JWHJ93QGOKVX730XG4F865YL   \n",
       "white bread                                                         NaN   \n",
       "whole milk                                     PD3YIDHKOY674E0EO8NZKUE3   \n",
       "yogurt                 105DJC42T2LK3K6D758U6XEWU6TXWMHCW0DHKCTZ72QHMDFI   \n",
       "zwieback                                                            NaN   \n",
       "\n",
       "Date                                             2019-01-02  \\\n",
       "Product                                                       \n",
       "Instant food products                                   NaN   \n",
       "UHT-milk                                                NaN   \n",
       "abrasive cleaner                                        NaN   \n",
       "artif. sweetener                                        NaN   \n",
       "baby cosmetics                                          NaN   \n",
       "...                                                     ...   \n",
       "whipped/sour cream                             T5HNQIME7MUX   \n",
       "white bread                                    3RYPXAQGHMWN   \n",
       "whole milk                                     3BZCCTONI2FZ   \n",
       "yogurt                 0FM3ZLTTNMXOQGIENOPFX9RCT9XLUCHJU7E8   \n",
       "zwieback                                                NaN   \n",
       "\n",
       "Date                                             2019-01-03  \\\n",
       "Product                                                       \n",
       "Instant food products                                   NaN   \n",
       "UHT-milk                                                NaN   \n",
       "abrasive cleaner                                        NaN   \n",
       "artif. sweetener                                        NaN   \n",
       "baby cosmetics                                          NaN   \n",
       "...                                                     ...   \n",
       "whipped/sour cream     KUJAWX2Y34A5B7FSAN4CC5DJNJI7TUIGEIXL   \n",
       "white bread                                    0U9V5MZXYQG9   \n",
       "whole milk                                     597IELVVIOQQ   \n",
       "yogurt                                         6WH86NDADMHW   \n",
       "zwieback                                                NaN   \n",
       "\n",
       "Date                                                          2019-01-04  \\\n",
       "Product                                                                    \n",
       "Instant food products                                                NaN   \n",
       "UHT-milk                                                             NaN   \n",
       "abrasive cleaner                                                     NaN   \n",
       "artif. sweetener                                                     NaN   \n",
       "baby cosmetics                                                       NaN   \n",
       "...                                                                  ...   \n",
       "whipped/sour cream                                          NU99JSW5FAGV   \n",
       "white bread                         G1WV6BNCZCWIMWRACVEYCJNMG2CQDLTQ1VQZ   \n",
       "whole milk             QDNQQRTJJ9V3ZV4I7HDDL42WO14ELB0ZSPXFL47Z5BT9DZ...   \n",
       "yogurt                              TYQ879IGLQVXUS54BERUVVXMNU99JSW5FAGV   \n",
       "zwieback                                                             NaN   \n",
       "\n",
       "Date                                 2019-01-05                2019-01-06  \\\n",
       "Product                                                                     \n",
       "Instant food products                       NaN                       NaN   \n",
       "UHT-milk                                    NaN              AWQ3I481SOL7   \n",
       "abrasive cleaner                            NaN                       NaN   \n",
       "artif. sweetener                            NaN                       NaN   \n",
       "baby cosmetics                              NaN                       NaN   \n",
       "...                                         ...                       ...   \n",
       "whipped/sour cream                 XWRWQ7OGP1M4              KQKZ5QJ2DX4F   \n",
       "white bread                        ARWMKF512X0N                       NaN   \n",
       "whole milk             3HVVV3DQUFOIJ0EMTPM99GDV  9ZBFPRHOW4KB5IQWT3MWQ3WF   \n",
       "yogurt                                      NaN                       NaN   \n",
       "zwieback                                    NaN                       NaN   \n",
       "\n",
       "Date                     2019-01-07  \\\n",
       "Product                               \n",
       "Instant food products           NaN   \n",
       "UHT-milk                        NaN   \n",
       "abrasive cleaner                NaN   \n",
       "artif. sweetener                NaN   \n",
       "baby cosmetics                  NaN   \n",
       "...                             ...   \n",
       "whipped/sour cream              NaN   \n",
       "white bread                     NaN   \n",
       "whole milk             MPPEUCUN9W4R   \n",
       "yogurt                 HIHEZ99UA2F1   \n",
       "zwieback                        NaN   \n",
       "\n",
       "Date                                                         2019-01-08  \\\n",
       "Product                                                                   \n",
       "Instant food products                                               NaN   \n",
       "UHT-milk                                                            NaN   \n",
       "abrasive cleaner                                                    NaN   \n",
       "artif. sweetener                                                    NaN   \n",
       "baby cosmetics                                                      NaN   \n",
       "...                                                                 ...   \n",
       "whipped/sour cream                                                  NaN   \n",
       "white bread                                                         NaN   \n",
       "whole milk             206QRMTD4LG56O788MD2ZZS999RDCZPWM4OLS58IR7NV57HI   \n",
       "yogurt                                         W2Y55AY3LQHOP6CCIY5S4KRA   \n",
       "zwieback                                                            NaN   \n",
       "\n",
       "Date                                 2019-01-09  \\\n",
       "Product                                           \n",
       "Instant food products                       NaN   \n",
       "UHT-milk               GJZRN0OACMDTVG9DA7OXS1IV   \n",
       "abrasive cleaner                            NaN   \n",
       "artif. sweetener                            NaN   \n",
       "baby cosmetics                              NaN   \n",
       "...                                         ...   \n",
       "whipped/sour cream     S6HTJSOQCIZTYC1PMFJJ71MM   \n",
       "white bread                                 NaN   \n",
       "whole milk             XAO4HUXF5W96AHTR72FDLIDB   \n",
       "yogurt                             5AYLXX39O2I1   \n",
       "zwieback                                    NaN   \n",
       "\n",
       "Date                                                         2019-01-10  ...  \\\n",
       "Product                                                                  ...   \n",
       "Instant food products                                               NaN  ...   \n",
       "UHT-milk                                                            NaN  ...   \n",
       "abrasive cleaner                                                    NaN  ...   \n",
       "artif. sweetener                                                    NaN  ...   \n",
       "baby cosmetics                                                      NaN  ...   \n",
       "...                                                                 ...  ...   \n",
       "whipped/sour cream                                                  NaN  ...   \n",
       "white bread                                                         NaN  ...   \n",
       "whole milk                                     810T1BFUWZYBSZO8LSCLJK2D  ...   \n",
       "yogurt                 FF4PB2JBS0CSHFHA82BV2AC146TVYI9F7RLISZO8LSCLJK2D  ...   \n",
       "zwieback                                                            NaN  ...   \n",
       "\n",
       "Date                                 2020-12-20    2020-12-21  \\\n",
       "Product                                                         \n",
       "Instant food products                       NaN           NaN   \n",
       "UHT-milk                           92G8CAH6SYLL           NaN   \n",
       "abrasive cleaner                            NaN           NaN   \n",
       "artif. sweetener                            NaN           NaN   \n",
       "baby cosmetics                              NaN           NaN   \n",
       "...                                         ...           ...   \n",
       "whipped/sour cream                 92G8CAH6SYLL  H74MEHEWGHUR   \n",
       "white bread                                 NaN           NaN   \n",
       "whole milk                                  NaN  PDRL620G7TO6   \n",
       "yogurt                 ZRLWQ6JYWNUV8PQTK0864Z90  1ALAUM5W1DFZ   \n",
       "zwieback                                    NaN           NaN   \n",
       "\n",
       "Date                                                          2020-12-22  \\\n",
       "Product                                                                    \n",
       "Instant food products                                                NaN   \n",
       "UHT-milk                                                    G3GGOIZ3UAPT   \n",
       "abrasive cleaner                                                     NaN   \n",
       "artif. sweetener                                                     NaN   \n",
       "baby cosmetics                                                       NaN   \n",
       "...                                                                  ...   \n",
       "whipped/sour cream      R05DWE0WQ3QCZ3EJ7OLVBT55M722MPITBY07QJ7BSEZEXTDA   \n",
       "white bread                                     FDOPEVEN4U19AWQ3I481SOL7   \n",
       "whole milk             GRX0QI2ZP7TAMGYSEA0XNEMLDJM7SDSR2JAV8NESBOU2FJ...   \n",
       "yogurt                                          GRX0QI2ZP7TARN9CQQ6PKA5G   \n",
       "zwieback                                                             NaN   \n",
       "\n",
       "Date                     2020-12-23    2020-12-24                2020-12-25  \\\n",
       "Product                                                                       \n",
       "Instant food products           NaN           NaN              6MSD4L4T9LTW   \n",
       "UHT-milk               XCWXX15THPIX  52RX1WQ8A9XF                       NaN   \n",
       "abrasive cleaner                NaN           NaN                       NaN   \n",
       "artif. sweetener                NaN           NaN                       NaN   \n",
       "baby cosmetics                  NaN           NaN                       NaN   \n",
       "...                             ...           ...                       ...   \n",
       "whipped/sour cream              NaN  YEKLOC3BBD6A              QBUS9NZY39BE   \n",
       "white bread                     NaN           NaN                       NaN   \n",
       "whole milk             US27OPZ2JNT0  C3V0B6L69J1F  8GIW5721M8D4GGLXY7V22SAU   \n",
       "yogurt                 2ADXFIGGOBAX           NaN                       NaN   \n",
       "zwieback                        NaN           NaN                       NaN   \n",
       "\n",
       "Date                                             2020-12-26  \\\n",
       "Product                                                       \n",
       "Instant food products                                   NaN   \n",
       "UHT-milk                                                NaN   \n",
       "abrasive cleaner                                        NaN   \n",
       "artif. sweetener                                        NaN   \n",
       "baby cosmetics                                          NaN   \n",
       "...                                                     ...   \n",
       "whipped/sour cream                             TIAMKGHIMVX9   \n",
       "white bread                                             NaN   \n",
       "whole milk             IWE7JG9H3CE17VFOEFV4HNIKJS4R1I2PUM8C   \n",
       "yogurt                                         PT7YA61AP4G8   \n",
       "zwieback                                                NaN   \n",
       "\n",
       "Date                                                         2020-12-27  \\\n",
       "Product                                                                   \n",
       "Instant food products                                               NaN   \n",
       "UHT-milk                                       8U48GVBAX3SH52RX1WQ8A9XF   \n",
       "abrasive cleaner                                                    NaN   \n",
       "artif. sweetener                                                    NaN   \n",
       "baby cosmetics                                                      NaN   \n",
       "...                                                                 ...   \n",
       "whipped/sour cream                                                  NaN   \n",
       "white bread                                                         NaN   \n",
       "whole milk             GIXQ0M8UZBNC5WWU3VQQDMXP5NBN9YQGOWCMF1N8H1SYTBOL   \n",
       "yogurt                                         7B48HR5D2ECZ4EGZY6K9CNQA   \n",
       "zwieback                                                            NaN   \n",
       "\n",
       "Date                                                          2020-12-28  \\\n",
       "Product                                                                    \n",
       "Instant food products                                                NaN   \n",
       "UHT-milk                                        IKS50DV1YCNZZT1CGIO14N1M   \n",
       "abrasive cleaner                                                     NaN   \n",
       "artif. sweetener                                                     NaN   \n",
       "baby cosmetics                                                       NaN   \n",
       "...                                                                  ...   \n",
       "whipped/sour cream                                                   NaN   \n",
       "white bread                                                          NaN   \n",
       "whole milk             790SMRGPK7Z7JNP39NE4NFECX97LCXSXT7XAT9HBCN8FL3...   \n",
       "yogurt                                          F06XLOF4L5VXJNP39NE4NFEC   \n",
       "zwieback                                                             NaN   \n",
       "\n",
       "Date                                             2020-12-29  \n",
       "Product                                                      \n",
       "Instant food products                                   NaN  \n",
       "UHT-milk                                                NaN  \n",
       "abrasive cleaner                                        NaN  \n",
       "artif. sweetener                                        NaN  \n",
       "baby cosmetics                                          NaN  \n",
       "...                                                     ...  \n",
       "whipped/sour cream                             FLUJI1KLVGJ9  \n",
       "white bread                                             NaN  \n",
       "whole milk             XLD2BAGCXC7GDCQIRWQ5SA89NV334BJ2XM2Z  \n",
       "yogurt                             JOS88LWNW3ST4QJML7MXGDR5  \n",
       "zwieback                                                NaN  \n",
       "\n",
       "[137 rows x 728 columns]"
      ]
     },
     "execution_count": 145,
     "metadata": {},
     "output_type": "execute_result"
    }
   ],
   "source": [
    "pd.crosstab(values=basket[\"Customer Id\"], columns=basket[\"Date\"]  , index=basket[\"Product\"],aggfunc=\"sum\")"
   ]
  },
  {
   "cell_type": "code",
   "execution_count": 154,
   "id": "7fc5228e-ac59-46a1-8bd6-ffff1153d686",
   "metadata": {},
   "outputs": [],
   "source": [
    "temp = pd.crosstab(index=[basket[\"Customer Id\"], basket[\"Date\"]], columns= basket[\"Product\"])"
   ]
  },
  {
   "cell_type": "code",
   "execution_count": 158,
   "id": "3970229d-af63-4847-9971-cf9259c39d8c",
   "metadata": {},
   "outputs": [
    {
     "data": {
      "text/plain": [
       "Product\n",
       "whole milk          16.017081\n",
       "other vegetables    12.383922\n",
       "rolls/buns          11.157053\n",
       "soda                 9.848844\n",
       "yogurt               8.710093\n",
       "dtype: float64"
      ]
     },
     "execution_count": 158,
     "metadata": {},
     "output_type": "execute_result"
    }
   ],
   "source": [
    "(temp.sum()*100/len(temp)).nlargest(5)"
   ]
  },
  {
   "cell_type": "code",
   "execution_count": 224,
   "id": "f8e02205-5c55-492d-9f95-dcfa122636b7",
   "metadata": {},
   "outputs": [],
   "source": [
    "supports = temp.sum()/len(temp)"
   ]
  },
  {
   "cell_type": "code",
   "execution_count": 225,
   "id": "5e021608-87f6-4fad-a0c6-4be982ffff8a",
   "metadata": {},
   "outputs": [
    {
     "data": {
      "text/plain": [
       "Product\n",
       "Instant food products    0.004067\n",
       "UHT-milk                 0.021691\n",
       "abrasive cleaner         0.001491\n",
       "artif. sweetener         0.001966\n",
       "baby cosmetics           0.000203\n",
       "                           ...   \n",
       "whipped/sour cream       0.044330\n",
       "white bread              0.024334\n",
       "whole milk               0.160171\n",
       "yogurt                   0.087101\n",
       "zwieback                 0.004067\n",
       "Length: 137, dtype: float64"
      ]
     },
     "execution_count": 225,
     "metadata": {},
     "output_type": "execute_result"
    }
   ],
   "source": [
    "supports"
   ]
  },
  {
   "cell_type": "markdown",
   "id": "1176b824-a79a-43b4-89a5-69dc91e1e12f",
   "metadata": {
    "jp-MarkdownHeadingCollapsed": true,
    "tags": []
   },
   "source": [
    "### confidence"
   ]
  },
  {
   "cell_type": "code",
   "execution_count": 227,
   "id": "000a5039-4adf-43fc-b5d8-84ed47bf9022",
   "metadata": {},
   "outputs": [],
   "source": [
    "high_supports = (supports[supports>=0.01])\n",
    "high_supports_index = high_supports.index\n",
    "temp_high_supports = temp[high_supports_index]"
   ]
  },
  {
   "cell_type": "code",
   "execution_count": 228,
   "id": "f8ce4025-7611-4fd7-b13e-636ec6b132c8",
   "metadata": {},
   "outputs": [],
   "source": [
    "confidence = {}\n",
    "for product in high_supports_index:\n",
    "    t = temp_high_supports[temp_high_supports[product] ==1].drop(product ,axis =1)\n",
    "    tt = t.sum().nlargest(5)/(high_supports[product]*len(temp))\n",
    "    for item in tt.index:\n",
    "        confidence[(product,item)] = tt[item]\n",
    "        \n",
    "    "
   ]
  },
  {
   "cell_type": "code",
   "execution_count": 229,
   "id": "fbb53797-3d23-424f-8417-a0d5fe10bb39",
   "metadata": {},
   "outputs": [
    {
     "data": {
      "text/plain": [
       "[(('bottled beer', 'whole milk'), 0.15781710914454278),\n",
       " (('candy', 'whole milk'), 0.14883720930232558)]"
      ]
     },
     "execution_count": 229,
     "metadata": {},
     "output_type": "execute_result"
    }
   ],
   "source": [
    "sorted(confidence.items() ,key=lambda x:x[1],reverse=True)[:2]"
   ]
  }
 ],
 "metadata": {
  "kernelspec": {
   "display_name": "Python 3",
   "language": "python",
   "name": "python3"
  },
  "language_info": {
   "codemirror_mode": {
    "name": "ipython",
    "version": 3
   },
   "file_extension": ".py",
   "mimetype": "text/x-python",
   "name": "python",
   "nbconvert_exporter": "python",
   "pygments_lexer": "ipython3",
   "version": "3.9.7"
  }
 },
 "nbformat": 4,
 "nbformat_minor": 5
}
