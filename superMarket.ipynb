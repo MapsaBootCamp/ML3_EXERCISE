{
 "cells": [
  {
   "cell_type": "code",
   "execution_count": 53,
   "id": "190641b6-334b-4ab3-bf5d-3bee3bce5fa5",
   "metadata": {},
   "outputs": [],
   "source": [
    "import numpy as np\n",
    "import pandas as pd\n",
    "import scipy as sp\n",
    "import datetime as dt"
   ]
  },
  {
   "cell_type": "code",
   "execution_count": 54,
   "id": "e4cdfcae-d715-4381-892d-fe7dc6dc5a0a",
   "metadata": {},
   "outputs": [],
   "source": [
    "df=pd.read_csv('supermarket.csv')\n"
   ]
  },
  {
   "cell_type": "code",
   "execution_count": 55,
   "id": "1aebcb83-5a50-4df4-9c4a-da490dd14bb2",
   "metadata": {},
   "outputs": [
    {
     "data": {
      "text/plain": [
       "137"
      ]
     },
     "execution_count": 55,
     "metadata": {},
     "output_type": "execute_result"
    }
   ],
   "source": [
    "len(pd.unique(df['Product']))"
   ]
  },
  {
   "cell_type": "code",
   "execution_count": 56,
   "id": "5eaf4b72-3e26-4783-935d-927892a78a41",
   "metadata": {},
   "outputs": [
    {
     "name": "stdout",
     "output_type": "stream",
     "text": [
      "44.93\n"
     ]
    }
   ],
   "source": [
    "df_sellsDay=df.groupby(by=['Date']).size().mean()\n",
    "\n",
    "print('{:.2f}'.format(df_sellsDay))"
   ]
  },
  {
   "cell_type": "code",
   "execution_count": 57,
   "id": "d02fb3d2-a52e-4883-bba4-7fa1ad8dc275",
   "metadata": {},
   "outputs": [
    {
     "data": {
      "text/plain": [
       "whole milk          2363\n",
       "other vegetables    1827\n",
       "rolls/buns          1646\n",
       "soda                1453\n",
       "Name: Product, dtype: int64"
      ]
     },
     "execution_count": 57,
     "metadata": {},
     "output_type": "execute_result"
    }
   ],
   "source": [
    "df['Product'].value_counts().sort_values(ascending=False).head(4)"
   ]
  },
  {
   "cell_type": "code",
   "execution_count": 62,
   "id": "4b84918b-5cb7-4dc3-8fef-8f6c55ed8dd8",
   "metadata": {},
   "outputs": [
    {
     "data": {
      "text/plain": [
       "'Wednesday'"
      ]
     },
     "execution_count": 62,
     "metadata": {},
     "output_type": "execute_result"
    }
   ],
   "source": [
    "df['Date']=pd.to_datetime(df['Date'])\n",
    "df['Date'].dt.day_name().max()\n"
   ]
  },
  {
   "cell_type": "code",
   "execution_count": null,
   "id": "5e692d6d-cb22-4d29-9a4c-fa2e7aa7bac4",
   "metadata": {},
   "outputs": [],
   "source": []
  }
 ],
 "metadata": {
  "kernelspec": {
   "display_name": "Python 3.10.5 64-bit",
   "language": "python",
   "name": "python3"
  },
  "language_info": {
   "codemirror_mode": {
    "name": "ipython",
    "version": 3
   },
   "file_extension": ".py",
   "mimetype": "text/x-python",
   "name": "python",
   "nbconvert_exporter": "python",
   "pygments_lexer": "ipython3",
   "version": "3.10.5"
  },
  "vscode": {
   "interpreter": {
    "hash": "aee8b7b246df8f9039afb4144a1f6fd8d2ca17a180786b69acc140d282b71a49"
   }
  }
 },
 "nbformat": 4,
 "nbformat_minor": 5
}
