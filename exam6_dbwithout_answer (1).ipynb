{
 "cells": [
  {
   "cell_type": "markdown",
   "metadata": {},
   "source": [
    "answer below questions\n",
    "1-what is diffrent betwee select and select distinct\n",
    "\n",
    "2- with sql how do you select all the records from the table named\"Person\" where the value of the column\"FirstName\" starts with an \"a\"\n",
    "\n",
    "3-what does truncate do \n",
    "\n",
    "4-with which sql command you can change table schema ? make an example\n",
    "\n",
    "5-how do you cahnge a record that saved in table\n",
    "\n",
    "6-what is the meaning of pk and foreign key are they diffrent?\n",
    "\n"
   ]
  },
  {
   "cell_type": "markdown",
   "metadata": {},
   "source": [
    "Q1:سلکت تمام ستون ها را از جداول انتخاب میکند . اما سلکت دیستینکت تمام ترکیبات منحصر به فرد داده های ردیف را برای جداول پیدا میکند"
   ]
  },
  {
   "cell_type": "markdown",
   "metadata": {},
   "source": [
    "Q2:SELECT * FROM Person WHERE FirstName LIKE 'a%'"
   ]
  },
  {
   "cell_type": "markdown",
   "metadata": {},
   "source": [
    "Q3:برای حذف داده ها برای تمام داده های جدول است ولی خود جدول را حذف نمیکند و تعداد ردیف های حذف شده از جدول را بر نمیگرداند"
   ]
  },
  {
   "cell_type": "markdown",
   "metadata": {},
   "source": [
    "Q4:with ALTER TABLE\n",
    "example:\n",
    "ALTER TABLE table_name\n",
    "ADD new_column_name column_definition"
   ]
  },
  {
   "cell_type": "markdown",
   "metadata": {},
   "source": [
    "Q5:with update command\n",
    "example:\n",
    "UPDATE table_name\n",
    "SET col1=val1, col2=val2 WHERE condition"
   ]
  },
  {
   "cell_type": "markdown",
   "metadata": {},
   "source": [
    "Q6:برای اطمینان از منحصر به فرد بودن داده های ستون خاص استفاده میشود و جدول فقط یک کلید اصلی را مجاز می کند:primary key\n",
    "یک ستون یا گروهی از ستون ها است که یک رابطه ای بین داده های دو جدول ایجاد میکند:Foreign key"
   ]
  },
  {
   "cell_type": "markdown",
   "metadata": {},
   "source": [
    "## from calss\n",
    "#### fill in the ..... blanks\n"
   ]
  },
  {
   "cell_type": "code",
   "execution_count": 165,
   "metadata": {},
   "outputs": [],
   "source": [
    "import sqlite3\n",
    "conn = sqlite3.connect(\"titanic.db\")\n",
    "curs = conn.cursor()\n",
    "curs.execute(\"SELECT name FROM sqlite_master WHERE type='table';\")\n",
    "print(curs.fetchmany(2))\n",
    "curs.execute(\"UPDATE titanic SET IsReverend = 0 WHERE Name NOT LIKE '%Rev%'\")\n",
    "conn.commit()"
   ]
  },
  {
   "cell_type": "code",
   "execution_count": 166,
   "metadata": {},
   "outputs": [],
   "source": [
    "import psycopg2\n",
    "import psycopg2.extras\n",
    "import pandas as pd\n",
    "\n",
    "# Connect to your postgres DB\n",
    "conn = psycopg2.connect(\n",
    "    host=\"localhost\",\n",
    "    dbname=\"ml\",\n",
    "    user=\"mapsa\",\n",
    "    password=\"mapsa1234\")\n",
    "\n",
    "# pandas dataframe\n",
    "# df = pd.read_sql_query(\"SELECT * FROM users\", conn)\n",
    "\n",
    "# Open a cursor to perform database operations\n",
    "cur = conn.cursor(cursor_factory=psycopg2.extras.DictCursor)\n",
    "# cur = conn.cursor()\n",
    "\n",
    "\n",
    "# find users\n",
    "cur.execute(\"SELECT username FROM users\")"
   ]
  },
  {
   "cell_type": "markdown",
   "metadata": {
    "id": "OPWpWSXHJTSz"
   },
   "source": [
    "### sqlalchemy is big orm i want you use peewe orm that give you a hand in making queries\n",
    "1-use it to make sqlite database with name and day(date kind)scheme that named peewedb.db and create it"
   ]
  },
  {
   "cell_type": "code",
   "execution_count": 1,
   "metadata": {},
   "outputs": [
    {
     "name": "stdout",
     "output_type": "stream",
     "text": [
      "Collecting peewee\n",
      "  Downloading peewee-3.15.4.tar.gz (860 kB)\n",
      "Building wheels for collected packages: peewee\n",
      "  Building wheel for peewee (setup.py): started\n",
      "  Building wheel for peewee (setup.py): finished with status 'done'\n",
      "  Created wheel for peewee: filename=peewee-3.15.4-py3-none-any.whl size=134777 sha256=38b33b3c99c5d250bcf3193f06a78406f04dab3732aa682bc42acc629a2e7e8b\n",
      "  Stored in directory: c:\\users\\sara safi\\appdata\\local\\pip\\cache\\wheels\\85\\86\\97\\f8cb63cd8062bcb1de3973a30bb2629be75d97a413a620022f\n",
      "Successfully built peewee\n",
      "Installing collected packages: peewee\n",
      "Successfully installed peewee-3.15.4\n"
     ]
    }
   ],
   "source": [
    "!pip install peewee"
   ]
  },
  {
   "cell_type": "code",
   "execution_count": 167,
   "metadata": {},
   "outputs": [],
   "source": [
    "import peewee\n",
    "from datetime import date"
   ]
  },
  {
   "cell_type": "code",
   "execution_count": 168,
   "metadata": {},
   "outputs": [
    {
     "name": "stdout",
     "output_type": "stream",
     "text": [
      "<peewee.SqliteDatabase object at 0x00000018FB769040>\n"
     ]
    }
   ],
   "source": [
    "db = SqliteDatabase('peewedb.db')\n",
    "print(db)"
   ]
  },
  {
   "cell_type": "code",
   "execution_count": 169,
   "metadata": {},
   "outputs": [],
   "source": [
    "class Person(peewee.Model):\n",
    "    name = peewee.CharField(primary_key=True)\n",
    "    day= peewee.DateField()\n",
    "    class Meta:\n",
    "    \n",
    "        database = db\n",
    "        db_table='Person'\n",
    "        "
   ]
  },
  {
   "cell_type": "code",
   "execution_count": 170,
   "metadata": {},
   "outputs": [
    {
     "data": {
      "text/plain": [
       "True"
      ]
     },
     "execution_count": 170,
     "metadata": {},
     "output_type": "execute_result"
    }
   ],
   "source": [
    "db.connect()"
   ]
  },
  {
   "cell_type": "code",
   "execution_count": 171,
   "metadata": {},
   "outputs": [],
   "source": [
    "db.create_tables([Person]) \n"
   ]
  },
  {
   "cell_type": "markdown",
   "metadata": {},
   "source": [
    "2- add two row in your database first on is (name=azaddel and day= (1991,2,14) and second one is (name=yourname, day=yourbirthday) and save it to peewedb datbase in person table"
   ]
  },
  {
   "cell_type": "code",
   "execution_count": 175,
   "metadata": {},
   "outputs": [],
   "source": [
    "rows = [\n",
    "    {\"name\": \"azaddel\", \"day\":date(1991,2,14)},\n",
    "    {\"name\": \"Sara\", \"day\": date(1992,8,23)}]\n",
    "p=Person.insert_many(rows).execute()\n"
   ]
  },
  {
   "cell_type": "markdown",
   "metadata": {},
   "source": [
    "3- filter the table with rows that their name is equal to your name "
   ]
  },
  {
   "cell_type": "code",
   "execution_count": 176,
   "metadata": {},
   "outputs": [
    {
     "name": "stdout",
     "output_type": "stream",
     "text": [
      "Sara\n"
     ]
    }
   ],
   "source": [
    "#me.name\n",
    "rows=Person.select(Person.name).where(Person.name .contains('Sara')).get()\n",
    "print(rows)"
   ]
  },
  {
   "cell_type": "code",
   "execution_count": null,
   "metadata": {},
   "outputs": [],
   "source": []
  }
 ],
 "metadata": {
  "colab": {
   "provenance": []
  },
  "kernelspec": {
   "display_name": "Python 3",
   "language": "python",
   "name": "python3"
  },
  "language_info": {
   "codemirror_mode": {
    "name": "ipython",
    "version": 3
   },
   "file_extension": ".py",
   "mimetype": "text/x-python",
   "name": "python",
   "nbconvert_exporter": "python",
   "pygments_lexer": "ipython3",
   "version": "3.8.5"
  }
 },
 "nbformat": 4,
 "nbformat_minor": 1
}
