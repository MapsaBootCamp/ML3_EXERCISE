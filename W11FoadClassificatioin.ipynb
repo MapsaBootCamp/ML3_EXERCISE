{
 "cells": [
  {
   "cell_type": "code",
   "execution_count": 1,
   "metadata": {},
   "outputs": [],
   "source": [
    "import numpy as np\n",
    "import pandas as pd\n",
    "import matplotlib.pyplot as plt\n",
    "import seaborn as sns\n",
    "import math"
   ]
  },
  {
   "cell_type": "code",
   "execution_count": 199,
   "metadata": {},
   "outputs": [],
   "source": [
    "dfm=pd.read_csv('hepatitis.data' )\n",
    "col=('Class AGE SEX STEROID ANTIVIRALS FATIGUE MALAISE ANOREXIA LIVERBIG LIVERFIRM SPLEEN SPIDERS ASCITES VARICES BILIRUBIN PHOSPHATE SGOT ALBUMIN PROTIME HISTOLOGY').split()\n",
    "dfm.columns=col"
   ]
  },
  {
   "cell_type": "code",
   "execution_count": 200,
   "metadata": {},
   "outputs": [
    {
     "data": {
      "text/html": [
       "<div>\n",
       "<style scoped>\n",
       "    .dataframe tbody tr th:only-of-type {\n",
       "        vertical-align: middle;\n",
       "    }\n",
       "\n",
       "    .dataframe tbody tr th {\n",
       "        vertical-align: top;\n",
       "    }\n",
       "\n",
       "    .dataframe thead th {\n",
       "        text-align: right;\n",
       "    }\n",
       "</style>\n",
       "<table border=\"1\" class=\"dataframe\">\n",
       "  <thead>\n",
       "    <tr style=\"text-align: right;\">\n",
       "      <th></th>\n",
       "      <th>Class</th>\n",
       "      <th>AGE</th>\n",
       "      <th>SEX</th>\n",
       "      <th>STEROID</th>\n",
       "      <th>ANTIVIRALS</th>\n",
       "      <th>FATIGUE</th>\n",
       "      <th>MALAISE</th>\n",
       "      <th>ANOREXIA</th>\n",
       "      <th>LIVERBIG</th>\n",
       "      <th>LIVERFIRM</th>\n",
       "      <th>SPLEEN</th>\n",
       "      <th>SPIDERS</th>\n",
       "      <th>ASCITES</th>\n",
       "      <th>VARICES</th>\n",
       "      <th>BILIRUBIN</th>\n",
       "      <th>PHOSPHATE</th>\n",
       "      <th>SGOT</th>\n",
       "      <th>ALBUMIN</th>\n",
       "      <th>PROTIME</th>\n",
       "      <th>HISTOLOGY</th>\n",
       "    </tr>\n",
       "  </thead>\n",
       "  <tbody>\n",
       "    <tr>\n",
       "      <th>0</th>\n",
       "      <td>2</td>\n",
       "      <td>50</td>\n",
       "      <td>1</td>\n",
       "      <td>1</td>\n",
       "      <td>2</td>\n",
       "      <td>1</td>\n",
       "      <td>2</td>\n",
       "      <td>2</td>\n",
       "      <td>1</td>\n",
       "      <td>2</td>\n",
       "      <td>2</td>\n",
       "      <td>2</td>\n",
       "      <td>2</td>\n",
       "      <td>2</td>\n",
       "      <td>0.90</td>\n",
       "      <td>135</td>\n",
       "      <td>42</td>\n",
       "      <td>3.5</td>\n",
       "      <td>?</td>\n",
       "      <td>1</td>\n",
       "    </tr>\n",
       "    <tr>\n",
       "      <th>1</th>\n",
       "      <td>2</td>\n",
       "      <td>78</td>\n",
       "      <td>1</td>\n",
       "      <td>2</td>\n",
       "      <td>2</td>\n",
       "      <td>1</td>\n",
       "      <td>2</td>\n",
       "      <td>2</td>\n",
       "      <td>2</td>\n",
       "      <td>2</td>\n",
       "      <td>2</td>\n",
       "      <td>2</td>\n",
       "      <td>2</td>\n",
       "      <td>2</td>\n",
       "      <td>0.70</td>\n",
       "      <td>96</td>\n",
       "      <td>32</td>\n",
       "      <td>4.0</td>\n",
       "      <td>?</td>\n",
       "      <td>1</td>\n",
       "    </tr>\n",
       "    <tr>\n",
       "      <th>2</th>\n",
       "      <td>2</td>\n",
       "      <td>31</td>\n",
       "      <td>1</td>\n",
       "      <td>?</td>\n",
       "      <td>1</td>\n",
       "      <td>2</td>\n",
       "      <td>2</td>\n",
       "      <td>2</td>\n",
       "      <td>2</td>\n",
       "      <td>2</td>\n",
       "      <td>2</td>\n",
       "      <td>2</td>\n",
       "      <td>2</td>\n",
       "      <td>2</td>\n",
       "      <td>0.70</td>\n",
       "      <td>46</td>\n",
       "      <td>52</td>\n",
       "      <td>4.0</td>\n",
       "      <td>80</td>\n",
       "      <td>1</td>\n",
       "    </tr>\n",
       "    <tr>\n",
       "      <th>3</th>\n",
       "      <td>2</td>\n",
       "      <td>34</td>\n",
       "      <td>1</td>\n",
       "      <td>2</td>\n",
       "      <td>2</td>\n",
       "      <td>2</td>\n",
       "      <td>2</td>\n",
       "      <td>2</td>\n",
       "      <td>2</td>\n",
       "      <td>2</td>\n",
       "      <td>2</td>\n",
       "      <td>2</td>\n",
       "      <td>2</td>\n",
       "      <td>2</td>\n",
       "      <td>1.00</td>\n",
       "      <td>?</td>\n",
       "      <td>200</td>\n",
       "      <td>4.0</td>\n",
       "      <td>?</td>\n",
       "      <td>1</td>\n",
       "    </tr>\n",
       "    <tr>\n",
       "      <th>4</th>\n",
       "      <td>2</td>\n",
       "      <td>34</td>\n",
       "      <td>1</td>\n",
       "      <td>2</td>\n",
       "      <td>2</td>\n",
       "      <td>2</td>\n",
       "      <td>2</td>\n",
       "      <td>2</td>\n",
       "      <td>2</td>\n",
       "      <td>2</td>\n",
       "      <td>2</td>\n",
       "      <td>2</td>\n",
       "      <td>2</td>\n",
       "      <td>2</td>\n",
       "      <td>0.90</td>\n",
       "      <td>95</td>\n",
       "      <td>28</td>\n",
       "      <td>4.0</td>\n",
       "      <td>75</td>\n",
       "      <td>1</td>\n",
       "    </tr>\n",
       "    <tr>\n",
       "      <th>5</th>\n",
       "      <td>1</td>\n",
       "      <td>51</td>\n",
       "      <td>1</td>\n",
       "      <td>1</td>\n",
       "      <td>2</td>\n",
       "      <td>1</td>\n",
       "      <td>2</td>\n",
       "      <td>1</td>\n",
       "      <td>2</td>\n",
       "      <td>2</td>\n",
       "      <td>1</td>\n",
       "      <td>1</td>\n",
       "      <td>2</td>\n",
       "      <td>2</td>\n",
       "      <td>?</td>\n",
       "      <td>?</td>\n",
       "      <td>?</td>\n",
       "      <td>?</td>\n",
       "      <td>?</td>\n",
       "      <td>1</td>\n",
       "    </tr>\n",
       "  </tbody>\n",
       "</table>\n",
       "</div>"
      ],
      "text/plain": [
       "   Class  AGE  SEX STEROID  ANTIVIRALS FATIGUE MALAISE ANOREXIA LIVERBIG  \\\n",
       "0      2   50    1       1           2       1       2        2        1   \n",
       "1      2   78    1       2           2       1       2        2        2   \n",
       "2      2   31    1       ?           1       2       2        2        2   \n",
       "3      2   34    1       2           2       2       2        2        2   \n",
       "4      2   34    1       2           2       2       2        2        2   \n",
       "5      1   51    1       1           2       1       2        1        2   \n",
       "\n",
       "  LIVERFIRM SPLEEN SPIDERS ASCITES VARICES BILIRUBIN PHOSPHATE SGOT ALBUMIN  \\\n",
       "0         2      2       2       2       2      0.90       135   42     3.5   \n",
       "1         2      2       2       2       2      0.70        96   32     4.0   \n",
       "2         2      2       2       2       2      0.70        46   52     4.0   \n",
       "3         2      2       2       2       2      1.00         ?  200     4.0   \n",
       "4         2      2       2       2       2      0.90        95   28     4.0   \n",
       "5         2      1       1       2       2         ?         ?    ?       ?   \n",
       "\n",
       "  PROTIME  HISTOLOGY  \n",
       "0       ?          1  \n",
       "1       ?          1  \n",
       "2      80          1  \n",
       "3       ?          1  \n",
       "4      75          1  \n",
       "5       ?          1  "
      ]
     },
     "execution_count": 200,
     "metadata": {},
     "output_type": "execute_result"
    }
   ],
   "source": [
    "dfm.head(6)"
   ]
  },
  {
   "cell_type": "code",
   "execution_count": 201,
   "metadata": {},
   "outputs": [
    {
     "data": {
      "text/html": [
       "<div>\n",
       "<style scoped>\n",
       "    .dataframe tbody tr th:only-of-type {\n",
       "        vertical-align: middle;\n",
       "    }\n",
       "\n",
       "    .dataframe tbody tr th {\n",
       "        vertical-align: top;\n",
       "    }\n",
       "\n",
       "    .dataframe thead th {\n",
       "        text-align: right;\n",
       "    }\n",
       "</style>\n",
       "<table border=\"1\" class=\"dataframe\">\n",
       "  <thead>\n",
       "    <tr style=\"text-align: right;\">\n",
       "      <th></th>\n",
       "      <th>Class</th>\n",
       "      <th>AGE</th>\n",
       "      <th>SEX</th>\n",
       "      <th>ANTIVIRALS</th>\n",
       "      <th>HISTOLOGY</th>\n",
       "    </tr>\n",
       "  </thead>\n",
       "  <tbody>\n",
       "    <tr>\n",
       "      <th>count</th>\n",
       "      <td>154.000000</td>\n",
       "      <td>154.000000</td>\n",
       "      <td>154.000000</td>\n",
       "      <td>154.000000</td>\n",
       "      <td>154.000000</td>\n",
       "    </tr>\n",
       "    <tr>\n",
       "      <th>mean</th>\n",
       "      <td>1.792208</td>\n",
       "      <td>41.272727</td>\n",
       "      <td>1.097403</td>\n",
       "      <td>1.844156</td>\n",
       "      <td>1.454545</td>\n",
       "    </tr>\n",
       "    <tr>\n",
       "      <th>std</th>\n",
       "      <td>0.407051</td>\n",
       "      <td>12.574106</td>\n",
       "      <td>0.297473</td>\n",
       "      <td>0.363891</td>\n",
       "      <td>0.499554</td>\n",
       "    </tr>\n",
       "    <tr>\n",
       "      <th>min</th>\n",
       "      <td>1.000000</td>\n",
       "      <td>7.000000</td>\n",
       "      <td>1.000000</td>\n",
       "      <td>1.000000</td>\n",
       "      <td>1.000000</td>\n",
       "    </tr>\n",
       "    <tr>\n",
       "      <th>25%</th>\n",
       "      <td>2.000000</td>\n",
       "      <td>32.000000</td>\n",
       "      <td>1.000000</td>\n",
       "      <td>2.000000</td>\n",
       "      <td>1.000000</td>\n",
       "    </tr>\n",
       "    <tr>\n",
       "      <th>50%</th>\n",
       "      <td>2.000000</td>\n",
       "      <td>39.000000</td>\n",
       "      <td>1.000000</td>\n",
       "      <td>2.000000</td>\n",
       "      <td>1.000000</td>\n",
       "    </tr>\n",
       "    <tr>\n",
       "      <th>75%</th>\n",
       "      <td>2.000000</td>\n",
       "      <td>50.000000</td>\n",
       "      <td>1.000000</td>\n",
       "      <td>2.000000</td>\n",
       "      <td>2.000000</td>\n",
       "    </tr>\n",
       "    <tr>\n",
       "      <th>max</th>\n",
       "      <td>2.000000</td>\n",
       "      <td>78.000000</td>\n",
       "      <td>2.000000</td>\n",
       "      <td>2.000000</td>\n",
       "      <td>2.000000</td>\n",
       "    </tr>\n",
       "  </tbody>\n",
       "</table>\n",
       "</div>"
      ],
      "text/plain": [
       "            Class         AGE         SEX  ANTIVIRALS   HISTOLOGY\n",
       "count  154.000000  154.000000  154.000000  154.000000  154.000000\n",
       "mean     1.792208   41.272727    1.097403    1.844156    1.454545\n",
       "std      0.407051   12.574106    0.297473    0.363891    0.499554\n",
       "min      1.000000    7.000000    1.000000    1.000000    1.000000\n",
       "25%      2.000000   32.000000    1.000000    2.000000    1.000000\n",
       "50%      2.000000   39.000000    1.000000    2.000000    1.000000\n",
       "75%      2.000000   50.000000    1.000000    2.000000    2.000000\n",
       "max      2.000000   78.000000    2.000000    2.000000    2.000000"
      ]
     },
     "execution_count": 201,
     "metadata": {},
     "output_type": "execute_result"
    }
   ],
   "source": [
    "dfm.describe()"
   ]
  },
  {
   "cell_type": "markdown",
   "metadata": {
    "tags": []
   },
   "source": [
    "### Data Cleaning"
   ]
  },
  {
   "cell_type": "code",
   "execution_count": 202,
   "metadata": {},
   "outputs": [],
   "source": [
    "df=dfm.copy()"
   ]
  },
  {
   "cell_type": "code",
   "execution_count": 216,
   "metadata": {
    "collapsed": true,
    "jupyter": {
     "outputs_hidden": true
    },
    "tags": []
   },
   "outputs": [
    {
     "name": "stdout",
     "output_type": "stream",
     "text": [
      "5 5\n",
      "4 6\n",
      "4 13\n",
      "5 30\n",
      "7 40\n",
      "4 43\n",
      "14 55\n",
      "7 71\n",
      "5 82\n",
      "4 91\n",
      "4 98\n",
      "7 117\n",
      "4 125\n",
      "6 146\n",
      "<class 'pandas.core.frame.DataFrame'>\n",
      "Int64Index: 140 entries, 0 to 153\n",
      "Data columns (total 20 columns):\n",
      " #   Column      Non-Null Count  Dtype \n",
      "---  ------      --------------  ----- \n",
      " 0   Class       140 non-null    int64 \n",
      " 1   AGE         140 non-null    int64 \n",
      " 2   SEX         140 non-null    int64 \n",
      " 3   STEROID     140 non-null    object\n",
      " 4   ANTIVIRALS  140 non-null    int64 \n",
      " 5   FATIGUE     140 non-null    object\n",
      " 6   MALAISE     140 non-null    object\n",
      " 7   ANOREXIA    140 non-null    object\n",
      " 8   LIVERBIG    140 non-null    object\n",
      " 9   LIVERFIRM   140 non-null    object\n",
      " 10  SPLEEN      140 non-null    object\n",
      " 11  SPIDERS     140 non-null    object\n",
      " 12  ASCITES     140 non-null    object\n",
      " 13  VARICES     140 non-null    object\n",
      " 14  BILIRUBIN   140 non-null    object\n",
      " 15  PHOSPHATE   140 non-null    object\n",
      " 16  SGOT        140 non-null    object\n",
      " 17  ALBUMIN     140 non-null    object\n",
      " 18  PROTIME     140 non-null    object\n",
      " 19  HISTOLOGY   140 non-null    int64 \n",
      "dtypes: int64(5), object(15)\n",
      "memory usage: 23.0+ KB\n"
     ]
    }
   ],
   "source": [
    "dfm=df.copy()\n",
    "rows=[]\n",
    "for row in dfm.index:\n",
    "    # print(row)\n",
    "    rr=dfm.iloc[row,:].to_string(header=False, index=False).count('?')\n",
    "    if rr>3:\n",
    "        rows.append(row)\n",
    "        print(rr,row)\n",
    "    \n",
    "    # print(111111111111111111111111111)\n",
    "dfm.drop(index=rows,inplace=True)\n",
    "\n",
    "dfm.info()\n"
   ]
  },
  {
   "cell_type": "code",
   "execution_count": 217,
   "metadata": {
    "collapsed": true,
    "jupyter": {
     "outputs_hidden": true
    },
    "tags": []
   },
   "outputs": [
    {
     "name": "stdout",
     "output_type": "stream",
     "text": [
      "Class 0\n",
      "AGE 0\n",
      "SEX 0\n",
      "STEROID 1\n",
      "ANTIVIRALS 0\n",
      "FATIGUE 0\n",
      "MALAISE 0\n",
      "ANOREXIA 0\n",
      "LIVERBIG 2\n",
      "LIVERFIRM 3\n",
      "SPLEEN 0\n",
      "SPIDERS 0\n",
      "ASCITES 0\n",
      "VARICES 0\n",
      "BILIRUBIN 0\n",
      "PHOSPHATE 19\n",
      "SGOT 0\n",
      "ALBUMIN 8\n",
      "PROTIME 53\n",
      "HISTOLOGY 0\n",
      "<class 'pandas.core.frame.DataFrame'>\n",
      "Int64Index: 140 entries, 0 to 153\n",
      "Data columns (total 18 columns):\n",
      " #   Column      Non-Null Count  Dtype  \n",
      "---  ------      --------------  -----  \n",
      " 0   Class       140 non-null    int64  \n",
      " 1   AGE         140 non-null    int64  \n",
      " 2   SEX         140 non-null    int64  \n",
      " 3   STEROID     140 non-null    int64  \n",
      " 4   ANTIVIRALS  140 non-null    int64  \n",
      " 5   FATIGUE     140 non-null    int64  \n",
      " 6   MALAISE     140 non-null    int64  \n",
      " 7   ANOREXIA    140 non-null    int64  \n",
      " 8   LIVERBIG    140 non-null    int64  \n",
      " 9   LIVERFIRM   140 non-null    int64  \n",
      " 10  SPLEEN      140 non-null    int64  \n",
      " 11  SPIDERS     140 non-null    int64  \n",
      " 12  ASCITES     140 non-null    int64  \n",
      " 13  VARICES     140 non-null    int64  \n",
      " 14  BILIRUBIN   140 non-null    float64\n",
      " 15  SGOT        140 non-null    int64  \n",
      " 16  ALBUMIN     140 non-null    float64\n",
      " 17  HISTOLOGY   140 non-null    int64  \n",
      "dtypes: float64(2), int64(16)\n",
      "memory usage: 20.8 KB\n"
     ]
    }
   ],
   "source": [
    "# col=('Class AGE SEX STEROID ANTIVIRALS FATIGUE MALAISE ANOREXIA LIVERBIG LIVERFIRM SPLEEN SPIDERS ASCITES VARICES BILIRUBIN PHOSPHATE SGOT ALBUMIN PROTIME').split()\n",
    "for col in dfm.columns:\n",
    "    d=dfm[dfm[col]=='?'][col].size\n",
    "    print(col,d)\n",
    "\n",
    "    if (dfm[col].dtype=='object'):\n",
    "        if d<9:\n",
    "            dfm[col].replace('?', dfm[col].mode()[0], inplace=True)\n",
    "            # dfm.drop(dfm[dfm[col]=='?'].index,inplace=True)\n",
    "            # print(dfm[col].value_counts())\n",
    "            dfm[col]=pd.to_numeric(dfm[col])\n",
    "        elif d>8:\n",
    "            dfm.drop(columns=col,inplace=True)\n",
    "            # print(dfm[dfm[col]=='?'])\n",
    "     \n",
    "    else:\n",
    "        # print(col)\n",
    "        pass\n",
    "        \n",
    "dfm.info()"
   ]
  },
  {
   "cell_type": "code",
   "execution_count": 192,
   "metadata": {},
   "outputs": [
    {
     "name": "stdout",
     "output_type": "stream",
     "text": [
      "<class 'pandas.core.frame.DataFrame'>\n",
      "Int64Index: 140 entries, 0 to 153\n",
      "Data columns (total 17 columns):\n",
      " #   Column      Non-Null Count  Dtype  \n",
      "---  ------      --------------  -----  \n",
      " 0   Class       140 non-null    int64  \n",
      " 1   AGE         140 non-null    int64  \n",
      " 2   SEX         140 non-null    int64  \n",
      " 3   STEROID     140 non-null    int64  \n",
      " 4   ANTIVIRALS  140 non-null    int64  \n",
      " 5   FATIGUE     140 non-null    int64  \n",
      " 6   MALAISE     140 non-null    int64  \n",
      " 7   ANOREXIA    140 non-null    int64  \n",
      " 8   LIVERBIG    140 non-null    int64  \n",
      " 9   LIVERFIRM   140 non-null    int64  \n",
      " 10  SPLEEN      140 non-null    int64  \n",
      " 11  SPIDERS     140 non-null    int64  \n",
      " 12  ASCITES     140 non-null    int64  \n",
      " 13  VARICES     140 non-null    int64  \n",
      " 14  BILIRUBIN   140 non-null    float64\n",
      " 15  SGOT        140 non-null    int64  \n",
      " 16  HISTOLOGY   140 non-null    int64  \n",
      "dtypes: float64(1), int64(16)\n",
      "memory usage: 19.7 KB\n"
     ]
    }
   ],
   "source": [
    "dfm.info()"
   ]
  },
  {
   "cell_type": "code",
   "execution_count": 205,
   "metadata": {
    "tags": []
   },
   "outputs": [
    {
     "data": {
      "text/html": [
       "<div>\n",
       "<style scoped>\n",
       "    .dataframe tbody tr th:only-of-type {\n",
       "        vertical-align: middle;\n",
       "    }\n",
       "\n",
       "    .dataframe tbody tr th {\n",
       "        vertical-align: top;\n",
       "    }\n",
       "\n",
       "    .dataframe thead th {\n",
       "        text-align: right;\n",
       "    }\n",
       "</style>\n",
       "<table border=\"1\" class=\"dataframe\">\n",
       "  <thead>\n",
       "    <tr style=\"text-align: right;\">\n",
       "      <th></th>\n",
       "      <th>Class</th>\n",
       "      <th>AGE</th>\n",
       "      <th>SEX</th>\n",
       "      <th>STEROID</th>\n",
       "      <th>ANTIVIRALS</th>\n",
       "      <th>FATIGUE</th>\n",
       "      <th>MALAISE</th>\n",
       "      <th>ANOREXIA</th>\n",
       "      <th>LIVERBIG</th>\n",
       "      <th>LIVERFIRM</th>\n",
       "      <th>SPLEEN</th>\n",
       "      <th>SPIDERS</th>\n",
       "      <th>ASCITES</th>\n",
       "      <th>VARICES</th>\n",
       "      <th>BILIRUBIN</th>\n",
       "      <th>SGOT</th>\n",
       "      <th>HISTOLOGY</th>\n",
       "    </tr>\n",
       "  </thead>\n",
       "  <tbody>\n",
       "    <tr>\n",
       "      <th>count</th>\n",
       "      <td>140.000000</td>\n",
       "      <td>140.000000</td>\n",
       "      <td>140.000000</td>\n",
       "      <td>140.000000</td>\n",
       "      <td>140.000000</td>\n",
       "      <td>140.000000</td>\n",
       "      <td>140.000000</td>\n",
       "      <td>140.000000</td>\n",
       "      <td>140.000000</td>\n",
       "      <td>140.000000</td>\n",
       "      <td>140.000000</td>\n",
       "      <td>140.000000</td>\n",
       "      <td>140.000000</td>\n",
       "      <td>140.000000</td>\n",
       "      <td>140.000000</td>\n",
       "      <td>140.000000</td>\n",
       "      <td>140.000000</td>\n",
       "    </tr>\n",
       "    <tr>\n",
       "      <th>mean</th>\n",
       "      <td>1.800000</td>\n",
       "      <td>40.800000</td>\n",
       "      <td>1.100000</td>\n",
       "      <td>1.521429</td>\n",
       "      <td>1.835714</td>\n",
       "      <td>1.342857</td>\n",
       "      <td>1.607143</td>\n",
       "      <td>1.800000</td>\n",
       "      <td>1.835714</td>\n",
       "      <td>1.578571</td>\n",
       "      <td>1.800000</td>\n",
       "      <td>1.664286</td>\n",
       "      <td>1.864286</td>\n",
       "      <td>1.871429</td>\n",
       "      <td>1.421429</td>\n",
       "      <td>83.871429</td>\n",
       "      <td>1.464286</td>\n",
       "    </tr>\n",
       "    <tr>\n",
       "      <th>std</th>\n",
       "      <td>0.401436</td>\n",
       "      <td>12.073635</td>\n",
       "      <td>0.301077</td>\n",
       "      <td>0.501334</td>\n",
       "      <td>0.371865</td>\n",
       "      <td>0.476369</td>\n",
       "      <td>0.490139</td>\n",
       "      <td>0.401436</td>\n",
       "      <td>0.371865</td>\n",
       "      <td>0.495561</td>\n",
       "      <td>0.401436</td>\n",
       "      <td>0.473935</td>\n",
       "      <td>0.343715</td>\n",
       "      <td>0.335927</td>\n",
       "      <td>1.217722</td>\n",
       "      <td>82.977751</td>\n",
       "      <td>0.500514</td>\n",
       "    </tr>\n",
       "    <tr>\n",
       "      <th>min</th>\n",
       "      <td>1.000000</td>\n",
       "      <td>7.000000</td>\n",
       "      <td>1.000000</td>\n",
       "      <td>1.000000</td>\n",
       "      <td>1.000000</td>\n",
       "      <td>1.000000</td>\n",
       "      <td>1.000000</td>\n",
       "      <td>1.000000</td>\n",
       "      <td>1.000000</td>\n",
       "      <td>1.000000</td>\n",
       "      <td>1.000000</td>\n",
       "      <td>1.000000</td>\n",
       "      <td>1.000000</td>\n",
       "      <td>1.000000</td>\n",
       "      <td>0.300000</td>\n",
       "      <td>14.000000</td>\n",
       "      <td>1.000000</td>\n",
       "    </tr>\n",
       "    <tr>\n",
       "      <th>25%</th>\n",
       "      <td>2.000000</td>\n",
       "      <td>32.000000</td>\n",
       "      <td>1.000000</td>\n",
       "      <td>1.000000</td>\n",
       "      <td>2.000000</td>\n",
       "      <td>1.000000</td>\n",
       "      <td>1.000000</td>\n",
       "      <td>2.000000</td>\n",
       "      <td>2.000000</td>\n",
       "      <td>1.000000</td>\n",
       "      <td>2.000000</td>\n",
       "      <td>1.000000</td>\n",
       "      <td>2.000000</td>\n",
       "      <td>2.000000</td>\n",
       "      <td>0.700000</td>\n",
       "      <td>31.750000</td>\n",
       "      <td>1.000000</td>\n",
       "    </tr>\n",
       "    <tr>\n",
       "      <th>50%</th>\n",
       "      <td>2.000000</td>\n",
       "      <td>39.000000</td>\n",
       "      <td>1.000000</td>\n",
       "      <td>2.000000</td>\n",
       "      <td>2.000000</td>\n",
       "      <td>1.000000</td>\n",
       "      <td>2.000000</td>\n",
       "      <td>2.000000</td>\n",
       "      <td>2.000000</td>\n",
       "      <td>2.000000</td>\n",
       "      <td>2.000000</td>\n",
       "      <td>2.000000</td>\n",
       "      <td>2.000000</td>\n",
       "      <td>2.000000</td>\n",
       "      <td>1.000000</td>\n",
       "      <td>56.500000</td>\n",
       "      <td>1.000000</td>\n",
       "    </tr>\n",
       "    <tr>\n",
       "      <th>75%</th>\n",
       "      <td>2.000000</td>\n",
       "      <td>50.000000</td>\n",
       "      <td>1.000000</td>\n",
       "      <td>2.000000</td>\n",
       "      <td>2.000000</td>\n",
       "      <td>2.000000</td>\n",
       "      <td>2.000000</td>\n",
       "      <td>2.000000</td>\n",
       "      <td>2.000000</td>\n",
       "      <td>2.000000</td>\n",
       "      <td>2.000000</td>\n",
       "      <td>2.000000</td>\n",
       "      <td>2.000000</td>\n",
       "      <td>2.000000</td>\n",
       "      <td>1.500000</td>\n",
       "      <td>103.250000</td>\n",
       "      <td>2.000000</td>\n",
       "    </tr>\n",
       "    <tr>\n",
       "      <th>max</th>\n",
       "      <td>2.000000</td>\n",
       "      <td>78.000000</td>\n",
       "      <td>2.000000</td>\n",
       "      <td>2.000000</td>\n",
       "      <td>2.000000</td>\n",
       "      <td>2.000000</td>\n",
       "      <td>2.000000</td>\n",
       "      <td>2.000000</td>\n",
       "      <td>2.000000</td>\n",
       "      <td>2.000000</td>\n",
       "      <td>2.000000</td>\n",
       "      <td>2.000000</td>\n",
       "      <td>2.000000</td>\n",
       "      <td>2.000000</td>\n",
       "      <td>8.000000</td>\n",
       "      <td>648.000000</td>\n",
       "      <td>2.000000</td>\n",
       "    </tr>\n",
       "  </tbody>\n",
       "</table>\n",
       "</div>"
      ],
      "text/plain": [
       "            Class         AGE         SEX     STEROID  ANTIVIRALS     FATIGUE  \\\n",
       "count  140.000000  140.000000  140.000000  140.000000  140.000000  140.000000   \n",
       "mean     1.800000   40.800000    1.100000    1.521429    1.835714    1.342857   \n",
       "std      0.401436   12.073635    0.301077    0.501334    0.371865    0.476369   \n",
       "min      1.000000    7.000000    1.000000    1.000000    1.000000    1.000000   \n",
       "25%      2.000000   32.000000    1.000000    1.000000    2.000000    1.000000   \n",
       "50%      2.000000   39.000000    1.000000    2.000000    2.000000    1.000000   \n",
       "75%      2.000000   50.000000    1.000000    2.000000    2.000000    2.000000   \n",
       "max      2.000000   78.000000    2.000000    2.000000    2.000000    2.000000   \n",
       "\n",
       "          MALAISE    ANOREXIA    LIVERBIG   LIVERFIRM      SPLEEN     SPIDERS  \\\n",
       "count  140.000000  140.000000  140.000000  140.000000  140.000000  140.000000   \n",
       "mean     1.607143    1.800000    1.835714    1.578571    1.800000    1.664286   \n",
       "std      0.490139    0.401436    0.371865    0.495561    0.401436    0.473935   \n",
       "min      1.000000    1.000000    1.000000    1.000000    1.000000    1.000000   \n",
       "25%      1.000000    2.000000    2.000000    1.000000    2.000000    1.000000   \n",
       "50%      2.000000    2.000000    2.000000    2.000000    2.000000    2.000000   \n",
       "75%      2.000000    2.000000    2.000000    2.000000    2.000000    2.000000   \n",
       "max      2.000000    2.000000    2.000000    2.000000    2.000000    2.000000   \n",
       "\n",
       "          ASCITES     VARICES   BILIRUBIN        SGOT   HISTOLOGY  \n",
       "count  140.000000  140.000000  140.000000  140.000000  140.000000  \n",
       "mean     1.864286    1.871429    1.421429   83.871429    1.464286  \n",
       "std      0.343715    0.335927    1.217722   82.977751    0.500514  \n",
       "min      1.000000    1.000000    0.300000   14.000000    1.000000  \n",
       "25%      2.000000    2.000000    0.700000   31.750000    1.000000  \n",
       "50%      2.000000    2.000000    1.000000   56.500000    1.000000  \n",
       "75%      2.000000    2.000000    1.500000  103.250000    2.000000  \n",
       "max      2.000000    2.000000    8.000000  648.000000    2.000000  "
      ]
     },
     "execution_count": 205,
     "metadata": {},
     "output_type": "execute_result"
    }
   ],
   "source": [
    "dfm.describe()"
   ]
  },
  {
   "cell_type": "code",
   "execution_count": 218,
   "metadata": {},
   "outputs": [
    {
     "data": {
      "text/plain": [
       "(140, 18)"
      ]
     },
     "execution_count": 218,
     "metadata": {},
     "output_type": "execute_result"
    }
   ],
   "source": [
    "dfm.shape"
   ]
  },
  {
   "cell_type": "markdown",
   "metadata": {
    "jp-MarkdownHeadingCollapsed": true,
    "tags": []
   },
   "source": [
    "### Visualization\n"
   ]
  },
  {
   "cell_type": "code",
   "execution_count": 38,
   "metadata": {},
   "outputs": [
    {
     "data": {
      "image/png": "[encoded data removed]",
      "text/plain": [
       "<Figure size 1200x500 with 9 Axes>"
      ]
     },
     "metadata": {},
     "output_type": "display_data"
    }
   ],
   "source": [
    "plt.figure(figsize=(12, 5))\n",
    "no=0\n",
    "for col in df.columns:\n",
    "    no+=1\n",
    "    st='54'+str(no)\n",
    "    fig=plt.subplot(int(st))\n",
    "    sns.histplot(df[col] , kde=True) \n",
    "    plt.tight_layout() \n",
    "    if int(st) == 549:\n",
    "        break"
   ]
  },
  {
   "cell_type": "code",
   "execution_count": 40,
   "metadata": {
    "tags": []
   },
   "outputs": [
    {
     "data": {
      "image/png": "[encoded data removed]",
      "text/plain": [
       "<Figure size 900x500 with 17 Axes>"
      ]
     },
     "metadata": {},
     "output_type": "display_data"
    }
   ],
   "source": [
    "plt.figure(figsize=(9,5 ))\n",
    "no=0\n",
    "for col in df.columns:\n",
    "    no+=1\n",
    "    plt.subplot(3,8,no)\n",
    "    plt.tight_layout()\n",
    "    sns.boxplot(y=df[col])  "
   ]
  },
  {
   "cell_type": "code",
   "execution_count": null,
   "metadata": {
    "tags": []
   },
   "outputs": [],
   "source": [
    "# plt.figure(figsize=(6,6))\n",
    "# sns.pairplot(df )"
   ]
  },
  {
   "cell_type": "markdown",
   "metadata": {
    "tags": []
   },
   "source": [
    "### Modelling"
   ]
  },
  {
   "cell_type": "code",
   "execution_count": 24,
   "metadata": {},
   "outputs": [],
   "source": [
    "# for col in df.columns:\n",
    "#     IQR = df[col].quantile(0.75) - df[col].quantile(0.25)\n",
    "#     q_low = df[col].quantile(0.25) - 1.5 * IQR\n",
    "#     q_hi  = df[col].quantile(0.75) + 1.5 * IQR\n",
    "#     df = df[(df[col] < q_hi) & (df[col] > q_low)]"
   ]
  },
  {
   "cell_type": "code",
   "execution_count": 48,
   "metadata": {},
   "outputs": [],
   "source": [
    "from sklearn import preprocessing\n",
    "from sklearn.pipeline import make_pipeline\n",
    "from sklearn import metrics\n",
    "from sklearn.metrics import confusion_matrix ,classification_report , accuracy_score ,f1_score\n",
    "from sklearn.preprocessing import StandardScaler\n",
    "from sklearn.linear_model import SGDClassifier,Perceptron,LinearRegression, Ridge, SGDRegressor,LogisticRegression\n",
    "from sklearn.model_selection import train_test_split\n",
    "from sklearn.metrics import classification_report, RocCurveDisplay, PrecisionRecallDisplay\n",
    "from sklearn import metrics\n",
    "import math"
   ]
  },
  {
   "cell_type": "code",
   "execution_count": 277,
   "metadata": {},
   "outputs": [],
   "source": [
    "X = dfm.iloc[:, 1:].values\n",
    "y = dfm.iloc[:,0].values\n",
    "X_train, X_test, y_train, y_test = train_test_split(X, y , test_size=0.3 , random_state=85 )\n",
    "y_test=y_test-1\n",
    "y_train=y_train-1"
   ]
  },
  {
   "cell_type": "code",
   "execution_count": 276,
   "metadata": {},
   "outputs": [
    {
     "data": {
      "text/plain": [
       "array([1, 1, 1, 1, 1, 0, 1, 1, 1, 1, 1, 1, 1, 1, 1, 1, 1, 1, 1, 1, 0, 1,\n",
       "       0, 1, 1, 1, 0, 1, 1, 0, 0, 0, 1, 1, 0, 1, 1, 1, 1, 1, 1, 0])"
      ]
     },
     "execution_count": 276,
     "metadata": {},
     "output_type": "execute_result"
    }
   ],
   "source": [
    "y_test"
   ]
  },
  {
   "cell_type": "code",
   "execution_count": 278,
   "metadata": {},
   "outputs": [
    {
     "name": "stdout",
     "output_type": "stream",
     "text": [
      "-----------   SGD  ---------\n",
      "              precision    recall  f1-score   support\n",
      "\n",
      "           0       1.00      0.44      0.62         9\n",
      "           1       0.87      1.00      0.93        33\n",
      "\n",
      "    accuracy                           0.88        42\n",
      "   macro avg       0.93      0.72      0.77        42\n",
      "weighted avg       0.90      0.88      0.86        42\n",
      "\n",
      "[[ 4  5]\n",
      " [ 0 33]]\n"
     ]
    }
   ],
   "source": [
    "\n",
    "sgr_model = make_pipeline(StandardScaler(),SGDClassifier(loss=\"log\", penalty=\"l2\", max_iter=1000))\n",
    "\n",
    "sgr_model.fit(X_train, y_train)\n",
    "y_predict = sgr_model.predict(X_test)\n",
    "print('-----------   SGD  ---------')\n",
    "print(classification_report(y_test, y_predict))\n",
    "print(confusion_matrix(y_test, y_predict))\n"
   ]
  },
  {
   "cell_type": "code",
   "execution_count": 279,
   "metadata": {},
   "outputs": [
    {
     "name": "stdout",
     "output_type": "stream",
     "text": [
      "-----------   Perceptron  ---------\n",
      "              precision    recall  f1-score   support\n",
      "\n",
      "           0       0.71      0.56      0.63         9\n",
      "           1       0.89      0.94      0.91        33\n",
      "\n",
      "    accuracy                           0.86        42\n",
      "   macro avg       0.80      0.75      0.77        42\n",
      "weighted avg       0.85      0.86      0.85        42\n",
      "\n",
      "[[ 5  4]\n",
      " [ 2 31]]\n"
     ]
    }
   ],
   "source": [
    "clf = make_pipeline(StandardScaler(),Perceptron(penalty='l1'))\n",
    "clf.fit(X_train, y_train)\n",
    "y_predict = clf.predict(X_test)\n",
    "print('-----------   Perceptron  ---------')\n",
    "\n",
    "print(classification_report(y_test, y_predict))\n",
    "print(confusion_matrix(y_test, y_predict))"
   ]
  },
  {
   "cell_type": "code",
   "execution_count": 226,
   "metadata": {
    "collapsed": true,
    "jupyter": {
     "outputs_hidden": true
    },
    "tags": []
   },
   "outputs": [
    {
     "name": "stdout",
     "output_type": "stream",
     "text": [
      "------ LogisticRegression --------------\n",
      "333333333333 0.8333333333333334\n",
      "              precision    recall  f1-score   support\n",
      "\n",
      "           1       1.00      0.22      0.36         9\n",
      "           2       0.82      1.00      0.90        33\n",
      "\n",
      "    accuracy                           0.83        42\n",
      "   macro avg       0.91      0.61      0.63        42\n",
      "weighted avg       0.86      0.83      0.79        42\n",
      "\n",
      "[[ 2  7]\n",
      " [ 0 33]]\n",
      "33\n",
      "333333333333 0.7857142857142857\n",
      "              precision    recall  f1-score   support\n",
      "\n",
      "           1       0.00      0.00      0.00         9\n",
      "           2       0.79      1.00      0.88        33\n",
      "\n",
      "    accuracy                           0.79        42\n",
      "   macro avg       0.39      0.50      0.44        42\n",
      "weighted avg       0.62      0.79      0.69        42\n",
      "\n",
      "[[ 0  9]\n",
      " [ 0 33]]\n",
      "33\n",
      "333333333333 0.8809523809523809\n",
      "              precision    recall  f1-score   support\n",
      "\n",
      "           1       1.00      0.44      0.62         9\n",
      "           2       0.87      1.00      0.93        33\n",
      "\n",
      "    accuracy                           0.88        42\n",
      "   macro avg       0.93      0.72      0.77        42\n",
      "weighted avg       0.90      0.88      0.86        42\n",
      "\n",
      "[[ 4  5]\n",
      " [ 0 33]]\n",
      "33\n",
      "333333333333 0.9047619047619048\n",
      "              precision    recall  f1-score   support\n",
      "\n",
      "           1       1.00      0.56      0.71         9\n",
      "           2       0.89      1.00      0.94        33\n",
      "\n",
      "    accuracy                           0.90        42\n",
      "   macro avg       0.95      0.78      0.83        42\n",
      "weighted avg       0.92      0.90      0.89        42\n",
      "\n",
      "[[ 5  4]\n",
      " [ 0 33]]\n",
      "33\n",
      "33\n",
      "33\n",
      "333333333333 0.9047619047619048\n",
      "              precision    recall  f1-score   support\n",
      "\n",
      "           1       1.00      0.56      0.71         9\n",
      "           2       0.89      1.00      0.94        33\n",
      "\n",
      "    accuracy                           0.90        42\n",
      "   macro avg       0.95      0.78      0.83        42\n",
      "weighted avg       0.92      0.90      0.89        42\n",
      "\n",
      "[[ 5  4]\n",
      " [ 0 33]]\n",
      "333333333333 0.9047619047619048\n",
      "              precision    recall  f1-score   support\n",
      "\n",
      "           1       1.00      0.56      0.71         9\n",
      "           2       0.89      1.00      0.94        33\n",
      "\n",
      "    accuracy                           0.90        42\n",
      "   macro avg       0.95      0.78      0.83        42\n",
      "weighted avg       0.92      0.90      0.89        42\n",
      "\n",
      "[[ 5  4]\n",
      " [ 0 33]]\n",
      "333333333333 0.8809523809523809\n",
      "              precision    recall  f1-score   support\n",
      "\n",
      "           1       1.00      0.44      0.62         9\n",
      "           2       0.87      1.00      0.93        33\n",
      "\n",
      "    accuracy                           0.88        42\n",
      "   macro avg       0.93      0.72      0.77        42\n",
      "weighted avg       0.90      0.88      0.86        42\n",
      "\n",
      "[[ 4  5]\n",
      " [ 0 33]]\n",
      "33\n",
      "333333333333 0.8809523809523809\n",
      "              precision    recall  f1-score   support\n",
      "\n",
      "           1       1.00      0.44      0.62         9\n",
      "           2       0.87      1.00      0.93        33\n",
      "\n",
      "    accuracy                           0.88        42\n",
      "   macro avg       0.93      0.72      0.77        42\n",
      "weighted avg       0.90      0.88      0.86        42\n",
      "\n",
      "[[ 4  5]\n",
      " [ 0 33]]\n",
      "33\n",
      "0.9047619047619048 [GridSearchCV(cv=2,\n",
      "             estimator=Pipeline(steps=[('scaler', StandardScaler()),\n",
      "                                       ('LR_model', LogisticRegression())]),\n",
      "             param_grid={'logisticregression__C': [1, 5, 10],\n",
      "                         'logisticregression__max_iter': [10, 1000]}), {'bootstrap': True, 'bootstrap_features': False, 'max_features': 15, 'max_samples': 20, 'n_estimators': 20}, 0.9047619047619048]\n"
     ]
    }
   ],
   "source": [
    "from sklearn.pipeline import Pipeline\n",
    "from sklearn.preprocessing import StandardScaler\n",
    "from sklearn.linear_model import LogisticRegression\n",
    "print('------ LogisticRegression --------------')\n",
    "best=0\n",
    "\n",
    "\n",
    "grid = ParameterGrid({\"max_samples\": [20],\n",
    "                          \"max_features\": [ 10,15],\n",
    "                          \"bootstrap\": [True, False],\n",
    "                          \"n_estimators\":[20,80],\n",
    "                          \"bootstrap_features\": [True, False]})\n",
    "\n",
    "\n",
    "paramsg={'logistic__penalty': ['l2'],'logistic__C': [1,5,10],'logistic__max_iter': [10,500]}\n",
    "scaler=StandardScaler()\n",
    "logistic=LogisticRegression()\n",
    "pipe = Pipeline(steps=[(\"scaler\", scaler), (\"logistic\", logistic)])\n",
    "\n",
    "modelLogisticRegression = GridSearchCV(pipe, param_grid=paramsg)\n",
    "\n",
    "# pipelog = Pipeline([('scaler', StandardScaler()), ('LR_model', LogisticRegression())])\n",
    "\n",
    "# modelLogisticRegression = GridSearchCV(pipelog, param_grid={'logisticregression__penalty': ['l1','l2' , 'elasticnet'],'logisticregression__C': [1,5,10],'logisticregression__max_iter': [10,1000]}, cv=3)\n",
    "for params in grid:\n",
    "    model=BaggingClassifier(base_estimator=modelLogisticRegression, random_state=5,**params)\n",
    "    # print(model,111)\n",
    "    # print(modelLogisticRegression)\n",
    "    try:\n",
    "        model.fit(X_train, y_train)\n",
    "        y_predict = model.predict(X_test)\n",
    "        acc=accuracy_score(y_test, y_predict)\n",
    "        print(333333333333,acc)\n",
    "        try:            \n",
    "                    print(classification_report(y_test, y_predict))\n",
    "                    print(confusion_matrix(y_test, y_predict))\n",
    "                    if  acc > best:\n",
    "                                   best=acc\n",
    "                                   # bestr2=metrics.r2_score(y_test, y_predict) \n",
    "                                   matrisresult=[base_estimator , params , best ]\n",
    "        except:\n",
    "                    print(222222222222)\n",
    "    except:\n",
    "        print(33)\n",
    "\n",
    "# print(classification_report(y_test, y_predict))\n",
    "# print(confusion_matrix(y_test, y_predict))\n",
    "print(best, matrisresult)"
   ]
  },
  {
   "cell_type": "code",
   "execution_count": null,
   "metadata": {},
   "outputs": [],
   "source": [
    "accuracy=0.9047619047619048\n",
    "[GridSearchCV(cv=2,\n",
    "             estimator=Pipeline(steps=[('scaler', StandardScaler()),\n",
    "                                       ('LR_model', LogisticRegression())]),\n",
    "             param_grid={'logisticregression__C': [1, 5, 10],\n",
    "                         'logisticregression__max_iter': [10, 1000]}), {'bootstrap': True, 'bootstrap_features': False, 'max_features': 15, 'max_samples': 20, 'n_estimators': 20}, 0.9047619047619048]\n",
    "\n",
    "\n",
    "   precision    recall  f1-score   support\n",
    "\n",
    "           1       1.00      0.56      0.71         9\n",
    "           2       0.89      1.00      0.94        33\n",
    "\n",
    "    accuracy                           0.90        42\n",
    "   macro avg       0.95      0.78      0.83        42\n",
    "weighted avg       0.92      0.90      0.89        42\n",
    "\n",
    "[[ 5  4]\n",
    " [ 0 33]]"
   ]
  },
  {
   "cell_type": "markdown",
   "metadata": {},
   "source": [
    "<div dir = \"rtl\" style=\"direction:rtl;line-height:300%;\">\n",
    "\t<font face=\"XB Zar\" size=5 color=yellow>\n",
    "        <div  align=center>\n",
    "            بهترین نتیجه: \n",
    "        </div>\n",
    "        <br/>\n",
    "    </font>\n",
    "</div>"
   ]
  },
  {
   "cell_type": "code",
   "execution_count": 281,
   "metadata": {},
   "outputs": [
    {
     "name": "stdout",
     "output_type": "stream",
     "text": [
      "              precision    recall  f1-score   support\n",
      "\n",
      "           0       1.00      0.67      0.80         9\n",
      "           1       0.92      1.00      0.96        33\n",
      "\n",
      "    accuracy                           0.93        42\n",
      "   macro avg       0.96      0.83      0.88        42\n",
      "weighted avg       0.93      0.93      0.92        42\n",
      "\n",
      "[[ 6  3]\n",
      " [ 0 33]]\n"
     ]
    },
    {
     "data": {
      "text/plain": [
       "{'logistic__C': 0.5, 'logistic__max_iter': 500, 'logistic__penalty': 'l2'}"
      ]
     },
     "execution_count": 281,
     "metadata": {},
     "output_type": "execute_result"
    }
   ],
   "source": [
    "\n",
    "paramsg={'logistic__penalty': ['l2' ,'l1'],'logistic__C': [0.5,1,5,10],'logistic__max_iter': [500,100]}\n",
    "scaler=StandardScaler()\n",
    "logistic=LogisticRegression()\n",
    "pipe = Pipeline(steps=[(\"scaler\", scaler), (\"logistic\", logistic)])\n",
    "\n",
    "modelLogisticRegression = GridSearchCV(pipe, param_grid=paramsg)\n",
    "\n",
    "modelLogisticRegression.fit(X_train, y_train)\n",
    "y_predict = modelLogisticRegression.predict(X_test)\n",
    "\n",
    "print(classification_report(y_test, y_predict))\n",
    "print(confusion_matrix(y_test, y_predict))\n",
    "modelLogisticRegression.best_params_\n"
   ]
  },
  {
   "cell_type": "code",
   "execution_count": 271,
   "metadata": {},
   "outputs": [],
   "source": []
  },
  {
   "cell_type": "code",
   "execution_count": 282,
   "metadata": {},
   "outputs": [
    {
     "data": {
      "image/png": "[encoded data removed]",
      "text/plain": [
       "<Figure size 640x480 with 1 Axes>"
      ]
     },
     "metadata": {},
     "output_type": "display_data"
    }
   ],
   "source": [
    "\n",
    "fpr, tpr, thresholds = metrics.roc_curve(y_test, y_predict)\n",
    "roc_auc = metrics.auc(fpr, tpr)\n",
    "display = metrics.RocCurveDisplay(fpr=fpr, tpr=tpr, roc_auc=roc_auc, estimator_name='example estimator')\n",
    "display.plot()\n",
    "plt.show()\n"
   ]
  },
  {
   "cell_type": "code",
   "execution_count": 283,
   "metadata": {},
   "outputs": [
    {
     "name": "stdout",
     "output_type": "stream",
     "text": [
      "------ LogisticRegression --------------\n",
      "              precision    recall  f1-score   support\n",
      "\n",
      "           0       1.00      0.67      0.80         9\n",
      "           1       0.92      1.00      0.96        33\n",
      "\n",
      "    accuracy                           0.93        42\n",
      "   macro avg       0.96      0.83      0.88        42\n",
      "weighted avg       0.93      0.93      0.92        42\n",
      "\n",
      "[[ 6  3]\n",
      " [ 0 33]]\n"
     ]
    }
   ],
   "source": [
    "from sklearn.pipeline import Pipeline\n",
    "from sklearn.preprocessing import StandardScaler\n",
    "from sklearn.linear_model import LogisticRegression\n",
    "print('------ LogisticRegression --------------')\n",
    "\n",
    "pipe = Pipeline([\n",
    "            ('scaler', StandardScaler()),\n",
    "            ('LR_model', LogisticRegression(C=1, penalty='l2', multi_class='auto',max_iter=1000))])\n",
    "\n",
    "pipe.fit(X_train, y_train)\n",
    "y_predict = pipe.predict(X_test)\n",
    "\n",
    "print(classification_report(y_test, y_predict))\n",
    "print(confusion_matrix(y_test, y_predict))"
   ]
  },
  {
   "cell_type": "code",
   "execution_count": 284,
   "metadata": {},
   "outputs": [
    {
     "data": {
      "image/png": "[encoded data removed]",
      "text/plain": [
       "<Figure size 640x480 with 1 Axes>"
      ]
     },
     "metadata": {},
     "output_type": "display_data"
    }
   ],
   "source": [
    "\n",
    "fpr, tpr, thresholds = metrics.roc_curve(y_test, y_predict)\n",
    "roc_auc = metrics.auc(fpr, tpr)\n",
    "display = metrics.RocCurveDisplay(fpr=fpr, tpr=tpr, roc_auc=roc_auc, estimator_name='example estimator')\n",
    "display.plot()\n",
    "plt.show()"
   ]
  },
  {
   "cell_type": "code",
   "execution_count": 285,
   "metadata": {},
   "outputs": [
    {
     "name": "stdout",
     "output_type": "stream",
     "text": [
      "------ KNeighborsClassifier --------------\n",
      "              precision    recall  f1-score   support\n",
      "\n",
      "           0       0.00      0.00      0.00         9\n",
      "           1       0.77      0.91      0.83        33\n",
      "\n",
      "    accuracy                           0.71        42\n",
      "   macro avg       0.38      0.45      0.42        42\n",
      "weighted avg       0.60      0.71      0.65        42\n",
      "\n",
      "[[ 0  9]\n",
      " [ 3 30]]\n"
     ]
    }
   ],
   "source": [
    "from sklearn.neighbors import KNeighborsClassifier\n",
    "\n",
    "knn = KNeighborsClassifier(n_neighbors=5)\n",
    "knn.fit(X_train, y_train)\n",
    "y_predict = knn.predict(X_test)\n",
    "\n",
    "print('------ KNeighborsClassifier --------------')\n",
    "\n",
    "print(classification_report(y_test, y_predict))\n",
    "print(confusion_matrix(y_test, y_predict))\n",
    "\n"
   ]
  },
  {
   "cell_type": "code",
   "execution_count": null,
   "metadata": {},
   "outputs": [],
   "source": [
    "from sklearn import utils\n",
    "from sklearn.model_selection import ParameterGrid\n",
    "from sklearn.ensemble import RandomForestClassifier\n",
    "from sklearn.metrics import accuracy_score\n",
    "from sklearn.model_selection import GridSearchCV\n",
    "from sklearn.ensemble import BaggingClassifier\n",
    "import warnings\n",
    "warnings.filterwarnings('ignore')\n",
    "\n",
    "best=0\n",
    "grid = ParameterGrid({\"max_samples\": [ 5],\n",
    "                          \"max_features\": [1, 10,15],\n",
    "                          \"bootstrap\": [True, False],\n",
    "                          \"n_estimators\":[10,100],\n",
    "                          \"bootstrap_features\": [True, False]})\n",
    "\n",
    "pipeknn = make_pipeline( KNeighborsClassifier())\n",
    "modelknn = GridSearchCV(pipeknn, param_grid={'kneighborsclassifier__n_neighbors': [1, 3]} , cv=2)                                     \n",
    "\n",
    "pipelog = Pipeline([('scaler', StandardScaler()), ('LR_model', LogisticRegression())])\n",
    "modelLogisticRegression = GridSearchCV(pipelog, param_grid={'logisticregression__C': [1,5,10],'logisticregression__max_iter': [10,1000]}, cv=2)\n",
    "\n",
    "pipesgd = make_pipeline(StandardScaler(),SGDClassifier())\n",
    "modelsgd = GridSearchCV(pipesgd, param_grid={'sgdclassifier__loss': ['log','hinge', 'log_loss'], 'sgdclassifier__penalty': ['l1','l2','elasticnet']}, cv=2)\n",
    "\n",
    "pipeRandomForestClassifier = make_pipeline(RandomForestClassifier())\n",
    "modelRandomForest = GridSearchCV(pipeRandomForestClassifier, param_grid= {\"randomforestclassifier__n_estimators\": [10, 20], \"randomforestclassifier__max_leaf_nodes\": [4, 6]}, cv=2)\n",
    "\n",
    "for base_estimator in [\n",
    "                           None,\n",
    "                           modelknn,\n",
    "                           modelRandomForest,\n",
    "                           modelLogisticRegression,\n",
    "                           modelsgd\n",
    "]:\n",
    "        for params in grid:\n",
    "            print(1111111111111111111,params)\n",
    "            print(22222222222222222222222,base_estimator)\n",
    "            model=BaggingClassifier(base_estimator=base_estimator, random_state=utils.check_random_state(0),**params)\n",
    "            model.fit(X_train, y_train)\n",
    "            y_predict= model.predict(X_test)\n",
    "            acc=accuracy_score(y_test, y_predict)\n",
    "            print(333333333333,acc)\n",
    "\n",
    "            try:\n",
    "            \n",
    "                # print(classification_report(y_test, y_predict))\n",
    "                # print(confusion_matrix(y_test, y_predict))\n",
    "                if  acc > best:\n",
    "                               best=acc\n",
    "                               # bestr2=metrics.r2_score(y_test, y_predict) \n",
    "                               matrisresult=[base_estimator , params , best ]\n",
    "            except:\n",
    "                pass\n",
    "          \n",
    "        try:\n",
    "            print('estimator:',base_estimator, 'Parameters:', params, 'accuracy_score:' , acc)\n",
    "            print('--------------------------------------------------------------------')\n",
    "\n",
    "        except:\n",
    "            print('--------------------------------------------------------------------')\n",
    "        \n",
    "print('result:',matrisresult)\n",
    "print(\"accuracy_score%: \", 100*round(best) )\n",
    "                # print(\"R2_SCORE: \", metrics.r2_score(y_test, y_predict))\n",
    "                # print(\"MAPE: \", metrics.mean_absolute_percentage_error(y_test, y_predict))\n",
    "                # print(math.sqrt(metrics.mean_squared_error(y_test, y_predict)) / dfm[\"cnt\"].mean())"
   ]
  },
  {
   "cell_type": "code",
   "execution_count": 65,
   "metadata": {},
   "outputs": [],
   "source": [
    "from sklearn.model_selection import train_test_split\n",
    "from sklearn.preprocessing import StandardScaler\n",
    "from sklearn import preprocessing\n",
    "\n",
    "from sklearn.pipeline import make_pipeline\n",
    "from sklearn.model_selection import GridSearchCV\n",
    "from sklearn.tree import DecisionTreeRegressor\n",
    "\n",
    "from sklearn.linear_model import LogisticRegression,LinearRegression, Ridge, SGDRegressor\n",
    "from sklearn.preprocessing import PolynomialFeatures\n",
    "from sklearn.neighbors import KNeighborsRegressor\n",
    "\n",
    "from sklearn import metrics\n",
    "from sklearn.metrics import mean_absolute_error\n",
    "from sklearn.metrics import confusion_matrix\n",
    "from sklearn.metrics import classification_report\n",
    "from sklearn.metrics import accuracy_score\n",
    "\n",
    "from sklearn.svm import SVC,SVR\n",
    "\n"
   ]
  },
  {
   "cell_type": "code",
   "execution_count": 78,
   "metadata": {},
   "outputs": [],
   "source": [
    "X = dfm.iloc[:, 2:13].values\n",
    "y = dfm.loc[:,'cnt'].values\n",
    "X_train, X_test, y_train, y_test = train_test_split(X, y , test_size=0.2 , random_state=85 )"
   ]
  },
  {
   "cell_type": "code",
   "execution_count": 81,
   "metadata": {},
   "outputs": [
    {
     "name": "stdout",
     "output_type": "stream",
     "text": [
      "R2_SCORE:  0.775014899368656\n",
      "MSE :  838560.1275646058\n",
      "RMSE:  915.7292872703187\n",
      "Mean Absolute Error (MAE):  667.9263182248882\n",
      "MAPE:  0.19309379941033625\n",
      "RMSE%:  20.0\n"
     ]
    }
   ],
   "source": [
    "model = make_pipeline(preprocessing.StandardScaler(), LinearRegression())\n",
    "model.fit(X_train, y_train)\n",
    "y_predict_lr= model.predict(X_test)\n",
    "print(\"R2_SCORE: \", metrics.r2_score(y_test, y_predict_lr))\n",
    "print(\"MSE : \", metrics.mean_squared_error(y_test, y_predict_lr))\n",
    "print(\"RMSE: \", math.sqrt(metrics.mean_squared_error(y_test, y_predict_lr)))\n",
    "print(\"Mean Absolute Error (MAE): \", mean_absolute_error(y_test, y_predict_lr))\n",
    "print(\"MAPE: \", metrics.mean_absolute_percentage_error(y_test, y_predict_lr))\n",
    "print(\"RMSE%: \", 100*round(math.sqrt(metrics.mean_squared_error(y_test, y_predict_lr)) / dfm[\"cnt\"].mean(),2))"
   ]
  },
  {
   "cell_type": "code",
   "execution_count": 82,
   "metadata": {},
   "outputs": [
    {
     "name": "stdout",
     "output_type": "stream",
     "text": [
      "R2_SCORE:  0.8292606268992271\n",
      "MSE :  636376.4982032698\n",
      "RMSE:  797.7320967613562\n",
      "Mean Absolute Error (MAE):  514.1337067948022\n",
      "MAPE:  0.238464741055681\n",
      "RMSE%:  18.0\n"
     ]
    }
   ],
   "source": [
    "ridge_poly_model = make_pipeline(preprocessing.StandardScaler(), \n",
    "              PolynomialFeatures(degree=3), \n",
    "              Ridge(alpha=1))\n",
    "ridge_poly_model.fit(X_train, y_train)\n",
    "y_predict_lr = ridge_poly_model.predict(X_test)\n",
    "\n",
    "print(\"R2_SCORE: \", metrics.r2_score(y_test, y_predict_lr))\n",
    "print(\"MSE : \", metrics.mean_squared_error(y_test, y_predict_lr))\n",
    "print(\"RMSE: \", math.sqrt(metrics.mean_squared_error(y_test, y_predict_lr)))\n",
    "print(\"Mean Absolute Error (MAE): \", mean_absolute_error(y_test, y_predict_lr))\n",
    "print(\"MAPE: \", metrics.mean_absolute_percentage_error(y_test, y_predict_lr))\n",
    "print(\"RMSE%: \", 100*round(math.sqrt(metrics.mean_squared_error(y_test, y_predict_lr)) / dfm[\"cnt\"].mean(),2))"
   ]
  },
  {
   "cell_type": "code",
   "execution_count": 83,
   "metadata": {
    "tags": []
   },
   "outputs": [
    {
     "name": "stdout",
     "output_type": "stream",
     "text": [
      "R2_SCORE:  0.8552635768980166\n",
      "MAPE:  0.19952278516717475\n",
      "RMSE%:  16.0\n",
      "RMSE:  734.4785936378335\n",
      "0.8482045045839204 {'polynomialfeatures__degree': 2, 'polynomialfeatures__include_bias': False, 'ridge__alpha': 50}\n"
     ]
    }
   ],
   "source": [
    "pipe = make_pipeline(preprocessing.StandardScaler(), PolynomialFeatures(),Ridge())\n",
    "\n",
    "model = GridSearchCV(pipe, param_grid={'polynomialfeatures__degree': [1, 2,3], 'polynomialfeatures__include_bias' :[True , False] , 'ridge__alpha': [0.5, 1,5, 10, 20,50]})\n",
    "model.fit(X_train, y_train)\n",
    "y_predict = model.predict(X_test)\n",
    "\n",
    "print(\"R2_SCORE: \", metrics.r2_score(y_test, y_predict))\n",
    "print(\"MAPE: \", metrics.mean_absolute_percentage_error(y_test, y_predict))\n",
    "print(\"RMSE%: \", 100*round(math.sqrt(metrics.mean_squared_error(y_test, y_predict)) / dfm[\"cnt\"].mean(),2))\n",
    "print(\"RMSE: \", math.sqrt(metrics.mean_squared_error(y_test, y_predict)))\n",
    "\n",
    "print(model.best_score_ , model.best_params_)"
   ]
  },
  {
   "cell_type": "code",
   "execution_count": 69,
   "metadata": {},
   "outputs": [],
   "source": [
    "\n",
    "reg_bagging = BaggingRegressor(DecisionTreeRegressor(min_samples_leaf=5), n_estimators=100, bootstrap=False, n_jobs=-1, max_samples=50)\n",
    "\n",
    "reg_bagging.fit(X_train, y_train)\n",
    "y_predict = reg_bagging.predict(X_test)\n"
   ]
  },
  {
   "cell_type": "code",
   "execution_count": null,
   "metadata": {},
   "outputs": [],
   "source": [
    "pipe = make_pipeline(StandardScaler(), SVR())\n",
    "clf_gridSearch = GridSearchCV(pipe, param_grid={'svr__epsilon': [0.001, 0.01, 0.1, 1, 10], 'svr__C': [0.1, 1, 10, 100]})\n",
    "clf_gridSearch.fit(X_train, y_train)\n",
    "y_predict = clf_gridSearch.predict(X_test)"
   ]
  },
  {
   "cell_type": "code",
   "execution_count": 75,
   "metadata": {},
   "outputs": [
    {
     "name": "stdout",
     "output_type": "stream",
     "text": [
      "R2_SCORE:  0.7983579803247292\n",
      "MAPE:  0.2754848673291777\n",
      "RMSE:  866.923437488024\n",
      "RMSE%:  19.0\n",
      "0.7735109734592813 {'svr__C': 100, 'svr__epsilon': 10}\n"
     ]
    }
   ],
   "source": [
    "print(\"R2_SCORE: \", metrics.r2_score(y_test, y_predict))\n",
    "print(\"MAPE: \", metrics.mean_absolute_percentage_error(y_test, y_predict))\n",
    "print(\"RMSE: \", math.sqrt(metrics.mean_squared_error(y_test, y_predict)))\n",
    "\n",
    "print(\"RMSE%: \", 100*round(math.sqrt(metrics.mean_squared_error(y_test, y_predict)) / dfm[\"cnt\"].mean(),2))\n",
    "print(clf_gridSearch.best_score_ , clf_gridSearch.best_params_)"
   ]
  },
  {
   "cell_type": "code",
   "execution_count": 9,
   "metadata": {},
   "outputs": [],
   "source": [
    "from sklearn.ensemble import BaggingRegressor\n",
    "\n",
    "reg_bagging = BaggingRegressor(DecisionTreeRegressor(min_samples_leaf=5), n_estimators=100, bootstrap=False, n_jobs=-1, max_samples=50)\n",
    "\n",
    "reg_bagging.fit(X_train, y_train)\n",
    "y_predict = reg_bagging.predict(X_test)\n"
   ]
  },
  {
   "cell_type": "code",
   "execution_count": 74,
   "metadata": {},
   "outputs": [
    {
     "name": "stdout",
     "output_type": "stream",
     "text": [
      "R2_SCORE:  0.7983579803247292\n",
      "MAPE:  0.2754848673291777\n",
      "RMSE:  866.923437488024\n",
      "RMSE%:  19.0\n"
     ]
    }
   ],
   "source": [
    "print(\"R2_SCORE: \", metrics.r2_score(y_test, y_predict))\n",
    "print(\"MAPE: \", metrics.mean_absolute_percentage_error(y_test, y_predict))\n",
    "print(\"RMSE: \", math.sqrt(metrics.mean_squared_error(y_test, y_predict)))\n",
    "\n",
    "print(\"RMSE%: \", 100*round(math.sqrt(metrics.mean_squared_error(y_test, y_predict)) / dfm[\"cnt\"].mean(),2))"
   ]
  },
  {
   "cell_type": "code",
   "execution_count": 91,
   "metadata": {},
   "outputs": [
    {
     "name": "stdout",
     "output_type": "stream",
     "text": [
      "estimator: None Parameters: {'bootstrap': False, 'bootstrap_features': False, 'max_features': 1.0, 'max_samples': 1.0, 'n_estimators': 10} RMSE: 870.8113611263157\n",
      "estimator: GridSearchCV(estimator=Pipeline(steps=[('standardscaler', StandardScaler()),\n",
      "                                       ('polynomialfeatures',\n",
      "                                        PolynomialFeatures()),\n",
      "                                       ('ridge', Ridge())]),\n",
      "             param_grid={'polynomialfeatures__degree': [1, 2],\n",
      "                         'polynomialfeatures__include_bias': [True, False],\n",
      "                         'ridge__alpha': [0.5, 1, 5, 10, 20, 50]}) Parameters: {'bootstrap': False, 'bootstrap_features': False, 'max_features': 1.0, 'max_samples': 1.0, 'n_estimators': 10} RMSE: 734.4785936378337\n",
      "estimator: DecisionTreeRegressor() Parameters: {'bootstrap': False, 'bootstrap_features': False, 'max_features': 1.0, 'max_samples': 1.0, 'n_estimators': 10} RMSE: 870.8113611263157\n",
      "estimator: GridSearchCV(estimator=Pipeline(steps=[('standardscaler', StandardScaler()),\n",
      "                                       ('kneighborsregressor',\n",
      "                                        KNeighborsRegressor())]),\n",
      "             param_grid={'kneighborsregressor__n_neighbors': [1, 5]}) Parameters: {'bootstrap': False, 'bootstrap_features': False, 'max_features': 1.0, 'max_samples': 1.0, 'n_estimators': 10} RMSE: 817.2586609584291\n",
      "estimator: GridSearchCV(estimator=Pipeline(steps=[('standardscaler', StandardScaler()),\n",
      "                                       ('svr', SVR())]),\n",
      "             param_grid={'svr__C': [0.1, 10, 100],\n",
      "                         'svr__epsilon': [0.001, 1, 10]}) Parameters: {'bootstrap': False, 'bootstrap_features': False, 'max_features': 1.0, 'max_samples': 1.0, 'n_estimators': 10} RMSE: 866.9234374880247\n",
      "result: [None, {'bootstrap': False, 'bootstrap_features': False, 'max_features': 1.0, 'max_samples': 0.5, 'n_estimators': 10}, 653.7253739589916]\n",
      "RMSE%:  14.519301760056173 2\n"
     ]
    }
   ],
   "source": [
    "from sklearn import utils\n",
    "from sklearn.model_selection import ParameterGrid\n",
    "from sklearn.dummy import DummyRegressor\n",
    "best=10000000\n",
    "grid = ParameterGrid({\"max_samples\": [0.5, 1.0],\n",
    "                          \"max_features\": [0.5, 1.0],\n",
    "                          \"bootstrap\": [True, False],\n",
    "                          \"n_estimators\":[1,100],\n",
    "                          \"bootstrap_features\": [True, False]})\n",
    "\n",
    "if 2<1:\n",
    "      # grid = ParameterGrid({\"max_samples\": [ 1.0],\n",
    "    #                           \"max_features\": [ 1.0],\n",
    "    #                           \"bootstrap\": [True],\n",
    "    #                           \"n_estimators\":[1],\n",
    "    #                           \"bootstrap_features\": [True]})\n",
    "\n",
    "    # modelpoly = GridSearchCV(pipepoly, param_grid={'polynomialfeatures__degree': [1], 'polynomialfeatures__include_bias' :[True] , 'ridge__alpha': [1]})                                       \n",
    "    # modelkneighbors = GridSearchCV(pipek, param_grid={'kneighborsregressor__n_neighbors': [1 ]})\n",
    "    # modelsvr = GridSearchCV(pipesvr, param_grid={'svr__epsilon': [1], 'svr__C': [0.1]})\n",
    "    pass\n",
    "  \n",
    "\n",
    "pipepoly = make_pipeline(preprocessing.StandardScaler(), PolynomialFeatures(),Ridge())\n",
    "modelpoly = GridSearchCV(pipepoly, param_grid={'polynomialfeatures__degree': [1, 2], 'polynomialfeatures__include_bias' :[True , False] , 'ridge__alpha': [0.5, 1,5, 10, 20,50]})                                       \n",
    "\n",
    "pipek = make_pipeline(preprocessing.StandardScaler(), KNeighborsRegressor())\n",
    "modelkneighbors = GridSearchCV(pipek, param_grid={'kneighborsregressor__n_neighbors': [1,5 ]})\n",
    "\n",
    "pipesvr = make_pipeline(preprocessing.StandardScaler(), SVR())\n",
    "modelsvr = GridSearchCV(pipesvr, param_grid={'svr__epsilon': [0.001,  1, 10], 'svr__C': [0.1, 10, 100]})\n",
    "\n",
    "for base_estimator in [\n",
    "                           None,\n",
    "                           modelpoly,\n",
    "                           DecisionTreeRegressor(),\n",
    "                           modelkneighbors,\n",
    "                           modelsvr\n",
    "]:\n",
    "        for params in grid:\n",
    "            # print(**params)\n",
    "            model=BaggingRegressor(base_estimator=base_estimator, random_state=utils.check_random_state(0),**params)\n",
    "            model.fit(X_train, y_train)\n",
    "            y_predict= model.predict(X_test)\n",
    "            \n",
    "            # print(base_estimator, \"R2_SCORE: \", metrics.r2_score(y_test, y_predict))\n",
    "            # print(\"MAPE: \", metrics.mean_absolute_percentage_error(y_test, y_predict))\n",
    "            # print(math.sqrt(metrics.mean_squared_error(y_test, y_predict)) / dfm[\"cnt\"].mean())\n",
    "            rmse=math.sqrt(metrics.mean_squared_error(y_test, y_predict))\n",
    "            \n",
    "            if  rmse < best:\n",
    "                           best=rmse\n",
    "                           bestr2=metrics.r2_score(y_test, y_predict) \n",
    "                           matrisresult=[base_estimator , params , bestr2,best ]\n",
    "          \n",
    "        try:\n",
    "            print('estimator:',base_estimator, 'Parameters:', params, 'RMSE:' , rmse)   \n",
    "        except:\n",
    "            print('--------------------------------------------------------------------')\n",
    "        \n",
    "print('result:',matrisresult)\n",
    "print(\"RMSE%: \", 100*round(best) / dfm[\"cnt\"].mean(),2)\n",
    "                # print(\"R2_SCORE: \", metrics.r2_score(y_test, y_predict))\n",
    "                # print(\"MAPE: \", metrics.mean_absolute_percentage_error(y_test, y_predict))\n",
    "                # print(math.sqrt(metrics.mean_squared_error(y_test, y_predict)) / dfm[\"cnt\"].mean())"
   ]
  },
  {
   "cell_type": "code",
   "execution_count": null,
   "metadata": {},
   "outputs": [],
   "source": [
    "best result:\n",
    "    \n",
    "    \n",
    "estimator: DecisionTreeRegressor. Parameters: {'bootstrap': False, 'bootstrap_features': False, 'max_features': 1.0, 'max_samples': 1.0, 'n_estimators': 100} RMSE: 863.1040996543442\n",
    "result: [None, {'bootstrap': False, 'bootstrap_features': False, 'max_features': 1.0, 'max_samples': 0.5, 'n_estimators': 100}, \n",
    "r2: 0.888974336782214, 643.282760910281]\n",
    "RMSE%:  14.275093320666848 2"
   ]
  },
  {
   "cell_type": "code",
   "execution_count": 4,
   "metadata": {
    "tags": []
   },
   "outputs": [],
   "source": [
    "from sktime.forecasting.model_selection import temporal_train_test_split\n",
    "from sktime.utils.plotting import plot_series\n",
    "from sklearn.neighbors import KNeighborsRegressor\n",
    "from sktime.forecasting.compose import make_reduction\n",
    "from sktime.forecasting.arima import AutoARIMA\n"
   ]
  },
  {
   "cell_type": "code",
   "execution_count": 77,
   "metadata": {
    "tags": []
   },
   "outputs": [
    {
     "data": {
      "text/plain": [
       "ForecastingHorizon([1, 2, 3, 4, 5], dtype='int64', is_relative=True)"
      ]
     },
     "execution_count": 77,
     "metadata": {},
     "output_type": "execute_result"
    }
   ],
   "source": [
    "y=dft.cnt\n",
    "from sktime.forecasting.base import ForecastingHorizon\n",
    "\n",
    "fh = ForecastingHorizon(\n",
    "    pd.period_range(\"2012-12-27\", periods=5, freq=\"D\"), is_relative=False\n",
    ")\n",
    "cutoff = pd.Period(\"2012-12-26\", freq=\"D\")\n",
    "fh.to_relative(cutoff)"
   ]
  },
  {
   "cell_type": "code",
   "execution_count": null,
   "metadata": {
    "tags": []
   },
   "outputs": [],
   "source": [
    "y_train=dft.iloc[0:-6,-1]\n",
    "y_test=dft.iloc[-5:-1,-1]\n",
    "\n",
    "# y_train, y_test = temporal_train_test_split(y, fh=fh)\n",
    "forecaster = AutoARIMA(sp=7, suppress_warnings=True)\n",
    "forecaster.fit(y_train)\n",
    "y_pred = forecaster.predict(fh)\n",
    "plot_series(y_train, y_test, y_pred, labels=[\"y_train\", \"y_test\", \"y_pred\"])"
   ]
  },
  {
   "cell_type": "code",
   "execution_count": null,
   "metadata": {
    "tags": []
   },
   "outputs": [],
   "source": []
  }
 ],
 "metadata": {
  "colab": {
   "provenance": []
  },
  "kernelspec": {
   "display_name": "Python 3 (ipykernel)",
   "language": "python",
   "name": "python3"
  },
  "language_info": {
   "codemirror_mode": {
    "name": "ipython",
    "version": 3
   },
   "file_extension": ".py",
   "mimetype": "text/x-python",
   "name": "python",
   "nbconvert_exporter": "python",
   "pygments_lexer": "ipython3",
   "version": "3.10.6"
  },
  "vscode": {
   "interpreter": {
    "hash": "916dbcbb3f70747c44a77c7bcd40155683ae19c65e1c03b4aa3499c5328201f1"
   }
  },
  "widgets": {
   "application/vnd.jupyter.widget-state+json": {
    "state": {},
    "version_major": 2,
    "version_minor": 0
   }
  }
 },
 "nbformat": 4,
 "nbformat_minor": 4
}
