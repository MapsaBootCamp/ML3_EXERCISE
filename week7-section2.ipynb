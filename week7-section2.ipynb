{
 "cells": [
  {
   "cell_type": "markdown",
   "id": "47f59ba8",
   "metadata": {},
   "source": [
    "<br><p style=\"margin-left: 25%; font-size:20px;\">Machine Learning Camp: HomeWork 7 Section 2</p><br>"
   ]
  },
  {
   "cell_type": "markdown",
   "id": "2218b073",
   "metadata": {
    "tags": []
   },
   "source": [
    "## 1. **Working with datetime data;** The object `myDate` contains the date and time. Based on this object answer the following questions and type the answer after your findings."
   ]
  },
  {
   "cell_type": "code",
   "execution_count": 15,
   "id": "852806fb-f4c0-4eab-92c4-eb8c0c3a078b",
   "metadata": {},
   "outputs": [],
   "source": [
    "from IPython.display import display, Markdown\n"
   ]
  },
  {
   "cell_type": "code",
   "execution_count": 4,
   "id": "8e4680e3",
   "metadata": {},
   "outputs": [],
   "source": [
    "myDate = \"2022-10-01 09:42:43\""
   ]
  },
  {
   "cell_type": "markdown",
   "id": "666d9ea6",
   "metadata": {},
   "source": [
    "a. Convert `myDate` into a datetime object with Iran time zone. Display the result."
   ]
  },
  {
   "cell_type": "code",
   "execution_count": 4,
   "id": "0debd74f",
   "metadata": {},
   "outputs": [],
   "source": [
    "from datetime import datetime ,timedelta\n",
    "import pytz\n",
    "import pandas as pd"
   ]
  },
  {
   "cell_type": "code",
   "execution_count": 50,
   "id": "38c55e00-7c65-4263-bd0c-34c7330ce0a2",
   "metadata": {},
   "outputs": [
    {
     "data": {
      "text/plain": [
       "datetime.datetime(2022, 10, 1, 9, 42, 43)"
      ]
     },
     "execution_count": 50,
     "metadata": {},
     "output_type": "execute_result"
    }
   ],
   "source": [
    "md=datetime.strptime(myDate,'%Y-%m-%d %H:%M:%S')\n",
    "md"
   ]
  },
  {
   "cell_type": "code",
   "execution_count": 51,
   "id": "12f166fd-0dfd-40bc-a72b-826bfac32452",
   "metadata": {},
   "outputs": [
    {
     "data": {
      "text/plain": [
       "datetime.datetime(2022, 10, 1, 13, 12, 43, tzinfo=<DstTzInfo 'Asia/Tehran' +0330+3:30:00 STD>)"
      ]
     },
     "execution_count": 51,
     "metadata": {},
     "output_type": "execute_result"
    }
   ],
   "source": [
    "md.astimezone(pytz.timezone('Asia/Tehran'))"
   ]
  },
  {
   "cell_type": "markdown",
   "id": "f2684fe9",
   "metadata": {},
   "source": [
    "b. Write your codes so that it displays the week day and also the month of `myDate`."
   ]
  },
  {
   "cell_type": "code",
   "execution_count": 60,
   "id": "884c4d41",
   "metadata": {},
   "outputs": [
    {
     "data": {
      "text/markdown": [
       "<font face=\"XB Zar\" font color=peru size=5>week: 5 , day:1 , month:10"
      ],
      "text/plain": [
       "<IPython.core.display.Markdown object>"
      ]
     },
     "execution_count": 60,
     "metadata": {},
     "output_type": "execute_result"
    }
   ],
   "source": [
    "result=(f\"week: {md.weekday()} , day:{md.day} , month:{md.month}\")\n",
    "Markdown('<font face=\"XB Zar\" font color=peru size=5>{}'.format(result))"
   ]
  },
  {
   "cell_type": "markdown",
   "id": "57f8a4a0",
   "metadata": {},
   "source": [
    "c. What weekday and the month is it after exactly 100 years from `myDate`?"
   ]
  },
  {
   "cell_type": "code",
   "execution_count": 47,
   "id": "c8bc864e",
   "metadata": {},
   "outputs": [
    {
     "name": "stdout",
     "output_type": "stream",
     "text": [
      "100 years after: 2122-10-01 09:42:43\n"
     ]
    }
   ],
   "source": [
    "print(f\"100 years after: {md+ pd.offsets.DateOffset(years=100)}\")\n"
   ]
  },
  {
   "cell_type": "markdown",
   "id": "211c0893",
   "metadata": {},
   "source": [
    "d. Add two month with myDate and display the resulting date time."
   ]
  },
  {
   "cell_type": "code",
   "execution_count": 51,
   "id": "4427d37a",
   "metadata": {},
   "outputs": [
    {
     "name": "stdout",
     "output_type": "stream",
     "text": [
      "2 months after: 2022-12-01 09:42:43\n"
     ]
    }
   ],
   "source": [
    "print(f\"2 months after: {md+ pd.offsets.DateOffset(months=2)}\")\n"
   ]
  },
  {
   "cell_type": "markdown",
   "id": "717c3957",
   "metadata": {},
   "source": [
    "e. Suppose this homework is due on December 23, 2022 by 11.59PM. Compute and display how many seconds you got to complete this homework? Also compute the hours."
   ]
  },
  {
   "cell_type": "code",
   "execution_count": 71,
   "id": "8b46dd46",
   "metadata": {},
   "outputs": [
    {
     "name": "stdout",
     "output_type": "stream",
     "text": [
      "seconds you got to complete this homework: 500254\n"
     ]
    }
   ],
   "source": [
    "remains=(datetime.strptime(\"December 23, 2022 11.59PM\",'%B %d, %Y %I.%M%p')-datetime.now()).total_seconds()\n",
    "\n",
    "print(f\"seconds you got to complete this homework: {int(remains)}\")"
   ]
  },
  {
   "cell_type": "markdown",
   "id": "a94748d3",
   "metadata": {},
   "source": [
    "f. For the years `2021` & `2022`, count the number of weekends. Which year has the highest number of Weekends?"
   ]
  },
  {
   "cell_type": "code",
   "execution_count": 76,
   "id": "062a60ff",
   "metadata": {},
   "outputs": [
    {
     "name": "stdout",
     "output_type": "stream",
     "text": [
      "2021:261,   2022:260\n"
     ]
    }
   ],
   "source": [
    "import numpy as np\n",
    "wd21 =np.busday_count('2021-01-01', '2022-01-01')\n",
    "wd22=np.busday_count('2022-01-01', '2023-01-01')\n",
    "print(f\"2021:{wd21},   2022:{wd22}\")\n"
   ]
  },
  {
   "cell_type": "markdown",
   "id": "31f068c5",
   "metadata": {},
   "source": [
    "g. What is the month(MM) and day(DD) on the `305`th day of the current year?"
   ]
  },
  {
   "cell_type": "code",
   "execution_count": 81,
   "id": "5e17ad7a",
   "metadata": {},
   "outputs": [
    {
     "name": "stdout",
     "output_type": "stream",
     "text": [
      "305th day of the year, month: 11 , day: 2\n"
     ]
    }
   ],
   "source": [
    "print(f\"305th day of the year, month: {(datetime(2022,1,1)+ pd.offsets.DateOffset(days=305)).month} , day: {(datetime(2022,1,1)+ pd.offsets.DateOffset(days=305)).day}\")"
   ]
  },
  {
   "cell_type": "markdown",
   "id": "2b6f4dd0",
   "metadata": {},
   "source": [
    "h. The Date `2022-10-20` is formatted `YYYY-MM-DD`, format it into `MM-DD-YYYY`"
   ]
  },
  {
   "cell_type": "code",
   "execution_count": 83,
   "id": "6c5a84c2",
   "metadata": {},
   "outputs": [
    {
     "data": {
      "text/plain": [
       "'10-20-2022'"
      ]
     },
     "execution_count": 83,
     "metadata": {},
     "output_type": "execute_result"
    }
   ],
   "source": [
    "datetime.strptime(\"2022-10-20\", '%Y-%m-%d').strftime('%m-%d-%Y')\n"
   ]
  },
  {
   "cell_type": "markdown",
   "id": "8ecba4de",
   "metadata": {},
   "source": [
    "i. Find if the Date on the question above is the weekend or a weekday."
   ]
  },
  {
   "cell_type": "code",
   "execution_count": 85,
   "id": "bcc38e46",
   "metadata": {},
   "outputs": [
    {
     "name": "stdout",
     "output_type": "stream",
     "text": [
      "is not weekend\n"
     ]
    }
   ],
   "source": [
    "if datetime.strptime(\"2022-10-20\", '%Y-%m-%d').weekday() > 5:\n",
    "    print(\"is weekend\")\n",
    "else:\n",
    "    print(\"is not weekend\")\n"
   ]
  },
  {
   "cell_type": "markdown",
   "id": "5761a24f",
   "metadata": {},
   "source": [
    "## 2. **Walmart Sales Analysis:** load and read the dataset `walmart_sales.csv` and `walmart_fuel_prices.csv`.\n",
    "\n",
    "We will follow the following data description when working with the above 2 datasets:\n",
    "\n",
    " * `index:` index is a default value of count\n",
    " * `Store:` Store is represented in number ID(1,2,3,4,...)\n",
    " * `Dept:` Dept is Department in each Store represented in number ID (1,2,3,4,...)\n",
    " * `Date:` Date is in YYYY-MM-DD char format - *needs to be converted into Date data type*\n",
    " * `Weekly_Sales:` Sales of a given Dept in a given Store for the Date\n",
    " * `Temperature:` Average temperature on the Date at given Store region\n",
    " * `Fuel_Price:` Cost of the Fuel on the given Date at a given Store\n",
    " * `IsHoliday:` Is the given Date a holiday Week? "
   ]
  },
  {
   "cell_type": "code",
   "execution_count": 5,
   "id": "9c792786-0dca-4df6-bafd-2e6163d6bd03",
   "metadata": {},
   "outputs": [
    {
     "data": {
      "text/html": [
       "<div>\n",
       "<style scoped>\n",
       "    .dataframe tbody tr th:only-of-type {\n",
       "        vertical-align: middle;\n",
       "    }\n",
       "\n",
       "    .dataframe tbody tr th {\n",
       "        vertical-align: top;\n",
       "    }\n",
       "\n",
       "    .dataframe thead th {\n",
       "        text-align: right;\n",
       "    }\n",
       "</style>\n",
       "<table border=\"1\" class=\"dataframe\">\n",
       "  <thead>\n",
       "    <tr style=\"text-align: right;\">\n",
       "      <th></th>\n",
       "      <th>index</th>\n",
       "      <th>Store</th>\n",
       "      <th>Temperature</th>\n",
       "      <th>Fuel_Price</th>\n",
       "      <th>IsHoliday</th>\n",
       "    </tr>\n",
       "    <tr>\n",
       "      <th>Date</th>\n",
       "      <th></th>\n",
       "      <th></th>\n",
       "      <th></th>\n",
       "      <th></th>\n",
       "      <th></th>\n",
       "    </tr>\n",
       "  </thead>\n",
       "  <tbody>\n",
       "    <tr>\n",
       "      <th>2010-02-05</th>\n",
       "      <td>1</td>\n",
       "      <td>1</td>\n",
       "      <td>42.31</td>\n",
       "      <td>2.572</td>\n",
       "      <td>False</td>\n",
       "    </tr>\n",
       "    <tr>\n",
       "      <th>2010-02-12</th>\n",
       "      <td>2</td>\n",
       "      <td>1</td>\n",
       "      <td>38.51</td>\n",
       "      <td>2.548</td>\n",
       "      <td>True</td>\n",
       "    </tr>\n",
       "  </tbody>\n",
       "</table>\n",
       "</div>"
      ],
      "text/plain": [
       "            index  Store  Temperature  Fuel_Price  IsHoliday\n",
       "Date                                                        \n",
       "2010-02-05      1      1        42.31       2.572      False\n",
       "2010-02-12      2      1        38.51       2.548       True"
      ]
     },
     "execution_count": 5,
     "metadata": {},
     "output_type": "execute_result"
    }
   ],
   "source": [
    "dff=pd.read_csv(\"walmart_fuel_prices.csv\",parse_dates=['Date'] , index_col=\"Date\")\n",
    "dff.head(2)"
   ]
  },
  {
   "cell_type": "code",
   "execution_count": 6,
   "id": "06623146",
   "metadata": {},
   "outputs": [
    {
     "data": {
      "text/html": [
       "<div>\n",
       "<style scoped>\n",
       "    .dataframe tbody tr th:only-of-type {\n",
       "        vertical-align: middle;\n",
       "    }\n",
       "\n",
       "    .dataframe tbody tr th {\n",
       "        vertical-align: top;\n",
       "    }\n",
       "\n",
       "    .dataframe thead th {\n",
       "        text-align: right;\n",
       "    }\n",
       "</style>\n",
       "<table border=\"1\" class=\"dataframe\">\n",
       "  <thead>\n",
       "    <tr style=\"text-align: right;\">\n",
       "      <th></th>\n",
       "      <th>Store</th>\n",
       "      <th>Dept</th>\n",
       "      <th>Weekly_Sales</th>\n",
       "      <th>IsHoliday</th>\n",
       "    </tr>\n",
       "    <tr>\n",
       "      <th>Date</th>\n",
       "      <th></th>\n",
       "      <th></th>\n",
       "      <th></th>\n",
       "      <th></th>\n",
       "    </tr>\n",
       "  </thead>\n",
       "  <tbody>\n",
       "    <tr>\n",
       "      <th>2010-02-05</th>\n",
       "      <td>1</td>\n",
       "      <td>1</td>\n",
       "      <td>24924.5</td>\n",
       "      <td>False</td>\n",
       "    </tr>\n",
       "  </tbody>\n",
       "</table>\n",
       "</div>"
      ],
      "text/plain": [
       "            Store  Dept  Weekly_Sales  IsHoliday\n",
       "Date                                            \n",
       "2010-02-05      1     1       24924.5      False"
      ]
     },
     "execution_count": 6,
     "metadata": {},
     "output_type": "execute_result"
    }
   ],
   "source": [
    "dfs=pd.read_csv(\"walmart_sales.csv\",parse_dates=['Date'] , index_col=\"Date\")\n",
    "dfs.head(1)"
   ]
  },
  {
   "cell_type": "code",
   "execution_count": 7,
   "id": "25e5850b-58db-45b8-8075-0a83defb9f63",
   "metadata": {},
   "outputs": [
    {
     "data": {
      "text/plain": [
       "array([ 1,  2,  3,  4,  5,  6,  7,  8,  9, 10, 11, 12, 13, 14, 15, 16, 17,\n",
       "       18, 19, 20, 21, 22, 23, 24, 25, 26, 27, 28, 29, 30, 31, 32, 33, 34,\n",
       "       35, 36, 37, 38, 39, 40, 41, 42, 43, 44, 45])"
      ]
     },
     "execution_count": 7,
     "metadata": {},
     "output_type": "execute_result"
    }
   ],
   "source": [
    "dfs.Store.unique()"
   ]
  },
  {
   "cell_type": "markdown",
   "id": "28576a96",
   "metadata": {},
   "source": [
    " a. For both datasets, breakdown the `Date` column and create additional new columns `Year`, `Month`, and `Day`. You should now have additional 3 new columns in your both dataset. Report only the column names for both the dataset."
   ]
  },
  {
   "cell_type": "code",
   "execution_count": 129,
   "id": "84d4f15a-1c92-4b50-a7a4-2484c3f2ed35",
   "metadata": {},
   "outputs": [
    {
     "data": {
      "text/plain": [
       "DatetimeIndex(['2010-02-05', '2010-02-12', '2010-02-19', '2010-02-26',\n",
       "               '2010-03-05', '2010-03-12', '2010-03-19', '2010-03-26',\n",
       "               '2010-04-02', '2010-04-09',\n",
       "               ...\n",
       "               '2012-08-24', '2012-08-31', '2012-09-07', '2012-09-14',\n",
       "               '2012-09-21', '2012-09-28', '2012-10-05', '2012-10-12',\n",
       "               '2012-10-19', '2012-10-26'],\n",
       "              dtype='datetime64[ns]', name='Date', length=421570, freq=None)"
      ]
     },
     "execution_count": 129,
     "metadata": {},
     "output_type": "execute_result"
    }
   ],
   "source": [
    "dfs.index"
   ]
  },
  {
   "cell_type": "code",
   "execution_count": 8,
   "id": "145e1d8a-6647-4edc-9986-7117954fe125",
   "metadata": {},
   "outputs": [],
   "source": [
    "def addymd(df):\n",
    "    df['year']=df.index.to_series().apply(lambda x: x.year)\n",
    "    df['month']=df.index.to_series().apply(lambda x: x.month)\n",
    "    df['day']=df.index.to_series().apply(lambda x: x.day)\n",
    "    return(df)\n"
   ]
  },
  {
   "cell_type": "code",
   "execution_count": 9,
   "id": "69d17cb5",
   "metadata": {},
   "outputs": [
    {
     "name": "stdout",
     "output_type": "stream",
     "text": [
      "Index(['Store', 'Dept', 'Weekly_Sales', 'IsHoliday', 'year', 'month', 'day'], dtype='object') Index(['index', 'Store', 'Temperature', 'Fuel_Price', 'IsHoliday', 'year',\n",
      "       'month', 'day'],\n",
      "      dtype='object')\n"
     ]
    }
   ],
   "source": [
    "dfs=addymd(dfs)\n",
    "dff=addymd(dff)\n",
    "dfs\n",
    "print(dfs.columns,dff.columns)"
   ]
  },
  {
   "cell_type": "markdown",
   "id": "13877d45",
   "metadata": {},
   "source": [
    "b. In `walmart_sales`: which `Month(s)` of `Year` have the highest `Weekly_Sales`? Report the Year, Month, Store, and Dept."
   ]
  },
  {
   "cell_type": "code",
   "execution_count": 10,
   "id": "46776f44-0934-4ca1-a5e4-3f5d46f5885f",
   "metadata": {},
   "outputs": [
    {
     "data": {
      "text/html": [
       "<div>\n",
       "<style scoped>\n",
       "    .dataframe tbody tr th:only-of-type {\n",
       "        vertical-align: middle;\n",
       "    }\n",
       "\n",
       "    .dataframe tbody tr th {\n",
       "        vertical-align: top;\n",
       "    }\n",
       "\n",
       "    .dataframe thead th {\n",
       "        text-align: right;\n",
       "    }\n",
       "</style>\n",
       "<table border=\"1\" class=\"dataframe\">\n",
       "  <thead>\n",
       "    <tr style=\"text-align: right;\">\n",
       "      <th></th>\n",
       "      <th>month</th>\n",
       "      <th>size</th>\n",
       "    </tr>\n",
       "  </thead>\n",
       "  <tbody>\n",
       "    <tr>\n",
       "      <th>3</th>\n",
       "      <td>4</td>\n",
       "      <td>41332</td>\n",
       "    </tr>\n",
       "    <tr>\n",
       "      <th>6</th>\n",
       "      <td>7</td>\n",
       "      <td>40980</td>\n",
       "    </tr>\n",
       "    <tr>\n",
       "      <th>2</th>\n",
       "      <td>3</td>\n",
       "      <td>38451</td>\n",
       "    </tr>\n",
       "  </tbody>\n",
       "</table>\n",
       "</div>"
      ],
      "text/plain": [
       "   month   size\n",
       "3      4  41332\n",
       "6      7  40980\n",
       "2      3  38451"
      ]
     },
     "execution_count": 10,
     "metadata": {},
     "output_type": "execute_result"
    }
   ],
   "source": [
    "dfs.groupby(by=['month'],as_index=False).size().sort_values('size',ascending=False).head(3)"
   ]
  },
  {
   "cell_type": "code",
   "execution_count": 11,
   "id": "08d7ee83-3684-4a26-9d5e-e8cf3379d02b",
   "metadata": {},
   "outputs": [],
   "source": [
    "maxmonth=dfs.groupby(by=['month'],as_index=False).size().sort_values('size',ascending=False).iloc[0,0]"
   ]
  },
  {
   "cell_type": "code",
   "execution_count": 12,
   "id": "17441e92-ab6b-4471-96a5-3f630624a128",
   "metadata": {},
   "outputs": [
    {
     "data": {
      "text/html": [
       "<div>\n",
       "<style scoped>\n",
       "    .dataframe tbody tr th:only-of-type {\n",
       "        vertical-align: middle;\n",
       "    }\n",
       "\n",
       "    .dataframe tbody tr th {\n",
       "        vertical-align: top;\n",
       "    }\n",
       "\n",
       "    .dataframe thead th {\n",
       "        text-align: right;\n",
       "    }\n",
       "</style>\n",
       "<table border=\"1\" class=\"dataframe\">\n",
       "  <thead>\n",
       "    <tr style=\"text-align: right;\">\n",
       "      <th></th>\n",
       "      <th>Store</th>\n",
       "      <th>Dept</th>\n",
       "      <th>Weekly_Sales</th>\n",
       "      <th>IsHoliday</th>\n",
       "      <th>year</th>\n",
       "      <th>month</th>\n",
       "      <th>day</th>\n",
       "    </tr>\n",
       "    <tr>\n",
       "      <th>Date</th>\n",
       "      <th></th>\n",
       "      <th></th>\n",
       "      <th></th>\n",
       "      <th></th>\n",
       "      <th></th>\n",
       "      <th></th>\n",
       "      <th></th>\n",
       "    </tr>\n",
       "  </thead>\n",
       "  <tbody>\n",
       "    <tr>\n",
       "      <th>2012-04-06</th>\n",
       "      <td>14</td>\n",
       "      <td>92</td>\n",
       "      <td>224917.94</td>\n",
       "      <td>False</td>\n",
       "      <td>2012</td>\n",
       "      <td>4</td>\n",
       "      <td>6</td>\n",
       "    </tr>\n",
       "  </tbody>\n",
       "</table>\n",
       "</div>"
      ],
      "text/plain": [
       "            Store  Dept  Weekly_Sales  IsHoliday  year  month  day\n",
       "Date                                                              \n",
       "2012-04-06     14    92     224917.94      False  2012      4    6"
      ]
     },
     "execution_count": 12,
     "metadata": {},
     "output_type": "execute_result"
    }
   ],
   "source": [
    "dfs[dfs.month==maxmonth].sort_values('Weekly_Sales',ascending=False).head(1)"
   ]
  },
  {
   "cell_type": "markdown",
   "id": "e0a1faef",
   "metadata": {},
   "source": [
    "c. In `walmart_sales`: calculate the average monthly sales by Department for each Store. Which Store(s) has the highest average monthly sales on the department(s)? Report the Store, Department, Date."
   ]
  },
  {
   "cell_type": "code",
   "execution_count": 13,
   "id": "15ef73fa",
   "metadata": {},
   "outputs": [
    {
     "data": {
      "text/html": [
       "<div>\n",
       "<style scoped>\n",
       "    .dataframe tbody tr th:only-of-type {\n",
       "        vertical-align: middle;\n",
       "    }\n",
       "\n",
       "    .dataframe tbody tr th {\n",
       "        vertical-align: top;\n",
       "    }\n",
       "\n",
       "    .dataframe thead th {\n",
       "        text-align: right;\n",
       "    }\n",
       "</style>\n",
       "<table border=\"1\" class=\"dataframe\">\n",
       "  <thead>\n",
       "    <tr style=\"text-align: right;\">\n",
       "      <th></th>\n",
       "      <th>Store</th>\n",
       "      <th>Dept</th>\n",
       "      <th>Date</th>\n",
       "      <th>Weekly_Sales</th>\n",
       "      <th>IsHoliday</th>\n",
       "      <th>year</th>\n",
       "      <th>month</th>\n",
       "      <th>day</th>\n",
       "    </tr>\n",
       "  </thead>\n",
       "  <tbody>\n",
       "    <tr>\n",
       "      <th>0</th>\n",
       "      <td>1</td>\n",
       "      <td>1</td>\n",
       "      <td>2010-02-05</td>\n",
       "      <td>24924.5</td>\n",
       "      <td>False</td>\n",
       "      <td>2010</td>\n",
       "      <td>2</td>\n",
       "      <td>5</td>\n",
       "    </tr>\n",
       "  </tbody>\n",
       "</table>\n",
       "</div>"
      ],
      "text/plain": [
       "   Store  Dept       Date  Weekly_Sales  IsHoliday  year  month  day\n",
       "0      1     1 2010-02-05       24924.5      False  2010      2    5"
      ]
     },
     "execution_count": 13,
     "metadata": {},
     "output_type": "execute_result"
    }
   ],
   "source": [
    "dfs.head(1)"
   ]
  },
  {
   "cell_type": "code",
   "execution_count": 13,
   "id": "5641ada5-2303-4443-a3dc-bb84a292e044",
   "metadata": {
    "tags": []
   },
   "outputs": [
    {
     "name": "stdout",
     "output_type": "stream",
     "text": [
      "Store(s) has the highest average monthly sales on the department(s):\n"
     ]
    },
    {
     "data": {
      "text/html": [
       "<div>\n",
       "<style scoped>\n",
       "    .dataframe tbody tr th:only-of-type {\n",
       "        vertical-align: middle;\n",
       "    }\n",
       "\n",
       "    .dataframe tbody tr th {\n",
       "        vertical-align: top;\n",
       "    }\n",
       "\n",
       "    .dataframe thead th {\n",
       "        text-align: right;\n",
       "    }\n",
       "</style>\n",
       "<table border=\"1\" class=\"dataframe\">\n",
       "  <thead>\n",
       "    <tr style=\"text-align: right;\">\n",
       "      <th></th>\n",
       "      <th>Store</th>\n",
       "      <th>month</th>\n",
       "      <th>Dept</th>\n",
       "      <th>Weekly_Sales</th>\n",
       "    </tr>\n",
       "  </thead>\n",
       "  <tbody>\n",
       "    <tr>\n",
       "      <th>8580</th>\n",
       "      <td>10</td>\n",
       "      <td>11</td>\n",
       "      <td>72</td>\n",
       "      <td>276410.157500</td>\n",
       "    </tr>\n",
       "    <tr>\n",
       "      <th>30285</th>\n",
       "      <td>35</td>\n",
       "      <td>11</td>\n",
       "      <td>72</td>\n",
       "      <td>219788.678750</td>\n",
       "    </tr>\n",
       "    <tr>\n",
       "      <th>8656</th>\n",
       "      <td>10</td>\n",
       "      <td>12</td>\n",
       "      <td>72</td>\n",
       "      <td>214196.733000</td>\n",
       "    </tr>\n",
       "    <tr>\n",
       "      <th>12150</th>\n",
       "      <td>14</td>\n",
       "      <td>11</td>\n",
       "      <td>92</td>\n",
       "      <td>206536.683750</td>\n",
       "    </tr>\n",
       "    <tr>\n",
       "      <th>12224</th>\n",
       "      <td>14</td>\n",
       "      <td>12</td>\n",
       "      <td>92</td>\n",
       "      <td>199630.543000</td>\n",
       "    </tr>\n",
       "    <tr>\n",
       "      <th>7903</th>\n",
       "      <td>10</td>\n",
       "      <td>2</td>\n",
       "      <td>72</td>\n",
       "      <td>199603.285000</td>\n",
       "    </tr>\n",
       "    <tr>\n",
       "      <th>1715</th>\n",
       "      <td>2</td>\n",
       "      <td>11</td>\n",
       "      <td>92</td>\n",
       "      <td>198855.816250</td>\n",
       "    </tr>\n",
       "    <tr>\n",
       "      <th>11487</th>\n",
       "      <td>14</td>\n",
       "      <td>2</td>\n",
       "      <td>92</td>\n",
       "      <td>198124.121667</td>\n",
       "    </tr>\n",
       "    <tr>\n",
       "      <th>17479</th>\n",
       "      <td>20</td>\n",
       "      <td>11</td>\n",
       "      <td>72</td>\n",
       "      <td>191089.831250</td>\n",
       "    </tr>\n",
       "    <tr>\n",
       "      <th>8606</th>\n",
       "      <td>10</td>\n",
       "      <td>12</td>\n",
       "      <td>7</td>\n",
       "      <td>191064.291000</td>\n",
       "    </tr>\n",
       "  </tbody>\n",
       "</table>\n",
       "</div>"
      ],
      "text/plain": [
       "       Store  month  Dept   Weekly_Sales\n",
       "8580      10     11    72  276410.157500\n",
       "30285     35     11    72  219788.678750\n",
       "8656      10     12    72  214196.733000\n",
       "12150     14     11    92  206536.683750\n",
       "12224     14     12    92  199630.543000\n",
       "7903      10      2    72  199603.285000\n",
       "1715       2     11    92  198855.816250\n",
       "11487     14      2    92  198124.121667\n",
       "17479     20     11    72  191089.831250\n",
       "8606      10     12     7  191064.291000"
      ]
     },
     "execution_count": 13,
     "metadata": {},
     "output_type": "execute_result"
    }
   ],
   "source": [
    "print(f'Store(s) has the highest average monthly sales on the department(s):')\n",
    "# Markdown('<font face=\"XB Zar\" font color=peru size=5>{}'.format(result))\n",
    "(dfs.groupby(by=['Store','month','Dept'],as_index=False).aggregate({'Weekly_Sales':'mean'}).sort_values('Weekly_Sales',ascending=False).head(10))\n"
   ]
  },
  {
   "cell_type": "markdown",
   "id": "ee38e63a",
   "metadata": {},
   "source": [
    "d. In `walmart_sales`: which month of year `2011` has the highest overall sales by Store? Name the holiday(Labor day, July 4th, Halloween, Thanksgiving, Christmas,... etcs) that falls on the month. After that do the same for `2012`. Does the highest sales per month fall on the same holiday for both years? Report your findings for both year.\n"
   ]
  },
  {
   "cell_type": "code",
   "execution_count": 14,
   "id": "4cde3149-0518-415d-bd2f-47106ce59ad3",
   "metadata": {},
   "outputs": [
    {
     "name": "stderr",
     "output_type": "stream",
     "text": [
      "/tmp/ipykernel_116/4118551104.py:3: FutureWarning: Passing a set as an indexer is deprecated and will raise in a future version. Use a list instead.\n",
      "  dm.loc[:,{'y1','Weekly_Sales'}].plot.line(figsize =(17,2))\n"
     ]
    },
    {
     "data": {
      "text/plain": [
       "<AxesSubplot: xlabel='Date'>"
      ]
     },
     "execution_count": 14,
     "metadata": {},
     "output_type": "execute_result"
    },
    {
     "data": {
      "image/png": "[encoded data removed]",
      "text/plain": [
       "<Figure size 1700x200 with 1 Axes>"
      ]
     },
     "metadata": {},
     "output_type": "display_data"
    }
   ],
   "source": [
    "dm=dfs.resample(\"M\").sum()\n",
    "dm['y1'] = dm['Weekly_Sales'].shift(-12, freq=\"M\")\n",
    "dm.loc[:,{'y1','Weekly_Sales'}].plot.line(figsize =(17,2))"
   ]
  },
  {
   "cell_type": "code",
   "execution_count": 16,
   "id": "5d4973dc-d740-4a18-a7c8-1315fcabd1b6",
   "metadata": {},
   "outputs": [
    {
     "data": {
      "text/plain": [
       "array([2010, 2011, 2012])"
      ]
     },
     "execution_count": 16,
     "metadata": {},
     "output_type": "execute_result"
    }
   ],
   "source": [
    "dfs.year.unique()"
   ]
  },
  {
   "cell_type": "code",
   "execution_count": 17,
   "id": "67ce1306",
   "metadata": {},
   "outputs": [
    {
     "data": {
      "text/html": [
       "<div>\n",
       "<style scoped>\n",
       "    .dataframe tbody tr th:only-of-type {\n",
       "        vertical-align: middle;\n",
       "    }\n",
       "\n",
       "    .dataframe tbody tr th {\n",
       "        vertical-align: top;\n",
       "    }\n",
       "\n",
       "    .dataframe thead th {\n",
       "        text-align: right;\n",
       "    }\n",
       "</style>\n",
       "<table border=\"1\" class=\"dataframe\">\n",
       "  <thead>\n",
       "    <tr style=\"text-align: right;\">\n",
       "      <th></th>\n",
       "      <th>Weekly_Sales</th>\n",
       "    </tr>\n",
       "    <tr>\n",
       "      <th>month</th>\n",
       "      <th></th>\n",
       "    </tr>\n",
       "  </thead>\n",
       "  <tbody>\n",
       "    <tr>\n",
       "      <th>12</th>\n",
       "      <td>2.880781e+08</td>\n",
       "    </tr>\n",
       "  </tbody>\n",
       "</table>\n",
       "</div>"
      ],
      "text/plain": [
       "       Weekly_Sales\n",
       "month              \n",
       "12     2.880781e+08"
      ]
     },
     "execution_count": 17,
     "metadata": {},
     "output_type": "execute_result"
    }
   ],
   "source": [
    "dfs[dfs['year']==2011].groupby(['month']).aggregate({'Weekly_Sales':'sum'}).sort_values('Weekly_Sales',ascending=False).head(1)"
   ]
  },
  {
   "cell_type": "code",
   "execution_count": 18,
   "id": "5425d216-f0d7-4c44-897d-4e6c4ca82bb7",
   "metadata": {},
   "outputs": [
    {
     "data": {
      "text/html": [
       "<div>\n",
       "<style scoped>\n",
       "    .dataframe tbody tr th:only-of-type {\n",
       "        vertical-align: middle;\n",
       "    }\n",
       "\n",
       "    .dataframe tbody tr th {\n",
       "        vertical-align: top;\n",
       "    }\n",
       "\n",
       "    .dataframe thead th {\n",
       "        text-align: right;\n",
       "    }\n",
       "</style>\n",
       "<table border=\"1\" class=\"dataframe\">\n",
       "  <thead>\n",
       "    <tr style=\"text-align: right;\">\n",
       "      <th></th>\n",
       "      <th>Weekly_Sales</th>\n",
       "    </tr>\n",
       "    <tr>\n",
       "      <th>month</th>\n",
       "      <th></th>\n",
       "    </tr>\n",
       "  </thead>\n",
       "  <tbody>\n",
       "    <tr>\n",
       "      <th>12</th>\n",
       "      <td>2.887605e+08</td>\n",
       "    </tr>\n",
       "  </tbody>\n",
       "</table>\n",
       "</div>"
      ],
      "text/plain": [
       "       Weekly_Sales\n",
       "month              \n",
       "12     2.887605e+08"
      ]
     },
     "execution_count": 18,
     "metadata": {},
     "output_type": "execute_result"
    }
   ],
   "source": [
    "dfs[dfs['year']==2010].groupby(['month']).aggregate({'Weekly_Sales':'sum'}).sort_values('Weekly_Sales',ascending=False).head(1)"
   ]
  },
  {
   "cell_type": "code",
   "execution_count": 19,
   "id": "56dec043-3cce-4ac2-a81b-4ba1091f6547",
   "metadata": {},
   "outputs": [],
   "source": [
    "from datetime import date\n",
    "import holidays\n",
    "us_holidays = holidays.US()"
   ]
  },
  {
   "cell_type": "code",
   "execution_count": 20,
   "id": "25d868bb-fe71-46ea-827f-0f9f82ed7f09",
   "metadata": {},
   "outputs": [
    {
     "data": {
      "text/plain": [
       "{datetime.date(2011, 1, 1): \"New Year's Day\", datetime.date(2011, 1, 17): 'Martin Luther King Jr. Day', datetime.date(2011, 2, 21): \"Washington's Birthday\", datetime.date(2011, 5, 30): 'Memorial Day', datetime.date(2011, 7, 4): 'Independence Day', datetime.date(2011, 9, 5): 'Labor Day', datetime.date(2011, 10, 10): 'Columbus Day', datetime.date(2011, 11, 11): 'Veterans Day', datetime.date(2011, 11, 24): 'Thanksgiving', datetime.date(2011, 12, 25): 'Christmas Day', datetime.date(2011, 12, 26): 'Christmas Day (Observed)'}"
      ]
     },
     "execution_count": 20,
     "metadata": {},
     "output_type": "execute_result"
    }
   ],
   "source": [
    "holidays.US(years=2011)\n"
   ]
  },
  {
   "cell_type": "code",
   "execution_count": 21,
   "id": "70e2cab9-0f66-4b09-b59e-cde632d5877a",
   "metadata": {},
   "outputs": [
    {
     "data": {
      "text/plain": [
       "{datetime.date(2010, 1, 1): \"New Year's Day\", datetime.date(2010, 12, 31): \"New Year's Day (Observed)\", datetime.date(2010, 1, 18): 'Martin Luther King Jr. Day', datetime.date(2010, 2, 15): \"Washington's Birthday\", datetime.date(2010, 5, 31): 'Memorial Day', datetime.date(2010, 7, 4): 'Independence Day', datetime.date(2010, 7, 5): 'Independence Day (Observed)', datetime.date(2010, 9, 6): 'Labor Day', datetime.date(2010, 10, 11): 'Columbus Day', datetime.date(2010, 11, 11): 'Veterans Day', datetime.date(2010, 11, 25): 'Thanksgiving', datetime.date(2010, 12, 25): 'Christmas Day', datetime.date(2010, 12, 24): 'Christmas Day (Observed)'}"
      ]
     },
     "execution_count": 21,
     "metadata": {},
     "output_type": "execute_result"
    }
   ],
   "source": [
    "holidays.US(years=2010)\n"
   ]
  },
  {
   "cell_type": "code",
   "execution_count": 22,
   "id": "144c4b46-2323-40e8-b99c-f70c9a0d785d",
   "metadata": {},
   "outputs": [
    {
     "data": {
      "text/markdown": [
       "<font face=\"XB Zar\" font color=peru size=5>\n",
       "نتوانستم تعطیلات را بگیرم\n",
       "مقایسه دو سال ۲۰۱۱و۲۰۱۰ ماههای پر فروش و تعطیلات یکی بود\n",
       "باتوجه به نبودن ماه آخر ۲۰۱۲ به جای آن ۲۰۱۰ گذاشته شد\n"
      ],
      "text/plain": [
       "<IPython.core.display.Markdown object>"
      ]
     },
     "execution_count": 22,
     "metadata": {},
     "output_type": "execute_result"
    }
   ],
   "source": [
    "#نتوانستم تعطیلات را بگیرم\n",
    "result='''\n",
    "\n",
    "مقایسه دو سال ۲۰۱۱و۲۰۱۰ ماههای پر فروش و تعطیلات یکی بود\n",
    "باتوجه به نبودن ماه آخر ۲۰۱۲ به جای آن ۲۰۱۰ گذاشته شد\n",
    "'''\n",
    "Markdown('<font face=\"XB Zar\" font color=peru size=5>{}'.format(result))"
   ]
  },
  {
   "cell_type": "markdown",
   "id": "0e6c35a7",
   "metadata": {},
   "source": [
    " e. In `walmart_sales`: report the lowest sales per month for the year `2011` for `IsHoliday == TRUE`. Name the holiday(Labor day, July 4th, Halloween, Thanksgiving, Christmas,... etcs) that falls on the month. Do the same for `2012` and report if the lowest sales are on the same month."
   ]
  },
  {
   "cell_type": "code",
   "execution_count": 23,
   "id": "da376d70",
   "metadata": {},
   "outputs": [
    {
     "data": {
      "text/html": [
       "<div>\n",
       "<style scoped>\n",
       "    .dataframe tbody tr th:only-of-type {\n",
       "        vertical-align: middle;\n",
       "    }\n",
       "\n",
       "    .dataframe tbody tr th {\n",
       "        vertical-align: top;\n",
       "    }\n",
       "\n",
       "    .dataframe thead th {\n",
       "        text-align: right;\n",
       "    }\n",
       "</style>\n",
       "<table border=\"1\" class=\"dataframe\">\n",
       "  <thead>\n",
       "    <tr style=\"text-align: right;\">\n",
       "      <th></th>\n",
       "      <th>month</th>\n",
       "      <th>day</th>\n",
       "      <th>Weekly_Sales</th>\n",
       "    </tr>\n",
       "  </thead>\n",
       "  <tbody>\n",
       "    <tr>\n",
       "      <th>2</th>\n",
       "      <td>11</td>\n",
       "      <td>25</td>\n",
       "      <td>66593605.26</td>\n",
       "    </tr>\n",
       "    <tr>\n",
       "      <th>0</th>\n",
       "      <td>2</td>\n",
       "      <td>11</td>\n",
       "      <td>47336192.79</td>\n",
       "    </tr>\n",
       "    <tr>\n",
       "      <th>1</th>\n",
       "      <td>9</td>\n",
       "      <td>9</td>\n",
       "      <td>46763227.53</td>\n",
       "    </tr>\n",
       "    <tr>\n",
       "      <th>3</th>\n",
       "      <td>12</td>\n",
       "      <td>30</td>\n",
       "      <td>46042461.04</td>\n",
       "    </tr>\n",
       "  </tbody>\n",
       "</table>\n",
       "</div>"
      ],
      "text/plain": [
       "   month  day  Weekly_Sales\n",
       "2     11   25   66593605.26\n",
       "0      2   11   47336192.79\n",
       "1      9    9   46763227.53\n",
       "3     12   30   46042461.04"
      ]
     },
     "execution_count": 23,
     "metadata": {},
     "output_type": "execute_result"
    }
   ],
   "source": [
    "dfs[(dfs.year==2011)&(dfs.IsHoliday)].groupby(['month','day'],as_index=False).aggregate({'Weekly_Sales':'sum'}).sort_values('Weekly_Sales',ascending=False)"
   ]
  },
  {
   "cell_type": "code",
   "execution_count": 24,
   "id": "15244034-4a24-4800-8cf2-eef2f27d2165",
   "metadata": {},
   "outputs": [
    {
     "data": {
      "text/plain": [
       "{datetime.date(2011, 1, 1): \"New Year's Day\", datetime.date(2011, 1, 17): 'Martin Luther King Jr. Day', datetime.date(2011, 2, 21): \"Washington's Birthday\", datetime.date(2011, 5, 30): 'Memorial Day', datetime.date(2011, 7, 4): 'Independence Day', datetime.date(2011, 9, 5): 'Labor Day', datetime.date(2011, 10, 10): 'Columbus Day', datetime.date(2011, 11, 11): 'Veterans Day', datetime.date(2011, 11, 24): 'Thanksgiving', datetime.date(2011, 12, 25): 'Christmas Day', datetime.date(2011, 12, 26): 'Christmas Day (Observed)'}"
      ]
     },
     "execution_count": 24,
     "metadata": {},
     "output_type": "execute_result"
    }
   ],
   "source": [
    "holidays.US(2011,1,1)"
   ]
  },
  {
   "cell_type": "markdown",
   "id": "1b50bfcd",
   "metadata": {},
   "source": [
    "f. In `walmart_sales`: We have 45 unique stores. Generate a nice plot on the total sales by store for the year `2012`. Report the Store number."
   ]
  },
  {
   "cell_type": "code",
   "execution_count": 25,
   "id": "cf56a255-e4e6-439a-8635-d0c4fa821e7c",
   "metadata": {},
   "outputs": [
    {
     "data": {
      "text/html": [
       "<div>\n",
       "<style scoped>\n",
       "    .dataframe tbody tr th:only-of-type {\n",
       "        vertical-align: middle;\n",
       "    }\n",
       "\n",
       "    .dataframe tbody tr th {\n",
       "        vertical-align: top;\n",
       "    }\n",
       "\n",
       "    .dataframe thead th {\n",
       "        text-align: right;\n",
       "    }\n",
       "</style>\n",
       "<table border=\"1\" class=\"dataframe\">\n",
       "  <thead>\n",
       "    <tr style=\"text-align: right;\">\n",
       "      <th></th>\n",
       "      <th>Store</th>\n",
       "      <th>Weekly_Sales</th>\n",
       "    </tr>\n",
       "  </thead>\n",
       "  <tbody>\n",
       "    <tr>\n",
       "      <th>0</th>\n",
       "      <td>1</td>\n",
       "      <td>68202058.02</td>\n",
       "    </tr>\n",
       "    <tr>\n",
       "      <th>1</th>\n",
       "      <td>2</td>\n",
       "      <td>81496695.37</td>\n",
       "    </tr>\n",
       "    <tr>\n",
       "      <th>2</th>\n",
       "      <td>3</td>\n",
       "      <td>18024439.50</td>\n",
       "    </tr>\n",
       "    <tr>\n",
       "      <th>3</th>\n",
       "      <td>4</td>\n",
       "      <td>92771189.24</td>\n",
       "    </tr>\n",
       "    <tr>\n",
       "      <th>4</th>\n",
       "      <td>5</td>\n",
       "      <td>14168838.13</td>\n",
       "    </tr>\n",
       "    <tr>\n",
       "      <th>5</th>\n",
       "      <td>6</td>\n",
       "      <td>66315047.00</td>\n",
       "    </tr>\n",
       "    <tr>\n",
       "      <th>6</th>\n",
       "      <td>7</td>\n",
       "      <td>25367556.47</td>\n",
       "    </tr>\n",
       "    <tr>\n",
       "      <th>7</th>\n",
       "      <td>8</td>\n",
       "      <td>39233920.13</td>\n",
       "    </tr>\n",
       "    <tr>\n",
       "      <th>8</th>\n",
       "      <td>9</td>\n",
       "      <td>23974029.58</td>\n",
       "    </tr>\n",
       "    <tr>\n",
       "      <th>9</th>\n",
       "      <td>10</td>\n",
       "      <td>78228616.94</td>\n",
       "    </tr>\n",
       "  </tbody>\n",
       "</table>\n",
       "</div>"
      ],
      "text/plain": [
       "   Store  Weekly_Sales\n",
       "0      1   68202058.02\n",
       "1      2   81496695.37\n",
       "2      3   18024439.50\n",
       "3      4   92771189.24\n",
       "4      5   14168838.13\n",
       "5      6   66315047.00\n",
       "6      7   25367556.47\n",
       "7      8   39233920.13\n",
       "8      9   23974029.58\n",
       "9     10   78228616.94"
      ]
     },
     "execution_count": 25,
     "metadata": {},
     "output_type": "execute_result"
    }
   ],
   "source": [
    "dfs2012=dfs[(dfs.year==2012)].groupby(['Store'],as_index=False).aggregate({'Weekly_Sales':'sum'})\n",
    "dfs2012.head(10)"
   ]
  },
  {
   "cell_type": "code",
   "execution_count": null,
   "id": "af5ca161-069b-4e0e-bea2-31d7058c0ae2",
   "metadata": {},
   "outputs": [],
   "source": [
    "خط میانگین درست نشد"
   ]
  },
  {
   "cell_type": "code",
   "execution_count": 26,
   "id": "4d83becc",
   "metadata": {},
   "outputs": [
    {
     "data": {
      "image/png": "[encoded data removed]",
      "text/plain": [
       "<Figure size 1100x400 with 1 Axes>"
      ]
     },
     "metadata": {},
     "output_type": "display_data"
    }
   ],
   "source": [
    "import matplotlib.pyplot as plt\n",
    "import matplotlib.ticker as mticker\n",
    "\n",
    "# fig, ax = plt.subplots()\n",
    "fig = plt.figure(figsize =(11, 4))\n",
    "plt.bar(dfs2012.Store, dfs2012.Weekly_Sales, width=0.5, edgecolor=\"white\", linewidth=0.7 )\n",
    "plt.title('Sales by store for the year 2012')\n",
    "plt.xlabel('Stores')\n",
    "plt.ylabel('Weekly_Sales 10M$')\n",
    "plt.xticks(dfs2012.Store)\n",
    "plt.show()"
   ]
  },
  {
   "cell_type": "markdown",
   "id": "5289a946",
   "metadata": {},
   "source": [
    "g. In `walmart_fuel_prices`: For the year `2011` do you think higher the `temperature` relates to higher `fuel price`? Support your answer with a nice plot."
   ]
  },
  {
   "cell_type": "code",
   "execution_count": 29,
   "id": "42da1e4e",
   "metadata": {},
   "outputs": [
    {
     "name": "stdout",
     "output_type": "stream",
     "text": [
      "<class 'pandas.core.frame.DataFrame'>\n",
      "DatetimeIndex: 8190 entries, 2010-02-05 to 2013-07-26\n",
      "Data columns (total 5 columns):\n",
      " #   Column       Non-Null Count  Dtype  \n",
      "---  ------       --------------  -----  \n",
      " 0   index        8190 non-null   int64  \n",
      " 1   Store        8190 non-null   int64  \n",
      " 2   Temperature  8190 non-null   float64\n",
      " 3   Fuel_Price   8190 non-null   float64\n",
      " 4   IsHoliday    8190 non-null   bool   \n",
      "dtypes: bool(1), float64(2), int64(2)\n",
      "memory usage: 586.0 KB\n"
     ]
    }
   ],
   "source": [
    "dff.info()"
   ]
  },
  {
   "cell_type": "markdown",
   "id": "1f3cf869",
   "metadata": {},
   "source": [
    " h. In `walmart_fuel_prices`: For the year `2010` which `Store` had the lowest Fuel Price? Report the `month` and `temperature`. On the same `month`, what was the highest fuel price for the store? Report the difference."
   ]
  },
  {
   "cell_type": "code",
   "execution_count": 30,
   "id": "ab2df5ad",
   "metadata": {},
   "outputs": [
    {
     "name": "stderr",
     "output_type": "stream",
     "text": [
      "/tmp/ipykernel_116/1140485142.py:1: FutureWarning: Indexing a DataFrame with a datetimelike index using a single string to slice the rows, like `frame[string]`, is deprecated and will be removed in a future version. Use `frame.loc[string]` instead.\n",
      "  dffmin=dff[\"2010\"].sort_values('Fuel_Price').head(1).Fuel_Price.values\n",
      "/tmp/ipykernel_116/1140485142.py:2: FutureWarning: Indexing a DataFrame with a datetimelike index using a single string to slice the rows, like `frame[string]`, is deprecated and will be removed in a future version. Use `frame.loc[string]` instead.\n",
      "  dffstore=dff[\"2010\"].sort_values('Fuel_Price').head(1).Store.values\n",
      "/tmp/ipykernel_116/1140485142.py:3: FutureWarning: Indexing a DataFrame with a datetimelike index using a single string to slice the rows, like `frame[string]`, is deprecated and will be removed in a future version. Use `frame.loc[string]` instead.\n",
      "  dffmonth=dff[\"2010\"].sort_values('Fuel_Price').head(1).Fuel_Price.index.month.values\n"
     ]
    }
   ],
   "source": [
    "dffmin=dff[\"2010\"].sort_values('Fuel_Price').head(1).Fuel_Price.values\n",
    "dffstore=dff[\"2010\"].sort_values('Fuel_Price').head(1).Store.values\n",
    "dffmonth=dff[\"2010\"].sort_values('Fuel_Price').head(1).Fuel_Price.index.month.values\n",
    "\n"
   ]
  },
  {
   "cell_type": "code",
   "execution_count": 31,
   "id": "0a6b60f6-7af4-494c-b2e7-40fef250b82a",
   "metadata": {},
   "outputs": [
    {
     "name": "stderr",
     "output_type": "stream",
     "text": [
      "/tmp/ipykernel_116/1853908742.py:1: FutureWarning: Indexing a DataFrame with a datetimelike index using a single string to slice the rows, like `frame[string]`, is deprecated and will be removed in a future version. Use `frame.loc[string]` instead.\n",
      "  dff2=dff[\"2010-02\"]\n"
     ]
    }
   ],
   "source": [
    "dff2=dff[\"2010-02\"]\n",
    "dffmax=dff2[dff2['Store']==36].sort_values('Fuel_Price',ascending=False).head(1).Fuel_Price.values\n"
   ]
  },
  {
   "cell_type": "code",
   "execution_count": 32,
   "id": "2823d575-1322-433a-84b3-06801a98e9a3",
   "metadata": {},
   "outputs": [
    {
     "data": {
      "text/markdown": [
       "<font face=\"XB Zar\" font color=peru size=7>Difference Max and MIN Price: store [36] , month:[2] is: [0.073] $ "
      ],
      "text/plain": [
       "<IPython.core.display.Markdown object>"
      ]
     },
     "execution_count": 32,
     "metadata": {},
     "output_type": "execute_result"
    }
   ],
   "source": [
    "result=(f\"Difference Max and MIN Price: store {dffstore} , month:{dffmonth} is: {dffmax-dffmin} $ \")\n",
    "Markdown('<font face=\"XB Zar\" font color=peru size=7>{}'.format(result))\n"
   ]
  },
  {
   "cell_type": "markdown",
   "id": "12b0075e",
   "metadata": {},
   "source": [
    "i. In `walmart_fuel_prices`: For the `IsHoliday == TRUE`, which month has the lowest `Fuel Price` for the year `2012`? name the holiday(Labor day, July 4th, Halloween, Thanksgiving, Christmas,... etcs) that falls on the month. Also report month of the highest fuel price and name of the holiday."
   ]
  },
  {
   "cell_type": "code",
   "execution_count": 37,
   "id": "ac259d5d",
   "metadata": {},
   "outputs": [
    {
     "data": {
      "text/html": [
       "<div>\n",
       "<style scoped>\n",
       "    .dataframe tbody tr th:only-of-type {\n",
       "        vertical-align: middle;\n",
       "    }\n",
       "\n",
       "    .dataframe tbody tr th {\n",
       "        vertical-align: top;\n",
       "    }\n",
       "\n",
       "    .dataframe thead th {\n",
       "        text-align: right;\n",
       "    }\n",
       "</style>\n",
       "<table border=\"1\" class=\"dataframe\">\n",
       "  <thead>\n",
       "    <tr style=\"text-align: right;\">\n",
       "      <th></th>\n",
       "      <th>index</th>\n",
       "      <th>Store</th>\n",
       "      <th>Temperature</th>\n",
       "      <th>Fuel_Price</th>\n",
       "      <th>IsHoliday</th>\n",
       "      <th>year</th>\n",
       "      <th>month</th>\n",
       "      <th>day</th>\n",
       "    </tr>\n",
       "    <tr>\n",
       "      <th>Date</th>\n",
       "      <th></th>\n",
       "      <th></th>\n",
       "      <th></th>\n",
       "      <th></th>\n",
       "      <th></th>\n",
       "      <th></th>\n",
       "      <th></th>\n",
       "      <th></th>\n",
       "    </tr>\n",
       "  </thead>\n",
       "  <tbody>\n",
       "    <tr>\n",
       "      <th>2010-02-05</th>\n",
       "      <td>1</td>\n",
       "      <td>1</td>\n",
       "      <td>42.31</td>\n",
       "      <td>2.572</td>\n",
       "      <td>False</td>\n",
       "      <td>2010</td>\n",
       "      <td>2</td>\n",
       "      <td>5</td>\n",
       "    </tr>\n",
       "    <tr>\n",
       "      <th>2010-02-12</th>\n",
       "      <td>2</td>\n",
       "      <td>1</td>\n",
       "      <td>38.51</td>\n",
       "      <td>2.548</td>\n",
       "      <td>True</td>\n",
       "      <td>2010</td>\n",
       "      <td>2</td>\n",
       "      <td>12</td>\n",
       "    </tr>\n",
       "    <tr>\n",
       "      <th>2010-02-19</th>\n",
       "      <td>3</td>\n",
       "      <td>1</td>\n",
       "      <td>39.93</td>\n",
       "      <td>2.514</td>\n",
       "      <td>False</td>\n",
       "      <td>2010</td>\n",
       "      <td>2</td>\n",
       "      <td>19</td>\n",
       "    </tr>\n",
       "  </tbody>\n",
       "</table>\n",
       "</div>"
      ],
      "text/plain": [
       "            index  Store  Temperature  Fuel_Price  IsHoliday  year  month  day\n",
       "Date                                                                          \n",
       "2010-02-05      1      1        42.31       2.572      False  2010      2    5\n",
       "2010-02-12      2      1        38.51       2.548       True  2010      2   12\n",
       "2010-02-19      3      1        39.93       2.514      False  2010      2   19"
      ]
     },
     "execution_count": 37,
     "metadata": {},
     "output_type": "execute_result"
    }
   ],
   "source": [
    "dff.head(3)"
   ]
  },
  {
   "cell_type": "code",
   "execution_count": 36,
   "id": "5cbece6b-14d6-4dad-8273-9fcdf13938bb",
   "metadata": {},
   "outputs": [
    {
     "data": {
      "text/plain": [
       "Date\n",
       "2010-02-05    False\n",
       "2010-02-12     True\n",
       "2010-02-19    False\n",
       "2010-02-26    False\n",
       "2010-03-05    False\n",
       "              ...  \n",
       "2013-06-28    False\n",
       "2013-07-05    False\n",
       "2013-07-12    False\n",
       "2013-07-19    False\n",
       "2013-07-26    False\n",
       "Name: IsHoliday, Length: 8190, dtype: bool"
      ]
     },
     "execution_count": 36,
     "metadata": {},
     "output_type": "execute_result"
    }
   ],
   "source": [
    "dff.IsHoliday"
   ]
  },
  {
   "cell_type": "code",
   "execution_count": 88,
   "id": "2e3d2162-1365-4df9-b313-6ae89f6872a8",
   "metadata": {},
   "outputs": [],
   "source": [
    "from datetime import datetime ,timedelta\n",
    "import pytz\n",
    "import pandas as pd\n",
    "import matplotlib.pyplot as plt\n",
    "import seaborn as sns"
   ]
  },
  {
   "cell_type": "markdown",
   "id": "320b4a0a",
   "metadata": {},
   "source": [
    "## 3. **COVID19 Time Series Data:**\n",
    "\n",
    "<br/>\n",
    "Download the data from\n",
    "<a target='_blank' href=\"https://raw.githubusercontent.com/CSSEGISandData/COVID-19/master/csse_covid_19_data/csse_covid_19_time_series/time_series_covid19_confirmed_US.csv\">[github link]</a>\n",
    "(https://raw.githubusercontent.com/CSSEGISandData/COVID-19/master/csse_covid_19_data/csse_covid_19_time_series/time_series_covid19_confirmed_US.csv) \n",
    "\n",
    "<br/>\n",
    "<br/>\n",
    "The link above contains a time-series data for COVID-19 confirmed cases in the US. Limit the data to only use `New York State` and please answer the following questions:\n",
    "\n"
   ]
  },
  {
   "cell_type": "markdown",
   "id": "9c4fa99f",
   "metadata": {},
   "source": [
    "a. What is the total confirmed cases in Nebraska as of October 30th 2020 as per the dataset?\n"
   ]
  },
  {
   "cell_type": "code",
   "execution_count": 3,
   "id": "698b1b5d",
   "metadata": {},
   "outputs": [],
   "source": [
    "dff=pd.read_csv(\"https://raw.githubusercontent.com/CSSEGISandData/COVID-19/master/csse_covid_19_data/csse_covid_19_time_series/time_series_covid19_confirmed_US.csv\")\n"
   ]
  },
  {
   "cell_type": "code",
   "execution_count": 8,
   "id": "b5f71a56",
   "metadata": {},
   "outputs": [
    {
     "data": {
      "text/plain": [
       "52839"
      ]
     },
     "execution_count": 8,
     "metadata": {},
     "output_type": "execute_result"
    }
   ],
   "source": [
    "dff[dff['Province_State']=='Nebraska'].loc[:,'10/12/20'].sum()"
   ]
  },
  {
   "cell_type": "markdown",
   "id": "9b27a973",
   "metadata": {},
   "source": [
    "b. On what date has the highest confirmed cases? Demonstrate using a suitable graph for all the available data.\n"
   ]
  },
  {
   "cell_type": "code",
   "execution_count": 79,
   "id": "5b688872-6545-4c82-91ce-580837371ceb",
   "metadata": {},
   "outputs": [],
   "source": [
    "df=dff.copy()"
   ]
  },
  {
   "cell_type": "code",
   "execution_count": 81,
   "id": "3a300bb9-d486-492a-89b8-a3a4c2ecc57c",
   "metadata": {},
   "outputs": [
    {
     "data": {
      "text/plain": [
       "(3342, 1077)"
      ]
     },
     "execution_count": 81,
     "metadata": {},
     "output_type": "execute_result"
    }
   ],
   "source": [
    "df.shape"
   ]
  },
  {
   "cell_type": "code",
   "execution_count": 80,
   "id": "02ce3c31-3355-4e4a-b6e5-6fccae5b0dc9",
   "metadata": {
    "tags": []
   },
   "outputs": [
    {
     "data": {
      "text/html": [
       "<div>\n",
       "<style scoped>\n",
       "    .dataframe tbody tr th:only-of-type {\n",
       "        vertical-align: middle;\n",
       "    }\n",
       "\n",
       "    .dataframe tbody tr th {\n",
       "        vertical-align: top;\n",
       "    }\n",
       "\n",
       "    .dataframe thead th {\n",
       "        text-align: right;\n",
       "    }\n",
       "</style>\n",
       "<table border=\"1\" class=\"dataframe\">\n",
       "  <thead>\n",
       "    <tr style=\"text-align: right;\">\n",
       "      <th></th>\n",
       "      <th>UID</th>\n",
       "      <th>iso2</th>\n",
       "      <th>iso3</th>\n",
       "      <th>code3</th>\n",
       "      <th>FIPS</th>\n",
       "      <th>Admin2</th>\n",
       "      <th>Province_State</th>\n",
       "      <th>Country_Region</th>\n",
       "      <th>Lat</th>\n",
       "      <th>Long_</th>\n",
       "      <th>...</th>\n",
       "      <th>12/13/22</th>\n",
       "      <th>12/14/22</th>\n",
       "      <th>12/15/22</th>\n",
       "      <th>12/16/22</th>\n",
       "      <th>12/17/22</th>\n",
       "      <th>12/18/22</th>\n",
       "      <th>12/19/22</th>\n",
       "      <th>12/20/22</th>\n",
       "      <th>12/21/22</th>\n",
       "      <th>12/22/22</th>\n",
       "    </tr>\n",
       "  </thead>\n",
       "  <tbody>\n",
       "    <tr>\n",
       "      <th>0</th>\n",
       "      <td>84001001</td>\n",
       "      <td>US</td>\n",
       "      <td>USA</td>\n",
       "      <td>840</td>\n",
       "      <td>1001.0</td>\n",
       "      <td>Autauga</td>\n",
       "      <td>Alabama</td>\n",
       "      <td>US</td>\n",
       "      <td>32.539527</td>\n",
       "      <td>-86.644082</td>\n",
       "      <td>...</td>\n",
       "      <td>18752</td>\n",
       "      <td>18847</td>\n",
       "      <td>18847</td>\n",
       "      <td>18847</td>\n",
       "      <td>18847</td>\n",
       "      <td>18847</td>\n",
       "      <td>18847</td>\n",
       "      <td>18847</td>\n",
       "      <td>18961</td>\n",
       "      <td>18961</td>\n",
       "    </tr>\n",
       "    <tr>\n",
       "      <th>1</th>\n",
       "      <td>84001003</td>\n",
       "      <td>US</td>\n",
       "      <td>USA</td>\n",
       "      <td>840</td>\n",
       "      <td>1003.0</td>\n",
       "      <td>Baldwin</td>\n",
       "      <td>Alabama</td>\n",
       "      <td>US</td>\n",
       "      <td>30.727750</td>\n",
       "      <td>-87.722071</td>\n",
       "      <td>...</td>\n",
       "      <td>66951</td>\n",
       "      <td>67221</td>\n",
       "      <td>67221</td>\n",
       "      <td>67221</td>\n",
       "      <td>67221</td>\n",
       "      <td>67221</td>\n",
       "      <td>67221</td>\n",
       "      <td>67221</td>\n",
       "      <td>67496</td>\n",
       "      <td>67496</td>\n",
       "    </tr>\n",
       "  </tbody>\n",
       "</table>\n",
       "<p>2 rows × 1077 columns</p>\n",
       "</div>"
      ],
      "text/plain": [
       "        UID iso2 iso3  code3    FIPS   Admin2 Province_State Country_Region  \\\n",
       "0  84001001   US  USA    840  1001.0  Autauga        Alabama             US   \n",
       "1  84001003   US  USA    840  1003.0  Baldwin        Alabama             US   \n",
       "\n",
       "         Lat      Long_  ... 12/13/22  12/14/22  12/15/22  12/16/22  12/17/22  \\\n",
       "0  32.539527 -86.644082  ...    18752     18847     18847     18847     18847   \n",
       "1  30.727750 -87.722071  ...    66951     67221     67221     67221     67221   \n",
       "\n",
       "   12/18/22  12/19/22  12/20/22  12/21/22  12/22/22  \n",
       "0     18847     18847     18847     18961     18961  \n",
       "1     67221     67221     67221     67496     67496  \n",
       "\n",
       "[2 rows x 1077 columns]"
      ]
     },
     "execution_count": 80,
     "metadata": {},
     "output_type": "execute_result"
    }
   ],
   "source": [
    "df.head(2)"
   ]
  },
  {
   "cell_type": "code",
   "execution_count": 86,
   "id": "ea00b6c4-b963-43db-b549-07f09ff4bda8",
   "metadata": {},
   "outputs": [],
   "source": [
    "df=dff.copy()\n",
    "df2=pd.DataFrame()\n",
    "for i in range(-1,-1066,-1):\n",
    "    df.iloc[:,i]=df.iloc[:,i]-df.iloc[:,i-1]\n",
    "    df2=pd.concat([df2,pd.melt(df, id_vars =['Province_State','Admin2'], value_vars =df.columns[i])])\n",
    "    # df3=pd.concat([df3,df2])"
   ]
  },
  {
   "cell_type": "code",
   "execution_count": 98,
   "id": "1d6a7893-0e84-4d75-b7f7-07960bc0e095",
   "metadata": {},
   "outputs": [
    {
     "data": {
      "text/plain": [
       "(3559230, 4)"
      ]
     },
     "execution_count": 98,
     "metadata": {},
     "output_type": "execute_result"
    }
   ],
   "source": [
    "df3=df2.copy()\n",
    "df2.shape"
   ]
  },
  {
   "cell_type": "code",
   "execution_count": null,
   "id": "211f59da-7911-4dee-b521-f3d2fc35ff13",
   "metadata": {},
   "outputs": [],
   "source": [
    "df2.rename(columns={'variable':'date'}, inplace=True)\n",
    "df2.set_index('date',inplace=True)\n"
   ]
  },
  {
   "cell_type": "code",
   "execution_count": 102,
   "id": "67233987-b450-4fac-a09b-1820d878bdbb",
   "metadata": {},
   "outputs": [
    {
     "data": {
      "text/plain": [
       "0"
      ]
     },
     "execution_count": 102,
     "metadata": {},
     "output_type": "execute_result"
    }
   ],
   "source": [
    "df2.drop(df2[df2['value']<0].index, inplace=True)\n",
    "len(df2[df2['value']<0])\n",
    "df2.set_index('date')"
   ]
  },
  {
   "cell_type": "code",
   "execution_count": null,
   "id": "812f2557-1c5e-4977-bb57-17acab2ef026",
   "metadata": {},
   "outputs": [],
   "source": [
    "df2.set_index('date',inplace=True)"
   ]
  },
  {
   "cell_type": "code",
   "execution_count": 135,
   "id": "683a3bf8-e256-4797-aa75-36ef1be04f57",
   "metadata": {},
   "outputs": [
    {
     "data": {
      "text/html": [
       "<div>\n",
       "<style scoped>\n",
       "    .dataframe tbody tr th:only-of-type {\n",
       "        vertical-align: middle;\n",
       "    }\n",
       "\n",
       "    .dataframe tbody tr th {\n",
       "        vertical-align: top;\n",
       "    }\n",
       "\n",
       "    .dataframe thead th {\n",
       "        text-align: right;\n",
       "    }\n",
       "</style>\n",
       "<table border=\"1\" class=\"dataframe\">\n",
       "  <thead>\n",
       "    <tr style=\"text-align: right;\">\n",
       "      <th></th>\n",
       "      <th>Province_State</th>\n",
       "      <th>Admin2</th>\n",
       "      <th>value</th>\n",
       "    </tr>\n",
       "    <tr>\n",
       "      <th>date</th>\n",
       "      <th></th>\n",
       "      <th></th>\n",
       "      <th></th>\n",
       "    </tr>\n",
       "  </thead>\n",
       "  <tbody>\n",
       "    <tr>\n",
       "      <th>1/7/22</th>\n",
       "      <td>Florida</td>\n",
       "      <td>Miami-Dade</td>\n",
       "      <td>110441</td>\n",
       "    </tr>\n",
       "  </tbody>\n",
       "</table>\n",
       "</div>"
      ],
      "text/plain": [
       "       Province_State      Admin2   value\n",
       "date                                     \n",
       "1/7/22        Florida  Miami-Dade  110441"
      ]
     },
     "execution_count": 135,
     "metadata": {},
     "output_type": "execute_result"
    }
   ],
   "source": [
    "df2.sort_values(by='value', ascending=False).head(1)"
   ]
  },
  {
   "cell_type": "code",
   "execution_count": 156,
   "id": "0677a850-e1bb-4c94-ae99-a71f31cb4488",
   "metadata": {},
   "outputs": [
    {
     "data": {
      "text/plain": [
       "'1/7/22'"
      ]
     },
     "execution_count": 156,
     "metadata": {},
     "output_type": "execute_result"
    }
   ],
   "source": [
    "xmax=df2.sort_values(by='value', ascending=False).head(1).index[0]\n",
    "ymax=df2.sort_values(by='value', ascending=False).head(1).value.values[0]\n",
    "# xmax=datetime.strptime(xmax, '%m/%d/%y')\n",
    "xmax"
   ]
  },
  {
   "cell_type": "code",
   "execution_count": 133,
   "id": "f282bcb4-3681-4257-bfd4-5d35934af3b9",
   "metadata": {},
   "outputs": [
    {
     "data": {
      "text/plain": [
       "<AxesSubplot: xlabel='date'>"
      ]
     },
     "execution_count": 133,
     "metadata": {},
     "output_type": "execute_result"
    },
    {
     "data": {
      "image/png": "[encoded data removed]",
      "text/plain": [
       "<Figure size 1700x300 with 1 Axes>"
      ]
     },
     "metadata": {},
     "output_type": "display_data"
    }
   ],
   "source": [
    "df2.plot(figsize=(17,3))\n"
   ]
  },
  {
   "cell_type": "code",
   "execution_count": null,
   "id": "628d6f2d-6b53-4ca0-baaf-178bf6ab84ee",
   "metadata": {},
   "outputs": [],
   "source": [
    "import matplotlib.pyplot as plt\n",
    "import numpy as np"
   ]
  },
  {
   "cell_type": "code",
   "execution_count": null,
   "id": "225fd3af-1bde-4ded-998e-89a5c00250a1",
   "metadata": {},
   "outputs": [],
   "source": [
    "# fig, ax = plt.subplots()\n",
    "# ax.plot(df2.index, df2.value,)\n",
    "# text= \"x={}, y={}\".format(xmax,ymax)\n",
    "# if not ax:\n",
    "#     ax=plt.gca()\n",
    "# bbox_props = dict(boxstyle=\"square,pad=0.3\", fc=\"w\", ec=\"k\", lw=0.72)\n",
    "# arrowprops=dict(arrowstyle=\"->\",connectionstyle=\"angle,angleA=0,angleB=60\")\n",
    "# kw = dict(xycoords='data',textcoords=\"axes fraction\",arrowprops=arrowprops, bbox=bbox_props, ha=\"right\", va=\"top\")\n",
    "# ax.annotate(text, xy=(xmax, ymax), xytext=(0.94,0.96), **kw)\n",
    "\n",
    "# ax.set_ylim(-0.3,1.5)\n",
    "# plt.show()"
   ]
  },
  {
   "cell_type": "markdown",
   "id": "82bc1299",
   "metadata": {},
   "source": [
    "c. Which County has the highest daily confirmed cases? Report both the County name and the date\n"
   ]
  },
  {
   "cell_type": "code",
   "execution_count": 180,
   "id": "856370d5",
   "metadata": {},
   "outputs": [
    {
     "data": {
      "text/html": [
       "<div>\n",
       "<style scoped>\n",
       "    .dataframe tbody tr th:only-of-type {\n",
       "        vertical-align: middle;\n",
       "    }\n",
       "\n",
       "    .dataframe tbody tr th {\n",
       "        vertical-align: top;\n",
       "    }\n",
       "\n",
       "    .dataframe thead th {\n",
       "        text-align: right;\n",
       "    }\n",
       "</style>\n",
       "<table border=\"1\" class=\"dataframe\">\n",
       "  <thead>\n",
       "    <tr style=\"text-align: right;\">\n",
       "      <th></th>\n",
       "      <th>Province_State</th>\n",
       "      <th>value</th>\n",
       "    </tr>\n",
       "  </thead>\n",
       "  <tbody>\n",
       "    <tr>\n",
       "      <th>10716</th>\n",
       "      <td>Florida</td>\n",
       "      <td>211006</td>\n",
       "    </tr>\n",
       "  </tbody>\n",
       "</table>\n",
       "</div>"
      ],
      "text/plain": [
       "      Province_State   value\n",
       "10716        Florida  211006"
      ]
     },
     "execution_count": 180,
     "metadata": {},
     "output_type": "execute_result"
    }
   ],
   "source": [
    "df2.groupby(by=['Province_State','date'], as_index=False).aggregate({'value':'sum'}).sort_values('value', ascending=False).head(1)"
   ]
  },
  {
   "cell_type": "markdown",
   "id": "db5f161f",
   "metadata": {},
   "source": [
    "d. Identify two countries that have top total confirmed cases. Generate a time series plot of daily confirm cases for these two countries.\n"
   ]
  },
  {
   "cell_type": "code",
   "execution_count": 179,
   "id": "a4380686",
   "metadata": {},
   "outputs": [
    {
     "data": {
      "text/html": [
       "<div>\n",
       "<style scoped>\n",
       "    .dataframe tbody tr th:only-of-type {\n",
       "        vertical-align: middle;\n",
       "    }\n",
       "\n",
       "    .dataframe tbody tr th {\n",
       "        vertical-align: top;\n",
       "    }\n",
       "\n",
       "    .dataframe thead th {\n",
       "        text-align: right;\n",
       "    }\n",
       "</style>\n",
       "<table border=\"1\" class=\"dataframe\">\n",
       "  <thead>\n",
       "    <tr style=\"text-align: right;\">\n",
       "      <th></th>\n",
       "      <th>value</th>\n",
       "    </tr>\n",
       "    <tr>\n",
       "      <th>Province_State</th>\n",
       "      <th></th>\n",
       "    </tr>\n",
       "  </thead>\n",
       "  <tbody>\n",
       "    <tr>\n",
       "      <th>New York</th>\n",
       "      <td>5567734</td>\n",
       "    </tr>\n",
       "    <tr>\n",
       "      <th>Florida</th>\n",
       "      <td>3427645</td>\n",
       "    </tr>\n",
       "  </tbody>\n",
       "</table>\n",
       "</div>"
      ],
      "text/plain": [
       "                  value\n",
       "Province_State         \n",
       "New York        5567734\n",
       "Florida         3427645"
      ]
     },
     "execution_count": 179,
     "metadata": {},
     "output_type": "execute_result"
    }
   ],
   "source": [
    "df2.groupby(by=['Province_State']).aggregate({'value':'sum'}).sort_values('value', ascending=False).head(2)"
   ]
  },
  {
   "cell_type": "code",
   "execution_count": 178,
   "id": "460a0160-c91d-4b18-b199-fd410ec58f00",
   "metadata": {},
   "outputs": [
    {
     "data": {
      "text/plain": [
       "array(['New York', 'Florida'], dtype=object)"
      ]
     },
     "execution_count": 178,
     "metadata": {},
     "output_type": "execute_result"
    }
   ],
   "source": [
    "countries=df2.groupby(by=['Province_State']).aggregate({'value':'sum'}).sort_values('value', ascending=False).head(2).index.values\n",
    "countries"
   ]
  },
  {
   "cell_type": "code",
   "execution_count": 164,
   "id": "6275952f-f0dc-4690-a4cc-49be821f5bfc",
   "metadata": {},
   "outputs": [],
   "source": [
    "dfcontries=df2[(df2['Province_State']==countries[0])|(df2['Province_State']==countries[1])]"
   ]
  },
  {
   "cell_type": "code",
   "execution_count": 169,
   "id": "fb20e8e7-06ce-42bf-bdbf-f160dd4dca58",
   "metadata": {},
   "outputs": [],
   "source": [
    "dfcontries1=df2[(df2['Province_State']==countries[0])]"
   ]
  },
  {
   "cell_type": "code",
   "execution_count": 174,
   "id": "6f970eef-c2db-4c74-a9f9-f0a8e70ebf7c",
   "metadata": {},
   "outputs": [],
   "source": [
    "dfcontries2=df2[(df2['Province_State']==countries[1])]"
   ]
  },
  {
   "cell_type": "code",
   "execution_count": 184,
   "id": "53b77456-a39c-44e8-b0f1-d7ec920f43ab",
   "metadata": {},
   "outputs": [
    {
     "data": {
      "text/html": [
       "<div>\n",
       "<style scoped>\n",
       "    .dataframe tbody tr th:only-of-type {\n",
       "        vertical-align: middle;\n",
       "    }\n",
       "\n",
       "    .dataframe tbody tr th {\n",
       "        vertical-align: top;\n",
       "    }\n",
       "\n",
       "    .dataframe thead th {\n",
       "        text-align: right;\n",
       "    }\n",
       "</style>\n",
       "<table border=\"1\" class=\"dataframe\">\n",
       "  <thead>\n",
       "    <tr style=\"text-align: right;\">\n",
       "      <th></th>\n",
       "      <th>Province_State</th>\n",
       "      <th>Admin2</th>\n",
       "      <th>value</th>\n",
       "    </tr>\n",
       "    <tr>\n",
       "      <th>date</th>\n",
       "      <th></th>\n",
       "      <th></th>\n",
       "      <th></th>\n",
       "    </tr>\n",
       "  </thead>\n",
       "  <tbody>\n",
       "    <tr>\n",
       "      <th>12/22/22</th>\n",
       "      <td>Alabama</td>\n",
       "      <td>Out of AL</td>\n",
       "      <td>0</td>\n",
       "    </tr>\n",
       "    <tr>\n",
       "      <th>12/22/22</th>\n",
       "      <td>Alabama</td>\n",
       "      <td>Unassigned</td>\n",
       "      <td>0</td>\n",
       "    </tr>\n",
       "    <tr>\n",
       "      <th>12/22/22</th>\n",
       "      <td>Alaska</td>\n",
       "      <td>Anchorage</td>\n",
       "      <td>0</td>\n",
       "    </tr>\n",
       "    <tr>\n",
       "      <th>12/22/22</th>\n",
       "      <td>Alaska</td>\n",
       "      <td>Bristol Bay</td>\n",
       "      <td>0</td>\n",
       "    </tr>\n",
       "    <tr>\n",
       "      <th>12/22/22</th>\n",
       "      <td>Alaska</td>\n",
       "      <td>Hoonah-Angoon</td>\n",
       "      <td>0</td>\n",
       "    </tr>\n",
       "    <tr>\n",
       "      <th>...</th>\n",
       "      <td>...</td>\n",
       "      <td>...</td>\n",
       "      <td>...</td>\n",
       "    </tr>\n",
       "    <tr>\n",
       "      <th>1/23/20</th>\n",
       "      <td>Washington</td>\n",
       "      <td>Out of WA</td>\n",
       "      <td>0</td>\n",
       "    </tr>\n",
       "    <tr>\n",
       "      <th>1/23/20</th>\n",
       "      <td>West Virginia</td>\n",
       "      <td>Out of WV</td>\n",
       "      <td>0</td>\n",
       "    </tr>\n",
       "    <tr>\n",
       "      <th>1/23/20</th>\n",
       "      <td>Wisconsin</td>\n",
       "      <td>Milwaukee</td>\n",
       "      <td>0</td>\n",
       "    </tr>\n",
       "    <tr>\n",
       "      <th>1/23/20</th>\n",
       "      <td>Wisconsin</td>\n",
       "      <td>Out of WI</td>\n",
       "      <td>0</td>\n",
       "    </tr>\n",
       "    <tr>\n",
       "      <th>1/23/20</th>\n",
       "      <td>Wyoming</td>\n",
       "      <td>Out of WY</td>\n",
       "      <td>0</td>\n",
       "    </tr>\n",
       "  </tbody>\n",
       "</table>\n",
       "<p>361035 rows × 3 columns</p>\n",
       "</div>"
      ],
      "text/plain": [
       "         Province_State         Admin2  value\n",
       "date                                         \n",
       "12/22/22        Alabama      Out of AL      0\n",
       "12/22/22        Alabama     Unassigned      0\n",
       "12/22/22         Alaska      Anchorage      0\n",
       "12/22/22         Alaska    Bristol Bay      0\n",
       "12/22/22         Alaska  Hoonah-Angoon      0\n",
       "...                 ...            ...    ...\n",
       "1/23/20      Washington      Out of WA      0\n",
       "1/23/20   West Virginia      Out of WV      0\n",
       "1/23/20       Wisconsin      Milwaukee      0\n",
       "1/23/20       Wisconsin      Out of WI      0\n",
       "1/23/20         Wyoming      Out of WY      0\n",
       "\n",
       "[361035 rows x 3 columns]"
      ]
     },
     "execution_count": 184,
     "metadata": {},
     "output_type": "execute_result"
    }
   ],
   "source": [
    "\n",
    "df2"
   ]
  },
  {
   "cell_type": "code",
   "execution_count": 183,
   "id": "6942e0c1-419f-4ca7-a34f-887650ae778f",
   "metadata": {},
   "outputs": [
    {
     "data": {
      "image/png": "[encoded data removed]",
      "text/plain": [
       "<Figure size 1700x400 with 1 Axes>"
      ]
     },
     "metadata": {},
     "output_type": "display_data"
    }
   ],
   "source": [
    "\n",
    "fig = plt.figure(figsize =(17, 4)) \n",
    "plt.plot(dfcontries1.index,dfcontries1.value)\n",
    "plt.plot(dfcontries2.index,dfcontries2.value)\n",
    "plt.show()\n"
   ]
  },
  {
   "cell_type": "markdown",
   "id": "f54baef0",
   "metadata": {},
   "source": [
    "e. Show the total confirmed cases for all the locations in an interactive world map (hint: you may use `leaflet` package in `python`.\n"
   ]
  },
  {
   "cell_type": "code",
   "execution_count": null,
   "id": "da907734",
   "metadata": {},
   "outputs": [],
   "source": [
    "# TODO"
   ]
  }
 ],
 "metadata": {
  "kernelspec": {
   "display_name": "Python 3 (ipykernel)",
   "language": "python",
   "name": "python3"
  },
  "language_info": {
   "codemirror_mode": {
    "name": "ipython",
    "version": 3
   },
   "file_extension": ".py",
   "mimetype": "text/x-python",
   "name": "python",
   "nbconvert_exporter": "python",
   "pygments_lexer": "ipython3",
   "version": "3.10.6"
  },
  "widgets": {
   "application/vnd.jupyter.widget-state+json": {
    "state": {},
    "version_major": 2,
    "version_minor": 0
   }
  }
 },
 "nbformat": 4,
 "nbformat_minor": 5
}
