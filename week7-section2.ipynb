{
 "cells": [
  {
   "cell_type": "markdown",
   "id": "47f59ba8",
   "metadata": {},
   "source": [
    "<br><p style=\"margin-left: 25%; font-size:20px;\">Machine Learning Camp: HomeWork 7 Section 2</p><br>"
   ]
  },
  {
   "cell_type": "markdown",
   "id": "2218b073",
   "metadata": {},
   "source": [
    "## 1. **Working with datetime data;** The object `myDate` contains the date and time. Based on this object answer the following questions and type the answer after your findings."
   ]
  },
  {
   "cell_type": "code",
   "execution_count": 1,
   "id": "8e4680e3",
   "metadata": {},
   "outputs": [],
   "source": [
    "myDate = \"2022-10-01 09:42:43\""
   ]
  },
  {
   "cell_type": "markdown",
   "id": "666d9ea6",
   "metadata": {},
   "source": [
    "a. Convert `myDate` into a datetime object with Iran time zone. Display the result."
   ]
  },
  {
   "cell_type": "code",
   "execution_count": 2,
   "id": "0debd74f",
   "metadata": {},
   "outputs": [
    {
     "data": {
      "text/plain": [
       "datetime.datetime(2022, 10, 1, 9, 42, 43)"
      ]
     },
     "execution_count": 2,
     "metadata": {},
     "output_type": "execute_result"
    }
   ],
   "source": [
    "from datetime import datetime\n",
    "datetime.strptime(myDate  , '%Y-%m-%d %H:%M:%S')"
   ]
  },
  {
   "cell_type": "code",
   "execution_count": 3,
   "id": "d30f0e27",
   "metadata": {},
   "outputs": [
    {
     "data": {
      "text/plain": [
       "datetime.datetime(2010, 6, 22, 7, 46, 22, tzinfo=tzfile('Asia/Tehran'))"
      ]
     },
     "execution_count": 3,
     "metadata": {},
     "output_type": "execute_result"
    }
   ],
   "source": [
    "from dateutil import parser \n",
    "from dateutil.tz import gettz\n",
    "tzinfos = {\"IR\" : gettz(\"Asia/Tehran\") }\n",
    "\n",
    "date = parser.parse(\"Tue Jun 22 07:46:22 2010 IR\" ,tzinfos=tzinfos  )\n",
    "date"
   ]
  },
  {
   "cell_type": "markdown",
   "id": "f2684fe9",
   "metadata": {},
   "source": [
    "b. Write your codes so that it displays the week day and also the month of `myDate`."
   ]
  },
  {
   "cell_type": "code",
   "execution_count": 4,
   "id": "42acb45c",
   "metadata": {},
   "outputs": [
    {
     "name": "stdout",
     "output_type": "stream",
     "text": [
      "Day of Week: Tuesday\n"
     ]
    }
   ],
   "source": [
    "# First way:\n",
    "days = {0 :  \"Monday\" , 1 : \"Tuesday\"  , 2 : \"Wednsay\" , 3 : \"Thursday\"  , 4 : \"Friday\"  , 5 : \"Saturday\"  , 6 : \"Sunday\" }\n",
    "print(\"Day of Week:\",days[date.weekday()])\n"
   ]
  },
  {
   "cell_type": "code",
   "execution_count": 5,
   "id": "884c4d41",
   "metadata": {},
   "outputs": [
    {
     "name": "stdout",
     "output_type": "stream",
     "text": [
      "Tue\n",
      "June\n"
     ]
    }
   ],
   "source": [
    "# Second way:\n",
    "print(date.strftime(\"%a\"))\n",
    "print(date.strftime(\"%B\"))"
   ]
  },
  {
   "cell_type": "markdown",
   "id": "57f8a4a0",
   "metadata": {},
   "source": [
    "c. What weekday and the month is it after exactly 100 years from `myDate`?"
   ]
  },
  {
   "cell_type": "code",
   "execution_count": 6,
   "id": "c8bc864e",
   "metadata": {},
   "outputs": [],
   "source": [
    "from datetime import timedelta \n",
    "from dateutil.relativedelta import relativedelta\n"
   ]
  },
  {
   "cell_type": "code",
   "execution_count": 7,
   "id": "868d9b88",
   "metadata": {},
   "outputs": [
    {
     "data": {
      "text/plain": [
       "'June'"
      ]
     },
     "execution_count": 7,
     "metadata": {},
     "output_type": "execute_result"
    }
   ],
   "source": [
    "    (date + relativedelta(years=100)).strftime(\"%a\")\n",
    "    (date + relativedelta(years=100)).strftime(\"%B\")"
   ]
  },
  {
   "cell_type": "markdown",
   "id": "211c0893",
   "metadata": {},
   "source": [
    "d. Add two month with myDate and display the resulting date time."
   ]
  },
  {
   "cell_type": "code",
   "execution_count": 16,
   "id": "4427d37a",
   "metadata": {},
   "outputs": [
    {
     "data": {
      "text/plain": [
       "datetime.datetime(2010, 8, 22, 7, 46, 22, tzinfo=datetime.timezone(datetime.timedelta(seconds=16200), 'Iran Daylight Time'))"
      ]
     },
     "execution_count": 16,
     "metadata": {},
     "output_type": "execute_result"
    }
   ],
   "source": [
    "(date + relativedelta(months=2)).astimezone()"
   ]
  },
  {
   "cell_type": "markdown",
   "id": "717c3957",
   "metadata": {},
   "source": [
    "e. Suppose this homework is due on December 23, 2022 by 11.59PM. Compute and display how many seconds you got to complete this homework? Also compute the hours."
   ]
  },
  {
   "cell_type": "code",
   "execution_count": 23,
   "id": "9957cbbd",
   "metadata": {},
   "outputs": [
    {
     "data": {
      "text/plain": [
       "{'IR': tzfile('Asia/Tehran')}"
      ]
     },
     "execution_count": 23,
     "metadata": {},
     "output_type": "execute_result"
    }
   ],
   "source": [
    "tzinfos"
   ]
  },
  {
   "cell_type": "code",
   "execution_count": 26,
   "id": "8b46dd46",
   "metadata": {},
   "outputs": [
    {
     "data": {
      "text/plain": [
       "relativedelta(years=+12, months=+6, days=+1, hours=+16, minutes=+12, seconds=+38)"
      ]
     },
     "execution_count": 26,
     "metadata": {},
     "output_type": "execute_result"
    }
   ],
   "source": [
    "relativedelta(dt2= date , dt1=parser.parse(\"December 23 2022  11:59:00 PM IR\" , tzinfos= tzinfos))"
   ]
  },
  {
   "cell_type": "markdown",
   "id": "a94748d3",
   "metadata": {},
   "source": [
    "f. For the years `2021` & `2022`, count the number of weekends. Which year has the highest number of Weekends?"
   ]
  },
  {
   "cell_type": "code",
   "execution_count": 55,
   "id": "062a60ff",
   "metadata": {},
   "outputs": [],
   "source": [
    "def count_weekend(year):\n",
    "    count = 0\n",
    "    d = datetime.strptime(f\"{year}/01/01\" ,  \"%Y/%m/%d\")   \n",
    "    while True:\n",
    "        if d.year != year:\n",
    "            return count\n",
    "        if d.weekday() == 5 or d.weekday() == 6:\n",
    "            count += 1            \n",
    "        d += relativedelta(days = 1)  \n"
   ]
  },
  {
   "cell_type": "code",
   "execution_count": 57,
   "id": "95f099df",
   "metadata": {},
   "outputs": [
    {
     "name": "stdout",
     "output_type": "stream",
     "text": [
      "weekend in 2021 104\n",
      "weekend in 2022 105\n"
     ]
    }
   ],
   "source": [
    "print(\"weekend in 2021\" , count_weekend(2021))\n",
    "print(\"weekend in 2022\" , count_weekend(2022))"
   ]
  },
  {
   "cell_type": "markdown",
   "id": "31f068c5",
   "metadata": {},
   "source": [
    "g. What is the month(MM) and day(DD) on the `305`th day of the current year?"
   ]
  },
  {
   "cell_type": "code",
   "execution_count": 60,
   "id": "8ab67628",
   "metadata": {},
   "outputs": [
    {
     "name": "stdout",
     "output_type": "stream",
     "text": [
      "November\n",
      "01\n"
     ]
    }
   ],
   "source": [
    "current_year = datetime.now().year\n",
    "begining_current_year = datetime.strptime(f\"{current_year}-01-01\" , \"%Y-%m-%d\")\n",
    "time_delta = timedelta(days= 304)\n",
    "the_305th_day = begining_current_year + time_delta\n",
    "print(the_305th_day.strftime(\"%B\"))\n",
    "print(the_305th_day.strftime(\"%d\"))"
   ]
  },
  {
   "cell_type": "markdown",
   "id": "2b6f4dd0",
   "metadata": {},
   "source": [
    "h. The Date `2022-10-20` is formatted `YYYY-MM-DD`, format it into `MM-DD-YYYY`"
   ]
  },
  {
   "cell_type": "code",
   "execution_count": 64,
   "id": "6c5a84c2",
   "metadata": {},
   "outputs": [
    {
     "data": {
      "text/plain": [
       "'10-20-2022'"
      ]
     },
     "execution_count": 64,
     "metadata": {},
     "output_type": "execute_result"
    }
   ],
   "source": [
    "date = datetime.strptime('2022 10 20', '%Y %m %d')\n",
    "date.strftime('%m-%d-%Y')"
   ]
  },
  {
   "cell_type": "markdown",
   "id": "8ecba4de",
   "metadata": {},
   "source": [
    "i. Find if the Date on the question above is the weekend or a weekday."
   ]
  },
  {
   "cell_type": "code",
   "execution_count": 68,
   "id": "bcc38e46",
   "metadata": {},
   "outputs": [
    {
     "name": "stdout",
     "output_type": "stream",
     "text": [
      "Business Day\n"
     ]
    }
   ],
   "source": [
    "if date.weekday() in [5,6]:\n",
    "    print(\"Weekwnd\")\n",
    "else: print(\"Business Day\")"
   ]
  },
  {
   "cell_type": "markdown",
   "id": "5761a24f",
   "metadata": {},
   "source": [
    "## 2. **Walmart Sales Analysis:** load and read the dataset `walmart_sales.csv` and `walmart_fuel_prices.csv`.\n",
    "\n",
    "We will follow the following data description when working with the above 2 datasets:\n",
    "\n",
    " * `index:` index is a default value of count\n",
    " * `Store:` Store is represented in number ID(1,2,3,4,...)\n",
    " * `Dept:` Dept is Department in each Store represented in number ID (1,2,3,4,...)\n",
    " * `Date:` Date is in YYYY-MM-DD char format - *needs to be converted into Date data type*\n",
    " * `Weekly_Sales:` Sales of a given Dept in a given Store for the Date\n",
    " * `Temperature:` Average temperature on the Date at given Store region\n",
    " * `Fuel_Price:` Cost of the Fuel on the given Date at a given Store\n",
    " * `IsHoliday:` Is the given Date a holiday Week? "
   ]
  },
  {
   "cell_type": "code",
   "execution_count": 1,
   "id": "e3663d28",
   "metadata": {},
   "outputs": [],
   "source": [
    "import pandas as pd"
   ]
  },
  {
   "cell_type": "code",
   "execution_count": 2,
   "id": "06623146",
   "metadata": {
    "scrolled": false
   },
   "outputs": [],
   "source": [
    "walmart_sales = pd.read_csv(\"walmart_sales.csv\" , parse_dates= [\"Date\"] )\n",
    "walmart_fuel_prices = pd.read_csv(\"walmart_fuel_prices.csv\", parse_dates= [\"Date\"] )"
   ]
  },
  {
   "cell_type": "markdown",
   "id": "28576a96",
   "metadata": {},
   "source": [
    " a. For both datasets, breakdown the `Date` column and create additional new columns `Year`, `Month`, and `Day`. You should now have additional 3 new columns in your both dataset. Report only the column names for both the dataset."
   ]
  },
  {
   "cell_type": "code",
   "execution_count": 3,
   "id": "69d17cb5",
   "metadata": {},
   "outputs": [],
   "source": [
    "def seperate_date(df:pd.DataFrame , date_col_name :str = \"Date\"):\n",
    "    df_ = df.copy()\n",
    "    dates = df_[date_col_name].tolist()\n",
    "    years = []\n",
    "    days = []\n",
    "    months = []\n",
    "    day_of_week = []\n",
    "    is_weekend = []\n",
    "    for date in dates:\n",
    "        years.append(date.year)\n",
    "        days.append(date.day)\n",
    "        months.append(date.month)\n",
    "        day_of_week.append(date.strftime(\"%a\"))\n",
    "        is_weekend.append(True if date.weekday() in [5,6] else False)\n",
    "\n",
    "    df_[\"Year\"] = years\n",
    "    df_[\"Month\"] = months\n",
    "    df_[\"Day\"] = days\n",
    "    df_[\"Day_Of_Week\"] = day_of_week\n",
    "    df_[\"Is_Weekend\"] = is_weekend\n",
    "\n",
    "    return df_\n",
    "        \n"
   ]
  },
  {
   "cell_type": "code",
   "execution_count": 4,
   "id": "45ed2c45",
   "metadata": {},
   "outputs": [],
   "source": [
    "walmart_sales = seperate_date(walmart_sales)\n",
    "walmart_fuel_prices = seperate_date(walmart_fuel_prices)"
   ]
  },
  {
   "cell_type": "markdown",
   "id": "13877d45",
   "metadata": {},
   "source": [
    "b. In `walmart_sales`: which `Month(s)` of `Year` have the highest `Weekly_Sales`? Report the Year, Month, Store, and Dept."
   ]
  },
  {
   "cell_type": "code",
   "execution_count": 5,
   "id": "d322b38e",
   "metadata": {},
   "outputs": [],
   "source": [
    "# چیزی که من از سوال فهمیدم این هست که:\n",
    "# بیشترین فروش هفتگی در کدوم ماه اتفاق افتاده\n",
    "# نه اینکه بطور میانگین کدام ماه بیشترین فروش هفتگی را داشته...."
   ]
  },
  {
   "cell_type": "code",
   "execution_count": 6,
   "id": "b3bbf97e",
   "metadata": {},
   "outputs": [
    {
     "data": {
      "text/html": [
       "<div>\n",
       "<style scoped>\n",
       "    .dataframe tbody tr th:only-of-type {\n",
       "        vertical-align: middle;\n",
       "    }\n",
       "\n",
       "    .dataframe tbody tr th {\n",
       "        vertical-align: top;\n",
       "    }\n",
       "\n",
       "    .dataframe thead th {\n",
       "        text-align: right;\n",
       "    }\n",
       "</style>\n",
       "<table border=\"1\" class=\"dataframe\">\n",
       "  <thead>\n",
       "    <tr style=\"text-align: right;\">\n",
       "      <th></th>\n",
       "      <th>Store</th>\n",
       "      <th>Dept</th>\n",
       "      <th>Date</th>\n",
       "      <th>Weekly_Sales</th>\n",
       "      <th>IsHoliday</th>\n",
       "      <th>Year</th>\n",
       "      <th>Day</th>\n",
       "      <th>Day_Of_Week</th>\n",
       "      <th>Is_Weekend</th>\n",
       "    </tr>\n",
       "    <tr>\n",
       "      <th>Month</th>\n",
       "      <th></th>\n",
       "      <th></th>\n",
       "      <th></th>\n",
       "      <th></th>\n",
       "      <th></th>\n",
       "      <th></th>\n",
       "      <th></th>\n",
       "      <th></th>\n",
       "      <th></th>\n",
       "    </tr>\n",
       "  </thead>\n",
       "  <tbody>\n",
       "    <tr>\n",
       "      <th>11</th>\n",
       "      <td>45</td>\n",
       "      <td>99</td>\n",
       "      <td>2011-11-25</td>\n",
       "      <td>693099.36</td>\n",
       "      <td>True</td>\n",
       "      <td>2011</td>\n",
       "      <td>26</td>\n",
       "      <td>Fri</td>\n",
       "      <td>False</td>\n",
       "    </tr>\n",
       "  </tbody>\n",
       "</table>\n",
       "</div>"
      ],
      "text/plain": [
       "       Store  Dept       Date  Weekly_Sales  IsHoliday  Year  Day Day_Of_Week  \\\n",
       "Month                                                                           \n",
       "11        45    99 2011-11-25     693099.36       True  2011   26         Fri   \n",
       "\n",
       "       Is_Weekend  \n",
       "Month              \n",
       "11          False  "
      ]
     },
     "execution_count": 6,
     "metadata": {},
     "output_type": "execute_result"
    }
   ],
   "source": [
    "walmart_sales.groupby(\"Month\").max().nlargest(1,columns = \"Weekly_Sales\")"
   ]
  },
  {
   "cell_type": "markdown",
   "id": "e0a1faef",
   "metadata": {},
   "source": [
    "c. In `walmart_sales`: calculate the average monthly sales by Department for each Store. Which Store(s) has the highest average monthly sales on the department(s)? Report the Store, Department, Date."
   ]
  },
  {
   "cell_type": "code",
   "execution_count": 7,
   "id": "15ef73fa",
   "metadata": {},
   "outputs": [],
   "source": [
    "monthly_sales = walmart_sales.groupby([\"Year\",\"Store\" , \"Dept\" , \"Month\"],as_index= False).sum()"
   ]
  },
  {
   "cell_type": "code",
   "execution_count": 8,
   "id": "4575ca77",
   "metadata": {},
   "outputs": [
    {
     "data": {
      "text/plain": [
       "Year  Store  Dept\n",
       "2010  14     92      833834.820909\n",
       "Name: Weekly_Sales, dtype: float64"
      ]
     },
     "execution_count": 8,
     "metadata": {},
     "output_type": "execute_result"
    }
   ],
   "source": [
    "monthly_sales.groupby([\"Year\",\"Store\" , \"Dept\" ]).mean().nlargest(1, columns= \"Weekly_Sales\")[\"Weekly_Sales\"]"
   ]
  },
  {
   "cell_type": "markdown",
   "id": "ee38e63a",
   "metadata": {},
   "source": [
    "d. In `walmart_sales`: which month of year `2011` has the highest overall sales by Store? Name the holiday(Labor day, July 4th, Halloween, Thanksgiving, Christmas,... etcs) that falls on the month. After that do the same for `2012`. Does the highest sales per month fall on the same holiday for both years? Report your findings for both year."
   ]
  },
  {
   "cell_type": "code",
   "execution_count": 11,
   "id": "67ce1306",
   "metadata": {},
   "outputs": [
    {
     "data": {
      "text/plain": [
       "Store  Month\n",
       "20     12       13206333.29\n",
       "Name: Weekly_Sales, dtype: float64"
      ]
     },
     "execution_count": 11,
     "metadata": {},
     "output_type": "execute_result"
    }
   ],
   "source": [
    "ws2011 = walmart_sales[walmart_sales[\"Year\"]==2011]\n",
    "ws2011.groupby([\"Store\" , \"Month\"]).sum().nlargest(1 , columns= \"Weekly_Sales\")[\"Weekly_Sales\"]"
   ]
  },
  {
   "attachments": {},
   "cell_type": "markdown",
   "id": "3fcbdd26",
   "metadata": {},
   "source": [
    "## Store 20 at 11/2011 had largest sales amount"
   ]
  },
  {
   "cell_type": "code",
   "execution_count": 12,
   "id": "2f2c1936",
   "metadata": {},
   "outputs": [
    {
     "data": {
      "text/plain": [
       "Store  Month\n",
       "4      6        10984471.62\n",
       "Name: Weekly_Sales, dtype: float64"
      ]
     },
     "execution_count": 12,
     "metadata": {},
     "output_type": "execute_result"
    }
   ],
   "source": [
    "ws2012 = walmart_sales[walmart_sales[\"Year\"]==2012]\n",
    "ws2012.groupby([\"Store\" , \"Month\"]).sum().nlargest(1 , columns= \"Weekly_Sales\")[\"Weekly_Sales\"]"
   ]
  },
  {
   "cell_type": "code",
   "execution_count": null,
   "id": "b6231a6e",
   "metadata": {},
   "outputs": [],
   "source": [
    "## Store 4 at 6/2012 had largest sales amount"
   ]
  },
  {
   "cell_type": "markdown",
   "id": "0e6c35a7",
   "metadata": {},
   "source": [
    " e. In `walmart_sales`: report the lowest sales per month for the year `2011` for `IsHoliday == TRUE`. Name the holiday(Labor day, July 4th, Halloween, Thanksgiving, Christmas,... etcs) that falls on the month. Do the same for `2012` and report if the lowest sales are on the same month."
   ]
  },
  {
   "cell_type": "code",
   "execution_count": 16,
   "id": "da376d70",
   "metadata": {
    "scrolled": false
   },
   "outputs": [
    {
     "data": {
      "text/plain": [
       "Month\n",
       "12    46042461.04\n",
       "Name: Weekly_Sales, dtype: float64"
      ]
     },
     "execution_count": 16,
     "metadata": {},
     "output_type": "execute_result"
    }
   ],
   "source": [
    "ws2011[ws2011[\"IsHoliday\"]].groupby(\"Month\").sum().nsmallest(1,columns=\"Weekly_Sales\")[\"Weekly_Sales\"]"
   ]
  },
  {
   "cell_type": "code",
   "execution_count": null,
   "id": "38100658",
   "metadata": {},
   "outputs": [],
   "source": [
    "##12/2011 had smallest sales amount"
   ]
  },
  {
   "cell_type": "code",
   "execution_count": 17,
   "id": "67f86a76",
   "metadata": {},
   "outputs": [
    {
     "data": {
      "text/plain": [
       "Month\n",
       "9    48330059.31\n",
       "Name: Weekly_Sales, dtype: float64"
      ]
     },
     "execution_count": 17,
     "metadata": {},
     "output_type": "execute_result"
    }
   ],
   "source": [
    "ws2012[ws2012[\"IsHoliday\"]].groupby(\"Month\").sum().nsmallest(1,columns=\"Weekly_Sales\")[\"Weekly_Sales\"]"
   ]
  },
  {
   "cell_type": "code",
   "execution_count": null,
   "id": "f9276f62",
   "metadata": {},
   "outputs": [],
   "source": [
    "##09/2012 had smallest sales amount"
   ]
  },
  {
   "cell_type": "markdown",
   "id": "1b50bfcd",
   "metadata": {},
   "source": [
    "f. In `walmart_sales`: We have 45 unique stores. Generate a nice plot on the total sales by store for the year `2012`. Report the Store number."
   ]
  },
  {
   "cell_type": "code",
   "execution_count": 20,
   "id": "23a6acd5",
   "metadata": {},
   "outputs": [],
   "source": [
    "import seaborn as sns\n",
    "import matplotlib.pyplot as plt"
   ]
  },
  {
   "cell_type": "code",
   "execution_count": 23,
   "id": "4d83becc",
   "metadata": {},
   "outputs": [
    {
     "data": {
      "image/png": "[encoded data removed]",
      "text/plain": [
       "<Figure size 720x576 with 1 Axes>"
      ]
     },
     "metadata": {
      "needs_background": "light"
     },
     "output_type": "display_data"
    }
   ],
   "source": [
    "plt_df = ws2012.groupby(\"Store\" , as_index= False).sum()\n",
    "_ , ax = plt.subplots(1,1,figsize = (10,8))\n",
    "ax = sns.barplot(data= plt_df , x = \"Store\" , y = \"Weekly_Sales\")\n",
    "ax.set_xticklabels(ax.get_xticklabels() , rotation = 60)\n",
    "ax.grid()"
   ]
  },
  {
   "cell_type": "markdown",
   "id": "5289a946",
   "metadata": {},
   "source": [
    "g. In `walmart_fuel_prices`: For the year `2011` do you think higher the `temperature` relates to higher `fuel price`? Support your answer with a nice plot."
   ]
  },
  {
   "cell_type": "code",
   "execution_count": 26,
   "id": "10ada769",
   "metadata": {},
   "outputs": [
    {
     "data": {
      "text/html": [
       "<div>\n",
       "<style scoped>\n",
       "    .dataframe tbody tr th:only-of-type {\n",
       "        vertical-align: middle;\n",
       "    }\n",
       "\n",
       "    .dataframe tbody tr th {\n",
       "        vertical-align: top;\n",
       "    }\n",
       "\n",
       "    .dataframe thead th {\n",
       "        text-align: right;\n",
       "    }\n",
       "</style>\n",
       "<table border=\"1\" class=\"dataframe\">\n",
       "  <thead>\n",
       "    <tr style=\"text-align: right;\">\n",
       "      <th></th>\n",
       "      <th>index</th>\n",
       "      <th>Store</th>\n",
       "      <th>Date</th>\n",
       "      <th>Temperature</th>\n",
       "      <th>Fuel_Price</th>\n",
       "      <th>IsHoliday</th>\n",
       "      <th>Year</th>\n",
       "      <th>Month</th>\n",
       "      <th>Day</th>\n",
       "      <th>Day_Of_Week</th>\n",
       "      <th>Is_Weekend</th>\n",
       "    </tr>\n",
       "  </thead>\n",
       "  <tbody>\n",
       "    <tr>\n",
       "      <th>0</th>\n",
       "      <td>1</td>\n",
       "      <td>1</td>\n",
       "      <td>2010-02-05</td>\n",
       "      <td>42.31</td>\n",
       "      <td>2.572</td>\n",
       "      <td>False</td>\n",
       "      <td>2010</td>\n",
       "      <td>2</td>\n",
       "      <td>5</td>\n",
       "      <td>Fri</td>\n",
       "      <td>False</td>\n",
       "    </tr>\n",
       "    <tr>\n",
       "      <th>1</th>\n",
       "      <td>2</td>\n",
       "      <td>1</td>\n",
       "      <td>2010-02-12</td>\n",
       "      <td>38.51</td>\n",
       "      <td>2.548</td>\n",
       "      <td>True</td>\n",
       "      <td>2010</td>\n",
       "      <td>2</td>\n",
       "      <td>12</td>\n",
       "      <td>Fri</td>\n",
       "      <td>False</td>\n",
       "    </tr>\n",
       "  </tbody>\n",
       "</table>\n",
       "</div>"
      ],
      "text/plain": [
       "   index  Store       Date  Temperature  Fuel_Price  IsHoliday  Year  Month  \\\n",
       "0      1      1 2010-02-05        42.31       2.572      False  2010      2   \n",
       "1      2      1 2010-02-12        38.51       2.548       True  2010      2   \n",
       "\n",
       "   Day Day_Of_Week  Is_Weekend  \n",
       "0    5         Fri       False  \n",
       "1   12         Fri       False  "
      ]
     },
     "execution_count": 26,
     "metadata": {},
     "output_type": "execute_result"
    }
   ],
   "source": [
    "walmart_fuel_prices.head(2)"
   ]
  },
  {
   "cell_type": "code",
   "execution_count": 27,
   "id": "42da1e4e",
   "metadata": {},
   "outputs": [
    {
     "data": {
      "text/plain": [
       "<AxesSubplot:xlabel='Temperature', ylabel='Fuel_Price'>"
      ]
     },
     "execution_count": 27,
     "metadata": {},
     "output_type": "execute_result"
    },
    {
     "data": {
      "image/png": "[encoded data removed]",
      "text/plain": [
       "<Figure size 432x288 with 1 Axes>"
      ]
     },
     "metadata": {
      "needs_background": "light"
     },
     "output_type": "display_data"
    }
   ],
   "source": [
    "sns.scatterplot(data= walmart_fuel_prices  , x = \"Temperature\" , y = \"Fuel_Price\")"
   ]
  },
  {
   "cell_type": "code",
   "execution_count": 31,
   "id": "9e9ab061",
   "metadata": {},
   "outputs": [
    {
     "data": {
      "text/plain": [
       "<AxesSubplot:>"
      ]
     },
     "execution_count": 31,
     "metadata": {},
     "output_type": "execute_result"
    },
    {
     "data": {
      "image/png": "[encoded data removed]",
      "text/plain": [
       "<Figure size 432x288 with 2 Axes>"
      ]
     },
     "metadata": {
      "needs_background": "light"
     },
     "output_type": "display_data"
    }
   ],
   "source": [
    "sns.heatmap(walmart_fuel_prices[[\"Temperature\" , \"Fuel_Price\"]].corr())"
   ]
  },
  {
   "cell_type": "code",
   "execution_count": null,
   "id": "78518b76",
   "metadata": {},
   "outputs": [],
   "source": [
    "# They do not seem to have great amount of correlation"
   ]
  },
  {
   "cell_type": "markdown",
   "id": "1f3cf869",
   "metadata": {},
   "source": [
    " h. In `walmart_fuel_prices`: For the year `2010` which `Store` had the lowest Fuel Price? Report the `month` and `temperature`. On the same `month`, what was the highest fuel price for the store? Report the difference."
   ]
  },
  {
   "cell_type": "code",
   "execution_count": 56,
   "id": "ab2df5ad",
   "metadata": {},
   "outputs": [],
   "source": [
    "wf2010 = walmart_fuel_prices[(walmart_fuel_prices[\"Date\"].dt.year == 2010)]"
   ]
  },
  {
   "cell_type": "code",
   "execution_count": 57,
   "id": "6124a72f",
   "metadata": {},
   "outputs": [
    {
     "name": "stdout",
     "output_type": "stream",
     "text": [
      "Lowest Fuel Price at Store 36 \n",
      "month: 2 \n",
      "Temperature:  45.66\n"
     ]
    }
   ],
   "source": [
    "id_minfp = wf2010[\"Fuel_Price\"].idxmin()\n",
    "minfp = wf2010.loc[id_minfp][[\"Store\",\"Date\" , \"Temperature\"]]\n",
    "print(\"Lowest Fuel Price at Store\",minfp[\"Store\"] , \"\\nmonth:\" ,minfp[\"Date\"].month , \"\\nTemperature: \", minfp[\"Temperature\"] )"
   ]
  },
  {
   "cell_type": "markdown",
   "id": "12b0075e",
   "metadata": {},
   "source": [
    "i. In `walmart_fuel_prices`: For the `IsHoliday == TRUE`, which month has the lowest `Fuel Price` for the year `2012`? name the holiday(Labor day, July 4th, Halloween, Thanksgiving, Christmas,... etcs) that falls on the month. Also report month of the highest fuel price and name of the holiday."
   ]
  },
  {
   "cell_type": "code",
   "execution_count": 59,
   "id": "ac259d5d",
   "metadata": {},
   "outputs": [],
   "source": [
    "wf2012 = walmart_fuel_prices[(walmart_fuel_prices[\"Date\"].dt.year == 2012)  & walmart_fuel_prices[\"IsHoliday\"]]"
   ]
  },
  {
   "cell_type": "code",
   "execution_count": 61,
   "id": "38a15e8b",
   "metadata": {},
   "outputs": [
    {
     "data": {
      "text/html": [
       "<div>\n",
       "<style scoped>\n",
       "    .dataframe tbody tr th:only-of-type {\n",
       "        vertical-align: middle;\n",
       "    }\n",
       "\n",
       "    .dataframe tbody tr th {\n",
       "        vertical-align: top;\n",
       "    }\n",
       "\n",
       "    .dataframe thead th {\n",
       "        text-align: right;\n",
       "    }\n",
       "</style>\n",
       "<table border=\"1\" class=\"dataframe\">\n",
       "  <thead>\n",
       "    <tr style=\"text-align: right;\">\n",
       "      <th></th>\n",
       "      <th>index</th>\n",
       "      <th>Store</th>\n",
       "      <th>Temperature</th>\n",
       "      <th>Fuel_Price</th>\n",
       "      <th>IsHoliday</th>\n",
       "      <th>Year</th>\n",
       "      <th>Day</th>\n",
       "      <th>Is_Weekend</th>\n",
       "    </tr>\n",
       "    <tr>\n",
       "      <th>Month</th>\n",
       "      <th></th>\n",
       "      <th></th>\n",
       "      <th></th>\n",
       "      <th></th>\n",
       "      <th></th>\n",
       "      <th></th>\n",
       "      <th></th>\n",
       "      <th></th>\n",
       "    </tr>\n",
       "  </thead>\n",
       "  <tbody>\n",
       "    <tr>\n",
       "      <th>12</th>\n",
       "      <td>4156</td>\n",
       "      <td>23</td>\n",
       "      <td>36.764222</td>\n",
       "      <td>3.332222</td>\n",
       "      <td>True</td>\n",
       "      <td>2012</td>\n",
       "      <td>28</td>\n",
       "      <td>False</td>\n",
       "    </tr>\n",
       "  </tbody>\n",
       "</table>\n",
       "</div>"
      ],
      "text/plain": [
       "       index  Store  Temperature  Fuel_Price  IsHoliday  Year  Day  Is_Weekend\n",
       "Month                                                                         \n",
       "12      4156     23    36.764222    3.332222       True  2012   28       False"
      ]
     },
     "execution_count": 61,
     "metadata": {},
     "output_type": "execute_result"
    }
   ],
   "source": [
    "wf2012.groupby(\"Month\").mean().nsmallest(1 , columns= \"Fuel_Price\")"
   ]
  },
  {
   "cell_type": "code",
   "execution_count": null,
   "id": "d82734e1",
   "metadata": {},
   "outputs": [],
   "source": [
    "# On average among holidays 12th had cheapest fuel price"
   ]
  },
  {
   "cell_type": "markdown",
   "id": "320b4a0a",
   "metadata": {},
   "source": [
    "## 3. **COVID19 Time Series Data:**\n",
    "\n",
    "<br/>\n",
    "Download the data from\n",
    "<a target='_blank' href=\"https://raw.githubusercontent.com/CSSEGISandData/COVID-19/master/csse_covid_19_data/csse_covid_19_time_series/time_series_covid19_confirmed_US.csv\">[github link]</a>\n",
    "(https://raw.githubusercontent.com/CSSEGISandData/COVID-19/master/csse_covid_19_data/csse_covid_19_time_series/time_series_covid19_confirmed_US.csv) \n",
    "\n",
    "<br/>\n",
    "<br/>\n",
    "The link above contains a time-series data for COVID-19 confirmed cases in the US. Limit the data to only use `New York State` and please answer the following questions:\n",
    "\n"
   ]
  },
  {
   "cell_type": "code",
   "execution_count": 63,
   "id": "2c4f32ec",
   "metadata": {},
   "outputs": [],
   "source": [
    "covid = pd.read_csv(\"https://raw.githubusercontent.com/CSSEGISandData/COVID-19/master/csse_covid_19_data/csse_covid_19_time_series/time_series_covid19_confirmed_US.csv\")"
   ]
  },
  {
   "cell_type": "code",
   "execution_count": 65,
   "id": "b2a8c041",
   "metadata": {},
   "outputs": [
    {
     "data": {
      "text/html": [
       "<div>\n",
       "<style scoped>\n",
       "    .dataframe tbody tr th:only-of-type {\n",
       "        vertical-align: middle;\n",
       "    }\n",
       "\n",
       "    .dataframe tbody tr th {\n",
       "        vertical-align: top;\n",
       "    }\n",
       "\n",
       "    .dataframe thead th {\n",
       "        text-align: right;\n",
       "    }\n",
       "</style>\n",
       "<table border=\"1\" class=\"dataframe\">\n",
       "  <thead>\n",
       "    <tr style=\"text-align: right;\">\n",
       "      <th></th>\n",
       "      <th>UID</th>\n",
       "      <th>iso2</th>\n",
       "      <th>iso3</th>\n",
       "      <th>code3</th>\n",
       "      <th>FIPS</th>\n",
       "      <th>Admin2</th>\n",
       "      <th>Province_State</th>\n",
       "      <th>Country_Region</th>\n",
       "      <th>Lat</th>\n",
       "      <th>Long_</th>\n",
       "      <th>...</th>\n",
       "      <th>12/12/22</th>\n",
       "      <th>12/13/22</th>\n",
       "      <th>12/14/22</th>\n",
       "      <th>12/15/22</th>\n",
       "      <th>12/16/22</th>\n",
       "      <th>12/17/22</th>\n",
       "      <th>12/18/22</th>\n",
       "      <th>12/19/22</th>\n",
       "      <th>12/20/22</th>\n",
       "      <th>12/21/22</th>\n",
       "    </tr>\n",
       "  </thead>\n",
       "  <tbody>\n",
       "    <tr>\n",
       "      <th>0</th>\n",
       "      <td>84001001</td>\n",
       "      <td>US</td>\n",
       "      <td>USA</td>\n",
       "      <td>840</td>\n",
       "      <td>1001.0</td>\n",
       "      <td>Autauga</td>\n",
       "      <td>Alabama</td>\n",
       "      <td>US</td>\n",
       "      <td>32.539527</td>\n",
       "      <td>-86.644082</td>\n",
       "      <td>...</td>\n",
       "      <td>18752</td>\n",
       "      <td>18752</td>\n",
       "      <td>18847</td>\n",
       "      <td>18847</td>\n",
       "      <td>18847</td>\n",
       "      <td>18847</td>\n",
       "      <td>18847</td>\n",
       "      <td>18847</td>\n",
       "      <td>18847</td>\n",
       "      <td>18961</td>\n",
       "    </tr>\n",
       "    <tr>\n",
       "      <th>1</th>\n",
       "      <td>84001003</td>\n",
       "      <td>US</td>\n",
       "      <td>USA</td>\n",
       "      <td>840</td>\n",
       "      <td>1003.0</td>\n",
       "      <td>Baldwin</td>\n",
       "      <td>Alabama</td>\n",
       "      <td>US</td>\n",
       "      <td>30.727750</td>\n",
       "      <td>-87.722071</td>\n",
       "      <td>...</td>\n",
       "      <td>66951</td>\n",
       "      <td>66951</td>\n",
       "      <td>67221</td>\n",
       "      <td>67221</td>\n",
       "      <td>67221</td>\n",
       "      <td>67221</td>\n",
       "      <td>67221</td>\n",
       "      <td>67221</td>\n",
       "      <td>67221</td>\n",
       "      <td>67496</td>\n",
       "    </tr>\n",
       "    <tr>\n",
       "      <th>2</th>\n",
       "      <td>84001005</td>\n",
       "      <td>US</td>\n",
       "      <td>USA</td>\n",
       "      <td>840</td>\n",
       "      <td>1005.0</td>\n",
       "      <td>Barbour</td>\n",
       "      <td>Alabama</td>\n",
       "      <td>US</td>\n",
       "      <td>31.868263</td>\n",
       "      <td>-85.387129</td>\n",
       "      <td>...</td>\n",
       "      <td>6989</td>\n",
       "      <td>6989</td>\n",
       "      <td>7007</td>\n",
       "      <td>7007</td>\n",
       "      <td>7007</td>\n",
       "      <td>7007</td>\n",
       "      <td>7007</td>\n",
       "      <td>7007</td>\n",
       "      <td>7007</td>\n",
       "      <td>7027</td>\n",
       "    </tr>\n",
       "    <tr>\n",
       "      <th>3</th>\n",
       "      <td>84001007</td>\n",
       "      <td>US</td>\n",
       "      <td>USA</td>\n",
       "      <td>840</td>\n",
       "      <td>1007.0</td>\n",
       "      <td>Bibb</td>\n",
       "      <td>Alabama</td>\n",
       "      <td>US</td>\n",
       "      <td>32.996421</td>\n",
       "      <td>-87.125115</td>\n",
       "      <td>...</td>\n",
       "      <td>7653</td>\n",
       "      <td>7653</td>\n",
       "      <td>7668</td>\n",
       "      <td>7668</td>\n",
       "      <td>7668</td>\n",
       "      <td>7668</td>\n",
       "      <td>7668</td>\n",
       "      <td>7668</td>\n",
       "      <td>7668</td>\n",
       "      <td>7692</td>\n",
       "    </tr>\n",
       "    <tr>\n",
       "      <th>4</th>\n",
       "      <td>84001009</td>\n",
       "      <td>US</td>\n",
       "      <td>USA</td>\n",
       "      <td>840</td>\n",
       "      <td>1009.0</td>\n",
       "      <td>Blount</td>\n",
       "      <td>Alabama</td>\n",
       "      <td>US</td>\n",
       "      <td>33.982109</td>\n",
       "      <td>-86.567906</td>\n",
       "      <td>...</td>\n",
       "      <td>17559</td>\n",
       "      <td>17559</td>\n",
       "      <td>17648</td>\n",
       "      <td>17648</td>\n",
       "      <td>17648</td>\n",
       "      <td>17648</td>\n",
       "      <td>17648</td>\n",
       "      <td>17648</td>\n",
       "      <td>17648</td>\n",
       "      <td>17731</td>\n",
       "    </tr>\n",
       "  </tbody>\n",
       "</table>\n",
       "<p>5 rows × 1076 columns</p>\n",
       "</div>"
      ],
      "text/plain": [
       "        UID iso2 iso3  code3    FIPS   Admin2 Province_State Country_Region  \\\n",
       "0  84001001   US  USA    840  1001.0  Autauga        Alabama             US   \n",
       "1  84001003   US  USA    840  1003.0  Baldwin        Alabama             US   \n",
       "2  84001005   US  USA    840  1005.0  Barbour        Alabama             US   \n",
       "3  84001007   US  USA    840  1007.0     Bibb        Alabama             US   \n",
       "4  84001009   US  USA    840  1009.0   Blount        Alabama             US   \n",
       "\n",
       "         Lat      Long_  ... 12/12/22  12/13/22  12/14/22  12/15/22  12/16/22  \\\n",
       "0  32.539527 -86.644082  ...    18752     18752     18847     18847     18847   \n",
       "1  30.727750 -87.722071  ...    66951     66951     67221     67221     67221   \n",
       "2  31.868263 -85.387129  ...     6989      6989      7007      7007      7007   \n",
       "3  32.996421 -87.125115  ...     7653      7653      7668      7668      7668   \n",
       "4  33.982109 -86.567906  ...    17559     17559     17648     17648     17648   \n",
       "\n",
       "   12/17/22  12/18/22  12/19/22  12/20/22  12/21/22  \n",
       "0     18847     18847     18847     18847     18961  \n",
       "1     67221     67221     67221     67221     67496  \n",
       "2      7007      7007      7007      7007      7027  \n",
       "3      7668      7668      7668      7668      7692  \n",
       "4     17648     17648     17648     17648     17731  \n",
       "\n",
       "[5 rows x 1076 columns]"
      ]
     },
     "execution_count": 65,
     "metadata": {},
     "output_type": "execute_result"
    }
   ],
   "source": [
    "covid.head(5)"
   ]
  },
  {
   "cell_type": "code",
   "execution_count": 66,
   "id": "d2d8ec45",
   "metadata": {},
   "outputs": [],
   "source": [
    "covid_ny = covid[covid[\"Province_State\"] == \"New York\"]"
   ]
  },
  {
   "cell_type": "code",
   "execution_count": 117,
   "id": "66c6cedd",
   "metadata": {},
   "outputs": [],
   "source": [
    "# We must create positive cases for each day not cummulative sum"
   ]
  },
  {
   "cell_type": "code",
   "execution_count": 129,
   "id": "6f40e060",
   "metadata": {},
   "outputs": [
    {
     "data": {
      "text/plain": [
       "array([[1, 2, 3],\n",
       "       [4, 5, 6]])"
      ]
     },
     "execution_count": 129,
     "metadata": {},
     "output_type": "execute_result"
    }
   ],
   "source": [
    "import numpy as np\n",
    "z = np.cumsum(np.array([[1,2,3],[4,5,6]]),axis=1)\n",
    "z[:,1:] -= z[:,:-1]\n",
    "z"
   ]
  },
  {
   "cell_type": "code",
   "execution_count": 132,
   "id": "51355067",
   "metadata": {},
   "outputs": [],
   "source": [
    "cumsum = covid[covid.columns[11:]].to_numpy()\n",
    "cumsum[:,1:] -= cumsum[:,:-1]"
   ]
  },
  {
   "cell_type": "code",
   "execution_count": 134,
   "id": "9b71a9be",
   "metadata": {},
   "outputs": [],
   "source": [
    "diff = pd.DataFrame(cumsum , columns= covid.columns[11:])"
   ]
  },
  {
   "cell_type": "code",
   "execution_count": 136,
   "id": "d01c4023",
   "metadata": {},
   "outputs": [],
   "source": [
    "covid_diff = pd.concat([covid[covid.columns[:11]] , diff] , axis=1)"
   ]
  },
  {
   "cell_type": "markdown",
   "id": "9c4fa99f",
   "metadata": {},
   "source": [
    "a. What is the total confirmed cases in Nebraska as of October 30th 2020 as per the dataset?\n"
   ]
  },
  {
   "cell_type": "code",
   "execution_count": 93,
   "id": "dbf34108",
   "metadata": {},
   "outputs": [
    {
     "data": {
      "text/plain": [
       "'10/30/20'"
      ]
     },
     "execution_count": 93,
     "metadata": {},
     "output_type": "execute_result"
    }
   ],
   "source": [
    "from dateutil import parser\n",
    "dt = parser.parse(\"October 30 2020\")\n",
    "oct30_2020 = dt.strftime(\"%m/%d/%y\")\n",
    "oct30_2020"
   ]
  },
  {
   "cell_type": "code",
   "execution_count": 137,
   "id": "698b1b5d",
   "metadata": {},
   "outputs": [
    {
     "name": "stdout",
     "output_type": "stream",
     "text": [
      "Total confirmed cases in Nebraska as of October 30th 2020: 1495\n"
     ]
    }
   ],
   "source": [
    "print(\"Total confirmed cases in Nebraska as of October 30th 2020:\",covid_diff[covid_diff[\"Province_State\"] == \"Nebraska\"].sum()[oct30_2020])"
   ]
  },
  {
   "cell_type": "markdown",
   "id": "9b27a973",
   "metadata": {},
   "source": [
    "b. On what date has the highest confirmed cases? Demonstrate using a suitable graph for all the available data.\n"
   ]
  },
  {
   "cell_type": "code",
   "execution_count": 116,
   "id": "b5f71a56",
   "metadata": {},
   "outputs": [
    {
     "data": {
      "text/plain": [
       "<matplotlib.legend.Legend at 0x138db673f10>"
      ]
     },
     "execution_count": 116,
     "metadata": {},
     "output_type": "execute_result"
    },
    {
     "data": {
      "image/png": "[encoded data removed]",
      "text/plain": [
       "<Figure size 1008x576 with 1 Axes>"
      ]
     },
     "metadata": {
      "needs_background": "light"
     },
     "output_type": "display_data"
    }
   ],
   "source": [
    "## Cummulative plot\n",
    "\n",
    "plt.figure(figsize=(14,8))\n",
    "data = covid[covid.columns[11:]].sum()\n",
    "data_ny = covid_ny[covid.columns[11:]].sum()\n",
    "plt.plot(data.index , data.values ,label = \"US\")\n",
    "plt.plot(data_ny.index , data_ny.values , label = \"New York\")\n",
    "plt.xticks(range(0,1100 , 30) , rotation = 90)\n",
    "plt.xlabel(\"Date\")\n",
    "plt.ylabel(\"Positive Cases\")\n",
    "plt.legend()\n",
    "plt.grid()\n"
   ]
  },
  {
   "cell_type": "code",
   "execution_count": 138,
   "id": "19557a20",
   "metadata": {},
   "outputs": [],
   "source": [
    "covid_ny_diff = covid_diff[covid_diff[\"Province_State\"] == \"New York\"]"
   ]
  },
  {
   "cell_type": "code",
   "execution_count": 139,
   "id": "b5f71a56",
   "metadata": {},
   "outputs": [
    {
     "data": {
      "image/png": "[encoded data removed]",
      "text/plain": [
       "<Figure size 1008x576 with 1 Axes>"
      ]
     },
     "metadata": {
      "needs_background": "light"
     },
     "output_type": "display_data"
    }
   ],
   "source": [
    "\n",
    "plt.figure(figsize=(14,8))\n",
    "# data = covid[covid.columns[11:]].sum()\n",
    "data_ny = covid_ny_diff[covid.columns[11:]].sum()\n",
    "# plt.plot(data.index , data.values ,label = \"US\")\n",
    "plt.plot(data_ny.index , data_ny.values , label = \"New York\")\n",
    "plt.xticks(range(0,1100 , 30) , rotation = 90)\n",
    "plt.xlabel(\"Date\")\n",
    "plt.ylabel(\"Positive Cases\")\n",
    "plt.legend()\n",
    "plt.grid()\n"
   ]
  },
  {
   "cell_type": "markdown",
   "id": "82bc1299",
   "metadata": {},
   "source": [
    "c. Which County has the highest daily confirmed cases? Report both the County name and the date\n"
   ]
  },
  {
   "cell_type": "code",
   "execution_count": 140,
   "id": "fe8e33f8",
   "metadata": {},
   "outputs": [
    {
     "data": {
      "text/html": [
       "<div>\n",
       "<style scoped>\n",
       "    .dataframe tbody tr th:only-of-type {\n",
       "        vertical-align: middle;\n",
       "    }\n",
       "\n",
       "    .dataframe tbody tr th {\n",
       "        vertical-align: top;\n",
       "    }\n",
       "\n",
       "    .dataframe thead th {\n",
       "        text-align: right;\n",
       "    }\n",
       "</style>\n",
       "<table border=\"1\" class=\"dataframe\">\n",
       "  <thead>\n",
       "    <tr style=\"text-align: right;\">\n",
       "      <th></th>\n",
       "      <th>UID</th>\n",
       "      <th>iso2</th>\n",
       "      <th>iso3</th>\n",
       "      <th>code3</th>\n",
       "      <th>FIPS</th>\n",
       "      <th>Admin2</th>\n",
       "      <th>Province_State</th>\n",
       "      <th>Country_Region</th>\n",
       "      <th>Lat</th>\n",
       "      <th>Long_</th>\n",
       "      <th>...</th>\n",
       "      <th>12/12/22</th>\n",
       "      <th>12/13/22</th>\n",
       "      <th>12/14/22</th>\n",
       "      <th>12/15/22</th>\n",
       "      <th>12/16/22</th>\n",
       "      <th>12/17/22</th>\n",
       "      <th>12/18/22</th>\n",
       "      <th>12/19/22</th>\n",
       "      <th>12/20/22</th>\n",
       "      <th>12/21/22</th>\n",
       "    </tr>\n",
       "  </thead>\n",
       "  <tbody>\n",
       "    <tr>\n",
       "      <th>0</th>\n",
       "      <td>84001001</td>\n",
       "      <td>US</td>\n",
       "      <td>USA</td>\n",
       "      <td>840</td>\n",
       "      <td>1001.0</td>\n",
       "      <td>Autauga</td>\n",
       "      <td>Alabama</td>\n",
       "      <td>US</td>\n",
       "      <td>32.539527</td>\n",
       "      <td>-86.644082</td>\n",
       "      <td>...</td>\n",
       "      <td>0</td>\n",
       "      <td>0</td>\n",
       "      <td>95</td>\n",
       "      <td>0</td>\n",
       "      <td>0</td>\n",
       "      <td>0</td>\n",
       "      <td>0</td>\n",
       "      <td>0</td>\n",
       "      <td>0</td>\n",
       "      <td>114</td>\n",
       "    </tr>\n",
       "    <tr>\n",
       "      <th>1</th>\n",
       "      <td>84001003</td>\n",
       "      <td>US</td>\n",
       "      <td>USA</td>\n",
       "      <td>840</td>\n",
       "      <td>1003.0</td>\n",
       "      <td>Baldwin</td>\n",
       "      <td>Alabama</td>\n",
       "      <td>US</td>\n",
       "      <td>30.727750</td>\n",
       "      <td>-87.722071</td>\n",
       "      <td>...</td>\n",
       "      <td>0</td>\n",
       "      <td>0</td>\n",
       "      <td>270</td>\n",
       "      <td>0</td>\n",
       "      <td>0</td>\n",
       "      <td>0</td>\n",
       "      <td>0</td>\n",
       "      <td>0</td>\n",
       "      <td>0</td>\n",
       "      <td>275</td>\n",
       "    </tr>\n",
       "    <tr>\n",
       "      <th>2</th>\n",
       "      <td>84001005</td>\n",
       "      <td>US</td>\n",
       "      <td>USA</td>\n",
       "      <td>840</td>\n",
       "      <td>1005.0</td>\n",
       "      <td>Barbour</td>\n",
       "      <td>Alabama</td>\n",
       "      <td>US</td>\n",
       "      <td>31.868263</td>\n",
       "      <td>-85.387129</td>\n",
       "      <td>...</td>\n",
       "      <td>0</td>\n",
       "      <td>0</td>\n",
       "      <td>18</td>\n",
       "      <td>0</td>\n",
       "      <td>0</td>\n",
       "      <td>0</td>\n",
       "      <td>0</td>\n",
       "      <td>0</td>\n",
       "      <td>0</td>\n",
       "      <td>20</td>\n",
       "    </tr>\n",
       "    <tr>\n",
       "      <th>3</th>\n",
       "      <td>84001007</td>\n",
       "      <td>US</td>\n",
       "      <td>USA</td>\n",
       "      <td>840</td>\n",
       "      <td>1007.0</td>\n",
       "      <td>Bibb</td>\n",
       "      <td>Alabama</td>\n",
       "      <td>US</td>\n",
       "      <td>32.996421</td>\n",
       "      <td>-87.125115</td>\n",
       "      <td>...</td>\n",
       "      <td>0</td>\n",
       "      <td>0</td>\n",
       "      <td>15</td>\n",
       "      <td>0</td>\n",
       "      <td>0</td>\n",
       "      <td>0</td>\n",
       "      <td>0</td>\n",
       "      <td>0</td>\n",
       "      <td>0</td>\n",
       "      <td>24</td>\n",
       "    </tr>\n",
       "    <tr>\n",
       "      <th>4</th>\n",
       "      <td>84001009</td>\n",
       "      <td>US</td>\n",
       "      <td>USA</td>\n",
       "      <td>840</td>\n",
       "      <td>1009.0</td>\n",
       "      <td>Blount</td>\n",
       "      <td>Alabama</td>\n",
       "      <td>US</td>\n",
       "      <td>33.982109</td>\n",
       "      <td>-86.567906</td>\n",
       "      <td>...</td>\n",
       "      <td>0</td>\n",
       "      <td>0</td>\n",
       "      <td>89</td>\n",
       "      <td>0</td>\n",
       "      <td>0</td>\n",
       "      <td>0</td>\n",
       "      <td>0</td>\n",
       "      <td>0</td>\n",
       "      <td>0</td>\n",
       "      <td>83</td>\n",
       "    </tr>\n",
       "    <tr>\n",
       "      <th>...</th>\n",
       "      <td>...</td>\n",
       "      <td>...</td>\n",
       "      <td>...</td>\n",
       "      <td>...</td>\n",
       "      <td>...</td>\n",
       "      <td>...</td>\n",
       "      <td>...</td>\n",
       "      <td>...</td>\n",
       "      <td>...</td>\n",
       "      <td>...</td>\n",
       "      <td>...</td>\n",
       "      <td>...</td>\n",
       "      <td>...</td>\n",
       "      <td>...</td>\n",
       "      <td>...</td>\n",
       "      <td>...</td>\n",
       "      <td>...</td>\n",
       "      <td>...</td>\n",
       "      <td>...</td>\n",
       "      <td>...</td>\n",
       "      <td>...</td>\n",
       "    </tr>\n",
       "    <tr>\n",
       "      <th>3337</th>\n",
       "      <td>84056039</td>\n",
       "      <td>US</td>\n",
       "      <td>USA</td>\n",
       "      <td>840</td>\n",
       "      <td>56039.0</td>\n",
       "      <td>Teton</td>\n",
       "      <td>Wyoming</td>\n",
       "      <td>US</td>\n",
       "      <td>43.935225</td>\n",
       "      <td>-110.589080</td>\n",
       "      <td>...</td>\n",
       "      <td>0</td>\n",
       "      <td>21</td>\n",
       "      <td>0</td>\n",
       "      <td>0</td>\n",
       "      <td>0</td>\n",
       "      <td>0</td>\n",
       "      <td>0</td>\n",
       "      <td>0</td>\n",
       "      <td>29</td>\n",
       "      <td>0</td>\n",
       "    </tr>\n",
       "    <tr>\n",
       "      <th>3338</th>\n",
       "      <td>84056041</td>\n",
       "      <td>US</td>\n",
       "      <td>USA</td>\n",
       "      <td>840</td>\n",
       "      <td>56041.0</td>\n",
       "      <td>Uinta</td>\n",
       "      <td>Wyoming</td>\n",
       "      <td>US</td>\n",
       "      <td>41.287818</td>\n",
       "      <td>-110.547578</td>\n",
       "      <td>...</td>\n",
       "      <td>0</td>\n",
       "      <td>15</td>\n",
       "      <td>0</td>\n",
       "      <td>0</td>\n",
       "      <td>0</td>\n",
       "      <td>0</td>\n",
       "      <td>0</td>\n",
       "      <td>0</td>\n",
       "      <td>16</td>\n",
       "      <td>0</td>\n",
       "    </tr>\n",
       "    <tr>\n",
       "      <th>3339</th>\n",
       "      <td>84090056</td>\n",
       "      <td>US</td>\n",
       "      <td>USA</td>\n",
       "      <td>840</td>\n",
       "      <td>90056.0</td>\n",
       "      <td>Unassigned</td>\n",
       "      <td>Wyoming</td>\n",
       "      <td>US</td>\n",
       "      <td>0.000000</td>\n",
       "      <td>0.000000</td>\n",
       "      <td>...</td>\n",
       "      <td>0</td>\n",
       "      <td>0</td>\n",
       "      <td>0</td>\n",
       "      <td>0</td>\n",
       "      <td>0</td>\n",
       "      <td>0</td>\n",
       "      <td>0</td>\n",
       "      <td>0</td>\n",
       "      <td>0</td>\n",
       "      <td>0</td>\n",
       "    </tr>\n",
       "    <tr>\n",
       "      <th>3340</th>\n",
       "      <td>84056043</td>\n",
       "      <td>US</td>\n",
       "      <td>USA</td>\n",
       "      <td>840</td>\n",
       "      <td>56043.0</td>\n",
       "      <td>Washakie</td>\n",
       "      <td>Wyoming</td>\n",
       "      <td>US</td>\n",
       "      <td>43.904516</td>\n",
       "      <td>-107.680187</td>\n",
       "      <td>...</td>\n",
       "      <td>0</td>\n",
       "      <td>16</td>\n",
       "      <td>0</td>\n",
       "      <td>0</td>\n",
       "      <td>0</td>\n",
       "      <td>0</td>\n",
       "      <td>0</td>\n",
       "      <td>0</td>\n",
       "      <td>0</td>\n",
       "      <td>0</td>\n",
       "    </tr>\n",
       "    <tr>\n",
       "      <th>3341</th>\n",
       "      <td>84056045</td>\n",
       "      <td>US</td>\n",
       "      <td>USA</td>\n",
       "      <td>840</td>\n",
       "      <td>56045.0</td>\n",
       "      <td>Weston</td>\n",
       "      <td>Wyoming</td>\n",
       "      <td>US</td>\n",
       "      <td>43.839612</td>\n",
       "      <td>-104.567488</td>\n",
       "      <td>...</td>\n",
       "      <td>0</td>\n",
       "      <td>9</td>\n",
       "      <td>0</td>\n",
       "      <td>0</td>\n",
       "      <td>0</td>\n",
       "      <td>0</td>\n",
       "      <td>0</td>\n",
       "      <td>0</td>\n",
       "      <td>5</td>\n",
       "      <td>0</td>\n",
       "    </tr>\n",
       "  </tbody>\n",
       "</table>\n",
       "<p>3342 rows × 1076 columns</p>\n",
       "</div>"
      ],
      "text/plain": [
       "           UID iso2 iso3  code3     FIPS      Admin2 Province_State  \\\n",
       "0     84001001   US  USA    840   1001.0     Autauga        Alabama   \n",
       "1     84001003   US  USA    840   1003.0     Baldwin        Alabama   \n",
       "2     84001005   US  USA    840   1005.0     Barbour        Alabama   \n",
       "3     84001007   US  USA    840   1007.0        Bibb        Alabama   \n",
       "4     84001009   US  USA    840   1009.0      Blount        Alabama   \n",
       "...        ...  ...  ...    ...      ...         ...            ...   \n",
       "3337  84056039   US  USA    840  56039.0       Teton        Wyoming   \n",
       "3338  84056041   US  USA    840  56041.0       Uinta        Wyoming   \n",
       "3339  84090056   US  USA    840  90056.0  Unassigned        Wyoming   \n",
       "3340  84056043   US  USA    840  56043.0    Washakie        Wyoming   \n",
       "3341  84056045   US  USA    840  56045.0      Weston        Wyoming   \n",
       "\n",
       "     Country_Region        Lat       Long_  ... 12/12/22  12/13/22  12/14/22  \\\n",
       "0                US  32.539527  -86.644082  ...        0         0        95   \n",
       "1                US  30.727750  -87.722071  ...        0         0       270   \n",
       "2                US  31.868263  -85.387129  ...        0         0        18   \n",
       "3                US  32.996421  -87.125115  ...        0         0        15   \n",
       "4                US  33.982109  -86.567906  ...        0         0        89   \n",
       "...             ...        ...         ...  ...      ...       ...       ...   \n",
       "3337             US  43.935225 -110.589080  ...        0        21         0   \n",
       "3338             US  41.287818 -110.547578  ...        0        15         0   \n",
       "3339             US   0.000000    0.000000  ...        0         0         0   \n",
       "3340             US  43.904516 -107.680187  ...        0        16         0   \n",
       "3341             US  43.839612 -104.567488  ...        0         9         0   \n",
       "\n",
       "      12/15/22  12/16/22  12/17/22  12/18/22  12/19/22  12/20/22  12/21/22  \n",
       "0            0         0         0         0         0         0       114  \n",
       "1            0         0         0         0         0         0       275  \n",
       "2            0         0         0         0         0         0        20  \n",
       "3            0         0         0         0         0         0        24  \n",
       "4            0         0         0         0         0         0        83  \n",
       "...        ...       ...       ...       ...       ...       ...       ...  \n",
       "3337         0         0         0         0         0        29         0  \n",
       "3338         0         0         0         0         0        16         0  \n",
       "3339         0         0         0         0         0         0         0  \n",
       "3340         0         0         0         0         0         0         0  \n",
       "3341         0         0         0         0         0         5         0  \n",
       "\n",
       "[3342 rows x 1076 columns]"
      ]
     },
     "execution_count": 140,
     "metadata": {},
     "output_type": "execute_result"
    }
   ],
   "source": [
    "covid_diff"
   ]
  },
  {
   "cell_type": "code",
   "execution_count": 142,
   "id": "856370d5",
   "metadata": {},
   "outputs": [],
   "source": [
    "covid_ny_diff_new = covid_ny_diff.set_index(\"Admin2\",drop=True )\n",
    "covid_ny_diff_new = covid_ny_diff_new[covid_ny_diff_new.columns[10:]]"
   ]
  },
  {
   "cell_type": "code",
   "execution_count": 159,
   "id": "8f30d8f9",
   "metadata": {},
   "outputs": [
    {
     "name": "stdout",
     "output_type": "stream",
     "text": [
      "County Nassau has highset number of daily cases which is 18951 on 1/3/22\n"
     ]
    }
   ],
   "source": [
    "t = covid_ny_diff_new.T.max().nlargest(1)\n",
    "dt = covid_ny_diff_new.T[t.index].idxmax()\n",
    "print(f\"County {t.index[0]} has highset number of daily cases which is {t.values[0]} on {dt[0]}\")"
   ]
  },
  {
   "cell_type": "markdown",
   "id": "db5f161f",
   "metadata": {},
   "source": [
    "d. Identify two countries that have top total confirmed cases. Generate a time series plot of daily confirm cases for these two countries.\n"
   ]
  },
  {
   "cell_type": "code",
   "execution_count": 166,
   "id": "a4380686",
   "metadata": {},
   "outputs": [
    {
     "data": {
      "image/png": "[encoded data removed]",
      "text/plain": [
       "<Figure size 1008x576 with 1 Axes>"
      ]
     },
     "metadata": {
      "needs_background": "light"
     },
     "output_type": "display_data"
    }
   ],
   "source": [
    "counties = covid_ny_diff_new.T.sum().nlargest(2).index\n",
    "plt.figure(figsize=(14,8))\n",
    "\n",
    "\n",
    "for county in counties:\n",
    "    x = covid_ny_diff_new.loc[county].index\n",
    "    y = covid_ny_diff_new.loc[county].values\n",
    "    plt.plot(x , y, label = county)\n",
    "plt.xticks(range(0,1100 , 30) , rotation = 90)\n",
    "plt.xlabel(\"Date\")\n",
    "plt.ylabel(\"Positive Cases\")\n",
    "plt.legend()\n",
    "plt.grid()"
   ]
  },
  {
   "cell_type": "markdown",
   "id": "f54baef0",
   "metadata": {},
   "source": [
    "e. Show the total confirmed cases for all the locations in an interactive world map (hint: you may use `leaflet` package in `python`.\n"
   ]
  },
  {
   "cell_type": "code",
   "execution_count": null,
   "id": "da907734",
   "metadata": {},
   "outputs": [],
   "source": [
    "# TODO"
   ]
  }
 ],
 "metadata": {
  "kernelspec": {
   "display_name": "base",
   "language": "python",
   "name": "python3"
  },
  "language_info": {
   "codemirror_mode": {
    "name": "ipython",
    "version": 3
   },
   "file_extension": ".py",
   "mimetype": "text/x-python",
   "name": "python",
   "nbconvert_exporter": "python",
   "pygments_lexer": "ipython3",
   "version": "3.9.7"
  },
  "vscode": {
   "interpreter": {
    "hash": "7287290b0480c475e07faa8d8f2642b950c35b54c7904c27a4cb3f03b8542e7d"
   }
  }
 },
 "nbformat": 4,
 "nbformat_minor": 5
}
