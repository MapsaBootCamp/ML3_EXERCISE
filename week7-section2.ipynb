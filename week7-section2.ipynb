{
 "cells": [
  {
   "cell_type": "markdown",
   "id": "47f59ba8",
   "metadata": {},
   "source": [
    "<br><p style=\"margin-left: 25%; font-size:20px;\">Machine Learning Camp: HomeWork 7 Section 2</p><br>"
   ]
  },
  {
   "cell_type": "markdown",
   "id": "2218b073",
   "metadata": {},
   "source": [
    "## 1. **Working with datetime data;** The object `myDate` contains the date and time. Based on this object answer the following questions and type the answer after your findings."
   ]
  },
  {
   "cell_type": "code",
   "execution_count": 1,
   "id": "8e4680e3",
   "metadata": {},
   "outputs": [],
   "source": [
    "myDate = \"2022-10-01 09:42:43\"\n"
   ]
  },
  {
   "cell_type": "code",
   "execution_count": 84,
   "id": "589fb484",
   "metadata": {},
   "outputs": [],
   "source": [
    "from datetime import datetime, timedelta\n",
    "import pandas as pd\n",
    "import seaborn as sns\n",
    "from pytz import timezone\n",
    "import matplotlib.pyplot as plt\n",
    "import numpy as np"
   ]
  },
  {
   "cell_type": "markdown",
   "id": "666d9ea6",
   "metadata": {},
   "source": [
    "a. Convert `myDate` into a datetime object with Iran time zone. Display the result."
   ]
  },
  {
   "cell_type": "code",
   "execution_count": 3,
   "id": "0debd74f",
   "metadata": {},
   "outputs": [],
   "source": [
    "format_date=\"%Y-%m-%d %H:%M:%S\"\n",
    "date=datetime.strptime(myDate,format_date)\n",
    "def convert_time(time,zone):\n",
    "    \n",
    "    return time.astimezone(timezone(zone))\n"
   ]
  },
  {
   "cell_type": "code",
   "execution_count": 4,
   "id": "5c11dc19",
   "metadata": {},
   "outputs": [
    {
     "data": {
      "text/plain": [
       "datetime.datetime(2022, 10, 1, 9, 42, 43, tzinfo=<DstTzInfo 'Asia/Tehran' +0330+3:30:00 STD>)"
      ]
     },
     "execution_count": 4,
     "metadata": {},
     "output_type": "execute_result"
    }
   ],
   "source": [
    "convert_time(date,'Asia/Tehran')"
   ]
  },
  {
   "cell_type": "markdown",
   "id": "f2684fe9",
   "metadata": {},
   "source": [
    "b. Write your codes so that it displays the week day and also the month of `myDate`."
   ]
  },
  {
   "cell_type": "code",
   "execution_count": 5,
   "id": "884c4d41",
   "metadata": {},
   "outputs": [],
   "source": [
    "def Month_day(date):\n",
    "    return (date.strftime('%A'),date.strftime('%B'),date.strftime('%Y'))"
   ]
  },
  {
   "cell_type": "code",
   "execution_count": 6,
   "id": "ab2fd511",
   "metadata": {},
   "outputs": [
    {
     "data": {
      "text/plain": [
       "('Saturday', 'October', '2022')"
      ]
     },
     "execution_count": 6,
     "metadata": {},
     "output_type": "execute_result"
    }
   ],
   "source": [
    "Month_day(date)"
   ]
  },
  {
   "cell_type": "markdown",
   "id": "57f8a4a0",
   "metadata": {},
   "source": [
    "c. What weekday and the month is it after exactly 100 years from `myDate`?"
   ]
  },
  {
   "cell_type": "code",
   "execution_count": 7,
   "id": "c8bc864e",
   "metadata": {},
   "outputs": [],
   "source": [
    "def shift_time(date,days):\n",
    "    date=date+timedelta(days=days)\n",
    "    return Month_day(date)"
   ]
  },
  {
   "cell_type": "code",
   "execution_count": 8,
   "id": "e67458a7",
   "metadata": {},
   "outputs": [
    {
     "data": {
      "text/plain": [
       "('Monday', 'January', '2023')"
      ]
     },
     "execution_count": 8,
     "metadata": {},
     "output_type": "execute_result"
    }
   ],
   "source": [
    "shift_time(date,100)"
   ]
  },
  {
   "cell_type": "markdown",
   "id": "211c0893",
   "metadata": {},
   "source": [
    "d. Add two month with myDate and display the resulting date time."
   ]
  },
  {
   "cell_type": "code",
   "execution_count": 9,
   "id": "4427d37a",
   "metadata": {},
   "outputs": [
    {
     "data": {
      "text/plain": [
       "('Wednesday', 'November', '2022')"
      ]
     },
     "execution_count": 9,
     "metadata": {},
     "output_type": "execute_result"
    }
   ],
   "source": [
    "shift_time(date,60)\n"
   ]
  },
  {
   "cell_type": "markdown",
   "id": "717c3957",
   "metadata": {},
   "source": [
    "e. Suppose this homework is due on December 23, 2022 by 11.59PM. Compute and display how many seconds you got to complete this homework? Also compute the hours."
   ]
  },
  {
   "cell_type": "code",
   "execution_count": 10,
   "id": "8b46dd46",
   "metadata": {},
   "outputs": [],
   "source": [
    "def get_seconds():\n",
    "    now=datetime.now()\n",
    "    diff=(datetime.strptime('Dec/23/2022','%b/%d/%Y'))-now\n",
    "    return (diff.total_seconds(),diff.total_seconds()/3600)"
   ]
  },
  {
   "cell_type": "code",
   "execution_count": 11,
   "id": "21fe928b",
   "metadata": {},
   "outputs": [
    {
     "data": {
      "text/plain": [
       "(15776.742274, 4.382428409444445)"
      ]
     },
     "execution_count": 11,
     "metadata": {},
     "output_type": "execute_result"
    }
   ],
   "source": [
    "get_seconds()"
   ]
  },
  {
   "cell_type": "markdown",
   "id": "a94748d3",
   "metadata": {},
   "source": [
    "f. For the years `2021` & `2022`, count the number of weekends. Which year has the highest number of Weekends?"
   ]
  },
  {
   "cell_type": "code",
   "execution_count": 12,
   "id": "062a60ff",
   "metadata": {},
   "outputs": [
    {
     "name": "stdout",
     "output_type": "stream",
     "text": [
      "Requirement already satisfied: isoweek in /Users/arianzarifian/opt/anaconda3/lib/python3.9/site-packages (1.3.3)\n"
     ]
    }
   ],
   "source": [
    "! pip install isoweek "
   ]
  },
  {
   "cell_type": "code",
   "execution_count": 13,
   "id": "b8a208f9",
   "metadata": {},
   "outputs": [],
   "source": [
    "from isoweek import Week"
   ]
  },
  {
   "cell_type": "code",
   "execution_count": 14,
   "id": "fd365d64",
   "metadata": {},
   "outputs": [],
   "source": [
    "def last_week(date):\n",
    "    return (Week.last_week_of_year(date).week,date)"
   ]
  },
  {
   "cell_type": "code",
   "execution_count": 15,
   "id": "3e7c4a48",
   "metadata": {},
   "outputs": [
    {
     "name": "stdout",
     "output_type": "stream",
     "text": [
      "(52, 2021) (52, 2022) max is  (52, 2022)\n"
     ]
    }
   ],
   "source": [
    "date1=last_week(2021)\n",
    "date2=last_week(2022)\n",
    "print(date1,date2,'max is ',max(date1,date2))\n"
   ]
  },
  {
   "cell_type": "markdown",
   "id": "31f068c5",
   "metadata": {},
   "source": [
    "g. What is the month(MM) and day(DD) on the `305`th day of the current year?"
   ]
  },
  {
   "cell_type": "code",
   "execution_count": 16,
   "id": "5e17ad7a",
   "metadata": {
    "scrolled": false
   },
   "outputs": [],
   "source": [
    "def make_date(year,days):\n",
    "    date=datetime(year,1,1)+timedelta(days)\n",
    "    return Month_day(date)"
   ]
  },
  {
   "cell_type": "markdown",
   "id": "2b6f4dd0",
   "metadata": {},
   "source": [
    "h. The Date `2022-10-20` is formatted `YYYY-MM-DD`, format it into `MM-DD-YYYY`"
   ]
  },
  {
   "cell_type": "code",
   "execution_count": 17,
   "id": "6c5a84c2",
   "metadata": {},
   "outputs": [],
   "source": [
    "\n",
    "    \n",
    "date=datetime.strptime('2022-10-20','%Y-%m-%d')\n",
    "date2=datetime.strftime(date,'%m-%d-%Y')\n"
   ]
  },
  {
   "cell_type": "markdown",
   "id": "8ecba4de",
   "metadata": {},
   "source": [
    "i. Find if the Date on the question above is the weekend or a weekday."
   ]
  },
  {
   "cell_type": "code",
   "execution_count": 18,
   "id": "bcc38e46",
   "metadata": {},
   "outputs": [
    {
     "name": "stdout",
     "output_type": "stream",
     "text": [
      "weekday\n"
     ]
    }
   ],
   "source": [
    "date3=datetime.strptime(date2,'%m-%d-%Y').weekday()\n",
    "if date3<5:\n",
    "    print('weekday')\n",
    "else:\n",
    "    print('weekend')\n"
   ]
  },
  {
   "cell_type": "markdown",
   "id": "5761a24f",
   "metadata": {},
   "source": [
    "## 2. **Walmart Sales Analysis:** load and read the dataset `walmart_sales.csv` and `walmart_fuel_prices.csv`.\n",
    "\n",
    "We will follow the following data description when working with the above 2 datasets:\n",
    "\n",
    " * `index:` index is a default value of count\n",
    " * `Store:` Store is represented in number ID(1,2,3,4,...)\n",
    " * `Dept:` Dept is Department in each Store represented in number ID (1,2,3,4,...)\n",
    " * `Date:` Date is in YYYY-MM-DD char format - *needs to be converted into Date data type*\n",
    " * `Weekly_Sales:` Sales of a given Dept in a given Store for the Date\n",
    " * `Temperature:` Average temperature on the Date at given Store region\n",
    " * `Fuel_Price:` Cost of the Fuel on the given Date at a given Store\n",
    " * `IsHoliday:` Is the given Date a holiday Week? "
   ]
  },
  {
   "cell_type": "code",
   "execution_count": 19,
   "id": "06623146",
   "metadata": {
    "scrolled": false
   },
   "outputs": [
    {
     "data": {
      "text/html": [
       "<div>\n",
       "<style scoped>\n",
       "    .dataframe tbody tr th:only-of-type {\n",
       "        vertical-align: middle;\n",
       "    }\n",
       "\n",
       "    .dataframe tbody tr th {\n",
       "        vertical-align: top;\n",
       "    }\n",
       "\n",
       "    .dataframe thead th {\n",
       "        text-align: right;\n",
       "    }\n",
       "</style>\n",
       "<table border=\"1\" class=\"dataframe\">\n",
       "  <thead>\n",
       "    <tr style=\"text-align: right;\">\n",
       "      <th></th>\n",
       "      <th>index</th>\n",
       "      <th>Store</th>\n",
       "      <th>Date</th>\n",
       "      <th>Temperature</th>\n",
       "      <th>Fuel_Price</th>\n",
       "      <th>IsHoliday</th>\n",
       "    </tr>\n",
       "  </thead>\n",
       "  <tbody>\n",
       "    <tr>\n",
       "      <th>0</th>\n",
       "      <td>1</td>\n",
       "      <td>1</td>\n",
       "      <td>2010-02-05</td>\n",
       "      <td>42.31</td>\n",
       "      <td>2.572</td>\n",
       "      <td>False</td>\n",
       "    </tr>\n",
       "    <tr>\n",
       "      <th>1</th>\n",
       "      <td>2</td>\n",
       "      <td>1</td>\n",
       "      <td>2010-02-12</td>\n",
       "      <td>38.51</td>\n",
       "      <td>2.548</td>\n",
       "      <td>True</td>\n",
       "    </tr>\n",
       "    <tr>\n",
       "      <th>2</th>\n",
       "      <td>3</td>\n",
       "      <td>1</td>\n",
       "      <td>2010-02-19</td>\n",
       "      <td>39.93</td>\n",
       "      <td>2.514</td>\n",
       "      <td>False</td>\n",
       "    </tr>\n",
       "    <tr>\n",
       "      <th>3</th>\n",
       "      <td>4</td>\n",
       "      <td>1</td>\n",
       "      <td>2010-02-26</td>\n",
       "      <td>46.63</td>\n",
       "      <td>2.561</td>\n",
       "      <td>False</td>\n",
       "    </tr>\n",
       "    <tr>\n",
       "      <th>4</th>\n",
       "      <td>5</td>\n",
       "      <td>1</td>\n",
       "      <td>2010-03-05</td>\n",
       "      <td>46.50</td>\n",
       "      <td>2.625</td>\n",
       "      <td>False</td>\n",
       "    </tr>\n",
       "  </tbody>\n",
       "</table>\n",
       "</div>"
      ],
      "text/plain": [
       "   index  Store        Date  Temperature  Fuel_Price  IsHoliday\n",
       "0      1      1  2010-02-05        42.31       2.572      False\n",
       "1      2      1  2010-02-12        38.51       2.548       True\n",
       "2      3      1  2010-02-19        39.93       2.514      False\n",
       "3      4      1  2010-02-26        46.63       2.561      False\n",
       "4      5      1  2010-03-05        46.50       2.625      False"
      ]
     },
     "execution_count": 19,
     "metadata": {},
     "output_type": "execute_result"
    }
   ],
   "source": [
    "df_fuel=pd.read_csv('walmart_fuel_prices.csv')\n",
    "df_sales=pd.read_csv('walmart_sales.csv')\n",
    "df_fuel.head()"
   ]
  },
  {
   "cell_type": "markdown",
   "id": "28576a96",
   "metadata": {},
   "source": [
    " a. For both datasets, breakdown the `Date` column and create additional new columns `Year`, `Month`, and `Day`. You should now have additional 3 new columns in your both dataset. Report only the column names for both the dataset."
   ]
  },
  {
   "cell_type": "code",
   "execution_count": 20,
   "id": "69d17cb5",
   "metadata": {},
   "outputs": [],
   "source": [
    "def str_to_date(df,column):\n",
    "    df[column]=pd.to_datetime(df[column],format='%Y-%m-%d')\n",
    "    df['year']=df[column].dt.year\n",
    "    df['Month']=df[column].dt.month\n",
    "    df['Day']=df[column].dt.day\n"
   ]
  },
  {
   "cell_type": "code",
   "execution_count": 21,
   "id": "d27fc2d4",
   "metadata": {},
   "outputs": [],
   "source": [
    "df_fuel['Date']=pd.to_datetime(df_fuel['Date'],format='%Y-%m-%d')\n",
    "df_fuel['year']=df_fuel['Date'].dt.year\n",
    "df_fuel['Month']=df_fuel['Date'].dt.month\n",
    "df_fuel['Day']=df_fuel['Date'].dt.day\n"
   ]
  },
  {
   "cell_type": "code",
   "execution_count": 22,
   "id": "c03e8058",
   "metadata": {},
   "outputs": [],
   "source": [
    "str_to_date(df_fuel,'Date')\n",
    "str_to_date(df_sales,'Date')"
   ]
  },
  {
   "cell_type": "code",
   "execution_count": 23,
   "id": "490af7fd",
   "metadata": {},
   "outputs": [
    {
     "data": {
      "text/plain": [
       "array([2010, 2011, 2012])"
      ]
     },
     "execution_count": 23,
     "metadata": {},
     "output_type": "execute_result"
    }
   ],
   "source": [
    "df_sales.year.unique()"
   ]
  },
  {
   "cell_type": "code",
   "execution_count": 24,
   "id": "f0863f32",
   "metadata": {},
   "outputs": [
    {
     "data": {
      "text/html": [
       "<div>\n",
       "<style scoped>\n",
       "    .dataframe tbody tr th:only-of-type {\n",
       "        vertical-align: middle;\n",
       "    }\n",
       "\n",
       "    .dataframe tbody tr th {\n",
       "        vertical-align: top;\n",
       "    }\n",
       "\n",
       "    .dataframe thead th {\n",
       "        text-align: right;\n",
       "    }\n",
       "</style>\n",
       "<table border=\"1\" class=\"dataframe\">\n",
       "  <thead>\n",
       "    <tr style=\"text-align: right;\">\n",
       "      <th></th>\n",
       "      <th>index</th>\n",
       "      <th>Store</th>\n",
       "      <th>Date</th>\n",
       "      <th>Temperature</th>\n",
       "      <th>Fuel_Price</th>\n",
       "      <th>IsHoliday</th>\n",
       "      <th>year</th>\n",
       "      <th>Month</th>\n",
       "      <th>Day</th>\n",
       "    </tr>\n",
       "  </thead>\n",
       "  <tbody>\n",
       "    <tr>\n",
       "      <th>0</th>\n",
       "      <td>1</td>\n",
       "      <td>1</td>\n",
       "      <td>2010-02-05</td>\n",
       "      <td>42.31</td>\n",
       "      <td>2.572</td>\n",
       "      <td>False</td>\n",
       "      <td>2010</td>\n",
       "      <td>2</td>\n",
       "      <td>5</td>\n",
       "    </tr>\n",
       "    <tr>\n",
       "      <th>1</th>\n",
       "      <td>2</td>\n",
       "      <td>1</td>\n",
       "      <td>2010-02-12</td>\n",
       "      <td>38.51</td>\n",
       "      <td>2.548</td>\n",
       "      <td>True</td>\n",
       "      <td>2010</td>\n",
       "      <td>2</td>\n",
       "      <td>12</td>\n",
       "    </tr>\n",
       "    <tr>\n",
       "      <th>2</th>\n",
       "      <td>3</td>\n",
       "      <td>1</td>\n",
       "      <td>2010-02-19</td>\n",
       "      <td>39.93</td>\n",
       "      <td>2.514</td>\n",
       "      <td>False</td>\n",
       "      <td>2010</td>\n",
       "      <td>2</td>\n",
       "      <td>19</td>\n",
       "    </tr>\n",
       "    <tr>\n",
       "      <th>3</th>\n",
       "      <td>4</td>\n",
       "      <td>1</td>\n",
       "      <td>2010-02-26</td>\n",
       "      <td>46.63</td>\n",
       "      <td>2.561</td>\n",
       "      <td>False</td>\n",
       "      <td>2010</td>\n",
       "      <td>2</td>\n",
       "      <td>26</td>\n",
       "    </tr>\n",
       "    <tr>\n",
       "      <th>4</th>\n",
       "      <td>5</td>\n",
       "      <td>1</td>\n",
       "      <td>2010-03-05</td>\n",
       "      <td>46.50</td>\n",
       "      <td>2.625</td>\n",
       "      <td>False</td>\n",
       "      <td>2010</td>\n",
       "      <td>3</td>\n",
       "      <td>5</td>\n",
       "    </tr>\n",
       "  </tbody>\n",
       "</table>\n",
       "</div>"
      ],
      "text/plain": [
       "   index  Store       Date  Temperature  Fuel_Price  IsHoliday  year  Month  \\\n",
       "0      1      1 2010-02-05        42.31       2.572      False  2010      2   \n",
       "1      2      1 2010-02-12        38.51       2.548       True  2010      2   \n",
       "2      3      1 2010-02-19        39.93       2.514      False  2010      2   \n",
       "3      4      1 2010-02-26        46.63       2.561      False  2010      2   \n",
       "4      5      1 2010-03-05        46.50       2.625      False  2010      3   \n",
       "\n",
       "   Day  \n",
       "0    5  \n",
       "1   12  \n",
       "2   19  \n",
       "3   26  \n",
       "4    5  "
      ]
     },
     "execution_count": 24,
     "metadata": {},
     "output_type": "execute_result"
    }
   ],
   "source": [
    "df_fuel.head()"
   ]
  },
  {
   "cell_type": "markdown",
   "id": "13877d45",
   "metadata": {},
   "source": [
    "b. In `walmart_sales`: which `Month(s)` of `Year` have the highest `Weekly_Sales`? Report the Year, Month, Store, and Dept."
   ]
  },
  {
   "cell_type": "code",
   "execution_count": 25,
   "id": "b3bbf97e",
   "metadata": {},
   "outputs": [
    {
     "name": "stdout",
     "output_type": "stream",
     "text": [
      "288760532.72 month is  12 year is  2010\n"
     ]
    }
   ],
   "source": [
    "high_sales=df_sales.groupby(['Month','year']).sum()\n",
    "index=high_sales.Weekly_Sales.idxmax()\n",
    "\n",
    "print(high_sales.loc[index].Weekly_Sales,'month is ',index[0],'year is ',index[1])\n"
   ]
  },
  {
   "cell_type": "markdown",
   "id": "e0a1faef",
   "metadata": {},
   "source": [
    "c. In `walmart_sales`: calculate the average monthly sales by Department for each Store. Which Store(s) has the highest average monthly sales on the department(s)? Report the Store, Department, Date."
   ]
  },
  {
   "cell_type": "code",
   "execution_count": 26,
   "id": "15ef73fa",
   "metadata": {},
   "outputs": [
    {
     "name": "stdout",
     "output_type": "stream",
     "text": [
      "Dept is  1 month is  12 store is 13\n",
      "Dept is  2 month is  2 store is 10\n",
      "Dept is  3 month is  8 store is 10\n",
      "Dept is  4 month is  11 store is 4\n",
      "Dept is  5 month is  12 store is 10\n",
      "Dept is  6 month is  12 store is 20\n",
      "Dept is  7 month is  12 store is 10\n",
      "Dept is  8 month is  2 store is 10\n",
      "Dept is  9 month is  6 store is 23\n",
      "Dept is  10 month is  6 store is 6\n",
      "Dept is  11 month is  6 store is 23\n",
      "Dept is  12 month is  3 store is 1\n",
      "Dept is  13 month is  9 store is 4\n",
      "Dept is  14 month is  12 store is 10\n",
      "Dept is  16 month is  6 store is 14\n",
      "Dept is  17 month is  12 store is 23\n",
      "Dept is  18 month is  12 store is 10\n",
      "Dept is  19 month is  10 store is 17\n",
      "Dept is  20 month is  2 store is 10\n",
      "Dept is  21 month is  12 store is 20\n",
      "Dept is  22 month is  12 store is 10\n",
      "Dept is  23 month is  12 store is 10\n",
      "Dept is  24 month is  12 store is 10\n",
      "Dept is  25 month is  12 store is 10\n",
      "Dept is  26 month is  11 store is 10\n",
      "Dept is  27 month is  12 store is 10\n",
      "Dept is  28 month is  12 store is 10\n",
      "Dept is  29 month is  12 store is 10\n",
      "Dept is  30 month is  2 store is 10\n",
      "Dept is  31 month is  8 store is 10\n",
      "Dept is  32 month is  12 store is 10\n",
      "Dept is  33 month is  12 store is 10\n",
      "Dept is  34 month is  12 store is 10\n",
      "Dept is  35 month is  12 store is 10\n",
      "Dept is  36 month is  6 store is 14\n",
      "Dept is  37 month is  2 store is 2\n",
      "Dept is  38 month is  2 store is 3\n",
      "Dept is  40 month is  2 store is 10\n",
      "Dept is  41 month is  12 store is 10\n",
      "Dept is  42 month is  10 store is 23\n",
      "Dept is  44 month is  12 store is 23\n",
      "Dept is  45 month is  7 store is 27\n",
      "Dept is  46 month is  12 store is 10\n",
      "Dept is  47 month is  2 store is 4\n",
      "Dept is  48 month is  12 store is 4\n",
      "Dept is  49 month is  2 store is 23\n",
      "Dept is  51 month is  12 store is 16\n",
      "Dept is  52 month is  11 store is 10\n",
      "Dept is  54 month is  2 store is 11\n",
      "Dept is  55 month is  12 store is 13\n",
      "Dept is  56 month is  6 store is 7\n",
      "Dept is  58 month is  12 store is 2\n",
      "Dept is  59 month is  12 store is 10\n",
      "Dept is  60 month is  12 store is 13\n",
      "Dept is  67 month is  5 store is 20\n",
      "Dept is  71 month is  2 store is 10\n",
      "Dept is  72 month is  11 store is 10\n",
      "Dept is  74 month is  8 store is 23\n",
      "Dept is  77 month is  11 store is 10\n",
      "Dept is  78 month is  8 store is 19\n",
      "Dept is  79 month is  2 store is 4\n",
      "Dept is  80 month is  7 store is 20\n",
      "Dept is  81 month is  5 store is 14\n",
      "Dept is  82 month is  12 store is 13\n",
      "Dept is  83 month is  2 store is 14\n",
      "Dept is  85 month is  12 store is 23\n",
      "Dept is  87 month is  12 store is 20\n",
      "Dept is  90 month is  11 store is 13\n",
      "Dept is  91 month is  2 store is 14\n",
      "Dept is  92 month is  11 store is 14\n",
      "Dept is  93 month is  11 store is 1\n",
      "Dept is  94 month is  5 store is 13\n",
      "Dept is  95 month is  6 store is 4\n",
      "Dept is  96 month is  12 store is 4\n",
      "Dept is  97 month is  6 store is 2\n",
      "Dept is  98 month is  11 store is 20\n",
      "Dept is  99 month is  11 store is 20\n",
      "Dept is  39 month is  5 store is 18\n",
      "Dept is  50 month is  8 store is 23\n",
      "Dept is  43 month is  3 store is 15\n",
      "Dept is  65 month is  5 store is 34\n"
     ]
    }
   ],
   "source": [
    "average_sales=df_sales.groupby(['Dept','Month','Store']).mean()\n",
    "for i in df_sales.Dept.unique() :\n",
    "    index_m=average_sales.loc[i].Weekly_Sales.idxmax()\n",
    "    print('Dept is ',i,'month is ',index_m[0],'store is',index_m[1])\n",
    "\n"
   ]
  },
  {
   "cell_type": "markdown",
   "id": "ee38e63a",
   "metadata": {},
   "source": [
    "d. In `walmart_sales`: which month of year `2011` has the highest overall sales by Store? Name the holiday(Labor day, July 4th, Halloween, Thanksgiving, Christmas,... etcs) that falls on the month. After that do the same for `2012`. Does the highest sales per month fall on the same holiday for both years? Report your findings for both year."
   ]
  },
  {
   "cell_type": "code",
   "execution_count": 27,
   "id": "bd460564",
   "metadata": {},
   "outputs": [],
   "source": [
    "#!pip install holidays"
   ]
  },
  {
   "cell_type": "code",
   "execution_count": 28,
   "id": "76553e55",
   "metadata": {},
   "outputs": [],
   "source": [
    "import holidays"
   ]
  },
  {
   "cell_type": "code",
   "execution_count": 29,
   "id": "67ce1306",
   "metadata": {},
   "outputs": [],
   "source": [
    "def get_holiday(highest):\n",
    "    year=int(highest[1])\n",
    "    for ptr in holidays.USA(years = year).items():\n",
    "        if ptr[0].month==highest[0]:\n",
    "            print(ptr)"
   ]
  },
  {
   "cell_type": "code",
   "execution_count": 30,
   "id": "61e5651c",
   "metadata": {},
   "outputs": [],
   "source": [
    "\n",
    "def get_highest_month(year):\n",
    "    highest=high_sales.loc[(slice(None),year),:].Weekly_Sales.idxmax()\n",
    "    print(highest)\n",
    "    return get_holiday(highest)"
   ]
  },
  {
   "attachments": {},
   "cell_type": "markdown",
   "id": "cba559f8",
   "metadata": {},
   "source": [
    "در سال ۲۰۱۱ در ماه ۱۲ بالاترین فروش بوده است که دارای ۲ تعطیلی است \n",
    "اما در سال ۲۰۱۲ ماه ۶ ام بالاترین فروش بوده است که تعطیلی نبوده است"
   ]
  },
  {
   "cell_type": "code",
   "execution_count": 31,
   "id": "5473a77a",
   "metadata": {},
   "outputs": [
    {
     "name": "stdout",
     "output_type": "stream",
     "text": [
      "(12, 2011)\n",
      "(datetime.date(2011, 12, 25), 'Christmas Day')\n",
      "(datetime.date(2011, 12, 26), 'Christmas Day (Observed)')\n"
     ]
    }
   ],
   "source": [
    "get_highest_month(2011.0)"
   ]
  },
  {
   "cell_type": "code",
   "execution_count": 32,
   "id": "e9f0d74f",
   "metadata": {},
   "outputs": [
    {
     "name": "stdout",
     "output_type": "stream",
     "text": [
      "(6, 2012)\n"
     ]
    }
   ],
   "source": [
    "get_highest_month(2012.0)"
   ]
  },
  {
   "cell_type": "markdown",
   "id": "0e6c35a7",
   "metadata": {},
   "source": [
    " e. In `walmart_sales`: report the lowest sales per month for the year `2011` for `IsHoliday == TRUE`. Name the holiday(Labor day, July 4th, Halloween, Thanksgiving, Christmas,... etcs) that falls on the month. Do the same for `2012` and report if the lowest sales are on the same month."
   ]
  },
  {
   "cell_type": "code",
   "execution_count": 45,
   "id": "da376d70",
   "metadata": {
    "scrolled": false
   },
   "outputs": [],
   "source": [
    "def holidays_finder(year):\n",
    "    \n",
    "    all_holidays=[ptr[0].month for ptr in holidays.USA(years=year).items()]\n",
    "    return list(set(all_holidays))"
   ]
  },
  {
   "cell_type": "code",
   "execution_count": 49,
   "id": "d12ab4bc",
   "metadata": {},
   "outputs": [],
   "source": [
    "def get_lowest_month(year):\n",
    "    verified_months=holidays_finder(year)\n",
    "    lowest=high_sales.loc[(verified_months,year),:].Weekly_Sales.idxmin()\n",
    "    print('month is ',lowest[0])\n",
    "    return get_holiday(lowest)\n",
    "    "
   ]
  },
  {
   "cell_type": "code",
   "execution_count": 50,
   "id": "76e670fa",
   "metadata": {},
   "outputs": [
    {
     "name": "stdout",
     "output_type": "stream",
     "text": [
      "month is  1\n",
      "(datetime.date(2011, 1, 1), \"New Year's Day\")\n",
      "(datetime.date(2011, 1, 17), 'Martin Luther King Jr. Day')\n"
     ]
    },
    {
     "name": "stderr",
     "output_type": "stream",
     "text": [
      "/var/folders/hn/cjgf8lqs607cny8_gr2rmcpc0000gn/T/ipykernel_1440/1083967510.py:3: FutureWarning: Passing a set as an indexer is deprecated and will raise in a future version. Use a list instead.\n",
      "  lowest=high_sales.loc[(verified_months,year),:].Weekly_Sales.idxmin()\n"
     ]
    }
   ],
   "source": [
    "get_lowest_month(2011)"
   ]
  },
  {
   "cell_type": "code",
   "execution_count": 52,
   "id": "4d7a6f7b",
   "metadata": {},
   "outputs": [
    {
     "name": "stdout",
     "output_type": "stream",
     "text": [
      "month is  1\n",
      "(datetime.date(2012, 1, 1), \"New Year's Day\")\n",
      "(datetime.date(2012, 1, 2), \"New Year's Day (Observed)\")\n",
      "(datetime.date(2012, 1, 16), 'Martin Luther King Jr. Day')\n"
     ]
    },
    {
     "name": "stderr",
     "output_type": "stream",
     "text": [
      "/var/folders/hn/cjgf8lqs607cny8_gr2rmcpc0000gn/T/ipykernel_1440/1083967510.py:3: FutureWarning: Passing a set as an indexer is deprecated and will raise in a future version. Use a list instead.\n",
      "  lowest=high_sales.loc[(verified_months,year),:].Weekly_Sales.idxmin()\n"
     ]
    }
   ],
   "source": [
    "get_lowest_month(2012)"
   ]
  },
  {
   "attachments": {},
   "cell_type": "markdown",
   "id": "a96dcc9a",
   "metadata": {},
   "source": [
    "در هر ۲ سال ماه اول بوده است"
   ]
  },
  {
   "cell_type": "markdown",
   "id": "1b50bfcd",
   "metadata": {},
   "source": [
    "f. In `walmart_sales`: We have 45 unique stores. Generate a nice plot on the total sales by store for the year `2012`. Report the Store number."
   ]
  },
  {
   "cell_type": "code",
   "execution_count": 67,
   "id": "4d83becc",
   "metadata": {},
   "outputs": [
    {
     "data": {
      "text/plain": [
       "<AxesSubplot:xlabel='Weekly_Sales', ylabel='Store'>"
      ]
     },
     "execution_count": 67,
     "metadata": {},
     "output_type": "execute_result"
    },
    {
     "data": {
      "image/png": "[encoded data removed]",
      "text/plain": [
       "<Figure size 720x720 with 1 Axes>"
      ]
     },
     "metadata": {
      "needs_background": "light"
     },
     "output_type": "display_data"
    }
   ],
   "source": [
    "store_sales=df_sales.groupby(['Store','year'],as_index=False).sum()\n",
    "store_sales=store_sales.loc[store_sales['year']==2012]\n",
    "plt.figure(figsize=(10,10))\n",
    "store_sales=store_sales.loc[:,['Store','Weekly_Sales']]\n",
    "\n",
    "sns.barplot(store_sales,x='Weekly_Sales',y='Store',orient='h')"
   ]
  },
  {
   "cell_type": "markdown",
   "id": "5289a946",
   "metadata": {},
   "source": [
    "g. In `walmart_fuel_prices`: For the year `2011` do you think higher the `temperature` relates to higher `fuel price`? Support your answer with a nice plot."
   ]
  },
  {
   "cell_type": "code",
   "execution_count": null,
   "id": "42da1e4e",
   "metadata": {},
   "outputs": [
    {
     "data": {
      "text/plain": [
       "<AxesSubplot:xlabel='Temperature', ylabel='Fuel_Price'>"
      ]
     },
     "execution_count": 35,
     "metadata": {},
     "output_type": "execute_result"
    },
    {
     "data": {
      "image/png": "[encoded data removed]",
      "text/plain": [
       "<Figure size 432x288 with 1 Axes>"
      ]
     },
     "metadata": {
      "needs_background": "light"
     },
     "output_type": "display_data"
    }
   ],
   "source": [
    "df_fuel_price=df_fuel.loc[df_fuel['year']==2011]\n",
    "df_fuel_price=df_fuel_price.loc[:,['Temperature','Fuel_Price']]\n",
    "sns.scatterplot(df_fuel_price,x='Temperature',y='Fuel_Price')"
   ]
  },
  {
   "attachments": {},
   "cell_type": "markdown",
   "id": "b719682a",
   "metadata": {},
   "source": [
    "باتوجه به نمودار باید گفت ارتباط مستقیم وجود دارد"
   ]
  },
  {
   "cell_type": "markdown",
   "id": "1f3cf869",
   "metadata": {},
   "source": [
    " h. In `walmart_fuel_prices`: For the year `2010` which `Store` had the lowest Fuel Price? Report the `month` and `temperature`. On the same `month`, what was the highest fuel price for the store? Report the difference."
   ]
  },
  {
   "cell_type": "code",
   "execution_count": null,
   "id": "ab2df5ad",
   "metadata": {},
   "outputs": [
    {
     "data": {
      "text/html": [
       "<div>\n",
       "<style scoped>\n",
       "    .dataframe tbody tr th:only-of-type {\n",
       "        vertical-align: middle;\n",
       "    }\n",
       "\n",
       "    .dataframe tbody tr th {\n",
       "        vertical-align: top;\n",
       "    }\n",
       "\n",
       "    .dataframe thead th {\n",
       "        text-align: right;\n",
       "    }\n",
       "</style>\n",
       "<table border=\"1\" class=\"dataframe\">\n",
       "  <thead>\n",
       "    <tr style=\"text-align: right;\">\n",
       "      <th></th>\n",
       "      <th>index</th>\n",
       "      <th>Store</th>\n",
       "      <th>Date</th>\n",
       "      <th>Temperature</th>\n",
       "      <th>Fuel_Price</th>\n",
       "      <th>IsHoliday_x</th>\n",
       "      <th>year_x</th>\n",
       "      <th>Month_x</th>\n",
       "      <th>Day_x</th>\n",
       "      <th>Dept</th>\n",
       "      <th>Weekly_Sales</th>\n",
       "      <th>IsHoliday_y</th>\n",
       "      <th>year_y</th>\n",
       "      <th>Month_y</th>\n",
       "      <th>Day_y</th>\n",
       "    </tr>\n",
       "  </thead>\n",
       "  <tbody>\n",
       "    <tr>\n",
       "      <th>391065</th>\n",
       "      <td>7463</td>\n",
       "      <td>42</td>\n",
       "      <td>2010-02-05</td>\n",
       "      <td>54.34</td>\n",
       "      <td>2.962</td>\n",
       "      <td>False</td>\n",
       "      <td>2010</td>\n",
       "      <td>2</td>\n",
       "      <td>5</td>\n",
       "      <td>7</td>\n",
       "      <td>522.44</td>\n",
       "      <td>False</td>\n",
       "      <td>2010</td>\n",
       "      <td>2</td>\n",
       "      <td>5</td>\n",
       "    </tr>\n",
       "  </tbody>\n",
       "</table>\n",
       "</div>"
      ],
      "text/plain": [
       "        index  Store       Date  Temperature  Fuel_Price  IsHoliday_x  year_x  \\\n",
       "391065   7463     42 2010-02-05        54.34       2.962        False    2010   \n",
       "\n",
       "        Month_x  Day_x  Dept  Weekly_Sales  IsHoliday_y  year_y  Month_y  \\\n",
       "391065        2      5     7        522.44        False    2010        2   \n",
       "\n",
       "        Day_y  \n",
       "391065      5  "
      ]
     },
     "execution_count": 36,
     "metadata": {},
     "output_type": "execute_result"
    }
   ],
   "source": [
    "df=df_fuel.merge(df_sales,how='inner',on=['Date','Store'])\n",
    "df_2010=df.loc[df['year_x']==2010]\n",
    "lowest=df_2010.sort_values('Fuel_Price').head(1)\n",
    "\n",
    "highest=df_2010[df_2010['Month_y']==2].sort_values('Fuel_Price',ascending=False).head(1)\n",
    "highest\n"
   ]
  },
  {
   "cell_type": "code",
   "execution_count": null,
   "id": "a16ebb24",
   "metadata": {},
   "outputs": [
    {
     "name": "stdout",
     "output_type": "stream",
     "text": [
      "        index  Store       Date  Temperature  Fuel_Price  IsHoliday_x  year_x  \\\n",
      "340379   6373     36 2010-02-19        45.66       2.472        False    2010   \n",
      "\n",
      "        Month_x  Day_x  Dept  Weekly_Sales  IsHoliday_y  year_y  Month_y  \\\n",
      "340379        2     19    46       2805.71        False    2010        2   \n",
      "\n",
      "        Day_y  \n",
      "340379     19  \n",
      "        index  Store       Date  Temperature  Fuel_Price  IsHoliday_x  year_x  \\\n",
      "391065   7463     42 2010-02-05        54.34       2.962        False    2010   \n",
      "\n",
      "        Month_x  Day_x  Dept  Weekly_Sales  IsHoliday_y  year_y  Month_y  \\\n",
      "391065        2      5     7        522.44        False    2010        2   \n",
      "\n",
      "        Day_y  \n",
      "391065      5  \n"
     ]
    }
   ],
   "source": [
    "print(lowest)\n",
    "print(highest)"
   ]
  },
  {
   "cell_type": "markdown",
   "id": "12b0075e",
   "metadata": {},
   "source": [
    "i. In `walmart_fuel_prices`: For the `IsHoliday == TRUE`, which month has the lowest `Fuel Price` for the year `2012`? name the holiday(Labor day, July 4th, Halloween, Thanksgiving, Christmas,... etcs) that falls on the month. Also report month of the highest fuel price and name of the holiday."
   ]
  },
  {
   "cell_type": "code",
   "execution_count": null,
   "id": "ac259d5d",
   "metadata": {},
   "outputs": [],
   "source": [
    "# TODO"
   ]
  },
  {
   "cell_type": "markdown",
   "id": "320b4a0a",
   "metadata": {},
   "source": [
    "## 3. **COVID19 Time Series Data:**\n",
    "\n",
    "<br/>\n",
    "Download the data from\n",
    "<a target='_blank' href=\"https://raw.githubusercontent.com/CSSEGISandData/COVID-19/master/csse_covid_19_data/csse_covid_19_time_series/time_series_covid19_confirmed_US.csv\">[github link]</a>\n",
    "(https://raw.githubusercontent.com/CSSEGISandData/COVID-19/master/csse_covid_19_data/csse_covid_19_time_series/time_series_covid19_confirmed_US.csv) \n",
    "\n",
    "<br/>\n",
    "<br/>\n",
    "The link above contains a time-series data for COVID-19 confirmed cases in the US. Limit the data to only use `New York State` and please answer the following questions:\n",
    "\n"
   ]
  },
  {
   "cell_type": "code",
   "execution_count": 69,
   "id": "02c70f03",
   "metadata": {},
   "outputs": [
    {
     "data": {
      "text/html": [
       "<div>\n",
       "<style scoped>\n",
       "    .dataframe tbody tr th:only-of-type {\n",
       "        vertical-align: middle;\n",
       "    }\n",
       "\n",
       "    .dataframe tbody tr th {\n",
       "        vertical-align: top;\n",
       "    }\n",
       "\n",
       "    .dataframe thead th {\n",
       "        text-align: right;\n",
       "    }\n",
       "</style>\n",
       "<table border=\"1\" class=\"dataframe\">\n",
       "  <thead>\n",
       "    <tr style=\"text-align: right;\">\n",
       "      <th></th>\n",
       "      <th>UID</th>\n",
       "      <th>iso2</th>\n",
       "      <th>iso3</th>\n",
       "      <th>code3</th>\n",
       "      <th>FIPS</th>\n",
       "      <th>Admin2</th>\n",
       "      <th>Province_State</th>\n",
       "      <th>Country_Region</th>\n",
       "      <th>Lat</th>\n",
       "      <th>Long_</th>\n",
       "      <th>...</th>\n",
       "      <th>12/11/22</th>\n",
       "      <th>12/12/22</th>\n",
       "      <th>12/13/22</th>\n",
       "      <th>12/14/22</th>\n",
       "      <th>12/15/22</th>\n",
       "      <th>12/16/22</th>\n",
       "      <th>12/17/22</th>\n",
       "      <th>12/18/22</th>\n",
       "      <th>12/19/22</th>\n",
       "      <th>12/20/22</th>\n",
       "    </tr>\n",
       "  </thead>\n",
       "  <tbody>\n",
       "    <tr>\n",
       "      <th>0</th>\n",
       "      <td>84001001</td>\n",
       "      <td>US</td>\n",
       "      <td>USA</td>\n",
       "      <td>840</td>\n",
       "      <td>1001.0</td>\n",
       "      <td>Autauga</td>\n",
       "      <td>Alabama</td>\n",
       "      <td>US</td>\n",
       "      <td>32.539527</td>\n",
       "      <td>-86.644082</td>\n",
       "      <td>...</td>\n",
       "      <td>18752</td>\n",
       "      <td>18752</td>\n",
       "      <td>18752</td>\n",
       "      <td>18847</td>\n",
       "      <td>18847</td>\n",
       "      <td>18847</td>\n",
       "      <td>18847</td>\n",
       "      <td>18847</td>\n",
       "      <td>18847</td>\n",
       "      <td>18847</td>\n",
       "    </tr>\n",
       "    <tr>\n",
       "      <th>1</th>\n",
       "      <td>84001003</td>\n",
       "      <td>US</td>\n",
       "      <td>USA</td>\n",
       "      <td>840</td>\n",
       "      <td>1003.0</td>\n",
       "      <td>Baldwin</td>\n",
       "      <td>Alabama</td>\n",
       "      <td>US</td>\n",
       "      <td>30.727750</td>\n",
       "      <td>-87.722071</td>\n",
       "      <td>...</td>\n",
       "      <td>66951</td>\n",
       "      <td>66951</td>\n",
       "      <td>66951</td>\n",
       "      <td>67221</td>\n",
       "      <td>67221</td>\n",
       "      <td>67221</td>\n",
       "      <td>67221</td>\n",
       "      <td>67221</td>\n",
       "      <td>67221</td>\n",
       "      <td>67221</td>\n",
       "    </tr>\n",
       "    <tr>\n",
       "      <th>2</th>\n",
       "      <td>84001005</td>\n",
       "      <td>US</td>\n",
       "      <td>USA</td>\n",
       "      <td>840</td>\n",
       "      <td>1005.0</td>\n",
       "      <td>Barbour</td>\n",
       "      <td>Alabama</td>\n",
       "      <td>US</td>\n",
       "      <td>31.868263</td>\n",
       "      <td>-85.387129</td>\n",
       "      <td>...</td>\n",
       "      <td>6989</td>\n",
       "      <td>6989</td>\n",
       "      <td>6989</td>\n",
       "      <td>7007</td>\n",
       "      <td>7007</td>\n",
       "      <td>7007</td>\n",
       "      <td>7007</td>\n",
       "      <td>7007</td>\n",
       "      <td>7007</td>\n",
       "      <td>7007</td>\n",
       "    </tr>\n",
       "    <tr>\n",
       "      <th>3</th>\n",
       "      <td>84001007</td>\n",
       "      <td>US</td>\n",
       "      <td>USA</td>\n",
       "      <td>840</td>\n",
       "      <td>1007.0</td>\n",
       "      <td>Bibb</td>\n",
       "      <td>Alabama</td>\n",
       "      <td>US</td>\n",
       "      <td>32.996421</td>\n",
       "      <td>-87.125115</td>\n",
       "      <td>...</td>\n",
       "      <td>7653</td>\n",
       "      <td>7653</td>\n",
       "      <td>7653</td>\n",
       "      <td>7668</td>\n",
       "      <td>7668</td>\n",
       "      <td>7668</td>\n",
       "      <td>7668</td>\n",
       "      <td>7668</td>\n",
       "      <td>7668</td>\n",
       "      <td>7668</td>\n",
       "    </tr>\n",
       "    <tr>\n",
       "      <th>4</th>\n",
       "      <td>84001009</td>\n",
       "      <td>US</td>\n",
       "      <td>USA</td>\n",
       "      <td>840</td>\n",
       "      <td>1009.0</td>\n",
       "      <td>Blount</td>\n",
       "      <td>Alabama</td>\n",
       "      <td>US</td>\n",
       "      <td>33.982109</td>\n",
       "      <td>-86.567906</td>\n",
       "      <td>...</td>\n",
       "      <td>17559</td>\n",
       "      <td>17559</td>\n",
       "      <td>17559</td>\n",
       "      <td>17648</td>\n",
       "      <td>17648</td>\n",
       "      <td>17648</td>\n",
       "      <td>17648</td>\n",
       "      <td>17648</td>\n",
       "      <td>17648</td>\n",
       "      <td>17648</td>\n",
       "    </tr>\n",
       "  </tbody>\n",
       "</table>\n",
       "<p>5 rows × 1075 columns</p>\n",
       "</div>"
      ],
      "text/plain": [
       "        UID iso2 iso3  code3    FIPS   Admin2 Province_State Country_Region  \\\n",
       "0  84001001   US  USA    840  1001.0  Autauga        Alabama             US   \n",
       "1  84001003   US  USA    840  1003.0  Baldwin        Alabama             US   \n",
       "2  84001005   US  USA    840  1005.0  Barbour        Alabama             US   \n",
       "3  84001007   US  USA    840  1007.0     Bibb        Alabama             US   \n",
       "4  84001009   US  USA    840  1009.0   Blount        Alabama             US   \n",
       "\n",
       "         Lat      Long_  ... 12/11/22  12/12/22  12/13/22  12/14/22  12/15/22  \\\n",
       "0  32.539527 -86.644082  ...    18752     18752     18752     18847     18847   \n",
       "1  30.727750 -87.722071  ...    66951     66951     66951     67221     67221   \n",
       "2  31.868263 -85.387129  ...     6989      6989      6989      7007      7007   \n",
       "3  32.996421 -87.125115  ...     7653      7653      7653      7668      7668   \n",
       "4  33.982109 -86.567906  ...    17559     17559     17559     17648     17648   \n",
       "\n",
       "   12/16/22  12/17/22  12/18/22  12/19/22  12/20/22  \n",
       "0     18847     18847     18847     18847     18847  \n",
       "1     67221     67221     67221     67221     67221  \n",
       "2      7007      7007      7007      7007      7007  \n",
       "3      7668      7668      7668      7668      7668  \n",
       "4     17648     17648     17648     17648     17648  \n",
       "\n",
       "[5 rows x 1075 columns]"
      ]
     },
     "execution_count": 69,
     "metadata": {},
     "output_type": "execute_result"
    }
   ],
   "source": [
    "df=pd.read_csv('time_series_covid19_confirmed_US.csv')\n",
    "df.head()"
   ]
  },
  {
   "cell_type": "markdown",
   "id": "9c4fa99f",
   "metadata": {},
   "source": [
    "a. What is the total confirmed cases in Nebraska as of October 30th 2020 as per the dataset?\n"
   ]
  },
  {
   "cell_type": "code",
   "execution_count": 70,
   "id": "698b1b5d",
   "metadata": {},
   "outputs": [
    {
     "data": {
      "text/html": [
       "<div>\n",
       "<style scoped>\n",
       "    .dataframe tbody tr th:only-of-type {\n",
       "        vertical-align: middle;\n",
       "    }\n",
       "\n",
       "    .dataframe tbody tr th {\n",
       "        vertical-align: top;\n",
       "    }\n",
       "\n",
       "    .dataframe thead th {\n",
       "        text-align: right;\n",
       "    }\n",
       "</style>\n",
       "<table border=\"1\" class=\"dataframe\">\n",
       "  <thead>\n",
       "    <tr style=\"text-align: right;\">\n",
       "      <th></th>\n",
       "      <th>Admin2</th>\n",
       "      <th>10/30/20</th>\n",
       "    </tr>\n",
       "  </thead>\n",
       "  <tbody>\n",
       "    <tr>\n",
       "      <th>1718</th>\n",
       "      <td>Adams</td>\n",
       "      <td>912</td>\n",
       "    </tr>\n",
       "    <tr>\n",
       "      <th>1719</th>\n",
       "      <td>Antelope</td>\n",
       "      <td>173</td>\n",
       "    </tr>\n",
       "    <tr>\n",
       "      <th>1720</th>\n",
       "      <td>Arthur</td>\n",
       "      <td>5</td>\n",
       "    </tr>\n",
       "    <tr>\n",
       "      <th>1721</th>\n",
       "      <td>Banner</td>\n",
       "      <td>4</td>\n",
       "    </tr>\n",
       "    <tr>\n",
       "      <th>1722</th>\n",
       "      <td>Blaine</td>\n",
       "      <td>3</td>\n",
       "    </tr>\n",
       "    <tr>\n",
       "      <th>...</th>\n",
       "      <td>...</td>\n",
       "      <td>...</td>\n",
       "    </tr>\n",
       "    <tr>\n",
       "      <th>1808</th>\n",
       "      <td>Washington</td>\n",
       "      <td>532</td>\n",
       "    </tr>\n",
       "    <tr>\n",
       "      <th>1809</th>\n",
       "      <td>Wayne</td>\n",
       "      <td>369</td>\n",
       "    </tr>\n",
       "    <tr>\n",
       "      <th>1810</th>\n",
       "      <td>Webster</td>\n",
       "      <td>123</td>\n",
       "    </tr>\n",
       "    <tr>\n",
       "      <th>1811</th>\n",
       "      <td>Wheeler</td>\n",
       "      <td>3</td>\n",
       "    </tr>\n",
       "    <tr>\n",
       "      <th>1812</th>\n",
       "      <td>York</td>\n",
       "      <td>534</td>\n",
       "    </tr>\n",
       "  </tbody>\n",
       "</table>\n",
       "<p>95 rows × 2 columns</p>\n",
       "</div>"
      ],
      "text/plain": [
       "          Admin2  10/30/20\n",
       "1718       Adams       912\n",
       "1719    Antelope       173\n",
       "1720      Arthur         5\n",
       "1721      Banner         4\n",
       "1722      Blaine         3\n",
       "...          ...       ...\n",
       "1808  Washington       532\n",
       "1809       Wayne       369\n",
       "1810     Webster       123\n",
       "1811     Wheeler         3\n",
       "1812        York       534\n",
       "\n",
       "[95 rows x 2 columns]"
      ]
     },
     "execution_count": 70,
     "metadata": {},
     "output_type": "execute_result"
    }
   ],
   "source": [
    "Neb=df.loc[df['Province_State']=='Nebraska']\n",
    "Neb.loc[:,['Admin2','10/30/20']]"
   ]
  },
  {
   "cell_type": "markdown",
   "id": "9b27a973",
   "metadata": {},
   "source": [
    "b. On what date has the highest confirmed cases? Demonstrate using a suitable graph for all the available data.\n"
   ]
  },
  {
   "cell_type": "code",
   "execution_count": 119,
   "id": "3daa4f66",
   "metadata": {},
   "outputs": [
    {
     "data": {
      "text/plain": [
       "1/22/20         0\n",
       "1/23/20         0\n",
       "1/24/20         0\n",
       "1/25/20         0\n",
       "1/26/20         0\n",
       "            ...  \n",
       "12/16/22    18847\n",
       "12/17/22    18847\n",
       "12/18/22    18847\n",
       "12/19/22    18847\n",
       "12/20/22    18847\n",
       "Name: 0, Length: 1064, dtype: object"
      ]
     },
     "execution_count": 119,
     "metadata": {},
     "output_type": "execute_result"
    }
   ],
   "source": [
    "df.iloc[0,11:]"
   ]
  },
  {
   "cell_type": "code",
   "execution_count": 185,
   "id": "b5f71a56",
   "metadata": {},
   "outputs": [],
   "source": [
    "df_new=df.copy()\n",
    "df_per_day=df_new.iloc[:,11:]\n",
    "\n"
   ]
  },
  {
   "cell_type": "code",
   "execution_count": 189,
   "id": "f56547b9",
   "metadata": {},
   "outputs": [],
   "source": [
    "def case_per_day(df):\n",
    "    \n",
    "    return np.diff(df)"
   ]
  },
  {
   "cell_type": "markdown",
   "id": "82bc1299",
   "metadata": {},
   "source": [
    "c. Which County has the highest daily confirmed cases? Report both the County name and the date\n"
   ]
  },
  {
   "cell_type": "code",
   "execution_count": 193,
   "id": "856370d5",
   "metadata": {},
   "outputs": [],
   "source": [
    "for i in range(0,3342):\n",
    "    df_per_day.iloc[i,2:]=case_per_day(df_per_day.iloc[i,1:])\n"
   ]
  },
  {
   "cell_type": "code",
   "execution_count": 194,
   "id": "282ed76e",
   "metadata": {},
   "outputs": [
    {
     "data": {
      "text/html": [
       "<div>\n",
       "<style scoped>\n",
       "    .dataframe tbody tr th:only-of-type {\n",
       "        vertical-align: middle;\n",
       "    }\n",
       "\n",
       "    .dataframe tbody tr th {\n",
       "        vertical-align: top;\n",
       "    }\n",
       "\n",
       "    .dataframe thead th {\n",
       "        text-align: right;\n",
       "    }\n",
       "</style>\n",
       "<table border=\"1\" class=\"dataframe\">\n",
       "  <thead>\n",
       "    <tr style=\"text-align: right;\">\n",
       "      <th></th>\n",
       "      <th>1/22/20</th>\n",
       "      <th>1/23/20</th>\n",
       "      <th>1/24/20</th>\n",
       "      <th>1/25/20</th>\n",
       "      <th>1/26/20</th>\n",
       "      <th>1/27/20</th>\n",
       "      <th>1/28/20</th>\n",
       "      <th>1/29/20</th>\n",
       "      <th>1/30/20</th>\n",
       "      <th>1/31/20</th>\n",
       "      <th>...</th>\n",
       "      <th>12/11/22</th>\n",
       "      <th>12/12/22</th>\n",
       "      <th>12/13/22</th>\n",
       "      <th>12/14/22</th>\n",
       "      <th>12/15/22</th>\n",
       "      <th>12/16/22</th>\n",
       "      <th>12/17/22</th>\n",
       "      <th>12/18/22</th>\n",
       "      <th>12/19/22</th>\n",
       "      <th>12/20/22</th>\n",
       "    </tr>\n",
       "  </thead>\n",
       "  <tbody>\n",
       "    <tr>\n",
       "      <th>0</th>\n",
       "      <td>0</td>\n",
       "      <td>0</td>\n",
       "      <td>0</td>\n",
       "      <td>0</td>\n",
       "      <td>0</td>\n",
       "      <td>0</td>\n",
       "      <td>0</td>\n",
       "      <td>0</td>\n",
       "      <td>0</td>\n",
       "      <td>0</td>\n",
       "      <td>...</td>\n",
       "      <td>0</td>\n",
       "      <td>0</td>\n",
       "      <td>0</td>\n",
       "      <td>95</td>\n",
       "      <td>-190</td>\n",
       "      <td>95</td>\n",
       "      <td>0</td>\n",
       "      <td>0</td>\n",
       "      <td>0</td>\n",
       "      <td>0</td>\n",
       "    </tr>\n",
       "    <tr>\n",
       "      <th>1</th>\n",
       "      <td>0</td>\n",
       "      <td>0</td>\n",
       "      <td>0</td>\n",
       "      <td>0</td>\n",
       "      <td>0</td>\n",
       "      <td>0</td>\n",
       "      <td>0</td>\n",
       "      <td>0</td>\n",
       "      <td>0</td>\n",
       "      <td>0</td>\n",
       "      <td>...</td>\n",
       "      <td>0</td>\n",
       "      <td>0</td>\n",
       "      <td>0</td>\n",
       "      <td>270</td>\n",
       "      <td>-540</td>\n",
       "      <td>270</td>\n",
       "      <td>0</td>\n",
       "      <td>0</td>\n",
       "      <td>0</td>\n",
       "      <td>0</td>\n",
       "    </tr>\n",
       "    <tr>\n",
       "      <th>2</th>\n",
       "      <td>0</td>\n",
       "      <td>0</td>\n",
       "      <td>0</td>\n",
       "      <td>0</td>\n",
       "      <td>0</td>\n",
       "      <td>0</td>\n",
       "      <td>0</td>\n",
       "      <td>0</td>\n",
       "      <td>0</td>\n",
       "      <td>0</td>\n",
       "      <td>...</td>\n",
       "      <td>0</td>\n",
       "      <td>0</td>\n",
       "      <td>0</td>\n",
       "      <td>18</td>\n",
       "      <td>-36</td>\n",
       "      <td>18</td>\n",
       "      <td>0</td>\n",
       "      <td>0</td>\n",
       "      <td>0</td>\n",
       "      <td>0</td>\n",
       "    </tr>\n",
       "    <tr>\n",
       "      <th>3</th>\n",
       "      <td>0</td>\n",
       "      <td>0</td>\n",
       "      <td>0</td>\n",
       "      <td>0</td>\n",
       "      <td>0</td>\n",
       "      <td>0</td>\n",
       "      <td>0</td>\n",
       "      <td>0</td>\n",
       "      <td>0</td>\n",
       "      <td>0</td>\n",
       "      <td>...</td>\n",
       "      <td>0</td>\n",
       "      <td>0</td>\n",
       "      <td>0</td>\n",
       "      <td>15</td>\n",
       "      <td>-30</td>\n",
       "      <td>15</td>\n",
       "      <td>0</td>\n",
       "      <td>0</td>\n",
       "      <td>0</td>\n",
       "      <td>0</td>\n",
       "    </tr>\n",
       "    <tr>\n",
       "      <th>4</th>\n",
       "      <td>0</td>\n",
       "      <td>0</td>\n",
       "      <td>0</td>\n",
       "      <td>0</td>\n",
       "      <td>0</td>\n",
       "      <td>0</td>\n",
       "      <td>0</td>\n",
       "      <td>0</td>\n",
       "      <td>0</td>\n",
       "      <td>0</td>\n",
       "      <td>...</td>\n",
       "      <td>0</td>\n",
       "      <td>0</td>\n",
       "      <td>0</td>\n",
       "      <td>89</td>\n",
       "      <td>-178</td>\n",
       "      <td>89</td>\n",
       "      <td>0</td>\n",
       "      <td>0</td>\n",
       "      <td>0</td>\n",
       "      <td>0</td>\n",
       "    </tr>\n",
       "    <tr>\n",
       "      <th>...</th>\n",
       "      <td>...</td>\n",
       "      <td>...</td>\n",
       "      <td>...</td>\n",
       "      <td>...</td>\n",
       "      <td>...</td>\n",
       "      <td>...</td>\n",
       "      <td>...</td>\n",
       "      <td>...</td>\n",
       "      <td>...</td>\n",
       "      <td>...</td>\n",
       "      <td>...</td>\n",
       "      <td>...</td>\n",
       "      <td>...</td>\n",
       "      <td>...</td>\n",
       "      <td>...</td>\n",
       "      <td>...</td>\n",
       "      <td>...</td>\n",
       "      <td>...</td>\n",
       "      <td>...</td>\n",
       "      <td>...</td>\n",
       "      <td>...</td>\n",
       "    </tr>\n",
       "    <tr>\n",
       "      <th>3337</th>\n",
       "      <td>0</td>\n",
       "      <td>0</td>\n",
       "      <td>0</td>\n",
       "      <td>0</td>\n",
       "      <td>0</td>\n",
       "      <td>0</td>\n",
       "      <td>0</td>\n",
       "      <td>0</td>\n",
       "      <td>0</td>\n",
       "      <td>0</td>\n",
       "      <td>...</td>\n",
       "      <td>0</td>\n",
       "      <td>0</td>\n",
       "      <td>21</td>\n",
       "      <td>-42</td>\n",
       "      <td>21</td>\n",
       "      <td>0</td>\n",
       "      <td>0</td>\n",
       "      <td>0</td>\n",
       "      <td>0</td>\n",
       "      <td>29</td>\n",
       "    </tr>\n",
       "    <tr>\n",
       "      <th>3338</th>\n",
       "      <td>0</td>\n",
       "      <td>0</td>\n",
       "      <td>0</td>\n",
       "      <td>0</td>\n",
       "      <td>0</td>\n",
       "      <td>0</td>\n",
       "      <td>0</td>\n",
       "      <td>0</td>\n",
       "      <td>0</td>\n",
       "      <td>0</td>\n",
       "      <td>...</td>\n",
       "      <td>0</td>\n",
       "      <td>0</td>\n",
       "      <td>15</td>\n",
       "      <td>-30</td>\n",
       "      <td>15</td>\n",
       "      <td>0</td>\n",
       "      <td>0</td>\n",
       "      <td>0</td>\n",
       "      <td>0</td>\n",
       "      <td>16</td>\n",
       "    </tr>\n",
       "    <tr>\n",
       "      <th>3339</th>\n",
       "      <td>0</td>\n",
       "      <td>0</td>\n",
       "      <td>0</td>\n",
       "      <td>0</td>\n",
       "      <td>0</td>\n",
       "      <td>0</td>\n",
       "      <td>0</td>\n",
       "      <td>0</td>\n",
       "      <td>0</td>\n",
       "      <td>0</td>\n",
       "      <td>...</td>\n",
       "      <td>0</td>\n",
       "      <td>0</td>\n",
       "      <td>0</td>\n",
       "      <td>0</td>\n",
       "      <td>0</td>\n",
       "      <td>0</td>\n",
       "      <td>0</td>\n",
       "      <td>0</td>\n",
       "      <td>0</td>\n",
       "      <td>0</td>\n",
       "    </tr>\n",
       "    <tr>\n",
       "      <th>3340</th>\n",
       "      <td>0</td>\n",
       "      <td>0</td>\n",
       "      <td>0</td>\n",
       "      <td>0</td>\n",
       "      <td>0</td>\n",
       "      <td>0</td>\n",
       "      <td>0</td>\n",
       "      <td>0</td>\n",
       "      <td>0</td>\n",
       "      <td>0</td>\n",
       "      <td>...</td>\n",
       "      <td>0</td>\n",
       "      <td>0</td>\n",
       "      <td>16</td>\n",
       "      <td>-32</td>\n",
       "      <td>16</td>\n",
       "      <td>0</td>\n",
       "      <td>0</td>\n",
       "      <td>0</td>\n",
       "      <td>0</td>\n",
       "      <td>0</td>\n",
       "    </tr>\n",
       "    <tr>\n",
       "      <th>3341</th>\n",
       "      <td>0</td>\n",
       "      <td>0</td>\n",
       "      <td>0</td>\n",
       "      <td>0</td>\n",
       "      <td>0</td>\n",
       "      <td>0</td>\n",
       "      <td>0</td>\n",
       "      <td>0</td>\n",
       "      <td>0</td>\n",
       "      <td>0</td>\n",
       "      <td>...</td>\n",
       "      <td>0</td>\n",
       "      <td>0</td>\n",
       "      <td>9</td>\n",
       "      <td>-18</td>\n",
       "      <td>9</td>\n",
       "      <td>0</td>\n",
       "      <td>0</td>\n",
       "      <td>0</td>\n",
       "      <td>0</td>\n",
       "      <td>5</td>\n",
       "    </tr>\n",
       "  </tbody>\n",
       "</table>\n",
       "<p>3342 rows × 1064 columns</p>\n",
       "</div>"
      ],
      "text/plain": [
       "      1/22/20  1/23/20  1/24/20  1/25/20  1/26/20  1/27/20  1/28/20  1/29/20  \\\n",
       "0           0        0        0        0        0        0        0        0   \n",
       "1           0        0        0        0        0        0        0        0   \n",
       "2           0        0        0        0        0        0        0        0   \n",
       "3           0        0        0        0        0        0        0        0   \n",
       "4           0        0        0        0        0        0        0        0   \n",
       "...       ...      ...      ...      ...      ...      ...      ...      ...   \n",
       "3337        0        0        0        0        0        0        0        0   \n",
       "3338        0        0        0        0        0        0        0        0   \n",
       "3339        0        0        0        0        0        0        0        0   \n",
       "3340        0        0        0        0        0        0        0        0   \n",
       "3341        0        0        0        0        0        0        0        0   \n",
       "\n",
       "      1/30/20  1/31/20  ...  12/11/22  12/12/22  12/13/22  12/14/22  12/15/22  \\\n",
       "0           0        0  ...         0         0         0        95      -190   \n",
       "1           0        0  ...         0         0         0       270      -540   \n",
       "2           0        0  ...         0         0         0        18       -36   \n",
       "3           0        0  ...         0         0         0        15       -30   \n",
       "4           0        0  ...         0         0         0        89      -178   \n",
       "...       ...      ...  ...       ...       ...       ...       ...       ...   \n",
       "3337        0        0  ...         0         0        21       -42        21   \n",
       "3338        0        0  ...         0         0        15       -30        15   \n",
       "3339        0        0  ...         0         0         0         0         0   \n",
       "3340        0        0  ...         0         0        16       -32        16   \n",
       "3341        0        0  ...         0         0         9       -18         9   \n",
       "\n",
       "      12/16/22  12/17/22  12/18/22  12/19/22  12/20/22  \n",
       "0           95         0         0         0         0  \n",
       "1          270         0         0         0         0  \n",
       "2           18         0         0         0         0  \n",
       "3           15         0         0         0         0  \n",
       "4           89         0         0         0         0  \n",
       "...        ...       ...       ...       ...       ...  \n",
       "3337         0         0         0         0        29  \n",
       "3338         0         0         0         0        16  \n",
       "3339         0         0         0         0         0  \n",
       "3340         0         0         0         0         0  \n",
       "3341         0         0         0         0         5  \n",
       "\n",
       "[3342 rows x 1064 columns]"
      ]
     },
     "execution_count": 194,
     "metadata": {},
     "output_type": "execute_result"
    }
   ],
   "source": [
    "df_per_day"
   ]
  },
  {
   "cell_type": "markdown",
   "id": "db5f161f",
   "metadata": {},
   "source": [
    "d. Identify two countries that have top total confirmed cases. Generate a time series plot of daily confirm cases for these two countries.\n"
   ]
  },
  {
   "cell_type": "code",
   "execution_count": null,
   "id": "a4380686",
   "metadata": {},
   "outputs": [],
   "source": [
    "# TODO"
   ]
  },
  {
   "cell_type": "markdown",
   "id": "f54baef0",
   "metadata": {},
   "source": [
    "e. Show the total confirmed cases for all the locations in an interactive world map (hint: you may use `leaflet` package in `python`.\n"
   ]
  },
  {
   "cell_type": "code",
   "execution_count": null,
   "id": "da907734",
   "metadata": {},
   "outputs": [],
   "source": [
    "# TODO"
   ]
  }
 ],
 "metadata": {
  "kernelspec": {
   "display_name": "base",
   "language": "python",
   "name": "python3"
  },
  "language_info": {
   "codemirror_mode": {
    "name": "ipython",
    "version": 3
   },
   "file_extension": ".py",
   "mimetype": "text/x-python",
   "name": "python",
   "nbconvert_exporter": "python",
   "pygments_lexer": "ipython3",
   "version": "3.9.12"
  },
  "vscode": {
   "interpreter": {
    "hash": "381afda6634acabfe02de722b0985adea3cc2e228af5cdbefa626e4cfe1e2f2d"
   }
  }
 },
 "nbformat": 4,
 "nbformat_minor": 5
}
