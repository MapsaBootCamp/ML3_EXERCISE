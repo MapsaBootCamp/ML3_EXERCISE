{
 "cells": [
  {
   "cell_type": "markdown",
   "id": "47f59ba8",
   "metadata": {},
   "source": [
    "<br><p style=\"margin-left: 25%; font-size:20px;\">Machine Learning Camp: HomeWork 7 Section 2</p><br>"
   ]
  },
  {
   "cell_type": "markdown",
   "id": "2218b073",
   "metadata": {},
   "source": [
    "## 1. **Working with datetime data;** The object `myDate` contains the date and time. Based on this object answer the following questions and type the answer after your findings."
   ]
  },
  {
   "cell_type": "code",
   "execution_count": 2,
   "id": "8e4680e3",
   "metadata": {},
   "outputs": [],
   "source": [
    "myDate = '2022-10-01 09:42:43'"
   ]
  },
  {
   "cell_type": "markdown",
   "id": "666d9ea6",
   "metadata": {},
   "source": [
    "a. Convert `myDate` into a datetime object with Iran time zone. Display the result."
   ]
  },
  {
   "cell_type": "code",
   "execution_count": 15,
   "id": "0debd74f",
   "metadata": {},
   "outputs": [],
   "source": [
    "from datetime import datetime, timedelta,date\n",
    "import pytz"
   ]
  },
  {
   "cell_type": "code",
   "execution_count": 5,
   "id": "5b365b09-661b-49cf-a549-4bfe47995b3b",
   "metadata": {},
   "outputs": [
    {
     "data": {
      "text/plain": [
       "datetime.datetime(2022, 10, 1, 9, 42, 43)"
      ]
     },
     "execution_count": 5,
     "metadata": {},
     "output_type": "execute_result"
    }
   ],
   "source": [
    "myDate_=datetime.strptime(myDate,'%Y-%m-%d %H:%M:%S')   # Y should be capital\n",
    "myDate_"
   ]
  },
  { 
   "cell_type": "code",
   "execution_count": 7,
   "id": "ad31b31a-c45d-42de-bc05-0a845d30d59c",
   "metadata": {},
   "outputs": [
    {
     "data": {
      "text/plain": [
       "datetime.datetime(2022, 10, 1, 9, 42, 43, tzinfo=<DstTzInfo 'Asia/Tehran' +0330+3:30:00 STD>)"
      ]
     },
     "execution_count": 7,
     "metadata": {},
     "output_type": "execute_result"
    }
   ],
   "source": [
    "tehran_TimeZone=myDate_.astimezone(pytz.timezone('Asia/Tehran'))\n",
    "tehran_TimeZone"
   ]
  },
  {
   "cell_type": "markdown",
   "id": "f2684fe9",
   "metadata": {},
   "source": [
    "b. Write your codes so that it displays the week day and also the month of `myDate`."
   ]
  },
  {
   "cell_type": "code",
   "execution_count": 12,
   "id": "884c4d41",
   "metadata": {},
   "outputs": [
    {
     "data": {
      "text/plain": [
       "'Day:01 Month:10'"
      ]
     },
     "execution_count": 12,
     "metadata": {},
     "output_type": "execute_result"
    }
   ],
   "source": [
    "myDate_.strftime(\"Day:%d Month:%m\")"
   ]
  },
  {
   "cell_type": "markdown",
   "id": "57f8a4a0",
   "metadata": {},
   "source": [
    "c. What weekday and the month is it after exactly 100 years from `myDate`?"
   ]
  },
  {
   "cell_type": "code",
   "execution_count": 18,
   "id": "c8bc864e",
   "metadata": {},
   "outputs": [
    {
     "data": {
      "text/plain": [
       "datetime.datetime(2122, 10, 1, 9, 42, 43)"
      ]
     },
     "execution_count": 18,
     "metadata": {},
     "output_type": "execute_result"
    }
   ],
   "source": [
    "from dateutil.relativedelta import relativedelta\n",
    "centAns=myDate_+relativedelta(years=100)\n",
    "centAns"
   ]
  },
  {
   "cell_type": "code",
   "execution_count": 19,
   "id": "61532598-084a-42d9-8e3f-8c09b830074e",
   "metadata": {},
   "outputs": [
    {
     "data": {
      "text/plain": [
       "3"
      ]
     },
     "execution_count": 19,
     "metadata": {},
     "output_type": "execute_result"
    }
   ],
   "source": [
    "centAns.weekday()"
   ]
  },
  {
   "cell_type": "markdown",
   "id": "211c0893",
   "metadata": {},
   "source": [
    "d. Add two month with myDate and display the resulting date time."
   ]
  },
  {
   "cell_type": "code",
   "execution_count": 20,
   "id": "4427d37a",
   "metadata": {},
   "outputs": [
    {
     "data": {
      "text/plain": [
       "datetime.datetime(2022, 12, 1, 9, 42, 43)"
      ]
     },
     "execution_count": 20,
     "metadata": {},
     "output_type": "execute_result"
    }
   ],
   "source": [
    "myDate_+relativedelta(months=2)"
   ]
  },
  {
   "cell_type": "markdown",
   "id": "717c3957",
   "metadata": {},
   "source": [
    "e. Suppose this homework is due on December 23, 2022 by 11.59PM. Compute and display how many seconds you got to complete this homework? Also compute the hours."
   ]
  },
  {
   "cell_type": "code",
   "execution_count": 32,
   "id": "8b46dd46",
   "metadata": {},
   "outputs": [
    {
     "data": {
      "text/plain": [
       "13692"
      ]
     },
     "execution_count": 32,
     "metadata": {},
     "output_type": "execute_result"
    }
   ],
   "source": [
    "interval=datetime(2022, 12, 23, 23, 59, 0)-datetime.now()\n",
    "interval.seconds"
   ]
  },
  {
   "cell_type": "code",
   "execution_count": 61,
   "id": "d6357acc-0dd0-43cb-9e14-0d861d479886",
   "metadata": {},
   "outputs": [
    {
     "data": {
      "text/plain": [
       "3.8033333333333332"
      ]
     },
     "execution_count": 61,
     "metadata": {},
     "output_type": "execute_result"
    }
   ],
   "source": [
    "interval.seconds/3600"
   ]
  },
  {
   "cell_type": "markdown",
   "id": "a94748d3",
   "metadata": {},
   "source": [
    "f. For the years `2021` & `2022`, count the number of weekends. Which year has the highest number of Weekends?"
   ]
  },
  {
   "cell_type": "code",
   "execution_count": 40,
   "id": "062a60ff",
   "metadata": {},
   "outputs": [
    {
     "name": "stdout",
     "output_type": "stream",
     "text": [
      "Number of sundays in 2022 :52\n",
      "Number of sundays in 2021 :52\n"
     ]
    }
   ],
   "source": [
    "def allsundays(year):\n",
    "    count=0\n",
    "    d = date(year, 1, 1)                    # January 1st\n",
    "    d += timedelta(days = 6 - d.weekday())  # First Sunday\n",
    "    while d.year == year:\n",
    "      count+=1\n",
    "      d += timedelta(days = 7)\n",
    "    return count\n",
    "print(\"Number of sundays in 2022 :\"+str(allsundays(2022)))\n",
    "print(\"Number of sundays in 2021 :\"+str(allsundays(2021)))"
   ]
  },
  {
   "cell_type": "markdown",
   "id": "31f068c5",
   "metadata": {},
   "source": [
    "g. What is the month(MM) and day(DD) on the `305`th day of the current year?"
   ]
  },
  {
   "cell_type": "code",
   "execution_count": 54,
   "id": "5e17ad7a",
   "metadata": {},
   "outputs": [
    {
     "name": "stdout",
     "output_type": "stream",
     "text": [
      "Month :11\n",
      "Day :1\n"
     ]
    }
   ],
   "source": [
    "d=datetime(datetime.now().year, 1, 1) + timedelta(305 - 1)\n",
    "print(\"Month :\"+str(d.month))\n",
    "print(\"Day :\"+str(d.day))"
   ]
  },
  {
   "cell_type": "markdown",
   "id": "2b6f4dd0",
   "metadata": {},
   "source": [
    "h. The Date `2022-10-20` is formatted `YYYY-MM-DD`, format it into `MM-DD-YYYY`"
   ]
  },
  {
   "cell_type": "code",
   "execution_count": 57,
   "id": "6c5a84c2",
   "metadata": {},
   "outputs": [
    {
     "data": {
      "text/plain": [
       "'10-20-2022'"
      ]
     },
     "execution_count": 57,
     "metadata": {},
     "output_type": "execute_result"
    }
   ],
   "source": [
    "datetime(2022,10,20).strftime('%m-%d-%Y') "
   ]
  },
  {
   "cell_type": "markdown",
   "id": "8ecba4de",
   "metadata": {},
   "source": [
    "i. Find if the Date on the question above is the weekend or a weekday."
   ]
  },
  {
   "cell_type": "code",
   "execution_count": 59,
   "id": "bcc38e46",
   "metadata": {},
   "outputs": [
    {
     "name": "stdout",
     "output_type": "stream",
     "text": [
      "Weekday\n"
     ]
    }
   ],
   "source": [
    "weekno = datetime(2022,10,20).weekday()\n",
    "\n",
    "if weekno < 5:\n",
    "    print(\"Weekday\")\n",
    "else:  # 5 Sat, 6 Sun\n",
    "    print(\"Weekend\")"
   ]
  },
  {
   "cell_type": "markdown",
   "id": "5761a24f",
   "metadata": {},
   "source": [
    "## 2. **Walmart Sales Analysis:** load and read the dataset `walmart_sales.csv` and `walmart_fuel_prices.csv`.\n",
    "\n",
    "We will follow the following data description when working with the above 2 datasets:\n",
    "\n",
    " * `index:` index is a default value of count\n",
    " * `Store:` Store is represented in number ID(1,2,3,4,...)\n",
    " * `Dept:` Dept is Department in each Store represented in number ID (1,2,3,4,...)\n",
    " * `Date:` Date is in YYYY-MM-DD char format - *needs to be converted into Date data type*\n",
    " * `Weekly_Sales:` Sales of a given Dept in a given Store for the Date\n",
    " * `Temperature:` Average temperature on the Date at given Store region\n",
    " * `Fuel_Price:` Cost of the Fuel on the given Date at a given Store\n",
    " * `IsHoliday:` Is the given Date a holiday Week? "
   ]
  },
  {
   "cell_type": "code",
   "execution_count": 66,
   "id": "e010fc85-bfef-45ac-8efd-6dfb73edd3a9",
   "metadata": {},
   "outputs": [],
   "source": [
    "import pandas as pd\n",
    "from pandas.tseries.holiday import USFederalHolidayCalendar\n",
    "import seaborn as sns\n",
    "import matplotlib.pyplot as plt"
   ]
  },
  {
   "cell_type": "code",
   "execution_count": 2,
   "id": "06623146",
   "metadata": {},
   "outputs": [],
   "source": [
    "fuel_df=pd.read_csv('walmart_fuel_prices.csv', parse_dates=['Date'])\n",
    "sales_df=pd.read_csv('walmart_sales.csv', parse_dates=['Date'])"
   ]
  },
  {
   "cell_type": "code",
   "execution_count": 3,
   "id": "14cabf5d-fb96-44fa-b8e4-b8884fc36615",
   "metadata": {},
   "outputs": [
    {
     "data": {
      "text/html": [
       "<div>\n",
       "<style scoped>\n",
       "    .dataframe tbody tr th:only-of-type {\n",
       "        vertical-align: middle;\n",
       "    }\n",
       "\n",
       "    .dataframe tbody tr th {\n",
       "        vertical-align: top;\n",
       "    }\n",
       "\n",
       "    .dataframe thead th {\n",
       "        text-align: right;\n",
       "    }\n",
       "</style>\n",
       "<table border=\"1\" class=\"dataframe\">\n",
       "  <thead>\n",
       "    <tr style=\"text-align: right;\">\n",
       "      <th></th>\n",
       "      <th>index</th>\n",
       "      <th>Store</th>\n",
       "      <th>Date</th>\n",
       "      <th>Temperature</th>\n",
       "      <th>Fuel_Price</th>\n",
       "      <th>IsHoliday</th>\n",
       "    </tr>\n",
       "  </thead>\n",
       "  <tbody>\n",
       "    <tr>\n",
       "      <th>0</th>\n",
       "      <td>1</td>\n",
       "      <td>1</td>\n",
       "      <td>2010-02-05</td>\n",
       "      <td>42.31</td>\n",
       "      <td>2.572</td>\n",
       "      <td>False</td>\n",
       "    </tr>\n",
       "    <tr>\n",
       "      <th>1</th>\n",
       "      <td>2</td>\n",
       "      <td>1</td>\n",
       "      <td>2010-02-12</td>\n",
       "      <td>38.51</td>\n",
       "      <td>2.548</td>\n",
       "      <td>True</td>\n",
       "    </tr>\n",
       "    <tr>\n",
       "      <th>2</th>\n",
       "      <td>3</td>\n",
       "      <td>1</td>\n",
       "      <td>2010-02-19</td>\n",
       "      <td>39.93</td>\n",
       "      <td>2.514</td>\n",
       "      <td>False</td>\n",
       "    </tr>\n",
       "    <tr>\n",
       "      <th>3</th>\n",
       "      <td>4</td>\n",
       "      <td>1</td>\n",
       "      <td>2010-02-26</td>\n",
       "      <td>46.63</td>\n",
       "      <td>2.561</td>\n",
       "      <td>False</td>\n",
       "    </tr>\n",
       "    <tr>\n",
       "      <th>4</th>\n",
       "      <td>5</td>\n",
       "      <td>1</td>\n",
       "      <td>2010-03-05</td>\n",
       "      <td>46.50</td>\n",
       "      <td>2.625</td>\n",
       "      <td>False</td>\n",
       "    </tr>\n",
       "  </tbody>\n",
       "</table>\n",
       "</div>"
      ],
      "text/plain": [
       "   index  Store       Date  Temperature  Fuel_Price  IsHoliday\n",
       "0      1      1 2010-02-05        42.31       2.572      False\n",
       "1      2      1 2010-02-12        38.51       2.548       True\n",
       "2      3      1 2010-02-19        39.93       2.514      False\n",
       "3      4      1 2010-02-26        46.63       2.561      False\n",
       "4      5      1 2010-03-05        46.50       2.625      False"
      ]
     },
     "execution_count": 3,
     "metadata": {},
     "output_type": "execute_result"
    }
   ],
   "source": [
    "fuel_df.head()"
   ]
  },
  {
   "cell_type": "code",
   "execution_count": 4,
   "id": "04ea00eb-56f9-43cd-bf23-e8e70d983150",
   "metadata": {},
   "outputs": [
    {
     "data": {
      "text/html": [
       "<div>\n",
       "<style scoped>\n",
       "    .dataframe tbody tr th:only-of-type {\n",
       "        vertical-align: middle;\n",
       "    }\n",
       "\n",
       "    .dataframe tbody tr th {\n",
       "        vertical-align: top;\n",
       "    }\n",
       "\n",
       "    .dataframe thead th {\n",
       "        text-align: right;\n",
       "    }\n",
       "</style>\n",
       "<table border=\"1\" class=\"dataframe\">\n",
       "  <thead>\n",
       "    <tr style=\"text-align: right;\">\n",
       "      <th></th>\n",
       "      <th>Store</th>\n",
       "      <th>Dept</th>\n",
       "      <th>Date</th>\n",
       "      <th>Weekly_Sales</th>\n",
       "      <th>IsHoliday</th>\n",
       "    </tr>\n",
       "  </thead>\n",
       "  <tbody>\n",
       "    <tr>\n",
       "      <th>0</th>\n",
       "      <td>1</td>\n",
       "      <td>1</td>\n",
       "      <td>2010-02-05</td>\n",
       "      <td>24924.50</td>\n",
       "      <td>False</td>\n",
       "    </tr>\n",
       "    <tr>\n",
       "      <th>1</th>\n",
       "      <td>1</td>\n",
       "      <td>1</td>\n",
       "      <td>2010-02-12</td>\n",
       "      <td>46039.49</td>\n",
       "      <td>True</td>\n",
       "    </tr>\n",
       "    <tr>\n",
       "      <th>2</th>\n",
       "      <td>1</td>\n",
       "      <td>1</td>\n",
       "      <td>2010-02-19</td>\n",
       "      <td>41595.55</td>\n",
       "      <td>False</td>\n",
       "    </tr>\n",
       "    <tr>\n",
       "      <th>3</th>\n",
       "      <td>1</td>\n",
       "      <td>1</td>\n",
       "      <td>2010-02-26</td>\n",
       "      <td>19403.54</td>\n",
       "      <td>False</td>\n",
       "    </tr>\n",
       "    <tr>\n",
       "      <th>4</th>\n",
       "      <td>1</td>\n",
       "      <td>1</td>\n",
       "      <td>2010-03-05</td>\n",
       "      <td>21827.90</td>\n",
       "      <td>False</td>\n",
       "    </tr>\n",
       "  </tbody>\n",
       "</table>\n",
       "</div>"
      ],
      "text/plain": [
       "   Store  Dept       Date  Weekly_Sales  IsHoliday\n",
       "0      1     1 2010-02-05      24924.50      False\n",
       "1      1     1 2010-02-12      46039.49       True\n",
       "2      1     1 2010-02-19      41595.55      False\n",
       "3      1     1 2010-02-26      19403.54      False\n",
       "4      1     1 2010-03-05      21827.90      False"
      ]
     },
     "execution_count": 4,
     "metadata": {},
     "output_type": "execute_result"
    }
   ],
   "source": [
    "sales_df.head()"
   ]
  },
  {
   "cell_type": "markdown",
   "id": "28576a96",
   "metadata": {},
   "source": [
    " a. For both datasets, breakdown the `Date` column and create additional new columns `Year`, `Month`, and `Day`. You should now have additional 3 new columns in your both dataset. Report only the column names for both the dataset."
   ]
  },
  {
   "cell_type": "code",
   "execution_count": 5,
   "id": "69d17cb5",
   "metadata": {},
   "outputs": [],
   "source": [
    "fuel_df['Year'], fuel_df['Month'], fuel_df['Day']=fuel_df.Date.dt.year, fuel_df.Date.dt.month, fuel_df.Date.dt.day"
   ]
  },
  {
   "cell_type": "code",
   "execution_count": 6,
   "id": "51c14a3a-1dce-40a1-a37a-b1b33862b888",
   "metadata": {},
   "outputs": [
    {
     "data": {
      "text/html": [
       "<div>\n",
       "<style scoped>\n",
       "    .dataframe tbody tr th:only-of-type {\n",
       "        vertical-align: middle;\n",
       "    }\n",
       "\n",
       "    .dataframe tbody tr th {\n",
       "        vertical-align: top;\n",
       "    }\n",
       "\n",
       "    .dataframe thead th {\n",
       "        text-align: right;\n",
       "    }\n",
       "</style>\n",
       "<table border=\"1\" class=\"dataframe\">\n",
       "  <thead>\n",
       "    <tr style=\"text-align: right;\">\n",
       "      <th></th>\n",
       "      <th>Year</th>\n",
       "      <th>Month</th>\n",
       "      <th>Day</th>\n",
       "    </tr>\n",
       "  </thead>\n",
       "  <tbody>\n",
       "    <tr>\n",
       "      <th>0</th>\n",
       "      <td>2010</td>\n",
       "      <td>2</td>\n",
       "      <td>5</td>\n",
       "    </tr>\n",
       "    <tr>\n",
       "      <th>1</th>\n",
       "      <td>2010</td>\n",
       "      <td>2</td>\n",
       "      <td>12</td>\n",
       "    </tr>\n",
       "    <tr>\n",
       "      <th>2</th>\n",
       "      <td>2010</td>\n",
       "      <td>2</td>\n",
       "      <td>19</td>\n",
       "    </tr>\n",
       "    <tr>\n",
       "      <th>3</th>\n",
       "      <td>2010</td>\n",
       "      <td>2</td>\n",
       "      <td>26</td>\n",
       "    </tr>\n",
       "    <tr>\n",
       "      <th>4</th>\n",
       "      <td>2010</td>\n",
       "      <td>3</td>\n",
       "      <td>5</td>\n",
       "    </tr>\n",
       "    <tr>\n",
       "      <th>...</th>\n",
       "      <td>...</td>\n",
       "      <td>...</td>\n",
       "      <td>...</td>\n",
       "    </tr>\n",
       "    <tr>\n",
       "      <th>8185</th>\n",
       "      <td>2013</td>\n",
       "      <td>6</td>\n",
       "      <td>28</td>\n",
       "    </tr>\n",
       "    <tr>\n",
       "      <th>8186</th>\n",
       "      <td>2013</td>\n",
       "      <td>7</td>\n",
       "      <td>5</td>\n",
       "    </tr>\n",
       "    <tr>\n",
       "      <th>8187</th>\n",
       "      <td>2013</td>\n",
       "      <td>7</td>\n",
       "      <td>12</td>\n",
       "    </tr>\n",
       "    <tr>\n",
       "      <th>8188</th>\n",
       "      <td>2013</td>\n",
       "      <td>7</td>\n",
       "      <td>19</td>\n",
       "    </tr>\n",
       "    <tr>\n",
       "      <th>8189</th>\n",
       "      <td>2013</td>\n",
       "      <td>7</td>\n",
       "      <td>26</td>\n",
       "    </tr>\n",
       "  </tbody>\n",
       "</table>\n",
       "<p>8190 rows × 3 columns</p>\n",
       "</div>"
      ],
      "text/plain": [
       "      Year  Month  Day\n",
       "0     2010      2    5\n",
       "1     2010      2   12\n",
       "2     2010      2   19\n",
       "3     2010      2   26\n",
       "4     2010      3    5\n",
       "...    ...    ...  ...\n",
       "8185  2013      6   28\n",
       "8186  2013      7    5\n",
       "8187  2013      7   12\n",
       "8188  2013      7   19\n",
       "8189  2013      7   26\n",
       "\n",
       "[8190 rows x 3 columns]"
      ]
     },
     "execution_count": 6,
     "metadata": {},
     "output_type": "execute_result"
    }
   ],
   "source": [
    "fuel_df[['Year','Month','Day']]"
   ]
  },
  {
   "cell_type": "code",
   "execution_count": 7,
   "id": "5f104f15-2709-4cff-9f17-5e02312d85c2",
   "metadata": {},
   "outputs": [],
   "source": [
    "sales_df['Year'], sales_df['Month'], sales_df['Day']=sales_df.Date.dt.year, sales_df.Date.dt.month, sales_df.Date.dt.day"
   ]
  },
  {
   "cell_type": "code",
   "execution_count": 8,
   "id": "70518871-7dbc-4e73-87f5-0d0e8ef5c3c5",
   "metadata": {},
   "outputs": [
    {
     "data": {
      "text/html": [
       "<div>\n",
       "<style scoped>\n",
       "    .dataframe tbody tr th:only-of-type {\n",
       "        vertical-align: middle;\n",
       "    }\n",
       "\n",
       "    .dataframe tbody tr th {\n",
       "        vertical-align: top;\n",
       "    }\n",
       "\n",
       "    .dataframe thead th {\n",
       "        text-align: right;\n",
       "    }\n",
       "</style>\n",
       "<table border=\"1\" class=\"dataframe\">\n",
       "  <thead>\n",
       "    <tr style=\"text-align: right;\">\n",
       "      <th></th>\n",
       "      <th>Year</th>\n",
       "      <th>Month</th>\n",
       "      <th>Day</th>\n",
       "    </tr>\n",
       "  </thead>\n",
       "  <tbody>\n",
       "    <tr>\n",
       "      <th>0</th>\n",
       "      <td>2010</td>\n",
       "      <td>2</td>\n",
       "      <td>5</td>\n",
       "    </tr>\n",
       "    <tr>\n",
       "      <th>1</th>\n",
       "      <td>2010</td>\n",
       "      <td>2</td>\n",
       "      <td>12</td>\n",
       "    </tr>\n",
       "    <tr>\n",
       "      <th>2</th>\n",
       "      <td>2010</td>\n",
       "      <td>2</td>\n",
       "      <td>19</td>\n",
       "    </tr>\n",
       "    <tr>\n",
       "      <th>3</th>\n",
       "      <td>2010</td>\n",
       "      <td>2</td>\n",
       "      <td>26</td>\n",
       "    </tr>\n",
       "    <tr>\n",
       "      <th>4</th>\n",
       "      <td>2010</td>\n",
       "      <td>3</td>\n",
       "      <td>5</td>\n",
       "    </tr>\n",
       "    <tr>\n",
       "      <th>...</th>\n",
       "      <td>...</td>\n",
       "      <td>...</td>\n",
       "      <td>...</td>\n",
       "    </tr>\n",
       "    <tr>\n",
       "      <th>421565</th>\n",
       "      <td>2012</td>\n",
       "      <td>9</td>\n",
       "      <td>28</td>\n",
       "    </tr>\n",
       "    <tr>\n",
       "      <th>421566</th>\n",
       "      <td>2012</td>\n",
       "      <td>10</td>\n",
       "      <td>5</td>\n",
       "    </tr>\n",
       "    <tr>\n",
       "      <th>421567</th>\n",
       "      <td>2012</td>\n",
       "      <td>10</td>\n",
       "      <td>12</td>\n",
       "    </tr>\n",
       "    <tr>\n",
       "      <th>421568</th>\n",
       "      <td>2012</td>\n",
       "      <td>10</td>\n",
       "      <td>19</td>\n",
       "    </tr>\n",
       "    <tr>\n",
       "      <th>421569</th>\n",
       "      <td>2012</td>\n",
       "      <td>10</td>\n",
       "      <td>26</td>\n",
       "    </tr>\n",
       "  </tbody>\n",
       "</table>\n",
       "<p>421570 rows × 3 columns</p>\n",
       "</div>"
      ],
      "text/plain": [
       "        Year  Month  Day\n",
       "0       2010      2    5\n",
       "1       2010      2   12\n",
       "2       2010      2   19\n",
       "3       2010      2   26\n",
       "4       2010      3    5\n",
       "...      ...    ...  ...\n",
       "421565  2012      9   28\n",
       "421566  2012     10    5\n",
       "421567  2012     10   12\n",
       "421568  2012     10   19\n",
       "421569  2012     10   26\n",
       "\n",
       "[421570 rows x 3 columns]"
      ]
     },
     "execution_count": 8,
     "metadata": {},
     "output_type": "execute_result"
    }
   ],
   "source": [
    "sales_df[['Year','Month','Day']]"
   ]
  },
  {
   "cell_type": "markdown",
   "id": "13877d45",
   "metadata": {},
   "source": [
    "b. In `walmart_sales`: which `Month(s)` of `Year` have the highest `Weekly_Sales`? Report the Year, Month, Store, and Dept."
   ]
  },
  {
   "cell_type": "code",
   "execution_count": 9,
   "id": "b3bbf97e",
   "metadata": {},
   "outputs": [
    {
     "name": "stdout",
     "output_type": "stream",
     "text": [
      "Year: 2010\n",
      "Month: 11\n",
      "Store: 10\n",
      "Dept: 72\n"
     ]
    }
   ],
   "source": [
    "Max=sales_df.loc[sales_df[\"Weekly_Sales\"].idxmax()]\n",
    "print(\"Year: \"+ str(Max.Year))\n",
    "print(\"Month: \"+ str(Max.Month))\n",
    "print(\"Store: \"+ str(Max.Store))\n",
    "print(\"Dept: \"+ str(Max.Dept))"
   ]
  },
  {
   "cell_type": "markdown",
   "id": "e0a1faef",
   "metadata": {},
   "source": [
    "c. In `walmart_sales`: calculate the average monthly sales by Department for each Store. Which Store(s) has the highest average monthly sales on the department(s)? Report the Store, Department, Date."
   ]
  },
  {
   "cell_type": "code",
   "execution_count": 10,
   "id": "606f2a7e-4bff-4aab-a042-f17e08063582",
   "metadata": {},
   "outputs": [],
   "source": [
    "a=sales_df.groupby(['Dept','Store','Month']).agg(Average=('Weekly_Sales', 'mean')).reset_index()"
   ]
  },
  {
   "cell_type": "code",
   "execution_count": 11,
   "id": "15ef73fa",
   "metadata": {},
   "outputs": [
    {
     "data": {
      "text/plain": [
       "Store                      3\n",
       "Dept                      80\n",
       "Date     2011-12-02 00:00:00\n",
       "Name: 27987, dtype: object"
      ]
     },
     "execution_count": 11,
     "metadata": {},
     "output_type": "execute_result"
    }
   ],
   "source": [
    "sales_df.loc[a['Average'].idxmax()][['Store','Dept','Date']]"
   ]
  },
  {
   "cell_type": "markdown",
   "id": "ee38e63a",
   "metadata": {},
   "source": [
    "d. In `walmart_sales`: which month of year `2011` has the highest overall sales by Store? Name the holiday(Labor day, July 4th, Halloween, Thanksgiving, Christmas,... etcs) that falls on the month. After that do the same for `2012`. Does the highest sales per month fall on the same holiday for both years? Report your findings for both year."
   ]
  },
  {
   "cell_type": "code",
   "execution_count": 26,
   "id": "67ce1306",
   "metadata": {},
   "outputs": [],
   "source": [
    "b=sales_df[sales_df['Year']==2011].groupby(['Month','Store']).agg(total_sale=('Weekly_Sales','sum')).reset_index()"
   ]
  },
  {
   "cell_type": "code",
   "execution_count": 27,
   "id": "c23c30fd-1e7b-4e33-874f-c9756cee5034",
   "metadata": {},
   "outputs": [
    {
     "data": {
      "text/plain": [
       "Month    12.0\n",
       "Name: 514, dtype: float64"
      ]
     },
     "execution_count": 27,
     "metadata": {},
     "output_type": "execute_result"
    }
   ],
   "source": [
    "b.loc[b['total_sale'].idxmax()][['Month']]"
   ]
  },
  {
   "cell_type": "code",
   "execution_count": 16,
   "id": "a90e81f5-cd82-4ae8-806b-b3b6ce0b9c2c",
   "metadata": {},
   "outputs": [
    {
     "name": "stdout",
     "output_type": "stream",
     "text": [
      "2011-12-26 00:00:00\n"
     ]
    }
   ],
   "source": [
    "cal = USFederalHolidayCalendar()\n",
    "for dt in cal.holidays(datetime(2011,12,1), datetime(2011,12,31)): \n",
    "    print (dt)"
   ]
  },
  {
   "cell_type": "code",
   "execution_count": 17,
   "id": "3dd9143a-7a0c-49d1-afca-0823911ce52d",
   "metadata": {},
   "outputs": [],
   "source": [
    "f=sales_df[sales_df['Year']==2012].groupby(['Month','Store']).agg(total_sale=('Weekly_Sales','sum')).reset_index()"
   ]
  },
  {
   "cell_type": "code",
   "execution_count": 18,
   "id": "b2d30ea4-f021-45aa-9882-03717b0f0aa9",
   "metadata": {},
   "outputs": [
    {
     "data": {
      "text/plain": [
       "Month    6.0\n",
       "Name: 228, dtype: float64"
      ]
     },
     "execution_count": 18,
     "metadata": {},
     "output_type": "execute_result"
    }
   ],
   "source": [
    "f.loc[f['total_sale'].idxmax()][['Month']]"
   ]
  },
  {
   "cell_type": "code",
   "execution_count": 19,
   "id": "2a5b9441-40f3-4d83-a5f5-a38a500d54f5",
   "metadata": {},
   "outputs": [
    {
     "name": "stdout",
     "output_type": "stream",
     "text": [
      "2012-12-25 00:00:00\n"
     ]
    }
   ],
   "source": [
    "cal = USFederalHolidayCalendar()\n",
    "for dt in cal.holidays(datetime(2012,12,1), datetime(2012,12,31)): \n",
    "    print (dt)"
   ]
  },
  {
   "cell_type": "code",
   "execution_count": 23,
   "id": "ce5e200d-4f67-4469-a444-88c82261ccc8",
   "metadata": {},
   "outputs": [
    {
     "data": {
      "text/html": [
       "<div>\n",
       "<style scoped>\n",
       "    .dataframe tbody tr th:only-of-type {\n",
       "        vertical-align: middle;\n",
       "    }\n",
       "\n",
       "    .dataframe tbody tr th {\n",
       "        vertical-align: top;\n",
       "    }\n",
       "\n",
       "    .dataframe thead th {\n",
       "        text-align: right;\n",
       "    }\n",
       "</style>\n",
       "<table border=\"1\" class=\"dataframe\">\n",
       "  <thead>\n",
       "    <tr style=\"text-align: right;\">\n",
       "      <th></th>\n",
       "      <th>Store</th>\n",
       "      <th>Dept</th>\n",
       "      <th>Date</th>\n",
       "      <th>Weekly_Sales</th>\n",
       "      <th>IsHoliday</th>\n",
       "      <th>Year</th>\n",
       "      <th>Month</th>\n",
       "      <th>Day</th>\n",
       "    </tr>\n",
       "  </thead>\n",
       "  <tbody>\n",
       "  </tbody>\n",
       "</table>\n",
       "</div>"
      ],
      "text/plain": [
       "Empty DataFrame\n",
       "Columns: [Store, Dept, Date, Weekly_Sales, IsHoliday, Year, Month, Day]\n",
       "Index: []"
      ]
     },
     "execution_count": 23,
     "metadata": {},
     "output_type": "execute_result"
    }
   ],
   "source": [
    "sales_df[sales_df['Date']=='2012-12-25']"
   ]
  },
  {
   "cell_type": "code",
   "execution_count": 24,
   "id": "8b075511-14fb-4c46-9841-7ddf68909ff2",
   "metadata": {},
   "outputs": [
    {
     "data": {
      "text/html": [
       "<div>\n",
       "<style scoped>\n",
       "    .dataframe tbody tr th:only-of-type {\n",
       "        vertical-align: middle;\n",
       "    }\n",
       "\n",
       "    .dataframe tbody tr th {\n",
       "        vertical-align: top;\n",
       "    }\n",
       "\n",
       "    .dataframe thead th {\n",
       "        text-align: right;\n",
       "    }\n",
       "</style>\n",
       "<table border=\"1\" class=\"dataframe\">\n",
       "  <thead>\n",
       "    <tr style=\"text-align: right;\">\n",
       "      <th></th>\n",
       "      <th>Store</th>\n",
       "      <th>Dept</th>\n",
       "      <th>Date</th>\n",
       "      <th>Weekly_Sales</th>\n",
       "      <th>IsHoliday</th>\n",
       "      <th>Year</th>\n",
       "      <th>Month</th>\n",
       "      <th>Day</th>\n",
       "    </tr>\n",
       "  </thead>\n",
       "  <tbody>\n",
       "  </tbody>\n",
       "</table>\n",
       "</div>"
      ],
      "text/plain": [
       "Empty DataFrame\n",
       "Columns: [Store, Dept, Date, Weekly_Sales, IsHoliday, Year, Month, Day]\n",
       "Index: []"
      ]
     },
     "execution_count": 24,
     "metadata": {},
     "output_type": "execute_result"
    }
   ],
   "source": [
    "sales_df[sales_df['Date']=='2011-12-26']"
   ]
  },
  {
   "cell_type": "code",
   "execution_count": 25,
   "id": "ff5c75ca-d989-4634-abd6-ec914180563b",
   "metadata": {},
   "outputs": [],
   "source": [
    "# No Sales in these Dates"
   ]
  },
  {
   "cell_type": "markdown",
   "id": "0e6c35a7",
   "metadata": {},
   "source": [
    " e. In `walmart_sales`: report the lowest sales per month for the year `2011` for `IsHoliday == TRUE`. Name the holiday(Labor day, July 4th, Halloween, Thanksgiving, Christmas,... etcs) that falls on the month. Do the same for `2012` and report if the lowest sales are on the same month."
   ]
  },
  {
   "cell_type": "code",
   "execution_count": 33,
   "id": "cb1fad31-e73b-4588-b23e-62e8894555ac",
   "metadata": {},
   "outputs": [],
   "source": [
    "b=sales_df[(sales_df['Year']==2011) & (sales_df['IsHoliday']==True)].groupby(['Month']).agg(total_sale=('Weekly_Sales','sum')).reset_index()"
   ]
  },
  {
   "cell_type": "code",
   "execution_count": 34,
   "id": "da376d70",
   "metadata": {},
   "outputs": [
    {
     "data": {
      "text/plain": [
       "Month    12.0\n",
       "Name: 3, dtype: float64"
      ]
     },
     "execution_count": 34,
     "metadata": {},
     "output_type": "execute_result"
    }
   ],
   "source": [
    "b.loc[b['total_sale'].idxmin()][['Month']]"
   ]
  },
  {
   "cell_type": "code",
   "execution_count": 35,
   "id": "a1943ff0-3a2b-45bc-baf4-2236962a5750",
   "metadata": {},
   "outputs": [],
   "source": [
    "b=sales_df[(sales_df['Year']==2012) & (sales_df['IsHoliday']==True)].groupby(['Month']).agg(total_sale=('Weekly_Sales','sum')).reset_index()"
   ]
  },
  {
   "cell_type": "code",
   "execution_count": 36,
   "id": "979fc73a-9f5d-4a64-bc7f-1f18552e1384",
   "metadata": {},
   "outputs": [
    {
     "data": {
      "text/plain": [
       "Month    9.0\n",
       "Name: 1, dtype: float64"
      ]
     },
     "execution_count": 36,
     "metadata": {},
     "output_type": "execute_result"
    }
   ],
   "source": [
    "b.loc[b['total_sale'].idxmin()][['Month']]"
   ]
  },
  {
   "cell_type": "code",
   "execution_count": 38,
   "id": "5af16e1f-86b6-4168-90cd-9d504b45deec",
   "metadata": {},
   "outputs": [
    {
     "name": "stdout",
     "output_type": "stream",
     "text": [
      "2012-09-03 00:00:00\n"
     ]
    }
   ],
   "source": [
    "cal = USFederalHolidayCalendar()\n",
    "for dt in cal.holidays(datetime(2012,9,1), datetime(2012,9,30)): \n",
    "    print (dt)"
   ]
  },
  {
   "cell_type": "code",
   "execution_count": 39,
   "id": "2e01ff5d-ce7b-4899-b458-805256e25871",
   "metadata": {},
   "outputs": [
    {
     "data": {
      "text/html": [
       "<div>\n",
       "<style scoped>\n",
       "    .dataframe tbody tr th:only-of-type {\n",
       "        vertical-align: middle;\n",
       "    }\n",
       "\n",
       "    .dataframe tbody tr th {\n",
       "        vertical-align: top;\n",
       "    }\n",
       "\n",
       "    .dataframe thead th {\n",
       "        text-align: right;\n",
       "    }\n",
       "</style>\n",
       "<table border=\"1\" class=\"dataframe\">\n",
       "  <thead>\n",
       "    <tr style=\"text-align: right;\">\n",
       "      <th></th>\n",
       "      <th>Store</th>\n",
       "      <th>Dept</th>\n",
       "      <th>Date</th>\n",
       "      <th>Weekly_Sales</th>\n",
       "      <th>IsHoliday</th>\n",
       "      <th>Year</th>\n",
       "      <th>Month</th>\n",
       "      <th>Day</th>\n",
       "    </tr>\n",
       "  </thead>\n",
       "  <tbody>\n",
       "  </tbody>\n",
       "</table>\n",
       "</div>"
      ],
      "text/plain": [
       "Empty DataFrame\n",
       "Columns: [Store, Dept, Date, Weekly_Sales, IsHoliday, Year, Month, Day]\n",
       "Index: []"
      ]
     },
     "execution_count": 39,
     "metadata": {},
     "output_type": "execute_result"
    }
   ],
   "source": [
    "sales_df[sales_df['Date']=='2012-09-03']"
   ]
  },
  {
   "cell_type": "code",
   "execution_count": 42,
   "id": "5f7a3275-4fe4-4cab-8fc4-bf3321d324b0",
   "metadata": {},
   "outputs": [],
   "source": [
    "# No Sales in these Dates"
   ]
  },
  {
   "cell_type": "markdown",
   "id": "1b50bfcd",
   "metadata": {},
   "source": [
    "f. In `walmart_sales`: We have 45 unique stores. Generate a nice plot on the total sales by store for the year `2012`. Report the Store number."
   ]
  },
  {
   "cell_type": "code",
   "execution_count": 59,
   "id": "4d83becc",
   "metadata": {},
   "outputs": [
    {
     "data": {
      "text/plain": [
       "<seaborn.axisgrid.FacetGrid at 0x14843c92bc0>"
      ]
     },
     "execution_count": 59,
     "metadata": {},
     "output_type": "execute_result"
    },
    {
     "data": {
      "image/png": "[encoded data removed]",
      "text/plain": [
       "<Figure size 1000x1000 with 1 Axes>"
      ]
     },
     "metadata": {},
     "output_type": "display_data"
    }
   ],
   "source": [
    "f=sales_df[sales_df['Year']==2012].groupby(['Store']).agg(total_sale=('Weekly_Sales','sum')).reset_index()\n",
    "sns.catplot(data=f,y='Store',x='total_sale', kind='bar',orient = 'h', height=10)"
   ]
  },
  {
   "cell_type": "markdown",
   "id": "5289a946",
   "metadata": {},
   "source": [
    "g. In `walmart_fuel_prices`: For the year `2011` do you think higher the `temperature` relates to higher `fuel price`? Support your answer with a nice plot."
   ]
  },
  {
   "cell_type": "code",
   "execution_count": 61,
   "id": "42da1e4e",
   "metadata": {},
   "outputs": [
    {
     "data": {
      "text/html": [
       "<div>\n",
       "<style scoped>\n",
       "    .dataframe tbody tr th:only-of-type {\n",
       "        vertical-align: middle;\n",
       "    }\n",
       "\n",
       "    .dataframe tbody tr th {\n",
       "        vertical-align: top;\n",
       "    }\n",
       "\n",
       "    .dataframe thead th {\n",
       "        text-align: right;\n",
       "    }\n",
       "</style>\n",
       "<table border=\"1\" class=\"dataframe\">\n",
       "  <thead>\n",
       "    <tr style=\"text-align: right;\">\n",
       "      <th></th>\n",
       "      <th>index</th>\n",
       "      <th>Store</th>\n",
       "      <th>Date</th>\n",
       "      <th>Temperature</th>\n",
       "      <th>Fuel_Price</th>\n",
       "      <th>IsHoliday</th>\n",
       "      <th>Year</th>\n",
       "      <th>Month</th>\n",
       "      <th>Day</th>\n",
       "    </tr>\n",
       "  </thead>\n",
       "  <tbody>\n",
       "    <tr>\n",
       "      <th>0</th>\n",
       "      <td>1</td>\n",
       "      <td>1</td>\n",
       "      <td>2010-02-05</td>\n",
       "      <td>42.31</td>\n",
       "      <td>2.572</td>\n",
       "      <td>False</td>\n",
       "      <td>2010</td>\n",
       "      <td>2</td>\n",
       "      <td>5</td>\n",
       "    </tr>\n",
       "    <tr>\n",
       "      <th>1</th>\n",
       "      <td>2</td>\n",
       "      <td>1</td>\n",
       "      <td>2010-02-12</td>\n",
       "      <td>38.51</td>\n",
       "      <td>2.548</td>\n",
       "      <td>True</td>\n",
       "      <td>2010</td>\n",
       "      <td>2</td>\n",
       "      <td>12</td>\n",
       "    </tr>\n",
       "    <tr>\n",
       "      <th>2</th>\n",
       "      <td>3</td>\n",
       "      <td>1</td>\n",
       "      <td>2010-02-19</td>\n",
       "      <td>39.93</td>\n",
       "      <td>2.514</td>\n",
       "      <td>False</td>\n",
       "      <td>2010</td>\n",
       "      <td>2</td>\n",
       "      <td>19</td>\n",
       "    </tr>\n",
       "    <tr>\n",
       "      <th>3</th>\n",
       "      <td>4</td>\n",
       "      <td>1</td>\n",
       "      <td>2010-02-26</td>\n",
       "      <td>46.63</td>\n",
       "      <td>2.561</td>\n",
       "      <td>False</td>\n",
       "      <td>2010</td>\n",
       "      <td>2</td>\n",
       "      <td>26</td>\n",
       "    </tr>\n",
       "    <tr>\n",
       "      <th>4</th>\n",
       "      <td>5</td>\n",
       "      <td>1</td>\n",
       "      <td>2010-03-05</td>\n",
       "      <td>46.50</td>\n",
       "      <td>2.625</td>\n",
       "      <td>False</td>\n",
       "      <td>2010</td>\n",
       "      <td>3</td>\n",
       "      <td>5</td>\n",
       "    </tr>\n",
       "  </tbody>\n",
       "</table>\n",
       "</div>"
      ],
      "text/plain": [
       "   index  Store       Date  Temperature  Fuel_Price  IsHoliday  Year  Month  \\\n",
       "0      1      1 2010-02-05        42.31       2.572      False  2010      2   \n",
       "1      2      1 2010-02-12        38.51       2.548       True  2010      2   \n",
       "2      3      1 2010-02-19        39.93       2.514      False  2010      2   \n",
       "3      4      1 2010-02-26        46.63       2.561      False  2010      2   \n",
       "4      5      1 2010-03-05        46.50       2.625      False  2010      3   \n",
       "\n",
       "   Day  \n",
       "0    5  \n",
       "1   12  \n",
       "2   19  \n",
       "3   26  \n",
       "4    5  "
      ]
     },
     "execution_count": 61,
     "metadata": {},
     "output_type": "execute_result"
    }
   ],
   "source": [
    "fuel_df.head()"
   ]
  },
  {
   "cell_type": "code",
   "execution_count": 91,
   "id": "98854247-03be-4b0a-b6bd-17a7869d259d",
   "metadata": {},
   "outputs": [],
   "source": [
    "e=fuel_df[fuel_df['Year']==2012].groupby('Month').agg(total_temp=('Temperature','sum')).reset_index()\n",
    "f=fuel_df[fuel_df['Year']==2012].groupby('Month').agg(total_price=('Fuel_Price','sum')).reset_index()"
   ]
  },
  {
   "cell_type": "code",
   "execution_count": 92,
   "id": "44a091e8-03a3-4c45-b028-1726ba7f3cb4",
   "metadata": {},
   "outputs": [
    {
     "data": {
      "image/png": "[encoded data removed]",
      "text/plain": [
       "<Figure size 1500x800 with 2 Axes>"
      ]
     },
     "metadata": {},
     "output_type": "display_data"
    }
   ],
   "source": [
    "plt.figure(figsize=(15, 8))\n",
    "ax = sns.barplot(x='Month', y='total_temp', data=e)\n",
    "\n",
    "ax2 = ax.twinx()\n",
    "sns.lineplot(x='Month', y='total_price', data=f, marker='o', color='crimson', lw=3, ax=ax2)\n",
    "\n",
    "plt.show()"
   ]
  },
  {
   "cell_type": "markdown",
   "id": "1f3cf869",
   "metadata": {},
   "source": [
    " h. In `walmart_fuel_prices`: For the year `2010` which `Store` had the lowest Fuel Price? Report the `month` and `temperature`. On the same `month`, what was the highest fuel price for the store? Report the difference."
   ]
  },
  {
   "cell_type": "code",
   "execution_count": 116,
   "id": "ab2df5ad",
   "metadata": {},
   "outputs": [
    {
     "data": {
      "text/plain": [
       "Store             36\n",
       "Month              2\n",
       "Temperature    45.66\n",
       "Name: 6372, dtype: object"
      ]
     },
     "execution_count": 116,
     "metadata": {},
     "output_type": "execute_result"
    }
   ],
   "source": [
    "min_price_idx=fuel_df[fuel_df['Year']==2010]['Fuel_Price'].idxmin()\n",
    "fuel_df.loc[min_price_idx][['Store','Month','Temperature']]"
   ]
  },
  {
   "cell_type": "code",
   "execution_count": 114,
   "id": "0704fdd1-2eec-4d26-b229-7a5b4c6aa195",
   "metadata": {},
   "outputs": [
    {
     "data": {
      "text/plain": [
       "Store             10\n",
       "Month              2\n",
       "Temperature    54.34\n",
       "Name: 1638, dtype: object"
      ]
     },
     "execution_count": 114,
     "metadata": {},
     "output_type": "execute_result"
    }
   ],
   "source": [
    "max_price_idx=fuel_df[(fuel_df['Year']==2010) & (fuel_df['Month']==2)]['Fuel_Price'].idxmax()\n",
    "fuel_df.loc[max_price_idx][['Store','Month','Temperature']]"
   ]
  },
  {
   "cell_type": "code",
   "execution_count": 117,
   "id": "18295726-694b-483c-a6fa-b3d50398a270",
   "metadata": {},
   "outputs": [
    {
     "data": {
      "text/plain": [
       "8.680000000000007"
      ]
     },
     "execution_count": 117,
     "metadata": {},
     "output_type": "execute_result"
    }
   ],
   "source": [
    "-fuel_df.loc[min_price_idx][['Store','Month','Temperature']].Temperature+fuel_df.loc[max_price_idx][['Store','Month','Temperature']].Temperature"
   ]
  },
  {
   "cell_type": "markdown",
   "id": "12b0075e",
   "metadata": {},
   "source": [
    "i. In `walmart_fuel_prices`: For the `IsHoliday == TRUE`, which month has the lowest `Fuel Price` for the year `2012`? name the holiday(Labor day, July 4th, Halloween, Thanksgiving, Christmas,... etcs) that falls on the month. Also report month of the highest fuel price and name of the holiday."
   ]
  },
  {
   "cell_type": "code",
   "execution_count": 119,
   "id": "ac259d5d",
   "metadata": {},
   "outputs": [
    {
     "data": {
      "text/plain": [
       "2"
      ]
     },
     "execution_count": 119,
     "metadata": {},
     "output_type": "execute_result"
    }
   ],
   "source": [
    "min_price_idx=fuel_df[(fuel_df['Year']==2012) & (fuel_df['IsHoliday']==True)]['Fuel_Price'].idxmin()\n",
    "fuel_df.loc[min_price_idx]['Month']"
   ]
  },
  {
   "cell_type": "code",
   "execution_count": 120,
   "id": "eec96706-8568-4780-8367-c22128ce43a3",
   "metadata": {},
   "outputs": [
    {
     "data": {
      "text/plain": [
       "9"
      ]
     },
     "execution_count": 120,
     "metadata": {},
     "output_type": "execute_result"
    }
   ],
   "source": [
    "max_price_idx=fuel_df[(fuel_df['Year']==2012) & (fuel_df['IsHoliday']==True)]['Fuel_Price'].idxmax()\n",
    "fuel_df.loc[max_price_idx]['Month']"
   ]
  },
  {
   "cell_type": "markdown",
   "id": "320b4a0a",
   "metadata": {},
   "source": [
    "## 3. **COVID19 Time Series Data:**\n",
    "\n",
    "<br/>\n",
    "Download the data from\n",
    "<a target='_blank' href=\"https://raw.githubusercontent.com/CSSEGISandData/COVID-19/master/csse_covid_19_data/csse_covid_19_time_series/time_series_covid19_confirmed_US.csv\">[github link]</a>\n",
    "(https://raw.githubusercontent.com/CSSEGISandData/COVID-19/master/csse_covid_19_data/csse_covid_19_time_series/time_series_covid19_confirmed_US.csv) \n",
    "\n",
    "<br/>\n",
    "<br/>\n",
    "The link above contains a time-series data for COVID-19 confirmed cases in the US. Limit the data to only use `New York State` and please answer the following questions:\n",
    "\n"
   ]
  },
  {
   "cell_type": "markdown",
   "id": "9c4fa99f",
   "metadata": {},
   "source": [
    "a. What is the total confirmed cases in Nebraska as of October 30th 2020 as per the dataset?\n"
   ]
  },
  {
   "cell_type": "code",
   "execution_count": 247,
   "id": "20c5f286-61f5-4cd4-ad1f-c55163a43d3d",
   "metadata": {},
   "outputs": [],
   "source": [
    "covid=pd.read_csv('time_series_covid19_confirmed_US.csv')"
   ]
  },
  {
   "cell_type": "code",
   "execution_count": 158,
   "id": "2331e288-737d-4dbc-9e45-8c2fbc4f5d3a",
   "metadata": {},
   "outputs": [],
   "source": [
    "# covid=covid[covid['Province_State']=='New York']\n",
    "# covid.head()"
   ]
  },
  {
   "cell_type": "code",
   "execution_count": 248,
   "id": "6e3f603e-dbca-4320-a91b-ba2d7fd26f34",
   "metadata": {},
   "outputs": [],
   "source": [
    "covid=covid.drop(['UID','iso2','iso3','code3','FIPS','Admin2','Country_Region','Lat','Long_','Combined_Key'],axis=1)"
   ]
  },
  {
   "cell_type": "code",
   "execution_count": 160,
   "id": "71cd323d-dfd4-4c6d-8d64-b5b6d48a1d5a",
   "metadata": {},
   "outputs": [
    {
     "data": {
      "text/html": [
       "<div>\n",
       "<style scoped>\n",
       "    .dataframe tbody tr th:only-of-type {\n",
       "        vertical-align: middle;\n",
       "    }\n",
       "\n",
       "    .dataframe tbody tr th {\n",
       "        vertical-align: top;\n",
       "    }\n",
       "\n",
       "    .dataframe thead th {\n",
       "        text-align: right;\n",
       "    }\n",
       "</style>\n",
       "<table border=\"1\" class=\"dataframe\">\n",
       "  <thead>\n",
       "    <tr style=\"text-align: right;\">\n",
       "      <th></th>\n",
       "      <th>Province_State</th>\n",
       "      <th>1/22/20</th>\n",
       "      <th>1/23/20</th>\n",
       "      <th>1/24/20</th>\n",
       "      <th>1/25/20</th>\n",
       "      <th>1/26/20</th>\n",
       "      <th>1/27/20</th>\n",
       "      <th>1/28/20</th>\n",
       "      <th>1/29/20</th>\n",
       "      <th>1/30/20</th>\n",
       "      <th>...</th>\n",
       "      <th>12/13/22</th>\n",
       "      <th>12/14/22</th>\n",
       "      <th>12/15/22</th>\n",
       "      <th>12/16/22</th>\n",
       "      <th>12/17/22</th>\n",
       "      <th>12/18/22</th>\n",
       "      <th>12/19/22</th>\n",
       "      <th>12/20/22</th>\n",
       "      <th>12/21/22</th>\n",
       "      <th>12/22/22</th>\n",
       "    </tr>\n",
       "  </thead>\n",
       "  <tbody>\n",
       "    <tr>\n",
       "      <th>0</th>\n",
       "      <td>Alabama</td>\n",
       "      <td>0</td>\n",
       "      <td>0</td>\n",
       "      <td>0</td>\n",
       "      <td>0</td>\n",
       "      <td>0</td>\n",
       "      <td>0</td>\n",
       "      <td>0</td>\n",
       "      <td>0</td>\n",
       "      <td>0</td>\n",
       "      <td>...</td>\n",
       "      <td>18752</td>\n",
       "      <td>18847</td>\n",
       "      <td>18847</td>\n",
       "      <td>18847</td>\n",
       "      <td>18847</td>\n",
       "      <td>18847</td>\n",
       "      <td>18847</td>\n",
       "      <td>18847</td>\n",
       "      <td>18961</td>\n",
       "      <td>18961</td>\n",
       "    </tr>\n",
       "    <tr>\n",
       "      <th>1</th>\n",
       "      <td>Alabama</td>\n",
       "      <td>0</td>\n",
       "      <td>0</td>\n",
       "      <td>0</td>\n",
       "      <td>0</td>\n",
       "      <td>0</td>\n",
       "      <td>0</td>\n",
       "      <td>0</td>\n",
       "      <td>0</td>\n",
       "      <td>0</td>\n",
       "      <td>...</td>\n",
       "      <td>66951</td>\n",
       "      <td>67221</td>\n",
       "      <td>67221</td>\n",
       "      <td>67221</td>\n",
       "      <td>67221</td>\n",
       "      <td>67221</td>\n",
       "      <td>67221</td>\n",
       "      <td>67221</td>\n",
       "      <td>67496</td>\n",
       "      <td>67496</td>\n",
       "    </tr>\n",
       "    <tr>\n",
       "      <th>2</th>\n",
       "      <td>Alabama</td>\n",
       "      <td>0</td>\n",
       "      <td>0</td>\n",
       "      <td>0</td>\n",
       "      <td>0</td>\n",
       "      <td>0</td>\n",
       "      <td>0</td>\n",
       "      <td>0</td>\n",
       "      <td>0</td>\n",
       "      <td>0</td>\n",
       "      <td>...</td>\n",
       "      <td>6989</td>\n",
       "      <td>7007</td>\n",
       "      <td>7007</td>\n",
       "      <td>7007</td>\n",
       "      <td>7007</td>\n",
       "      <td>7007</td>\n",
       "      <td>7007</td>\n",
       "      <td>7007</td>\n",
       "      <td>7027</td>\n",
       "      <td>7027</td>\n",
       "    </tr>\n",
       "    <tr>\n",
       "      <th>3</th>\n",
       "      <td>Alabama</td>\n",
       "      <td>0</td>\n",
       "      <td>0</td>\n",
       "      <td>0</td>\n",
       "      <td>0</td>\n",
       "      <td>0</td>\n",
       "      <td>0</td>\n",
       "      <td>0</td>\n",
       "      <td>0</td>\n",
       "      <td>0</td>\n",
       "      <td>...</td>\n",
       "      <td>7653</td>\n",
       "      <td>7668</td>\n",
       "      <td>7668</td>\n",
       "      <td>7668</td>\n",
       "      <td>7668</td>\n",
       "      <td>7668</td>\n",
       "      <td>7668</td>\n",
       "      <td>7668</td>\n",
       "      <td>7692</td>\n",
       "      <td>7692</td>\n",
       "    </tr>\n",
       "    <tr>\n",
       "      <th>4</th>\n",
       "      <td>Alabama</td>\n",
       "      <td>0</td>\n",
       "      <td>0</td>\n",
       "      <td>0</td>\n",
       "      <td>0</td>\n",
       "      <td>0</td>\n",
       "      <td>0</td>\n",
       "      <td>0</td>\n",
       "      <td>0</td>\n",
       "      <td>0</td>\n",
       "      <td>...</td>\n",
       "      <td>17559</td>\n",
       "      <td>17648</td>\n",
       "      <td>17648</td>\n",
       "      <td>17648</td>\n",
       "      <td>17648</td>\n",
       "      <td>17648</td>\n",
       "      <td>17648</td>\n",
       "      <td>17648</td>\n",
       "      <td>17731</td>\n",
       "      <td>17731</td>\n",
       "    </tr>\n",
       "    <tr>\n",
       "      <th>...</th>\n",
       "      <td>...</td>\n",
       "      <td>...</td>\n",
       "      <td>...</td>\n",
       "      <td>...</td>\n",
       "      <td>...</td>\n",
       "      <td>...</td>\n",
       "      <td>...</td>\n",
       "      <td>...</td>\n",
       "      <td>...</td>\n",
       "      <td>...</td>\n",
       "      <td>...</td>\n",
       "      <td>...</td>\n",
       "      <td>...</td>\n",
       "      <td>...</td>\n",
       "      <td>...</td>\n",
       "      <td>...</td>\n",
       "      <td>...</td>\n",
       "      <td>...</td>\n",
       "      <td>...</td>\n",
       "      <td>...</td>\n",
       "      <td>...</td>\n",
       "    </tr>\n",
       "    <tr>\n",
       "      <th>3337</th>\n",
       "      <td>Wyoming</td>\n",
       "      <td>0</td>\n",
       "      <td>0</td>\n",
       "      <td>0</td>\n",
       "      <td>0</td>\n",
       "      <td>0</td>\n",
       "      <td>0</td>\n",
       "      <td>0</td>\n",
       "      <td>0</td>\n",
       "      <td>0</td>\n",
       "      <td>...</td>\n",
       "      <td>11968</td>\n",
       "      <td>11968</td>\n",
       "      <td>11968</td>\n",
       "      <td>11968</td>\n",
       "      <td>11968</td>\n",
       "      <td>11968</td>\n",
       "      <td>11968</td>\n",
       "      <td>11997</td>\n",
       "      <td>11997</td>\n",
       "      <td>11997</td>\n",
       "    </tr>\n",
       "    <tr>\n",
       "      <th>3338</th>\n",
       "      <td>Wyoming</td>\n",
       "      <td>0</td>\n",
       "      <td>0</td>\n",
       "      <td>0</td>\n",
       "      <td>0</td>\n",
       "      <td>0</td>\n",
       "      <td>0</td>\n",
       "      <td>0</td>\n",
       "      <td>0</td>\n",
       "      <td>0</td>\n",
       "      <td>...</td>\n",
       "      <td>6287</td>\n",
       "      <td>6287</td>\n",
       "      <td>6287</td>\n",
       "      <td>6287</td>\n",
       "      <td>6287</td>\n",
       "      <td>6287</td>\n",
       "      <td>6287</td>\n",
       "      <td>6303</td>\n",
       "      <td>6303</td>\n",
       "      <td>6303</td>\n",
       "    </tr>\n",
       "    <tr>\n",
       "      <th>3339</th>\n",
       "      <td>Wyoming</td>\n",
       "      <td>0</td>\n",
       "      <td>0</td>\n",
       "      <td>0</td>\n",
       "      <td>0</td>\n",
       "      <td>0</td>\n",
       "      <td>0</td>\n",
       "      <td>0</td>\n",
       "      <td>0</td>\n",
       "      <td>0</td>\n",
       "      <td>...</td>\n",
       "      <td>0</td>\n",
       "      <td>0</td>\n",
       "      <td>0</td>\n",
       "      <td>0</td>\n",
       "      <td>0</td>\n",
       "      <td>0</td>\n",
       "      <td>0</td>\n",
       "      <td>0</td>\n",
       "      <td>0</td>\n",
       "      <td>0</td>\n",
       "    </tr>\n",
       "    <tr>\n",
       "      <th>3340</th>\n",
       "      <td>Wyoming</td>\n",
       "      <td>0</td>\n",
       "      <td>0</td>\n",
       "      <td>0</td>\n",
       "      <td>0</td>\n",
       "      <td>0</td>\n",
       "      <td>0</td>\n",
       "      <td>0</td>\n",
       "      <td>0</td>\n",
       "      <td>0</td>\n",
       "      <td>...</td>\n",
       "      <td>2717</td>\n",
       "      <td>2717</td>\n",
       "      <td>2717</td>\n",
       "      <td>2717</td>\n",
       "      <td>2717</td>\n",
       "      <td>2717</td>\n",
       "      <td>2717</td>\n",
       "      <td>2717</td>\n",
       "      <td>2717</td>\n",
       "      <td>2717</td>\n",
       "    </tr>\n",
       "    <tr>\n",
       "      <th>3341</th>\n",
       "      <td>Wyoming</td>\n",
       "      <td>0</td>\n",
       "      <td>0</td>\n",
       "      <td>0</td>\n",
       "      <td>0</td>\n",
       "      <td>0</td>\n",
       "      <td>0</td>\n",
       "      <td>0</td>\n",
       "      <td>0</td>\n",
       "      <td>0</td>\n",
       "      <td>...</td>\n",
       "      <td>1871</td>\n",
       "      <td>1871</td>\n",
       "      <td>1871</td>\n",
       "      <td>1871</td>\n",
       "      <td>1871</td>\n",
       "      <td>1871</td>\n",
       "      <td>1871</td>\n",
       "      <td>1876</td>\n",
       "      <td>1876</td>\n",
       "      <td>1876</td>\n",
       "    </tr>\n",
       "  </tbody>\n",
       "</table>\n",
       "<p>3342 rows × 1067 columns</p>\n",
       "</div>"
      ],
      "text/plain": [
       "     Province_State  1/22/20  1/23/20  1/24/20  1/25/20  1/26/20  1/27/20  \\\n",
       "0           Alabama        0        0        0        0        0        0   \n",
       "1           Alabama        0        0        0        0        0        0   \n",
       "2           Alabama        0        0        0        0        0        0   \n",
       "3           Alabama        0        0        0        0        0        0   \n",
       "4           Alabama        0        0        0        0        0        0   \n",
       "...             ...      ...      ...      ...      ...      ...      ...   \n",
       "3337        Wyoming        0        0        0        0        0        0   \n",
       "3338        Wyoming        0        0        0        0        0        0   \n",
       "3339        Wyoming        0        0        0        0        0        0   \n",
       "3340        Wyoming        0        0        0        0        0        0   \n",
       "3341        Wyoming        0        0        0        0        0        0   \n",
       "\n",
       "      1/28/20  1/29/20  1/30/20  ...  12/13/22  12/14/22  12/15/22  12/16/22  \\\n",
       "0           0        0        0  ...     18752     18847     18847     18847   \n",
       "1           0        0        0  ...     66951     67221     67221     67221   \n",
       "2           0        0        0  ...      6989      7007      7007      7007   \n",
       "3           0        0        0  ...      7653      7668      7668      7668   \n",
       "4           0        0        0  ...     17559     17648     17648     17648   \n",
       "...       ...      ...      ...  ...       ...       ...       ...       ...   \n",
       "3337        0        0        0  ...     11968     11968     11968     11968   \n",
       "3338        0        0        0  ...      6287      6287      6287      6287   \n",
       "3339        0        0        0  ...         0         0         0         0   \n",
       "3340        0        0        0  ...      2717      2717      2717      2717   \n",
       "3341        0        0        0  ...      1871      1871      1871      1871   \n",
       "\n",
       "      12/17/22  12/18/22  12/19/22  12/20/22  12/21/22  12/22/22  \n",
       "0        18847     18847     18847     18847     18961     18961  \n",
       "1        67221     67221     67221     67221     67496     67496  \n",
       "2         7007      7007      7007      7007      7027      7027  \n",
       "3         7668      7668      7668      7668      7692      7692  \n",
       "4        17648     17648     17648     17648     17731     17731  \n",
       "...        ...       ...       ...       ...       ...       ...  \n",
       "3337     11968     11968     11968     11997     11997     11997  \n",
       "3338      6287      6287      6287      6303      6303      6303  \n",
       "3339         0         0         0         0         0         0  \n",
       "3340      2717      2717      2717      2717      2717      2717  \n",
       "3341      1871      1871      1871      1876      1876      1876  \n",
       "\n",
       "[3342 rows x 1067 columns]"
      ]
     },
     "execution_count": 160,
     "metadata": {},
     "output_type": "execute_result"
    }
   ],
   "source": [
    "covid"
   ]
  },
  {
   "cell_type": "code",
   "execution_count": 249,
   "id": "698b1b5d",
   "metadata": {},
   "outputs": [
    {
     "data": {
      "text/html": [
       "<div>\n",
       "<style scoped>\n",
       "    .dataframe tbody tr th:only-of-type {\n",
       "        vertical-align: middle;\n",
       "    }\n",
       "\n",
       "    .dataframe tbody tr th {\n",
       "        vertical-align: top;\n",
       "    }\n",
       "\n",
       "    .dataframe thead th {\n",
       "        text-align: right;\n",
       "    }\n",
       "</style>\n",
       "<table border=\"1\" class=\"dataframe\">\n",
       "  <thead>\n",
       "    <tr style=\"text-align: right;\">\n",
       "      <th></th>\n",
       "      <th>Province_State</th>\n",
       "      <th>Date</th>\n",
       "      <th>Value</th>\n",
       "    </tr>\n",
       "  </thead>\n",
       "  <tbody>\n",
       "    <tr>\n",
       "      <th>0</th>\n",
       "      <td>Alabama</td>\n",
       "      <td>1/22/20</td>\n",
       "      <td>0</td>\n",
       "    </tr>\n",
       "    <tr>\n",
       "      <th>1</th>\n",
       "      <td>Alabama</td>\n",
       "      <td>1/22/20</td>\n",
       "      <td>0</td>\n",
       "    </tr>\n",
       "    <tr>\n",
       "      <th>2</th>\n",
       "      <td>Alabama</td>\n",
       "      <td>1/22/20</td>\n",
       "      <td>0</td>\n",
       "    </tr>\n",
       "    <tr>\n",
       "      <th>3</th>\n",
       "      <td>Alabama</td>\n",
       "      <td>1/22/20</td>\n",
       "      <td>0</td>\n",
       "    </tr>\n",
       "    <tr>\n",
       "      <th>4</th>\n",
       "      <td>Alabama</td>\n",
       "      <td>1/22/20</td>\n",
       "      <td>0</td>\n",
       "    </tr>\n",
       "    <tr>\n",
       "      <th>...</th>\n",
       "      <td>...</td>\n",
       "      <td>...</td>\n",
       "      <td>...</td>\n",
       "    </tr>\n",
       "    <tr>\n",
       "      <th>3562567</th>\n",
       "      <td>Wyoming</td>\n",
       "      <td>12/22/22</td>\n",
       "      <td>11997</td>\n",
       "    </tr>\n",
       "    <tr>\n",
       "      <th>3562568</th>\n",
       "      <td>Wyoming</td>\n",
       "      <td>12/22/22</td>\n",
       "      <td>6303</td>\n",
       "    </tr>\n",
       "    <tr>\n",
       "      <th>3562569</th>\n",
       "      <td>Wyoming</td>\n",
       "      <td>12/22/22</td>\n",
       "      <td>0</td>\n",
       "    </tr>\n",
       "    <tr>\n",
       "      <th>3562570</th>\n",
       "      <td>Wyoming</td>\n",
       "      <td>12/22/22</td>\n",
       "      <td>2717</td>\n",
       "    </tr>\n",
       "    <tr>\n",
       "      <th>3562571</th>\n",
       "      <td>Wyoming</td>\n",
       "      <td>12/22/22</td>\n",
       "      <td>1876</td>\n",
       "    </tr>\n",
       "  </tbody>\n",
       "</table>\n",
       "<p>3562572 rows × 3 columns</p>\n",
       "</div>"
      ],
      "text/plain": [
       "        Province_State      Date  Value\n",
       "0              Alabama   1/22/20      0\n",
       "1              Alabama   1/22/20      0\n",
       "2              Alabama   1/22/20      0\n",
       "3              Alabama   1/22/20      0\n",
       "4              Alabama   1/22/20      0\n",
       "...                ...       ...    ...\n",
       "3562567        Wyoming  12/22/22  11997\n",
       "3562568        Wyoming  12/22/22   6303\n",
       "3562569        Wyoming  12/22/22      0\n",
       "3562570        Wyoming  12/22/22   2717\n",
       "3562571        Wyoming  12/22/22   1876\n",
       "\n",
       "[3562572 rows x 3 columns]"
      ]
     },
     "execution_count": 249,
     "metadata": {},
     "output_type": "execute_result"
    }
   ],
   "source": [
    "covid=covid.melt(id_vars=[\"Province_State\"], var_name=\"Date\", value_name=\"Value\")\n",
    "covid"
   ]
  },
  {
   "cell_type": "code",
   "execution_count": 250,
   "id": "a2af0907-2d38-4366-88de-83945f3af0a4",
   "metadata": {},
   "outputs": [],
   "source": [
    "covid['Date']=pd.to_datetime(covid['Date'])"
   ]
  },
  {
   "cell_type": "code",
   "execution_count": 174,
   "id": "a5b15dc3-f5ba-4649-9554-43a6394e2ebd",
   "metadata": {},
   "outputs": [
    {
     "data": {
      "text/plain": [
       "69645"
      ]
     },
     "execution_count": 174,
     "metadata": {},
     "output_type": "execute_result"
    }
   ],
   "source": [
    "# total confirmed cases in Nebraska as of October 30th 2020 as per the dataset?\n",
    "covid[(covid['Province_State']=='Nebraska') & (covid['Date']=='10/30/2020')].Value.sum()"
   ]
  },
  {
   "cell_type": "markdown",
   "id": "9b27a973",
   "metadata": {},
   "source": [
    "b. On what date has the highest confirmed cases? Demonstrate using a suitable graph for all the available data.\n"
   ]
  },
  {
   "cell_type": "code",
   "execution_count": 253,
   "id": "b5f71a56",
   "metadata": {},
   "outputs": [
    {
     "name": "stderr",
     "output_type": "stream",
     "text": [
      "C:\\Users\\Asus\\AppData\\Local\\Temp\\ipykernel_9708\\2567363838.py:3: UserWarning: FixedFormatter should only be used together with FixedLocator\n",
      "  chart.set_xticklabels(chart.get_xticklabels(), rotation=45)\n"
     ]
    },
    {
     "data": {
      "image/png": "[encoded data removed]",
      "text/plain": [
       "<Figure size 640x480 with 1 Axes>"
      ]
     },
     "metadata": {},
     "output_type": "display_data"
    }
   ],
   "source": [
    "e=covid.groupby('Date').agg(all_case=('Value','sum')).reset_index()\n",
    "chart=sns.lineplot(data=e, x='Date',y='all_case')\n",
    "chart.set_xticklabels(chart.get_xticklabels(), rotation=45)\n",
    "plt.show()"
   ]
  },
  {
   "cell_type": "markdown",
   "id": "82bc1299",
   "metadata": {},
   "source": [
    "c. Which County has the highest daily confirmed cases? Report both the County name and the date\n"
   ]
  },
  {
   "cell_type": "code",
   "execution_count": 193,
   "id": "856370d5",
   "metadata": {},
   "outputs": [
    {
     "data": {
      "text/plain": [
       "Province_State             California\n",
       "Date              2022-12-22 00:00:00\n",
       "Name: 6395, dtype: object"
      ]
     },
     "execution_count": 193,
     "metadata": {},
     "output_type": "execute_result"
    }
   ],
   "source": [
    "f=covid.groupby(['Province_State','Date']).agg(all_case=('Value','sum')).reset_index()\n",
    "f.loc[f['all_case'].idxmax()][['Province_State','Date']]"
   ]
  },
  {
   "cell_type": "markdown",
   "id": "db5f161f",
   "metadata": {},
   "source": [
    "d. Identify two countries that have top total confirmed cases. Generate a time series plot of daily confirm cases for these two countries.\n"
   ]
  },
  {
   "cell_type": "code",
   "execution_count": 232,
   "id": "a4380686",
   "metadata": {},
   "outputs": [],
   "source": [
    "g=covid.groupby(['Province_State']).agg(all_case=('Value','sum')).reset_index()\n",
    "h=g.loc[g['all_case'].nlargest(2).index]\n"
   ]
  },
  {
   "cell_type": "code",
   "execution_count": 246,
   "id": "5663c98f-7f12-4902-8e1d-61d6f8133864",
   "metadata": {},
   "outputs": [],
   "source": [
    "l=covid[covid['Province_State']=='California']\n",
    "# l.groupby('Date').agg(val=('Value','sum')).reset_index()"
   ]
  },
  {
   "cell_type": "code",
   "execution_count": 239,
   "id": "34af6003-b67d-490e-b08f-a5ec10f2b792",
   "metadata": {},
   "outputs": [
    {
     "name": "stderr",
     "output_type": "stream",
     "text": [
      "No artists with labels found to put in legend.  Note that artists whose label start with an underscore are ignored when legend() is called with no argument.\n"
     ]
    },
    {
     "data": {
      "image/png": "[encoded data removed]",
      "text/plain": [
       "<Figure size 1400x800 with 1 Axes>"
      ]
     },
     "metadata": {},
     "output_type": "display_data"
    }
   ],
   "source": [
    "plt.figure(figsize=(14,8))\n",
    "\n",
    "l=covid[covid['Province_State']==h.iloc[0]['Province_State']]\n",
    "l=l.groupby('Date').agg(val=('Value','sum')).reset_index()\n",
    "sns.lineplot(data=l, x=l['Date'], y=l['val'])\n",
    "\n",
    "\n",
    "l=covid[covid['Province_State']==h.iloc[1]['Province_State']]\n",
    "l=l.groupby('Date').agg(val=('Value','sum')).reset_index()\n",
    "sns.lineplot(data=l, x=l['Date'], y=l['val'])\n",
    "\n",
    "\n",
    "plt.xticks(rotation = 60)\n",
    "plt.legend()\n",
    "plt.grid()"
   ]
  },
  {
   "cell_type": "markdown",
   "id": "f54baef0",
   "metadata": {},
   "source": [
    "e. Show the total confirmed cases for all the locations in an interactive world map (hint: you may use `leaflet` package in `python`.\n"
   ]
  },
  {
   "cell_type": "code",
   "execution_count": null,
   "id": "da907734",
   "metadata": {},
   "outputs": [],
   "source": [
    "# TODO"
   ]
  }
 ],
 "metadata": {
  "kernelspec": {
   "display_name": "Python 3 (ipykernel)",
   "language": "python",
   "name": "python3"
  },
  "language_info": {
   "codemirror_mode": {
    "name": "ipython",
    "version": 3
   },
   "file_extension": ".py",
   "mimetype": "text/x-python",
   "name": "python",
   "nbconvert_exporter": "python",
   "pygments_lexer": "ipython3",
   "version": "3.10.2"
  }
 },
 "nbformat": 4,
 "nbformat_minor": 5
}
