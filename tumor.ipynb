{
  "nbformat": 4,
  "nbformat_minor": 0,
  "metadata": {
    "colab": {
      "provenance": []
    },
    "kernelspec": {
      "name": "python3",
      "display_name": "Python 3"
    },
    "language_info": {
      "name": "python"
    }
  },
  "cells": [
    {
      "cell_type": "code",
      "source": [
        "import sklearn\n",
        "import tensorflow as tf\n",
        "from tensorflow.keras.layers import Conv2D, Input, ZeroPadding2D, BatchNormalization, Activation, MaxPooling2D, Dropout, Flatten, Dense\n",
        "from tensorflow.keras.models import Model, load_model, Sequential\n",
        "from tensorflow.keras.callbacks import TensorBoard, ModelCheckpoint\n",
        "from sklearn.model_selection import train_test_split\n",
        "from sklearn.metrics import f1_score\n",
        "from sklearn.utils import shuffle\n",
        "import cv2\n",
        "import imutils\n",
        "import numpy as np\n",
        "import matplotlib.pyplot as plt\n",
        "import time\n",
        "import os\n",
        "import seaborn as sns\n",
        "import random\n",
        "import pandas as pd"
      ],
      "metadata": {
        "id": "FgfiJ9732PX_"
      },
      "execution_count": 1,
      "outputs": []
    },
    {
      "cell_type": "code",
      "source": [
        "# This function both converts images to a blurred, standardized grayscale with standard pixel value between 0 and\n",
        "# 255\n",
        "\n",
        "def crop_contour_brain_img(image , plot=False):\n",
        "    grayscale = cv2.cvtColor(image , cv2.COLOR_BGR2GRAY)\n",
        "    grayscale = cv2.GaussianBlur(grayscale, (5,5), 0)\n",
        "    threshold_image = cv2.threshold(grayscale, 45, 255, cv2.THRESH_BINARY)[1]\n",
        "    threshold_image = cv2.erode(threshold_image, None, iterations=2)\n",
        "    threshold_image = cv2.dilate(threshold_image, None, iterations=2)\n",
        "    \n",
        "    contour = cv2.findContours(threshold_image.copy(), cv2.RETR_EXTERNAL, cv2.CHAIN_APPROX_SIMPLE)\n",
        "    contour = imutils.grab_contours(contour)\n",
        "    c=max(contour, key=cv2.contourArea)\n",
        "    \n",
        "    extreme_pnts_left = tuple(c[c[:,:,0].argmin()][0])\n",
        "    extreme_pnts_right = tuple(c[c[:,:,0].argmax()][0])\n",
        "    extreme_pnts_top = tuple(c[c[:,:,1].argmin()][0])\n",
        "    extreme_pnts_bottom = tuple(c[c[:,:,1].argmax()][0])\n",
        "    \n",
        "    new_image = image[extreme_pnts_top[1]:extreme_pnts_bottom[1], extreme_pnts_left[0]:extreme_pnts_right[0]]\n",
        "    return new_image;"
      ],
      "metadata": {
        "id": "L6OGkAhT2eHo"
      },
      "execution_count": 2,
      "outputs": []
    },
    {
      "cell_type": "code",
      "source": [
        "from google.colab import drive \n",
        "drive.mount('/content/drive') \n",
        "import pathlib \n",
        "path = pathlib.Path(\"/content/drive/MyDrive/data\") \n",
        "%cd /content/drive/MyDrive/data \n",
        "%ls"
      ],
      "metadata": {
        "colab": {
          "base_uri": "https://localhost:8080/"
        },
        "id": "lLZ74v9m62_v",
        "outputId": "45a7363c-64c8-46d2-de98-d1e7ff6101b7"
      },
      "execution_count": 6,
      "outputs": [
        {
          "output_type": "stream",
          "name": "stdout",
          "text": [
            "Drive already mounted at /content/drive; to attempt to forcibly remount, call drive.mount(\"/content/drive\", force_remount=True).\n",
            "/content/drive/MyDrive/data\n",
            " N16.jpg     'no 9.png'                               Y50.JPG   \u001b[0m\u001b[01;34myes\u001b[0m/\n",
            " \u001b[01;34mno\u001b[0m/          xgb-random-grid-search-results-01.csv   Y52.jpg\n",
            "'no 99.jpg'   Y117.JPG                                Y91.jpg\n"
          ]
        }
      ]
    },
    {
      "cell_type": "code",
      "source": [
        "DATADIR= path\n",
        "CATEGORIES = [\"no\", \"yes\"]"
      ],
      "metadata": {
        "id": "gUi5PQGH2hFQ"
      },
      "execution_count": 7,
      "outputs": []
    },
    {
      "cell_type": "code",
      "source": [
        "training_data=[]\n",
        "IMG_SIZE = 250\n",
        "def create_training_data():\n",
        "    for category in CATEGORIES:\n",
        "        path = os.path.join(DATADIR, category)\n",
        "        class_num = CATEGORIES.index(category)\n",
        "        for img in os.listdir(path):\n",
        "            try:\n",
        "                img_array = cv2.imread(os.path.join(path,img))\n",
        "                img_array = crop_contour_brain_img(img_array, True)\n",
        "                new_array = cv2.resize(img_array, (IMG_SIZE, IMG_SIZE))\n",
        "                training_data.append([new_array, class_num])\n",
        "            except:\n",
        "                print(img)\n",
        "                pass\n",
        "            \n",
        "create_training_data()"
      ],
      "metadata": {
        "id": "ymNRyIdS2kKL"
      },
      "execution_count": 8,
      "outputs": []
    },
    {
      "cell_type": "code",
      "source": [
        "random.shuffle(training_data)\n",
        "print(len(training_data))"
      ],
      "metadata": {
        "colab": {
          "base_uri": "https://localhost:8080/"
        },
        "id": "sTUypNsK9QkE",
        "outputId": "e5cec6c7-3c61-4f28-b920-d07e32951ea3"
      },
      "execution_count": 9,
      "outputs": [
        {
          "output_type": "stream",
          "name": "stdout",
          "text": [
            "246\n"
          ]
        }
      ]
    },
    {
      "cell_type": "code",
      "source": [
        "x=[]\n",
        "y=[]"
      ],
      "metadata": {
        "id": "EJmJuEYZ-OzD"
      },
      "execution_count": 10,
      "outputs": []
    },
    {
      "cell_type": "code",
      "source": [
        "for features, label in training_data:\n",
        "    x.append(features)\n",
        "    y.append(label)\n",
        "    \n",
        "x = np.array(x).reshape(-1, IMG_SIZE, IMG_SIZE, 3)\n",
        "\n",
        "print(len(x))\n",
        "print(len(y))"
      ],
      "metadata": {
        "colab": {
          "base_uri": "https://localhost:8080/"
        },
        "id": "uK17wNl2-QnG",
        "outputId": "3b252d60-51e0-44e2-8aec-239b1794ce7f"
      },
      "execution_count": 11,
      "outputs": [
        {
          "output_type": "stream",
          "name": "stdout",
          "text": [
            "246\n",
            "246\n"
          ]
        }
      ]
    },
    {
      "cell_type": "code",
      "source": [
        "np.unique(y)"
      ],
      "metadata": {
        "colab": {
          "base_uri": "https://localhost:8080/"
        },
        "id": "siuVNPDt-oE7",
        "outputId": "10e38401-8f47-4c39-c3ae-f124c9f1100d"
      },
      "execution_count": 12,
      "outputs": [
        {
          "output_type": "execute_result",
          "data": {
            "text/plain": [
              "array([0, 1])"
            ]
          },
          "metadata": {},
          "execution_count": 12
        }
      ]
    },
    {
      "cell_type": "code",
      "source": [
        "x = np.array(x)\n",
        "y= np.array(y)"
      ],
      "metadata": {
        "id": "r7MPwaY4-qMb"
      },
      "execution_count": 13,
      "outputs": []
    },
    {
      "cell_type": "code",
      "source": [
        "x = x.reshape(len(x),-1)"
      ],
      "metadata": {
        "id": "XiPluKrd-tKo"
      },
      "execution_count": 14,
      "outputs": []
    },
    {
      "cell_type": "code",
      "source": [
        "sns.histplot(y)"
      ],
      "metadata": {
        "colab": {
          "base_uri": "https://localhost:8080/",
          "height": 282
        },
        "id": "e9kn5neI-vD9",
        "outputId": "938bdc13-3b1b-4b89-e510-d7eba42d0e17"
      },
      "execution_count": 15,
      "outputs": [
        {
          "output_type": "execute_result",
          "data": {
            "text/plain": [
              "<matplotlib.axes._subplots.AxesSubplot at 0x7fed185bf0d0>"
            ]
          },
          "metadata": {},
          "execution_count": 15
        },
        {
          "output_type": "display_data",
          "data": {
            "text/plain": [
              "<Figure size 432x288 with 1 Axes>"
            ],
            "image/png": "[encoded data removed]"
          },
          "metadata": {
            "needs_background": "light"
          }
        }
      ]
    },
    {
      "cell_type": "code",
      "source": [
        "X_train, X_test, y_train, y_test = train_test_split(x, y, test_size=0.2, random_state=42 ,stratify =y )"
      ],
      "metadata": {
        "id": "0fV_VpbX-x5F"
      },
      "execution_count": 16,
      "outputs": []
    },
    {
      "cell_type": "code",
      "source": [
        "pca = PCA(n_components=0.98)\n",
        "X_train = pca.fit_transform(X_train)\n",
        "n_features=pca.n_components_\n",
        "\n",
        "n_features"
      ],
      "metadata": {
        "colab": {
          "base_uri": "https://localhost:8080/"
        },
        "id": "7Pm48TFNbY3K",
        "outputId": "77567614-5a6f-4f1a-efed-82ecb1b53a0d"
      },
      "execution_count": 19,
      "outputs": [
        {
          "output_type": "execute_result",
          "data": {
            "text/plain": [
              "142"
            ]
          },
          "metadata": {},
          "execution_count": 19
        }
      ]
    },
    {
      "cell_type": "code",
      "source": [
        "X_test = pca.transform(X_test)"
      ],
      "metadata": {
        "id": "ydzyQYJ9dFzX"
      },
      "execution_count": 20,
      "outputs": []
    },
    {
      "cell_type": "code",
      "source": [
        "from sklearn.linear_model import LogisticRegression ,SGDClassifier , Perceptron\n",
        "from sklearn.naive_bayes import GaussianNB\n",
        "from xgboost import XGBClassifier\n",
        "from sklearn.neighbors import KNeighborsClassifier\n",
        "from sklearn.tree import DecisionTreeClassifier\n",
        "from sklearn.svm import SVC\n",
        "from sklearn.ensemble import StackingClassifier\n",
        "from sklearn.pipeline import Pipeline\n",
        "from sklearn.pipeline import make_pipeline\n",
        "from sklearn.preprocessing import StandardScaler,MinMaxScaler\n",
        "from sklearn.model_selection import RepeatedStratifiedKFold\n",
        "\n",
        "from sklearn.metrics import confusion_matrix , accuracy_score ,classification_report\n",
        "from sklearn.metrics import  roc_curve,top_k_accuracy_score ,precision_score\n",
        "from sklearn.ensemble import RandomForestClassifier\n",
        "from sklearn.model_selection import GridSearchCV ,RandomizedSearchCV\n",
        "import xgboost as xgb\n",
        "from sklearn.decomposition import PCA\n",
        "from xgboost import XGBClassifier\n",
        "from sklearn.model_selection import StratifiedKFold\n",
        "from sklearn import decomposition"
      ],
      "metadata": {
        "id": "beCEoALo-1CH"
      },
      "execution_count": 21,
      "outputs": []
    },
    {
      "cell_type": "code",
      "source": [
        "m1 = 'SVC'\n",
        "svc = make_pipeline(StandardScaler(), SVC(kernel='poly',probability=True))\n",
        "svc_gridSearch = GridSearchCV(svc, param_grid={'svc__gamma': [ 0.01, 0.1, 1], \n",
        "                                                'svc__C': [0.1, 1]}, scoring='precision')\n",
        "\n",
        "svc_gridSearch.fit(X_train, y_train)\n",
        "svc_predicted = svc_gridSearch.predict(X_test)\n",
        "\n",
        "print(\"confussion matrix\")\n",
        "svc_conf_matrix = confusion_matrix(y_test, svc_predicted)\n",
        "print(svc_conf_matrix)\n",
        "\n",
        "print(\"\\n\")\n",
        "\n",
        "print(\"precision_score\")\n",
        "print(round(precision_score(y_test, svc_predicted),2) )\n",
        "# print(\"score\")\n",
        "# print(round(svc_gridSearch.score(y_test, svc_predicted),2) )"
      ],
      "metadata": {
        "colab": {
          "base_uri": "https://localhost:8080/"
        },
        "id": "oFbabeuh_MNB",
        "outputId": "df1f06b2-fd8b-4035-cfb9-9254a409dcc0"
      },
      "execution_count": 24,
      "outputs": [
        {
          "output_type": "stream",
          "name": "stdout",
          "text": [
            "confussion matrix\n",
            "[[19  0]\n",
            " [23  8]]\n",
            "\n",
            "\n",
            "precision_score\n",
            "1.0\n"
          ]
        }
      ]
    },
    {
      "cell_type": "code",
      "source": [
        "m2 = 'Naive Bayes'\n",
        "nb = GaussianNB()\n",
        "nb.fit(X_train,y_train)\n",
        "nbpred = nb.predict(X_test)\n",
        "\n",
        "print(\"confussion matrix\")\n",
        "nbpred_conf_matrix = confusion_matrix(y_test, nbpred)\n",
        "print(nbpred_conf_matrix)\n",
        "\n",
        "print(\"\\n\")\n",
        "\n",
        "print(\"precision_score\")\n",
        "print(round(precision_score(y_test, nbpred),2) )"
      ],
      "metadata": {
        "colab": {
          "base_uri": "https://localhost:8080/"
        },
        "id": "JON6U3AM_j7x",
        "outputId": "fc6b3007-486d-4d4c-9baf-8498c2dc7e4d"
      },
      "execution_count": 25,
      "outputs": [
        {
          "output_type": "stream",
          "name": "stdout",
          "text": [
            "confussion matrix\n",
            "[[15  4]\n",
            " [ 9 22]]\n",
            "\n",
            "\n",
            "precision_score\n",
            "0.85\n"
          ]
        }
      ]
    },
    {
      "cell_type": "code",
      "source": [
        "m3 = 'K-NeighborsClassifier'\n",
        "knn =Pipeline(steps=[('scaler', StandardScaler()),('knn', KNeighborsClassifier(n_neighbors=3))])\n",
        "\n",
        "grid_search=knn.fit(X_train,y_train)\n",
        "knn_predicted = grid_search.predict(X_test)\n",
        "\n",
        "\n",
        "print(\"confussion matrix\")\n",
        "knn_predicted_conf_matrix = confusion_matrix(y_test, knn_predicted)\n",
        "print(knn_predicted_conf_matrix)\n",
        "\n",
        "print(\"\\n\")\n",
        "\n",
        "print(\"precision_score\")\n",
        "print(round(precision_score(y_test, knn_predicted),2) )"
      ],
      "metadata": {
        "colab": {
          "base_uri": "https://localhost:8080/"
        },
        "id": "1yUcynHkAICg",
        "outputId": "66036826-820e-43da-d610-aab6daa641b9"
      },
      "execution_count": 26,
      "outputs": [
        {
          "output_type": "stream",
          "name": "stdout",
          "text": [
            "confussion matrix\n",
            "[[19  0]\n",
            " [28  3]]\n",
            "\n",
            "\n",
            "precision_score\n",
            "1.0\n"
          ]
        }
      ]
    },
    {
      "cell_type": "code",
      "source": [
        "m4 = 'Logistic Regression'\n",
        "log = GridSearchCV(make_pipeline(StandardScaler(), LogisticRegression(max_iter=1000)),\n",
        "                    param_grid={'logisticregression__C': [0.1, 10,100,500]},\n",
        "                    cv=2)\n",
        "log.fit(X_train, y_train)\n",
        "log_predict = log.predict(X_test)\n",
        "\n",
        "print(\"confussion matrix\")\n",
        "log_conf_matrix = confusion_matrix(y_test, log_predict)\n",
        "print(log_conf_matrix)\n",
        "\n",
        "print(\"\\n\")\n",
        "\n",
        "print(\"precision_score\")\n",
        "print(round(precision_score(y_test, log_predict),2) )"
      ],
      "metadata": {
        "colab": {
          "base_uri": "https://localhost:8080/"
        },
        "id": "b3BIepDEAMYF",
        "outputId": "3a2fed17-dc0d-43f8-de91-c91a500aa6ed"
      },
      "execution_count": 27,
      "outputs": [
        {
          "output_type": "stream",
          "name": "stdout",
          "text": [
            "confussion matrix\n",
            "[[11  8]\n",
            " [ 9 22]]\n",
            "\n",
            "\n",
            "precision_score\n",
            "0.73\n"
          ]
        }
      ]
    },
    {
      "cell_type": "code",
      "source": [
        "cv = RepeatedStratifiedKFold(n_splits=10, n_repeats=3, random_state=1)\n",
        "grids = dict()\n",
        "grids['eta0'] = [0.0001, 0.001, 0.01, 0.1, 1.0]\n",
        "search = GridSearchCV(Perceptron(), grids, scoring='accuracy', cv=cv, n_jobs=-1)\n",
        "search.fit(X_train, y_train)\n",
        "y_predict_perceptron = search.predict(X_test)\n",
        "\n",
        "print(\"confussion matrix\")\n",
        "Perceptron_predicted_conf_matrix = confusion_matrix(y_test, y_predict_perceptron)\n",
        "print(Perceptron_predicted_conf_matrix)\n",
        "\n",
        "print(\"\\n\")\n",
        "\n",
        "print(\"precision_score\")\n",
        "print(round(precision_score(y_test, y_predict_perceptron),2) )"
      ],
      "metadata": {
        "colab": {
          "base_uri": "https://localhost:8080/"
        },
        "id": "c8EL6PWqAUJv",
        "outputId": "d14b3eca-5989-4069-a6e6-f5414545afdb"
      },
      "execution_count": 28,
      "outputs": [
        {
          "output_type": "stream",
          "name": "stdout",
          "text": [
            "confussion matrix\n",
            "[[11  8]\n",
            " [10 21]]\n",
            "\n",
            "\n",
            "precision_score\n",
            "0.72\n"
          ]
        }
      ]
    },
    {
      "cell_type": "code",
      "source": [
        "svc_false_positive_rate,svc_true_positive_rate,svc_threshold = roc_curve(y_test,svc_predicted)\n",
        "log_false_positive_rate,log_true_positive_rate,log_threshold = roc_curve(y_test,log_predict)\n",
        "nb_false_positive_rate,nb_true_positive_rate,nb_threshold = roc_curve(y_test,nbpred)                             \n",
        "knn_false_positive_rate,knn_true_positive_rate,knn_threshold = roc_curve(y_test,knn_predicted)\n",
        "perc_false_positive_rate,perc_true_positive_rate,perc_threshold = roc_curve(y_test,y_predict_perceptron)\n",
        "#stack_false_positive_rate,stack_true_positive_rate,stack_threshold = roc_curve(y_test,y_predict_stacking)\n",
        "\n",
        "sns.set_style('whitegrid')\n",
        "plt.figure(figsize=(10,5))\n",
        "plt.title('Reciver Operating Characterstic Curve')\n",
        "plt.plot(svc_false_positive_rate,svc_true_positive_rate,label='SVC')\n",
        "plt.plot(log_false_positive_rate,log_true_positive_rate,label='Logistic Regression')\n",
        "plt.plot(nb_false_positive_rate,nb_true_positive_rate,label='Naive Bayes')\n",
        "plt.plot(knn_false_positive_rate,knn_true_positive_rate,label='KNN')\n",
        "plt.plot(perc_false_positive_rate,perc_true_positive_rate,label='Perceptron')\n",
        "#plt.plot(stack_false_positive_rate,stack_true_positive_rate,label='Stacking')\n",
        "\n",
        "plt.plot([0,1],ls='--')\n",
        "plt.plot([0,0],[1,0],c='.5')\n",
        "plt.plot([1,1],c='.5')\n",
        "plt.ylabel('True positive rate')\n",
        "plt.xlabel('False positive rate')\n",
        "plt.legend()\n",
        "plt.show()"
      ],
      "metadata": {
        "colab": {
          "base_uri": "https://localhost:8080/",
          "height": 350
        },
        "id": "gazihc4gBLna",
        "outputId": "2e5339e6-3efd-499d-8f22-30a8f6bd1313"
      },
      "execution_count": 29,
      "outputs": [
        {
          "output_type": "display_data",
          "data": {
            "text/plain": [
              "<Figure size 720x360 with 1 Axes>"
            ],
            "image/png": "[encoded data removed]"
          },
          "metadata": {}
        }
      ]
    },
    {
      "cell_type": "code",
      "source": [
        "model = XGBClassifier(class_weight='balanced')\n",
        "model.fit(X_train, y_train)\n",
        "model_predict = model.predict(X_test)\n",
        "\n",
        "print(\"confussion matrix\")\n",
        "model_conf_matrix = confusion_matrix(y_test, log_predict)\n",
        "print(model_conf_matrix)\n",
        "\n",
        "print(\"\\n\")\n",
        "\n",
        "print(\"precision_score\")\n",
        "print(round(precision_score(y_test, log_predict),2) )"
      ],
      "metadata": {
        "colab": {
          "base_uri": "https://localhost:8080/"
        },
        "id": "bzMvKw6OBqK1",
        "outputId": "0b1d9ba9-7b70-475c-9076-2f8ee8e2e61c"
      },
      "execution_count": 30,
      "outputs": [
        {
          "output_type": "stream",
          "name": "stdout",
          "text": [
            "confussion matrix\n",
            "[[11  8]\n",
            " [ 9 22]]\n",
            "\n",
            "\n",
            "precision_score\n",
            "0.73\n"
          ]
        }
      ]
    },
    {
      "cell_type": "code",
      "source": [
        "params = {\n",
        "        'min_child_weight': [0,0.01,0.1,0.2],\n",
        "        'gamma': [0.0001,0.001,0.01,0.1,0.5,0.7],\n",
        "        'subsample': [0.001,0.01,0.1,0.5,0.7],\n",
        "        'colsample_bytree': [0.1,0.3,0.6, 0.8, 1.0],\n",
        "        'max_depth': [5,10,15,20,25,30]\n",
        "        }\n",
        "xgb = XGBClassifier(learning_rate=0.02, n_estimators=20, silent=True, nthread=1, class_weight='balanced')\n",
        "\n",
        "folds = 3\n",
        "param_comb = 5\n",
        "\n",
        "skf = StratifiedKFold(n_splits=folds, shuffle = True, random_state = 1001)\n",
        "\n",
        "random_search = RandomizedSearchCV(xgb, param_distributions=params, n_iter=param_comb, scoring='roc_auc',\n",
        "                                   n_jobs=-1, cv=skf.split(X_train,y_train), verbose=3, random_state=1001 )\n",
        "\n",
        "random_search.fit(X_train, y_train)"
      ],
      "metadata": {
        "colab": {
          "base_uri": "https://localhost:8080/"
        },
        "id": "CLu6jDOjBtwj",
        "outputId": "3f4b3077-b76e-4017-f3eb-adbdf30fbce3"
      },
      "execution_count": 31,
      "outputs": [
        {
          "output_type": "stream",
          "name": "stdout",
          "text": [
            "Fitting 3 folds for each of 5 candidates, totalling 15 fits\n"
          ]
        },
        {
          "output_type": "execute_result",
          "data": {
            "text/plain": [
              "RandomizedSearchCV(cv=<generator object _BaseKFold.split at 0x7fed13697ba0>,\n",
              "                   estimator=XGBClassifier(class_weight='balanced',\n",
              "                                           learning_rate=0.02, n_estimators=20,\n",
              "                                           nthread=1, silent=True),\n",
              "                   n_iter=5, n_jobs=-1,\n",
              "                   param_distributions={'colsample_bytree': [0.1, 0.3, 0.6, 0.8,\n",
              "                                                             1.0],\n",
              "                                        'gamma': [0.0001, 0.001, 0.01, 0.1, 0.5,\n",
              "                                                  0.7],\n",
              "                                        'max_depth': [5, 10, 15, 20, 25, 30],\n",
              "                                        'min_child_weight': [0, 0.01, 0.1, 0.2],\n",
              "                                        'subsample': [0.001, 0.01, 0.1, 0.5,\n",
              "                                                      0.7]},\n",
              "                   random_state=1001, scoring='roc_auc', verbose=3)"
            ]
          },
          "metadata": {},
          "execution_count": 31
        }
      ]
    },
    {
      "cell_type": "code",
      "source": [
        "print('\\n All results:')\n",
        "print(random_search.cv_results_)\n",
        "print('\\n Best estimator:')\n",
        "print(random_search.best_estimator_)\n",
        "print('\\n Best normalized gini score for %d-fold search with %d parameter combinations:' % (folds, param_comb))\n",
        "print(random_search.best_score_ * 2 - 1)\n",
        "print('\\n Best hyperparameters:')\n",
        "print(random_search.best_params_)\n",
        "results = pd.DataFrame(random_search.cv_results_)\n",
        "results.to_csv('xgb-random-grid-search-results-01.csv', index=False)"
      ],
      "metadata": {
        "colab": {
          "base_uri": "https://localhost:8080/"
        },
        "id": "yB0f4fQjH6zm",
        "outputId": "9c7bd1cf-960b-4061-f7fc-7160c39a7de8"
      },
      "execution_count": 32,
      "outputs": [
        {
          "output_type": "stream",
          "name": "stdout",
          "text": [
            "\n",
            " All results:\n",
            "{'mean_fit_time': array([0.04428291, 0.10040053, 0.0397803 , 0.02106746, 0.08334819]), 'std_fit_time': array([0.01929446, 0.00460595, 0.00375646, 0.00098674, 0.01907835]), 'mean_score_time': array([0.00370542, 0.00285244, 0.00183431, 0.00288407, 0.00177272]), 'std_score_time': array([2.56980466e-03, 1.56939056e-03, 9.91856313e-05, 1.68367109e-03,\n",
            "       6.72214502e-05]), 'param_subsample': masked_array(data=[0.001, 0.5, 0.5, 0.01, 0.5],\n",
            "             mask=[False, False, False, False, False],\n",
            "       fill_value='?',\n",
            "            dtype=object), 'param_min_child_weight': masked_array(data=[0.01, 0.1, 0.1, 0.01, 0.2],\n",
            "             mask=[False, False, False, False, False],\n",
            "       fill_value='?',\n",
            "            dtype=object), 'param_max_depth': masked_array(data=[15, 20, 5, 15, 30],\n",
            "             mask=[False, False, False, False, False],\n",
            "       fill_value='?',\n",
            "            dtype=object), 'param_gamma': masked_array(data=[0.0001, 0.0001, 0.5, 0.01, 0.7],\n",
            "             mask=[False, False, False, False, False],\n",
            "       fill_value='?',\n",
            "            dtype=object), 'param_colsample_bytree': masked_array(data=[1.0, 1.0, 0.3, 0.1, 1.0],\n",
            "             mask=[False, False, False, False, False],\n",
            "       fill_value='?',\n",
            "            dtype=object), 'params': [{'subsample': 0.001, 'min_child_weight': 0.01, 'max_depth': 15, 'gamma': 0.0001, 'colsample_bytree': 1.0}, {'subsample': 0.5, 'min_child_weight': 0.1, 'max_depth': 20, 'gamma': 0.0001, 'colsample_bytree': 1.0}, {'subsample': 0.5, 'min_child_weight': 0.1, 'max_depth': 5, 'gamma': 0.5, 'colsample_bytree': 0.3}, {'subsample': 0.01, 'min_child_weight': 0.01, 'max_depth': 15, 'gamma': 0.01, 'colsample_bytree': 0.1}, {'subsample': 0.5, 'min_child_weight': 0.2, 'max_depth': 30, 'gamma': 0.7, 'colsample_bytree': 1.0}], 'split0_test_score': array([0.59807692, 0.70673077, 0.61634615, 0.5375    , 0.70769231]), 'split1_test_score': array([0.5425, 0.709 , 0.725 , 0.5605, 0.706 ]), 'split2_test_score': array([0.5   , 0.703 , 0.601 , 0.5845, 0.693 ]), 'mean_test_score': array([0.54685897, 0.70624359, 0.64744872, 0.56083333, 0.70223077]), 'std_test_score': array([0.0401582 , 0.00247359, 0.05519376, 0.01918912, 0.0065636 ]), 'rank_test_score': array([5, 1, 3, 4, 2], dtype=int32)}\n",
            "\n",
            " Best estimator:\n",
            "XGBClassifier(class_weight='balanced', colsample_bytree=1.0, gamma=0.0001,\n",
            "              learning_rate=0.02, max_depth=20, min_child_weight=0.1,\n",
            "              n_estimators=20, nthread=1, silent=True, subsample=0.5)\n",
            "\n",
            " Best normalized gini score for 3-fold search with 5 parameter combinations:\n",
            "0.4124871794871794\n",
            "\n",
            " Best hyperparameters:\n",
            "{'subsample': 0.5, 'min_child_weight': 0.1, 'max_depth': 20, 'gamma': 0.0001, 'colsample_bytree': 1.0}\n"
          ]
        }
      ]
    },
    {
      "cell_type": "code",
      "source": [
        "model = XGBClassifier(subsample=0.5,min_child_weight=0.1 , max_depth=20 ,gamma=0.0001,colsample_bytree=1  )\n",
        "model.fit(X_train, y_train)\n",
        "model_predict = model.predict(X_test)\n",
        "\n",
        "# model_predict = np.where(model_predict > 0.5, 1, 0)\n",
        "\n",
        "print(\"confussion matrix\")\n",
        "model_conf_matrix = confusion_matrix(y_test, model_predict)\n",
        "print(model_conf_matrix)\n",
        "\n",
        "print(\"\\n\")\n",
        "\n",
        "print(\"precision_score\")\n",
        "print(round(precision_score(y_test, model_predict),2) )"
      ],
      "metadata": {
        "colab": {
          "base_uri": "https://localhost:8080/"
        },
        "id": "f2KGbWs2HVXy",
        "outputId": "c90b78b8-0bd7-40c4-ce27-02a3fe744fff"
      },
      "execution_count": 34,
      "outputs": [
        {
          "output_type": "stream",
          "name": "stdout",
          "text": [
            "confussion matrix\n",
            "[[11  8]\n",
            " [ 6 25]]\n",
            "\n",
            "\n",
            "precision_score\n",
            "0.76\n"
          ]
        }
      ]
    },
    {
      "cell_type": "code",
      "source": [
        "from sklearn.ensemble import VotingClassifier\n",
        "estimators=[('model',model) , ('knn',log)]\n",
        "ensemble = VotingClassifier(estimators, voting='hard')"
      ],
      "metadata": {
        "id": "Mjc95g74Jsmq"
      },
      "execution_count": 35,
      "outputs": []
    },
    {
      "cell_type": "code",
      "source": [
        "ensemble.fit(X_train, y_train)\n",
        "ensemble.score(X_test, y_test)"
      ],
      "metadata": {
        "colab": {
          "base_uri": "https://localhost:8080/"
        },
        "id": "cP3BqaH-PK9n",
        "outputId": "f82e9d0c-8b52-4a35-fd14-9743c9398c7b"
      },
      "execution_count": 36,
      "outputs": [
        {
          "output_type": "execute_result",
          "data": {
            "text/plain": [
              "0.66"
            ]
          },
          "metadata": {},
          "execution_count": 36
        }
      ]
    },
    {
      "cell_type": "code",
      "source": [
        "model_predict = ensemble.predict(X_test)\n",
        "# model_predict = np.where(model_predict > 0.5, 1, 0)\n",
        "model_conf_matrix = confusion_matrix(y_test, model_predict)\n",
        "model_conf_matrix"
      ],
      "metadata": {
        "colab": {
          "base_uri": "https://localhost:8080/"
        },
        "id": "KcoONKxnSU5p",
        "outputId": "252dd059-9140-4ac2-e0f1-206587f62f3d"
      },
      "execution_count": 37,
      "outputs": [
        {
          "output_type": "execute_result",
          "data": {
            "text/plain": [
              "array([[13,  6],\n",
              "       [11, 20]])"
            ]
          },
          "metadata": {},
          "execution_count": 37
        }
      ]
    },
    {
      "cell_type": "code",
      "source": [
        "print(round(precision_score(y_test, model_predict),2) )"
      ],
      "metadata": {
        "colab": {
          "base_uri": "https://localhost:8080/"
        },
        "id": "cCV-Ye9LTUVL",
        "outputId": "af87be05-c2cd-4d1a-d3b7-4643d7786a6a"
      },
      "execution_count": 38,
      "outputs": [
        {
          "output_type": "stream",
          "name": "stdout",
          "text": [
            "0.77\n"
          ]
        }
      ]
    },
    {
      "cell_type": "markdown",
      "source": [
        "انتظار میرفت ایکس جی بوکس عملکرد بهتری داشته باشه ولی خوب نشد یا من بلد نبودم. و خیلی عجیبه که با تیون کردن بدتر میشه . چون مسپله تشخیص تومور هست و اگه به موقع تشخیص داده نشه خظرناک میشه  پرسیشن مهم هست که در اس وی سی و کی ان ان ۱۰۰ هست"
      ],
      "metadata": {
        "id": "zJuQxbwiB6Ft"
      }
    },
    {
      "cell_type": "code",
      "source": [],
      "metadata": {
        "id": "Kbhbx3toWF7l"
      },
      "execution_count": null,
      "outputs": []
    },
    {
      "cell_type": "code",
      "source": [],
      "metadata": {
        "id": "1Zms7iLECdRR"
      },
      "execution_count": null,
      "outputs": []
    }
  ]
}