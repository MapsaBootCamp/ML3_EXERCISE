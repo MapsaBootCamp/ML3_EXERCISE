{
 "cells": [
  {
   "cell_type": "markdown",
   "metadata": {
    "id": "OPWpWSXHJTSz"
   },
   "source": [
    "write  scarp python file that crawl this address https://www.theguardian.com/theguardian/series/the-quiz-thomas-eaton question and answers in each url \n",
    "\n",
    "- all things should run within python running file without runnig linux command\n",
    "- contents should save in csv file \n",
    "\n",
    "** look at csv_file to better understanding"
   ]
  },
  {
   "cell_type": "markdown",
   "metadata": {
    "id": "5h2BXTmGLnWp"
   },
   "source": [
    "### review\n"
   ]
  },
  {
   "cell_type": "markdown",
   "metadata": {
    "id": "z3S3qRThKz8Z"
   },
   "source": [
    "write linux command to run postgress docker with volume username password as environments and runs on port 5432\n",
    "\n",
    "after running it show containers and images that are running on your machine and past the screenshot of them here"
   ]
  },
  {
   "cell_type": "code",
   "execution_count": null,
   "metadata": {},
   "outputs": [],
   "source": [
    "docker volume create postgres-data"
   ]
  },
  {
   "cell_type": "code",
   "execution_count": null,
   "metadata": {},
   "outputs": [],
   "source": [
    "docker run --name exam5 -e POSTGRESS_PASSWORD=ex1234 -p 5432:5432 -d postgress"
   ]
  }
 ],
 "metadata": {
  "colab": {
   "provenance": []
  },
  "kernelspec": {
   "display_name": "Python 3",
   "language": "python",
   "name": "python3"
  },
  "language_info": {
   "codemirror_mode": {
    "name": "ipython",
    "version": 3
   },
   "file_extension": ".py",
   "mimetype": "text/x-python",
   "name": "python",
   "nbconvert_exporter": "python",
   "pygments_lexer": "ipython3",
   "version": "3.8.5"
  }
 },
 "nbformat": 4,
 "nbformat_minor": 1
}
