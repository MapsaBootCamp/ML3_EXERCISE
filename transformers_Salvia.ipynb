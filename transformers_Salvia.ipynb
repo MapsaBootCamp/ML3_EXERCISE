{
 "cells": [
  {
   "cell_type": "markdown",
   "metadata": {
    "id": "G9xxwb9WQqsO"
   },
   "source": [
    "### جواب های خود را به فارسی و زبان خود بنویسید"
   ]
  },
  {
   "cell_type": "markdown",
   "metadata": {
    "id": "rpwz9jmdDZ19"
   },
   "source": [
    "۱- برای چه کاری استفاده میشود و ایراد آن چیست word embeding از تکنیک"
   ]
  },
  {
   "cell_type": "markdown",
   "metadata": {},
   "source": [
    "برای هر کلمه یک بردار ایجاد می شود و مستقل از جمله و معنی کلمه و ارتباط آن با سایر کلمات در جمله این بردار ساخته می شود."
   ]
  },
  {
   "cell_type": "markdown",
   "metadata": {
    "id": "QTBRXKLVMmKE"
   },
   "source": [
    "۲- چیست self-attention منظور از "
   ]
  },
  {
   "cell_type": "markdown",
   "metadata": {},
   "source": [
    "تکنیک ساخت ماتریس برای یک جمله است در این ماتریس از طریق ضرب داخلی میزان\n",
    ".ارتباط هر کلمه با سایر کلمات آن جمله مشخص می شود"
   ]
  },
  {
   "cell_type": "markdown",
   "metadata": {
    "id": "cKKpBs4DP1qZ"
   },
   "source": [
    "۳- منظور از اصطلاح زیر چیست\n",
    "\n",
    "multi head attention\n",
    "\n",
    "position embeding"
   ]
  },
  {
   "cell_type": "markdown",
   "metadata": {},
   "source": [
    "مولتی هد اتنشن در واقع سه پارامتر کیو و کا و ولیو چند بار از لایه دنس عبور داده می شوند و وارد لایه اتنشن می شوند و خروجی با هم کانکت می شود\n",
    "\n",
    "پوزیشن امبدینگ در واقع عدد جایگاه هر کلمه در جمله را از طریق یک فرمول سینوسی به بازه منهای یک تا یک تبدیل می کند وسپس بردار کلمه ساخته می شود"
   ]
  },
  {
   "cell_type": "markdown",
   "metadata": {
    "id": "8pwpnOJJRxTH"
   },
   "source": [
    "۴- دو بخش اصلی ترنسفورمر ها چیست\n",
    "دو مدل زبر چگونه بوجود آمدند\n",
    "\n",
    "Bert gpt"
   ]
  },
  {
   "cell_type": "markdown",
   "metadata": {},
   "source": [
    "دو بخش انکودر و دیکودر\n",
    "\n",
    "برت از طریق قرار دادن چند انکودر و مدلسازی بر روی دیتاستی ساخته شده است و برای کلاسیفیکیشن و تحلیل احساسات کاربرد دارد\n",
    "\n",
    "جی پی تی از طریق قرار دادن چند دیکودر و قرار دادن چند دیکودر ساخته شده است"
   ]
  },
  {
   "cell_type": "code",
   "execution_count": null,
   "metadata": {},
   "outputs": [],
   "source": []
  }
 ],
 "metadata": {
  "colab": {
   "provenance": []
  },
  "kernelspec": {
   "display_name": "Python 3 (ipykernel)",
   "language": "python",
   "name": "python3"
  },
  "language_info": {
   "codemirror_mode": {
    "name": "ipython",
    "version": 3
   },
   "file_extension": ".py",
   "mimetype": "text/x-python",
   "name": "python",
   "nbconvert_exporter": "python",
   "pygments_lexer": "ipython3",
   "version": "3.10.2"
  }
 },
 "nbformat": 4,
 "nbformat_minor": 4
}
