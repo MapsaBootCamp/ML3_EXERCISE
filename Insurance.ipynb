{
 "cells": [
  {
   "cell_type": "code",
   "execution_count": 1,
   "id": "8f1117be-e96e-4848-8e5b-01162eea4459",
   "metadata": {},
   "outputs": [],
   "source": [
    "import numpy as np\n",
    "import pandas as pd\n",
    "import scipy as sp\n",
    "from pandas.api.types import CategoricalDtype\n",
    "\n"
   ]
  },
  {
   "cell_type": "code",
   "execution_count": 27,
   "id": "ca613798-3c5a-4d8e-9814-4cbbe03e1bbc",
   "metadata": {},
   "outputs": [
    {
     "data": {
      "text/plain": [
       "ChronicDiseases  TravelInsurance\n",
       "1                No                 278\n",
       "                 Yes                167\n",
       "dtype: int64"
      ]
     },
     "execution_count": 27,
     "metadata": {},
     "output_type": "execute_result"
    }
   ],
   "source": [
    "df=pd.read_csv('train.csv')\n",
    "df.head()\n"
   ]
  },
  {
   "cell_type": "code",
   "execution_count": 15,
   "id": "c90352f9-9c59-4492-b48f-ba5646247fd7",
   "metadata": {},
   "outputs": [
    {
     "name": "stdout",
     "output_type": "stream",
     "text": [
      "1590 10\n"
     ]
    }
   ],
   "source": [
    "print(f'{len(df.index)} {len(df.columns)}')"
   ]
  },
  {
   "cell_type": "code",
   "execution_count": 16,
   "id": "86daef4d-2bc2-4511-8839-f15862c139fd",
   "metadata": {},
   "outputs": [
    {
     "data": {
      "text/plain": [
       "928553"
      ]
     },
     "execution_count": 16,
     "metadata": {},
     "output_type": "execute_result"
    }
   ],
   "source": [
    "int(df['AnnualIncome'].mean())"
   ]
  },
  {
   "cell_type": "code",
   "execution_count": 17,
   "id": "1ff321ea-6278-43b7-9543-eff85f52c46a",
   "metadata": {},
   "outputs": [
    {
     "data": {
      "text/plain": [
       "302"
      ]
     },
     "execution_count": 17,
     "metadata": {},
     "output_type": "execute_result"
    }
   ],
   "source": [
    "\n",
    "df[df.EverTravelledAbroad=='Yes'].shape[0]"
   ]
  },
  {
   "cell_type": "code",
   "execution_count": 21,
   "id": "f15d3c7b-bf1e-447f-91a5-c8ea951f11f5",
   "metadata": {},
   "outputs": [
    {
     "name": "stdout",
     "output_type": "stream",
     "text": [
      "Private Sector/Self Employed 72.64150943396226\n"
     ]
    }
   ],
   "source": [
    "if df[df.EmploymentType=='Private Sector/Self Employed'].shape[0]<df[df.EmploymentType =='Government Sector'].shape[0]:\n",
    "    percent=(df[df.EmploymentType =='Government Sector'].shape[0]/len(df.index))*100\n",
    "    print('Government Sector',percent)\n",
    "else:\n",
    "    percent=(df[df.EmploymentType =='Private Sector/Self Employed'].shape[0]/len(df.index))*100\n",
    "    print('Private Sector/Self Employed',percent)\n",
    "    "
   ]
  },
  {
   "cell_type": "code",
   "execution_count": 47,
   "id": "b604ec01-cd48-403e-aba5-2263d5e07f87",
   "metadata": {},
   "outputs": [
    {
     "data": {
      "text/plain": [
       "37.53"
      ]
     },
     "execution_count": 47,
     "metadata": {},
     "output_type": "execute_result"
    }
   ],
   "source": [
    "percent_insurance_df=df.groupby(by=['ChronicDiseases','TravelInsurance']).size().drop(index=0)\n",
    "\n",
    "percent_insurance=(percent_insurance_df[1]['Yes']/percent_insurance_df.sum())*100\n",
    "percent_insurance.round(2)"
   ]
  },
  {
   "cell_type": "code",
   "execution_count": null,
   "id": "dc430be7-771d-450f-9da8-1a5322ed0140",
   "metadata": {},
   "outputs": [],
   "source": []
  }
 ],
 "metadata": {
  "kernelspec": {
   "display_name": "Python 3 (ipykernel)",
   "language": "python",
   "name": "python3"
  },
  "language_info": {
   "codemirror_mode": {
    "name": "ipython",
    "version": 3
   },
   "file_extension": ".py",
   "mimetype": "text/x-python",
   "name": "python",
   "nbconvert_exporter": "python",
   "pygments_lexer": "ipython3",
   "version": "3.9.12"
  }
 },
 "nbformat": 4,
 "nbformat_minor": 5
}
