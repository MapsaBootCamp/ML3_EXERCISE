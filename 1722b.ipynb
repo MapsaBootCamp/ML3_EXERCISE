{
  "metadata": {
    "language_info": {
      "codemirror_mode": {
        "name": "python",
        "version": 3
      },
      "file_extension": ".py",
      "mimetype": "text/x-python",
      "name": "python",
      "nbconvert_exporter": "python",
      "pygments_lexer": "ipython3",
      "version": "3.8"
    },
    "kernelspec": {
      "name": "python",
      "display_name": "Python (Pyodide)",
      "language": "python"
    }
  },
  "nbformat_minor": 4,
  "nbformat": 4,
  "cells": [
    {
      "cell_type": "code",
      "source": "# strlength=(input('plz length:'))\nstrlength=int(strlength)\n# str=input('str')\n\n\nstr='LRRRLLLRLLRL'\nstrlength=len(str)\n\ndef score(str):\n    score=0\n    for i in range(len(str)):        \n        if str[i] == 'L':\n            score +=i\n            # print(11,i,score,str)\n        else:\n            score +=len(str)- i-1       \n            # print(22,i,score)\n    return(score)\n\n\ndef eslah(str,k):\n    k=k-1\n    # print('k:',k)\n    if k == -2:\n        # print('str',str)\n        return(str)\n    \n    for j in range(int(strlength/2)):\n         \n        if str[j] == 'R':\n            if str[strlength-1- j] == 'R' :\n                str=str[:strlength-1- j]+'L'+str[strlength- j:] \n                # print('R:',j,str,'k:',k)\n                str=eslah(str,k)\n                break\n                \n        elif str[j] == 'L':                \n            str=str[:j]+'R'+str[j+1:]\n            # print('L:',j,str,'k:',k)\n            str=eslah(str,k)\n            break\n            \n    # print('str2',str,k)\n    return(str)\n\n\nresult=[]\nfor k in range(strlength):\n    # print(score(str))\n    str2=eslah(str,k)\n    # print('score:',score(str2), '-----newstr:',str2,'----------first str:',str,score(str),\"K:\",k+1)\n    result.append(score(str2))\nprint(result)\n",
      "metadata": {
        "trusted": true
      },
      "execution_count": 34,
      "outputs": [
        {
          "name": "stdout",
          "text": "[86, 95, 98, 101, 102, 102, 102, 102, 102, 102, 102, 102]\n",
          "output_type": "stream"
        }
      ]
    },
    {
      "cell_type": "code",
      "source": "",
      "metadata": {},
      "execution_count": null,
      "outputs": []
    }
  ]
}