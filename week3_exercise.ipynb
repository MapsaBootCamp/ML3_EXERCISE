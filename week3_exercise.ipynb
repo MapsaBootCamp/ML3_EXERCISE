{
 "cells": [
  {
   "cell_type": "markdown",
   "id": "bc7a40f1",
   "metadata": {},
   "source": [
    "<div dir = \"rtl\" style=\"direction:rtl;line-height:300%;\">\n",
    "\t<font face=\"XB Zar\" size=6 color=#F32500>\n",
    "        <div  align=center>\n",
    "            تمرین هفته سوم بوت کمپ یادگیری ماشین-\n",
    "            مپصا\n",
    "        </div>\n",
    "        <br/>\n",
    "    </font>\n",
    "</div>\n"
   ]
  },
  {
   "cell_type": "markdown",
   "id": "34113bfc",
   "metadata": {},
   "source": [
    "<div style=\"direction:rtl;line-height:300%;\">\n",
    "\t<font face=\"XB Zar\" size=4>\n",
    "\t\t<div align=center>\n",
    "\t\t\t<font face=\"IranNastaliq\" size=5>    \n",
    "                  چون عهده نمی‌شود کسی فردا را\n",
    "                <br><br>\n",
    "                 حالی خوش دار این دل پر سودا را\n",
    "                <br><br>\n",
    "                می نوش به ماهتاب ای ماه که ماه\n",
    "                <br><br>\n",
    "                بسیار بتابد و نیابد ما را        \t\t\t   \t\n",
    "                <p></p>\n",
    "\t\t\t</font>\n",
    "        </div>\n",
    "    </font>\n",
    "</div>\n"
   ]
  },
  {
   "cell_type": "code",
   "execution_count": 21,
   "id": "8e2eddaf",
   "metadata": {},
   "outputs": [],
   "source": [
    "import numpy as np\n",
    "import pandas as pd"
   ]
  },
  {
   "cell_type": "markdown",
   "id": "4278e1df",
   "metadata": {},
   "source": [
    "<div dir = \"rtl\" style=\"direction:rtl;line-height:300%;\">\n",
    "\t<font face=\"XB Zar\" size=4>\n",
    "\t\t<font color=red size=5>\n",
    "            سوال اول:‌\n",
    "            </font>\n",
    "        <font>\n",
    "            مجموعه داده های زیر را در نظر بگیرید\n",
    "        </font>\n",
    "        <br/>\n",
    "    </font>\n",
    "</div>"
   ]
  },
  {
   "cell_type": "code",
   "execution_count": 22,
   "id": "0cd2f85f",
   "metadata": {},
   "outputs": [
    {
     "data": {
      "text/plain": "array([ 4.5 ,  7.8 ,  6.5 ,  0.5 ,  8.  ,  6.5 , 19.  , 13.5 ,  2.5 ,\n       17.  , 19.  , 19.5 , 13.  , 12.21,  6.3 ,  0.5 ,  9.5 , 13.5 ,\n       16.  ,  2.5 , 10.5 ,  8.  , 10.  , 15.5 ,  7.5 ,  0.  ,  1.  ,\n       10.5 ,  2.  , 11.  ,  3.  , 14.  ,  3.5 , 18.5 , 13.  ,  1.  ,\n       14.5 , 15.  ,  1.52, 15.5 ,  1.5 ,  2.8 ,  3.5 ,  6.5 , 12.5 ,\n       14.5 , 11.5 ,  8.  , 10.2 ,  5.5 ,  0.5 , 23.  ,  5.  ,  0.5 ,\n       17.5 , 17.5 , 17.5 , 15.  ,  4.5 , 17.  , 18.  , 10.  ,  8.5 ,\n       14.  , 18.5 , 19.5 , 16.3 ,  8.5 ,  0.  ,  9.5 ,  6.  ,  2.  ,\n        5.  ,  9.5 ,  4.  ,  4.  ,  1.  ,  8.  , 18.5 , 18.  , 15.5 ,\n        4.5 ,  1.5 , 20.  ,  0.5 , 19.  ,  4.  ,  9.5 , 12.8 ])"
     },
     "execution_count": 22,
     "metadata": {},
     "output_type": "execute_result"
    }
   ],
   "source": [
    "numbers = np.array([ 4.5 , 7.8 ,  6.5,  0.5,  8. ,  6.5, 19. , 13.5,  2.5, 17. , 19. ,\n",
    "       19.5, 13. ,  12.21 ,  6.3 ,  0.5,  9.5, 13.5, 16. ,  2.5, 10.5,  8. ,\n",
    "       10. , 15.5,  7.5,  0. ,  1. , 10.5,  2. , 11. ,  3. , 14. ,  3.5,\n",
    "       18.5, 13. ,  1. , 14.5, 15. ,  1.52 , 15.5,  1.5,  2.8 ,  3.5,  6.5,\n",
    "        12.5, 14.5, 11.5,  8. ,  10.2 ,  5.5,  0.5, 23. ,  5. ,  0.5, 17.5,\n",
    "       17.5, 17.5, 15. ,  4.5, 17. , 18. , 10. ,  8.5, 14. , 18.5, 19.5,\n",
    "       16.3 ,  8.5,  0. ,  9.5,  6. ,  2. ,  5. ,  9.5,  4. ,  4. ,  1. ,\n",
    "        8. , 18.5, 18. , 15.5,  4.5,  1.5, 20. ,  0.5, 19. ,  4. ,  9.5,\n",
    "       12.8  ])\n",
    "numbers"
   ]
  },
  {
   "cell_type": "markdown",
   "id": "7efc90f4",
   "metadata": {
    "pycharm": {
     "name": "#%% md\n"
    }
   },
   "source": [
    "<div id=\"bayes\" style=\"direction:rtl;line-height:300%;\">\n",
    "\t<font face=\"XB Zar\" size=4>\n",
    "\t\t<p></p>\n",
    "        برای این مجموعه داده ها قصد داریم با دو فرمول زیر مقادیر آنها را تغییر دهیم:\n",
    "<br>\n",
    "۱. اگر عددی کمتر از هشت و نیم است با فرمول زیر آن عدد تغییر کند:\n",
    "<br>\n",
    "$$ y = 10 + \\frac{x}{10} $$\n",
    "<br>\n",
    "۲. اگر عددیبیشتر یا مساوی هشت و نیم است با فرمول زیر آن عدد تغییر کند :\n",
    "<br>\n",
    "$$ y =  -0.0051x^{2} + 0.8586x + 3.4332 $$\n",
    "<br>\n",
    "توجه کنید که حتی بعد از تغییر باید بیشینه عدد نهایتا بیشینه عدد موجود در داده فعلی باشد. 25 درصد داده های بزرگتر را در آرایه زیر بریزید\n",
    "</div>"
   ]
  },
  {
   "cell_type": "code",
   "execution_count": 23,
   "id": "ac7cc089",
   "metadata": {
    "collapsed": false,
    "jupyter": {
     "outputs_hidden": false
    },
    "pycharm": {
     "name": "#%%\n"
    }
   },
   "outputs": [
    {
     "data": {
      "text/plain": "23.0"
     },
     "execution_count": 23,
     "metadata": {},
     "output_type": "execute_result"
    }
   ],
   "source": [
    "np.max(numbers)"
   ]
  },
  {
   "cell_type": "code",
   "execution_count": 24,
   "id": "5ea9e500",
   "metadata": {
    "collapsed": false,
    "jupyter": {
     "outputs_hidden": false
    },
    "pycharm": {
     "name": "#%%\n"
    }
   },
   "outputs": [],
   "source": [
    "mask1=np.zeros(len(numbers))\n",
    "mask1[numbers<8.5] = 1\n",
    "mask2=np.zeros(len(numbers))\n",
    "mask2[numbers>=8.5] = 1"
   ]
  },
  {
   "cell_type": "code",
   "execution_count": 25,
   "id": "bf2d353b",
   "metadata": {
    "collapsed": false,
    "jupyter": {
     "outputs_hidden": false
    },
    "pycharm": {
     "name": "#%%\n"
    }
   },
   "outputs": [
    {
     "data": {
      "text/plain": "array([10.45      , 10.78      , 10.65      , 10.05      , 10.8       ,\n       10.65      , 17.9055    , 14.094825  , 10.25      , 16.5555    ,\n       17.9055    , 18.236625  , 13.7331    , 13.15637709, 10.63      ,\n       10.05      , 11.129625  , 14.094825  , 15.8652    , 10.25      ,\n       11.886225  , 10.8       , 11.5092    , 15.516225  , 10.75      ,\n       10.        , 10.1       , 11.886225  , 10.2       , 12.2607    ,\n       10.3       , 14.454     , 10.35      , 17.571825  , 13.7331    ,\n       10.1       , 14.810625  , 15.1647    , 10.152     , 15.516225  ,\n       10.15      , 10.28      , 10.35      , 10.65      , 13.368825  ,\n       14.810625  , 12.632625  , 10.8       , 11.660316  , 10.55      ,\n       10.05      , 20.4831    , 10.5       , 10.05      , 16.896825  ,\n       16.896825  , 16.896825  , 15.1647    , 10.45      , 16.5555    ,\n       17.2356    , 11.5092    , 10.362825  , 14.454     , 17.571825  ,\n       18.236625  , 16.073361  , 10.362825  , 10.        , 11.129625  ,\n       10.6       , 10.2       , 10.5       , 11.129625  , 10.4       ,\n       10.4       , 10.1       , 10.8       , 17.571825  , 17.2356    ,\n       15.516225  , 10.45      , 10.15      , 18.5652    , 10.05      ,\n       17.9055    , 10.4       , 11.129625  , 13.587696  ])"
     },
     "execution_count": 25,
     "metadata": {},
     "output_type": "execute_result"
    }
   ],
   "source": [
    "numbers_changed = mask1 * (numbers/10 + 10) + mask2 * (-0.0051 * numbers ** 2 + 0.8586 * numbers + 3.4332)\n",
    "numbers_changed"
   ]
  },
  {
   "cell_type": "code",
   "execution_count": 26,
   "id": "be0934fc-10cb-4a6b-b0a5-79cfa6853f52",
   "metadata": {},
   "outputs": [
    {
     "data": {
      "text/plain": "20.4831"
     },
     "execution_count": 26,
     "metadata": {},
     "output_type": "execute_result"
    }
   ],
   "source": [
    "np.max(numbers_changed)"
   ]
  },
  {
   "cell_type": "code",
   "execution_count": 27,
   "id": "8a95ca8a",
   "metadata": {
    "collapsed": false,
    "jupyter": {
     "outputs_hidden": false
    },
    "pycharm": {
     "name": "#%%\n"
    }
   },
   "outputs": [
    {
     "data": {
      "text/plain": "array([17.9055  , 16.5555  , 17.9055  , 18.236625, 15.8652  , 15.516225,\n       17.571825, 15.1647  , 15.516225, 20.4831  , 16.896825, 16.896825,\n       16.896825, 15.1647  , 16.5555  , 17.2356  , 17.571825, 18.236625,\n       16.073361, 17.571825, 17.2356  , 15.516225, 18.5652  , 17.9055  ])"
     },
     "execution_count": 27,
     "metadata": {},
     "output_type": "execute_result"
    }
   ],
   "source": [
    "top_new_twenty_five = numbers_changed[numbers_changed>=np.quantile(numbers_changed,0.75)]\n",
    "top_new_twenty_five"
   ]
  },
  {
   "cell_type": "markdown",
   "id": "b9adec40",
   "metadata": {},
   "source": [
    "<div id=\"bayes\" style=\"direction:rtl;line-height:300%;\">\n",
    "\t<font face=\"XB Zar\" size=4>\n",
    "\t\t<p></p>\n",
    " 25 درصد داده های کوچکتر آرایه اول را در آرایه زیر بریزید\n",
    "</div>"
   ]
  },
  {
   "cell_type": "code",
   "execution_count": 28,
   "id": "1a0edc19",
   "metadata": {},
   "outputs": [
    {
     "data": {
      "text/plain": "array([0.5 , 2.5 , 0.5 , 2.5 , 0.  , 1.  , 2.  , 3.  , 3.5 , 1.  , 1.52,\n       1.5 , 2.8 , 3.5 , 0.5 , 0.5 , 0.  , 2.  , 4.  , 4.  , 1.  , 1.5 ,\n       0.5 , 4.  ])"
     },
     "execution_count": 28,
     "metadata": {},
     "output_type": "execute_result"
    }
   ],
   "source": [
    "down_old_twenty_five = numbers[numbers<=np.quantile(numbers,0.25)]\n",
    "down_old_twenty_five"
   ]
  },
  {
   "cell_type": "markdown",
   "id": "16e79957",
   "metadata": {},
   "source": [
    "<div id=\"bayes\" style=\"direction:rtl;line-height:300%;\">\n",
    "\t<font face=\"XB Zar\" size=4>\n",
    "      <p></p>\n",
    "        داده های متناظر دو آرایه به دست آمده را از یکدیگر کسر کنید و در یک آرایه سه بعدی که اندازه ابعاد سوم و دوم آن یک میباشد بریزید\n",
    "</div>"
   ]
  },
  {
   "cell_type": "code",
   "execution_count": 29,
   "id": "ef14b5ba",
   "metadata": {},
   "outputs": [
    {
     "data": {
      "text/plain": "array([[[17.4055  ]],\n\n       [[14.0555  ]],\n\n       [[17.4055  ]],\n\n       [[15.736625]],\n\n       [[15.8652  ]],\n\n       [[14.516225]],\n\n       [[15.571825]],\n\n       [[12.1647  ]],\n\n       [[12.016225]],\n\n       [[19.4831  ]],\n\n       [[15.376825]],\n\n       [[15.396825]],\n\n       [[14.096825]],\n\n       [[11.6647  ]],\n\n       [[16.0555  ]],\n\n       [[16.7356  ]],\n\n       [[17.571825]],\n\n       [[16.236625]],\n\n       [[12.073361]],\n\n       [[13.571825]],\n\n       [[16.2356  ]],\n\n       [[14.016225]],\n\n       [[18.0652  ]],\n\n       [[13.9055  ]]])"
     },
     "execution_count": 29,
     "metadata": {},
     "output_type": "execute_result"
    }
   ],
   "source": [
    "new_array_three_dimension = np.ones((len(down_old_twenty_five),1,1))\n",
    "new_array_three_dimension[:,0,0] = top_new_twenty_five - down_old_twenty_five\n",
    "new_array_three_dimension"
   ]
  },
  {
   "cell_type": "markdown",
   "id": "2647fd09",
   "metadata": {},
   "source": [
    "<div dir = \"rtl\" style=\"direction:rtl;line-height:300%;\">\n",
    "\t<font face=\"XB Zar\" size=4>\n",
    "\t\t<font color=red size=5>\n",
    "            سوال دوم:‌\n",
    "        </font>\n",
    "در این تمرین قصد داریم به تحلیل داده های فیلم های برتر سینمای جهان به معیار imdb بپردازیم. ابتدا دادههای مربوط به فیلم را از فایل csv فراخوانی میکنیم\n",
    "        <br/>\n",
    "    </font>\n",
    "</div>"
   ]
  },
  {
   "cell_type": "code",
   "execution_count": 30,
   "id": "6ade0e6a",
   "metadata": {},
   "outputs": [
    {
     "data": {
      "text/plain": "     star_rating                                            title  \\\n0            9.3                         The Shawshank Redemption   \n1            9.2                                    The Godfather   \n2            9.1                           The Godfather: Part II   \n3            9.0                                  The Dark Knight   \n4            8.9                                     Pulp Fiction   \n..           ...                                              ...   \n974          7.4                                          Tootsie   \n975          7.4                      Back to the Future Part III   \n976          7.4  Master and Commander: The Far Side of the World   \n977          7.4                                      Poltergeist   \n978          7.4                                      Wall Street   \n\n    content_rating      genre  duration  \\\n0                R      Crime       142   \n1                R      Crime       175   \n2                R      Crime       200   \n3            PG-13     Action       152   \n4                R      Crime       154   \n..             ...        ...       ...   \n974             PG     Comedy       116   \n975             PG  Adventure       118   \n976          PG-13     Action       138   \n977             PG     Horror       114   \n978              R      Crime       126   \n\n                                           actors_list  \n0    [u'Tim Robbins', u'Morgan Freeman', u'Bob Gunt...  \n1      [u'Marlon Brando', u'Al Pacino', u'James Caan']  \n2    [u'Al Pacino', u'Robert De Niro', u'Robert Duv...  \n3    [u'Christian Bale', u'Heath Ledger', u'Aaron E...  \n4    [u'John Travolta', u'Uma Thurman', u'Samuel L....  \n..                                                 ...  \n974  [u'Dustin Hoffman', u'Jessica Lange', u'Teri G...  \n975  [u'Michael J. Fox', u'Christopher Lloyd', u'Ma...  \n976  [u'Russell Crowe', u'Paul Bettany', u'Billy Bo...  \n977  [u'JoBeth Williams', u\"Heather O'Rourke\", u'Cr...  \n978  [u'Charlie Sheen', u'Michael Douglas', u'Tamar...  \n\n[979 rows x 6 columns]",
      "text/html": "<div>\n<style scoped>\n    .dataframe tbody tr th:only-of-type {\n        vertical-align: middle;\n    }\n\n    .dataframe tbody tr th {\n        vertical-align: top;\n    }\n\n    .dataframe thead th {\n        text-align: right;\n    }\n</style>\n<table border=\"1\" class=\"dataframe\">\n  <thead>\n    <tr style=\"text-align: right;\">\n      <th></th>\n      <th>star_rating</th>\n      <th>title</th>\n      <th>content_rating</th>\n      <th>genre</th>\n      <th>duration</th>\n      <th>actors_list</th>\n    </tr>\n  </thead>\n  <tbody>\n    <tr>\n      <th>0</th>\n      <td>9.3</td>\n      <td>The Shawshank Redemption</td>\n      <td>R</td>\n      <td>Crime</td>\n      <td>142</td>\n      <td>[u'Tim Robbins', u'Morgan Freeman', u'Bob Gunt...</td>\n    </tr>\n    <tr>\n      <th>1</th>\n      <td>9.2</td>\n      <td>The Godfather</td>\n      <td>R</td>\n      <td>Crime</td>\n      <td>175</td>\n      <td>[u'Marlon Brando', u'Al Pacino', u'James Caan']</td>\n    </tr>\n    <tr>\n      <th>2</th>\n      <td>9.1</td>\n      <td>The Godfather: Part II</td>\n      <td>R</td>\n      <td>Crime</td>\n      <td>200</td>\n      <td>[u'Al Pacino', u'Robert De Niro', u'Robert Duv...</td>\n    </tr>\n    <tr>\n      <th>3</th>\n      <td>9.0</td>\n      <td>The Dark Knight</td>\n      <td>PG-13</td>\n      <td>Action</td>\n      <td>152</td>\n      <td>[u'Christian Bale', u'Heath Ledger', u'Aaron E...</td>\n    </tr>\n    <tr>\n      <th>4</th>\n      <td>8.9</td>\n      <td>Pulp Fiction</td>\n      <td>R</td>\n      <td>Crime</td>\n      <td>154</td>\n      <td>[u'John Travolta', u'Uma Thurman', u'Samuel L....</td>\n    </tr>\n    <tr>\n      <th>...</th>\n      <td>...</td>\n      <td>...</td>\n      <td>...</td>\n      <td>...</td>\n      <td>...</td>\n      <td>...</td>\n    </tr>\n    <tr>\n      <th>974</th>\n      <td>7.4</td>\n      <td>Tootsie</td>\n      <td>PG</td>\n      <td>Comedy</td>\n      <td>116</td>\n      <td>[u'Dustin Hoffman', u'Jessica Lange', u'Teri G...</td>\n    </tr>\n    <tr>\n      <th>975</th>\n      <td>7.4</td>\n      <td>Back to the Future Part III</td>\n      <td>PG</td>\n      <td>Adventure</td>\n      <td>118</td>\n      <td>[u'Michael J. Fox', u'Christopher Lloyd', u'Ma...</td>\n    </tr>\n    <tr>\n      <th>976</th>\n      <td>7.4</td>\n      <td>Master and Commander: The Far Side of the World</td>\n      <td>PG-13</td>\n      <td>Action</td>\n      <td>138</td>\n      <td>[u'Russell Crowe', u'Paul Bettany', u'Billy Bo...</td>\n    </tr>\n    <tr>\n      <th>977</th>\n      <td>7.4</td>\n      <td>Poltergeist</td>\n      <td>PG</td>\n      <td>Horror</td>\n      <td>114</td>\n      <td>[u'JoBeth Williams', u\"Heather O'Rourke\", u'Cr...</td>\n    </tr>\n    <tr>\n      <th>978</th>\n      <td>7.4</td>\n      <td>Wall Street</td>\n      <td>R</td>\n      <td>Crime</td>\n      <td>126</td>\n      <td>[u'Charlie Sheen', u'Michael Douglas', u'Tamar...</td>\n    </tr>\n  </tbody>\n</table>\n<p>979 rows × 6 columns</p>\n</div>"
     },
     "execution_count": 30,
     "metadata": {},
     "output_type": "execute_result"
    }
   ],
   "source": [
    "movies = pd.read_csv(\"imdb_movie_rank.csv\")\n",
    "movies"
   ]
  },
  {
   "cell_type": "code",
   "execution_count": 31,
   "id": "225ca042",
   "metadata": {},
   "outputs": [
    {
     "data": {
      "text/plain": "       star_rating    duration\ncount   979.000000  979.000000\nmean      7.889785  120.979571\nstd       0.336069   26.218010\nmin       7.400000   64.000000\n25%       7.600000  102.000000\n50%       7.800000  117.000000\n75%       8.100000  134.000000\nmax       9.300000  242.000000",
      "text/html": "<div>\n<style scoped>\n    .dataframe tbody tr th:only-of-type {\n        vertical-align: middle;\n    }\n\n    .dataframe tbody tr th {\n        vertical-align: top;\n    }\n\n    .dataframe thead th {\n        text-align: right;\n    }\n</style>\n<table border=\"1\" class=\"dataframe\">\n  <thead>\n    <tr style=\"text-align: right;\">\n      <th></th>\n      <th>star_rating</th>\n      <th>duration</th>\n    </tr>\n  </thead>\n  <tbody>\n    <tr>\n      <th>count</th>\n      <td>979.000000</td>\n      <td>979.000000</td>\n    </tr>\n    <tr>\n      <th>mean</th>\n      <td>7.889785</td>\n      <td>120.979571</td>\n    </tr>\n    <tr>\n      <th>std</th>\n      <td>0.336069</td>\n      <td>26.218010</td>\n    </tr>\n    <tr>\n      <th>min</th>\n      <td>7.400000</td>\n      <td>64.000000</td>\n    </tr>\n    <tr>\n      <th>25%</th>\n      <td>7.600000</td>\n      <td>102.000000</td>\n    </tr>\n    <tr>\n      <th>50%</th>\n      <td>7.800000</td>\n      <td>117.000000</td>\n    </tr>\n    <tr>\n      <th>75%</th>\n      <td>8.100000</td>\n      <td>134.000000</td>\n    </tr>\n    <tr>\n      <th>max</th>\n      <td>9.300000</td>\n      <td>242.000000</td>\n    </tr>\n  </tbody>\n</table>\n</div>"
     },
     "execution_count": 31,
     "metadata": {},
     "output_type": "execute_result"
    }
   ],
   "source": [
    "movies.describe()"
   ]
  },
  {
   "cell_type": "markdown",
   "id": "1dff48e1",
   "metadata": {},
   "source": [
    "\n",
    "<div dir = \"rtl\" style=\"direction:rtl;line-height:300%;\">\n",
    "\t<font face=\"XB Zar\" size=4>\n",
    "        در این دیتاست اگر داده ای وجود دارد که مقدار nullدارد سطرش را حذف کنید. \n",
    "        <br/>\n",
    "    </font>\n",
    "</div>"
   ]
  },
  {
   "cell_type": "code",
   "execution_count": 32,
   "outputs": [
    {
     "data": {
      "text/plain": "star_rating       0\ntitle             0\ncontent_rating    3\ngenre             0\nduration          0\nactors_list       0\ndtype: int64"
     },
     "execution_count": 32,
     "metadata": {},
     "output_type": "execute_result"
    }
   ],
   "source": [
    "movies.isnull().sum()"
   ],
   "metadata": {
    "collapsed": false,
    "pycharm": {
     "name": "#%%\n"
    }
   }
  },
  {
   "cell_type": "code",
   "execution_count": 33,
   "outputs": [],
   "source": [
    "movies.dropna(axis=0,inplace=True)"
   ],
   "metadata": {
    "collapsed": false,
    "pycharm": {
     "name": "#%%\n"
    }
   }
  },
  {
   "cell_type": "code",
   "execution_count": 34,
   "outputs": [
    {
     "data": {
      "text/plain": "    star_rating                                              title  \\\n0           9.3                           The Shawshank Redemption   \n1           9.2                                      The Godfather   \n2           9.1                             The Godfather: Part II   \n3           9.0                                    The Dark Knight   \n4           8.9                                       Pulp Fiction   \n5           8.9                                       12 Angry Men   \n6           8.9                     The Good, the Bad and the Ugly   \n7           8.9      The Lord of the Rings: The Return of the King   \n8           8.9                                   Schindler's List   \n9           8.9                                         Fight Club   \n10          8.8  The Lord of the Rings: The Fellowship of the Ring   \n11          8.8                                          Inception   \n12          8.8     Star Wars: Episode V - The Empire Strikes Back   \n13          8.8                                       Forrest Gump   \n14          8.8              The Lord of the Rings: The Two Towers   \n15          8.7                                       Interstellar   \n16          8.7                    One Flew Over the Cuckoo's Nest   \n17          8.7                                      Seven Samurai   \n18          8.7                                         Goodfellas   \n19          8.7                                          Star Wars   \n20          8.7                                         The Matrix   \n21          8.7                                        City of God   \n22          8.7                              It's a Wonderful Life   \n23          8.7                                 The Usual Suspects   \n24          8.7                                              Se7en   \n25          8.6                                  Life Is Beautiful   \n26          8.6                       Once Upon a Time in the West   \n27          8.6                           The Silence of the Lambs   \n28          8.6                             Leon: The Professional   \n29          8.6                                        City Lights   \n\n   content_rating      genre  duration  \\\n0               R      Crime       142   \n1               R      Crime       175   \n2               R      Crime       200   \n3           PG-13     Action       152   \n4               R      Crime       154   \n5       NOT RATED      Drama        96   \n6       NOT RATED    Western       161   \n7           PG-13  Adventure       201   \n8               R  Biography       195   \n9               R      Drama       139   \n10          PG-13  Adventure       178   \n11          PG-13     Action       148   \n12             PG     Action       124   \n13          PG-13      Drama       142   \n14          PG-13  Adventure       179   \n15          PG-13  Adventure       169   \n16              R      Drama       133   \n17        UNRATED      Drama       207   \n18              R  Biography       146   \n19             PG     Action       121   \n20              R     Action       136   \n21              R      Crime       130   \n22       APPROVED      Drama       130   \n23              R      Crime       106   \n24              R      Drama       127   \n25          PG-13     Comedy       116   \n26          PG-13    Western       175   \n27              R      Drama       118   \n28              R      Crime       110   \n29         PASSED     Comedy        87   \n\n                                          actors_list  \n0   [u'Tim Robbins', u'Morgan Freeman', u'Bob Gunt...  \n1     [u'Marlon Brando', u'Al Pacino', u'James Caan']  \n2   [u'Al Pacino', u'Robert De Niro', u'Robert Duv...  \n3   [u'Christian Bale', u'Heath Ledger', u'Aaron E...  \n4   [u'John Travolta', u'Uma Thurman', u'Samuel L....  \n5   [u'Henry Fonda', u'Lee J. Cobb', u'Martin Bals...  \n6   [u'Clint Eastwood', u'Eli Wallach', u'Lee Van ...  \n7   [u'Elijah Wood', u'Viggo Mortensen', u'Ian McK...  \n8   [u'Liam Neeson', u'Ralph Fiennes', u'Ben Kings...  \n9   [u'Brad Pitt', u'Edward Norton', u'Helena Bonh...  \n10  [u'Elijah Wood', u'Ian McKellen', u'Orlando Bl...  \n11  [u'Leonardo DiCaprio', u'Joseph Gordon-Levitt'...  \n12  [u'Mark Hamill', u'Harrison Ford', u'Carrie Fi...  \n13    [u'Tom Hanks', u'Robin Wright', u'Gary Sinise']  \n14  [u'Elijah Wood', u'Ian McKellen', u'Viggo Mort...  \n15  [u'Matthew McConaughey', u'Anne Hathaway', u'J...  \n16  [u'Jack Nicholson', u'Louise Fletcher', u'Mich...  \n17  [u'Toshir\\xf4 Mifune', u'Takashi Shimura', u'K...  \n18   [u'Robert De Niro', u'Ray Liotta', u'Joe Pesci']  \n19  [u'Mark Hamill', u'Harrison Ford', u'Carrie Fi...  \n20  [u'Keanu Reeves', u'Laurence Fishburne', u'Car...  \n21  [u'Alexandre Rodrigues', u'Matheus Nachtergael...  \n22  [u'James Stewart', u'Donna Reed', u'Lionel Bar...  \n23  [u'Kevin Spacey', u'Gabriel Byrne', u'Chazz Pa...  \n24  [u'Morgan Freeman', u'Brad Pitt', u'Kevin Spac...  \n25  [u'Roberto Benigni', u'Nicoletta Braschi', u'G...  \n26  [u'Henry Fonda', u'Charles Bronson', u'Claudia...  \n27  [u'Jodie Foster', u'Anthony Hopkins', u'Lawren...  \n28  [u'Jean Reno', u'Gary Oldman', u'Natalie Portm...  \n29  [u'Charles Chaplin', u'Virginia Cherrill', u'F...  ",
      "text/html": "<div>\n<style scoped>\n    .dataframe tbody tr th:only-of-type {\n        vertical-align: middle;\n    }\n\n    .dataframe tbody tr th {\n        vertical-align: top;\n    }\n\n    .dataframe thead th {\n        text-align: right;\n    }\n</style>\n<table border=\"1\" class=\"dataframe\">\n  <thead>\n    <tr style=\"text-align: right;\">\n      <th></th>\n      <th>star_rating</th>\n      <th>title</th>\n      <th>content_rating</th>\n      <th>genre</th>\n      <th>duration</th>\n      <th>actors_list</th>\n    </tr>\n  </thead>\n  <tbody>\n    <tr>\n      <th>0</th>\n      <td>9.3</td>\n      <td>The Shawshank Redemption</td>\n      <td>R</td>\n      <td>Crime</td>\n      <td>142</td>\n      <td>[u'Tim Robbins', u'Morgan Freeman', u'Bob Gunt...</td>\n    </tr>\n    <tr>\n      <th>1</th>\n      <td>9.2</td>\n      <td>The Godfather</td>\n      <td>R</td>\n      <td>Crime</td>\n      <td>175</td>\n      <td>[u'Marlon Brando', u'Al Pacino', u'James Caan']</td>\n    </tr>\n    <tr>\n      <th>2</th>\n      <td>9.1</td>\n      <td>The Godfather: Part II</td>\n      <td>R</td>\n      <td>Crime</td>\n      <td>200</td>\n      <td>[u'Al Pacino', u'Robert De Niro', u'Robert Duv...</td>\n    </tr>\n    <tr>\n      <th>3</th>\n      <td>9.0</td>\n      <td>The Dark Knight</td>\n      <td>PG-13</td>\n      <td>Action</td>\n      <td>152</td>\n      <td>[u'Christian Bale', u'Heath Ledger', u'Aaron E...</td>\n    </tr>\n    <tr>\n      <th>4</th>\n      <td>8.9</td>\n      <td>Pulp Fiction</td>\n      <td>R</td>\n      <td>Crime</td>\n      <td>154</td>\n      <td>[u'John Travolta', u'Uma Thurman', u'Samuel L....</td>\n    </tr>\n    <tr>\n      <th>5</th>\n      <td>8.9</td>\n      <td>12 Angry Men</td>\n      <td>NOT RATED</td>\n      <td>Drama</td>\n      <td>96</td>\n      <td>[u'Henry Fonda', u'Lee J. Cobb', u'Martin Bals...</td>\n    </tr>\n    <tr>\n      <th>6</th>\n      <td>8.9</td>\n      <td>The Good, the Bad and the Ugly</td>\n      <td>NOT RATED</td>\n      <td>Western</td>\n      <td>161</td>\n      <td>[u'Clint Eastwood', u'Eli Wallach', u'Lee Van ...</td>\n    </tr>\n    <tr>\n      <th>7</th>\n      <td>8.9</td>\n      <td>The Lord of the Rings: The Return of the King</td>\n      <td>PG-13</td>\n      <td>Adventure</td>\n      <td>201</td>\n      <td>[u'Elijah Wood', u'Viggo Mortensen', u'Ian McK...</td>\n    </tr>\n    <tr>\n      <th>8</th>\n      <td>8.9</td>\n      <td>Schindler's List</td>\n      <td>R</td>\n      <td>Biography</td>\n      <td>195</td>\n      <td>[u'Liam Neeson', u'Ralph Fiennes', u'Ben Kings...</td>\n    </tr>\n    <tr>\n      <th>9</th>\n      <td>8.9</td>\n      <td>Fight Club</td>\n      <td>R</td>\n      <td>Drama</td>\n      <td>139</td>\n      <td>[u'Brad Pitt', u'Edward Norton', u'Helena Bonh...</td>\n    </tr>\n    <tr>\n      <th>10</th>\n      <td>8.8</td>\n      <td>The Lord of the Rings: The Fellowship of the Ring</td>\n      <td>PG-13</td>\n      <td>Adventure</td>\n      <td>178</td>\n      <td>[u'Elijah Wood', u'Ian McKellen', u'Orlando Bl...</td>\n    </tr>\n    <tr>\n      <th>11</th>\n      <td>8.8</td>\n      <td>Inception</td>\n      <td>PG-13</td>\n      <td>Action</td>\n      <td>148</td>\n      <td>[u'Leonardo DiCaprio', u'Joseph Gordon-Levitt'...</td>\n    </tr>\n    <tr>\n      <th>12</th>\n      <td>8.8</td>\n      <td>Star Wars: Episode V - The Empire Strikes Back</td>\n      <td>PG</td>\n      <td>Action</td>\n      <td>124</td>\n      <td>[u'Mark Hamill', u'Harrison Ford', u'Carrie Fi...</td>\n    </tr>\n    <tr>\n      <th>13</th>\n      <td>8.8</td>\n      <td>Forrest Gump</td>\n      <td>PG-13</td>\n      <td>Drama</td>\n      <td>142</td>\n      <td>[u'Tom Hanks', u'Robin Wright', u'Gary Sinise']</td>\n    </tr>\n    <tr>\n      <th>14</th>\n      <td>8.8</td>\n      <td>The Lord of the Rings: The Two Towers</td>\n      <td>PG-13</td>\n      <td>Adventure</td>\n      <td>179</td>\n      <td>[u'Elijah Wood', u'Ian McKellen', u'Viggo Mort...</td>\n    </tr>\n    <tr>\n      <th>15</th>\n      <td>8.7</td>\n      <td>Interstellar</td>\n      <td>PG-13</td>\n      <td>Adventure</td>\n      <td>169</td>\n      <td>[u'Matthew McConaughey', u'Anne Hathaway', u'J...</td>\n    </tr>\n    <tr>\n      <th>16</th>\n      <td>8.7</td>\n      <td>One Flew Over the Cuckoo's Nest</td>\n      <td>R</td>\n      <td>Drama</td>\n      <td>133</td>\n      <td>[u'Jack Nicholson', u'Louise Fletcher', u'Mich...</td>\n    </tr>\n    <tr>\n      <th>17</th>\n      <td>8.7</td>\n      <td>Seven Samurai</td>\n      <td>UNRATED</td>\n      <td>Drama</td>\n      <td>207</td>\n      <td>[u'Toshir\\xf4 Mifune', u'Takashi Shimura', u'K...</td>\n    </tr>\n    <tr>\n      <th>18</th>\n      <td>8.7</td>\n      <td>Goodfellas</td>\n      <td>R</td>\n      <td>Biography</td>\n      <td>146</td>\n      <td>[u'Robert De Niro', u'Ray Liotta', u'Joe Pesci']</td>\n    </tr>\n    <tr>\n      <th>19</th>\n      <td>8.7</td>\n      <td>Star Wars</td>\n      <td>PG</td>\n      <td>Action</td>\n      <td>121</td>\n      <td>[u'Mark Hamill', u'Harrison Ford', u'Carrie Fi...</td>\n    </tr>\n    <tr>\n      <th>20</th>\n      <td>8.7</td>\n      <td>The Matrix</td>\n      <td>R</td>\n      <td>Action</td>\n      <td>136</td>\n      <td>[u'Keanu Reeves', u'Laurence Fishburne', u'Car...</td>\n    </tr>\n    <tr>\n      <th>21</th>\n      <td>8.7</td>\n      <td>City of God</td>\n      <td>R</td>\n      <td>Crime</td>\n      <td>130</td>\n      <td>[u'Alexandre Rodrigues', u'Matheus Nachtergael...</td>\n    </tr>\n    <tr>\n      <th>22</th>\n      <td>8.7</td>\n      <td>It's a Wonderful Life</td>\n      <td>APPROVED</td>\n      <td>Drama</td>\n      <td>130</td>\n      <td>[u'James Stewart', u'Donna Reed', u'Lionel Bar...</td>\n    </tr>\n    <tr>\n      <th>23</th>\n      <td>8.7</td>\n      <td>The Usual Suspects</td>\n      <td>R</td>\n      <td>Crime</td>\n      <td>106</td>\n      <td>[u'Kevin Spacey', u'Gabriel Byrne', u'Chazz Pa...</td>\n    </tr>\n    <tr>\n      <th>24</th>\n      <td>8.7</td>\n      <td>Se7en</td>\n      <td>R</td>\n      <td>Drama</td>\n      <td>127</td>\n      <td>[u'Morgan Freeman', u'Brad Pitt', u'Kevin Spac...</td>\n    </tr>\n    <tr>\n      <th>25</th>\n      <td>8.6</td>\n      <td>Life Is Beautiful</td>\n      <td>PG-13</td>\n      <td>Comedy</td>\n      <td>116</td>\n      <td>[u'Roberto Benigni', u'Nicoletta Braschi', u'G...</td>\n    </tr>\n    <tr>\n      <th>26</th>\n      <td>8.6</td>\n      <td>Once Upon a Time in the West</td>\n      <td>PG-13</td>\n      <td>Western</td>\n      <td>175</td>\n      <td>[u'Henry Fonda', u'Charles Bronson', u'Claudia...</td>\n    </tr>\n    <tr>\n      <th>27</th>\n      <td>8.6</td>\n      <td>The Silence of the Lambs</td>\n      <td>R</td>\n      <td>Drama</td>\n      <td>118</td>\n      <td>[u'Jodie Foster', u'Anthony Hopkins', u'Lawren...</td>\n    </tr>\n    <tr>\n      <th>28</th>\n      <td>8.6</td>\n      <td>Leon: The Professional</td>\n      <td>R</td>\n      <td>Crime</td>\n      <td>110</td>\n      <td>[u'Jean Reno', u'Gary Oldman', u'Natalie Portm...</td>\n    </tr>\n    <tr>\n      <th>29</th>\n      <td>8.6</td>\n      <td>City Lights</td>\n      <td>PASSED</td>\n      <td>Comedy</td>\n      <td>87</td>\n      <td>[u'Charles Chaplin', u'Virginia Cherrill', u'F...</td>\n    </tr>\n  </tbody>\n</table>\n</div>"
     },
     "execution_count": 34,
     "metadata": {},
     "output_type": "execute_result"
    }
   ],
   "source": [
    "movies.head(30)"
   ],
   "metadata": {
    "collapsed": false,
    "pycharm": {
     "name": "#%%\n"
    }
   }
  },
  {
   "cell_type": "code",
   "execution_count": 35,
   "id": "9f686ea6",
   "metadata": {},
   "outputs": [
    {
     "data": {
      "text/plain": "star_rating       0\ntitle             0\ncontent_rating    0\ngenre             0\nduration          0\nactors_list       0\ndtype: int64"
     },
     "execution_count": 35,
     "metadata": {},
     "output_type": "execute_result"
    }
   ],
   "source": [
    "movies.isnull().sum()"
   ]
  },
  {
   "cell_type": "markdown",
   "id": "e481f9cc",
   "metadata": {},
   "source": [
    "<div dir = \"rtl\" style=\"direction:rtl;line-height:300%;\">\n",
    "\t<font face=\"XB Zar\" size=4>\n",
    "        فیلم ها را براساس مدت زمان فیلم به صورت نزولی مرتب کنید و پنجاه تای اول را در فایل csv با نام long_time ذخیره کنید \n",
    "        <br/>\n",
    "    </font>\n",
    "</div>"
   ]
  },
  {
   "cell_type": "code",
   "execution_count": 36,
   "outputs": [],
   "source": [
    "movies.sort_values(by=\"duration\",ascending=False).head(50).to_csv(\"long_time.csv\",header=True,index=False)"
   ],
   "metadata": {
    "collapsed": false,
    "pycharm": {
     "name": "#%%\n"
    }
   }
  },
  {
   "cell_type": "code",
   "execution_count": 37,
   "outputs": [
    {
     "data": {
      "text/plain": "    star_rating                                              title  \\\n0           7.8                                             Hamlet   \n1           8.2                                 Gone with the Wind   \n2           8.4                        Once Upon a Time in America   \n3           8.3                  Lagaan: Once Upon a Time in India   \n4           7.9                               The Ten Commandments   \n5           8.4                                 Lawrence of Arabia   \n6           8.1                                            Ben-Hur   \n7           8.7                                      Seven Samurai   \n8           7.6                    It's a Mad, Mad, Mad, Mad World   \n9           7.7                                          Malcolm X   \n10          8.9      The Lord of the Rings: The Return of the King   \n11          9.1                             The Godfather: Part II   \n12          8.0                                     Doctor Zhivago   \n13          8.0                                          Spartacus   \n14          8.9                                   Schindler's List   \n15          7.7                                            Titanic   \n16          7.9                                    The Right Stuff   \n17          8.1                                             Gandhi   \n18          7.7                                         Grindhouse   \n19          8.5                                     The Green Mile   \n20          8.4                                             Swades   \n21          8.0                                                JFK   \n22          8.0                                           Magnolia   \n23          8.2                                Fanny and Alexander   \n24          7.7                                         Short Cuts   \n25          8.3                              Judgment at Nuremberg   \n26          8.1                                       Barry Lyndon   \n27          8.3                                     Dil Chahta Hai   \n28          8.2                                    The Deer Hunter   \n29          8.0                                 Dances with Wolves   \n30          8.4                        Dilwale Dulhania Le Jayenge   \n31          8.0                                Fiddler on the Roof   \n32          8.2                            The Wolf of Wall Street   \n33          8.8              The Lord of the Rings: The Two Towers   \n34          7.9                          Blue Is the Warmest Color   \n35          8.8  The Lord of the Rings: The Fellowship of the Ring   \n36          7.8                                    The Longest Day   \n37          8.2                                             Casino   \n38          8.0                                           Dogville   \n39          8.4                                         Braveheart   \n40          9.2                                      The Godfather   \n41          7.4                                   A Bridge Too Far   \n42          8.6                       Once Upon a Time in the West   \n43          8.0                                 The Sound of Music   \n44          8.1                                      La Dolce Vita   \n45          8.2                        The Best Years of Our Lives   \n46          8.0                                             Patton   \n47          8.3                                   The Great Escape   \n48          7.5                                        Cloud Atlas   \n49          7.5                                        The Aviator   \n\n   content_rating      genre  duration  \\\n0           PG-13      Drama       242   \n1               G      Drama       238   \n2               R      Crime       229   \n3              PG  Adventure       224   \n4        APPROVED  Adventure       220   \n5              PG  Adventure       216   \n6               G  Adventure       212   \n7         UNRATED      Drama       207   \n8        APPROVED     Action       205   \n9           PG-13  Biography       202   \n10          PG-13  Adventure       201   \n11              R      Crime       200   \n12          PG-13      Drama       197   \n13          PG-13     Action       197   \n14              R  Biography       195   \n15          PG-13      Drama       194   \n16              R  Adventure       193   \n17             PG  Biography       191   \n18              R     Action       191   \n19              R      Crime       189   \n20      NOT RATED      Drama       189   \n21              R      Drama       189   \n22              R      Drama       188   \n23              R      Drama       188   \n24              R     Comedy       187   \n25      NOT RATED      Drama       186   \n26             PG  Adventure       184   \n27      NOT RATED     Comedy       183   \n28              R      Drama       182   \n29          PG-13  Adventure       181   \n30      NOT RATED     Comedy       181   \n31              G      Drama       181   \n32              R  Biography       180   \n33          PG-13  Adventure       179   \n34          NC-17      Drama       179   \n35          PG-13  Adventure       178   \n36              G     Action       178   \n37              R  Biography       178   \n38              R      Crime       178   \n39              R     Action       177   \n40              R      Crime       175   \n41             PG      Drama       175   \n42          PG-13    Western       175   \n43              G  Biography       174   \n44      NOT RATED     Comedy       174   \n45         PASSED      Drama       172   \n46             GP  Biography       172   \n47        UNRATED  Adventure       172   \n48              R      Drama       172   \n49          PG-13  Biography       170   \n\n                                          actors_list  \n0   [u'Kenneth Branagh', u'Julie Christie', u'Dere...  \n1   [u'Clark Gable', u'Vivien Leigh', u'Thomas Mit...  \n2   [u'Robert De Niro', u'James Woods', u'Elizabet...  \n3   [u'Aamir Khan', u'Gracy Singh', u'Rachel Shell...  \n4   [u'Charlton Heston', u'Yul Brynner', u'Anne Ba...  \n5   [u\"Peter O'Toole\", u'Alec Guinness', u'Anthony...  \n6   [u'Charlton Heston', u'Jack Hawkins', u'Stephe...  \n7   [u'Toshir\\xf4 Mifune', u'Takashi Shimura', u'K...  \n8   [u'Spencer Tracy', u'Milton Berle', u'Ethel Me...  \n9   [u'Denzel Washington', u'Angela Bassett', u'De...  \n10  [u'Elijah Wood', u'Viggo Mortensen', u'Ian McK...  \n11  [u'Al Pacino', u'Robert De Niro', u'Robert Duv...  \n12  [u'Omar Sharif', u'Julie Christie', u'Geraldin...  \n13  [u'Kirk Douglas', u'Laurence Olivier', u'Jean ...  \n14  [u'Liam Neeson', u'Ralph Fiennes', u'Ben Kings...  \n15  [u'Leonardo DiCaprio', u'Kate Winslet', u'Bill...  \n16     [u'Sam Shepard', u'Scott Glenn', u'Ed Harris']  \n17  [u'Ben Kingsley', u'John Gielgud', u'Candice B...  \n18  [u'Kurt Russell', u'Rose McGowan', u'Danny Tre...  \n19  [u'Tom Hanks', u'Michael Clarke Duncan', u'Dav...  \n20  [u'Shah Rukh Khan', u'Gayatri Joshi', u'Kishor...  \n21  [u'Kevin Costner', u'Gary Oldman', u'Jack Lemm...  \n22  [u'Tom Cruise', u'Jason Robards', u'Julianne M...  \n23  [u'Bertil Guve', u'Pernilla Allwin', u'Kristin...  \n24  [u'Andie MacDowell', u'Julianne Moore', u'Tim ...  \n25  [u'Spencer Tracy', u'Burt Lancaster', u'Richar...  \n26  [u\"Ryan O'Neal\", u'Marisa Berenson', u'Patrick...  \n27  [u'Aamir Khan', u'Saif Ali Khan', u'Akshaye Kh...  \n28  [u'Robert De Niro', u'Christopher Walken', u'J...  \n29  [u'Kevin Costner', u'Mary McDonnell', u'Graham...  \n30      [u'Shah Rukh Khan', u'Kajol', u'Amrish Puri']  \n31        [u'Topol', u'Norma Crane', u'Leonard Frey']  \n32  [u'Leonardo DiCaprio', u'Jonah Hill', u'Margot...  \n33  [u'Elijah Wood', u'Ian McKellen', u'Viggo Mort...  \n34  [u'L\\xe9a Seydoux', u'Ad\\xe8le Exarchopoulos',...  \n35  [u'Elijah Wood', u'Ian McKellen', u'Orlando Bl...  \n36  [u'John Wayne', u'Robert Ryan', u'Richard Burt...  \n37  [u'Robert De Niro', u'Sharon Stone', u'Joe Pes...  \n38  [u'Nicole Kidman', u'Paul Bettany', u'Lauren B...  \n39  [u'Mel Gibson', u'Sophie Marceau', u'Patrick M...  \n40    [u'Marlon Brando', u'Al Pacino', u'James Caan']  \n41  [u'Sean Connery', u\"Ryan O'Neal\", u'Michael Ca...  \n42  [u'Henry Fonda', u'Charles Bronson', u'Claudia...  \n43  [u'Julie Andrews', u'Christopher Plummer', u'E...  \n44  [u'Marcello Mastroianni', u'Anita Ekberg', u'A...  \n45  [u'Fredric March', u'Dana Andrews', u'Myrna Loy']  \n46  [u'George C. Scott', u'Karl Malden', u'Stephen...  \n47  [u'Steve McQueen', u'James Garner', u'Richard ...  \n48      [u'Tom Hanks', u'Halle Berry', u'Hugh Grant']  \n49  [u'Leonardo DiCaprio', u'Cate Blanchett', u'Ka...  ",
      "text/html": "<div>\n<style scoped>\n    .dataframe tbody tr th:only-of-type {\n        vertical-align: middle;\n    }\n\n    .dataframe tbody tr th {\n        vertical-align: top;\n    }\n\n    .dataframe thead th {\n        text-align: right;\n    }\n</style>\n<table border=\"1\" class=\"dataframe\">\n  <thead>\n    <tr style=\"text-align: right;\">\n      <th></th>\n      <th>star_rating</th>\n      <th>title</th>\n      <th>content_rating</th>\n      <th>genre</th>\n      <th>duration</th>\n      <th>actors_list</th>\n    </tr>\n  </thead>\n  <tbody>\n    <tr>\n      <th>0</th>\n      <td>7.8</td>\n      <td>Hamlet</td>\n      <td>PG-13</td>\n      <td>Drama</td>\n      <td>242</td>\n      <td>[u'Kenneth Branagh', u'Julie Christie', u'Dere...</td>\n    </tr>\n    <tr>\n      <th>1</th>\n      <td>8.2</td>\n      <td>Gone with the Wind</td>\n      <td>G</td>\n      <td>Drama</td>\n      <td>238</td>\n      <td>[u'Clark Gable', u'Vivien Leigh', u'Thomas Mit...</td>\n    </tr>\n    <tr>\n      <th>2</th>\n      <td>8.4</td>\n      <td>Once Upon a Time in America</td>\n      <td>R</td>\n      <td>Crime</td>\n      <td>229</td>\n      <td>[u'Robert De Niro', u'James Woods', u'Elizabet...</td>\n    </tr>\n    <tr>\n      <th>3</th>\n      <td>8.3</td>\n      <td>Lagaan: Once Upon a Time in India</td>\n      <td>PG</td>\n      <td>Adventure</td>\n      <td>224</td>\n      <td>[u'Aamir Khan', u'Gracy Singh', u'Rachel Shell...</td>\n    </tr>\n    <tr>\n      <th>4</th>\n      <td>7.9</td>\n      <td>The Ten Commandments</td>\n      <td>APPROVED</td>\n      <td>Adventure</td>\n      <td>220</td>\n      <td>[u'Charlton Heston', u'Yul Brynner', u'Anne Ba...</td>\n    </tr>\n    <tr>\n      <th>5</th>\n      <td>8.4</td>\n      <td>Lawrence of Arabia</td>\n      <td>PG</td>\n      <td>Adventure</td>\n      <td>216</td>\n      <td>[u\"Peter O'Toole\", u'Alec Guinness', u'Anthony...</td>\n    </tr>\n    <tr>\n      <th>6</th>\n      <td>8.1</td>\n      <td>Ben-Hur</td>\n      <td>G</td>\n      <td>Adventure</td>\n      <td>212</td>\n      <td>[u'Charlton Heston', u'Jack Hawkins', u'Stephe...</td>\n    </tr>\n    <tr>\n      <th>7</th>\n      <td>8.7</td>\n      <td>Seven Samurai</td>\n      <td>UNRATED</td>\n      <td>Drama</td>\n      <td>207</td>\n      <td>[u'Toshir\\xf4 Mifune', u'Takashi Shimura', u'K...</td>\n    </tr>\n    <tr>\n      <th>8</th>\n      <td>7.6</td>\n      <td>It's a Mad, Mad, Mad, Mad World</td>\n      <td>APPROVED</td>\n      <td>Action</td>\n      <td>205</td>\n      <td>[u'Spencer Tracy', u'Milton Berle', u'Ethel Me...</td>\n    </tr>\n    <tr>\n      <th>9</th>\n      <td>7.7</td>\n      <td>Malcolm X</td>\n      <td>PG-13</td>\n      <td>Biography</td>\n      <td>202</td>\n      <td>[u'Denzel Washington', u'Angela Bassett', u'De...</td>\n    </tr>\n    <tr>\n      <th>10</th>\n      <td>8.9</td>\n      <td>The Lord of the Rings: The Return of the King</td>\n      <td>PG-13</td>\n      <td>Adventure</td>\n      <td>201</td>\n      <td>[u'Elijah Wood', u'Viggo Mortensen', u'Ian McK...</td>\n    </tr>\n    <tr>\n      <th>11</th>\n      <td>9.1</td>\n      <td>The Godfather: Part II</td>\n      <td>R</td>\n      <td>Crime</td>\n      <td>200</td>\n      <td>[u'Al Pacino', u'Robert De Niro', u'Robert Duv...</td>\n    </tr>\n    <tr>\n      <th>12</th>\n      <td>8.0</td>\n      <td>Doctor Zhivago</td>\n      <td>PG-13</td>\n      <td>Drama</td>\n      <td>197</td>\n      <td>[u'Omar Sharif', u'Julie Christie', u'Geraldin...</td>\n    </tr>\n    <tr>\n      <th>13</th>\n      <td>8.0</td>\n      <td>Spartacus</td>\n      <td>PG-13</td>\n      <td>Action</td>\n      <td>197</td>\n      <td>[u'Kirk Douglas', u'Laurence Olivier', u'Jean ...</td>\n    </tr>\n    <tr>\n      <th>14</th>\n      <td>8.9</td>\n      <td>Schindler's List</td>\n      <td>R</td>\n      <td>Biography</td>\n      <td>195</td>\n      <td>[u'Liam Neeson', u'Ralph Fiennes', u'Ben Kings...</td>\n    </tr>\n    <tr>\n      <th>15</th>\n      <td>7.7</td>\n      <td>Titanic</td>\n      <td>PG-13</td>\n      <td>Drama</td>\n      <td>194</td>\n      <td>[u'Leonardo DiCaprio', u'Kate Winslet', u'Bill...</td>\n    </tr>\n    <tr>\n      <th>16</th>\n      <td>7.9</td>\n      <td>The Right Stuff</td>\n      <td>R</td>\n      <td>Adventure</td>\n      <td>193</td>\n      <td>[u'Sam Shepard', u'Scott Glenn', u'Ed Harris']</td>\n    </tr>\n    <tr>\n      <th>17</th>\n      <td>8.1</td>\n      <td>Gandhi</td>\n      <td>PG</td>\n      <td>Biography</td>\n      <td>191</td>\n      <td>[u'Ben Kingsley', u'John Gielgud', u'Candice B...</td>\n    </tr>\n    <tr>\n      <th>18</th>\n      <td>7.7</td>\n      <td>Grindhouse</td>\n      <td>R</td>\n      <td>Action</td>\n      <td>191</td>\n      <td>[u'Kurt Russell', u'Rose McGowan', u'Danny Tre...</td>\n    </tr>\n    <tr>\n      <th>19</th>\n      <td>8.5</td>\n      <td>The Green Mile</td>\n      <td>R</td>\n      <td>Crime</td>\n      <td>189</td>\n      <td>[u'Tom Hanks', u'Michael Clarke Duncan', u'Dav...</td>\n    </tr>\n    <tr>\n      <th>20</th>\n      <td>8.4</td>\n      <td>Swades</td>\n      <td>NOT RATED</td>\n      <td>Drama</td>\n      <td>189</td>\n      <td>[u'Shah Rukh Khan', u'Gayatri Joshi', u'Kishor...</td>\n    </tr>\n    <tr>\n      <th>21</th>\n      <td>8.0</td>\n      <td>JFK</td>\n      <td>R</td>\n      <td>Drama</td>\n      <td>189</td>\n      <td>[u'Kevin Costner', u'Gary Oldman', u'Jack Lemm...</td>\n    </tr>\n    <tr>\n      <th>22</th>\n      <td>8.0</td>\n      <td>Magnolia</td>\n      <td>R</td>\n      <td>Drama</td>\n      <td>188</td>\n      <td>[u'Tom Cruise', u'Jason Robards', u'Julianne M...</td>\n    </tr>\n    <tr>\n      <th>23</th>\n      <td>8.2</td>\n      <td>Fanny and Alexander</td>\n      <td>R</td>\n      <td>Drama</td>\n      <td>188</td>\n      <td>[u'Bertil Guve', u'Pernilla Allwin', u'Kristin...</td>\n    </tr>\n    <tr>\n      <th>24</th>\n      <td>7.7</td>\n      <td>Short Cuts</td>\n      <td>R</td>\n      <td>Comedy</td>\n      <td>187</td>\n      <td>[u'Andie MacDowell', u'Julianne Moore', u'Tim ...</td>\n    </tr>\n    <tr>\n      <th>25</th>\n      <td>8.3</td>\n      <td>Judgment at Nuremberg</td>\n      <td>NOT RATED</td>\n      <td>Drama</td>\n      <td>186</td>\n      <td>[u'Spencer Tracy', u'Burt Lancaster', u'Richar...</td>\n    </tr>\n    <tr>\n      <th>26</th>\n      <td>8.1</td>\n      <td>Barry Lyndon</td>\n      <td>PG</td>\n      <td>Adventure</td>\n      <td>184</td>\n      <td>[u\"Ryan O'Neal\", u'Marisa Berenson', u'Patrick...</td>\n    </tr>\n    <tr>\n      <th>27</th>\n      <td>8.3</td>\n      <td>Dil Chahta Hai</td>\n      <td>NOT RATED</td>\n      <td>Comedy</td>\n      <td>183</td>\n      <td>[u'Aamir Khan', u'Saif Ali Khan', u'Akshaye Kh...</td>\n    </tr>\n    <tr>\n      <th>28</th>\n      <td>8.2</td>\n      <td>The Deer Hunter</td>\n      <td>R</td>\n      <td>Drama</td>\n      <td>182</td>\n      <td>[u'Robert De Niro', u'Christopher Walken', u'J...</td>\n    </tr>\n    <tr>\n      <th>29</th>\n      <td>8.0</td>\n      <td>Dances with Wolves</td>\n      <td>PG-13</td>\n      <td>Adventure</td>\n      <td>181</td>\n      <td>[u'Kevin Costner', u'Mary McDonnell', u'Graham...</td>\n    </tr>\n    <tr>\n      <th>30</th>\n      <td>8.4</td>\n      <td>Dilwale Dulhania Le Jayenge</td>\n      <td>NOT RATED</td>\n      <td>Comedy</td>\n      <td>181</td>\n      <td>[u'Shah Rukh Khan', u'Kajol', u'Amrish Puri']</td>\n    </tr>\n    <tr>\n      <th>31</th>\n      <td>8.0</td>\n      <td>Fiddler on the Roof</td>\n      <td>G</td>\n      <td>Drama</td>\n      <td>181</td>\n      <td>[u'Topol', u'Norma Crane', u'Leonard Frey']</td>\n    </tr>\n    <tr>\n      <th>32</th>\n      <td>8.2</td>\n      <td>The Wolf of Wall Street</td>\n      <td>R</td>\n      <td>Biography</td>\n      <td>180</td>\n      <td>[u'Leonardo DiCaprio', u'Jonah Hill', u'Margot...</td>\n    </tr>\n    <tr>\n      <th>33</th>\n      <td>8.8</td>\n      <td>The Lord of the Rings: The Two Towers</td>\n      <td>PG-13</td>\n      <td>Adventure</td>\n      <td>179</td>\n      <td>[u'Elijah Wood', u'Ian McKellen', u'Viggo Mort...</td>\n    </tr>\n    <tr>\n      <th>34</th>\n      <td>7.9</td>\n      <td>Blue Is the Warmest Color</td>\n      <td>NC-17</td>\n      <td>Drama</td>\n      <td>179</td>\n      <td>[u'L\\xe9a Seydoux', u'Ad\\xe8le Exarchopoulos',...</td>\n    </tr>\n    <tr>\n      <th>35</th>\n      <td>8.8</td>\n      <td>The Lord of the Rings: The Fellowship of the Ring</td>\n      <td>PG-13</td>\n      <td>Adventure</td>\n      <td>178</td>\n      <td>[u'Elijah Wood', u'Ian McKellen', u'Orlando Bl...</td>\n    </tr>\n    <tr>\n      <th>36</th>\n      <td>7.8</td>\n      <td>The Longest Day</td>\n      <td>G</td>\n      <td>Action</td>\n      <td>178</td>\n      <td>[u'John Wayne', u'Robert Ryan', u'Richard Burt...</td>\n    </tr>\n    <tr>\n      <th>37</th>\n      <td>8.2</td>\n      <td>Casino</td>\n      <td>R</td>\n      <td>Biography</td>\n      <td>178</td>\n      <td>[u'Robert De Niro', u'Sharon Stone', u'Joe Pes...</td>\n    </tr>\n    <tr>\n      <th>38</th>\n      <td>8.0</td>\n      <td>Dogville</td>\n      <td>R</td>\n      <td>Crime</td>\n      <td>178</td>\n      <td>[u'Nicole Kidman', u'Paul Bettany', u'Lauren B...</td>\n    </tr>\n    <tr>\n      <th>39</th>\n      <td>8.4</td>\n      <td>Braveheart</td>\n      <td>R</td>\n      <td>Action</td>\n      <td>177</td>\n      <td>[u'Mel Gibson', u'Sophie Marceau', u'Patrick M...</td>\n    </tr>\n    <tr>\n      <th>40</th>\n      <td>9.2</td>\n      <td>The Godfather</td>\n      <td>R</td>\n      <td>Crime</td>\n      <td>175</td>\n      <td>[u'Marlon Brando', u'Al Pacino', u'James Caan']</td>\n    </tr>\n    <tr>\n      <th>41</th>\n      <td>7.4</td>\n      <td>A Bridge Too Far</td>\n      <td>PG</td>\n      <td>Drama</td>\n      <td>175</td>\n      <td>[u'Sean Connery', u\"Ryan O'Neal\", u'Michael Ca...</td>\n    </tr>\n    <tr>\n      <th>42</th>\n      <td>8.6</td>\n      <td>Once Upon a Time in the West</td>\n      <td>PG-13</td>\n      <td>Western</td>\n      <td>175</td>\n      <td>[u'Henry Fonda', u'Charles Bronson', u'Claudia...</td>\n    </tr>\n    <tr>\n      <th>43</th>\n      <td>8.0</td>\n      <td>The Sound of Music</td>\n      <td>G</td>\n      <td>Biography</td>\n      <td>174</td>\n      <td>[u'Julie Andrews', u'Christopher Plummer', u'E...</td>\n    </tr>\n    <tr>\n      <th>44</th>\n      <td>8.1</td>\n      <td>La Dolce Vita</td>\n      <td>NOT RATED</td>\n      <td>Comedy</td>\n      <td>174</td>\n      <td>[u'Marcello Mastroianni', u'Anita Ekberg', u'A...</td>\n    </tr>\n    <tr>\n      <th>45</th>\n      <td>8.2</td>\n      <td>The Best Years of Our Lives</td>\n      <td>PASSED</td>\n      <td>Drama</td>\n      <td>172</td>\n      <td>[u'Fredric March', u'Dana Andrews', u'Myrna Loy']</td>\n    </tr>\n    <tr>\n      <th>46</th>\n      <td>8.0</td>\n      <td>Patton</td>\n      <td>GP</td>\n      <td>Biography</td>\n      <td>172</td>\n      <td>[u'George C. Scott', u'Karl Malden', u'Stephen...</td>\n    </tr>\n    <tr>\n      <th>47</th>\n      <td>8.3</td>\n      <td>The Great Escape</td>\n      <td>UNRATED</td>\n      <td>Adventure</td>\n      <td>172</td>\n      <td>[u'Steve McQueen', u'James Garner', u'Richard ...</td>\n    </tr>\n    <tr>\n      <th>48</th>\n      <td>7.5</td>\n      <td>Cloud Atlas</td>\n      <td>R</td>\n      <td>Drama</td>\n      <td>172</td>\n      <td>[u'Tom Hanks', u'Halle Berry', u'Hugh Grant']</td>\n    </tr>\n    <tr>\n      <th>49</th>\n      <td>7.5</td>\n      <td>The Aviator</td>\n      <td>PG-13</td>\n      <td>Biography</td>\n      <td>170</td>\n      <td>[u'Leonardo DiCaprio', u'Cate Blanchett', u'Ka...</td>\n    </tr>\n  </tbody>\n</table>\n</div>"
     },
     "execution_count": 37,
     "metadata": {},
     "output_type": "execute_result"
    }
   ],
   "source": [
    "sorted_movie = pd.read_csv(\"long_time.csv\")\n",
    "sorted_movie"
   ],
   "metadata": {
    "collapsed": false,
    "pycharm": {
     "name": "#%%\n"
    }
   }
  },
  {
   "cell_type": "markdown",
   "id": "e98ea709",
   "metadata": {},
   "source": [
    "<div dir = \"rtl\" style=\"direction:rtl;line-height:300%;\">\n",
    "\t<font face=\"XB Zar\" size=4>\n",
    "         تابعی بنویسید که نام بازیگر را به عنوان آرگومان بگیرد و تعداد فیلم های برتر از این لیست را که بازی کرده محاسبه کند.\n",
    "        <br/>\n",
    "    </font>\n",
    "</div>"
   ]
  },
  {
   "cell_type": "code",
   "execution_count": null,
   "outputs": [],
   "source": [
    "movies"
   ],
   "metadata": {
    "collapsed": false,
    "pycharm": {
     "name": "#%%\n"
    }
   }
  },
  {
   "cell_type": "code",
   "execution_count": 54,
   "outputs": [],
   "source": [
    "def movie_count_by_actor(name:str) -> int:\n",
    "    count_list = movies[\"actors_list\"].apply(lambda x : True if \"Marlon Brando\".lower().strip() in x.lower().strip() else False)\n",
    "    count = np.cumsum(count_list)\n",
    "    return np.max(count)"
   ],
   "metadata": {
    "collapsed": false,
    "pycharm": {
     "name": "#%%\n"
    }
   }
  },
  {
   "cell_type": "code",
   "execution_count": 55,
   "outputs": [
    {
     "data": {
      "text/plain": "4"
     },
     "execution_count": 55,
     "metadata": {},
     "output_type": "execute_result"
    }
   ],
   "source": [
    "movie_count_by_actor(\"christian bale\")"
   ],
   "metadata": {
    "collapsed": false,
    "pycharm": {
     "name": "#%%\n"
    }
   }
  },
  {
   "cell_type": "markdown",
   "source": [],
   "metadata": {
    "collapsed": false
   }
  },
  {
   "cell_type": "code",
   "execution_count": null,
   "outputs": [],
   "source": [
    "#TODO"
   ],
   "metadata": {
    "collapsed": false,
    "pycharm": {
     "name": "#%%\n"
    }
   }
  },
  {
   "cell_type": "markdown",
   "id": "5c281ff9",
   "metadata": {},
   "source": [
    "<div dir = \"rtl\" style=\"direction:rtl;line-height:300%;\">\n",
    "\t<font face=\"XB Zar\" size=4>\n",
    "       ستونی به این داده ها اضافه کنید که در صورت اینکه یک فیلم مدت نمایش آن 150 دقیقه و یا بیشتر بود مقدار صفر و در غیر اینصورت 1 در هر سطر این ستون قرار گیرد. دیتافریم حاصل را در یک فایل csv ذخیره کنید.\n",
    "        <br/>\n",
    "    </font>\n",
    "</div>"
   ]
  },
  {
   "cell_type": "code",
   "execution_count": 41,
   "id": "3ded1efc",
   "metadata": {},
   "outputs": [],
   "source": [
    "#TODO"
   ]
  },
  {
   "cell_type": "markdown",
   "id": "bf31c1c5",
   "metadata": {},
   "source": [
    "<div dir = \"rtl\" style=\"direction:rtl;line-height:300%;\">\n",
    "\t<font face=\"XB Zar\" size=4>\n",
    "        عنوان ستونها را به نحوی تغییر دهید که در ستون های دارای _(آندرلاین) فاصله قرار گیرد. به عنوان مثال star_rating به star rating تبدیل می شود.\n",
    "        <br/>\n",
    "    </font>\n",
    "</div>"
   ]
  },
  {
   "cell_type": "code",
   "execution_count": 42,
   "id": "2bebdfba",
   "metadata": {},
   "outputs": [],
   "source": [
    "#TODO"
   ]
  },
  {
   "cell_type": "markdown",
   "id": "4163bd09",
   "metadata": {},
   "source": [
    "<div dir = \"rtl\" style=\"direction:rtl;line-height:300%;\">\n",
    "\t<font face=\"XB Zar\" size=4>\n",
    "        داده ها را براساس ژانر گروه بندی و مرتب کنید و از هر ژانر صرفا سه تای برتر را نمایش دهید\n",
    "        <br/>\n",
    "    </font>\n",
    "</div>"
   ]
  },
  {
   "cell_type": "code",
   "execution_count": 43,
   "id": "e0cb32cb",
   "metadata": {},
   "outputs": [],
   "source": [
    "#TODO"
   ]
  },
  {
   "cell_type": "markdown",
   "id": "9a496ebe",
   "metadata": {},
   "source": [
    "<div dir = \"rtl\" style=\"direction:rtl;line-height:300%;\">\n",
    "\t<font face=\"XB Zar\" size=4>\n",
    "\t\t<font color=red size=5>\n",
    "            سوال سوم:‌\n",
    "        </font>\n",
    "        تفاوت بین متد read_table و read_csv در ماژول pandas چیست؟\n",
    "        <br/>\n",
    "    </font>\n",
    "</div>"
   ]
  },
  {
   "cell_type": "code",
   "execution_count": 44,
   "id": "7741f2d0",
   "metadata": {},
   "outputs": [],
   "source": [
    "#TODO"
   ]
  },
  {
   "cell_type": "markdown",
   "id": "46ac93c3",
   "metadata": {},
   "source": [
    "<div dir = \"rtl\" style=\"direction:rtl;line-height:300%;\">\n",
    "\t<font face=\"XB Zar\" size=4>\n",
    "\t\t<font color=red size=5>\n",
    "            سوال چهارم:‌\n",
    "        </font>\n",
    "       توضیح دهید crosstab در پانداس چه میکند و عملکرد آنرا بر روی کد زیر توضیح دهید؟\n",
    "        <br/>\n",
    "    </font>\n",
    "</div>"
   ]
  },
  {
   "cell_type": "code",
   "execution_count": 45,
   "id": "360e387f",
   "metadata": {},
   "outputs": [
    {
     "data": {
      "text/plain": "content_rating  APPROVED   G  GP  NC-17  NOT RATED  PASSED  PG  PG-13    R  \\\ngenre                                                                        \nAction                 3   1   1      0          4       1  11     44   67   \nAdventure              3   2   0      0          5       1  21     23   17   \nAnimation              3  20   0      0          3       0  25      5    5   \nBiography              1   2   1      0          1       0   6     29   36   \nComedy                 9   2   1      1         16       3  23     23   73   \nCrime                  6   0   0      1          7       1   6      4   87   \nDrama                 12   3   0      4         24       1  25     55  143   \nFamily                 0   1   0      0          0       0   1      0    0   \nFantasy                0   0   0      0          0       0   0      0    1   \nFilm-Noir              1   0   0      0          1       0   0      0    0   \nHistory                0   0   0      0          0       0   0      0    0   \nHorror                 2   0   0      1          1       0   1      2   16   \nMystery                4   1   0      0          1       0   1      2    6   \nSci-Fi                 1   0   0      0          0       0   0      1    3   \nThriller               1   0   0      0          0       0   1      0    3   \nWestern                1   0   0      0          2       0   2      1    3   \n\ncontent_rating  TV-MA  UNRATED  X  \ngenre                              \nAction              0        3  0  \nAdventure           0        2  0  \nAnimation           0        1  0  \nBiography           0        0  0  \nComedy              0        4  1  \nCrime               0       11  1  \nDrama               1        9  1  \nFamily              0        0  0  \nFantasy             0        0  0  \nFilm-Noir           0        1  0  \nHistory             0        1  0  \nHorror              0        5  1  \nMystery             0        1  0  \nSci-Fi              0        0  0  \nThriller            0        0  0  \nWestern             0        0  0  ",
      "text/html": "<div>\n<style scoped>\n    .dataframe tbody tr th:only-of-type {\n        vertical-align: middle;\n    }\n\n    .dataframe tbody tr th {\n        vertical-align: top;\n    }\n\n    .dataframe thead th {\n        text-align: right;\n    }\n</style>\n<table border=\"1\" class=\"dataframe\">\n  <thead>\n    <tr style=\"text-align: right;\">\n      <th>content_rating</th>\n      <th>APPROVED</th>\n      <th>G</th>\n      <th>GP</th>\n      <th>NC-17</th>\n      <th>NOT RATED</th>\n      <th>PASSED</th>\n      <th>PG</th>\n      <th>PG-13</th>\n      <th>R</th>\n      <th>TV-MA</th>\n      <th>UNRATED</th>\n      <th>X</th>\n    </tr>\n    <tr>\n      <th>genre</th>\n      <th></th>\n      <th></th>\n      <th></th>\n      <th></th>\n      <th></th>\n      <th></th>\n      <th></th>\n      <th></th>\n      <th></th>\n      <th></th>\n      <th></th>\n      <th></th>\n    </tr>\n  </thead>\n  <tbody>\n    <tr>\n      <th>Action</th>\n      <td>3</td>\n      <td>1</td>\n      <td>1</td>\n      <td>0</td>\n      <td>4</td>\n      <td>1</td>\n      <td>11</td>\n      <td>44</td>\n      <td>67</td>\n      <td>0</td>\n      <td>3</td>\n      <td>0</td>\n    </tr>\n    <tr>\n      <th>Adventure</th>\n      <td>3</td>\n      <td>2</td>\n      <td>0</td>\n      <td>0</td>\n      <td>5</td>\n      <td>1</td>\n      <td>21</td>\n      <td>23</td>\n      <td>17</td>\n      <td>0</td>\n      <td>2</td>\n      <td>0</td>\n    </tr>\n    <tr>\n      <th>Animation</th>\n      <td>3</td>\n      <td>20</td>\n      <td>0</td>\n      <td>0</td>\n      <td>3</td>\n      <td>0</td>\n      <td>25</td>\n      <td>5</td>\n      <td>5</td>\n      <td>0</td>\n      <td>1</td>\n      <td>0</td>\n    </tr>\n    <tr>\n      <th>Biography</th>\n      <td>1</td>\n      <td>2</td>\n      <td>1</td>\n      <td>0</td>\n      <td>1</td>\n      <td>0</td>\n      <td>6</td>\n      <td>29</td>\n      <td>36</td>\n      <td>0</td>\n      <td>0</td>\n      <td>0</td>\n    </tr>\n    <tr>\n      <th>Comedy</th>\n      <td>9</td>\n      <td>2</td>\n      <td>1</td>\n      <td>1</td>\n      <td>16</td>\n      <td>3</td>\n      <td>23</td>\n      <td>23</td>\n      <td>73</td>\n      <td>0</td>\n      <td>4</td>\n      <td>1</td>\n    </tr>\n    <tr>\n      <th>Crime</th>\n      <td>6</td>\n      <td>0</td>\n      <td>0</td>\n      <td>1</td>\n      <td>7</td>\n      <td>1</td>\n      <td>6</td>\n      <td>4</td>\n      <td>87</td>\n      <td>0</td>\n      <td>11</td>\n      <td>1</td>\n    </tr>\n    <tr>\n      <th>Drama</th>\n      <td>12</td>\n      <td>3</td>\n      <td>0</td>\n      <td>4</td>\n      <td>24</td>\n      <td>1</td>\n      <td>25</td>\n      <td>55</td>\n      <td>143</td>\n      <td>1</td>\n      <td>9</td>\n      <td>1</td>\n    </tr>\n    <tr>\n      <th>Family</th>\n      <td>0</td>\n      <td>1</td>\n      <td>0</td>\n      <td>0</td>\n      <td>0</td>\n      <td>0</td>\n      <td>1</td>\n      <td>0</td>\n      <td>0</td>\n      <td>0</td>\n      <td>0</td>\n      <td>0</td>\n    </tr>\n    <tr>\n      <th>Fantasy</th>\n      <td>0</td>\n      <td>0</td>\n      <td>0</td>\n      <td>0</td>\n      <td>0</td>\n      <td>0</td>\n      <td>0</td>\n      <td>0</td>\n      <td>1</td>\n      <td>0</td>\n      <td>0</td>\n      <td>0</td>\n    </tr>\n    <tr>\n      <th>Film-Noir</th>\n      <td>1</td>\n      <td>0</td>\n      <td>0</td>\n      <td>0</td>\n      <td>1</td>\n      <td>0</td>\n      <td>0</td>\n      <td>0</td>\n      <td>0</td>\n      <td>0</td>\n      <td>1</td>\n      <td>0</td>\n    </tr>\n    <tr>\n      <th>History</th>\n      <td>0</td>\n      <td>0</td>\n      <td>0</td>\n      <td>0</td>\n      <td>0</td>\n      <td>0</td>\n      <td>0</td>\n      <td>0</td>\n      <td>0</td>\n      <td>0</td>\n      <td>1</td>\n      <td>0</td>\n    </tr>\n    <tr>\n      <th>Horror</th>\n      <td>2</td>\n      <td>0</td>\n      <td>0</td>\n      <td>1</td>\n      <td>1</td>\n      <td>0</td>\n      <td>1</td>\n      <td>2</td>\n      <td>16</td>\n      <td>0</td>\n      <td>5</td>\n      <td>1</td>\n    </tr>\n    <tr>\n      <th>Mystery</th>\n      <td>4</td>\n      <td>1</td>\n      <td>0</td>\n      <td>0</td>\n      <td>1</td>\n      <td>0</td>\n      <td>1</td>\n      <td>2</td>\n      <td>6</td>\n      <td>0</td>\n      <td>1</td>\n      <td>0</td>\n    </tr>\n    <tr>\n      <th>Sci-Fi</th>\n      <td>1</td>\n      <td>0</td>\n      <td>0</td>\n      <td>0</td>\n      <td>0</td>\n      <td>0</td>\n      <td>0</td>\n      <td>1</td>\n      <td>3</td>\n      <td>0</td>\n      <td>0</td>\n      <td>0</td>\n    </tr>\n    <tr>\n      <th>Thriller</th>\n      <td>1</td>\n      <td>0</td>\n      <td>0</td>\n      <td>0</td>\n      <td>0</td>\n      <td>0</td>\n      <td>1</td>\n      <td>0</td>\n      <td>3</td>\n      <td>0</td>\n      <td>0</td>\n      <td>0</td>\n    </tr>\n    <tr>\n      <th>Western</th>\n      <td>1</td>\n      <td>0</td>\n      <td>0</td>\n      <td>0</td>\n      <td>2</td>\n      <td>0</td>\n      <td>2</td>\n      <td>1</td>\n      <td>3</td>\n      <td>0</td>\n      <td>0</td>\n      <td>0</td>\n    </tr>\n  </tbody>\n</table>\n</div>"
     },
     "execution_count": 45,
     "metadata": {},
     "output_type": "execute_result"
    }
   ],
   "source": [
    "pd.crosstab(movies.genre, movies.content_rating)"
   ]
  },
  {
   "cell_type": "markdown",
   "id": "38c95fcc",
   "metadata": {},
   "source": [
    "<div dir = \"rtl\" style=\"direction:rtl;line-height:300%;\">\n",
    "\t<font face=\"XB Zar\" size=4>\n",
    "\t\t<font color=red size=5>\n",
    "            سوال پنچم:‌\n",
    "        </font>\n",
    "         توضیح دهید متد corr در پانداس چه میکند و عملکرد آنرا بر روی کد زیر توضیح دهید؟ \n",
    "        <br/>\n",
    "    </font>\n",
    "</div>"
   ]
  },
  {
   "cell_type": "code",
   "execution_count": 46,
   "id": "6b8ccdfa",
   "metadata": {},
   "outputs": [
    {
     "name": "stderr",
     "output_type": "stream",
     "text": [
      "C:\\Users\\Lenovo\\AppData\\Local\\Temp\\ipykernel_548\\3313059620.py:1: FutureWarning: The default value of numeric_only in DataFrame.corr is deprecated. In a future version, it will default to False. Select only valid columns or specify the value of numeric_only to silence this warning.\n",
      "  movies.corr()\n"
     ]
    },
    {
     "data": {
      "text/plain": "             star_rating  duration\nstar_rating      1.00000   0.22941\nduration         0.22941   1.00000",
      "text/html": "<div>\n<style scoped>\n    .dataframe tbody tr th:only-of-type {\n        vertical-align: middle;\n    }\n\n    .dataframe tbody tr th {\n        vertical-align: top;\n    }\n\n    .dataframe thead th {\n        text-align: right;\n    }\n</style>\n<table border=\"1\" class=\"dataframe\">\n  <thead>\n    <tr style=\"text-align: right;\">\n      <th></th>\n      <th>star_rating</th>\n      <th>duration</th>\n    </tr>\n  </thead>\n  <tbody>\n    <tr>\n      <th>star_rating</th>\n      <td>1.00000</td>\n      <td>0.22941</td>\n    </tr>\n    <tr>\n      <th>duration</th>\n      <td>0.22941</td>\n      <td>1.00000</td>\n    </tr>\n  </tbody>\n</table>\n</div>"
     },
     "execution_count": 46,
     "metadata": {},
     "output_type": "execute_result"
    }
   ],
   "source": [
    "movies.corr()"
   ]
  },
  {
   "cell_type": "markdown",
   "id": "1188072f",
   "metadata": {},
   "source": [
    "<div dir = \"rtl\" style=\"direction:rtl;line-height:300%;\">\n",
    "\t<font face=\"XB Zar\" size=4>\n",
    "\t\t<font color=red size=5>\n",
    "            سوال سوم:‌\n",
    "        </font>\n",
    "        با استفاده از متد value_counts تعداد فیلمها در هر ریت محتوا را به دست آورید.\n",
    "        <br/>\n",
    "    </font>\n",
    "</div>"
   ]
  },
  {
   "cell_type": "code",
   "execution_count": 47,
   "id": "2a59cc76",
   "metadata": {},
   "outputs": [],
   "source": [
    "#TODO"
   ]
  },
  {
   "cell_type": "markdown",
   "id": "ed57dc0a",
   "metadata": {},
   "source": [
    "<div dir = \"rtl\" style=\"direction:rtl;line-height:300%;\">\n",
    "\t<font face=\"XB Zar\" size=4>\n",
    "\t\t<font color=red size=5>\n",
    "            سوال ششم:‌\n",
    "        </font>\n",
    "        با استفاده از متد sample هفتاد و پنج درصد سطرها را در یک متغیر به نام sample_1 بریزید. درنهایت با استفاده از متد drop از دیتافریم اصلی این سطرها را حذف و دیتافریم جدید را در sample_2 بریزید\n",
    "        <br/>\n",
    "    </font>\n",
    "</div>"
   ]
  },
  {
   "cell_type": "code",
   "execution_count": 48,
   "id": "68efdabb",
   "metadata": {},
   "outputs": [],
   "source": [
    "#TODO"
   ]
  },
  {
   "cell_type": "markdown",
   "id": "a4e3c568",
   "metadata": {},
   "source": [
    "<div dir = \"rtl\" style=\"direction:rtl;line-height:300%;\">\n",
    "\t<font face=\"XB Zar\" size=4>\n",
    "\t\t<font color=red size=5>\n",
    "            سوال هفتم:‌\n",
    "        </font>\n",
    "         متد pivot_table چه عملکردی دارد؟\n",
    "        <br/>\n",
    "    </font>\n",
    "</div>"
   ]
  },
  {
   "cell_type": "code",
   "execution_count": 49,
   "id": "0113f7ef",
   "metadata": {},
   "outputs": [],
   "source": [
    "#TODO"
   ]
  }
 ],
 "metadata": {
  "kernelspec": {
   "display_name": "Python 3 (ipykernel)",
   "language": "python",
   "name": "python3"
  },
  "language_info": {
   "codemirror_mode": {
    "name": "ipython",
    "version": 3
   },
   "file_extension": ".py",
   "mimetype": "text/x-python",
   "name": "python",
   "nbconvert_exporter": "python",
   "pygments_lexer": "ipython3",
   "version": "3.10.7"
  }
 },
 "nbformat": 4,
 "nbformat_minor": 5
}