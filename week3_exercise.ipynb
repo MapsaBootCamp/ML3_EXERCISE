{
  "metadata": {
    "kernelspec": {
      "name": "python",
      "display_name": "Python (Pyodide)",
      "language": "python"
    },
    "language_info": {
      "codemirror_mode": {
        "name": "python",
        "version": 3
      },
      "file_extension": ".py",
      "mimetype": "text/x-python",
      "name": "python",
      "nbconvert_exporter": "python",
      "pygments_lexer": "ipython3",
      "version": "3.8"
    }
  },
  "nbformat_minor": 5,
  "nbformat": 4,
  "cells": [
    {
      "cell_type": "markdown",
      "source": "<div dir = \"rtl\" style=\"direction:rtl;line-height:300%;\">\n\t<font face=\"XB Zar\" size=6 color=#F32500>\n        <div  align=center>\n            تمرین هفته سوم بوت کمپ یادگیری ماشین-\n            مپصا\n        </div>\n        <br/>\n    </font>\n</div>\n",
      "metadata": {},
      "id": "bc7a40f1"
    },
    {
      "cell_type": "markdown",
      "source": "<div style=\"direction:rtl;line-height:300%;\">\n\t<font face=\"XB Zar\" size=4>\n\t\t<div align=center>\n\t\t\t<font face=\"IranNastaliq\" size=5>    \n                  چون عهده نمی‌شود کسی فردا را\n                <br><br>\n                 حالی خوش دار این دل پر سودا را\n                <br><br>\n                می نوش به ماهتاب ای ماه که ماه\n                <br><br>\n                بسیار بتابد و نیابد ما را        \t\t\t   \t\n                <p></p>\n\t\t\t</font>\n        </div>\n    </font>\n</div>\n",
      "metadata": {},
      "id": "34113bfc"
    },
    {
      "cell_type": "code",
      "source": "import numpy as np\nimport pandas as pd",
      "metadata": {
        "trusted": true
      },
      "execution_count": 10,
      "outputs": [],
      "id": "8e2eddaf"
    },
    {
      "cell_type": "markdown",
      "source": "<div dir = \"rtl\" style=\"direction:rtl;line-height:300%;\">\n\t<font face=\"XB Zar\" size=4>\n\t\t<font color=red size=5>\n            سوال اول:‌\n            </font>\n        <font>\n            مجموعه داده های زیر را در نظر بگیرید\n        </font>\n        <br/>\n    </font>\n</div>",
      "metadata": {},
      "id": "4278e1df"
    },
    {
      "cell_type": "code",
      "source": "numbers = np.array([ 4.5 , 7.8 ,  6.5,  0.5,  8. ,  6.5, 19. , 13.5,  2.5, 17. , 19. ,\n       19.5, 13. ,  12.21 ,  6.3 ,  0.5,  9.5, 13.5, 16. ,  2.5, 10.5,  8. ,\n       10. , 15.5,  7.5,  0. ,  1. , 10.5,  2. , 11. ,  3. , 14. ,  3.5,\n       18.5, 13. ,  1. , 14.5, 15. ,  1.52 , 15.5,  1.5,  2.8 ,  3.5,  6.5,\n        12.5, 14.5, 11.5,  8. ,  10.2 ,  5.5,  0.5, 23. ,  5. ,  0.5, 17.5,\n       17.5, 17.5, 15. ,  4.5, 17. , 18. , 10. ,  8.5, 14. , 18.5, 19.5,\n       16.3 ,  8.5,  0. ,  9.5,  6. ,  2. ,  5. ,  9.5,  4. ,  4. ,  1. ,\n        8. , 18.5, 18. , 15.5,  4.5,  1.5, 20. ,  0.5, 19. ,  4. ,  9.5,\n       12.8  ])",
      "metadata": {
        "trusted": true
      },
      "execution_count": 11,
      "outputs": [],
      "id": "0cd2f85f"
    },
    {
      "cell_type": "markdown",
      "source": "<div id=\"bayes\" style=\"direction:rtl;line-height:60%;\">\n\t<font face=\"XB Zar\" size=2>\n\t\t<p></p>\n        برای این مجموعه داده ها قصد داریم با دو فرمول زیر مقادیر آنها را تغییر دهیم:\n۱. اگر عددی کمتر از هشت و نیم است با فرمول زیر آن عدد تغییر کند:\n$$ y = 10 + \\frac{x}{10} $$\n۲. اگر عددیبیشتر یا مساوی هشت و نیم است با فرمول زیر آن عدد تغییر کند :\n$$ y =  -0.0051x^{2} + 0.8586x + 3.4332 $$\nتوجه کنید که حتی بعد از تغییر باید بیشینه عدد نهایتا بیشینه عدد موجود در داده فعلی باشد. 25 درصد داده های بزرگتر را در آرایه زیر بریزید\n</div>",
      "metadata": {},
      "id": "d47c40d0"
    },
    {
      "cell_type": "code",
      "source": "\ndef myfun(x,maxarr):\n    # print(x.iloc(0))\n    if x < 5:\n        y=(10+x/10)\n    else:\n        y=( -0.0051*x**2 + 0.8586*x + 3.4332)\n    if y > maxarr:\n        return(maxarr)\n    else:\n        return(y)\n\n\ncolumn_values=['col'] \ndf=pd.DataFrame(numbers,columns = column_values)\n# print(df)\n \nmaxa=df['col'].max()\n# print('---:',(maxa))\nnewdf=df['col'].apply(myfun,maxarr=maxa)\nprint('new array: /n',newdf.head(10))",
      "metadata": {
        "trusted": true
      },
      "execution_count": 12,
      "outputs": [
        {
          "name": "stdout",
          "text": "new array: /n 0    10.450000\n1     9.819996\n2     8.798625\n3    10.050000\n4     9.975600\n5     8.798625\n6    17.905500\n7    14.094825\n8    10.250000\n9    16.555500\nName: col, dtype: float64\n",
          "output_type": "stream"
        }
      ],
      "id": "7efc90f4"
    },
    {
      "cell_type": "markdown",
      "source": "<div id=\"bayes\" style=\"direction:rtl;line-height:300%;\">\n\t<font face=\"XB Zar\" size=4>\n\t\t<p></p>\n 25 درصد داده های کوچکتر آرایه اول را در آرایه زیر بریزید\n</div>",
      "metadata": {},
      "id": "b9adec40"
    },
    {
      "cell_type": "code",
      "source": "column_values=['col2'] \ndf2=newdf.sort_values(ascending=False)\ntop_new_twenty_five= pd.DataFrame(df2.head(int(len(df2)*(25/100))))\ntop_new_twenty_five=top_new_twenty_five.rename(columns={\"col\": \"top\"})\nprint('top_new_twenty_five: head(5) \\n',top_new_twenty_five.head(5))\n\ndf3=newdf.sort_values()\ndown_old_twenty_five=  pd.DataFrame(df3.head(int(len(df3)*(25/100))))\ndown_old_twenty_five=down_old_twenty_five.rename(columns={\"col\": \"down\"})\n\nprint('down_old_twenty_five: head(5) \\n',down_old_twenty_five.head(5))\ntop_new_twenty_five=top_new_twenty_five.reset_index()\ndown_old_twenty_five= down_old_twenty_five.reset_index()",
      "metadata": {
        "trusted": true
      },
      "execution_count": 13,
      "outputs": [
        {
          "name": "stdout",
          "text": "top_new_twenty_five: head(5) \n           top\n51  20.483100\n83  18.565200\n11  18.236625\n65  18.236625\n10  17.905500\ndown_old_twenty_five: head(5) \n         down\n72  7.598700\n52  7.598700\n49  8.001225\n70  8.401200\n14  8.639961\n",
          "output_type": "stream"
        }
      ],
      "id": "1a0edc19"
    },
    {
      "cell_type": "markdown",
      "source": "<div id=\"bayes\" style=\"direction:rtl;line-height:300%;\">\n\t<font face=\"XB Zar\" size=4>\n      <p></p>\n        داده های متناظر دو آرایه به دست آمده را از یکدیگر کسر کنید و در یک آرایه سه بعدی که اندازه ابعاد سوم و دوم آن یک میباشد بریزید\n</div>",
      "metadata": {},
      "id": "16e79957"
    },
    {
      "cell_type": "code",
      "source": "# df4=top_new_twenty_five['col'] #- down_old_twenty_five['col']\n\ndf4=pd.concat([top_new_twenty_five, down_old_twenty_five],axis=1)\ndf4['calc']=df4['top']-df4['down']\n\nfinalarr=df4['calc'].to_numpy()\n# top_new_twenty_five()\n# down_old_twenty_five.info()\nprint(finalarr.shape)\n\nfinalarr = np.expand_dims(finalarr, axis=0)\ntemp=np.ones(finalarr.shape)\ntemp2=np.concatenate((finalarr,temp))\ntemp3 = np.expand_dims(temp2, axis=1)\n# temp4 = temp3+temp\n# temp4=np.concatenate((temp3,temp))\n",
      "metadata": {
        "trusted": true
      },
      "execution_count": 15,
      "outputs": [
        {
          "name": "stdout",
          "text": "(22,)\n",
          "output_type": "stream"
        }
      ],
      "id": "ef14b5ba"
    },
    {
      "cell_type": "markdown",
      "source": "#### <div dir = \"rtl\" style=\"direction:rtl;line-height:300%;\">\n\t<font face=\"XB Zar\" size=4>\n\t\t<font color=red size=5>\n            سوال دوم:‌\n        </font>\nدر این تمرین قصد داریم به تحلیل داده های فیلم های برتر سینمای جهان به معیار imdb بپردازیم. ابتدا دادههای مربوط به فیلم را از فایل csv فراخوانی میکنیم\n        <br/>\n    </font>\n</div>",
      "metadata": {},
      "id": "2647fd09"
    },
    {
      "cell_type": "code",
      "source": "import numpy as np\nimport pandas as pd\nmovies = pd.read_csv(\"rank.csv\")\nmovies.head()",
      "metadata": {
        "trusted": true
      },
      "execution_count": 18,
      "outputs": [
        {
          "execution_count": 9,
          "output_type": "execute_result",
          "data": {
            "text/plain": "   star_rating                     title content_rating   genre  duration  \\\n0          9.3  The Shawshank Redemption              R   Crime       142   \n1          9.2             The Godfather              R   Crime       175   \n2          9.1    The Godfather: Part II              R   Crime       200   \n3          9.0           The Dark Knight          PG-13  Action       152   \n4          8.9              Pulp Fiction              R   Crime       154   \n\n                                         actors_list  \n0  [u'Tim Robbins', u'Morgan Freeman', u'Bob Gunt...  \n1    [u'Marlon Brando', u'Al Pacino', u'James Caan']  \n2  [u'Al Pacino', u'Robert De Niro', u'Robert Duv...  \n3  [u'Christian Bale', u'Heath Ledger', u'Aaron E...  \n4  [u'John Travolta', u'Uma Thurman', u'Samuel L....  ",
            "text/html": "<div>\n<style scoped>\n    .dataframe tbody tr th:only-of-type {\n        vertical-align: middle;\n    }\n\n    .dataframe tbody tr th {\n        vertical-align: top;\n    }\n\n    .dataframe thead th {\n        text-align: right;\n    }\n</style>\n<table border=\"1\" class=\"dataframe\">\n  <thead>\n    <tr style=\"text-align: right;\">\n      <th></th>\n      <th>star_rating</th>\n      <th>title</th>\n      <th>content_rating</th>\n      <th>genre</th>\n      <th>duration</th>\n      <th>actors_list</th>\n    </tr>\n  </thead>\n  <tbody>\n    <tr>\n      <th>0</th>\n      <td>9.3</td>\n      <td>The Shawshank Redemption</td>\n      <td>R</td>\n      <td>Crime</td>\n      <td>142</td>\n      <td>[u'Tim Robbins', u'Morgan Freeman', u'Bob Gunt...</td>\n    </tr>\n    <tr>\n      <th>1</th>\n      <td>9.2</td>\n      <td>The Godfather</td>\n      <td>R</td>\n      <td>Crime</td>\n      <td>175</td>\n      <td>[u'Marlon Brando', u'Al Pacino', u'James Caan']</td>\n    </tr>\n    <tr>\n      <th>2</th>\n      <td>9.1</td>\n      <td>The Godfather: Part II</td>\n      <td>R</td>\n      <td>Crime</td>\n      <td>200</td>\n      <td>[u'Al Pacino', u'Robert De Niro', u'Robert Duv...</td>\n    </tr>\n    <tr>\n      <th>3</th>\n      <td>9.0</td>\n      <td>The Dark Knight</td>\n      <td>PG-13</td>\n      <td>Action</td>\n      <td>152</td>\n      <td>[u'Christian Bale', u'Heath Ledger', u'Aaron E...</td>\n    </tr>\n    <tr>\n      <th>4</th>\n      <td>8.9</td>\n      <td>Pulp Fiction</td>\n      <td>R</td>\n      <td>Crime</td>\n      <td>154</td>\n      <td>[u'John Travolta', u'Uma Thurman', u'Samuel L....</td>\n    </tr>\n  </tbody>\n</table>\n</div>"
          },
          "metadata": {}
        }
      ],
      "id": "6ade0e6a"
    },
    {
      "cell_type": "code",
      "source": "movies.describe()",
      "metadata": {
        "trusted": true
      },
      "execution_count": 19,
      "outputs": [
        {
          "execution_count": 10,
          "output_type": "execute_result",
          "data": {
            "text/plain": "       star_rating    duration\ncount   979.000000  979.000000\nmean      7.889785  120.979571\nstd       0.336069   26.218010\nmin       7.400000   64.000000\n25%       7.600000  102.000000\n50%       7.800000  117.000000\n75%       8.100000  134.000000\nmax       9.300000  242.000000",
            "text/html": "<div>\n<style scoped>\n    .dataframe tbody tr th:only-of-type {\n        vertical-align: middle;\n    }\n\n    .dataframe tbody tr th {\n        vertical-align: top;\n    }\n\n    .dataframe thead th {\n        text-align: right;\n    }\n</style>\n<table border=\"1\" class=\"dataframe\">\n  <thead>\n    <tr style=\"text-align: right;\">\n      <th></th>\n      <th>star_rating</th>\n      <th>duration</th>\n    </tr>\n  </thead>\n  <tbody>\n    <tr>\n      <th>count</th>\n      <td>979.000000</td>\n      <td>979.000000</td>\n    </tr>\n    <tr>\n      <th>mean</th>\n      <td>7.889785</td>\n      <td>120.979571</td>\n    </tr>\n    <tr>\n      <th>std</th>\n      <td>0.336069</td>\n      <td>26.218010</td>\n    </tr>\n    <tr>\n      <th>min</th>\n      <td>7.400000</td>\n      <td>64.000000</td>\n    </tr>\n    <tr>\n      <th>25%</th>\n      <td>7.600000</td>\n      <td>102.000000</td>\n    </tr>\n    <tr>\n      <th>50%</th>\n      <td>7.800000</td>\n      <td>117.000000</td>\n    </tr>\n    <tr>\n      <th>75%</th>\n      <td>8.100000</td>\n      <td>134.000000</td>\n    </tr>\n    <tr>\n      <th>max</th>\n      <td>9.300000</td>\n      <td>242.000000</td>\n    </tr>\n  </tbody>\n</table>\n</div>"
          },
          "metadata": {}
        }
      ],
      "id": "225ca042"
    },
    {
      "cell_type": "markdown",
      "source": "<div dir = \"rtl\" style=\"direction:rtl;line-height:300%;\">\n\t<font face=\"XB Zar\" size=4>\n        در این دیتاست اگر داده ای وجود دارد که مقدار nullدارد سطرش را حذف کنید. \n        <br/>\n    </font>\n</div>",
      "metadata": {},
      "id": "1dff48e1"
    },
    {
      "cell_type": "code",
      "source": "movies.info()",
      "metadata": {
        "trusted": true
      },
      "execution_count": 20,
      "outputs": [
        {
          "name": "stdout",
          "text": "<class 'pandas.core.frame.DataFrame'>\nRangeIndex: 979 entries, 0 to 978\nData columns (total 6 columns):\n #   Column          Non-Null Count  Dtype  \n---  ------          --------------  -----  \n 0   star_rating     979 non-null    float64\n 1   title           979 non-null    object \n 2   content_rating  976 non-null    object \n 3   genre           979 non-null    object \n 4   duration        979 non-null    int64  \n 5   actors_list     979 non-null    object \ndtypes: float64(1), int64(1), object(4)\nmemory usage: 30.7+ KB\n",
          "output_type": "stream"
        }
      ],
      "id": "9f686ea6"
    },
    {
      "cell_type": "markdown",
      "source": "<div dir = \"rtl\" style=\"direction:rtl;line-height:300%;\">\n\t<font face=\"XB Zar\" size=4>\n        فیلم ها را براساس مدت زمان فیلم به صورت نزولی مرتب کنید و پنجاه تای اول را در فایل csv با نام long_time ذخیره کنید \n        <br/>\n    </font>\n</div>",
      "metadata": {},
      "id": "e481f9cc"
    },
    {
      "cell_type": "code",
      "source": "sortedmovies=movies.sort_values(by=['duration'], ascending=False).head(5)\nsortedmovies\nsortedmovies.to_csv(\"long_time.csv\")\n",
      "metadata": {
        "trusted": true
      },
      "execution_count": 21,
      "outputs": [],
      "id": "35b77b02"
    },
    {
      "cell_type": "markdown",
      "source": "<div dir = \"rtl\" style=\"direction:rtl;line-height:300%;\">\n\t<font face=\"XB Zar\" size=4>\n         تابعی بنویسید که نام بازیگر را به عنوان آرگومان بگیرد و تعداد فیلم های برتر از این لیست را که بازی کرده محاسبه کند.\n        <br/>\n    </font>\n</div>",
      "metadata": {},
      "id": "e98ea709"
    },
    {
      "cell_type": "code",
      "source": "def actorfun(dfstr,actor):\n    if str(actor).lower() in str(dfstr).lower():\n        return True\n    \ninputactor='hanks'\n    \nactordf=movies['actors_list'].apply(actorfun,actor=inputactor).sort_values()\ncountactor=actordf.count()\nprint('تعداد فیلم هایی از این لیست را که بازی کرده',countactor,inputactor )",
      "metadata": {
        "trusted": true
      },
      "execution_count": 22,
      "outputs": [
        {
          "name": "stdout",
          "text": "تعداد فیلم هایی از این لیست را که بازی کرده 14 hanks\n",
          "output_type": "stream"
        }
      ],
      "id": "221fa958"
    },
    {
      "cell_type": "markdown",
      "source": "<div dir = \"rtl\" style=\"direction:rtl;line-height:300%;\">\n\t<font face=\"XB Zar\" size=4>\n         میانگین امتیاز فیلم ها را براساس ژانر نمایش به دست آورید.\n        <br/>\n    </font>\n</div>",
      "metadata": {},
      "id": "07d499ba"
    },
    {
      "cell_type": "code",
      "source": "genremean=movies.groupby('genre').star_rating.mean()\ngenremean",
      "metadata": {
        "trusted": true
      },
      "execution_count": 23,
      "outputs": [
        {
          "execution_count": 14,
          "output_type": "execute_result",
          "data": {
            "text/plain": "genre\nAction       7.884559\nAdventure    7.933333\nAnimation    7.914516\nBiography    7.862338\nComedy       7.822436\nCrime        7.916935\nDrama        7.902518\nFamily       7.850000\nFantasy      7.700000\nFilm-Noir    8.033333\nHistory      8.000000\nHorror       7.806897\nMystery      7.975000\nSci-Fi       7.920000\nThriller     7.680000\nWestern      8.255556\nName: star_rating, dtype: float64"
          },
          "metadata": {}
        }
      ],
      "id": "06cc8760"
    },
    {
      "cell_type": "markdown",
      "source": "<div dir = \"rtl\" style=\"direction:rtl;line-height:50%;\">\n\t<font face=\"XB Zar\" size=2>\n       ستونی به این داده ها اضافه کنید که در صورت اینکه یک فیلم مدت نمایش آن 150 دقیقه و یا بیشتر بود مقدار صفر و در غیر اینصورت 1 در هر سطر این ستون قرار گیرد. دیتافریم حاصل را در یک فایل csv ذخیره کنید.\n        <br/>\n    </font>\n</div>",
      "metadata": {},
      "id": "5c281ff9"
    },
    {
      "cell_type": "code",
      "source": "def fun150(x):\n    if x < 150:\n        return 1\n    else:\n        return 0\nmovies[\"col150\"]= movies['duration'].apply(fun150)\n# movies=movies.drop(columns=['newcol'])\nmovies.to_csv('150.csv')\n    ",
      "metadata": {
        "trusted": true
      },
      "execution_count": 24,
      "outputs": [],
      "id": "3ded1efc"
    },
    {
      "cell_type": "markdown",
      "source": "<div dir = \"rtl\" style=\"direction:rtl;line-height:80%;\">\n\t<font face=\"XB Zar\" size=3>\n        عنوان ستونها را به نحوی تغییر دهید که در ستون های دارای _(آندرلاین) فاصله قرار گیرد. به عنوان مثال star_rating به star rating تبدیل می شود.\n        <br/>\n    </font>\n</div>",
      "metadata": {},
      "id": "bf31c1c5"
    },
    {
      "cell_type": "code",
      "source": "movies2=movies.rename(columns={'star_rating':'star rating','content_rating':'content rating','actors_list':'actors list'})\nmovies2.head(1)",
      "metadata": {
        "trusted": true
      },
      "execution_count": 25,
      "outputs": [
        {
          "execution_count": 16,
          "output_type": "execute_result",
          "data": {
            "text/plain": "   star rating                     title content rating  genre  duration  \\\n0          9.3  The Shawshank Redemption              R  Crime       142   \n\n                                         actors list  col150  \n0  [u'Tim Robbins', u'Morgan Freeman', u'Bob Gunt...       1  ",
            "text/html": "<div>\n<style scoped>\n    .dataframe tbody tr th:only-of-type {\n        vertical-align: middle;\n    }\n\n    .dataframe tbody tr th {\n        vertical-align: top;\n    }\n\n    .dataframe thead th {\n        text-align: right;\n    }\n</style>\n<table border=\"1\" class=\"dataframe\">\n  <thead>\n    <tr style=\"text-align: right;\">\n      <th></th>\n      <th>star rating</th>\n      <th>title</th>\n      <th>content rating</th>\n      <th>genre</th>\n      <th>duration</th>\n      <th>actors list</th>\n      <th>col150</th>\n    </tr>\n  </thead>\n  <tbody>\n    <tr>\n      <th>0</th>\n      <td>9.3</td>\n      <td>The Shawshank Redemption</td>\n      <td>R</td>\n      <td>Crime</td>\n      <td>142</td>\n      <td>[u'Tim Robbins', u'Morgan Freeman', u'Bob Gunt...</td>\n      <td>1</td>\n    </tr>\n  </tbody>\n</table>\n</div>"
          },
          "metadata": {}
        }
      ],
      "id": "2bebdfba"
    },
    {
      "cell_type": "markdown",
      "source": "<div dir = \"rtl\" style=\"direction:rtl;line-height:300%;\">\n\t<font face=\"XB Zar\" size=4>\n        داده ها را براساس ژانر گروه بندی و مرتب کنید و از هر ژانر صرفا سه تای برتر را نمایش دهید\n        <br/>\n    </font>\n</div>",
      "metadata": {},
      "id": "4163bd09"
    },
    {
      "cell_type": "code",
      "source": "cc=movies\ncc[\"rank\"] = cc.groupby(\"genre\")[\"star_rating\"].rank(method=\"dense\", ascending=False)\ndd=cc[cc['rank']<3]\ndd.head(10)",
      "metadata": {
        "trusted": true
      },
      "execution_count": 26,
      "outputs": [
        {
          "execution_count": 17,
          "output_type": "execute_result",
          "data": {
            "text/plain": "    star_rating                                              title  \\\n0           9.3                           The Shawshank Redemption   \n1           9.2                                      The Godfather   \n3           9.0                                    The Dark Knight   \n5           8.9                                       12 Angry Men   \n6           8.9                     The Good, the Bad and the Ugly   \n7           8.9      The Lord of the Rings: The Return of the King   \n8           8.9                                   Schindler's List   \n9           8.9                                         Fight Club   \n10          8.8  The Lord of the Rings: The Fellowship of the Ring   \n11          8.8                                          Inception   \n\n   content_rating      genre  duration  \\\n0               R      Crime       142   \n1               R      Crime       175   \n3           PG-13     Action       152   \n5       NOT RATED      Drama        96   \n6       NOT RATED    Western       161   \n7           PG-13  Adventure       201   \n8               R  Biography       195   \n9               R      Drama       139   \n10          PG-13  Adventure       178   \n11          PG-13     Action       148   \n\n                                          actors_list  col150  rank  \n0   [u'Tim Robbins', u'Morgan Freeman', u'Bob Gunt...       1   1.0  \n1     [u'Marlon Brando', u'Al Pacino', u'James Caan']       0   2.0  \n3   [u'Christian Bale', u'Heath Ledger', u'Aaron E...       0   1.0  \n5   [u'Henry Fonda', u'Lee J. Cobb', u'Martin Bals...       1   1.0  \n6   [u'Clint Eastwood', u'Eli Wallach', u'Lee Van ...       0   1.0  \n7   [u'Elijah Wood', u'Viggo Mortensen', u'Ian McK...       0   1.0  \n8   [u'Liam Neeson', u'Ralph Fiennes', u'Ben Kings...       0   1.0  \n9   [u'Brad Pitt', u'Edward Norton', u'Helena Bonh...       1   1.0  \n10  [u'Elijah Wood', u'Ian McKellen', u'Orlando Bl...       0   2.0  \n11  [u'Leonardo DiCaprio', u'Joseph Gordon-Levitt'...       1   2.0  ",
            "text/html": "<div>\n<style scoped>\n    .dataframe tbody tr th:only-of-type {\n        vertical-align: middle;\n    }\n\n    .dataframe tbody tr th {\n        vertical-align: top;\n    }\n\n    .dataframe thead th {\n        text-align: right;\n    }\n</style>\n<table border=\"1\" class=\"dataframe\">\n  <thead>\n    <tr style=\"text-align: right;\">\n      <th></th>\n      <th>star_rating</th>\n      <th>title</th>\n      <th>content_rating</th>\n      <th>genre</th>\n      <th>duration</th>\n      <th>actors_list</th>\n      <th>col150</th>\n      <th>rank</th>\n    </tr>\n  </thead>\n  <tbody>\n    <tr>\n      <th>0</th>\n      <td>9.3</td>\n      <td>The Shawshank Redemption</td>\n      <td>R</td>\n      <td>Crime</td>\n      <td>142</td>\n      <td>[u'Tim Robbins', u'Morgan Freeman', u'Bob Gunt...</td>\n      <td>1</td>\n      <td>1.0</td>\n    </tr>\n    <tr>\n      <th>1</th>\n      <td>9.2</td>\n      <td>The Godfather</td>\n      <td>R</td>\n      <td>Crime</td>\n      <td>175</td>\n      <td>[u'Marlon Brando', u'Al Pacino', u'James Caan']</td>\n      <td>0</td>\n      <td>2.0</td>\n    </tr>\n    <tr>\n      <th>3</th>\n      <td>9.0</td>\n      <td>The Dark Knight</td>\n      <td>PG-13</td>\n      <td>Action</td>\n      <td>152</td>\n      <td>[u'Christian Bale', u'Heath Ledger', u'Aaron E...</td>\n      <td>0</td>\n      <td>1.0</td>\n    </tr>\n    <tr>\n      <th>5</th>\n      <td>8.9</td>\n      <td>12 Angry Men</td>\n      <td>NOT RATED</td>\n      <td>Drama</td>\n      <td>96</td>\n      <td>[u'Henry Fonda', u'Lee J. Cobb', u'Martin Bals...</td>\n      <td>1</td>\n      <td>1.0</td>\n    </tr>\n    <tr>\n      <th>6</th>\n      <td>8.9</td>\n      <td>The Good, the Bad and the Ugly</td>\n      <td>NOT RATED</td>\n      <td>Western</td>\n      <td>161</td>\n      <td>[u'Clint Eastwood', u'Eli Wallach', u'Lee Van ...</td>\n      <td>0</td>\n      <td>1.0</td>\n    </tr>\n    <tr>\n      <th>7</th>\n      <td>8.9</td>\n      <td>The Lord of the Rings: The Return of the King</td>\n      <td>PG-13</td>\n      <td>Adventure</td>\n      <td>201</td>\n      <td>[u'Elijah Wood', u'Viggo Mortensen', u'Ian McK...</td>\n      <td>0</td>\n      <td>1.0</td>\n    </tr>\n    <tr>\n      <th>8</th>\n      <td>8.9</td>\n      <td>Schindler's List</td>\n      <td>R</td>\n      <td>Biography</td>\n      <td>195</td>\n      <td>[u'Liam Neeson', u'Ralph Fiennes', u'Ben Kings...</td>\n      <td>0</td>\n      <td>1.0</td>\n    </tr>\n    <tr>\n      <th>9</th>\n      <td>8.9</td>\n      <td>Fight Club</td>\n      <td>R</td>\n      <td>Drama</td>\n      <td>139</td>\n      <td>[u'Brad Pitt', u'Edward Norton', u'Helena Bonh...</td>\n      <td>1</td>\n      <td>1.0</td>\n    </tr>\n    <tr>\n      <th>10</th>\n      <td>8.8</td>\n      <td>The Lord of the Rings: The Fellowship of the Ring</td>\n      <td>PG-13</td>\n      <td>Adventure</td>\n      <td>178</td>\n      <td>[u'Elijah Wood', u'Ian McKellen', u'Orlando Bl...</td>\n      <td>0</td>\n      <td>2.0</td>\n    </tr>\n    <tr>\n      <th>11</th>\n      <td>8.8</td>\n      <td>Inception</td>\n      <td>PG-13</td>\n      <td>Action</td>\n      <td>148</td>\n      <td>[u'Leonardo DiCaprio', u'Joseph Gordon-Levitt'...</td>\n      <td>1</td>\n      <td>2.0</td>\n    </tr>\n  </tbody>\n</table>\n</div>"
          },
          "metadata": {}
        }
      ],
      "id": "3a91a7a2-d5eb-40cf-9bdd-cd9132be9c94"
    },
    {
      "cell_type": "code",
      "source": "\ndd=dd.groupby([\"genre\",'title','star_rating','rank'])['star_rating'].mean()\ndd.head(30)\n# hiring.groupby(['language','month'])['salary'].mean()",
      "metadata": {
        "trusted": true
      },
      "execution_count": 27,
      "outputs": [
        {
          "execution_count": 18,
          "output_type": "execute_result",
          "data": {
            "text/plain": "genre      title                                                                 star_rating  rank\nAction     Inception                                                             8.8          2.0     8.8\n           Star Wars: Episode V - The Empire Strikes Back                        8.8          2.0     8.8\n           The Dark Knight                                                       9.0          1.0     9.0\nAdventure  The Lord of the Rings: The Fellowship of the Ring                     8.8          2.0     8.8\n           The Lord of the Rings: The Return of the King                         8.9          1.0     8.9\n           The Lord of the Rings: The Two Towers                                 8.8          2.0     8.8\nAnimation  Grave of the Fireflies                                                8.5          2.0     8.5\n           Spirited Away                                                         8.6          1.0     8.6\n           The Lion King                                                         8.5          2.0     8.5\nBiography  Goodfellas                                                            8.7          2.0     8.7\n           Schindler's List                                                      8.9          1.0     8.9\nComedy     3 Idiots                                                              8.5          2.0     8.5\n           City Lights                                                           8.6          1.0     8.6\n           Dr. Strangelove or: How I Learned to Stop Worrying and Love the Bomb  8.5          2.0     8.5\n           Life Is Beautiful                                                     8.6          1.0     8.6\n           Modern Times                                                          8.6          1.0     8.6\n           The Great Dictator                                                    8.5          2.0     8.5\nCrime      The Godfather                                                         9.2          2.0     9.2\n           The Shawshank Redemption                                              9.3          1.0     9.3\nDrama      12 Angry Men                                                          8.9          1.0     8.9\n           Fight Club                                                            8.9          1.0     8.9\n           Forrest Gump                                                          8.8          2.0     8.8\nFamily     E.T. the Extra-Terrestrial                                            7.9          1.0     7.9\n           Willy Wonka & the Chocolate Factory                                   7.8          2.0     7.8\nFantasy    The City of Lost Children                                             7.7          1.0     7.7\nFilm-Noir  Laura                                                                 8.1          2.0     8.1\n           The Third Man                                                         8.3          1.0     8.3\nHistory    Battleship Potemkin                                                   8.0          1.0     8.0\nHorror     Alien                                                                 8.5          2.0     8.5\n           Psycho                                                                8.6          1.0     8.6\nName: star_rating, dtype: float64"
          },
          "metadata": {}
        }
      ],
      "id": "7d040572-33f5-43c2-ac31-2a7ba001ac17"
    },
    {
      "cell_type": "markdown",
      "source": "<div dir = \"rtl\" style=\"direction:rtl;line-height:300%;\">\n\t<font face=\"XB Zar\" size=4>\n\t\t<font color=red size=5>\n            سوال سوم:‌\n        </font>\n        تفاوت بین متد read_table و read_csv در ماژول pandas چیست؟\n        <br/>\n    </font>\n</div>",
      "metadata": {},
      "id": "9a496ebe"
    },
    {
      "cell_type": "code",
      "source": "read_csv() delimiter is a comma character. read_table() is a delimiter of tab.\n\n\n\n",
      "metadata": {},
      "execution_count": null,
      "outputs": [],
      "id": "f5e1913e-e3e9-44b1-baf8-fe67f4abe89a"
    },
    {
      "cell_type": "markdown",
      "source": "<div dir = \"rtl\" style=\"direction:rtl;line-height:300%;\">\n\t<font face=\"XB Zar\" size=4>\n\t\t<font color=red size=5>\n            سوال چهارم:‌\n        </font>\n       توضیح دهید crosstab در پانداس چه میکند و عملکرد آنرا بر روی کد زیر توضیح دهید؟\n        <br/>\n    </font>\n</div>",
      "metadata": {},
      "id": "46ac93c3"
    },
    {
      "cell_type": "markdown",
      "source": "<div dir = \"rtl\" style=\"direction:rtl;line-height:300%;\">\n\t<font face=\"XB Zar\" size=4>\n\t\t<font color=red size=5>\n        </font>\n        یک فیلد را در ردیف و یکی را در ستون گذاشته و متناظر آنها را میشمارد\n        <br/>\n    </font>\n</div>",
      "metadata": {},
      "id": "2ca2e472-5c23-4019-a83e-b04908dd66e5"
    },
    {
      "cell_type": "code",
      "source": "pd.crosstab(movies.genre, movies.content_rating)",
      "metadata": {
        "trusted": true
      },
      "execution_count": 28,
      "outputs": [
        {
          "execution_count": 19,
          "output_type": "execute_result",
          "data": {
            "text/plain": "content_rating  APPROVED   G  GP  NC-17  NOT RATED  PASSED  PG  PG-13    R  \\\ngenre                                                                        \nAction                 3   1   1      0          4       1  11     44   67   \nAdventure              3   2   0      0          5       1  21     23   17   \nAnimation              3  20   0      0          3       0  25      5    5   \nBiography              1   2   1      0          1       0   6     29   36   \nComedy                 9   2   1      1         16       3  23     23   73   \nCrime                  6   0   0      1          7       1   6      4   87   \nDrama                 12   3   0      4         24       1  25     55  143   \nFamily                 0   1   0      0          0       0   1      0    0   \nFantasy                0   0   0      0          0       0   0      0    1   \nFilm-Noir              1   0   0      0          1       0   0      0    0   \nHistory                0   0   0      0          0       0   0      0    0   \nHorror                 2   0   0      1          1       0   1      2   16   \nMystery                4   1   0      0          1       0   1      2    6   \nSci-Fi                 1   0   0      0          0       0   0      1    3   \nThriller               1   0   0      0          0       0   1      0    3   \nWestern                1   0   0      0          2       0   2      1    3   \n\ncontent_rating  TV-MA  UNRATED  X  \ngenre                              \nAction              0        3  0  \nAdventure           0        2  0  \nAnimation           0        1  0  \nBiography           0        0  0  \nComedy              0        4  1  \nCrime               0       11  1  \nDrama               1        9  1  \nFamily              0        0  0  \nFantasy             0        0  0  \nFilm-Noir           0        1  0  \nHistory             0        1  0  \nHorror              0        5  1  \nMystery             0        1  0  \nSci-Fi              0        0  0  \nThriller            0        0  0  \nWestern             0        0  0  ",
            "text/html": "<div>\n<style scoped>\n    .dataframe tbody tr th:only-of-type {\n        vertical-align: middle;\n    }\n\n    .dataframe tbody tr th {\n        vertical-align: top;\n    }\n\n    .dataframe thead th {\n        text-align: right;\n    }\n</style>\n<table border=\"1\" class=\"dataframe\">\n  <thead>\n    <tr style=\"text-align: right;\">\n      <th>content_rating</th>\n      <th>APPROVED</th>\n      <th>G</th>\n      <th>GP</th>\n      <th>NC-17</th>\n      <th>NOT RATED</th>\n      <th>PASSED</th>\n      <th>PG</th>\n      <th>PG-13</th>\n      <th>R</th>\n      <th>TV-MA</th>\n      <th>UNRATED</th>\n      <th>X</th>\n    </tr>\n    <tr>\n      <th>genre</th>\n      <th></th>\n      <th></th>\n      <th></th>\n      <th></th>\n      <th></th>\n      <th></th>\n      <th></th>\n      <th></th>\n      <th></th>\n      <th></th>\n      <th></th>\n      <th></th>\n    </tr>\n  </thead>\n  <tbody>\n    <tr>\n      <th>Action</th>\n      <td>3</td>\n      <td>1</td>\n      <td>1</td>\n      <td>0</td>\n      <td>4</td>\n      <td>1</td>\n      <td>11</td>\n      <td>44</td>\n      <td>67</td>\n      <td>0</td>\n      <td>3</td>\n      <td>0</td>\n    </tr>\n    <tr>\n      <th>Adventure</th>\n      <td>3</td>\n      <td>2</td>\n      <td>0</td>\n      <td>0</td>\n      <td>5</td>\n      <td>1</td>\n      <td>21</td>\n      <td>23</td>\n      <td>17</td>\n      <td>0</td>\n      <td>2</td>\n      <td>0</td>\n    </tr>\n    <tr>\n      <th>Animation</th>\n      <td>3</td>\n      <td>20</td>\n      <td>0</td>\n      <td>0</td>\n      <td>3</td>\n      <td>0</td>\n      <td>25</td>\n      <td>5</td>\n      <td>5</td>\n      <td>0</td>\n      <td>1</td>\n      <td>0</td>\n    </tr>\n    <tr>\n      <th>Biography</th>\n      <td>1</td>\n      <td>2</td>\n      <td>1</td>\n      <td>0</td>\n      <td>1</td>\n      <td>0</td>\n      <td>6</td>\n      <td>29</td>\n      <td>36</td>\n      <td>0</td>\n      <td>0</td>\n      <td>0</td>\n    </tr>\n    <tr>\n      <th>Comedy</th>\n      <td>9</td>\n      <td>2</td>\n      <td>1</td>\n      <td>1</td>\n      <td>16</td>\n      <td>3</td>\n      <td>23</td>\n      <td>23</td>\n      <td>73</td>\n      <td>0</td>\n      <td>4</td>\n      <td>1</td>\n    </tr>\n    <tr>\n      <th>Crime</th>\n      <td>6</td>\n      <td>0</td>\n      <td>0</td>\n      <td>1</td>\n      <td>7</td>\n      <td>1</td>\n      <td>6</td>\n      <td>4</td>\n      <td>87</td>\n      <td>0</td>\n      <td>11</td>\n      <td>1</td>\n    </tr>\n    <tr>\n      <th>Drama</th>\n      <td>12</td>\n      <td>3</td>\n      <td>0</td>\n      <td>4</td>\n      <td>24</td>\n      <td>1</td>\n      <td>25</td>\n      <td>55</td>\n      <td>143</td>\n      <td>1</td>\n      <td>9</td>\n      <td>1</td>\n    </tr>\n    <tr>\n      <th>Family</th>\n      <td>0</td>\n      <td>1</td>\n      <td>0</td>\n      <td>0</td>\n      <td>0</td>\n      <td>0</td>\n      <td>1</td>\n      <td>0</td>\n      <td>0</td>\n      <td>0</td>\n      <td>0</td>\n      <td>0</td>\n    </tr>\n    <tr>\n      <th>Fantasy</th>\n      <td>0</td>\n      <td>0</td>\n      <td>0</td>\n      <td>0</td>\n      <td>0</td>\n      <td>0</td>\n      <td>0</td>\n      <td>0</td>\n      <td>1</td>\n      <td>0</td>\n      <td>0</td>\n      <td>0</td>\n    </tr>\n    <tr>\n      <th>Film-Noir</th>\n      <td>1</td>\n      <td>0</td>\n      <td>0</td>\n      <td>0</td>\n      <td>1</td>\n      <td>0</td>\n      <td>0</td>\n      <td>0</td>\n      <td>0</td>\n      <td>0</td>\n      <td>1</td>\n      <td>0</td>\n    </tr>\n    <tr>\n      <th>History</th>\n      <td>0</td>\n      <td>0</td>\n      <td>0</td>\n      <td>0</td>\n      <td>0</td>\n      <td>0</td>\n      <td>0</td>\n      <td>0</td>\n      <td>0</td>\n      <td>0</td>\n      <td>1</td>\n      <td>0</td>\n    </tr>\n    <tr>\n      <th>Horror</th>\n      <td>2</td>\n      <td>0</td>\n      <td>0</td>\n      <td>1</td>\n      <td>1</td>\n      <td>0</td>\n      <td>1</td>\n      <td>2</td>\n      <td>16</td>\n      <td>0</td>\n      <td>5</td>\n      <td>1</td>\n    </tr>\n    <tr>\n      <th>Mystery</th>\n      <td>4</td>\n      <td>1</td>\n      <td>0</td>\n      <td>0</td>\n      <td>1</td>\n      <td>0</td>\n      <td>1</td>\n      <td>2</td>\n      <td>6</td>\n      <td>0</td>\n      <td>1</td>\n      <td>0</td>\n    </tr>\n    <tr>\n      <th>Sci-Fi</th>\n      <td>1</td>\n      <td>0</td>\n      <td>0</td>\n      <td>0</td>\n      <td>0</td>\n      <td>0</td>\n      <td>0</td>\n      <td>1</td>\n      <td>3</td>\n      <td>0</td>\n      <td>0</td>\n      <td>0</td>\n    </tr>\n    <tr>\n      <th>Thriller</th>\n      <td>1</td>\n      <td>0</td>\n      <td>0</td>\n      <td>0</td>\n      <td>0</td>\n      <td>0</td>\n      <td>1</td>\n      <td>0</td>\n      <td>3</td>\n      <td>0</td>\n      <td>0</td>\n      <td>0</td>\n    </tr>\n    <tr>\n      <th>Western</th>\n      <td>1</td>\n      <td>0</td>\n      <td>0</td>\n      <td>0</td>\n      <td>2</td>\n      <td>0</td>\n      <td>2</td>\n      <td>1</td>\n      <td>3</td>\n      <td>0</td>\n      <td>0</td>\n      <td>0</td>\n    </tr>\n  </tbody>\n</table>\n</div>"
          },
          "metadata": {}
        }
      ],
      "id": "360e387f"
    },
    {
      "cell_type": "markdown",
      "source": "<div dir = \"rtl\" style=\"direction:rtl;line-height:300%;\">\n\t<font face=\"XB Zar\" size=4>\n\t\t<font color=red size=5>\n            سوال پنچم:‌\n        </font>\n         توضیح دهید متد corr در پانداس چه میکند و عملکرد آنرا بر روی کد زیر توضیح دهید؟ \n        <br/>\n    </font>\n</div>",
      "metadata": {},
      "id": "38c95fcc"
    },
    {
      "cell_type": "markdown",
      "source": "<div dir = \"rtl\" style=\"direction:rtl;line-height:300%;\">\n\t<font face=\"XB Zar\" size=4>\n\t\t<font color=red size=5>\n        </font>\nهمبستگی بین متغییرها را محاسبه میکند        <br/>\n    </font>\n</div>",
      "metadata": {},
      "id": "c3c0d8dc-9a8a-45d9-9fc2-c815dec19a6e"
    },
    {
      "cell_type": "code",
      "source": "movies.corr()",
      "metadata": {
        "trusted": true
      },
      "execution_count": 33,
      "outputs": [
        {
          "execution_count": 21,
          "output_type": "execute_result",
          "data": {
            "text/plain": "             star_rating  duration    col150      rank\nstar_rating     1.000000  0.227149 -0.221328 -0.827144\nduration        0.227149  1.000000 -0.744894 -0.039577\ncol150         -0.221328 -0.744894  1.000000  0.111256\nrank           -0.827144 -0.039577  0.111256  1.000000",
            "text/html": "<div>\n<style scoped>\n    .dataframe tbody tr th:only-of-type {\n        vertical-align: middle;\n    }\n\n    .dataframe tbody tr th {\n        vertical-align: top;\n    }\n\n    .dataframe thead th {\n        text-align: right;\n    }\n</style>\n<table border=\"1\" class=\"dataframe\">\n  <thead>\n    <tr style=\"text-align: right;\">\n      <th></th>\n      <th>star_rating</th>\n      <th>duration</th>\n      <th>col150</th>\n      <th>rank</th>\n    </tr>\n  </thead>\n  <tbody>\n    <tr>\n      <th>star_rating</th>\n      <td>1.000000</td>\n      <td>0.227149</td>\n      <td>-0.221328</td>\n      <td>-0.827144</td>\n    </tr>\n    <tr>\n      <th>duration</th>\n      <td>0.227149</td>\n      <td>1.000000</td>\n      <td>-0.744894</td>\n      <td>-0.039577</td>\n    </tr>\n    <tr>\n      <th>col150</th>\n      <td>-0.221328</td>\n      <td>-0.744894</td>\n      <td>1.000000</td>\n      <td>0.111256</td>\n    </tr>\n    <tr>\n      <th>rank</th>\n      <td>-0.827144</td>\n      <td>-0.039577</td>\n      <td>0.111256</td>\n      <td>1.000000</td>\n    </tr>\n  </tbody>\n</table>\n</div>"
          },
          "metadata": {}
        }
      ],
      "id": "6b8ccdfa"
    },
    {
      "cell_type": "markdown",
      "source": "<div dir = \"rtl\" style=\"direction:rtl;line-height:300%;\">\n\t<font face=\"XB Zar\" size=4>\n\t\t<font color=red size=5>\n            سوال سوم:‌\n        </font>\n        با استفاده از متد value_counts تعداد فیلمها در هر ریت محتوا را به دست آورید.\n        <br/>\n    </font>\n</div>",
      "metadata": {},
      "id": "1188072f"
    },
    {
      "cell_type": "code",
      "source": "movies.value_counts('content_rating')\n",
      "metadata": {
        "trusted": true
      },
      "execution_count": 37,
      "outputs": [
        {
          "execution_count": 25,
          "output_type": "execute_result",
          "data": {
            "text/plain": "content_rating\nR            460\nPG-13        189\nPG           123\nNOT RATED     65\nAPPROVED      47\nUNRATED       38\nG             32\nNC-17          7\nPASSED         7\nX              4\nGP             3\nTV-MA          1\ndtype: int64"
          },
          "metadata": {}
        }
      ],
      "id": "2a59cc76"
    },
    {
      "cell_type": "markdown",
      "source": "<div dir = \"rtl\" style=\"direction:rtl;line-height:300%;\">\n\t<font face=\"XB Zar\" size=4>\n\t\t<font color=red size=5>\n            سوال ششم:‌\n        </font>\n        با استفاده از متد sample هفتاد و پنج درصد سطرها را در یک متغیر به نام sample_1 بریزید. درنهایت با استفاده از متد drop از دیتافریم اصلی این سطرها را حذف و دیتافریم جدید را در sample_2 بریزید\n        <br/>\n    </font>\n</div>",
      "metadata": {},
      "id": "ed57dc0a"
    },
    {
      "cell_type": "code",
      "source": "sample1=movies.sample(frac =.75)\n# tt=movies.drop(sample1, axis=0)\ntitletrue = movies['title'].isin(sample1['title'])\n\nsample2=movies.drop(movies[titletrue].index)\nsample2\n\n",
      "metadata": {
        "trusted": true
      },
      "execution_count": 49,
      "outputs": [
        {
          "execution_count": 37,
          "output_type": "execute_result",
          "data": {
            "text/plain": "     star_rating                                            title  \\\n1            9.2                                    The Godfather   \n3            9.0                                  The Dark Knight   \n4            8.9                                     Pulp Fiction   \n6            8.9                   The Good, the Bad and the Ugly   \n7            8.9    The Lord of the Rings: The Return of the King   \n..           ...                                              ...   \n969          7.4                              Law Abiding Citizen   \n971          7.4                               Death at a Funeral   \n972          7.4                                   Blue Valentine   \n975          7.4                      Back to the Future Part III   \n976          7.4  Master and Commander: The Far Side of the World   \n\n    content_rating      genre  duration  \\\n1                R      Crime       175   \n3            PG-13     Action       152   \n4                R      Crime       154   \n6        NOT RATED    Western       161   \n7            PG-13  Adventure       201   \n..             ...        ...       ...   \n969              R      Crime       109   \n971              R     Comedy        90   \n972          NC-17      Drama       112   \n975             PG  Adventure       118   \n976          PG-13     Action       138   \n\n                                           actors_list  col150  rank  \n1      [u'Marlon Brando', u'Al Pacino', u'James Caan']       0   2.0  \n3    [u'Christian Bale', u'Heath Ledger', u'Aaron E...       0   1.0  \n4    [u'John Travolta', u'Uma Thurman', u'Samuel L....       0   4.0  \n6    [u'Clint Eastwood', u'Eli Wallach', u'Lee Van ...       0   1.0  \n7    [u'Elijah Wood', u'Viggo Mortensen', u'Ian McK...       0   1.0  \n..                                                 ...     ...   ...  \n969  [u'Gerard Butler', u'Jamie Foxx', u'Leslie Bibb']       1  18.0  \n971  [u'Matthew Macfadyen', u'Peter Dinklage', u'Ew...       1  13.0  \n972  [u'Ryan Gosling', u'Michelle Williams', u'John...       1  16.0  \n975  [u'Michael J. Fox', u'Christopher Lloyd', u'Ma...       1  15.0  \n976  [u'Russell Crowe', u'Paul Bettany', u'Billy Bo...       1  16.0  \n\n[244 rows x 8 columns]",
            "text/html": "<div>\n<style scoped>\n    .dataframe tbody tr th:only-of-type {\n        vertical-align: middle;\n    }\n\n    .dataframe tbody tr th {\n        vertical-align: top;\n    }\n\n    .dataframe thead th {\n        text-align: right;\n    }\n</style>\n<table border=\"1\" class=\"dataframe\">\n  <thead>\n    <tr style=\"text-align: right;\">\n      <th></th>\n      <th>star_rating</th>\n      <th>title</th>\n      <th>content_rating</th>\n      <th>genre</th>\n      <th>duration</th>\n      <th>actors_list</th>\n      <th>col150</th>\n      <th>rank</th>\n    </tr>\n  </thead>\n  <tbody>\n    <tr>\n      <th>1</th>\n      <td>9.2</td>\n      <td>The Godfather</td>\n      <td>R</td>\n      <td>Crime</td>\n      <td>175</td>\n      <td>[u'Marlon Brando', u'Al Pacino', u'James Caan']</td>\n      <td>0</td>\n      <td>2.0</td>\n    </tr>\n    <tr>\n      <th>3</th>\n      <td>9.0</td>\n      <td>The Dark Knight</td>\n      <td>PG-13</td>\n      <td>Action</td>\n      <td>152</td>\n      <td>[u'Christian Bale', u'Heath Ledger', u'Aaron E...</td>\n      <td>0</td>\n      <td>1.0</td>\n    </tr>\n    <tr>\n      <th>4</th>\n      <td>8.9</td>\n      <td>Pulp Fiction</td>\n      <td>R</td>\n      <td>Crime</td>\n      <td>154</td>\n      <td>[u'John Travolta', u'Uma Thurman', u'Samuel L....</td>\n      <td>0</td>\n      <td>4.0</td>\n    </tr>\n    <tr>\n      <th>6</th>\n      <td>8.9</td>\n      <td>The Good, the Bad and the Ugly</td>\n      <td>NOT RATED</td>\n      <td>Western</td>\n      <td>161</td>\n      <td>[u'Clint Eastwood', u'Eli Wallach', u'Lee Van ...</td>\n      <td>0</td>\n      <td>1.0</td>\n    </tr>\n    <tr>\n      <th>7</th>\n      <td>8.9</td>\n      <td>The Lord of the Rings: The Return of the King</td>\n      <td>PG-13</td>\n      <td>Adventure</td>\n      <td>201</td>\n      <td>[u'Elijah Wood', u'Viggo Mortensen', u'Ian McK...</td>\n      <td>0</td>\n      <td>1.0</td>\n    </tr>\n    <tr>\n      <th>...</th>\n      <td>...</td>\n      <td>...</td>\n      <td>...</td>\n      <td>...</td>\n      <td>...</td>\n      <td>...</td>\n      <td>...</td>\n      <td>...</td>\n    </tr>\n    <tr>\n      <th>969</th>\n      <td>7.4</td>\n      <td>Law Abiding Citizen</td>\n      <td>R</td>\n      <td>Crime</td>\n      <td>109</td>\n      <td>[u'Gerard Butler', u'Jamie Foxx', u'Leslie Bibb']</td>\n      <td>1</td>\n      <td>18.0</td>\n    </tr>\n    <tr>\n      <th>971</th>\n      <td>7.4</td>\n      <td>Death at a Funeral</td>\n      <td>R</td>\n      <td>Comedy</td>\n      <td>90</td>\n      <td>[u'Matthew Macfadyen', u'Peter Dinklage', u'Ew...</td>\n      <td>1</td>\n      <td>13.0</td>\n    </tr>\n    <tr>\n      <th>972</th>\n      <td>7.4</td>\n      <td>Blue Valentine</td>\n      <td>NC-17</td>\n      <td>Drama</td>\n      <td>112</td>\n      <td>[u'Ryan Gosling', u'Michelle Williams', u'John...</td>\n      <td>1</td>\n      <td>16.0</td>\n    </tr>\n    <tr>\n      <th>975</th>\n      <td>7.4</td>\n      <td>Back to the Future Part III</td>\n      <td>PG</td>\n      <td>Adventure</td>\n      <td>118</td>\n      <td>[u'Michael J. Fox', u'Christopher Lloyd', u'Ma...</td>\n      <td>1</td>\n      <td>15.0</td>\n    </tr>\n    <tr>\n      <th>976</th>\n      <td>7.4</td>\n      <td>Master and Commander: The Far Side of the World</td>\n      <td>PG-13</td>\n      <td>Action</td>\n      <td>138</td>\n      <td>[u'Russell Crowe', u'Paul Bettany', u'Billy Bo...</td>\n      <td>1</td>\n      <td>16.0</td>\n    </tr>\n  </tbody>\n</table>\n<p>244 rows × 8 columns</p>\n</div>"
          },
          "metadata": {}
        }
      ],
      "id": "68efdabb"
    },
    {
      "cell_type": "markdown",
      "source": "<div dir = \"rtl\" style=\"direction:rtl;line-height:300%;\">\n\t<font face=\"XB Zar\" size=4>\n\t\t<font color=red size=5>\n            سوال هفتم:‌\n        </font>\n         متد pivot_table چه عملکردی دارد؟\n        <br/>\n    </font>\n</div>",
      "metadata": {},
      "id": "a4e3c568"
    },
    {
      "cell_type": "markdown",
      "source": "<div dir = \"rtl\" style=\"direction:rtl;line-height:300%;\">\n\t<font face=\"XB Zar\" size=4>\n\t\t<font color=red size=5>\n            جواب:‌\n        </font>\n        این متد یک دیتافریم و متغییرهایی را برای شکل دادن به داده میگیرد\nو خروجی را مطابق یک جدول میدهد \nاین جدول میتواند براساس لولا قراردادن یک متغییر و براساس متغییرهای دیگر دیتافریم در ستون ها از داده های عددی دیتافریم جمعُ‌میانگین و ... بگیرد\n        <br/>\n    </font>\n</div>",
      "metadata": {},
      "id": "7b9af449-31e4-47c0-857b-179f7bf905d8"
    },
    {
      "cell_type": "code",
      "source": "",
      "metadata": {},
      "execution_count": null,
      "outputs": [],
      "id": "adf7487b-6533-43ba-b88d-f6c2442c8ae6"
    }
  ]
}