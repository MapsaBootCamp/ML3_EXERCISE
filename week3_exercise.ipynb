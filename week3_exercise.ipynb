{
 "cells": [
  {
   "cell_type": "markdown",
   "id": "bc7a40f1",
   "metadata": {},
   "source": [
    "<div dir = \"rtl\" style=\"direction:rtl;line-height:300%;\">\n",
    "\t<font face=\"XB Zar\" size=6 color=#F32500>\n",
    "        <div  align=center>\n",
    "            تمرین هفته سوم بوت کمپ یادگیری ماشین-\n",
    "            مپصا\n",
    "        </div>\n",
    "        <br/>\n",
    "    </font>\n",
    "</div>\n"
   ]
  },
  {
   "cell_type": "markdown",
   "id": "34113bfc",
   "metadata": {},
   "source": [
    "<div style=\"direction:rtl;line-height:300%;\">\n",
    "\t<font face=\"XB Zar\" size=4>\n",
    "\t\t<div align=center>\n",
    "\t\t\t<font face=\"IranNastaliq\" size=5>    \n",
    "                  چون عهده نمی‌شود کسی فردا را\n",
    "                <br><br>\n",
    "                 حالی خوش دار این دل پر سودا را\n",
    "                <br><br>\n",
    "                می نوش به ماهتاب ای ماه که ماه\n",
    "                <br><br>\n",
    "                بسیار بتابد و نیابد ما را        \t\t\t   \t\n",
    "                <p></p>\n",
    "\t\t\t</font>\n",
    "        </div>\n",
    "    </font>\n",
    "</div>\n"
   ]
  },
  {
   "cell_type": "code",
   "execution_count": 53,
   "id": "8e2eddaf",
   "metadata": {},
   "outputs": [],
   "source": [
    "import numpy as np\n",
    "import pandas as pd"
   ]
  },
  {
   "cell_type": "markdown",
   "id": "4278e1df",
   "metadata": {},
   "source": [
    "<div dir = \"rtl\" style=\"direction:rtl;line-height:300%;\">\n",
    "\t<font face=\"XB Zar\" size=4>\n",
    "\t\t<font color=red size=5>\n",
    "            سوال اول:‌\n",
    "            </font>\n",
    "        <font>\n",
    "            مجموعه داده های زیر را در نظر بگیرید\n",
    "        </font>\n",
    "        <br/>\n",
    "    </font>\n",
    "</div>"
   ]
  },
  {
   "cell_type": "code",
   "execution_count": 54,
   "id": "0cd2f85f",
   "metadata": {},
   "outputs": [
    {
     "data": {
      "text/plain": "array([ 4.5 ,  7.8 ,  6.5 ,  0.5 ,  8.  ,  6.5 , 19.  , 13.5 ,  2.5 ,\n       17.  , 19.  , 19.5 , 13.  , 12.21,  6.3 ,  0.5 ,  9.5 , 13.5 ,\n       16.  ,  2.5 , 10.5 ,  8.  , 10.  , 15.5 ,  7.5 ,  0.  ,  1.  ,\n       10.5 ,  2.  , 11.  ,  3.  , 14.  ,  3.5 , 18.5 , 13.  ,  1.  ,\n       14.5 , 15.  ,  1.52, 15.5 ,  1.5 ,  2.8 ,  3.5 ,  6.5 , 12.5 ,\n       14.5 , 11.5 ,  8.  , 10.2 ,  5.5 ,  0.5 , 23.  ,  5.  ,  0.5 ,\n       17.5 , 17.5 , 17.5 , 15.  ,  4.5 , 17.  , 18.  , 10.  ,  8.5 ,\n       14.  , 18.5 , 19.5 , 16.3 ,  8.5 ,  0.  ,  9.5 ,  6.  ,  2.  ,\n        5.  ,  9.5 ,  4.  ,  4.  ,  1.  ,  8.  , 18.5 , 18.  , 15.5 ,\n        4.5 ,  1.5 , 20.  ,  0.5 , 19.  ,  4.  ,  9.5 , 12.8 ])"
     },
     "execution_count": 54,
     "metadata": {},
     "output_type": "execute_result"
    }
   ],
   "source": [
    "numbers = np.array([ 4.5 , 7.8 ,  6.5,  0.5,  8. ,  6.5, 19. , 13.5,  2.5, 17. , 19. ,\n",
    "       19.5, 13. ,  12.21 ,  6.3 ,  0.5,  9.5, 13.5, 16. ,  2.5, 10.5,  8. ,\n",
    "       10. , 15.5,  7.5,  0. ,  1. , 10.5,  2. , 11. ,  3. , 14. ,  3.5,\n",
    "       18.5, 13. ,  1. , 14.5, 15. ,  1.52 , 15.5,  1.5,  2.8 ,  3.5,  6.5,\n",
    "        12.5, 14.5, 11.5,  8. ,  10.2 ,  5.5,  0.5, 23. ,  5. ,  0.5, 17.5,\n",
    "       17.5, 17.5, 15. ,  4.5, 17. , 18. , 10. ,  8.5, 14. , 18.5, 19.5,\n",
    "       16.3 ,  8.5,  0. ,  9.5,  6. ,  2. ,  5. ,  9.5,  4. ,  4. ,  1. ,\n",
    "        8. , 18.5, 18. , 15.5,  4.5,  1.5, 20. ,  0.5, 19. ,  4. ,  9.5,\n",
    "       12.8  ])\n",
    "numbers"
   ]
  },
  {
   "cell_type": "markdown",
   "id": "7efc90f4",
   "metadata": {
    "pycharm": {
     "name": "#%% md\n"
    }
   },
   "source": [
    "<div id=\"bayes\" style=\"direction:rtl;line-height:300%;\">\n",
    "\t<font face=\"XB Zar\" size=4>\n",
    "\t\t<p></p>\n",
    "        برای این مجموعه داده ها قصد داریم با دو فرمول زیر مقادیر آنها را تغییر دهیم:\n",
    "<br>\n",
    "۱. اگر عددی کمتر از هشت و نیم است با فرمول زیر آن عدد تغییر کند:\n",
    "<br>\n",
    "$$ y = 10 + \\frac{x}{10} $$\n",
    "<br>\n",
    "۲. اگر عددیبیشتر یا مساوی هشت و نیم است با فرمول زیر آن عدد تغییر کند :\n",
    "<br>\n",
    "$$ y =  -0.0051x^{2} + 0.8586x + 3.4332 $$\n",
    "<br>\n",
    "توجه کنید که حتی بعد از تغییر باید بیشینه عدد نهایتا بیشینه عدد موجود در داده فعلی باشد. 25 درصد داده های بزرگتر را در آرایه زیر بریزید\n",
    "</div>"
   ]
  },
  {
   "cell_type": "code",
   "execution_count": 55,
   "id": "ac7cc089",
   "metadata": {
    "collapsed": false,
    "jupyter": {
     "outputs_hidden": false
    },
    "pycharm": {
     "name": "#%%\n"
    }
   },
   "outputs": [
    {
     "data": {
      "text/plain": "23.0"
     },
     "execution_count": 55,
     "metadata": {},
     "output_type": "execute_result"
    }
   ],
   "source": [
    "np.max(numbers)"
   ]
  },
  {
   "cell_type": "code",
   "execution_count": 56,
   "id": "5ea9e500",
   "metadata": {
    "collapsed": false,
    "jupyter": {
     "outputs_hidden": false
    },
    "pycharm": {
     "name": "#%%\n"
    }
   },
   "outputs": [],
   "source": [
    "mask1=np.zeros(len(numbers))\n",
    "mask1[numbers<8.5] = 1\n",
    "mask2=np.zeros(len(numbers))\n",
    "mask2[numbers>=8.5] = 1"
   ]
  },
  {
   "cell_type": "code",
   "execution_count": 57,
   "id": "bf2d353b",
   "metadata": {
    "collapsed": false,
    "jupyter": {
     "outputs_hidden": false
    },
    "pycharm": {
     "name": "#%%\n"
    }
   },
   "outputs": [
    {
     "data": {
      "text/plain": "array([10.45      , 10.78      , 10.65      , 10.05      , 10.8       ,\n       10.65      , 17.9055    , 14.094825  , 10.25      , 16.5555    ,\n       17.9055    , 18.236625  , 13.7331    , 13.15637709, 10.63      ,\n       10.05      , 11.129625  , 14.094825  , 15.8652    , 10.25      ,\n       11.886225  , 10.8       , 11.5092    , 15.516225  , 10.75      ,\n       10.        , 10.1       , 11.886225  , 10.2       , 12.2607    ,\n       10.3       , 14.454     , 10.35      , 17.571825  , 13.7331    ,\n       10.1       , 14.810625  , 15.1647    , 10.152     , 15.516225  ,\n       10.15      , 10.28      , 10.35      , 10.65      , 13.368825  ,\n       14.810625  , 12.632625  , 10.8       , 11.660316  , 10.55      ,\n       10.05      , 20.4831    , 10.5       , 10.05      , 16.896825  ,\n       16.896825  , 16.896825  , 15.1647    , 10.45      , 16.5555    ,\n       17.2356    , 11.5092    , 10.362825  , 14.454     , 17.571825  ,\n       18.236625  , 16.073361  , 10.362825  , 10.        , 11.129625  ,\n       10.6       , 10.2       , 10.5       , 11.129625  , 10.4       ,\n       10.4       , 10.1       , 10.8       , 17.571825  , 17.2356    ,\n       15.516225  , 10.45      , 10.15      , 18.5652    , 10.05      ,\n       17.9055    , 10.4       , 11.129625  , 13.587696  ])"
     },
     "execution_count": 57,
     "metadata": {},
     "output_type": "execute_result"
    }
   ],
   "source": [
    "numbers_changed = mask1 * (numbers/10 + 10) + mask2 * (-0.0051 * numbers ** 2 + 0.8586 * numbers + 3.4332)\n",
    "numbers_changed"
   ]
  },
  {
   "cell_type": "code",
   "execution_count": 58,
   "id": "be0934fc-10cb-4a6b-b0a5-79cfa6853f52",
   "metadata": {},
   "outputs": [
    {
     "data": {
      "text/plain": "20.4831"
     },
     "execution_count": 58,
     "metadata": {},
     "output_type": "execute_result"
    }
   ],
   "source": [
    "np.max(numbers_changed)"
   ]
  },
  {
   "cell_type": "code",
   "execution_count": 59,
   "id": "8a95ca8a",
   "metadata": {
    "collapsed": false,
    "jupyter": {
     "outputs_hidden": false
    },
    "pycharm": {
     "name": "#%%\n"
    }
   },
   "outputs": [
    {
     "data": {
      "text/plain": "array([17.9055  , 16.5555  , 17.9055  , 18.236625, 15.8652  , 15.516225,\n       17.571825, 15.1647  , 15.516225, 20.4831  , 16.896825, 16.896825,\n       16.896825, 15.1647  , 16.5555  , 17.2356  , 17.571825, 18.236625,\n       16.073361, 17.571825, 17.2356  , 15.516225, 18.5652  , 17.9055  ])"
     },
     "execution_count": 59,
     "metadata": {},
     "output_type": "execute_result"
    }
   ],
   "source": [
    "top_new_twenty_five = numbers_changed[numbers_changed>=np.quantile(numbers_changed,0.75)]\n",
    "top_new_twenty_five"
   ]
  },
  {
   "cell_type": "markdown",
   "id": "b9adec40",
   "metadata": {},
   "source": [
    "<div id=\"bayes\" style=\"direction:rtl;line-height:300%;\">\n",
    "\t<font face=\"XB Zar\" size=4>\n",
    "\t\t<p></p>\n",
    " 25 درصد داده های کوچکتر آرایه اول را در آرایه زیر بریزید\n",
    "</div>"
   ]
  },
  {
   "cell_type": "code",
   "execution_count": 60,
   "id": "1a0edc19",
   "metadata": {},
   "outputs": [
    {
     "data": {
      "text/plain": "array([0.5 , 2.5 , 0.5 , 2.5 , 0.  , 1.  , 2.  , 3.  , 3.5 , 1.  , 1.52,\n       1.5 , 2.8 , 3.5 , 0.5 , 0.5 , 0.  , 2.  , 4.  , 4.  , 1.  , 1.5 ,\n       0.5 , 4.  ])"
     },
     "execution_count": 60,
     "metadata": {},
     "output_type": "execute_result"
    }
   ],
   "source": [
    "down_old_twenty_five = numbers[numbers<=np.quantile(numbers,0.25)]\n",
    "down_old_twenty_five"
   ]
  },
  {
   "cell_type": "markdown",
   "id": "16e79957",
   "metadata": {},
   "source": [
    "<div id=\"bayes\" style=\"direction:rtl;line-height:300%;\">\n",
    "\t<font face=\"XB Zar\" size=4>\n",
    "      <p></p>\n",
    "        داده های متناظر دو آرایه به دست آمده را از یکدیگر کسر کنید و در یک آرایه سه بعدی که اندازه ابعاد سوم و دوم آن یک میباشد بریزید\n",
    "</div>"
   ]
  },
  {
   "cell_type": "code",
   "execution_count": 61,
   "id": "ef14b5ba",
   "metadata": {},
   "outputs": [
    {
     "data": {
      "text/plain": "array([[[17.4055  ]],\n\n       [[14.0555  ]],\n\n       [[17.4055  ]],\n\n       [[15.736625]],\n\n       [[15.8652  ]],\n\n       [[14.516225]],\n\n       [[15.571825]],\n\n       [[12.1647  ]],\n\n       [[12.016225]],\n\n       [[19.4831  ]],\n\n       [[15.376825]],\n\n       [[15.396825]],\n\n       [[14.096825]],\n\n       [[11.6647  ]],\n\n       [[16.0555  ]],\n\n       [[16.7356  ]],\n\n       [[17.571825]],\n\n       [[16.236625]],\n\n       [[12.073361]],\n\n       [[13.571825]],\n\n       [[16.2356  ]],\n\n       [[14.016225]],\n\n       [[18.0652  ]],\n\n       [[13.9055  ]]])"
     },
     "execution_count": 61,
     "metadata": {},
     "output_type": "execute_result"
    }
   ],
   "source": [
    "new_array_three_dimension = np.ones((len(down_old_twenty_five),1,1))\n",
    "new_array_three_dimension[:,0,0] = top_new_twenty_five - down_old_twenty_five\n",
    "new_array_three_dimension"
   ]
  },
  {
   "cell_type": "markdown",
   "id": "2647fd09",
   "metadata": {},
   "source": [
    "<div dir = \"rtl\" style=\"direction:rtl;line-height:300%;\">\n",
    "\t<font face=\"XB Zar\" size=4>\n",
    "\t\t<font color=red size=5>\n",
    "            سوال دوم:‌\n",
    "        </font>\n",
    "در این تمرین قصد داریم به تحلیل داده های فیلم های برتر سینمای جهان به معیار imdb بپردازیم. ابتدا دادههای مربوط به فیلم را از فایل csv فراخوانی میکنیم\n",
    "        <br/>\n",
    "    </font>\n",
    "</div>"
   ]
  },
  {
   "cell_type": "code",
   "execution_count": 62,
   "id": "6ade0e6a",
   "metadata": {},
   "outputs": [
    {
     "data": {
      "text/plain": "     Unnamed: 0  star_rating                                            title  \\\n0             0          9.3                         The Shawshank Redemption   \n1             1          9.2                                    The Godfather   \n2             2          9.1                           The Godfather: Part II   \n3             3          9.0                                  The Dark Knight   \n4             4          8.9                                     Pulp Fiction   \n..          ...          ...                                              ...   \n971         971          7.4                                          Tootsie   \n972         972          7.4                      Back to the Future Part III   \n973         973          7.4  Master and Commander: The Far Side of the World   \n974         974          7.4                                      Poltergeist   \n975         975          7.4                                      Wall Street   \n\n    content_rating      genre  duration  \\\n0                R      Crime       142   \n1                R      Crime       175   \n2                R      Crime       200   \n3            PG-13     Action       152   \n4                R      Crime       154   \n..             ...        ...       ...   \n971             PG     Comedy       116   \n972             PG  Adventure       118   \n973          PG-13     Action       138   \n974             PG     Horror       114   \n975              R      Crime       126   \n\n                                           actors_list  greater_than_150_min  \n0    [u'Tim Robbins', u'Morgan Freeman', u'Bob Gunt...                     0  \n1      [u'Marlon Brando', u'Al Pacino', u'James Caan']                     1  \n2    [u'Al Pacino', u'Robert De Niro', u'Robert Duv...                     1  \n3    [u'Christian Bale', u'Heath Ledger', u'Aaron E...                     1  \n4    [u'John Travolta', u'Uma Thurman', u'Samuel L....                     1  \n..                                                 ...                   ...  \n971  [u'Dustin Hoffman', u'Jessica Lange', u'Teri G...                     0  \n972  [u'Michael J. Fox', u'Christopher Lloyd', u'Ma...                     0  \n973  [u'Russell Crowe', u'Paul Bettany', u'Billy Bo...                     0  \n974  [u'JoBeth Williams', u\"Heather O'Rourke\", u'Cr...                     0  \n975  [u'Charlie Sheen', u'Michael Douglas', u'Tamar...                     0  \n\n[976 rows x 8 columns]",
      "text/html": "<div>\n<style scoped>\n    .dataframe tbody tr th:only-of-type {\n        vertical-align: middle;\n    }\n\n    .dataframe tbody tr th {\n        vertical-align: top;\n    }\n\n    .dataframe thead th {\n        text-align: right;\n    }\n</style>\n<table border=\"1\" class=\"dataframe\">\n  <thead>\n    <tr style=\"text-align: right;\">\n      <th></th>\n      <th>Unnamed: 0</th>\n      <th>star_rating</th>\n      <th>title</th>\n      <th>content_rating</th>\n      <th>genre</th>\n      <th>duration</th>\n      <th>actors_list</th>\n      <th>greater_than_150_min</th>\n    </tr>\n  </thead>\n  <tbody>\n    <tr>\n      <th>0</th>\n      <td>0</td>\n      <td>9.3</td>\n      <td>The Shawshank Redemption</td>\n      <td>R</td>\n      <td>Crime</td>\n      <td>142</td>\n      <td>[u'Tim Robbins', u'Morgan Freeman', u'Bob Gunt...</td>\n      <td>0</td>\n    </tr>\n    <tr>\n      <th>1</th>\n      <td>1</td>\n      <td>9.2</td>\n      <td>The Godfather</td>\n      <td>R</td>\n      <td>Crime</td>\n      <td>175</td>\n      <td>[u'Marlon Brando', u'Al Pacino', u'James Caan']</td>\n      <td>1</td>\n    </tr>\n    <tr>\n      <th>2</th>\n      <td>2</td>\n      <td>9.1</td>\n      <td>The Godfather: Part II</td>\n      <td>R</td>\n      <td>Crime</td>\n      <td>200</td>\n      <td>[u'Al Pacino', u'Robert De Niro', u'Robert Duv...</td>\n      <td>1</td>\n    </tr>\n    <tr>\n      <th>3</th>\n      <td>3</td>\n      <td>9.0</td>\n      <td>The Dark Knight</td>\n      <td>PG-13</td>\n      <td>Action</td>\n      <td>152</td>\n      <td>[u'Christian Bale', u'Heath Ledger', u'Aaron E...</td>\n      <td>1</td>\n    </tr>\n    <tr>\n      <th>4</th>\n      <td>4</td>\n      <td>8.9</td>\n      <td>Pulp Fiction</td>\n      <td>R</td>\n      <td>Crime</td>\n      <td>154</td>\n      <td>[u'John Travolta', u'Uma Thurman', u'Samuel L....</td>\n      <td>1</td>\n    </tr>\n    <tr>\n      <th>...</th>\n      <td>...</td>\n      <td>...</td>\n      <td>...</td>\n      <td>...</td>\n      <td>...</td>\n      <td>...</td>\n      <td>...</td>\n      <td>...</td>\n    </tr>\n    <tr>\n      <th>971</th>\n      <td>971</td>\n      <td>7.4</td>\n      <td>Tootsie</td>\n      <td>PG</td>\n      <td>Comedy</td>\n      <td>116</td>\n      <td>[u'Dustin Hoffman', u'Jessica Lange', u'Teri G...</td>\n      <td>0</td>\n    </tr>\n    <tr>\n      <th>972</th>\n      <td>972</td>\n      <td>7.4</td>\n      <td>Back to the Future Part III</td>\n      <td>PG</td>\n      <td>Adventure</td>\n      <td>118</td>\n      <td>[u'Michael J. Fox', u'Christopher Lloyd', u'Ma...</td>\n      <td>0</td>\n    </tr>\n    <tr>\n      <th>973</th>\n      <td>973</td>\n      <td>7.4</td>\n      <td>Master and Commander: The Far Side of the World</td>\n      <td>PG-13</td>\n      <td>Action</td>\n      <td>138</td>\n      <td>[u'Russell Crowe', u'Paul Bettany', u'Billy Bo...</td>\n      <td>0</td>\n    </tr>\n    <tr>\n      <th>974</th>\n      <td>974</td>\n      <td>7.4</td>\n      <td>Poltergeist</td>\n      <td>PG</td>\n      <td>Horror</td>\n      <td>114</td>\n      <td>[u'JoBeth Williams', u\"Heather O'Rourke\", u'Cr...</td>\n      <td>0</td>\n    </tr>\n    <tr>\n      <th>975</th>\n      <td>975</td>\n      <td>7.4</td>\n      <td>Wall Street</td>\n      <td>R</td>\n      <td>Crime</td>\n      <td>126</td>\n      <td>[u'Charlie Sheen', u'Michael Douglas', u'Tamar...</td>\n      <td>0</td>\n    </tr>\n  </tbody>\n</table>\n<p>976 rows × 8 columns</p>\n</div>"
     },
     "execution_count": 62,
     "metadata": {},
     "output_type": "execute_result"
    }
   ],
   "source": [
    "movies = pd.read_csv(\"imdb_movie_rank.csv\")\n",
    "movies"
   ]
  },
  {
   "cell_type": "code",
   "execution_count": 63,
   "id": "225ca042",
   "metadata": {},
   "outputs": [
    {
     "data": {
      "text/plain": "       Unnamed: 0  star_rating    duration  greater_than_150_min\ncount  976.000000   976.000000  976.000000            976.000000\nmean   487.500000     7.890164  120.945697              0.131148\nstd    281.891232     0.336018   26.228192              0.337735\nmin      0.000000     7.400000   64.000000              0.000000\n25%    243.750000     7.600000  102.000000              0.000000\n50%    487.500000     7.800000  117.000000              0.000000\n75%    731.250000     8.100000  134.000000              0.000000\nmax    975.000000     9.300000  242.000000              1.000000",
      "text/html": "<div>\n<style scoped>\n    .dataframe tbody tr th:only-of-type {\n        vertical-align: middle;\n    }\n\n    .dataframe tbody tr th {\n        vertical-align: top;\n    }\n\n    .dataframe thead th {\n        text-align: right;\n    }\n</style>\n<table border=\"1\" class=\"dataframe\">\n  <thead>\n    <tr style=\"text-align: right;\">\n      <th></th>\n      <th>Unnamed: 0</th>\n      <th>star_rating</th>\n      <th>duration</th>\n      <th>greater_than_150_min</th>\n    </tr>\n  </thead>\n  <tbody>\n    <tr>\n      <th>count</th>\n      <td>976.000000</td>\n      <td>976.000000</td>\n      <td>976.000000</td>\n      <td>976.000000</td>\n    </tr>\n    <tr>\n      <th>mean</th>\n      <td>487.500000</td>\n      <td>7.890164</td>\n      <td>120.945697</td>\n      <td>0.131148</td>\n    </tr>\n    <tr>\n      <th>std</th>\n      <td>281.891232</td>\n      <td>0.336018</td>\n      <td>26.228192</td>\n      <td>0.337735</td>\n    </tr>\n    <tr>\n      <th>min</th>\n      <td>0.000000</td>\n      <td>7.400000</td>\n      <td>64.000000</td>\n      <td>0.000000</td>\n    </tr>\n    <tr>\n      <th>25%</th>\n      <td>243.750000</td>\n      <td>7.600000</td>\n      <td>102.000000</td>\n      <td>0.000000</td>\n    </tr>\n    <tr>\n      <th>50%</th>\n      <td>487.500000</td>\n      <td>7.800000</td>\n      <td>117.000000</td>\n      <td>0.000000</td>\n    </tr>\n    <tr>\n      <th>75%</th>\n      <td>731.250000</td>\n      <td>8.100000</td>\n      <td>134.000000</td>\n      <td>0.000000</td>\n    </tr>\n    <tr>\n      <th>max</th>\n      <td>975.000000</td>\n      <td>9.300000</td>\n      <td>242.000000</td>\n      <td>1.000000</td>\n    </tr>\n  </tbody>\n</table>\n</div>"
     },
     "execution_count": 63,
     "metadata": {},
     "output_type": "execute_result"
    }
   ],
   "source": [
    "movies.describe()"
   ]
  },
  {
   "cell_type": "markdown",
   "id": "1dff48e1",
   "metadata": {},
   "source": [
    "\n",
    "<div dir = \"rtl\" style=\"direction:rtl;line-height:300%;\">\n",
    "\t<font face=\"XB Zar\" size=4>\n",
    "        در این دیتاست اگر داده ای وجود دارد که مقدار nullدارد سطرش را حذف کنید. \n",
    "        <br/>\n",
    "    </font>\n",
    "</div>"
   ]
  },
  {
   "cell_type": "code",
   "execution_count": 64,
   "outputs": [
    {
     "data": {
      "text/plain": "Unnamed: 0              0\nstar_rating             0\ntitle                   0\ncontent_rating          0\ngenre                   0\nduration                0\nactors_list             0\ngreater_than_150_min    0\ndtype: int64"
     },
     "execution_count": 64,
     "metadata": {},
     "output_type": "execute_result"
    }
   ],
   "source": [
    "movies.isnull().sum()"
   ],
   "metadata": {
    "collapsed": false,
    "pycharm": {
     "name": "#%%\n"
    }
   }
  },
  {
   "cell_type": "code",
   "execution_count": 65,
   "outputs": [],
   "source": [
    "movies.dropna(axis=0,inplace=True)"
   ],
   "metadata": {
    "collapsed": false,
    "pycharm": {
     "name": "#%%\n"
    }
   }
  },
  {
   "cell_type": "code",
   "execution_count": 66,
   "outputs": [
    {
     "data": {
      "text/plain": "    Unnamed: 0  star_rating  \\\n0            0          9.3   \n1            1          9.2   \n2            2          9.1   \n3            3          9.0   \n4            4          8.9   \n5            5          8.9   \n6            6          8.9   \n7            7          8.9   \n8            8          8.9   \n9            9          8.9   \n10          10          8.8   \n11          11          8.8   \n12          12          8.8   \n13          13          8.8   \n14          14          8.8   \n15          15          8.7   \n16          16          8.7   \n17          17          8.7   \n18          18          8.7   \n19          19          8.7   \n20          20          8.7   \n21          21          8.7   \n22          22          8.7   \n23          23          8.7   \n24          24          8.7   \n25          25          8.6   \n26          26          8.6   \n27          27          8.6   \n28          28          8.6   \n29          29          8.6   \n\n                                                title content_rating  \\\n0                            The Shawshank Redemption              R   \n1                                       The Godfather              R   \n2                              The Godfather: Part II              R   \n3                                     The Dark Knight          PG-13   \n4                                        Pulp Fiction              R   \n5                                        12 Angry Men      NOT RATED   \n6                      The Good, the Bad and the Ugly      NOT RATED   \n7       The Lord of the Rings: The Return of the King          PG-13   \n8                                    Schindler's List              R   \n9                                          Fight Club              R   \n10  The Lord of the Rings: The Fellowship of the Ring          PG-13   \n11                                          Inception          PG-13   \n12     Star Wars: Episode V - The Empire Strikes Back             PG   \n13                                       Forrest Gump          PG-13   \n14              The Lord of the Rings: The Two Towers          PG-13   \n15                                       Interstellar          PG-13   \n16                    One Flew Over the Cuckoo's Nest              R   \n17                                      Seven Samurai        UNRATED   \n18                                         Goodfellas              R   \n19                                          Star Wars             PG   \n20                                         The Matrix              R   \n21                                        City of God              R   \n22                              It's a Wonderful Life       APPROVED   \n23                                 The Usual Suspects              R   \n24                                              Se7en              R   \n25                                  Life Is Beautiful          PG-13   \n26                       Once Upon a Time in the West          PG-13   \n27                           The Silence of the Lambs              R   \n28                             Leon: The Professional              R   \n29                                        City Lights         PASSED   \n\n        genre  duration                                        actors_list  \\\n0       Crime       142  [u'Tim Robbins', u'Morgan Freeman', u'Bob Gunt...   \n1       Crime       175    [u'Marlon Brando', u'Al Pacino', u'James Caan']   \n2       Crime       200  [u'Al Pacino', u'Robert De Niro', u'Robert Duv...   \n3      Action       152  [u'Christian Bale', u'Heath Ledger', u'Aaron E...   \n4       Crime       154  [u'John Travolta', u'Uma Thurman', u'Samuel L....   \n5       Drama        96  [u'Henry Fonda', u'Lee J. Cobb', u'Martin Bals...   \n6     Western       161  [u'Clint Eastwood', u'Eli Wallach', u'Lee Van ...   \n7   Adventure       201  [u'Elijah Wood', u'Viggo Mortensen', u'Ian McK...   \n8   Biography       195  [u'Liam Neeson', u'Ralph Fiennes', u'Ben Kings...   \n9       Drama       139  [u'Brad Pitt', u'Edward Norton', u'Helena Bonh...   \n10  Adventure       178  [u'Elijah Wood', u'Ian McKellen', u'Orlando Bl...   \n11     Action       148  [u'Leonardo DiCaprio', u'Joseph Gordon-Levitt'...   \n12     Action       124  [u'Mark Hamill', u'Harrison Ford', u'Carrie Fi...   \n13      Drama       142    [u'Tom Hanks', u'Robin Wright', u'Gary Sinise']   \n14  Adventure       179  [u'Elijah Wood', u'Ian McKellen', u'Viggo Mort...   \n15  Adventure       169  [u'Matthew McConaughey', u'Anne Hathaway', u'J...   \n16      Drama       133  [u'Jack Nicholson', u'Louise Fletcher', u'Mich...   \n17      Drama       207  [u'Toshir\\xf4 Mifune', u'Takashi Shimura', u'K...   \n18  Biography       146   [u'Robert De Niro', u'Ray Liotta', u'Joe Pesci']   \n19     Action       121  [u'Mark Hamill', u'Harrison Ford', u'Carrie Fi...   \n20     Action       136  [u'Keanu Reeves', u'Laurence Fishburne', u'Car...   \n21      Crime       130  [u'Alexandre Rodrigues', u'Matheus Nachtergael...   \n22      Drama       130  [u'James Stewart', u'Donna Reed', u'Lionel Bar...   \n23      Crime       106  [u'Kevin Spacey', u'Gabriel Byrne', u'Chazz Pa...   \n24      Drama       127  [u'Morgan Freeman', u'Brad Pitt', u'Kevin Spac...   \n25     Comedy       116  [u'Roberto Benigni', u'Nicoletta Braschi', u'G...   \n26    Western       175  [u'Henry Fonda', u'Charles Bronson', u'Claudia...   \n27      Drama       118  [u'Jodie Foster', u'Anthony Hopkins', u'Lawren...   \n28      Crime       110  [u'Jean Reno', u'Gary Oldman', u'Natalie Portm...   \n29     Comedy        87  [u'Charles Chaplin', u'Virginia Cherrill', u'F...   \n\n    greater_than_150_min  \n0                      0  \n1                      1  \n2                      1  \n3                      1  \n4                      1  \n5                      0  \n6                      1  \n7                      1  \n8                      1  \n9                      0  \n10                     1  \n11                     0  \n12                     0  \n13                     0  \n14                     1  \n15                     1  \n16                     0  \n17                     1  \n18                     0  \n19                     0  \n20                     0  \n21                     0  \n22                     0  \n23                     0  \n24                     0  \n25                     0  \n26                     1  \n27                     0  \n28                     0  \n29                     0  ",
      "text/html": "<div>\n<style scoped>\n    .dataframe tbody tr th:only-of-type {\n        vertical-align: middle;\n    }\n\n    .dataframe tbody tr th {\n        vertical-align: top;\n    }\n\n    .dataframe thead th {\n        text-align: right;\n    }\n</style>\n<table border=\"1\" class=\"dataframe\">\n  <thead>\n    <tr style=\"text-align: right;\">\n      <th></th>\n      <th>Unnamed: 0</th>\n      <th>star_rating</th>\n      <th>title</th>\n      <th>content_rating</th>\n      <th>genre</th>\n      <th>duration</th>\n      <th>actors_list</th>\n      <th>greater_than_150_min</th>\n    </tr>\n  </thead>\n  <tbody>\n    <tr>\n      <th>0</th>\n      <td>0</td>\n      <td>9.3</td>\n      <td>The Shawshank Redemption</td>\n      <td>R</td>\n      <td>Crime</td>\n      <td>142</td>\n      <td>[u'Tim Robbins', u'Morgan Freeman', u'Bob Gunt...</td>\n      <td>0</td>\n    </tr>\n    <tr>\n      <th>1</th>\n      <td>1</td>\n      <td>9.2</td>\n      <td>The Godfather</td>\n      <td>R</td>\n      <td>Crime</td>\n      <td>175</td>\n      <td>[u'Marlon Brando', u'Al Pacino', u'James Caan']</td>\n      <td>1</td>\n    </tr>\n    <tr>\n      <th>2</th>\n      <td>2</td>\n      <td>9.1</td>\n      <td>The Godfather: Part II</td>\n      <td>R</td>\n      <td>Crime</td>\n      <td>200</td>\n      <td>[u'Al Pacino', u'Robert De Niro', u'Robert Duv...</td>\n      <td>1</td>\n    </tr>\n    <tr>\n      <th>3</th>\n      <td>3</td>\n      <td>9.0</td>\n      <td>The Dark Knight</td>\n      <td>PG-13</td>\n      <td>Action</td>\n      <td>152</td>\n      <td>[u'Christian Bale', u'Heath Ledger', u'Aaron E...</td>\n      <td>1</td>\n    </tr>\n    <tr>\n      <th>4</th>\n      <td>4</td>\n      <td>8.9</td>\n      <td>Pulp Fiction</td>\n      <td>R</td>\n      <td>Crime</td>\n      <td>154</td>\n      <td>[u'John Travolta', u'Uma Thurman', u'Samuel L....</td>\n      <td>1</td>\n    </tr>\n    <tr>\n      <th>5</th>\n      <td>5</td>\n      <td>8.9</td>\n      <td>12 Angry Men</td>\n      <td>NOT RATED</td>\n      <td>Drama</td>\n      <td>96</td>\n      <td>[u'Henry Fonda', u'Lee J. Cobb', u'Martin Bals...</td>\n      <td>0</td>\n    </tr>\n    <tr>\n      <th>6</th>\n      <td>6</td>\n      <td>8.9</td>\n      <td>The Good, the Bad and the Ugly</td>\n      <td>NOT RATED</td>\n      <td>Western</td>\n      <td>161</td>\n      <td>[u'Clint Eastwood', u'Eli Wallach', u'Lee Van ...</td>\n      <td>1</td>\n    </tr>\n    <tr>\n      <th>7</th>\n      <td>7</td>\n      <td>8.9</td>\n      <td>The Lord of the Rings: The Return of the King</td>\n      <td>PG-13</td>\n      <td>Adventure</td>\n      <td>201</td>\n      <td>[u'Elijah Wood', u'Viggo Mortensen', u'Ian McK...</td>\n      <td>1</td>\n    </tr>\n    <tr>\n      <th>8</th>\n      <td>8</td>\n      <td>8.9</td>\n      <td>Schindler's List</td>\n      <td>R</td>\n      <td>Biography</td>\n      <td>195</td>\n      <td>[u'Liam Neeson', u'Ralph Fiennes', u'Ben Kings...</td>\n      <td>1</td>\n    </tr>\n    <tr>\n      <th>9</th>\n      <td>9</td>\n      <td>8.9</td>\n      <td>Fight Club</td>\n      <td>R</td>\n      <td>Drama</td>\n      <td>139</td>\n      <td>[u'Brad Pitt', u'Edward Norton', u'Helena Bonh...</td>\n      <td>0</td>\n    </tr>\n    <tr>\n      <th>10</th>\n      <td>10</td>\n      <td>8.8</td>\n      <td>The Lord of the Rings: The Fellowship of the Ring</td>\n      <td>PG-13</td>\n      <td>Adventure</td>\n      <td>178</td>\n      <td>[u'Elijah Wood', u'Ian McKellen', u'Orlando Bl...</td>\n      <td>1</td>\n    </tr>\n    <tr>\n      <th>11</th>\n      <td>11</td>\n      <td>8.8</td>\n      <td>Inception</td>\n      <td>PG-13</td>\n      <td>Action</td>\n      <td>148</td>\n      <td>[u'Leonardo DiCaprio', u'Joseph Gordon-Levitt'...</td>\n      <td>0</td>\n    </tr>\n    <tr>\n      <th>12</th>\n      <td>12</td>\n      <td>8.8</td>\n      <td>Star Wars: Episode V - The Empire Strikes Back</td>\n      <td>PG</td>\n      <td>Action</td>\n      <td>124</td>\n      <td>[u'Mark Hamill', u'Harrison Ford', u'Carrie Fi...</td>\n      <td>0</td>\n    </tr>\n    <tr>\n      <th>13</th>\n      <td>13</td>\n      <td>8.8</td>\n      <td>Forrest Gump</td>\n      <td>PG-13</td>\n      <td>Drama</td>\n      <td>142</td>\n      <td>[u'Tom Hanks', u'Robin Wright', u'Gary Sinise']</td>\n      <td>0</td>\n    </tr>\n    <tr>\n      <th>14</th>\n      <td>14</td>\n      <td>8.8</td>\n      <td>The Lord of the Rings: The Two Towers</td>\n      <td>PG-13</td>\n      <td>Adventure</td>\n      <td>179</td>\n      <td>[u'Elijah Wood', u'Ian McKellen', u'Viggo Mort...</td>\n      <td>1</td>\n    </tr>\n    <tr>\n      <th>15</th>\n      <td>15</td>\n      <td>8.7</td>\n      <td>Interstellar</td>\n      <td>PG-13</td>\n      <td>Adventure</td>\n      <td>169</td>\n      <td>[u'Matthew McConaughey', u'Anne Hathaway', u'J...</td>\n      <td>1</td>\n    </tr>\n    <tr>\n      <th>16</th>\n      <td>16</td>\n      <td>8.7</td>\n      <td>One Flew Over the Cuckoo's Nest</td>\n      <td>R</td>\n      <td>Drama</td>\n      <td>133</td>\n      <td>[u'Jack Nicholson', u'Louise Fletcher', u'Mich...</td>\n      <td>0</td>\n    </tr>\n    <tr>\n      <th>17</th>\n      <td>17</td>\n      <td>8.7</td>\n      <td>Seven Samurai</td>\n      <td>UNRATED</td>\n      <td>Drama</td>\n      <td>207</td>\n      <td>[u'Toshir\\xf4 Mifune', u'Takashi Shimura', u'K...</td>\n      <td>1</td>\n    </tr>\n    <tr>\n      <th>18</th>\n      <td>18</td>\n      <td>8.7</td>\n      <td>Goodfellas</td>\n      <td>R</td>\n      <td>Biography</td>\n      <td>146</td>\n      <td>[u'Robert De Niro', u'Ray Liotta', u'Joe Pesci']</td>\n      <td>0</td>\n    </tr>\n    <tr>\n      <th>19</th>\n      <td>19</td>\n      <td>8.7</td>\n      <td>Star Wars</td>\n      <td>PG</td>\n      <td>Action</td>\n      <td>121</td>\n      <td>[u'Mark Hamill', u'Harrison Ford', u'Carrie Fi...</td>\n      <td>0</td>\n    </tr>\n    <tr>\n      <th>20</th>\n      <td>20</td>\n      <td>8.7</td>\n      <td>The Matrix</td>\n      <td>R</td>\n      <td>Action</td>\n      <td>136</td>\n      <td>[u'Keanu Reeves', u'Laurence Fishburne', u'Car...</td>\n      <td>0</td>\n    </tr>\n    <tr>\n      <th>21</th>\n      <td>21</td>\n      <td>8.7</td>\n      <td>City of God</td>\n      <td>R</td>\n      <td>Crime</td>\n      <td>130</td>\n      <td>[u'Alexandre Rodrigues', u'Matheus Nachtergael...</td>\n      <td>0</td>\n    </tr>\n    <tr>\n      <th>22</th>\n      <td>22</td>\n      <td>8.7</td>\n      <td>It's a Wonderful Life</td>\n      <td>APPROVED</td>\n      <td>Drama</td>\n      <td>130</td>\n      <td>[u'James Stewart', u'Donna Reed', u'Lionel Bar...</td>\n      <td>0</td>\n    </tr>\n    <tr>\n      <th>23</th>\n      <td>23</td>\n      <td>8.7</td>\n      <td>The Usual Suspects</td>\n      <td>R</td>\n      <td>Crime</td>\n      <td>106</td>\n      <td>[u'Kevin Spacey', u'Gabriel Byrne', u'Chazz Pa...</td>\n      <td>0</td>\n    </tr>\n    <tr>\n      <th>24</th>\n      <td>24</td>\n      <td>8.7</td>\n      <td>Se7en</td>\n      <td>R</td>\n      <td>Drama</td>\n      <td>127</td>\n      <td>[u'Morgan Freeman', u'Brad Pitt', u'Kevin Spac...</td>\n      <td>0</td>\n    </tr>\n    <tr>\n      <th>25</th>\n      <td>25</td>\n      <td>8.6</td>\n      <td>Life Is Beautiful</td>\n      <td>PG-13</td>\n      <td>Comedy</td>\n      <td>116</td>\n      <td>[u'Roberto Benigni', u'Nicoletta Braschi', u'G...</td>\n      <td>0</td>\n    </tr>\n    <tr>\n      <th>26</th>\n      <td>26</td>\n      <td>8.6</td>\n      <td>Once Upon a Time in the West</td>\n      <td>PG-13</td>\n      <td>Western</td>\n      <td>175</td>\n      <td>[u'Henry Fonda', u'Charles Bronson', u'Claudia...</td>\n      <td>1</td>\n    </tr>\n    <tr>\n      <th>27</th>\n      <td>27</td>\n      <td>8.6</td>\n      <td>The Silence of the Lambs</td>\n      <td>R</td>\n      <td>Drama</td>\n      <td>118</td>\n      <td>[u'Jodie Foster', u'Anthony Hopkins', u'Lawren...</td>\n      <td>0</td>\n    </tr>\n    <tr>\n      <th>28</th>\n      <td>28</td>\n      <td>8.6</td>\n      <td>Leon: The Professional</td>\n      <td>R</td>\n      <td>Crime</td>\n      <td>110</td>\n      <td>[u'Jean Reno', u'Gary Oldman', u'Natalie Portm...</td>\n      <td>0</td>\n    </tr>\n    <tr>\n      <th>29</th>\n      <td>29</td>\n      <td>8.6</td>\n      <td>City Lights</td>\n      <td>PASSED</td>\n      <td>Comedy</td>\n      <td>87</td>\n      <td>[u'Charles Chaplin', u'Virginia Cherrill', u'F...</td>\n      <td>0</td>\n    </tr>\n  </tbody>\n</table>\n</div>"
     },
     "execution_count": 66,
     "metadata": {},
     "output_type": "execute_result"
    }
   ],
   "source": [
    "movies.head(30)"
   ],
   "metadata": {
    "collapsed": false,
    "pycharm": {
     "name": "#%%\n"
    }
   }
  },
  {
   "cell_type": "code",
   "execution_count": 67,
   "id": "9f686ea6",
   "metadata": {},
   "outputs": [
    {
     "data": {
      "text/plain": "Unnamed: 0              0\nstar_rating             0\ntitle                   0\ncontent_rating          0\ngenre                   0\nduration                0\nactors_list             0\ngreater_than_150_min    0\ndtype: int64"
     },
     "execution_count": 67,
     "metadata": {},
     "output_type": "execute_result"
    }
   ],
   "source": [
    "movies.isnull().sum()"
   ]
  },
  {
   "cell_type": "markdown",
   "id": "e481f9cc",
   "metadata": {},
   "source": [
    "<div dir = \"rtl\" style=\"direction:rtl;line-height:300%;\">\n",
    "\t<font face=\"XB Zar\" size=4>\n",
    "        فیلم ها را براساس مدت زمان فیلم به صورت نزولی مرتب کنید و پنجاه تای اول را در فایل csv با نام long_time ذخیره کنید \n",
    "        <br/>\n",
    "    </font>\n",
    "</div>"
   ]
  },
  {
   "cell_type": "code",
   "execution_count": 68,
   "outputs": [],
   "source": [
    "movies.sort_values(by=\"duration\",ascending=False).head(50).to_csv(\"long_time.csv\",header=True,index=False)"
   ],
   "metadata": {
    "collapsed": false,
    "pycharm": {
     "name": "#%%\n"
    }
   }
  },
  {
   "cell_type": "code",
   "execution_count": 69,
   "outputs": [
    {
     "data": {
      "text/plain": "    Unnamed: 0  star_rating  \\\n0          475          7.8   \n1          157          8.2   \n2           78          8.4   \n3          142          8.3   \n4          444          7.9   \n5           85          8.4   \n6          203          8.1   \n7           17          8.7   \n8          765          7.6   \n9          629          7.7   \n10           7          8.9   \n11           2          9.1   \n12         334          8.0   \n13         384          8.0   \n14           8          8.9   \n15         619          7.7   \n16         423          7.9   \n17         219          8.1   \n18         669          7.7   \n19          40          8.5   \n20          89          8.4   \n21         315          8.0   \n22         317          8.0   \n23         184          8.2   \n24         610          7.7   \n25         132          8.3   \n26         244          8.1   \n27         109          8.3   \n28         166          8.2   \n29         338          8.0   \n30          93          8.4   \n31         360          8.0   \n32         143          8.2   \n33          14          8.8   \n34         455          7.9   \n35          10          8.8   \n36         533          7.8   \n37         156          8.2   \n38         299          8.0   \n39          82          8.4   \n40           1          9.2   \n41         938          7.4   \n42          26          8.6   \n43         347          8.0   \n44         230          8.1   \n45         159          8.2   \n46         301          8.0   \n47         120          8.3   \n48         840          7.5   \n49         886          7.5   \n\n                                                title content_rating  \\\n0                                              Hamlet          PG-13   \n1                                  Gone with the Wind              G   \n2                         Once Upon a Time in America              R   \n3                   Lagaan: Once Upon a Time in India             PG   \n4                                The Ten Commandments       APPROVED   \n5                                  Lawrence of Arabia             PG   \n6                                             Ben-Hur              G   \n7                                       Seven Samurai        UNRATED   \n8                     It's a Mad, Mad, Mad, Mad World       APPROVED   \n9                                           Malcolm X          PG-13   \n10      The Lord of the Rings: The Return of the King          PG-13   \n11                             The Godfather: Part II              R   \n12                                     Doctor Zhivago          PG-13   \n13                                          Spartacus          PG-13   \n14                                   Schindler's List              R   \n15                                            Titanic          PG-13   \n16                                    The Right Stuff              R   \n17                                             Gandhi             PG   \n18                                         Grindhouse              R   \n19                                     The Green Mile              R   \n20                                             Swades      NOT RATED   \n21                                                JFK              R   \n22                                           Magnolia              R   \n23                                Fanny and Alexander              R   \n24                                         Short Cuts              R   \n25                              Judgment at Nuremberg      NOT RATED   \n26                                       Barry Lyndon             PG   \n27                                     Dil Chahta Hai      NOT RATED   \n28                                    The Deer Hunter              R   \n29                                 Dances with Wolves          PG-13   \n30                        Dilwale Dulhania Le Jayenge      NOT RATED   \n31                                Fiddler on the Roof              G   \n32                            The Wolf of Wall Street              R   \n33              The Lord of the Rings: The Two Towers          PG-13   \n34                          Blue Is the Warmest Color          NC-17   \n35  The Lord of the Rings: The Fellowship of the Ring          PG-13   \n36                                    The Longest Day              G   \n37                                             Casino              R   \n38                                           Dogville              R   \n39                                         Braveheart              R   \n40                                      The Godfather              R   \n41                                   A Bridge Too Far             PG   \n42                       Once Upon a Time in the West          PG-13   \n43                                 The Sound of Music              G   \n44                                      La Dolce Vita      NOT RATED   \n45                        The Best Years of Our Lives         PASSED   \n46                                             Patton             GP   \n47                                   The Great Escape        UNRATED   \n48                                        Cloud Atlas              R   \n49                                        The Aviator          PG-13   \n\n        genre  duration                                        actors_list  \\\n0       Drama       242  [u'Kenneth Branagh', u'Julie Christie', u'Dere...   \n1       Drama       238  [u'Clark Gable', u'Vivien Leigh', u'Thomas Mit...   \n2       Crime       229  [u'Robert De Niro', u'James Woods', u'Elizabet...   \n3   Adventure       224  [u'Aamir Khan', u'Gracy Singh', u'Rachel Shell...   \n4   Adventure       220  [u'Charlton Heston', u'Yul Brynner', u'Anne Ba...   \n5   Adventure       216  [u\"Peter O'Toole\", u'Alec Guinness', u'Anthony...   \n6   Adventure       212  [u'Charlton Heston', u'Jack Hawkins', u'Stephe...   \n7       Drama       207  [u'Toshir\\xf4 Mifune', u'Takashi Shimura', u'K...   \n8      Action       205  [u'Spencer Tracy', u'Milton Berle', u'Ethel Me...   \n9   Biography       202  [u'Denzel Washington', u'Angela Bassett', u'De...   \n10  Adventure       201  [u'Elijah Wood', u'Viggo Mortensen', u'Ian McK...   \n11      Crime       200  [u'Al Pacino', u'Robert De Niro', u'Robert Duv...   \n12      Drama       197  [u'Omar Sharif', u'Julie Christie', u'Geraldin...   \n13     Action       197  [u'Kirk Douglas', u'Laurence Olivier', u'Jean ...   \n14  Biography       195  [u'Liam Neeson', u'Ralph Fiennes', u'Ben Kings...   \n15      Drama       194  [u'Leonardo DiCaprio', u'Kate Winslet', u'Bill...   \n16  Adventure       193     [u'Sam Shepard', u'Scott Glenn', u'Ed Harris']   \n17  Biography       191  [u'Ben Kingsley', u'John Gielgud', u'Candice B...   \n18     Action       191  [u'Kurt Russell', u'Rose McGowan', u'Danny Tre...   \n19      Crime       189  [u'Tom Hanks', u'Michael Clarke Duncan', u'Dav...   \n20      Drama       189  [u'Shah Rukh Khan', u'Gayatri Joshi', u'Kishor...   \n21      Drama       189  [u'Kevin Costner', u'Gary Oldman', u'Jack Lemm...   \n22      Drama       188  [u'Tom Cruise', u'Jason Robards', u'Julianne M...   \n23      Drama       188  [u'Bertil Guve', u'Pernilla Allwin', u'Kristin...   \n24     Comedy       187  [u'Andie MacDowell', u'Julianne Moore', u'Tim ...   \n25      Drama       186  [u'Spencer Tracy', u'Burt Lancaster', u'Richar...   \n26  Adventure       184  [u\"Ryan O'Neal\", u'Marisa Berenson', u'Patrick...   \n27     Comedy       183  [u'Aamir Khan', u'Saif Ali Khan', u'Akshaye Kh...   \n28      Drama       182  [u'Robert De Niro', u'Christopher Walken', u'J...   \n29  Adventure       181  [u'Kevin Costner', u'Mary McDonnell', u'Graham...   \n30     Comedy       181      [u'Shah Rukh Khan', u'Kajol', u'Amrish Puri']   \n31      Drama       181        [u'Topol', u'Norma Crane', u'Leonard Frey']   \n32  Biography       180  [u'Leonardo DiCaprio', u'Jonah Hill', u'Margot...   \n33  Adventure       179  [u'Elijah Wood', u'Ian McKellen', u'Viggo Mort...   \n34      Drama       179  [u'L\\xe9a Seydoux', u'Ad\\xe8le Exarchopoulos',...   \n35  Adventure       178  [u'Elijah Wood', u'Ian McKellen', u'Orlando Bl...   \n36     Action       178  [u'John Wayne', u'Robert Ryan', u'Richard Burt...   \n37  Biography       178  [u'Robert De Niro', u'Sharon Stone', u'Joe Pes...   \n38      Crime       178  [u'Nicole Kidman', u'Paul Bettany', u'Lauren B...   \n39     Action       177  [u'Mel Gibson', u'Sophie Marceau', u'Patrick M...   \n40      Crime       175    [u'Marlon Brando', u'Al Pacino', u'James Caan']   \n41      Drama       175  [u'Sean Connery', u\"Ryan O'Neal\", u'Michael Ca...   \n42    Western       175  [u'Henry Fonda', u'Charles Bronson', u'Claudia...   \n43  Biography       174  [u'Julie Andrews', u'Christopher Plummer', u'E...   \n44     Comedy       174  [u'Marcello Mastroianni', u'Anita Ekberg', u'A...   \n45      Drama       172  [u'Fredric March', u'Dana Andrews', u'Myrna Loy']   \n46  Biography       172  [u'George C. Scott', u'Karl Malden', u'Stephen...   \n47  Adventure       172  [u'Steve McQueen', u'James Garner', u'Richard ...   \n48      Drama       172      [u'Tom Hanks', u'Halle Berry', u'Hugh Grant']   \n49  Biography       170  [u'Leonardo DiCaprio', u'Cate Blanchett', u'Ka...   \n\n    greater_than_150_min  \n0                      1  \n1                      1  \n2                      1  \n3                      1  \n4                      1  \n5                      1  \n6                      1  \n7                      1  \n8                      1  \n9                      1  \n10                     1  \n11                     1  \n12                     1  \n13                     1  \n14                     1  \n15                     1  \n16                     1  \n17                     1  \n18                     1  \n19                     1  \n20                     1  \n21                     1  \n22                     1  \n23                     1  \n24                     1  \n25                     1  \n26                     1  \n27                     1  \n28                     1  \n29                     1  \n30                     1  \n31                     1  \n32                     1  \n33                     1  \n34                     1  \n35                     1  \n36                     1  \n37                     1  \n38                     1  \n39                     1  \n40                     1  \n41                     1  \n42                     1  \n43                     1  \n44                     1  \n45                     1  \n46                     1  \n47                     1  \n48                     1  \n49                     1  ",
      "text/html": "<div>\n<style scoped>\n    .dataframe tbody tr th:only-of-type {\n        vertical-align: middle;\n    }\n\n    .dataframe tbody tr th {\n        vertical-align: top;\n    }\n\n    .dataframe thead th {\n        text-align: right;\n    }\n</style>\n<table border=\"1\" class=\"dataframe\">\n  <thead>\n    <tr style=\"text-align: right;\">\n      <th></th>\n      <th>Unnamed: 0</th>\n      <th>star_rating</th>\n      <th>title</th>\n      <th>content_rating</th>\n      <th>genre</th>\n      <th>duration</th>\n      <th>actors_list</th>\n      <th>greater_than_150_min</th>\n    </tr>\n  </thead>\n  <tbody>\n    <tr>\n      <th>0</th>\n      <td>475</td>\n      <td>7.8</td>\n      <td>Hamlet</td>\n      <td>PG-13</td>\n      <td>Drama</td>\n      <td>242</td>\n      <td>[u'Kenneth Branagh', u'Julie Christie', u'Dere...</td>\n      <td>1</td>\n    </tr>\n    <tr>\n      <th>1</th>\n      <td>157</td>\n      <td>8.2</td>\n      <td>Gone with the Wind</td>\n      <td>G</td>\n      <td>Drama</td>\n      <td>238</td>\n      <td>[u'Clark Gable', u'Vivien Leigh', u'Thomas Mit...</td>\n      <td>1</td>\n    </tr>\n    <tr>\n      <th>2</th>\n      <td>78</td>\n      <td>8.4</td>\n      <td>Once Upon a Time in America</td>\n      <td>R</td>\n      <td>Crime</td>\n      <td>229</td>\n      <td>[u'Robert De Niro', u'James Woods', u'Elizabet...</td>\n      <td>1</td>\n    </tr>\n    <tr>\n      <th>3</th>\n      <td>142</td>\n      <td>8.3</td>\n      <td>Lagaan: Once Upon a Time in India</td>\n      <td>PG</td>\n      <td>Adventure</td>\n      <td>224</td>\n      <td>[u'Aamir Khan', u'Gracy Singh', u'Rachel Shell...</td>\n      <td>1</td>\n    </tr>\n    <tr>\n      <th>4</th>\n      <td>444</td>\n      <td>7.9</td>\n      <td>The Ten Commandments</td>\n      <td>APPROVED</td>\n      <td>Adventure</td>\n      <td>220</td>\n      <td>[u'Charlton Heston', u'Yul Brynner', u'Anne Ba...</td>\n      <td>1</td>\n    </tr>\n    <tr>\n      <th>5</th>\n      <td>85</td>\n      <td>8.4</td>\n      <td>Lawrence of Arabia</td>\n      <td>PG</td>\n      <td>Adventure</td>\n      <td>216</td>\n      <td>[u\"Peter O'Toole\", u'Alec Guinness', u'Anthony...</td>\n      <td>1</td>\n    </tr>\n    <tr>\n      <th>6</th>\n      <td>203</td>\n      <td>8.1</td>\n      <td>Ben-Hur</td>\n      <td>G</td>\n      <td>Adventure</td>\n      <td>212</td>\n      <td>[u'Charlton Heston', u'Jack Hawkins', u'Stephe...</td>\n      <td>1</td>\n    </tr>\n    <tr>\n      <th>7</th>\n      <td>17</td>\n      <td>8.7</td>\n      <td>Seven Samurai</td>\n      <td>UNRATED</td>\n      <td>Drama</td>\n      <td>207</td>\n      <td>[u'Toshir\\xf4 Mifune', u'Takashi Shimura', u'K...</td>\n      <td>1</td>\n    </tr>\n    <tr>\n      <th>8</th>\n      <td>765</td>\n      <td>7.6</td>\n      <td>It's a Mad, Mad, Mad, Mad World</td>\n      <td>APPROVED</td>\n      <td>Action</td>\n      <td>205</td>\n      <td>[u'Spencer Tracy', u'Milton Berle', u'Ethel Me...</td>\n      <td>1</td>\n    </tr>\n    <tr>\n      <th>9</th>\n      <td>629</td>\n      <td>7.7</td>\n      <td>Malcolm X</td>\n      <td>PG-13</td>\n      <td>Biography</td>\n      <td>202</td>\n      <td>[u'Denzel Washington', u'Angela Bassett', u'De...</td>\n      <td>1</td>\n    </tr>\n    <tr>\n      <th>10</th>\n      <td>7</td>\n      <td>8.9</td>\n      <td>The Lord of the Rings: The Return of the King</td>\n      <td>PG-13</td>\n      <td>Adventure</td>\n      <td>201</td>\n      <td>[u'Elijah Wood', u'Viggo Mortensen', u'Ian McK...</td>\n      <td>1</td>\n    </tr>\n    <tr>\n      <th>11</th>\n      <td>2</td>\n      <td>9.1</td>\n      <td>The Godfather: Part II</td>\n      <td>R</td>\n      <td>Crime</td>\n      <td>200</td>\n      <td>[u'Al Pacino', u'Robert De Niro', u'Robert Duv...</td>\n      <td>1</td>\n    </tr>\n    <tr>\n      <th>12</th>\n      <td>334</td>\n      <td>8.0</td>\n      <td>Doctor Zhivago</td>\n      <td>PG-13</td>\n      <td>Drama</td>\n      <td>197</td>\n      <td>[u'Omar Sharif', u'Julie Christie', u'Geraldin...</td>\n      <td>1</td>\n    </tr>\n    <tr>\n      <th>13</th>\n      <td>384</td>\n      <td>8.0</td>\n      <td>Spartacus</td>\n      <td>PG-13</td>\n      <td>Action</td>\n      <td>197</td>\n      <td>[u'Kirk Douglas', u'Laurence Olivier', u'Jean ...</td>\n      <td>1</td>\n    </tr>\n    <tr>\n      <th>14</th>\n      <td>8</td>\n      <td>8.9</td>\n      <td>Schindler's List</td>\n      <td>R</td>\n      <td>Biography</td>\n      <td>195</td>\n      <td>[u'Liam Neeson', u'Ralph Fiennes', u'Ben Kings...</td>\n      <td>1</td>\n    </tr>\n    <tr>\n      <th>15</th>\n      <td>619</td>\n      <td>7.7</td>\n      <td>Titanic</td>\n      <td>PG-13</td>\n      <td>Drama</td>\n      <td>194</td>\n      <td>[u'Leonardo DiCaprio', u'Kate Winslet', u'Bill...</td>\n      <td>1</td>\n    </tr>\n    <tr>\n      <th>16</th>\n      <td>423</td>\n      <td>7.9</td>\n      <td>The Right Stuff</td>\n      <td>R</td>\n      <td>Adventure</td>\n      <td>193</td>\n      <td>[u'Sam Shepard', u'Scott Glenn', u'Ed Harris']</td>\n      <td>1</td>\n    </tr>\n    <tr>\n      <th>17</th>\n      <td>219</td>\n      <td>8.1</td>\n      <td>Gandhi</td>\n      <td>PG</td>\n      <td>Biography</td>\n      <td>191</td>\n      <td>[u'Ben Kingsley', u'John Gielgud', u'Candice B...</td>\n      <td>1</td>\n    </tr>\n    <tr>\n      <th>18</th>\n      <td>669</td>\n      <td>7.7</td>\n      <td>Grindhouse</td>\n      <td>R</td>\n      <td>Action</td>\n      <td>191</td>\n      <td>[u'Kurt Russell', u'Rose McGowan', u'Danny Tre...</td>\n      <td>1</td>\n    </tr>\n    <tr>\n      <th>19</th>\n      <td>40</td>\n      <td>8.5</td>\n      <td>The Green Mile</td>\n      <td>R</td>\n      <td>Crime</td>\n      <td>189</td>\n      <td>[u'Tom Hanks', u'Michael Clarke Duncan', u'Dav...</td>\n      <td>1</td>\n    </tr>\n    <tr>\n      <th>20</th>\n      <td>89</td>\n      <td>8.4</td>\n      <td>Swades</td>\n      <td>NOT RATED</td>\n      <td>Drama</td>\n      <td>189</td>\n      <td>[u'Shah Rukh Khan', u'Gayatri Joshi', u'Kishor...</td>\n      <td>1</td>\n    </tr>\n    <tr>\n      <th>21</th>\n      <td>315</td>\n      <td>8.0</td>\n      <td>JFK</td>\n      <td>R</td>\n      <td>Drama</td>\n      <td>189</td>\n      <td>[u'Kevin Costner', u'Gary Oldman', u'Jack Lemm...</td>\n      <td>1</td>\n    </tr>\n    <tr>\n      <th>22</th>\n      <td>317</td>\n      <td>8.0</td>\n      <td>Magnolia</td>\n      <td>R</td>\n      <td>Drama</td>\n      <td>188</td>\n      <td>[u'Tom Cruise', u'Jason Robards', u'Julianne M...</td>\n      <td>1</td>\n    </tr>\n    <tr>\n      <th>23</th>\n      <td>184</td>\n      <td>8.2</td>\n      <td>Fanny and Alexander</td>\n      <td>R</td>\n      <td>Drama</td>\n      <td>188</td>\n      <td>[u'Bertil Guve', u'Pernilla Allwin', u'Kristin...</td>\n      <td>1</td>\n    </tr>\n    <tr>\n      <th>24</th>\n      <td>610</td>\n      <td>7.7</td>\n      <td>Short Cuts</td>\n      <td>R</td>\n      <td>Comedy</td>\n      <td>187</td>\n      <td>[u'Andie MacDowell', u'Julianne Moore', u'Tim ...</td>\n      <td>1</td>\n    </tr>\n    <tr>\n      <th>25</th>\n      <td>132</td>\n      <td>8.3</td>\n      <td>Judgment at Nuremberg</td>\n      <td>NOT RATED</td>\n      <td>Drama</td>\n      <td>186</td>\n      <td>[u'Spencer Tracy', u'Burt Lancaster', u'Richar...</td>\n      <td>1</td>\n    </tr>\n    <tr>\n      <th>26</th>\n      <td>244</td>\n      <td>8.1</td>\n      <td>Barry Lyndon</td>\n      <td>PG</td>\n      <td>Adventure</td>\n      <td>184</td>\n      <td>[u\"Ryan O'Neal\", u'Marisa Berenson', u'Patrick...</td>\n      <td>1</td>\n    </tr>\n    <tr>\n      <th>27</th>\n      <td>109</td>\n      <td>8.3</td>\n      <td>Dil Chahta Hai</td>\n      <td>NOT RATED</td>\n      <td>Comedy</td>\n      <td>183</td>\n      <td>[u'Aamir Khan', u'Saif Ali Khan', u'Akshaye Kh...</td>\n      <td>1</td>\n    </tr>\n    <tr>\n      <th>28</th>\n      <td>166</td>\n      <td>8.2</td>\n      <td>The Deer Hunter</td>\n      <td>R</td>\n      <td>Drama</td>\n      <td>182</td>\n      <td>[u'Robert De Niro', u'Christopher Walken', u'J...</td>\n      <td>1</td>\n    </tr>\n    <tr>\n      <th>29</th>\n      <td>338</td>\n      <td>8.0</td>\n      <td>Dances with Wolves</td>\n      <td>PG-13</td>\n      <td>Adventure</td>\n      <td>181</td>\n      <td>[u'Kevin Costner', u'Mary McDonnell', u'Graham...</td>\n      <td>1</td>\n    </tr>\n    <tr>\n      <th>30</th>\n      <td>93</td>\n      <td>8.4</td>\n      <td>Dilwale Dulhania Le Jayenge</td>\n      <td>NOT RATED</td>\n      <td>Comedy</td>\n      <td>181</td>\n      <td>[u'Shah Rukh Khan', u'Kajol', u'Amrish Puri']</td>\n      <td>1</td>\n    </tr>\n    <tr>\n      <th>31</th>\n      <td>360</td>\n      <td>8.0</td>\n      <td>Fiddler on the Roof</td>\n      <td>G</td>\n      <td>Drama</td>\n      <td>181</td>\n      <td>[u'Topol', u'Norma Crane', u'Leonard Frey']</td>\n      <td>1</td>\n    </tr>\n    <tr>\n      <th>32</th>\n      <td>143</td>\n      <td>8.2</td>\n      <td>The Wolf of Wall Street</td>\n      <td>R</td>\n      <td>Biography</td>\n      <td>180</td>\n      <td>[u'Leonardo DiCaprio', u'Jonah Hill', u'Margot...</td>\n      <td>1</td>\n    </tr>\n    <tr>\n      <th>33</th>\n      <td>14</td>\n      <td>8.8</td>\n      <td>The Lord of the Rings: The Two Towers</td>\n      <td>PG-13</td>\n      <td>Adventure</td>\n      <td>179</td>\n      <td>[u'Elijah Wood', u'Ian McKellen', u'Viggo Mort...</td>\n      <td>1</td>\n    </tr>\n    <tr>\n      <th>34</th>\n      <td>455</td>\n      <td>7.9</td>\n      <td>Blue Is the Warmest Color</td>\n      <td>NC-17</td>\n      <td>Drama</td>\n      <td>179</td>\n      <td>[u'L\\xe9a Seydoux', u'Ad\\xe8le Exarchopoulos',...</td>\n      <td>1</td>\n    </tr>\n    <tr>\n      <th>35</th>\n      <td>10</td>\n      <td>8.8</td>\n      <td>The Lord of the Rings: The Fellowship of the Ring</td>\n      <td>PG-13</td>\n      <td>Adventure</td>\n      <td>178</td>\n      <td>[u'Elijah Wood', u'Ian McKellen', u'Orlando Bl...</td>\n      <td>1</td>\n    </tr>\n    <tr>\n      <th>36</th>\n      <td>533</td>\n      <td>7.8</td>\n      <td>The Longest Day</td>\n      <td>G</td>\n      <td>Action</td>\n      <td>178</td>\n      <td>[u'John Wayne', u'Robert Ryan', u'Richard Burt...</td>\n      <td>1</td>\n    </tr>\n    <tr>\n      <th>37</th>\n      <td>156</td>\n      <td>8.2</td>\n      <td>Casino</td>\n      <td>R</td>\n      <td>Biography</td>\n      <td>178</td>\n      <td>[u'Robert De Niro', u'Sharon Stone', u'Joe Pes...</td>\n      <td>1</td>\n    </tr>\n    <tr>\n      <th>38</th>\n      <td>299</td>\n      <td>8.0</td>\n      <td>Dogville</td>\n      <td>R</td>\n      <td>Crime</td>\n      <td>178</td>\n      <td>[u'Nicole Kidman', u'Paul Bettany', u'Lauren B...</td>\n      <td>1</td>\n    </tr>\n    <tr>\n      <th>39</th>\n      <td>82</td>\n      <td>8.4</td>\n      <td>Braveheart</td>\n      <td>R</td>\n      <td>Action</td>\n      <td>177</td>\n      <td>[u'Mel Gibson', u'Sophie Marceau', u'Patrick M...</td>\n      <td>1</td>\n    </tr>\n    <tr>\n      <th>40</th>\n      <td>1</td>\n      <td>9.2</td>\n      <td>The Godfather</td>\n      <td>R</td>\n      <td>Crime</td>\n      <td>175</td>\n      <td>[u'Marlon Brando', u'Al Pacino', u'James Caan']</td>\n      <td>1</td>\n    </tr>\n    <tr>\n      <th>41</th>\n      <td>938</td>\n      <td>7.4</td>\n      <td>A Bridge Too Far</td>\n      <td>PG</td>\n      <td>Drama</td>\n      <td>175</td>\n      <td>[u'Sean Connery', u\"Ryan O'Neal\", u'Michael Ca...</td>\n      <td>1</td>\n    </tr>\n    <tr>\n      <th>42</th>\n      <td>26</td>\n      <td>8.6</td>\n      <td>Once Upon a Time in the West</td>\n      <td>PG-13</td>\n      <td>Western</td>\n      <td>175</td>\n      <td>[u'Henry Fonda', u'Charles Bronson', u'Claudia...</td>\n      <td>1</td>\n    </tr>\n    <tr>\n      <th>43</th>\n      <td>347</td>\n      <td>8.0</td>\n      <td>The Sound of Music</td>\n      <td>G</td>\n      <td>Biography</td>\n      <td>174</td>\n      <td>[u'Julie Andrews', u'Christopher Plummer', u'E...</td>\n      <td>1</td>\n    </tr>\n    <tr>\n      <th>44</th>\n      <td>230</td>\n      <td>8.1</td>\n      <td>La Dolce Vita</td>\n      <td>NOT RATED</td>\n      <td>Comedy</td>\n      <td>174</td>\n      <td>[u'Marcello Mastroianni', u'Anita Ekberg', u'A...</td>\n      <td>1</td>\n    </tr>\n    <tr>\n      <th>45</th>\n      <td>159</td>\n      <td>8.2</td>\n      <td>The Best Years of Our Lives</td>\n      <td>PASSED</td>\n      <td>Drama</td>\n      <td>172</td>\n      <td>[u'Fredric March', u'Dana Andrews', u'Myrna Loy']</td>\n      <td>1</td>\n    </tr>\n    <tr>\n      <th>46</th>\n      <td>301</td>\n      <td>8.0</td>\n      <td>Patton</td>\n      <td>GP</td>\n      <td>Biography</td>\n      <td>172</td>\n      <td>[u'George C. Scott', u'Karl Malden', u'Stephen...</td>\n      <td>1</td>\n    </tr>\n    <tr>\n      <th>47</th>\n      <td>120</td>\n      <td>8.3</td>\n      <td>The Great Escape</td>\n      <td>UNRATED</td>\n      <td>Adventure</td>\n      <td>172</td>\n      <td>[u'Steve McQueen', u'James Garner', u'Richard ...</td>\n      <td>1</td>\n    </tr>\n    <tr>\n      <th>48</th>\n      <td>840</td>\n      <td>7.5</td>\n      <td>Cloud Atlas</td>\n      <td>R</td>\n      <td>Drama</td>\n      <td>172</td>\n      <td>[u'Tom Hanks', u'Halle Berry', u'Hugh Grant']</td>\n      <td>1</td>\n    </tr>\n    <tr>\n      <th>49</th>\n      <td>886</td>\n      <td>7.5</td>\n      <td>The Aviator</td>\n      <td>PG-13</td>\n      <td>Biography</td>\n      <td>170</td>\n      <td>[u'Leonardo DiCaprio', u'Cate Blanchett', u'Ka...</td>\n      <td>1</td>\n    </tr>\n  </tbody>\n</table>\n</div>"
     },
     "execution_count": 69,
     "metadata": {},
     "output_type": "execute_result"
    }
   ],
   "source": [
    "sorted_movie = pd.read_csv(\"long_time.csv\")\n",
    "sorted_movie"
   ],
   "metadata": {
    "collapsed": false,
    "pycharm": {
     "name": "#%%\n"
    }
   }
  },
  {
   "cell_type": "markdown",
   "id": "e98ea709",
   "metadata": {},
   "source": [
    "<div dir = \"rtl\" style=\"direction:rtl;line-height:300%;\">\n",
    "\t<font face=\"XB Zar\" size=4>\n",
    "         تابعی بنویسید که نام بازیگر را به عنوان آرگومان بگیرد و تعداد فیلم های برتر از این لیست را که بازی کرده محاسبه کند.\n",
    "        <br/>\n",
    "    </font>\n",
    "</div>"
   ]
  },
  {
   "cell_type": "code",
   "execution_count": 70,
   "outputs": [
    {
     "data": {
      "text/plain": "     Unnamed: 0  star_rating                                            title  \\\n0             0          9.3                         The Shawshank Redemption   \n1             1          9.2                                    The Godfather   \n2             2          9.1                           The Godfather: Part II   \n3             3          9.0                                  The Dark Knight   \n4             4          8.9                                     Pulp Fiction   \n..          ...          ...                                              ...   \n971         971          7.4                                          Tootsie   \n972         972          7.4                      Back to the Future Part III   \n973         973          7.4  Master and Commander: The Far Side of the World   \n974         974          7.4                                      Poltergeist   \n975         975          7.4                                      Wall Street   \n\n    content_rating      genre  duration  \\\n0                R      Crime       142   \n1                R      Crime       175   \n2                R      Crime       200   \n3            PG-13     Action       152   \n4                R      Crime       154   \n..             ...        ...       ...   \n971             PG     Comedy       116   \n972             PG  Adventure       118   \n973          PG-13     Action       138   \n974             PG     Horror       114   \n975              R      Crime       126   \n\n                                           actors_list  greater_than_150_min  \n0    [u'Tim Robbins', u'Morgan Freeman', u'Bob Gunt...                     0  \n1      [u'Marlon Brando', u'Al Pacino', u'James Caan']                     1  \n2    [u'Al Pacino', u'Robert De Niro', u'Robert Duv...                     1  \n3    [u'Christian Bale', u'Heath Ledger', u'Aaron E...                     1  \n4    [u'John Travolta', u'Uma Thurman', u'Samuel L....                     1  \n..                                                 ...                   ...  \n971  [u'Dustin Hoffman', u'Jessica Lange', u'Teri G...                     0  \n972  [u'Michael J. Fox', u'Christopher Lloyd', u'Ma...                     0  \n973  [u'Russell Crowe', u'Paul Bettany', u'Billy Bo...                     0  \n974  [u'JoBeth Williams', u\"Heather O'Rourke\", u'Cr...                     0  \n975  [u'Charlie Sheen', u'Michael Douglas', u'Tamar...                     0  \n\n[976 rows x 8 columns]",
      "text/html": "<div>\n<style scoped>\n    .dataframe tbody tr th:only-of-type {\n        vertical-align: middle;\n    }\n\n    .dataframe tbody tr th {\n        vertical-align: top;\n    }\n\n    .dataframe thead th {\n        text-align: right;\n    }\n</style>\n<table border=\"1\" class=\"dataframe\">\n  <thead>\n    <tr style=\"text-align: right;\">\n      <th></th>\n      <th>Unnamed: 0</th>\n      <th>star_rating</th>\n      <th>title</th>\n      <th>content_rating</th>\n      <th>genre</th>\n      <th>duration</th>\n      <th>actors_list</th>\n      <th>greater_than_150_min</th>\n    </tr>\n  </thead>\n  <tbody>\n    <tr>\n      <th>0</th>\n      <td>0</td>\n      <td>9.3</td>\n      <td>The Shawshank Redemption</td>\n      <td>R</td>\n      <td>Crime</td>\n      <td>142</td>\n      <td>[u'Tim Robbins', u'Morgan Freeman', u'Bob Gunt...</td>\n      <td>0</td>\n    </tr>\n    <tr>\n      <th>1</th>\n      <td>1</td>\n      <td>9.2</td>\n      <td>The Godfather</td>\n      <td>R</td>\n      <td>Crime</td>\n      <td>175</td>\n      <td>[u'Marlon Brando', u'Al Pacino', u'James Caan']</td>\n      <td>1</td>\n    </tr>\n    <tr>\n      <th>2</th>\n      <td>2</td>\n      <td>9.1</td>\n      <td>The Godfather: Part II</td>\n      <td>R</td>\n      <td>Crime</td>\n      <td>200</td>\n      <td>[u'Al Pacino', u'Robert De Niro', u'Robert Duv...</td>\n      <td>1</td>\n    </tr>\n    <tr>\n      <th>3</th>\n      <td>3</td>\n      <td>9.0</td>\n      <td>The Dark Knight</td>\n      <td>PG-13</td>\n      <td>Action</td>\n      <td>152</td>\n      <td>[u'Christian Bale', u'Heath Ledger', u'Aaron E...</td>\n      <td>1</td>\n    </tr>\n    <tr>\n      <th>4</th>\n      <td>4</td>\n      <td>8.9</td>\n      <td>Pulp Fiction</td>\n      <td>R</td>\n      <td>Crime</td>\n      <td>154</td>\n      <td>[u'John Travolta', u'Uma Thurman', u'Samuel L....</td>\n      <td>1</td>\n    </tr>\n    <tr>\n      <th>...</th>\n      <td>...</td>\n      <td>...</td>\n      <td>...</td>\n      <td>...</td>\n      <td>...</td>\n      <td>...</td>\n      <td>...</td>\n      <td>...</td>\n    </tr>\n    <tr>\n      <th>971</th>\n      <td>971</td>\n      <td>7.4</td>\n      <td>Tootsie</td>\n      <td>PG</td>\n      <td>Comedy</td>\n      <td>116</td>\n      <td>[u'Dustin Hoffman', u'Jessica Lange', u'Teri G...</td>\n      <td>0</td>\n    </tr>\n    <tr>\n      <th>972</th>\n      <td>972</td>\n      <td>7.4</td>\n      <td>Back to the Future Part III</td>\n      <td>PG</td>\n      <td>Adventure</td>\n      <td>118</td>\n      <td>[u'Michael J. Fox', u'Christopher Lloyd', u'Ma...</td>\n      <td>0</td>\n    </tr>\n    <tr>\n      <th>973</th>\n      <td>973</td>\n      <td>7.4</td>\n      <td>Master and Commander: The Far Side of the World</td>\n      <td>PG-13</td>\n      <td>Action</td>\n      <td>138</td>\n      <td>[u'Russell Crowe', u'Paul Bettany', u'Billy Bo...</td>\n      <td>0</td>\n    </tr>\n    <tr>\n      <th>974</th>\n      <td>974</td>\n      <td>7.4</td>\n      <td>Poltergeist</td>\n      <td>PG</td>\n      <td>Horror</td>\n      <td>114</td>\n      <td>[u'JoBeth Williams', u\"Heather O'Rourke\", u'Cr...</td>\n      <td>0</td>\n    </tr>\n    <tr>\n      <th>975</th>\n      <td>975</td>\n      <td>7.4</td>\n      <td>Wall Street</td>\n      <td>R</td>\n      <td>Crime</td>\n      <td>126</td>\n      <td>[u'Charlie Sheen', u'Michael Douglas', u'Tamar...</td>\n      <td>0</td>\n    </tr>\n  </tbody>\n</table>\n<p>976 rows × 8 columns</p>\n</div>"
     },
     "execution_count": 70,
     "metadata": {},
     "output_type": "execute_result"
    }
   ],
   "source": [
    "movies"
   ],
   "metadata": {
    "collapsed": false,
    "pycharm": {
     "name": "#%%\n"
    }
   }
  },
  {
   "cell_type": "code",
   "execution_count": 71,
   "outputs": [],
   "source": [
    "def movie_count_by_actor(name:str) -> int:\n",
    "    count_list = movies[\"actors_list\"].apply(lambda x : True if name.lower().strip() in x.lower().strip() else False)\n",
    "    count = np.cumsum(count_list)\n",
    "    return np.max(count)"
   ],
   "metadata": {
    "collapsed": false,
    "pycharm": {
     "name": "#%%\n"
    }
   }
  },
  {
   "cell_type": "code",
   "execution_count": 72,
   "outputs": [
    {
     "data": {
      "text/plain": "11"
     },
     "execution_count": 72,
     "metadata": {},
     "output_type": "execute_result"
    }
   ],
   "source": [
    "movie_count_by_actor(\"dustin hoffman\")"
   ],
   "metadata": {
    "collapsed": false,
    "pycharm": {
     "name": "#%%\n"
    }
   }
  },
  {
   "cell_type": "markdown",
   "source": [
    "<div dir = \"rtl\" style=\"direction:rtl;line-height:300%;\">\n",
    "\t<font face=\"XB Zar\" size=4>\n",
    "         میانگین امتیاز فیلم ها را براساس ژانر نمایش به دست آورید.\n",
    "        <br/>\n",
    "    </font>\n",
    "</div>"
   ],
   "metadata": {
    "collapsed": false
   }
  },
  {
   "cell_type": "code",
   "execution_count": 73,
   "outputs": [
    {
     "name": "stderr",
     "output_type": "stream",
     "text": [
      "C:\\Users\\Lenovo\\AppData\\Local\\Temp\\ipykernel_16368\\1194089316.py:1: FutureWarning: The default value of numeric_only in DataFrameGroupBy.mean is deprecated. In a future version, numeric_only will default to False. Either specify numeric_only or select only columns which should be valid for the function.\n",
      "  movies.groupby(\"genre\").mean()[\"star_rating\"]\n"
     ]
    },
    {
     "data": {
      "text/plain": "genre\nAction       7.885926\nAdventure    7.940541\nAnimation    7.914516\nBiography    7.857895\nComedy       7.822436\nCrime        7.916935\nDrama        7.902518\nFamily       7.850000\nFantasy      7.700000\nFilm-Noir    8.033333\nHistory      8.000000\nHorror       7.806897\nMystery      7.975000\nSci-Fi       7.920000\nThriller     7.680000\nWestern      8.255556\nName: star_rating, dtype: float64"
     },
     "execution_count": 73,
     "metadata": {},
     "output_type": "execute_result"
    }
   ],
   "source": [
    "movies.groupby(\"genre\").mean()[\"star_rating\"]"
   ],
   "metadata": {
    "collapsed": false,
    "pycharm": {
     "name": "#%%\n"
    }
   }
  },
  {
   "cell_type": "markdown",
   "id": "5c281ff9",
   "metadata": {},
   "source": [
    "<div dir = \"rtl\" style=\"direction:rtl;line-height:300%;\">\n",
    "\t<font face=\"XB Zar\" size=4>\n",
    "       ستونی به این داده ها اضافه کنید که در صورت اینکه یک فیلم مدت نمایش آن 150 دقیقه و یا بیشتر بود مقدار صفر و در غیر اینصورت 1 در هر سطر این ستون قرار گیرد. دیتافریم حاصل را در یک فایل csv ذخیره کنید.\n",
    "        <br/>\n",
    "    </font>\n",
    "</div>"
   ]
  },
  {
   "cell_type": "code",
   "id": "3ded1efc",
   "metadata": {
    "pycharm": {
     "name": "#%%\n"
    }
   },
   "source": [
    "movies_copy = movies\n",
    "movies_copy[\"greater_than_150_min\"] = movies.apply(lambda x: 1 if x.duration>=150 else 0,axis=1)\n",
    "movies_copy.to_csv(\"imdb_movie_rank.csv\")\n",
    "# movies_copy[\"greater than 150 min\"]."
   ],
   "execution_count": 74,
   "outputs": []
  },
  {
   "cell_type": "markdown",
   "id": "bf31c1c5",
   "metadata": {},
   "source": [
    "<div dir = \"rtl\" style=\"direction:rtl;line-height:300%;\">\n",
    "\t<font face=\"XB Zar\" size=4>\n",
    "        عنوان ستونها را به نحوی تغییر دهید که در ستون های دارای _(آندرلاین) فاصله قرار گیرد. به عنوان مثال star_rating به star rating تبدیل می شود.\n",
    "        <br/>\n",
    "    </font>\n",
    "</div>"
   ]
  },
  {
   "cell_type": "code",
   "execution_count": 75,
   "id": "2bebdfba",
   "metadata": {},
   "outputs": [
    {
     "data": {
      "text/plain": "     Unnamed: 0  star rating                                            title  \\\n0             0          9.3                         The Shawshank Redemption   \n1             1          9.2                                    The Godfather   \n2             2          9.1                           The Godfather: Part II   \n3             3          9.0                                  The Dark Knight   \n4             4          8.9                                     Pulp Fiction   \n..          ...          ...                                              ...   \n971         971          7.4                                          Tootsie   \n972         972          7.4                      Back to the Future Part III   \n973         973          7.4  Master and Commander: The Far Side of the World   \n974         974          7.4                                      Poltergeist   \n975         975          7.4                                      Wall Street   \n\n    content rating      genre  duration  \\\n0                R      Crime       142   \n1                R      Crime       175   \n2                R      Crime       200   \n3            PG-13     Action       152   \n4                R      Crime       154   \n..             ...        ...       ...   \n971             PG     Comedy       116   \n972             PG  Adventure       118   \n973          PG-13     Action       138   \n974             PG     Horror       114   \n975              R      Crime       126   \n\n                                           actors list  greater than 150 min  \n0    [u'Tim Robbins', u'Morgan Freeman', u'Bob Gunt...                     0  \n1      [u'Marlon Brando', u'Al Pacino', u'James Caan']                     1  \n2    [u'Al Pacino', u'Robert De Niro', u'Robert Duv...                     1  \n3    [u'Christian Bale', u'Heath Ledger', u'Aaron E...                     1  \n4    [u'John Travolta', u'Uma Thurman', u'Samuel L....                     1  \n..                                                 ...                   ...  \n971  [u'Dustin Hoffman', u'Jessica Lange', u'Teri G...                     0  \n972  [u'Michael J. Fox', u'Christopher Lloyd', u'Ma...                     0  \n973  [u'Russell Crowe', u'Paul Bettany', u'Billy Bo...                     0  \n974  [u'JoBeth Williams', u\"Heather O'Rourke\", u'Cr...                     0  \n975  [u'Charlie Sheen', u'Michael Douglas', u'Tamar...                     0  \n\n[976 rows x 8 columns]",
      "text/html": "<div>\n<style scoped>\n    .dataframe tbody tr th:only-of-type {\n        vertical-align: middle;\n    }\n\n    .dataframe tbody tr th {\n        vertical-align: top;\n    }\n\n    .dataframe thead th {\n        text-align: right;\n    }\n</style>\n<table border=\"1\" class=\"dataframe\">\n  <thead>\n    <tr style=\"text-align: right;\">\n      <th></th>\n      <th>Unnamed: 0</th>\n      <th>star rating</th>\n      <th>title</th>\n      <th>content rating</th>\n      <th>genre</th>\n      <th>duration</th>\n      <th>actors list</th>\n      <th>greater than 150 min</th>\n    </tr>\n  </thead>\n  <tbody>\n    <tr>\n      <th>0</th>\n      <td>0</td>\n      <td>9.3</td>\n      <td>The Shawshank Redemption</td>\n      <td>R</td>\n      <td>Crime</td>\n      <td>142</td>\n      <td>[u'Tim Robbins', u'Morgan Freeman', u'Bob Gunt...</td>\n      <td>0</td>\n    </tr>\n    <tr>\n      <th>1</th>\n      <td>1</td>\n      <td>9.2</td>\n      <td>The Godfather</td>\n      <td>R</td>\n      <td>Crime</td>\n      <td>175</td>\n      <td>[u'Marlon Brando', u'Al Pacino', u'James Caan']</td>\n      <td>1</td>\n    </tr>\n    <tr>\n      <th>2</th>\n      <td>2</td>\n      <td>9.1</td>\n      <td>The Godfather: Part II</td>\n      <td>R</td>\n      <td>Crime</td>\n      <td>200</td>\n      <td>[u'Al Pacino', u'Robert De Niro', u'Robert Duv...</td>\n      <td>1</td>\n    </tr>\n    <tr>\n      <th>3</th>\n      <td>3</td>\n      <td>9.0</td>\n      <td>The Dark Knight</td>\n      <td>PG-13</td>\n      <td>Action</td>\n      <td>152</td>\n      <td>[u'Christian Bale', u'Heath Ledger', u'Aaron E...</td>\n      <td>1</td>\n    </tr>\n    <tr>\n      <th>4</th>\n      <td>4</td>\n      <td>8.9</td>\n      <td>Pulp Fiction</td>\n      <td>R</td>\n      <td>Crime</td>\n      <td>154</td>\n      <td>[u'John Travolta', u'Uma Thurman', u'Samuel L....</td>\n      <td>1</td>\n    </tr>\n    <tr>\n      <th>...</th>\n      <td>...</td>\n      <td>...</td>\n      <td>...</td>\n      <td>...</td>\n      <td>...</td>\n      <td>...</td>\n      <td>...</td>\n      <td>...</td>\n    </tr>\n    <tr>\n      <th>971</th>\n      <td>971</td>\n      <td>7.4</td>\n      <td>Tootsie</td>\n      <td>PG</td>\n      <td>Comedy</td>\n      <td>116</td>\n      <td>[u'Dustin Hoffman', u'Jessica Lange', u'Teri G...</td>\n      <td>0</td>\n    </tr>\n    <tr>\n      <th>972</th>\n      <td>972</td>\n      <td>7.4</td>\n      <td>Back to the Future Part III</td>\n      <td>PG</td>\n      <td>Adventure</td>\n      <td>118</td>\n      <td>[u'Michael J. Fox', u'Christopher Lloyd', u'Ma...</td>\n      <td>0</td>\n    </tr>\n    <tr>\n      <th>973</th>\n      <td>973</td>\n      <td>7.4</td>\n      <td>Master and Commander: The Far Side of the World</td>\n      <td>PG-13</td>\n      <td>Action</td>\n      <td>138</td>\n      <td>[u'Russell Crowe', u'Paul Bettany', u'Billy Bo...</td>\n      <td>0</td>\n    </tr>\n    <tr>\n      <th>974</th>\n      <td>974</td>\n      <td>7.4</td>\n      <td>Poltergeist</td>\n      <td>PG</td>\n      <td>Horror</td>\n      <td>114</td>\n      <td>[u'JoBeth Williams', u\"Heather O'Rourke\", u'Cr...</td>\n      <td>0</td>\n    </tr>\n    <tr>\n      <th>975</th>\n      <td>975</td>\n      <td>7.4</td>\n      <td>Wall Street</td>\n      <td>R</td>\n      <td>Crime</td>\n      <td>126</td>\n      <td>[u'Charlie Sheen', u'Michael Douglas', u'Tamar...</td>\n      <td>0</td>\n    </tr>\n  </tbody>\n</table>\n<p>976 rows × 8 columns</p>\n</div>"
     },
     "execution_count": 75,
     "metadata": {},
     "output_type": "execute_result"
    }
   ],
   "source": [
    "movies_=movies.copy()\n",
    "movies_.columns= map(lambda x:x.replace(\"_\",\" \").strip(),movies.columns)\n",
    "movies_"
   ]
  },
  {
   "cell_type": "markdown",
   "id": "4163bd09",
   "metadata": {},
   "source": [
    "<div dir = \"rtl\" style=\"direction:rtl;line-height:300%;\">\n",
    "\t<font face=\"XB Zar\" size=4>\n",
    "        داده ها را براساس ژانر گروه بندی و مرتب کنید و از هر ژانر صرفا سه تای برتر را نمایش دهید\n",
    "        <br/>\n",
    "    </font>\n",
    "</div>"
   ]
  },
  {
   "cell_type": "code",
   "execution_count": 85,
   "id": "e0cb32cb",
   "metadata": {},
   "outputs": [
    {
     "name": "stderr",
     "output_type": "stream",
     "text": [
      "C:\\Users\\Lenovo\\AppData\\Local\\Temp\\ipykernel_16368\\2781922314.py:6: FutureWarning: The default value of numeric_only in DataFrameGroupBy.sum is deprecated. In a future version, numeric_only will default to False. Either specify numeric_only or select only columns which should be valid for the function.\n",
      "  movies_by_genre.groupby([\"genre\",\"star_rating\",\"title\"]).sum()\n"
     ]
    },
    {
     "data": {
      "text/plain": "                                                                         Unnamed: 0  \\\ngenre     star_rating title                                                           \nAction    8.8         Inception                                                  11   \n                      Star Wars: Episode V - The Empire Strikes Back             12   \n          9.0         The Dark Knight                                             3   \nAdventure 8.8         The Lord of the Rings: The Fellowship of the Ring          10   \n                      The Lord of the Rings: The Two Towers                      14   \n          8.9         The Lord of the Rings: The Return of the King               7   \nAnimation 8.5         Grave of the Fireflies                                     61   \n                      The Lion King                                              55   \n          8.6         Spirited Away                                              30   \nBiography 8.6         The Intouchables                                           31   \n          8.7         Goodfellas                                                 18   \n          8.9         Schindler's List                                            8   \nComedy    8.6         City Lights                                                29   \n                      Life Is Beautiful                                          25   \n                      Modern Times                                               35   \nCrime     9.1         The Godfather: Part II                                      2   \n          9.2         The Godfather                                               1   \n          9.3         The Shawshank Redemption                                    0   \nDrama     8.8         Forrest Gump                                               13   \n          8.9         12 Angry Men                                                5   \n                      Fight Club                                                  9   \nFamily    7.8         Willy Wonka & the Chocolate Factory                       496   \n          7.9         E.T. the Extra-Terrestrial                                467   \nFantasy   7.7         The City of Lost Children                                 637   \nFilm-Noir 7.7         Spellbound                                                685   \n          8.1         Laura                                                     209   \n          8.3         The Third Man                                             105   \nHistory   8.0         Battleship Potemkin                                       337   \nHorror    8.5         Alien                                                      57   \n                      The Shining                                                62   \n          8.6         Psycho                                                     39   \nMystery   8.4         Vertigo                                                    76   \n          8.5         Memento                                                    46   \n          8.6         Rear Window                                                38   \nSci-Fi    7.9         Gravity                                                   407   \n          8.0         Brazil                                                    320   \n          8.2         Blade Runner                                              145   \nThriller  7.6         La piel que habito                                        726   \n          7.8         Misery                                                    495   \n          8.0         Shadow of a Doubt                                         349   \nWestern   8.5         Django Unchained                                           59   \n          8.6         Once Upon a Time in the West                               26   \n          8.9         The Good, the Bad and the Ugly                              6   \n\n                                                                         duration  \\\ngenre     star_rating title                                                         \nAction    8.8         Inception                                               148   \n                      Star Wars: Episode V - The Empire Strikes Back          124   \n          9.0         The Dark Knight                                         152   \nAdventure 8.8         The Lord of the Rings: The Fellowship of the Ring       178   \n                      The Lord of the Rings: The Two Towers                   179   \n          8.9         The Lord of the Rings: The Return of the King           201   \nAnimation 8.5         Grave of the Fireflies                                   89   \n                      The Lion King                                            89   \n          8.6         Spirited Away                                           125   \nBiography 8.6         The Intouchables                                        112   \n          8.7         Goodfellas                                              146   \n          8.9         Schindler's List                                        195   \nComedy    8.6         City Lights                                              87   \n                      Life Is Beautiful                                       116   \n                      Modern Times                                             87   \nCrime     9.1         The Godfather: Part II                                  200   \n          9.2         The Godfather                                           175   \n          9.3         The Shawshank Redemption                                142   \nDrama     8.8         Forrest Gump                                            142   \n          8.9         12 Angry Men                                             96   \n                      Fight Club                                              139   \nFamily    7.8         Willy Wonka & the Chocolate Factory                     100   \n          7.9         E.T. the Extra-Terrestrial                              115   \nFantasy   7.7         The City of Lost Children                               112   \nFilm-Noir 7.7         Spellbound                                              111   \n          8.1         Laura                                                    88   \n          8.3         The Third Man                                            93   \nHistory   8.0         Battleship Potemkin                                      66   \nHorror    8.5         Alien                                                   117   \n                      The Shining                                             146   \n          8.6         Psycho                                                  109   \nMystery   8.4         Vertigo                                                 128   \n          8.5         Memento                                                 113   \n          8.6         Rear Window                                             112   \nSci-Fi    7.9         Gravity                                                  91   \n          8.0         Brazil                                                  132   \n          8.2         Blade Runner                                            117   \nThriller  7.6         La piel que habito                                      120   \n          7.8         Misery                                                  107   \n          8.0         Shadow of a Doubt                                       108   \nWestern   8.5         Django Unchained                                        165   \n          8.6         Once Upon a Time in the West                            175   \n          8.9         The Good, the Bad and the Ugly                          161   \n\n                                                                         greater_than_150_min  \ngenre     star_rating title                                                                    \nAction    8.8         Inception                                                             0  \n                      Star Wars: Episode V - The Empire Strikes Back                        0  \n          9.0         The Dark Knight                                                       1  \nAdventure 8.8         The Lord of the Rings: The Fellowship of the Ring                     1  \n                      The Lord of the Rings: The Two Towers                                 1  \n          8.9         The Lord of the Rings: The Return of the King                         1  \nAnimation 8.5         Grave of the Fireflies                                                0  \n                      The Lion King                                                         0  \n          8.6         Spirited Away                                                         0  \nBiography 8.6         The Intouchables                                                      0  \n          8.7         Goodfellas                                                            0  \n          8.9         Schindler's List                                                      1  \nComedy    8.6         City Lights                                                           0  \n                      Life Is Beautiful                                                     0  \n                      Modern Times                                                          0  \nCrime     9.1         The Godfather: Part II                                                1  \n          9.2         The Godfather                                                         1  \n          9.3         The Shawshank Redemption                                              0  \nDrama     8.8         Forrest Gump                                                          0  \n          8.9         12 Angry Men                                                          0  \n                      Fight Club                                                            0  \nFamily    7.8         Willy Wonka & the Chocolate Factory                                   0  \n          7.9         E.T. the Extra-Terrestrial                                            0  \nFantasy   7.7         The City of Lost Children                                             0  \nFilm-Noir 7.7         Spellbound                                                            0  \n          8.1         Laura                                                                 0  \n          8.3         The Third Man                                                         0  \nHistory   8.0         Battleship Potemkin                                                   0  \nHorror    8.5         Alien                                                                 0  \n                      The Shining                                                           0  \n          8.6         Psycho                                                                0  \nMystery   8.4         Vertigo                                                               0  \n          8.5         Memento                                                               0  \n          8.6         Rear Window                                                           0  \nSci-Fi    7.9         Gravity                                                               0  \n          8.0         Brazil                                                                0  \n          8.2         Blade Runner                                                          0  \nThriller  7.6         La piel que habito                                                    0  \n          7.8         Misery                                                                0  \n          8.0         Shadow of a Doubt                                                     0  \nWestern   8.5         Django Unchained                                                      1  \n          8.6         Once Upon a Time in the West                                          1  \n          8.9         The Good, the Bad and the Ugly                                        1  ",
      "text/html": "<div>\n<style scoped>\n    .dataframe tbody tr th:only-of-type {\n        vertical-align: middle;\n    }\n\n    .dataframe tbody tr th {\n        vertical-align: top;\n    }\n\n    .dataframe thead th {\n        text-align: right;\n    }\n</style>\n<table border=\"1\" class=\"dataframe\">\n  <thead>\n    <tr style=\"text-align: right;\">\n      <th></th>\n      <th></th>\n      <th></th>\n      <th>Unnamed: 0</th>\n      <th>duration</th>\n      <th>greater_than_150_min</th>\n    </tr>\n    <tr>\n      <th>genre</th>\n      <th>star_rating</th>\n      <th>title</th>\n      <th></th>\n      <th></th>\n      <th></th>\n    </tr>\n  </thead>\n  <tbody>\n    <tr>\n      <th rowspan=\"3\" valign=\"top\">Action</th>\n      <th rowspan=\"2\" valign=\"top\">8.8</th>\n      <th>Inception</th>\n      <td>11</td>\n      <td>148</td>\n      <td>0</td>\n    </tr>\n    <tr>\n      <th>Star Wars: Episode V - The Empire Strikes Back</th>\n      <td>12</td>\n      <td>124</td>\n      <td>0</td>\n    </tr>\n    <tr>\n      <th>9.0</th>\n      <th>The Dark Knight</th>\n      <td>3</td>\n      <td>152</td>\n      <td>1</td>\n    </tr>\n    <tr>\n      <th rowspan=\"3\" valign=\"top\">Adventure</th>\n      <th rowspan=\"2\" valign=\"top\">8.8</th>\n      <th>The Lord of the Rings: The Fellowship of the Ring</th>\n      <td>10</td>\n      <td>178</td>\n      <td>1</td>\n    </tr>\n    <tr>\n      <th>The Lord of the Rings: The Two Towers</th>\n      <td>14</td>\n      <td>179</td>\n      <td>1</td>\n    </tr>\n    <tr>\n      <th>8.9</th>\n      <th>The Lord of the Rings: The Return of the King</th>\n      <td>7</td>\n      <td>201</td>\n      <td>1</td>\n    </tr>\n    <tr>\n      <th rowspan=\"3\" valign=\"top\">Animation</th>\n      <th rowspan=\"2\" valign=\"top\">8.5</th>\n      <th>Grave of the Fireflies</th>\n      <td>61</td>\n      <td>89</td>\n      <td>0</td>\n    </tr>\n    <tr>\n      <th>The Lion King</th>\n      <td>55</td>\n      <td>89</td>\n      <td>0</td>\n    </tr>\n    <tr>\n      <th>8.6</th>\n      <th>Spirited Away</th>\n      <td>30</td>\n      <td>125</td>\n      <td>0</td>\n    </tr>\n    <tr>\n      <th rowspan=\"3\" valign=\"top\">Biography</th>\n      <th>8.6</th>\n      <th>The Intouchables</th>\n      <td>31</td>\n      <td>112</td>\n      <td>0</td>\n    </tr>\n    <tr>\n      <th>8.7</th>\n      <th>Goodfellas</th>\n      <td>18</td>\n      <td>146</td>\n      <td>0</td>\n    </tr>\n    <tr>\n      <th>8.9</th>\n      <th>Schindler's List</th>\n      <td>8</td>\n      <td>195</td>\n      <td>1</td>\n    </tr>\n    <tr>\n      <th rowspan=\"3\" valign=\"top\">Comedy</th>\n      <th rowspan=\"3\" valign=\"top\">8.6</th>\n      <th>City Lights</th>\n      <td>29</td>\n      <td>87</td>\n      <td>0</td>\n    </tr>\n    <tr>\n      <th>Life Is Beautiful</th>\n      <td>25</td>\n      <td>116</td>\n      <td>0</td>\n    </tr>\n    <tr>\n      <th>Modern Times</th>\n      <td>35</td>\n      <td>87</td>\n      <td>0</td>\n    </tr>\n    <tr>\n      <th rowspan=\"3\" valign=\"top\">Crime</th>\n      <th>9.1</th>\n      <th>The Godfather: Part II</th>\n      <td>2</td>\n      <td>200</td>\n      <td>1</td>\n    </tr>\n    <tr>\n      <th>9.2</th>\n      <th>The Godfather</th>\n      <td>1</td>\n      <td>175</td>\n      <td>1</td>\n    </tr>\n    <tr>\n      <th>9.3</th>\n      <th>The Shawshank Redemption</th>\n      <td>0</td>\n      <td>142</td>\n      <td>0</td>\n    </tr>\n    <tr>\n      <th rowspan=\"3\" valign=\"top\">Drama</th>\n      <th>8.8</th>\n      <th>Forrest Gump</th>\n      <td>13</td>\n      <td>142</td>\n      <td>0</td>\n    </tr>\n    <tr>\n      <th rowspan=\"2\" valign=\"top\">8.9</th>\n      <th>12 Angry Men</th>\n      <td>5</td>\n      <td>96</td>\n      <td>0</td>\n    </tr>\n    <tr>\n      <th>Fight Club</th>\n      <td>9</td>\n      <td>139</td>\n      <td>0</td>\n    </tr>\n    <tr>\n      <th rowspan=\"2\" valign=\"top\">Family</th>\n      <th>7.8</th>\n      <th>Willy Wonka &amp; the Chocolate Factory</th>\n      <td>496</td>\n      <td>100</td>\n      <td>0</td>\n    </tr>\n    <tr>\n      <th>7.9</th>\n      <th>E.T. the Extra-Terrestrial</th>\n      <td>467</td>\n      <td>115</td>\n      <td>0</td>\n    </tr>\n    <tr>\n      <th>Fantasy</th>\n      <th>7.7</th>\n      <th>The City of Lost Children</th>\n      <td>637</td>\n      <td>112</td>\n      <td>0</td>\n    </tr>\n    <tr>\n      <th rowspan=\"3\" valign=\"top\">Film-Noir</th>\n      <th>7.7</th>\n      <th>Spellbound</th>\n      <td>685</td>\n      <td>111</td>\n      <td>0</td>\n    </tr>\n    <tr>\n      <th>8.1</th>\n      <th>Laura</th>\n      <td>209</td>\n      <td>88</td>\n      <td>0</td>\n    </tr>\n    <tr>\n      <th>8.3</th>\n      <th>The Third Man</th>\n      <td>105</td>\n      <td>93</td>\n      <td>0</td>\n    </tr>\n    <tr>\n      <th>History</th>\n      <th>8.0</th>\n      <th>Battleship Potemkin</th>\n      <td>337</td>\n      <td>66</td>\n      <td>0</td>\n    </tr>\n    <tr>\n      <th rowspan=\"3\" valign=\"top\">Horror</th>\n      <th rowspan=\"2\" valign=\"top\">8.5</th>\n      <th>Alien</th>\n      <td>57</td>\n      <td>117</td>\n      <td>0</td>\n    </tr>\n    <tr>\n      <th>The Shining</th>\n      <td>62</td>\n      <td>146</td>\n      <td>0</td>\n    </tr>\n    <tr>\n      <th>8.6</th>\n      <th>Psycho</th>\n      <td>39</td>\n      <td>109</td>\n      <td>0</td>\n    </tr>\n    <tr>\n      <th rowspan=\"3\" valign=\"top\">Mystery</th>\n      <th>8.4</th>\n      <th>Vertigo</th>\n      <td>76</td>\n      <td>128</td>\n      <td>0</td>\n    </tr>\n    <tr>\n      <th>8.5</th>\n      <th>Memento</th>\n      <td>46</td>\n      <td>113</td>\n      <td>0</td>\n    </tr>\n    <tr>\n      <th>8.6</th>\n      <th>Rear Window</th>\n      <td>38</td>\n      <td>112</td>\n      <td>0</td>\n    </tr>\n    <tr>\n      <th rowspan=\"3\" valign=\"top\">Sci-Fi</th>\n      <th>7.9</th>\n      <th>Gravity</th>\n      <td>407</td>\n      <td>91</td>\n      <td>0</td>\n    </tr>\n    <tr>\n      <th>8.0</th>\n      <th>Brazil</th>\n      <td>320</td>\n      <td>132</td>\n      <td>0</td>\n    </tr>\n    <tr>\n      <th>8.2</th>\n      <th>Blade Runner</th>\n      <td>145</td>\n      <td>117</td>\n      <td>0</td>\n    </tr>\n    <tr>\n      <th rowspan=\"3\" valign=\"top\">Thriller</th>\n      <th>7.6</th>\n      <th>La piel que habito</th>\n      <td>726</td>\n      <td>120</td>\n      <td>0</td>\n    </tr>\n    <tr>\n      <th>7.8</th>\n      <th>Misery</th>\n      <td>495</td>\n      <td>107</td>\n      <td>0</td>\n    </tr>\n    <tr>\n      <th>8.0</th>\n      <th>Shadow of a Doubt</th>\n      <td>349</td>\n      <td>108</td>\n      <td>0</td>\n    </tr>\n    <tr>\n      <th rowspan=\"3\" valign=\"top\">Western</th>\n      <th>8.5</th>\n      <th>Django Unchained</th>\n      <td>59</td>\n      <td>165</td>\n      <td>1</td>\n    </tr>\n    <tr>\n      <th>8.6</th>\n      <th>Once Upon a Time in the West</th>\n      <td>26</td>\n      <td>175</td>\n      <td>1</td>\n    </tr>\n    <tr>\n      <th>8.9</th>\n      <th>The Good, the Bad and the Ugly</th>\n      <td>6</td>\n      <td>161</td>\n      <td>1</td>\n    </tr>\n  </tbody>\n</table>\n</div>"
     },
     "execution_count": 85,
     "metadata": {},
     "output_type": "execute_result"
    }
   ],
   "source": [
    "movies_by_genre = pd.DataFrame()\n",
    "for i in movies.genre.unique():\n",
    "    movies_by_genre = pd.concat([movies_by_genre,movies[movies.genre==i].nlargest(3,\"star_rating\")],axis=0)\n",
    "movies_by_genre\n",
    "# del movies_by_genre[\"Unnamed: 0\"]\n",
    "movies_by_genre.groupby([\"genre\",\"star_rating\",\"title\"]).sum()"
   ]
  },
  {
   "cell_type": "markdown",
   "id": "9a496ebe",
   "metadata": {},
   "source": [
    "<div dir = \"rtl\" style=\"direction:rtl;line-height:300%;\">\n",
    "\t<font face=\"XB Zar\" size=4>\n",
    "\t\t<font color=red size=5>\n",
    "            سوال سوم:‌\n",
    "        </font>\n",
    "        تفاوت بین متد read_table و read_csv در ماژول pandas چیست؟\n",
    "        <br/>\n",
    "    </font>\n",
    "</div>"
   ]
  },
  {
   "cell_type": "markdown",
   "id": "7741f2d0",
   "metadata": {
    "pycharm": {
     "name": "#%% md\n"
    }
   },
   "source": [
    "\n",
    "### read_table is read_csv with sep=',' replaced by sep='\\t', they are two thin wrappers around the same function so the performance will be identical."
   ]
  },
  {
   "cell_type": "markdown",
   "id": "46ac93c3",
   "metadata": {},
   "source": [
    "<div dir = \"rtl\" style=\"direction:rtl;line-height:300%;\">\n",
    "\t<font face=\"XB Zar\" size=4>\n",
    "\t\t<font color=red size=5>\n",
    "            سوال چهارم:‌\n",
    "        </font>\n",
    "       توضیح دهید crosstab در پانداس چه میکند و عملکرد آنرا بر روی کد زیر توضیح دهید؟\n",
    "        <br/>\n",
    "    </font>\n",
    "</div>"
   ]
  },
  {
   "cell_type": "markdown",
   "id": "360e387f",
   "metadata": {
    "pycharm": {
     "name": "#%% md\n"
    }
   },
   "source": [
    "Compute a simple cross tabulation of two (or more) factors.\n",
    "By default, computes a <b>frequency table of the factors</b> unless an array of values and an aggregation function are passed."
   ]
  },
  {
   "cell_type": "markdown",
   "id": "38c95fcc",
   "metadata": {},
   "source": [
    "<div dir = \"rtl\" style=\"direction:rtl;line-height:300%;\">\n",
    "\t<font face=\"XB Zar\" size=4>\n",
    "\t\t<font color=red size=5>\n",
    "            سوال پنچم:‌\n",
    "        </font>\n",
    "         توضیح دهید متد corr در پانداس چه میکند و عملکرد آنرا بر روی کد زیر توضیح دهید؟ \n",
    "        <br/>\n",
    "    </font>\n",
    "</div>"
   ]
  },
  {
   "cell_type": "markdown",
   "source": [
    "<div id=\"bayes\" style=\"direction:rtl;line-height:300%;\">\n",
    "\t<font face=\"XB Zar\" size=4>\n",
    "        ضریب همبستگی ستون های عددی دیتافریم را نسبت بهم میدهد که یه ماتریس متقارن قطر یک میباشد\n",
    "</div>"
   ],
   "metadata": {
    "collapsed": false
   }
  },
  {
   "cell_type": "code",
   "execution_count": 89,
   "id": "6b8ccdfa",
   "metadata": {},
   "outputs": [
    {
     "name": "stderr",
     "output_type": "stream",
     "text": [
      "C:\\Users\\Lenovo\\AppData\\Local\\Temp\\ipykernel_16368\\3313059620.py:1: FutureWarning: The default value of numeric_only in DataFrame.corr is deprecated. In a future version, it will default to False. Select only valid columns or specify the value of numeric_only to silence this warning.\n",
      "  movies.corr()\n"
     ]
    },
    {
     "data": {
      "text/plain": "                      star_rating  duration  greater_than_150_min\nstar_rating              1.000000  0.229410              0.223764\nduration                 0.229410  1.000000              0.744606\ngreater_than_150_min     0.223764  0.744606              1.000000",
      "text/html": "<div>\n<style scoped>\n    .dataframe tbody tr th:only-of-type {\n        vertical-align: middle;\n    }\n\n    .dataframe tbody tr th {\n        vertical-align: top;\n    }\n\n    .dataframe thead th {\n        text-align: right;\n    }\n</style>\n<table border=\"1\" class=\"dataframe\">\n  <thead>\n    <tr style=\"text-align: right;\">\n      <th></th>\n      <th>star_rating</th>\n      <th>duration</th>\n      <th>greater_than_150_min</th>\n    </tr>\n  </thead>\n  <tbody>\n    <tr>\n      <th>star_rating</th>\n      <td>1.000000</td>\n      <td>0.229410</td>\n      <td>0.223764</td>\n    </tr>\n    <tr>\n      <th>duration</th>\n      <td>0.229410</td>\n      <td>1.000000</td>\n      <td>0.744606</td>\n    </tr>\n    <tr>\n      <th>greater_than_150_min</th>\n      <td>0.223764</td>\n      <td>0.744606</td>\n      <td>1.000000</td>\n    </tr>\n  </tbody>\n</table>\n</div>"
     },
     "execution_count": 89,
     "metadata": {},
     "output_type": "execute_result"
    }
   ],
   "source": [
    "movies.corr()"
   ]
  },
  {
   "cell_type": "markdown",
   "id": "1188072f",
   "metadata": {},
   "source": [
    "<div dir = \"rtl\" style=\"direction:rtl;line-height:300%;\">\n",
    "\t<font face=\"XB Zar\" size=4>\n",
    "\t\t<font color=red size=5>\n",
    "            سوال سوم:‌\n",
    "        </font>\n",
    "        با استفاده از متد value_counts تعداد فیلمها در هر ریت محتوا را به دست آورید.\n",
    "        <br/>\n",
    "    </font>\n",
    "</div>"
   ]
  },
  {
   "cell_type": "code",
   "execution_count": 92,
   "outputs": [
    {
     "data": {
      "text/plain": "R            0.471311\nPG-13        0.193648\nPG           0.126025\nNOT RATED    0.066598\nAPPROVED     0.048156\nUNRATED      0.038934\nG            0.032787\nPASSED       0.007172\nNC-17        0.007172\nX            0.004098\nGP           0.003074\nTV-MA        0.001025\nName: content_rating, dtype: float64"
     },
     "execution_count": 92,
     "metadata": {},
     "output_type": "execute_result"
    }
   ],
   "source": [
    "movies[\"content_rating\"].value_counts(normalize=True)"
   ],
   "metadata": {
    "collapsed": false,
    "pycharm": {
     "name": "#%%\n"
    }
   }
  },
  {
   "cell_type": "code",
   "execution_count": 93,
   "outputs": [
    {
     "data": {
      "text/plain": "R            460\nPG-13        189\nPG           123\nNOT RATED     65\nAPPROVED      47\nUNRATED       38\nG             32\nPASSED         7\nNC-17          7\nX              4\nGP             3\nTV-MA          1\nName: content_rating, dtype: int64"
     },
     "execution_count": 93,
     "metadata": {},
     "output_type": "execute_result"
    }
   ],
   "source": [
    "movies[\"content_rating\"].value_counts()"
   ],
   "metadata": {
    "collapsed": false,
    "pycharm": {
     "name": "#%%\n"
    }
   }
  },
  {
   "cell_type": "markdown",
   "id": "ed57dc0a",
   "metadata": {},
   "source": [
    "<div dir = \"rtl\" style=\"direction:rtl;line-height:300%;\">\n",
    "\t<font face=\"XB Zar\" size=4>\n",
    "\t\t<font color=red size=5>\n",
    "            سوال ششم:‌\n",
    "        </font>\n",
    "        با استفاده از متد sample هفتاد و پنج درصد سطرها را در یک متغیر به نام sample_1 بریزید. درنهایت با استفاده از متد drop از دیتافریم اصلی این سطرها را حذف و دیتافریم جدید را در sample_2 بریزید\n",
    "        <br/>\n",
    "    </font>\n",
    "</div>"
   ]
  },
  {
   "cell_type": "code",
   "source": [
    "movies"
   ],
   "metadata": {
    "collapsed": false,
    "pycharm": {
     "name": "#%%\n"
    }
   },
   "execution_count": 96,
   "outputs": [
    {
     "data": {
      "text/plain": "     star_rating                                            title  \\\n0            9.3                         The Shawshank Redemption   \n1            9.2                                    The Godfather   \n2            9.1                           The Godfather: Part II   \n3            9.0                                  The Dark Knight   \n4            8.9                                     Pulp Fiction   \n..           ...                                              ...   \n971          7.4                                          Tootsie   \n972          7.4                      Back to the Future Part III   \n973          7.4  Master and Commander: The Far Side of the World   \n974          7.4                                      Poltergeist   \n975          7.4                                      Wall Street   \n\n    content_rating      genre  duration  \\\n0                R      Crime       142   \n1                R      Crime       175   \n2                R      Crime       200   \n3            PG-13     Action       152   \n4                R      Crime       154   \n..             ...        ...       ...   \n971             PG     Comedy       116   \n972             PG  Adventure       118   \n973          PG-13     Action       138   \n974             PG     Horror       114   \n975              R      Crime       126   \n\n                                           actors_list  greater_than_150_min  \n0    [u'Tim Robbins', u'Morgan Freeman', u'Bob Gunt...                     0  \n1      [u'Marlon Brando', u'Al Pacino', u'James Caan']                     1  \n2    [u'Al Pacino', u'Robert De Niro', u'Robert Duv...                     1  \n3    [u'Christian Bale', u'Heath Ledger', u'Aaron E...                     1  \n4    [u'John Travolta', u'Uma Thurman', u'Samuel L....                     1  \n..                                                 ...                   ...  \n971  [u'Dustin Hoffman', u'Jessica Lange', u'Teri G...                     0  \n972  [u'Michael J. Fox', u'Christopher Lloyd', u'Ma...                     0  \n973  [u'Russell Crowe', u'Paul Bettany', u'Billy Bo...                     0  \n974  [u'JoBeth Williams', u\"Heather O'Rourke\", u'Cr...                     0  \n975  [u'Charlie Sheen', u'Michael Douglas', u'Tamar...                     0  \n\n[976 rows x 7 columns]",
      "text/html": "<div>\n<style scoped>\n    .dataframe tbody tr th:only-of-type {\n        vertical-align: middle;\n    }\n\n    .dataframe tbody tr th {\n        vertical-align: top;\n    }\n\n    .dataframe thead th {\n        text-align: right;\n    }\n</style>\n<table border=\"1\" class=\"dataframe\">\n  <thead>\n    <tr style=\"text-align: right;\">\n      <th></th>\n      <th>star_rating</th>\n      <th>title</th>\n      <th>content_rating</th>\n      <th>genre</th>\n      <th>duration</th>\n      <th>actors_list</th>\n      <th>greater_than_150_min</th>\n    </tr>\n  </thead>\n  <tbody>\n    <tr>\n      <th>0</th>\n      <td>9.3</td>\n      <td>The Shawshank Redemption</td>\n      <td>R</td>\n      <td>Crime</td>\n      <td>142</td>\n      <td>[u'Tim Robbins', u'Morgan Freeman', u'Bob Gunt...</td>\n      <td>0</td>\n    </tr>\n    <tr>\n      <th>1</th>\n      <td>9.2</td>\n      <td>The Godfather</td>\n      <td>R</td>\n      <td>Crime</td>\n      <td>175</td>\n      <td>[u'Marlon Brando', u'Al Pacino', u'James Caan']</td>\n      <td>1</td>\n    </tr>\n    <tr>\n      <th>2</th>\n      <td>9.1</td>\n      <td>The Godfather: Part II</td>\n      <td>R</td>\n      <td>Crime</td>\n      <td>200</td>\n      <td>[u'Al Pacino', u'Robert De Niro', u'Robert Duv...</td>\n      <td>1</td>\n    </tr>\n    <tr>\n      <th>3</th>\n      <td>9.0</td>\n      <td>The Dark Knight</td>\n      <td>PG-13</td>\n      <td>Action</td>\n      <td>152</td>\n      <td>[u'Christian Bale', u'Heath Ledger', u'Aaron E...</td>\n      <td>1</td>\n    </tr>\n    <tr>\n      <th>4</th>\n      <td>8.9</td>\n      <td>Pulp Fiction</td>\n      <td>R</td>\n      <td>Crime</td>\n      <td>154</td>\n      <td>[u'John Travolta', u'Uma Thurman', u'Samuel L....</td>\n      <td>1</td>\n    </tr>\n    <tr>\n      <th>...</th>\n      <td>...</td>\n      <td>...</td>\n      <td>...</td>\n      <td>...</td>\n      <td>...</td>\n      <td>...</td>\n      <td>...</td>\n    </tr>\n    <tr>\n      <th>971</th>\n      <td>7.4</td>\n      <td>Tootsie</td>\n      <td>PG</td>\n      <td>Comedy</td>\n      <td>116</td>\n      <td>[u'Dustin Hoffman', u'Jessica Lange', u'Teri G...</td>\n      <td>0</td>\n    </tr>\n    <tr>\n      <th>972</th>\n      <td>7.4</td>\n      <td>Back to the Future Part III</td>\n      <td>PG</td>\n      <td>Adventure</td>\n      <td>118</td>\n      <td>[u'Michael J. Fox', u'Christopher Lloyd', u'Ma...</td>\n      <td>0</td>\n    </tr>\n    <tr>\n      <th>973</th>\n      <td>7.4</td>\n      <td>Master and Commander: The Far Side of the World</td>\n      <td>PG-13</td>\n      <td>Action</td>\n      <td>138</td>\n      <td>[u'Russell Crowe', u'Paul Bettany', u'Billy Bo...</td>\n      <td>0</td>\n    </tr>\n    <tr>\n      <th>974</th>\n      <td>7.4</td>\n      <td>Poltergeist</td>\n      <td>PG</td>\n      <td>Horror</td>\n      <td>114</td>\n      <td>[u'JoBeth Williams', u\"Heather O'Rourke\", u'Cr...</td>\n      <td>0</td>\n    </tr>\n    <tr>\n      <th>975</th>\n      <td>7.4</td>\n      <td>Wall Street</td>\n      <td>R</td>\n      <td>Crime</td>\n      <td>126</td>\n      <td>[u'Charlie Sheen', u'Michael Douglas', u'Tamar...</td>\n      <td>0</td>\n    </tr>\n  </tbody>\n</table>\n<p>976 rows × 7 columns</p>\n</div>"
     },
     "execution_count": 96,
     "metadata": {},
     "output_type": "execute_result"
    }
   ]
  },
  {
   "cell_type": "code",
   "execution_count": 110,
   "outputs": [],
   "source": [
    "sample_1=movies.sample(frac=3/4)\n",
    "sample_2=movies.drop(index=sample_1.index,axis=0)"
   ],
   "metadata": {
    "collapsed": false,
    "pycharm": {
     "name": "#%%\n"
    }
   }
  },
  {
   "cell_type": "code",
   "execution_count": 112,
   "outputs": [
    {
     "data": {
      "text/plain": "     star_rating                                              title  \\\n1            9.2                                      The Godfather   \n10           8.8  The Lord of the Rings: The Fellowship of the Ring   \n12           8.8     Star Wars: Episode V - The Empire Strikes Back   \n25           8.6                                  Life Is Beautiful   \n39           8.6                                             Psycho   \n..           ...                                                ...   \n956          7.4                               Deconstructing Harry   \n962          7.4                                          Limitless   \n963          7.4                                 The Simpsons Movie   \n965          7.4                                The English Patient   \n967          7.4                                        Wonder Boys   \n\n    content_rating      genre  duration  \\\n1                R      Crime       175   \n10           PG-13  Adventure       178   \n12              PG     Action       124   \n25           PG-13     Comedy       116   \n39               R     Horror       109   \n..             ...        ...       ...   \n956              R     Comedy        96   \n962          PG-13    Mystery       105   \n963          PG-13  Animation        87   \n965              R      Drama       162   \n967              R      Drama       107   \n\n                                           actors_list  greater_than_150_min  \n1      [u'Marlon Brando', u'Al Pacino', u'James Caan']                     1  \n10   [u'Elijah Wood', u'Ian McKellen', u'Orlando Bl...                     1  \n12   [u'Mark Hamill', u'Harrison Ford', u'Carrie Fi...                     0  \n25   [u'Roberto Benigni', u'Nicoletta Braschi', u'G...                     0  \n39   [u'Anthony Perkins', u'Janet Leigh', u'Vera Mi...                     0  \n..                                                 ...                   ...  \n956  [u'Woody Allen', u'Judy Davis', u'Julia Louis-...                     0  \n962  [u'Bradley Cooper', u'Anna Friel', u'Abbie Cor...                     0  \n963  [u'Dan Castellaneta', u'Julie Kavner', u'Nancy...                     0  \n965  [u'Ralph Fiennes', u'Juliette Binoche', u'Will...                     1  \n967  [u'Michael Douglas', u'Tobey Maguire', u'Franc...                     0  \n\n[244 rows x 7 columns]",
      "text/html": "<div>\n<style scoped>\n    .dataframe tbody tr th:only-of-type {\n        vertical-align: middle;\n    }\n\n    .dataframe tbody tr th {\n        vertical-align: top;\n    }\n\n    .dataframe thead th {\n        text-align: right;\n    }\n</style>\n<table border=\"1\" class=\"dataframe\">\n  <thead>\n    <tr style=\"text-align: right;\">\n      <th></th>\n      <th>star_rating</th>\n      <th>title</th>\n      <th>content_rating</th>\n      <th>genre</th>\n      <th>duration</th>\n      <th>actors_list</th>\n      <th>greater_than_150_min</th>\n    </tr>\n  </thead>\n  <tbody>\n    <tr>\n      <th>1</th>\n      <td>9.2</td>\n      <td>The Godfather</td>\n      <td>R</td>\n      <td>Crime</td>\n      <td>175</td>\n      <td>[u'Marlon Brando', u'Al Pacino', u'James Caan']</td>\n      <td>1</td>\n    </tr>\n    <tr>\n      <th>10</th>\n      <td>8.8</td>\n      <td>The Lord of the Rings: The Fellowship of the Ring</td>\n      <td>PG-13</td>\n      <td>Adventure</td>\n      <td>178</td>\n      <td>[u'Elijah Wood', u'Ian McKellen', u'Orlando Bl...</td>\n      <td>1</td>\n    </tr>\n    <tr>\n      <th>12</th>\n      <td>8.8</td>\n      <td>Star Wars: Episode V - The Empire Strikes Back</td>\n      <td>PG</td>\n      <td>Action</td>\n      <td>124</td>\n      <td>[u'Mark Hamill', u'Harrison Ford', u'Carrie Fi...</td>\n      <td>0</td>\n    </tr>\n    <tr>\n      <th>25</th>\n      <td>8.6</td>\n      <td>Life Is Beautiful</td>\n      <td>PG-13</td>\n      <td>Comedy</td>\n      <td>116</td>\n      <td>[u'Roberto Benigni', u'Nicoletta Braschi', u'G...</td>\n      <td>0</td>\n    </tr>\n    <tr>\n      <th>39</th>\n      <td>8.6</td>\n      <td>Psycho</td>\n      <td>R</td>\n      <td>Horror</td>\n      <td>109</td>\n      <td>[u'Anthony Perkins', u'Janet Leigh', u'Vera Mi...</td>\n      <td>0</td>\n    </tr>\n    <tr>\n      <th>...</th>\n      <td>...</td>\n      <td>...</td>\n      <td>...</td>\n      <td>...</td>\n      <td>...</td>\n      <td>...</td>\n      <td>...</td>\n    </tr>\n    <tr>\n      <th>956</th>\n      <td>7.4</td>\n      <td>Deconstructing Harry</td>\n      <td>R</td>\n      <td>Comedy</td>\n      <td>96</td>\n      <td>[u'Woody Allen', u'Judy Davis', u'Julia Louis-...</td>\n      <td>0</td>\n    </tr>\n    <tr>\n      <th>962</th>\n      <td>7.4</td>\n      <td>Limitless</td>\n      <td>PG-13</td>\n      <td>Mystery</td>\n      <td>105</td>\n      <td>[u'Bradley Cooper', u'Anna Friel', u'Abbie Cor...</td>\n      <td>0</td>\n    </tr>\n    <tr>\n      <th>963</th>\n      <td>7.4</td>\n      <td>The Simpsons Movie</td>\n      <td>PG-13</td>\n      <td>Animation</td>\n      <td>87</td>\n      <td>[u'Dan Castellaneta', u'Julie Kavner', u'Nancy...</td>\n      <td>0</td>\n    </tr>\n    <tr>\n      <th>965</th>\n      <td>7.4</td>\n      <td>The English Patient</td>\n      <td>R</td>\n      <td>Drama</td>\n      <td>162</td>\n      <td>[u'Ralph Fiennes', u'Juliette Binoche', u'Will...</td>\n      <td>1</td>\n    </tr>\n    <tr>\n      <th>967</th>\n      <td>7.4</td>\n      <td>Wonder Boys</td>\n      <td>R</td>\n      <td>Drama</td>\n      <td>107</td>\n      <td>[u'Michael Douglas', u'Tobey Maguire', u'Franc...</td>\n      <td>0</td>\n    </tr>\n  </tbody>\n</table>\n<p>244 rows × 7 columns</p>\n</div>"
     },
     "execution_count": 112,
     "metadata": {},
     "output_type": "execute_result"
    }
   ],
   "source": [
    "sample_2"
   ],
   "metadata": {
    "collapsed": false,
    "pycharm": {
     "name": "#%%\n"
    }
   }
  },
  {
   "cell_type": "code",
   "execution_count": 111,
   "outputs": [
    {
     "data": {
      "text/plain": "     star_rating                            title content_rating      genre  \\\n101          8.3  Monty Python and the Holy Grail             PG  Adventure   \n416          7.9          Cowboy Bebop: The Movie              R  Animation   \n961          7.4                          Lincoln          PG-13  Biography   \n619          7.7                          Titanic          PG-13      Drama   \n818          7.6     The Curse of the Were-Rabbit              G  Animation   \n..           ...                              ...            ...        ...   \n731          7.6    The Blind Swordsman: Zatoichi              R     Action   \n808          7.6                        The Hours          PG-13      Drama   \n760          7.6                  Little Children              R      Drama   \n655          7.7                         Coraline             PG  Animation   \n433          7.9                         Iron Man          PG-13     Action   \n\n     duration                                        actors_list  \\\n101        91  [u'Graham Chapman', u'John Cleese', u'Eric Idle']   \n416       115  [u'Beau Billingslea', u'Melissa Fahn', u'Nicho...   \n961       150  [u'Daniel Day-Lewis', u'Sally Field', u'David ...   \n619       194  [u'Leonardo DiCaprio', u'Kate Winslet', u'Bill...   \n818        85  [u'Peter Sallis', u'Helena Bonham Carter', u'R...   \n..        ...                                                ...   \n731       116  [u'Takeshi Kitano', u'Tadanobu Asano', u'Yui N...   \n808       114  [u'Meryl Streep', u'Nicole Kidman', u'Julianne...   \n760       136  [u'Kate Winslet', u'Jennifer Connelly', u'Patr...   \n655       100  [u'Dakota Fanning', u'Teri Hatcher', u'John Ho...   \n433       126  [u'Robert Downey Jr.', u'Gwyneth Paltrow', u'T...   \n\n     greater_than_150_min  \n101                     0  \n416                     0  \n961                     1  \n619                     1  \n818                     0  \n..                    ...  \n731                     0  \n808                     0  \n760                     0  \n655                     0  \n433                     0  \n\n[732 rows x 7 columns]",
      "text/html": "<div>\n<style scoped>\n    .dataframe tbody tr th:only-of-type {\n        vertical-align: middle;\n    }\n\n    .dataframe tbody tr th {\n        vertical-align: top;\n    }\n\n    .dataframe thead th {\n        text-align: right;\n    }\n</style>\n<table border=\"1\" class=\"dataframe\">\n  <thead>\n    <tr style=\"text-align: right;\">\n      <th></th>\n      <th>star_rating</th>\n      <th>title</th>\n      <th>content_rating</th>\n      <th>genre</th>\n      <th>duration</th>\n      <th>actors_list</th>\n      <th>greater_than_150_min</th>\n    </tr>\n  </thead>\n  <tbody>\n    <tr>\n      <th>101</th>\n      <td>8.3</td>\n      <td>Monty Python and the Holy Grail</td>\n      <td>PG</td>\n      <td>Adventure</td>\n      <td>91</td>\n      <td>[u'Graham Chapman', u'John Cleese', u'Eric Idle']</td>\n      <td>0</td>\n    </tr>\n    <tr>\n      <th>416</th>\n      <td>7.9</td>\n      <td>Cowboy Bebop: The Movie</td>\n      <td>R</td>\n      <td>Animation</td>\n      <td>115</td>\n      <td>[u'Beau Billingslea', u'Melissa Fahn', u'Nicho...</td>\n      <td>0</td>\n    </tr>\n    <tr>\n      <th>961</th>\n      <td>7.4</td>\n      <td>Lincoln</td>\n      <td>PG-13</td>\n      <td>Biography</td>\n      <td>150</td>\n      <td>[u'Daniel Day-Lewis', u'Sally Field', u'David ...</td>\n      <td>1</td>\n    </tr>\n    <tr>\n      <th>619</th>\n      <td>7.7</td>\n      <td>Titanic</td>\n      <td>PG-13</td>\n      <td>Drama</td>\n      <td>194</td>\n      <td>[u'Leonardo DiCaprio', u'Kate Winslet', u'Bill...</td>\n      <td>1</td>\n    </tr>\n    <tr>\n      <th>818</th>\n      <td>7.6</td>\n      <td>The Curse of the Were-Rabbit</td>\n      <td>G</td>\n      <td>Animation</td>\n      <td>85</td>\n      <td>[u'Peter Sallis', u'Helena Bonham Carter', u'R...</td>\n      <td>0</td>\n    </tr>\n    <tr>\n      <th>...</th>\n      <td>...</td>\n      <td>...</td>\n      <td>...</td>\n      <td>...</td>\n      <td>...</td>\n      <td>...</td>\n      <td>...</td>\n    </tr>\n    <tr>\n      <th>731</th>\n      <td>7.6</td>\n      <td>The Blind Swordsman: Zatoichi</td>\n      <td>R</td>\n      <td>Action</td>\n      <td>116</td>\n      <td>[u'Takeshi Kitano', u'Tadanobu Asano', u'Yui N...</td>\n      <td>0</td>\n    </tr>\n    <tr>\n      <th>808</th>\n      <td>7.6</td>\n      <td>The Hours</td>\n      <td>PG-13</td>\n      <td>Drama</td>\n      <td>114</td>\n      <td>[u'Meryl Streep', u'Nicole Kidman', u'Julianne...</td>\n      <td>0</td>\n    </tr>\n    <tr>\n      <th>760</th>\n      <td>7.6</td>\n      <td>Little Children</td>\n      <td>R</td>\n      <td>Drama</td>\n      <td>136</td>\n      <td>[u'Kate Winslet', u'Jennifer Connelly', u'Patr...</td>\n      <td>0</td>\n    </tr>\n    <tr>\n      <th>655</th>\n      <td>7.7</td>\n      <td>Coraline</td>\n      <td>PG</td>\n      <td>Animation</td>\n      <td>100</td>\n      <td>[u'Dakota Fanning', u'Teri Hatcher', u'John Ho...</td>\n      <td>0</td>\n    </tr>\n    <tr>\n      <th>433</th>\n      <td>7.9</td>\n      <td>Iron Man</td>\n      <td>PG-13</td>\n      <td>Action</td>\n      <td>126</td>\n      <td>[u'Robert Downey Jr.', u'Gwyneth Paltrow', u'T...</td>\n      <td>0</td>\n    </tr>\n  </tbody>\n</table>\n<p>732 rows × 7 columns</p>\n</div>"
     },
     "execution_count": 111,
     "metadata": {},
     "output_type": "execute_result"
    }
   ],
   "source": [
    "sample_1"
   ],
   "metadata": {
    "collapsed": false,
    "pycharm": {
     "name": "#%%\n"
    }
   }
  },
  {
   "cell_type": "markdown",
   "id": "a4e3c568",
   "metadata": {},
   "source": [
    "<div dir = \"rtl\" style=\"direction:rtl;line-height:300%;\">\n",
    "\t<font face=\"XB Zar\" size=4>\n",
    "\t\t<font color=red size=5>\n",
    "            سوال هفتم:‌\n",
    "        </font>\n",
    "         متد pivot_table چه عملکردی دارد؟\n",
    "        <br/>\n",
    "    </font>\n",
    "</div>"
   ]
  },
  {
   "cell_type": "code",
   "execution_count": 151,
   "id": "0113f7ef",
   "metadata": {},
   "outputs": [
    {
     "data": {
      "text/plain": "                   actors_list                                             \\\nstar_rating                7.4 7.5  7.6 7.7  7.8  7.9  8.0  8.1  8.2  8.3   \nduration genre                                                              \n64       Drama             NaN NaN  NaN NaN  NaN  NaN  1.0  NaN  NaN  NaN   \n66       History           NaN NaN  NaN NaN  NaN  NaN  1.0  NaN  NaN  NaN   \n67       Crime             NaN NaN  NaN NaN  NaN  NaN  NaN  1.0  NaN  NaN   \n68       Comedy            NaN NaN  NaN NaN  NaN  NaN  NaN  1.0  NaN  NaN   \n69       Mystery           NaN NaN  1.0 NaN  NaN  NaN  NaN  NaN  NaN  NaN   \n...                        ...  ..  ...  ..  ...  ...  ...  ...  ...  ...   \n220      Adventure         NaN NaN  NaN NaN  NaN  1.0  NaN  NaN  NaN  NaN   \n224      Adventure         NaN NaN  NaN NaN  NaN  NaN  NaN  NaN  NaN  1.0   \n229      Crime             NaN NaN  NaN NaN  NaN  NaN  NaN  NaN  NaN  NaN   \n238      Drama             NaN NaN  NaN NaN  NaN  NaN  NaN  NaN  1.0  NaN   \n242      Drama             NaN NaN  NaN NaN  1.0  NaN  NaN  NaN  NaN  NaN   \n\n                    ... title                                      \nstar_rating         ...   8.4 8.5 8.6 8.7 8.8 8.9 9.0 9.1 9.2 9.3  \nduration genre      ...                                            \n64       Drama      ...   NaN NaN NaN NaN NaN NaN NaN NaN NaN NaN  \n66       History    ...   NaN NaN NaN NaN NaN NaN NaN NaN NaN NaN  \n67       Crime      ...   NaN NaN NaN NaN NaN NaN NaN NaN NaN NaN  \n68       Comedy     ...   1.0 NaN NaN NaN NaN NaN NaN NaN NaN NaN  \n69       Mystery    ...   NaN NaN NaN NaN NaN NaN NaN NaN NaN NaN  \n...                 ...   ...  ..  ..  ..  ..  ..  ..  ..  ..  ..  \n220      Adventure  ...   NaN NaN NaN NaN NaN NaN NaN NaN NaN NaN  \n224      Adventure  ...   NaN NaN NaN NaN NaN NaN NaN NaN NaN NaN  \n229      Crime      ...   1.0 NaN NaN NaN NaN NaN NaN NaN NaN NaN  \n238      Drama      ...   NaN NaN NaN NaN NaN NaN NaN NaN NaN NaN  \n242      Drama      ...   NaN NaN NaN NaN NaN NaN NaN NaN NaN NaN  \n\n[492 rows x 80 columns]",
      "text/html": "<div>\n<style scoped>\n    .dataframe tbody tr th:only-of-type {\n        vertical-align: middle;\n    }\n\n    .dataframe tbody tr th {\n        vertical-align: top;\n    }\n\n    .dataframe thead tr th {\n        text-align: left;\n    }\n\n    .dataframe thead tr:last-of-type th {\n        text-align: right;\n    }\n</style>\n<table border=\"1\" class=\"dataframe\">\n  <thead>\n    <tr>\n      <th></th>\n      <th></th>\n      <th colspan=\"10\" halign=\"left\">actors_list</th>\n      <th>...</th>\n      <th colspan=\"10\" halign=\"left\">title</th>\n    </tr>\n    <tr>\n      <th></th>\n      <th>star_rating</th>\n      <th>7.4</th>\n      <th>7.5</th>\n      <th>7.6</th>\n      <th>7.7</th>\n      <th>7.8</th>\n      <th>7.9</th>\n      <th>8.0</th>\n      <th>8.1</th>\n      <th>8.2</th>\n      <th>8.3</th>\n      <th>...</th>\n      <th>8.4</th>\n      <th>8.5</th>\n      <th>8.6</th>\n      <th>8.7</th>\n      <th>8.8</th>\n      <th>8.9</th>\n      <th>9.0</th>\n      <th>9.1</th>\n      <th>9.2</th>\n      <th>9.3</th>\n    </tr>\n    <tr>\n      <th>duration</th>\n      <th>genre</th>\n      <th></th>\n      <th></th>\n      <th></th>\n      <th></th>\n      <th></th>\n      <th></th>\n      <th></th>\n      <th></th>\n      <th></th>\n      <th></th>\n      <th></th>\n      <th></th>\n      <th></th>\n      <th></th>\n      <th></th>\n      <th></th>\n      <th></th>\n      <th></th>\n      <th></th>\n      <th></th>\n      <th></th>\n    </tr>\n  </thead>\n  <tbody>\n    <tr>\n      <th>64</th>\n      <th>Drama</th>\n      <td>NaN</td>\n      <td>NaN</td>\n      <td>NaN</td>\n      <td>NaN</td>\n      <td>NaN</td>\n      <td>NaN</td>\n      <td>1.0</td>\n      <td>NaN</td>\n      <td>NaN</td>\n      <td>NaN</td>\n      <td>...</td>\n      <td>NaN</td>\n      <td>NaN</td>\n      <td>NaN</td>\n      <td>NaN</td>\n      <td>NaN</td>\n      <td>NaN</td>\n      <td>NaN</td>\n      <td>NaN</td>\n      <td>NaN</td>\n      <td>NaN</td>\n    </tr>\n    <tr>\n      <th>66</th>\n      <th>History</th>\n      <td>NaN</td>\n      <td>NaN</td>\n      <td>NaN</td>\n      <td>NaN</td>\n      <td>NaN</td>\n      <td>NaN</td>\n      <td>1.0</td>\n      <td>NaN</td>\n      <td>NaN</td>\n      <td>NaN</td>\n      <td>...</td>\n      <td>NaN</td>\n      <td>NaN</td>\n      <td>NaN</td>\n      <td>NaN</td>\n      <td>NaN</td>\n      <td>NaN</td>\n      <td>NaN</td>\n      <td>NaN</td>\n      <td>NaN</td>\n      <td>NaN</td>\n    </tr>\n    <tr>\n      <th>67</th>\n      <th>Crime</th>\n      <td>NaN</td>\n      <td>NaN</td>\n      <td>NaN</td>\n      <td>NaN</td>\n      <td>NaN</td>\n      <td>NaN</td>\n      <td>NaN</td>\n      <td>1.0</td>\n      <td>NaN</td>\n      <td>NaN</td>\n      <td>...</td>\n      <td>NaN</td>\n      <td>NaN</td>\n      <td>NaN</td>\n      <td>NaN</td>\n      <td>NaN</td>\n      <td>NaN</td>\n      <td>NaN</td>\n      <td>NaN</td>\n      <td>NaN</td>\n      <td>NaN</td>\n    </tr>\n    <tr>\n      <th>68</th>\n      <th>Comedy</th>\n      <td>NaN</td>\n      <td>NaN</td>\n      <td>NaN</td>\n      <td>NaN</td>\n      <td>NaN</td>\n      <td>NaN</td>\n      <td>NaN</td>\n      <td>1.0</td>\n      <td>NaN</td>\n      <td>NaN</td>\n      <td>...</td>\n      <td>1.0</td>\n      <td>NaN</td>\n      <td>NaN</td>\n      <td>NaN</td>\n      <td>NaN</td>\n      <td>NaN</td>\n      <td>NaN</td>\n      <td>NaN</td>\n      <td>NaN</td>\n      <td>NaN</td>\n    </tr>\n    <tr>\n      <th>69</th>\n      <th>Mystery</th>\n      <td>NaN</td>\n      <td>NaN</td>\n      <td>1.0</td>\n      <td>NaN</td>\n      <td>NaN</td>\n      <td>NaN</td>\n      <td>NaN</td>\n      <td>NaN</td>\n      <td>NaN</td>\n      <td>NaN</td>\n      <td>...</td>\n      <td>NaN</td>\n      <td>NaN</td>\n      <td>NaN</td>\n      <td>NaN</td>\n      <td>NaN</td>\n      <td>NaN</td>\n      <td>NaN</td>\n      <td>NaN</td>\n      <td>NaN</td>\n      <td>NaN</td>\n    </tr>\n    <tr>\n      <th>...</th>\n      <th>...</th>\n      <td>...</td>\n      <td>...</td>\n      <td>...</td>\n      <td>...</td>\n      <td>...</td>\n      <td>...</td>\n      <td>...</td>\n      <td>...</td>\n      <td>...</td>\n      <td>...</td>\n      <td>...</td>\n      <td>...</td>\n      <td>...</td>\n      <td>...</td>\n      <td>...</td>\n      <td>...</td>\n      <td>...</td>\n      <td>...</td>\n      <td>...</td>\n      <td>...</td>\n      <td>...</td>\n    </tr>\n    <tr>\n      <th>220</th>\n      <th>Adventure</th>\n      <td>NaN</td>\n      <td>NaN</td>\n      <td>NaN</td>\n      <td>NaN</td>\n      <td>NaN</td>\n      <td>1.0</td>\n      <td>NaN</td>\n      <td>NaN</td>\n      <td>NaN</td>\n      <td>NaN</td>\n      <td>...</td>\n      <td>NaN</td>\n      <td>NaN</td>\n      <td>NaN</td>\n      <td>NaN</td>\n      <td>NaN</td>\n      <td>NaN</td>\n      <td>NaN</td>\n      <td>NaN</td>\n      <td>NaN</td>\n      <td>NaN</td>\n    </tr>\n    <tr>\n      <th>224</th>\n      <th>Adventure</th>\n      <td>NaN</td>\n      <td>NaN</td>\n      <td>NaN</td>\n      <td>NaN</td>\n      <td>NaN</td>\n      <td>NaN</td>\n      <td>NaN</td>\n      <td>NaN</td>\n      <td>NaN</td>\n      <td>1.0</td>\n      <td>...</td>\n      <td>NaN</td>\n      <td>NaN</td>\n      <td>NaN</td>\n      <td>NaN</td>\n      <td>NaN</td>\n      <td>NaN</td>\n      <td>NaN</td>\n      <td>NaN</td>\n      <td>NaN</td>\n      <td>NaN</td>\n    </tr>\n    <tr>\n      <th>229</th>\n      <th>Crime</th>\n      <td>NaN</td>\n      <td>NaN</td>\n      <td>NaN</td>\n      <td>NaN</td>\n      <td>NaN</td>\n      <td>NaN</td>\n      <td>NaN</td>\n      <td>NaN</td>\n      <td>NaN</td>\n      <td>NaN</td>\n      <td>...</td>\n      <td>1.0</td>\n      <td>NaN</td>\n      <td>NaN</td>\n      <td>NaN</td>\n      <td>NaN</td>\n      <td>NaN</td>\n      <td>NaN</td>\n      <td>NaN</td>\n      <td>NaN</td>\n      <td>NaN</td>\n    </tr>\n    <tr>\n      <th>238</th>\n      <th>Drama</th>\n      <td>NaN</td>\n      <td>NaN</td>\n      <td>NaN</td>\n      <td>NaN</td>\n      <td>NaN</td>\n      <td>NaN</td>\n      <td>NaN</td>\n      <td>NaN</td>\n      <td>1.0</td>\n      <td>NaN</td>\n      <td>...</td>\n      <td>NaN</td>\n      <td>NaN</td>\n      <td>NaN</td>\n      <td>NaN</td>\n      <td>NaN</td>\n      <td>NaN</td>\n      <td>NaN</td>\n      <td>NaN</td>\n      <td>NaN</td>\n      <td>NaN</td>\n    </tr>\n    <tr>\n      <th>242</th>\n      <th>Drama</th>\n      <td>NaN</td>\n      <td>NaN</td>\n      <td>NaN</td>\n      <td>NaN</td>\n      <td>1.0</td>\n      <td>NaN</td>\n      <td>NaN</td>\n      <td>NaN</td>\n      <td>NaN</td>\n      <td>NaN</td>\n      <td>...</td>\n      <td>NaN</td>\n      <td>NaN</td>\n      <td>NaN</td>\n      <td>NaN</td>\n      <td>NaN</td>\n      <td>NaN</td>\n      <td>NaN</td>\n      <td>NaN</td>\n      <td>NaN</td>\n      <td>NaN</td>\n    </tr>\n  </tbody>\n</table>\n<p>492 rows × 80 columns</p>\n</div>"
     },
     "execution_count": 151,
     "metadata": {},
     "output_type": "execute_result"
    }
   ],
   "source": [
    "movies.pivot_table(index=[\"duration\",\"genre\"],columns=[\"star_rating\"],aggfunc=\"count\")"
   ]
  }
 ],
 "metadata": {
  "kernelspec": {
   "display_name": "Python 3 (ipykernel)",
   "language": "python",
   "name": "python3"
  },
  "language_info": {
   "codemirror_mode": {
    "name": "ipython",
    "version": 3
   },
   "file_extension": ".py",
   "mimetype": "text/x-python",
   "name": "python",
   "nbconvert_exporter": "python",
   "pygments_lexer": "ipython3",
   "version": "3.10.7"
  }
 },
 "nbformat": 4,
 "nbformat_minor": 5
}