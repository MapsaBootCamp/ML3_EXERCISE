{
 "cells": [
  {
   "cell_type": "markdown",
   "id": "40697c1c-cc86-4f20-9d5d-1e6c2979bc13",
   "metadata": {},
   "source": [
    "<br><p style=\"margin-left: 25%; font-size:20px;\">Machine Learning Camp: HomeWork 5</p><br>"
   ]
  },
  {
   "cell_type": "markdown",
   "id": "42e988e2-b110-4fe2-bb40-212815474940",
   "metadata": {
    "tags": []
   },
   "source": [
    "##\n",
    "<span style=\"font-wight:bold;font-size:20px\">1. Text Data analysis:</span> using “lincoln-last-speech.txt” which contains Lincoln’s last public address. Now answer the following questions and include your codes."
   ]
  },
  {
   "cell_type": "markdown",
   "id": "282ec989-2848-4256-b6dc-a62e95125d6b",
   "metadata": {},
   "source": [
    "##### a) Read the text and store the text in lAddress. Show the first 70 characters from the first element of the text."
   ]
  },
  {
   "cell_type": "code",
   "execution_count": 1,
   "id": "c76966b8-294e-4f78-8d0e-4be7b1523de1",
   "metadata": {},
   "outputs": [
    {
     "name": "stdout",
     "output_type": "stream",
     "text": [
      "['i', 'me', 'my', 'myself', 'we', 'our', 'ours', 'ourselves', 'you', \"you're\", \"you've\", \"you'll\", \"you'd\", 'your', 'yours', 'yourself', 'yourselves', 'he', 'him', 'his', 'himself', 'she', \"she's\", 'her', 'hers', 'herself', 'it', \"it's\", 'its', 'itself', 'they', 'them', 'their', 'theirs', 'themselves', 'what', 'which', 'who', 'whom', 'this', 'that', \"that'll\", 'these', 'those', 'am', 'is', 'are', 'was', 'were', 'be', 'been', 'being', 'have', 'has', 'had', 'having', 'do', 'does', 'did', 'doing', 'a', 'an', 'the', 'and', 'but', 'if', 'or', 'because', 'as', 'until', 'while', 'of', 'at', 'by', 'for', 'with', 'about', 'against', 'between', 'into', 'through', 'during', 'before', 'after', 'above', 'below', 'to', 'from', 'up', 'down', 'in', 'out', 'on', 'off', 'over', 'under', 'again', 'further', 'then', 'once', 'here', 'there', 'when', 'where', 'why', 'how', 'all', 'any', 'both', 'each', 'few', 'more', 'most', 'other', 'some', 'such', 'no', 'nor', 'not', 'only', 'own', 'same', 'so', 'than', 'too', 'very', 's', 't', 'can', 'will', 'just', 'don', \"don't\", 'should', \"should've\", 'now', 'd', 'll', 'm', 'o', 're', 've', 'y', 'ain', 'aren', \"aren't\", 'couldn', \"couldn't\", 'didn', \"didn't\", 'doesn', \"doesn't\", 'hadn', \"hadn't\", 'hasn', \"hasn't\", 'haven', \"haven't\", 'isn', \"isn't\", 'ma', 'mightn', \"mightn't\", 'mustn', \"mustn't\", 'needn', \"needn't\", 'shan', \"shan't\", 'shouldn', \"shouldn't\", 'wasn', \"wasn't\", 'weren', \"weren't\", 'won', \"won't\", 'wouldn', \"wouldn't\"]\n"
     ]
    }
   ],
   "source": [
    "import nltk\n",
    "from nltk.tokenize import word_tokenize\n",
    "from nltk.corpus import stopwords\n",
    "# nltk.download('stopwords')\n",
    "print(stopwords.words('english'))"
   ]
  },
  {
   "cell_type": "code",
   "execution_count": null,
   "id": "002f9d6b-f063-4d9b-8da5-b3b88730f8c7",
   "metadata": {},
   "outputs": [],
   "source": [
    "print(stopwords.words('english'))"
   ]
  },
  {
   "cell_type": "code",
   "execution_count": 24,
   "id": "c310d038-bd82-4527-ac14-2421b03f47e6",
   "metadata": {},
   "outputs": [],
   "source": [
    "lAddress =open('lincoln-last-speech.txt', 'r')\n",
    "str1=lAddress.read()\n"
   ]
  },
  {
   "cell_type": "code",
   "execution_count": 22,
   "id": "703bf197-b65e-45f9-b365-a5ee7227211a",
   "metadata": {},
   "outputs": [
    {
     "data": {
      "text/plain": [
       "'We meet this evening, not in sorrow, but in gladness of heart. The eva'"
      ]
     },
     "execution_count": 22,
     "metadata": {},
     "output_type": "execute_result"
    }
   ],
   "source": [
    "lAddress =open('lincoln-last-speech.txt', 'r')\n",
    "lAddress.read(70)\n"
   ]
  },
  {
   "cell_type": "markdown",
   "id": "b25c28dc-6d9d-4bcd-b864-e90754485c7e",
   "metadata": {},
   "source": [
    "##### b) Now we are interested in the words used in his speech. Extract all the words from lAddress, convert all of them to lower case and store the result in vWord. Display first few words."
   ]
  },
  {
   "cell_type": "code",
   "execution_count": 35,
   "id": "870b68f2-eeeb-4a98-817c-aca8beb28694",
   "metadata": {},
   "outputs": [
    {
     "data": {
      "text/plain": [
       "['We', 'meet', 'this', 'evening', ',']"
      ]
     },
     "execution_count": 35,
     "metadata": {},
     "output_type": "execute_result"
    }
   ],
   "source": [
    "\n",
    "word_tokens = word_tokenize(str1)\n",
    "\n",
    "word_tokens[0:5]"
   ]
  },
  {
   "cell_type": "markdown",
   "id": "ab02ba13-aecb-4c15-9f4b-a63e5ffadfd4",
   "metadata": {},
   "source": [
    "##### c) The words like am, is, my or through are not much of our interest and these types of words are called stop-words. Get all the English stop words and store them in sWord. Display few stop words in your report."
   ]
  },
  {
   "cell_type": "code",
   "execution_count": 65,
   "id": "d15a85b4-926b-4ecb-8b46-23b766865704",
   "metadata": {},
   "outputs": [],
   "source": [
    "sWord = [ \"''\",\"``\" , '--', '?',';','.',',','i', 'me', 'my', 'myself', 'we', 'our', 'ours', 'ourselves', 'you', \"you're\", \"you've\", \"you'll\", \"you'd\", 'your', 'yours', 'yourself', 'yourselves', 'he', 'him', 'his', 'himself', 'she', \"she's\", 'her', 'hers', 'herself', 'it', \"it's\", 'its', 'itself', 'they', 'them', 'their', 'theirs', 'themselves', 'what', 'which', 'who', 'whom', 'this', 'that', \"that'll\", 'these', 'those', 'am', 'is', 'are', 'was', 'were', 'be', 'been', 'being', 'have', 'has', 'had', 'having', 'do', 'does', 'did', 'doing', 'a', 'an', 'the', 'and', 'but', 'if', 'or', 'because', 'as', 'until', 'while', 'of', 'at', 'by', 'for', 'with', 'about', 'against', 'between', 'into', 'through', 'during', 'before', 'after', 'above', 'below', 'to', 'from', 'up', 'down', 'in', 'out', 'on', 'off', 'over', 'under', 'again', 'further', 'then', 'once', 'here', 'there', 'when', 'where', 'why', 'how', 'all', 'any', 'both', 'each', 'few', 'more', 'most', 'other', 'some', 'such', 'no', 'nor', 'not', 'only', 'own', 'same', 'so', 'than', 'too', 'very', 's', 't', 'can', 'will', 'just', 'don', \"don't\", 'should', \"should've\", 'now', 'd', 'll', 'm', 'o', 're', 've', 'y', 'ain', 'aren', \"aren't\", 'couldn', \"couldn't\", 'didn', \"didn't\", 'doesn', \"doesn't\", 'hadn', \"hadn't\", 'hasn', \"hasn't\", 'haven', \"haven't\", 'isn', \"isn't\", 'ma', 'mightn', \"mightn't\", 'mustn', \"mustn't\", 'needn', \"needn't\", 'shan', \"shan't\", 'shouldn', \"shouldn't\", 'wasn', \"wasn't\", 'weren', \"weren't\", 'won', \"won't\", 'wouldn', \"wouldn't\"]"
   ]
  },
  {
   "cell_type": "markdown",
   "id": "00ab6e7e-d0cc-4ea3-bd77-e0a53b7d1fdf",
   "metadata": {},
   "source": [
    "##### d) Remove all the sWord from vWord and store the result in cleanWord. Display first few clean words."
   ]
  },
  {
   "cell_type": "code",
   "execution_count": 66,
   "id": "254af2d1-9fbf-4604-93f5-d0165054d07e",
   "metadata": {},
   "outputs": [
    {
     "data": {
      "text/plain": [
       "['meet', 'evening', 'sorrow', 'gladness', 'heart']"
      ]
     },
     "execution_count": 66,
     "metadata": {},
     "output_type": "execute_result"
    }
   ],
   "source": [
    "cleanWord = [w for w in word_tokens if not w.lower() in sWord]\n",
    "cleanWord[0:5]"
   ]
  },
  {
   "cell_type": "markdown",
   "id": "3e6eb98b-5a5b-499d-9802-f266e39e2701",
   "metadata": {},
   "source": [
    "##### f) Construct a bar chart showing the count of each words for the 15 most frequently used words."
   ]
  },
  {
   "cell_type": "code",
   "execution_count": 75,
   "id": "4256b7dd-9680-4852-be6c-f1b4aa51cfb8",
   "metadata": {},
   "outputs": [
    {
     "ename": "KeyError",
     "evalue": "'0'",
     "output_type": "error",
     "traceback": [
      "\u001b[0;31m---------------------------------------------------------------------------\u001b[0m",
      "\u001b[0;31mKeyError\u001b[0m                                  Traceback (most recent call last)",
      "File \u001b[0;32m/opt/conda/lib/python3.10/site-packages/pandas/core/indexes/base.py:3803\u001b[0m, in \u001b[0;36mIndex.get_loc\u001b[0;34m(self, key, method, tolerance)\u001b[0m\n\u001b[1;32m   3802\u001b[0m \u001b[38;5;28;01mtry\u001b[39;00m:\n\u001b[0;32m-> 3803\u001b[0m     \u001b[38;5;28;01mreturn\u001b[39;00m \u001b[38;5;28;43mself\u001b[39;49m\u001b[38;5;241;43m.\u001b[39;49m\u001b[43m_engine\u001b[49m\u001b[38;5;241;43m.\u001b[39;49m\u001b[43mget_loc\u001b[49m\u001b[43m(\u001b[49m\u001b[43mcasted_key\u001b[49m\u001b[43m)\u001b[49m\n\u001b[1;32m   3804\u001b[0m \u001b[38;5;28;01mexcept\u001b[39;00m \u001b[38;5;167;01mKeyError\u001b[39;00m \u001b[38;5;28;01mas\u001b[39;00m err:\n",
      "File \u001b[0;32m/opt/conda/lib/python3.10/site-packages/pandas/_libs/index.pyx:138\u001b[0m, in \u001b[0;36mpandas._libs.index.IndexEngine.get_loc\u001b[0;34m()\u001b[0m\n",
      "File \u001b[0;32m/opt/conda/lib/python3.10/site-packages/pandas/_libs/index.pyx:165\u001b[0m, in \u001b[0;36mpandas._libs.index.IndexEngine.get_loc\u001b[0;34m()\u001b[0m\n",
      "File \u001b[0;32mpandas/_libs/hashtable_class_helper.pxi:5745\u001b[0m, in \u001b[0;36mpandas._libs.hashtable.PyObjectHashTable.get_item\u001b[0;34m()\u001b[0m\n",
      "File \u001b[0;32mpandas/_libs/hashtable_class_helper.pxi:5753\u001b[0m, in \u001b[0;36mpandas._libs.hashtable.PyObjectHashTable.get_item\u001b[0;34m()\u001b[0m\n",
      "\u001b[0;31mKeyError\u001b[0m: '0'",
      "\nThe above exception was the direct cause of the following exception:\n",
      "\u001b[0;31mKeyError\u001b[0m                                  Traceback (most recent call last)",
      "Cell \u001b[0;32mIn [75], line 4\u001b[0m\n\u001b[1;32m      2\u001b[0m dfword\u001b[38;5;241m=\u001b[39mpd\u001b[38;5;241m.\u001b[39mDataFrame(cleanWord)\n\u001b[1;32m      3\u001b[0m dfg\u001b[38;5;241m=\u001b[39mdfword\u001b[38;5;241m.\u001b[39mgroupby(by\u001b[38;5;241m=\u001b[39m\u001b[38;5;241m0\u001b[39m, as_index\u001b[38;5;241m=\u001b[39m\u001b[38;5;28;01mFalse\u001b[39;00m)\u001b[38;5;241m.\u001b[39msize()\n\u001b[0;32m----> 4\u001b[0m \u001b[43mdfg\u001b[49m\u001b[38;5;241;43m.\u001b[39;49m\u001b[43mnlargest\u001b[49m\u001b[43m(\u001b[49m\u001b[43mcolumns\u001b[49m\u001b[38;5;241;43m=\u001b[39;49m\u001b[43m \u001b[49m\u001b[38;5;124;43m'\u001b[39;49m\u001b[38;5;124;43m0\u001b[39;49m\u001b[38;5;124;43m'\u001b[39;49m\u001b[43m,\u001b[49m\u001b[43mn\u001b[49m\u001b[38;5;241;43m=\u001b[39;49m\u001b[38;5;241;43m15\u001b[39;49m\u001b[43m)\u001b[49m\n\u001b[1;32m      5\u001b[0m \u001b[38;5;66;03m# fig = plt.subplots(figsize = (20,5))\u001b[39;00m\n\u001b[1;32m      6\u001b[0m \u001b[38;5;66;03m# sns.barplot(x=dfg[\"week\"], y=dfg[\"size\"],width=0.7, palette = \"Blues\")\u001b[39;00m\n\u001b[1;32m      7\u001b[0m \u001b[38;5;66;03m# plt.show()\u001b[39;00m\n\u001b[1;32m      8\u001b[0m dfg\n",
      "File \u001b[0;32m/opt/conda/lib/python3.10/site-packages/pandas/core/frame.py:7327\u001b[0m, in \u001b[0;36mDataFrame.nlargest\u001b[0;34m(self, n, columns, keep)\u001b[0m\n\u001b[1;32m   7222\u001b[0m \u001b[38;5;28;01mdef\u001b[39;00m \u001b[38;5;21mnlargest\u001b[39m(\u001b[38;5;28mself\u001b[39m, n: \u001b[38;5;28mint\u001b[39m, columns: IndexLabel, keep: \u001b[38;5;28mstr\u001b[39m \u001b[38;5;241m=\u001b[39m \u001b[38;5;124m\"\u001b[39m\u001b[38;5;124mfirst\u001b[39m\u001b[38;5;124m\"\u001b[39m) \u001b[38;5;241m-\u001b[39m\u001b[38;5;241m>\u001b[39m DataFrame:\n\u001b[1;32m   7223\u001b[0m     \u001b[38;5;124;03m\"\"\"\u001b[39;00m\n\u001b[1;32m   7224\u001b[0m \u001b[38;5;124;03m    Return the first `n` rows ordered by `columns` in descending order.\u001b[39;00m\n\u001b[1;32m   7225\u001b[0m \n\u001b[0;32m   (...)\u001b[0m\n\u001b[1;32m   7325\u001b[0m \u001b[38;5;124;03m    Brunei      434000    12128      BN\u001b[39;00m\n\u001b[1;32m   7326\u001b[0m \u001b[38;5;124;03m    \"\"\"\u001b[39;00m\n\u001b[0;32m-> 7327\u001b[0m     \u001b[38;5;28;01mreturn\u001b[39;00m \u001b[43malgorithms\u001b[49m\u001b[38;5;241;43m.\u001b[39;49m\u001b[43mSelectNFrame\u001b[49m\u001b[43m(\u001b[49m\u001b[38;5;28;43mself\u001b[39;49m\u001b[43m,\u001b[49m\u001b[43m \u001b[49m\u001b[43mn\u001b[49m\u001b[38;5;241;43m=\u001b[39;49m\u001b[43mn\u001b[49m\u001b[43m,\u001b[49m\u001b[43m \u001b[49m\u001b[43mkeep\u001b[49m\u001b[38;5;241;43m=\u001b[39;49m\u001b[43mkeep\u001b[49m\u001b[43m,\u001b[49m\u001b[43m \u001b[49m\u001b[43mcolumns\u001b[49m\u001b[38;5;241;43m=\u001b[39;49m\u001b[43mcolumns\u001b[49m\u001b[43m)\u001b[49m\u001b[38;5;241;43m.\u001b[39;49m\u001b[43mnlargest\u001b[49m\u001b[43m(\u001b[49m\u001b[43m)\u001b[49m\n",
      "File \u001b[0;32m/opt/conda/lib/python3.10/site-packages/pandas/core/algorithms.py:1273\u001b[0m, in \u001b[0;36mSelectN.nlargest\u001b[0;34m(self)\u001b[0m\n\u001b[1;32m   1271\u001b[0m \u001b[38;5;129m@final\u001b[39m\n\u001b[1;32m   1272\u001b[0m \u001b[38;5;28;01mdef\u001b[39;00m \u001b[38;5;21mnlargest\u001b[39m(\u001b[38;5;28mself\u001b[39m):\n\u001b[0;32m-> 1273\u001b[0m     \u001b[38;5;28;01mreturn\u001b[39;00m \u001b[38;5;28;43mself\u001b[39;49m\u001b[38;5;241;43m.\u001b[39;49m\u001b[43mcompute\u001b[49m\u001b[43m(\u001b[49m\u001b[38;5;124;43m\"\u001b[39;49m\u001b[38;5;124;43mnlargest\u001b[39;49m\u001b[38;5;124;43m\"\u001b[39;49m\u001b[43m)\u001b[49m\n",
      "File \u001b[0;32m/opt/conda/lib/python3.10/site-packages/pandas/core/algorithms.py:1402\u001b[0m, in \u001b[0;36mSelectNFrame.compute\u001b[0;34m(self, method)\u001b[0m\n\u001b[1;32m   1399\u001b[0m columns \u001b[38;5;241m=\u001b[39m \u001b[38;5;28mself\u001b[39m\u001b[38;5;241m.\u001b[39mcolumns\n\u001b[1;32m   1401\u001b[0m \u001b[38;5;28;01mfor\u001b[39;00m column \u001b[38;5;129;01min\u001b[39;00m columns:\n\u001b[0;32m-> 1402\u001b[0m     dtype \u001b[38;5;241m=\u001b[39m \u001b[43mframe\u001b[49m\u001b[43m[\u001b[49m\u001b[43mcolumn\u001b[49m\u001b[43m]\u001b[49m\u001b[38;5;241m.\u001b[39mdtype\n\u001b[1;32m   1403\u001b[0m     \u001b[38;5;28;01mif\u001b[39;00m \u001b[38;5;129;01mnot\u001b[39;00m \u001b[38;5;28mself\u001b[39m\u001b[38;5;241m.\u001b[39mis_valid_dtype_n_method(dtype):\n\u001b[1;32m   1404\u001b[0m         \u001b[38;5;28;01mraise\u001b[39;00m \u001b[38;5;167;01mTypeError\u001b[39;00m(\n\u001b[1;32m   1405\u001b[0m             \u001b[38;5;124mf\u001b[39m\u001b[38;5;124m\"\u001b[39m\u001b[38;5;124mColumn \u001b[39m\u001b[38;5;132;01m{\u001b[39;00m\u001b[38;5;28mrepr\u001b[39m(column)\u001b[38;5;132;01m}\u001b[39;00m\u001b[38;5;124m has dtype \u001b[39m\u001b[38;5;132;01m{\u001b[39;00mdtype\u001b[38;5;132;01m}\u001b[39;00m\u001b[38;5;124m, \u001b[39m\u001b[38;5;124m\"\u001b[39m\n\u001b[1;32m   1406\u001b[0m             \u001b[38;5;124mf\u001b[39m\u001b[38;5;124m\"\u001b[39m\u001b[38;5;124mcannot use method \u001b[39m\u001b[38;5;132;01m{\u001b[39;00m\u001b[38;5;28mrepr\u001b[39m(method)\u001b[38;5;132;01m}\u001b[39;00m\u001b[38;5;124m with this dtype\u001b[39m\u001b[38;5;124m\"\u001b[39m\n\u001b[1;32m   1407\u001b[0m         )\n",
      "File \u001b[0;32m/opt/conda/lib/python3.10/site-packages/pandas/core/frame.py:3804\u001b[0m, in \u001b[0;36mDataFrame.__getitem__\u001b[0;34m(self, key)\u001b[0m\n\u001b[1;32m   3802\u001b[0m \u001b[38;5;28;01mif\u001b[39;00m \u001b[38;5;28mself\u001b[39m\u001b[38;5;241m.\u001b[39mcolumns\u001b[38;5;241m.\u001b[39mnlevels \u001b[38;5;241m>\u001b[39m \u001b[38;5;241m1\u001b[39m:\n\u001b[1;32m   3803\u001b[0m     \u001b[38;5;28;01mreturn\u001b[39;00m \u001b[38;5;28mself\u001b[39m\u001b[38;5;241m.\u001b[39m_getitem_multilevel(key)\n\u001b[0;32m-> 3804\u001b[0m indexer \u001b[38;5;241m=\u001b[39m \u001b[38;5;28;43mself\u001b[39;49m\u001b[38;5;241;43m.\u001b[39;49m\u001b[43mcolumns\u001b[49m\u001b[38;5;241;43m.\u001b[39;49m\u001b[43mget_loc\u001b[49m\u001b[43m(\u001b[49m\u001b[43mkey\u001b[49m\u001b[43m)\u001b[49m\n\u001b[1;32m   3805\u001b[0m \u001b[38;5;28;01mif\u001b[39;00m is_integer(indexer):\n\u001b[1;32m   3806\u001b[0m     indexer \u001b[38;5;241m=\u001b[39m [indexer]\n",
      "File \u001b[0;32m/opt/conda/lib/python3.10/site-packages/pandas/core/indexes/base.py:3805\u001b[0m, in \u001b[0;36mIndex.get_loc\u001b[0;34m(self, key, method, tolerance)\u001b[0m\n\u001b[1;32m   3803\u001b[0m     \u001b[38;5;28;01mreturn\u001b[39;00m \u001b[38;5;28mself\u001b[39m\u001b[38;5;241m.\u001b[39m_engine\u001b[38;5;241m.\u001b[39mget_loc(casted_key)\n\u001b[1;32m   3804\u001b[0m \u001b[38;5;28;01mexcept\u001b[39;00m \u001b[38;5;167;01mKeyError\u001b[39;00m \u001b[38;5;28;01mas\u001b[39;00m err:\n\u001b[0;32m-> 3805\u001b[0m     \u001b[38;5;28;01mraise\u001b[39;00m \u001b[38;5;167;01mKeyError\u001b[39;00m(key) \u001b[38;5;28;01mfrom\u001b[39;00m \u001b[38;5;21;01merr\u001b[39;00m\n\u001b[1;32m   3806\u001b[0m \u001b[38;5;28;01mexcept\u001b[39;00m \u001b[38;5;167;01mTypeError\u001b[39;00m:\n\u001b[1;32m   3807\u001b[0m     \u001b[38;5;66;03m# If we have a listlike key, _check_indexing_error will raise\u001b[39;00m\n\u001b[1;32m   3808\u001b[0m     \u001b[38;5;66;03m#  InvalidIndexError. Otherwise we fall through and re-raise\u001b[39;00m\n\u001b[1;32m   3809\u001b[0m     \u001b[38;5;66;03m#  the TypeError.\u001b[39;00m\n\u001b[1;32m   3810\u001b[0m     \u001b[38;5;28mself\u001b[39m\u001b[38;5;241m.\u001b[39m_check_indexing_error(key)\n",
      "\u001b[0;31mKeyError\u001b[0m: '0'"
     ]
    }
   ],
   "source": [
    "import pandas as pd\n",
    "dfword=pd.DataFrame(cleanWord)\n",
    "dfg=dfword.groupby(by=0, as_index=False).size()\n",
    "dfg.nlargest(columns= '0',n=15)\n",
    "# fig = plt.subplots(figsize = (20,5))\n",
    "# sns.barplot(x=dfg[\"week\"], y=dfg[\"size\"],width=0.7, palette = \"Blues\")\n",
    "# plt.show()\n",
    "dfg"
   ]
  },
  {
   "cell_type": "markdown",
   "id": "5bc31d42-0a8b-42f1-8237-e26aff5a3dbd",
   "metadata": {},
   "source": [
    "##### h) The plot in question (1f) uses bar plot to display the data. Can you think of another plot that delivers the same information but looks much simpler? Demonstrate your answer by generating such a plot."
   ]
  },
  {
   "cell_type": "code",
   "execution_count": 4,
   "id": "f9be269c-45fa-46e7-b90a-4a7f6cf7ccf1",
   "metadata": {},
   "outputs": [],
   "source": [
    "'''', '``' , '--', '?'"
   ]
  },
  {
   "cell_type": "markdown",
   "id": "c1312b9d-a0d5-43f6-94a6-5cd97c1b5455",
   "metadata": {
    "tags": []
   },
   "source": [
    "##\n",
    "<span style=\"font-wight:bold;font-size:20px\">2. Answering Questions from Data:</span> Download the data from [ \n",
    "https://github.com/MapsaBootCamp/useful_datasets/blob/master/structuralData/flights.csv ]. Answer the following questions using this data.\n"
   ]
  },
  {
   "cell_type": "code",
   "execution_count": 1,
   "id": "0d70561d-c2d1-49c2-82b2-841bc59b1db7",
   "metadata": {},
   "outputs": [],
   "source": [
    "import numpy as np\n",
    "import matplotlib.pyplot as plt\n",
    "import pandas as pd"
   ]
  },
  {
   "cell_type": "code",
   "execution_count": 2,
   "id": "028d1978-5a67-4e9c-9e09-eb6c5ca1bc5e",
   "metadata": {},
   "outputs": [
    {
     "data": {
      "text/html": [
       "<div>\n",
       "<style scoped>\n",
       "    .dataframe tbody tr th:only-of-type {\n",
       "        vertical-align: middle;\n",
       "    }\n",
       "\n",
       "    .dataframe tbody tr th {\n",
       "        vertical-align: top;\n",
       "    }\n",
       "\n",
       "    .dataframe thead th {\n",
       "        text-align: right;\n",
       "    }\n",
       "</style>\n",
       "<table border=\"1\" class=\"dataframe\">\n",
       "  <thead>\n",
       "    <tr style=\"text-align: right;\">\n",
       "      <th></th>\n",
       "      <th>year</th>\n",
       "      <th>month</th>\n",
       "      <th>day</th>\n",
       "      <th>dep_time</th>\n",
       "      <th>sched_dep_time</th>\n",
       "      <th>dep_delay</th>\n",
       "      <th>arr_time</th>\n",
       "      <th>sched_arr_time</th>\n",
       "      <th>arr_delay</th>\n",
       "      <th>carrier</th>\n",
       "      <th>flight</th>\n",
       "      <th>tailnum</th>\n",
       "      <th>origin</th>\n",
       "      <th>dest</th>\n",
       "      <th>air_time</th>\n",
       "      <th>distance</th>\n",
       "      <th>hour</th>\n",
       "      <th>minute</th>\n",
       "      <th>time_hour</th>\n",
       "    </tr>\n",
       "  </thead>\n",
       "  <tbody>\n",
       "    <tr>\n",
       "      <th>0</th>\n",
       "      <td>2013</td>\n",
       "      <td>1</td>\n",
       "      <td>1</td>\n",
       "      <td>517.0</td>\n",
       "      <td>515</td>\n",
       "      <td>2.0</td>\n",
       "      <td>830.0</td>\n",
       "      <td>819</td>\n",
       "      <td>11.0</td>\n",
       "      <td>UA</td>\n",
       "      <td>1545</td>\n",
       "      <td>N14228</td>\n",
       "      <td>EWR</td>\n",
       "      <td>IAH</td>\n",
       "      <td>227.0</td>\n",
       "      <td>1400</td>\n",
       "      <td>5</td>\n",
       "      <td>15</td>\n",
       "      <td>2013-01-01 05:00:00</td>\n",
       "    </tr>\n",
       "    <tr>\n",
       "      <th>1</th>\n",
       "      <td>2013</td>\n",
       "      <td>1</td>\n",
       "      <td>1</td>\n",
       "      <td>533.0</td>\n",
       "      <td>529</td>\n",
       "      <td>4.0</td>\n",
       "      <td>850.0</td>\n",
       "      <td>830</td>\n",
       "      <td>20.0</td>\n",
       "      <td>UA</td>\n",
       "      <td>1714</td>\n",
       "      <td>N24211</td>\n",
       "      <td>LGA</td>\n",
       "      <td>IAH</td>\n",
       "      <td>227.0</td>\n",
       "      <td>1416</td>\n",
       "      <td>5</td>\n",
       "      <td>29</td>\n",
       "      <td>2013-01-01 05:00:00</td>\n",
       "    </tr>\n",
       "    <tr>\n",
       "      <th>2</th>\n",
       "      <td>2013</td>\n",
       "      <td>1</td>\n",
       "      <td>1</td>\n",
       "      <td>542.0</td>\n",
       "      <td>540</td>\n",
       "      <td>2.0</td>\n",
       "      <td>923.0</td>\n",
       "      <td>850</td>\n",
       "      <td>33.0</td>\n",
       "      <td>AA</td>\n",
       "      <td>1141</td>\n",
       "      <td>N619AA</td>\n",
       "      <td>JFK</td>\n",
       "      <td>MIA</td>\n",
       "      <td>160.0</td>\n",
       "      <td>1089</td>\n",
       "      <td>5</td>\n",
       "      <td>40</td>\n",
       "      <td>2013-01-01 05:00:00</td>\n",
       "    </tr>\n",
       "    <tr>\n",
       "      <th>3</th>\n",
       "      <td>2013</td>\n",
       "      <td>1</td>\n",
       "      <td>1</td>\n",
       "      <td>544.0</td>\n",
       "      <td>545</td>\n",
       "      <td>-1.0</td>\n",
       "      <td>1004.0</td>\n",
       "      <td>1022</td>\n",
       "      <td>-18.0</td>\n",
       "      <td>B6</td>\n",
       "      <td>725</td>\n",
       "      <td>N804JB</td>\n",
       "      <td>JFK</td>\n",
       "      <td>BQN</td>\n",
       "      <td>183.0</td>\n",
       "      <td>1576</td>\n",
       "      <td>5</td>\n",
       "      <td>45</td>\n",
       "      <td>2013-01-01 05:00:00</td>\n",
       "    </tr>\n",
       "    <tr>\n",
       "      <th>4</th>\n",
       "      <td>2013</td>\n",
       "      <td>1</td>\n",
       "      <td>1</td>\n",
       "      <td>554.0</td>\n",
       "      <td>600</td>\n",
       "      <td>-6.0</td>\n",
       "      <td>812.0</td>\n",
       "      <td>837</td>\n",
       "      <td>-25.0</td>\n",
       "      <td>DL</td>\n",
       "      <td>461</td>\n",
       "      <td>N668DN</td>\n",
       "      <td>LGA</td>\n",
       "      <td>ATL</td>\n",
       "      <td>116.0</td>\n",
       "      <td>762</td>\n",
       "      <td>6</td>\n",
       "      <td>0</td>\n",
       "      <td>2013-01-01 06:00:00</td>\n",
       "    </tr>\n",
       "  </tbody>\n",
       "</table>\n",
       "</div>"
      ],
      "text/plain": [
       "   year  month  day  dep_time  sched_dep_time  dep_delay  arr_time  \\\n",
       "0  2013      1    1     517.0             515        2.0     830.0   \n",
       "1  2013      1    1     533.0             529        4.0     850.0   \n",
       "2  2013      1    1     542.0             540        2.0     923.0   \n",
       "3  2013      1    1     544.0             545       -1.0    1004.0   \n",
       "4  2013      1    1     554.0             600       -6.0     812.0   \n",
       "\n",
       "   sched_arr_time  arr_delay carrier  flight tailnum origin dest  air_time  \\\n",
       "0             819       11.0      UA    1545  N14228    EWR  IAH     227.0   \n",
       "1             830       20.0      UA    1714  N24211    LGA  IAH     227.0   \n",
       "2             850       33.0      AA    1141  N619AA    JFK  MIA     160.0   \n",
       "3            1022      -18.0      B6     725  N804JB    JFK  BQN     183.0   \n",
       "4             837      -25.0      DL     461  N668DN    LGA  ATL     116.0   \n",
       "\n",
       "   distance  hour  minute            time_hour  \n",
       "0      1400     5      15  2013-01-01 05:00:00  \n",
       "1      1416     5      29  2013-01-01 05:00:00  \n",
       "2      1089     5      40  2013-01-01 05:00:00  \n",
       "3      1576     5      45  2013-01-01 05:00:00  \n",
       "4       762     6       0  2013-01-01 06:00:00  "
      ]
     },
     "execution_count": 2,
     "metadata": {},
     "output_type": "execute_result"
    }
   ],
   "source": [
    "df= pd.read_csv('flights.csv')  \n",
    "df.head()"
   ]
  },
  {
   "cell_type": "markdown",
   "id": "92251706-a801-42d7-be40-9d00e46b31f7",
   "metadata": {},
   "source": [
    "##### a) What month had the highest proportion of cancelled flights? What month had the lowest? Interpretany seasonal patterns. Please produce a plot that illustrates the proportion of cancelled flights for each month."
   ]
  },
  {
   "cell_type": "code",
   "execution_count": 47,
   "id": "4f9f9a24-ade6-416b-b8cd-7b852efba333",
   "metadata": {},
   "outputs": [
    {
     "data": {
      "text/html": [
       "<div>\n",
       "<style scoped>\n",
       "    .dataframe tbody tr th:only-of-type {\n",
       "        vertical-align: middle;\n",
       "    }\n",
       "\n",
       "    .dataframe tbody tr th {\n",
       "        vertical-align: top;\n",
       "    }\n",
       "\n",
       "    .dataframe thead th {\n",
       "        text-align: right;\n",
       "    }\n",
       "</style>\n",
       "<table border=\"1\" class=\"dataframe\">\n",
       "  <thead>\n",
       "    <tr style=\"text-align: right;\">\n",
       "      <th></th>\n",
       "      <th>month</th>\n",
       "      <th>size_x</th>\n",
       "      <th>size_y</th>\n",
       "      <th>portion</th>\n",
       "    </tr>\n",
       "  </thead>\n",
       "  <tbody>\n",
       "    <tr>\n",
       "      <th>0</th>\n",
       "      <td>1</td>\n",
       "      <td>27004</td>\n",
       "      <td>521</td>\n",
       "      <td>2.0</td>\n",
       "    </tr>\n",
       "    <tr>\n",
       "      <th>1</th>\n",
       "      <td>2</td>\n",
       "      <td>24951</td>\n",
       "      <td>1261</td>\n",
       "      <td>5.0</td>\n",
       "    </tr>\n",
       "    <tr>\n",
       "      <th>2</th>\n",
       "      <td>3</td>\n",
       "      <td>28834</td>\n",
       "      <td>861</td>\n",
       "      <td>3.0</td>\n",
       "    </tr>\n",
       "    <tr>\n",
       "      <th>3</th>\n",
       "      <td>4</td>\n",
       "      <td>28330</td>\n",
       "      <td>668</td>\n",
       "      <td>2.0</td>\n",
       "    </tr>\n",
       "    <tr>\n",
       "      <th>4</th>\n",
       "      <td>5</td>\n",
       "      <td>28796</td>\n",
       "      <td>563</td>\n",
       "      <td>2.0</td>\n",
       "    </tr>\n",
       "    <tr>\n",
       "      <th>5</th>\n",
       "      <td>6</td>\n",
       "      <td>28243</td>\n",
       "      <td>1009</td>\n",
       "      <td>4.0</td>\n",
       "    </tr>\n",
       "    <tr>\n",
       "      <th>6</th>\n",
       "      <td>7</td>\n",
       "      <td>29425</td>\n",
       "      <td>940</td>\n",
       "      <td>3.0</td>\n",
       "    </tr>\n",
       "    <tr>\n",
       "      <th>7</th>\n",
       "      <td>8</td>\n",
       "      <td>29327</td>\n",
       "      <td>486</td>\n",
       "      <td>2.0</td>\n",
       "    </tr>\n",
       "    <tr>\n",
       "      <th>8</th>\n",
       "      <td>9</td>\n",
       "      <td>27574</td>\n",
       "      <td>452</td>\n",
       "      <td>2.0</td>\n",
       "    </tr>\n",
       "    <tr>\n",
       "      <th>9</th>\n",
       "      <td>10</td>\n",
       "      <td>28889</td>\n",
       "      <td>236</td>\n",
       "      <td>1.0</td>\n",
       "    </tr>\n",
       "    <tr>\n",
       "      <th>10</th>\n",
       "      <td>11</td>\n",
       "      <td>27268</td>\n",
       "      <td>233</td>\n",
       "      <td>1.0</td>\n",
       "    </tr>\n",
       "    <tr>\n",
       "      <th>11</th>\n",
       "      <td>12</td>\n",
       "      <td>28135</td>\n",
       "      <td>1025</td>\n",
       "      <td>4.0</td>\n",
       "    </tr>\n",
       "  </tbody>\n",
       "</table>\n",
       "</div>"
      ],
      "text/plain": [
       "    month  size_x  size_y  portion\n",
       "0       1   27004     521      2.0\n",
       "1       2   24951    1261      5.0\n",
       "2       3   28834     861      3.0\n",
       "3       4   28330     668      2.0\n",
       "4       5   28796     563      2.0\n",
       "5       6   28243    1009      4.0\n",
       "6       7   29425     940      3.0\n",
       "7       8   29327     486      2.0\n",
       "8       9   27574     452      2.0\n",
       "9      10   28889     236      1.0\n",
       "10     11   27268     233      1.0\n",
       "11     12   28135    1025      4.0"
      ]
     },
     "execution_count": 47,
     "metadata": {},
     "output_type": "execute_result"
    }
   ],
   "source": [
    "dfcan=df[df['dep_time'].isna()].groupby(by='month', as_index=False).size()\n",
    "# print(f\"{dfcan.groupby(by='month').size().nlargest(1)}\")\n",
    "dfmonthgroup=df.groupby(by='month', as_index=False).size().astype(int)\n",
    "dffinal= dfmonthgroup.merge(dfcan, on='month')\n",
    "dffinal['portion']=dffinal.apply(lambda x : ((x[2])/(x[1])*100).round(0) , axis=1)\n",
    "dffinal"
   ]
  },
  {
   "cell_type": "code",
   "execution_count": 40,
   "id": "2d5cdc32-9431-413c-9669-77f4b8660006",
   "metadata": {},
   "outputs": [
    {
     "ename": "NameError",
     "evalue": "name 'dffinal' is not defined",
     "output_type": "error",
     "traceback": [
      "\u001b[0;31m---------------------------------------------------------------------------\u001b[0m",
      "\u001b[0;31mNameError\u001b[0m                                 Traceback (most recent call last)",
      "Cell \u001b[0;32mIn [40], line 2\u001b[0m\n\u001b[1;32m      1\u001b[0m \u001b[38;5;28;01mimport\u001b[39;00m \u001b[38;5;21;01mseaborn\u001b[39;00m \u001b[38;5;28;01mas\u001b[39;00m \u001b[38;5;21;01msns\u001b[39;00m\n\u001b[0;32m----> 2\u001b[0m g1 \u001b[38;5;241m=\u001b[39m sns\u001b[38;5;241m.\u001b[39mbarplot(x\u001b[38;5;241m=\u001b[39m\u001b[43mdffinal\u001b[49m[\u001b[38;5;124m\"\u001b[39m\u001b[38;5;124mmonth\u001b[39m\u001b[38;5;124m\"\u001b[39m], y\u001b[38;5;241m=\u001b[39mdffinal[\u001b[38;5;124m\"\u001b[39m\u001b[38;5;124msize_x\u001b[39m\u001b[38;5;124m\"\u001b[39m],width\u001b[38;5;241m=\u001b[39m\u001b[38;5;241m0.1\u001b[39m)\n\u001b[1;32m      3\u001b[0m ax2 \u001b[38;5;241m=\u001b[39m plt\u001b[38;5;241m.\u001b[39mtwinx()\n\u001b[1;32m      4\u001b[0m g2 \u001b[38;5;241m=\u001b[39m sns\u001b[38;5;241m.\u001b[39mbarplot(x\u001b[38;5;241m=\u001b[39mdffinal[\u001b[38;5;124m\"\u001b[39m\u001b[38;5;124mmonth\u001b[39m\u001b[38;5;124m\"\u001b[39m], y\u001b[38;5;241m=\u001b[39mdffinal[\u001b[38;5;124m\"\u001b[39m\u001b[38;5;124msize_y\u001b[39m\u001b[38;5;124m\"\u001b[39m],width\u001b[38;5;241m=\u001b[39m\u001b[38;5;241m0.8\u001b[39m)\n",
      "\u001b[0;31mNameError\u001b[0m: name 'dffinal' is not defined"
     ]
    }
   ],
   "source": [
    "import seaborn as sns\n",
    "g1 = sns.barplot(x=dffinal[\"month\"], y=dffinal[\"size_x\"],width=0.1)\n",
    "ax2 = plt.twinx()\n",
    "g2 = sns.barplot(x=dffinal[\"month\"], y=dffinal[\"size_y\"],width=0.8)\n",
    "# g2 = sns.barplot(x=columns[0], y=\"value_numbers2\", hue=\"source2\",\\       data=values2_melted, ax=ax2)\n",
    "plt.show()"
   ]
  },
  {
   "cell_type": "markdown",
   "id": "1cda509a-5148-462d-a1af-b444de62308c",
   "metadata": {},
   "source": [
    "##### b) What plane (specified by the tailnum variable) traveled the most times from New York City airports in 2013? Plot the number of trips per week over the year."
   ]
  },
  {
   "cell_type": "code",
   "execution_count": 3,
   "id": "5026ef7a-2f39-49fa-a267-6818ddef4a0b",
   "metadata": {},
   "outputs": [
    {
     "data": {
      "text/html": [
       "<div>\n",
       "<style scoped>\n",
       "    .dataframe tbody tr th:only-of-type {\n",
       "        vertical-align: middle;\n",
       "    }\n",
       "\n",
       "    .dataframe tbody tr th {\n",
       "        vertical-align: top;\n",
       "    }\n",
       "\n",
       "    .dataframe thead th {\n",
       "        text-align: right;\n",
       "    }\n",
       "</style>\n",
       "<table border=\"1\" class=\"dataframe\">\n",
       "  <thead>\n",
       "    <tr style=\"text-align: right;\">\n",
       "      <th></th>\n",
       "      <th>year</th>\n",
       "      <th>month</th>\n",
       "      <th>day</th>\n",
       "      <th>dep_time</th>\n",
       "      <th>sched_dep_time</th>\n",
       "      <th>dep_delay</th>\n",
       "      <th>arr_time</th>\n",
       "      <th>sched_arr_time</th>\n",
       "      <th>arr_delay</th>\n",
       "      <th>carrier</th>\n",
       "      <th>flight</th>\n",
       "      <th>tailnum</th>\n",
       "      <th>origin</th>\n",
       "      <th>dest</th>\n",
       "      <th>air_time</th>\n",
       "      <th>distance</th>\n",
       "      <th>hour</th>\n",
       "      <th>minute</th>\n",
       "      <th>time_hour</th>\n",
       "    </tr>\n",
       "  </thead>\n",
       "  <tbody>\n",
       "    <tr>\n",
       "      <th>0</th>\n",
       "      <td>2013</td>\n",
       "      <td>1</td>\n",
       "      <td>1</td>\n",
       "      <td>517.0</td>\n",
       "      <td>515</td>\n",
       "      <td>2.0</td>\n",
       "      <td>830.0</td>\n",
       "      <td>819</td>\n",
       "      <td>11.0</td>\n",
       "      <td>UA</td>\n",
       "      <td>1545</td>\n",
       "      <td>N14228</td>\n",
       "      <td>EWR</td>\n",
       "      <td>IAH</td>\n",
       "      <td>227.0</td>\n",
       "      <td>1400</td>\n",
       "      <td>5</td>\n",
       "      <td>15</td>\n",
       "      <td>2013-01-01 05:00:00</td>\n",
       "    </tr>\n",
       "    <tr>\n",
       "      <th>1</th>\n",
       "      <td>2013</td>\n",
       "      <td>1</td>\n",
       "      <td>1</td>\n",
       "      <td>533.0</td>\n",
       "      <td>529</td>\n",
       "      <td>4.0</td>\n",
       "      <td>850.0</td>\n",
       "      <td>830</td>\n",
       "      <td>20.0</td>\n",
       "      <td>UA</td>\n",
       "      <td>1714</td>\n",
       "      <td>N24211</td>\n",
       "      <td>LGA</td>\n",
       "      <td>IAH</td>\n",
       "      <td>227.0</td>\n",
       "      <td>1416</td>\n",
       "      <td>5</td>\n",
       "      <td>29</td>\n",
       "      <td>2013-01-01 05:00:00</td>\n",
       "    </tr>\n",
       "  </tbody>\n",
       "</table>\n",
       "</div>"
      ],
      "text/plain": [
       "   year  month  day  dep_time  sched_dep_time  dep_delay  arr_time  \\\n",
       "0  2013      1    1     517.0             515        2.0     830.0   \n",
       "1  2013      1    1     533.0             529        4.0     850.0   \n",
       "\n",
       "   sched_arr_time  arr_delay carrier  flight tailnum origin dest  air_time  \\\n",
       "0             819       11.0      UA    1545  N14228    EWR  IAH     227.0   \n",
       "1             830       20.0      UA    1714  N24211    LGA  IAH     227.0   \n",
       "\n",
       "   distance  hour  minute            time_hour  \n",
       "0      1400     5      15  2013-01-01 05:00:00  \n",
       "1      1416     5      29  2013-01-01 05:00:00  "
      ]
     },
     "execution_count": 3,
     "metadata": {},
     "output_type": "execute_result"
    }
   ],
   "source": [
    "df.head(2)"
   ]
  },
  {
   "cell_type": "code",
   "execution_count": 26,
   "id": "c8f7d12f-bc43-4689-8817-1f76795cd7c7",
   "metadata": {},
   "outputs": [
    {
     "data": {
      "text/plain": [
       "tailnum\n",
       "N725MQ    575\n",
       "N722MQ    513\n",
       "dtype: int64"
      ]
     },
     "execution_count": 26,
     "metadata": {},
     "output_type": "execute_result"
    }
   ],
   "source": [
    "df[df['dest'].str.contains('NY')].head()\n",
    "df['dest'].unique()\n",
    "df[\"origin\"].unique()\n",
    "df2013=df[df['year']==2013].head()\n",
    "df.groupby('tailnum').size().nlargest(2)\n",
    "# df2013.info()\n",
    "# df['year'].unique()\n"
   ]
  },
  {
   "cell_type": "code",
   "execution_count": null,
   "id": "f884662b-af09-4599-a69a-909301379d15",
   "metadata": {},
   "outputs": [],
   "source": [
    "import seaborn as sns\n",
    "\n",
    "dfN725MQ= df[df['tailnum']==('N725MQ')]\n",
    "dfN725MQ['time_hour']=pd.to_datetime(dfN725MQ['time_hour'])\n",
    "dfN725MQ['week']=dfN725MQ['time_hour'].dt.week"
   ]
  },
  {
   "cell_type": "code",
   "execution_count": 52,
   "id": "4e37e135-d2df-4934-a66c-a0ba0eb8d1fa",
   "metadata": {},
   "outputs": [
    {
     "data": {
      "image/png": "[encoded data removed]",
      "text/plain": [
       "<Figure size 2000x500 with 1 Axes>"
      ]
     },
     "metadata": {},
     "output_type": "display_data"
    }
   ],
   "source": [
    "dfN725MQgrp=dfN725MQ.groupby(by='week',as_index=False).size()\n",
    "fig = plt.subplots(figsize = (20,5))\n",
    "sns.barplot(x=dfN725MQgrp[\"week\"], y=dfN725MQgrp[\"size\"],width=0.7, palette = \"Blues\")\n",
    "plt.show()"
   ]
  },
  {
   "cell_type": "markdown",
   "id": "8066f094-c423-4741-9205-fb955bb3e32a",
   "metadata": {},
   "source": [
    "##### c) Download the plane data from [ https://githuniquecom/MapsaBootCamp/useful_datasets/blob/master/structuralData/planes.csv ]. Use the flights and planes tables to answer the following questions: What is the oldest plane (specified by the tailnum variable) that flew from New York City airports in 2013? How many airplanes that flew from New York City are included in the planes table?"
   ]
  },
  {
   "cell_type": "code",
   "execution_count": 53,
   "id": "4b90fe7f-abcf-4c7d-8211-ffa391edaa06",
   "metadata": {},
   "outputs": [],
   "source": [
    "dfplanes = pd.read_csv(\"planes.csv\")"
   ]
  },
  {
   "cell_type": "code",
   "execution_count": 58,
   "id": "7c1a4a84-8aba-4d21-bec0-b2dbab3a96a3",
   "metadata": {},
   "outputs": [
    {
     "data": {
      "text/html": [
       "<div>\n",
       "<style scoped>\n",
       "    .dataframe tbody tr th:only-of-type {\n",
       "        vertical-align: middle;\n",
       "    }\n",
       "\n",
       "    .dataframe tbody tr th {\n",
       "        vertical-align: top;\n",
       "    }\n",
       "\n",
       "    .dataframe thead th {\n",
       "        text-align: right;\n",
       "    }\n",
       "</style>\n",
       "<table border=\"1\" class=\"dataframe\">\n",
       "  <thead>\n",
       "    <tr style=\"text-align: right;\">\n",
       "      <th></th>\n",
       "      <th>tailnum</th>\n",
       "      <th>year_x</th>\n",
       "      <th>type</th>\n",
       "      <th>manufacturer</th>\n",
       "      <th>model</th>\n",
       "      <th>engines</th>\n",
       "      <th>seats</th>\n",
       "      <th>speed</th>\n",
       "      <th>engine</th>\n",
       "      <th>year_y</th>\n",
       "      <th>...</th>\n",
       "      <th>arr_delay</th>\n",
       "      <th>carrier</th>\n",
       "      <th>flight</th>\n",
       "      <th>origin</th>\n",
       "      <th>dest</th>\n",
       "      <th>air_time</th>\n",
       "      <th>distance</th>\n",
       "      <th>hour</th>\n",
       "      <th>minute</th>\n",
       "      <th>time_hour</th>\n",
       "    </tr>\n",
       "  </thead>\n",
       "  <tbody>\n",
       "    <tr>\n",
       "      <th>0</th>\n",
       "      <td>N10156</td>\n",
       "      <td>2004.0</td>\n",
       "      <td>Fixed wing multi engine</td>\n",
       "      <td>EMBRAER</td>\n",
       "      <td>EMB-145XR</td>\n",
       "      <td>2</td>\n",
       "      <td>55</td>\n",
       "      <td>NaN</td>\n",
       "      <td>Turbo-fan</td>\n",
       "      <td>2013</td>\n",
       "      <td>...</td>\n",
       "      <td>2.0</td>\n",
       "      <td>EV</td>\n",
       "      <td>4560</td>\n",
       "      <td>EWR</td>\n",
       "      <td>PIT</td>\n",
       "      <td>60.0</td>\n",
       "      <td>319</td>\n",
       "      <td>6</td>\n",
       "      <td>30</td>\n",
       "      <td>2013-01-10 06:00:00</td>\n",
       "    </tr>\n",
       "    <tr>\n",
       "      <th>1</th>\n",
       "      <td>N10156</td>\n",
       "      <td>2004.0</td>\n",
       "      <td>Fixed wing multi engine</td>\n",
       "      <td>EMBRAER</td>\n",
       "      <td>EMB-145XR</td>\n",
       "      <td>2</td>\n",
       "      <td>55</td>\n",
       "      <td>NaN</td>\n",
       "      <td>Turbo-fan</td>\n",
       "      <td>2013</td>\n",
       "      <td>...</td>\n",
       "      <td>40.0</td>\n",
       "      <td>EV</td>\n",
       "      <td>4269</td>\n",
       "      <td>EWR</td>\n",
       "      <td>CHS</td>\n",
       "      <td>99.0</td>\n",
       "      <td>628</td>\n",
       "      <td>10</td>\n",
       "      <td>32</td>\n",
       "      <td>2013-01-10 10:00:00</td>\n",
       "    </tr>\n",
       "    <tr>\n",
       "      <th>2</th>\n",
       "      <td>N10156</td>\n",
       "      <td>2004.0</td>\n",
       "      <td>Fixed wing multi engine</td>\n",
       "      <td>EMBRAER</td>\n",
       "      <td>EMB-145XR</td>\n",
       "      <td>2</td>\n",
       "      <td>55</td>\n",
       "      <td>NaN</td>\n",
       "      <td>Turbo-fan</td>\n",
       "      <td>2013</td>\n",
       "      <td>...</td>\n",
       "      <td>47.0</td>\n",
       "      <td>EV</td>\n",
       "      <td>4667</td>\n",
       "      <td>EWR</td>\n",
       "      <td>MSP</td>\n",
       "      <td>175.0</td>\n",
       "      <td>1008</td>\n",
       "      <td>15</td>\n",
       "      <td>40</td>\n",
       "      <td>2013-01-10 15:00:00</td>\n",
       "    </tr>\n",
       "    <tr>\n",
       "      <th>3</th>\n",
       "      <td>N10156</td>\n",
       "      <td>2004.0</td>\n",
       "      <td>Fixed wing multi engine</td>\n",
       "      <td>EMBRAER</td>\n",
       "      <td>EMB-145XR</td>\n",
       "      <td>2</td>\n",
       "      <td>55</td>\n",
       "      <td>NaN</td>\n",
       "      <td>Turbo-fan</td>\n",
       "      <td>2013</td>\n",
       "      <td>...</td>\n",
       "      <td>-12.0</td>\n",
       "      <td>EV</td>\n",
       "      <td>4334</td>\n",
       "      <td>EWR</td>\n",
       "      <td>CMH</td>\n",
       "      <td>81.0</td>\n",
       "      <td>463</td>\n",
       "      <td>6</td>\n",
       "      <td>34</td>\n",
       "      <td>2013-01-11 06:00:00</td>\n",
       "    </tr>\n",
       "    <tr>\n",
       "      <th>4</th>\n",
       "      <td>N10156</td>\n",
       "      <td>2004.0</td>\n",
       "      <td>Fixed wing multi engine</td>\n",
       "      <td>EMBRAER</td>\n",
       "      <td>EMB-145XR</td>\n",
       "      <td>2</td>\n",
       "      <td>55</td>\n",
       "      <td>NaN</td>\n",
       "      <td>Turbo-fan</td>\n",
       "      <td>2013</td>\n",
       "      <td>...</td>\n",
       "      <td>-8.0</td>\n",
       "      <td>EV</td>\n",
       "      <td>4298</td>\n",
       "      <td>EWR</td>\n",
       "      <td>MCI</td>\n",
       "      <td>171.0</td>\n",
       "      <td>1092</td>\n",
       "      <td>11</td>\n",
       "      <td>20</td>\n",
       "      <td>2013-01-11 11:00:00</td>\n",
       "    </tr>\n",
       "  </tbody>\n",
       "</table>\n",
       "<p>5 rows × 27 columns</p>\n",
       "</div>"
      ],
      "text/plain": [
       "  tailnum  year_x                     type manufacturer      model  engines  \\\n",
       "0  N10156  2004.0  Fixed wing multi engine      EMBRAER  EMB-145XR        2   \n",
       "1  N10156  2004.0  Fixed wing multi engine      EMBRAER  EMB-145XR        2   \n",
       "2  N10156  2004.0  Fixed wing multi engine      EMBRAER  EMB-145XR        2   \n",
       "3  N10156  2004.0  Fixed wing multi engine      EMBRAER  EMB-145XR        2   \n",
       "4  N10156  2004.0  Fixed wing multi engine      EMBRAER  EMB-145XR        2   \n",
       "\n",
       "   seats  speed     engine  year_y  ...  arr_delay  carrier  flight  origin  \\\n",
       "0     55    NaN  Turbo-fan    2013  ...        2.0       EV    4560     EWR   \n",
       "1     55    NaN  Turbo-fan    2013  ...       40.0       EV    4269     EWR   \n",
       "2     55    NaN  Turbo-fan    2013  ...       47.0       EV    4667     EWR   \n",
       "3     55    NaN  Turbo-fan    2013  ...      -12.0       EV    4334     EWR   \n",
       "4     55    NaN  Turbo-fan    2013  ...       -8.0       EV    4298     EWR   \n",
       "\n",
       "   dest  air_time  distance  hour minute            time_hour  \n",
       "0   PIT      60.0       319     6     30  2013-01-10 06:00:00  \n",
       "1   CHS      99.0       628    10     32  2013-01-10 10:00:00  \n",
       "2   MSP     175.0      1008    15     40  2013-01-10 15:00:00  \n",
       "3   CMH      81.0       463     6     34  2013-01-11 06:00:00  \n",
       "4   MCI     171.0      1092    11     20  2013-01-11 11:00:00  \n",
       "\n",
       "[5 rows x 27 columns]"
      ]
     },
     "execution_count": 58,
     "metadata": {},
     "output_type": "execute_result"
    }
   ],
   "source": [
    "dfmerged.head()\n"
   ]
  },
  {
   "cell_type": "code",
   "execution_count": 71,
   "id": "783c8a6a-6f51-4d38-bc76-2b28454f88db",
   "metadata": {},
   "outputs": [
    {
     "data": {
      "text/plain": [
       "array(['N381AA'], dtype=object)"
      ]
     },
     "execution_count": 71,
     "metadata": {},
     "output_type": "execute_result"
    }
   ],
   "source": [
    "dfmerged= pd.merge(dfplanes, df, how = \"inner\" , on = \"tailnum\")\n",
    "yearpr=dfmerged['year_x'].nsmallest(1).values[0]\n",
    "dfmerged[dfmerged['year_x']== yearpr]['tailnum'].unique()"
   ]
  },
  {
   "cell_type": "markdown",
   "id": "20d6d704-57ad-403b-9b2b-99e6b21a3c0a",
   "metadata": {},
   "source": [
    "##### d) Use the flights and planes tables to answer the following questions: How many planes have a missing date of manufacture? What are the five most common manufacturers (Note: pay close attention to the same manufacturer being represented multiple times)? Has the distribution of manufacturer changed over time as reflected by the airplanes flying from NYC in 2013? Produce a plot that backs up your claim."
   ]
  },
  {
   "cell_type": "code",
   "execution_count": 72,
   "id": "239ffd7f-5106-4d69-bb9e-d7bd608827b9",
   "metadata": {},
   "outputs": [
    {
     "name": "stdout",
     "output_type": "stream",
     "text": [
      "<class 'pandas.core.frame.DataFrame'>\n",
      "RangeIndex: 3322 entries, 0 to 3321\n",
      "Data columns (total 9 columns):\n",
      " #   Column        Non-Null Count  Dtype  \n",
      "---  ------        --------------  -----  \n",
      " 0   tailnum       3322 non-null   object \n",
      " 1   year          3252 non-null   float64\n",
      " 2   type          3322 non-null   object \n",
      " 3   manufacturer  3322 non-null   object \n",
      " 4   model         3322 non-null   object \n",
      " 5   engines       3322 non-null   int64  \n",
      " 6   seats         3322 non-null   int64  \n",
      " 7   speed         23 non-null     float64\n",
      " 8   engine        3322 non-null   object \n",
      "dtypes: float64(2), int64(2), object(5)\n",
      "memory usage: 233.7+ KB\n"
     ]
    }
   ],
   "source": [
    "dfplanes.info()"
   ]
  },
  {
   "cell_type": "code",
   "execution_count": 73,
   "id": "b0cdbd7e-c03f-4333-911f-2c81e3114300",
   "metadata": {},
   "outputs": [
    {
     "data": {
      "text/plain": [
       "array(['EMBRAER', 'AIRBUS INDUSTRIE', 'BOEING', 'AIRBUS',\n",
       "       'BOMBARDIER INC', 'CESSNA', 'JOHN G HESS', 'GULFSTREAM AEROSPACE',\n",
       "       'SIKORSKY', 'PIPER', 'AGUSTA SPA', 'PAIR MIKE E', 'DOUGLAS',\n",
       "       'BEECH', 'BELL', 'AVIAT AIRCRAFT INC', 'STEWART MACO',\n",
       "       'LEARJET INC', 'MCDONNELL DOUGLAS', 'CIRRUS DESIGN CORP',\n",
       "       'HURLEY JAMES LARRY', 'KILDALL GARY', 'LAMBERT RICHARD',\n",
       "       'BARKER JACK L', 'AMERICAN AIRCRAFT INC', 'ROBINSON HELICOPTER CO',\n",
       "       'FRIEDEMANN JON', 'LEBLANC GLENN T', 'MARZ BARRY', 'DEHAVILLAND',\n",
       "       'CANADAIR', 'CANADAIR LTD', 'MCDONNELL DOUGLAS CORPORATION',\n",
       "       'MCDONNELL DOUGLAS AIRCRAFT CO', 'AVIONS MARCEL DASSAULT'],\n",
       "      dtype=object)"
      ]
     },
     "execution_count": 73,
     "metadata": {},
     "output_type": "execute_result"
    }
   ],
   "source": [
    "dfplanes['manufacturer'].unique()"
   ]
  },
  {
   "cell_type": "code",
   "execution_count": 75,
   "id": "4e9a120e-72e0-46f8-b74c-4dc28f7b30d3",
   "metadata": {},
   "outputs": [
    {
     "data": {
      "text/plain": [
       "manufacturer\n",
       "BOEING              1630\n",
       "AIRBUS INDUSTRIE     400\n",
       "BOMBARDIER INC       368\n",
       "dtype: int64"
      ]
     },
     "execution_count": 75,
     "metadata": {},
     "output_type": "execute_result"
    }
   ],
   "source": [
    "print(' five most common manufacturers:')\n",
    "print(dfplanes.groupby(by= 'manufacturer' ).size().nlargest(3))"
   ]
  },
  {
   "cell_type": "markdown",
   "id": "30cf6379-efa0-42fc-bf77-7b355c306f03",
   "metadata": {},
   "source": [
    "##\n",
    "<span style=\"font-wighuniqueold;font-size:20px\">3. Regular Expressions:</span> Write a regular expression to match patterns in the following strings. Demonstrate\n",
    "that your regular expression indeed matched that pattern by including codes and results."
   ]
  },
  {
   "cell_type": "markdown",
   "id": "dd803993-9326-4b85-b281-b444350f2380",
   "metadata": {},
   "source": [
    "##### a) We have a list vText as follows. Write a regular expression that matches g, og, go or ogo in vText and replace the matches with ‘.’."
   ]
  },
  {
   "cell_type": "code",
   "execution_count": 3,
   "id": "130fc791-11c1-4b8e-ac79-95baf910e73a",
   "metadata": {},
   "outputs": [],
   "source": [
    "import re"
   ]
  },
  {
   "cell_type": "code",
   "execution_count": 4,
   "id": "14e6e3e2-33a1-40cc-9d17-9fd9222bd865",
   "metadata": {},
   "outputs": [],
   "source": [
    "vText = ['google','logo','dig', 'blog', 'boogie']"
   ]
  },
  {
   "cell_type": "code",
   "execution_count": 5,
   "id": "991d0849-7fbd-4e56-a020-a783cd649d7e",
   "metadata": {},
   "outputs": [
    {
     "name": "stdout",
     "output_type": "stream",
     "text": [
      "..le\n",
      "l.\n",
      "di.\n",
      "bl.\n",
      "bo.ie\n"
     ]
    }
   ],
   "source": [
    "pattern='o?go?'\n",
    "\n",
    "for string in vText:\n",
    "    newtext=re.sub(pattern,'.',string)\n",
    "    print(newtext)"
   ]
  },
  {
   "cell_type": "markdown",
   "id": "506dd8e8-b32b-42b3-897d-0fc574b6484c",
   "metadata": {},
   "source": [
    "##### b) Replace only the 5 or 6 digit numbers with the word “found” in the following list. Please make sure that 3, 4, or 7 digit numbers do not get changed."
   ]
  },
  {
   "cell_type": "code",
   "execution_count": 9,
   "id": "8b95b018-82e2-400d-a288-d68a1c019f2b",
   "metadata": {},
   "outputs": [],
   "source": [
    "vPhone = ['874','6783','345345', '32120', '468349', '8149674']"
   ]
  },
  {
   "cell_type": "code",
   "execution_count": 50,
   "id": "5ac59c7f-6687-466d-ad19-833f2e6da9c1",
   "metadata": {},
   "outputs": [
    {
     "name": "stdout",
     "output_type": "stream",
     "text": [
      "['874', '6783', 'found', 'found', 'found', '8149674']\n"
     ]
    }
   ],
   "source": [
    "pattern='^\\d{5,6}$'\n",
    "result=[]\n",
    "for string in vPhone:\n",
    "    if re.search(pattern,string):\n",
    "        result.append('found')\n",
    "    else:\n",
    "        result.append(string)\n",
    "print(result)\n"
   ]
  },
  {
   "cell_type": "markdown",
   "id": "dd7787da-c76a-46ce-839c-f31a0acbe1db",
   "metadata": {},
   "source": [
    "##### c) Replace all the characters that are not among the 26 English characters or a space. Please replace with an empty spring."
   ]
  },
  {
   "cell_type": "code",
   "execution_count": 2,
   "id": "772d5f4a-fd83-4bab-96c1-18f5f4c18e60",
   "metadata": {},
   "outputs": [],
   "source": [
    "myText = \"#y%o$u @g!o*t t9h(e) so#lu!tio$n c%or_r+e%ct\""
   ]
  },
  {
   "cell_type": "code",
   "execution_count": 16,
   "id": "d1372291-d85b-49a4-b919-e2b6d62cc607",
   "metadata": {},
   "outputs": [
    {
     "name": "stdout",
     "output_type": "stream",
     "text": [
      "you got the solution correct\n"
     ]
    }
   ],
   "source": [
    "pattern='[^a-zA-Z ]'\n",
    "newtext=re.sub(pattern,'',myText)\n",
    "print(newtext)"
   ]
  },
  {
   "cell_type": "markdown",
   "id": "830d18d6-a556-4da1-ac68-76f2b268d08e",
   "metadata": {},
   "source": [
    "##### d) In the following text, replace all the words that are exactly 3 or 4 characters long with triple dots ‘. . . ’"
   ]
  },
  {
   "cell_type": "code",
   "execution_count": 9,
   "id": "676266d1-8ea0-4edd-b9df-6e2f46de6e26",
   "metadata": {},
   "outputs": [],
   "source": [
    "myText = \"Each of the three and four character words will be gone now\""
   ]
  },
  {
   "cell_type": "code",
   "execution_count": 23,
   "id": "0e2cce50-9269-4239-a064-e0f5de78c5f7",
   "metadata": {},
   "outputs": [
    {
     "name": "stdout",
     "output_type": "stream",
     "text": [
      "['Each', 'the', 'and', 'will', 'gone']\n"
     ]
    }
   ],
   "source": [
    "# pattern='(\\s|^)(\\w{3,4})($|\\s)'\n",
    "# pattern=r'^|/s(\\w{3,4}) '\n",
    "pattern=r\"(?:^|\\s)(\\w{3,4})(?:\\s|$)\"\n",
    "\n",
    "newtext=re.findall(pattern, myText)\n",
    "print(newtext)\n"
   ]
  },
  {
   "cell_type": "markdown",
   "id": "9e069cf8-63ec-4fd5-8d01-3e000533881f",
   "metadata": {},
   "source": [
    "##### e) Extract all the three numbers embedded in the following text."
   ]
  },
  {
   "cell_type": "code",
   "execution_count": 4,
   "id": "391276cb-b8f3-406b-a017-8c4312f9253a",
   "metadata": {},
   "outputs": [],
   "source": [
    "bigText = 'There are four 20@14 numbers hid989den in the 500 texts'"
   ]
  },
  {
   "cell_type": "code",
   "execution_count": 9,
   "id": "f696810d-aff0-4c4b-a134-c91ce4d229f1",
   "metadata": {},
   "outputs": [
    {
     "name": "stdout",
     "output_type": "stream",
     "text": [
      "['2014', '989', '500']\n"
     ]
    }
   ],
   "source": [
    "pattern=r\"\\d{3,4}\"\n",
    "newtext=re.sub(\"\\W\",'', bigText)\n",
    "\n",
    "newtext=re.findall(pattern, newtext)\n",
    "print(newtext)\n"
   ]
  },
  {
   "cell_type": "markdown",
   "id": "9c2de3bc-7b9d-4292-a998-1a3c5594ec53",
   "metadata": {},
   "source": [
    "##### f) Extract all the words between parenthesis from the following string text and count number of words."
   ]
  },
  {
   "cell_type": "code",
   "execution_count": 12,
   "id": "ff687571-8659-4e98-8229-d3ba642b7c96",
   "metadata": {},
   "outputs": [],
   "source": [
    "myText = 'The salries are reported (in millions) for every company.'"
   ]
  },
  {
   "cell_type": "code",
   "execution_count": 28,
   "id": "e3599ecf-eec1-4374-88d4-b9d6df53287a",
   "metadata": {},
   "outputs": [
    {
     "name": "stdout",
     "output_type": "stream",
     "text": [
      "('in', 'millions')\n",
      "2\n"
     ]
    }
   ],
   "source": [
    "pattern= r\".*\\((.*)\\s(.*)\\).*\"\n",
    "newtext=re.match(pattern, myText)\n",
    "print(newtext.groups())\n",
    "print(len(newtext.groups()))\n"
   ]
  },
  {
   "cell_type": "markdown",
   "id": "adb63503-1385-4ce4-b711-1c74af77ae9d",
   "metadata": {},
   "source": [
    "##### g) Extract the texts in between _ and dot(.) in the following list. Your output should be ‘bill’, ‘pay’, ‘fine-book’."
   ]
  },
  {
   "cell_type": "code",
   "execution_count": 53,
   "id": "138531b1-b467-4da4-be01-d43d45a332e9",
   "metadata": {},
   "outputs": [],
   "source": [
    "myText = [\"H_bill.xls\", \"Big_H_pay.xls\", \"Use_case_fine-book.pdf\"]"
   ]
  },
  {
   "cell_type": "code",
   "execution_count": 54,
   "id": "b3a1e9f6-fb48-4e8a-b1f7-f6a35870eb7d",
   "metadata": {},
   "outputs": [
    {
     "data": {
      "text/plain": [
       "'H_bill.xls Big_H_pay.xls Use_case_fine-book.pdf'"
      ]
     },
     "execution_count": 54,
     "metadata": {},
     "output_type": "execute_result"
    }
   ],
   "source": [
    "' '.join(myText)"
   ]
  },
  {
   "cell_type": "code",
   "execution_count": 59,
   "id": "4acc9d49-f77e-41b0-9676-2d9ad09afba3",
   "metadata": {},
   "outputs": [
    {
     "name": "stdout",
     "output_type": "stream",
     "text": [
      "('fine-book',)\n"
     ]
    }
   ],
   "source": [
    "pattern= r\".*(?:\\_)(.*)(?:\\.).*\"\n",
    "newtext=re.match(pattern, ' '.join(myText))\n",
    "print(newtext.groups())\n",
    "max"
   ]
  },
  {
   "cell_type": "markdown",
   "id": "c636aab9-20ea-4895-a589-7bff34f6d8ea",
   "metadata": {},
   "source": [
    "##### h) Extract the numbers (return only integers) that are followed by the units ‘ml’ or ‘lb’ in the following text."
   ]
  },
  {
   "cell_type": "code",
   "execution_count": 74,
   "id": "2fde1405-5b94-4775-82f3-3708dbb02b34",
   "metadata": {},
   "outputs": [],
   "source": [
    "myText = 'Received 10 apples with 200ml water at 8pm with 15 lb meat and 2lb salt'"
   ]
  },
  {
   "cell_type": "code",
   "execution_count": 76,
   "id": "9a920c6c-8156-43cf-912e-18287a6b5205",
   "metadata": {},
   "outputs": [
    {
     "name": "stdout",
     "output_type": "stream",
     "text": [
      "['10 apples with 200ml water at 8pm with 15 lb meat and 2']\n"
     ]
    },
    {
     "data": {
      "text/plain": [
       "<function min>"
      ]
     },
     "execution_count": 76,
     "metadata": {},
     "output_type": "execute_result"
    }
   ],
   "source": [
    "pattern= r\"(?:\\s)(.*)(?:pm|lb).*\"\n",
    "newtext=re.findall(pattern, myText)\n",
    "print(newtext)\n",
    "min"
   ]
  },
  {
   "cell_type": "markdown",
   "id": "c730900e-5d30-490c-b53e-1ab271d84041",
   "metadata": {},
   "source": [
    "##### i) Extract only the word in between pair of symbols \\\\$. Count number of words you have found between pairs of dollar sign \\\\$"
   ]
  },
  {
   "cell_type": "code",
   "execution_count": 87,
   "id": "79220ba1-6eac-4aab-8e3b-3c1455677551",
   "metadata": {},
   "outputs": [],
   "source": [
    "myText = 'Math symbols are $written$ in $between$ dollar $signs$'"
   ]
  },
  {
   "cell_type": "code",
   "execution_count": 93,
   "id": "20daf141-048f-4244-abde-e339efde03a6",
   "metadata": {},
   "outputs": [
    {
     "name": "stdout",
     "output_type": "stream",
     "text": [
      "['written', 'between', 'signs']\n"
     ]
    }
   ],
   "source": [
    "pattern= \"\\$(\\w*)\\$\"\n",
    "newtext=re.findall(pattern, myText)\n",
    "print(newtext)"
   ]
  },
  {
   "cell_type": "markdown",
   "id": "c7d17049-c284-4f51-9293-82cf84c1f331",
   "metadata": {},
   "source": [
    "##### j) Extract all the valid equations in the following text."
   ]
  },
  {
   "cell_type": "code",
   "execution_count": 29,
   "id": "cb1d7f28-d7be-4130-9c95-ea304bf3aa9b",
   "metadata": {},
   "outputs": [],
   "source": [
    "myText = 'equation1: 2+3=5, equation2 is: 2*3=6, do not extract 2w3=6'"
   ]
  },
  {
   "cell_type": "code",
   "execution_count": 30,
   "id": "63537259-79b1-4c38-b4db-526dfd2d6735",
   "metadata": {},
   "outputs": [],
   "source": [
    "pattern= \"\\$(\\w*)\\$\"\n",
    "newtext=re.findall(pattern, myText)\n",
    "print(newtext)"
   ]
  }
 ],
 "metadata": {
  "kernelspec": {
   "display_name": "Python 3 (ipykernel)",
   "language": "python",
   "name": "python3"
  },
  "language_info": {
   "codemirror_mode": {
    "name": "ipython",
    "version": 3
   },
   "file_extension": ".py",
   "mimetype": "text/x-python",
   "name": "python",
   "nbconvert_exporter": "python",
   "pygments_lexer": "ipython3",
   "version": "3.10.6"
  }
 },
 "nbformat": 4,
 "nbformat_minor": 5
}
