{
 "cells": [
  {
   "cell_type": "markdown",
   "id": "40697c1c-cc86-4f20-9d5d-1e6c2979bc13",
   "metadata": {},
   "source": [
    "<br><p style=\"margin-left: 25%; font-size:20px;\">Machine Learning Camp: HomeWork 5</p><br>"
   ]
  },
  {
   "cell_type": "markdown",
   "id": "42e988e2-b110-4fe2-bb40-212815474940",
   "metadata": {
    "tags": []
   },
   "source": [
    "##\n",
    "<span style=\"font-wight:bold;font-size:20px\">1. Text Data analysis:</span> using “lincoln-last-speech.txt” which contains Lincoln’s last public address. Now answer the following questions and include your codes."
   ]
  },
  {
   "cell_type": "markdown",
   "id": "282ec989-2848-4256-b6dc-a62e95125d6b",
   "metadata": {},
   "source": [
    "##### a) Read the text and store the text in lAddress. Show the first 70 characters from the first element of the text."
   ]
  },
  {
   "cell_type": "code",
   "execution_count": 28,
   "id": "c76966b8-294e-4f78-8d0e-4be7b1523de1",
   "metadata": {},
   "outputs": [
    {
     "name": "stdout",
     "output_type": "stream",
     "text": [
      "['i', 'me', 'my', 'myself', 'we', 'our', 'ours', 'ourselves', 'you', \"you're\", \"you've\", \"you'll\", \"you'd\", 'your', 'yours', 'yourself', 'yourselves', 'he', 'him', 'his', 'himself', 'she', \"she's\", 'her', 'hers', 'herself', 'it', \"it's\", 'its', 'itself', 'they', 'them', 'their', 'theirs', 'themselves', 'what', 'which', 'who', 'whom', 'this', 'that', \"that'll\", 'these', 'those', 'am', 'is', 'are', 'was', 'were', 'be', 'been', 'being', 'have', 'has', 'had', 'having', 'do', 'does', 'did', 'doing', 'a', 'an', 'the', 'and', 'but', 'if', 'or', 'because', 'as', 'until', 'while', 'of', 'at', 'by', 'for', 'with', 'about', 'against', 'between', 'into', 'through', 'during', 'before', 'after', 'above', 'below', 'to', 'from', 'up', 'down', 'in', 'out', 'on', 'off', 'over', 'under', 'again', 'further', 'then', 'once', 'here', 'there', 'when', 'where', 'why', 'how', 'all', 'any', 'both', 'each', 'few', 'more', 'most', 'other', 'some', 'such', 'no', 'nor', 'not', 'only', 'own', 'same', 'so', 'than', 'too', 'very', 's', 't', 'can', 'will', 'just', 'don', \"don't\", 'should', \"should've\", 'now', 'd', 'll', 'm', 'o', 're', 've', 'y', 'ain', 'aren', \"aren't\", 'couldn', \"couldn't\", 'didn', \"didn't\", 'doesn', \"doesn't\", 'hadn', \"hadn't\", 'hasn', \"hasn't\", 'haven', \"haven't\", 'isn', \"isn't\", 'ma', 'mightn', \"mightn't\", 'mustn', \"mustn't\", 'needn', \"needn't\", 'shan', \"shan't\", 'shouldn', \"shouldn't\", 'wasn', \"wasn't\", 'weren', \"weren't\", 'won', \"won't\", 'wouldn', \"wouldn't\"]\n"
     ]
    }
   ],
   "source": [
    "import nltk\n",
    "import pandas as pd\n",
    "import matplotlib.pyplot as plt\n",
    "import seaborn as sns\n",
    "from nltk.tokenize import word_tokenize\n",
    "from nltk.corpus import stopwords\n",
    "\n",
    "# nltk.download('stopwords')\n",
    "print(stopwords.words('english'))"
   ]
  },
  {
   "cell_type": "code",
   "execution_count": 3,
   "id": "c310d038-bd82-4527-ac14-2421b03f47e6",
   "metadata": {},
   "outputs": [],
   "source": [
    "lAddress =open('lincoln-last-speech.txt', 'r')\n",
    "str1=lAddress.read()\n"
   ]
  },
  {
   "cell_type": "code",
   "execution_count": 4,
   "id": "703bf197-b65e-45f9-b365-a5ee7227211a",
   "metadata": {},
   "outputs": [
    {
     "data": {
      "text/plain": [
       "'We meet this evening, not in sorrow, but in gladness of heart. The eva'"
      ]
     },
     "execution_count": 4,
     "metadata": {},
     "output_type": "execute_result"
    }
   ],
   "source": [
    "lAddress =open('lincoln-last-speech.txt', 'r')\n",
    "lAddress.read(70)\n"
   ]
  },
  {
   "cell_type": "markdown",
   "id": "b25c28dc-6d9d-4bcd-b864-e90754485c7e",
   "metadata": {},
   "source": [
    "##### b) Now we are interested in the words used in his speech. Extract all the words from lAddress, convert all of them to lower case and store the result in vWord. Display first few words."
   ]
  },
  {
   "cell_type": "code",
   "execution_count": 5,
   "id": "870b68f2-eeeb-4a98-817c-aca8beb28694",
   "metadata": {},
   "outputs": [
    {
     "data": {
      "text/plain": [
       "['We', 'meet', 'this', 'evening', ',']"
      ]
     },
     "execution_count": 5,
     "metadata": {},
     "output_type": "execute_result"
    }
   ],
   "source": [
    "\n",
    "word_tokens = word_tokenize(str1)\n",
    "\n",
    "word_tokens[0:5]"
   ]
  },
  {
   "cell_type": "markdown",
   "id": "ab02ba13-aecb-4c15-9f4b-a63e5ffadfd4",
   "metadata": {},
   "source": [
    "##### c) The words like am, is, my or through are not much of our interest and these types of words are called stop-words. Get all the English stop words and store them in sWord. Display few stop words in your report."
   ]
  },
  {
   "cell_type": "code",
   "execution_count": 7,
   "id": "d15a85b4-926b-4ecb-8b46-23b766865704",
   "metadata": {},
   "outputs": [],
   "source": [
    "sWord = [ \"''\",\"``\" , '--', '?',';','.',',','i', 'me', 'my', 'myself', 'we', 'our', 'ours', 'ourselves', 'you', \"you're\", \"you've\", \"you'll\", \"you'd\", 'your', 'yours', 'yourself', 'yourselves', 'he', 'him', 'his', 'himself', 'she', \"she's\", 'her', 'hers', 'herself', 'it', \"it's\", 'its', 'itself', 'they', 'them', 'their', 'theirs', 'themselves', 'what', 'which', 'who', 'whom', 'this', 'that', \"that'll\", 'these', 'those', 'am', 'is', 'are', 'was', 'were', 'be', 'been', 'being', 'have', 'has', 'had', 'having', 'do', 'does', 'did', 'doing', 'a', 'an', 'the', 'and', 'but', 'if', 'or', 'because', 'as', 'until', 'while', 'of', 'at', 'by', 'for', 'with', 'about', 'against', 'between', 'into', 'through', 'during', 'before', 'after', 'above', 'below', 'to', 'from', 'up', 'down', 'in', 'out', 'on', 'off', 'over', 'under', 'again', 'further', 'then', 'once', 'here', 'there', 'when', 'where', 'why', 'how', 'all', 'any', 'both', 'each', 'few', 'more', 'most', 'other', 'some', 'such', 'no', 'nor', 'not', 'only', 'own', 'same', 'so', 'than', 'too', 'very', 's', 't', 'can', 'will', 'just', 'don', \"don't\", 'should', \"should've\", 'now', 'd', 'll', 'm', 'o', 're', 've', 'y', 'ain', 'aren', \"aren't\", 'couldn', \"couldn't\", 'didn', \"didn't\", 'doesn', \"doesn't\", 'hadn', \"hadn't\", 'hasn', \"hasn't\", 'haven', \"haven't\", 'isn', \"isn't\", 'ma', 'mightn', \"mightn't\", 'mustn', \"mustn't\", 'needn', \"needn't\", 'shan', \"shan't\", 'shouldn', \"shouldn't\", 'wasn', \"wasn't\", 'weren', \"weren't\", 'won', \"won't\", 'wouldn', \"wouldn't\"]"
   ]
  },
  {
   "cell_type": "markdown",
   "id": "00ab6e7e-d0cc-4ea3-bd77-e0a53b7d1fdf",
   "metadata": {},
   "source": [
    "##### d) Remove all the sWord from vWord and store the result in cleanWord. Display first few clean words."
   ]
  },
  {
   "cell_type": "code",
   "execution_count": 8,
   "id": "254af2d1-9fbf-4604-93f5-d0165054d07e",
   "metadata": {},
   "outputs": [
    {
     "data": {
      "text/plain": [
       "['meet', 'evening', 'sorrow', 'gladness', 'heart']"
      ]
     },
     "execution_count": 8,
     "metadata": {},
     "output_type": "execute_result"
    }
   ],
   "source": [
    "cleanWord = [w for w in word_tokens if not w.lower() in sWord]\n",
    "cleanWord[0:5]"
   ]
  },
  {
   "cell_type": "markdown",
   "id": "3e6eb98b-5a5b-499d-9802-f266e39e2701",
   "metadata": {},
   "source": [
    "##### f) Construct a bar chart showing the count of each words for the 15 most frequently used words."
   ]
  },
  {
   "cell_type": "code",
   "execution_count": 32,
   "id": "4256b7dd-9680-4852-be6c-f1b4aa51cfb8",
   "metadata": {},
   "outputs": [
    {
     "data": {
      "image/png": "[encoded data removed]",
      "text/plain": [
       "<Figure size 1800x500 with 1 Axes>"
      ]
     },
     "metadata": {},
     "output_type": "display_data"
    }
   ],
   "source": [
    "dfword=pd.DataFrame(cleanWord)\n",
    "dfg=dfword.groupby(by=0, as_index=False).size()\n",
    "dfg=dfg.nlargest(n=10,columns='size')\n",
    "fig = plt.subplots(figsize = (18,5))\n",
    "ax=sns.barplot(x=dfg[0], y=dfg[\"size\"],width=0.7, palette = \"Blues\")\n",
    "ax.set_title(\" 15 most frequently used words\" ,fontdict={\"size\" : 20});\n"
   ]
  },
  {
   "cell_type": "markdown",
   "id": "5bc31d42-0a8b-42f1-8237-e26aff5a3dbd",
   "metadata": {},
   "source": [
    "##### h) The plot in question (1f) uses bar plot to display the data. Can you think of another plot that delivers the same information but looks much simpler? Demonstrate your answer by generating such a plot."
   ]
  },
  {
   "cell_type": "code",
   "execution_count": 37,
   "id": "3fbf1e9a-3395-4981-bf24-f32f6ad7d5df",
   "metadata": {},
   "outputs": [
    {
     "data": {
      "text/html": [
       "<div>\n",
       "<style scoped>\n",
       "    .dataframe tbody tr th:only-of-type {\n",
       "        vertical-align: middle;\n",
       "    }\n",
       "\n",
       "    .dataframe tbody tr th {\n",
       "        vertical-align: top;\n",
       "    }\n",
       "\n",
       "    .dataframe thead th {\n",
       "        text-align: right;\n",
       "    }\n",
       "</style>\n",
       "<table border=\"1\" class=\"dataframe\">\n",
       "  <thead>\n",
       "    <tr style=\"text-align: right;\">\n",
       "      <th></th>\n",
       "      <th>0</th>\n",
       "      <th>size</th>\n",
       "    </tr>\n",
       "  </thead>\n",
       "  <tbody>\n",
       "    <tr>\n",
       "      <th>22</th>\n",
       "      <td>Louisiana</td>\n",
       "      <td>18</td>\n",
       "    </tr>\n",
       "    <tr>\n",
       "      <th>34</th>\n",
       "      <td>Union</td>\n",
       "      <td>11</td>\n",
       "    </tr>\n",
       "    <tr>\n",
       "      <th>236</th>\n",
       "      <td>government</td>\n",
       "      <td>11</td>\n",
       "    </tr>\n",
       "    <tr>\n",
       "      <th>352</th>\n",
       "      <td>plan</td>\n",
       "      <td>11</td>\n",
       "    </tr>\n",
       "    <tr>\n",
       "      <th>32</th>\n",
       "      <td>States</td>\n",
       "      <td>10</td>\n",
       "    </tr>\n",
       "    <tr>\n",
       "      <th>318</th>\n",
       "      <td>new</td>\n",
       "      <td>10</td>\n",
       "    </tr>\n",
       "    <tr>\n",
       "      <th>31</th>\n",
       "      <td>State</td>\n",
       "      <td>8</td>\n",
       "    </tr>\n",
       "    <tr>\n",
       "      <th>375</th>\n",
       "      <td>proper</td>\n",
       "      <td>8</td>\n",
       "    </tr>\n",
       "    <tr>\n",
       "      <th>541</th>\n",
       "      <td>would</td>\n",
       "      <td>8</td>\n",
       "    </tr>\n",
       "    <tr>\n",
       "      <th>385</th>\n",
       "      <td>question</td>\n",
       "      <td>7</td>\n",
       "    </tr>\n",
       "  </tbody>\n",
       "</table>\n",
       "</div>"
      ],
      "text/plain": [
       "              0  size\n",
       "22    Louisiana    18\n",
       "34        Union    11\n",
       "236  government    11\n",
       "352        plan    11\n",
       "32       States    10\n",
       "318         new    10\n",
       "31        State     8\n",
       "375      proper     8\n",
       "541       would     8\n",
       "385    question     7"
      ]
     },
     "execution_count": 37,
     "metadata": {},
     "output_type": "execute_result"
    }
   ],
   "source": [
    "dfg"
   ]
  },
  {
   "cell_type": "code",
   "execution_count": 52,
   "id": "f9be269c-45fa-46e7-b90a-4a7f6cf7ccf1",
   "metadata": {},
   "outputs": [
    {
     "data": {
      "image/png": "[encoded data removed]",
      "text/plain": [
       "<Figure size 640x480 with 1 Axes>"
      ]
     },
     "metadata": {},
     "output_type": "display_data"
    }
   ],
   "source": [
    "# fig = plt.subplots(figsize = (10,5))\n",
    "fig, ax = plt.subplots()\n",
    "colors = ['yellowgreen', 'gold', 'lightskyblue', 'lightcoral']\n",
    "\n",
    "ax.pie(dfg['size'], radius=3, labels=dfg[0],  colors=colors, center=(4, 4),  wedgeprops={\"linewidth\": 1, \"edgecolor\": \"white\"}, frame=True)\n",
    "ax.set_title(\" 15 most frequently used words\" ,fontdict={\"size\" : 20});\n",
    "ax.set_label(dfg[0])\n",
    "\n",
    "plt.show()"
   ]
  },
  {
   "cell_type": "markdown",
   "id": "c1312b9d-a0d5-43f6-94a6-5cd97c1b5455",
   "metadata": {
    "tags": []
   },
   "source": [
    "##\n",
    "<span style=\"font-wight:bold;font-size:20px\">2. Answering Questions from Data:</span> Download the data from [ \n",
    "https://github.com/MapsaBootCamp/useful_datasets/blob/master/structuralData/flights.csv ]. Answer the following questions using this data.\n"
   ]
  },
  {
   "cell_type": "code",
   "execution_count": 1,
   "id": "0d70561d-c2d1-49c2-82b2-841bc59b1db7",
   "metadata": {},
   "outputs": [],
   "source": [
    "import numpy as np\n",
    "import matplotlib.pyplot as plt\n",
    "import pandas as pd"
   ]
  },
  {
   "cell_type": "code",
   "execution_count": 54,
   "id": "028d1978-5a67-4e9c-9e09-eb6c5ca1bc5e",
   "metadata": {},
   "outputs": [
    {
     "data": {
      "text/html": [
       "<div>\n",
       "<style scoped>\n",
       "    .dataframe tbody tr th:only-of-type {\n",
       "        vertical-align: middle;\n",
       "    }\n",
       "\n",
       "    .dataframe tbody tr th {\n",
       "        vertical-align: top;\n",
       "    }\n",
       "\n",
       "    .dataframe thead th {\n",
       "        text-align: right;\n",
       "    }\n",
       "</style>\n",
       "<table border=\"1\" class=\"dataframe\">\n",
       "  <thead>\n",
       "    <tr style=\"text-align: right;\">\n",
       "      <th></th>\n",
       "      <th>year</th>\n",
       "      <th>month</th>\n",
       "      <th>day</th>\n",
       "      <th>dep_time</th>\n",
       "      <th>sched_dep_time</th>\n",
       "      <th>dep_delay</th>\n",
       "      <th>arr_time</th>\n",
       "      <th>sched_arr_time</th>\n",
       "      <th>arr_delay</th>\n",
       "      <th>carrier</th>\n",
       "      <th>flight</th>\n",
       "      <th>tailnum</th>\n",
       "      <th>origin</th>\n",
       "      <th>dest</th>\n",
       "      <th>air_time</th>\n",
       "      <th>distance</th>\n",
       "      <th>hour</th>\n",
       "      <th>minute</th>\n",
       "      <th>time_hour</th>\n",
       "    </tr>\n",
       "  </thead>\n",
       "  <tbody>\n",
       "    <tr>\n",
       "      <th>0</th>\n",
       "      <td>2013</td>\n",
       "      <td>1</td>\n",
       "      <td>1</td>\n",
       "      <td>517.0</td>\n",
       "      <td>515</td>\n",
       "      <td>2.0</td>\n",
       "      <td>830.0</td>\n",
       "      <td>819</td>\n",
       "      <td>11.0</td>\n",
       "      <td>UA</td>\n",
       "      <td>1545</td>\n",
       "      <td>N14228</td>\n",
       "      <td>EWR</td>\n",
       "      <td>IAH</td>\n",
       "      <td>227.0</td>\n",
       "      <td>1400</td>\n",
       "      <td>5</td>\n",
       "      <td>15</td>\n",
       "      <td>2013-01-01 05:00:00</td>\n",
       "    </tr>\n",
       "    <tr>\n",
       "      <th>1</th>\n",
       "      <td>2013</td>\n",
       "      <td>1</td>\n",
       "      <td>1</td>\n",
       "      <td>533.0</td>\n",
       "      <td>529</td>\n",
       "      <td>4.0</td>\n",
       "      <td>850.0</td>\n",
       "      <td>830</td>\n",
       "      <td>20.0</td>\n",
       "      <td>UA</td>\n",
       "      <td>1714</td>\n",
       "      <td>N24211</td>\n",
       "      <td>LGA</td>\n",
       "      <td>IAH</td>\n",
       "      <td>227.0</td>\n",
       "      <td>1416</td>\n",
       "      <td>5</td>\n",
       "      <td>29</td>\n",
       "      <td>2013-01-01 05:00:00</td>\n",
       "    </tr>\n",
       "  </tbody>\n",
       "</table>\n",
       "</div>"
      ],
      "text/plain": [
       "   year  month  day  dep_time  sched_dep_time  dep_delay  arr_time  \\\n",
       "0  2013      1    1     517.0             515        2.0     830.0   \n",
       "1  2013      1    1     533.0             529        4.0     850.0   \n",
       "\n",
       "   sched_arr_time  arr_delay carrier  flight tailnum origin dest  air_time  \\\n",
       "0             819       11.0      UA    1545  N14228    EWR  IAH     227.0   \n",
       "1             830       20.0      UA    1714  N24211    LGA  IAH     227.0   \n",
       "\n",
       "   distance  hour  minute            time_hour  \n",
       "0      1400     5      15  2013-01-01 05:00:00  \n",
       "1      1416     5      29  2013-01-01 05:00:00  "
      ]
     },
     "execution_count": 54,
     "metadata": {},
     "output_type": "execute_result"
    }
   ],
   "source": [
    "df= pd.read_csv('flights.csv')  \n",
    "df.head(2)"
   ]
  },
  {
   "cell_type": "markdown",
   "id": "92251706-a801-42d7-be40-9d00e46b31f7",
   "metadata": {},
   "source": [
    "cancelled flights##### a) What month had the highest proportion of cancelled flights? What month had the lowest? Interpretany seasonal patterns. Please produce a plot that illustrates the proportion of cancelled flights for each month."
   ]
  },
  {
   "cell_type": "code",
   "execution_count": 68,
   "id": "4f9f9a24-ade6-416b-b8cd-7b852efba333",
   "metadata": {},
   "outputs": [
    {
     "name": "stdout",
     "output_type": "stream",
     "text": [
      "\n",
      "Highest and lowest proportion of cancelled flights\n"
     ]
    },
    {
     "data": {
      "text/html": [
       "<div>\n",
       "<style scoped>\n",
       "    .dataframe tbody tr th:only-of-type {\n",
       "        vertical-align: middle;\n",
       "    }\n",
       "\n",
       "    .dataframe tbody tr th {\n",
       "        vertical-align: top;\n",
       "    }\n",
       "\n",
       "    .dataframe thead th {\n",
       "        text-align: right;\n",
       "    }\n",
       "</style>\n",
       "<table border=\"1\" class=\"dataframe\">\n",
       "  <thead>\n",
       "    <tr style=\"text-align: right;\">\n",
       "      <th></th>\n",
       "      <th>month</th>\n",
       "      <th>all_flights</th>\n",
       "      <th>cancell_flights</th>\n",
       "      <th>portion</th>\n",
       "    </tr>\n",
       "  </thead>\n",
       "  <tbody>\n",
       "    <tr>\n",
       "      <th>0</th>\n",
       "      <td>1</td>\n",
       "      <td>27004</td>\n",
       "      <td>521</td>\n",
       "      <td>2.0</td>\n",
       "    </tr>\n",
       "    <tr>\n",
       "      <th>1</th>\n",
       "      <td>2</td>\n",
       "      <td>24951</td>\n",
       "      <td>1261</td>\n",
       "      <td>5.0</td>\n",
       "    </tr>\n",
       "    <tr>\n",
       "      <th>2</th>\n",
       "      <td>3</td>\n",
       "      <td>28834</td>\n",
       "      <td>861</td>\n",
       "      <td>3.0</td>\n",
       "    </tr>\n",
       "    <tr>\n",
       "      <th>3</th>\n",
       "      <td>4</td>\n",
       "      <td>28330</td>\n",
       "      <td>668</td>\n",
       "      <td>2.0</td>\n",
       "    </tr>\n",
       "    <tr>\n",
       "      <th>4</th>\n",
       "      <td>5</td>\n",
       "      <td>28796</td>\n",
       "      <td>563</td>\n",
       "      <td>2.0</td>\n",
       "    </tr>\n",
       "    <tr>\n",
       "      <th>5</th>\n",
       "      <td>6</td>\n",
       "      <td>28243</td>\n",
       "      <td>1009</td>\n",
       "      <td>4.0</td>\n",
       "    </tr>\n",
       "    <tr>\n",
       "      <th>6</th>\n",
       "      <td>7</td>\n",
       "      <td>29425</td>\n",
       "      <td>940</td>\n",
       "      <td>3.0</td>\n",
       "    </tr>\n",
       "    <tr>\n",
       "      <th>7</th>\n",
       "      <td>8</td>\n",
       "      <td>29327</td>\n",
       "      <td>486</td>\n",
       "      <td>2.0</td>\n",
       "    </tr>\n",
       "    <tr>\n",
       "      <th>8</th>\n",
       "      <td>9</td>\n",
       "      <td>27574</td>\n",
       "      <td>452</td>\n",
       "      <td>2.0</td>\n",
       "    </tr>\n",
       "    <tr>\n",
       "      <th>9</th>\n",
       "      <td>10</td>\n",
       "      <td>28889</td>\n",
       "      <td>236</td>\n",
       "      <td>1.0</td>\n",
       "    </tr>\n",
       "    <tr>\n",
       "      <th>10</th>\n",
       "      <td>11</td>\n",
       "      <td>27268</td>\n",
       "      <td>233</td>\n",
       "      <td>1.0</td>\n",
       "    </tr>\n",
       "    <tr>\n",
       "      <th>11</th>\n",
       "      <td>12</td>\n",
       "      <td>28135</td>\n",
       "      <td>1025</td>\n",
       "      <td>4.0</td>\n",
       "    </tr>\n",
       "  </tbody>\n",
       "</table>\n",
       "</div>"
      ],
      "text/plain": [
       "    month  all_flights  cancell_flights  portion\n",
       "0       1        27004              521      2.0\n",
       "1       2        24951             1261      5.0\n",
       "2       3        28834              861      3.0\n",
       "3       4        28330              668      2.0\n",
       "4       5        28796              563      2.0\n",
       "5       6        28243             1009      4.0\n",
       "6       7        29425              940      3.0\n",
       "7       8        29327              486      2.0\n",
       "8       9        27574              452      2.0\n",
       "9      10        28889              236      1.0\n",
       "10     11        27268              233      1.0\n",
       "11     12        28135             1025      4.0"
      ]
     },
     "execution_count": 68,
     "metadata": {},
     "output_type": "execute_result"
    }
   ],
   "source": [
    "dfcan=df[df['dep_time'].isna()].groupby(by='month', as_index=False).size()\n",
    "# print(f\"{dfcan.groupby(by='month').size().nlargest(1)}\")\n",
    "dfmonthgroup=df.groupby(by='month', as_index=False).size().astype(int)\n",
    "dffinal= dfmonthgroup.merge(dfcan, on='month')\n",
    "dffinal['portion']=dffinal.apply(lambda x : ((x[2])/(x[1])*100).round(0) , axis=1)\n",
    "dffinal.rename(columns={'size_x':'all_flights','size_y':'cancell_flights'},inplace=True)\n",
    "print('\\nHighest and lowest proportion of cancelled flights')\n",
    "dffinal"
   ]
  },
  {
   "cell_type": "code",
   "execution_count": 66,
   "id": "2d5cdc32-9431-413c-9669-77f4b8660006",
   "metadata": {},
   "outputs": [
    {
     "data": {
      "image/png": "[encoded data removed]",
      "text/plain": [
       "<Figure size 640x480 with 2 Axes>"
      ]
     },
     "metadata": {},
     "output_type": "display_data"
    }
   ],
   "source": [
    "import seaborn as sns\n",
    "g1 = sns.barplot(x=dffinal[\"month\"], y=dffinal[\"all_flights\"],width=0.1)\n",
    "ax2 = plt.twinx()\n",
    "g2 = sns.barplot(x=dffinal[\"month\"], y=dffinal[\"cancell_flights\"],width=0.8)\n",
    "ax2.set_title(\"Cancelled flights portion\" ,fontdict={\"size\" : 20});\n",
    "\n",
    "plt.show()"
   ]
  },
  {
   "cell_type": "markdown",
   "id": "1cda509a-5148-462d-a1af-b444de62308c",
   "metadata": {},
   "source": [
    "##### b) What plane (specified by the tailnum variable) traveled the most times from New York City airports in 2013? Plot the number of trips per week over the year."
   ]
  },
  {
   "cell_type": "code",
   "execution_count": 3,
   "id": "5026ef7a-2f39-49fa-a267-6818ddef4a0b",
   "metadata": {},
   "outputs": [
    {
     "data": {
      "text/html": [
       "<div>\n",
       "<style scoped>\n",
       "    .dataframe tbody tr th:only-of-type {\n",
       "        vertical-align: middle;\n",
       "    }\n",
       "\n",
       "    .dataframe tbody tr th {\n",
       "        vertical-align: top;\n",
       "    }\n",
       "\n",
       "    .dataframe thead th {\n",
       "        text-align: right;\n",
       "    }\n",
       "</style>\n",
       "<table border=\"1\" class=\"dataframe\">\n",
       "  <thead>\n",
       "    <tr style=\"text-align: right;\">\n",
       "      <th></th>\n",
       "      <th>year</th>\n",
       "      <th>month</th>\n",
       "      <th>day</th>\n",
       "      <th>dep_time</th>\n",
       "      <th>sched_dep_time</th>\n",
       "      <th>dep_delay</th>\n",
       "      <th>arr_time</th>\n",
       "      <th>sched_arr_time</th>\n",
       "      <th>arr_delay</th>\n",
       "      <th>carrier</th>\n",
       "      <th>flight</th>\n",
       "      <th>tailnum</th>\n",
       "      <th>origin</th>\n",
       "      <th>dest</th>\n",
       "      <th>air_time</th>\n",
       "      <th>distance</th>\n",
       "      <th>hour</th>\n",
       "      <th>minute</th>\n",
       "      <th>time_hour</th>\n",
       "    </tr>\n",
       "  </thead>\n",
       "  <tbody>\n",
       "    <tr>\n",
       "      <th>0</th>\n",
       "      <td>2013</td>\n",
       "      <td>1</td>\n",
       "      <td>1</td>\n",
       "      <td>517.0</td>\n",
       "      <td>515</td>\n",
       "      <td>2.0</td>\n",
       "      <td>830.0</td>\n",
       "      <td>819</td>\n",
       "      <td>11.0</td>\n",
       "      <td>UA</td>\n",
       "      <td>1545</td>\n",
       "      <td>N14228</td>\n",
       "      <td>EWR</td>\n",
       "      <td>IAH</td>\n",
       "      <td>227.0</td>\n",
       "      <td>1400</td>\n",
       "      <td>5</td>\n",
       "      <td>15</td>\n",
       "      <td>2013-01-01 05:00:00</td>\n",
       "    </tr>\n",
       "    <tr>\n",
       "      <th>1</th>\n",
       "      <td>2013</td>\n",
       "      <td>1</td>\n",
       "      <td>1</td>\n",
       "      <td>533.0</td>\n",
       "      <td>529</td>\n",
       "      <td>4.0</td>\n",
       "      <td>850.0</td>\n",
       "      <td>830</td>\n",
       "      <td>20.0</td>\n",
       "      <td>UA</td>\n",
       "      <td>1714</td>\n",
       "      <td>N24211</td>\n",
       "      <td>LGA</td>\n",
       "      <td>IAH</td>\n",
       "      <td>227.0</td>\n",
       "      <td>1416</td>\n",
       "      <td>5</td>\n",
       "      <td>29</td>\n",
       "      <td>2013-01-01 05:00:00</td>\n",
       "    </tr>\n",
       "  </tbody>\n",
       "</table>\n",
       "</div>"
      ],
      "text/plain": [
       "   year  month  day  dep_time  sched_dep_time  dep_delay  arr_time  \\\n",
       "0  2013      1    1     517.0             515        2.0     830.0   \n",
       "1  2013      1    1     533.0             529        4.0     850.0   \n",
       "\n",
       "   sched_arr_time  arr_delay carrier  flight tailnum origin dest  air_time  \\\n",
       "0             819       11.0      UA    1545  N14228    EWR  IAH     227.0   \n",
       "1             830       20.0      UA    1714  N24211    LGA  IAH     227.0   \n",
       "\n",
       "   distance  hour  minute            time_hour  \n",
       "0      1400     5      15  2013-01-01 05:00:00  \n",
       "1      1416     5      29  2013-01-01 05:00:00  "
      ]
     },
     "execution_count": 3,
     "metadata": {},
     "output_type": "execute_result"
    }
   ],
   "source": [
    "df.head(2)"
   ]
  },
  {
   "cell_type": "code",
   "execution_count": 70,
   "id": "c8f7d12f-bc43-4689-8817-1f76795cd7c7",
   "metadata": {},
   "outputs": [
    {
     "name": "stdout",
     "output_type": "stream",
     "text": [
      "\n",
      "Tailnum traveled the most times from New York City \n"
     ]
    },
    {
     "data": {
      "text/plain": [
       "tailnum\n",
       "N725MQ    575\n",
       "N722MQ    513\n",
       "dtype: int64"
      ]
     },
     "execution_count": 70,
     "metadata": {},
     "output_type": "execute_result"
    }
   ],
   "source": [
    "df[df['dest'].str.contains('NY')].head()\n",
    "df['dest'].unique()\n",
    "df[\"origin\"].unique()\n",
    "df2013=df[df['year']==2013].head()\n",
    "print('\\nTailnum traveled the most times from New York City ')\n",
    "# df2013.info()\n",
    "# df['year'].unique()\n",
    "df.groupby('tailnum').size().nlargest(2)\n"
   ]
  },
  {
   "cell_type": "code",
   "execution_count": null,
   "id": "f884662b-af09-4599-a69a-909301379d15",
   "metadata": {},
   "outputs": [],
   "source": [
    "import seaborn as sns\n",
    "\n",
    "dfN725MQ= df[df['tailnum']==('N725MQ')]\n",
    "dfN725MQ['time_hour']=pd.to_datetime(dfN725MQ['time_hour'])\n",
    "dfN725MQ['week']=dfN725MQ['time_hour'].dt.week"
   ]
  },
  {
   "cell_type": "code",
   "execution_count": 72,
   "id": "4e37e135-d2df-4934-a66c-a0ba0eb8d1fa",
   "metadata": {},
   "outputs": [
    {
     "data": {
      "image/png": "[encoded data removed]",
      "text/plain": [
       "<Figure size 2000x500 with 1 Axes>"
      ]
     },
     "metadata": {},
     "output_type": "display_data"
    }
   ],
   "source": [
    "dfN725MQgrp=dfN725MQ.groupby(by='week',as_index=False).size()\n",
    "fig = plt.subplots(figsize = (20,5))\n",
    "sns.barplot(x=dfN725MQgrp[\"week\"], y=dfN725MQgrp[\"size\"],width=0.7, palette = \"Blues\")\n",
    "ax2.set_title(\"Number of trips per week over the year\" ,fontdict={\"size\" : 20});\n",
    "\n",
    "plt.show()"
   ]
  },
  {
   "cell_type": "markdown",
   "id": "8066f094-c423-4741-9205-fb955bb3e32a",
   "metadata": {},
   "source": [
    "##### c) Download the plane data from [ https://githuniquecom/MapsaBootCamp/useful_datasets/blob/master/structuralData/planes.csv ]. Use the flights and planes tables to answer the following questions: What is the oldest plane (specified by the tailnum variable) that flew from New York City airports in 2013? How many airplanes that flew from New York City are included in the planes table?"
   ]
  },
  {
   "cell_type": "code",
   "execution_count": 115,
   "id": "4b90fe7f-abcf-4c7d-8211-ffa391edaa06",
   "metadata": {},
   "outputs": [],
   "source": [
    "dfplanes = pd.read_csv(\"planes.csv\")"
   ]
  },
  {
   "cell_type": "code",
   "execution_count": 117,
   "id": "7c1a4a84-8aba-4d21-bec0-b2dbab3a96a3",
   "metadata": {},
   "outputs": [
    {
     "data": {
      "text/html": [
       "<div>\n",
       "<style scoped>\n",
       "    .dataframe tbody tr th:only-of-type {\n",
       "        vertical-align: middle;\n",
       "    }\n",
       "\n",
       "    .dataframe tbody tr th {\n",
       "        vertical-align: top;\n",
       "    }\n",
       "\n",
       "    .dataframe thead th {\n",
       "        text-align: right;\n",
       "    }\n",
       "</style>\n",
       "<table border=\"1\" class=\"dataframe\">\n",
       "  <thead>\n",
       "    <tr style=\"text-align: right;\">\n",
       "      <th></th>\n",
       "      <th>tailnum</th>\n",
       "      <th>year</th>\n",
       "      <th>type</th>\n",
       "      <th>manufacturer</th>\n",
       "      <th>model</th>\n",
       "      <th>engines</th>\n",
       "      <th>seats</th>\n",
       "      <th>speed</th>\n",
       "      <th>engine</th>\n",
       "    </tr>\n",
       "  </thead>\n",
       "  <tbody>\n",
       "    <tr>\n",
       "      <th>0</th>\n",
       "      <td>N10156</td>\n",
       "      <td>2004.0</td>\n",
       "      <td>Fixed wing multi engine</td>\n",
       "      <td>EMBRAER</td>\n",
       "      <td>EMB-145XR</td>\n",
       "      <td>2</td>\n",
       "      <td>55</td>\n",
       "      <td>NaN</td>\n",
       "      <td>Turbo-fan</td>\n",
       "    </tr>\n",
       "    <tr>\n",
       "      <th>1</th>\n",
       "      <td>N102UW</td>\n",
       "      <td>1998.0</td>\n",
       "      <td>Fixed wing multi engine</td>\n",
       "      <td>AIRBUS INDUSTRIE</td>\n",
       "      <td>A320-214</td>\n",
       "      <td>2</td>\n",
       "      <td>182</td>\n",
       "      <td>NaN</td>\n",
       "      <td>Turbo-fan</td>\n",
       "    </tr>\n",
       "  </tbody>\n",
       "</table>\n",
       "</div>"
      ],
      "text/plain": [
       "  tailnum    year                     type      manufacturer      model  \\\n",
       "0  N10156  2004.0  Fixed wing multi engine           EMBRAER  EMB-145XR   \n",
       "1  N102UW  1998.0  Fixed wing multi engine  AIRBUS INDUSTRIE   A320-214   \n",
       "\n",
       "   engines  seats  speed     engine  \n",
       "0        2     55    NaN  Turbo-fan  \n",
       "1        2    182    NaN  Turbo-fan  "
      ]
     },
     "execution_count": 117,
     "metadata": {},
     "output_type": "execute_result"
    }
   ],
   "source": [
    "dfplanes.head(2)\n"
   ]
  },
  {
   "cell_type": "code",
   "execution_count": 118,
   "id": "783c8a6a-6f51-4d38-bc76-2b28454f88db",
   "metadata": {},
   "outputs": [
    {
     "data": {
      "text/plain": [
       "array(['N381AA'], dtype=object)"
      ]
     },
     "execution_count": 118,
     "metadata": {},
     "output_type": "execute_result"
    }
   ],
   "source": [
    "dfmerged= pd.merge(dfplanes, df, how = \"inner\" , on = \"tailnum\")\n",
    "yearpr=dfmerged['year_x'].nsmallest(1).values[0]\n",
    "dfmerged[dfmerged['year_x']== yearpr]['tailnum'].unique()"
   ]
  },
  {
   "cell_type": "markdown",
   "id": "20d6d704-57ad-403b-9b2b-99e6b21a3c0a",
   "metadata": {},
   "source": [
    "##### d) Use the flights and planes tables to answer the following questions: How many planes have a missing date of manufacture? What are the five most common manufacturers (Note: pay close attention to the same manufacturer being represented multiple times)? Has the distribution of manufacturer changed over time as reflected by the airplanes flying from NYC in 2013? Produce a plot that backs up your claim."
   ]
  },
  {
   "cell_type": "code",
   "execution_count": 120,
   "id": "239ffd7f-5106-4d69-bb9e-d7bd608827b9",
   "metadata": {},
   "outputs": [
    {
     "name": "stdout",
     "output_type": "stream",
     "text": [
      "-----------missing date of manufacture---------\n",
      "<class 'pandas.core.frame.DataFrame'>\n",
      "RangeIndex: 3322 entries, 0 to 3321\n",
      "Data columns (total 9 columns):\n",
      " #   Column        Non-Null Count  Dtype  \n",
      "---  ------        --------------  -----  \n",
      " 0   tailnum       3322 non-null   object \n",
      " 1   year          3252 non-null   float64\n",
      " 2   type          3322 non-null   object \n",
      " 3   manufacturer  3322 non-null   object \n",
      " 4   model         3322 non-null   object \n",
      " 5   engines       3322 non-null   int64  \n",
      " 6   seats         3322 non-null   int64  \n",
      " 7   speed         23 non-null     float64\n",
      " 8   engine        3322 non-null   object \n",
      "dtypes: float64(2), int64(2), object(5)\n",
      "memory usage: 233.7+ KB\n"
     ]
    }
   ],
   "source": [
    "print('-----------missing date of manufacture---------')\n",
    "dfplanes.info()\n"
   ]
  },
  {
   "cell_type": "code",
   "execution_count": 121,
   "id": "b0cdbd7e-c03f-4333-911f-2c81e3114300",
   "metadata": {},
   "outputs": [
    {
     "data": {
      "text/plain": [
       "array(['EMBRAER', 'AIRBUS INDUSTRIE', 'BOEING', 'AIRBUS',\n",
       "       'BOMBARDIER INC', 'CESSNA', 'JOHN G HESS', 'GULFSTREAM AEROSPACE',\n",
       "       'SIKORSKY', 'PIPER', 'AGUSTA SPA', 'PAIR MIKE E', 'DOUGLAS',\n",
       "       'BEECH', 'BELL', 'AVIAT AIRCRAFT INC', 'STEWART MACO',\n",
       "       'LEARJET INC', 'MCDONNELL DOUGLAS', 'CIRRUS DESIGN CORP',\n",
       "       'HURLEY JAMES LARRY', 'KILDALL GARY', 'LAMBERT RICHARD',\n",
       "       'BARKER JACK L', 'AMERICAN AIRCRAFT INC', 'ROBINSON HELICOPTER CO',\n",
       "       'FRIEDEMANN JON', 'LEBLANC GLENN T', 'MARZ BARRY', 'DEHAVILLAND',\n",
       "       'CANADAIR', 'CANADAIR LTD', 'MCDONNELL DOUGLAS CORPORATION',\n",
       "       'MCDONNELL DOUGLAS AIRCRAFT CO', 'AVIONS MARCEL DASSAULT'],\n",
       "      dtype=object)"
      ]
     },
     "execution_count": 121,
     "metadata": {},
     "output_type": "execute_result"
    }
   ],
   "source": [
    "dfplanes['manufacturer'].unique()"
   ]
  },
  {
   "cell_type": "code",
   "execution_count": 123,
   "id": "4e9a120e-72e0-46f8-b74c-4dc28f7b30d3",
   "metadata": {},
   "outputs": [
    {
     "name": "stdout",
     "output_type": "stream",
     "text": [
      "------------------- five most common manufacturers:\n",
      "manufacturer\n",
      "BOEING              1630\n",
      "AIRBUS INDUSTRIE     400\n",
      "BOMBARDIER INC       368\n",
      "AIRBUS               336\n",
      "EMBRAER              299\n",
      "dtype: int64\n"
     ]
    }
   ],
   "source": [
    "print('------------------- five most common manufacturers:')\n",
    "print(dfplanes.groupby(by= 'manufacturer' ).size().nlargest(5))\n"
   ]
  },
  {
   "cell_type": "markdown",
   "id": "30cf6379-efa0-42fc-bf77-7b355c306f03",
   "metadata": {},
   "source": [
    "##\n",
    "<span style=\"font-wighuniqueold;font-size:20px\">3. Regular Expressions:</span> Write a regular expression to match patterns in the following strings. Demonstrate\n",
    "that your regular expression indeed matched that pattern by including codes and results."
   ]
  },
  {
   "cell_type": "markdown",
   "id": "dd803993-9326-4b85-b281-b444350f2380",
   "metadata": {},
   "source": [
    "##### a) We have a list vText as follows. Write a regular expression that matches g, og, go or ogo in vText and replace the matches with ‘.’."
   ]
  },
  {
   "cell_type": "code",
   "execution_count": 76,
   "id": "130fc791-11c1-4b8e-ac79-95baf910e73a",
   "metadata": {},
   "outputs": [],
   "source": [
    "import re"
   ]
  },
  {
   "cell_type": "code",
   "execution_count": 4,
   "id": "14e6e3e2-33a1-40cc-9d17-9fd9222bd865",
   "metadata": {},
   "outputs": [],
   "source": [
    "vText = ['google','logo','dig', 'blog', 'boogie']"
   ]
  },
  {
   "cell_type": "code",
   "execution_count": 5,
   "id": "991d0849-7fbd-4e56-a020-a783cd649d7e",
   "metadata": {},
   "outputs": [
    {
     "name": "stdout",
     "output_type": "stream",
     "text": [
      "..le\n",
      "l.\n",
      "di.\n",
      "bl.\n",
      "bo.ie\n"
     ]
    }
   ],
   "source": [
    "pattern='o?go?'\n",
    "\n",
    "for string in vText:\n",
    "    newtext=re.sub(pattern,'.',string)\n",
    "    print(newtext)"
   ]
  },
  {
   "cell_type": "markdown",
   "id": "506dd8e8-b32b-42b3-897d-0fc574b6484c",
   "metadata": {},
   "source": [
    "##### b) Replace only the 5 or 6 digit numbers with the word “found” in the following list. Please make sure that 3, 4, or 7 digit numbers do not get changed."
   ]
  },
  {
   "cell_type": "code",
   "execution_count": 9,
   "id": "8b95b018-82e2-400d-a288-d68a1c019f2b",
   "metadata": {},
   "outputs": [],
   "source": [
    "vPhone = ['874','6783','345345', '32120', '468349', '8149674']"
   ]
  },
  {
   "cell_type": "code",
   "execution_count": 50,
   "id": "5ac59c7f-6687-466d-ad19-833f2e6da9c1",
   "metadata": {},
   "outputs": [
    {
     "name": "stdout",
     "output_type": "stream",
     "text": [
      "['874', '6783', 'found', 'found', 'found', '8149674']\n"
     ]
    }
   ],
   "source": [
    "pattern='^\\d{5,6}$'\n",
    "result=[]\n",
    "for string in vPhone:\n",
    "    if re.search(pattern,string):\n",
    "        result.append('found')\n",
    "    else:\n",
    "        result.append(string)\n",
    "print(result)\n"
   ]
  },
  {
   "cell_type": "markdown",
   "id": "dd7787da-c76a-46ce-839c-f31a0acbe1db",
   "metadata": {},
   "source": [
    "##### c) Replace all the characters that are not among the 26 English characters or a space. Please replace with an empty spring."
   ]
  },
  {
   "cell_type": "code",
   "execution_count": 2,
   "id": "772d5f4a-fd83-4bab-96c1-18f5f4c18e60",
   "metadata": {},
   "outputs": [],
   "source": [
    "myText = \"#y%o$u @g!o*t t9h(e) so#lu!tio$n c%or_r+e%ct\""
   ]
  },
  {
   "cell_type": "code",
   "execution_count": 16,
   "id": "d1372291-d85b-49a4-b919-e2b6d62cc607",
   "metadata": {},
   "outputs": [
    {
     "name": "stdout",
     "output_type": "stream",
     "text": [
      "you got the solution correct\n"
     ]
    }
   ],
   "source": [
    "pattern='[^a-zA-Z ]'\n",
    "newtext=re.sub(pattern,'',myText)\n",
    "print(newtext)"
   ]
  },
  {
   "cell_type": "markdown",
   "id": "830d18d6-a556-4da1-ac68-76f2b268d08e",
   "metadata": {},
   "source": [
    "##### d) In the following text, replace all the words that are exactly 3 or 4 characters long with triple dots ‘. . . ’"
   ]
  },
  {
   "cell_type": "code",
   "execution_count": 9,
   "id": "676266d1-8ea0-4edd-b9df-6e2f46de6e26",
   "metadata": {},
   "outputs": [],
   "source": [
    "myText = \"Each of the three and four character words will be gone now\""
   ]
  },
  {
   "cell_type": "code",
   "execution_count": 23,
   "id": "0e2cce50-9269-4239-a064-e0f5de78c5f7",
   "metadata": {},
   "outputs": [
    {
     "name": "stdout",
     "output_type": "stream",
     "text": [
      "['Each', 'the', 'and', 'will', 'gone']\n"
     ]
    }
   ],
   "source": [
    "# pattern='(\\s|^)(\\w{3,4})($|\\s)'\n",
    "# pattern=r'^|/s(\\w{3,4}) '\n",
    "pattern=r\"(?:^|\\s)(\\w{3,4})(?:\\s|$)\"\n",
    "\n",
    "newtext=re.findall(pattern, myText)\n",
    "print(newtext)\n"
   ]
  },
  {
   "cell_type": "markdown",
   "id": "9e069cf8-63ec-4fd5-8d01-3e000533881f",
   "metadata": {},
   "source": [
    "##### e) Extract all the three numbers embedded in the following text."
   ]
  },
  {
   "cell_type": "code",
   "execution_count": 4,
   "id": "391276cb-b8f3-406b-a017-8c4312f9253a",
   "metadata": {},
   "outputs": [],
   "source": [
    "bigText = 'There are four 20@14 numbers hid989den in the 500 texts'"
   ]
  },
  {
   "cell_type": "code",
   "execution_count": 9,
   "id": "f696810d-aff0-4c4b-a134-c91ce4d229f1",
   "metadata": {},
   "outputs": [
    {
     "name": "stdout",
     "output_type": "stream",
     "text": [
      "['2014', '989', '500']\n"
     ]
    }
   ],
   "source": [
    "pattern=r\"\\d{3,4}\"\n",
    "newtext=re.sub(\"\\W\",'', bigText)\n",
    "\n",
    "newtext=re.findall(pattern, newtext)\n",
    "print(newtext)\n"
   ]
  },
  {
   "cell_type": "markdown",
   "id": "9c2de3bc-7b9d-4292-a998-1a3c5594ec53",
   "metadata": {},
   "source": [
    "##### f) Extract all the words between parenthesis from the following string text and count number of words."
   ]
  },
  {
   "cell_type": "code",
   "execution_count": 12,
   "id": "ff687571-8659-4e98-8229-d3ba642b7c96",
   "metadata": {},
   "outputs": [],
   "source": [
    "myText = 'The salries are reported (in millions) for every company.'"
   ]
  },
  {
   "cell_type": "code",
   "execution_count": 28,
   "id": "e3599ecf-eec1-4374-88d4-b9d6df53287a",
   "metadata": {},
   "outputs": [
    {
     "name": "stdout",
     "output_type": "stream",
     "text": [
      "('in', 'millions')\n",
      "2\n"
     ]
    }
   ],
   "source": [
    "pattern= r\".*\\((.*)\\s(.*)\\).*\"\n",
    "newtext=re.match(pattern, myText)\n",
    "print(newtext.groups())\n",
    "print(len(newtext.groups()))\n"
   ]
  },
  {
   "cell_type": "markdown",
   "id": "adb63503-1385-4ce4-b711-1c74af77ae9d",
   "metadata": {},
   "source": [
    "##### g) Extract the texts in between _ and dot(.) in the following list. Your output should be ‘bill’, ‘pay’, ‘fine-book’."
   ]
  },
  {
   "cell_type": "code",
   "execution_count": 107,
   "id": "138531b1-b467-4da4-be01-d43d45a332e9",
   "metadata": {},
   "outputs": [],
   "source": [
    "myText = [\"H_bill.xls\", \"Big_H_pay.xls\", \"Use_case_fine-book.pdf\"]"
   ]
  },
  {
   "cell_type": "code",
   "execution_count": 114,
   "id": "4acc9d49-f77e-41b0-9676-2d9ad09afba3",
   "metadata": {},
   "outputs": [
    {
     "name": "stdout",
     "output_type": "stream",
     "text": [
      "['bill', 'H_pay', 'case_fine-book']\n"
     ]
    }
   ],
   "source": [
    "pattern= r\"(?:\\_)(.*?)(?:\\.)\"\n",
    "newtext=re.findall(pattern, ' '.join(myText))\n",
    "print(newtext)\n"
   ]
  },
  {
   "cell_type": "markdown",
   "id": "c636aab9-20ea-4895-a589-7bff34f6d8ea",
   "metadata": {},
   "source": [
    "##### h) Extract the numbers (return only integers) that are followed by the units ‘ml’ or ‘lb’ in the following text."
   ]
  },
  {
   "cell_type": "code",
   "execution_count": 84,
   "id": "2fde1405-5b94-4775-82f3-3708dbb02b34",
   "metadata": {},
   "outputs": [],
   "source": [
    "myText = 'Received 10 apples with 200ml water at 8pm with 15 lb meat and 2lb salt'"
   ]
  },
  {
   "cell_type": "code",
   "execution_count": 105,
   "id": "9a920c6c-8156-43cf-912e-18287a6b5205",
   "metadata": {},
   "outputs": [
    {
     "name": "stdout",
     "output_type": "stream",
     "text": [
      "['200', '8', '15', '2']\n"
     ]
    }
   ],
   "source": [
    "pattern= r\"(\\d*)(?:pm|lb|ml| pm| lb| ml)\"\n",
    "newtext=re.findall(pattern, myText)\n",
    "print(newtext)\n"
   ]
  },
  {
   "cell_type": "markdown",
   "id": "c730900e-5d30-490c-b53e-1ab271d84041",
   "metadata": {},
   "source": [
    "##### i) Extract only the word in between pair of symbols \\\\$. Count number of words you have found between pairs of dollar sign \\\\$"
   ]
  },
  {
   "cell_type": "code",
   "execution_count": 87,
   "id": "79220ba1-6eac-4aab-8e3b-3c1455677551",
   "metadata": {},
   "outputs": [],
   "source": [
    "myText = 'Math symbols are $written$ in $between$ dollar $signs$'"
   ]
  },
  {
   "cell_type": "code",
   "execution_count": 93,
   "id": "20daf141-048f-4244-abde-e339efde03a6",
   "metadata": {},
   "outputs": [
    {
     "name": "stdout",
     "output_type": "stream",
     "text": [
      "['written', 'between', 'signs']\n"
     ]
    }
   ],
   "source": [
    "pattern= \"\\$(\\w*)\\$\"\n",
    "newtext=re.findall(pattern, myText)\n",
    "print(newtext)"
   ]
  },
  {
   "cell_type": "markdown",
   "id": "c7d17049-c284-4f51-9293-82cf84c1f331",
   "metadata": {},
   "source": [
    "##### j) Extract all the valid equations in the following text."
   ]
  },
  {
   "cell_type": "code",
   "execution_count": 80,
   "id": "cb1d7f28-d7be-4130-9c95-ea304bf3aa9b",
   "metadata": {},
   "outputs": [],
   "source": [
    "myText = 'equation1: 2+3=5, equation2 is: 2*3=6, do not extract 2w3=6'"
   ]
  },
  {
   "cell_type": "code",
   "execution_count": 82,
   "id": "63537259-79b1-4c38-b4db-526dfd2d6735",
   "metadata": {},
   "outputs": [
    {
     "name": "stdout",
     "output_type": "stream",
     "text": [
      "['2+3=5', '2*3=6']\n"
     ]
    }
   ],
   "source": [
    "pattern= \"(\\d[\\+\\*\\-]\\d=\\d)\"\n",
    "newtext=re.findall(pattern, myText)\n",
    "print(newtext)"
   ]
  }
 ],
 "metadata": {
  "kernelspec": {
   "display_name": "Python 3 (ipykernel)",
   "language": "python",
   "name": "python3"
  },
  "language_info": {
   "codemirror_mode": {
    "name": "ipython",
    "version": 3
   },
   "file_extension": ".py",
   "mimetype": "text/x-python",
   "name": "python",
   "nbconvert_exporter": "python",
   "pygments_lexer": "ipython3",
   "version": "3.10.6"
  }
 },
 "nbformat": 4,
 "nbformat_minor": 5
}
