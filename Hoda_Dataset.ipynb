{
  "nbformat": 4,
  "nbformat_minor": 0,
  "metadata": {
    "colab": {
      "provenance": []
    },
    "kernelspec": {
      "name": "python3",
      "display_name": "Python 3"
    },
    "language_info": {
      "name": "python"
    }
  },
  "cells": [
    {
      "cell_type": "code",
      "source": [
        "import struct\n",
        "import numpy as np\n",
        "import cv2\n",
        "\n",
        "\n",
        "def __convert_to_one_hot(vector, num_classes):\n",
        "    result = np.zeros(shape=[len(vector), num_classes])\n",
        "    result[np.arange(len(vector)), vector] = 1\n",
        "    return result\n",
        "\n",
        "\n",
        "def __resize_image(src_image, dst_image_height, dst_image_width):\n",
        "    src_image_height = src_image.shape[0]\n",
        "    src_image_width = src_image.shape[1]\n",
        "\n",
        "    if src_image_height > dst_image_height or src_image_width > dst_image_width:\n",
        "        height_scale = dst_image_height / src_image_height\n",
        "        width_scale = dst_image_width / src_image_width\n",
        "        scale = min(height_scale, width_scale)\n",
        "        img = cv2.resize(src=src_image, dsize=(0, 0), fx=scale, fy=scale, interpolation=cv2.INTER_CUBIC)\n",
        "    else:\n",
        "        img = src_image\n",
        "\n",
        "    img_height = img.shape[0]\n",
        "    img_width = img.shape[1]\n",
        "\n",
        "    dst_image = np.zeros(shape=[dst_image_height, dst_image_width], dtype=np.uint8)\n",
        "\n",
        "    y_offset = (dst_image_height - img_height) // 2\n",
        "    x_offset = (dst_image_width - img_width) // 2\n",
        "\n",
        "    dst_image[y_offset:y_offset+img_height, x_offset:x_offset+img_width] = img\n",
        "\n",
        "    return dst_image\n",
        "\n",
        "\n",
        "def read_hoda_cdb(file_name):\n",
        "    with open(file_name, 'rb') as binary_file:\n",
        "\n",
        "        data = binary_file.read()\n",
        "\n",
        "        offset = 0\n",
        "\n",
        "        # read private header\n",
        "\n",
        "        yy = struct.unpack_from('H', data, offset)[0]\n",
        "        offset += 2\n",
        "\n",
        "        m = struct.unpack_from('B', data, offset)[0]\n",
        "        offset += 1\n",
        "\n",
        "        d = struct.unpack_from('B', data, offset)[0]\n",
        "        offset += 1\n",
        "\n",
        "        H = struct.unpack_from('B', data, offset)[0]\n",
        "        offset += 1\n",
        "\n",
        "        W = struct.unpack_from('B', data, offset)[0]\n",
        "        offset += 1\n",
        "\n",
        "        TotalRec = struct.unpack_from('I', data, offset)[0]\n",
        "        offset += 4\n",
        "\n",
        "        LetterCount = struct.unpack_from('128I', data, offset)\n",
        "        offset += 128 * 4\n",
        "\n",
        "        imgType = struct.unpack_from('B', data, offset)[0]  # 0: binary, 1: gray\n",
        "        offset += 1\n",
        "\n",
        "        Comments = struct.unpack_from('256c', data, offset)\n",
        "        offset += 256 * 1\n",
        "\n",
        "        Reserved = struct.unpack_from('245c', data, offset)\n",
        "        offset += 245 * 1\n",
        "\n",
        "        if (W > 0) and (H > 0):\n",
        "            normal = True\n",
        "        else:\n",
        "            normal = False\n",
        "\n",
        "        images = []\n",
        "        labels = []\n",
        "\n",
        "        for i in range(TotalRec):\n",
        "\n",
        "            StartByte = struct.unpack_from('B', data, offset)[0]  # must be 0xff\n",
        "            offset += 1\n",
        "\n",
        "            label = struct.unpack_from('B', data, offset)[0]\n",
        "            offset += 1\n",
        "\n",
        "            if not normal:\n",
        "                W = struct.unpack_from('B', data, offset)[0]\n",
        "                offset += 1\n",
        "\n",
        "                H = struct.unpack_from('B', data, offset)[0]\n",
        "                offset += 1\n",
        "\n",
        "            ByteCount = struct.unpack_from('H', data, offset)[0]\n",
        "            offset += 2\n",
        "\n",
        "            image = np.zeros(shape=[H, W], dtype=np.uint8)\n",
        "\n",
        "            if imgType == 0:\n",
        "                # Binary\n",
        "                for y in range(H):\n",
        "                    bWhite = True\n",
        "                    counter = 0\n",
        "                    while counter < W:\n",
        "                        WBcount = struct.unpack_from('B', data, offset)[0]\n",
        "                        offset += 1\n",
        "                        # x = 0\n",
        "                        # while x < WBcount:\n",
        "                        #     if bWhite:\n",
        "                        #         image[y, x + counter] = 0  # Background\n",
        "                        #     else:\n",
        "                        #         image[y, x + counter] = 255  # ForeGround\n",
        "                        #     x += 1\n",
        "                        if bWhite:\n",
        "                            image[y, counter:counter + WBcount] = 0  # Background\n",
        "                        else:\n",
        "                            image[y, counter:counter + WBcount] = 255  # ForeGround\n",
        "                        bWhite = not bWhite  # black white black white ...\n",
        "                        counter += WBcount\n",
        "            else:\n",
        "                # GrayScale mode\n",
        "                data = struct.unpack_from('{}B'.format(W * H), data, offset)\n",
        "                offset += W * H\n",
        "                image = np.asarray(data, dtype=np.uint8).reshape([W, H]).T\n",
        "\n",
        "            images.append(image)\n",
        "            labels.append(label)\n",
        "\n",
        "        return images, labels\n",
        "\n",
        "\n",
        "def read_hoda_dataset(dataset_path, images_height=32, images_width=32, one_hot=False, reshape=True):\n",
        "    images, labels = read_hoda_cdb(dataset_path)\n",
        "    assert len(images) == len(labels)\n",
        "\n",
        "    X = np.zeros(shape=[len(images), images_height, images_width], dtype=np.float32)\n",
        "    Y = np.zeros(shape=[len(labels)], dtype=np.int)\n",
        "\n",
        "    for i in range(len(images)):\n",
        "        image = images[i]\n",
        "        # Image resizing.\n",
        "        image = __resize_image(src_image=image, dst_image_height=images_height, dst_image_width=images_width)\n",
        "        # Image normalization.\n",
        "        image = image / 255\n",
        "        # Image binarization.\n",
        "        image = np.where(image >= 0.5, 1, 0)\n",
        "        # Image.\n",
        "        X[i] = image\n",
        "        # Label.\n",
        "        Y[i] = labels[i]\n",
        "\n",
        "    if one_hot:\n",
        "        Y = __convert_to_one_hot(Y, 10).astype(dtype=np.float32)\n",
        "    else:\n",
        "        Y = Y.astype(dtype=np.float32)\n",
        "\n",
        "    if reshape:\n",
        "        X = X.reshape(-1, images_height * images_width)\n",
        "    else:\n",
        "        X = X.reshape(-1, images_height, images_width, 1)\n",
        "\n",
        "    return X, Y\n"
      ],
      "metadata": {
        "id": "5JnGPR9yxs5n"
      },
      "execution_count": 1,
      "outputs": []
    },
    {
      "cell_type": "code",
      "source": [
        "from matplotlib import pyplot as plt\n",
        "import pandas as pd\n",
        "import tensorflow as tf\n",
        "from keras.models import Sequential\n",
        "from keras.layers import Dense, Activation\n",
        "from tensorflow import keras\n",
        "from keras.models import Model\n",
        "from keras.layers import Input\n",
        "from keras.layers import Dense, activation\n",
        "from tensorflow.keras import layers"
      ],
      "metadata": {
        "id": "vQ8FUxvNz66Z"
      },
      "execution_count": 3,
      "outputs": []
    },
    {
      "cell_type": "code",
      "source": [
        "import logging\n",
        "tf.get_logger().setLevel(logging.ERROR)"
      ],
      "metadata": {
        "id": "SFpCFhoK1XKb"
      },
      "execution_count": 4,
      "outputs": []
    },
    {
      "cell_type": "code",
      "execution_count": 9,
      "metadata": {
        "id": "L81cuSGhxrh0"
      },
      "outputs": [],
      "source": [
        "from HodaDatasetReader import read_hoda_dataset\n",
        "from HodaDatasetReader import read_hoda_cdb"
      ]
    },
    {
      "cell_type": "markdown",
      "source": [
        "# Sequential"
      ],
      "metadata": {
        "id": "rSGxndoJ0Ibs"
      }
    },
    {
      "cell_type": "code",
      "source": [
        "X_train, Y_train = read_hoda_dataset(dataset_path='Train 60000.cdb', images_height=32, images_width=32,one_hot=False, reshape=True)"
      ],
      "metadata": {
        "id": "NDUief3Px8iQ"
      },
      "execution_count": 10,
      "outputs": []
    },
    {
      "cell_type": "code",
      "source": [
        "X_test, Y_test = read_hoda_dataset(dataset_path='Test 20000.cdb', images_height=32, images_width=32, one_hot=False, reshape=True)"
      ],
      "metadata": {
        "id": "H96BWw33yWe1"
      },
      "execution_count": 11,
      "outputs": []
    },
    {
      "cell_type": "code",
      "source": [
        "X_validation = X_train[50000:]\n",
        "Y_validation = Y_train[50000:]"
      ],
      "metadata": {
        "id": "zRRXsPIt3Ymg"
      },
      "execution_count": 13,
      "outputs": []
    },
    {
      "cell_type": "code",
      "source": [
        "X_train = X_train[:50000]\n",
        "Y_train = Y_train[:50000]"
      ],
      "metadata": {
        "id": "zIMqh7oS2hqU"
      },
      "execution_count": 14,
      "outputs": []
    },
    {
      "cell_type": "code",
      "source": [
        "X_train, X_test, X_validation = X_train/255, X_test/255, X_validation/255"
      ],
      "metadata": {
        "id": "a4BNgfmk3QKm"
      },
      "execution_count": 15,
      "outputs": []
    },
    {
      "cell_type": "code",
      "source": [
        "X_train = X_train.reshape(X_train.shape[0], 32, 32)\n",
        "X_test = X_test.reshape(X_test.shape[0], 32,32)\n",
        "X_validation=X_validation.reshape(X_validation.shape[0], 32,32)"
      ],
      "metadata": {
        "id": "u8YQv0L03ZYf"
      },
      "execution_count": 16,
      "outputs": []
    },
    {
      "cell_type": "code",
      "source": [
        "model = keras.Sequential([\n",
        "    keras.layers.Flatten(input_shape=[32, 32]),\n",
        "    keras.layers.Dense(150, activation=\"relu\"),\n",
        "\t  keras.layers.Dense(100, activation=\"relu\"),\n",
        "    keras.layers.Dense(10, activation=\"softmax\")\n",
        "])"
      ],
      "metadata": {
        "id": "tdDxmjcbAUI6"
      },
      "execution_count": 21,
      "outputs": []
    },
    {
      "cell_type": "code",
      "source": [
        "model.summary()"
      ],
      "metadata": {
        "colab": {
          "base_uri": "https://localhost:8080/"
        },
        "id": "mIxsWTBKzecq",
        "outputId": "4c0b64b1-60a8-41a2-f7f1-26395d18c49f"
      },
      "execution_count": 22,
      "outputs": [
        {
          "output_type": "stream",
          "name": "stdout",
          "text": [
            "Model: \"sequential\"\n",
            "_________________________________________________________________\n",
            " Layer (type)                Output Shape              Param #   \n",
            "=================================================================\n",
            " flatten (Flatten)           (None, 1024)              0         \n",
            "                                                                 \n",
            " dense (Dense)               (None, 150)               153750    \n",
            "                                                                 \n",
            " dense_1 (Dense)             (None, 100)               15100     \n",
            "                                                                 \n",
            " dense_2 (Dense)             (None, 50)                5050      \n",
            "                                                                 \n",
            "=================================================================\n",
            "Total params: 173,900\n",
            "Trainable params: 173,900\n",
            "Non-trainable params: 0\n",
            "_________________________________________________________________\n"
          ]
        }
      ]
    },
    {
      "cell_type": "code",
      "source": [
        "model.compile(loss='sparse_categorical_crossentropy', optimizer='adam', metrics=['accuracy'])"
      ],
      "metadata": {
        "id": "-9Za-R1P9MUg"
      },
      "execution_count": 23,
      "outputs": []
    },
    {
      "cell_type": "code",
      "source": [
        "history = model.fit(X_train, Y_train, epochs=15, validation_data=(X_validation, Y_validation))"
      ],
      "metadata": {
        "id": "oUHT6C-y9PnH",
        "colab": {
          "base_uri": "https://localhost:8080/"
        },
        "outputId": "5bd2e872-11b3-43da-c75b-b559a940fb14"
      },
      "execution_count": 24,
      "outputs": [
        {
          "output_type": "stream",
          "name": "stdout",
          "text": [
            "Epoch 1/15\n",
            "1563/1563 [==============================] - 10s 6ms/step - loss: 0.8266 - accuracy: 0.7663 - val_loss: 0.2476 - val_accuracy: 0.9316\n",
            "Epoch 2/15\n",
            "1563/1563 [==============================] - 10s 6ms/step - loss: 0.2106 - accuracy: 0.9383 - val_loss: 0.1913 - val_accuracy: 0.9450\n",
            "Epoch 3/15\n",
            "1563/1563 [==============================] - 9s 6ms/step - loss: 0.1736 - accuracy: 0.9506 - val_loss: 0.1718 - val_accuracy: 0.9521\n",
            "Epoch 4/15\n",
            "1563/1563 [==============================] - 8s 5ms/step - loss: 0.1519 - accuracy: 0.9583 - val_loss: 0.1532 - val_accuracy: 0.9587\n",
            "Epoch 5/15\n",
            "1563/1563 [==============================] - 9s 6ms/step - loss: 0.1340 - accuracy: 0.9636 - val_loss: 0.1369 - val_accuracy: 0.9622\n",
            "Epoch 6/15\n",
            "1563/1563 [==============================] - 9s 6ms/step - loss: 0.1193 - accuracy: 0.9673 - val_loss: 0.1269 - val_accuracy: 0.9642\n",
            "Epoch 7/15\n",
            "1563/1563 [==============================] - 9s 6ms/step - loss: 0.1076 - accuracy: 0.9705 - val_loss: 0.1156 - val_accuracy: 0.9666\n",
            "Epoch 8/15\n",
            "1563/1563 [==============================] - 8s 5ms/step - loss: 0.0978 - accuracy: 0.9731 - val_loss: 0.1069 - val_accuracy: 0.9691\n",
            "Epoch 9/15\n",
            "1563/1563 [==============================] - 9s 6ms/step - loss: 0.0886 - accuracy: 0.9759 - val_loss: 0.1020 - val_accuracy: 0.9705\n",
            "Epoch 10/15\n",
            "1563/1563 [==============================] - 9s 6ms/step - loss: 0.0807 - accuracy: 0.9776 - val_loss: 0.0952 - val_accuracy: 0.9725\n",
            "Epoch 11/15\n",
            "1563/1563 [==============================] - 8s 5ms/step - loss: 0.0731 - accuracy: 0.9796 - val_loss: 0.0912 - val_accuracy: 0.9741\n",
            "Epoch 12/15\n",
            "1563/1563 [==============================] - 9s 6ms/step - loss: 0.0677 - accuracy: 0.9815 - val_loss: 0.0831 - val_accuracy: 0.9774\n",
            "Epoch 13/15\n",
            "1563/1563 [==============================] - 10s 6ms/step - loss: 0.0621 - accuracy: 0.9830 - val_loss: 0.0827 - val_accuracy: 0.9746\n",
            "Epoch 14/15\n",
            "1563/1563 [==============================] - 9s 6ms/step - loss: 0.0578 - accuracy: 0.9837 - val_loss: 0.0754 - val_accuracy: 0.9788\n",
            "Epoch 15/15\n",
            "1563/1563 [==============================] - 8s 5ms/step - loss: 0.0521 - accuracy: 0.9855 - val_loss: 0.0728 - val_accuracy: 0.9787\n"
          ]
        }
      ]
    },
    {
      "cell_type": "code",
      "source": [
        "Y_predict = model.predict(X_test)"
      ],
      "metadata": {
        "id": "wLlLxF9k9fMN",
        "colab": {
          "base_uri": "https://localhost:8080/"
        },
        "outputId": "f81219e2-f62d-46c2-a4f1-839f8ff53f39"
      },
      "execution_count": 34,
      "outputs": [
        {
          "output_type": "stream",
          "name": "stdout",
          "text": [
            "625/625 [==============================] - 2s 3ms/step\n"
          ]
        }
      ]
    },
    {
      "cell_type": "code",
      "source": [
        "from sklearn.metrics import classification_report\n",
        "print(classification_report(Y_test, Y_predict))"
      ],
      "metadata": {
        "colab": {
          "base_uri": "https://localhost:8080/"
        },
        "id": "BME-Qosd5gcQ",
        "outputId": "9a5294ac-26a4-4c16-fb56-485afb134ee1"
      },
      "execution_count": 38,
      "outputs": [
        {
          "output_type": "stream",
          "name": "stdout",
          "text": [
            "              precision    recall  f1-score   support\n",
            "\n",
            "           0       0.98      0.99      0.98      2000\n",
            "           1       0.98      0.98      0.98      2000\n",
            "           2       0.90      0.96      0.93      2000\n",
            "           3       0.95      0.89      0.92      2000\n",
            "           4       0.94      0.93      0.93      2000\n",
            "           5       0.97      0.98      0.98      2000\n",
            "           6       0.95      0.95      0.95      2000\n",
            "           7       0.99      0.97      0.98      2000\n",
            "           8       0.99      0.97      0.98      2000\n",
            "           9       0.94      0.96      0.95      2000\n",
            "\n",
            "    accuracy                           0.96     20000\n",
            "   macro avg       0.96      0.96      0.96     20000\n",
            "weighted avg       0.96      0.96      0.96     20000\n",
            "\n"
          ]
        }
      ]
    },
    {
      "cell_type": "code",
      "source": [
        "pd.DataFrame(history.history).plot(figsize=(8,5))\n",
        "plt.show()"
      ],
      "metadata": {
        "colab": {
          "base_uri": "https://localhost:8080/",
          "height": 320
        },
        "id": "G2B4SQArxkNK",
        "outputId": "8db653ba-a8cc-4a14-bb5d-90642aa48ebe"
      },
      "execution_count": 43,
      "outputs": [
        {
          "output_type": "display_data",
          "data": {
            "text/plain": [
              "<Figure size 576x360 with 1 Axes>"
            ],
            "image/png": "[encoded data removed]"
          },
          "metadata": {
            "needs_background": "light"
          }
        }
      ]
    },
    {
      "cell_type": "code",
      "source": [
        "plt.plot(history.history['accuracy'])\n",
        "plt.plot(history.history['val_accuracy'])\n",
        "plt.title('model accuracy')\n",
        "plt.ylabel('accuracy')\n",
        "plt.xlabel('epoch')\n",
        "plt.legend(['train', 'val'], loc='upper left')\n",
        "plt.show()"
      ],
      "metadata": {
        "colab": {
          "base_uri": "https://localhost:8080/",
          "height": 295
        },
        "id": "PfvIhwZ0xRYB",
        "outputId": "82a0f883-849a-4998-cbb8-217cc3214ac3"
      },
      "execution_count": 44,
      "outputs": [
        {
          "output_type": "display_data",
          "data": {
            "text/plain": [
              "<Figure size 432x288 with 1 Axes>"
            ],
            "image/png": "[encoded data removed]"
          },
          "metadata": {
            "needs_background": "light"
          }
        }
      ]
    },
    {
      "cell_type": "code",
      "source": [
        "plt.plot(history.history['loss'])\n",
        "plt.plot(history.history['val_loss'])\n",
        "plt.title('model loss')\n",
        "plt.ylabel('loss')\n",
        "plt.xlabel('epoch')\n",
        "plt.legend(['train', 'val'], loc='upper left')\n",
        "plt.show()"
      ],
      "metadata": {
        "colab": {
          "base_uri": "https://localhost:8080/",
          "height": 295
        },
        "id": "8HopMzhjyKVW",
        "outputId": "02ac5c1a-aa82-4dec-fc6b-a8a76ac18b76"
      },
      "execution_count": 46,
      "outputs": [
        {
          "output_type": "display_data",
          "data": {
            "text/plain": [
              "<Figure size 432x288 with 1 Axes>"
            ],
            "image/png": "[encoded data removed]"
          },
          "metadata": {
            "needs_background": "light"
          }
        }
      ]
    },
    {
      "cell_type": "markdown",
      "source": [
        "# functional"
      ],
      "metadata": {
        "id": "juQfwI3dKM-b"
      }
    },
    {
      "cell_type": "code",
      "source": [
        "X_train1, Y_train1 = read_hoda_dataset(dataset_path='Train 60000.cdb', images_height=32, images_width=32, one_hot=False, reshape=True)"
      ],
      "metadata": {
        "id": "TkZYYo--CJKN"
      },
      "execution_count": null,
      "outputs": []
    },
    {
      "cell_type": "code",
      "source": [
        "X_test1, Y_test1 = read_hoda_dataset(dataset_path='Test 20000.cdb', images_height=32, images_width=32, one_hot=False, reshape=True)"
      ],
      "metadata": {
        "id": "swvcTj6BCZ1g"
      },
      "execution_count": 110,
      "outputs": []
    },
    {
      "cell_type": "code",
      "source": [
        "X_validation1 = X_train1[50000:]\n",
        "Y_validation1 = Y_train1[50000:]\n",
        "X_train1 = X_train1[:50000]\n",
        "Y_train1 = Y_train1[:50000]"
      ],
      "metadata": {
        "id": "kTdu3zsH19C7"
      },
      "execution_count": 80,
      "outputs": []
    },
    {
      "cell_type": "code",
      "source": [
        "X_test1, X_train1, X_validation1 = X_test1/255, X_train1/255, X_train1/255"
      ],
      "metadata": {
        "id": "r-R-eRcS1_VE"
      },
      "execution_count": 81,
      "outputs": []
    },
    {
      "cell_type": "code",
      "source": [
        "X_test1 = X_test1.reshape(X_test1.shape[0], 32, 32)"
      ],
      "metadata": {
        "id": "rKAjqmALEwNl"
      },
      "execution_count": null,
      "outputs": []
    },
    {
      "cell_type": "code",
      "source": [
        "visible = keras.Input(shape=(1024,))\n",
        "hidden1 = layers.Dense(250, activation=\"relu\")(visible)\n",
        "hidden2 = layers.Dense(150, activation=\"relu\")(hidden1)\n",
        "hidden3 = layers.Dense(100, activation=\"relu\")(hidden2)\n",
        "concat = layers.concatenate([visible, hidden3])\n",
        "output = layers.Dense(10, activation=\"softmax\")(concat)\n",
        "model2 = keras.Model(inputs=visible, outputs=output)"
      ],
      "metadata": {
        "id": "a2vPDzaSKdhA"
      },
      "execution_count": 83,
      "outputs": []
    },
    {
      "cell_type": "code",
      "source": [
        "model2.summary()"
      ],
      "metadata": {
        "colab": {
          "base_uri": "https://localhost:8080/"
        },
        "id": "gG_3mAW4zXnx",
        "outputId": "2cc9dad5-7f7e-4d09-95d0-2b04a05223e5"
      },
      "execution_count": 84,
      "outputs": [
        {
          "output_type": "stream",
          "name": "stdout",
          "text": [
            "Model: \"model_7\"\n",
            "__________________________________________________________________________________________________\n",
            " Layer (type)                   Output Shape         Param #     Connected to                     \n",
            "==================================================================================================\n",
            " input_8 (InputLayer)           [(None, 1024)]       0           []                               \n",
            "                                                                                                  \n",
            " dense_31 (Dense)               (None, 250)          256250      ['input_8[0][0]']                \n",
            "                                                                                                  \n",
            " dense_32 (Dense)               (None, 150)          37650       ['dense_31[0][0]']               \n",
            "                                                                                                  \n",
            " dense_33 (Dense)               (None, 100)          15100       ['dense_32[0][0]']               \n",
            "                                                                                                  \n",
            " concatenate_7 (Concatenate)    (None, 1124)         0           ['input_8[0][0]',                \n",
            "                                                                  'dense_33[0][0]']               \n",
            "                                                                                                  \n",
            " dense_34 (Dense)               (None, 10)           11250       ['concatenate_7[0][0]']          \n",
            "                                                                                                  \n",
            "==================================================================================================\n",
            "Total params: 320,250\n",
            "Trainable params: 320,250\n",
            "Non-trainable params: 0\n",
            "__________________________________________________________________________________________________\n"
          ]
        }
      ]
    },
    {
      "cell_type": "code",
      "source": [
        "model2.compile(loss='sparse_categorical_crossentropy', optimizer='adam', metrics=['accuracy'])"
      ],
      "metadata": {
        "id": "VfULZ9yQza96"
      },
      "execution_count": 85,
      "outputs": []
    },
    {
      "cell_type": "code",
      "source": [
        "history = model2.fit(X_train1, Y_train1, epochs=15, validation_data=(X_validation1, Y_validation1))"
      ],
      "metadata": {
        "colab": {
          "base_uri": "https://localhost:8080/"
        },
        "id": "U2mM7b-YzeJA",
        "outputId": "1d29213d-f8ba-4bad-94df-1b4d93db87f5"
      },
      "execution_count": 86,
      "outputs": [
        {
          "output_type": "stream",
          "name": "stdout",
          "text": [
            "Epoch 1/15\n",
            "1407/1407 [==============================] - 12s 8ms/step - loss: 0.4543 - accuracy: 0.8612 - val_loss: 0.2051 - val_accuracy: 0.9419\n",
            "Epoch 2/15\n",
            "1407/1407 [==============================] - 11s 8ms/step - loss: 0.1703 - accuracy: 0.9515 - val_loss: 0.1467 - val_accuracy: 0.9581\n",
            "Epoch 3/15\n",
            "1407/1407 [==============================] - 10s 7ms/step - loss: 0.1171 - accuracy: 0.9666 - val_loss: 0.1066 - val_accuracy: 0.9699\n",
            "Epoch 4/15\n",
            "1407/1407 [==============================] - 11s 8ms/step - loss: 0.0856 - accuracy: 0.9754 - val_loss: 0.0965 - val_accuracy: 0.9721\n",
            "Epoch 5/15\n",
            "1407/1407 [==============================] - 11s 8ms/step - loss: 0.0676 - accuracy: 0.9806 - val_loss: 0.0784 - val_accuracy: 0.9775\n",
            "Epoch 6/15\n",
            "1407/1407 [==============================] - 12s 8ms/step - loss: 0.0530 - accuracy: 0.9841 - val_loss: 0.0672 - val_accuracy: 0.9794\n",
            "Epoch 7/15\n",
            "1407/1407 [==============================] - 11s 8ms/step - loss: 0.0433 - accuracy: 0.9875 - val_loss: 0.0609 - val_accuracy: 0.9840\n",
            "Epoch 8/15\n",
            "1407/1407 [==============================] - 11s 8ms/step - loss: 0.0357 - accuracy: 0.9889 - val_loss: 0.0626 - val_accuracy: 0.9819\n",
            "Epoch 9/15\n",
            "1407/1407 [==============================] - 11s 8ms/step - loss: 0.0292 - accuracy: 0.9911 - val_loss: 0.0576 - val_accuracy: 0.9836\n",
            "Epoch 10/15\n",
            "1407/1407 [==============================] - 12s 9ms/step - loss: 0.0252 - accuracy: 0.9920 - val_loss: 0.0771 - val_accuracy: 0.9778\n",
            "Epoch 11/15\n",
            "1407/1407 [==============================] - 13s 9ms/step - loss: 0.0205 - accuracy: 0.9937 - val_loss: 0.0599 - val_accuracy: 0.9841\n",
            "Epoch 12/15\n",
            "1407/1407 [==============================] - 12s 9ms/step - loss: 0.0168 - accuracy: 0.9946 - val_loss: 0.0648 - val_accuracy: 0.9849\n",
            "Epoch 13/15\n",
            "1407/1407 [==============================] - 12s 8ms/step - loss: 0.0154 - accuracy: 0.9948 - val_loss: 0.0627 - val_accuracy: 0.9841\n",
            "Epoch 14/15\n",
            "1407/1407 [==============================] - 10s 7ms/step - loss: 0.0126 - accuracy: 0.9959 - val_loss: 0.0598 - val_accuracy: 0.9853\n",
            "Epoch 15/15\n",
            "1407/1407 [==============================] - 11s 8ms/step - loss: 0.0107 - accuracy: 0.9962 - val_loss: 0.0670 - val_accuracy: 0.9851\n"
          ]
        }
      ]
    },
    {
      "cell_type": "code",
      "source": [
        "predictions1 = model2.predict(X_test1)"
      ],
      "metadata": {
        "id": "0ktKRAJv3ZiP"
      },
      "execution_count": null,
      "outputs": []
    },
    {
      "cell_type": "code",
      "source": [
        "Y_predict1 = predictions1.argmax(axis=1)\n",
        "Y_predict1 = predictions1.argmax(axis=-1)"
      ],
      "metadata": {
        "id": "YGwmyyjv3kpw"
      },
      "execution_count": 108,
      "outputs": []
    },
    {
      "cell_type": "code",
      "source": [
        "from sklearn.metrics import classification_report\n",
        "print(classification_report(Y_test1, Y_predict1))"
      ],
      "metadata": {
        "id": "K5r125gA3xSh"
      },
      "execution_count": null,
      "outputs": []
    },
    {
      "cell_type": "code",
      "source": [
        "pd.DataFrame(history.history).plot(figsize=(8,5))\n",
        "plt.show()"
      ],
      "metadata": {
        "colab": {
          "base_uri": "https://localhost:8080/",
          "height": 320
        },
        "id": "vD6ebFfB5sJX",
        "outputId": "39f1712c-f949-44e1-fdc4-69e2d9e5d2ea"
      },
      "execution_count": 100,
      "outputs": [
        {
          "output_type": "display_data",
          "data": {
            "text/plain": [
              "<Figure size 576x360 with 1 Axes>"
            ],
            "image/png": "[encoded data removed]"
          },
          "metadata": {
            "needs_background": "light"
          }
        }
      ]
    },
    {
      "cell_type": "code",
      "source": [
        "plt.plot(history.history['accuracy'])\n",
        "plt.plot(history.history['val_accuracy'])\n",
        "plt.title('model accuracy')\n",
        "plt.ylabel('accuracy')\n",
        "plt.xlabel('epoch')\n",
        "plt.legend(['train', 'val'], loc='upper left')\n",
        "plt.show()"
      ],
      "metadata": {
        "colab": {
          "base_uri": "https://localhost:8080/",
          "height": 295
        },
        "id": "1yGAs-tN50L_",
        "outputId": "d3b8a5d3-c328-423d-e55d-c5d99030bf8d"
      },
      "execution_count": 101,
      "outputs": [
        {
          "output_type": "display_data",
          "data": {
            "text/plain": [
              "<Figure size 432x288 with 1 Axes>"
            ],
            "image/png": "[encoded data removed]"
          },
          "metadata": {
            "needs_background": "light"
          }
        }
      ]
    },
    {
      "cell_type": "code",
      "source": [
        "plt.plot(history.history['loss'])\n",
        "plt.plot(history.history['val_loss'])\n",
        "plt.title('model loss')\n",
        "plt.ylabel('loss')\n",
        "plt.xlabel('epoch')\n",
        "plt.legend(['train', 'val'], loc='upper left')\n",
        "plt.show()"
      ],
      "metadata": {
        "colab": {
          "base_uri": "https://localhost:8080/",
          "height": 295
        },
        "id": "jRGGwRC655M-",
        "outputId": "37bb52af-40ea-43ce-d52d-b40b49ea572c"
      },
      "execution_count": 102,
      "outputs": [
        {
          "output_type": "display_data",
          "data": {
            "text/plain": [
              "<Figure size 432x288 with 1 Axes>"
            ],
            "image/png": "[encoded data removed]"
          },
          "metadata": {
            "needs_background": "light"
          }
        }
      ]
    }
  ]
}