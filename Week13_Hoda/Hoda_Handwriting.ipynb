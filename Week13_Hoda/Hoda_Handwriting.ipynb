{
 "cells": [
  {
   "cell_type": "code",
   "execution_count": 5,
   "id": "c57f8c4a-4f73-4dce-8a6f-232ee5eebd83",
   "metadata": {
    "tags": []
   },
   "outputs": [],
   "source": [
    "from HodaDatasetReader import read_hoda_cdb, read_hoda_dataset"
   ]
  },
  {
   "cell_type": "code",
   "execution_count": 141,
   "id": "f756c0aa-8846-4f25-bee5-2c6ab016af8b",
   "metadata": {
    "tags": []
   },
   "outputs": [],
   "source": [
    "import warnings\n",
    "warnings.filterwarnings(\"ignore\")"
   ]
  },
  {
   "cell_type": "code",
   "execution_count": 19,
   "id": "fcb4fc5b-df56-4e74-b170-4181545a1dc4",
   "metadata": {},
   "outputs": [],
   "source": [
    "from sklearn.model_selection import train_test_split\n",
    "import tensorflow as tf\n",
    "\n",
    "import logging\n",
    "tf.get_logger().setLevel(logging.ERROR)\n",
    "from tensorflow.keras.models import Sequential\n",
    "from tensorflow.keras.callbacks import TensorBoard\n",
    "from tensorflow.keras.layers import Activation,Flatten\n",
    "from tensorflow.keras.utils import to_categorical\n",
    "from tensorflow.keras.optimizers import SGD,Adam\n",
    "from tensorflow.keras.metrics import categorical_crossentropy\n",
    "import matplotlib.pyplot as plt\n",
    "import numpy as np\n",
    "import pandas as pd \n",
    "import os\n",
    "import cv2\n",
    "import pickle\n",
    "import random \n",
    "import time\n",
    "import zipfile\n",
    "from shutil import copyfile\n"
   ]
  },
  {
   "cell_type": "code",
   "execution_count": 20,
   "id": "6a07cb8e-89c9-47e6-a01a-72815bba9308",
   "metadata": {
    "tags": []
   },
   "outputs": [],
   "source": [
    "from keras.models import Sequential\n",
    "from keras.layers import Dense, Activation\n",
    "from keras.utils import to_categorical, plot_model"
   ]
  },
  {
   "cell_type": "markdown",
   "id": "ad3df167-3938-4d09-87d0-a7182292154f",
   "metadata": {},
   "source": [
    "## Import train dataset"
   ]
  },
  {
   "cell_type": "code",
   "execution_count": 23,
   "id": "9c0b7c6c-f4a9-4d9b-abd5-8dfce9913b9e",
   "metadata": {},
   "outputs": [],
   "source": [
    "X_train, y_train = read_hoda_dataset(dataset_path='Train 60000.cdb',\n",
    "                                images_height=32,\n",
    "                                images_width=32,\n",
    "                                one_hot=False,\n",
    "                                reshape=True)\n",
    "\n",
    "X_val = X_train[45000:]\n",
    "y_val = y_train[45000:]\n",
    "X_train = X_train[:45000]\n",
    "y_train = y_train[:45000]"
   ]
  },
  {
   "cell_type": "code",
   "execution_count": 145,
   "id": "bcda204b-0611-4845-9244-3e8b19e48e35",
   "metadata": {
    "tags": []
   },
   "outputs": [
    {
     "data": {
      "text/plain": [
       "(45000, 1024)"
      ]
     },
     "execution_count": 145,
     "metadata": {},
     "output_type": "execute_result"
    }
   ],
   "source": [
    "X_train.shape"
   ]
  },
  {
   "cell_type": "code",
   "execution_count": 146,
   "id": "3881fc88-fcfe-45f9-9759-3ff8a721e07f",
   "metadata": {
    "tags": []
   },
   "outputs": [
    {
     "data": {
      "text/plain": [
       "(15000, 1024)"
      ]
     },
     "execution_count": 146,
     "metadata": {},
     "output_type": "execute_result"
    }
   ],
   "source": [
    "X_val.shape"
   ]
  },
  {
   "cell_type": "markdown",
   "id": "4fb41cae-7bcb-414e-825c-76b02373d772",
   "metadata": {},
   "source": [
    "## Import Test dataset"
   ]
  },
  {
   "cell_type": "code",
   "execution_count": 26,
   "id": "3643c1bb-c51a-472f-9676-41903725647f",
   "metadata": {
    "tags": []
   },
   "outputs": [],
   "source": [
    "X_test, y_test = read_hoda_dataset(dataset_path='Test 20000.cdb',\n",
    "                                images_height=32,\n",
    "                                images_width=32,\n",
    "                                one_hot=False,\n",
    "                                reshape=True)"
   ]
  },
  {
   "cell_type": "code",
   "execution_count": 148,
   "id": "b9226d31-98df-437b-ba41-eeaf05d7b5c3",
   "metadata": {
    "tags": []
   },
   "outputs": [
    {
     "data": {
      "text/plain": [
       "(20000, 1024)"
      ]
     },
     "execution_count": 148,
     "metadata": {},
     "output_type": "execute_result"
    }
   ],
   "source": [
    "X_test.shape"
   ]
  },
  {
   "cell_type": "markdown",
   "id": "fc3f2f6f-605a-44a1-afdb-530db5711fbc",
   "metadata": {},
   "source": [
    "## reshape X_train , X_val,X_test"
   ]
  },
  {
   "cell_type": "code",
   "execution_count": 149,
   "id": "74b0b46f-1e50-4664-89af-b4a1b1779dbf",
   "metadata": {
    "tags": []
   },
   "outputs": [],
   "source": [
    "X_train = X_train.reshape(X_train.shape[0], 32, 32)\n",
    "X_test = X_test.reshape(X_test.shape[0], 32,32)\n",
    "X_val=X_val.reshape(X_val.shape[0], 32,32)"
   ]
  },
  {
   "cell_type": "code",
   "execution_count": 150,
   "id": "dcf664ad-483f-4b80-907c-a50358fc57e1",
   "metadata": {
    "tags": []
   },
   "outputs": [
    {
     "data": {
      "text/plain": [
       "(45000, 32, 32)"
      ]
     },
     "execution_count": 150,
     "metadata": {},
     "output_type": "execute_result"
    }
   ],
   "source": [
    "X_train.shape"
   ]
  },
  {
   "cell_type": "markdown",
   "id": "1e0d8246-50d8-4036-843a-68e68388e538",
   "metadata": {},
   "source": [
    "## Showing X_train"
   ]
  },
  {
   "cell_type": "code",
   "execution_count": 153,
   "id": "acc1be4f-b58f-442d-869b-8022011b6c49",
   "metadata": {
    "tags": []
   },
   "outputs": [
    {
     "data": {
      "image/png": "[encoded data removed]",
      "text/plain": [
       "<Figure size 640x480 with 9 Axes>"
      ]
     },
     "metadata": {},
     "output_type": "display_data"
    }
   ],
   "source": [
    "for i in range(9):\n",
    "    plt.subplot(330 + (i+1))\n",
    "    plt.imshow(X_train[i].squeeze(),cmap='gray' )\n",
    "    plt.axis('off')\n",
    "    plt.title(y_train[i])"
   ]
  },
  {
   "cell_type": "code",
   "execution_count": 154,
   "id": "3ff70a4a-4ca6-40d3-b108-af6d9e9dbad3",
   "metadata": {
    "tags": []
   },
   "outputs": [
    {
     "data": {
      "text/plain": [
       "dtype('float32')"
      ]
     },
     "execution_count": 154,
     "metadata": {},
     "output_type": "execute_result"
    }
   ],
   "source": [
    "y_train.dtype"
   ]
  },
  {
   "cell_type": "markdown",
   "id": "5867837e-c6a8-4b37-b591-ba7c6914f959",
   "metadata": {},
   "source": [
    "## Showing X_test"
   ]
  },
  {
   "cell_type": "code",
   "execution_count": 157,
   "id": "fe14c5e6-40df-4180-9c9f-4ba62c49619d",
   "metadata": {
    "tags": []
   },
   "outputs": [
    {
     "data": {
      "image/png": "[encoded data removed]",
      "text/plain": [
       "<Figure size 640x480 with 9 Axes>"
      ]
     },
     "metadata": {},
     "output_type": "display_data"
    }
   ],
   "source": [
    "for i in range(9):\n",
    "    plt.subplot(330 + (i+1))\n",
    "    plt.imshow(X_test[i].squeeze(),cmap='gray' )\n",
    "    plt.axis('off')\n",
    "    plt.title(y_test[i])"
   ]
  },
  {
   "cell_type": "code",
   "execution_count": 158,
   "id": "449b6cb0-1edf-4e2e-bcaf-4c40b48e0e78",
   "metadata": {
    "tags": []
   },
   "outputs": [],
   "source": [
    "X_train = X_train.reshape(X_train.shape[0], X_train.shape[1], X_train.shape[2], 1)\n",
    "X_test = X_test.reshape(X_test.shape[0], X_test.shape[1], X_test.shape[2], 1)\n",
    "X_val = X_val.reshape(X_val.shape[0], X_val.shape[1], X_val.shape[2], 1)\n"
   ]
  },
  {
   "cell_type": "code",
   "execution_count": 159,
   "id": "356959f7-c040-42e0-ab14-30aec35161d8",
   "metadata": {
    "tags": []
   },
   "outputs": [
    {
     "data": {
      "text/plain": [
       "(45000, 32, 32, 1)"
      ]
     },
     "execution_count": 159,
     "metadata": {},
     "output_type": "execute_result"
    }
   ],
   "source": [
    "X_train.shape"
   ]
  },
  {
   "cell_type": "markdown",
   "id": "43dabeca-16b0-4795-9c34-6b4c8637d629",
   "metadata": {},
   "source": [
    "## Normalization"
   ]
  },
  {
   "cell_type": "markdown",
   "id": "1766bb82-96ed-4434-855b-a53f1654a2e9",
   "metadata": {},
   "source": [
    "### The type of X_train ,X_test,X_val should be float64 and for Y group should be uint8"
   ]
  },
  {
   "cell_type": "code",
   "execution_count": 160,
   "id": "4561ac5a-e099-414b-a3a6-461916eed000",
   "metadata": {
    "tags": []
   },
   "outputs": [],
   "source": [
    "X_train, X_val, X_test = X_train / 255, X_val / 255, X_test/ 255"
   ]
  },
  {
   "cell_type": "code",
   "execution_count": 161,
   "id": "0084be33-938d-41df-a817-b692d586848d",
   "metadata": {
    "tags": []
   },
   "outputs": [
    {
     "data": {
      "text/plain": [
       "(45000,)"
      ]
     },
     "execution_count": 161,
     "metadata": {},
     "output_type": "execute_result"
    }
   ],
   "source": [
    "y_train.shape"
   ]
  },
  {
   "cell_type": "code",
   "execution_count": 162,
   "id": "ac2d425d-09a6-4f52-8b98-d8b2d6608446",
   "metadata": {
    "tags": []
   },
   "outputs": [
    {
     "data": {
      "text/plain": [
       "dtype('float32')"
      ]
     },
     "execution_count": 162,
     "metadata": {},
     "output_type": "execute_result"
    }
   ],
   "source": [
    "y_train.dtype"
   ]
  },
  {
   "cell_type": "code",
   "execution_count": 27,
   "id": "b0693f38-eead-40a0-8b51-59d74cb5b1ec",
   "metadata": {
    "tags": []
   },
   "outputs": [],
   "source": [
    "y_train = y_train.astype('uint8')\n",
    "y_test = y_test.astype('uint8')\n",
    "y_val = y_val.astype('uint8')"
   ]
  },
  {
   "cell_type": "code",
   "execution_count": 165,
   "id": "649f2272-3753-406c-bfa4-0224fda0e84e",
   "metadata": {
    "tags": []
   },
   "outputs": [
    {
     "data": {
      "text/plain": [
       "(45000,)"
      ]
     },
     "execution_count": 165,
     "metadata": {},
     "output_type": "execute_result"
    }
   ],
   "source": [
    "y_train.shape"
   ]
  },
  {
   "cell_type": "markdown",
   "id": "762565f5-1ea0-43da-b40a-197827f6b18b",
   "metadata": {},
   "source": [
    "## Identify the class of digits"
   ]
  },
  {
   "cell_type": "code",
   "execution_count": 28,
   "id": "96287236-3643-4628-849c-0a8168eed9fe",
   "metadata": {
    "tags": []
   },
   "outputs": [
    {
     "data": {
      "text/plain": [
       "6.0"
      ]
     },
     "execution_count": 28,
     "metadata": {},
     "output_type": "execute_result"
    }
   ],
   "source": [
    "class_names = [0.0, 1.0, 2.0,3.0,4.0,5.0,6.0,7.0,8.0,9.0]\n",
    "class_names[y_train[0]]"
   ]
  },
  {
   "cell_type": "code",
   "execution_count": 168,
   "id": "a73cf403-7f20-4147-bf30-861aff3c6d06",
   "metadata": {
    "tags": []
   },
   "outputs": [
    {
     "data": {
      "text/plain": [
       "(20000,)"
      ]
     },
     "execution_count": 168,
     "metadata": {},
     "output_type": "execute_result"
    }
   ],
   "source": [
    "y_test.shape"
   ]
  },
  {
   "cell_type": "markdown",
   "id": "9a88ac62-2392-40e9-affe-8750e312757d",
   "metadata": {},
   "source": [
    "# 1.Sequentional"
   ]
  },
  {
   "cell_type": "code",
   "execution_count": 169,
   "id": "90d31a00-c9a2-4a4f-9dc4-54afd178c5f1",
   "metadata": {
    "tags": []
   },
   "outputs": [],
   "source": [
    "tf.random.set_seed(42)\n",
    "model = tf.keras.Sequential([\n",
    "tf.keras.layers.Flatten(input_shape=[32, 32]),\n",
    "tf.keras.layers.Dense(300, activation=\"relu\"),\n",
    "tf.keras.layers.Dense(100, activation=\"relu\"),\n",
    "tf.keras.layers.Dense(10, activation=\"softmax\")\n",
    "])"
   ]
  },
  {
   "cell_type": "code",
   "execution_count": 170,
   "id": "e93f6643-6392-412b-afe4-76a2e31e2201",
   "metadata": {
    "tags": []
   },
   "outputs": [
    {
     "name": "stdout",
     "output_type": "stream",
     "text": [
      "Model: \"sequential\"\n",
      "_________________________________________________________________\n",
      " Layer (type)                Output Shape              Param #   \n",
      "=================================================================\n",
      " flatten (Flatten)           (None, 1024)              0         \n",
      "                                                                 \n",
      " dense (Dense)               (None, 300)               307500    \n",
      "                                                                 \n",
      " dense_1 (Dense)             (None, 100)               30100     \n",
      "                                                                 \n",
      " dense_2 (Dense)             (None, 10)                1010      \n",
      "                                                                 \n",
      "=================================================================\n",
      "Total params: 338,610\n",
      "Trainable params: 338,610\n",
      "Non-trainable params: 0\n",
      "_________________________________________________________________\n"
     ]
    }
   ],
   "source": [
    "model.summary()"
   ]
  },
  {
   "cell_type": "code",
   "execution_count": 171,
   "id": "45d3780b-502c-4846-8f2b-0afb7e47c0d8",
   "metadata": {
    "tags": []
   },
   "outputs": [
    {
     "data": {
      "text/plain": [
       "[<keras.layers.reshaping.flatten.Flatten at 0x7f9b7114d030>,\n",
       " <keras.layers.core.dense.Dense at 0x7f9b70fb5570>,\n",
       " <keras.layers.core.dense.Dense at 0x7f9b70fb7a30>,\n",
       " <keras.layers.core.dense.Dense at 0x7f9b70fb6890>]"
      ]
     },
     "execution_count": 171,
     "metadata": {},
     "output_type": "execute_result"
    }
   ],
   "source": [
    "model.layers"
   ]
  },
  {
   "cell_type": "code",
   "execution_count": 172,
   "id": "db3b7eee-6288-4d89-87d0-066b2287acab",
   "metadata": {
    "tags": []
   },
   "outputs": [],
   "source": [
    "model.compile(loss=\"sparse_categorical_crossentropy\",\n",
    "optimizer=\"Adam\",\n",
    "metrics=[\"accuracy\"])"
   ]
  },
  {
   "cell_type": "code",
   "execution_count": 173,
   "id": "b378d4ba-b062-4032-985b-317102ccee7e",
   "metadata": {
    "tags": []
   },
   "outputs": [
    {
     "name": "stderr",
     "output_type": "stream",
     "text": [
      "2023-02-14 21:28:11.395614: W tensorflow/tsl/framework/cpu_allocator_impl.cc:82] Allocation of 184320000 exceeds 10% of free system memory.\n"
     ]
    },
    {
     "name": "stdout",
     "output_type": "stream",
     "text": [
      "Epoch 1/10\n",
      "1406/1407 [============================>.] - ETA: 0s - loss: 0.4461 - accuracy: 0.8812"
     ]
    },
    {
     "name": "stderr",
     "output_type": "stream",
     "text": [
      "2023-02-14 21:28:35.561371: W tensorflow/tsl/framework/cpu_allocator_impl.cc:82] Allocation of 61440000 exceeds 10% of free system memory.\n"
     ]
    },
    {
     "name": "stdout",
     "output_type": "stream",
     "text": [
      "1407/1407 [==============================] - 24s 14ms/step - loss: 0.4461 - accuracy: 0.8812 - val_loss: 0.2013 - val_accuracy: 0.9443\n",
      "Epoch 2/10\n",
      "1407/1407 [==============================] - 19s 14ms/step - loss: 0.1679 - accuracy: 0.9506 - val_loss: 0.1552 - val_accuracy: 0.9593\n",
      "Epoch 3/10\n",
      "1407/1407 [==============================] - 19s 14ms/step - loss: 0.1329 - accuracy: 0.9619 - val_loss: 0.1369 - val_accuracy: 0.9607\n",
      "Epoch 4/10\n",
      "1407/1407 [==============================] - 22s 16ms/step - loss: 0.1091 - accuracy: 0.9696 - val_loss: 0.1150 - val_accuracy: 0.9671\n",
      "Epoch 5/10\n",
      "1407/1407 [==============================] - 20s 14ms/step - loss: 0.0908 - accuracy: 0.9745 - val_loss: 0.1024 - val_accuracy: 0.9711\n",
      "Epoch 6/10\n",
      "1407/1407 [==============================] - 20s 14ms/step - loss: 0.0765 - accuracy: 0.9781 - val_loss: 0.0865 - val_accuracy: 0.9760\n",
      "Epoch 7/10\n",
      "1407/1407 [==============================] - 20s 14ms/step - loss: 0.0642 - accuracy: 0.9823 - val_loss: 0.0805 - val_accuracy: 0.9777\n",
      "Epoch 8/10\n",
      "1407/1407 [==============================] - 26s 18ms/step - loss: 0.0547 - accuracy: 0.9845 - val_loss: 0.0765 - val_accuracy: 0.9786\n",
      "Epoch 9/10\n",
      "1407/1407 [==============================] - 23s 16ms/step - loss: 0.0463 - accuracy: 0.9864 - val_loss: 0.0655 - val_accuracy: 0.9822\n",
      "Epoch 10/10\n",
      "1407/1407 [==============================] - 23s 16ms/step - loss: 0.0393 - accuracy: 0.9886 - val_loss: 0.0653 - val_accuracy: 0.9812\n"
     ]
    }
   ],
   "source": [
    "history = model.fit(X_train, y_train, epochs=10,\n",
    "validation_data=(X_val, y_val))"
   ]
  },
  {
   "cell_type": "code",
   "execution_count": 174,
   "id": "2e71305a-b513-4f71-98f8-a03b3cceb6a4",
   "metadata": {
    "tags": []
   },
   "outputs": [
    {
     "data": {
      "image/png": "[encoded data removed]",
      "text/plain": [
       "<Figure size 800x500 with 1 Axes>"
      ]
     },
     "metadata": {},
     "output_type": "display_data"
    }
   ],
   "source": [
    "pd.DataFrame(history.history).plot(\n",
    "figsize=(8, 5), xlim=[0, 29], ylim=[0, 1], grid=True,\n",
    "xlabel=\"Epoch\",\n",
    "style=[\"r--\", \"r--.\", \"b-\", \"b-*\"])\n",
    "plt.show()"
   ]
  },
  {
   "cell_type": "markdown",
   "id": "3f4f08d7-8d40-4665-a6a9-e0065cbcf2b8",
   "metadata": {},
   "source": [
    "## Test Model with X_test"
   ]
  },
  {
   "cell_type": "code",
   "execution_count": 176,
   "id": "9b298aa6-dcc6-4627-afc5-9813b9c14ffa",
   "metadata": {},
   "outputs": [
    {
     "name": "stderr",
     "output_type": "stream",
     "text": [
      "2023-02-14 21:33:10.831609: W tensorflow/tsl/framework/cpu_allocator_impl.cc:82] Allocation of 81920000 exceeds 10% of free system memory.\n"
     ]
    },
    {
     "name": "stdout",
     "output_type": "stream",
     "text": [
      "625/625 [==============================] - 3s 4ms/step\n",
      "[[1.   0.   0.   ... 0.   0.   0.  ]\n",
      " [1.   0.   0.   ... 0.   0.   0.  ]\n",
      " [0.76 0.05 0.   ... 0.01 0.   0.  ]\n",
      " ...\n",
      " [0.   0.3  0.   ... 0.   0.   0.61]\n",
      " [0.   0.   0.   ... 0.   0.   1.  ]\n",
      " [0.   0.   0.   ... 0.   0.   1.  ]]\n"
     ]
    }
   ],
   "source": [
    "X_new = X_test\n",
    "y_proba = model.predict(X_new)\n",
    "print(y_proba.round(2))"
   ]
  },
  {
   "cell_type": "code",
   "execution_count": 177,
   "id": "f2c06466-3b35-4ea1-8f5d-700c46f3fe70",
   "metadata": {
    "tags": []
   },
   "outputs": [],
   "source": [
    "y_pred = y_proba.argmax(axis=1)\n",
    "y_pred = y_proba.argmax(axis=-1)"
   ]
  },
  {
   "cell_type": "code",
   "execution_count": 178,
   "id": "4bd1a0ea-11c0-4c0b-a62d-3f5af94c1d9d",
   "metadata": {
    "tags": []
   },
   "outputs": [
    {
     "data": {
      "text/plain": [
       "array([0., 0., 0., ..., 9., 9., 9.])"
      ]
     },
     "execution_count": 178,
     "metadata": {},
     "output_type": "execute_result"
    }
   ],
   "source": [
    "np.array(class_names)[y_pred]"
   ]
  },
  {
   "cell_type": "code",
   "execution_count": 198,
   "id": "cc5c0fd5-8cd4-4ad4-8523-97470dbd12d9",
   "metadata": {},
   "outputs": [
    {
     "name": "stdout",
     "output_type": "stream",
     "text": [
      "              precision    recall  f1-score   support\n",
      "\n",
      "           0       0.98      0.99      0.99      2000\n",
      "           1       0.97      0.99      0.98      2000\n",
      "           2       0.91      0.96      0.94      2000\n",
      "           3       0.94      0.92      0.93      2000\n",
      "           4       0.96      0.92      0.94      2000\n",
      "           5       0.98      0.98      0.98      2000\n",
      "           6       0.97      0.96      0.96      2000\n",
      "           7       0.99      0.96      0.98      2000\n",
      "           8       0.98      0.98      0.98      2000\n",
      "           9       0.96      0.97      0.96      2000\n",
      "\n",
      "    accuracy                           0.96     20000\n",
      "   macro avg       0.96      0.96      0.96     20000\n",
      "weighted avg       0.96      0.96      0.96     20000\n",
      "\n"
     ]
    }
   ],
   "source": [
    "from sklearn.metrics import classification_report\n",
    "print(classification_report(y_test, y_pred))"
   ]
  },
  {
   "cell_type": "markdown",
   "id": "ed55b453-f877-4ab5-b060-b5c253a1bb32",
   "metadata": {},
   "source": [
    "# Saving model"
   ]
  },
  {
   "cell_type": "code",
   "execution_count": 3,
   "id": "998a25b4-67b5-4474-ac31-93b80bbcbe90",
   "metadata": {
    "tags": []
   },
   "outputs": [],
   "source": [
    "from tensorflow.keras.models import Sequential, save_model, load_model"
   ]
  },
  {
   "cell_type": "code",
   "execution_count": 181,
   "id": "482d7c4c-506c-470f-bc57-7978034db914",
   "metadata": {
    "tags": []
   },
   "outputs": [
    {
     "name": "stderr",
     "output_type": "stream",
     "text": [
      "WARNING:absl:Found untraced functions such as _update_step_xla while saving (showing 1 of 1). These functions will not be directly callable after loading.\n"
     ]
    }
   ],
   "source": [
    "# Save the model\n",
    "filepath = 'Sequentional'\n",
    "save_model(model, filepath)"
   ]
  },
  {
   "cell_type": "markdown",
   "id": "8443a3f8-e919-4138-aabb-baef12e952c4",
   "metadata": {},
   "source": [
    "# Load model"
   ]
  },
  {
   "cell_type": "code",
   "execution_count": 182,
   "id": "edf7cbd7-7fef-40de-a37f-ce1cb7e8b4e1",
   "metadata": {
    "tags": []
   },
   "outputs": [],
   "source": [
    "filepath = 'Sequentional'\n",
    "model_S = load_model(filepath, compile = True)"
   ]
  },
  {
   "cell_type": "markdown",
   "id": "010f7a2c-ece8-4245-9a17-ce5b9c5fe1f8",
   "metadata": {},
   "source": [
    "# ****************************************************************************************\n"
   ]
  },
  {
   "cell_type": "markdown",
   "id": "de11c632-476d-46a9-b709-250ba278765f",
   "metadata": {},
   "source": [
    "# 2.Functional"
   ]
  },
  {
   "cell_type": "code",
   "execution_count": 183,
   "id": "cd2259ea-c974-48a4-a3f1-f7e7a754b08a",
   "metadata": {
    "tags": []
   },
   "outputs": [],
   "source": [
    "import numpy as np\n",
    "import tensorflow as tf\n",
    "from tensorflow import keras\n",
    "from tensorflow.keras import layers\n"
   ]
  },
  {
   "cell_type": "markdown",
   "id": "59aa87de-c09f-4ec8-afef-b6312af9e702",
   "metadata": {},
   "source": [
    "### The shape of images are diffrent from sequentional model so read dataset again "
   ]
  },
  {
   "cell_type": "code",
   "execution_count": 185,
   "id": "c1209536-3e3a-440c-81b1-74ed67b34e62",
   "metadata": {
    "tags": []
   },
   "outputs": [],
   "source": [
    "X_train1, y_train1 = read_hoda_dataset(dataset_path='Train 60000.cdb',\n",
    "                                images_height=32,\n",
    "                                images_width=32,\n",
    "                                one_hot=False,\n",
    "                                reshape=True)\n",
    "\n",
    "X_val1 = X_train1[45000:]/255\n",
    "y_val1 = y_train1[45000:]\n",
    "X_train1 = X_train1[:45000]/255\n",
    "y_train1 = y_train1[:45000]"
   ]
  },
  {
   "cell_type": "code",
   "execution_count": 6,
   "id": "3bf69e22-f725-44e4-8ca9-48fe5283e77d",
   "metadata": {
    "tags": []
   },
   "outputs": [],
   "source": [
    "X_test1, y_test1 = read_hoda_dataset(dataset_path='Test 20000.cdb',\n",
    "                                images_height=32,\n",
    "                                images_width=32,\n",
    "                                one_hot=False,\n",
    "                                reshape=True)\n",
    "X_test1 = X_test1/255\n",
    "y_test1 = y_test1"
   ]
  },
  {
   "cell_type": "code",
   "execution_count": null,
   "id": "a715b7f4-7c67-4923-9b73-dd7d4e1cd52f",
   "metadata": {},
   "outputs": [],
   "source": []
  },
  {
   "cell_type": "code",
   "execution_count": 186,
   "id": "10f87bed-4aa0-4ccc-9694-8571c08e504a",
   "metadata": {
    "tags": []
   },
   "outputs": [
    {
     "data": {
      "text/plain": [
       "(45000, 1024)"
      ]
     },
     "execution_count": 186,
     "metadata": {},
     "output_type": "execute_result"
    }
   ],
   "source": [
    "X_train1.shape"
   ]
  },
  {
   "cell_type": "code",
   "execution_count": 13,
   "id": "db80ff4f-48ab-44f5-977a-25ceb1c0936b",
   "metadata": {},
   "outputs": [],
   "source": [
    "X_test1, y_test1 = read_hoda_dataset(dataset_path='Test 20000.cdb',\n",
    "                                images_height=32,\n",
    "                                images_width=32,\n",
    "                                one_hot=False,\n",
    "                                reshape=True)\n",
    "X_test1=X_test1/255\n",
    "X_test1 = X_test1.reshape(X_test1.shape[0], 32, 32)"
   ]
  },
  {
   "cell_type": "code",
   "execution_count": 14,
   "id": "fdfd7b53-86b7-4ad9-bd74-a0dea2bb7ba2",
   "metadata": {
    "tags": []
   },
   "outputs": [
    {
     "data": {
      "text/plain": [
       "(20000, 32, 32)"
      ]
     },
     "execution_count": 14,
     "metadata": {},
     "output_type": "execute_result"
    }
   ],
   "source": [
    "X_test1.shape"
   ]
  },
  {
   "cell_type": "code",
   "execution_count": 231,
   "id": "44b5fbb8-e123-4a00-8305-25c101820532",
   "metadata": {
    "tags": []
   },
   "outputs": [],
   "source": [
    "inputs = keras.Input(shape=(1024,))"
   ]
  },
  {
   "cell_type": "code",
   "execution_count": 232,
   "id": "49505d68-cf98-4752-aba9-6c7e19120d96",
   "metadata": {
    "tags": []
   },
   "outputs": [
    {
     "data": {
      "text/plain": [
       "TensorShape([None, 1024])"
      ]
     },
     "execution_count": 232,
     "metadata": {},
     "output_type": "execute_result"
    }
   ],
   "source": [
    "inputs.shape\n"
   ]
  },
  {
   "cell_type": "code",
   "execution_count": 233,
   "id": "3ca54ac5-c589-426a-8f0c-8bd87e7363cc",
   "metadata": {
    "tags": []
   },
   "outputs": [
    {
     "data": {
      "text/plain": [
       "tf.float32"
      ]
     },
     "execution_count": 233,
     "metadata": {},
     "output_type": "execute_result"
    }
   ],
   "source": [
    "inputs.dtype"
   ]
  },
  {
   "cell_type": "code",
   "execution_count": 234,
   "id": "22c2900c-4d32-438a-9901-c48a15d04f33",
   "metadata": {},
   "outputs": [],
   "source": [
    "hidden1 = layers.Dense(300, activation=\"relu\")(inputs)\n",
    "hidden2 = layers.Dense(100, activation=\"relu\")(hidden1)\n",
    "hidden3 = layers.Dense(100, activation=\"relu\")(hidden2)\n",
    "concat = layers.concatenate([inputs, hidden3])\n",
    "outputs = layers.Dense(10, activation=\"softmax\")(concat)\n"
   ]
  },
  {
   "cell_type": "code",
   "execution_count": 235,
   "id": "e2350535-c429-43f4-b4a1-00ef1e8c611b",
   "metadata": {
    "tags": []
   },
   "outputs": [],
   "source": [
    "model_F = keras.Model(inputs=inputs, outputs=outputs,name=\"hoda\")\n"
   ]
  },
  {
   "cell_type": "code",
   "execution_count": 236,
   "id": "55b44deb-3d8e-4b6f-ba37-a65b428e5de4",
   "metadata": {
    "tags": []
   },
   "outputs": [
    {
     "name": "stdout",
     "output_type": "stream",
     "text": [
      "Model: \"hoda\"\n",
      "__________________________________________________________________________________________________\n",
      " Layer (type)                   Output Shape         Param #     Connected to                     \n",
      "==================================================================================================\n",
      " input_2 (InputLayer)           [(None, 1024)]       0           []                               \n",
      "                                                                                                  \n",
      " dense_7 (Dense)                (None, 300)          307500      ['input_2[0][0]']                \n",
      "                                                                                                  \n",
      " dense_8 (Dense)                (None, 100)          30100       ['dense_7[0][0]']                \n",
      "                                                                                                  \n",
      " dense_9 (Dense)                (None, 100)          10100       ['dense_8[0][0]']                \n",
      "                                                                                                  \n",
      " concatenate_1 (Concatenate)    (None, 1124)         0           ['input_2[0][0]',                \n",
      "                                                                  'dense_9[0][0]']                \n",
      "                                                                                                  \n",
      " dense_10 (Dense)               (None, 10)           11250       ['concatenate_1[0][0]']          \n",
      "                                                                                                  \n",
      "==================================================================================================\n",
      "Total params: 358,950\n",
      "Trainable params: 358,950\n",
      "Non-trainable params: 0\n",
      "__________________________________________________________________________________________________\n"
     ]
    }
   ],
   "source": [
    "model_F.summary()"
   ]
  },
  {
   "cell_type": "code",
   "execution_count": 237,
   "id": "4fa889ef-7b81-40e6-aa78-81860d5525c6",
   "metadata": {
    "tags": []
   },
   "outputs": [],
   "source": [
    "model_F.compile(loss=\"sparse_categorical_crossentropy\",\n",
    "optimizer=\"Adam\",\n",
    "metrics=[\"accuracy\"])"
   ]
  },
  {
   "cell_type": "code",
   "execution_count": 238,
   "id": "c66c7d0a-e5a3-422b-b03b-1cf6f5fc1304",
   "metadata": {
    "tags": []
   },
   "outputs": [
    {
     "name": "stdout",
     "output_type": "stream",
     "text": [
      "Epoch 1/10\n",
      "1407/1407 [==============================] - 28s 17ms/step - loss: 0.4907 - accuracy: 0.8478 - val_loss: 0.2168 - val_accuracy: 0.9397\n",
      "Epoch 2/10\n",
      "1407/1407 [==============================] - 20s 14ms/step - loss: 0.1725 - accuracy: 0.9505 - val_loss: 0.1486 - val_accuracy: 0.9591\n",
      "Epoch 3/10\n",
      "1407/1407 [==============================] - 20s 14ms/step - loss: 0.1205 - accuracy: 0.9652 - val_loss: 0.1142 - val_accuracy: 0.9666\n",
      "Epoch 4/10\n",
      "1407/1407 [==============================] - 21s 15ms/step - loss: 0.0877 - accuracy: 0.9750 - val_loss: 0.0924 - val_accuracy: 0.9717\n",
      "Epoch 5/10\n",
      "1407/1407 [==============================] - 21s 15ms/step - loss: 0.0677 - accuracy: 0.9800 - val_loss: 0.0776 - val_accuracy: 0.9785\n",
      "Epoch 6/10\n",
      "1407/1407 [==============================] - 21s 15ms/step - loss: 0.0529 - accuracy: 0.9843 - val_loss: 0.0682 - val_accuracy: 0.9795\n",
      "Epoch 7/10\n",
      "1407/1407 [==============================] - 20s 14ms/step - loss: 0.0442 - accuracy: 0.9868 - val_loss: 0.0752 - val_accuracy: 0.9782\n",
      "Epoch 8/10\n",
      "1407/1407 [==============================] - 19s 14ms/step - loss: 0.0373 - accuracy: 0.9884 - val_loss: 0.0629 - val_accuracy: 0.9819\n",
      "Epoch 9/10\n",
      "1407/1407 [==============================] - 21s 15ms/step - loss: 0.0289 - accuracy: 0.9907 - val_loss: 0.0569 - val_accuracy: 0.9843\n",
      "Epoch 10/10\n",
      "1407/1407 [==============================] - 20s 14ms/step - loss: 0.0249 - accuracy: 0.9924 - val_loss: 0.0630 - val_accuracy: 0.9837\n"
     ]
    }
   ],
   "source": [
    "history_F = model_F.fit(X_train1, y_train1, epochs=10,\n",
    "validation_data=(X_val1, y_val1))"
   ]
  },
  {
   "cell_type": "code",
   "execution_count": 239,
   "id": "83f5af6c-ada8-464a-bc9b-faaf26e46bde",
   "metadata": {
    "tags": []
   },
   "outputs": [
    {
     "data": {
      "image/png": "[encoded data removed]",
      "text/plain": [
       "<Figure size 800x500 with 1 Axes>"
      ]
     },
     "metadata": {},
     "output_type": "display_data"
    }
   ],
   "source": [
    "pd.DataFrame(history_F.history).plot(\n",
    "figsize=(8, 5), xlim=[0, 29], ylim=[0, 1], grid=True,\n",
    "xlabel=\"Epoch\",\n",
    "style=[\"r--\", \"r--.\", \"b-\", \"b-*\"])\n",
    "plt.show()"
   ]
  },
  {
   "cell_type": "markdown",
   "id": "444df7a9-c5db-4302-829d-b33e0ea877a9",
   "metadata": {},
   "source": [
    "# Save model"
   ]
  },
  {
   "cell_type": "code",
   "execution_count": 240,
   "id": "cf8b5087-fc15-4774-b84f-24cbf7050fea",
   "metadata": {},
   "outputs": [
    {
     "name": "stderr",
     "output_type": "stream",
     "text": [
      "WARNING:absl:Found untraced functions such as _update_step_xla while saving (showing 1 of 1). These functions will not be directly callable after loading.\n"
     ]
    }
   ],
   "source": [
    "# Save the model\n",
    "filepath = 'Functional'\n",
    "save_model(model, filepath)"
   ]
  },
  {
   "cell_type": "code",
   "execution_count": 9,
   "id": "fc89fd9f-7ac3-46f6-9afe-72b123569089",
   "metadata": {
    "tags": []
   },
   "outputs": [],
   "source": [
    "filepath = 'Save_Functional'\n",
    "model_F1 = load_model(filepath, compile = True)"
   ]
  },
  {
   "cell_type": "markdown",
   "id": "6f9ee325-dec4-416d-ae33-614c99fd2913",
   "metadata": {},
   "source": [
    "# Test model with X_test1"
   ]
  },
  {
   "cell_type": "code",
   "execution_count": 16,
   "id": "d93a7117-2729-4f54-8d60-caa439d8629c",
   "metadata": {
    "tags": []
   },
   "outputs": [
    {
     "name": "stdout",
     "output_type": "stream",
     "text": [
      " 13/625 [..............................] - ETA: 2s "
     ]
    },
    {
     "name": "stderr",
     "output_type": "stream",
     "text": [
      "2023-02-15 17:07:23.598943: W tensorflow/tsl/framework/cpu_allocator_impl.cc:82] Allocation of 81920000 exceeds 10% of free system memory.\n"
     ]
    },
    {
     "name": "stdout",
     "output_type": "stream",
     "text": [
      "625/625 [==============================] - 3s 4ms/step\n",
      "[[1.   0.   0.   ... 0.   0.   0.  ]\n",
      " [1.   0.   0.   ... 0.   0.   0.  ]\n",
      " [0.76 0.05 0.   ... 0.01 0.   0.  ]\n",
      " ...\n",
      " [0.   0.3  0.   ... 0.   0.   0.61]\n",
      " [0.   0.   0.   ... 0.   0.   1.  ]\n",
      " [0.   0.   0.   ... 0.   0.   1.  ]]\n"
     ]
    }
   ],
   "source": [
    "X_new1 = X_test1\n",
    "y_proba1 = model_F1.predict(X_new1)\n",
    "print(y_proba1.round(2))"
   ]
  },
  {
   "cell_type": "code",
   "execution_count": 17,
   "id": "bc154bfa-bb1f-4457-903b-8e2ac4294f1a",
   "metadata": {
    "tags": []
   },
   "outputs": [],
   "source": [
    "y_pred1 = y_proba1.argmax(axis=1)\n",
    "y_pred1 = y_proba1.argmax(axis=-1)"
   ]
  },
  {
   "cell_type": "code",
   "execution_count": 29,
   "id": "4f3d172d-df86-46df-a80e-5521d3ff000f",
   "metadata": {
    "tags": []
   },
   "outputs": [
    {
     "data": {
      "text/plain": [
       "array([0., 0., 0., ..., 9., 9., 9.])"
      ]
     },
     "execution_count": 29,
     "metadata": {},
     "output_type": "execute_result"
    }
   ],
   "source": [
    "np.array(class_names)[y_pred1]"
   ]
  },
  {
   "cell_type": "code",
   "execution_count": 30,
   "id": "a436d0a9-2422-4664-b168-48ed5594fce6",
   "metadata": {
    "tags": []
   },
   "outputs": [
    {
     "name": "stdout",
     "output_type": "stream",
     "text": [
      "              precision    recall  f1-score   support\n",
      "\n",
      "         0.0       0.98      0.99      0.99      2000\n",
      "         1.0       0.97      0.99      0.98      2000\n",
      "         2.0       0.91      0.96      0.94      2000\n",
      "         3.0       0.94      0.92      0.93      2000\n",
      "         4.0       0.96      0.92      0.94      2000\n",
      "         5.0       0.98      0.98      0.98      2000\n",
      "         6.0       0.97      0.96      0.96      2000\n",
      "         7.0       0.99      0.96      0.98      2000\n",
      "         8.0       0.98      0.98      0.98      2000\n",
      "         9.0       0.96      0.97      0.96      2000\n",
      "\n",
      "    accuracy                           0.96     20000\n",
      "   macro avg       0.96      0.96      0.96     20000\n",
      "weighted avg       0.96      0.96      0.96     20000\n",
      "\n"
     ]
    }
   ],
   "source": [
    "from sklearn.metrics import classification_report\n",
    "print(classification_report(y_test1, y_pred1))"
   ]
  },
  {
   "cell_type": "markdown",
   "id": "f0cacd09-84b0-4f4b-af45-02bb4fc750ab",
   "metadata": {},
   "source": [
    "# Compare two models"
   ]
  },
  {
   "cell_type": "code",
   "execution_count": 241,
   "id": "5c4570a6-8b75-4f8a-918d-27efd566b4d7",
   "metadata": {
    "tags": []
   },
   "outputs": [
    {
     "name": "stdout",
     "output_type": "stream",
     "text": [
      "Sequentional\n"
     ]
    },
    {
     "data": {
      "text/html": [
       "<div>\n",
       "<style scoped>\n",
       "    .dataframe tbody tr th:only-of-type {\n",
       "        vertical-align: middle;\n",
       "    }\n",
       "\n",
       "    .dataframe tbody tr th {\n",
       "        vertical-align: top;\n",
       "    }\n",
       "\n",
       "    .dataframe thead th {\n",
       "        text-align: right;\n",
       "    }\n",
       "</style>\n",
       "<table border=\"1\" class=\"dataframe\">\n",
       "  <thead>\n",
       "    <tr style=\"text-align: right;\">\n",
       "      <th></th>\n",
       "      <th>loss</th>\n",
       "      <th>accuracy</th>\n",
       "      <th>val_loss</th>\n",
       "      <th>val_accuracy</th>\n",
       "    </tr>\n",
       "  </thead>\n",
       "  <tbody>\n",
       "    <tr>\n",
       "      <th>0</th>\n",
       "      <td>0.446119</td>\n",
       "      <td>0.881200</td>\n",
       "      <td>0.201282</td>\n",
       "      <td>0.944333</td>\n",
       "    </tr>\n",
       "    <tr>\n",
       "      <th>1</th>\n",
       "      <td>0.167856</td>\n",
       "      <td>0.950600</td>\n",
       "      <td>0.155186</td>\n",
       "      <td>0.959267</td>\n",
       "    </tr>\n",
       "    <tr>\n",
       "      <th>2</th>\n",
       "      <td>0.132914</td>\n",
       "      <td>0.961889</td>\n",
       "      <td>0.136909</td>\n",
       "      <td>0.960667</td>\n",
       "    </tr>\n",
       "    <tr>\n",
       "      <th>3</th>\n",
       "      <td>0.109112</td>\n",
       "      <td>0.969556</td>\n",
       "      <td>0.114958</td>\n",
       "      <td>0.967067</td>\n",
       "    </tr>\n",
       "    <tr>\n",
       "      <th>4</th>\n",
       "      <td>0.090840</td>\n",
       "      <td>0.974467</td>\n",
       "      <td>0.102356</td>\n",
       "      <td>0.971133</td>\n",
       "    </tr>\n",
       "    <tr>\n",
       "      <th>5</th>\n",
       "      <td>0.076526</td>\n",
       "      <td>0.978067</td>\n",
       "      <td>0.086527</td>\n",
       "      <td>0.976000</td>\n",
       "    </tr>\n",
       "    <tr>\n",
       "      <th>6</th>\n",
       "      <td>0.064182</td>\n",
       "      <td>0.982333</td>\n",
       "      <td>0.080500</td>\n",
       "      <td>0.977667</td>\n",
       "    </tr>\n",
       "    <tr>\n",
       "      <th>7</th>\n",
       "      <td>0.054709</td>\n",
       "      <td>0.984511</td>\n",
       "      <td>0.076516</td>\n",
       "      <td>0.978600</td>\n",
       "    </tr>\n",
       "    <tr>\n",
       "      <th>8</th>\n",
       "      <td>0.046287</td>\n",
       "      <td>0.986378</td>\n",
       "      <td>0.065470</td>\n",
       "      <td>0.982200</td>\n",
       "    </tr>\n",
       "    <tr>\n",
       "      <th>9</th>\n",
       "      <td>0.039275</td>\n",
       "      <td>0.988644</td>\n",
       "      <td>0.065344</td>\n",
       "      <td>0.981200</td>\n",
       "    </tr>\n",
       "  </tbody>\n",
       "</table>\n",
       "</div>"
      ],
      "text/plain": [
       "       loss  accuracy  val_loss  val_accuracy\n",
       "0  0.446119  0.881200  0.201282      0.944333\n",
       "1  0.167856  0.950600  0.155186      0.959267\n",
       "2  0.132914  0.961889  0.136909      0.960667\n",
       "3  0.109112  0.969556  0.114958      0.967067\n",
       "4  0.090840  0.974467  0.102356      0.971133\n",
       "5  0.076526  0.978067  0.086527      0.976000\n",
       "6  0.064182  0.982333  0.080500      0.977667\n",
       "7  0.054709  0.984511  0.076516      0.978600\n",
       "8  0.046287  0.986378  0.065470      0.982200\n",
       "9  0.039275  0.988644  0.065344      0.981200"
      ]
     },
     "execution_count": 245,
     "metadata": {},
     "output_type": "execute_result"
    }
   ],
   "source": [
    "print('Sequentional')\n",
    "history_dataframe = pd.DataFrame(history.history)\n",
    "history_dataframe"
   ]
  },
  {
   "cell_type": "code",
   "execution_count": 246,
   "id": "e07602f8-9d3c-40a5-b50d-def41be8cbf7",
   "metadata": {
    "tags": []
   },
   "outputs": [
    {
     "name": "stdout",
     "output_type": "stream",
     "text": [
      "Functional\n"
     ]
    },
    {
     "data": {
      "text/html": [
       "<div>\n",
       "<style scoped>\n",
       "    .dataframe tbody tr th:only-of-type {\n",
       "        vertical-align: middle;\n",
       "    }\n",
       "\n",
       "    .dataframe tbody tr th {\n",
       "        vertical-align: top;\n",
       "    }\n",
       "\n",
       "    .dataframe thead th {\n",
       "        text-align: right;\n",
       "    }\n",
       "</style>\n",
       "<table border=\"1\" class=\"dataframe\">\n",
       "  <thead>\n",
       "    <tr style=\"text-align: right;\">\n",
       "      <th></th>\n",
       "      <th>loss</th>\n",
       "      <th>accuracy</th>\n",
       "      <th>val_loss</th>\n",
       "      <th>val_accuracy</th>\n",
       "    </tr>\n",
       "  </thead>\n",
       "  <tbody>\n",
       "    <tr>\n",
       "      <th>0</th>\n",
       "      <td>0.490700</td>\n",
       "      <td>0.847800</td>\n",
       "      <td>0.216785</td>\n",
       "      <td>0.939733</td>\n",
       "    </tr>\n",
       "    <tr>\n",
       "      <th>1</th>\n",
       "      <td>0.172518</td>\n",
       "      <td>0.950533</td>\n",
       "      <td>0.148622</td>\n",
       "      <td>0.959133</td>\n",
       "    </tr>\n",
       "    <tr>\n",
       "      <th>2</th>\n",
       "      <td>0.120507</td>\n",
       "      <td>0.965156</td>\n",
       "      <td>0.114153</td>\n",
       "      <td>0.966600</td>\n",
       "    </tr>\n",
       "    <tr>\n",
       "      <th>3</th>\n",
       "      <td>0.087692</td>\n",
       "      <td>0.974978</td>\n",
       "      <td>0.092361</td>\n",
       "      <td>0.971733</td>\n",
       "    </tr>\n",
       "    <tr>\n",
       "      <th>4</th>\n",
       "      <td>0.067676</td>\n",
       "      <td>0.979978</td>\n",
       "      <td>0.077592</td>\n",
       "      <td>0.978533</td>\n",
       "    </tr>\n",
       "    <tr>\n",
       "      <th>5</th>\n",
       "      <td>0.052891</td>\n",
       "      <td>0.984289</td>\n",
       "      <td>0.068216</td>\n",
       "      <td>0.979467</td>\n",
       "    </tr>\n",
       "    <tr>\n",
       "      <th>6</th>\n",
       "      <td>0.044225</td>\n",
       "      <td>0.986756</td>\n",
       "      <td>0.075246</td>\n",
       "      <td>0.978200</td>\n",
       "    </tr>\n",
       "    <tr>\n",
       "      <th>7</th>\n",
       "      <td>0.037320</td>\n",
       "      <td>0.988444</td>\n",
       "      <td>0.062943</td>\n",
       "      <td>0.981933</td>\n",
       "    </tr>\n",
       "    <tr>\n",
       "      <th>8</th>\n",
       "      <td>0.028915</td>\n",
       "      <td>0.990733</td>\n",
       "      <td>0.056862</td>\n",
       "      <td>0.984333</td>\n",
       "    </tr>\n",
       "    <tr>\n",
       "      <th>9</th>\n",
       "      <td>0.024907</td>\n",
       "      <td>0.992444</td>\n",
       "      <td>0.063048</td>\n",
       "      <td>0.983667</td>\n",
       "    </tr>\n",
       "  </tbody>\n",
       "</table>\n",
       "</div>"
      ],
      "text/plain": [
       "       loss  accuracy  val_loss  val_accuracy\n",
       "0  0.490700  0.847800  0.216785      0.939733\n",
       "1  0.172518  0.950533  0.148622      0.959133\n",
       "2  0.120507  0.965156  0.114153      0.966600\n",
       "3  0.087692  0.974978  0.092361      0.971733\n",
       "4  0.067676  0.979978  0.077592      0.978533\n",
       "5  0.052891  0.984289  0.068216      0.979467\n",
       "6  0.044225  0.986756  0.075246      0.978200\n",
       "7  0.037320  0.988444  0.062943      0.981933\n",
       "8  0.028915  0.990733  0.056862      0.984333\n",
       "9  0.024907  0.992444  0.063048      0.983667"
      ]
     },
     "execution_count": 246,
     "metadata": {},
     "output_type": "execute_result"
    }
   ],
   "source": [
    "print('Functional')\n",
    "history_dataframe1 = pd.DataFrame(history_F.history)\n",
    "history_dataframe1"
   ]
  },
  {
   "cell_type": "markdown",
   "id": "7011f5d7-399d-449e-af0e-daf1691238d9",
   "metadata": {},
   "source": [
    "## The functional model with 3 hidden layer has 0.99% accoracy "
   ]
  },
  {
   "cell_type": "markdown",
   "id": "0318dcfa-18bd-4928-881c-198c0beb2d82",
   "metadata": {},
   "source": [
    "# ************************************************************************************************************************"
   ]
  },
  {
   "cell_type": "markdown",
   "id": "27c29343-32b3-4282-bcd7-8246c2072192",
   "metadata": {},
   "source": [
    "## Predict my handswriting"
   ]
  },
  {
   "cell_type": "code",
   "execution_count": 99,
   "id": "f3833702-b762-4239-9327-f96f8410b895",
   "metadata": {
    "tags": []
   },
   "outputs": [],
   "source": [
    "img_path = \"My/\""
   ]
  },
  {
   "cell_type": "code",
   "execution_count": 100,
   "id": "7d456eba-dfd3-456e-9252-bbf1a919ff21",
   "metadata": {
    "tags": []
   },
   "outputs": [],
   "source": [
    "lable=['0','1','2','3','4','5','6','7','8','9']\n"
   ]
  },
  {
   "cell_type": "code",
   "execution_count": 101,
   "id": "91ee887a-793f-4db9-9934-f05b0ab6bc43",
   "metadata": {
    "tags": []
   },
   "outputs": [
    {
     "data": {
      "text/html": [
       "<div>\n",
       "<style scoped>\n",
       "    .dataframe tbody tr th:only-of-type {\n",
       "        vertical-align: middle;\n",
       "    }\n",
       "\n",
       "    .dataframe tbody tr th {\n",
       "        vertical-align: top;\n",
       "    }\n",
       "\n",
       "    .dataframe thead th {\n",
       "        text-align: right;\n",
       "    }\n",
       "</style>\n",
       "<table border=\"1\" class=\"dataframe\">\n",
       "  <thead>\n",
       "    <tr style=\"text-align: right;\">\n",
       "      <th></th>\n",
       "      <th>img</th>\n",
       "      <th>label</th>\n",
       "    </tr>\n",
       "  </thead>\n",
       "  <tbody>\n",
       "    <tr>\n",
       "      <th>0</th>\n",
       "      <td>My/0/0.jpg</td>\n",
       "      <td>0</td>\n",
       "    </tr>\n",
       "    <tr>\n",
       "      <th>1</th>\n",
       "      <td>My/1/1.jpg</td>\n",
       "      <td>1</td>\n",
       "    </tr>\n",
       "    <tr>\n",
       "      <th>2</th>\n",
       "      <td>My/2/2.jpg</td>\n",
       "      <td>2</td>\n",
       "    </tr>\n",
       "    <tr>\n",
       "      <th>3</th>\n",
       "      <td>My/3/3.jpg</td>\n",
       "      <td>3</td>\n",
       "    </tr>\n",
       "    <tr>\n",
       "      <th>4</th>\n",
       "      <td>My/4/4.jpg</td>\n",
       "      <td>4</td>\n",
       "    </tr>\n",
       "    <tr>\n",
       "      <th>5</th>\n",
       "      <td>My/5/5.jpg</td>\n",
       "      <td>5</td>\n",
       "    </tr>\n",
       "    <tr>\n",
       "      <th>6</th>\n",
       "      <td>My/6/6.jpg</td>\n",
       "      <td>6</td>\n",
       "    </tr>\n",
       "    <tr>\n",
       "      <th>7</th>\n",
       "      <td>My/7/7.jpg</td>\n",
       "      <td>7</td>\n",
       "    </tr>\n",
       "    <tr>\n",
       "      <th>8</th>\n",
       "      <td>My/8/8.jpg</td>\n",
       "      <td>8</td>\n",
       "    </tr>\n",
       "    <tr>\n",
       "      <th>9</th>\n",
       "      <td>My/9/9.jpg</td>\n",
       "      <td>9</td>\n",
       "    </tr>\n",
       "  </tbody>\n",
       "</table>\n",
       "</div>"
      ],
      "text/plain": [
       "          img label\n",
       "0  My/0/0.jpg     0\n",
       "1  My/1/1.jpg     1\n",
       "2  My/2/2.jpg     2\n",
       "3  My/3/3.jpg     3\n",
       "4  My/4/4.jpg     4\n",
       "5  My/5/5.jpg     5\n",
       "6  My/6/6.jpg     6\n",
       "7  My/7/7.jpg     7\n",
       "8  My/8/8.jpg     8\n",
       "9  My/9/9.jpg     9"
      ]
     },
     "execution_count": 101,
     "metadata": {},
     "output_type": "execute_result"
    }
   ],
   "source": [
    "img_list = []\n",
    "label_list = []\n",
    "for label in lable:\n",
    "    for img_file in os.listdir(img_path+label):\n",
    "        img_list.append(img_path+label+'/'+img_file)\n",
    "        label_list.append(label)\n",
    "        \n",
    "df = pd.DataFrame({'img':img_list, 'label':label_list})\n",
    "df"
   ]
  },
  {
   "cell_type": "code",
   "execution_count": 102,
   "id": "f7139701-0e2f-4c86-9b48-eb57f1943720",
   "metadata": {
    "tags": []
   },
   "outputs": [],
   "source": [
    "df['label']=df.label.astype('uint8')\n"
   ]
  },
  {
   "cell_type": "code",
   "execution_count": 103,
   "id": "71444e4e-f81c-4004-9693-9aee7e744c0b",
   "metadata": {
    "tags": []
   },
   "outputs": [
    {
     "data": {
      "text/plain": [
       "dtype('uint8')"
      ]
     },
     "execution_count": 103,
     "metadata": {},
     "output_type": "execute_result"
    }
   ],
   "source": [
    "df['label'].dtype"
   ]
  },
  {
   "cell_type": "code",
   "execution_count": 104,
   "id": "6040e289-f4f4-41b4-880b-9a15d08e1b3e",
   "metadata": {
    "tags": []
   },
   "outputs": [
    {
     "data": {
      "text/plain": [
       "(10,)"
      ]
     },
     "execution_count": 104,
     "metadata": {},
     "output_type": "execute_result"
    }
   ],
   "source": [
    "df['img'].shape"
   ]
  },
  {
   "cell_type": "code",
   "execution_count": 105,
   "id": "cd108a56-cea6-433e-9e94-75b31631a8ac",
   "metadata": {
    "tags": []
   },
   "outputs": [
    {
     "data": {
      "text/plain": [
       "6.0"
      ]
     },
     "execution_count": 105,
     "metadata": {},
     "output_type": "execute_result"
    }
   ],
   "source": [
    "class_names = [0.0, 1.0, 2.0,3.0,4.0,5.0,6.0,7.0,8.0,9.0]\n",
    "class_names[df['label'][6]]"
   ]
  },
  {
   "cell_type": "code",
   "execution_count": 106,
   "id": "2643f610-defb-489a-bd09-26a91bfb6dc1",
   "metadata": {
    "tags": []
   },
   "outputs": [],
   "source": [
    "from matplotlib import pyplot as plt\n",
    "from matplotlib import image as mpimg"
   ]
  },
  {
   "cell_type": "code",
   "execution_count": 107,
   "id": "9b391b3f-1fd1-45b7-81c4-af25cfe4ad76",
   "metadata": {
    "tags": []
   },
   "outputs": [],
   "source": [
    "X = []\n",
    "for img in df['img']:\n",
    "    img = cv2.imread(str(img))\n",
    "    img = cv2.resize(img, (32, 32))\n",
    "    gray = cv2.cvtColor(img, cv2.COLOR_RGB2GRAY)\n",
    "    gray = gray/255\n",
    "    X.append(gray)"
   ]
  },
  {
   "cell_type": "code",
   "execution_count": 109,
   "id": "1fb411ca-2743-418b-832f-578eea8b9f98",
   "metadata": {
    "tags": []
   },
   "outputs": [],
   "source": [
    "X=np.asarray(X)"
   ]
  },
  {
   "cell_type": "code",
   "execution_count": 110,
   "id": "9aa00f5a-697b-427e-8bd9-594590cb0874",
   "metadata": {
    "tags": []
   },
   "outputs": [
    {
     "data": {
      "text/plain": [
       "(10, 32, 32)"
      ]
     },
     "execution_count": 110,
     "metadata": {},
     "output_type": "execute_result"
    }
   ],
   "source": [
    "X.shape"
   ]
  },
  {
   "cell_type": "code",
   "execution_count": 112,
   "id": "670994af-c114-44b5-a766-6920809197d2",
   "metadata": {
    "tags": []
   },
   "outputs": [
    {
     "data": {
      "text/plain": [
       "dtype('float64')"
      ]
     },
     "execution_count": 112,
     "metadata": {},
     "output_type": "execute_result"
    }
   ],
   "source": [
    "X.dtype"
   ]
  },
  {
   "cell_type": "code",
   "execution_count": 113,
   "id": "be383017-1abe-4191-b323-77cb5ee9ed7e",
   "metadata": {
    "tags": []
   },
   "outputs": [],
   "source": [
    "X= X.reshape(X.shape[0], X.shape[1], X.shape[2], 1)"
   ]
  },
  {
   "cell_type": "code",
   "execution_count": 114,
   "id": "d63c6580-4e74-4dfb-9ab8-e4adf1739cc7",
   "metadata": {
    "tags": []
   },
   "outputs": [
    {
     "data": {
      "text/plain": [
       "(10, 32, 32, 1)"
      ]
     },
     "execution_count": 114,
     "metadata": {},
     "output_type": "execute_result"
    }
   ],
   "source": [
    "X.shape"
   ]
  },
  {
   "cell_type": "code",
   "execution_count": 115,
   "id": "01f08f33-3c16-4657-b174-06d493e40d60",
   "metadata": {
    "tags": []
   },
   "outputs": [],
   "source": [
    "y=df['label']"
   ]
  },
  {
   "cell_type": "code",
   "execution_count": 116,
   "id": "9d826862-dba0-481c-a436-1847d3ea7ddf",
   "metadata": {
    "tags": []
   },
   "outputs": [],
   "source": [
    "y=np.asarray(y)"
   ]
  },
  {
   "cell_type": "code",
   "execution_count": 248,
   "id": "ddba84f9-bc1d-4293-aac4-73af1a231ffc",
   "metadata": {
    "tags": []
   },
   "outputs": [
    {
     "data": {
      "text/plain": [
       "dtype('uint8')"
      ]
     },
     "execution_count": 248,
     "metadata": {},
     "output_type": "execute_result"
    }
   ],
   "source": [
    "y.dtype"
   ]
  },
  {
   "cell_type": "code",
   "execution_count": 249,
   "id": "9a9c7f18-5d21-4ef3-a973-e9a2c3b470a1",
   "metadata": {
    "tags": []
   },
   "outputs": [
    {
     "data": {
      "image/png": "[encoded data removed]",
      "text/plain": [
       "<Figure size 640x480 with 9 Axes>"
      ]
     },
     "metadata": {},
     "output_type": "display_data"
    }
   ],
   "source": [
    "for i in range(9):\n",
    "    plt.subplot(330 + (i+1))\n",
    "    plt.imshow(X[i].squeeze(),cmap='gray' )\n",
    "    plt.axis('off')\n",
    "    plt.title(y[i])"
   ]
  },
  {
   "cell_type": "code",
   "execution_count": 123,
   "id": "0420af02-6fca-44ce-8624-d729447a5720",
   "metadata": {
    "tags": []
   },
   "outputs": [
    {
     "name": "stdout",
     "output_type": "stream",
     "text": [
      "1/1 [==============================] - 0s 88ms/step\n"
     ]
    },
    {
     "data": {
      "text/plain": [
       "array([[0., 0., 0., 0., 0., 1., 0., 0., 0., 0.],\n",
       "       [0., 0., 0., 0., 0., 1., 0., 0., 0., 0.],\n",
       "       [0., 0., 0., 0., 0., 1., 0., 0., 0., 0.],\n",
       "       [0., 0., 0., 0., 0., 1., 0., 0., 0., 0.],\n",
       "       [0., 0., 0., 0., 0., 1., 0., 0., 0., 0.],\n",
       "       [0., 0., 0., 0., 0., 1., 0., 0., 0., 0.],\n",
       "       [0., 0., 0., 0., 0., 1., 0., 0., 0., 0.],\n",
       "       [0., 0., 0., 0., 0., 1., 0., 0., 0., 0.],\n",
       "       [0., 0., 0., 0., 0., 1., 0., 0., 0., 0.],\n",
       "       [0., 0., 0., 0., 0., 1., 0., 0., 0., 0.]], dtype=float32)"
      ]
     },
     "execution_count": 123,
     "metadata": {},
     "output_type": "execute_result"
    }
   ],
   "source": [
    "X_n = X\n",
    "y_proba = model_S.predict(X_n)\n",
    "y_proba.round(2)"
   ]
  },
  {
   "cell_type": "code",
   "execution_count": 124,
   "id": "91c897b2-8794-4b16-b4c5-04e839aabebb",
   "metadata": {
    "tags": []
   },
   "outputs": [],
   "source": [
    "y_predi = y_proba.argmax(axis=1)"
   ]
  },
  {
   "cell_type": "code",
   "execution_count": 125,
   "id": "ab43958e-bc53-42da-b37d-44faca28d5c4",
   "metadata": {
    "tags": []
   },
   "outputs": [],
   "source": [
    "y_predi = y_proba.argmax(axis=-1)"
   ]
  },
  {
   "cell_type": "code",
   "execution_count": 126,
   "id": "382b72b5-0506-4811-a391-d5f1ba7af0e4",
   "metadata": {},
   "outputs": [
    {
     "data": {
      "text/plain": [
       "array([5, 5, 5, 5, 5, 5, 5, 5, 5, 5])"
      ]
     },
     "execution_count": 126,
     "metadata": {},
     "output_type": "execute_result"
    }
   ],
   "source": [
    "y_predi"
   ]
  },
  {
   "cell_type": "code",
   "execution_count": 127,
   "id": "b517eb17-e995-40af-bf50-599ab2b845fa",
   "metadata": {
    "tags": []
   },
   "outputs": [
    {
     "data": {
      "text/plain": [
       "array([0, 1, 2], dtype=uint8)"
      ]
     },
     "execution_count": 127,
     "metadata": {},
     "output_type": "execute_result"
    }
   ],
   "source": [
    "Y_NEW=y[:3]\n",
    "Y_NEW"
   ]
  },
  {
   "cell_type": "markdown",
   "id": "ccba034a-296a-4010-95f2-06acc5572095",
   "metadata": {},
   "source": [
    "### Unfortunately the model can not predict correctly and this may be becuase to the lack of similarity between the new handwritings and the model's handwritings"
   ]
  },
  {
   "cell_type": "markdown",
   "id": "2c0d612f-2854-4700-91bf-8f988cd9f24c",
   "metadata": {},
   "source": [
    "# Predict with remainingSamples with Sequentional"
   ]
  },
  {
   "cell_type": "code",
   "execution_count": 215,
   "id": "2a25d967-b779-43f2-83d7-4e5e7e7c5918",
   "metadata": {
    "tags": []
   },
   "outputs": [],
   "source": [
    "X_remaining, Y_remaining = read_hoda_dataset('RemainingSamples.cdb',\n",
    "                                             images_height=32,\n",
    "                                             images_width=32,\n",
    "                                             one_hot=True,\n",
    "                                             reshape=True)"
   ]
  },
  {
   "cell_type": "code",
   "execution_count": 216,
   "id": "190b949f-15a0-4a04-8fba-231ad2eb21e3",
   "metadata": {
    "tags": []
   },
   "outputs": [],
   "source": [
    "X_remaining=X_remaining.reshape(X_remaining.shape[0], 32, 32)\n",
    "X_remaining = X_remaining.reshape(X_remaining.shape[0], X_remaining.shape[1], X_remaining.shape[2], 1)/255\n"
   ]
  },
  {
   "cell_type": "code",
   "execution_count": 217,
   "id": "bde95bc2-4738-4f14-ae87-2a32e1c91a92",
   "metadata": {
    "tags": []
   },
   "outputs": [],
   "source": [
    "Y_remaining = Y_remaining.astype('uint8')\n"
   ]
  },
  {
   "cell_type": "code",
   "execution_count": 223,
   "id": "560592f9-1228-4569-bc5b-1e693518fc4e",
   "metadata": {
    "tags": []
   },
   "outputs": [
    {
     "name": "stdout",
     "output_type": "stream",
     "text": [
      "1/1 [==============================] - 0s 144ms/step\n"
     ]
    },
    {
     "data": {
      "text/plain": [
       "array([[0.  , 0.  , 0.03, 0.96, 0.01, 0.  , 0.  , 0.  , 0.  , 0.  ],\n",
       "       [0.  , 1.  , 0.  , 0.  , 0.  , 0.  , 0.  , 0.  , 0.  , 0.  ],\n",
       "       [0.  , 0.  , 0.  , 0.  , 0.  , 0.  , 0.81, 0.  , 0.  , 0.18]],\n",
       "      dtype=float32)"
      ]
     },
     "execution_count": 223,
     "metadata": {},
     "output_type": "execute_result"
    }
   ],
   "source": [
    "X_n = X_remaining[:3]\n",
    "y_proba = model_S.predict(X_n)\n",
    "y_proba.round(2)"
   ]
  },
  {
   "cell_type": "code",
   "execution_count": 224,
   "id": "39230fc6-17f5-4557-a181-a5e951d3a015",
   "metadata": {
    "tags": []
   },
   "outputs": [],
   "source": [
    "y_predi = y_proba.argmax(axis=1)"
   ]
  },
  {
   "cell_type": "code",
   "execution_count": 225,
   "id": "793668d8-a0d9-4dd3-9e6b-e1a3e1f63155",
   "metadata": {
    "tags": []
   },
   "outputs": [
    {
     "data": {
      "text/plain": [
       "array([3, 1, 6])"
      ]
     },
     "execution_count": 225,
     "metadata": {},
     "output_type": "execute_result"
    }
   ],
   "source": [
    "y_predi"
   ]
  },
  {
   "cell_type": "code",
   "execution_count": 228,
   "id": "bd1aa79d-778e-4ce2-9c36-d0c04ff1c854",
   "metadata": {
    "tags": []
   },
   "outputs": [
    {
     "data": {
      "image/png": "[encoded data removed]",
      "text/plain": [
       "<Figure size 640x480 with 9 Axes>"
      ]
     },
     "metadata": {},
     "output_type": "display_data"
    }
   ],
   "source": [
    "for i in range(9):\n",
    "    plt.subplot(330 + (i+1))\n",
    "    plt.imshow(X_remaining[i].squeeze(),cmap='gray' )\n",
    "    plt.axis('off')\n",
    "    plt.title(Y_remaining[i])"
   ]
  },
  {
   "cell_type": "code",
   "execution_count": null,
   "id": "b96bcfb6-406a-41a5-a330-131657bc3f8f",
   "metadata": {},
   "outputs": [],
   "source": []
  }
 ],
 "metadata": {
  "kernelspec": {
   "display_name": "Python 3 (ipykernel)",
   "language": "python",
   "name": "python3"
  },
  "language_info": {
   "codemirror_mode": {
    "name": "ipython",
    "version": 3
   },
   "file_extension": ".py",
   "mimetype": "text/x-python",
   "name": "python",
   "nbconvert_exporter": "python",
   "pygments_lexer": "ipython3",
   "version": "3.10.6"
  }
 },
 "nbformat": 4,
 "nbformat_minor": 5
}
