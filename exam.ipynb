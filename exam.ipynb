{
 "cells": [
  {
   "cell_type": "markdown",
   "metadata": {},
   "source": [
    "use suffled3.csv"
   ]
  },
  {
   "cell_type": "code",
   "execution_count": 1,
   "metadata": {},
   "outputs": [],
   "source": [
    "import pandas as pd\n",
    "import seaborn as sns\n",
    "import matplotlib.pyplot as plt"
   ]
  },
  {
   "cell_type": "code",
   "execution_count": 2,
   "metadata": {},
   "outputs": [
    {
     "data": {
      "text/html": [
       "<div>\n",
       "<style scoped>\n",
       "    .dataframe tbody tr th:only-of-type {\n",
       "        vertical-align: middle;\n",
       "    }\n",
       "\n",
       "    .dataframe tbody tr th {\n",
       "        vertical-align: top;\n",
       "    }\n",
       "\n",
       "    .dataframe thead th {\n",
       "        text-align: right;\n",
       "    }\n",
       "</style>\n",
       "<table border=\"1\" class=\"dataframe\">\n",
       "  <thead>\n",
       "    <tr style=\"text-align: right;\">\n",
       "      <th></th>\n",
       "      <th>Date</th>\n",
       "      <th>Open</th>\n",
       "      <th>High</th>\n",
       "      <th>Low</th>\n",
       "      <th>Close</th>\n",
       "      <th>Volume</th>\n",
       "      <th>Dividends</th>\n",
       "      <th>Stock Splits</th>\n",
       "    </tr>\n",
       "  </thead>\n",
       "  <tbody>\n",
       "    <tr>\n",
       "      <th>0</th>\n",
       "      <td>2020-07-28</td>\n",
       "      <td>306.637012</td>\n",
       "      <td>308.326758</td>\n",
       "      <td>304.181926</td>\n",
       "      <td>304.480103</td>\n",
       "      <td>2116300</td>\n",
       "      <td>0.0</td>\n",
       "      <td>0.0</td>\n",
       "    </tr>\n",
       "    <tr>\n",
       "      <th>1</th>\n",
       "      <td>2015-09-17</td>\n",
       "      <td>89.160056</td>\n",
       "      <td>91.267558</td>\n",
       "      <td>89.140805</td>\n",
       "      <td>89.698959</td>\n",
       "      <td>4627000</td>\n",
       "      <td>0.0</td>\n",
       "      <td>0.0</td>\n",
       "    </tr>\n",
       "    <tr>\n",
       "      <th>2</th>\n",
       "      <td>2021-07-12</td>\n",
       "      <td>374.526799</td>\n",
       "      <td>375.595456</td>\n",
       "      <td>371.610470</td>\n",
       "      <td>375.086090</td>\n",
       "      <td>2648300</td>\n",
       "      <td>0.0</td>\n",
       "      <td>0.0</td>\n",
       "    </tr>\n",
       "    <tr>\n",
       "      <th>3</th>\n",
       "      <td>2017-03-17</td>\n",
       "      <td>109.891268</td>\n",
       "      <td>110.524228</td>\n",
       "      <td>109.803631</td>\n",
       "      <td>109.871796</td>\n",
       "      <td>4119200</td>\n",
       "      <td>0.0</td>\n",
       "      <td>0.0</td>\n",
       "    </tr>\n",
       "    <tr>\n",
       "      <th>4</th>\n",
       "      <td>2007-08-22</td>\n",
       "      <td>13.291884</td>\n",
       "      <td>13.592761</td>\n",
       "      <td>13.205919</td>\n",
       "      <td>13.532025</td>\n",
       "      <td>26579000</td>\n",
       "      <td>0.0</td>\n",
       "      <td>0.0</td>\n",
       "    </tr>\n",
       "    <tr>\n",
       "      <th>...</th>\n",
       "      <td>...</td>\n",
       "      <td>...</td>\n",
       "      <td>...</td>\n",
       "      <td>...</td>\n",
       "      <td>...</td>\n",
       "      <td>...</td>\n",
       "      <td>...</td>\n",
       "      <td>...</td>\n",
       "    </tr>\n",
       "    <tr>\n",
       "      <th>3867</th>\n",
       "      <td>2015-02-24</td>\n",
       "      <td>86.832303</td>\n",
       "      <td>87.887139</td>\n",
       "      <td>86.535026</td>\n",
       "      <td>87.570686</td>\n",
       "      <td>5547500</td>\n",
       "      <td>0.0</td>\n",
       "      <td>0.0</td>\n",
       "    </tr>\n",
       "    <tr>\n",
       "      <th>3868</th>\n",
       "      <td>2009-03-18</td>\n",
       "      <td>15.020868</td>\n",
       "      <td>15.132600</td>\n",
       "      <td>14.796466</td>\n",
       "      <td>14.999273</td>\n",
       "      <td>28081000</td>\n",
       "      <td>0.0</td>\n",
       "      <td>0.0</td>\n",
       "    </tr>\n",
       "    <tr>\n",
       "      <th>3869</th>\n",
       "      <td>2009-10-21</td>\n",
       "      <td>21.024157</td>\n",
       "      <td>21.854430</td>\n",
       "      <td>21.024157</td>\n",
       "      <td>21.243492</td>\n",
       "      <td>14613000</td>\n",
       "      <td>0.0</td>\n",
       "      <td>0.0</td>\n",
       "    </tr>\n",
       "    <tr>\n",
       "      <th>3870</th>\n",
       "      <td>2009-03-26</td>\n",
       "      <td>15.675295</td>\n",
       "      <td>16.094055</td>\n",
       "      <td>15.485633</td>\n",
       "      <td>15.950400</td>\n",
       "      <td>36507000</td>\n",
       "      <td>0.0</td>\n",
       "      <td>0.0</td>\n",
       "    </tr>\n",
       "    <tr>\n",
       "      <th>3871</th>\n",
       "      <td>2015-08-18</td>\n",
       "      <td>94.000588</td>\n",
       "      <td>94.414391</td>\n",
       "      <td>93.827368</td>\n",
       "      <td>93.923599</td>\n",
       "      <td>2215000</td>\n",
       "      <td>0.0</td>\n",
       "      <td>0.0</td>\n",
       "    </tr>\n",
       "  </tbody>\n",
       "</table>\n",
       "<p>3872 rows × 8 columns</p>\n",
       "</div>"
      ],
      "text/plain": [
       "            Date        Open        High         Low       Close    Volume  \\\n",
       "0     2020-07-28  306.637012  308.326758  304.181926  304.480103   2116300   \n",
       "1     2015-09-17   89.160056   91.267558   89.140805   89.698959   4627000   \n",
       "2     2021-07-12  374.526799  375.595456  371.610470  375.086090   2648300   \n",
       "3     2017-03-17  109.891268  110.524228  109.803631  109.871796   4119200   \n",
       "4     2007-08-22   13.291884   13.592761   13.205919   13.532025  26579000   \n",
       "...          ...         ...         ...         ...         ...       ...   \n",
       "3867  2015-02-24   86.832303   87.887139   86.535026   87.570686   5547500   \n",
       "3868  2009-03-18   15.020868   15.132600   14.796466   14.999273  28081000   \n",
       "3869  2009-10-21   21.024157   21.854430   21.024157   21.243492  14613000   \n",
       "3870  2009-03-26   15.675295   16.094055   15.485633   15.950400  36507000   \n",
       "3871  2015-08-18   94.000588   94.414391   93.827368   93.923599   2215000   \n",
       "\n",
       "      Dividends  Stock Splits  \n",
       "0           0.0           0.0  \n",
       "1           0.0           0.0  \n",
       "2           0.0           0.0  \n",
       "3           0.0           0.0  \n",
       "4           0.0           0.0  \n",
       "...         ...           ...  \n",
       "3867        0.0           0.0  \n",
       "3868        0.0           0.0  \n",
       "3869        0.0           0.0  \n",
       "3870        0.0           0.0  \n",
       "3871        0.0           0.0  \n",
       "\n",
       "[3872 rows x 8 columns]"
      ]
     },
     "execution_count": 2,
     "metadata": {},
     "output_type": "execute_result"
    }
   ],
   "source": [
    "df = pd.read_csv('suffled3.csv')\n",
    "df"
   ]
  },
  {
   "cell_type": "code",
   "execution_count": 3,
   "metadata": {},
   "outputs": [
    {
     "data": {
      "text/html": [
       "<div>\n",
       "<style scoped>\n",
       "    .dataframe tbody tr th:only-of-type {\n",
       "        vertical-align: middle;\n",
       "    }\n",
       "\n",
       "    .dataframe tbody tr th {\n",
       "        vertical-align: top;\n",
       "    }\n",
       "\n",
       "    .dataframe thead th {\n",
       "        text-align: right;\n",
       "    }\n",
       "</style>\n",
       "<table border=\"1\" class=\"dataframe\">\n",
       "  <thead>\n",
       "    <tr style=\"text-align: right;\">\n",
       "      <th></th>\n",
       "      <th>Open</th>\n",
       "      <th>High</th>\n",
       "      <th>Low</th>\n",
       "      <th>Close</th>\n",
       "      <th>Volume</th>\n",
       "      <th>Dividends</th>\n",
       "      <th>Stock Splits</th>\n",
       "    </tr>\n",
       "    <tr>\n",
       "      <th>Date</th>\n",
       "      <th></th>\n",
       "      <th></th>\n",
       "      <th></th>\n",
       "      <th></th>\n",
       "      <th></th>\n",
       "      <th></th>\n",
       "      <th></th>\n",
       "    </tr>\n",
       "  </thead>\n",
       "  <tbody>\n",
       "    <tr>\n",
       "      <th>2020-07-28</th>\n",
       "      <td>306.637012</td>\n",
       "      <td>308.326758</td>\n",
       "      <td>304.181926</td>\n",
       "      <td>304.480103</td>\n",
       "      <td>2116300</td>\n",
       "      <td>0.0</td>\n",
       "      <td>0.0</td>\n",
       "    </tr>\n",
       "    <tr>\n",
       "      <th>2015-09-17</th>\n",
       "      <td>89.160056</td>\n",
       "      <td>91.267558</td>\n",
       "      <td>89.140805</td>\n",
       "      <td>89.698959</td>\n",
       "      <td>4627000</td>\n",
       "      <td>0.0</td>\n",
       "      <td>0.0</td>\n",
       "    </tr>\n",
       "    <tr>\n",
       "      <th>2021-07-12</th>\n",
       "      <td>374.526799</td>\n",
       "      <td>375.595456</td>\n",
       "      <td>371.610470</td>\n",
       "      <td>375.086090</td>\n",
       "      <td>2648300</td>\n",
       "      <td>0.0</td>\n",
       "      <td>0.0</td>\n",
       "    </tr>\n",
       "    <tr>\n",
       "      <th>2017-03-17</th>\n",
       "      <td>109.891268</td>\n",
       "      <td>110.524228</td>\n",
       "      <td>109.803631</td>\n",
       "      <td>109.871796</td>\n",
       "      <td>4119200</td>\n",
       "      <td>0.0</td>\n",
       "      <td>0.0</td>\n",
       "    </tr>\n",
       "    <tr>\n",
       "      <th>2007-08-22</th>\n",
       "      <td>13.291884</td>\n",
       "      <td>13.592761</td>\n",
       "      <td>13.205919</td>\n",
       "      <td>13.532025</td>\n",
       "      <td>26579000</td>\n",
       "      <td>0.0</td>\n",
       "      <td>0.0</td>\n",
       "    </tr>\n",
       "    <tr>\n",
       "      <th>...</th>\n",
       "      <td>...</td>\n",
       "      <td>...</td>\n",
       "      <td>...</td>\n",
       "      <td>...</td>\n",
       "      <td>...</td>\n",
       "      <td>...</td>\n",
       "      <td>...</td>\n",
       "    </tr>\n",
       "    <tr>\n",
       "      <th>2015-02-24</th>\n",
       "      <td>86.832303</td>\n",
       "      <td>87.887139</td>\n",
       "      <td>86.535026</td>\n",
       "      <td>87.570686</td>\n",
       "      <td>5547500</td>\n",
       "      <td>0.0</td>\n",
       "      <td>0.0</td>\n",
       "    </tr>\n",
       "    <tr>\n",
       "      <th>2009-03-18</th>\n",
       "      <td>15.020868</td>\n",
       "      <td>15.132600</td>\n",
       "      <td>14.796466</td>\n",
       "      <td>14.999273</td>\n",
       "      <td>28081000</td>\n",
       "      <td>0.0</td>\n",
       "      <td>0.0</td>\n",
       "    </tr>\n",
       "    <tr>\n",
       "      <th>2009-10-21</th>\n",
       "      <td>21.024157</td>\n",
       "      <td>21.854430</td>\n",
       "      <td>21.024157</td>\n",
       "      <td>21.243492</td>\n",
       "      <td>14613000</td>\n",
       "      <td>0.0</td>\n",
       "      <td>0.0</td>\n",
       "    </tr>\n",
       "    <tr>\n",
       "      <th>2009-03-26</th>\n",
       "      <td>15.675295</td>\n",
       "      <td>16.094055</td>\n",
       "      <td>15.485633</td>\n",
       "      <td>15.950400</td>\n",
       "      <td>36507000</td>\n",
       "      <td>0.0</td>\n",
       "      <td>0.0</td>\n",
       "    </tr>\n",
       "    <tr>\n",
       "      <th>2015-08-18</th>\n",
       "      <td>94.000588</td>\n",
       "      <td>94.414391</td>\n",
       "      <td>93.827368</td>\n",
       "      <td>93.923599</td>\n",
       "      <td>2215000</td>\n",
       "      <td>0.0</td>\n",
       "      <td>0.0</td>\n",
       "    </tr>\n",
       "  </tbody>\n",
       "</table>\n",
       "<p>3872 rows × 7 columns</p>\n",
       "</div>"
      ],
      "text/plain": [
       "                  Open        High         Low       Close    Volume  \\\n",
       "Date                                                                   \n",
       "2020-07-28  306.637012  308.326758  304.181926  304.480103   2116300   \n",
       "2015-09-17   89.160056   91.267558   89.140805   89.698959   4627000   \n",
       "2021-07-12  374.526799  375.595456  371.610470  375.086090   2648300   \n",
       "2017-03-17  109.891268  110.524228  109.803631  109.871796   4119200   \n",
       "2007-08-22   13.291884   13.592761   13.205919   13.532025  26579000   \n",
       "...                ...         ...         ...         ...       ...   \n",
       "2015-02-24   86.832303   87.887139   86.535026   87.570686   5547500   \n",
       "2009-03-18   15.020868   15.132600   14.796466   14.999273  28081000   \n",
       "2009-10-21   21.024157   21.854430   21.024157   21.243492  14613000   \n",
       "2009-03-26   15.675295   16.094055   15.485633   15.950400  36507000   \n",
       "2015-08-18   94.000588   94.414391   93.827368   93.923599   2215000   \n",
       "\n",
       "            Dividends  Stock Splits  \n",
       "Date                                 \n",
       "2020-07-28        0.0           0.0  \n",
       "2015-09-17        0.0           0.0  \n",
       "2021-07-12        0.0           0.0  \n",
       "2017-03-17        0.0           0.0  \n",
       "2007-08-22        0.0           0.0  \n",
       "...               ...           ...  \n",
       "2015-02-24        0.0           0.0  \n",
       "2009-03-18        0.0           0.0  \n",
       "2009-10-21        0.0           0.0  \n",
       "2009-03-26        0.0           0.0  \n",
       "2015-08-18        0.0           0.0  \n",
       "\n",
       "[3872 rows x 7 columns]"
      ]
     },
     "execution_count": 3,
     "metadata": {},
     "output_type": "execute_result"
    }
   ],
   "source": [
    "df_date = df.set_index('Date')\n",
    "df_date "
   ]
  },
  {
   "cell_type": "code",
   "execution_count": 23,
   "metadata": {
    "colab": {
     "base_uri": "https://localhost:8080/",
     "height": 300
    },
    "id": "65Qu2U-bbD5-",
    "outputId": "1070bc24-e049-4202-f2ad-09f8a2802b47"
   },
   "outputs": [
    {
     "data": {
      "text/html": [
       "<div>\n",
       "<style scoped>\n",
       "    .dataframe tbody tr th:only-of-type {\n",
       "        vertical-align: middle;\n",
       "    }\n",
       "\n",
       "    .dataframe tbody tr th {\n",
       "        vertical-align: top;\n",
       "    }\n",
       "\n",
       "    .dataframe thead th {\n",
       "        text-align: right;\n",
       "    }\n",
       "</style>\n",
       "<table border=\"1\" class=\"dataframe\">\n",
       "  <thead>\n",
       "    <tr style=\"text-align: right;\">\n",
       "      <th></th>\n",
       "      <th>Open</th>\n",
       "      <th>High</th>\n",
       "      <th>Low</th>\n",
       "      <th>Close</th>\n",
       "      <th>Volume</th>\n",
       "      <th>Dividends</th>\n",
       "      <th>Stock Splits</th>\n",
       "    </tr>\n",
       "  </thead>\n",
       "  <tbody>\n",
       "    <tr>\n",
       "      <th>count</th>\n",
       "      <td>3872.000000</td>\n",
       "      <td>3872.000000</td>\n",
       "      <td>3872.000000</td>\n",
       "      <td>3872.000000</td>\n",
       "      <td>3.872000e+03</td>\n",
       "      <td>3872.000000</td>\n",
       "      <td>3872.000000</td>\n",
       "    </tr>\n",
       "    <tr>\n",
       "      <th>mean</th>\n",
       "      <td>104.896814</td>\n",
       "      <td>105.956054</td>\n",
       "      <td>103.769349</td>\n",
       "      <td>104.882714</td>\n",
       "      <td>1.232250e+07</td>\n",
       "      <td>0.002329</td>\n",
       "      <td>0.002583</td>\n",
       "    </tr>\n",
       "    <tr>\n",
       "      <th>std</th>\n",
       "      <td>106.245511</td>\n",
       "      <td>107.303589</td>\n",
       "      <td>105.050064</td>\n",
       "      <td>106.168693</td>\n",
       "      <td>1.759665e+07</td>\n",
       "      <td>0.025851</td>\n",
       "      <td>0.160706</td>\n",
       "    </tr>\n",
       "    <tr>\n",
       "      <th>min</th>\n",
       "      <td>3.748967</td>\n",
       "      <td>4.102467</td>\n",
       "      <td>3.739664</td>\n",
       "      <td>4.083861</td>\n",
       "      <td>6.411000e+05</td>\n",
       "      <td>0.000000</td>\n",
       "      <td>0.000000</td>\n",
       "    </tr>\n",
       "    <tr>\n",
       "      <th>25%</th>\n",
       "      <td>22.347203</td>\n",
       "      <td>22.637997</td>\n",
       "      <td>22.034458</td>\n",
       "      <td>22.300391</td>\n",
       "      <td>3.529475e+06</td>\n",
       "      <td>0.000000</td>\n",
       "      <td>0.000000</td>\n",
       "    </tr>\n",
       "    <tr>\n",
       "      <th>50%</th>\n",
       "      <td>70.810079</td>\n",
       "      <td>71.375896</td>\n",
       "      <td>70.224002</td>\n",
       "      <td>70.856083</td>\n",
       "      <td>5.891750e+06</td>\n",
       "      <td>0.000000</td>\n",
       "      <td>0.000000</td>\n",
       "    </tr>\n",
       "    <tr>\n",
       "      <th>75%</th>\n",
       "      <td>147.688448</td>\n",
       "      <td>148.645373</td>\n",
       "      <td>146.822013</td>\n",
       "      <td>147.688438</td>\n",
       "      <td>1.319775e+07</td>\n",
       "      <td>0.000000</td>\n",
       "      <td>0.000000</td>\n",
       "    </tr>\n",
       "    <tr>\n",
       "      <th>max</th>\n",
       "      <td>392.653890</td>\n",
       "      <td>400.521479</td>\n",
       "      <td>389.747812</td>\n",
       "      <td>394.685730</td>\n",
       "      <td>3.953430e+08</td>\n",
       "      <td>0.440000</td>\n",
       "      <td>10.000000</td>\n",
       "    </tr>\n",
       "  </tbody>\n",
       "</table>\n",
       "</div>"
      ],
      "text/plain": [
       "              Open         High          Low        Close        Volume  \\\n",
       "count  3872.000000  3872.000000  3872.000000  3872.000000  3.872000e+03   \n",
       "mean    104.896814   105.956054   103.769349   104.882714  1.232250e+07   \n",
       "std     106.245511   107.303589   105.050064   106.168693  1.759665e+07   \n",
       "min       3.748967     4.102467     3.739664     4.083861  6.411000e+05   \n",
       "25%      22.347203    22.637997    22.034458    22.300391  3.529475e+06   \n",
       "50%      70.810079    71.375896    70.224002    70.856083  5.891750e+06   \n",
       "75%     147.688448   148.645373   146.822013   147.688438  1.319775e+07   \n",
       "max     392.653890   400.521479   389.747812   394.685730  3.953430e+08   \n",
       "\n",
       "         Dividends  Stock Splits  \n",
       "count  3872.000000   3872.000000  \n",
       "mean      0.002329      0.002583  \n",
       "std       0.025851      0.160706  \n",
       "min       0.000000      0.000000  \n",
       "25%       0.000000      0.000000  \n",
       "50%       0.000000      0.000000  \n",
       "75%       0.000000      0.000000  \n",
       "max       0.440000     10.000000  "
      ]
     },
     "execution_count": 23,
     "metadata": {},
     "output_type": "execute_result"
    }
   ],
   "source": [
    "df.describe()\n"
   ]
  },
  {
   "cell_type": "code",
   "execution_count": 53,
   "metadata": {},
   "outputs": [
    {
     "data": {
      "image/png": "[encoded data removed]",
      "text/plain": [
       "<Figure size 1500x800 with 2 Axes>"
      ]
     },
     "metadata": {},
     "output_type": "display_data"
    }
   ],
   "source": [
    "heatmap = sns.heatmap(df_date.corr(),vmin=0, vmax=1 , annot=True, cmap=\"mako\")\n",
    "plt.gcf().set_size_inches(15, 8)"
   ]
  },
  {
   "cell_type": "code",
   "execution_count": 29,
   "metadata": {
    "colab": {
     "base_uri": "https://localhost:8080/",
     "height": 426
    },
    "id": "9IAtx2lObMiQ",
    "outputId": "f8277a4e-b8a3-4261-a816-35c949bfaf9c"
   },
   "outputs": [
    {
     "data": {
      "image/png": "[encoded data removed]",
      "text/plain": [
       "<Figure size 1000x600 with 2 Axes>"
      ]
     },
     "metadata": {},
     "output_type": "display_data"
    }
   ],
   "source": []
  },
  {
   "cell_type": "code",
   "execution_count": 4,
   "metadata": {},
   "outputs": [
    {
     "data": {
      "text/html": [
       "<div>\n",
       "<style scoped>\n",
       "    .dataframe tbody tr th:only-of-type {\n",
       "        vertical-align: middle;\n",
       "    }\n",
       "\n",
       "    .dataframe tbody tr th {\n",
       "        vertical-align: top;\n",
       "    }\n",
       "\n",
       "    .dataframe thead th {\n",
       "        text-align: right;\n",
       "    }\n",
       "</style>\n",
       "<table border=\"1\" class=\"dataframe\">\n",
       "  <thead>\n",
       "    <tr style=\"text-align: right;\">\n",
       "      <th></th>\n",
       "      <th>Date</th>\n",
       "      <th>Open</th>\n",
       "      <th>High</th>\n",
       "      <th>Low</th>\n",
       "      <th>Close</th>\n",
       "      <th>Volume</th>\n",
       "      <th>Dividends</th>\n",
       "      <th>Stock Splits</th>\n",
       "    </tr>\n",
       "  </thead>\n",
       "  <tbody>\n",
       "    <tr>\n",
       "      <th>0</th>\n",
       "      <td>2020-07-28</td>\n",
       "      <td>306.637012</td>\n",
       "      <td>308.326758</td>\n",
       "      <td>304.181926</td>\n",
       "      <td>304.480103</td>\n",
       "      <td>2116300</td>\n",
       "      <td>0.0</td>\n",
       "      <td>0.0</td>\n",
       "    </tr>\n",
       "    <tr>\n",
       "      <th>1</th>\n",
       "      <td>2015-09-17</td>\n",
       "      <td>89.160056</td>\n",
       "      <td>91.267558</td>\n",
       "      <td>89.140805</td>\n",
       "      <td>89.698959</td>\n",
       "      <td>4627000</td>\n",
       "      <td>0.0</td>\n",
       "      <td>0.0</td>\n",
       "    </tr>\n",
       "    <tr>\n",
       "      <th>2</th>\n",
       "      <td>2021-07-12</td>\n",
       "      <td>374.526799</td>\n",
       "      <td>375.595456</td>\n",
       "      <td>371.610470</td>\n",
       "      <td>375.086090</td>\n",
       "      <td>2648300</td>\n",
       "      <td>0.0</td>\n",
       "      <td>0.0</td>\n",
       "    </tr>\n",
       "    <tr>\n",
       "      <th>3</th>\n",
       "      <td>2017-03-17</td>\n",
       "      <td>109.891268</td>\n",
       "      <td>110.524228</td>\n",
       "      <td>109.803631</td>\n",
       "      <td>109.871796</td>\n",
       "      <td>4119200</td>\n",
       "      <td>0.0</td>\n",
       "      <td>0.0</td>\n",
       "    </tr>\n",
       "    <tr>\n",
       "      <th>4</th>\n",
       "      <td>2007-08-22</td>\n",
       "      <td>13.291884</td>\n",
       "      <td>13.592761</td>\n",
       "      <td>13.205919</td>\n",
       "      <td>13.532025</td>\n",
       "      <td>26579000</td>\n",
       "      <td>0.0</td>\n",
       "      <td>0.0</td>\n",
       "    </tr>\n",
       "    <tr>\n",
       "      <th>...</th>\n",
       "      <td>...</td>\n",
       "      <td>...</td>\n",
       "      <td>...</td>\n",
       "      <td>...</td>\n",
       "      <td>...</td>\n",
       "      <td>...</td>\n",
       "      <td>...</td>\n",
       "      <td>...</td>\n",
       "    </tr>\n",
       "    <tr>\n",
       "      <th>3867</th>\n",
       "      <td>2015-02-24</td>\n",
       "      <td>86.832303</td>\n",
       "      <td>87.887139</td>\n",
       "      <td>86.535026</td>\n",
       "      <td>87.570686</td>\n",
       "      <td>5547500</td>\n",
       "      <td>0.0</td>\n",
       "      <td>0.0</td>\n",
       "    </tr>\n",
       "    <tr>\n",
       "      <th>3868</th>\n",
       "      <td>2009-03-18</td>\n",
       "      <td>15.020868</td>\n",
       "      <td>15.132600</td>\n",
       "      <td>14.796466</td>\n",
       "      <td>14.999273</td>\n",
       "      <td>28081000</td>\n",
       "      <td>0.0</td>\n",
       "      <td>0.0</td>\n",
       "    </tr>\n",
       "    <tr>\n",
       "      <th>3869</th>\n",
       "      <td>2009-10-21</td>\n",
       "      <td>21.024157</td>\n",
       "      <td>21.854430</td>\n",
       "      <td>21.024157</td>\n",
       "      <td>21.243492</td>\n",
       "      <td>14613000</td>\n",
       "      <td>0.0</td>\n",
       "      <td>0.0</td>\n",
       "    </tr>\n",
       "    <tr>\n",
       "      <th>3870</th>\n",
       "      <td>2009-03-26</td>\n",
       "      <td>15.675295</td>\n",
       "      <td>16.094055</td>\n",
       "      <td>15.485633</td>\n",
       "      <td>15.950400</td>\n",
       "      <td>36507000</td>\n",
       "      <td>0.0</td>\n",
       "      <td>0.0</td>\n",
       "    </tr>\n",
       "    <tr>\n",
       "      <th>3871</th>\n",
       "      <td>2015-08-18</td>\n",
       "      <td>94.000588</td>\n",
       "      <td>94.414391</td>\n",
       "      <td>93.827368</td>\n",
       "      <td>93.923599</td>\n",
       "      <td>2215000</td>\n",
       "      <td>0.0</td>\n",
       "      <td>0.0</td>\n",
       "    </tr>\n",
       "  </tbody>\n",
       "</table>\n",
       "<p>3872 rows × 8 columns</p>\n",
       "</div>"
      ],
      "text/plain": [
       "           Date        Open        High         Low       Close    Volume  \\\n",
       "0    2020-07-28  306.637012  308.326758  304.181926  304.480103   2116300   \n",
       "1    2015-09-17   89.160056   91.267558   89.140805   89.698959   4627000   \n",
       "2    2021-07-12  374.526799  375.595456  371.610470  375.086090   2648300   \n",
       "3    2017-03-17  109.891268  110.524228  109.803631  109.871796   4119200   \n",
       "4    2007-08-22   13.291884   13.592761   13.205919   13.532025  26579000   \n",
       "...         ...         ...         ...         ...         ...       ...   \n",
       "3867 2015-02-24   86.832303   87.887139   86.535026   87.570686   5547500   \n",
       "3868 2009-03-18   15.020868   15.132600   14.796466   14.999273  28081000   \n",
       "3869 2009-10-21   21.024157   21.854430   21.024157   21.243492  14613000   \n",
       "3870 2009-03-26   15.675295   16.094055   15.485633   15.950400  36507000   \n",
       "3871 2015-08-18   94.000588   94.414391   93.827368   93.923599   2215000   \n",
       "\n",
       "      Dividends  Stock Splits  \n",
       "0           0.0           0.0  \n",
       "1           0.0           0.0  \n",
       "2           0.0           0.0  \n",
       "3           0.0           0.0  \n",
       "4           0.0           0.0  \n",
       "...         ...           ...  \n",
       "3867        0.0           0.0  \n",
       "3868        0.0           0.0  \n",
       "3869        0.0           0.0  \n",
       "3870        0.0           0.0  \n",
       "3871        0.0           0.0  \n",
       "\n",
       "[3872 rows x 8 columns]"
      ]
     },
     "execution_count": 4,
     "metadata": {},
     "output_type": "execute_result"
    }
   ],
   "source": [
    "df[\"Date\"] = pd.to_datetime(df[\"Date\"])\n",
    "df"
   ]
  },
  {
   "cell_type": "code",
   "execution_count": 62,
   "metadata": {},
   "outputs": [
    {
     "data": {
      "text/plain": [
       "<AxesSubplot: xlabel='Date', ylabel='Close'>"
      ]
     },
     "execution_count": 62,
     "metadata": {},
     "output_type": "execute_result"
    },
    {
     "data": {
      "image/png": "[encoded data removed]",
      "text/plain": [
       "<Figure size 640x480 with 1 Axes>"
      ]
     },
     "metadata": {},
     "output_type": "display_data"
    }
   ],
   "source": [
    "sns.lineplot(data=df, x=\"Date\", y=\"Close\")"
   ]
  },
  {
   "cell_type": "code",
   "execution_count": 13,
   "metadata": {},
   "outputs": [],
   "source": [
    "df=df.sort_values('Date',ascending=False)"
   ]
  },
  {
   "cell_type": "code",
   "execution_count": 14,
   "metadata": {},
   "outputs": [
    {
     "data": {
      "text/plain": [
       "<AxesSubplot: xlabel='Date', ylabel='Close'>"
      ]
     },
     "execution_count": 14,
     "metadata": {},
     "output_type": "execute_result"
    },
    {
     "data": {
      "image/png": "[encoded data removed]",
      "text/plain": [
       "<Figure size 640x480 with 1 Axes>"
      ]
     },
     "metadata": {},
     "output_type": "display_data"
    }
   ],
   "source": [
    "sns.lineplot(data=df, x=\"Date\", y=\"Close\")"
   ]
  },
  {
   "cell_type": "markdown",
   "metadata": {},
   "source": [
    "Linear Regression prediction with test_size=0.2 the label is close"
   ]
  },
  {
   "cell_type": "code",
   "execution_count": 22,
   "metadata": {},
   "outputs": [],
   "source": [
    "df1 = df[['Open', 'High', 'Low', 'Volume', 'Dividends', 'Stock Splits', 'Close']]"
   ]
  },
  {
   "cell_type": "code",
   "execution_count": 23,
   "metadata": {},
   "outputs": [],
   "source": [
    "X = df1.iloc[:, :-1].values\n",
    "y = df1.iloc[:,-1].values"
   ]
  },
  {
   "cell_type": "code",
   "execution_count": null,
   "metadata": {},
   "outputs": [],
   "source": [
    "dataX = data.drop(columns=[\"Close\"]).values\n",
    "dataY = data[\"Close\"].values"
   ]
  },
  {
   "cell_type": "code",
   "execution_count": 41,
   "metadata": {},
   "outputs": [],
   "source": [
    "from sklearn.model_selection import train_test_split\n",
    "X_train, X_test, y_train, y_test = train_test_split(X, y , test_size=0.2 , random_state=85, )"
   ]
  },
  {
   "cell_type": "code",
   "execution_count": 32,
   "metadata": {},
   "outputs": [
    {
     "name": "stdout",
     "output_type": "stream",
     "text": [
      "Linear Regression :  0.003012126796903658\n"
     ]
    }
   ],
   "source": [
    "from sklearn.linear_model import LinearRegression, Ridge, SGDRegressor\n",
    "lr_model = LinearRegression()\n",
    "lr_model.fit(X_train, y_train)\n",
    "print(\"Linear Regression : \", lr_model.intercept_)"
   ]
  },
  {
   "cell_type": "code",
   "execution_count": 34,
   "metadata": {},
   "outputs": [
    {
     "name": "stdout",
     "output_type": "stream",
     "text": [
      "Ridge :  0.002928892428272434\n"
     ]
    },
    {
     "name": "stderr",
     "output_type": "stream",
     "text": [
      "C:\\Users\\aghebati.pc\\AppData\\Local\\Programs\\Python\\Python310\\lib\\site-packages\\sklearn\\linear_model\\_ridge.py:216: LinAlgWarning: Ill-conditioned matrix (rcond=8.82614e-19): result may not be accurate.\n",
      "  return linalg.solve(A, Xy, assume_a=\"pos\", overwrite_a=True).T\n"
     ]
    }
   ],
   "source": [
    "rb_model = Ridge(alpha=0.9)\n",
    "rb_model.fit(X_train, y_train)\n",
    "print(\"Ridge : \", rb_model.intercept_)"
   ]
  },
  {
   "cell_type": "code",
   "execution_count": 38,
   "metadata": {},
   "outputs": [],
   "source": [
    "from sklearn.preprocessing import StandardScaler"
   ]
  },
  {
   "cell_type": "code",
   "execution_count": 36,
   "metadata": {},
   "outputs": [],
   "source": [
    "from sklearn.pipeline import Pipeline"
   ]
  },
  {
   "cell_type": "code",
   "execution_count": 42,
   "metadata": {},
   "outputs": [
    {
     "data": {
      "text/plain": [
       "0.9998885486113949"
      ]
     },
     "execution_count": 42,
     "metadata": {},
     "output_type": "execute_result"
    }
   ],
   "source": [
    "pipe = Pipeline([('scaler', StandardScaler()), ('LR_model', LinearRegression())])\n",
    "pipe.fit(X_train, y_train)\n",
    "pipe.score(X_test,y_test)"
   ]
  },
  {
   "cell_type": "code",
   "execution_count": 46,
   "metadata": {},
   "outputs": [],
   "source": [
    "y_predict= lr_model.predict(X_test)\n"
   ]
  },
  {
   "cell_type": "code",
   "execution_count": 63,
   "metadata": {},
   "outputs": [
    {
     "data": {
      "image/png": "[encoded data removed]",
      "text/plain": [
       "<Figure size 500x700 with 1 Axes>"
      ]
     },
     "metadata": {},
     "output_type": "display_data"
    }
   ],
   "source": [
    "plt.figure(figsize=(5, 7))\n",
    "plt.scatter(y_test, y_predict)\n",
    "plt.xlabel('True_values')\n",
    "plt.ylabel('predict_values')\n",
    "plt.show()"
   ]
  },
  {
   "cell_type": "code",
   "execution_count": 37,
   "metadata": {},
   "outputs": [
    {
     "data": {
      "image/png": "[encoded data removed]",
      "text/plain": [
       "<Figure size 640x480 with 1 Axes>"
      ]
     },
     "metadata": {},
     "output_type": "display_data"
    }
   ],
   "source": []
  },
  {
   "cell_type": "code",
   "execution_count": 51,
   "metadata": {},
   "outputs": [],
   "source": [
    "from sklearn.metrics import r2_score"
   ]
  },
  {
   "cell_type": "code",
   "execution_count": 53,
   "metadata": {},
   "outputs": [],
   "source": [
    "from sklearn import metrics"
   ]
  },
  {
   "cell_type": "code",
   "execution_count": 54,
   "metadata": {},
   "outputs": [],
   "source": [
    "from sklearn.metrics import mean_squared_error"
   ]
  },
  {
   "cell_type": "code",
   "execution_count": 60,
   "metadata": {},
   "outputs": [],
   "source": [
    "from sklearn.metrics import r2_score, mean_squared_error, mean_absolute_error, mean_absolute_percentage_error\n",
    "r2 = r2_score(y_test, y_predict)\n",
    "m1 = mean_squared_error(y_test, y_predict)\n",
    "m2 = mean_squared_error(y_test, y_predict, squared=False)\n",
    "m3 = mean_absolute_error(y_test, y_predict)\n",
    "m4 = mean_absolute_percentage_error(y_test, y_predict)"
   ]
  },
  {
   "cell_type": "code",
   "execution_count": 61,
   "metadata": {},
   "outputs": [
    {
     "name": "stdout",
     "output_type": "stream",
     "text": [
      "R²: 0.9998885486114111\n",
      "Mean Squared Error (MSE): 1.2364582776974482\n",
      "Root Mean Squared Error (RMSE): 1.1119614551311787\n",
      "Mean Absolute Error (MAE): 0.5292933119752078\n",
      "Mean Absolute Percentage Error (MAPE): 0.006032032551179738\n"
     ]
    }
   ],
   "source": [
    "print('R²:', r2)\n",
    "print('Mean Squared Error (MSE):', m1)\n",
    "print('Root Mean Squared Error (RMSE):', m2)\n",
    "print('Mean Absolute Error (MAE):', m3)\n",
    "print('Mean Absolute Percentage Error (MAPE):', m4)"
   ]
  },
  {
   "cell_type": "code",
   "execution_count": 38,
   "metadata": {
    "scrolled": true
   },
   "outputs": [
    {
     "name": "stdout",
     "output_type": "stream",
     "text": [
      "R²: 0.9999139462752575\n",
      "Mean Squared Error (MSE): 6.150121267396267e-06\n",
      "Root Mean Squared Error (RMSE): 0.00247994380327383\n",
      "Mean Absolute Error (MAE): 0.0012893895839705457\n",
      "Mean Absolute Percentage Error (MAPE): 126709580.02634819\n"
     ]
    }
   ],
   "source": []
  },
  {
   "cell_type": "markdown",
   "metadata": {},
   "source": [
    "2- write run postgress docker command\n",
    "and save y predicted labeles with datatime in database"
   ]
  },
  {
   "cell_type": "code",
   "execution_count": null,
   "metadata": {},
   "outputs": [],
   "source": [
    "مشکل در داکر "
   ]
  },
  {
   "cell_type": "code",
   "execution_count": null,
   "metadata": {},
   "outputs": [],
   "source": [
    "docker run --name some-postgres -e POSTGRES_PASSWORD=mysecretpassword -p 5432:5432  -d postgres\n"
   ]
  },
  {
   "cell_type": "code",
   "execution_count": null,
   "metadata": {},
   "outputs": [],
   "source": [
    "import psycopg2\n",
    "DB_NAME = \"fateme\"\n",
    "DB_USER = \"fateme\"\n",
    "DB_PASS = \"1234\"\n",
    "DB_HOST = \"tyke.db.elephantsql.com\"\n",
    "DB_PORT = \"5432\"\n",
    " \n",
    "try:\n",
    "    conn = psycopg2.connect(database=DB_NAME,\n",
    "                            user=DB_USER,\n",
    "                            password=DB_PASS,\n",
    "                            host=DB_HOST,\n",
    "                            port=DB_PORT)\n",
    "    print(\"Database connected successfully\")\n",
    "except:\n",
    "    print(\"Database not connected successfully\")"
   ]
  },
  {
   "cell_type": "markdown",
   "metadata": {},
   "source": [
    "3- scrape  https://api.divar.ir/v8/web-search/tehran/buy-apartment?districts=992 api to find token then use https://api.divar.ir/v5/posts/{token} api and save apartment price and location property in json file"
   ]
  },
  {
   "cell_type": "code",
   "execution_count": null,
   "metadata": {},
   "outputs": [],
   "source": [
    "import time\n",
    "\n",
    "import requests\n",
    "\n",
    "url = \" https://api.divar.ir/v8/web-search/tehran/buy-apartment?districts=992 \"\n",
    "json ={\"json_schema\":{\"category\": {\"value\": \"residential-sell\"}, \"cities\": [\"1\"]},\n",
    "\"last-post-date\": 1672052146553899}\n",
    "headers = {\n",
    "    \"Content_Type\": \"application/json\"\n",
    " }\n",
    "res = requests.post(url, json= json, headers = headers)\n",
    "data = res.json()\n",
    "last_post_date = data[\"last_post_date\"]\n",
    "list_of_token = []\n",
    "count = 0\n",
    "while True:\n",
    "    json = {\"json_schema\": {\"category\": {\"value\": \"residential-sell\"}, \"cities\": [\"1\"]},\n",
    "            \"last-post-date\": 1672052146553899}\n",
    "    headers = {\n",
    "        \"Content_Type\": \"application/json\"\n",
    "    }\n",
    "    try:\n",
    "        res = requests.post(url, json=json, headers=headers)\n",
    "        if res.ok == True:\n",
    "            data = res.json()\n",
    "        else:\n",
    "            print(\"wait 2 minutes\")\n",
    "            time.sleep(120)\n",
    "            res = requests.post(url, json=json, headers=headers)\n",
    "            data = res.json()\n",
    "\n",
    "        last_post_date = data[\"last_post_date\"]\n",
    "    except: \"error\"\n",
    "\n",
    "\n",
    "    for post in data['web_widgets']['post_list']:\n",
    "        token = post[\"data\"][\"token\"]\n",
    "        list_of_token.append(token)\n",
    "        count += 1\n",
    "    if count >= 10000:\n",
    "        break\n",
    "\n",
    "txt_file = open(\"token.txt\",\"w\", encoding= \"utf8\")\n",
    "txt_file.write(\",\".join(list_of_token))\n",
    "txt_file.close()"
   ]
  },
  {
   "cell_type": "code",
   "execution_count": null,
   "metadata": {},
   "outputs": [],
   "source": [
    "import scrapy\n",
    "url =\"https://divar.ir/v/-/{token}\"\n",
    "token_file = open(\"tokens.txt\",\"r\",encoding='UTF8')\n",
    "tokens = token_file.read().split(\",\")\n",
    "token_file.close()\n",
    "\n",
    "\n",
    "class DivarSpider(scrapy.Spider):\n",
    "    name = \"divar\"\n",
    "    start_urls = [url.format(token) for token in tokens]\n",
    "\n",
    "    def parse(self, response):\n",
    "        info = response.css(\"div span.kt-group-row-item__value::text\")\n",
    "        erea = int(info[0].extract())\n",
    "        constraction = int(info[1].extract())\n",
    "        rooms = int(info[2].extract())\n",
    "\n",
    "        warehouse = False if \"ندارد\" in info[3].extract() else True\n",
    "        parking = False if \"ندارد\" in info[4].extract() else True\n",
    "        elevator = False if \"ندارد\" in info[5].extract() else True\n",
    "\n",
    "        description =response.css(\"div p.kt-description-row__text--primary::text\").extract()\n",
    "        tp = response.css(\"div p.kt-unexpandable-row__value::text\")\n",
    "        total_price = tp[0].extract()\n",
    "        price = tp[1].extract()\n",
    "        floor = tp[3].extract()\n",
    "        location = response.css(\"a button.kt-wrapper-row__child::text\").extract()\n",
    "        yield {\n",
    "            \"Area\":erea,\n",
    "            \"Constraction\":constraction,\n",
    "            \"Rooms\":rooms,\n",
    "            \"Warehouse\": warehouse,\n",
    "            \"Parking\":parking,\n",
    "            \"Elevator\":elevator,\n",
    "            \"Description\":description,\n",
    "            \"Total_price\":total_price,\n",
    "            \"Price\":price,\n",
    "            \"Floor\":floor,\n",
    "            \"location\":location\n",
    "        }\n"
   ]
  },
  {
   "cell_type": "markdown",
   "metadata": {},
   "source": [
    "برای پروژه فاز دوم انجام شد ولی برای گرفتن خروجی مشکل داشتم ونتونستم حلش کنم"
   ]
  },
  {
   "cell_type": "markdown",
   "metadata": {},
   "source": [
    "Supervised vs unsupervised\n",
    "\n",
    "what is Semisupevised\n",
    "\n",
    "what is the effect of Learning rate low and up\n",
    "\n",
    "nstance base vs model based\n",
    "\n",
    "Data is more important or algorithm \n",
    "\n",
    "what is the meaning of Overfit and underfit and what can we do if they happen?\n",
    "\n",
    "روش های گرادیان دیسنت چیست؟\n"
   ]
  },
  {
   "cell_type": "markdown",
   "metadata": {},
   "source": [
    "یادگیری تحت نظارت همانطور که از نام آن مشخص است حضور یک سرپرست به عنوان معلم دارد. \n",
    "اساساً یادگیری تحت نظارت زمانی است که ما ماشین را با استفاده از داده هایی که به خوبی برچسب گذاری شده اند آموزش می دهیم .\n",
    "این بدان معناست که برخی از داده ها قبلاً با پاسخ صحیح برچسب گذاری شده اند.\n",
    "پس از آن، مجموعه جدیدی از مثال‌ها (داده‌ها) به ماشین ارائه می‌شود تا الگوریتم یادگیری تحت نظارت، داده‌های آموزشی (مجموعه نمونه‌های آموزشی) را تجزیه و تحلیل کند و \n",
    "یک نتیجه درست از داده‌های برچسب‌گذاری شده تولید کند."
   ]
  },
  {
   "cell_type": "markdown",
   "metadata": {},
   "source": [
    "یادگیری بدون نظارت، آموزش ماشینی با استفاده از اطلاعاتی است که نه طبقه بندی شده و نه برچسب گذاری شده است و به الگوریتم اجازه می دهد \n",
    "تا بر روی آن اطلاعات بدون راهنمایی عمل کند. در اینجا وظیفه ماشین گروه بندی اطلاعات مرتب نشده بر اساس شباهت ها، الگوها و تفاوت ها بدون آموزش قبلی داده ها است.\n",
    "\n",
    "بر خلاف یادگیری تحت نظارت، هیچ معلمی ارائه نمی شود که به این معنی است که هیچ آموزشی به ماشین داده نخواهد شد. بنابراین ماشین محدود شده است \n",
    "تا ساختار پنهان در داده های بدون برچسب را به خودی خود پیدا کند."
   ]
  },
  {
   "cell_type": "markdown",
   "metadata": {},
   "source": [
    "یادگیری نیمه نظارت شده دسته وسیعی از تکنیک های یادگیری ماشینی است که از داده های برچسب دار و بدون برچسب استفاده می کند. \n",
    "به این ترتیب، همانطور که از نام آن پیداست، یک تکنیک ترکیبی بین یادگیری تحت نظارت و بدون نظارت است."
   ]
  },
  {
   "cell_type": "markdown",
   "metadata": {},
   "source": [
    "نرخ های یادگیری کم یا زیاد هم اتلاف وقت و هم منابع هستند. \n",
    "وقتی میزان یادگیری کمتری دارید، به معنای زمان بیشتری برای آموزش است. افزایش هزینه های پردازش گرافیکی ابری ناشی از افزایش زمان مورد نیاز \n",
    "برای اجرای واحد پردازش گرافیکی (GPU) است. اگر افزایش قابل توجهی در نرخ وجود داشته باشد، مدلی که قادر به پیش بینی چیزی نیست ممکن است غیر قابل اعتماد باشد"
   ]
  },
  {
   "cell_type": "markdown",
   "metadata": {},
   "source": [
    "تفاوت اصلی در این مدل ها نحوه تعمیم اطلاعات است. یادگیری مبتنی بر نمونه، تمام داده‌های یک مجموعه آموزشی را به خاطر می‌سپارد و سپس یک نقطه داده جدید را روی همان یا میانگین مقدار خروجی رایج‌ترین نقطه داده یا نقاط داده مشابهی که حفظ کرده است، تنظیم می‌کند. در یادگیری مبتنی بر مدل، مدل یک خط پیش‌بینی یا بخش‌های پیش‌بینی را بر اساس ویژگی‌های مختلف داده‌هایی که روی آن آموزش داده است، ایجاد می‌کند. سپس یک نقطه داده جدید بر اساس ویژگی هایی که دارد در امتداد این خط یا در بخش های خاصی قرار می گیرد"
   ]
  },
  {
   "cell_type": "markdown",
   "metadata": {},
   "source": [
    "کیفیت نتایج به‌دست‌آمده توسط بسیاری از الگوریتم‌ها کاملاً به میزان تناسب آنها با داده‌های واقعی بستگی دارد. \n",
    "طراحی الگوریتم‌ها بدون داده‌های کافی برای پشتیبان‌گیری و آزمایش آن‌ها تقریباً شبیه ساختن آن‌ها در پشت درهای بسته است."
   ]
  },
  {
   "cell_type": "markdown",
   "metadata": {},
   "source": [
    "برازش بیش از حد: زمانی گفته می شود که مدل آماری بیش از حد برازش داده می شود که مدل پیش بینی دقیقی در مورد داده های آزمایشی انجام ندهد. \n",
    "    هنگامی که یک مدل با داده های زیادی آموزش می بیند، شروع به یادگیری از نویز و ورودی داده های نادرست در مجموعه داده های ما می کند. و\n",
    "    هنگام آزمایش با داده های آزمون، واریانس بالا را نشان می دهد. سپس مدل به دلیل جزئیات و نویز زیاد، داده ها را به درستی دسته بندی نمی کند. \n",
    "    علل اضافه برازش روش‌های ناپارامتریک و غیرخطی هستند زیرا این نوع الگوریتم‌های یادگیری ماشین آزادی بیشتری \n",
    "    در ساخت مدل بر اساس مجموعه داده دارند و بنابراین واقعاً می‌توانند مدل‌های غیرواقعی بسازند. یک راه حل برای جلوگیری از برازش بیش از حد، استفاده \n",
    "    از الگوریتم خطی در صورت داشتن داده های خطی یا استفاده از پارامترهایی مانند حداکثر عمق اگر از درخت های تصمیم استفاده می کنیم.\n",
    "    عدم تناسب: مدل آماری یا الگوریتم یادگیری ماشین زمانی که نتواند روند اساسی داده ها را ثبت کند، به عنوان مثال، فقط در داده های آموزشی خوب عمل می کند،\n",
    "        اما در داده های آزمایشی ضعیف عمل می کند، گفته می شود که فاقد برازش است.  عدم تناسب اندام دقت مدل یادگیری ماشینی ما را از بین می برد.\n",
    "        وقوع آن به سادگی به این معنی است که مدل یا الگوریتم ما به اندازه کافی با داده ها مطابقت ندارد. معمولا زمانی اتفاق می افتد که داده های کمتری برای \n",
    "        ساخت یک مدل دقیق داشته باشیم و همچنین زمانی که سعی می کنیم یک مدل خطی با داده های غیر خطی کمتر بسازیم. \n",
    "        در چنین مواردی، قوانین مدل یادگیری ماشینی بسیار آسان و منعطف هستند که نمی‌توانند روی چنین داده‌های حداقلی اعمال شوند و بنابراین مدل احتمالاً پیش‌بینی‌های \n",
    "        اشتباه زیادی خواهد داشت. با استفاده از داده های بیشتر و همچنین کاهش ویژگی ها با انتخاب ویژگی، می توان از عدم تناسب اجتناب کرد."
   ]
  },
  {
   "cell_type": "markdown",
   "metadata": {},
   "source": [
    "BATCH GRADIENT DESCENT\n",
    "STOCHASTIC GRADIENT DESCENT\n",
    "MINI-BATCH GRADIENT DESCENT"
   ]
  }
 ],
 "metadata": {
  "colab": {
   "provenance": []
  },
  "kernelspec": {
   "display_name": "Python 3 (ipykernel)",
   "language": "python",
   "name": "python3"
  },
  "language_info": {
   "codemirror_mode": {
    "name": "ipython",
    "version": 3
   },
   "file_extension": ".py",
   "mimetype": "text/x-python",
   "name": "python",
   "nbconvert_exporter": "python",
   "pygments_lexer": "ipython3",
   "version": "3.10.7"
  },
  "vscode": {
   "interpreter": {
    "hash": "916dbcbb3f70747c44a77c7bcd40155683ae19c65e1c03b4aa3499c5328201f1"
   }
  }
 },
 "nbformat": 4,
 "nbformat_minor": 1
}
