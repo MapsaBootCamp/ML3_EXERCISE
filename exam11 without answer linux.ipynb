{
 "cells": [
  {
   "cell_type": "markdown",
   "id": "29f5e5d5-7cc9-4dc4-8d4a-8cca2ba1bd63",
   "metadata": {},
   "source": [
    "۱-چیست و شرط لازم برای استفاده از آنها چیستensemble learning روش های"
   ]
  },
  {
   "cell_type": "markdown",
   "id": "4fb4cd6c-fe75-4235-9f36-f5e0ae762d97",
   "metadata": {},
   "source": [
    "۲- را برای بهبود پیشنهاد میدهید ensembleشرکتی چند مدل برای پیش بینی قیمت نهایی کالا ترین کرده ولی همه ی آنها حتی روی داده های ترین هم به خوبی پاسخگو نیستند کدام روش"
   ]
  },
  {
   "cell_type": "markdown",
   "id": "91508051-f77b-47c7-9e65-a8919ca04a3c",
   "metadata": {},
   "source": [
    "۳- دو معیار برای پیدا کردن ریشه در درخت تصمیم چیست و سه الگوریتم برای ایجاد آن را نام ببرید"
   ]
  },
  {
   "cell_type": "markdown",
   "id": "5a320be6-df7a-41e5-9993-ae62cbe1cd8f",
   "metadata": {},
   "source": [
    "۴-  چی بودbootstrapمنظور از"
   ]
  },
  {
   "cell_type": "markdown",
   "id": "891f5c1c-1f06-46c0-ae05-f49c84cd9854",
   "metadata": {},
   "source": [
    "۵-  را میتوان روی داده های لیبل دار زد ؟ چه روشی پیشنهاد شماست؟pcaآیا"
   ]
  },
  {
   "cell_type": "markdown",
   "id": "ec19e180",
   "metadata": {},
   "source": [
    "۶-نیاز به استقلال دارد random forest چرا"
   ]
  },
  {
   "cell_type": "markdown",
   "id": "545338d1-b978-4041-8537-b2b2cd2b8cad",
   "metadata": {
    "tags": []
   },
   "source": [
    "‍7-  دو دیتای داده شده را با درخت تصمیم پیش بینی کرده و درخت را پرینت بگیریدirisروی دیتاست "
   ]
  },
  {
   "cell_type": "markdown",
   "id": "2db117ee",
   "metadata": {},
   "source": [
    "۸- روی دیتای پیش بینی بیماری قلبی با استفاده از\n",
    " درsvmالگوریتم \n",
    "greed search \n",
    "وrandom search\n",
    "پیش بینی را انجام دهید\n"
   ]
  },
  {
   "cell_type": "markdown",
   "id": "5666af34-d162-40d2-967d-2768b35dfeff",
   "metadata": {},
   "source": [
    "## linux\n"
   ]
  },
  {
   "cell_type": "markdown",
   "id": "73d9c43d-d874-4eda-9a01-ee8e34d1dff9",
   "metadata": {},
   "source": [
    "1-برای تنظیمات گراب بهتر است کدوم فولدر تغییر داده شود "
   ]
  },
  {
   "cell_type": "markdown",
   "id": "bd46dcca",
   "metadata": {},
   "source": [
    "To edit grub, make your changes to /etc/default/grub . Then run sudo update-grub . The update-grub will make the permanent changes to your grub"
   ]
  },
  {
   "cell_type": "markdown",
   "id": "c36d1a0e-f752-45f4-b92f-c680869b988b",
   "metadata": {},
   "source": [
    "2-\n",
    "شما برنامه ای را برای پیش بینی قیمت کالا نوشته اید این برمامه برای ران شدن احتیاج به خواندن ورودی به عنوان کانفیگ دارد کانفیگ های برنامه بهتر است چگونه و در کجا اعمال شوند "
   ]
  },
  {
   "cell_type": "markdown",
   "id": "9b282b23",
   "metadata": {},
   "source": [
    "etc\n",
    "درستش اینه که اینجا فایل های کانفینگ باشه که از بینظمی جلوگیری بشه استاندارد کار این است. ولی خوب در حقیقت همه جا میشه کانفینگ رو اعمال کرد"
   ]
  },
  {
   "cell_type": "markdown",
   "id": "642d457d-eab7-4ddc-a5a4-84a9a7812ccc",
   "metadata": {},
   "source": [
    "3-به نظر شما نود پرینتر یا هر سخت افزار در کدام فولدر ذخیره میشود"
   ]
  },
  {
   "cell_type": "code",
   "execution_count": null,
   "id": "31c0e1b4",
   "metadata": {},
   "outputs": [],
   "source": [
    "dev"
   ]
  },
  {
   "cell_type": "markdown",
   "id": "db463e48-f31a-47d6-a236-703f95035b23",
   "metadata": {},
   "source": [
    "4-چیست bios کار "
   ]
  },
  {
   "cell_type": "markdown",
   "id": "813a64af",
   "metadata": {},
   "source": [
    "وقتی دکمه کامپیوترمون رو میزنیم توی مرحله اول سیستم عامل کوچیکی به اسم بایوس میاد بالا که یک نرم افزار است. در همه سیستم های کوچک و بزرگ و حتی سرورها هم وجود دارد\n",
    "بر اساس اون ترتیبی که ما قبلا بهش گفتیم میاد و سخت افزار های لازم برای سیستم عامل رو چک میکنه\n",
    "\n",
    "basic input and output supervisor\n",
    "همه ورودی خروجی های کوچیک رو چک میکنه \n",
    "یعنی تمام اون کامپوننت هایی رو میاد چک میکنه که برای حیات سیستم عامل ضروری هست \n",
    "مثل رم یا سی پی یو یا دی وایسی که قرار سیستم عامل رو بیاره بالا  ....\n",
    "ولی چیزهایی مثل کیبورد و ماس رو چک نمیکنه. چیزهای حیاتی رو چک میکنه\n",
    "تمام هشدار هاش هم با بوق است\n",
    "حالا هر قسمتی خراب باشه یه جور بوق میزنه. مثلا رم خراب است یه جور سی پی یو یه جور\n",
    "\n",
    "بر اساس اونچه ما بهش گفتیم میره میگرده و روشن شدن سیستم عامل رو میده دست یکی از اوم موارد اگه پیدا نشه به هارد میگه گشتم چیزی نبود حالا تو بگو چکار باید کرد\n",
    "و کارش تموم میشه\n"
   ]
  },
  {
   "cell_type": "markdown",
   "id": "9742cbfc",
   "metadata": {},
   "source": [
    "5- منظور از ~ چیست"
   ]
  },
  {
   "cell_type": "code",
   "execution_count": null,
   "id": "ce176ceb",
   "metadata": {},
   "outputs": [],
   "source": [
    "یعنی الان \n",
    "home \n",
    "هستی"
   ]
  }
 ],
 "metadata": {
  "kernelspec": {
   "display_name": "Python 3 (ipykernel)",
   "language": "python",
   "name": "python3"
  },
  "language_info": {
   "codemirror_mode": {
    "name": "ipython",
    "version": 3
   },
   "file_extension": ".py",
   "mimetype": "text/x-python",
   "name": "python",
   "nbconvert_exporter": "python",
   "pygments_lexer": "ipython3",
   "version": "3.10.6"
  }
 },
 "nbformat": 4,
 "nbformat_minor": 5
}
