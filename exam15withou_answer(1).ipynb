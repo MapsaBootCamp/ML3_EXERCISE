{
 "cells": [
  {
   "cell_type": "markdown",
   "metadata": {
    "id": "TPSTTQn4hn7A"
   },
   "source": [
    "1-لابه ای برای مدل بنویسید که متن زیر را گرفته علامت های نگارشی را حذف کرده و سایز کلمات را تا 5 در نظر بگیردو خروجی  به صورت عددی باشد\n",
    "\n",
    "text = \"are/ you ready .?! yes iam resdy&()\"\n"
   ]
  },
  {
   "cell_type": "code",
   "execution_count": 7,
   "metadata": {
    "tags": []
   },
   "outputs": [],
   "source": [
    "text = \"are/ you ready .?! yes iam resdy&()\"\n",
    "import tensorflow as tf\n",
    "from tensorflow.keras.layers.experimental.preprocessing import TextVectorization"
   ]
  },
  {
   "cell_type": "code",
   "execution_count": 36,
   "metadata": {
    "tags": []
   },
   "outputs": [],
   "source": [
    "text_dataset = tf.data.Dataset.from_tensor_slices([text])\n",
    "max_features = 5 # Maximum vocab size.\n"
   ]
  },
  {
   "cell_type": "code",
   "execution_count": 37,
   "metadata": {
    "tags": []
   },
   "outputs": [],
   "source": [
    "vectorize_layer=tf.keras.layers.TextVectorization(\n",
    "    max_tokens=max_features,\n",
    "    # remove punctuations\n",
    "    standardize=\"lower_and_strip_punctuation\",\n",
    "    output_mode=\"int\",\n",
    "    encoding=\"utf-8\",\n",
    ")\n"
   ]
  },
  {
   "cell_type": "code",
   "execution_count": 39,
   "metadata": {
    "tags": []
   },
   "outputs": [],
   "source": [
    "vectorize_layer.adapt(text_dataset.batch(64))\n"
   ]
  },
  {
   "cell_type": "code",
   "execution_count": 46,
   "metadata": {
    "tags": []
   },
   "outputs": [
    {
     "name": "stdout",
     "output_type": "stream",
     "text": [
      "1/1 [==============================] - 0s 150ms/step\n"
     ]
    },
    {
     "data": {
      "text/plain": [
       "array([[3]])"
      ]
     },
     "execution_count": 46,
     "metadata": {},
     "output_type": "execute_result"
    }
   ],
   "source": [
    "model = tf.keras.models.Sequential()\n",
    "model.add(tf.keras.Input(shape=(1,), dtype=tf.string))\n",
    "model.add(vectorize_layer)\n",
    "input_data = [\"yes\"]\n",
    "model.predict(input_data)\n"
   ]
  },
  {
   "cell_type": "markdown",
   "metadata": {
    "id": "uogtIMERlzcQ"
   },
   "source": [
    "## 2-با استفاده از \n",
    "\n",
    "tokenizer \n",
    "\n",
    "جمله زیر را توکن بندی کنید و ایندکس های تخصیص داده شده را نشان دهید\n",
    "\n",
    "test_data = [\n",
    "  \"Enjoy coffee this morning.\",\n",
    "  \"I enjoy going to the supermarket.\",\n",
    "  \"Want some milk for your coffee?\"\n",
    "]"
   ]
  },
  {
   "cell_type": "code",
   "execution_count": 47,
   "metadata": {
    "tags": []
   },
   "outputs": [
    {
     "name": "stdout",
     "output_type": "stream",
     "text": [
      "{'enjoy': 1, 'coffee': 2, 'this': 3, 'morning': 4, 'i': 5, 'going': 6, 'to': 7, 'the': 8, 'supermarket': 9, 'want': 10, 'some': 11, 'milk': 12, 'for': 13, 'your': 14}\n"
     ]
    }
   ],
   "source": [
    "from keras.preprocessing.text import Tokenizer\n",
    "test_data = [ \"Enjoy coffee this morning.\", \"I enjoy going to the supermarket.\", \"Want some milk for your coffee?\" ]\n",
    "tokenizer = Tokenizer(num_words=100)\n",
    "tokenizer.fit_on_texts(test_data)\n",
    "print(dict(list(tokenizer.word_index.items())))"
   ]
  },
  {
   "cell_type": "markdown",
   "metadata": {
    "id": "lJlnrCOEnJT5"
   },
   "source": [
    "3-دو روش برخورد با داده های متنی به طور کلی چیست و چه زمانی از کدام روش استقاده میکنیم؟\n"
   ]
  },
  {
   "cell_type": "markdown",
   "metadata": {},
   "source": [
    "#### 1.Bag-of-words approaches:\n",
    "The simplest way to encode a piece of text for processing by a machine learning\n",
    "model is to discard order and treat it as a set (a “bag”) of tokens. You could either look\n",
    "at individual words (unigrams), or try to recover some local order information by\n",
    "looking at groups of consecutive token (N-grams)\n",
    "#### 2.sequence-modeling:\n",
    "To implement a sequence model, you’d start by representing your input samples as\n",
    "sequences of integer indices (one integer standing for one word). Then, you’d map\n",
    "each integer to a vector to obtain vector sequences. Finally, you’d feed these\n",
    "sequences of vectors into a stack of layers that could cross-correlate features from adja-\n",
    "cent vectors, such as a 1D convnet, a RNN, or a Transformer.\n"
   ]
  },
  {
   "cell_type": "markdown",
   "metadata": {
    "id": "Aol8RBXOoSJM"
   },
   "source": [
    "linux\n",
    "\n",
    "1- فرمانی بنویسید که متنی را خوانده و هر جا اسم شما بود را با کلمه دیگری \n",
    "جایگزین کرده و آن را در فایل جدیدی ذخیره کند\n",
    "----> sed 's/your_name/replacement_word/g' input_file.txt > output_file.txt\n",
    "\n",
    "\n",
    "2- پرینت کنید services ردیف سوم فایل\n",
    "\n",
    "3- vimدستورات زیر در \n",
    "\n",
    "چکاری انجام می دهند\n",
    "\n",
    "/---->it is used to separate directory names and file names in a file path\n",
    "\n",
    "escape---->the backslash (\\) is used as an escape character to indicate that the next character should be treated as a literal character rather than as a special character\n",
    "\n",
    ":\n",
    "\n",
    ":wq---->To save a file, you must first be in Command mode. Press Esc to enter Command mode, and then type :wq to write and quit the file\n",
    "\n",
    "x---->The X command starts the X server, a display server that runs on bitmapped terminals\n",
    "\n",
    ":q!---->is a command used in the vi and vim text editors to exit the editor without saving any changes made to the file\n",
    "\n",
    "u\n",
    "\n",
    "ctl + r---->Recall the last command matching the characters you provide\n",
    "\n",
    "d+4+d\n",
    "\n",
    "p---->-p. Creates missing intermediate path name directories. If the -p flag is not specified, the parent directory of each-newly created directory must already exist\n",
    "\n",
    "y+2+y\n",
    "\n",
    "dd---->Majorly used for creating bootable USB sticks\n",
    "\n",
    "yy\n",
    "\n",
    "\n",
    "4- کامندی برای کنترل رمان استفاده از لینوکس\n",
    "date +%T -s \"10:10:10\""
   ]
  },
  {
   "cell_type": "code",
   "execution_count": null,
   "metadata": {},
   "outputs": [],
   "source": []
  }
 ],
 "metadata": {
  "colab": {
   "provenance": []
  },
  "kernelspec": {
   "display_name": "Python 3 (ipykernel)",
   "language": "python",
   "name": "python3"
  },
  "language_info": {
   "codemirror_mode": {
    "name": "ipython",
    "version": 3
   },
   "file_extension": ".py",
   "mimetype": "text/x-python",
   "name": "python",
   "nbconvert_exporter": "python",
   "pygments_lexer": "ipython3",
   "version": "3.10.6"
  }
 },
 "nbformat": 4,
 "nbformat_minor": 4
}
