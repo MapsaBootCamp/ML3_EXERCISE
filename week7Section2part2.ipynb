{
 "cells": [
  {
   "cell_type": "markdown",
   "id": "0b5cd4b6",
   "metadata": {},
   "source": [
    "# Machine Learning Camp: HomeWork 7 Section 2 part2"
   ]
  },
  {
   "cell_type": "markdown",
   "id": "116ebbe3",
   "metadata": {},
   "source": [
    "# 2. Walmart Sales Analysis: load and read the dataset walmart_sales.csv and walmart_fuel_prices.csv.\n",
    "\n",
    "<!-- We will follow the following data description when working with the above 2 datasets:\n",
    "\n",
    "index: index is a default value of count\n",
    "Store: Store is represented in number ID(1,2,3,4,...)\n",
    "Dept: Dept is Department in each Store represented in number ID (1,2,3,4,...)\n",
    "Date: Date is in YYYY-MM-DD char format - needs to be converted into Date data type\n",
    "Weekly_Sales: Sales of a given Dept in a given Store for the Date\n",
    "Temperature: Average temperature on the Date at given Store region\n",
    "Fuel_Price: Cost of the Fuel on the given Date at a given Store\n",
    "IsHoliday: Is the given Date a holiday Week? -->"
   ]
  },
  {
   "cell_type": "markdown",
   "id": "f265195a",
   "metadata": {},
   "source": [
    "We will follow the following data description when working with the above 2 datasets:\n",
    "\n",
    "index: index is a default value of count\n",
    "\n",
    "Store: Store is represented in number ID(1,2,3,4,...)\n",
    "\n",
    "Dept: Dept is Department in each Store represented in number ID (1,2,3,4,...)\n",
    "\n",
    "Date: Date is in YYYY-MM-DD char format - needs to be converted into Date data type\n",
    "\n",
    "Weekly_Sales: Sales of a given Dept in a given Store for the Date\n",
    "\n",
    "Temperature: Average temperature on the Date at given Store region\n",
    "\n",
    "Fuel_Price: Cost of the Fuel on the given Date at a given Store\n",
    "\n",
    "IsHoliday: Is the given Date a holiday Week?"
   ]
  },
  {
   "cell_type": "code",
   "execution_count": 285,
   "id": "2aaf23dc",
   "metadata": {},
   "outputs": [],
   "source": [
    "import pandas as pd\n",
    "import seaborn as sns\n",
    "import holidays\n",
    "import collections"
   ]
  },
  {
   "cell_type": "markdown",
   "id": "bcc60064",
   "metadata": {},
   "source": [
    "### a. For both datasets, breakdown the Date column and create additional new columns Year, Month, and Day. You should now have additional 3 new columns in your both dataset. Report only the column names for both the dataset."
   ]
  },
  {
   "cell_type": "code",
   "execution_count": 112,
   "id": "662c7664",
   "metadata": {},
   "outputs": [],
   "source": [
    "walmart_sales = pd.read_csv(\"walmart_sales.csv\",parse_dates=[\"Date\"],index_col=\"Date\")\n",
    "walmart_fuel_prices = pd.read_csv(\"walmart_fuel_prices.csv\",parse_dates=[\"Date\"],index_col=\"Date\")"
   ]
  },
  {
   "cell_type": "code",
   "execution_count": 113,
   "id": "7818df7b",
   "metadata": {},
   "outputs": [],
   "source": [
    "def additional_new_columns(data):\n",
    "    data[\"Year\"] = data.index.year\n",
    "    data[\"Month\"] = data.index.month\n",
    "    data[\"Day\"] = data.index.day\n",
    "additional_new_columns(walmart_sales)\n",
    "additional_new_columns(walmart_fuel_prices)"
   ]
  },
  {
   "cell_type": "code",
   "execution_count": 170,
   "id": "a2b070b3",
   "metadata": {},
   "outputs": [
    {
     "data": {
      "text/plain": [
       "Index(['Store', 'Dept', 'Weekly_Sales', 'IsHoliday', 'Year', 'Month', 'Day'], dtype='object')"
      ]
     },
     "execution_count": 170,
     "metadata": {},
     "output_type": "execute_result"
    }
   ],
   "source": [
    "walmart_sales.columns"
   ]
  },
  {
   "cell_type": "code",
   "execution_count": 171,
   "id": "88bfcbe1",
   "metadata": {},
   "outputs": [
    {
     "data": {
      "text/plain": [
       "Index(['index', 'Store', 'Temperature', 'Fuel_Price', 'IsHoliday', 'Year',\n",
       "       'Month', 'Day'],\n",
       "      dtype='object')"
      ]
     },
     "execution_count": 171,
     "metadata": {},
     "output_type": "execute_result"
    }
   ],
   "source": [
    "walmart_fuel_prices.columns"
   ]
  },
  {
   "cell_type": "markdown",
   "id": "5a6b82a3",
   "metadata": {},
   "source": [
    "### b. In walmart_sales: which Month(s) of Year have the highest Weekly_Sales? Report the Year, Month, Store, and Dept."
   ]
  },
  {
   "cell_type": "code",
   "execution_count": 68,
   "id": "34999968",
   "metadata": {},
   "outputs": [
    {
     "data": {
      "text/html": [
       "<div>\n",
       "<style scoped>\n",
       "    .dataframe tbody tr th:only-of-type {\n",
       "        vertical-align: middle;\n",
       "    }\n",
       "\n",
       "    .dataframe tbody tr th {\n",
       "        vertical-align: top;\n",
       "    }\n",
       "\n",
       "    .dataframe thead th {\n",
       "        text-align: right;\n",
       "    }\n",
       "</style>\n",
       "<table border=\"1\" class=\"dataframe\">\n",
       "  <thead>\n",
       "    <tr style=\"text-align: right;\">\n",
       "      <th></th>\n",
       "      <th>Year</th>\n",
       "      <th>Month</th>\n",
       "      <th>Store</th>\n",
       "      <th>Dept</th>\n",
       "    </tr>\n",
       "    <tr>\n",
       "      <th>Date</th>\n",
       "      <th></th>\n",
       "      <th></th>\n",
       "      <th></th>\n",
       "      <th></th>\n",
       "    </tr>\n",
       "  </thead>\n",
       "  <tbody>\n",
       "    <tr>\n",
       "      <th>2010-11-26</th>\n",
       "      <td>2010</td>\n",
       "      <td>11</td>\n",
       "      <td>10</td>\n",
       "      <td>72</td>\n",
       "    </tr>\n",
       "  </tbody>\n",
       "</table>\n",
       "</div>"
      ],
      "text/plain": [
       "            Year  Month  Store  Dept\n",
       "Date                                \n",
       "2010-11-26  2010     11     10    72"
      ]
     },
     "execution_count": 68,
     "metadata": {},
     "output_type": "execute_result"
    }
   ],
   "source": [
    "b = walmart_sales.nlargest(1,['Weekly_Sales'])\n",
    "b[[\"Year\",\"Month\",\"Store\",\"Dept\"]]"
   ]
  },
  {
   "cell_type": "markdown",
   "id": "1be488ad",
   "metadata": {},
   "source": [
    "### c. In walmart_sales: calculate the average monthly sales by Department for each Store. Which Store(s) has the highest average monthly sales on the department(s)? Report the Store, Department, Date."
   ]
  },
  {
   "cell_type": "code",
   "execution_count": 533,
   "id": "b917e736",
   "metadata": {},
   "outputs": [
    {
     "data": {
      "text/html": [
       "<div>\n",
       "<style scoped>\n",
       "    .dataframe tbody tr th:only-of-type {\n",
       "        vertical-align: middle;\n",
       "    }\n",
       "\n",
       "    .dataframe tbody tr th {\n",
       "        vertical-align: top;\n",
       "    }\n",
       "\n",
       "    .dataframe thead th {\n",
       "        text-align: right;\n",
       "    }\n",
       "</style>\n",
       "<table border=\"1\" class=\"dataframe\">\n",
       "  <thead>\n",
       "    <tr style=\"text-align: right;\">\n",
       "      <th></th>\n",
       "      <th>Store</th>\n",
       "      <th>Month</th>\n",
       "      <th>Dept</th>\n",
       "      <th>Weekly_Sales</th>\n",
       "    </tr>\n",
       "  </thead>\n",
       "  <tbody>\n",
       "    <tr>\n",
       "      <th>8580</th>\n",
       "      <td>10</td>\n",
       "      <td>11</td>\n",
       "      <td>72</td>\n",
       "      <td>276410.0</td>\n",
       "    </tr>\n",
       "    <tr>\n",
       "      <th>30285</th>\n",
       "      <td>35</td>\n",
       "      <td>11</td>\n",
       "      <td>72</td>\n",
       "      <td>219789.0</td>\n",
       "    </tr>\n",
       "    <tr>\n",
       "      <th>8656</th>\n",
       "      <td>10</td>\n",
       "      <td>12</td>\n",
       "      <td>72</td>\n",
       "      <td>214197.0</td>\n",
       "    </tr>\n",
       "    <tr>\n",
       "      <th>12150</th>\n",
       "      <td>14</td>\n",
       "      <td>11</td>\n",
       "      <td>92</td>\n",
       "      <td>206537.0</td>\n",
       "    </tr>\n",
       "    <tr>\n",
       "      <th>12224</th>\n",
       "      <td>14</td>\n",
       "      <td>12</td>\n",
       "      <td>92</td>\n",
       "      <td>199631.0</td>\n",
       "    </tr>\n",
       "    <tr>\n",
       "      <th>...</th>\n",
       "      <td>...</td>\n",
       "      <td>...</td>\n",
       "      <td>...</td>\n",
       "      <td>...</td>\n",
       "    </tr>\n",
       "    <tr>\n",
       "      <th>29337</th>\n",
       "      <td>34</td>\n",
       "      <td>10</td>\n",
       "      <td>47</td>\n",
       "      <td>-598.0</td>\n",
       "    </tr>\n",
       "    <tr>\n",
       "      <th>13306</th>\n",
       "      <td>16</td>\n",
       "      <td>3</td>\n",
       "      <td>47</td>\n",
       "      <td>-832.0</td>\n",
       "    </tr>\n",
       "    <tr>\n",
       "      <th>37156</th>\n",
       "      <td>45</td>\n",
       "      <td>2</td>\n",
       "      <td>47</td>\n",
       "      <td>-875.0</td>\n",
       "    </tr>\n",
       "    <tr>\n",
       "      <th>1617</th>\n",
       "      <td>2</td>\n",
       "      <td>10</td>\n",
       "      <td>47</td>\n",
       "      <td>-1098.0</td>\n",
       "    </tr>\n",
       "    <tr>\n",
       "      <th>30131</th>\n",
       "      <td>35</td>\n",
       "      <td>9</td>\n",
       "      <td>47</td>\n",
       "      <td>-1306.0</td>\n",
       "    </tr>\n",
       "  </tbody>\n",
       "</table>\n",
       "<p>37900 rows × 4 columns</p>\n",
       "</div>"
      ],
      "text/plain": [
       "       Store  Month  Dept  Weekly_Sales\n",
       "8580      10     11    72      276410.0\n",
       "30285     35     11    72      219789.0\n",
       "8656      10     12    72      214197.0\n",
       "12150     14     11    92      206537.0\n",
       "12224     14     12    92      199631.0\n",
       "...      ...    ...   ...           ...\n",
       "29337     34     10    47        -598.0\n",
       "13306     16      3    47        -832.0\n",
       "37156     45      2    47        -875.0\n",
       "1617       2     10    47       -1098.0\n",
       "30131     35      9    47       -1306.0\n",
       "\n",
       "[37900 rows x 4 columns]"
      ]
     },
     "execution_count": 533,
     "metadata": {},
     "output_type": "execute_result"
    }
   ],
   "source": [
    "round((walmart_sales.groupby(by=['Store','Month','Dept'],as_index=False)\n",
    " .aggregate({'Weekly_Sales':'mean'})\n",
    " .sort_values('Weekly_Sales',ascending=False)),0)"
   ]
  },
  {
   "cell_type": "markdown",
   "id": "d0f57f86",
   "metadata": {},
   "source": [
    "### d. In walmart_sales: which month of year 2011 has the highest overall sales by Store? Name the holiday(Labor day, July 4th, Halloween, Thanksgiving, Christmas,... etcs) that falls on the month. After that do the same for 2012. Does the highest sales per month fall on the same holiday for both years? Report your findings for both year."
   ]
  },
  {
   "cell_type": "code",
   "execution_count": 546,
   "id": "c3daf4cd",
   "metadata": {},
   "outputs": [
    {
     "ename": "SyntaxError",
     "evalue": "invalid syntax (3858586339.py, line 6)",
     "output_type": "error",
     "traceback": [
      "\u001b[0;36m  Cell \u001b[0;32mIn [546], line 6\u001b[0;36m\u001b[0m\n\u001b[0;31m    call_holiday( , 2020)\u001b[0m\n\u001b[0m                  ^\u001b[0m\n\u001b[0;31mSyntaxError\u001b[0m\u001b[0;31m:\u001b[0m invalid syntax\n"
     ]
    }
   ],
   "source": [
    "def call_holiday(month , year):\n",
    "    for i in range(1,30):\n",
    "        if i<10:\n",
    "            holidays.US.get('0i-month-year')\n",
    "        \n",
    "call_holiday( , 2020)"
   ]
  },
  {
   "cell_type": "code",
   "execution_count": 339,
   "id": "f3b2d4c8",
   "metadata": {},
   "outputs": [],
   "source": [
    "def call_holiday(year):\n",
    "    counter_holiday=[]\n",
    "    for ptr in holidays.US(years = year).items():counter_holiday.append((ptr[0].month))\n",
    "    counterholiday = collections.Counter(counter_holiday)\n",
    "    return holidays.US(year),counterholiday"
   ]
  },
  {
   "cell_type": "code",
   "execution_count": 340,
   "id": "7135153d",
   "metadata": {},
   "outputs": [
    {
     "data": {
      "text/plain": [
       "({datetime.date(2011, 1, 1): \"New Year's Day\", datetime.date(2011, 1, 17): 'Martin Luther King Jr. Day', datetime.date(2011, 2, 21): \"Washington's Birthday\", datetime.date(2011, 5, 30): 'Memorial Day', datetime.date(2011, 7, 4): 'Independence Day', datetime.date(2011, 9, 5): 'Labor Day', datetime.date(2011, 10, 10): 'Columbus Day', datetime.date(2011, 11, 11): 'Veterans Day', datetime.date(2011, 11, 24): 'Thanksgiving', datetime.date(2011, 12, 25): 'Christmas Day', datetime.date(2011, 12, 26): 'Christmas Day (Observed)'},\n",
       " Counter({1: 2, 2: 1, 5: 1, 7: 1, 9: 1, 10: 1, 11: 2, 12: 2}))"
      ]
     },
     "execution_count": 340,
     "metadata": {},
     "output_type": "execute_result"
    }
   ],
   "source": [
    "call_holiday(2011)"
   ]
  },
  {
   "cell_type": "code",
   "execution_count": 341,
   "id": "d81f6df6",
   "metadata": {},
   "outputs": [
    {
     "data": {
      "text/plain": [
       "({datetime.date(2012, 1, 1): \"New Year's Day\", datetime.date(2012, 1, 2): \"New Year's Day (Observed)\", datetime.date(2012, 1, 16): 'Martin Luther King Jr. Day', datetime.date(2012, 2, 20): \"Washington's Birthday\", datetime.date(2012, 5, 28): 'Memorial Day', datetime.date(2012, 7, 4): 'Independence Day', datetime.date(2012, 9, 3): 'Labor Day', datetime.date(2012, 10, 8): 'Columbus Day', datetime.date(2012, 11, 11): 'Veterans Day', datetime.date(2012, 11, 12): 'Veterans Day (Observed)', datetime.date(2012, 11, 22): 'Thanksgiving', datetime.date(2012, 12, 25): 'Christmas Day'},\n",
       " Counter({1: 3, 2: 1, 5: 1, 7: 1, 9: 1, 10: 1, 11: 3, 12: 1}))"
      ]
     },
     "execution_count": 341,
     "metadata": {},
     "output_type": "execute_result"
    }
   ],
   "source": [
    "call_holiday(2012)"
   ]
  },
  {
   "cell_type": "code",
   "execution_count": 357,
   "id": "adb26be4",
   "metadata": {},
   "outputs": [],
   "source": [
    "def most_sales_month(year):\n",
    "    return walmart_sales[walmart_sales[\"Year\"]==year].resample(\"M\").sum().nlargest(1,[\"Weekly_Sales\"]).index[0].month"
   ]
  },
  {
   "cell_type": "code",
   "execution_count": 358,
   "id": "214adbc1",
   "metadata": {},
   "outputs": [
    {
     "name": "stdout",
     "output_type": "stream",
     "text": [
      "2011 most is Holiday\n",
      "2012 most is Holiday\n"
     ]
    }
   ],
   "source": [
    "def result_most(year):\n",
    "    if (call_holiday(year)[1][most_sales_month(year)])>0:\n",
    "        print(year , \"most is Holiday\")\n",
    "    else:\n",
    "        print(year , \"most is Holiday\")\n",
    "    \n",
    "result_most(2011)\n",
    "result_most(2012)"
   ]
  },
  {
   "cell_type": "markdown",
   "id": "cb3ddd28",
   "metadata": {},
   "source": [
    "### e. In walmart_sales: report the lowest sales per month for the year 2011 for IsHoliday == TRUE. Name the holiday(Labor day, July 4th, Halloween, Thanksgiving, Christmas,... etcs) that falls on the month. Do the same for 2012 and report if the lowest sales are on the same month."
   ]
  },
  {
   "cell_type": "code",
   "execution_count": 344,
   "id": "1cfce061",
   "metadata": {},
   "outputs": [],
   "source": [
    "def small_sales_month(year):\n",
    "    return walmart_sales[walmart_sales[\"Year\"]==year].resample(\"M\").sum().nsmallest(1,[\"Weekly_Sales\"]).index[0].month"
   ]
  },
  {
   "cell_type": "code",
   "execution_count": 345,
   "id": "f32a8340",
   "metadata": {},
   "outputs": [
    {
     "data": {
      "text/plain": [
       "1"
      ]
     },
     "execution_count": 345,
     "metadata": {},
     "output_type": "execute_result"
    }
   ],
   "source": [
    "small_sales_month(2011)"
   ]
  },
  {
   "cell_type": "code",
   "execution_count": 346,
   "id": "862f9d16",
   "metadata": {},
   "outputs": [
    {
     "data": {
      "text/plain": [
       "1"
      ]
     },
     "execution_count": 346,
     "metadata": {},
     "output_type": "execute_result"
    }
   ],
   "source": [
    "small_sales_month(2012)"
   ]
  },
  {
   "cell_type": "code",
   "execution_count": 347,
   "id": "3e164d03",
   "metadata": {},
   "outputs": [
    {
     "name": "stdout",
     "output_type": "stream",
     "text": [
      "2011 small is Holiday\n",
      "2012 small is Holiday\n"
     ]
    }
   ],
   "source": [
    "def result_small(year):\n",
    "    if (call_holiday(year)[1][small_sales_month(year)])>0:\n",
    "        print(year, \"small is Holiday\")\n",
    "    else:\n",
    "        print(year, \"small is NoHoliday\")\n",
    "    \n",
    "result_small(2011)\n",
    "result_small(2012)"
   ]
  },
  {
   "cell_type": "markdown",
   "id": "05f17fe5",
   "metadata": {},
   "source": [
    "### f. In walmart_sales: We have 45 unique stores. Generate a nice plot on the total sales by store for the year 2012. Report the Store number."
   ]
  },
  {
   "cell_type": "code",
   "execution_count": 369,
   "id": "aacc319f",
   "metadata": {},
   "outputs": [],
   "source": [
    "# walmart_sales[walmart_sales[\"Year\"]== 2012].groupby([\"Store\"])[\"Weekly_Sales\"].sum().plot()"
   ]
  },
  {
   "cell_type": "markdown",
   "id": "87b5f98e",
   "metadata": {},
   "source": [
    "### g. In walmart_fuel_prices: For the year 2011 do you think higher the temperature relates to higher fuel price? Support your answer with a nice plot."
   ]
  },
  {
   "cell_type": "code",
   "execution_count": 372,
   "id": "dbc100e6",
   "metadata": {},
   "outputs": [
    {
     "data": {
      "text/html": [
       "<div>\n",
       "<style scoped>\n",
       "    .dataframe tbody tr th:only-of-type {\n",
       "        vertical-align: middle;\n",
       "    }\n",
       "\n",
       "    .dataframe tbody tr th {\n",
       "        vertical-align: top;\n",
       "    }\n",
       "\n",
       "    .dataframe thead th {\n",
       "        text-align: right;\n",
       "    }\n",
       "</style>\n",
       "<table border=\"1\" class=\"dataframe\">\n",
       "  <thead>\n",
       "    <tr style=\"text-align: right;\">\n",
       "      <th></th>\n",
       "      <th>Temperature</th>\n",
       "      <th>Fuel_Price</th>\n",
       "    </tr>\n",
       "  </thead>\n",
       "  <tbody>\n",
       "    <tr>\n",
       "      <th>Temperature</th>\n",
       "      <td>1.00000</td>\n",
       "      <td>0.48825</td>\n",
       "    </tr>\n",
       "    <tr>\n",
       "      <th>Fuel_Price</th>\n",
       "      <td>0.48825</td>\n",
       "      <td>1.00000</td>\n",
       "    </tr>\n",
       "  </tbody>\n",
       "</table>\n",
       "</div>"
      ],
      "text/plain": [
       "             Temperature  Fuel_Price\n",
       "Temperature      1.00000     0.48825\n",
       "Fuel_Price       0.48825     1.00000"
      ]
     },
     "execution_count": 372,
     "metadata": {},
     "output_type": "execute_result"
    }
   ],
   "source": [
    "g = walmart_fuel_prices[walmart_fuel_prices[\"Year\"] == 2011][['Temperature','Fuel_Price']].corr()\n",
    "g"
   ]
  },
  {
   "cell_type": "code",
   "execution_count": 374,
   "id": "71c5f4b7",
   "metadata": {},
   "outputs": [
    {
     "data": {
      "text/plain": [
       "<AxesSubplot:>"
      ]
     },
     "execution_count": 374,
     "metadata": {},
     "output_type": "execute_result"
    },
    {
     "data": {
      "image/png": "[encoded data removed]",
      "text/plain": [
       "<Figure size 640x480 with 2 Axes>"
      ]
     },
     "metadata": {},
     "output_type": "display_data"
    }
   ],
   "source": [
    "sns.heatmap(g, annot = True)"
   ]
  },
  {
   "cell_type": "markdown",
   "id": "14b5ce62",
   "metadata": {},
   "source": [
    "### h. In walmart_fuel_prices: For the year 2010 which Store had the lowest Fuel Price? Report the month and temperature. On the same month, what was the highest fuel price for the store? Report the difference."
   ]
  },
  {
   "cell_type": "code",
   "execution_count": 449,
   "id": "4e1692a6",
   "metadata": {},
   "outputs": [
    {
     "data": {
      "text/html": [
       "<div>\n",
       "<style scoped>\n",
       "    .dataframe tbody tr th:only-of-type {\n",
       "        vertical-align: middle;\n",
       "    }\n",
       "\n",
       "    .dataframe tbody tr th {\n",
       "        vertical-align: top;\n",
       "    }\n",
       "\n",
       "    .dataframe thead th {\n",
       "        text-align: right;\n",
       "    }\n",
       "</style>\n",
       "<table border=\"1\" class=\"dataframe\">\n",
       "  <thead>\n",
       "    <tr style=\"text-align: right;\">\n",
       "      <th></th>\n",
       "      <th>index</th>\n",
       "      <th>Store</th>\n",
       "      <th>Temperature</th>\n",
       "      <th>Fuel_Price</th>\n",
       "      <th>IsHoliday</th>\n",
       "      <th>Year</th>\n",
       "      <th>Month</th>\n",
       "      <th>Day</th>\n",
       "    </tr>\n",
       "    <tr>\n",
       "      <th>Date</th>\n",
       "      <th></th>\n",
       "      <th></th>\n",
       "      <th></th>\n",
       "      <th></th>\n",
       "      <th></th>\n",
       "      <th></th>\n",
       "      <th></th>\n",
       "      <th></th>\n",
       "    </tr>\n",
       "  </thead>\n",
       "  <tbody>\n",
       "    <tr>\n",
       "      <th>2010-02-19</th>\n",
       "      <td>6373</td>\n",
       "      <td>36</td>\n",
       "      <td>45.66</td>\n",
       "      <td>2.472</td>\n",
       "      <td>False</td>\n",
       "      <td>2010</td>\n",
       "      <td>2</td>\n",
       "      <td>19</td>\n",
       "    </tr>\n",
       "  </tbody>\n",
       "</table>\n",
       "</div>"
      ],
      "text/plain": [
       "            index  Store  Temperature  Fuel_Price  IsHoliday  Year  Month  Day\n",
       "Date                                                                          \n",
       "2010-02-19   6373     36        45.66       2.472      False  2010      2   19"
      ]
     },
     "execution_count": 449,
     "metadata": {},
     "output_type": "execute_result"
    }
   ],
   "source": [
    "df_walmart_fuel_prices= walmart_fuel_prices[walmart_fuel_prices[\"Year\"] == 2010]\n",
    "lowest = df_walmart_fuel_prices.nsmallest(1,[\"Fuel_Price\"])\n",
    "lowest"
   ]
  },
  {
   "cell_type": "code",
   "execution_count": 454,
   "id": "d7355fc8",
   "metadata": {},
   "outputs": [
    {
     "data": {
      "text/html": [
       "<div>\n",
       "<style scoped>\n",
       "    .dataframe tbody tr th:only-of-type {\n",
       "        vertical-align: middle;\n",
       "    }\n",
       "\n",
       "    .dataframe tbody tr th {\n",
       "        vertical-align: top;\n",
       "    }\n",
       "\n",
       "    .dataframe thead th {\n",
       "        text-align: right;\n",
       "    }\n",
       "</style>\n",
       "<table border=\"1\" class=\"dataframe\">\n",
       "  <thead>\n",
       "    <tr style=\"text-align: right;\">\n",
       "      <th></th>\n",
       "      <th>index</th>\n",
       "      <th>Store</th>\n",
       "      <th>Temperature</th>\n",
       "      <th>Fuel_Price</th>\n",
       "      <th>IsHoliday</th>\n",
       "      <th>Year</th>\n",
       "      <th>Month</th>\n",
       "      <th>Day</th>\n",
       "    </tr>\n",
       "    <tr>\n",
       "      <th>Date</th>\n",
       "      <th></th>\n",
       "      <th></th>\n",
       "      <th></th>\n",
       "      <th></th>\n",
       "      <th></th>\n",
       "      <th></th>\n",
       "      <th></th>\n",
       "      <th></th>\n",
       "    </tr>\n",
       "  </thead>\n",
       "  <tbody>\n",
       "    <tr>\n",
       "      <th>2010-12-31</th>\n",
       "      <td>2596</td>\n",
       "      <td>15</td>\n",
       "      <td>26.54</td>\n",
       "      <td>3.336</td>\n",
       "      <td>True</td>\n",
       "      <td>2010</td>\n",
       "      <td>12</td>\n",
       "      <td>31</td>\n",
       "    </tr>\n",
       "  </tbody>\n",
       "</table>\n",
       "</div>"
      ],
      "text/plain": [
       "            index  Store  Temperature  Fuel_Price  IsHoliday  Year  Month  Day\n",
       "Date                                                                          \n",
       "2010-12-31   2596     15        26.54       3.336       True  2010     12   31"
      ]
     },
     "execution_count": 454,
     "metadata": {},
     "output_type": "execute_result"
    }
   ],
   "source": [
    "df_walmart_fuel_prices[df_walmart_fuel_prices[\"Month\"] == lowest.values[0][-2]]\n",
    "largest = df_walmart_fuel_prices.nlargest(1,[\"Fuel_Price\"])\n",
    "largest"
   ]
  },
  {
   "cell_type": "code",
   "execution_count": 458,
   "id": "94fc9037",
   "metadata": {},
   "outputs": [
    {
     "data": {
      "text/plain": [
       "0.86"
      ]
     },
     "execution_count": 458,
     "metadata": {},
     "output_type": "execute_result"
    }
   ],
   "source": [
    "round(largest.values[0][3]-lowest.values[0][3],2)"
   ]
  },
  {
   "cell_type": "markdown",
   "id": "36c6aed1",
   "metadata": {},
   "source": [
    "### i. In walmart_fuel_prices: For the IsHoliday == TRUE, which month has the lowest Fuel Price for the year 2012? name the holiday(Labor day, July 4th, Halloween, Thanksgiving, Christmas,... etcs) that falls on the month. Also report month of the highest fuel price and name of the holiday."
   ]
  },
  {
   "cell_type": "code",
   "execution_count": 466,
   "id": "19817740",
   "metadata": {},
   "outputs": [
    {
     "name": "stdout",
     "output_type": "stream",
     "text": [
      "month is  2\n"
     ]
    },
    {
     "data": {
      "text/html": [
       "<div>\n",
       "<style scoped>\n",
       "    .dataframe tbody tr th:only-of-type {\n",
       "        vertical-align: middle;\n",
       "    }\n",
       "\n",
       "    .dataframe tbody tr th {\n",
       "        vertical-align: top;\n",
       "    }\n",
       "\n",
       "    .dataframe thead th {\n",
       "        text-align: right;\n",
       "    }\n",
       "</style>\n",
       "<table border=\"1\" class=\"dataframe\">\n",
       "  <thead>\n",
       "    <tr style=\"text-align: right;\">\n",
       "      <th></th>\n",
       "      <th>index</th>\n",
       "      <th>Store</th>\n",
       "      <th>Temperature</th>\n",
       "      <th>Fuel_Price</th>\n",
       "      <th>IsHoliday</th>\n",
       "      <th>Year</th>\n",
       "      <th>Month</th>\n",
       "      <th>Day</th>\n",
       "    </tr>\n",
       "    <tr>\n",
       "      <th>Date</th>\n",
       "      <th></th>\n",
       "      <th></th>\n",
       "      <th></th>\n",
       "      <th></th>\n",
       "      <th></th>\n",
       "      <th></th>\n",
       "      <th></th>\n",
       "      <th></th>\n",
       "    </tr>\n",
       "  </thead>\n",
       "  <tbody>\n",
       "    <tr>\n",
       "      <th>2012-02-03</th>\n",
       "      <td>1197</td>\n",
       "      <td>7</td>\n",
       "      <td>22.2</td>\n",
       "      <td>3.031</td>\n",
       "      <td>False</td>\n",
       "      <td>2012</td>\n",
       "      <td>2</td>\n",
       "      <td>3</td>\n",
       "    </tr>\n",
       "  </tbody>\n",
       "</table>\n",
       "</div>"
      ],
      "text/plain": [
       "            index  Store  Temperature  Fuel_Price  IsHoliday  Year  Month  Day\n",
       "Date                                                                          \n",
       "2012-02-03   1197      7         22.2       3.031      False  2012      2    3"
      ]
     },
     "execution_count": 466,
     "metadata": {},
     "output_type": "execute_result"
    }
   ],
   "source": [
    "df_walmart_fuel_prices= walmart_fuel_prices[walmart_fuel_prices[\"Year\"] == 2012]\n",
    "lowest = df_walmart_fuel_prices.nsmallest(1,[\"Fuel_Price\"])\n",
    "print(\"month is \",lowest.values[0][-2])\n",
    "lowest\n"
   ]
  },
  {
   "cell_type": "code",
   "execution_count": 510,
   "id": "03032e25",
   "metadata": {},
   "outputs": [
    {
     "name": "stdout",
     "output_type": "stream",
     "text": [
      "<function <lambda> at 0x7f30f8b45870>\n"
     ]
    }
   ],
   "source": [
    "print(lambda d: d in call_holiday(2020))"
   ]
  },
  {
   "cell_type": "code",
   "execution_count": null,
   "id": "d36d0b17",
   "metadata": {},
   "outputs": [],
   "source": []
  },
  {
   "cell_type": "code",
   "execution_count": 467,
   "id": "658c8169",
   "metadata": {},
   "outputs": [],
   "source": [
    "def call_holiday(year):\n",
    "    return holidays.US(year)"
   ]
  },
  {
   "cell_type": "code",
   "execution_count": 469,
   "id": "42ffbad9",
   "metadata": {},
   "outputs": [
    {
     "name": "stdout",
     "output_type": "stream",
     "text": [
      "<class 'holidays.countries.united_states.US'>\n"
     ]
    }
   ],
   "source": [
    "print(type(call_holiday(2020)))"
   ]
  },
  {
   "cell_type": "code",
   "execution_count": 495,
   "id": "1f0e30f5",
   "metadata": {},
   "outputs": [
    {
     "data": {
      "text/plain": [
       "False"
      ]
     },
     "execution_count": 495,
     "metadata": {},
     "output_type": "execute_result"
    }
   ],
   "source": [
    "import holidays\n",
    "\n",
    "# Create a dict-like object for England's public holidays\n",
    "uk_holidays = holidays.UK(subdiv=\"England\")\n",
    "\n",
    "# Check some dates:\n",
    "\"2022-04-15\" in uk_holidays  # True, Good Friday 2022\n",
    "\"2022-04-14\" in uk_holidays  # False, the day before is just a normal working day"
   ]
  },
  {
   "cell_type": "code",
   "execution_count": 512,
   "id": "4ff5408d",
   "metadata": {},
   "outputs": [
    {
     "ename": "AttributeError",
     "evalue": "'US' object has no attribute 'date'",
     "output_type": "error",
     "traceback": [
      "\u001b[0;31m---------------------------------------------------------------------------\u001b[0m",
      "\u001b[0;31mAttributeError\u001b[0m                            Traceback (most recent call last)",
      "Cell \u001b[0;32mIn [512], line 1\u001b[0m\n\u001b[0;32m----> 1\u001b[0m \u001b[38;5;28;01mfor\u001b[39;00m key, val \u001b[38;5;129;01min\u001b[39;00m \u001b[38;5;28msorted\u001b[39m(\u001b[43mcall_holiday\u001b[49m\u001b[43m(\u001b[49m\u001b[38;5;241;43m2020\u001b[39;49m\u001b[43m)\u001b[49m\u001b[38;5;241;43m.\u001b[39;49m\u001b[43mdate\u001b[49m()):\n\u001b[1;32m      2\u001b[0m     \u001b[38;5;28mprint\u001b[39m(key\u001b[38;5;241m.\u001b[39mmonth)\n",
      "\u001b[0;31mAttributeError\u001b[0m: 'US' object has no attribute 'date'"
     ]
    }
   ],
   "source": [
    "for key, val in sorted(call_holiday(2020).date()):\n",
    "    print(key.month)"
   ]
  },
  {
   "cell_type": "code",
   "execution_count": 506,
   "id": "ee05f7b5",
   "metadata": {},
   "outputs": [
    {
     "ename": "AttributeError",
     "evalue": "'dict_items' object has no attribute 'months'",
     "output_type": "error",
     "traceback": [
      "\u001b[0;31m---------------------------------------------------------------------------\u001b[0m",
      "\u001b[0;31mAttributeError\u001b[0m                            Traceback (most recent call last)",
      "Cell \u001b[0;32mIn [506], line 1\u001b[0m\n\u001b[0;32m----> 1\u001b[0m \u001b[43mcall_holiday\u001b[49m\u001b[43m(\u001b[49m\u001b[38;5;241;43m2020\u001b[39;49m\u001b[43m)\u001b[49m\u001b[38;5;241;43m.\u001b[39;49m\u001b[43mitems\u001b[49m\u001b[43m(\u001b[49m\u001b[43m)\u001b[49m\u001b[38;5;241;43m.\u001b[39;49m\u001b[43mmonths\u001b[49m\n",
      "\u001b[0;31mAttributeError\u001b[0m: 'dict_items' object has no attribute 'months'"
     ]
    }
   ],
   "source": [
    "call_holiday(2020).items().months"
   ]
  },
  {
   "cell_type": "code",
   "execution_count": 538,
   "id": "366b27df",
   "metadata": {},
   "outputs": [
    {
     "data": {
      "text/plain": [
       "\"New Year's Day\""
      ]
     },
     "execution_count": 538,
     "metadata": {},
     "output_type": "execute_result"
    }
   ],
   "source": [
    "uk_holidays.get('01-01-2018')"
   ]
  },
  {
   "cell_type": "code",
   "execution_count": null,
   "id": "6a4b5ae5",
   "metadata": {},
   "outputs": [],
   "source": []
  }
 ],
 "metadata": {
  "kernelspec": {
   "display_name": "Python 3 (ipykernel)",
   "language": "python",
   "name": "python3"
  },
  "language_info": {
   "codemirror_mode": {
    "name": "ipython",
    "version": 3
   },
   "file_extension": ".py",
   "mimetype": "text/x-python",
   "name": "python",
   "nbconvert_exporter": "python",
   "pygments_lexer": "ipython3",
   "version": "3.10.6"
  }
 },
 "nbformat": 4,
 "nbformat_minor": 5
}
