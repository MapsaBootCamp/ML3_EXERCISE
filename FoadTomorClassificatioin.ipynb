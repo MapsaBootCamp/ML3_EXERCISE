{
 "cells": [
  {
   "cell_type": "code",
   "execution_count": 2,
   "metadata": {},
   "outputs": [],
   "source": [
    "import numpy as np\n",
    "import pandas as pd\n",
    "import matplotlib.pyplot as plt\n",
    "import seaborn as sns\n",
    "import math\n",
    "import cv2\n",
    "import warnings\n",
    "import glob"
   ]
  },
  {
   "cell_type": "markdown",
   "metadata": {
    "tags": []
   },
   "source": [
    "### Function for file reading"
   ]
  },
  {
   "cell_type": "code",
   "execution_count": 3,
   "metadata": {},
   "outputs": [],
   "source": [
    "def myfn(img,i, margin=5 , limit=700):\n",
    "    edged = cv2.Canny(img, 10, 220)\n",
    "    dff=pd.DataFrame(edged)\n",
    "    cnt,x1 , x2 ,y1,y2=0,0,0,0,0\n",
    "    for i in range(margin ,dff.shape[1]-margin):\n",
    "\n",
    "        if (x1==0) & (dff.iloc[:,i].sum() > limit) :\n",
    "            x1=i\n",
    "            cnt+=1\n",
    "        if (x2==0) & (dff.iloc[:,-i].sum() > limit) :\n",
    "            x2=-i\n",
    "            cnt+=1\n",
    "        if cnt ==2:\n",
    "            break\n",
    "    cnt=0\n",
    "    for i in range(margin ,dff.shape[0]-margin):\n",
    "\n",
    "        if (y1==0) & (dff.iloc[i,:].sum() > limit) :\n",
    "            y1=i\n",
    "            cnt+=1\n",
    "        if (y2==0) & (dff.iloc[-i,:].sum() > limit) :\n",
    "            y2=-i\n",
    "            cnt+=1\n",
    "        if cnt ==2:\n",
    "            break\n",
    "    # print(x1,x2,y1,y2)\n",
    "    im = img[ y1:dff.shape[0]-margin+y2 , x1:dff.shape[1]-margin+x2]\n",
    "    imr = cv2.resize(im, (200, 250), interpolation = cv2.INTER_LINEAR)\n",
    "    # cv2.imwrite(f\"{i}.jpg\",imr)\n",
    "    return(imr)"
   ]
  },
  {
   "cell_type": "code",
   "execution_count": 4,
   "metadata": {},
   "outputs": [],
   "source": [
    "def openfiles(filename : list):\n",
    "\n",
    "    warnings.filterwarnings('ignore')\n",
    "    df=pd.DataFrame()\n",
    "\n",
    "    for i in range(1,len(filename)):\n",
    "        # print(i)\n",
    "        try:\n",
    "            img = cv2.imread(filename[i],cv2.IMREAD_GRAYSCALE)\n",
    "            im=myfn(img,i)\n",
    "            df=df.append(pd.DataFrame(im.reshape(-1, 1).T))\n",
    "            # print(df.info())\n",
    "        except:\n",
    "            print('error:',i)\n",
    "    return(df)\n"
   ]
  },
  {
   "cell_type": "code",
   "execution_count": 5,
   "metadata": {},
   "outputs": [
    {
     "name": "stdout",
     "output_type": "stream",
     "text": [
      "error: 36\n"
     ]
    },
    {
     "name": "stderr",
     "output_type": "stream",
     "text": [
      "libpng error: Read Error\n"
     ]
    },
    {
     "name": "stdout",
     "output_type": "stream",
     "text": [
      "error: 69\n",
      "error: 75\n",
      "error: 43\n",
      "error: 57\n",
      "error: 82\n",
      "error: 88\n"
     ]
    }
   ],
   "source": [
    "dfl0= openfiles((glob.glob('./data/no/*.*')))\n",
    "dfl1= openfiles((glob.glob('./data/yes/*.*')))\n",
    "dfl1['l']=1\n",
    "dfl0['l']=0\n",
    "df=dfl0.append(dfl1)"
   ]
  },
  {
   "cell_type": "code",
   "execution_count": 552,
   "metadata": {},
   "outputs": [
    {
     "data": {
      "text/html": [
       "<div>\n",
       "<style scoped>\n",
       "    .dataframe tbody tr th:only-of-type {\n",
       "        vertical-align: middle;\n",
       "    }\n",
       "\n",
       "    .dataframe tbody tr th {\n",
       "        vertical-align: top;\n",
       "    }\n",
       "\n",
       "    .dataframe thead th {\n",
       "        text-align: right;\n",
       "    }\n",
       "</style>\n",
       "<table border=\"1\" class=\"dataframe\">\n",
       "  <thead>\n",
       "    <tr style=\"text-align: right;\">\n",
       "      <th></th>\n",
       "      <th>0</th>\n",
       "      <th>1</th>\n",
       "      <th>2</th>\n",
       "      <th>3</th>\n",
       "      <th>4</th>\n",
       "      <th>5</th>\n",
       "      <th>6</th>\n",
       "      <th>7</th>\n",
       "      <th>8</th>\n",
       "      <th>9</th>\n",
       "      <th>...</th>\n",
       "      <th>49991</th>\n",
       "      <th>49992</th>\n",
       "      <th>49993</th>\n",
       "      <th>49994</th>\n",
       "      <th>49995</th>\n",
       "      <th>49996</th>\n",
       "      <th>49997</th>\n",
       "      <th>49998</th>\n",
       "      <th>49999</th>\n",
       "      <th>l</th>\n",
       "    </tr>\n",
       "  </thead>\n",
       "  <tbody>\n",
       "    <tr>\n",
       "      <th>0</th>\n",
       "      <td>12</td>\n",
       "      <td>8</td>\n",
       "      <td>9</td>\n",
       "      <td>13</td>\n",
       "      <td>14</td>\n",
       "      <td>14</td>\n",
       "      <td>14</td>\n",
       "      <td>14</td>\n",
       "      <td>14</td>\n",
       "      <td>14</td>\n",
       "      <td>...</td>\n",
       "      <td>11</td>\n",
       "      <td>11</td>\n",
       "      <td>11</td>\n",
       "      <td>11</td>\n",
       "      <td>11</td>\n",
       "      <td>11</td>\n",
       "      <td>11</td>\n",
       "      <td>11</td>\n",
       "      <td>11</td>\n",
       "      <td>0</td>\n",
       "    </tr>\n",
       "    <tr>\n",
       "      <th>0</th>\n",
       "      <td>0</td>\n",
       "      <td>0</td>\n",
       "      <td>0</td>\n",
       "      <td>0</td>\n",
       "      <td>0</td>\n",
       "      <td>0</td>\n",
       "      <td>0</td>\n",
       "      <td>0</td>\n",
       "      <td>0</td>\n",
       "      <td>0</td>\n",
       "      <td>...</td>\n",
       "      <td>0</td>\n",
       "      <td>0</td>\n",
       "      <td>0</td>\n",
       "      <td>0</td>\n",
       "      <td>0</td>\n",
       "      <td>0</td>\n",
       "      <td>0</td>\n",
       "      <td>0</td>\n",
       "      <td>0</td>\n",
       "      <td>0</td>\n",
       "    </tr>\n",
       "    <tr>\n",
       "      <th>0</th>\n",
       "      <td>10</td>\n",
       "      <td>10</td>\n",
       "      <td>10</td>\n",
       "      <td>10</td>\n",
       "      <td>10</td>\n",
       "      <td>9</td>\n",
       "      <td>9</td>\n",
       "      <td>9</td>\n",
       "      <td>9</td>\n",
       "      <td>9</td>\n",
       "      <td>...</td>\n",
       "      <td>9</td>\n",
       "      <td>9</td>\n",
       "      <td>9</td>\n",
       "      <td>9</td>\n",
       "      <td>9</td>\n",
       "      <td>9</td>\n",
       "      <td>9</td>\n",
       "      <td>9</td>\n",
       "      <td>9</td>\n",
       "      <td>0</td>\n",
       "    </tr>\n",
       "    <tr>\n",
       "      <th>0</th>\n",
       "      <td>0</td>\n",
       "      <td>0</td>\n",
       "      <td>0</td>\n",
       "      <td>0</td>\n",
       "      <td>0</td>\n",
       "      <td>0</td>\n",
       "      <td>0</td>\n",
       "      <td>0</td>\n",
       "      <td>0</td>\n",
       "      <td>0</td>\n",
       "      <td>...</td>\n",
       "      <td>0</td>\n",
       "      <td>0</td>\n",
       "      <td>0</td>\n",
       "      <td>0</td>\n",
       "      <td>0</td>\n",
       "      <td>0</td>\n",
       "      <td>0</td>\n",
       "      <td>0</td>\n",
       "      <td>0</td>\n",
       "      <td>0</td>\n",
       "    </tr>\n",
       "    <tr>\n",
       "      <th>0</th>\n",
       "      <td>2</td>\n",
       "      <td>2</td>\n",
       "      <td>2</td>\n",
       "      <td>2</td>\n",
       "      <td>2</td>\n",
       "      <td>2</td>\n",
       "      <td>2</td>\n",
       "      <td>2</td>\n",
       "      <td>2</td>\n",
       "      <td>2</td>\n",
       "      <td>...</td>\n",
       "      <td>2</td>\n",
       "      <td>2</td>\n",
       "      <td>2</td>\n",
       "      <td>2</td>\n",
       "      <td>2</td>\n",
       "      <td>2</td>\n",
       "      <td>2</td>\n",
       "      <td>2</td>\n",
       "      <td>2</td>\n",
       "      <td>0</td>\n",
       "    </tr>\n",
       "    <tr>\n",
       "      <th>...</th>\n",
       "      <td>...</td>\n",
       "      <td>...</td>\n",
       "      <td>...</td>\n",
       "      <td>...</td>\n",
       "      <td>...</td>\n",
       "      <td>...</td>\n",
       "      <td>...</td>\n",
       "      <td>...</td>\n",
       "      <td>...</td>\n",
       "      <td>...</td>\n",
       "      <td>...</td>\n",
       "      <td>...</td>\n",
       "      <td>...</td>\n",
       "      <td>...</td>\n",
       "      <td>...</td>\n",
       "      <td>...</td>\n",
       "      <td>...</td>\n",
       "      <td>...</td>\n",
       "      <td>...</td>\n",
       "      <td>...</td>\n",
       "      <td>...</td>\n",
       "    </tr>\n",
       "    <tr>\n",
       "      <th>0</th>\n",
       "      <td>0</td>\n",
       "      <td>0</td>\n",
       "      <td>1</td>\n",
       "      <td>3</td>\n",
       "      <td>0</td>\n",
       "      <td>1</td>\n",
       "      <td>0</td>\n",
       "      <td>0</td>\n",
       "      <td>0</td>\n",
       "      <td>2</td>\n",
       "      <td>...</td>\n",
       "      <td>7</td>\n",
       "      <td>1</td>\n",
       "      <td>1</td>\n",
       "      <td>3</td>\n",
       "      <td>1</td>\n",
       "      <td>0</td>\n",
       "      <td>0</td>\n",
       "      <td>0</td>\n",
       "      <td>0</td>\n",
       "      <td>1</td>\n",
       "    </tr>\n",
       "    <tr>\n",
       "      <th>0</th>\n",
       "      <td>0</td>\n",
       "      <td>0</td>\n",
       "      <td>0</td>\n",
       "      <td>0</td>\n",
       "      <td>0</td>\n",
       "      <td>0</td>\n",
       "      <td>0</td>\n",
       "      <td>0</td>\n",
       "      <td>0</td>\n",
       "      <td>0</td>\n",
       "      <td>...</td>\n",
       "      <td>0</td>\n",
       "      <td>0</td>\n",
       "      <td>0</td>\n",
       "      <td>0</td>\n",
       "      <td>0</td>\n",
       "      <td>0</td>\n",
       "      <td>0</td>\n",
       "      <td>0</td>\n",
       "      <td>0</td>\n",
       "      <td>1</td>\n",
       "    </tr>\n",
       "    <tr>\n",
       "      <th>0</th>\n",
       "      <td>1</td>\n",
       "      <td>1</td>\n",
       "      <td>1</td>\n",
       "      <td>1</td>\n",
       "      <td>1</td>\n",
       "      <td>1</td>\n",
       "      <td>1</td>\n",
       "      <td>1</td>\n",
       "      <td>1</td>\n",
       "      <td>1</td>\n",
       "      <td>...</td>\n",
       "      <td>1</td>\n",
       "      <td>1</td>\n",
       "      <td>1</td>\n",
       "      <td>1</td>\n",
       "      <td>1</td>\n",
       "      <td>1</td>\n",
       "      <td>1</td>\n",
       "      <td>1</td>\n",
       "      <td>1</td>\n",
       "      <td>1</td>\n",
       "    </tr>\n",
       "    <tr>\n",
       "      <th>0</th>\n",
       "      <td>0</td>\n",
       "      <td>0</td>\n",
       "      <td>0</td>\n",
       "      <td>0</td>\n",
       "      <td>0</td>\n",
       "      <td>0</td>\n",
       "      <td>0</td>\n",
       "      <td>0</td>\n",
       "      <td>0</td>\n",
       "      <td>0</td>\n",
       "      <td>...</td>\n",
       "      <td>0</td>\n",
       "      <td>0</td>\n",
       "      <td>0</td>\n",
       "      <td>0</td>\n",
       "      <td>0</td>\n",
       "      <td>0</td>\n",
       "      <td>0</td>\n",
       "      <td>0</td>\n",
       "      <td>0</td>\n",
       "      <td>1</td>\n",
       "    </tr>\n",
       "    <tr>\n",
       "      <th>0</th>\n",
       "      <td>0</td>\n",
       "      <td>0</td>\n",
       "      <td>0</td>\n",
       "      <td>0</td>\n",
       "      <td>0</td>\n",
       "      <td>0</td>\n",
       "      <td>0</td>\n",
       "      <td>0</td>\n",
       "      <td>0</td>\n",
       "      <td>0</td>\n",
       "      <td>...</td>\n",
       "      <td>88</td>\n",
       "      <td>98</td>\n",
       "      <td>89</td>\n",
       "      <td>0</td>\n",
       "      <td>0</td>\n",
       "      <td>0</td>\n",
       "      <td>0</td>\n",
       "      <td>0</td>\n",
       "      <td>123</td>\n",
       "      <td>1</td>\n",
       "    </tr>\n",
       "  </tbody>\n",
       "</table>\n",
       "<p>244 rows × 50001 columns</p>\n",
       "</div>"
      ],
      "text/plain": [
       "     0   1   2   3   4   5   6   7   8   9  ...  49991  49992  49993  49994  \\\n",
       "0   12   8   9  13  14  14  14  14  14  14  ...     11     11     11     11   \n",
       "0    0   0   0   0   0   0   0   0   0   0  ...      0      0      0      0   \n",
       "0   10  10  10  10  10   9   9   9   9   9  ...      9      9      9      9   \n",
       "0    0   0   0   0   0   0   0   0   0   0  ...      0      0      0      0   \n",
       "0    2   2   2   2   2   2   2   2   2   2  ...      2      2      2      2   \n",
       "..  ..  ..  ..  ..  ..  ..  ..  ..  ..  ..  ...    ...    ...    ...    ...   \n",
       "0    0   0   1   3   0   1   0   0   0   2  ...      7      1      1      3   \n",
       "0    0   0   0   0   0   0   0   0   0   0  ...      0      0      0      0   \n",
       "0    1   1   1   1   1   1   1   1   1   1  ...      1      1      1      1   \n",
       "0    0   0   0   0   0   0   0   0   0   0  ...      0      0      0      0   \n",
       "0    0   0   0   0   0   0   0   0   0   0  ...     88     98     89      0   \n",
       "\n",
       "    49995  49996  49997  49998  49999  l  \n",
       "0      11     11     11     11     11  0  \n",
       "0       0      0      0      0      0  0  \n",
       "0       9      9      9      9      9  0  \n",
       "0       0      0      0      0      0  0  \n",
       "0       2      2      2      2      2  0  \n",
       "..    ...    ...    ...    ...    ... ..  \n",
       "0       1      0      0      0      0  1  \n",
       "0       0      0      0      0      0  1  \n",
       "0       1      1      1      1      1  1  \n",
       "0       0      0      0      0      0  1  \n",
       "0       0      0      0      0    123  1  \n",
       "\n",
       "[244 rows x 50001 columns]"
      ]
     },
     "execution_count": 552,
     "metadata": {},
     "output_type": "execute_result"
    }
   ],
   "source": [
    "df"
   ]
  },
  {
   "cell_type": "markdown",
   "metadata": {
    "tags": []
   },
   "source": [
    "### Modelling definisiton"
   ]
  },
  {
   "cell_type": "code",
   "execution_count": 6,
   "metadata": {
    "tags": []
   },
   "outputs": [],
   "source": [
    "from sklearn import preprocessing\n",
    "from sklearn import metrics\n",
    "from sklearn.metrics import mean_absolute_error, confusion_matrix ,classification_report , accuracy_score ,f1_score , RocCurveDisplay, PrecisionRecallDisplay\n",
    "from sklearn.preprocessing import StandardScaler\n",
    "from sklearn.linear_model import SGDClassifier,Perceptron,LinearRegression, Ridge, SGDRegressor,LogisticRegression\n",
    "from sklearn.model_selection import train_test_split,GridSearchCV\n",
    "from sklearn.decomposition import PCA\n",
    "from sklearn.pipeline import Pipeline,make_pipeline\n",
    "from sklearn.neighbors import KNeighborsClassifier\n",
    "from sklearn.svm import SVC,SVR\n",
    "\n",
    "from sklearn.tree import DecisionTreeRegressor\n",
    "from sklearn.ensemble import BaggingRegressor, RandomForestClassifier , BaggingClassifier,AdaBoostClassifier\n",
    "import warnings\n",
    "import math"
   ]
  },
  {
   "cell_type": "code",
   "execution_count": 7,
   "metadata": {},
   "outputs": [],
   "source": [
    "X = df.iloc[:, :-1].values\n",
    "y = df.iloc[:,-1].values\n",
    "X_train, X_test, y_train, y_test = train_test_split(X, y , test_size=0.3 , random_state=85 )"
   ]
  },
  {
   "cell_type": "markdown",
   "metadata": {},
   "source": [
    "### Modelling Functions"
   ]
  },
  {
   "cell_type": "code",
   "execution_count": 8,
   "metadata": {},
   "outputs": [],
   "source": [
    "errors = pd.DataFrame(columns=['accuracy' , 'r2_score' ,'rmsep' ])\n",
    "def err(name,model,X_train, y_train,X_test,y_test):\n",
    "    model.fit(X_train, y_train)\n",
    "    y_predict = model.predict(X_test)\n",
    "    accuracy = accuracy_score(y_test, y_predict)\n",
    "    r2_score=metrics.r2_score(y_test, y_predict) \n",
    "    rmsep = 100*round(math.sqrt(metrics.mean_squared_error(y_test, y_predict)) / y_test.mean(),2)\n",
    "    errors.loc[name, :] = [accuracy ,r2_score, rmsep ]\n",
    "    return(y_predict)"
   ]
  },
  {
   "cell_type": "code",
   "execution_count": 9,
   "metadata": {},
   "outputs": [],
   "source": [
    "def rocplot(name, y_test, y_predict):\n",
    "    fpr, tpr, thresholds = metrics.roc_curve(y_test, y_predict)\n",
    "    roc_auc = metrics.auc(fpr, tpr)\n",
    "    display = metrics.RocCurveDisplay(fpr=fpr, tpr=tpr, roc_auc=roc_auc, estimator_name=name)\n",
    "    display.plot()\n"
   ]
  },
  {
   "cell_type": "markdown",
   "metadata": {
    "tags": []
   },
   "source": [
    "### Modelling"
   ]
  },
  {
   "cell_type": "markdown",
   "metadata": {},
   "source": [
    "<div dir = \"rtl\" style=\"direction:rtl;line-height:300%;\">\n",
    "\t<font face=\"XB Zar\" size=5 color=yellow>\n",
    "        <div  align=center>\n",
    "در ابتدا از \n",
    "PCA\n",
    "استفاده شد ولی باتوجه به کم بودن سمپلها جواب خوبی نمیدهد\n",
    "بنابراین روشهای انسمبل احتمالا بهتر جواب دهد"
   ]
  },
  {
   "cell_type": "code",
   "execution_count": null,
   "metadata": {},
   "outputs": [],
   "source": [
    "sgd=SGDClassifier()\n",
    "pca=PCA()\n",
    "pipe = make_pipeline(StandardScaler(),PCA(),SGDClassifier())\n",
    "model = GridSearchCV(pipe, param_grid=\n",
    "                     {'sgdclassifier__loss': ['hinge', 'log_loss', 'log', 'modified_huber', 'squared_hinge', 'perceptron', 'squared_error', 'huber',\n",
    "                                              'epsilon_insensitive', 'squared_epsilon_insensitive']})\n",
    "err(\"SGDClassifier\",model,X_train, y_train,X_test,y_test)\n",
    "# rocplot(\"SGDClassifier\", y_test, y_predict)\n",
    "errors"
   ]
  },
  {
   "cell_type": "code",
   "execution_count": 12,
   "metadata": {},
   "outputs": [
    {
     "data": {
      "text/html": [
       "<div>\n",
       "<style scoped>\n",
       "    .dataframe tbody tr th:only-of-type {\n",
       "        vertical-align: middle;\n",
       "    }\n",
       "\n",
       "    .dataframe tbody tr th {\n",
       "        vertical-align: top;\n",
       "    }\n",
       "\n",
       "    .dataframe thead th {\n",
       "        text-align: right;\n",
       "    }\n",
       "</style>\n",
       "<table border=\"1\" class=\"dataframe\">\n",
       "  <thead>\n",
       "    <tr style=\"text-align: right;\">\n",
       "      <th></th>\n",
       "      <th>accuracy</th>\n",
       "      <th>r2_score</th>\n",
       "      <th>rmsep</th>\n",
       "    </tr>\n",
       "  </thead>\n",
       "  <tbody>\n",
       "    <tr>\n",
       "      <th>PerceptronGridsearch</th>\n",
       "      <td>0.689189</td>\n",
       "      <td>-0.276819</td>\n",
       "      <td>96.0</td>\n",
       "    </tr>\n",
       "  </tbody>\n",
       "</table>\n",
       "</div>"
      ],
      "text/plain": [
       "                      accuracy  r2_score rmsep\n",
       "PerceptronGridsearch  0.689189 -0.276819  96.0"
      ]
     },
     "execution_count": 12,
     "metadata": {},
     "output_type": "execute_result"
    }
   ],
   "source": [
    "errors"
   ]
  },
  {
   "cell_type": "code",
   "execution_count": 11,
   "metadata": {},
   "outputs": [],
   "source": [
    "prc=Perceptron()\n",
    "pipe = make_pipeline(StandardScaler(),PCA(),Perceptron())\n",
    "model = GridSearchCV(pipe, param_grid={'pca__n_components':[0.95,10],'perceptron__warm_start': ['True', 'False'] , 'perceptron__penalty': ['elasticnet', 'l1', 'l2','None'] ,'perceptron__alpha': [0.0001,0.01 , 0.001] ,  })\n",
    "err(\"PerceptronGridsearch\",model,X_train, y_train,X_test,y_test)\n",
    "# print(errors)\n",
    "prcpar=model.best_params_\n",
    "# rocplot(\"PerceptronGridsearch\", y_test, y_predict)"
   ]
  },
  {
   "cell_type": "code",
   "execution_count": null,
   "metadata": {},
   "outputs": [],
   "source": [
    "paramsg={'logistic__penalty': ['l2' , 'elasticnet', 'none'],'logistic__C': [0.1,0.5],'logistic__max_iter': [500,100]}\n",
    "pipe = Pipeline(steps=[(\"scaler\", StandardScaler()), (\"logistic\", LogisticRegression())])\n",
    "\n",
    "model = GridSearchCV(pipe, param_grid=paramsg)\n",
    "err(\"logisticEdited\",model,X_train, y_train,X_test,y_test)\n",
    "logisticbest=model.best_params_\n",
    "print(errors,logisticbest)"
   ]
  },
  {
   "cell_type": "code",
   "execution_count": null,
   "metadata": {},
   "outputs": [],
   "source": [
    "pipe = Pipeline(steps=[(\"scaler\", StandardScaler()), (\"knn\", KNeighborsClassifier())])\n",
    "paramsg={'knn__n_neighbors': [3,5]}\n",
    "model = GridSearchCV(pipe, param_grid=paramsg)\n",
    "err(\"KNN\",model,X_train, y_train,X_test,y_test)\n",
    "KNNbest=model.best_params_\n"
   ]
  },
  {
   "cell_type": "code",
   "execution_count": null,
   "metadata": {},
   "outputs": [],
   "source": [
    "model= AdaBoostClassifier(base_estimator=LogisticRegression(C= 0.1, max_iter= 500, penalty= 'l2'), n_estimators=100, random_state=0)\n",
    "err(\"AdaBlogestic\",model,X_train, y_train,X_test,y_test)"
   ]
  },
  {
   "cell_type": "code",
   "execution_count": null,
   "metadata": {},
   "outputs": [],
   "source": [
    "model= AdaBoostClassifier(n_estimators=100, random_state=0)\n",
    "err(\"AdaB\",model,X_train, y_train,X_test,y_test)"
   ]
  },
  {
   "cell_type": "code",
   "execution_count": null,
   "metadata": {},
   "outputs": [],
   "source": []
  },
  {
   "cell_type": "code",
   "execution_count": null,
   "metadata": {},
   "outputs": [],
   "source": [
    "warnings.filterwarnings('ignore')\n",
    "\n",
    "pipe = Pipeline(steps=[(\"scaler\", StandardScaler()),('pca' , PCA()), (\"rfc\", RandomForestClassifier())])\n",
    "paramsg={'rfc__n_estimators': [30, 20], \"rfc__max_leaf_nodes\": [4, 6] , 'rfc__max_features' : [\"sqrt\", \"log2\", 'None'] , 'rfc__class_weight' : [\"balanced\", \"balanced_subsample\"] }\n",
    "model = GridSearchCV(pipe, param_grid=paramsg)\n",
    "# paramsg={'rfc__n_estimators': [30, 20], \"rfc__max_leaf_nodes\": [4, 6] , 'rfc__max_features' : [\"sqrt\", \"log2\", 'None'] , 'rfc__class_weight' : [\"balanced\", \"balanced_subsample\"] }\n",
    "\n",
    "bagmodel= BaggingClassifier(model, n_estimators=100, bootstrap=False, n_jobs=-1, max_samples=50)\n",
    "\n",
    "err(\"BagRF\",bagmodel,X_train, y_train,X_test,y_test)\n",
    "\n",
    "print(errors)"
   ]
  },
  {
   "cell_type": "markdown",
   "metadata": {
    "tags": []
   },
   "source": [
    "### Result"
   ]
  },
  {
   "cell_type": "markdown",
   "metadata": {},
   "source": [
    "<div dir = \"rtl\" style=\"direction:rtl;line-height:300%;\">\n",
    "\t<font face=\"XB Zar\" size=5 color=yellow>\n",
    "        <div  align=center>\n",
    "            بهترین نتیجه: \n",
    "        </div>\n",
    "        <br/>\n",
    "    </font>\n",
    "</div>"
   ]
  },
  {
   "cell_type": "code",
   "execution_count": 544,
   "metadata": {},
   "outputs": [],
   "source": [
    "model= AdaBoostClassifier(base_estimator=RandomForestClassifier(max_depth=2, random_state=0, class_weight = \"balanced_subsample\") , n_estimators=5, random_state=0)\n",
    "y_predict=err(\"AdaBRFe\",model,X_train, y_train,X_test,y_test)"
   ]
  },
  {
   "cell_type": "code",
   "execution_count": 533,
   "metadata": {},
   "outputs": [
    {
     "name": "stdout",
     "output_type": "stream",
     "text": [
      "              precision    recall  f1-score   support\n",
      "\n",
      "           0       0.77      0.74      0.75        31\n",
      "           1       0.82      0.84      0.83        43\n",
      "\n",
      "    accuracy                           0.80        74\n",
      "   macro avg       0.79      0.79      0.79        74\n",
      "weighted avg       0.80      0.80      0.80        74\n",
      "\n",
      "[[23  8]\n",
      " [ 7 36]]\n"
     ]
    },
    {
     "data": {
      "image/png": "[encoded data removed]",
      "text/plain": [
       "<Figure size 640x480 with 1 Axes>"
      ]
     },
     "metadata": {},
     "output_type": "display_data"
    }
   ],
   "source": [
    "rocplot(\"AdaBRFe\", y_test, y_predict)\n",
    "print(classification_report(y_test, y_predict))\n",
    "print(confusion_matrix(y_test, y_predict))"
   ]
  },
  {
   "cell_type": "markdown",
   "metadata": {},
   "source": [
    "<div dir = \"rtl\" style=\"direction:rtl;line-height:300%;\">\n",
    "\t<font face=\"XB Zar\" size=5 color=yellow>\n",
    "        <div  align=center>\n",
    "            نتایج بدست آمده از سایر مدلها: \n",
    "        </div>\n",
    "        <br/>\n",
    "    </font>\n",
    "</div>"
   ]
  },
  {
   "cell_type": "code",
   "execution_count": 546,
   "metadata": {
    "tags": []
   },
   "outputs": [
    {
     "data": {
      "text/html": [
       "<div>\n",
       "<style scoped>\n",
       "    .dataframe tbody tr th:only-of-type {\n",
       "        vertical-align: middle;\n",
       "    }\n",
       "\n",
       "    .dataframe tbody tr th {\n",
       "        vertical-align: top;\n",
       "    }\n",
       "\n",
       "    .dataframe thead th {\n",
       "        text-align: right;\n",
       "    }\n",
       "</style>\n",
       "<table border=\"1\" class=\"dataframe\">\n",
       "  <thead>\n",
       "    <tr style=\"text-align: right;\">\n",
       "      <th></th>\n",
       "      <th>accuracy</th>\n",
       "      <th>r2_score</th>\n",
       "      <th>rmsep</th>\n",
       "    </tr>\n",
       "  </thead>\n",
       "  <tbody>\n",
       "    <tr>\n",
       "      <th>SGDClassifier</th>\n",
       "      <td>0.662162</td>\n",
       "      <td>-0.387847</td>\n",
       "      <td>95.0</td>\n",
       "    </tr>\n",
       "    <tr>\n",
       "      <th>PerceptronGridsearch</th>\n",
       "      <td>0.648649</td>\n",
       "      <td>-0.443361</td>\n",
       "      <td>96.0</td>\n",
       "    </tr>\n",
       "    <tr>\n",
       "      <th>logisticEdited</th>\n",
       "      <td>0.743243</td>\n",
       "      <td>-0.054764</td>\n",
       "      <td>82.0</td>\n",
       "    </tr>\n",
       "    <tr>\n",
       "      <th>KNN</th>\n",
       "      <td>0.743243</td>\n",
       "      <td>-0.054764</td>\n",
       "      <td>82.0</td>\n",
       "    </tr>\n",
       "    <tr>\n",
       "      <th>AdaBlogestic</th>\n",
       "      <td>0.702703</td>\n",
       "      <td>-0.221305</td>\n",
       "      <td>89.0</td>\n",
       "    </tr>\n",
       "    <tr>\n",
       "      <th>AdaB</th>\n",
       "      <td>0.689189</td>\n",
       "      <td>-0.276819</td>\n",
       "      <td>91.0</td>\n",
       "    </tr>\n",
       "    <tr>\n",
       "      <th>BagRF</th>\n",
       "      <td>0.702703</td>\n",
       "      <td>-0.221305</td>\n",
       "      <td>89.0</td>\n",
       "    </tr>\n",
       "    <tr>\n",
       "      <th>AdaBRFe</th>\n",
       "      <td>0.797297</td>\n",
       "      <td>0.167292</td>\n",
       "      <td>73.0</td>\n",
       "    </tr>\n",
       "  </tbody>\n",
       "</table>\n",
       "</div>"
      ],
      "text/plain": [
       "                      accuracy  r2_score rmsep\n",
       "SGDClassifier         0.662162 -0.387847  95.0\n",
       "PerceptronGridsearch  0.648649 -0.443361  96.0\n",
       "logisticEdited        0.743243 -0.054764  82.0\n",
       "KNN                   0.743243 -0.054764  82.0\n",
       "AdaBlogestic          0.702703 -0.221305  89.0\n",
       "AdaB                  0.689189 -0.276819  91.0\n",
       "BagRF                 0.702703 -0.221305  89.0\n",
       "AdaBRFe               0.797297  0.167292  73.0"
      ]
     },
     "execution_count": 546,
     "metadata": {},
     "output_type": "execute_result"
    }
   ],
   "source": [
    "errors"
   ]
  },
  {
   "cell_type": "markdown",
   "metadata": {},
   "source": [
    "### ANN"
   ]
  },
  {
   "cell_type": "markdown",
   "metadata": {},
   "source": [
    "<div dir = \"rtl\" style=\"direction:rtl;line-height:300%;\">\n",
    "\t<font face=\"XB Zar\" size=5 color=yellow>\n",
    "        <div  align=center>\n",
    "            نتایج بدست آمده از شبکه عصبی هم جالب نبود: \n",
    "        </div>\n",
    "        <br/>\n",
    "    </font>\n",
    "</div>"
   ]
  },
  {
   "cell_type": "code",
   "execution_count": null,
   "metadata": {},
   "outputs": [],
   "source": [
    "from tensorflow import keras\n",
    "import tensorflow as tf\n",
    "import pandas as pd"
   ]
  },
  {
   "cell_type": "code",
   "execution_count": 575,
   "metadata": {},
   "outputs": [],
   "source": [
    "tf.random.set_seed(42)\n",
    "model = keras.Sequential()\n",
    "model.add(keras.layers.Input(shape=[50000]))\n",
    "# model.add(keras.layers.Flatten())\n",
    "model.add(keras.layers.Dense(200, activation=\"relu\"))\n",
    "model.add(keras.layers.Dense(100, activation=\"relu\"))\n",
    "model.add(keras.layers.Dense(100, activation=\"relu\"))\n",
    "model.add(keras.layers.Dense(100, activation=\"relu\"))\n",
    "\n",
    "model.add(keras.layers.Dense(2, activation=\"softmax\"))\n",
    "\n",
    "model.compile(loss=\"sparse_categorical_crossentropy\",\n",
    "optimizer=tf.keras.optimizers.SGD(learning_rate=0.005),\n",
    "metrics=[\"accuracy\"])\n"
   ]
  },
  {
   "cell_type": "code",
   "execution_count": 576,
   "metadata": {},
   "outputs": [
    {
     "name": "stdout",
     "output_type": "stream",
     "text": [
      "Epoch 1/5\n",
      "6/6 [==============================] - 1s 81ms/step - loss: nan - accuracy: 0.5000                        \n",
      "Epoch 2/5\n",
      "6/6 [==============================] - 0s 78ms/step - loss: nan - accuracy: 0.3706\n",
      "Epoch 3/5\n",
      "6/6 [==============================] - 0s 80ms/step - loss: nan - accuracy: 0.3706\n",
      "Epoch 4/5\n",
      "6/6 [==============================] - 0s 80ms/step - loss: nan - accuracy: 0.3706\n",
      "Epoch 5/5\n",
      "6/6 [==============================] - 0s 78ms/step - loss: nan - accuracy: 0.3706\n"
     ]
    }
   ],
   "source": [
    "history = model.fit(X_train, y_train, epochs=5)"
   ]
  },
  {
   "cell_type": "code",
   "execution_count": null,
   "metadata": {},
   "outputs": [],
   "source": [
    "from sklearn.pipeline import make_pipeline\n",
    "from sklearn.preprocessing import StandardScaler\n",
    "from sklearn.svm import SVC\n",
    "from sklearn.model_selection import GridSearchCV\n",
    "\n",
    "pipe = make_pipeline(StandardScaler(), SVC())\n",
    "clf_gridSearch = GridSearchCV(pipe, param_grid={'svc__gamma': [0.001, 0.01, 0.1, 1, 10], 'svc__C': [0.1, 1, 10, 100]}, scoring='f1_macro')\n",
    "clf_gridSearch.fit(X_train, y_train)\n"
   ]
  },
  {
   "cell_type": "code",
   "execution_count": 12,
   "metadata": {},
   "outputs": [],
   "source": [
    "predict = clf_gridSearch.predict(X_test)"
   ]
  },
  {
   "cell_type": "code",
   "execution_count": 15,
   "metadata": {},
   "outputs": [
    {
     "name": "stdout",
     "output_type": "stream",
     "text": [
      "              precision    recall  f1-score   support\n",
      "\n",
      "           0       1.00      0.13      0.23        31\n",
      "           1       0.61      1.00      0.76        43\n",
      "\n",
      "    accuracy                           0.64        74\n",
      "   macro avg       0.81      0.56      0.49        74\n",
      "weighted avg       0.78      0.64      0.54        74\n",
      "\n",
      "[[ 4 27]\n",
      " [ 0 43]]\n"
     ]
    }
   ],
   "source": [
    "print(classification_report(y_test, predict))\n",
    "print(confusion_matrix(y_test, predict))"
   ]
  },
  {
   "cell_type": "code",
   "execution_count": null,
   "metadata": {},
   "outputs": [],
   "source": []
  }
 ],
 "metadata": {
  "colab": {
   "provenance": []
  },
  "kernelspec": {
   "display_name": "Python 3 (ipykernel)",
   "language": "python",
   "name": "python3"
  },
  "language_info": {
   "codemirror_mode": {
    "name": "ipython",
    "version": 3
   },
   "file_extension": ".py",
   "mimetype": "text/x-python",
   "name": "python",
   "nbconvert_exporter": "python",
   "pygments_lexer": "ipython3",
   "version": "3.10.6"
  },
  "vscode": {
   "interpreter": {
    "hash": "916dbcbb3f70747c44a77c7bcd40155683ae19c65e1c03b4aa3499c5328201f1"
   }
  },
  "widgets": {
   "application/vnd.jupyter.widget-state+json": {
    "state": {},
    "version_major": 2,
    "version_minor": 0
   }
  }
 },
 "nbformat": 4,
 "nbformat_minor": 4
}
