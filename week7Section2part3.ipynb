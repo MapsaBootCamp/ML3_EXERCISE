{
 "cells": [
  {
   "cell_type": "markdown",
   "id": "dec61576",
   "metadata": {},
   "source": [
    "# Machine Learning Camp: HomeWork 7 Section 2 part3"
   ]
  },
  {
   "cell_type": "markdown",
   "id": "c089c529",
   "metadata": {},
   "source": [
    "# 3. COVID19 Time Series Data:\n",
    "Download the data from [github link] (https://raw.githubusercontent.com/CSSEGISandData/COVID-19/master/csse_covid_19_data/csse_covid_19_time_series/time_series_covid19_confirmed_US.csv)\n",
    "\n",
    "The link above contains a time-series data for COVID-19 confirmed cases in the US. Limit the data to only use `New York State` and please answer the following questions:"
   ]
  },
  {
   "cell_type": "code",
   "execution_count": 10,
   "id": "cde693af",
   "metadata": {},
   "outputs": [],
   "source": [
    "import pandas as pd\n",
    "import numpy as np\n",
    "import numpy as geek\n",
    "import seaborn as sns"
   ]
  },
  {
   "cell_type": "markdown",
   "id": "562b7c15",
   "metadata": {},
   "source": [
    "### a. What is the total confirmed cases in Nebraska as of October 30th 2020 as per the dataset?"
   ]
  },
  {
   "cell_type": "code",
   "execution_count": 25,
   "id": "83ad25d7",
   "metadata": {},
   "outputs": [
    {
     "data": {
      "text/html": [
       "<div>\n",
       "<style scoped>\n",
       "    .dataframe tbody tr th:only-of-type {\n",
       "        vertical-align: middle;\n",
       "    }\n",
       "\n",
       "    .dataframe tbody tr th {\n",
       "        vertical-align: top;\n",
       "    }\n",
       "\n",
       "    .dataframe thead th {\n",
       "        text-align: right;\n",
       "    }\n",
       "</style>\n",
       "<table border=\"1\" class=\"dataframe\">\n",
       "  <thead>\n",
       "    <tr style=\"text-align: right;\">\n",
       "      <th></th>\n",
       "      <th>Province_State</th>\n",
       "      <th>Country_Region</th>\n",
       "      <th>Lat</th>\n",
       "      <th>Long_</th>\n",
       "      <th>value</th>\n",
       "    </tr>\n",
       "    <tr>\n",
       "      <th>variable</th>\n",
       "      <th></th>\n",
       "      <th></th>\n",
       "      <th></th>\n",
       "      <th></th>\n",
       "      <th></th>\n",
       "    </tr>\n",
       "  </thead>\n",
       "  <tbody>\n",
       "    <tr>\n",
       "      <th>2020-01-23</th>\n",
       "      <td>Alabama</td>\n",
       "      <td>US</td>\n",
       "      <td>32.539527</td>\n",
       "      <td>-86.644082</td>\n",
       "      <td>0</td>\n",
       "    </tr>\n",
       "    <tr>\n",
       "      <th>2020-01-23</th>\n",
       "      <td>Alabama</td>\n",
       "      <td>US</td>\n",
       "      <td>30.727750</td>\n",
       "      <td>-87.722071</td>\n",
       "      <td>0</td>\n",
       "    </tr>\n",
       "    <tr>\n",
       "      <th>2020-01-23</th>\n",
       "      <td>Alabama</td>\n",
       "      <td>US</td>\n",
       "      <td>31.868263</td>\n",
       "      <td>-85.387129</td>\n",
       "      <td>0</td>\n",
       "    </tr>\n",
       "    <tr>\n",
       "      <th>2020-01-23</th>\n",
       "      <td>Alabama</td>\n",
       "      <td>US</td>\n",
       "      <td>32.996421</td>\n",
       "      <td>-87.125115</td>\n",
       "      <td>0</td>\n",
       "    </tr>\n",
       "    <tr>\n",
       "      <th>2020-01-23</th>\n",
       "      <td>Alabama</td>\n",
       "      <td>US</td>\n",
       "      <td>33.982109</td>\n",
       "      <td>-86.567906</td>\n",
       "      <td>0</td>\n",
       "    </tr>\n",
       "    <tr>\n",
       "      <th>...</th>\n",
       "      <td>...</td>\n",
       "      <td>...</td>\n",
       "      <td>...</td>\n",
       "      <td>...</td>\n",
       "      <td>...</td>\n",
       "    </tr>\n",
       "    <tr>\n",
       "      <th>2022-12-19</th>\n",
       "      <td>Wyoming</td>\n",
       "      <td>US</td>\n",
       "      <td>43.935225</td>\n",
       "      <td>-110.589080</td>\n",
       "      <td>0</td>\n",
       "    </tr>\n",
       "    <tr>\n",
       "      <th>2022-12-19</th>\n",
       "      <td>Wyoming</td>\n",
       "      <td>US</td>\n",
       "      <td>41.287818</td>\n",
       "      <td>-110.547578</td>\n",
       "      <td>0</td>\n",
       "    </tr>\n",
       "    <tr>\n",
       "      <th>2022-12-19</th>\n",
       "      <td>Wyoming</td>\n",
       "      <td>US</td>\n",
       "      <td>0.000000</td>\n",
       "      <td>0.000000</td>\n",
       "      <td>0</td>\n",
       "    </tr>\n",
       "    <tr>\n",
       "      <th>2022-12-19</th>\n",
       "      <td>Wyoming</td>\n",
       "      <td>US</td>\n",
       "      <td>43.904516</td>\n",
       "      <td>-107.680187</td>\n",
       "      <td>0</td>\n",
       "    </tr>\n",
       "    <tr>\n",
       "      <th>2022-12-19</th>\n",
       "      <td>Wyoming</td>\n",
       "      <td>US</td>\n",
       "      <td>43.839612</td>\n",
       "      <td>-104.567488</td>\n",
       "      <td>0</td>\n",
       "    </tr>\n",
       "  </tbody>\n",
       "</table>\n",
       "<p>3549204 rows × 5 columns</p>\n",
       "</div>"
      ],
      "text/plain": [
       "           Province_State Country_Region        Lat       Long_  value\n",
       "variable                                                              \n",
       "2020-01-23        Alabama             US  32.539527  -86.644082      0\n",
       "2020-01-23        Alabama             US  30.727750  -87.722071      0\n",
       "2020-01-23        Alabama             US  31.868263  -85.387129      0\n",
       "2020-01-23        Alabama             US  32.996421  -87.125115      0\n",
       "2020-01-23        Alabama             US  33.982109  -86.567906      0\n",
       "...                   ...            ...        ...         ...    ...\n",
       "2022-12-19        Wyoming             US  43.935225 -110.589080      0\n",
       "2022-12-19        Wyoming             US  41.287818 -110.547578      0\n",
       "2022-12-19        Wyoming             US   0.000000    0.000000      0\n",
       "2022-12-19        Wyoming             US  43.904516 -107.680187      0\n",
       "2022-12-19        Wyoming             US  43.839612 -104.567488      0\n",
       "\n",
       "[3549204 rows x 5 columns]"
      ]
     },
     "execution_count": 25,
     "metadata": {},
     "output_type": "execute_result"
    }
   ],
   "source": [
    "data = pd.read_csv(\"time_series_covid19_confirmed_US.csv\")\n",
    "data = data.drop([\"UID\",'iso2','iso3','code3','FIPS','Admin2','Combined_Key'],axis=1)\n",
    "data.iloc[:,4:]= data.iloc[:,4:].diff(axis=1)\n",
    "data.iloc[:,4].unique()\n",
    "data = data.drop([\"1/22/20\"],axis=1)\n",
    "data = pd.melt(data, id_vars=[\"Province_State\",\"Country_Region\",\"Lat\",\"Long_\"], \n",
    "        value_vars=None, var_name=None, value_name='value',\n",
    "        col_level=None)\n",
    "data.index = pd.to_datetime(data['variable'])\n",
    "data = data.drop([\"variable\"],axis=1)\n",
    "data.columns\n",
    "data"
   ]
  },
  {
   "cell_type": "code",
   "execution_count": 26,
   "id": "5d9d73b6",
   "metadata": {},
   "outputs": [
    {
     "data": {
      "text/plain": [
       "479845"
      ]
     },
     "execution_count": 26,
     "metadata": {},
     "output_type": "execute_result"
    }
   ],
   "source": [
    "a = data[(data['Province_State']=='Nebraska')]\n",
    "a[a.index>pd.to_datetime(\"10-30-2020\")].sum()[4]\n"
   ]
  },
  {
   "cell_type": "markdown",
   "id": "bc33b164",
   "metadata": {},
   "source": [
    "### b. On what date has the highest confirmed cases? Demonstrate using a suitable graph for all the available data."
   ]
  },
  {
   "cell_type": "code",
   "execution_count": 27,
   "id": "95423c4a",
   "metadata": {},
   "outputs": [
    {
     "data": {
      "text/html": [
       "<div>\n",
       "<style scoped>\n",
       "    .dataframe tbody tr th:only-of-type {\n",
       "        vertical-align: middle;\n",
       "    }\n",
       "\n",
       "    .dataframe tbody tr th {\n",
       "        vertical-align: top;\n",
       "    }\n",
       "\n",
       "    .dataframe thead th {\n",
       "        text-align: right;\n",
       "    }\n",
       "</style>\n",
       "<table border=\"1\" class=\"dataframe\">\n",
       "  <thead>\n",
       "    <tr style=\"text-align: right;\">\n",
       "      <th></th>\n",
       "      <th>Province_State</th>\n",
       "      <th>Country_Region</th>\n",
       "      <th>value</th>\n",
       "    </tr>\n",
       "    <tr>\n",
       "      <th>variable</th>\n",
       "      <th></th>\n",
       "      <th></th>\n",
       "      <th></th>\n",
       "    </tr>\n",
       "  </thead>\n",
       "  <tbody>\n",
       "    <tr>\n",
       "      <th>2022-01-04</th>\n",
       "      <td>Florida</td>\n",
       "      <td>US</td>\n",
       "      <td>150251</td>\n",
       "    </tr>\n",
       "  </tbody>\n",
       "</table>\n",
       "</div>"
      ],
      "text/plain": [
       "           Province_State Country_Region   value\n",
       "variable                                        \n",
       "2022-01-04        Florida             US  150251"
      ]
     },
     "execution_count": 27,
     "metadata": {},
     "output_type": "execute_result"
    }
   ],
   "source": [
    "b = data.nlargest(1,['value'])\n",
    "b[[\"Province_State\",\"Country_Region\",\"value\"]]"
   ]
  },
  {
   "cell_type": "code",
   "execution_count": 29,
   "id": "a518f004",
   "metadata": {},
   "outputs": [
    {
     "data": {
      "text/plain": [
       "<AxesSubplot:xlabel='variable'>"
      ]
     },
     "execution_count": 29,
     "metadata": {},
     "output_type": "execute_result"
    },
    {
     "data": {
      "image/png": "[encoded data removed]",
      "text/plain": [
       "<Figure size 640x480 with 1 Axes>"
      ]
     },
     "metadata": {},
     "output_type": "display_data"
    }
   ],
   "source": [
    "data.plot(y=\"value\")"
   ]
  },
  {
   "cell_type": "markdown",
   "id": "e26bd425",
   "metadata": {},
   "source": [
    "### c. Which County has the highest daily confirmed cases? Report both the County name and the date"
   ]
  },
  {
   "cell_type": "code",
   "execution_count": null,
   "id": "32e830a3",
   "metadata": {},
   "outputs": [],
   "source": [
    "\n"
   ]
  },
  {
   "cell_type": "markdown",
   "id": "676d0fbf",
   "metadata": {},
   "source": [
    "### d. Identify two countries that have top total confirmed cases. Generate a time series plot of daily confirm cases for these two countries."
   ]
  },
  {
   "cell_type": "code",
   "execution_count": null,
   "id": "70d19b06",
   "metadata": {},
   "outputs": [],
   "source": []
  },
  {
   "cell_type": "markdown",
   "id": "29e84c85",
   "metadata": {},
   "source": [
    "### e. Show the total confirmed cases for all the locations in an interactive world map (hint: you may use leaflet package in python."
   ]
  },
  {
   "cell_type": "code",
   "execution_count": null,
   "id": "3d06e306",
   "metadata": {},
   "outputs": [],
   "source": []
  }
 ],
 "metadata": {
  "kernelspec": {
   "display_name": "Python 3 (ipykernel)",
   "language": "python",
   "name": "python3"
  },
  "language_info": {
   "codemirror_mode": {
    "name": "ipython",
    "version": 3
   },
   "file_extension": ".py",
   "mimetype": "text/x-python",
   "name": "python",
   "nbconvert_exporter": "python",
   "pygments_lexer": "ipython3",
   "version": "3.10.6"
  }
 },
 "nbformat": 4,
 "nbformat_minor": 5
}
