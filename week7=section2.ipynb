{
  "nbformat": 4,
  "nbformat_minor": 0,
  "metadata": {
    "colab": {
      "provenance": []
    },
    "kernelspec": {
      "name": "python3",
      "display_name": "Python 3"
    },
    "language_info": {
      "name": "python"
    }
  },
  "cells": [
    {
      "cell_type": "code",
      "source": [
        "from pytz import all_timezones"
      ],
      "metadata": {
        "id": "YqICBQ9LecFv"
      },
      "execution_count": 2,
      "outputs": []
    },
    {
      "cell_type": "code",
      "source": [
        "import pytz "
      ],
      "metadata": {
        "id": "J5eXHNPoeKJC"
      },
      "execution_count": 3,
      "outputs": []
    },
    {
      "cell_type": "code",
      "source": [
        "import pandas as pd"
      ],
      "metadata": {
        "id": "R7zB9wuOhUPn"
      },
      "execution_count": 4,
      "outputs": []
    },
    {
      "cell_type": "code",
      "source": [
        "from datetime import datetime"
      ],
      "metadata": {
        "id": "y9rtSUqenki-"
      },
      "execution_count": 15,
      "outputs": []
    },
    {
      "cell_type": "code",
      "source": [
        "from dateutil.relativedelta import relativedelta"
      ],
      "metadata": {
        "id": "QRUnNz0WqzoD"
      },
      "execution_count": 6,
      "outputs": []
    },
    {
      "cell_type": "code",
      "execution_count": 7,
      "metadata": {
        "id": "reZFTH2QXRwm"
      },
      "outputs": [],
      "source": [
        "myDate = \"2022-10-01 09:42:43\""
      ]
    },
    {
      "cell_type": "markdown",
      "source": [
        "## a. Convert myDate into a datetime object with Iran time zone. Display the result."
      ],
      "metadata": {
        "id": "RMBZZoLXpaMX"
      }
    },
    {
      "cell_type": "code",
      "source": [
        "my_date = datetime.strptime(myDate, \"%Y-%m-%d %H:%M:%S\")\n",
        "timestamp = pd.Timestamp(my_date)\n",
        "timestamp.tz_convert('Iran')\n"
      ],
      "metadata": {
        "id": "iDlgJ6dJjMY-"
      },
      "execution_count": 10,
      "outputs": []
    },
    {
      "cell_type": "markdown",
      "source": [
        "## b. Write your codes so that it displays the week day and also the month of myDate."
      ],
      "metadata": {
        "id": "ohlw0imGpQNx"
      }
    },
    {
      "cell_type": "code",
      "source": [
        "my_date = datetime.strptime(myDate, \"%Y-%m-%d %H:%M:%S\")\n",
        "print(my_date)\n",
        "\n",
        "print('weekday: ', my_date.weekday())\n",
        "print('month: ', my_date.month)"
      ],
      "metadata": {
        "colab": {
          "base_uri": "https://localhost:8080/"
        },
        "id": "lQYX_SRonf2C",
        "outputId": "1a824735-e125-4e49-d14b-5a283a287541"
      },
      "execution_count": null,
      "outputs": [
        {
          "output_type": "stream",
          "name": "stdout",
          "text": [
            "2022-10-01 09:42:43\n",
            "weekday:  5\n",
            "month:  10\n"
          ]
        }
      ]
    },
    {
      "cell_type": "markdown",
      "source": [
        "## c. What weekday and the month is it after exactly 100 years from myDate?"
      ],
      "metadata": {
        "id": "XeJ23mLqyHFl"
      }
    },
    {
      "cell_type": "code",
      "source": [
        "from dateutil.relativedelta import relativedelta\n",
        "my_date = datetime.strptime(myDate, \"%Y-%m-%d %H:%M:%S\")\n",
        "years = my_date + relativedelta(years=5)\n",
        "years\n",
        "print('weekday: ', years.weekday())\n",
        "print('month: ', years.month)"
      ],
      "metadata": {
        "colab": {
          "base_uri": "https://localhost:8080/"
        },
        "id": "Mp9m54HFxXb_",
        "outputId": "68a67198-2d94-440b-81e2-578c8e632e7f"
      },
      "execution_count": 21,
      "outputs": [
        {
          "output_type": "stream",
          "name": "stdout",
          "text": [
            "weekday:  4\n",
            "month:  10\n"
          ]
        }
      ]
    },
    {
      "cell_type": "markdown",
      "source": [
        "## d. Add two month with myDate and display the resulting date time."
      ],
      "metadata": {
        "id": "JWogeazQrSBD"
      }
    },
    {
      "cell_type": "code",
      "source": [
        "result_1 = my_date + relativedelta(months=+2)\n",
        "print(result_1)"
      ],
      "metadata": {
        "id": "GxRm3dsYu_AZ"
      },
      "execution_count": null,
      "outputs": []
    },
    {
      "cell_type": "markdown",
      "source": [
        "## e. Suppose this homework is due on December 23, 2022 by 11.59PM. Compute and display how many seconds you got to complete this homework? Also compute the hours."
      ],
      "metadata": {
        "id": "ViI4qm_118hd"
      }
    },
    {
      "cell_type": "code",
      "source": [
        "date= \"2022-12-23 11:59:00\""
      ],
      "metadata": {
        "id": "pbjM1aO8rzma"
      },
      "execution_count": null,
      "outputs": []
    },
    {
      "cell_type": "code",
      "source": [
        "date= \"2022-12-23 11:59:00\"\n",
        "myDate = \"2022-10-01 09:42:43\"\n",
        "my_date = datetime.strptime(myDate, \"%Y-%m-%d %H:%M:%S\")\n",
        "date_ = datetime.strptime(date, \"%Y-%m-%d %H:%M:%S\")\n",
        "delta = my_date - date_\n",
        "delta.seconds"
      ],
      "metadata": {
        "colab": {
          "base_uri": "https://localhost:8080/"
        },
        "id": "ZdSjLH990e1k",
        "outputId": "4edd5e84-3b6c-41bf-c6f2-ce3759dcda5b"
      },
      "execution_count": null,
      "outputs": [
        {
          "output_type": "execute_result",
          "data": {
            "text/plain": [
              "78223"
            ]
          },
          "metadata": {},
          "execution_count": 86
        }
      ]
    },
    {
      "cell_type": "markdown",
      "source": [
        "## f. For the years 2021 & 2022, count the number of weekends. Which year has the highest number of Weekends?"
      ],
      "metadata": {
        "id": "odz4svFB6Dqj"
      }
    },
    {
      "cell_type": "code",
      "source": [
        "import numpy as np\n",
        "\n",
        "\n",
        "start = '2021-01-01'\n",
        "end = '2022-01-01'\n",
        "\n",
        "days = np.busday_count(start, end)\n",
        "print('Number of Weekends days is:', 365-days)"
      ],
      "metadata": {
        "colab": {
          "base_uri": "https://localhost:8080/"
        },
        "id": "2iNvjbcL1-Kp",
        "outputId": "1cf05633-f84e-4c8c-ae8e-d204d588e6ab"
      },
      "execution_count": null,
      "outputs": [
        {
          "output_type": "stream",
          "name": "stdout",
          "text": [
            "Number of business days is: 104\n"
          ]
        }
      ]
    },
    {
      "cell_type": "code",
      "source": [
        "import numpy as np\n",
        "\n",
        "\n",
        "start = '2022-01-01'\n",
        "end = '2023-01-01'\n",
        "\n",
        "days = np.busday_count(start, end)\n",
        "print('Number of Weekends days is:', 365-days)"
      ],
      "metadata": {
        "colab": {
          "base_uri": "https://localhost:8080/"
        },
        "id": "Zrk9cY_u57ci",
        "outputId": "13afdd85-d293-4164-f0cd-26fd077e9ee1"
      },
      "execution_count": null,
      "outputs": [
        {
          "output_type": "stream",
          "name": "stdout",
          "text": [
            "Number of Weekends days is: 105\n"
          ]
        }
      ]
    },
    {
      "cell_type": "markdown",
      "source": [
        "## g. What is the month(MM) and day(DD) on the 305th day of the current year?"
      ],
      "metadata": {
        "id": "LRStTN52-NK4"
      }
    },
    {
      "cell_type": "code",
      "source": [
        "date = \"2022-11-01\"\n",
        "\n",
        "my_date = datetime.strptime(date, \"%Y-%m-%d\")\n",
        "print(my_date)\n",
        "\n",
        "print('day: ', my_date.day)\n",
        "print('month: ', my_date.month)"
      ],
      "metadata": {
        "colab": {
          "base_uri": "https://localhost:8080/"
        },
        "id": "zGxH90vi6G4r",
        "outputId": "9ca0b934-26a0-4f26-d759-6efb63d0fb6a"
      },
      "execution_count": null,
      "outputs": [
        {
          "output_type": "stream",
          "name": "stdout",
          "text": [
            "2022-11-01 00:00:00\n",
            "day:  1\n",
            "month:  11\n"
          ]
        }
      ]
    },
    {
      "cell_type": "markdown",
      "source": [
        "## h. The Date 2022-10-20 is formatted YYYY-MM-DD, format it into MM-DD-YYYY"
      ],
      "metadata": {
        "id": "6SaNUtfO-O9j"
      }
    },
    {
      "cell_type": "code",
      "source": [
        "date = \"2022-10-20\"\n",
        "my_date = datetime.strptime(date, \"%Y-%m-%d\")\n",
        "my_date.strftime(\"%m-%d-%Y\")"
      ],
      "metadata": {
        "colab": {
          "base_uri": "https://localhost:8080/",
          "height": 35
        },
        "id": "iGa41ItJ76IQ",
        "outputId": "d50115a7-0f07-456e-8e13-c1cb7fcbc774"
      },
      "execution_count": null,
      "outputs": [
        {
          "output_type": "execute_result",
          "data": {
            "text/plain": [
              "'10-20-2022'"
            ],
            "application/vnd.google.colaboratory.intrinsic+json": {
              "type": "string"
            }
          },
          "metadata": {},
          "execution_count": 102
        }
      ]
    },
    {
      "cell_type": "markdown",
      "source": [
        "## i. Find if the Date on the question above is the weekend or a weekday."
      ],
      "metadata": {
        "id": "FI2-FAkyB6mf"
      }
    },
    {
      "cell_type": "code",
      "source": [
        "import datetime\n",
        "\n",
        "date = datetime.date(2022, 10, 20)\n",
        "day = date.weekday()\n",
        "\n",
        "if day < 5:\n",
        "    print(\"Date is Weekday\")\n",
        "else:\n",
        "    print(\"Date is Weekend\")"
      ],
      "metadata": {
        "colab": {
          "base_uri": "https://localhost:8080/"
        },
        "id": "rsngoSTjALUL",
        "outputId": "b87cfb00-3c01-44e1-a6cf-e2353a25497e"
      },
      "execution_count": null,
      "outputs": [
        {
          "output_type": "stream",
          "name": "stdout",
          "text": [
            "Date is Weekday\n"
          ]
        }
      ]
    }
  ]
}