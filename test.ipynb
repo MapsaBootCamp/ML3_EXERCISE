{
 "cells": [
  {
   "cell_type": "code",
   "execution_count": 19,
   "metadata": {},
   "outputs": [],
   "source": [
    "from HodaDatasetReader import read_hoda_dataset\n"
   ]
  },
  {
   "cell_type": "code",
   "execution_count": 33,
   "metadata": {},
   "outputs": [],
   "source": [
    "X_train, Y_train = read_hoda_dataset(dataset_path='./DigitDB/Train 60000.cdb',\n",
    "                                images_height=32,\n",
    "                                images_width=32,\n",
    "                                one_hot=False,\n",
    "                                reshape=True)\n",
    "X_test, Y_test = read_hoda_dataset(dataset_path='./DigitDB/Test 20000.cdb',\n",
    "                              images_height=32,\n",
    "                              images_width=32,\n",
    "                              one_hot=False,\n",
    "                              reshape=True)\n",
    "X_val, Y_val = read_hoda_dataset('./DigitDB/RemainingSamples.cdb',\n",
    "                                             images_height=32,\n",
    "                                             images_width=32,\n",
    "                                             one_hot=False,\n",
    "                                             reshape=True)"
   ]
  },
  {
   "cell_type": "code",
   "execution_count": 34,
   "metadata": {},
   "outputs": [],
   "source": [
    "import tensorflow as tf \n"
   ]
  },
  {
   "cell_type": "code",
   "execution_count": 35,
   "metadata": {},
   "outputs": [],
   "source": [
    "# foe simplicity, we will scale the pixel intensities (range : 0-1)\n",
    "# X_train,X_test,X_val=X_train / 255.,X_test/ 255.,X_val/ 255."
   ]
  },
  {
   "attachments": {},
   "cell_type": "markdown",
   "metadata": {},
   "source": [
    "#### sequential model"
   ]
  },
  {
   "cell_type": "code",
   "execution_count": 37,
   "metadata": {},
   "outputs": [],
   "source": [
    "# make the results reproducible\n",
    "tf.random.set_seed(42)\n",
    "model= tf.keras.Sequential([tf.keras.layers.Dense(300,activation='relu'),tf.keras.layers.Dense(150,activation='relu'),tf.keras.layers.Dense(10,activation='softmax')])\n"
   ]
  },
  {
   "cell_type": "code",
   "execution_count": 38,
   "metadata": {},
   "outputs": [],
   "source": [
    "model.compile(loss='sparse_categorical_crossentropy',optimizer='sgd',metrics=['accuracy'])"
   ]
  },
  {
   "cell_type": "code",
   "execution_count": 39,
   "metadata": {},
   "outputs": [],
   "source": [
    "callback = tf.keras.callbacks.EarlyStopping(monitor='loss', patience=4)"
   ]
  },
  {
   "cell_type": "code",
   "execution_count": 40,
   "metadata": {},
   "outputs": [
    {
     "name": "stdout",
     "output_type": "stream",
     "text": [
      "Epoch 1/40\n",
      "   7/1875 [..............................] - ETA: 16s - loss: 2.3122 - accuracy: 0.1295 "
     ]
    },
    {
     "name": "stderr",
     "output_type": "stream",
     "text": [
      "2023-02-19 15:09:55.093914: I tensorflow/core/grappler/optimizers/custom_graph_optimizer_registry.cc:113] Plugin optimizer for device_type GPU is enabled.\n"
     ]
    },
    {
     "name": "stdout",
     "output_type": "stream",
     "text": [
      "1865/1875 [============================>.] - ETA: 0s - loss: 0.3326 - accuracy: 0.9143"
     ]
    },
    {
     "name": "stderr",
     "output_type": "stream",
     "text": [
      "2023-02-19 15:10:03.161808: I tensorflow/core/grappler/optimizers/custom_graph_optimizer_registry.cc:113] Plugin optimizer for device_type GPU is enabled.\n"
     ]
    },
    {
     "name": "stdout",
     "output_type": "stream",
     "text": [
      "1875/1875 [==============================] - 11s 6ms/step - loss: 0.3318 - accuracy: 0.9144 - val_loss: 0.2497 - val_accuracy: 0.9251\n",
      "Epoch 2/40\n",
      "1875/1875 [==============================] - 10s 5ms/step - loss: 0.1424 - accuracy: 0.9608 - val_loss: 0.2022 - val_accuracy: 0.9403\n",
      "Epoch 3/40\n",
      "1875/1875 [==============================] - 10s 5ms/step - loss: 0.1140 - accuracy: 0.9691 - val_loss: 0.1748 - val_accuracy: 0.9492\n",
      "Epoch 4/40\n",
      "1875/1875 [==============================] - 10s 5ms/step - loss: 0.0958 - accuracy: 0.9737 - val_loss: 0.1569 - val_accuracy: 0.9539\n",
      "Epoch 5/40\n",
      "1875/1875 [==============================] - 10s 5ms/step - loss: 0.0833 - accuracy: 0.9771 - val_loss: 0.1443 - val_accuracy: 0.9571\n",
      "Epoch 6/40\n",
      "1875/1875 [==============================] - 10s 5ms/step - loss: 0.0732 - accuracy: 0.9802 - val_loss: 0.1283 - val_accuracy: 0.9618\n",
      "Epoch 7/40\n",
      "1875/1875 [==============================] - 10s 5ms/step - loss: 0.0654 - accuracy: 0.9826 - val_loss: 0.1257 - val_accuracy: 0.9615\n",
      "Epoch 8/40\n",
      "1875/1875 [==============================] - 10s 5ms/step - loss: 0.0587 - accuracy: 0.9845 - val_loss: 0.1177 - val_accuracy: 0.9643\n",
      "Epoch 9/40\n",
      "1875/1875 [==============================] - 10s 5ms/step - loss: 0.0529 - accuracy: 0.9861 - val_loss: 0.1176 - val_accuracy: 0.9641\n",
      "Epoch 10/40\n",
      "1875/1875 [==============================] - 10s 5ms/step - loss: 0.0478 - accuracy: 0.9879 - val_loss: 0.1052 - val_accuracy: 0.9685\n",
      "Epoch 11/40\n",
      "1875/1875 [==============================] - 10s 5ms/step - loss: 0.0435 - accuracy: 0.9884 - val_loss: 0.1003 - val_accuracy: 0.9693\n",
      "Epoch 12/40\n",
      "1875/1875 [==============================] - 10s 5ms/step - loss: 0.0395 - accuracy: 0.9896 - val_loss: 0.1009 - val_accuracy: 0.9695\n",
      "Epoch 13/40\n",
      "1875/1875 [==============================] - 10s 5ms/step - loss: 0.0362 - accuracy: 0.9908 - val_loss: 0.0962 - val_accuracy: 0.9701\n",
      "Epoch 14/40\n",
      "1875/1875 [==============================] - 10s 5ms/step - loss: 0.0331 - accuracy: 0.9917 - val_loss: 0.0911 - val_accuracy: 0.9725\n",
      "Epoch 15/40\n",
      "1875/1875 [==============================] - 10s 5ms/step - loss: 0.0303 - accuracy: 0.9926 - val_loss: 0.0945 - val_accuracy: 0.9712\n",
      "Epoch 16/40\n",
      "1875/1875 [==============================] - 10s 5ms/step - loss: 0.0279 - accuracy: 0.9936 - val_loss: 0.0908 - val_accuracy: 0.9733\n",
      "Epoch 17/40\n",
      "1875/1875 [==============================] - 10s 5ms/step - loss: 0.0256 - accuracy: 0.9941 - val_loss: 0.0859 - val_accuracy: 0.9736\n",
      "Epoch 18/40\n",
      "1875/1875 [==============================] - 10s 5ms/step - loss: 0.0234 - accuracy: 0.9947 - val_loss: 0.0861 - val_accuracy: 0.9748\n",
      "Epoch 19/40\n",
      "1875/1875 [==============================] - 10s 5ms/step - loss: 0.0214 - accuracy: 0.9954 - val_loss: 0.0879 - val_accuracy: 0.9732\n",
      "Epoch 20/40\n",
      "1875/1875 [==============================] - 1070s 571ms/step - loss: 0.0200 - accuracy: 0.9956 - val_loss: 0.0835 - val_accuracy: 0.9753\n",
      "Epoch 21/40\n",
      "1875/1875 [==============================] - 34s 18ms/step - loss: 0.0181 - accuracy: 0.9962 - val_loss: 0.0817 - val_accuracy: 0.9762\n",
      "Epoch 22/40\n",
      "1875/1875 [==============================] - 10s 5ms/step - loss: 0.0167 - accuracy: 0.9968 - val_loss: 0.0804 - val_accuracy: 0.9765\n",
      "Epoch 23/40\n",
      "1875/1875 [==============================] - 9s 5ms/step - loss: 0.0153 - accuracy: 0.9970 - val_loss: 0.0803 - val_accuracy: 0.9764\n",
      "Epoch 24/40\n",
      "1875/1875 [==============================] - 10s 5ms/step - loss: 0.0143 - accuracy: 0.9974 - val_loss: 0.0824 - val_accuracy: 0.9759\n",
      "Epoch 25/40\n",
      "1875/1875 [==============================] - 10s 5ms/step - loss: 0.0132 - accuracy: 0.9977 - val_loss: 0.0797 - val_accuracy: 0.9767\n",
      "Epoch 26/40\n",
      "1875/1875 [==============================] - 10s 5ms/step - loss: 0.0122 - accuracy: 0.9979 - val_loss: 0.0805 - val_accuracy: 0.9762\n",
      "Epoch 27/40\n",
      "1875/1875 [==============================] - 10s 5ms/step - loss: 0.0111 - accuracy: 0.9983 - val_loss: 0.0783 - val_accuracy: 0.9774\n",
      "Epoch 28/40\n",
      "1875/1875 [==============================] - 927s 495ms/step - loss: 0.0103 - accuracy: 0.9985 - val_loss: 0.0805 - val_accuracy: 0.9763\n",
      "Epoch 29/40\n",
      "1875/1875 [==============================] - 9s 5ms/step - loss: 0.0095 - accuracy: 0.9986 - val_loss: 0.0802 - val_accuracy: 0.9771\n",
      "Epoch 30/40\n",
      "1875/1875 [==============================] - 21s 11ms/step - loss: 0.0088 - accuracy: 0.9989 - val_loss: 0.0794 - val_accuracy: 0.9774\n",
      "Epoch 31/40\n",
      "1875/1875 [==============================] - 11s 6ms/step - loss: 0.0082 - accuracy: 0.9989 - val_loss: 0.0807 - val_accuracy: 0.9771\n",
      "Epoch 32/40\n",
      "1875/1875 [==============================] - 11s 6ms/step - loss: 0.0076 - accuracy: 0.9990 - val_loss: 0.0807 - val_accuracy: 0.9770\n",
      "Epoch 33/40\n",
      "1875/1875 [==============================] - 918s 490ms/step - loss: 0.0071 - accuracy: 0.9991 - val_loss: 0.0799 - val_accuracy: 0.9774\n",
      "Epoch 34/40\n",
      "1572/1875 [========================>.....] - ETA: 5s - loss: 0.0064 - accuracy: 0.9994"
     ]
    }
   ],
   "source": [
    "model.fit(X_train,Y_train,epochs=40,validation_data=(X_val,Y_val), callbacks=[callback])ڑ"
   ]
  },
  {
   "attachments": {},
   "cell_type": "markdown",
   "metadata": {},
   "source": [
    "#### functional"
   ]
  },
  {
   "cell_type": "code",
   "execution_count": 27,
   "metadata": {},
   "outputs": [],
   "source": [
    "normaization_layer = tf.keras.layers.Normalization()\n",
    "hidden_1=tf.keras.layers.Dense(300,activation='relu')\n",
    "hidden_2=tf.keras.layers.Dense(250, activation='relu')\n",
    "concat_layer= tf.keras.layers.Concatenate()\n",
    "output_layer= tf.keras.layers.Dense(10,activation='softmax')"
   ]
  },
  {
   "cell_type": "code",
   "execution_count": 28,
   "metadata": {},
   "outputs": [],
   "source": [
    "input_=tf.keras.layers.Input(shape=X_train.shape[1])\n",
    "normalized = normaization_layer(input_)\n",
    "hidden1=hidden_1(normalized)\n",
    "hidden2=hidden_2(hidden1)\n",
    "concat=concat_layer([hidden1,hidden2])\n",
    "output=output_layer(concat)\n",
    "model=tf.keras.Model(inputs=[input_],outputs=[output])\n"
   ]
  },
  {
   "cell_type": "code",
   "execution_count": 30,
   "metadata": {},
   "outputs": [],
   "source": [
    "model.compile(loss='sparse_categorical_crossentropy',optimizer='sgd',metrics=['accuracy'])"
   ]
  },
  {
   "cell_type": "code",
   "execution_count": 31,
   "metadata": {},
   "outputs": [
    {
     "name": "stdout",
     "output_type": "stream",
     "text": [
      "Epoch 1/30\n"
     ]
    },
    {
     "name": "stderr",
     "output_type": "stream",
     "text": [
      "2023-02-19 15:00:41.713347: W tensorflow/core/platform/profile_utils/cpu_utils.cc:128] Failed to get CPU frequency: 0 Hz\n",
      "2023-02-19 15:00:41.912637: I tensorflow/core/grappler/optimizers/custom_graph_optimizer_registry.cc:113] Plugin optimizer for device_type GPU is enabled.\n"
     ]
    },
    {
     "name": "stdout",
     "output_type": "stream",
     "text": [
      "1867/1875 [============================>.] - ETA: 0s - loss: 0.3232 - accuracy: 0.9187"
     ]
    },
    {
     "name": "stderr",
     "output_type": "stream",
     "text": [
      "2023-02-19 15:00:51.245921: I tensorflow/core/grappler/optimizers/custom_graph_optimizer_registry.cc:113] Plugin optimizer for device_type GPU is enabled.\n"
     ]
    },
    {
     "name": "stdout",
     "output_type": "stream",
     "text": [
      "1875/1875 [==============================] - 12s 6ms/step - loss: 0.3225 - accuracy: 0.9188 - val_loss: 0.2560 - val_accuracy: 0.9222\n",
      "Epoch 2/30\n",
      "1875/1875 [==============================] - 11s 6ms/step - loss: 0.1456 - accuracy: 0.9602 - val_loss: 0.2081 - val_accuracy: 0.9389\n",
      "Epoch 3/30\n",
      "1875/1875 [==============================] - 11s 6ms/step - loss: 0.1175 - accuracy: 0.9681 - val_loss: 0.1788 - val_accuracy: 0.9478\n",
      "Epoch 4/30\n",
      "1875/1875 [==============================] - 12s 6ms/step - loss: 0.0994 - accuracy: 0.9734 - val_loss: 0.1623 - val_accuracy: 0.9530\n",
      "Epoch 5/30\n",
      "1875/1875 [==============================] - 11s 6ms/step - loss: 0.0869 - accuracy: 0.9767 - val_loss: 0.1492 - val_accuracy: 0.9578\n",
      "Epoch 6/30\n",
      "1875/1875 [==============================] - 11s 6ms/step - loss: 0.0767 - accuracy: 0.9796 - val_loss: 0.1325 - val_accuracy: 0.9620\n",
      "Epoch 7/30\n",
      "1875/1875 [==============================] - 11s 6ms/step - loss: 0.0686 - accuracy: 0.9814 - val_loss: 0.1279 - val_accuracy: 0.9626\n",
      "Epoch 8/30\n",
      "1875/1875 [==============================] - 11s 6ms/step - loss: 0.0618 - accuracy: 0.9833 - val_loss: 0.1211 - val_accuracy: 0.9648\n",
      "Epoch 9/30\n",
      "1875/1875 [==============================] - 11s 6ms/step - loss: 0.0560 - accuracy: 0.9854 - val_loss: 0.1192 - val_accuracy: 0.9643\n",
      "Epoch 10/30\n",
      "1875/1875 [==============================] - 11s 6ms/step - loss: 0.0508 - accuracy: 0.9869 - val_loss: 0.1089 - val_accuracy: 0.9681\n",
      "Epoch 11/30\n",
      "1875/1875 [==============================] - 11s 6ms/step - loss: 0.0465 - accuracy: 0.9882 - val_loss: 0.1039 - val_accuracy: 0.9690\n",
      "Epoch 12/30\n",
      "1875/1875 [==============================] - 11s 6ms/step - loss: 0.0426 - accuracy: 0.9894 - val_loss: 0.1026 - val_accuracy: 0.9696\n",
      "Epoch 13/30\n",
      "1875/1875 [==============================] - 11s 6ms/step - loss: 0.0391 - accuracy: 0.9903 - val_loss: 0.0993 - val_accuracy: 0.9699\n",
      "Epoch 14/30\n",
      "1875/1875 [==============================] - 11s 6ms/step - loss: 0.0361 - accuracy: 0.9912 - val_loss: 0.0943 - val_accuracy: 0.9718\n",
      "Epoch 15/30\n",
      "1875/1875 [==============================] - 11s 6ms/step - loss: 0.0333 - accuracy: 0.9919 - val_loss: 0.0954 - val_accuracy: 0.9715\n",
      "Epoch 16/30\n",
      "1875/1875 [==============================] - 11s 6ms/step - loss: 0.0309 - accuracy: 0.9930 - val_loss: 0.0923 - val_accuracy: 0.9723\n",
      "Epoch 17/30\n",
      "1875/1875 [==============================] - 11s 6ms/step - loss: 0.0286 - accuracy: 0.9935 - val_loss: 0.0878 - val_accuracy: 0.9744\n",
      "Epoch 18/30\n",
      "1875/1875 [==============================] - 11s 6ms/step - loss: 0.0265 - accuracy: 0.9938 - val_loss: 0.0869 - val_accuracy: 0.9744\n",
      "Epoch 19/30\n",
      "1875/1875 [==============================] - 11s 6ms/step - loss: 0.0245 - accuracy: 0.9949 - val_loss: 0.0883 - val_accuracy: 0.9740\n",
      "Epoch 20/30\n",
      "1875/1875 [==============================] - 11s 6ms/step - loss: 0.0230 - accuracy: 0.9952 - val_loss: 0.0845 - val_accuracy: 0.9752\n",
      "Epoch 21/30\n",
      "1875/1875 [==============================] - 11s 6ms/step - loss: 0.0212 - accuracy: 0.9955 - val_loss: 0.0828 - val_accuracy: 0.9757\n",
      "Epoch 22/30\n",
      "1875/1875 [==============================] - 11s 6ms/step - loss: 0.0197 - accuracy: 0.9960 - val_loss: 0.0810 - val_accuracy: 0.9768\n",
      "Epoch 23/30\n",
      "1875/1875 [==============================] - 11s 6ms/step - loss: 0.0183 - accuracy: 0.9964 - val_loss: 0.0803 - val_accuracy: 0.9770\n",
      "Epoch 24/30\n",
      "1875/1875 [==============================] - 11s 6ms/step - loss: 0.0171 - accuracy: 0.9966 - val_loss: 0.0820 - val_accuracy: 0.9762\n",
      "Epoch 25/30\n",
      "1875/1875 [==============================] - 11s 6ms/step - loss: 0.0160 - accuracy: 0.9969 - val_loss: 0.0793 - val_accuracy: 0.9772\n",
      "Epoch 26/30\n",
      "1875/1875 [==============================] - 11s 6ms/step - loss: 0.0149 - accuracy: 0.9973 - val_loss: 0.0797 - val_accuracy: 0.9771\n",
      "Epoch 27/30\n",
      "1875/1875 [==============================] - 11s 6ms/step - loss: 0.0138 - accuracy: 0.9974 - val_loss: 0.0784 - val_accuracy: 0.9777\n",
      "Epoch 28/30\n",
      "1875/1875 [==============================] - 11s 6ms/step - loss: 0.0129 - accuracy: 0.9977 - val_loss: 0.0792 - val_accuracy: 0.9775\n",
      "Epoch 29/30\n",
      "1875/1875 [==============================] - 11s 6ms/step - loss: 0.0120 - accuracy: 0.9980 - val_loss: 0.0786 - val_accuracy: 0.9783\n",
      "Epoch 30/30\n",
      "1875/1875 [==============================] - 11s 6ms/step - loss: 0.0112 - accuracy: 0.9981 - val_loss: 0.0782 - val_accuracy: 0.9779\n"
     ]
    },
    {
     "data": {
      "text/plain": [
       "<keras.callbacks.History at 0x2959af970>"
      ]
     },
     "execution_count": 31,
     "metadata": {},
     "output_type": "execute_result"
    }
   ],
   "source": [
    "model.fit(X_train,Y_train,epochs=30,validation_data=(X_val,Y_val),callbacks=[callback])"
   ]
  },
  {
   "attachments": {},
   "cell_type": "markdown",
   "metadata": {},
   "source": [
    "همانط،ر که مشاهده می شود نتایج بسیار خوب شده است"
   ]
  },
  {
   "cell_type": "code",
   "execution_count": 32,
   "metadata": {},
   "outputs": [
    {
     "name": "stdout",
     "output_type": "stream",
     "text": [
      "625/625 [==============================] - 3s 5ms/step - loss: 0.0935 - accuracy: 0.9728\n"
     ]
    },
    {
     "data": {
      "text/plain": [
       "[0.09351921081542969, 0.9727500677108765]"
      ]
     },
     "execution_count": 32,
     "metadata": {},
     "output_type": "execute_result"
    }
   ],
   "source": [
    "model.evaluate(X_test,Y_test)"
   ]
  },
  {
   "attachments": {},
   "cell_type": "markdown",
   "metadata": {},
   "source": [
    "نتیجه داده های اعتبار سنجی با نتیجه بدست امده از داده های ازمایش به هم بسیار نزدیک می باشند"
   ]
  },
  {
   "attachments": {},
   "cell_type": "markdown",
   "metadata": {},
   "source": [
    "در این ازمایش هر ۲ ساحتار توانستن جواب یکسانی بدهند"
   ]
  },
  {
   "cell_type": "markdown",
   "metadata": {},
   "source": []
  }
 ],
 "metadata": {
  "kernelspec": {
   "display_name": "base",
   "language": "python",
   "name": "python3"
  },
  "language_info": {
   "codemirror_mode": {
    "name": "ipython",
    "version": 3
   },
   "file_extension": ".py",
   "mimetype": "text/x-python",
   "name": "python",
   "nbconvert_exporter": "python",
   "pygments_lexer": "ipython3",
   "version": "3.10.9"
  },
  "orig_nbformat": 4,
  "vscode": {
   "interpreter": {
    "hash": "58158d9460bb5506cba545ce3e6dfbd38a3c0e21319774755a6682a198fea16c"
   }
  }
 },
 "nbformat": 4,
 "nbformat_minor": 2
}
