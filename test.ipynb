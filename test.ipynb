{
 "cells": [
  {
   "cell_type": "code",
   "execution_count": 2,
   "metadata": {},
   "outputs": [],
   "source": [
    "from HodaDatasetReader import read_hoda_dataset\n"
   ]
  },
  {
   "cell_type": "code",
   "execution_count": 3,
   "metadata": {},
   "outputs": [],
   "source": [
    "X_train, Y_train = read_hoda_dataset(dataset_path='./DigitDB/Train 60000.cdb',\n",
    "                                images_height=32,\n",
    "                                images_width=32,\n",
    "                                one_hot=False,\n",
    "                                reshape=False)\n",
    "X_test, Y_test = read_hoda_dataset(dataset_path='./DigitDB/Test 20000.cdb',\n",
    "                              images_height=32,\n",
    "                              images_width=32,\n",
    "                              one_hot=False,\n",
    "                              reshape=False)\n",
    "X_val, Y_val = read_hoda_dataset('./DigitDB/RemainingSamples.cdb',\n",
    "                                             images_height=32,\n",
    "                                             images_width=32,\n",
    "                                             one_hot=False,\n",
    "                                             reshape=False)"
   ]
  },
  {
   "cell_type": "code",
   "execution_count": 1,
   "metadata": {},
   "outputs": [],
   "source": [
    "import tensorflow as tf \n"
   ]
  },
  {
   "attachments": {},
   "cell_type": "markdown",
   "metadata": {},
   "source": [
    "#### Convolotional "
   ]
  },
  {
   "cell_type": "code",
   "execution_count": 68,
   "metadata": {},
   "outputs": [
    {
     "data": {
      "text/plain": [
       "(60000, 32, 32, 1)"
      ]
     },
     "execution_count": 68,
     "metadata": {},
     "output_type": "execute_result"
    }
   ],
   "source": [
    "# X_train.shape"
   ]
  },
  {
   "cell_type": "code",
   "execution_count": 71,
   "metadata": {},
   "outputs": [
    {
     "data": {
      "text/plain": [
       "(3, 3, 1, 20)"
      ]
     },
     "execution_count": 71,
     "metadata": {},
     "output_type": "execute_result"
    }
   ],
   "source": [
    "# kernels, biases = conv_layer.get_weights()\n",
    "# kernels.shape"
   ]
  },
  {
   "cell_type": "code",
   "execution_count": 4,
   "metadata": {},
   "outputs": [],
   "source": [
    "Y_train = tf.keras.utils.to_categorical(Y_train, 10)\n",
    "Y_val = tf.keras.utils.to_categorical(Y_val, 10)\n",
    "Y_test=tf.keras.utils.to_categorical(Y_test, 10)"
   ]
  },
  {
   "cell_type": "code",
   "execution_count": 6,
   "metadata": {},
   "outputs": [
    {
     "name": "stdout",
     "output_type": "stream",
     "text": [
      "Model: \"sequential_1\"\n",
      "_________________________________________________________________\n",
      " Layer (type)                Output Shape              Param #   \n",
      "=================================================================\n",
      " conv2d_2 (Conv2D)           (None, 15, 15, 32)        544       \n",
      "                                                                 \n",
      " max_pooling2d_1 (MaxPooling  (None, 7, 7, 32)         0         \n",
      " 2D)                                                             \n",
      "                                                                 \n",
      " conv2d_3 (Conv2D)           (None, 5, 5, 64)          18496     \n",
      "                                                                 \n",
      " flatten_1 (Flatten)         (None, 1600)              0         \n",
      "                                                                 \n",
      " dropout_1 (Dropout)         (None, 1600)              0         \n",
      "                                                                 \n",
      " dense_1 (Dense)             (None, 10)                16010     \n",
      "                                                                 \n",
      "=================================================================\n",
      "Total params: 35,050\n",
      "Trainable params: 35,050\n",
      "Non-trainable params: 0\n",
      "_________________________________________________________________\n"
     ]
    }
   ],
   "source": [
    "model = tf.keras.Sequential([tf.keras.Input(shape=[32,32,1]),\n",
    "                             tf.keras.layers.Conv2D(filters=32,kernel_size=4,strides=2,activation='relu'),\n",
    "                             tf.keras.layers.MaxPool2D(2),\n",
    "                             tf.keras.layers.Conv2D(64,kernel_size=3,activation='relu'),\n",
    "                             tf.keras.layers.Flatten(),\n",
    "                             tf.keras.layers.Dropout(0.5),\n",
    "                             tf.keras.layers.Dense(10,activation='softmax')\n",
    "                                            ])\n",
    "model.summary()"
   ]
  },
  {
   "cell_type": "code",
   "execution_count": 10,
   "metadata": {},
   "outputs": [
    {
     "name": "stdout",
     "output_type": "stream",
     "text": [
      "Epoch 1/9\n",
      "  1/300 [..............................] - ETA: 1:59 - loss: 0.0206 - accuracy: 0.9900"
     ]
    },
    {
     "name": "stderr",
     "output_type": "stream",
     "text": [
      "2023-02-27 22:44:35.609312: I tensorflow/core/grappler/optimizers/custom_graph_optimizer_registry.cc:114] Plugin optimizer for device_type GPU is enabled.\n"
     ]
    },
    {
     "name": "stdout",
     "output_type": "stream",
     "text": [
      "296/300 [============================>.] - ETA: 0s - loss: 0.0114 - accuracy: 0.9960"
     ]
    },
    {
     "name": "stderr",
     "output_type": "stream",
     "text": [
      "2023-02-27 22:44:38.994524: I tensorflow/core/grappler/optimizers/custom_graph_optimizer_registry.cc:114] Plugin optimizer for device_type GPU is enabled.\n"
     ]
    },
    {
     "name": "stdout",
     "output_type": "stream",
     "text": [
      "300/300 [==============================] - 4s 14ms/step - loss: 0.0115 - accuracy: 0.9960 - val_loss: 0.0274 - val_accuracy: 0.9924\n",
      "Epoch 2/9\n",
      "300/300 [==============================] - 4s 13ms/step - loss: 0.0119 - accuracy: 0.9959 - val_loss: 0.0260 - val_accuracy: 0.9931\n",
      "Epoch 3/9\n",
      "300/300 [==============================] - 4s 13ms/step - loss: 0.0111 - accuracy: 0.9964 - val_loss: 0.0256 - val_accuracy: 0.9925\n",
      "Epoch 4/9\n",
      "300/300 [==============================] - 4s 13ms/step - loss: 0.0091 - accuracy: 0.9970 - val_loss: 0.0271 - val_accuracy: 0.9924\n",
      "Epoch 5/9\n",
      "300/300 [==============================] - 4s 13ms/step - loss: 0.0088 - accuracy: 0.9967 - val_loss: 0.0255 - val_accuracy: 0.9927\n",
      "Epoch 6/9\n",
      "300/300 [==============================] - 4s 13ms/step - loss: 0.0092 - accuracy: 0.9970 - val_loss: 0.0277 - val_accuracy: 0.9926\n",
      "Epoch 7/9\n",
      "300/300 [==============================] - 4s 13ms/step - loss: 0.0091 - accuracy: 0.9964 - val_loss: 0.0238 - val_accuracy: 0.9933\n",
      "Epoch 8/9\n",
      "300/300 [==============================] - 4s 13ms/step - loss: 0.0077 - accuracy: 0.9973 - val_loss: 0.0256 - val_accuracy: 0.9935\n",
      "Epoch 9/9\n",
      "300/300 [==============================] - 4s 13ms/step - loss: 0.0077 - accuracy: 0.9974 - val_loss: 0.0267 - val_accuracy: 0.9928\n"
     ]
    },
    {
     "data": {
      "text/plain": [
       "<keras.callbacks.History at 0x356d30e50>"
      ]
     },
     "execution_count": 10,
     "metadata": {},
     "output_type": "execute_result"
    }
   ],
   "source": [
    "model.compile(loss='categorical_crossentropy',optimizer='adam',metrics=['accuracy'])\n",
    "model.fit(X_train,Y_train,batch_size=200,epochs=9,validation_data=[X_val,Y_val])"
   ]
  },
  {
   "cell_type": "code",
   "execution_count": 9,
   "metadata": {},
   "outputs": [
    {
     "name": "stdout",
     "output_type": "stream",
     "text": [
      "Test loss: 0.03218478709459305\n",
      "Test accuracy: 0.990350067615509\n"
     ]
    }
   ],
   "source": [
    "score = model.evaluate(X_test,Y_test,verbose=0)\n",
    "print(\"Test loss:\", score[0])\n",
    "print(\"Test accuracy:\", score[1])"
   ]
  }
 ],
 "metadata": {
  "kernelspec": {
   "display_name": "venv",
   "language": "python",
   "name": "python3"
  },
  "language_info": {
   "codemirror_mode": {
    "name": "ipython",
    "version": 3
   },
   "file_extension": ".py",
   "mimetype": "text/x-python",
   "name": "python",
   "nbconvert_exporter": "python",
   "pygments_lexer": "ipython3",
   "version": "3.10.10"
  },
  "orig_nbformat": 4,
  "vscode": {
   "interpreter": {
    "hash": "c22530e0b1ca318992d343d6aa964ee37b54c469b5144527ce673786e01d07c1"
   }
  }
 },
 "nbformat": 4,
 "nbformat_minor": 2
}
