{
 "cells": [
  {
   "cell_type": "code",
   "execution_count": 36,
   "metadata": {},
   "outputs": [],
   "source": [
    "import cv2 \n",
    "import glob\n",
    "import numpy as np"
   ]
  },
  {
   "cell_type": "code",
   "execution_count": 37,
   "metadata": {},
   "outputs": [],
   "source": [
    "samples=[]\n",
    "targets=[]"
   ]
  },
  {
   "cell_type": "code",
   "execution_count": 38,
   "metadata": {},
   "outputs": [],
   "source": [
    "def list_to_array(samples,targets):\n",
    "    samples=np.array(samples)\n",
    "    targets=np.array(targets)\n",
    "    return samples,targets"
   ]
  },
  {
   "cell_type": "code",
   "execution_count": 39,
   "metadata": {},
   "outputs": [],
   "source": [
    "def prepare_data(image,data):\n",
    "    # convert to grayscale, and find edges\n",
    "    \n",
    "    gray = cv2.cvtColor(image, cv2.COLOR_BGR2GRAY)\n",
    "    thresh = cv2.threshold(gray, 0, 255, cv2.THRESH_OTSU + cv2.THRESH_BINARY)[1]\n",
    "\n",
    "    # Find contour and sort by contour area\n",
    "    cnts = cv2.findContours(thresh, cv2.RETR_EXTERNAL, cv2.CHAIN_APPROX_SIMPLE)\n",
    "    cnts = cnts[0] if len(cnts) == 2 else cnts[1]\n",
    "    cnts = sorted(cnts, key=cv2.contourArea, reverse=True)\n",
    "\n",
    "    # Find bounding box and extract ROI\n",
    "    for c in cnts:\n",
    "        x,y,w,h = cv2.boundingRect(c)\n",
    "        ROI = image[y:y+h, x:x+w]\n",
    "        \n",
    "        ROI = cv2.resize(ROI, (400, 400),interpolation = cv2.INTER_CUBIC)\n",
    "        samples.append(ROI)\n",
    "        if data=='yes':\n",
    "            targets.append(1)\n",
    "        else:\n",
    "            targets.append(0)\n",
    "        break\n",
    "\n",
    "\n",
    "\n"
   ]
  },
  {
   "cell_type": "code",
   "execution_count": 40,
   "metadata": {},
   "outputs": [],
   "source": [
    "# Load images (yes)\n",
    "for img in glob.glob(\"yes/*.jpg\"):\n",
    "    image= cv2.imread(img)\n",
    "    prepare_data(image,'yes')\n",
    "    "
   ]
  },
  {
   "cell_type": "code",
   "execution_count": 41,
   "metadata": {},
   "outputs": [],
   "source": [
    "# Load images (no)\n",
    "for img in glob.glob(\"no/*.jpg\"):\n",
    "    image= cv2.imread(img)\n",
    "    prepare_data(image,'no')\n",
    "# convert lists of data to np array\n",
    "else:\n",
    "    samples,targets= list_to_array(samples,targets)\n",
    "    \n",
    "    "
   ]
  },
  {
   "cell_type": "code",
   "execution_count": 42,
   "metadata": {},
   "outputs": [
    {
     "data": {
      "text/plain": [
       "(103, 400, 400, 3)"
      ]
     },
     "execution_count": 42,
     "metadata": {},
     "output_type": "execute_result"
    }
   ],
   "source": [
    "samples.shape"
   ]
  },
  {
   "cell_type": "code",
   "execution_count": 43,
   "metadata": {},
   "outputs": [],
   "source": [
    "# 2D array\n",
    "samples=samples.reshape(103,480000)"
   ]
  },
  {
   "cell_type": "code",
   "execution_count": 44,
   "metadata": {},
   "outputs": [],
   "source": [
    "# split data\n",
    "from sklearn.model_selection import train_test_split\n",
    "X_train, X_test, y_train, y_test = train_test_split(samples,targets, test_size=0.15, random_state=42)"
   ]
  },
  {
   "cell_type": "code",
   "execution_count": 45,
   "metadata": {},
   "outputs": [
    {
     "data": {
      "text/plain": [
       "0.75"
      ]
     },
     "execution_count": 45,
     "metadata": {},
     "output_type": "execute_result"
    }
   ],
   "source": [
    "# train a model for test without any optimization\n",
    "from sklearn.pipeline import Pipeline\n",
    "from sklearn.preprocessing import StandardScaler\n",
    "from sklearn.svm import SVC\n",
    "from sklearn.metrics import accuracy_score\n",
    "\n",
    "pipe = Pipeline([ ('scaler', StandardScaler()),('svc', SVC())])\n",
    "pipe.fit(X_train, y_train)\n",
    "y_predict=pipe.predict(X_test)\n",
    "accuracy_score(y_test,y_predict)\n",
    "\n"
   ]
  },
  {
   "attachments": {},
   "cell_type": "markdown",
   "metadata": {},
   "source": [
    "طبق انتظار عدد بسیار پایینی می باشد از علل می توان به تعداد کم نمونه و همچنین تعداد بسیار زیاد فیچر ها در قیاس با تعداد نمونه ها نام برد\n"
   ]
  },
  {
   "attachments": {},
   "cell_type": "markdown",
   "metadata": {},
   "source": [
    "به همین علت نیاز به feature extraction کاملا حس می شود"
   ]
  },
  {
   "attachments": {},
   "cell_type": "markdown",
   "metadata": {},
   "source": [
    "#### feature extraction"
   ]
  },
  {
   "cell_type": "code",
   "execution_count": 46,
   "metadata": {},
   "outputs": [],
   "source": [
    "from sklearn.decomposition import PCA\n",
    "def f_extraction(percentage,data):\n",
    "    pca = PCA(n_components=percentage)\n",
    "    X_train_reduced= pca.fit_transform(data)\n",
    "    # number of features\n",
    "    n_features=pca.n_components_\n",
    "\n",
    "    return pca,X_train_reduced,n_features"
   ]
  },
  {
   "cell_type": "code",
   "execution_count": 47,
   "metadata": {},
   "outputs": [
    {
     "name": "stdout",
     "output_type": "stream",
     "text": [
      "56\n"
     ]
    }
   ],
   "source": [
    "pca,X_train_reduced,n_features=f_extraction(0.95,X_train)\n",
    "print(n_features)"
   ]
  },
  {
   "attachments": {},
   "cell_type": "markdown",
   "metadata": {},
   "source": [
    "باتوجه به اینکه عدد ۵۶ در قیاس با تعداد نمونه ها مقداری زیاد است سعی در کاهش بیشتر داریم"
   ]
  },
  {
   "cell_type": "code",
   "execution_count": 63,
   "metadata": {},
   "outputs": [
    {
     "name": "stdout",
     "output_type": "stream",
     "text": [
      "20\n"
     ]
    }
   ],
   "source": [
    "pca2,X_train_reduced2,n_features=f_extraction(0.70,X_train)\n",
    "print(n_features)"
   ]
  },
  {
   "attachments": {},
   "cell_type": "markdown",
   "metadata": {},
   "source": [
    "ابتدا با ۵۶ فیچر تست می کنیم"
   ]
  },
  {
   "cell_type": "code",
   "execution_count": 49,
   "metadata": {},
   "outputs": [
    {
     "data": {
      "text/plain": [
       "0.8125"
      ]
     },
     "execution_count": 49,
     "metadata": {},
     "output_type": "execute_result"
    }
   ],
   "source": [
    "pipe.fit(X_train_reduced, y_train)\n",
    "X_test_reduced=pca.transform(X_test)\n",
    "y_predict2=pipe.predict(X_test_reduced)\n",
    "accuracy_score(y_test,y_predict2)"
   ]
  },
  {
   "attachments": {},
   "cell_type": "markdown",
   "metadata": {},
   "source": [
    "با ۲۰ فیچر"
   ]
  },
  {
   "cell_type": "code",
   "execution_count": 64,
   "metadata": {},
   "outputs": [
    {
     "data": {
      "text/plain": [
       "0.75"
      ]
     },
     "execution_count": 64,
     "metadata": {},
     "output_type": "execute_result"
    }
   ],
   "source": [
    "pipe.fit(X_train_reduced2, y_train)\n",
    "X_test_reduced2=pca2.transform(X_test)\n",
    "y_predict3=pipe.predict(X_test_reduced2)\n",
    "accuracy_score(y_test,y_predict3)"
   ]
  },
  {
   "attachments": {},
   "cell_type": "markdown",
   "metadata": {},
   "source": [
    "برخلاف انتظار با ۵۶ فیچر جواب بهتری بدست امده \n",
    "اما نکته مهم ان است که تنها با ۲۰ فیچر می توان به ۰.۷۵ رسید که خوب است"
   ]
  },
  {
   "attachments": {},
   "cell_type": "markdown",
   "metadata": {},
   "source": [
    "#### Xgboost\n"
   ]
  },
  {
   "cell_type": "code",
   "execution_count": 79,
   "metadata": {},
   "outputs": [],
   "source": [
    "import xgboost as xgb\n"
   ]
  },
  {
   "cell_type": "code",
   "execution_count": 92,
   "metadata": {},
   "outputs": [],
   "source": [
    "def xgb_d (X_train,X_test)  :  \n",
    "    \n",
    "    \n",
    "    xgb_0 = xgb.XGBClassifier()\n",
    "    \n",
    "    xgb_0.fit(X_train,y_train)\n",
    "    Y_predictx=xgb_0.predict(X_test)\n",
    "    return accuracy_score(y_test, Y_predictx)"
   ]
  },
  {
   "cell_type": "code",
   "execution_count": 94,
   "metadata": {},
   "outputs": [
    {
     "data": {
      "text/plain": [
       "0.875"
      ]
     },
     "execution_count": 94,
     "metadata": {},
     "output_type": "execute_result"
    }
   ],
   "source": [
    "xgb_d(X_train_reduced2,X_test_reduced2)"
   ]
  },
  {
   "cell_type": "code",
   "execution_count": 93,
   "metadata": {},
   "outputs": [
    {
     "data": {
      "text/plain": [
       "0.8125"
      ]
     },
     "execution_count": 93,
     "metadata": {},
     "output_type": "execute_result"
    }
   ],
   "source": [
    "xgb_d(X_train,X_test)"
   ]
  },
  {
   "attachments": {},
   "cell_type": "markdown",
   "metadata": {},
   "source": [
    "در این مرحله تعداد فیچر های ۲۰ توانست بالاترین میزان درست بودن جواب را بدهد و از نظر زمانی بسیار سریعتر به نسبت اینکه تمام فیچر ها حضور داشته باشن عمل کند"
   ]
  },
  {
   "attachments": {},
   "cell_type": "markdown",
   "metadata": {},
   "source": [
    "استفاده از gridsearch برای پیدا کردن بهترین ۱ارامتر های "
   ]
  },
  {
   "attachments": {},
   "cell_type": "markdown",
   "metadata": {},
   "source": [
    "#### tunning xgboost"
   ]
  },
  {
   "cell_type": "code",
   "execution_count": 106,
   "metadata": {},
   "outputs": [],
   "source": [
    "from sklearn.model_selection import GridSearchCV\n",
    "\n",
    "param_grid = {\n",
    "    \"max_depth\": [3, 4, 5, 7],\n",
    "    \"learning_rate\": [0.1, 0.01, 0.05,0.2],\n",
    "    \"gamma\": [0, 0.25, 1,3],\n",
    "    \"reg_lambda\": [0, 1, 10],\n",
    "    \"scale_pos_weight\": [1, 3, 5],\n",
    "    \"subsample\": [0.8],\n",
    "    \"colsample_bytree\": [0.5],\n",
    "}"
   ]
  },
  {
   "cell_type": "code",
   "execution_count": 107,
   "metadata": {},
   "outputs": [
    {
     "data": {
      "text/plain": [
       "0.7778718865675387"
      ]
     },
     "execution_count": 107,
     "metadata": {},
     "output_type": "execute_result"
    }
   ],
   "source": [
    "xgb_tun = xgb.XGBClassifier(objective=\"binary:logistic\")\n",
    "grid_cv = GridSearchCV(xgb_tun, param_grid, n_jobs=-1, cv=3, scoring=\"roc_auc\")\n",
    "model = grid_cv.fit(X_train_reduced2, y_train)\n",
    "grid_cv.best_score_"
   ]
  },
  {
   "cell_type": "code",
   "execution_count": 110,
   "metadata": {},
   "outputs": [
    {
     "data": {
      "text/plain": [
       "0.75"
      ]
     },
     "execution_count": 110,
     "metadata": {},
     "output_type": "execute_result"
    }
   ],
   "source": [
    "y_predict_xg_tun= model.predict(X_test_reduced2)\n",
    "accuracy_score(y_test, y_predict_xg_tun)"
   ]
  }
 ],
 "metadata": {
  "kernelspec": {
   "display_name": "venv",
   "language": "python",
   "name": "python3"
  },
  "language_info": {
   "codemirror_mode": {
    "name": "ipython",
    "version": 3
   },
   "file_extension": ".py",
   "mimetype": "text/x-python",
   "name": "python",
   "nbconvert_exporter": "python",
   "pygments_lexer": "ipython3",
   "version": "3.10.10"
  },
  "orig_nbformat": 4,
  "vscode": {
   "interpreter": {
    "hash": "c22530e0b1ca318992d343d6aa964ee37b54c469b5144527ce673786e01d07c1"
   }
  }
 },
 "nbformat": 4,
 "nbformat_minor": 2
}
