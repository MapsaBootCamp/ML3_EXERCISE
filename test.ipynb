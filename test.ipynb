{
 "cells": [
  {
   "cell_type": "code",
   "execution_count": 1,
   "metadata": {},
   "outputs": [],
   "source": [
    "from HodaDatasetReader import read_hoda_dataset\n"
   ]
  },
  {
   "cell_type": "code",
   "execution_count": 2,
   "metadata": {},
   "outputs": [],
   "source": [
    "X_train, Y_train = read_hoda_dataset(dataset_path='./DigitDB/Train 60000.cdb',\n",
    "                                images_height=32,\n",
    "                                images_width=32,\n",
    "                                one_hot=False,\n",
    "                                reshape=True)\n",
    "X_test, Y_test = read_hoda_dataset(dataset_path='./DigitDB/Test 20000.cdb',\n",
    "                              images_height=32,\n",
    "                              images_width=32,\n",
    "                              one_hot=False,\n",
    "                              reshape=True)\n",
    "X_val, Y_val = read_hoda_dataset('./DigitDB/RemainingSamples.cdb',\n",
    "                                             images_height=32,\n",
    "                                             images_width=32,\n",
    "                                             one_hot=False,\n",
    "                                             reshape=True)"
   ]
  },
  {
   "cell_type": "code",
   "execution_count": 3,
   "metadata": {},
   "outputs": [],
   "source": [
    "import tensorflow as tf \n"
   ]
  },
  {
   "cell_type": "code",
   "execution_count": 4,
   "metadata": {},
   "outputs": [],
   "source": [
    "# foe simplicity, we will scale the pixel intensities (range : 0-1)\n",
    "X_train,X_test,X_val=X_train / 255.,X_test/ 255.,X_val/ 255."
   ]
  },
  {
   "attachments": {},
   "cell_type": "markdown",
   "metadata": {},
   "source": [
    "#### sequential model"
   ]
  },
  {
   "cell_type": "code",
   "execution_count": 5,
   "metadata": {},
   "outputs": [
    {
     "name": "stdout",
     "output_type": "stream",
     "text": [
      "Metal device set to: Apple M2 Pro\n",
      "\n",
      "systemMemory: 16.00 GB\n",
      "maxCacheSize: 5.33 GB\n",
      "\n"
     ]
    },
    {
     "name": "stderr",
     "output_type": "stream",
     "text": [
      "2023-02-15 21:20:26.725521: I tensorflow/core/common_runtime/pluggable_device/pluggable_device_factory.cc:305] Could not identify NUMA node of platform GPU ID 0, defaulting to 0. Your kernel may not have been built with NUMA support.\n",
      "2023-02-15 21:20:26.725784: I tensorflow/core/common_runtime/pluggable_device/pluggable_device_factory.cc:271] Created TensorFlow device (/job:localhost/replica:0/task:0/device:GPU:0 with 0 MB memory) -> physical PluggableDevice (device: 0, name: METAL, pci bus id: <undefined>)\n"
     ]
    }
   ],
   "source": [
    "# make the results reproducible\n",
    "tf.random.set_seed(42)\n",
    "model= tf.keras.Sequential([tf.keras.layers.Dense(300,activation='relu'),tf.keras.layers.Dense(300,activation='relu'),tf.keras.layers.Dense(300,activation='softmax')])\n"
   ]
  },
  {
   "cell_type": "code",
   "execution_count": 6,
   "metadata": {},
   "outputs": [],
   "source": [
    "model.compile(loss='sparse_categorical_crossentropy',optimizer='sgd',metrics=['accuracy'])"
   ]
  },
  {
   "cell_type": "code",
   "execution_count": 7,
   "metadata": {},
   "outputs": [
    {
     "name": "stdout",
     "output_type": "stream",
     "text": [
      "Epoch 1/40\n"
     ]
    },
    {
     "name": "stderr",
     "output_type": "stream",
     "text": [
      "2023-02-15 21:20:26.940284: W tensorflow/core/platform/profile_utils/cpu_utils.cc:128] Failed to get CPU frequency: 0 Hz\n"
     ]
    },
    {
     "name": "stdout",
     "output_type": "stream",
     "text": [
      "   1/1875 [..............................] - ETA: 15:22 - loss: 5.7037 - accuracy: 0.0000e+00"
     ]
    },
    {
     "name": "stderr",
     "output_type": "stream",
     "text": [
      "2023-02-15 21:20:27.269589: I tensorflow/core/grappler/optimizers/custom_graph_optimizer_registry.cc:113] Plugin optimizer for device_type GPU is enabled.\n"
     ]
    },
    {
     "name": "stdout",
     "output_type": "stream",
     "text": [
      "1870/1875 [============================>.] - ETA: 0s - loss: 2.9747 - accuracy: 0.1017"
     ]
    },
    {
     "name": "stderr",
     "output_type": "stream",
     "text": [
      "2023-02-15 21:20:46.354140: I tensorflow/core/grappler/optimizers/custom_graph_optimizer_registry.cc:113] Plugin optimizer for device_type GPU is enabled.\n"
     ]
    },
    {
     "name": "stdout",
     "output_type": "stream",
     "text": [
      "1875/1875 [==============================] - 22s 11ms/step - loss: 2.9729 - accuracy: 0.1018 - val_loss: 2.3109 - val_accuracy: 0.1042\n",
      "Epoch 2/40\n",
      "1875/1875 [==============================] - 10s 5ms/step - loss: 2.3091 - accuracy: 0.1037 - val_loss: 2.3091 - val_accuracy: 0.0860\n",
      "Epoch 3/40\n",
      "1875/1875 [==============================] - 10s 5ms/step - loss: 2.3072 - accuracy: 0.1063 - val_loss: 2.3089 - val_accuracy: 0.0860\n",
      "Epoch 4/40\n",
      "1875/1875 [==============================] - 10s 5ms/step - loss: 2.3065 - accuracy: 0.1061 - val_loss: 2.3108 - val_accuracy: 0.0860\n",
      "Epoch 5/40\n",
      "1875/1875 [==============================] - 10s 5ms/step - loss: 2.3050 - accuracy: 0.1062 - val_loss: 2.3051 - val_accuracy: 0.1013\n",
      "Epoch 6/40\n",
      "1875/1875 [==============================] - 10s 5ms/step - loss: 2.3034 - accuracy: 0.1095 - val_loss: 2.3027 - val_accuracy: 0.1008\n",
      "Epoch 7/40\n",
      "1875/1875 [==============================] - 10s 5ms/step - loss: 2.3023 - accuracy: 0.1112 - val_loss: 2.3033 - val_accuracy: 0.1008\n",
      "Epoch 8/40\n",
      "1875/1875 [==============================] - 11s 6ms/step - loss: 2.3006 - accuracy: 0.1124 - val_loss: 2.2990 - val_accuracy: 0.0944\n",
      "Epoch 9/40\n",
      "1875/1875 [==============================] - 10s 6ms/step - loss: 2.2986 - accuracy: 0.1180 - val_loss: 2.3099 - val_accuracy: 0.0976\n",
      "Epoch 10/40\n",
      "1875/1875 [==============================] - 10s 5ms/step - loss: 2.2960 - accuracy: 0.1231 - val_loss: 2.2977 - val_accuracy: 0.1668\n",
      "Epoch 11/40\n",
      "1875/1875 [==============================] - 10s 5ms/step - loss: 2.2934 - accuracy: 0.1261 - val_loss: 2.2940 - val_accuracy: 0.3166\n",
      "Epoch 12/40\n",
      "1875/1875 [==============================] - 10s 6ms/step - loss: 2.2894 - accuracy: 0.1313 - val_loss: 2.2860 - val_accuracy: 0.2194\n",
      "Epoch 13/40\n",
      "1875/1875 [==============================] - 10s 5ms/step - loss: 2.2844 - accuracy: 0.1433 - val_loss: 2.2831 - val_accuracy: 0.1939\n",
      "Epoch 14/40\n",
      "1875/1875 [==============================] - 10s 5ms/step - loss: 2.2775 - accuracy: 0.1533 - val_loss: 2.2725 - val_accuracy: 0.2634\n",
      "Epoch 15/40\n",
      "1875/1875 [==============================] - 10s 5ms/step - loss: 2.2675 - accuracy: 0.1768 - val_loss: 2.2739 - val_accuracy: 0.0966\n",
      "Epoch 16/40\n",
      "1875/1875 [==============================] - 10s 5ms/step - loss: 2.2540 - accuracy: 0.2007 - val_loss: 2.2532 - val_accuracy: 0.1860\n",
      "Epoch 17/40\n",
      "1875/1875 [==============================] - 10s 5ms/step - loss: 2.2326 - accuracy: 0.2387 - val_loss: 2.2207 - val_accuracy: 0.3313\n",
      "Epoch 18/40\n",
      "1875/1875 [==============================] - 10s 5ms/step - loss: 2.1989 - accuracy: 0.2922 - val_loss: 2.1800 - val_accuracy: 0.3134\n",
      "Epoch 19/40\n",
      "1875/1875 [==============================] - 11s 6ms/step - loss: 2.1435 - accuracy: 0.3393 - val_loss: 2.1298 - val_accuracy: 0.2677\n",
      "Epoch 20/40\n",
      "1875/1875 [==============================] - 10s 5ms/step - loss: 2.0545 - accuracy: 0.4013 - val_loss: 2.0221 - val_accuracy: 0.3516\n",
      "Epoch 21/40\n",
      "1875/1875 [==============================] - 10s 5ms/step - loss: 1.9224 - accuracy: 0.4381 - val_loss: 1.8665 - val_accuracy: 0.4989\n",
      "Epoch 22/40\n",
      "1875/1875 [==============================] - 10s 5ms/step - loss: 1.7663 - accuracy: 0.4820 - val_loss: 1.7196 - val_accuracy: 0.5139\n",
      "Epoch 23/40\n",
      "1875/1875 [==============================] - 10s 5ms/step - loss: 1.6108 - accuracy: 0.5353 - val_loss: 1.6080 - val_accuracy: 0.4859\n",
      "Epoch 24/40\n",
      "1875/1875 [==============================] - 10s 5ms/step - loss: 1.4739 - accuracy: 0.5844 - val_loss: 1.4643 - val_accuracy: 0.5764\n",
      "Epoch 25/40\n",
      "1875/1875 [==============================] - 10s 5ms/step - loss: 1.3519 - accuracy: 0.6252 - val_loss: 1.3893 - val_accuracy: 0.6071\n",
      "Epoch 26/40\n",
      "1875/1875 [==============================] - 10s 5ms/step - loss: 1.2473 - accuracy: 0.6625 - val_loss: 1.3021 - val_accuracy: 0.6169\n",
      "Epoch 27/40\n",
      "1875/1875 [==============================] - 10s 5ms/step - loss: 1.1526 - accuracy: 0.6850 - val_loss: 1.1923 - val_accuracy: 0.6689\n",
      "Epoch 28/40\n",
      "1875/1875 [==============================] - 10s 5ms/step - loss: 1.0615 - accuracy: 0.7090 - val_loss: 1.2198 - val_accuracy: 0.6036\n",
      "Epoch 29/40\n",
      "1875/1875 [==============================] - 10s 5ms/step - loss: 0.9758 - accuracy: 0.7308 - val_loss: 1.1040 - val_accuracy: 0.6506\n",
      "Epoch 30/40\n",
      "1875/1875 [==============================] - 10s 5ms/step - loss: 0.8990 - accuracy: 0.7467 - val_loss: 0.9720 - val_accuracy: 0.7033\n",
      "Epoch 31/40\n",
      "1875/1875 [==============================] - 10s 5ms/step - loss: 0.8283 - accuracy: 0.7647 - val_loss: 0.9069 - val_accuracy: 0.7180\n",
      "Epoch 32/40\n",
      "1875/1875 [==============================] - 10s 5ms/step - loss: 0.7701 - accuracy: 0.7775 - val_loss: 0.8654 - val_accuracy: 0.7271\n",
      "Epoch 33/40\n",
      "1875/1875 [==============================] - 10s 5ms/step - loss: 0.7215 - accuracy: 0.7882 - val_loss: 0.8951 - val_accuracy: 0.7073\n",
      "Epoch 34/40\n",
      "1875/1875 [==============================] - 10s 5ms/step - loss: 0.6758 - accuracy: 0.8006 - val_loss: 0.8333 - val_accuracy: 0.7206\n",
      "Epoch 35/40\n",
      "1875/1875 [==============================] - 10s 5ms/step - loss: 0.6368 - accuracy: 0.8116 - val_loss: 0.8103 - val_accuracy: 0.7267\n",
      "Epoch 36/40\n",
      "1875/1875 [==============================] - 10s 5ms/step - loss: 0.6021 - accuracy: 0.8203 - val_loss: 0.7340 - val_accuracy: 0.7593\n",
      "Epoch 37/40\n",
      "1875/1875 [==============================] - 10s 5ms/step - loss: 0.5727 - accuracy: 0.8293 - val_loss: 0.7483 - val_accuracy: 0.7640\n",
      "Epoch 38/40\n",
      "1875/1875 [==============================] - 10s 5ms/step - loss: 0.5440 - accuracy: 0.8394 - val_loss: 0.7756 - val_accuracy: 0.7340\n",
      "Epoch 39/40\n",
      "1875/1875 [==============================] - 10s 5ms/step - loss: 0.5208 - accuracy: 0.8453 - val_loss: 0.6503 - val_accuracy: 0.7894\n",
      "Epoch 40/40\n",
      "1875/1875 [==============================] - 10s 5ms/step - loss: 0.4999 - accuracy: 0.8509 - val_loss: 0.6814 - val_accuracy: 0.7679\n"
     ]
    },
    {
     "data": {
      "text/plain": [
       "<keras.callbacks.History at 0x29016beb0>"
      ]
     },
     "execution_count": 7,
     "metadata": {},
     "output_type": "execute_result"
    }
   ],
   "source": [
    "model.fit(X_train,Y_train,epochs=40,validation_data=(X_val,Y_val))"
   ]
  }
 ],
 "metadata": {
  "kernelspec": {
   "display_name": "venv",
   "language": "python",
   "name": "python3"
  },
  "language_info": {
   "codemirror_mode": {
    "name": "ipython",
    "version": 3
   },
   "file_extension": ".py",
   "mimetype": "text/x-python",
   "name": "python",
   "nbconvert_exporter": "python",
   "pygments_lexer": "ipython3",
   "version": "3.10.10"
  },
  "orig_nbformat": 4,
  "vscode": {
   "interpreter": {
    "hash": "c22530e0b1ca318992d343d6aa964ee37b54c469b5144527ce673786e01d07c1"
   }
  }
 },
 "nbformat": 4,
 "nbformat_minor": 2
}
