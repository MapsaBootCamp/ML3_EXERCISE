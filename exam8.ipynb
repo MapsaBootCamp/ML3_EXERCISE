{
 "cells": [
  {
   "cell_type": "markdown",
   "metadata": {},
   "source": [
    "را توضیح دهید sgd پنالتی ترم های  "
   ]
  },
  {
   "cell_type": "markdown",
   "metadata": {},
   "source": [
    "پاسخ: این ترم در محاسبه خطا اضافه می شود\n",
    "\n",
    "برای رگولارایز کردن مدل استفاده می شود\n",
    "و برای جلوگیری از اورفیت شدن مدل به این ترم نیاز داریم\n",
    "\n",
    "اگر با بالا بردن تعداد پارامترها پیچیدگی را بالا ببریم این ترم باعث جریمه می شود\n",
    "با وجود این ترم مدل تلاش می کند پارامترهایی رو پیدا کند که مقادیرش بزرگ نیستند و نمودار حالت رگولارایز شده باشد\n",
    "\n",
    "و نمودار بین نقاط شارپ حرکت نمی کند"
   ]
  },
  {
   "cell_type": "markdown",
   "metadata": {},
   "source": [
    "##########################"
   ]
  },
  {
   "cell_type": "markdown",
   "metadata": {},
   "source": [
    " با ریدج و در جه آزادی 0.9 را امتحان کنید sgd مدل classpriceروی داده های   "
   ]
  },
  {
   "cell_type": "code",
   "execution_count": 74,
   "metadata": {},
   "outputs": [],
   "source": [
    "import math\n",
    "from sklearn import metrics"
   ]
  },
  {
   "cell_type": "code",
   "execution_count": 75,
   "metadata": {},
   "outputs": [],
   "source": [
    "import pandas as pd\n",
    "import numpy as np\n",
    "df=pd.read_csv('classprice.csv')"
   ]
  },
  {
   "cell_type": "code",
   "execution_count": 76,
   "metadata": {},
   "outputs": [],
   "source": [
    "from sklearn.linear_model import LinearRegression, Ridge, SGDRegressor \n",
    "from sklearn.pipeline import make_pipeline\n",
    "from sklearn.preprocessing import StandardScaler"
   ]
  },
  {
   "cell_type": "code",
   "execution_count": 77,
   "metadata": {},
   "outputs": [],
   "source": [
    "X=df.iloc[:,:-1].values\n",
    "y=df.iloc[:,-1].values"
   ]
  },
  {
   "cell_type": "code",
   "execution_count": 78,
   "metadata": {},
   "outputs": [],
   "source": [
    "from sklearn.model_selection import train_test_split\n",
    "X_train, X_test, y_train, y_test = train_test_split(X, y , test_size=0.3 , random_state=85)"
   ]
  },
  {
   "cell_type": "code",
   "execution_count": 79,
   "metadata": {},
   "outputs": [],
   "source": [
    "# ridge_model=Ridge(alpha=0.9)\n",
    "# ridge_model.fit(X_train,y_train)"
   ]
  },
  {
   "cell_type": "code",
   "execution_count": 81,
   "metadata": {},
   "outputs": [
    {
     "name": "stdout",
     "output_type": "stream",
     "text": [
      "R2_SCORE RidgeRegression:  0.74241549105475\n",
      "MSE RidgeRegression:  12497177.9227855\n",
      "RMSE RidgeRegression:  3535.134781417181\n",
      "MAE RidgeRegression:  2193.635801821784\n",
      "MAPE RidgeRegression:  0.1745452810985139\n"
     ]
    }
   ],
   "source": [
    "sgr_model=make_pipeline(StandardScaler(),SGDRegressor(penalty='l2',alpha=0.9))\n",
    "sgr_model.fit(X_train,y_train)\n",
    "y_predict=sgr_model.predict(X_test)\n",
    "print(\"R2_SCORE RidgeRegression: \", metrics.r2_score(y_test, y_predict))\n",
    "print(\"MSE RidgeRegression: \", metrics.mean_squared_error(y_test, y_predict))\n",
    "print(\"RMSE RidgeRegression: \", metrics.mean_squared_error(y_test, y_predict,squared=False))\n",
    "print(\"MAE RidgeRegression: \", metrics.mean_absolute_error(y_test, y_predict))\n",
    "print(\"MAPE RidgeRegression: \", metrics.mean_absolute_percentage_error(y_test, y_predict))"
   ]
  },
  {
   "cell_type": "markdown",
   "metadata": {},
   "source": [
    "حال مدل قبلی را در همان هتگامی که بهترین اکسترمم را پیدا کرد نگه دارید و نتیجه را مقایسه کنید\n"
   ]
  },
  {
   "cell_type": "code",
   "execution_count": 82,
   "metadata": {},
   "outputs": [
    {
     "name": "stdout",
     "output_type": "stream",
     "text": [
      "R2_SCORE RidgeRegression:  0.6476896761304707\n",
      "MSE RidgeRegression:  17092972.00930484\n",
      "RMSE RidgeRegression:  4134.36476490704\n",
      "MAE RidgeRegression:  2835.0357469037504\n",
      "MAPE RidgeRegression:  0.24049948318564082\n"
     ]
    }
   ],
   "source": [
    "sgr_model=make_pipeline(StandardScaler(),SGDRegressor(penalty='l2',alpha=0.9,early_stopping=True))\n",
    "sgr_model.fit(X_train,y_train)\n",
    "y_predict=sgr_model.predict(X_test)\n",
    "print(\"R2_SCORE RidgeRegression: \", metrics.r2_score(y_test, y_predict))\n",
    "print(\"MSE RidgeRegression: \", metrics.mean_squared_error(y_test, y_predict))\n",
    "print(\"RMSE RidgeRegression: \", metrics.mean_squared_error(y_test, y_predict,squared=False))\n",
    "print(\"MAE RidgeRegression: \", metrics.mean_absolute_error(y_test, y_predict))\n",
    "print(\"MAPE RidgeRegression: \", metrics.mean_absolute_percentage_error(y_test, y_predict))"
   ]
  },
  {
   "cell_type": "markdown",
   "metadata": {},
   "source": [
    "در حالتی  که از تمام ظرفیت پردازشیه سیستم استفاده میکنید بدون اسکیل کردن روی داده ها امتحان کنید  LinearRegression حال مدل"
   ]
  },
  {
   "cell_type": "code",
   "execution_count": 83,
   "metadata": {},
   "outputs": [
    {
     "name": "stdout",
     "output_type": "stream",
     "text": [
      "R2_SCORE RidgeRegression:  0.7931110510197017\n",
      "MSE RidgeRegression:  10037591.221040541\n",
      "RMSE RidgeRegression:  3168.215778800513\n",
      "MAE RidgeRegression:  2037.6807859236196\n",
      "MAPE RidgeRegression:  0.16467364865558376\n"
     ]
    }
   ],
   "source": [
    "lr_model=make_pipeline(LinearRegression(n_jobs=-1))\n",
    "lr_model.fit(X_train,y_train)\n",
    "y_predict=lr_model.predict(X_test)\n",
    "print(\"R2_SCORE LinearRegression: \", metrics.r2_score(y_test, y_predict))\n",
    "print(\"MSE LinearRegression: \", metrics.mean_squared_error(y_test, y_predict))\n",
    "print(\"RMSE LinearRegression: \", metrics.mean_squared_error(y_test, y_predict,squared=False))\n",
    "print(\"MAE LinearRegression: \", metrics.mean_absolute_error(y_test, y_predict))\n",
    "print(\"MAPE LinearRegression: \", metrics.mean_absolute_percentage_error(y_test, y_predict))"
   ]
  },
  {
   "cell_type": "markdown",
   "metadata": {},
   "source": [
    "حال مدل بالا را با استادارد اسکل در پایپ لاین امتحان کنید از مقایسه دو نتیجه با هم چه چیزی میفهمید علت را در بیس کد پیدا کنید"
   ]
  },
  {
   "cell_type": "markdown",
   "metadata": {},
   "source": [
    "مقایسه نشان می دهد فرق چندانی در نتیجه رخ نداد"
   ]
  },
  {
   "cell_type": "code",
   "execution_count": 84,
   "metadata": {},
   "outputs": [
    {
     "name": "stdout",
     "output_type": "stream",
     "text": [
      "R2_SCORE RidgeRegression:  0.7931110510196985\n",
      "MSE RidgeRegression:  10037591.221040694\n",
      "RMSE RidgeRegression:  3168.215778800537\n",
      "MAE RidgeRegression:  2037.680785923636\n",
      "MAPE RidgeRegression:  0.16467364865558448\n"
     ]
    }
   ],
   "source": [
    "lr_model=make_pipeline(StandardScaler(),LinearRegression(n_jobs=-1))\n",
    "lr_model.fit(X_train,y_train)\n",
    "y_predict=lr_model.predict(X_test)\n",
    "print(\"R2_SCORE LinearRegression: \", metrics.r2_score(y_test, y_predict))\n",
    "print(\"MSE LinearRegression: \", metrics.mean_squared_error(y_test, y_predict))\n",
    "print(\"RMSE LinearRegression: \", metrics.mean_squared_error(y_test, y_predict,squared=False))\n",
    "print(\"MAE LinearRegression: \", metrics.mean_absolute_error(y_test, y_predict))\n",
    "print(\"MAPE LinearRegression: \", metrics.mean_absolute_percentage_error(y_test, y_predict))"
   ]
  },
  {
   "cell_type": "markdown",
   "metadata": {},
   "source": [
    "روی داده های تایتانیک اعمال کنید امتحان کنید  LinearRegression حال مدل"
   ]
  },
  {
   "cell_type": "code",
   "execution_count": 93,
   "metadata": {},
   "outputs": [],
   "source": [
    "df=pd.read_csv('titanic.csv').dropna()"
   ]
  },
  {
   "cell_type": "code",
   "execution_count": 94,
   "metadata": {},
   "outputs": [],
   "source": [
    "df['Sex']=df['Sex'].apply(lambda x: 1 if x=='female' else 0)"
   ]
  },
  {
   "cell_type": "code",
   "execution_count": 95,
   "metadata": {},
   "outputs": [],
   "source": [
    "X=df.loc[:,['Pclass','Sex','Age','SibSp','Parch','Fare']].values\n",
    "y=df.loc[:,['Survived']].values"
   ]
  },
  {
   "cell_type": "code",
   "execution_count": 96,
   "metadata": {},
   "outputs": [],
   "source": [
    "X_train, X_test, y_train, y_test = train_test_split(X, y , test_size=0.3 , random_state=85)"
   ]
  },
  {
   "cell_type": "code",
   "execution_count": 97,
   "metadata": {},
   "outputs": [
    {
     "name": "stdout",
     "output_type": "stream",
     "text": [
      "R2_SCORE LinearRegression:  0.30345622403454586\n",
      "MSE LinearRegression:  0.16947313028448738\n",
      "RMSE LinearRegression:  0.4116711433711226\n",
      "MAE LinearRegression:  0.352917649889296\n",
      "MAPE LinearRegression:  900631678197512.2\n"
     ]
    }
   ],
   "source": [
    "lr_model=make_pipeline(StandardScaler(),LinearRegression(n_jobs=-1))\n",
    "lr_model.fit(X_train,y_train)\n",
    "y_predict=lr_model.predict(X_test)\n",
    "print(\"R2_SCORE LinearRegression: \", metrics.r2_score(y_test, y_predict))\n",
    "print(\"MSE LinearRegression: \", metrics.mean_squared_error(y_test, y_predict))\n",
    "print(\"RMSE LinearRegression: \", metrics.mean_squared_error(y_test, y_predict,squared=False))\n",
    "print(\"MAE LinearRegression: \", metrics.mean_absolute_error(y_test, y_predict))\n",
    "print(\"MAPE LinearRegression: \", metrics.mean_absolute_percentage_error(y_test, y_predict))"
   ]
  },
  {
   "cell_type": "code",
   "execution_count": null,
   "metadata": {},
   "outputs": [],
   "source": []
  }
 ],
 "metadata": {
  "colab": {
   "provenance": []
  },
  "kernelspec": {
   "display_name": "Python 3 (ipykernel)",
   "language": "python",
   "name": "python3"
  },
  "language_info": {
   "codemirror_mode": {
    "name": "ipython",
    "version": 3
   },
   "file_extension": ".py",
   "mimetype": "text/x-python",
   "name": "python",
   "nbconvert_exporter": "python",
   "pygments_lexer": "ipython3",
   "version": "3.10.2"
  },
  "vscode": {
   "interpreter": {
    "hash": "916dbcbb3f70747c44a77c7bcd40155683ae19c65e1c03b4aa3499c5328201f1"
   }
  }
 },
 "nbformat": 4,
 "nbformat_minor": 4
}
