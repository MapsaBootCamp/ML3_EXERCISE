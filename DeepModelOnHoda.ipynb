{
 "cells": [
  {
   "cell_type": "code",
   "execution_count": 2,
   "id": "39bf79a4-2b85-4d23-af66-fdbd2d9f60df",
   "metadata": {},
   "outputs": [],
   "source": [
    "import pandas as pd\n",
    "import numpy as np\n",
    "import cv2 as cv\n",
    "from matplotlib import pyplot as plt"
   ]
  },
  {
   "cell_type": "markdown",
   "id": "ac4295aa-426c-487b-bbce-9bb79d7332f5",
   "metadata": {
    "jp-MarkdownHeadingCollapsed": true,
    "tags": []
   },
   "source": [
    "# Read Data set Hoda and Split data to train, validation and test"
   ]
  },
  {
   "cell_type": "code",
   "execution_count": 3,
   "id": "673224f4-497e-4cc1-9ce9-1145861cf6fb",
   "metadata": {},
   "outputs": [],
   "source": [
    "from HodaDatasetReader import read_hoda_cdb, read_hoda_dataset"
   ]
  },
  {
   "cell_type": "code",
   "execution_count": 4,
   "id": "380e1df8-4d53-42d6-aa0e-9af7c2dc9966",
   "metadata": {},
   "outputs": [
    {
     "name": "stdout",
     "output_type": "stream",
     "text": [
      "Reading train dataset (Train 60000.cdb)...\n"
     ]
    }
   ],
   "source": [
    "print('Reading train dataset (Train 60000.cdb)...')\n",
    "X_train_full, y_train_full = read_hoda_dataset(dataset_path='./DigitDB/Train 60000.cdb',\n",
    "                                     images_height=32,\n",
    "                                     images_width=32,\n",
    "                                     one_hot=False,\n",
    "                                     reshape=True)"
   ]
  },
  {
   "cell_type": "code",
   "execution_count": 5,
   "id": "dbacefff-c04a-4f5d-89db-3af7862bcfef",
   "metadata": {},
   "outputs": [
    {
     "name": "stdout",
     "output_type": "stream",
     "text": [
      "Reading test dataset (Test 20000.cdb)...\n"
     ]
    }
   ],
   "source": [
    "print('Reading test dataset (Test 20000.cdb)...')\n",
    "X_test, y_test = read_hoda_dataset(dataset_path='./DigitDB/Test 20000.cdb',\n",
    "                              images_height=32,\n",
    "                              images_width=32,\n",
    "                              one_hot=False,\n",
    "                              reshape=True)"
   ]
  },
  {
   "cell_type": "code",
   "execution_count": 6,
   "id": "821428ec-3c8b-4230-8ef6-57269740f57b",
   "metadata": {},
   "outputs": [],
   "source": [
    "from sklearn.model_selection import train_test_split\n",
    "\n",
    "X_train, X_valid, y_train, y_valid=train_test_split(X_train_full,y_train_full, test_size=0.2, random_state=42)"
   ]
  },
  {
   "cell_type": "markdown",
   "id": "f417ecd3-cdf7-49a9-8c7a-c19aed6e7876",
   "metadata": {
    "jp-MarkdownHeadingCollapsed": true,
    "tags": []
   },
   "source": [
    "# Sequential Model with two hidden layers"
   ]
  },
  {
   "cell_type": "code",
   "execution_count": 7,
   "id": "7293f3da-019f-4c4d-97b4-a387df2234ee",
   "metadata": {},
   "outputs": [],
   "source": [
    "import tensorflow as tf\n",
    "from tensorflow import keras"
   ]
  },
  {
   "cell_type": "markdown",
   "id": "4077545d-2281-42dd-9c8b-144d1b9d665f",
   "metadata": {
    "jp-MarkdownHeadingCollapsed": true,
    "tags": []
   },
   "source": [
    "#### Two Hidden Layer, 300-100 neurons"
   ]
  },
  {
   "cell_type": "code",
   "execution_count": 8,
   "id": "d2b8fba6-fb29-4e6c-8065-feb16890be1d",
   "metadata": {},
   "outputs": [],
   "source": [
    "model=keras.models.Sequential()\n",
    "# model.add(keras.layers.Flatten(input_shape=[32,32]))\n",
    "model.add(keras.layers.Dense(300, activation=\"relu\"))\n",
    "model.add(keras.layers.Dense(100, activation=\"relu\"))\n",
    "model.add(keras.layers.Dense(10, activation=\"softmax\"))"
   ]
  },
  {
   "cell_type": "code",
   "execution_count": 9,
   "id": "a08ea70d-a543-43c8-a8d4-3e799e58cbe1",
   "metadata": {},
   "outputs": [],
   "source": [
    "model.compile(loss=\"sparse_categorical_crossentropy\", optimizer=\"sgd\", metrics=[\"accuracy\"])"
   ]
  },
  {
   "cell_type": "code",
   "execution_count": 10,
   "id": "ed23959c-df2f-4fad-acfc-e088b1af2ef8",
   "metadata": {},
   "outputs": [
    {
     "name": "stdout",
     "output_type": "stream",
     "text": [
      "Epoch 1/10\n",
      "1500/1500 [==============================] - 8s 5ms/step - loss: 0.3756 - accuracy: 0.9024 - val_loss: 0.1818 - val_accuracy: 0.9499\n",
      "Epoch 2/10\n",
      "1500/1500 [==============================] - 7s 5ms/step - loss: 0.1510 - accuracy: 0.9586 - val_loss: 0.1458 - val_accuracy: 0.9612\n",
      "Epoch 3/10\n",
      "1500/1500 [==============================] - 7s 5ms/step - loss: 0.1199 - accuracy: 0.9683 - val_loss: 0.1269 - val_accuracy: 0.9643\n",
      "Epoch 4/10\n",
      "1500/1500 [==============================] - 7s 5ms/step - loss: 0.1019 - accuracy: 0.9730 - val_loss: 0.1103 - val_accuracy: 0.9703\n",
      "Epoch 5/10\n",
      "1500/1500 [==============================] - 7s 5ms/step - loss: 0.0883 - accuracy: 0.9763 - val_loss: 0.1034 - val_accuracy: 0.9716\n",
      "Epoch 6/10\n",
      "1500/1500 [==============================] - 7s 5ms/step - loss: 0.0779 - accuracy: 0.9795 - val_loss: 0.0964 - val_accuracy: 0.9738\n",
      "Epoch 7/10\n",
      "1500/1500 [==============================] - 7s 4ms/step - loss: 0.0696 - accuracy: 0.9818 - val_loss: 0.0888 - val_accuracy: 0.9761\n",
      "Epoch 8/10\n",
      "1500/1500 [==============================] - 7s 5ms/step - loss: 0.0624 - accuracy: 0.9837 - val_loss: 0.0854 - val_accuracy: 0.9761\n",
      "Epoch 9/10\n",
      "1500/1500 [==============================] - 7s 5ms/step - loss: 0.0569 - accuracy: 0.9850 - val_loss: 0.0800 - val_accuracy: 0.9787\n",
      "Epoch 10/10\n",
      "1500/1500 [==============================] - 7s 5ms/step - loss: 0.0515 - accuracy: 0.9865 - val_loss: 0.0767 - val_accuracy: 0.9793\n"
     ]
    }
   ],
   "source": [
    "history=model.fit(X_train, y_train, epochs=10, validation_data=(X_valid,y_valid))"
   ]
  },
  {
   "cell_type": "code",
   "execution_count": 11,
   "id": "1cf50ffe-7d05-4860-b7f3-1a2e2aee66a3",
   "metadata": {},
   "outputs": [
    {
     "data": {
      "image/png": "[encoded data removed]",
      "text/plain": [
       "<Figure size 800x500 with 1 Axes>"
      ]
     },
     "metadata": {},
     "output_type": "display_data"
    }
   ],
   "source": [
    "pd.DataFrame(history.history).plot(figsize=(8, 5))\n",
    "plt.grid(True)\n",
    "plt.gca().set_ylim(0, 1) # set the vertical range to [0-1]\n",
    "plt.show()"
   ]
  },
  {
   "cell_type": "code",
   "execution_count": 12,
   "id": "c66d884f-259a-48cd-abda-572e854ceb82",
   "metadata": {},
   "outputs": [
    {
     "name": "stdout",
     "output_type": "stream",
     "text": [
      "625/625 [==============================] - 2s 3ms/step - loss: 0.1407 - accuracy: 0.9589\n"
     ]
    },
    {
     "data": {
      "text/plain": [
       "[0.14066357910633087, 0.9589499831199646]"
      ]
     },
     "execution_count": 12,
     "metadata": {},
     "output_type": "execute_result"
    }
   ],
   "source": [
    "model.evaluate(X_test,y_test)"
   ]
  },
  {
   "cell_type": "code",
   "execution_count": 13,
   "id": "6fda3a71-6844-4d00-877d-9d251a12fe8e",
   "metadata": {},
   "outputs": [
    {
     "name": "stdout",
     "output_type": "stream",
     "text": [
      "1/1 [==============================] - 0s 79ms/step\n"
     ]
    },
    {
     "data": {
      "text/plain": [
       "array([[1.  , 0.  , 0.  , 0.  , 0.  , 0.  , 0.  , 0.  , 0.  , 0.  ],\n",
       "       [1.  , 0.  , 0.  , 0.  , 0.  , 0.  , 0.  , 0.  , 0.  , 0.  ],\n",
       "       [0.74, 0.02, 0.  , 0.  , 0.  , 0.17, 0.02, 0.05, 0.  , 0.  ]],\n",
       "      dtype=float32)"
      ]
     },
     "execution_count": 13,
     "metadata": {},
     "output_type": "execute_result"
    }
   ],
   "source": [
    "X_new = X_test[:3]\n",
    "y_proba = model.predict(X_new)\n",
    "y_proba.round(2)"
   ]
  },
  {
   "cell_type": "markdown",
   "id": "7f36b190-5b86-4e03-82e7-090afbdd35c8",
   "metadata": {
    "jp-MarkdownHeadingCollapsed": true,
    "tags": []
   },
   "source": [
    "#### Three hidden Layers, 300-200-100 neurons"
   ]
  },
  {
   "cell_type": "code",
   "execution_count": 22,
   "id": "3504bcdc-9f47-44c7-8c4e-4432f999029c",
   "metadata": {},
   "outputs": [],
   "source": [
    "model=keras.models.Sequential()\n",
    "model.add(keras.layers.Dense(300, activation=\"relu\"))\n",
    "model.add(keras.layers.Dense(200, activation=\"relu\"))\n",
    "model.add(keras.layers.Dense(100, activation=\"relu\"))\n",
    "model.add(keras.layers.Dense(10, activation=\"softmax\"))\n",
    "\n",
    "model.compile(loss=\"sparse_categorical_crossentropy\", optimizer=\"sgd\", metrics=[\"accuracy\"])"
   ]
  },
  {
   "cell_type": "code",
   "execution_count": 23,
   "id": "506c3cd5-6485-4f6d-815f-596d9233d9c0",
   "metadata": {},
   "outputs": [
    {
     "name": "stdout",
     "output_type": "stream",
     "text": [
      "Epoch 1/10\n",
      "1500/1500 [==============================] - 8s 5ms/step - loss: 0.3691 - accuracy: 0.9041 - val_loss: 0.1656 - val_accuracy: 0.9543\n",
      "Epoch 2/10\n",
      "1500/1500 [==============================] - 8s 5ms/step - loss: 0.1373 - accuracy: 0.9619 - val_loss: 0.1274 - val_accuracy: 0.9652\n",
      "Epoch 3/10\n",
      "1500/1500 [==============================] - 7s 5ms/step - loss: 0.1063 - accuracy: 0.9704 - val_loss: 0.1102 - val_accuracy: 0.9698\n",
      "Epoch 4/10\n",
      "1500/1500 [==============================] - 8s 5ms/step - loss: 0.0877 - accuracy: 0.9762 - val_loss: 0.0960 - val_accuracy: 0.9737\n",
      "Epoch 5/10\n",
      "1500/1500 [==============================] - 7s 5ms/step - loss: 0.0739 - accuracy: 0.9798 - val_loss: 0.0905 - val_accuracy: 0.9754\n",
      "Epoch 6/10\n",
      "1500/1500 [==============================] - 7s 5ms/step - loss: 0.0638 - accuracy: 0.9826 - val_loss: 0.0844 - val_accuracy: 0.9772\n",
      "Epoch 7/10\n",
      "1500/1500 [==============================] - 7s 5ms/step - loss: 0.0555 - accuracy: 0.9856 - val_loss: 0.0769 - val_accuracy: 0.9796\n",
      "Epoch 8/10\n",
      "1500/1500 [==============================] - 7s 5ms/step - loss: 0.0482 - accuracy: 0.9876 - val_loss: 0.0740 - val_accuracy: 0.9794\n",
      "Epoch 9/10\n",
      "1500/1500 [==============================] - 7s 5ms/step - loss: 0.0421 - accuracy: 0.9893 - val_loss: 0.0714 - val_accuracy: 0.9808\n",
      "Epoch 10/10\n",
      "1500/1500 [==============================] - 8s 6ms/step - loss: 0.0370 - accuracy: 0.9908 - val_loss: 0.0686 - val_accuracy: 0.9805\n"
     ]
    }
   ],
   "source": [
    "history=model.fit(X_train, y_train, epochs=10, validation_data=(X_valid,y_valid))"
   ]
  },
  {
   "cell_type": "code",
   "execution_count": 24,
   "id": "369b4857-ba94-49f3-976b-01ee8be2a590",
   "metadata": {},
   "outputs": [
    {
     "data": {
      "image/png": "[encoded data removed]",
      "text/plain": [
       "<Figure size 800x500 with 1 Axes>"
      ]
     },
     "metadata": {},
     "output_type": "display_data"
    }
   ],
   "source": [
    "pd.DataFrame(history.history).plot(figsize=(8, 5))\n",
    "plt.grid(True)\n",
    "plt.gca().set_ylim(0, 1) # set the vertical range to [0-1]\n",
    "plt.show()"
   ]
  },
  {
   "cell_type": "code",
   "execution_count": 25,
   "id": "2bef1e12-0eb4-477e-908d-6b54884b8b74",
   "metadata": {},
   "outputs": [
    {
     "name": "stdout",
     "output_type": "stream",
     "text": [
      "1/1 [==============================] - 0s 131ms/step\n"
     ]
    },
    {
     "data": {
      "text/plain": [
       "array([[1.  , 0.  , 0.  , 0.  , 0.  , 0.  , 0.  , 0.  , 0.  , 0.  ],\n",
       "       [1.  , 0.  , 0.  , 0.  , 0.  , 0.  , 0.  , 0.  , 0.  , 0.  ],\n",
       "       [0.55, 0.03, 0.  , 0.  , 0.  , 0.39, 0.01, 0.01, 0.01, 0.  ]],\n",
       "      dtype=float32)"
      ]
     },
     "execution_count": 25,
     "metadata": {},
     "output_type": "execute_result"
    }
   ],
   "source": [
    "X_new = X_test[:3]\n",
    "y_proba = model.predict(X_new)\n",
    "y_proba.round(2)"
   ]
  },
  {
   "cell_type": "markdown",
   "id": "9d68ef74-b9c2-4b9a-8c07-26311ae58818",
   "metadata": {
    "jp-MarkdownHeadingCollapsed": true,
    "tags": []
   },
   "source": [
    "# Functional API Model"
   ]
  },
  {
   "cell_type": "markdown",
   "id": "26cdccbb-4947-4ced-825b-15f718f9de19",
   "metadata": {
    "jp-MarkdownHeadingCollapsed": true,
    "tags": []
   },
   "source": [
    "#### Architecture: Two hidden Layers(each 30 neurons) parallel Without hidden Layer"
   ]
  },
  {
   "cell_type": "code",
   "execution_count": 79,
   "id": "9651f8f4-16ff-4120-ae6c-927c0ea8ceea",
   "metadata": {},
   "outputs": [],
   "source": [
    "input_ = keras.layers.Input(shape=[1024])\n",
    "hidden1 = keras.layers.Dense(30, activation=\"relu\")(input_)\n",
    "hidden2 = keras.layers.Dense(30, activation=\"relu\")(hidden1)\n",
    "concat = keras.layers.Concatenate()([input_, hidden2])\n",
    "output = keras.layers.Dense(10, activation=\"softmax\")(concat)\n",
    "model = keras.Model(inputs=[input_], outputs=[output])"
   ]
  },
  {
   "cell_type": "code",
   "execution_count": 16,
   "id": "3ec5937b-4f38-42b2-a2e4-91e6ca74523b",
   "metadata": {},
   "outputs": [
    {
     "name": "stdout",
     "output_type": "stream",
     "text": [
      "Model: \"model\"\n",
      "__________________________________________________________________________________________________\n",
      " Layer (type)                   Output Shape         Param #     Connected to                     \n",
      "==================================================================================================\n",
      " input_1 (InputLayer)           [(None, 1024)]       0           []                               \n",
      "                                                                                                  \n",
      " dense_3 (Dense)                (None, 30)           30750       ['input_1[0][0]']                \n",
      "                                                                                                  \n",
      " dense_4 (Dense)                (None, 30)           930         ['dense_3[0][0]']                \n",
      "                                                                                                  \n",
      " concatenate (Concatenate)      (None, 1054)         0           ['input_1[0][0]',                \n",
      "                                                                  'dense_4[0][0]']                \n",
      "                                                                                                  \n",
      " dense_5 (Dense)                (None, 10)           10550       ['concatenate[0][0]']            \n",
      "                                                                                                  \n",
      "==================================================================================================\n",
      "Total params: 42,230\n",
      "Trainable params: 42,230\n",
      "Non-trainable params: 0\n",
      "__________________________________________________________________________________________________\n"
     ]
    }
   ],
   "source": [
    "model.summary()"
   ]
  },
  {
   "cell_type": "markdown",
   "id": "4af20441-1a40-42bc-9f7a-df16e3bab38c",
   "metadata": {
    "jp-MarkdownHeadingCollapsed": true,
    "tags": []
   },
   "source": [
    "##### loss=mse, Optimizer=SGD"
   ]
  },
  {
   "cell_type": "code",
   "execution_count": 27,
   "id": "03944fea-3a77-49e7-9b02-7031a17ea407",
   "metadata": {},
   "outputs": [
    {
     "name": "stdout",
     "output_type": "stream",
     "text": [
      "Epoch 1/10\n",
      "1500/1500 [==============================] - 5s 3ms/step - loss: 27.6420 - accuracy: 0.1194 - val_loss: 27.4976 - val_accuracy: 0.1140\n",
      "Epoch 2/10\n",
      "1500/1500 [==============================] - 4s 3ms/step - loss: 27.6416 - accuracy: 0.1189 - val_loss: 27.4973 - val_accuracy: 0.1125\n",
      "Epoch 3/10\n",
      "1500/1500 [==============================] - 4s 3ms/step - loss: 27.6414 - accuracy: 0.1194 - val_loss: 27.4970 - val_accuracy: 0.1123\n",
      "Epoch 4/10\n",
      "1500/1500 [==============================] - 4s 3ms/step - loss: 27.6412 - accuracy: 0.1189 - val_loss: 27.4968 - val_accuracy: 0.1124\n",
      "Epoch 5/10\n",
      "1500/1500 [==============================] - 4s 3ms/step - loss: 27.6410 - accuracy: 0.1194 - val_loss: 27.4967 - val_accuracy: 0.1125\n",
      "Epoch 6/10\n",
      "1500/1500 [==============================] - 4s 3ms/step - loss: 27.6409 - accuracy: 0.1197 - val_loss: 27.4966 - val_accuracy: 0.1130\n",
      "Epoch 7/10\n",
      "1500/1500 [==============================] - 4s 3ms/step - loss: 27.6407 - accuracy: 0.1189 - val_loss: 27.4965 - val_accuracy: 0.1119\n",
      "Epoch 8/10\n",
      "1500/1500 [==============================] - 4s 3ms/step - loss: 27.6407 - accuracy: 0.1179 - val_loss: 27.4964 - val_accuracy: 0.1103\n",
      "Epoch 9/10\n",
      "1500/1500 [==============================] - 4s 3ms/step - loss: 27.6406 - accuracy: 0.1168 - val_loss: 27.4963 - val_accuracy: 0.1095\n",
      "Epoch 10/10\n",
      "1500/1500 [==============================] - 4s 3ms/step - loss: 27.6405 - accuracy: 0.1157 - val_loss: 27.4963 - val_accuracy: 0.1085\n"
     ]
    }
   ],
   "source": [
    "model.compile(loss=\"mse\", optimizer=keras.optimizers.SGD(learning_rate=1e-3),metrics=['accuracy'])\n",
    "history = model.fit(X_train, y_train, epochs=10, validation_data=(X_valid, y_valid)) #batch_size default = 32"
   ]
  },
  {
   "cell_type": "markdown",
   "id": "f069c371-21e4-41c8-a7d1-c12ad6a67a1f",
   "metadata": {
    "jp-MarkdownHeadingCollapsed": true,
    "tags": []
   },
   "source": [
    "##### loss=sparse_categorical_crossentropy, optimizer=adam --- Best Model"
   ]
  },
  {
   "cell_type": "code",
   "execution_count": 80,
   "id": "04ca4f61-3cf4-47a9-95c1-3fb08d668aec",
   "metadata": {},
   "outputs": [
    {
     "name": "stdout",
     "output_type": "stream",
     "text": [
      "Epoch 1/10\n",
      "1500/1500 [==============================] - 5s 3ms/step - loss: 0.1897 - accuracy: 0.9476 - val_loss: 0.1110 - val_accuracy: 0.9679\n",
      "Epoch 2/10\n",
      "1500/1500 [==============================] - 5s 3ms/step - loss: 0.0785 - accuracy: 0.9781 - val_loss: 0.0899 - val_accuracy: 0.9748\n",
      "Epoch 3/10\n",
      "1500/1500 [==============================] - 4s 3ms/step - loss: 0.0562 - accuracy: 0.9835 - val_loss: 0.0782 - val_accuracy: 0.9791\n",
      "Epoch 4/10\n",
      "1500/1500 [==============================] - 5s 3ms/step - loss: 0.0413 - accuracy: 0.9876 - val_loss: 0.0776 - val_accuracy: 0.9794\n",
      "Epoch 5/10\n",
      "1500/1500 [==============================] - 4s 3ms/step - loss: 0.0332 - accuracy: 0.9905 - val_loss: 0.0809 - val_accuracy: 0.9802\n",
      "Epoch 6/10\n",
      "1500/1500 [==============================] - 4s 3ms/step - loss: 0.0248 - accuracy: 0.9915 - val_loss: 0.0752 - val_accuracy: 0.9808\n",
      "Epoch 7/10\n",
      "1500/1500 [==============================] - 8s 5ms/step - loss: 0.0209 - accuracy: 0.9932 - val_loss: 0.0804 - val_accuracy: 0.9814\n",
      "Epoch 8/10\n",
      "1500/1500 [==============================] - 12s 8ms/step - loss: 0.0153 - accuracy: 0.9950 - val_loss: 0.1091 - val_accuracy: 0.9762\n",
      "Epoch 9/10\n",
      "1500/1500 [==============================] - 8s 5ms/step - loss: 0.0141 - accuracy: 0.9950 - val_loss: 0.0910 - val_accuracy: 0.9798\n",
      "Epoch 10/10\n",
      "1500/1500 [==============================] - 10s 7ms/step - loss: 0.0107 - accuracy: 0.9962 - val_loss: 0.0890 - val_accuracy: 0.9807\n"
     ]
    }
   ],
   "source": [
    "model.compile(loss=\"sparse_categorical_crossentropy\", optimizer='adam',metrics=['accuracy'])\n",
    "history = model.fit(X_train, y_train, epochs=10, validation_data=(X_valid, y_valid),batch_size=32)"
   ]
  },
  {
   "cell_type": "markdown",
   "id": "368cc592-9922-420b-b6fb-1c46c9bccb00",
   "metadata": {
    "jp-MarkdownHeadingCollapsed": true,
    "tags": []
   },
   "source": [
    "##### loss=sparse_categorical_crossentropy, optimizer=adam, batch_size=Full Data"
   ]
  },
  {
   "cell_type": "code",
   "execution_count": 33,
   "id": "388fffbe-6ee3-4a79-acee-7eb26b6f1e58",
   "metadata": {},
   "outputs": [
    {
     "name": "stdout",
     "output_type": "stream",
     "text": [
      "Epoch 1/10\n",
      "1/1 [==============================] - 1s 1s/step - loss: 2.3839 - accuracy: 0.1274 - val_loss: 2.2333 - val_accuracy: 0.1904\n",
      "Epoch 2/10\n",
      "1/1 [==============================] - 0s 387ms/step - loss: 2.2324 - accuracy: 0.1883 - val_loss: 2.0938 - val_accuracy: 0.2725\n",
      "Epoch 3/10\n",
      "1/1 [==============================] - 0s 362ms/step - loss: 2.0925 - accuracy: 0.2749 - val_loss: 1.9641 - val_accuracy: 0.3638\n",
      "Epoch 4/10\n",
      "1/1 [==============================] - 0s 400ms/step - loss: 1.9623 - accuracy: 0.3684 - val_loss: 1.8427 - val_accuracy: 0.4476\n",
      "Epoch 5/10\n",
      "1/1 [==============================] - 0s 373ms/step - loss: 1.8405 - accuracy: 0.4493 - val_loss: 1.7289 - val_accuracy: 0.5120\n",
      "Epoch 6/10\n",
      "1/1 [==============================] - 0s 393ms/step - loss: 1.7264 - accuracy: 0.5151 - val_loss: 1.6220 - val_accuracy: 0.5677\n",
      "Epoch 7/10\n",
      "1/1 [==============================] - 0s 366ms/step - loss: 1.6191 - accuracy: 0.5700 - val_loss: 1.5216 - val_accuracy: 0.6183\n",
      "Epoch 8/10\n",
      "1/1 [==============================] - 0s 391ms/step - loss: 1.5184 - accuracy: 0.6210 - val_loss: 1.4271 - val_accuracy: 0.6698\n",
      "Epoch 9/10\n",
      "1/1 [==============================] - 0s 404ms/step - loss: 1.4236 - accuracy: 0.6708 - val_loss: 1.3384 - val_accuracy: 0.7130\n",
      "Epoch 10/10\n",
      "1/1 [==============================] - 0s 406ms/step - loss: 1.3344 - accuracy: 0.7150 - val_loss: 1.2550 - val_accuracy: 0.7464\n"
     ]
    }
   ],
   "source": [
    "model.compile(loss=\"sparse_categorical_crossentropy\", optimizer='adam',metrics=['accuracy'])\n",
    "history = model.fit(X_train, y_train, epochs=10, validation_data=(X_valid, y_valid), batch_size=48000)"
   ]
  },
  {
   "cell_type": "code",
   "execution_count": 30,
   "id": "7b85dd16-ea57-489d-bb8e-64a349ca5cb6",
   "metadata": {},
   "outputs": [
    {
     "name": "stdout",
     "output_type": "stream",
     "text": [
      "625/625 [==============================] - 1s 2ms/step - loss: 0.1616 - accuracy: 0.9668\n"
     ]
    },
    {
     "data": {
      "text/plain": [
       "[0.16155698895454407, 0.9667999744415283]"
      ]
     },
     "execution_count": 30,
     "metadata": {},
     "output_type": "execute_result"
    }
   ],
   "source": [
    "model.evaluate(X_test,y_test) #[Test Loss, TestAccuracy]"
   ]
  },
  {
   "cell_type": "code",
   "execution_count": 31,
   "id": "8b6cd453-9365-4bec-ae82-d7c878c048e4",
   "metadata": {},
   "outputs": [
    {
     "name": "stdout",
     "output_type": "stream",
     "text": [
      "1/1 [==============================] - 0s 54ms/step\n"
     ]
    },
    {
     "data": {
      "text/plain": [
       "array([[1.  , 0.  , 0.  , 0.  , 0.  , 0.  , 0.  , 0.  , 0.  , 0.  ],\n",
       "       [1.  , 0.  , 0.  , 0.  , 0.  , 0.  , 0.  , 0.  , 0.  , 0.  ],\n",
       "       [0.03, 0.01, 0.  , 0.  , 0.  , 0.96, 0.  , 0.  , 0.  , 0.  ]],\n",
       "      dtype=float32)"
      ]
     },
     "execution_count": 31,
     "metadata": {},
     "output_type": "execute_result"
    }
   ],
   "source": [
    "X_new = X_test[:3]\n",
    "y_proba = model.predict(X_new)\n",
    "y_proba.round(2)"
   ]
  },
  {
   "cell_type": "markdown",
   "id": "42b1fe22-db7c-4568-bc5a-3f0f40de6e63",
   "metadata": {
    "jp-MarkdownHeadingCollapsed": true,
    "tags": []
   },
   "source": [
    "#### Architecture: Three hidden Layers(each 100 neurons) parallel Without Two hidden Layers(each 50 neurons) "
   ]
  },
  {
   "cell_type": "code",
   "execution_count": 34,
   "id": "bf744be3-7806-4c59-8583-e4b8efc609ed",
   "metadata": {},
   "outputs": [],
   "source": [
    "input_ = keras.layers.Input(shape=[1024])\n",
    "hidden1 = keras.layers.Dense(100, activation=\"relu\")(input_)\n",
    "hidden2 = keras.layers.Dense(100, activation=\"relu\")(hidden1)\n",
    "hidden3 = keras.layers.Dense(50, activation=\"relu\")(input_)\n",
    "hidden4 = keras.layers.Dense(50, activation=\"relu\")(hidden3)\n",
    "concat = keras.layers.Concatenate()([hidden2, hidden4])\n",
    "output = keras.layers.Dense(10, activation=\"softmax\")(concat)\n",
    "model = keras.Model(inputs=[input_], outputs=[output])"
   ]
  },
  {
   "cell_type": "code",
   "execution_count": 35,
   "id": "b6a2ef15-a672-4ad3-9bc1-d5553a9f9f85",
   "metadata": {},
   "outputs": [
    {
     "name": "stdout",
     "output_type": "stream",
     "text": [
      "Epoch 1/10\n",
      "1500/1500 [==============================] - 8s 5ms/step - loss: 0.1336 - accuracy: 0.9611 - val_loss: 0.0674 - val_accuracy: 0.9796\n",
      "Epoch 2/10\n",
      "1500/1500 [==============================] - 6s 4ms/step - loss: 0.0474 - accuracy: 0.9854 - val_loss: 0.0762 - val_accuracy: 0.9760\n",
      "Epoch 3/10\n",
      "1500/1500 [==============================] - 7s 4ms/step - loss: 0.0308 - accuracy: 0.9903 - val_loss: 0.0530 - val_accuracy: 0.9846\n",
      "Epoch 4/10\n",
      "1500/1500 [==============================] - 7s 4ms/step - loss: 0.0210 - accuracy: 0.9930 - val_loss: 0.0563 - val_accuracy: 0.9852\n",
      "Epoch 5/10\n",
      "1500/1500 [==============================] - 6s 4ms/step - loss: 0.0169 - accuracy: 0.9945 - val_loss: 0.0517 - val_accuracy: 0.9872\n",
      "Epoch 6/10\n",
      "1500/1500 [==============================] - 7s 4ms/step - loss: 0.0121 - accuracy: 0.9960 - val_loss: 0.0668 - val_accuracy: 0.9837\n",
      "Epoch 7/10\n",
      "1500/1500 [==============================] - 6s 4ms/step - loss: 0.0095 - accuracy: 0.9969 - val_loss: 0.0820 - val_accuracy: 0.9827\n",
      "Epoch 8/10\n",
      "1500/1500 [==============================] - 6s 4ms/step - loss: 0.0134 - accuracy: 0.9961 - val_loss: 0.0586 - val_accuracy: 0.9869\n",
      "Epoch 9/10\n",
      "1500/1500 [==============================] - 7s 4ms/step - loss: 0.0049 - accuracy: 0.9985 - val_loss: 0.0921 - val_accuracy: 0.9839\n",
      "Epoch 10/10\n",
      "1500/1500 [==============================] - 6s 4ms/step - loss: 0.0099 - accuracy: 0.9968 - val_loss: 0.0754 - val_accuracy: 0.9870\n"
     ]
    }
   ],
   "source": [
    "model.compile(loss=\"sparse_categorical_crossentropy\", optimizer='adam',metrics=['accuracy'])\n",
    "history = model.fit(X_train, y_train, epochs=10, validation_data=(X_valid, y_valid),batch_size=32)"
   ]
  },
  {
   "cell_type": "code",
   "execution_count": 36,
   "id": "4780c4ca-5829-4fe3-b090-f0b3318997a9",
   "metadata": {},
   "outputs": [
    {
     "name": "stdout",
     "output_type": "stream",
     "text": [
      "625/625 [==============================] - 2s 2ms/step - loss: 0.1400 - accuracy: 0.9749\n"
     ]
    },
    {
     "data": {
      "text/plain": [
       "[0.1400316208600998, 0.9749000072479248]"
      ]
     },
     "execution_count": 36,
     "metadata": {},
     "output_type": "execute_result"
    }
   ],
   "source": [
    "model.evaluate(X_test,y_test) #[Test Loss, TestAccuracy]"
   ]
  },
  {
   "cell_type": "code",
   "execution_count": 38,
   "id": "0daee7f6-0536-40b4-a655-c1dd0fce4e3d",
   "metadata": {},
   "outputs": [
    {
     "name": "stdout",
     "output_type": "stream",
     "text": [
      "1/1 [==============================] - 0s 29ms/step\n"
     ]
    },
    {
     "data": {
      "text/plain": [
       "array([[1.  , 0.  , 0.  , 0.  , 0.  , 0.  , 0.  , 0.  , 0.  , 0.  ],\n",
       "       [1.  , 0.  , 0.  , 0.  , 0.  , 0.  , 0.  , 0.  , 0.  , 0.  ],\n",
       "       [0.45, 0.  , 0.  , 0.  , 0.  , 0.55, 0.  , 0.  , 0.  , 0.  ]],\n",
       "      dtype=float32)"
      ]
     },
     "execution_count": 38,
     "metadata": {},
     "output_type": "execute_result"
    }
   ],
   "source": [
    "X_new = X_test[:3]\n",
    "y_proba = model.predict(X_new)\n",
    "y_proba.round(2)"
   ]
  },
  {
   "cell_type": "markdown",
   "id": "5b7c9127-9cb0-46de-9532-4601ffb5edcc",
   "metadata": {
    "jp-MarkdownHeadingCollapsed": true,
    "tags": []
   },
   "source": [
    "# Predict My HandWriting"
   ]
  },
  {
   "cell_type": "code",
   "execution_count": 163,
   "id": "acfb9658-e4f0-4de1-b3b1-9a619415c784",
   "metadata": {},
   "outputs": [],
   "source": [
    "import glob"
   ]
  },
  {
   "cell_type": "code",
   "execution_count": 164,
   "id": "2b9a08a2-76d1-4a56-a123-be1061c96619",
   "metadata": {},
   "outputs": [],
   "source": [
    "myhandwriting=glob.glob('./MyHandWriting/*')"
   ]
  },
  {
   "cell_type": "code",
   "execution_count": 165,
   "id": "d3ce1a28-17fe-46c9-bb2d-00384cac2620",
   "metadata": {},
   "outputs": [],
   "source": [
    "def prepare_image(image: np.ndarray):\n",
    "    #resize\n",
    "    resized_image=cv.resize(image, (32,32), interpolation=cv.INTER_AREA)\n",
    "    #BGR TO Gray\n",
    "    gray_image=cv.cvtColor(resized_image, cv.COLOR_BGR2GRAY)\n",
    "    return gray_image"
   ]
  },
  {
   "cell_type": "code",
   "execution_count": 166,
   "id": "29e0a239-6640-4fe7-b893-e0801cfaf380",
   "metadata": {},
   "outputs": [],
   "source": [
    "data=[]\n",
    "for file_path in myhandwriting:\n",
    "    # Read Image\n",
    "    img=cv.imread(file_path)\n",
    "    #Change Dimension from 2 to 1\n",
    "    row=prepare_image(img)#.reshape(-1)\n",
    "    data.append(row/255)"
   ]
  },
  {
   "cell_type": "code",
   "execution_count": 167,
   "id": "49c54a1e-49e9-4729-bc4f-b3bed8a7e872",
   "metadata": {},
   "outputs": [],
   "source": [
    "X=np.asarray(data)"
   ]
  },
  {
   "cell_type": "code",
   "execution_count": 169,
   "id": "830d1e96-f614-4b53-8312-12f48a4959fd",
   "metadata": {},
   "outputs": [],
   "source": [
    "X= X.reshape(X.shape[0], X.shape[1],X.shape[2], 1)"
   ]
  },
  {
   "cell_type": "code",
   "execution_count": 170,
   "id": "4767875b-c965-483d-a3a2-df7e5c3b6938",
   "metadata": {},
   "outputs": [
    {
     "data": {
      "image/png": "[encoded data removed]",
      "text/plain": [
       "<Figure size 640x480 with 9 Axes>"
      ]
     },
     "metadata": {},
     "output_type": "display_data"
    }
   ],
   "source": [
    "for i in range(9):\n",
    "    plt.subplot(330 + (i+1))\n",
    "    plt.imshow(X[i].squeeze(),cmap='gray' )\n",
    "    plt.axis('off')\n",
    "    plt.title(i)"
   ]
  },
  {
   "cell_type": "code",
   "execution_count": 171,
   "id": "0711f1a5-7852-4309-83bb-f5d35a0f9587",
   "metadata": {},
   "outputs": [],
   "source": [
    "y= X.reshape(X.shape[0],-1)"
   ]
  },
  {
   "cell_type": "code",
   "execution_count": 173,
   "id": "7a778989-1c20-4c1a-9ffd-4389c267c83e",
   "metadata": {},
   "outputs": [
    {
     "name": "stdout",
     "output_type": "stream",
     "text": [
      "1/1 [==============================] - 0s 23ms/step\n"
     ]
    },
    {
     "data": {
      "text/plain": [
       "array([[0., 0., 0., 0., 0., 1., 0., 0., 0., 0.],\n",
       "       [0., 0., 0., 0., 0., 1., 0., 0., 0., 0.],\n",
       "       [0., 0., 0., 0., 0., 1., 0., 0., 0., 0.],\n",
       "       [0., 0., 0., 0., 0., 1., 0., 0., 0., 0.],\n",
       "       [0., 0., 0., 0., 0., 1., 0., 0., 0., 0.],\n",
       "       [0., 0., 0., 0., 0., 1., 0., 0., 0., 0.],\n",
       "       [0., 0., 0., 0., 0., 1., 0., 0., 0., 0.],\n",
       "       [0., 0., 0., 0., 0., 1., 0., 0., 0., 0.],\n",
       "       [0., 0., 0., 0., 0., 1., 0., 0., 0., 0.],\n",
       "       [0., 0., 0., 0., 0., 1., 0., 0., 0., 0.]], dtype=float32)"
      ]
     },
     "execution_count": 173,
     "metadata": {},
     "output_type": "execute_result"
    }
   ],
   "source": [
    "y_proba = model.predict(y)\n",
    "y_proba.round(2)"
   ]
  },
  {
   "cell_type": "code",
   "execution_count": null,
   "id": "0ef8a72f-17fc-4503-a2ea-8f2b285a39d7",
   "metadata": {},
   "outputs": [],
   "source": []
  }
 ],
 "metadata": {
  "kernelspec": {
   "display_name": "Python 3 (ipykernel)",
   "language": "python",
   "name": "python3"
  },
  "language_info": {
   "codemirror_mode": {
    "name": "ipython",
    "version": 3
   },
   "file_extension": ".py",
   "mimetype": "text/x-python",
   "name": "python",
   "nbconvert_exporter": "python",
   "pygments_lexer": "ipython3",
   "version": "3.10.2"
  }
 },
 "nbformat": 4,
 "nbformat_minor": 5
}
