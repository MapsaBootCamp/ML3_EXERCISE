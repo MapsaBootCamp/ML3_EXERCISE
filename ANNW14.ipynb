{
 "cells": [
  {
   "cell_type": "markdown",
   "id": "e1f43e9f-3f1b-412f-a6e3-d74dc0e76ab3",
   "metadata": {},
   "source": [
    "### Data Functions"
   ]
  },
  {
   "cell_type": "code",
   "execution_count": 11,
   "id": "2ae420c2-eab2-45b5-8660-9e5d17afae6c",
   "metadata": {
    "tags": []
   },
   "outputs": [],
   "source": [
    "\n",
    "import struct\n",
    "import numpy as np\n",
    "import cv2\n",
    "\n",
    "\n",
    "def __convert_to_one_hot(vector, num_classes):\n",
    "    result = np.zeros(shape=[len(vector), num_classes])\n",
    "    result[np.arange(len(vector)), vector] = 1\n",
    "    return result\n",
    "\n",
    "\n",
    "def __resize_image(src_image, dst_image_height, dst_image_width):\n",
    "    src_image_height = src_image.shape[0]\n",
    "    src_image_width = src_image.shape[1]\n",
    "\n",
    "    if src_image_height > dst_image_height or src_image_width > dst_image_width:\n",
    "        height_scale = dst_image_height / src_image_height\n",
    "        width_scale = dst_image_width / src_image_width\n",
    "        scale = min(height_scale, width_scale)\n",
    "        img = cv2.resize(src=src_image, dsize=(0, 0), fx=scale, fy=scale, interpolation=cv2.INTER_CUBIC)\n",
    "    else:\n",
    "        img = src_image\n",
    "\n",
    "    img_height = img.shape[0]\n",
    "    img_width = img.shape[1]\n",
    "\n",
    "    dst_image = np.zeros(shape=[dst_image_height, dst_image_width], dtype=np.uint8)\n",
    "\n",
    "    y_offset = (dst_image_height - img_height) // 2\n",
    "    x_offset = (dst_image_width - img_width) // 2\n",
    "\n",
    "    dst_image[y_offset:y_offset+img_height, x_offset:x_offset+img_width] = img\n",
    "\n",
    "    return dst_image"
   ]
  },
  {
   "cell_type": "code",
   "execution_count": 13,
   "id": "dc15ff84-0df6-4620-99f7-3c9395467e10",
   "metadata": {
    "tags": []
   },
   "outputs": [],
   "source": [
    "\n",
    "def read_hoda_cdb(file_name):\n",
    "    with open(file_name, 'rb') as binary_file:\n",
    "\n",
    "        data = binary_file.read()\n",
    "\n",
    "        offset = 0\n",
    "\n",
    "        # read private header\n",
    "\n",
    "        yy = struct.unpack_from('H', data, offset)[0]\n",
    "        offset += 2\n",
    "\n",
    "        m = struct.unpack_from('B', data, offset)[0]\n",
    "        offset += 1\n",
    "\n",
    "        d = struct.unpack_from('B', data, offset)[0]\n",
    "        offset += 1\n",
    "\n",
    "        H = struct.unpack_from('B', data, offset)[0]\n",
    "        offset += 1\n",
    "\n",
    "        W = struct.unpack_from('B', data, offset)[0]\n",
    "        offset += 1\n",
    "\n",
    "        TotalRec = struct.unpack_from('I', data, offset)[0]\n",
    "        offset += 4\n",
    "\n",
    "        LetterCount = struct.unpack_from('128I', data, offset)\n",
    "        offset += 128 * 4\n",
    "\n",
    "        imgType = struct.unpack_from('B', data, offset)[0]  # 0: binary, 1: gray\n",
    "        offset += 1\n",
    "\n",
    "        Comments = struct.unpack_from('256c', data, offset)\n",
    "        offset += 256 * 1\n",
    "\n",
    "        Reserved = struct.unpack_from('245c', data, offset)\n",
    "        offset += 245 * 1\n",
    "\n",
    "        if (W > 0) and (H > 0):\n",
    "            normal = True\n",
    "        else:\n",
    "            normal = False\n",
    "\n",
    "        images = []\n",
    "        labels = []\n",
    "\n",
    "        for i in range(TotalRec):\n",
    "\n",
    "            StartByte = struct.unpack_from('B', data, offset)[0]  # must be 0xff\n",
    "            offset += 1\n",
    "\n",
    "            label = struct.unpack_from('B', data, offset)[0]\n",
    "            offset += 1\n",
    "\n",
    "            if not normal:\n",
    "                W = struct.unpack_from('B', data, offset)[0]\n",
    "                offset += 1\n",
    "\n",
    "                H = struct.unpack_from('B', data, offset)[0]\n",
    "                offset += 1\n",
    "\n",
    "            ByteCount = struct.unpack_from('H', data, offset)[0]\n",
    "            offset += 2\n",
    "\n",
    "            image = np.zeros(shape=[H, W], dtype=np.uint8)\n",
    "\n",
    "            if imgType == 0:\n",
    "                # Binary\n",
    "                for y in range(H):\n",
    "                    bWhite = True\n",
    "                    counter = 0\n",
    "                    while counter < W:\n",
    "                        WBcount = struct.unpack_from('B', data, offset)[0]\n",
    "                        offset += 1\n",
    "                        # x = 0\n",
    "                        # while x < WBcount:\n",
    "                        #     if bWhite:\n",
    "                        #         image[y, x + counter] = 0  # Background\n",
    "                        #     else:\n",
    "                        #         image[y, x + counter] = 255  # ForeGround\n",
    "                        #     x += 1\n",
    "                        if bWhite:\n",
    "                            image[y, counter:counter + WBcount] = 0  # Background\n",
    "                        else:\n",
    "                            image[y, counter:counter + WBcount] = 255  # ForeGround\n",
    "                        bWhite = not bWhite  # black white black white ...\n",
    "                        counter += WBcount\n",
    "            else:\n",
    "                # GrayScale mode\n",
    "                data = struct.unpack_from('{}B'.format(W * H), data, offset)\n",
    "                offset += W * H\n",
    "                image = np.asarray(data, dtype=np.uint8).reshape([W, H]).T\n",
    "\n",
    "            images.append(image)\n",
    "            labels.append(label)\n",
    "\n",
    "        return images, labels\n"
   ]
  },
  {
   "cell_type": "code",
   "execution_count": 14,
   "id": "aed48aea-229a-48d3-baea-61f7c5bc94a7",
   "metadata": {
    "tags": []
   },
   "outputs": [],
   "source": [
    "\n",
    "def read_hoda_dataset(dataset_path, images_height=32, images_width=32, one_hot=False, reshape=True):\n",
    "    images, labels = read_hoda_cdb(dataset_path)\n",
    "    assert len(images) == len(labels)\n",
    "\n",
    "    X = np.zeros(shape=[len(images), images_height, images_width], dtype=np.float32)\n",
    "    Y = np.zeros(shape=[len(labels)], dtype=np.int)\n",
    "\n",
    "    for i in range(len(images)):\n",
    "        image = images[i]\n",
    "        # Image resizing.\n",
    "        image = __resize_image(src_image=image, dst_image_height=images_height, dst_image_width=images_width)\n",
    "        # Image normalization.\n",
    "        image = image / 255\n",
    "        # Image binarization.\n",
    "        image = np.where(image >= 0.5, 1, 0)\n",
    "        # Image.\n",
    "        X[i] = image\n",
    "        # Label.\n",
    "        Y[i] = labels[i]\n",
    "\n",
    "    if one_hot:\n",
    "        Y = __convert_to_one_hot(Y, 10).astype(dtype=np.float32)\n",
    "    else:\n",
    "        Y = Y.astype(dtype=np.float32)\n",
    "\n",
    "    if reshape:\n",
    "        X = X.reshape(-1, images_height * images_width)\n",
    "    else:\n",
    "        X = X.reshape(-1, images_height, images_width, 1)\n",
    "\n",
    "    return X, Y"
   ]
  },
  {
   "cell_type": "markdown",
   "id": "07cb033d-e241-4c3f-b374-3c301756040b",
   "metadata": {},
   "source": [
    "### Modelling"
   ]
  },
  {
   "cell_type": "code",
   "execution_count": null,
   "id": "cc099c7b-3951-4024-8bbc-59497b420bfe",
   "metadata": {},
   "outputs": [],
   "source": [
    "from tensorflow import keras\n",
    "import tensorflow as tf\n",
    "import pandas as pd"
   ]
  },
  {
   "cell_type": "code",
   "execution_count": 9,
   "id": "2c165b80-e07b-447d-9814-258179c2e442",
   "metadata": {},
   "outputs": [],
   "source": [
    "# X_test, y_test=read_hoda_cdb('Test 20000.cdb')\n",
    "# X_train, y_train=read_hoda_cdb('Train 60000.cdb')"
   ]
  },
  {
   "cell_type": "code",
   "execution_count": null,
   "id": "d8a834e7-0c1e-4e74-b1f6-fb0b9161cecd",
   "metadata": {
    "tags": []
   },
   "outputs": [],
   "source": [
    "xf, yf = read_hoda_dataset(dataset_path='Train 60000.cdb',\n",
    "                                images_height=28,\n",
    "                                images_width=28,\n",
    "                                one_hot=False,\n",
    "                                reshape=True)\n",
    "X_test, y_test = read_hoda_dataset(dataset_path='Test 20000.cdb',\n",
    "                                images_height=28,\n",
    "                                images_width=28,\n",
    "                                one_hot=False,\n",
    "                                reshape=True)\n",
    "X_train, y_train=xf[:40000] , yf[:40000]\n",
    "X_valid, y_valid = xf[40000:] , yf[40000:]\n"
   ]
  },
  {
   "cell_type": "code",
   "execution_count": 17,
   "id": "f3b7e687-2161-4436-9359-5b336d31ad2c",
   "metadata": {},
   "outputs": [],
   "source": [
    "a=X_train[1]\n",
    "b=a.reshape(28,28)"
   ]
  },
  {
   "cell_type": "code",
   "execution_count": 18,
   "id": "05e9bfaf-7fed-4a64-9889-c3e3f441129d",
   "metadata": {},
   "outputs": [
    {
     "data": {
      "text/plain": [
       "(28, 28)"
      ]
     },
     "execution_count": 18,
     "metadata": {},
     "output_type": "execute_result"
    }
   ],
   "source": [
    "b.shape"
   ]
  },
  {
   "cell_type": "code",
   "execution_count": 19,
   "id": "be58a147-a41d-44a9-8150-519f33b92544",
   "metadata": {},
   "outputs": [
    {
     "name": "stderr",
     "output_type": "stream",
     "text": [
      "2023-02-17 14:20:38.910207: W tensorflow/compiler/xla/stream_executor/platform/default/dso_loader.cc:64] Could not load dynamic library 'libcuda.so.1'; dlerror: libcuda.so.1: cannot open shared object file: No such file or directory; LD_LIBRARY_PATH: /opt/conda/lib/python3.10/site-packages/cv2/../../lib64:\n",
      "2023-02-17 14:20:38.910277: W tensorflow/compiler/xla/stream_executor/cuda/cuda_driver.cc:265] failed call to cuInit: UNKNOWN ERROR (303)\n",
      "2023-02-17 14:20:38.910320: I tensorflow/compiler/xla/stream_executor/cuda/cuda_diagnostics.cc:156] kernel driver does not appear to be running on this host (e20175251072): /proc/driver/nvidia/version does not exist\n"
     ]
    }
   ],
   "source": [
    "tf.random.set_seed(42)\n",
    "model = keras.Sequential()\n",
    "model.add(keras.layers.Input(shape=[784]))\n",
    "# model.add(keras.layers.Flatten())\n",
    "model.add(keras.layers.Dense(300, activation=\"relu\"))\n",
    "model.add(keras.layers.Dense(100, activation=\"relu\"))\n",
    "model.add(keras.layers.Dense(10, activation=\"softmax\"))"
   ]
  },
  {
   "cell_type": "code",
   "execution_count": 30,
   "id": "a9f3dbfc-8e5e-40ae-9845-c7f0ad0325f2",
   "metadata": {
    "tags": []
   },
   "outputs": [
    {
     "name": "stdout",
     "output_type": "stream",
     "text": [
      "Model: \"sequential\"\n",
      "_________________________________________________________________\n",
      " Layer (type)                Output Shape              Param #   \n",
      "=================================================================\n",
      " dense (Dense)               (None, 300)               235500    \n",
      "                                                                 \n",
      " dense_1 (Dense)             (None, 100)               30100     \n",
      "                                                                 \n",
      " dense_2 (Dense)             (None, 10)                1010      \n",
      "                                                                 \n",
      "=================================================================\n",
      "Total params: 266,610\n",
      "Trainable params: 266,610\n",
      "Non-trainable params: 0\n",
      "_________________________________________________________________\n"
     ]
    }
   ],
   "source": [
    "model.summary()"
   ]
  },
  {
   "cell_type": "code",
   "execution_count": 31,
   "id": "feb67f8f-996b-4282-952c-17717df59845",
   "metadata": {
    "tags": []
   },
   "outputs": [],
   "source": [
    "model.compile(loss=\"sparse_categorical_crossentropy\",\n",
    "optimizer=tf.keras.optimizers.SGD(learning_rate=0.1),\n",
    "metrics=[\"accuracy\"])"
   ]
  },
  {
   "cell_type": "code",
   "execution_count": 71,
   "id": "5ce3b8ac-5e6d-49f5-94d0-116d2196948f",
   "metadata": {
    "tags": []
   },
   "outputs": [
    {
     "name": "stdout",
     "output_type": "stream",
     "text": [
      "Epoch 1/4\n",
      "1250/1250 [==============================] - 9s 7ms/step - loss: 0.0171 - accuracy: 0.9953 - val_loss: 0.0453 - val_accuracy: 0.9865\n",
      "Epoch 2/4\n",
      "1250/1250 [==============================] - 8s 7ms/step - loss: 0.0113 - accuracy: 0.9970 - val_loss: 0.0488 - val_accuracy: 0.9870\n",
      "Epoch 3/4\n",
      "1250/1250 [==============================] - 8s 7ms/step - loss: 0.0070 - accuracy: 0.9986 - val_loss: 0.0463 - val_accuracy: 0.9873\n",
      "Epoch 4/4\n",
      "1250/1250 [==============================] - 8s 7ms/step - loss: 0.0042 - accuracy: 0.9994 - val_loss: 0.0476 - val_accuracy: 0.9865\n"
     ]
    }
   ],
   "source": [
    "history = model.fit(X_train, y_train, epochs=4 ,validation_data=(X_valid, y_valid))"
   ]
  },
  {
   "cell_type": "code",
   "execution_count": 72,
   "id": "85b491e0-d60e-4128-8bdb-6fa7a10514c9",
   "metadata": {},
   "outputs": [
    {
     "data": {
      "text/plain": [
       "<keras.callbacks.History at 0x7f64c0551420>"
      ]
     },
     "execution_count": 72,
     "metadata": {},
     "output_type": "execute_result"
    }
   ],
   "source": [
    "history"
   ]
  },
  {
   "cell_type": "code",
   "execution_count": 97,
   "id": "79500417-a16f-45eb-aa67-c24c89c06188",
   "metadata": {},
   "outputs": [
    {
     "data": {
      "image/png": "[encoded data removed]",
      "text/plain": [
       "<Figure size 800x300 with 1 Axes>"
      ]
     },
     "metadata": {},
     "output_type": "display_data"
    }
   ],
   "source": [
    "import matplotlib.pyplot as plt\n",
    "import pandas as pd\n",
    "pd.DataFrame(history.history).plot(\n",
    "figsize=(8, 3), xlim=[0, 29], ylim=[0, 1], grid=True,\n",
    "xlabel=\"Epoch\",\n",
    "style=[\"r--\", \"r--.\", \"b-\", \"b-*\"])\n",
    "plt.show()"
   ]
  },
  {
   "cell_type": "code",
   "execution_count": 98,
   "id": "5542f2d3-6536-41fe-9026-ca1789852491",
   "metadata": {},
   "outputs": [
    {
     "name": "stdout",
     "output_type": "stream",
     "text": [
      "625/625 [==============================] - 2s 3ms/step - loss: 0.0850 - accuracy: 0.9743\n"
     ]
    },
    {
     "data": {
      "text/plain": [
       "[0.0849677175283432, 0.9743000268936157]"
      ]
     },
     "execution_count": 98,
     "metadata": {},
     "output_type": "execute_result"
    }
   ],
   "source": [
    "model.evaluate(X_test, y_test)"
   ]
  },
  {
   "cell_type": "markdown",
   "id": "f4e69c9a-8809-4947-b8a6-d55251d42dfb",
   "metadata": {},
   "source": [
    "### model predict"
   ]
  },
  {
   "cell_type": "code",
   "execution_count": null,
   "id": "35ff8b2e-da83-4c06-8b55-1ae230ab4521",
   "metadata": {},
   "outputs": [],
   "source": [
    "y_proba = model.predict(X_new)\n",
    "y_proba.round(2)\n",
    "import numpy as np\n",
    "y_pred = y_proba.argmax(axis=-1)"
   ]
  },
  {
   "cell_type": "markdown",
   "id": "eba63657-c8e3-402f-aa3d-0e68392eef92",
   "metadata": {},
   "source": [
    "### Functional"
   ]
  },
  {
   "cell_type": "code",
   "execution_count": 45,
   "id": "b613bc3e-8e26-4cf1-9384-ece2c8ad5ba6",
   "metadata": {},
   "outputs": [],
   "source": [
    "tf.random.set_seed(42)\n",
    "\n",
    "normalization_layer = keras.layers.Normalization()\n",
    "hidden_layer1 = keras.layers.Dense(50, activation=\"relu\")\n",
    "hidden_layer2 = keras.layers.Dense(40, activation=\"relu\")\n",
    "concat_layer = keras.layers.Concatenate()\n",
    "output_layer = keras.layers.Dense(10, activation=\"softmax\")\n",
    "\n",
    "input_ = keras.layers.Input(shape=[784])\n",
    "normalized = normalization_layer(input_)\n",
    "hidden1 = hidden_layer1(normalized)\n",
    "hidden2 = hidden_layer2(hidden1)\n",
    "# concat = concat_layer([normalized, hidden2])\n",
    "concat = concat_layer([hidden2])\n",
    "\n",
    "output = output_layer(concat)\n",
    "model = keras.Model(inputs=[input_], outputs=[output])"
   ]
  },
  {
   "cell_type": "code",
   "execution_count": 46,
   "id": "8b6da87d-52b0-4921-a71b-a1a0975536b6",
   "metadata": {},
   "outputs": [],
   "source": [
    "# optimizer = tf.keras.optimizers.Adam(learning_rate=1e-2)\n",
    "# model.compile(loss=\"mse\", optimizer=optimizer, metrics=\n",
    "# [\"RootMeanSquaredError\" , 'accuracy'])"
   ]
  },
  {
   "cell_type": "code",
   "execution_count": 43,
   "id": "7c745780-6768-4a4f-9c9f-85b2f4e80820",
   "metadata": {
    "tags": []
   },
   "outputs": [],
   "source": [
    "model.compile(loss=\"sparse_categorical_crossentropy\",\n",
    "optimizer=keras.optimizers.SGD(learning_rate=0.1),\n",
    "metrics=[\"RootMeanSquaredError\" ,\"accuracy\"])\n"
   ]
  },
  {
   "cell_type": "code",
   "execution_count": 44,
   "id": "9cf5115e-ae2b-41eb-8291-e133bfa01fd7",
   "metadata": {},
   "outputs": [
    {
     "name": "stdout",
     "output_type": "stream",
     "text": [
      "Epoch 1/3\n",
      "1875/1875 [==============================] - 6s 3ms/step - loss: 0.1739 - root_mean_squared_error: 5.2622 - accuracy: 0.9502\n",
      "Epoch 2/3\n",
      "1875/1875 [==============================] - 6s 3ms/step - loss: 0.0744 - root_mean_squared_error: 5.2627 - accuracy: 0.9782\n",
      "Epoch 3/3\n",
      "1875/1875 [==============================] - 6s 3ms/step - loss: 0.0522 - root_mean_squared_error: 5.2628 - accuracy: 0.9841\n"
     ]
    }
   ],
   "source": [
    "history = model.fit(X_train, y_train, epochs=3)\n"
   ]
  },
  {
   "cell_type": "markdown",
   "id": "faa807a7-4767-4a04-ae04-2efe30422928",
   "metadata": {},
   "source": [
    "### Final Test with another pic"
   ]
  },
  {
   "cell_type": "code",
   "execution_count": 68,
   "id": "dbe2663d-1c4b-4da4-9a16-c76935a7b5f7",
   "metadata": {},
   "outputs": [
    {
     "data": {
      "image/png": "[encoded data removed]",
      "text/plain": [
       "<Figure size 640x480 with 1 Axes>"
      ]
     },
     "metadata": {},
     "output_type": "display_data"
    }
   ],
   "source": [
    "\n",
    "import matplotlib.pyplot as plt\n",
    "import cv2\n",
    "\n",
    "# img = cv2.imread('2.jpg',cv2.IMREAD_GRAYSCALE)\n",
    "# imr = cv2.resize(img, (28, 28), interpolation = cv2.INTER_LINEAR)\n",
    "\n",
    "\n",
    "img = cv2.imread('2.jpg',cv2.IMREAD_GRAYSCALE)\n",
    "imr = cv2.resize(img, (28, 28), interpolation = cv2.INTER_LINEAR)\n",
    "imr=(abs((imr/254)-1)).round(0)\n",
    "test=imr.reshape(-1, 1).T\n",
    "plt.figure()\n",
    "plt.imshow(imr) \n",
    "plt.show()  # display it"
   ]
  },
  {
   "cell_type": "markdown",
   "id": "0e4f693c-6341-41d6-a72c-16155749113e",
   "metadata": {},
   "source": [
    "مدل به دست آمده با احتمال ۵۵ درصد عدد دو را پیش بینی کرد:"
   ]
  },
  {
   "cell_type": "code",
   "execution_count": 69,
   "id": "7f467909-ac48-4b7a-8d1d-1f2d763ecd54",
   "metadata": {},
   "outputs": [
    {
     "name": "stdout",
     "output_type": "stream",
     "text": [
      "1/1 [==============================] - 0s 64ms/step\n"
     ]
    },
    {
     "data": {
      "text/plain": [
       "array([[0.07948565, 0.05588472, 0.55862164, 0.06001833, 0.19652593,\n",
       "        0.00365272, 0.01673608, 0.02295334, 0.00398049, 0.00214114]],\n",
       "      dtype=float32)"
      ]
     },
     "execution_count": 69,
     "metadata": {},
     "output_type": "execute_result"
    }
   ],
   "source": [
    "model.predict(test)"
   ]
  }
 ],
 "metadata": {
  "kernelspec": {
   "display_name": "Python 3 (ipykernel)",
   "language": "python",
   "name": "python3"
  },
  "language_info": {
   "codemirror_mode": {
    "name": "ipython",
    "version": 3
   },
   "file_extension": ".py",
   "mimetype": "text/x-python",
   "name": "python",
   "nbconvert_exporter": "python",
   "pygments_lexer": "ipython3",
   "version": "3.10.6"
  },
  "widgets": {
   "application/vnd.jupyter.widget-state+json": {
    "state": {},
    "version_major": 2,
    "version_minor": 0
   }
  }
 },
 "nbformat": 4,
 "nbformat_minor": 5
}
