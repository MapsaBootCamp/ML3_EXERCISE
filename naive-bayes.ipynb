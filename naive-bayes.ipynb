{
 "cells": [
  {
   "cell_type": "code",
   "execution_count": 1,
   "metadata": {},
   "outputs": [],
   "source": [
    "import numpy as np\n",
    "import pandas as pd\n",
    "import math"
   ]
  },
  {
   "cell_type": "code",
   "execution_count": 2,
   "metadata": {},
   "outputs": [],
   "source": [
    "class Naive_Bayes:\n",
    "    def __init__(self):\n",
    "        pass\n",
    "\n",
    "    def prob(self,features,labels):\n",
    "        label=np.unique(labels)\n",
    "        self.label_0=label[0]\n",
    "        self.label_1=label[1]\n",
    "        self.prob_0=np.count_nonzero(labels==label[0])/len(labels)\n",
    "        self.prob_1=np.count_nonzero(labels==label[1])/len(labels)\n",
    "        indices_0=np.where(labels==label[0])[0]\n",
    "        indices_1=np.where(labels==label[1])[0]\n",
    "        features_0=np.array(features[indices_0])\n",
    "        features_1=np.array(features[indices_1])\n",
    "        self.mean_0=[]\n",
    "        self.mean_1=[]\n",
    "        self.std_0=[]\n",
    "        self.std_1=[]\n",
    "        for i in range (features.shape[1]):\n",
    "            mean_0=features_0[:,i].mean()\n",
    "            mean_1=features_1[:,i].mean()\n",
    "            self.mean_0.append(mean_0)\n",
    "            self.mean_1.append(mean_1)\n",
    "            std_0=features_0[:,i].var()\n",
    "            std_1=features_1[:,i].var()\n",
    "            self.std_0.append(std_0)\n",
    "            self.std_1.append(std_1)\n",
    "\n",
    "\n",
    "\n",
    "    def fit(self,features,labels):\n",
    "        self.prob(features,labels)\n",
    "\n",
    "    def predict(self,x_test):\n",
    "        y_predict=[]\n",
    "        for num in range (x_test.shape[0]):\n",
    "            total_prob_0=[]\n",
    "            total_prob_1=[]\n",
    "            \n",
    "            for i in range (x_test.shape[1]):\n",
    "                \n",
    "                prob_0=((1/math.sqrt(2*math.pi*self.std_0[i]))*(np.exp(-(((x_test[num][i]-self.mean_0[i])**2)/2*self.std_0[i]))))\n",
    "                prob_1=(1/math.sqrt(2*math.pi*self.std_1[i]))*(np.exp(-(((x_test[num][i]-self.mean_1[i])**2)/2*self.std_1[i])))\n",
    "                \n",
    "                total_prob_0.append(prob_0)\n",
    "                total_prob_1.append(prob_1)\n",
    "            \n",
    "            sum_prob_0=sum(total_prob_0)\n",
    "            sum_prob_1=sum(total_prob_1)\n",
    "            \n",
    "            result_0=sum_prob_0/(sum_prob_0+sum_prob_1)\n",
    "            result_1=sum_prob_1/(sum_prob_0+sum_prob_1)\n",
    "            if result_0>=result_1:\n",
    "                y_predict.append(self.label_0)\n",
    "            else:\n",
    "                y_predict.append(self.label_1)\n",
    "        return y_predict\n",
    "        "
   ]
  },
  {
   "cell_type": "code",
   "execution_count": 3,
   "metadata": {},
   "outputs": [],
   "source": [
    "import numpy as np  \n",
    "import pandas as pd\n",
    "import matplotlib.pyplot as plt\n",
    "import seaborn as sns\n",
    "from sklearn import datasets\n",
    "import math\n",
    "iris_data=datasets.load_iris()\n",
    "iris_df=pd.DataFrame(iris_data.data,columns=iris_data.feature_names)\n",
    "iris_df['class']=iris_data.target\n",
    "iris_df.head()\n",
    "iris_df=iris_df.drop((iris_df.loc[iris_df['class']==0]).index)"
   ]
  },
  {
   "cell_type": "code",
   "execution_count": 4,
   "metadata": {},
   "outputs": [],
   "source": [
    "a=Naive_Bayes()"
   ]
  },
  {
   "cell_type": "code",
   "execution_count": 5,
   "metadata": {},
   "outputs": [],
   "source": [
    "X= iris_df.iloc[:,:-1].values\n",
    "Y=iris_df.iloc[:,-1].values\n",
    "from sklearn.model_selection import train_test_split\n",
    "\n",
    "X_train,X_test, Y_train,Y_test=train_test_split(X,Y,test_size=0.3,random_state=40)"
   ]
  },
  {
   "cell_type": "code",
   "execution_count": 6,
   "metadata": {},
   "outputs": [],
   "source": [
    "a.fit(X_train,Y_train)"
   ]
  },
  {
   "cell_type": "code",
   "execution_count": 7,
   "metadata": {},
   "outputs": [],
   "source": [
    "y_predict=a.predict(X_test)"
   ]
  },
  {
   "cell_type": "code",
   "execution_count": 8,
   "metadata": {},
   "outputs": [
    {
     "data": {
      "text/plain": [
       "array([[14,  0],\n",
       "       [ 9,  7]])"
      ]
     },
     "execution_count": 8,
     "metadata": {},
     "output_type": "execute_result"
    }
   ],
   "source": [
    "from sklearn.metrics import confusion_matrix\n",
    "confusion_matrix(Y_test,y_predict)"
   ]
  },
  {
   "cell_type": "code",
   "execution_count": 9,
   "metadata": {},
   "outputs": [],
   "source": [
    "from sklearn.naive_bayes import GaussianNB"
   ]
  },
  {
   "cell_type": "code",
   "execution_count": 10,
   "metadata": {},
   "outputs": [],
   "source": [
    "gnb = GaussianNB()\n",
    "y_pred = gnb.fit(X_train, Y_train).predict(X_test)"
   ]
  },
  {
   "cell_type": "code",
   "execution_count": 11,
   "metadata": {},
   "outputs": [
    {
     "data": {
      "text/plain": [
       "array([[11,  3],\n",
       "       [ 1, 15]])"
      ]
     },
     "execution_count": 11,
     "metadata": {},
     "output_type": "execute_result"
    }
   ],
   "source": [
    "confusion_matrix(Y_test,y_pred)"
   ]
  }
 ],
 "metadata": {
  "kernelspec": {
   "display_name": "base",
   "language": "python",
   "name": "python3"
  },
  "language_info": {
   "codemirror_mode": {
    "name": "ipython",
    "version": 3
   },
   "file_extension": ".py",
   "mimetype": "text/x-python",
   "name": "python",
   "nbconvert_exporter": "python",
   "pygments_lexer": "ipython3",
   "version": "3.9.12 (main, Apr  5 2022, 01:53:17) \n[Clang 12.0.0 ]"
  },
  "orig_nbformat": 4,
  "vscode": {
   "interpreter": {
    "hash": "381afda6634acabfe02de722b0985adea3cc2e228af5cdbefa626e4cfe1e2f2d"
   }
  }
 },
 "nbformat": 4,
 "nbformat_minor": 2
}
