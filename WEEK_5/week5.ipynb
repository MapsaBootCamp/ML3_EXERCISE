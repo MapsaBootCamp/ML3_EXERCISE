{
  "cells": [
    {
      "cell_type": "markdown",
      "metadata": {
        "id": "40697c1c-cc86-4f20-9d5d-1e6c2979bc13"
      },
      "source": [
        "<br><p style=\"margin-left: 25%; font-size:20px;\">Machine Learning Camp: HomeWork 5</p><br>"
      ],
      "id": "40697c1c-cc86-4f20-9d5d-1e6c2979bc13"
    },
    {
      "cell_type": "markdown",
      "metadata": {
        "id": "42e988e2-b110-4fe2-bb40-212815474940"
      },
      "source": [
        "##\n",
        "<span style=\"font-wight:bold;font-size:20px\">1. Text Data analysis:</span> using “lincoln-last-speech.txt” which contains Lincoln’s last public address. Now answer the following questions and include your codes."
      ],
      "id": "42e988e2-b110-4fe2-bb40-212815474940"
    },
    {
      "cell_type": "code",
      "execution_count": 1,
      "metadata": {
        "id": "0d70561d-c2d1-49c2-82b2-841bc59b1db7"
      },
      "outputs": [],
      "source": [
        "#TODO\n",
        "import pandas as pd\n",
        "import numpy as np\n",
        "import matplotlib.pyplot as plt\n",
        "import datetime"
      ],
      "id": "0d70561d-c2d1-49c2-82b2-841bc59b1db7"
    },
    {
      "cell_type": "markdown",
      "metadata": {
        "id": "282ec989-2848-4256-b6dc-a62e95125d6b"
      },
      "source": [
        "##### a) Read the text and store the text in lAddress. Show the first 70 characters from the first element of the text."
      ],
      "id": "282ec989-2848-4256-b6dc-a62e95125d6b"
    },
    {
      "cell_type": "code",
      "execution_count": 2,
      "metadata": {
        "colab": {
          "base_uri": "https://localhost:8080/",
          "height": 35
        },
        "id": "c76966b8-294e-4f78-8d0e-4be7b1523de1",
        "outputId": "e11093a6-fbe7-4486-b763-596103301bf3"
      },
      "outputs": [
        {
          "output_type": "execute_result",
          "data": {
            "text/plain": [
              "'We meet this evening, not in sorrow, but in gladness of heart. The eva'"
            ],
            "application/vnd.google.colaboratory.intrinsic+json": {
              "type": "string"
            }
          },
          "metadata": {},
          "execution_count": 2
        }
      ],
      "source": [
        "#TODO\n",
        "from nltk.tokenize import word_tokenize\n",
        "IAdress=open('lincoln-last-speech.txt','r')\n",
        "IAdress.read(70)"
      ],
      "id": "c76966b8-294e-4f78-8d0e-4be7b1523de1"
    },
    {
      "cell_type": "markdown",
      "metadata": {
        "id": "b25c28dc-6d9d-4bcd-b864-e90754485c7e"
      },
      "source": [
        "##### b) Now we are interested in the words used in his speech. Extract all the words from lAddress, convert all of them to lower case and store the result in vWord. Display first few words."
      ],
      "id": "b25c28dc-6d9d-4bcd-b864-e90754485c7e"
    },
    {
      "cell_type": "code",
      "execution_count": 3,
      "metadata": {
        "colab": {
          "base_uri": "https://localhost:8080/",
          "height": 35
        },
        "id": "870b68f2-eeeb-4a98-817c-aca8beb28694",
        "outputId": "f5caadb6-8f36-43c2-e34e-3917a19792a7"
      },
      "outputs": [
        {
          "output_type": "execute_result",
          "data": {
            "text/plain": [
              "'we meet th'"
            ],
            "application/vnd.google.colaboratory.intrinsic+json": {
              "type": "string"
            }
          },
          "metadata": {},
          "execution_count": 3
        }
      ],
      "source": [
        "#TODO\n",
        "IAdress.seek(0)\n",
        "vWord=IAdress.read().lower()\n",
        "vWord[:10]\n"
      ],
      "id": "870b68f2-eeeb-4a98-817c-aca8beb28694"
    },
    {
      "cell_type": "markdown",
      "metadata": {
        "id": "ab02ba13-aecb-4c15-9f4b-a63e5ffadfd4"
      },
      "source": [
        "##### c) The words like am, is, my or through are not much of our interest and these types of words are called stop-words. Get all the English stop words and store them in sWord. Display few stop words in your report."
      ],
      "id": "ab02ba13-aecb-4c15-9f4b-a63e5ffadfd4"
    },
    {
      "cell_type": "code",
      "execution_count": 4,
      "metadata": {
        "id": "d15a85b4-926b-4ecb-8b46-23b766865704"
      },
      "outputs": [],
      "source": [
        "#TODO\n",
        "import nltk"
      ],
      "id": "d15a85b4-926b-4ecb-8b46-23b766865704"
    },
    {
      "cell_type": "code",
      "execution_count": null,
      "metadata": {
        "id": "jHAY8B8QhyFo"
      },
      "outputs": [],
      "source": [
        "nltk.download('stopwords')"
      ],
      "id": "jHAY8B8QhyFo"
    },
    {
      "cell_type": "code",
      "execution_count": 7,
      "metadata": {
        "colab": {
          "base_uri": "https://localhost:8080/"
        },
        "id": "WWihRGfRh3aT",
        "outputId": "2f979e1e-01e0-41fb-da7a-c1f7d7483d0b"
      },
      "outputs": [
        {
          "output_type": "stream",
          "name": "stdout",
          "text": [
            "['i', 'me', 'my', 'myself', 'we', 'our', 'ours', 'ourselves', 'you', \"you're\"]\n"
          ]
        }
      ],
      "source": [
        "from nltk.corpus import stopwords\n",
        "sWord=stopwords.words('english')\n",
        "print(sWord[0:10])"
      ],
      "id": "WWihRGfRh3aT"
    },
    {
      "cell_type": "markdown",
      "metadata": {
        "id": "00ab6e7e-d0cc-4ea3-bd77-e0a53b7d1fdf"
      },
      "source": [
        "##### d) Remove all the sWord from vWord and store the result in cleanWord. Display first few clean words."
      ],
      "id": "00ab6e7e-d0cc-4ea3-bd77-e0a53b7d1fdf"
    },
    {
      "cell_type": "code",
      "execution_count": 8,
      "metadata": {
        "colab": {
          "base_uri": "https://localhost:8080/"
        },
        "id": "254af2d1-9fbf-4604-93f5-d0165054d07e",
        "outputId": "62e868d0-da57-4d18-8896-a55bd4596fad"
      },
      "outputs": [
        {
          "output_type": "stream",
          "name": "stdout",
          "text": [
            "['meet', 'evening', 'sorrow', 'gladness', 'heart', 'evacuation', 'petersburg', 'richmond', 'surrender', 'principal']\n"
          ]
        }
      ],
      "source": [
        "#TODO\n",
        "IAdress.seek(0)\n",
        "punctuation='!\"#$%&\\'()*+,--./:;<=>?@[\\\\]^__``{|}~'\n",
        "vWord = word_tokenize(IAdress.read().lower())\n",
        "for token in vWord:\n",
        "    if token in punctuation:\n",
        "      vWord.remove(token)\n",
        "\n",
        "eng_stopwords = stopwords.words('english')\n",
        "rm_count = 0\n",
        "cleanWords = [] \n",
        "\n",
        "for token in vWord:\n",
        "    if token not in eng_stopwords:\n",
        "        cleanWords.append(token)\n",
        "    else: rm_count += 1\n",
        "print(cleanWords[:10])"
      ],
      "id": "254af2d1-9fbf-4604-93f5-d0165054d07e"
    },
    {
      "cell_type": "markdown",
      "metadata": {
        "id": "3e6eb98b-5a5b-499d-9802-f266e39e2701"
      },
      "source": [
        "##### f) Construct a bar chart showing the count of each words for the 15 most frequently used words."
      ],
      "id": "3e6eb98b-5a5b-499d-9802-f266e39e2701"
    },
    {
      "cell_type": "code",
      "execution_count": 9,
      "metadata": {
        "colab": {
          "base_uri": "https://localhost:8080/"
        },
        "id": "b-k2ip8Cl9eP",
        "outputId": "600606b5-ce92-474e-cc4a-3bfe3af4f38f"
      },
      "outputs": [
        {
          "output_type": "execute_result",
          "data": {
            "text/plain": [
              "[('louisiana', 18),\n",
              " ('government', 12),\n",
              " ('plan', 11),\n",
              " ('state', 11),\n",
              " ('union', 11),\n",
              " ('new', 10),\n",
              " ('states', 10),\n",
              " ('would', 8),\n",
              " ('proper', 8),\n",
              " ('question', 7),\n",
              " ('one', 6),\n",
              " ('whether', 6),\n",
              " ('must', 5),\n",
              " ('part', 5),\n",
              " ('man', 5)]"
            ]
          },
          "metadata": {},
          "execution_count": 9
        }
      ],
      "source": [
        "from nltk.probability import FreqDist\n",
        "top_15=FreqDist(cleanWords)\n",
        "top=top_15.most_common(15)\n",
        "list(top)"
      ],
      "id": "b-k2ip8Cl9eP"
    },
    {
      "cell_type": "code",
      "execution_count": 10,
      "metadata": {
        "colab": {
          "base_uri": "https://localhost:8080/",
          "height": 689
        },
        "id": "yllV5cRJxWVa",
        "outputId": "76fc5934-b257-4045-87c3-51269fa33afd"
      },
      "outputs": [
        {
          "output_type": "execute_result",
          "data": {
            "text/plain": [
              "<matplotlib.axes._subplots.AxesSubplot at 0x7f9a2b8c0ad0>"
            ]
          },
          "metadata": {},
          "execution_count": 10
        },
        {
          "output_type": "display_data",
          "data": {
            "text/plain": [
              "<Figure size 1080x720 with 1 Axes>"
            ],
            "image/png": "[encoded data removed]"
          },
          "metadata": {
            "needs_background": "light"
          }
        }
      ],
      "source": [
        "import pandas as pd\n",
        "df=pd.DataFrame(top, columns = [\"Word\",\"Frequency\"])\n",
        "df.sort_values(by=\"Frequency\", ascending=False)\n",
        "df = df.reset_index(drop=True)\n",
        "df1=df.head(15)\n",
        "ax=df1.plot.bar(x='Word',y='Frequency',figsize=(15,10), title='Top 15 frequent words')\n",
        "ax"
      ],
      "id": "yllV5cRJxWVa"
    },
    {
      "cell_type": "markdown",
      "metadata": {
        "id": "5bc31d42-0a8b-42f1-8237-e26aff5a3dbd"
      },
      "source": [
        "##### h) The plot in question (1f) uses bar plot to display the data. Can you think of another plot that delivers the same information but looks much simpler? Demonstrate your answer by generating such a plot."
      ],
      "id": "5bc31d42-0a8b-42f1-8237-e26aff5a3dbd"
    },
    {
      "cell_type": "code",
      "execution_count": 11,
      "metadata": {
        "colab": {
          "base_uri": "https://localhost:8080/",
          "height": 347
        },
        "id": "f9be269c-45fa-46e7-b90a-4a7f6cf7ccf1",
        "outputId": "18ec222f-435d-4215-bd75-c1d81af0950c"
      },
      "outputs": [
        {
          "output_type": "display_data",
          "data": {
            "text/plain": [
              "<Figure size 432x288 with 1 Axes>"
            ],
            "image/png": "[encoded data removed]"
          },
          "metadata": {
            "needs_background": "light"
          }
        },
        {
          "output_type": "execute_result",
          "data": {
            "text/plain": [
              "<matplotlib.axes._subplots.AxesSubplot at 0x7f9a2b780590>"
            ]
          },
          "metadata": {},
          "execution_count": 11
        }
      ],
      "source": [
        "#TODO\n",
        "%matplotlib inline\n",
        "top_15.plot(15)\n"
      ],
      "id": "f9be269c-45fa-46e7-b90a-4a7f6cf7ccf1"
    },
    {
      "cell_type": "code",
      "source": [
        "from wordcloud import WordCloud\n",
        "word_cloud = WordCloud(collocations = False, background_color = 'white').generate(str(df1))\n",
        "plt.imshow(word_cloud, interpolation='bilinear')\n",
        "plt.axis(\"off\")\n",
        "plt.show()"
      ],
      "metadata": {
        "colab": {
          "base_uri": "https://localhost:8080/",
          "height": 198
        },
        "id": "ac-8_dmFSfCS",
        "outputId": "3fec1c42-fd10-4d3c-9020-453fd26adb34"
      },
      "id": "ac-8_dmFSfCS",
      "execution_count": 12,
      "outputs": [
        {
          "output_type": "display_data",
          "data": {
            "text/plain": [
              "<Figure size 432x288 with 1 Axes>"
            ],
            "image/png": "[encoded data removed]"
          },
          "metadata": {
            "needs_background": "light"
          }
        }
      ]
    },
    {
      "cell_type": "markdown",
      "metadata": {
        "id": "c1312b9d-a0d5-43f6-94a6-5cd97c1b5455"
      },
      "source": [
        "##\n",
        "<span style=\"font-wight:bold;font-size:20px\">2. Answering Questions from Data:</span> Download the data from [ \n",
        "https://github.com/MapsaBootCamp/useful_datasets/blob/master/structuralData/flights.csv ]. Answer the following questions using this data.\n"
      ],
      "id": "c1312b9d-a0d5-43f6-94a6-5cd97c1b5455"
    },
    {
      "cell_type": "markdown",
      "metadata": {
        "id": "92251706-a801-42d7-be40-9d00e46b31f7"
      },
      "source": [
        "##### a) What month had the highest proportion of cancelled flights? What month had the lowest? Interpretany seasonal patterns. Please produce a plot that illustrates the proportion of cancelled flights for each month."
      ],
      "id": "92251706-a801-42d7-be40-9d00e46b31f7"
    },
    {
      "cell_type": "code",
      "execution_count": 13,
      "metadata": {
        "colab": {
          "base_uri": "https://localhost:8080/",
          "height": 444
        },
        "id": "Qcb6udLNFTHw",
        "outputId": "46f8b221-680a-4b89-af50-d3abdb737005"
      },
      "outputs": [
        {
          "output_type": "execute_result",
          "data": {
            "text/plain": [
              "   year  month  day  dep_time  sched_dep_time  dep_delay  arr_time  \\\n",
              "0  2013      1    1     517.0             515        2.0     830.0   \n",
              "1  2013      1    1     533.0             529        4.0     850.0   \n",
              "2  2013      1    1     542.0             540        2.0     923.0   \n",
              "3  2013      1    1     544.0             545       -1.0    1004.0   \n",
              "4  2013      1    1     554.0             600       -6.0     812.0   \n",
              "\n",
              "   sched_arr_time  arr_delay carrier  flight tailnum origin dest  air_time  \\\n",
              "0             819       11.0      UA    1545  N14228    EWR  IAH     227.0   \n",
              "1             830       20.0      UA    1714  N24211    LGA  IAH     227.0   \n",
              "2             850       33.0      AA    1141  N619AA    JFK  MIA     160.0   \n",
              "3            1022      -18.0      B6     725  N804JB    JFK  BQN     183.0   \n",
              "4             837      -25.0      DL     461  N668DN    LGA  ATL     116.0   \n",
              "\n",
              "   distance  hour  minute            time_hour  \n",
              "0      1400     5      15  2013-01-01 05:00:00  \n",
              "1      1416     5      29  2013-01-01 05:00:00  \n",
              "2      1089     5      40  2013-01-01 05:00:00  \n",
              "3      1576     5      45  2013-01-01 05:00:00  \n",
              "4       762     6       0  2013-01-01 06:00:00  "
            ],
            "text/html": [
              "\n",
              "  <div id=\"df-96a61b13-1194-4f00-9cf4-a8bdb3f974d8\">\n",
              "    <div class=\"colab-df-container\">\n",
              "      <div>\n",
              "<style scoped>\n",
              "    .dataframe tbody tr th:only-of-type {\n",
              "        vertical-align: middle;\n",
              "    }\n",
              "\n",
              "    .dataframe tbody tr th {\n",
              "        vertical-align: top;\n",
              "    }\n",
              "\n",
              "    .dataframe thead th {\n",
              "        text-align: right;\n",
              "    }\n",
              "</style>\n",
              "<table border=\"1\" class=\"dataframe\">\n",
              "  <thead>\n",
              "    <tr style=\"text-align: right;\">\n",
              "      <th></th>\n",
              "      <th>year</th>\n",
              "      <th>month</th>\n",
              "      <th>day</th>\n",
              "      <th>dep_time</th>\n",
              "      <th>sched_dep_time</th>\n",
              "      <th>dep_delay</th>\n",
              "      <th>arr_time</th>\n",
              "      <th>sched_arr_time</th>\n",
              "      <th>arr_delay</th>\n",
              "      <th>carrier</th>\n",
              "      <th>flight</th>\n",
              "      <th>tailnum</th>\n",
              "      <th>origin</th>\n",
              "      <th>dest</th>\n",
              "      <th>air_time</th>\n",
              "      <th>distance</th>\n",
              "      <th>hour</th>\n",
              "      <th>minute</th>\n",
              "      <th>time_hour</th>\n",
              "    </tr>\n",
              "  </thead>\n",
              "  <tbody>\n",
              "    <tr>\n",
              "      <th>0</th>\n",
              "      <td>2013</td>\n",
              "      <td>1</td>\n",
              "      <td>1</td>\n",
              "      <td>517.0</td>\n",
              "      <td>515</td>\n",
              "      <td>2.0</td>\n",
              "      <td>830.0</td>\n",
              "      <td>819</td>\n",
              "      <td>11.0</td>\n",
              "      <td>UA</td>\n",
              "      <td>1545</td>\n",
              "      <td>N14228</td>\n",
              "      <td>EWR</td>\n",
              "      <td>IAH</td>\n",
              "      <td>227.0</td>\n",
              "      <td>1400</td>\n",
              "      <td>5</td>\n",
              "      <td>15</td>\n",
              "      <td>2013-01-01 05:00:00</td>\n",
              "    </tr>\n",
              "    <tr>\n",
              "      <th>1</th>\n",
              "      <td>2013</td>\n",
              "      <td>1</td>\n",
              "      <td>1</td>\n",
              "      <td>533.0</td>\n",
              "      <td>529</td>\n",
              "      <td>4.0</td>\n",
              "      <td>850.0</td>\n",
              "      <td>830</td>\n",
              "      <td>20.0</td>\n",
              "      <td>UA</td>\n",
              "      <td>1714</td>\n",
              "      <td>N24211</td>\n",
              "      <td>LGA</td>\n",
              "      <td>IAH</td>\n",
              "      <td>227.0</td>\n",
              "      <td>1416</td>\n",
              "      <td>5</td>\n",
              "      <td>29</td>\n",
              "      <td>2013-01-01 05:00:00</td>\n",
              "    </tr>\n",
              "    <tr>\n",
              "      <th>2</th>\n",
              "      <td>2013</td>\n",
              "      <td>1</td>\n",
              "      <td>1</td>\n",
              "      <td>542.0</td>\n",
              "      <td>540</td>\n",
              "      <td>2.0</td>\n",
              "      <td>923.0</td>\n",
              "      <td>850</td>\n",
              "      <td>33.0</td>\n",
              "      <td>AA</td>\n",
              "      <td>1141</td>\n",
              "      <td>N619AA</td>\n",
              "      <td>JFK</td>\n",
              "      <td>MIA</td>\n",
              "      <td>160.0</td>\n",
              "      <td>1089</td>\n",
              "      <td>5</td>\n",
              "      <td>40</td>\n",
              "      <td>2013-01-01 05:00:00</td>\n",
              "    </tr>\n",
              "    <tr>\n",
              "      <th>3</th>\n",
              "      <td>2013</td>\n",
              "      <td>1</td>\n",
              "      <td>1</td>\n",
              "      <td>544.0</td>\n",
              "      <td>545</td>\n",
              "      <td>-1.0</td>\n",
              "      <td>1004.0</td>\n",
              "      <td>1022</td>\n",
              "      <td>-18.0</td>\n",
              "      <td>B6</td>\n",
              "      <td>725</td>\n",
              "      <td>N804JB</td>\n",
              "      <td>JFK</td>\n",
              "      <td>BQN</td>\n",
              "      <td>183.0</td>\n",
              "      <td>1576</td>\n",
              "      <td>5</td>\n",
              "      <td>45</td>\n",
              "      <td>2013-01-01 05:00:00</td>\n",
              "    </tr>\n",
              "    <tr>\n",
              "      <th>4</th>\n",
              "      <td>2013</td>\n",
              "      <td>1</td>\n",
              "      <td>1</td>\n",
              "      <td>554.0</td>\n",
              "      <td>600</td>\n",
              "      <td>-6.0</td>\n",
              "      <td>812.0</td>\n",
              "      <td>837</td>\n",
              "      <td>-25.0</td>\n",
              "      <td>DL</td>\n",
              "      <td>461</td>\n",
              "      <td>N668DN</td>\n",
              "      <td>LGA</td>\n",
              "      <td>ATL</td>\n",
              "      <td>116.0</td>\n",
              "      <td>762</td>\n",
              "      <td>6</td>\n",
              "      <td>0</td>\n",
              "      <td>2013-01-01 06:00:00</td>\n",
              "    </tr>\n",
              "  </tbody>\n",
              "</table>\n",
              "</div>\n",
              "      <button class=\"colab-df-convert\" onclick=\"convertToInteractive('df-96a61b13-1194-4f00-9cf4-a8bdb3f974d8')\"\n",
              "              title=\"Convert this dataframe to an interactive table.\"\n",
              "              style=\"display:none;\">\n",
              "        \n",
              "  <svg xmlns=\"http://www.w3.org/2000/svg\" height=\"24px\"viewBox=\"0 0 24 24\"\n",
              "       width=\"24px\">\n",
              "    <path d=\"M0 0h24v24H0V0z\" fill=\"none\"/>\n",
              "    <path d=\"M18.56 5.44l.94 2.06.94-2.06 2.06-.94-2.06-.94-.94-2.06-.94 2.06-2.06.94zm-11 1L8.5 8.5l.94-2.06 2.06-.94-2.06-.94L8.5 2.5l-.94 2.06-2.06.94zm10 10l.94 2.06.94-2.06 2.06-.94-2.06-.94-.94-2.06-.94 2.06-2.06.94z\"/><path d=\"M17.41 7.96l-1.37-1.37c-.4-.4-.92-.59-1.43-.59-.52 0-1.04.2-1.43.59L10.3 9.45l-7.72 7.72c-.78.78-.78 2.05 0 2.83L4 21.41c.39.39.9.59 1.41.59.51 0 1.02-.2 1.41-.59l7.78-7.78 2.81-2.81c.8-.78.8-2.07 0-2.86zM5.41 20L4 18.59l7.72-7.72 1.47 1.35L5.41 20z\"/>\n",
              "  </svg>\n",
              "      </button>\n",
              "      \n",
              "  <style>\n",
              "    .colab-df-container {\n",
              "      display:flex;\n",
              "      flex-wrap:wrap;\n",
              "      gap: 12px;\n",
              "    }\n",
              "\n",
              "    .colab-df-convert {\n",
              "      background-color: #E8F0FE;\n",
              "      border: none;\n",
              "      border-radius: 50%;\n",
              "      cursor: pointer;\n",
              "      display: none;\n",
              "      fill: #1967D2;\n",
              "      height: 32px;\n",
              "      padding: 0 0 0 0;\n",
              "      width: 32px;\n",
              "    }\n",
              "\n",
              "    .colab-df-convert:hover {\n",
              "      background-color: #E2EBFA;\n",
              "      box-shadow: 0px 1px 2px rgba(60, 64, 67, 0.3), 0px 1px 3px 1px rgba(60, 64, 67, 0.15);\n",
              "      fill: #174EA6;\n",
              "    }\n",
              "\n",
              "    [theme=dark] .colab-df-convert {\n",
              "      background-color: #3B4455;\n",
              "      fill: #D2E3FC;\n",
              "    }\n",
              "\n",
              "    [theme=dark] .colab-df-convert:hover {\n",
              "      background-color: #434B5C;\n",
              "      box-shadow: 0px 1px 3px 1px rgba(0, 0, 0, 0.15);\n",
              "      filter: drop-shadow(0px 1px 2px rgba(0, 0, 0, 0.3));\n",
              "      fill: #FFFFFF;\n",
              "    }\n",
              "  </style>\n",
              "\n",
              "      <script>\n",
              "        const buttonEl =\n",
              "          document.querySelector('#df-96a61b13-1194-4f00-9cf4-a8bdb3f974d8 button.colab-df-convert');\n",
              "        buttonEl.style.display =\n",
              "          google.colab.kernel.accessAllowed ? 'block' : 'none';\n",
              "\n",
              "        async function convertToInteractive(key) {\n",
              "          const element = document.querySelector('#df-96a61b13-1194-4f00-9cf4-a8bdb3f974d8');\n",
              "          const dataTable =\n",
              "            await google.colab.kernel.invokeFunction('convertToInteractive',\n",
              "                                                     [key], {});\n",
              "          if (!dataTable) return;\n",
              "\n",
              "          const docLinkHtml = 'Like what you see? Visit the ' +\n",
              "            '<a target=\"_blank\" href=https://colab.research.google.com/notebooks/data_table.ipynb>data table notebook</a>'\n",
              "            + ' to learn more about interactive tables.';\n",
              "          element.innerHTML = '';\n",
              "          dataTable['output_type'] = 'display_data';\n",
              "          await google.colab.output.renderOutput(dataTable, element);\n",
              "          const docLink = document.createElement('div');\n",
              "          docLink.innerHTML = docLinkHtml;\n",
              "          element.appendChild(docLink);\n",
              "        }\n",
              "      </script>\n",
              "    </div>\n",
              "  </div>\n",
              "  "
            ]
          },
          "metadata": {},
          "execution_count": 13
        }
      ],
      "source": [
        "df=pd.read_csv('flights1.csv')\n",
        "df.head()"
      ],
      "id": "Qcb6udLNFTHw"
    },
    {
      "cell_type": "code",
      "execution_count": 14,
      "metadata": {
        "id": "VXOhhiTmWA0_"
      },
      "outputs": [],
      "source": [
        "df['Cancel']=df['arr_time'].apply(lambda x:True if x==0 else False)\n"
      ],
      "id": "VXOhhiTmWA0_"
    },
    {
      "cell_type": "markdown",
      "metadata": {
        "id": "1cda509a-5148-462d-a1af-b444de62308c"
      },
      "source": [
        "##### b) What plane (specified by the tailnum variable) traveled the most times from New York City airports in 2013? Plot the number of trips per week over the year."
      ],
      "id": "1cda509a-5148-462d-a1af-b444de62308c"
    },
    {
      "cell_type": "code",
      "execution_count": 15,
      "metadata": {
        "colab": {
          "base_uri": "https://localhost:8080/",
          "height": 473
        },
        "id": "LQrAOX0HF7lq",
        "outputId": "9cc69259-6c93-43d2-be16-0783f0e651dd"
      },
      "outputs": [
        {
          "output_type": "execute_result",
          "data": {
            "text/plain": [
              "   year  month  day  dep_time  sched_dep_time  dep_delay  arr_time  \\\n",
              "0  2013      1    1     517.0             515        2.0     830.0   \n",
              "1  2013      1    1     533.0             529        4.0     850.0   \n",
              "2  2013      1    1     542.0             540        2.0     923.0   \n",
              "3  2013      1    1     544.0             545       -1.0    1004.0   \n",
              "4  2013      1    1     554.0             600       -6.0     812.0   \n",
              "\n",
              "   sched_arr_time  arr_delay carrier  ...  tailnum origin dest air_time  \\\n",
              "0             819       11.0      UA  ...   N14228    EWR  IAH    227.0   \n",
              "1             830       20.0      UA  ...   N24211    LGA  IAH    227.0   \n",
              "2             850       33.0      AA  ...   N619AA    JFK  MIA    160.0   \n",
              "3            1022      -18.0      B6  ...   N804JB    JFK  BQN    183.0   \n",
              "4             837      -25.0      DL  ...   N668DN    LGA  ATL    116.0   \n",
              "\n",
              "   distance  hour  minute           time_hour Cancel  Week  \n",
              "0      1400     5      15 2013-01-01 05:00:00  False     1  \n",
              "1      1416     5      29 2013-01-01 05:00:00  False     1  \n",
              "2      1089     5      40 2013-01-01 05:00:00  False     1  \n",
              "3      1576     5      45 2013-01-01 05:00:00  False     1  \n",
              "4       762     6       0 2013-01-01 06:00:00  False     1  \n",
              "\n",
              "[5 rows x 21 columns]"
            ],
            "text/html": [
              "\n",
              "  <div id=\"df-a0c059db-250b-40c6-814a-df0d9c86f641\">\n",
              "    <div class=\"colab-df-container\">\n",
              "      <div>\n",
              "<style scoped>\n",
              "    .dataframe tbody tr th:only-of-type {\n",
              "        vertical-align: middle;\n",
              "    }\n",
              "\n",
              "    .dataframe tbody tr th {\n",
              "        vertical-align: top;\n",
              "    }\n",
              "\n",
              "    .dataframe thead th {\n",
              "        text-align: right;\n",
              "    }\n",
              "</style>\n",
              "<table border=\"1\" class=\"dataframe\">\n",
              "  <thead>\n",
              "    <tr style=\"text-align: right;\">\n",
              "      <th></th>\n",
              "      <th>year</th>\n",
              "      <th>month</th>\n",
              "      <th>day</th>\n",
              "      <th>dep_time</th>\n",
              "      <th>sched_dep_time</th>\n",
              "      <th>dep_delay</th>\n",
              "      <th>arr_time</th>\n",
              "      <th>sched_arr_time</th>\n",
              "      <th>arr_delay</th>\n",
              "      <th>carrier</th>\n",
              "      <th>...</th>\n",
              "      <th>tailnum</th>\n",
              "      <th>origin</th>\n",
              "      <th>dest</th>\n",
              "      <th>air_time</th>\n",
              "      <th>distance</th>\n",
              "      <th>hour</th>\n",
              "      <th>minute</th>\n",
              "      <th>time_hour</th>\n",
              "      <th>Cancel</th>\n",
              "      <th>Week</th>\n",
              "    </tr>\n",
              "  </thead>\n",
              "  <tbody>\n",
              "    <tr>\n",
              "      <th>0</th>\n",
              "      <td>2013</td>\n",
              "      <td>1</td>\n",
              "      <td>1</td>\n",
              "      <td>517.0</td>\n",
              "      <td>515</td>\n",
              "      <td>2.0</td>\n",
              "      <td>830.0</td>\n",
              "      <td>819</td>\n",
              "      <td>11.0</td>\n",
              "      <td>UA</td>\n",
              "      <td>...</td>\n",
              "      <td>N14228</td>\n",
              "      <td>EWR</td>\n",
              "      <td>IAH</td>\n",
              "      <td>227.0</td>\n",
              "      <td>1400</td>\n",
              "      <td>5</td>\n",
              "      <td>15</td>\n",
              "      <td>2013-01-01 05:00:00</td>\n",
              "      <td>False</td>\n",
              "      <td>1</td>\n",
              "    </tr>\n",
              "    <tr>\n",
              "      <th>1</th>\n",
              "      <td>2013</td>\n",
              "      <td>1</td>\n",
              "      <td>1</td>\n",
              "      <td>533.0</td>\n",
              "      <td>529</td>\n",
              "      <td>4.0</td>\n",
              "      <td>850.0</td>\n",
              "      <td>830</td>\n",
              "      <td>20.0</td>\n",
              "      <td>UA</td>\n",
              "      <td>...</td>\n",
              "      <td>N24211</td>\n",
              "      <td>LGA</td>\n",
              "      <td>IAH</td>\n",
              "      <td>227.0</td>\n",
              "      <td>1416</td>\n",
              "      <td>5</td>\n",
              "      <td>29</td>\n",
              "      <td>2013-01-01 05:00:00</td>\n",
              "      <td>False</td>\n",
              "      <td>1</td>\n",
              "    </tr>\n",
              "    <tr>\n",
              "      <th>2</th>\n",
              "      <td>2013</td>\n",
              "      <td>1</td>\n",
              "      <td>1</td>\n",
              "      <td>542.0</td>\n",
              "      <td>540</td>\n",
              "      <td>2.0</td>\n",
              "      <td>923.0</td>\n",
              "      <td>850</td>\n",
              "      <td>33.0</td>\n",
              "      <td>AA</td>\n",
              "      <td>...</td>\n",
              "      <td>N619AA</td>\n",
              "      <td>JFK</td>\n",
              "      <td>MIA</td>\n",
              "      <td>160.0</td>\n",
              "      <td>1089</td>\n",
              "      <td>5</td>\n",
              "      <td>40</td>\n",
              "      <td>2013-01-01 05:00:00</td>\n",
              "      <td>False</td>\n",
              "      <td>1</td>\n",
              "    </tr>\n",
              "    <tr>\n",
              "      <th>3</th>\n",
              "      <td>2013</td>\n",
              "      <td>1</td>\n",
              "      <td>1</td>\n",
              "      <td>544.0</td>\n",
              "      <td>545</td>\n",
              "      <td>-1.0</td>\n",
              "      <td>1004.0</td>\n",
              "      <td>1022</td>\n",
              "      <td>-18.0</td>\n",
              "      <td>B6</td>\n",
              "      <td>...</td>\n",
              "      <td>N804JB</td>\n",
              "      <td>JFK</td>\n",
              "      <td>BQN</td>\n",
              "      <td>183.0</td>\n",
              "      <td>1576</td>\n",
              "      <td>5</td>\n",
              "      <td>45</td>\n",
              "      <td>2013-01-01 05:00:00</td>\n",
              "      <td>False</td>\n",
              "      <td>1</td>\n",
              "    </tr>\n",
              "    <tr>\n",
              "      <th>4</th>\n",
              "      <td>2013</td>\n",
              "      <td>1</td>\n",
              "      <td>1</td>\n",
              "      <td>554.0</td>\n",
              "      <td>600</td>\n",
              "      <td>-6.0</td>\n",
              "      <td>812.0</td>\n",
              "      <td>837</td>\n",
              "      <td>-25.0</td>\n",
              "      <td>DL</td>\n",
              "      <td>...</td>\n",
              "      <td>N668DN</td>\n",
              "      <td>LGA</td>\n",
              "      <td>ATL</td>\n",
              "      <td>116.0</td>\n",
              "      <td>762</td>\n",
              "      <td>6</td>\n",
              "      <td>0</td>\n",
              "      <td>2013-01-01 06:00:00</td>\n",
              "      <td>False</td>\n",
              "      <td>1</td>\n",
              "    </tr>\n",
              "  </tbody>\n",
              "</table>\n",
              "<p>5 rows × 21 columns</p>\n",
              "</div>\n",
              "      <button class=\"colab-df-convert\" onclick=\"convertToInteractive('df-a0c059db-250b-40c6-814a-df0d9c86f641')\"\n",
              "              title=\"Convert this dataframe to an interactive table.\"\n",
              "              style=\"display:none;\">\n",
              "        \n",
              "  <svg xmlns=\"http://www.w3.org/2000/svg\" height=\"24px\"viewBox=\"0 0 24 24\"\n",
              "       width=\"24px\">\n",
              "    <path d=\"M0 0h24v24H0V0z\" fill=\"none\"/>\n",
              "    <path d=\"M18.56 5.44l.94 2.06.94-2.06 2.06-.94-2.06-.94-.94-2.06-.94 2.06-2.06.94zm-11 1L8.5 8.5l.94-2.06 2.06-.94-2.06-.94L8.5 2.5l-.94 2.06-2.06.94zm10 10l.94 2.06.94-2.06 2.06-.94-2.06-.94-.94-2.06-.94 2.06-2.06.94z\"/><path d=\"M17.41 7.96l-1.37-1.37c-.4-.4-.92-.59-1.43-.59-.52 0-1.04.2-1.43.59L10.3 9.45l-7.72 7.72c-.78.78-.78 2.05 0 2.83L4 21.41c.39.39.9.59 1.41.59.51 0 1.02-.2 1.41-.59l7.78-7.78 2.81-2.81c.8-.78.8-2.07 0-2.86zM5.41 20L4 18.59l7.72-7.72 1.47 1.35L5.41 20z\"/>\n",
              "  </svg>\n",
              "      </button>\n",
              "      \n",
              "  <style>\n",
              "    .colab-df-container {\n",
              "      display:flex;\n",
              "      flex-wrap:wrap;\n",
              "      gap: 12px;\n",
              "    }\n",
              "\n",
              "    .colab-df-convert {\n",
              "      background-color: #E8F0FE;\n",
              "      border: none;\n",
              "      border-radius: 50%;\n",
              "      cursor: pointer;\n",
              "      display: none;\n",
              "      fill: #1967D2;\n",
              "      height: 32px;\n",
              "      padding: 0 0 0 0;\n",
              "      width: 32px;\n",
              "    }\n",
              "\n",
              "    .colab-df-convert:hover {\n",
              "      background-color: #E2EBFA;\n",
              "      box-shadow: 0px 1px 2px rgba(60, 64, 67, 0.3), 0px 1px 3px 1px rgba(60, 64, 67, 0.15);\n",
              "      fill: #174EA6;\n",
              "    }\n",
              "\n",
              "    [theme=dark] .colab-df-convert {\n",
              "      background-color: #3B4455;\n",
              "      fill: #D2E3FC;\n",
              "    }\n",
              "\n",
              "    [theme=dark] .colab-df-convert:hover {\n",
              "      background-color: #434B5C;\n",
              "      box-shadow: 0px 1px 3px 1px rgba(0, 0, 0, 0.15);\n",
              "      filter: drop-shadow(0px 1px 2px rgba(0, 0, 0, 0.3));\n",
              "      fill: #FFFFFF;\n",
              "    }\n",
              "  </style>\n",
              "\n",
              "      <script>\n",
              "        const buttonEl =\n",
              "          document.querySelector('#df-a0c059db-250b-40c6-814a-df0d9c86f641 button.colab-df-convert');\n",
              "        buttonEl.style.display =\n",
              "          google.colab.kernel.accessAllowed ? 'block' : 'none';\n",
              "\n",
              "        async function convertToInteractive(key) {\n",
              "          const element = document.querySelector('#df-a0c059db-250b-40c6-814a-df0d9c86f641');\n",
              "          const dataTable =\n",
              "            await google.colab.kernel.invokeFunction('convertToInteractive',\n",
              "                                                     [key], {});\n",
              "          if (!dataTable) return;\n",
              "\n",
              "          const docLinkHtml = 'Like what you see? Visit the ' +\n",
              "            '<a target=\"_blank\" href=https://colab.research.google.com/notebooks/data_table.ipynb>data table notebook</a>'\n",
              "            + ' to learn more about interactive tables.';\n",
              "          element.innerHTML = '';\n",
              "          dataTable['output_type'] = 'display_data';\n",
              "          await google.colab.output.renderOutput(dataTable, element);\n",
              "          const docLink = document.createElement('div');\n",
              "          docLink.innerHTML = docLinkHtml;\n",
              "          element.appendChild(docLink);\n",
              "        }\n",
              "      </script>\n",
              "    </div>\n",
              "  </div>\n",
              "  "
            ]
          },
          "metadata": {},
          "execution_count": 15
        }
      ],
      "source": [
        "d = pd.DataFrame(df)\n",
        "d['time_hour'] = pd.to_datetime(d['time_hour'])\n",
        "d['Week'] = d['time_hour'].dt.isocalendar().week\n",
        "d.head()"
      ],
      "id": "LQrAOX0HF7lq"
    },
    {
      "cell_type": "code",
      "execution_count": 16,
      "metadata": {
        "colab": {
          "base_uri": "https://localhost:8080/",
          "height": 599
        },
        "id": "5026ef7a-2f39-49fa-a267-6818ddef4a0b",
        "outputId": "df6d6502-b9d2-4661-ca64-ffdd2c873304"
      },
      "outputs": [
        {
          "output_type": "stream",
          "name": "stdout",
          "text": [
            "Week  tailnum\n",
            "20    N304JB     26\n",
            "32    N328JB     26\n",
            "33    N358JB     25\n",
            "23    N296JB     23\n",
            "48    N179JB     22\n",
            "                 ..\n",
            "8     N590AA      1\n",
            "      N588JB      1\n",
            "      N585UA      1\n",
            "      N584JB      1\n",
            "52    N997AT      1\n",
            "Name: tailnum, Length: 72265, dtype: int64\n"
          ]
        },
        {
          "output_type": "execute_result",
          "data": {
            "text/plain": [
              "<Figure size 2160x216 with 0 Axes>"
            ]
          },
          "metadata": {},
          "execution_count": 16
        },
        {
          "output_type": "display_data",
          "data": {
            "text/plain": [
              "<Figure size 432x288 with 1 Axes>"
            ],
            "image/png": "[encoded data removed]"
          },
          "metadata": {
            "needs_background": "light"
          }
        },
        {
          "output_type": "display_data",
          "data": {
            "text/plain": [
              "<Figure size 2160x216 with 0 Axes>"
            ]
          },
          "metadata": {}
        }
      ],
      "source": [
        "#TODO\n",
        "total=d[(d['origin'] == 'JFK')| (d['origin'] == 'LGA') & (d['year'] == 2013)].groupby('Week')['tailnum'].value_counts().sort_values(ascending=False)\n",
        "print(total)\n",
        "total.plot()\n",
        "plt.xticks(rotation=90)\n",
        "plt.figure(figsize = (30,3))"
      ],
      "id": "5026ef7a-2f39-49fa-a267-6818ddef4a0b"
    },
    {
      "cell_type": "markdown",
      "metadata": {
        "id": "8066f094-c423-4741-9205-fb955bb3e32a"
      },
      "source": [
        "##### c) Download the plane data from [ https://github.com/MapsaBootCamp/useful_datasets/blob/master/structuralData/planes.csv ]. Use the flights and planes tables to answer the following questions: What is the oldest plane (specified by the tailnum variable) that flew from New York City airports in 2013? How many airplanes that flew from New York City are included in the planes table?"
      ],
      "id": "8066f094-c423-4741-9205-fb955bb3e32a"
    },
    {
      "cell_type": "code",
      "execution_count": 17,
      "metadata": {
        "colab": {
          "base_uri": "https://localhost:8080/",
          "height": 206
        },
        "id": "783c8a6a-6f51-4d38-bc76-2b28454f88db",
        "outputId": "7dc52b83-d33a-4710-baa2-5fcf5e2bc004"
      },
      "outputs": [
        {
          "output_type": "execute_result",
          "data": {
            "text/plain": [
              "  tailnum    year                     type      manufacturer      model  \\\n",
              "0  N10156  2004.0  Fixed wing multi engine           EMBRAER  EMB-145XR   \n",
              "1  N102UW  1998.0  Fixed wing multi engine  AIRBUS INDUSTRIE   A320-214   \n",
              "2  N103US  1999.0  Fixed wing multi engine  AIRBUS INDUSTRIE   A320-214   \n",
              "3  N104UW  1999.0  Fixed wing multi engine  AIRBUS INDUSTRIE   A320-214   \n",
              "4  N10575  2002.0  Fixed wing multi engine           EMBRAER  EMB-145LR   \n",
              "\n",
              "   engines  seats  speed     engine  \n",
              "0        2     55    NaN  Turbo-fan  \n",
              "1        2    182    NaN  Turbo-fan  \n",
              "2        2    182    NaN  Turbo-fan  \n",
              "3        2    182    NaN  Turbo-fan  \n",
              "4        2     55    NaN  Turbo-fan  "
            ],
            "text/html": [
              "\n",
              "  <div id=\"df-eab29b9e-cb6c-4611-8dc8-4fff6fde511c\">\n",
              "    <div class=\"colab-df-container\">\n",
              "      <div>\n",
              "<style scoped>\n",
              "    .dataframe tbody tr th:only-of-type {\n",
              "        vertical-align: middle;\n",
              "    }\n",
              "\n",
              "    .dataframe tbody tr th {\n",
              "        vertical-align: top;\n",
              "    }\n",
              "\n",
              "    .dataframe thead th {\n",
              "        text-align: right;\n",
              "    }\n",
              "</style>\n",
              "<table border=\"1\" class=\"dataframe\">\n",
              "  <thead>\n",
              "    <tr style=\"text-align: right;\">\n",
              "      <th></th>\n",
              "      <th>tailnum</th>\n",
              "      <th>year</th>\n",
              "      <th>type</th>\n",
              "      <th>manufacturer</th>\n",
              "      <th>model</th>\n",
              "      <th>engines</th>\n",
              "      <th>seats</th>\n",
              "      <th>speed</th>\n",
              "      <th>engine</th>\n",
              "    </tr>\n",
              "  </thead>\n",
              "  <tbody>\n",
              "    <tr>\n",
              "      <th>0</th>\n",
              "      <td>N10156</td>\n",
              "      <td>2004.0</td>\n",
              "      <td>Fixed wing multi engine</td>\n",
              "      <td>EMBRAER</td>\n",
              "      <td>EMB-145XR</td>\n",
              "      <td>2</td>\n",
              "      <td>55</td>\n",
              "      <td>NaN</td>\n",
              "      <td>Turbo-fan</td>\n",
              "    </tr>\n",
              "    <tr>\n",
              "      <th>1</th>\n",
              "      <td>N102UW</td>\n",
              "      <td>1998.0</td>\n",
              "      <td>Fixed wing multi engine</td>\n",
              "      <td>AIRBUS INDUSTRIE</td>\n",
              "      <td>A320-214</td>\n",
              "      <td>2</td>\n",
              "      <td>182</td>\n",
              "      <td>NaN</td>\n",
              "      <td>Turbo-fan</td>\n",
              "    </tr>\n",
              "    <tr>\n",
              "      <th>2</th>\n",
              "      <td>N103US</td>\n",
              "      <td>1999.0</td>\n",
              "      <td>Fixed wing multi engine</td>\n",
              "      <td>AIRBUS INDUSTRIE</td>\n",
              "      <td>A320-214</td>\n",
              "      <td>2</td>\n",
              "      <td>182</td>\n",
              "      <td>NaN</td>\n",
              "      <td>Turbo-fan</td>\n",
              "    </tr>\n",
              "    <tr>\n",
              "      <th>3</th>\n",
              "      <td>N104UW</td>\n",
              "      <td>1999.0</td>\n",
              "      <td>Fixed wing multi engine</td>\n",
              "      <td>AIRBUS INDUSTRIE</td>\n",
              "      <td>A320-214</td>\n",
              "      <td>2</td>\n",
              "      <td>182</td>\n",
              "      <td>NaN</td>\n",
              "      <td>Turbo-fan</td>\n",
              "    </tr>\n",
              "    <tr>\n",
              "      <th>4</th>\n",
              "      <td>N10575</td>\n",
              "      <td>2002.0</td>\n",
              "      <td>Fixed wing multi engine</td>\n",
              "      <td>EMBRAER</td>\n",
              "      <td>EMB-145LR</td>\n",
              "      <td>2</td>\n",
              "      <td>55</td>\n",
              "      <td>NaN</td>\n",
              "      <td>Turbo-fan</td>\n",
              "    </tr>\n",
              "  </tbody>\n",
              "</table>\n",
              "</div>\n",
              "      <button class=\"colab-df-convert\" onclick=\"convertToInteractive('df-eab29b9e-cb6c-4611-8dc8-4fff6fde511c')\"\n",
              "              title=\"Convert this dataframe to an interactive table.\"\n",
              "              style=\"display:none;\">\n",
              "        \n",
              "  <svg xmlns=\"http://www.w3.org/2000/svg\" height=\"24px\"viewBox=\"0 0 24 24\"\n",
              "       width=\"24px\">\n",
              "    <path d=\"M0 0h24v24H0V0z\" fill=\"none\"/>\n",
              "    <path d=\"M18.56 5.44l.94 2.06.94-2.06 2.06-.94-2.06-.94-.94-2.06-.94 2.06-2.06.94zm-11 1L8.5 8.5l.94-2.06 2.06-.94-2.06-.94L8.5 2.5l-.94 2.06-2.06.94zm10 10l.94 2.06.94-2.06 2.06-.94-2.06-.94-.94-2.06-.94 2.06-2.06.94z\"/><path d=\"M17.41 7.96l-1.37-1.37c-.4-.4-.92-.59-1.43-.59-.52 0-1.04.2-1.43.59L10.3 9.45l-7.72 7.72c-.78.78-.78 2.05 0 2.83L4 21.41c.39.39.9.59 1.41.59.51 0 1.02-.2 1.41-.59l7.78-7.78 2.81-2.81c.8-.78.8-2.07 0-2.86zM5.41 20L4 18.59l7.72-7.72 1.47 1.35L5.41 20z\"/>\n",
              "  </svg>\n",
              "      </button>\n",
              "      \n",
              "  <style>\n",
              "    .colab-df-container {\n",
              "      display:flex;\n",
              "      flex-wrap:wrap;\n",
              "      gap: 12px;\n",
              "    }\n",
              "\n",
              "    .colab-df-convert {\n",
              "      background-color: #E8F0FE;\n",
              "      border: none;\n",
              "      border-radius: 50%;\n",
              "      cursor: pointer;\n",
              "      display: none;\n",
              "      fill: #1967D2;\n",
              "      height: 32px;\n",
              "      padding: 0 0 0 0;\n",
              "      width: 32px;\n",
              "    }\n",
              "\n",
              "    .colab-df-convert:hover {\n",
              "      background-color: #E2EBFA;\n",
              "      box-shadow: 0px 1px 2px rgba(60, 64, 67, 0.3), 0px 1px 3px 1px rgba(60, 64, 67, 0.15);\n",
              "      fill: #174EA6;\n",
              "    }\n",
              "\n",
              "    [theme=dark] .colab-df-convert {\n",
              "      background-color: #3B4455;\n",
              "      fill: #D2E3FC;\n",
              "    }\n",
              "\n",
              "    [theme=dark] .colab-df-convert:hover {\n",
              "      background-color: #434B5C;\n",
              "      box-shadow: 0px 1px 3px 1px rgba(0, 0, 0, 0.15);\n",
              "      filter: drop-shadow(0px 1px 2px rgba(0, 0, 0, 0.3));\n",
              "      fill: #FFFFFF;\n",
              "    }\n",
              "  </style>\n",
              "\n",
              "      <script>\n",
              "        const buttonEl =\n",
              "          document.querySelector('#df-eab29b9e-cb6c-4611-8dc8-4fff6fde511c button.colab-df-convert');\n",
              "        buttonEl.style.display =\n",
              "          google.colab.kernel.accessAllowed ? 'block' : 'none';\n",
              "\n",
              "        async function convertToInteractive(key) {\n",
              "          const element = document.querySelector('#df-eab29b9e-cb6c-4611-8dc8-4fff6fde511c');\n",
              "          const dataTable =\n",
              "            await google.colab.kernel.invokeFunction('convertToInteractive',\n",
              "                                                     [key], {});\n",
              "          if (!dataTable) return;\n",
              "\n",
              "          const docLinkHtml = 'Like what you see? Visit the ' +\n",
              "            '<a target=\"_blank\" href=https://colab.research.google.com/notebooks/data_table.ipynb>data table notebook</a>'\n",
              "            + ' to learn more about interactive tables.';\n",
              "          element.innerHTML = '';\n",
              "          dataTable['output_type'] = 'display_data';\n",
              "          await google.colab.output.renderOutput(dataTable, element);\n",
              "          const docLink = document.createElement('div');\n",
              "          docLink.innerHTML = docLinkHtml;\n",
              "          element.appendChild(docLink);\n",
              "        }\n",
              "      </script>\n",
              "    </div>\n",
              "  </div>\n",
              "  "
            ]
          },
          "metadata": {},
          "execution_count": 17
        }
      ],
      "source": [
        "#TODO\n",
        "df1=pd.read_csv('planes.csv')\n",
        "df1.head()"
      ],
      "id": "783c8a6a-6f51-4d38-bc76-2b28454f88db"
    },
    {
      "cell_type": "code",
      "execution_count": 18,
      "metadata": {
        "colab": {
          "base_uri": "https://localhost:8080/",
          "height": 560
        },
        "id": "vsQGfufS1j9S",
        "outputId": "2310060f-fbb7-4d2a-8e3f-beab71705413"
      },
      "outputs": [
        {
          "output_type": "execute_result",
          "data": {
            "text/plain": [
              "   index tailnum    year                     type manufacturer     model  \\\n",
              "0    215  N150UW  2013.0  Fixed wing multi engine       AIRBUS  A321-211   \n",
              "1    215  N150UW  2013.0  Fixed wing multi engine       AIRBUS  A321-211   \n",
              "2    215  N150UW  2013.0  Fixed wing multi engine       AIRBUS  A321-211   \n",
              "3    215  N150UW  2013.0  Fixed wing multi engine       AIRBUS  A321-211   \n",
              "4    215  N150UW  2013.0  Fixed wing multi engine       AIRBUS  A321-211   \n",
              "\n",
              "   engines  seats  speed     engine  ...  flight  origin  dest  air_time  \\\n",
              "0        2    199    NaN  Turbo-fan  ...    1895     LGA   CLT      91.0   \n",
              "1        2    199    NaN  Turbo-fan  ...    2085     LGA   CLT      98.0   \n",
              "2        2    199    NaN  Turbo-fan  ...     894     LGA   CLT      85.0   \n",
              "3        2    199    NaN  Turbo-fan  ...    1831     JFK   CLT      88.0   \n",
              "4        2    199    NaN  Turbo-fan  ...    2069     LGA   CLT      91.0   \n",
              "\n",
              "   distance  hour  minute            time_hour Cancel  Week  \n",
              "0       544    12      59  2013-10-07 12:00:00  False    41  \n",
              "1       544     6      30  2013-10-10 06:00:00  False    41  \n",
              "2       544    17       5  2013-10-12 17:00:00  False    41  \n",
              "3       541     8      25  2013-10-14 08:00:00  False    42  \n",
              "4       544    11      30  2013-10-25 11:00:00  False    43  \n",
              "\n",
              "[5 rows x 29 columns]"
            ],
            "text/html": [
              "\n",
              "  <div id=\"df-9b5e4560-f785-4f9a-80eb-d676512be7f7\">\n",
              "    <div class=\"colab-df-container\">\n",
              "      <div>\n",
              "<style scoped>\n",
              "    .dataframe tbody tr th:only-of-type {\n",
              "        vertical-align: middle;\n",
              "    }\n",
              "\n",
              "    .dataframe tbody tr th {\n",
              "        vertical-align: top;\n",
              "    }\n",
              "\n",
              "    .dataframe thead th {\n",
              "        text-align: right;\n",
              "    }\n",
              "</style>\n",
              "<table border=\"1\" class=\"dataframe\">\n",
              "  <thead>\n",
              "    <tr style=\"text-align: right;\">\n",
              "      <th></th>\n",
              "      <th>index</th>\n",
              "      <th>tailnum</th>\n",
              "      <th>year</th>\n",
              "      <th>type</th>\n",
              "      <th>manufacturer</th>\n",
              "      <th>model</th>\n",
              "      <th>engines</th>\n",
              "      <th>seats</th>\n",
              "      <th>speed</th>\n",
              "      <th>engine</th>\n",
              "      <th>...</th>\n",
              "      <th>flight</th>\n",
              "      <th>origin</th>\n",
              "      <th>dest</th>\n",
              "      <th>air_time</th>\n",
              "      <th>distance</th>\n",
              "      <th>hour</th>\n",
              "      <th>minute</th>\n",
              "      <th>time_hour</th>\n",
              "      <th>Cancel</th>\n",
              "      <th>Week</th>\n",
              "    </tr>\n",
              "  </thead>\n",
              "  <tbody>\n",
              "    <tr>\n",
              "      <th>0</th>\n",
              "      <td>215</td>\n",
              "      <td>N150UW</td>\n",
              "      <td>2013.0</td>\n",
              "      <td>Fixed wing multi engine</td>\n",
              "      <td>AIRBUS</td>\n",
              "      <td>A321-211</td>\n",
              "      <td>2</td>\n",
              "      <td>199</td>\n",
              "      <td>NaN</td>\n",
              "      <td>Turbo-fan</td>\n",
              "      <td>...</td>\n",
              "      <td>1895</td>\n",
              "      <td>LGA</td>\n",
              "      <td>CLT</td>\n",
              "      <td>91.0</td>\n",
              "      <td>544</td>\n",
              "      <td>12</td>\n",
              "      <td>59</td>\n",
              "      <td>2013-10-07 12:00:00</td>\n",
              "      <td>False</td>\n",
              "      <td>41</td>\n",
              "    </tr>\n",
              "    <tr>\n",
              "      <th>1</th>\n",
              "      <td>215</td>\n",
              "      <td>N150UW</td>\n",
              "      <td>2013.0</td>\n",
              "      <td>Fixed wing multi engine</td>\n",
              "      <td>AIRBUS</td>\n",
              "      <td>A321-211</td>\n",
              "      <td>2</td>\n",
              "      <td>199</td>\n",
              "      <td>NaN</td>\n",
              "      <td>Turbo-fan</td>\n",
              "      <td>...</td>\n",
              "      <td>2085</td>\n",
              "      <td>LGA</td>\n",
              "      <td>CLT</td>\n",
              "      <td>98.0</td>\n",
              "      <td>544</td>\n",
              "      <td>6</td>\n",
              "      <td>30</td>\n",
              "      <td>2013-10-10 06:00:00</td>\n",
              "      <td>False</td>\n",
              "      <td>41</td>\n",
              "    </tr>\n",
              "    <tr>\n",
              "      <th>2</th>\n",
              "      <td>215</td>\n",
              "      <td>N150UW</td>\n",
              "      <td>2013.0</td>\n",
              "      <td>Fixed wing multi engine</td>\n",
              "      <td>AIRBUS</td>\n",
              "      <td>A321-211</td>\n",
              "      <td>2</td>\n",
              "      <td>199</td>\n",
              "      <td>NaN</td>\n",
              "      <td>Turbo-fan</td>\n",
              "      <td>...</td>\n",
              "      <td>894</td>\n",
              "      <td>LGA</td>\n",
              "      <td>CLT</td>\n",
              "      <td>85.0</td>\n",
              "      <td>544</td>\n",
              "      <td>17</td>\n",
              "      <td>5</td>\n",
              "      <td>2013-10-12 17:00:00</td>\n",
              "      <td>False</td>\n",
              "      <td>41</td>\n",
              "    </tr>\n",
              "    <tr>\n",
              "      <th>3</th>\n",
              "      <td>215</td>\n",
              "      <td>N150UW</td>\n",
              "      <td>2013.0</td>\n",
              "      <td>Fixed wing multi engine</td>\n",
              "      <td>AIRBUS</td>\n",
              "      <td>A321-211</td>\n",
              "      <td>2</td>\n",
              "      <td>199</td>\n",
              "      <td>NaN</td>\n",
              "      <td>Turbo-fan</td>\n",
              "      <td>...</td>\n",
              "      <td>1831</td>\n",
              "      <td>JFK</td>\n",
              "      <td>CLT</td>\n",
              "      <td>88.0</td>\n",
              "      <td>541</td>\n",
              "      <td>8</td>\n",
              "      <td>25</td>\n",
              "      <td>2013-10-14 08:00:00</td>\n",
              "      <td>False</td>\n",
              "      <td>42</td>\n",
              "    </tr>\n",
              "    <tr>\n",
              "      <th>4</th>\n",
              "      <td>215</td>\n",
              "      <td>N150UW</td>\n",
              "      <td>2013.0</td>\n",
              "      <td>Fixed wing multi engine</td>\n",
              "      <td>AIRBUS</td>\n",
              "      <td>A321-211</td>\n",
              "      <td>2</td>\n",
              "      <td>199</td>\n",
              "      <td>NaN</td>\n",
              "      <td>Turbo-fan</td>\n",
              "      <td>...</td>\n",
              "      <td>2069</td>\n",
              "      <td>LGA</td>\n",
              "      <td>CLT</td>\n",
              "      <td>91.0</td>\n",
              "      <td>544</td>\n",
              "      <td>11</td>\n",
              "      <td>30</td>\n",
              "      <td>2013-10-25 11:00:00</td>\n",
              "      <td>False</td>\n",
              "      <td>43</td>\n",
              "    </tr>\n",
              "  </tbody>\n",
              "</table>\n",
              "<p>5 rows × 29 columns</p>\n",
              "</div>\n",
              "      <button class=\"colab-df-convert\" onclick=\"convertToInteractive('df-9b5e4560-f785-4f9a-80eb-d676512be7f7')\"\n",
              "              title=\"Convert this dataframe to an interactive table.\"\n",
              "              style=\"display:none;\">\n",
              "        \n",
              "  <svg xmlns=\"http://www.w3.org/2000/svg\" height=\"24px\"viewBox=\"0 0 24 24\"\n",
              "       width=\"24px\">\n",
              "    <path d=\"M0 0h24v24H0V0z\" fill=\"none\"/>\n",
              "    <path d=\"M18.56 5.44l.94 2.06.94-2.06 2.06-.94-2.06-.94-.94-2.06-.94 2.06-2.06.94zm-11 1L8.5 8.5l.94-2.06 2.06-.94-2.06-.94L8.5 2.5l-.94 2.06-2.06.94zm10 10l.94 2.06.94-2.06 2.06-.94-2.06-.94-.94-2.06-.94 2.06-2.06.94z\"/><path d=\"M17.41 7.96l-1.37-1.37c-.4-.4-.92-.59-1.43-.59-.52 0-1.04.2-1.43.59L10.3 9.45l-7.72 7.72c-.78.78-.78 2.05 0 2.83L4 21.41c.39.39.9.59 1.41.59.51 0 1.02-.2 1.41-.59l7.78-7.78 2.81-2.81c.8-.78.8-2.07 0-2.86zM5.41 20L4 18.59l7.72-7.72 1.47 1.35L5.41 20z\"/>\n",
              "  </svg>\n",
              "      </button>\n",
              "      \n",
              "  <style>\n",
              "    .colab-df-container {\n",
              "      display:flex;\n",
              "      flex-wrap:wrap;\n",
              "      gap: 12px;\n",
              "    }\n",
              "\n",
              "    .colab-df-convert {\n",
              "      background-color: #E8F0FE;\n",
              "      border: none;\n",
              "      border-radius: 50%;\n",
              "      cursor: pointer;\n",
              "      display: none;\n",
              "      fill: #1967D2;\n",
              "      height: 32px;\n",
              "      padding: 0 0 0 0;\n",
              "      width: 32px;\n",
              "    }\n",
              "\n",
              "    .colab-df-convert:hover {\n",
              "      background-color: #E2EBFA;\n",
              "      box-shadow: 0px 1px 2px rgba(60, 64, 67, 0.3), 0px 1px 3px 1px rgba(60, 64, 67, 0.15);\n",
              "      fill: #174EA6;\n",
              "    }\n",
              "\n",
              "    [theme=dark] .colab-df-convert {\n",
              "      background-color: #3B4455;\n",
              "      fill: #D2E3FC;\n",
              "    }\n",
              "\n",
              "    [theme=dark] .colab-df-convert:hover {\n",
              "      background-color: #434B5C;\n",
              "      box-shadow: 0px 1px 3px 1px rgba(0, 0, 0, 0.15);\n",
              "      filter: drop-shadow(0px 1px 2px rgba(0, 0, 0, 0.3));\n",
              "      fill: #FFFFFF;\n",
              "    }\n",
              "  </style>\n",
              "\n",
              "      <script>\n",
              "        const buttonEl =\n",
              "          document.querySelector('#df-9b5e4560-f785-4f9a-80eb-d676512be7f7 button.colab-df-convert');\n",
              "        buttonEl.style.display =\n",
              "          google.colab.kernel.accessAllowed ? 'block' : 'none';\n",
              "\n",
              "        async function convertToInteractive(key) {\n",
              "          const element = document.querySelector('#df-9b5e4560-f785-4f9a-80eb-d676512be7f7');\n",
              "          const dataTable =\n",
              "            await google.colab.kernel.invokeFunction('convertToInteractive',\n",
              "                                                     [key], {});\n",
              "          if (!dataTable) return;\n",
              "\n",
              "          const docLinkHtml = 'Like what you see? Visit the ' +\n",
              "            '<a target=\"_blank\" href=https://colab.research.google.com/notebooks/data_table.ipynb>data table notebook</a>'\n",
              "            + ' to learn more about interactive tables.';\n",
              "          element.innerHTML = '';\n",
              "          dataTable['output_type'] = 'display_data';\n",
              "          await google.colab.output.renderOutput(dataTable, element);\n",
              "          const docLink = document.createElement('div');\n",
              "          docLink.innerHTML = docLinkHtml;\n",
              "          element.appendChild(docLink);\n",
              "        }\n",
              "      </script>\n",
              "    </div>\n",
              "  </div>\n",
              "  "
            ]
          },
          "metadata": {},
          "execution_count": 18
        }
      ],
      "source": [
        "#the planes that exist in flights dataset\n",
        "new = df[(df['year'] == 2013)&((df['origin'] == 'JFK')|(df['origin'] == 'LGA'))]\n",
        "df3=pd.merge(df1.reset_index(), new, how='inner').set_index('index')\n",
        "df4=df3.to_csv('new1.csv')\n",
        "df4=pd.read_csv('new1.csv')\n",
        "df4.head()"
      ],
      "id": "vsQGfufS1j9S"
    },
    {
      "cell_type": "code",
      "execution_count": 19,
      "metadata": {
        "colab": {
          "base_uri": "https://localhost:8080/"
        },
        "id": "caneqaa9oKyT",
        "outputId": "2d2ce9f4-4603-4f5a-ada5-cf91a9b37be9"
      },
      "outputs": [
        {
          "output_type": "stream",
          "name": "stdout",
          "text": [
            "tailnum  year  \n",
            "N354JB   2013.0    286\n",
            "N355JB   2013.0    253\n",
            "N358JB   2013.0    247\n",
            "N374JB   2013.0    219\n",
            "N368JB   2013.0    205\n",
            "Name: year, dtype: int64\n"
          ]
        }
      ],
      "source": [
        "total=df4.groupby('tailnum')['year'].value_counts().sort_values(ascending=False).nlargest(5)\n",
        "print(total)"
      ],
      "id": "caneqaa9oKyT"
    },
    {
      "cell_type": "code",
      "execution_count": 20,
      "metadata": {
        "colab": {
          "base_uri": "https://localhost:8080/"
        },
        "id": "4sN9sUklfYQp",
        "outputId": "a1bdc960-4461-4477-f4ca-21b0f4118748"
      },
      "outputs": [
        {
          "output_type": "stream",
          "name": "stdout",
          "text": [
            "number of plane flew :2712\n"
          ]
        }
      ],
      "source": [
        "num=df4.groupby('tailnum')['tailnum'].count().sum()\n",
        "print(f'number of plane flew :{num}')"
      ],
      "id": "4sN9sUklfYQp"
    },
    {
      "cell_type": "markdown",
      "metadata": {
        "id": "20d6d704-57ad-403b-9b2b-99e6b21a3c0a"
      },
      "source": [
        "##### d) Use the flights and planes tables to answer the following questions: How many planes have a missing date of manufacture? What are the five most common manufacturers (Note: pay close attention to the same manufacturer being represented multiple times)? Has the distribution of manufacturer changed over time as reflected by the airplanes flying from NYC in 2013? Produce a plot that backs up your claim."
      ],
      "id": "20d6d704-57ad-403b-9b2b-99e6b21a3c0a"
    },
    {
      "cell_type": "code",
      "execution_count": 22,
      "metadata": {
        "colab": {
          "base_uri": "https://localhost:8080/"
        },
        "id": "239ffd7f-5106-4d69-bb9e-d7bd608827b9",
        "outputId": "f09ab0e7-6029-4ce7-dfcc-2187d99099fb"
      },
      "outputs": [
        {
          "output_type": "stream",
          "name": "stdout",
          "text": [
            "manufacturer      year  \n",
            "BOEING            2001.0    142\n",
            "                  2000.0    134\n",
            "                  1999.0    124\n",
            "                  1998.0    103\n",
            "AIRBUS INDUSTRIE  2001.0     82\n",
            "Name: year, dtype: int64\n"
          ]
        }
      ],
      "source": [
        "#TODO\n",
        "manu=df1.groupby('manufacturer')['year'].value_counts().sort_values(ascending=False).nlargest(5)\n",
        "print(manu)"
      ],
      "id": "239ffd7f-5106-4d69-bb9e-d7bd608827b9"
    },
    {
      "cell_type": "markdown",
      "metadata": {
        "id": "30cf6379-efa0-42fc-bf77-7b355c306f03"
      },
      "source": [
        "##\n",
        "<span style=\"font-wight:bold;font-size:20px\">3. Regular Expressions:</span> Write a regular expression to match patterns in the following strings. Demonstrate\n",
        "that your regular expression indeed matched that pattern by including codes and results."
      ],
      "id": "30cf6379-efa0-42fc-bf77-7b355c306f03"
    },
    {
      "cell_type": "markdown",
      "metadata": {
        "id": "dd803993-9326-4b85-b281-b444350f2380"
      },
      "source": [
        "##### a) We have a list vText as follows. Write a regular expression that matches g, og, go or ogo in vText and replace the matches with ‘.’."
      ],
      "id": "dd803993-9326-4b85-b281-b444350f2380"
    },
    {
      "cell_type": "code",
      "execution_count": 23,
      "metadata": {
        "id": "Nk9M8w0uKW_0"
      },
      "outputs": [],
      "source": [
        "import re\n"
      ],
      "id": "Nk9M8w0uKW_0"
    },
    {
      "cell_type": "code",
      "execution_count": 24,
      "metadata": {
        "colab": {
          "base_uri": "https://localhost:8080/",
          "height": 35
        },
        "id": "14e6e3e2-33a1-40cc-9d17-9fd9222bd865",
        "outputId": "9c15daa3-3021-4dbb-e214-894b4024f7c6"
      },
      "outputs": [
        {
          "output_type": "execute_result",
          "data": {
            "text/plain": [
              "\"['.o.le', 'l.o', 'di.', 'bl.', 'bo.ie']\""
            ],
            "application/vnd.google.colaboratory.intrinsic+json": {
              "type": "string"
            }
          },
          "metadata": {},
          "execution_count": 24
        }
      ],
      "source": [
        "vText = ['google','logo','dig', 'blog', 'boogie']\n",
        "re.sub(pattern=r'g|og|go|ogo', string=str(vText), repl='.')"
      ],
      "id": "14e6e3e2-33a1-40cc-9d17-9fd9222bd865"
    },
    {
      "cell_type": "markdown",
      "metadata": {
        "id": "506dd8e8-b32b-42b3-897d-0fc574b6484c"
      },
      "source": [
        "##### b) Replace only the 5 or 6 digit numbers with the word “found” in the following list. Please make sure that 3, 4, or 7 digit numbers do not get changed."
      ],
      "id": "506dd8e8-b32b-42b3-897d-0fc574b6484c"
    },
    {
      "cell_type": "code",
      "execution_count": 25,
      "metadata": {
        "colab": {
          "base_uri": "https://localhost:8080/",
          "height": 53
        },
        "id": "5ac59c7f-6687-466d-ad19-833f2e6da9c1",
        "outputId": "92bf4d6d-9a50-4b78-f4c2-71a36b154b7b"
      },
      "outputs": [
        {
          "output_type": "stream",
          "name": "stdout",
          "text": [
            "['345345', '32120', '468349']\n"
          ]
        },
        {
          "output_type": "execute_result",
          "data": {
            "text/plain": [
              "\"['874', '6783', 'found', 'found', 'found', '8149674']\""
            ],
            "application/vnd.google.colaboratory.intrinsic+json": {
              "type": "string"
            }
          },
          "metadata": {},
          "execution_count": 25
        }
      ],
      "source": [
        "#TODO\n",
        "vPhone = ['874','6783','345345', '32120', '468349', '8149674']\n",
        "Phone=re.findall(r\"\\b\\d{5,6}\\b\", str(vPhone))\n",
        "print(Phone)\n",
        "re.sub(pattern=r'\\b\\d{5,6}\\b', string=str(vPhone), repl='found')"
      ],
      "id": "5ac59c7f-6687-466d-ad19-833f2e6da9c1"
    },
    {
      "cell_type": "markdown",
      "metadata": {
        "id": "dd7787da-c76a-46ce-839c-f31a0acbe1db"
      },
      "source": [
        "##### c) Replace all the characters that are not among the 26 English characters or a space. Please replace with an empty spring."
      ],
      "id": "dd7787da-c76a-46ce-839c-f31a0acbe1db"
    },
    {
      "cell_type": "code",
      "execution_count": 26,
      "metadata": {
        "colab": {
          "base_uri": "https://localhost:8080/",
          "height": 35
        },
        "id": "d1372291-d85b-49a4-b919-e2b6d62cc607",
        "outputId": "18440f2f-7efe-4168-dab5-2781e448a54f"
      },
      "outputs": [
        {
          "output_type": "execute_result",
          "data": {
            "text/plain": [
              "' y o u  g o t t h e  so lu tio n c or r e ct'"
            ],
            "application/vnd.google.colaboratory.intrinsic+json": {
              "type": "string"
            }
          },
          "metadata": {},
          "execution_count": 26
        }
      ],
      "source": [
        "#TODO\n",
        "myText = \"#y%o$u @g!o*t t9h(e) so#lu!tio$n c%or_r+e%ct\"\n",
        "re.sub(pattern=r'[^a-zA-Z]', string=myText, repl=' ')"
      ],
      "id": "d1372291-d85b-49a4-b919-e2b6d62cc607"
    },
    {
      "cell_type": "markdown",
      "metadata": {
        "id": "830d18d6-a556-4da1-ac68-76f2b268d08e"
      },
      "source": [
        "##### d) In the following text, replace all the words that are exactly 3 or 4 characters long with triple dots ‘. . . ’"
      ],
      "id": "830d18d6-a556-4da1-ac68-76f2b268d08e"
    },
    {
      "cell_type": "code",
      "execution_count": 27,
      "metadata": {
        "colab": {
          "base_uri": "https://localhost:8080/",
          "height": 35
        },
        "id": "0e2cce50-9269-4239-a064-e0f5de78c5f7",
        "outputId": "81f21834-7839-44c7-b780-2ca95f78e760"
      },
      "outputs": [
        {
          "output_type": "execute_result",
          "data": {
            "text/plain": [
              "'... of ... three ... ... character words ... be ... ...'"
            ],
            "application/vnd.google.colaboratory.intrinsic+json": {
              "type": "string"
            }
          },
          "metadata": {},
          "execution_count": 27
        }
      ],
      "source": [
        "#TODO\n",
        "myText = \"Each of the three and four character words will be gone now\"\n",
        "re.sub(pattern=r'\\b[a-zA-Z]{3,4}\\b', string=myText, repl='...')"
      ],
      "id": "0e2cce50-9269-4239-a064-e0f5de78c5f7"
    },
    {
      "cell_type": "markdown",
      "metadata": {
        "id": "9e069cf8-63ec-4fd5-8d01-3e000533881f"
      },
      "source": [
        "##### e) Extract all the three numbers embedded in the following text."
      ],
      "id": "9e069cf8-63ec-4fd5-8d01-3e000533881f"
    },
    {
      "cell_type": "code",
      "execution_count": 28,
      "metadata": {
        "colab": {
          "base_uri": "https://localhost:8080/"
        },
        "id": "f696810d-aff0-4c4b-a134-c91ce4d229f1",
        "outputId": "dee5ebcb-d0ec-485b-a4c3-e99331a31cf6"
      },
      "outputs": [
        {
          "output_type": "stream",
          "name": "stdout",
          "text": [
            "There are four 2014 numbers hid989den in the 500 texts\n"
          ]
        },
        {
          "output_type": "execute_result",
          "data": {
            "text/plain": [
              "['2014', '989', '500']"
            ]
          },
          "metadata": {},
          "execution_count": 28
        }
      ],
      "source": [
        "#TODO\n",
        "bigText = 'There are four 20@14 numbers hid989den in the 500 texts'\n",
        "text=re.sub(pattern=r'(?<=[0-9./])\\W+(?=[0-9./])', string=bigText, repl='')\n",
        "print(text)\n",
        "re.findall(r\"\\d+\", text)\n"
      ],
      "id": "f696810d-aff0-4c4b-a134-c91ce4d229f1"
    },
    {
      "cell_type": "markdown",
      "metadata": {
        "id": "9c2de3bc-7b9d-4292-a998-1a3c5594ec53"
      },
      "source": [
        "##### f) Extract all the words between parenthesis from the following string text and count number of words."
      ],
      "id": "9c2de3bc-7b9d-4292-a998-1a3c5594ec53"
    },
    {
      "cell_type": "code",
      "execution_count": 29,
      "metadata": {
        "colab": {
          "base_uri": "https://localhost:8080/"
        },
        "id": "e3599ecf-eec1-4374-88d4-b9d6df53287a",
        "outputId": "17719626-0db0-4820-fa88-2caa075beedf"
      },
      "outputs": [
        {
          "output_type": "stream",
          "name": "stdout",
          "text": [
            "in millions\n"
          ]
        }
      ],
      "source": [
        "#TODO\n",
        "myText = 'The salries are reported (in millions) for every company.'\n",
        "text=re.search(r'\\((.*?)\\)',myText).group(1)\n",
        "print(text)\n"
      ],
      "id": "e3599ecf-eec1-4374-88d4-b9d6df53287a"
    },
    {
      "cell_type": "markdown",
      "metadata": {
        "id": "adb63503-1385-4ce4-b711-1c74af77ae9d"
      },
      "source": [
        "##### g) Extract the texts in between _ and dot(.) in the following list. Your output should be ‘bill’, ‘pay’, ‘fine-book’."
      ],
      "id": "adb63503-1385-4ce4-b711-1c74af77ae9d"
    },
    {
      "cell_type": "code",
      "execution_count": 30,
      "metadata": {
        "colab": {
          "base_uri": "https://localhost:8080/"
        },
        "id": "4acc9d49-f77e-41b0-9676-2d9ad09afba3",
        "outputId": "6143a298-08b3-4409-d838-b47ad0d92f70"
      },
      "outputs": [
        {
          "output_type": "stream",
          "name": "stdout",
          "text": [
            "['bill.xls', 'pay.xls', 'fine-book.pdf']\n",
            "['bill 'pay 'fine-book "
          ]
        }
      ],
      "source": [
        "#TODO\n",
        "myText = [\"H_bill.xls\", \"Big_H_pay.xls\", \"Use_case_fine-book.pdf\"]\n",
        "text=re.sub(pattern=r'\\w+_', string=str(myText), repl='')\n",
        "print(text)\n",
        "t=re.findall('(\\S*)[.]', string=str(text))\n",
        "for i in t:\n",
        "  print(i,end=' ')"
      ],
      "id": "4acc9d49-f77e-41b0-9676-2d9ad09afba3"
    },
    {
      "cell_type": "markdown",
      "metadata": {
        "id": "c636aab9-20ea-4895-a589-7bff34f6d8ea"
      },
      "source": [
        "##### h) Extract the numbers (return only integers) that are followed by the units ‘ml’ or ‘lb’ in the following text."
      ],
      "id": "c636aab9-20ea-4895-a589-7bff34f6d8ea"
    },
    {
      "cell_type": "code",
      "execution_count": 31,
      "metadata": {
        "colab": {
          "base_uri": "https://localhost:8080/"
        },
        "id": "9a920c6c-8156-43cf-912e-18287a6b5205",
        "outputId": "ea26f88a-a960-4495-a392-e5d13696afaf"
      },
      "outputs": [
        {
          "output_type": "stream",
          "name": "stdout",
          "text": [
            "200 15 2 "
          ]
        }
      ],
      "source": [
        "#TODO\n",
        "myText = 'Received 10 apples with 200ml water at 8pm with 15 lb meat and 2lb salt'\n",
        "t=re.findall(r'(\\d+(?=\\s?ml?\\b)|\\d+(?=\\s?lb?\\b))', str(myText))\n",
        "for i in t:\n",
        "  print(int(i),end=' ')"
      ],
      "id": "9a920c6c-8156-43cf-912e-18287a6b5205"
    },
    {
      "cell_type": "markdown",
      "metadata": {
        "id": "c730900e-5d30-490c-b53e-1ab271d84041"
      },
      "source": [
        "##### i) Extract only the word in between pair of symbols \\\\$. Count number of words you have found between pairs of dollar sign \\\\$"
      ],
      "id": "c730900e-5d30-490c-b53e-1ab271d84041"
    },
    {
      "cell_type": "code",
      "execution_count": 32,
      "metadata": {
        "colab": {
          "base_uri": "https://localhost:8080/"
        },
        "id": "20daf141-048f-4244-abde-e339efde03a6",
        "outputId": "34302aca-f81f-46ef-c117-7ecce49e4a75"
      },
      "outputs": [
        {
          "output_type": "stream",
          "name": "stdout",
          "text": [
            "['written', 'between', 'signs']\n",
            "3\n"
          ]
        }
      ],
      "source": [
        "#TODO\n",
        "myText = 'Math symbols are $written$ in $between$ dollar $signs$'\n",
        "text=re.findall(r'\\$(.*?)\\$',myText)\n",
        "print(text)\n",
        "print(len(text))"
      ],
      "id": "20daf141-048f-4244-abde-e339efde03a6"
    },
    {
      "cell_type": "markdown",
      "metadata": {
        "id": "c7d17049-c284-4f51-9293-82cf84c1f331"
      },
      "source": [
        "##### j) Extract all the valid equations in the following text."
      ],
      "id": "c7d17049-c284-4f51-9293-82cf84c1f331"
    },
    {
      "cell_type": "code",
      "execution_count": 33,
      "metadata": {
        "colab": {
          "base_uri": "https://localhost:8080/"
        },
        "id": "63537259-79b1-4c38-b4db-526dfd2d6735",
        "outputId": "c9cd5c4d-8c33-4ab2-de9b-201caccfcdfb"
      },
      "outputs": [
        {
          "output_type": "execute_result",
          "data": {
            "text/plain": [
              "['2+3=5', '2*3=6']"
            ]
          },
          "metadata": {},
          "execution_count": 33
        }
      ],
      "source": [
        "#TODO\n",
        "myText = 'equation1: 2+3=5, equation2 is: 2*3=6, do not extract 2w3=6'\n",
        "re.findall(r'\\b\\w+(?:[+\\*]\\w+)+=\\w+\\b', str(myText))"
      ],
      "id": "63537259-79b1-4c38-b4db-526dfd2d6735"
    }
  ],
  "metadata": {
    "colab": {
      "provenance": []
    },
    "kernelspec": {
      "display_name": "Python 3 (ipykernel)",
      "language": "python",
      "name": "python3"
    },
    "language_info": {
      "codemirror_mode": {
        "name": "ipython",
        "version": 3
      },
      "file_extension": ".py",
      "mimetype": "text/x-python",
      "name": "python",
      "nbconvert_exporter": "python",
      "pygments_lexer": "ipython3",
      "version": "3.8.10"
    }
  },
  "nbformat": 4,
  "nbformat_minor": 5
}