{
 "cells": [
  {
   "cell_type": "markdown",
   "id": "29f5e5d5-7cc9-4dc4-8d4a-8cca2ba1bd63",
   "metadata": {
    "id": "29f5e5d5-7cc9-4dc4-8d4a-8cca2ba1bd63"
   },
   "source": [
    "# ۱-چیست و شرط لازم برای استفاده از آنها چیستensemble learning روش های"
   ]
  },
  {
   "cell_type": "markdown",
   "id": "4347ed19-ee4b-4392-8012-eb4dcc47b7a8",
   "metadata": {
    "id": "4347ed19-ee4b-4392-8012-eb4dcc47b7a8"
   },
   "source": [
    "#### voting classifiers, bagging and pasting ensembles, random forests, and boosting, and stacking ensembles                                 \n",
    "#### Ensemble learning is primarily used to improve the (classification, prediction, function approximation, performance of a model, or reduce the likelihood of an unfortunate selection of a poor one"
   ]
  },
  {
   "cell_type": "markdown",
   "id": "4fb4cd6c-fe75-4235-9f36-f5e0ae762d97",
   "metadata": {
    "id": "4fb4cd6c-fe75-4235-9f36-f5e0ae762d97"
   },
   "source": [
    "# ۲- را برای بهبود پیشنهاد میدهید ensembleشرکتی چند مدل برای پیش بینی قیمت نهایی کالا ترین کرده ولی همه ی آنها حتی روی داده های ترین هم به خوبی پاسخگو نیستند کدام روش"
   ]
  },
  {
   "cell_type": "markdown",
   "id": "f7d0b63c-fcaa-4bd7-818c-ad1196aa51d2",
   "metadata": {
    "id": "f7d0b63c-fcaa-4bd7-818c-ad1196aa51d2"
   },
   "source": [
    "#### when the model has high bias and the accuracy of train is very low so we should use BOOSTING to improve the performance of model       \n",
    "#### but when the model has high variane and the accuracy of train is very high we should use Bagging to improve the performance of model"
   ]
  },
  {
   "cell_type": "markdown",
   "id": "91508051-f77b-47c7-9e65-a8919ca04a3c",
   "metadata": {
    "id": "91508051-f77b-47c7-9e65-a8919ca04a3c"
   },
   "source": [
    "# ۳- دو معیار برای پیدا کردن ریشه در درخت تصمیم چیست و سه الگوریتم برای ایجاد آن را نام ببرید"
   ]
  },
  {
   "cell_type": "markdown",
   "id": "5df0705a-8169-4964-99cd-40bd198e73fc",
   "metadata": {
    "id": "5df0705a-8169-4964-99cd-40bd198e73fc"
   },
   "source": [
    "#### gini,entropy                                                 \n",
    "#### There are 4 popular types of decision tree algorithms: ID3, CART (Classification and Regression Trees), Chi-Square and Reduction in Variance."
   ]
  },
  {
   "cell_type": "markdown",
   "id": "5a320be6-df7a-41e5-9993-ae62cbe1cd8f",
   "metadata": {
    "id": "5a320be6-df7a-41e5-9993-ae62cbe1cd8f"
   },
   "source": [
    "# ۴-  چی بودbootstrapمنظور از"
   ]
  },
  {
   "cell_type": "markdown",
   "id": "db2c5ea8-5ba3-40bd-82f0-dda948725b47",
   "metadata": {
    "id": "db2c5ea8-5ba3-40bd-82f0-dda948725b47"
   },
   "source": [
    "#### bootstrapping is random sampling with replacement from the available training data. Bagging (= bootstrap aggregation) is performing it many times and training an estimator for each bootstrapped dataset"
   ]
  },
  {
   "cell_type": "markdown",
   "id": "891f5c1c-1f06-46c0-ae05-f49c84cd9854",
   "metadata": {
    "id": "891f5c1c-1f06-46c0-ae05-f49c84cd9854"
   },
   "source": [
    "# ۵-  را میتوان روی داده های لیبل دار زد ؟ چه روشی پیشنهاد شماست؟pcaآیا"
   ]
  },
  {
   "cell_type": "markdown",
   "id": "c90d2881-a5e1-4856-a49c-6e63953c88b8",
   "metadata": {
    "id": "c90d2881-a5e1-4856-a49c-6e63953c88b8"
   },
   "source": [
    "#### yes, we can use PCA for both supervised(labled) and unsupervised learning(unlabled)\n",
    "#### also we can use LDA for just supervised learning "
   ]
  },
  {
   "cell_type": "markdown",
   "id": "6a87ef25-f59c-486f-958b-edc79ce8049b",
   "metadata": {
    "id": "6a87ef25-f59c-486f-958b-edc79ce8049b"
   },
   "source": [
    "# ۶-نیاز به استقلال دارد random forest چرا"
   ]
  },
  {
   "cell_type": "markdown",
   "id": "ef22ca2c-d8f0-4227-8764-9e5680b7ccc8",
   "metadata": {
    "id": "ef22ca2c-d8f0-4227-8764-9e5680b7ccc8"
   },
   "source": [
    "\n",
    "#### each individual trees are independent of each other because they consider different subset of features and samples"
   ]
  },
  {
   "cell_type": "markdown",
   "id": "545338d1-b978-4041-8537-b2b2cd2b8cad",
   "metadata": {
    "id": "545338d1-b978-4041-8537-b2b2cd2b8cad",
    "tags": []
   },
   "source": [
    "# ‍7-  دو دیتای داده شده را با درخت تصمیم پیش بینی کرده و درخت را پرینت بگیریدirisروی دیتاست "
   ]
  },
  {
   "cell_type": "code",
   "execution_count": 2,
   "id": "52955a26-7956-4540-b774-7494d23f8941",
   "metadata": {
    "id": "52955a26-7956-4540-b774-7494d23f8941"
   },
   "outputs": [],
   "source": [
    "from sklearn.datasets import load_iris\n",
    "import pandas as pd\n",
    "import numpy as np"
   ]
  },
  {
   "cell_type": "code",
   "execution_count": 2,
   "id": "71603e92-70f0-4ea9-9879-b797fd598bad",
   "metadata": {
    "id": "71603e92-70f0-4ea9-9879-b797fd598bad"
   },
   "outputs": [],
   "source": [
    "iris = load_iris()"
   ]
  },
  {
   "cell_type": "code",
   "execution_count": 3,
   "id": "7512a331-f04f-42cd-804e-3bdb225761ad",
   "metadata": {
    "id": "7512a331-f04f-42cd-804e-3bdb225761ad"
   },
   "outputs": [],
   "source": [
    "X = pd.DataFrame(iris.data, columns=iris.feature_names)\n",
    "y = pd.Categorical.from_codes(iris.target, iris.target_names)"
   ]
  },
  {
   "cell_type": "code",
   "execution_count": 4,
   "id": "a215e0c5-0dc8-4d8d-a508-2360252045fd",
   "metadata": {
    "colab": {
     "base_uri": "https://localhost:8080/",
     "height": 206
    },
    "id": "a215e0c5-0dc8-4d8d-a508-2360252045fd",
    "outputId": "f2f59171-b70f-4363-c53b-94079dce07e3"
   },
   "outputs": [
    {
     "data": {
      "text/html": [
       "\n",
       "  <div id=\"df-8d54b5ec-c125-46ca-a2b3-f39926544b3f\">\n",
       "    <div class=\"colab-df-container\">\n",
       "      <div>\n",
       "<style scoped>\n",
       "    .dataframe tbody tr th:only-of-type {\n",
       "        vertical-align: middle;\n",
       "    }\n",
       "\n",
       "    .dataframe tbody tr th {\n",
       "        vertical-align: top;\n",
       "    }\n",
       "\n",
       "    .dataframe thead th {\n",
       "        text-align: right;\n",
       "    }\n",
       "</style>\n",
       "<table border=\"1\" class=\"dataframe\">\n",
       "  <thead>\n",
       "    <tr style=\"text-align: right;\">\n",
       "      <th></th>\n",
       "      <th>sepal length (cm)</th>\n",
       "      <th>sepal width (cm)</th>\n",
       "      <th>petal length (cm)</th>\n",
       "      <th>petal width (cm)</th>\n",
       "    </tr>\n",
       "  </thead>\n",
       "  <tbody>\n",
       "    <tr>\n",
       "      <th>0</th>\n",
       "      <td>5.1</td>\n",
       "      <td>3.5</td>\n",
       "      <td>1.4</td>\n",
       "      <td>0.2</td>\n",
       "    </tr>\n",
       "    <tr>\n",
       "      <th>1</th>\n",
       "      <td>4.9</td>\n",
       "      <td>3.0</td>\n",
       "      <td>1.4</td>\n",
       "      <td>0.2</td>\n",
       "    </tr>\n",
       "    <tr>\n",
       "      <th>2</th>\n",
       "      <td>4.7</td>\n",
       "      <td>3.2</td>\n",
       "      <td>1.3</td>\n",
       "      <td>0.2</td>\n",
       "    </tr>\n",
       "    <tr>\n",
       "      <th>3</th>\n",
       "      <td>4.6</td>\n",
       "      <td>3.1</td>\n",
       "      <td>1.5</td>\n",
       "      <td>0.2</td>\n",
       "    </tr>\n",
       "    <tr>\n",
       "      <th>4</th>\n",
       "      <td>5.0</td>\n",
       "      <td>3.6</td>\n",
       "      <td>1.4</td>\n",
       "      <td>0.2</td>\n",
       "    </tr>\n",
       "  </tbody>\n",
       "</table>\n",
       "</div>\n",
       "      <button class=\"colab-df-convert\" onclick=\"convertToInteractive('df-8d54b5ec-c125-46ca-a2b3-f39926544b3f')\"\n",
       "              title=\"Convert this dataframe to an interactive table.\"\n",
       "              style=\"display:none;\">\n",
       "        \n",
       "  <svg xmlns=\"http://www.w3.org/2000/svg\" height=\"24px\"viewBox=\"0 0 24 24\"\n",
       "       width=\"24px\">\n",
       "    <path d=\"M0 0h24v24H0V0z\" fill=\"none\"/>\n",
       "    <path d=\"M18.56 5.44l.94 2.06.94-2.06 2.06-.94-2.06-.94-.94-2.06-.94 2.06-2.06.94zm-11 1L8.5 8.5l.94-2.06 2.06-.94-2.06-.94L8.5 2.5l-.94 2.06-2.06.94zm10 10l.94 2.06.94-2.06 2.06-.94-2.06-.94-.94-2.06-.94 2.06-2.06.94z\"/><path d=\"M17.41 7.96l-1.37-1.37c-.4-.4-.92-.59-1.43-.59-.52 0-1.04.2-1.43.59L10.3 9.45l-7.72 7.72c-.78.78-.78 2.05 0 2.83L4 21.41c.39.39.9.59 1.41.59.51 0 1.02-.2 1.41-.59l7.78-7.78 2.81-2.81c.8-.78.8-2.07 0-2.86zM5.41 20L4 18.59l7.72-7.72 1.47 1.35L5.41 20z\"/>\n",
       "  </svg>\n",
       "      </button>\n",
       "      \n",
       "  <style>\n",
       "    .colab-df-container {\n",
       "      display:flex;\n",
       "      flex-wrap:wrap;\n",
       "      gap: 12px;\n",
       "    }\n",
       "\n",
       "    .colab-df-convert {\n",
       "      background-color: #E8F0FE;\n",
       "      border: none;\n",
       "      border-radius: 50%;\n",
       "      cursor: pointer;\n",
       "      display: none;\n",
       "      fill: #1967D2;\n",
       "      height: 32px;\n",
       "      padding: 0 0 0 0;\n",
       "      width: 32px;\n",
       "    }\n",
       "\n",
       "    .colab-df-convert:hover {\n",
       "      background-color: #E2EBFA;\n",
       "      box-shadow: 0px 1px 2px rgba(60, 64, 67, 0.3), 0px 1px 3px 1px rgba(60, 64, 67, 0.15);\n",
       "      fill: #174EA6;\n",
       "    }\n",
       "\n",
       "    [theme=dark] .colab-df-convert {\n",
       "      background-color: #3B4455;\n",
       "      fill: #D2E3FC;\n",
       "    }\n",
       "\n",
       "    [theme=dark] .colab-df-convert:hover {\n",
       "      background-color: #434B5C;\n",
       "      box-shadow: 0px 1px 3px 1px rgba(0, 0, 0, 0.15);\n",
       "      filter: drop-shadow(0px 1px 2px rgba(0, 0, 0, 0.3));\n",
       "      fill: #FFFFFF;\n",
       "    }\n",
       "  </style>\n",
       "\n",
       "      <script>\n",
       "        const buttonEl =\n",
       "          document.querySelector('#df-8d54b5ec-c125-46ca-a2b3-f39926544b3f button.colab-df-convert');\n",
       "        buttonEl.style.display =\n",
       "          google.colab.kernel.accessAllowed ? 'block' : 'none';\n",
       "\n",
       "        async function convertToInteractive(key) {\n",
       "          const element = document.querySelector('#df-8d54b5ec-c125-46ca-a2b3-f39926544b3f');\n",
       "          const dataTable =\n",
       "            await google.colab.kernel.invokeFunction('convertToInteractive',\n",
       "                                                     [key], {});\n",
       "          if (!dataTable) return;\n",
       "\n",
       "          const docLinkHtml = 'Like what you see? Visit the ' +\n",
       "            '<a target=\"_blank\" href=https://colab.research.google.com/notebooks/data_table.ipynb>data table notebook</a>'\n",
       "            + ' to learn more about interactive tables.';\n",
       "          element.innerHTML = '';\n",
       "          dataTable['output_type'] = 'display_data';\n",
       "          await google.colab.output.renderOutput(dataTable, element);\n",
       "          const docLink = document.createElement('div');\n",
       "          docLink.innerHTML = docLinkHtml;\n",
       "          element.appendChild(docLink);\n",
       "        }\n",
       "      </script>\n",
       "    </div>\n",
       "  </div>\n",
       "  "
      ],
      "text/plain": [
       "   sepal length (cm)  sepal width (cm)  petal length (cm)  petal width (cm)\n",
       "0                5.1               3.5                1.4               0.2\n",
       "1                4.9               3.0                1.4               0.2\n",
       "2                4.7               3.2                1.3               0.2\n",
       "3                4.6               3.1                1.5               0.2\n",
       "4                5.0               3.6                1.4               0.2"
      ]
     },
     "execution_count": 4,
     "metadata": {},
     "output_type": "execute_result"
    }
   ],
   "source": [
    "X.head()"
   ]
  },
  {
   "cell_type": "code",
   "execution_count": 5,
   "id": "b50138c4-3cf8-4895-8036-57a0d0d58735",
   "metadata": {
    "id": "b50138c4-3cf8-4895-8036-57a0d0d58735"
   },
   "outputs": [],
   "source": [
    "y = pd.get_dummies(y)"
   ]
  },
  {
   "cell_type": "code",
   "execution_count": 6,
   "id": "0796bf4c-359d-41c9-a747-ec44cb80c709",
   "metadata": {
    "id": "0796bf4c-359d-41c9-a747-ec44cb80c709"
   },
   "outputs": [],
   "source": [
    "from sklearn.model_selection import train_test_split"
   ]
  },
  {
   "cell_type": "code",
   "execution_count": 7,
   "id": "a719b5c2-8068-4093-ab8f-b3711647a12b",
   "metadata": {
    "id": "a719b5c2-8068-4093-ab8f-b3711647a12b"
   },
   "outputs": [],
   "source": [
    "X_train, X_test, y_train, y_test = train_test_split(X, y, random_state=1)"
   ]
  },
  {
   "cell_type": "code",
   "execution_count": 8,
   "id": "5e6fb64f-10d7-4ef5-9fe1-7d8c72773d9d",
   "metadata": {
    "id": "5e6fb64f-10d7-4ef5-9fe1-7d8c72773d9d"
   },
   "outputs": [],
   "source": [
    "from sklearn.tree import DecisionTreeClassifier\n",
    "dt = DecisionTreeClassifier(random_state=42)"
   ]
  },
  {
   "cell_type": "code",
   "execution_count": 9,
   "id": "cdba99ae-2c81-42f3-9453-bf48766a0e25",
   "metadata": {
    "colab": {
     "base_uri": "https://localhost:8080/"
    },
    "id": "cdba99ae-2c81-42f3-9453-bf48766a0e25",
    "outputId": "90916bc4-4ef1-44fa-e706-2026b09191c5"
   },
   "outputs": [
    {
     "data": {
      "text/plain": [
       "DecisionTreeClassifier(random_state=42)"
      ]
     },
     "execution_count": 9,
     "metadata": {},
     "output_type": "execute_result"
    }
   ],
   "source": [
    "dt.fit(X_train, y_train)"
   ]
  },
  {
   "cell_type": "code",
   "execution_count": 10,
   "id": "dddadde3-8131-4155-ada2-14ef298ab833",
   "metadata": {
    "id": "dddadde3-8131-4155-ada2-14ef298ab833"
   },
   "outputs": [],
   "source": [
    "import graphviz\n",
    "from sklearn.tree import export_graphviz\n",
    "from IPython.display import display\n"
   ]
  },
  {
   "cell_type": "code",
   "execution_count": 11,
   "id": "5294a153-7a90-4996-bd7c-d5e45958b162",
   "metadata": {
    "colab": {
     "base_uri": "https://localhost:8080/",
     "height": 1000
    },
    "id": "5294a153-7a90-4996-bd7c-d5e45958b162",
    "outputId": "d2be0f1f-01f7-479c-a1c6-f87c872943c0"
   },
   "outputs": [
    {
     "data": {
      "image/svg+xml": [
       "<?xml version=\"1.0\" encoding=\"UTF-8\" standalone=\"no\"?>\n",
       "<!DOCTYPE svg PUBLIC \"-//W3C//DTD SVG 1.1//EN\"\n",
       " \"http://www.w3.org/Graphics/SVG/1.1/DTD/svg11.dtd\">\n",
       "<!-- Generated by graphviz version 2.43.0 (0)\n",
       " -->\n",
       "<!-- Title: Tree Pages: 1 -->\n",
       "<svg width=\"523pt\" height=\"761pt\"\n",
       " viewBox=\"0.00 0.00 523.00 761.00\" xmlns=\"http://www.w3.org/2000/svg\" xmlns:xlink=\"http://www.w3.org/1999/xlink\">\n",
       "<g id=\"graph0\" class=\"graph\" transform=\"scale(1 1) rotate(0) translate(4 757)\">\n",
       "<title>Tree</title>\n",
       "<polygon fill=\"white\" stroke=\"transparent\" points=\"-4,4 -4,-757 519,-757 519,4 -4,4\"/>\n",
       "<!-- 0 -->\n",
       "<g id=\"node1\" class=\"node\">\n",
       "<title>0</title>\n",
       "<polygon fill=\"none\" stroke=\"black\" points=\"276.5,-753 163.5,-753 163.5,-655 276.5,-655 276.5,-753\"/>\n",
       "<text text-anchor=\"middle\" x=\"220\" y=\"-737.8\" font-family=\"Helvetica,sans-Serif\" font-size=\"14.00\">X[2] &lt;= 2.6</text>\n",
       "<text text-anchor=\"middle\" x=\"220\" y=\"-722.8\" font-family=\"Helvetica,sans-Serif\" font-size=\"14.00\">gini = 0.443</text>\n",
       "<text text-anchor=\"middle\" x=\"220\" y=\"-707.8\" font-family=\"Helvetica,sans-Serif\" font-size=\"14.00\">samples = 112</text>\n",
       "<text text-anchor=\"middle\" x=\"220\" y=\"-692.8\" font-family=\"Helvetica,sans-Serif\" font-size=\"14.00\">value = [[75, 37]</text>\n",
       "<text text-anchor=\"middle\" x=\"220\" y=\"-677.8\" font-family=\"Helvetica,sans-Serif\" font-size=\"14.00\">[78, 34]</text>\n",
       "<text text-anchor=\"middle\" x=\"220\" y=\"-662.8\" font-family=\"Helvetica,sans-Serif\" font-size=\"14.00\">[71, 41]]</text>\n",
       "</g>\n",
       "<!-- 1 -->\n",
       "<g id=\"node2\" class=\"node\">\n",
       "<title>1</title>\n",
       "<polygon fill=\"none\" stroke=\"black\" points=\"211,-611.5 105,-611.5 105,-528.5 211,-528.5 211,-611.5\"/>\n",
       "<text text-anchor=\"middle\" x=\"158\" y=\"-596.3\" font-family=\"Helvetica,sans-Serif\" font-size=\"14.00\">gini = 0.0</text>\n",
       "<text text-anchor=\"middle\" x=\"158\" y=\"-581.3\" font-family=\"Helvetica,sans-Serif\" font-size=\"14.00\">samples = 37</text>\n",
       "<text text-anchor=\"middle\" x=\"158\" y=\"-566.3\" font-family=\"Helvetica,sans-Serif\" font-size=\"14.00\">value = [[0, 37]</text>\n",
       "<text text-anchor=\"middle\" x=\"158\" y=\"-551.3\" font-family=\"Helvetica,sans-Serif\" font-size=\"14.00\">[37, 0]</text>\n",
       "<text text-anchor=\"middle\" x=\"158\" y=\"-536.3\" font-family=\"Helvetica,sans-Serif\" font-size=\"14.00\">[37, 0]]</text>\n",
       "</g>\n",
       "<!-- 0&#45;&gt;1 -->\n",
       "<g id=\"edge1\" class=\"edge\">\n",
       "<title>0&#45;&gt;1</title>\n",
       "<path fill=\"none\" stroke=\"black\" d=\"M197.44,-654.97C192.25,-643.91 186.71,-632.13 181.48,-620.99\"/>\n",
       "<polygon fill=\"black\" stroke=\"black\" points=\"184.59,-619.38 177.17,-611.82 178.25,-622.36 184.59,-619.38\"/>\n",
       "<text text-anchor=\"middle\" x=\"168.69\" y=\"-631.63\" font-family=\"Helvetica,sans-Serif\" font-size=\"14.00\">True</text>\n",
       "</g>\n",
       "<!-- 2 -->\n",
       "<g id=\"node3\" class=\"node\">\n",
       "<title>2</title>\n",
       "<polygon fill=\"none\" stroke=\"black\" points=\"335,-619 229,-619 229,-521 335,-521 335,-619\"/>\n",
       "<text text-anchor=\"middle\" x=\"282\" y=\"-603.8\" font-family=\"Helvetica,sans-Serif\" font-size=\"14.00\">X[3] &lt;= 1.65</text>\n",
       "<text text-anchor=\"middle\" x=\"282\" y=\"-588.8\" font-family=\"Helvetica,sans-Serif\" font-size=\"14.00\">gini = 0.33</text>\n",
       "<text text-anchor=\"middle\" x=\"282\" y=\"-573.8\" font-family=\"Helvetica,sans-Serif\" font-size=\"14.00\">samples = 75</text>\n",
       "<text text-anchor=\"middle\" x=\"282\" y=\"-558.8\" font-family=\"Helvetica,sans-Serif\" font-size=\"14.00\">value = [[75, 0]</text>\n",
       "<text text-anchor=\"middle\" x=\"282\" y=\"-543.8\" font-family=\"Helvetica,sans-Serif\" font-size=\"14.00\">[41, 34]</text>\n",
       "<text text-anchor=\"middle\" x=\"282\" y=\"-528.8\" font-family=\"Helvetica,sans-Serif\" font-size=\"14.00\">[34, 41]]</text>\n",
       "</g>\n",
       "<!-- 0&#45;&gt;2 -->\n",
       "<g id=\"edge2\" class=\"edge\">\n",
       "<title>0&#45;&gt;2</title>\n",
       "<path fill=\"none\" stroke=\"black\" d=\"M242.56,-654.97C246.62,-646.33 250.89,-637.24 255.06,-628.36\"/>\n",
       "<polygon fill=\"black\" stroke=\"black\" points=\"258.27,-629.75 259.35,-619.21 251.93,-626.78 258.27,-629.75\"/>\n",
       "<text text-anchor=\"middle\" x=\"267.84\" y=\"-639.03\" font-family=\"Helvetica,sans-Serif\" font-size=\"14.00\">False</text>\n",
       "</g>\n",
       "<!-- 3 -->\n",
       "<g id=\"node4\" class=\"node\">\n",
       "<title>3</title>\n",
       "<polygon fill=\"none\" stroke=\"black\" points=\"273,-485 167,-485 167,-387 273,-387 273,-485\"/>\n",
       "<text text-anchor=\"middle\" x=\"220\" y=\"-469.8\" font-family=\"Helvetica,sans-Serif\" font-size=\"14.00\">X[2] &lt;= 4.95</text>\n",
       "<text text-anchor=\"middle\" x=\"220\" y=\"-454.8\" font-family=\"Helvetica,sans-Serif\" font-size=\"14.00\">gini = 0.129</text>\n",
       "<text text-anchor=\"middle\" x=\"220\" y=\"-439.8\" font-family=\"Helvetica,sans-Serif\" font-size=\"14.00\">samples = 37</text>\n",
       "<text text-anchor=\"middle\" x=\"220\" y=\"-424.8\" font-family=\"Helvetica,sans-Serif\" font-size=\"14.00\">value = [[37, 0]</text>\n",
       "<text text-anchor=\"middle\" x=\"220\" y=\"-409.8\" font-family=\"Helvetica,sans-Serif\" font-size=\"14.00\">[4, 33]</text>\n",
       "<text text-anchor=\"middle\" x=\"220\" y=\"-394.8\" font-family=\"Helvetica,sans-Serif\" font-size=\"14.00\">[33, 4]]</text>\n",
       "</g>\n",
       "<!-- 2&#45;&gt;3 -->\n",
       "<g id=\"edge3\" class=\"edge\">\n",
       "<title>2&#45;&gt;3</title>\n",
       "<path fill=\"none\" stroke=\"black\" d=\"M259.44,-520.97C255.38,-512.33 251.11,-503.24 246.94,-494.36\"/>\n",
       "<polygon fill=\"black\" stroke=\"black\" points=\"250.07,-492.78 242.65,-485.21 243.73,-495.75 250.07,-492.78\"/>\n",
       "</g>\n",
       "<!-- 10 -->\n",
       "<g id=\"node11\" class=\"node\">\n",
       "<title>10</title>\n",
       "<polygon fill=\"none\" stroke=\"black\" points=\"397,-485 291,-485 291,-387 397,-387 397,-485\"/>\n",
       "<text text-anchor=\"middle\" x=\"344\" y=\"-469.8\" font-family=\"Helvetica,sans-Serif\" font-size=\"14.00\">X[2] &lt;= 4.85</text>\n",
       "<text text-anchor=\"middle\" x=\"344\" y=\"-454.8\" font-family=\"Helvetica,sans-Serif\" font-size=\"14.00\">gini = 0.034</text>\n",
       "<text text-anchor=\"middle\" x=\"344\" y=\"-439.8\" font-family=\"Helvetica,sans-Serif\" font-size=\"14.00\">samples = 38</text>\n",
       "<text text-anchor=\"middle\" x=\"344\" y=\"-424.8\" font-family=\"Helvetica,sans-Serif\" font-size=\"14.00\">value = [[38, 0]</text>\n",
       "<text text-anchor=\"middle\" x=\"344\" y=\"-409.8\" font-family=\"Helvetica,sans-Serif\" font-size=\"14.00\">[37, 1]</text>\n",
       "<text text-anchor=\"middle\" x=\"344\" y=\"-394.8\" font-family=\"Helvetica,sans-Serif\" font-size=\"14.00\">[1, 37]]</text>\n",
       "</g>\n",
       "<!-- 2&#45;&gt;10 -->\n",
       "<g id=\"edge10\" class=\"edge\">\n",
       "<title>2&#45;&gt;10</title>\n",
       "<path fill=\"none\" stroke=\"black\" d=\"M304.56,-520.97C308.62,-512.33 312.89,-503.24 317.06,-494.36\"/>\n",
       "<polygon fill=\"black\" stroke=\"black\" points=\"320.27,-495.75 321.35,-485.21 313.93,-492.78 320.27,-495.75\"/>\n",
       "</g>\n",
       "<!-- 4 -->\n",
       "<g id=\"node5\" class=\"node\">\n",
       "<title>4</title>\n",
       "<polygon fill=\"none\" stroke=\"black\" points=\"155,-343.5 49,-343.5 49,-260.5 155,-260.5 155,-343.5\"/>\n",
       "<text text-anchor=\"middle\" x=\"102\" y=\"-328.3\" font-family=\"Helvetica,sans-Serif\" font-size=\"14.00\">gini = 0.0</text>\n",
       "<text text-anchor=\"middle\" x=\"102\" y=\"-313.3\" font-family=\"Helvetica,sans-Serif\" font-size=\"14.00\">samples = 32</text>\n",
       "<text text-anchor=\"middle\" x=\"102\" y=\"-298.3\" font-family=\"Helvetica,sans-Serif\" font-size=\"14.00\">value = [[32, 0]</text>\n",
       "<text text-anchor=\"middle\" x=\"102\" y=\"-283.3\" font-family=\"Helvetica,sans-Serif\" font-size=\"14.00\">[0, 32]</text>\n",
       "<text text-anchor=\"middle\" x=\"102\" y=\"-268.3\" font-family=\"Helvetica,sans-Serif\" font-size=\"14.00\">[32, 0]]</text>\n",
       "</g>\n",
       "<!-- 3&#45;&gt;4 -->\n",
       "<g id=\"edge4\" class=\"edge\">\n",
       "<title>3&#45;&gt;4</title>\n",
       "<path fill=\"none\" stroke=\"black\" d=\"M177.07,-386.97C166.69,-375.36 155.59,-362.95 145.2,-351.32\"/>\n",
       "<polygon fill=\"black\" stroke=\"black\" points=\"147.76,-348.94 138.49,-343.82 142.54,-353.6 147.76,-348.94\"/>\n",
       "</g>\n",
       "<!-- 5 -->\n",
       "<g id=\"node6\" class=\"node\">\n",
       "<title>5</title>\n",
       "<polygon fill=\"none\" stroke=\"black\" points=\"271,-351 173,-351 173,-253 271,-253 271,-351\"/>\n",
       "<text text-anchor=\"middle\" x=\"222\" y=\"-335.8\" font-family=\"Helvetica,sans-Serif\" font-size=\"14.00\">X[0] &lt;= 6.05</text>\n",
       "<text text-anchor=\"middle\" x=\"222\" y=\"-320.8\" font-family=\"Helvetica,sans-Serif\" font-size=\"14.00\">gini = 0.213</text>\n",
       "<text text-anchor=\"middle\" x=\"222\" y=\"-305.8\" font-family=\"Helvetica,sans-Serif\" font-size=\"14.00\">samples = 5</text>\n",
       "<text text-anchor=\"middle\" x=\"222\" y=\"-290.8\" font-family=\"Helvetica,sans-Serif\" font-size=\"14.00\">value = [[5, 0]</text>\n",
       "<text text-anchor=\"middle\" x=\"222\" y=\"-275.8\" font-family=\"Helvetica,sans-Serif\" font-size=\"14.00\">[4, 1]</text>\n",
       "<text text-anchor=\"middle\" x=\"222\" y=\"-260.8\" font-family=\"Helvetica,sans-Serif\" font-size=\"14.00\">[1, 4]]</text>\n",
       "</g>\n",
       "<!-- 3&#45;&gt;5 -->\n",
       "<g id=\"edge5\" class=\"edge\">\n",
       "<title>3&#45;&gt;5</title>\n",
       "<path fill=\"none\" stroke=\"black\" d=\"M220.73,-386.97C220.85,-378.69 220.98,-370 221.11,-361.48\"/>\n",
       "<polygon fill=\"black\" stroke=\"black\" points=\"224.62,-361.27 221.27,-351.21 217.62,-361.16 224.62,-361.27\"/>\n",
       "</g>\n",
       "<!-- 6 -->\n",
       "<g id=\"node7\" class=\"node\">\n",
       "<title>6</title>\n",
       "<polygon fill=\"none\" stroke=\"black\" points=\"156,-217 58,-217 58,-119 156,-119 156,-217\"/>\n",
       "<text text-anchor=\"middle\" x=\"107\" y=\"-201.8\" font-family=\"Helvetica,sans-Serif\" font-size=\"14.00\">X[1] &lt;= 2.45</text>\n",
       "<text text-anchor=\"middle\" x=\"107\" y=\"-186.8\" font-family=\"Helvetica,sans-Serif\" font-size=\"14.00\">gini = 0.333</text>\n",
       "<text text-anchor=\"middle\" x=\"107\" y=\"-171.8\" font-family=\"Helvetica,sans-Serif\" font-size=\"14.00\">samples = 2</text>\n",
       "<text text-anchor=\"middle\" x=\"107\" y=\"-156.8\" font-family=\"Helvetica,sans-Serif\" font-size=\"14.00\">value = [[2, 0]</text>\n",
       "<text text-anchor=\"middle\" x=\"107\" y=\"-141.8\" font-family=\"Helvetica,sans-Serif\" font-size=\"14.00\">[1, 1]</text>\n",
       "<text text-anchor=\"middle\" x=\"107\" y=\"-126.8\" font-family=\"Helvetica,sans-Serif\" font-size=\"14.00\">[1, 1]]</text>\n",
       "</g>\n",
       "<!-- 5&#45;&gt;6 -->\n",
       "<g id=\"edge6\" class=\"edge\">\n",
       "<title>5&#45;&gt;6</title>\n",
       "<path fill=\"none\" stroke=\"black\" d=\"M180.16,-252.97C172.23,-243.87 163.87,-234.28 155.75,-224.96\"/>\n",
       "<polygon fill=\"black\" stroke=\"black\" points=\"158.21,-222.45 149,-217.21 152.93,-227.05 158.21,-222.45\"/>\n",
       "</g>\n",
       "<!-- 9 -->\n",
       "<g id=\"node10\" class=\"node\">\n",
       "<title>9</title>\n",
       "<polygon fill=\"none\" stroke=\"black\" points=\"272,-209.5 174,-209.5 174,-126.5 272,-126.5 272,-209.5\"/>\n",
       "<text text-anchor=\"middle\" x=\"223\" y=\"-194.3\" font-family=\"Helvetica,sans-Serif\" font-size=\"14.00\">gini = 0.0</text>\n",
       "<text text-anchor=\"middle\" x=\"223\" y=\"-179.3\" font-family=\"Helvetica,sans-Serif\" font-size=\"14.00\">samples = 3</text>\n",
       "<text text-anchor=\"middle\" x=\"223\" y=\"-164.3\" font-family=\"Helvetica,sans-Serif\" font-size=\"14.00\">value = [[3, 0]</text>\n",
       "<text text-anchor=\"middle\" x=\"223\" y=\"-149.3\" font-family=\"Helvetica,sans-Serif\" font-size=\"14.00\">[3, 0]</text>\n",
       "<text text-anchor=\"middle\" x=\"223\" y=\"-134.3\" font-family=\"Helvetica,sans-Serif\" font-size=\"14.00\">[0, 3]]</text>\n",
       "</g>\n",
       "<!-- 5&#45;&gt;9 -->\n",
       "<g id=\"edge9\" class=\"edge\">\n",
       "<title>5&#45;&gt;9</title>\n",
       "<path fill=\"none\" stroke=\"black\" d=\"M222.36,-252.97C222.45,-242.25 222.53,-230.84 222.61,-219.99\"/>\n",
       "<polygon fill=\"black\" stroke=\"black\" points=\"226.11,-219.84 222.69,-209.82 219.12,-219.79 226.11,-219.84\"/>\n",
       "</g>\n",
       "<!-- 7 -->\n",
       "<g id=\"node8\" class=\"node\">\n",
       "<title>7</title>\n",
       "<polygon fill=\"none\" stroke=\"black\" points=\"98,-83 0,-83 0,0 98,0 98,-83\"/>\n",
       "<text text-anchor=\"middle\" x=\"49\" y=\"-67.8\" font-family=\"Helvetica,sans-Serif\" font-size=\"14.00\">gini = 0.0</text>\n",
       "<text text-anchor=\"middle\" x=\"49\" y=\"-52.8\" font-family=\"Helvetica,sans-Serif\" font-size=\"14.00\">samples = 1</text>\n",
       "<text text-anchor=\"middle\" x=\"49\" y=\"-37.8\" font-family=\"Helvetica,sans-Serif\" font-size=\"14.00\">value = [[1, 0]</text>\n",
       "<text text-anchor=\"middle\" x=\"49\" y=\"-22.8\" font-family=\"Helvetica,sans-Serif\" font-size=\"14.00\">[1, 0]</text>\n",
       "<text text-anchor=\"middle\" x=\"49\" y=\"-7.8\" font-family=\"Helvetica,sans-Serif\" font-size=\"14.00\">[0, 1]]</text>\n",
       "</g>\n",
       "<!-- 6&#45;&gt;7 -->\n",
       "<g id=\"edge7\" class=\"edge\">\n",
       "<title>6&#45;&gt;7</title>\n",
       "<path fill=\"none\" stroke=\"black\" d=\"M84.58,-118.87C80.55,-110.22 76.34,-101.2 72.29,-92.5\"/>\n",
       "<polygon fill=\"black\" stroke=\"black\" points=\"75.37,-90.82 67.98,-83.23 69.03,-93.77 75.37,-90.82\"/>\n",
       "</g>\n",
       "<!-- 8 -->\n",
       "<g id=\"node9\" class=\"node\">\n",
       "<title>8</title>\n",
       "<polygon fill=\"none\" stroke=\"black\" points=\"214,-83 116,-83 116,0 214,0 214,-83\"/>\n",
       "<text text-anchor=\"middle\" x=\"165\" y=\"-67.8\" font-family=\"Helvetica,sans-Serif\" font-size=\"14.00\">gini = 0.0</text>\n",
       "<text text-anchor=\"middle\" x=\"165\" y=\"-52.8\" font-family=\"Helvetica,sans-Serif\" font-size=\"14.00\">samples = 1</text>\n",
       "<text text-anchor=\"middle\" x=\"165\" y=\"-37.8\" font-family=\"Helvetica,sans-Serif\" font-size=\"14.00\">value = [[1, 0]</text>\n",
       "<text text-anchor=\"middle\" x=\"165\" y=\"-22.8\" font-family=\"Helvetica,sans-Serif\" font-size=\"14.00\">[0, 1]</text>\n",
       "<text text-anchor=\"middle\" x=\"165\" y=\"-7.8\" font-family=\"Helvetica,sans-Serif\" font-size=\"14.00\">[1, 0]]</text>\n",
       "</g>\n",
       "<!-- 6&#45;&gt;8 -->\n",
       "<g id=\"edge8\" class=\"edge\">\n",
       "<title>6&#45;&gt;8</title>\n",
       "<path fill=\"none\" stroke=\"black\" d=\"M129.42,-118.87C133.45,-110.22 137.66,-101.2 141.71,-92.5\"/>\n",
       "<polygon fill=\"black\" stroke=\"black\" points=\"144.97,-93.77 146.02,-83.23 138.63,-90.82 144.97,-93.77\"/>\n",
       "</g>\n",
       "<!-- 11 -->\n",
       "<g id=\"node12\" class=\"node\">\n",
       "<title>11</title>\n",
       "<polygon fill=\"none\" stroke=\"black\" points=\"391,-351 293,-351 293,-253 391,-253 391,-351\"/>\n",
       "<text text-anchor=\"middle\" x=\"342\" y=\"-335.8\" font-family=\"Helvetica,sans-Serif\" font-size=\"14.00\">X[1] &lt;= 3.1</text>\n",
       "<text text-anchor=\"middle\" x=\"342\" y=\"-320.8\" font-family=\"Helvetica,sans-Serif\" font-size=\"14.00\">gini = 0.25</text>\n",
       "<text text-anchor=\"middle\" x=\"342\" y=\"-305.8\" font-family=\"Helvetica,sans-Serif\" font-size=\"14.00\">samples = 4</text>\n",
       "<text text-anchor=\"middle\" x=\"342\" y=\"-290.8\" font-family=\"Helvetica,sans-Serif\" font-size=\"14.00\">value = [[4, 0]</text>\n",
       "<text text-anchor=\"middle\" x=\"342\" y=\"-275.8\" font-family=\"Helvetica,sans-Serif\" font-size=\"14.00\">[3, 1]</text>\n",
       "<text text-anchor=\"middle\" x=\"342\" y=\"-260.8\" font-family=\"Helvetica,sans-Serif\" font-size=\"14.00\">[1, 3]]</text>\n",
       "</g>\n",
       "<!-- 10&#45;&gt;11 -->\n",
       "<g id=\"edge11\" class=\"edge\">\n",
       "<title>10&#45;&gt;11</title>\n",
       "<path fill=\"none\" stroke=\"black\" d=\"M343.27,-386.97C343.15,-378.69 343.02,-370 342.89,-361.48\"/>\n",
       "<polygon fill=\"black\" stroke=\"black\" points=\"346.38,-361.16 342.73,-351.21 339.38,-361.27 346.38,-361.16\"/>\n",
       "</g>\n",
       "<!-- 14 -->\n",
       "<g id=\"node15\" class=\"node\">\n",
       "<title>14</title>\n",
       "<polygon fill=\"none\" stroke=\"black\" points=\"515,-343.5 409,-343.5 409,-260.5 515,-260.5 515,-343.5\"/>\n",
       "<text text-anchor=\"middle\" x=\"462\" y=\"-328.3\" font-family=\"Helvetica,sans-Serif\" font-size=\"14.00\">gini = 0.0</text>\n",
       "<text text-anchor=\"middle\" x=\"462\" y=\"-313.3\" font-family=\"Helvetica,sans-Serif\" font-size=\"14.00\">samples = 34</text>\n",
       "<text text-anchor=\"middle\" x=\"462\" y=\"-298.3\" font-family=\"Helvetica,sans-Serif\" font-size=\"14.00\">value = [[34, 0]</text>\n",
       "<text text-anchor=\"middle\" x=\"462\" y=\"-283.3\" font-family=\"Helvetica,sans-Serif\" font-size=\"14.00\">[34, 0]</text>\n",
       "<text text-anchor=\"middle\" x=\"462\" y=\"-268.3\" font-family=\"Helvetica,sans-Serif\" font-size=\"14.00\">[0, 34]]</text>\n",
       "</g>\n",
       "<!-- 10&#45;&gt;14 -->\n",
       "<g id=\"edge14\" class=\"edge\">\n",
       "<title>10&#45;&gt;14</title>\n",
       "<path fill=\"none\" stroke=\"black\" d=\"M386.93,-386.97C397.31,-375.36 408.41,-362.95 418.8,-351.32\"/>\n",
       "<polygon fill=\"black\" stroke=\"black\" points=\"421.46,-353.6 425.51,-343.82 416.24,-348.94 421.46,-353.6\"/>\n",
       "</g>\n",
       "<!-- 12 -->\n",
       "<g id=\"node13\" class=\"node\">\n",
       "<title>12</title>\n",
       "<polygon fill=\"none\" stroke=\"black\" points=\"390,-209.5 292,-209.5 292,-126.5 390,-126.5 390,-209.5\"/>\n",
       "<text text-anchor=\"middle\" x=\"341\" y=\"-194.3\" font-family=\"Helvetica,sans-Serif\" font-size=\"14.00\">gini = 0.0</text>\n",
       "<text text-anchor=\"middle\" x=\"341\" y=\"-179.3\" font-family=\"Helvetica,sans-Serif\" font-size=\"14.00\">samples = 3</text>\n",
       "<text text-anchor=\"middle\" x=\"341\" y=\"-164.3\" font-family=\"Helvetica,sans-Serif\" font-size=\"14.00\">value = [[3, 0]</text>\n",
       "<text text-anchor=\"middle\" x=\"341\" y=\"-149.3\" font-family=\"Helvetica,sans-Serif\" font-size=\"14.00\">[3, 0]</text>\n",
       "<text text-anchor=\"middle\" x=\"341\" y=\"-134.3\" font-family=\"Helvetica,sans-Serif\" font-size=\"14.00\">[0, 3]]</text>\n",
       "</g>\n",
       "<!-- 11&#45;&gt;12 -->\n",
       "<g id=\"edge12\" class=\"edge\">\n",
       "<title>11&#45;&gt;12</title>\n",
       "<path fill=\"none\" stroke=\"black\" d=\"M341.64,-252.97C341.55,-242.25 341.47,-230.84 341.39,-219.99\"/>\n",
       "<polygon fill=\"black\" stroke=\"black\" points=\"344.88,-219.79 341.31,-209.82 337.89,-219.84 344.88,-219.79\"/>\n",
       "</g>\n",
       "<!-- 13 -->\n",
       "<g id=\"node14\" class=\"node\">\n",
       "<title>13</title>\n",
       "<polygon fill=\"none\" stroke=\"black\" points=\"506,-209.5 408,-209.5 408,-126.5 506,-126.5 506,-209.5\"/>\n",
       "<text text-anchor=\"middle\" x=\"457\" y=\"-194.3\" font-family=\"Helvetica,sans-Serif\" font-size=\"14.00\">gini = 0.0</text>\n",
       "<text text-anchor=\"middle\" x=\"457\" y=\"-179.3\" font-family=\"Helvetica,sans-Serif\" font-size=\"14.00\">samples = 1</text>\n",
       "<text text-anchor=\"middle\" x=\"457\" y=\"-164.3\" font-family=\"Helvetica,sans-Serif\" font-size=\"14.00\">value = [[1, 0]</text>\n",
       "<text text-anchor=\"middle\" x=\"457\" y=\"-149.3\" font-family=\"Helvetica,sans-Serif\" font-size=\"14.00\">[0, 1]</text>\n",
       "<text text-anchor=\"middle\" x=\"457\" y=\"-134.3\" font-family=\"Helvetica,sans-Serif\" font-size=\"14.00\">[1, 0]]</text>\n",
       "</g>\n",
       "<!-- 11&#45;&gt;13 -->\n",
       "<g id=\"edge13\" class=\"edge\">\n",
       "<title>11&#45;&gt;13</title>\n",
       "<path fill=\"none\" stroke=\"black\" d=\"M383.84,-252.97C393.86,-241.47 404.57,-229.18 414.61,-217.66\"/>\n",
       "<polygon fill=\"black\" stroke=\"black\" points=\"417.51,-219.66 421.44,-209.82 412.23,-215.06 417.51,-219.66\"/>\n",
       "</g>\n",
       "</g>\n",
       "</svg>\n"
      ],
      "text/plain": [
       "<graphviz.files.Source at 0x7f79ba19ddf0>"
      ]
     },
     "metadata": {},
     "output_type": "display_data"
    }
   ],
   "source": [
    "display(graphviz.Source(export_graphviz(dt)))"
   ]
  },
  {
   "cell_type": "code",
   "execution_count": 12,
   "id": "b8114311-a080-4807-b56f-c6e855a3a33a",
   "metadata": {
    "id": "b8114311-a080-4807-b56f-c6e855a3a33a"
   },
   "outputs": [],
   "source": [
    "X1_test=[[6.1, 2.8, 1.8, 1.9]]\n",
    "X2_test=[[8.1, 3.1, 2.5, 2.9]]"
   ]
  },
  {
   "cell_type": "code",
   "execution_count": 13,
   "id": "_nPuu6jZt8U1",
   "metadata": {
    "id": "_nPuu6jZt8U1"
   },
   "outputs": [],
   "source": [
    "y_pred = dt.predict(X_test)"
   ]
  },
  {
   "cell_type": "code",
   "execution_count": 14,
   "id": "m3N4Kbjfwlec",
   "metadata": {
    "id": "m3N4Kbjfwlec"
   },
   "outputs": [],
   "source": [
    "import warnings\n",
    "warnings.filterwarnings(\"ignore\")"
   ]
  },
  {
   "cell_type": "code",
   "execution_count": 15,
   "id": "2ioWPMxowVcs",
   "metadata": {
    "colab": {
     "base_uri": "https://localhost:8080/"
    },
    "id": "2ioWPMxowVcs",
    "outputId": "d8da5c4f-5310-4be3-8f00-6da0d46db396"
   },
   "outputs": [
    {
     "data": {
      "text/plain": [
       "array([[1, 0, 0]], dtype=uint8)"
      ]
     },
     "execution_count": 15,
     "metadata": {},
     "output_type": "execute_result"
    }
   ],
   "source": [
    "dt.predict(X1_test)"
   ]
  },
  {
   "cell_type": "code",
   "execution_count": 16,
   "id": "vOi16MXwwoOp",
   "metadata": {
    "colab": {
     "base_uri": "https://localhost:8080/"
    },
    "id": "vOi16MXwwoOp",
    "outputId": "68a761ce-aa47-4bad-afce-6d13ba707c50"
   },
   "outputs": [
    {
     "data": {
      "text/plain": [
       "array([[1, 0, 0]], dtype=uint8)"
      ]
     },
     "execution_count": 16,
     "metadata": {},
     "output_type": "execute_result"
    }
   ],
   "source": [
    "dt.predict(X2_test)"
   ]
  },
  {
   "cell_type": "code",
   "execution_count": 22,
   "id": "arboAB4gv2X8",
   "metadata": {
    "id": "arboAB4gv2X8"
   },
   "outputs": [],
   "source": [
    "from sklearn.metrics import confusion_matrix,accuracy_score ,classification_report\n"
   ]
  },
  {
   "cell_type": "code",
   "execution_count": 18,
   "id": "Bbgu7ts8t8bO",
   "metadata": {
    "colab": {
     "base_uri": "https://localhost:8080/"
    },
    "id": "Bbgu7ts8t8bO",
    "outputId": "dee865ee-cf1c-4c87-86ef-8663072862d6"
   },
   "outputs": [
    {
     "name": "stdout",
     "output_type": "stream",
     "text": [
      "              precision    recall  f1-score   support\n",
      "\n",
      "           0       1.00      1.00      1.00        13\n",
      "           1       1.00      0.94      0.97        16\n",
      "           2       0.90      1.00      0.95         9\n",
      "\n",
      "   micro avg       0.97      0.97      0.97        38\n",
      "   macro avg       0.97      0.98      0.97        38\n",
      "weighted avg       0.98      0.97      0.97        38\n",
      " samples avg       0.97      0.97      0.97        38\n",
      "\n",
      "accuracy: 0.974\n"
     ]
    }
   ],
   "source": [
    "print(classification_report(y_test, y_pred))\n",
    "\n",
    "accuracy = accuracy_score(y_test,y_pred)\n",
    "print('accuracy: %.3f' %accuracy)"
   ]
  },
  {
   "cell_type": "markdown",
   "id": "aaba28bd-b565-4828-8976-0f8931d7f5c9",
   "metadata": {
    "id": "aaba28bd-b565-4828-8976-0f8931d7f5c9"
   },
   "source": [
    "# ۸- روی دیتای پیش بینی بیماری قلبی با استفاده از درsvmالگوریتم greed search random search پیش بینی را انجام دهی\n"
   ]
  },
  {
   "cell_type": "code",
   "execution_count": 7,
   "id": "zrQeQoyN06Yh",
   "metadata": {
    "id": "zrQeQoyN06Yh"
   },
   "outputs": [
    {
     "data": {
      "text/html": [
       "<div>\n",
       "<style scoped>\n",
       "    .dataframe tbody tr th:only-of-type {\n",
       "        vertical-align: middle;\n",
       "    }\n",
       "\n",
       "    .dataframe tbody tr th {\n",
       "        vertical-align: top;\n",
       "    }\n",
       "\n",
       "    .dataframe thead th {\n",
       "        text-align: right;\n",
       "    }\n",
       "</style>\n",
       "<table border=\"1\" class=\"dataframe\">\n",
       "  <thead>\n",
       "    <tr style=\"text-align: right;\">\n",
       "      <th></th>\n",
       "      <th>age</th>\n",
       "      <th>sex</th>\n",
       "      <th>cp</th>\n",
       "      <th>trestbps</th>\n",
       "      <th>chol</th>\n",
       "      <th>fbs</th>\n",
       "      <th>restecg</th>\n",
       "      <th>thalach</th>\n",
       "      <th>exang</th>\n",
       "      <th>oldpeak</th>\n",
       "      <th>slope</th>\n",
       "      <th>ca</th>\n",
       "      <th>thal</th>\n",
       "      <th>target</th>\n",
       "    </tr>\n",
       "  </thead>\n",
       "  <tbody>\n",
       "    <tr>\n",
       "      <th>0</th>\n",
       "      <td>63</td>\n",
       "      <td>1</td>\n",
       "      <td>3</td>\n",
       "      <td>145</td>\n",
       "      <td>233</td>\n",
       "      <td>1</td>\n",
       "      <td>0</td>\n",
       "      <td>150</td>\n",
       "      <td>0</td>\n",
       "      <td>2.3</td>\n",
       "      <td>NaN</td>\n",
       "      <td>0</td>\n",
       "      <td>NaN</td>\n",
       "      <td>1</td>\n",
       "    </tr>\n",
       "    <tr>\n",
       "      <th>1</th>\n",
       "      <td>37</td>\n",
       "      <td>1</td>\n",
       "      <td>2</td>\n",
       "      <td>130</td>\n",
       "      <td>250</td>\n",
       "      <td>0</td>\n",
       "      <td>1</td>\n",
       "      <td>187</td>\n",
       "      <td>0</td>\n",
       "      <td>3.5</td>\n",
       "      <td>NaN</td>\n",
       "      <td>0</td>\n",
       "      <td>NaN</td>\n",
       "      <td>1</td>\n",
       "    </tr>\n",
       "    <tr>\n",
       "      <th>2</th>\n",
       "      <td>41</td>\n",
       "      <td>0</td>\n",
       "      <td>1</td>\n",
       "      <td>130</td>\n",
       "      <td>204</td>\n",
       "      <td>0</td>\n",
       "      <td>0</td>\n",
       "      <td>172</td>\n",
       "      <td>0</td>\n",
       "      <td>1.4</td>\n",
       "      <td>2</td>\n",
       "      <td>0</td>\n",
       "      <td>NaN</td>\n",
       "      <td>1</td>\n",
       "    </tr>\n",
       "    <tr>\n",
       "      <th>3</th>\n",
       "      <td>56</td>\n",
       "      <td>1</td>\n",
       "      <td>1</td>\n",
       "      <td>120</td>\n",
       "      <td>236</td>\n",
       "      <td>0</td>\n",
       "      <td>1</td>\n",
       "      <td>178</td>\n",
       "      <td>0</td>\n",
       "      <td>0.8</td>\n",
       "      <td>2</td>\n",
       "      <td>0</td>\n",
       "      <td>NaN</td>\n",
       "      <td>1</td>\n",
       "    </tr>\n",
       "    <tr>\n",
       "      <th>4</th>\n",
       "      <td>57</td>\n",
       "      <td>0</td>\n",
       "      <td>NaN</td>\n",
       "      <td>120</td>\n",
       "      <td>354</td>\n",
       "      <td>0</td>\n",
       "      <td>1</td>\n",
       "      <td>163</td>\n",
       "      <td>1</td>\n",
       "      <td>0.6</td>\n",
       "      <td>2</td>\n",
       "      <td>0</td>\n",
       "      <td>NaN</td>\n",
       "      <td>1</td>\n",
       "    </tr>\n",
       "  </tbody>\n",
       "</table>\n",
       "</div>"
      ],
      "text/plain": [
       "   age sex   cp  trestbps  chol fbs restecg  thalach exang  oldpeak slope ca  \\\n",
       "0   63   1    3       145   233   1       0      150     0      2.3   NaN  0   \n",
       "1   37   1    2       130   250   0       1      187     0      3.5   NaN  0   \n",
       "2   41   0    1       130   204   0       0      172     0      1.4     2  0   \n",
       "3   56   1    1       120   236   0       1      178     0      0.8     2  0   \n",
       "4   57   0  NaN       120   354   0       1      163     1      0.6     2  0   \n",
       "\n",
       "  thal target  \n",
       "0  NaN      1  \n",
       "1  NaN      1  \n",
       "2  NaN      1  \n",
       "3  NaN      1  \n",
       "4  NaN      1  "
      ]
     },
     "execution_count": 7,
     "metadata": {},
     "output_type": "execute_result"
    }
   ],
   "source": [
    "binary = pd.CategoricalDtype(categories=[0, 1])\n",
    "df = pd.read_csv('heart.csv',   dtype={\n",
    "        'sex':binary,\n",
    "        'cp':pd.CategoricalDtype(categories=range(1,5)),\n",
    "        'fbs':binary,\n",
    "        'restecg':pd.CategoricalDtype(categories=range(3)),\n",
    "        'exang':binary,\n",
    "        'slope':pd.CategoricalDtype(categories=range(1,4)),\n",
    "        'ca':pd.CategoricalDtype(categories=range(4)),\n",
    "        'thal':pd.CategoricalDtype(categories=[3,6,7]),\n",
    "        'target':pd.CategoricalDtype(categories=range(2), ordered=True),\n",
    "    }\n",
    ")\n",
    "df.head()"
   ]
  },
  {
   "cell_type": "code",
   "execution_count": 8,
   "id": "220e08e9-c9ef-4c50-bcf3-8d96ef7c09cc",
   "metadata": {},
   "outputs": [
    {
     "name": "stdout",
     "output_type": "stream",
     "text": [
      "<class 'pandas.core.frame.DataFrame'>\n",
      "RangeIndex: 303 entries, 0 to 302\n",
      "Data columns (total 14 columns):\n",
      " #   Column    Non-Null Count  Dtype   \n",
      "---  ------    --------------  -----   \n",
      " 0   age       303 non-null    int64   \n",
      " 1   sex       303 non-null    category\n",
      " 2   cp        160 non-null    category\n",
      " 3   trestbps  303 non-null    int64   \n",
      " 4   chol      303 non-null    int64   \n",
      " 5   fbs       303 non-null    category\n",
      " 6   restecg   303 non-null    category\n",
      " 7   thalach   303 non-null    int64   \n",
      " 8   exang     303 non-null    category\n",
      " 9   oldpeak   303 non-null    float64 \n",
      " 10  slope     282 non-null    category\n",
      " 11  ca        298 non-null    category\n",
      " 12  thal      117 non-null    category\n",
      " 13  target    303 non-null    category\n",
      "dtypes: category(9), float64(1), int64(4)\n",
      "memory usage: 15.7 KB\n"
     ]
    }
   ],
   "source": [
    "df.info()"
   ]
  },
  {
   "cell_type": "code",
   "execution_count": 9,
   "id": "UEtFYtt31ImF",
   "metadata": {
    "colab": {
     "base_uri": "https://localhost:8080/"
    },
    "id": "UEtFYtt31ImF",
    "outputId": "14069bf8-5990-41fe-c5af-7f5ef7c47ab2"
   },
   "outputs": [
    {
     "name": "stdout",
     "output_type": "stream",
     "text": [
      "Categorical variables:\n",
      "['sex', 'cp', 'fbs', 'restecg', 'exang', 'slope', 'ca', 'thal']\n",
      "No. of. categorical features:  8\n"
     ]
    }
   ],
   "source": [
    "s =df.drop(['target'],axis=1).dtypes == 'category'\n",
    "object_cols = list(s[s].index)\n",
    "print(\"Categorical variables:\")\n",
    "print(object_cols)\n",
    "print('No. of. categorical features: ',len(object_cols))"
   ]
  },
  {
   "cell_type": "code",
   "execution_count": 10,
   "id": "zxH2UZnp1IyX",
   "metadata": {
    "colab": {
     "base_uri": "https://localhost:8080/",
     "height": 488
    },
    "id": "zxH2UZnp1IyX",
    "outputId": "07f49809-4859-41fd-c68d-33fbf18a3061"
   },
   "outputs": [
    {
     "data": {
      "text/html": [
       "<div>\n",
       "<style scoped>\n",
       "    .dataframe tbody tr th:only-of-type {\n",
       "        vertical-align: middle;\n",
       "    }\n",
       "\n",
       "    .dataframe tbody tr th {\n",
       "        vertical-align: top;\n",
       "    }\n",
       "\n",
       "    .dataframe thead th {\n",
       "        text-align: right;\n",
       "    }\n",
       "</style>\n",
       "<table border=\"1\" class=\"dataframe\">\n",
       "  <thead>\n",
       "    <tr style=\"text-align: right;\">\n",
       "      <th></th>\n",
       "      <th>age</th>\n",
       "      <th>trestbps</th>\n",
       "      <th>chol</th>\n",
       "      <th>thalach</th>\n",
       "      <th>oldpeak</th>\n",
       "      <th>target</th>\n",
       "      <th>sex_0</th>\n",
       "      <th>sex_1</th>\n",
       "      <th>cp_1</th>\n",
       "      <th>cp_2</th>\n",
       "      <th>...</th>\n",
       "      <th>slope_1</th>\n",
       "      <th>slope_2</th>\n",
       "      <th>slope_3</th>\n",
       "      <th>ca_0</th>\n",
       "      <th>ca_1</th>\n",
       "      <th>ca_2</th>\n",
       "      <th>ca_3</th>\n",
       "      <th>thal_3</th>\n",
       "      <th>thal_6</th>\n",
       "      <th>thal_7</th>\n",
       "    </tr>\n",
       "  </thead>\n",
       "  <tbody>\n",
       "    <tr>\n",
       "      <th>0</th>\n",
       "      <td>63</td>\n",
       "      <td>145</td>\n",
       "      <td>233</td>\n",
       "      <td>150</td>\n",
       "      <td>2.3</td>\n",
       "      <td>1</td>\n",
       "      <td>0</td>\n",
       "      <td>1</td>\n",
       "      <td>0</td>\n",
       "      <td>0</td>\n",
       "      <td>...</td>\n",
       "      <td>0</td>\n",
       "      <td>0</td>\n",
       "      <td>0</td>\n",
       "      <td>1</td>\n",
       "      <td>0</td>\n",
       "      <td>0</td>\n",
       "      <td>0</td>\n",
       "      <td>0</td>\n",
       "      <td>0</td>\n",
       "      <td>0</td>\n",
       "    </tr>\n",
       "    <tr>\n",
       "      <th>1</th>\n",
       "      <td>37</td>\n",
       "      <td>130</td>\n",
       "      <td>250</td>\n",
       "      <td>187</td>\n",
       "      <td>3.5</td>\n",
       "      <td>1</td>\n",
       "      <td>0</td>\n",
       "      <td>1</td>\n",
       "      <td>0</td>\n",
       "      <td>1</td>\n",
       "      <td>...</td>\n",
       "      <td>0</td>\n",
       "      <td>0</td>\n",
       "      <td>0</td>\n",
       "      <td>1</td>\n",
       "      <td>0</td>\n",
       "      <td>0</td>\n",
       "      <td>0</td>\n",
       "      <td>0</td>\n",
       "      <td>0</td>\n",
       "      <td>0</td>\n",
       "    </tr>\n",
       "    <tr>\n",
       "      <th>2</th>\n",
       "      <td>41</td>\n",
       "      <td>130</td>\n",
       "      <td>204</td>\n",
       "      <td>172</td>\n",
       "      <td>1.4</td>\n",
       "      <td>1</td>\n",
       "      <td>1</td>\n",
       "      <td>0</td>\n",
       "      <td>1</td>\n",
       "      <td>0</td>\n",
       "      <td>...</td>\n",
       "      <td>0</td>\n",
       "      <td>1</td>\n",
       "      <td>0</td>\n",
       "      <td>1</td>\n",
       "      <td>0</td>\n",
       "      <td>0</td>\n",
       "      <td>0</td>\n",
       "      <td>0</td>\n",
       "      <td>0</td>\n",
       "      <td>0</td>\n",
       "    </tr>\n",
       "    <tr>\n",
       "      <th>3</th>\n",
       "      <td>56</td>\n",
       "      <td>120</td>\n",
       "      <td>236</td>\n",
       "      <td>178</td>\n",
       "      <td>0.8</td>\n",
       "      <td>1</td>\n",
       "      <td>0</td>\n",
       "      <td>1</td>\n",
       "      <td>1</td>\n",
       "      <td>0</td>\n",
       "      <td>...</td>\n",
       "      <td>0</td>\n",
       "      <td>1</td>\n",
       "      <td>0</td>\n",
       "      <td>1</td>\n",
       "      <td>0</td>\n",
       "      <td>0</td>\n",
       "      <td>0</td>\n",
       "      <td>0</td>\n",
       "      <td>0</td>\n",
       "      <td>0</td>\n",
       "    </tr>\n",
       "    <tr>\n",
       "      <th>4</th>\n",
       "      <td>57</td>\n",
       "      <td>120</td>\n",
       "      <td>354</td>\n",
       "      <td>163</td>\n",
       "      <td>0.6</td>\n",
       "      <td>1</td>\n",
       "      <td>1</td>\n",
       "      <td>0</td>\n",
       "      <td>0</td>\n",
       "      <td>0</td>\n",
       "      <td>...</td>\n",
       "      <td>0</td>\n",
       "      <td>1</td>\n",
       "      <td>0</td>\n",
       "      <td>1</td>\n",
       "      <td>0</td>\n",
       "      <td>0</td>\n",
       "      <td>0</td>\n",
       "      <td>0</td>\n",
       "      <td>0</td>\n",
       "      <td>0</td>\n",
       "    </tr>\n",
       "    <tr>\n",
       "      <th>...</th>\n",
       "      <td>...</td>\n",
       "      <td>...</td>\n",
       "      <td>...</td>\n",
       "      <td>...</td>\n",
       "      <td>...</td>\n",
       "      <td>...</td>\n",
       "      <td>...</td>\n",
       "      <td>...</td>\n",
       "      <td>...</td>\n",
       "      <td>...</td>\n",
       "      <td>...</td>\n",
       "      <td>...</td>\n",
       "      <td>...</td>\n",
       "      <td>...</td>\n",
       "      <td>...</td>\n",
       "      <td>...</td>\n",
       "      <td>...</td>\n",
       "      <td>...</td>\n",
       "      <td>...</td>\n",
       "      <td>...</td>\n",
       "      <td>...</td>\n",
       "    </tr>\n",
       "    <tr>\n",
       "      <th>298</th>\n",
       "      <td>57</td>\n",
       "      <td>140</td>\n",
       "      <td>241</td>\n",
       "      <td>123</td>\n",
       "      <td>0.2</td>\n",
       "      <td>0</td>\n",
       "      <td>1</td>\n",
       "      <td>0</td>\n",
       "      <td>0</td>\n",
       "      <td>0</td>\n",
       "      <td>...</td>\n",
       "      <td>1</td>\n",
       "      <td>0</td>\n",
       "      <td>0</td>\n",
       "      <td>1</td>\n",
       "      <td>0</td>\n",
       "      <td>0</td>\n",
       "      <td>0</td>\n",
       "      <td>1</td>\n",
       "      <td>0</td>\n",
       "      <td>0</td>\n",
       "    </tr>\n",
       "    <tr>\n",
       "      <th>299</th>\n",
       "      <td>45</td>\n",
       "      <td>110</td>\n",
       "      <td>264</td>\n",
       "      <td>132</td>\n",
       "      <td>1.2</td>\n",
       "      <td>0</td>\n",
       "      <td>0</td>\n",
       "      <td>1</td>\n",
       "      <td>0</td>\n",
       "      <td>0</td>\n",
       "      <td>...</td>\n",
       "      <td>1</td>\n",
       "      <td>0</td>\n",
       "      <td>0</td>\n",
       "      <td>1</td>\n",
       "      <td>0</td>\n",
       "      <td>0</td>\n",
       "      <td>0</td>\n",
       "      <td>1</td>\n",
       "      <td>0</td>\n",
       "      <td>0</td>\n",
       "    </tr>\n",
       "    <tr>\n",
       "      <th>300</th>\n",
       "      <td>68</td>\n",
       "      <td>144</td>\n",
       "      <td>193</td>\n",
       "      <td>141</td>\n",
       "      <td>3.4</td>\n",
       "      <td>0</td>\n",
       "      <td>0</td>\n",
       "      <td>1</td>\n",
       "      <td>0</td>\n",
       "      <td>0</td>\n",
       "      <td>...</td>\n",
       "      <td>1</td>\n",
       "      <td>0</td>\n",
       "      <td>0</td>\n",
       "      <td>0</td>\n",
       "      <td>0</td>\n",
       "      <td>1</td>\n",
       "      <td>0</td>\n",
       "      <td>1</td>\n",
       "      <td>0</td>\n",
       "      <td>0</td>\n",
       "    </tr>\n",
       "    <tr>\n",
       "      <th>301</th>\n",
       "      <td>57</td>\n",
       "      <td>130</td>\n",
       "      <td>131</td>\n",
       "      <td>115</td>\n",
       "      <td>1.2</td>\n",
       "      <td>0</td>\n",
       "      <td>0</td>\n",
       "      <td>1</td>\n",
       "      <td>0</td>\n",
       "      <td>0</td>\n",
       "      <td>...</td>\n",
       "      <td>1</td>\n",
       "      <td>0</td>\n",
       "      <td>0</td>\n",
       "      <td>0</td>\n",
       "      <td>1</td>\n",
       "      <td>0</td>\n",
       "      <td>0</td>\n",
       "      <td>1</td>\n",
       "      <td>0</td>\n",
       "      <td>0</td>\n",
       "    </tr>\n",
       "    <tr>\n",
       "      <th>302</th>\n",
       "      <td>57</td>\n",
       "      <td>130</td>\n",
       "      <td>236</td>\n",
       "      <td>174</td>\n",
       "      <td>0.0</td>\n",
       "      <td>0</td>\n",
       "      <td>1</td>\n",
       "      <td>0</td>\n",
       "      <td>1</td>\n",
       "      <td>0</td>\n",
       "      <td>...</td>\n",
       "      <td>1</td>\n",
       "      <td>0</td>\n",
       "      <td>0</td>\n",
       "      <td>0</td>\n",
       "      <td>1</td>\n",
       "      <td>0</td>\n",
       "      <td>0</td>\n",
       "      <td>0</td>\n",
       "      <td>0</td>\n",
       "      <td>0</td>\n",
       "    </tr>\n",
       "  </tbody>\n",
       "</table>\n",
       "<p>303 rows × 29 columns</p>\n",
       "</div>"
      ],
      "text/plain": [
       "     age  trestbps  chol  thalach  oldpeak target  sex_0  sex_1  cp_1  cp_2  \\\n",
       "0     63       145   233      150      2.3      1      0      1     0     0   \n",
       "1     37       130   250      187      3.5      1      0      1     0     1   \n",
       "2     41       130   204      172      1.4      1      1      0     1     0   \n",
       "3     56       120   236      178      0.8      1      0      1     1     0   \n",
       "4     57       120   354      163      0.6      1      1      0     0     0   \n",
       "..   ...       ...   ...      ...      ...    ...    ...    ...   ...   ...   \n",
       "298   57       140   241      123      0.2      0      1      0     0     0   \n",
       "299   45       110   264      132      1.2      0      0      1     0     0   \n",
       "300   68       144   193      141      3.4      0      0      1     0     0   \n",
       "301   57       130   131      115      1.2      0      0      1     0     0   \n",
       "302   57       130   236      174      0.0      0      1      0     1     0   \n",
       "\n",
       "     ...  slope_1  slope_2  slope_3  ca_0  ca_1  ca_2  ca_3  thal_3  thal_6  \\\n",
       "0    ...        0        0        0     1     0     0     0       0       0   \n",
       "1    ...        0        0        0     1     0     0     0       0       0   \n",
       "2    ...        0        1        0     1     0     0     0       0       0   \n",
       "3    ...        0        1        0     1     0     0     0       0       0   \n",
       "4    ...        0        1        0     1     0     0     0       0       0   \n",
       "..   ...      ...      ...      ...   ...   ...   ...   ...     ...     ...   \n",
       "298  ...        1        0        0     1     0     0     0       1       0   \n",
       "299  ...        1        0        0     1     0     0     0       1       0   \n",
       "300  ...        1        0        0     0     0     1     0       1       0   \n",
       "301  ...        1        0        0     0     1     0     0       1       0   \n",
       "302  ...        1        0        0     0     1     0     0       0       0   \n",
       "\n",
       "     thal_7  \n",
       "0         0  \n",
       "1         0  \n",
       "2         0  \n",
       "3         0  \n",
       "4         0  \n",
       "..      ...  \n",
       "298       0  \n",
       "299       0  \n",
       "300       0  \n",
       "301       0  \n",
       "302       0  \n",
       "\n",
       "[303 rows x 29 columns]"
      ]
     },
     "execution_count": 10,
     "metadata": {},
     "output_type": "execute_result"
    }
   ],
   "source": [
    "df1 = pd.get_dummies(df, columns = object_cols)\n",
    "df1"
   ]
  },
  {
   "cell_type": "code",
   "execution_count": 11,
   "id": "jkSp5s123r8e",
   "metadata": {
    "id": "jkSp5s123r8e"
   },
   "outputs": [],
   "source": [
    "df1=df1.fillna({'ca':0, 'thal':3, 'target':1})"
   ]
  },
  {
   "cell_type": "code",
   "execution_count": 12,
   "id": "1QF1g2ry3O5A",
   "metadata": {
    "colab": {
     "base_uri": "https://localhost:8080/"
    },
    "id": "1QF1g2ry3O5A",
    "outputId": "d3d8c040-0c7a-416c-bcdf-1d1bd16c73e7"
   },
   "outputs": [
    {
     "data": {
      "text/plain": [
       "age          0\n",
       "trestbps     0\n",
       "chol         0\n",
       "thalach      0\n",
       "oldpeak      0\n",
       "target       0\n",
       "sex_0        0\n",
       "sex_1        0\n",
       "cp_1         0\n",
       "cp_2         0\n",
       "cp_3         0\n",
       "cp_4         0\n",
       "fbs_0        0\n",
       "fbs_1        0\n",
       "restecg_0    0\n",
       "restecg_1    0\n",
       "restecg_2    0\n",
       "exang_0      0\n",
       "exang_1      0\n",
       "slope_1      0\n",
       "slope_2      0\n",
       "slope_3      0\n",
       "ca_0         0\n",
       "ca_1         0\n",
       "ca_2         0\n",
       "ca_3         0\n",
       "thal_3       0\n",
       "thal_6       0\n",
       "thal_7       0\n",
       "dtype: int64"
      ]
     },
     "execution_count": 12,
     "metadata": {},
     "output_type": "execute_result"
    }
   ],
   "source": [
    "df1.isnull().sum()"
   ]
  },
  {
   "cell_type": "code",
   "execution_count": 13,
   "id": "XDbE6eWC2Sh2",
   "metadata": {
    "id": "XDbE6eWC2Sh2"
   },
   "outputs": [],
   "source": [
    "from sklearn.pipeline import make_pipeline,Pipeline\n",
    "from sklearn.preprocessing import StandardScaler\n",
    "from sklearn import preprocessing\n",
    "from sklearn.svm import SVC\n",
    "from sklearn.decomposition import PCA\n",
    "from sklearn.model_selection import GridSearchCV,RandomizedSearchCV \n"
   ]
  },
  {
   "cell_type": "code",
   "execution_count": 14,
   "id": "NfU4sGmj1JI9",
   "metadata": {
    "id": "NfU4sGmj1JI9"
   },
   "outputs": [],
   "source": [
    "X = df1.drop(['target'],axis=1).values\n",
    "y = df1['target'].values"
   ]
  },
  {
   "cell_type": "code",
   "execution_count": 15,
   "id": "GtFDaBJF1JaS",
   "metadata": {
    "id": "GtFDaBJF1JaS"
   },
   "outputs": [],
   "source": [
    "from sklearn.model_selection import train_test_split\n",
    "X_train, X_test, y_train, y_test = train_test_split(X, y, test_size = 0.2, random_state = 20)"
   ]
  },
  {
   "cell_type": "markdown",
   "id": "fb2cdb7b-b8ce-4612-97b2-d17a7c21f28f",
   "metadata": {
    "id": "fb2cdb7b-b8ce-4612-97b2-d17a7c21f28f"
   },
   "source": [
    "## Grid search"
   ]
  },
  {
   "cell_type": "code",
   "execution_count": 27,
   "id": "JFyLX59v11pr",
   "metadata": {
    "id": "JFyLX59v11pr"
   },
   "outputs": [],
   "source": [
    "pipe = make_pipeline(StandardScaler(),PCA(random_state=42), SVC())\n",
    "param_grid={\"pca__n_components\": np.arange(1, 29),'svc__gamma': [0.001, 0.01, 0.1, 1, 10], 'svc__C': [0.1, 1, 10, 100]}\n",
    "clf_gridSearch = GridSearchCV(pipe, param_grid,cv=3, scoring='f1_macro')"
   ]
  },
  {
   "cell_type": "code",
   "execution_count": 28,
   "id": "fBg4SDVv2Rqr",
   "metadata": {
    "colab": {
     "base_uri": "https://localhost:8080/"
    },
    "id": "fBg4SDVv2Rqr",
    "outputId": "7c6619e9-6b1d-4ae4-8692-026a71b8bc42"
   },
   "outputs": [
    {
     "data": {
      "text/html": [
       "<style>#sk-container-id-4 {color: black;background-color: white;}#sk-container-id-4 pre{padding: 0;}#sk-container-id-4 div.sk-toggleable {background-color: white;}#sk-container-id-4 label.sk-toggleable__label {cursor: pointer;display: block;width: 100%;margin-bottom: 0;padding: 0.3em;box-sizing: border-box;text-align: center;}#sk-container-id-4 label.sk-toggleable__label-arrow:before {content: \"▸\";float: left;margin-right: 0.25em;color: #696969;}#sk-container-id-4 label.sk-toggleable__label-arrow:hover:before {color: black;}#sk-container-id-4 div.sk-estimator:hover label.sk-toggleable__label-arrow:before {color: black;}#sk-container-id-4 div.sk-toggleable__content {max-height: 0;max-width: 0;overflow: hidden;text-align: left;background-color: #f0f8ff;}#sk-container-id-4 div.sk-toggleable__content pre {margin: 0.2em;color: black;border-radius: 0.25em;background-color: #f0f8ff;}#sk-container-id-4 input.sk-toggleable__control:checked~div.sk-toggleable__content {max-height: 200px;max-width: 100%;overflow: auto;}#sk-container-id-4 input.sk-toggleable__control:checked~label.sk-toggleable__label-arrow:before {content: \"▾\";}#sk-container-id-4 div.sk-estimator input.sk-toggleable__control:checked~label.sk-toggleable__label {background-color: #d4ebff;}#sk-container-id-4 div.sk-label input.sk-toggleable__control:checked~label.sk-toggleable__label {background-color: #d4ebff;}#sk-container-id-4 input.sk-hidden--visually {border: 0;clip: rect(1px 1px 1px 1px);clip: rect(1px, 1px, 1px, 1px);height: 1px;margin: -1px;overflow: hidden;padding: 0;position: absolute;width: 1px;}#sk-container-id-4 div.sk-estimator {font-family: monospace;background-color: #f0f8ff;border: 1px dotted black;border-radius: 0.25em;box-sizing: border-box;margin-bottom: 0.5em;}#sk-container-id-4 div.sk-estimator:hover {background-color: #d4ebff;}#sk-container-id-4 div.sk-parallel-item::after {content: \"\";width: 100%;border-bottom: 1px solid gray;flex-grow: 1;}#sk-container-id-4 div.sk-label:hover label.sk-toggleable__label {background-color: #d4ebff;}#sk-container-id-4 div.sk-serial::before {content: \"\";position: absolute;border-left: 1px solid gray;box-sizing: border-box;top: 0;bottom: 0;left: 50%;z-index: 0;}#sk-container-id-4 div.sk-serial {display: flex;flex-direction: column;align-items: center;background-color: white;padding-right: 0.2em;padding-left: 0.2em;position: relative;}#sk-container-id-4 div.sk-item {position: relative;z-index: 1;}#sk-container-id-4 div.sk-parallel {display: flex;align-items: stretch;justify-content: center;background-color: white;position: relative;}#sk-container-id-4 div.sk-item::before, #sk-container-id-4 div.sk-parallel-item::before {content: \"\";position: absolute;border-left: 1px solid gray;box-sizing: border-box;top: 0;bottom: 0;left: 50%;z-index: -1;}#sk-container-id-4 div.sk-parallel-item {display: flex;flex-direction: column;z-index: 1;position: relative;background-color: white;}#sk-container-id-4 div.sk-parallel-item:first-child::after {align-self: flex-end;width: 50%;}#sk-container-id-4 div.sk-parallel-item:last-child::after {align-self: flex-start;width: 50%;}#sk-container-id-4 div.sk-parallel-item:only-child::after {width: 0;}#sk-container-id-4 div.sk-dashed-wrapped {border: 1px dashed gray;margin: 0 0.4em 0.5em 0.4em;box-sizing: border-box;padding-bottom: 0.4em;background-color: white;}#sk-container-id-4 div.sk-label label {font-family: monospace;font-weight: bold;display: inline-block;line-height: 1.2em;}#sk-container-id-4 div.sk-label-container {text-align: center;}#sk-container-id-4 div.sk-container {/* jupyter's `normalize.less` sets `[hidden] { display: none; }` but bootstrap.min.css set `[hidden] { display: none !important; }` so we also need the `!important` here to be able to override the default hidden behavior on the sphinx rendered scikit-learn.org. See: https://github.com/scikit-learn/scikit-learn/issues/21755 */display: inline-block !important;position: relative;}#sk-container-id-4 div.sk-text-repr-fallback {display: none;}</style><div id=\"sk-container-id-4\" class=\"sk-top-container\"><div class=\"sk-text-repr-fallback\"><pre>GridSearchCV(cv=3,\n",
       "             estimator=Pipeline(steps=[(&#x27;standardscaler&#x27;, StandardScaler()),\n",
       "                                       (&#x27;pca&#x27;, PCA(random_state=42)),\n",
       "                                       (&#x27;svc&#x27;, SVC())]),\n",
       "             param_grid={&#x27;pca__n_components&#x27;: array([ 1,  2,  3,  4,  5,  6,  7,  8,  9, 10, 11, 12, 13, 14, 15, 16, 17,\n",
       "       18, 19, 20, 21, 22, 23, 24, 25, 26, 27, 28]),\n",
       "                         &#x27;svc__C&#x27;: [0.1, 1, 10, 100],\n",
       "                         &#x27;svc__gamma&#x27;: [0.001, 0.01, 0.1, 1, 10]},\n",
       "             scoring=&#x27;f1_macro&#x27;)</pre><b>In a Jupyter environment, please rerun this cell to show the HTML representation or trust the notebook. <br />On GitHub, the HTML representation is unable to render, please try loading this page with nbviewer.org.</b></div><div class=\"sk-container\" hidden><div class=\"sk-item sk-dashed-wrapped\"><div class=\"sk-label-container\"><div class=\"sk-label sk-toggleable\"><input class=\"sk-toggleable__control sk-hidden--visually\" id=\"sk-estimator-id-14\" type=\"checkbox\" ><label for=\"sk-estimator-id-14\" class=\"sk-toggleable__label sk-toggleable__label-arrow\">GridSearchCV</label><div class=\"sk-toggleable__content\"><pre>GridSearchCV(cv=3,\n",
       "             estimator=Pipeline(steps=[(&#x27;standardscaler&#x27;, StandardScaler()),\n",
       "                                       (&#x27;pca&#x27;, PCA(random_state=42)),\n",
       "                                       (&#x27;svc&#x27;, SVC())]),\n",
       "             param_grid={&#x27;pca__n_components&#x27;: array([ 1,  2,  3,  4,  5,  6,  7,  8,  9, 10, 11, 12, 13, 14, 15, 16, 17,\n",
       "       18, 19, 20, 21, 22, 23, 24, 25, 26, 27, 28]),\n",
       "                         &#x27;svc__C&#x27;: [0.1, 1, 10, 100],\n",
       "                         &#x27;svc__gamma&#x27;: [0.001, 0.01, 0.1, 1, 10]},\n",
       "             scoring=&#x27;f1_macro&#x27;)</pre></div></div></div><div class=\"sk-parallel\"><div class=\"sk-parallel-item\"><div class=\"sk-item\"><div class=\"sk-label-container\"><div class=\"sk-label sk-toggleable\"><input class=\"sk-toggleable__control sk-hidden--visually\" id=\"sk-estimator-id-15\" type=\"checkbox\" ><label for=\"sk-estimator-id-15\" class=\"sk-toggleable__label sk-toggleable__label-arrow\">estimator: Pipeline</label><div class=\"sk-toggleable__content\"><pre>Pipeline(steps=[(&#x27;standardscaler&#x27;, StandardScaler()),\n",
       "                (&#x27;pca&#x27;, PCA(random_state=42)), (&#x27;svc&#x27;, SVC())])</pre></div></div></div><div class=\"sk-serial\"><div class=\"sk-item\"><div class=\"sk-serial\"><div class=\"sk-item\"><div class=\"sk-estimator sk-toggleable\"><input class=\"sk-toggleable__control sk-hidden--visually\" id=\"sk-estimator-id-16\" type=\"checkbox\" ><label for=\"sk-estimator-id-16\" class=\"sk-toggleable__label sk-toggleable__label-arrow\">StandardScaler</label><div class=\"sk-toggleable__content\"><pre>StandardScaler()</pre></div></div></div><div class=\"sk-item\"><div class=\"sk-estimator sk-toggleable\"><input class=\"sk-toggleable__control sk-hidden--visually\" id=\"sk-estimator-id-17\" type=\"checkbox\" ><label for=\"sk-estimator-id-17\" class=\"sk-toggleable__label sk-toggleable__label-arrow\">PCA</label><div class=\"sk-toggleable__content\"><pre>PCA(random_state=42)</pre></div></div></div><div class=\"sk-item\"><div class=\"sk-estimator sk-toggleable\"><input class=\"sk-toggleable__control sk-hidden--visually\" id=\"sk-estimator-id-18\" type=\"checkbox\" ><label for=\"sk-estimator-id-18\" class=\"sk-toggleable__label sk-toggleable__label-arrow\">SVC</label><div class=\"sk-toggleable__content\"><pre>SVC()</pre></div></div></div></div></div></div></div></div></div></div></div></div>"
      ],
      "text/plain": [
       "GridSearchCV(cv=3,\n",
       "             estimator=Pipeline(steps=[('standardscaler', StandardScaler()),\n",
       "                                       ('pca', PCA(random_state=42)),\n",
       "                                       ('svc', SVC())]),\n",
       "             param_grid={'pca__n_components': array([ 1,  2,  3,  4,  5,  6,  7,  8,  9, 10, 11, 12, 13, 14, 15, 16, 17,\n",
       "       18, 19, 20, 21, 22, 23, 24, 25, 26, 27, 28]),\n",
       "                         'svc__C': [0.1, 1, 10, 100],\n",
       "                         'svc__gamma': [0.001, 0.01, 0.1, 1, 10]},\n",
       "             scoring='f1_macro')"
      ]
     },
     "execution_count": 28,
     "metadata": {},
     "output_type": "execute_result"
    }
   ],
   "source": [
    "clf_gridSearch.fit(X_train, y_train)"
   ]
  },
  {
   "cell_type": "code",
   "execution_count": 29,
   "id": "kllZSyYS4DyL",
   "metadata": {
    "colab": {
     "base_uri": "https://localhost:8080/"
    },
    "id": "kllZSyYS4DyL",
    "outputId": "3bd16d0a-47bd-4598-b5d5-361a495c397b"
   },
   "outputs": [
    {
     "name": "stdout",
     "output_type": "stream",
     "text": [
      "GridSearch CV best score : 0.8675\n",
      "\n",
      "\n",
      "Parameters that give the best results : \n",
      "\n",
      " {'pca__n_components': 5, 'svc__C': 1, 'svc__gamma': 0.1}\n"
     ]
    }
   ],
   "source": [
    "print('GridSearch CV best score : {:.4f}\\n\\n'.format(clf_gridSearch.best_score_))\n",
    "print('Parameters that give the best results :','\\n\\n', (clf_gridSearch.best_params_))"
   ]
  },
  {
   "cell_type": "code",
   "execution_count": 31,
   "id": "ubeiJTHp4SNR",
   "metadata": {
    "colab": {
     "base_uri": "https://localhost:8080/"
    },
    "id": "ubeiJTHp4SNR",
    "outputId": "fe181a19-1091-452c-844d-6a3df5fb3884"
   },
   "outputs": [
    {
     "data": {
      "text/html": [
       "<style>#sk-container-id-6 {color: black;background-color: white;}#sk-container-id-6 pre{padding: 0;}#sk-container-id-6 div.sk-toggleable {background-color: white;}#sk-container-id-6 label.sk-toggleable__label {cursor: pointer;display: block;width: 100%;margin-bottom: 0;padding: 0.3em;box-sizing: border-box;text-align: center;}#sk-container-id-6 label.sk-toggleable__label-arrow:before {content: \"▸\";float: left;margin-right: 0.25em;color: #696969;}#sk-container-id-6 label.sk-toggleable__label-arrow:hover:before {color: black;}#sk-container-id-6 div.sk-estimator:hover label.sk-toggleable__label-arrow:before {color: black;}#sk-container-id-6 div.sk-toggleable__content {max-height: 0;max-width: 0;overflow: hidden;text-align: left;background-color: #f0f8ff;}#sk-container-id-6 div.sk-toggleable__content pre {margin: 0.2em;color: black;border-radius: 0.25em;background-color: #f0f8ff;}#sk-container-id-6 input.sk-toggleable__control:checked~div.sk-toggleable__content {max-height: 200px;max-width: 100%;overflow: auto;}#sk-container-id-6 input.sk-toggleable__control:checked~label.sk-toggleable__label-arrow:before {content: \"▾\";}#sk-container-id-6 div.sk-estimator input.sk-toggleable__control:checked~label.sk-toggleable__label {background-color: #d4ebff;}#sk-container-id-6 div.sk-label input.sk-toggleable__control:checked~label.sk-toggleable__label {background-color: #d4ebff;}#sk-container-id-6 input.sk-hidden--visually {border: 0;clip: rect(1px 1px 1px 1px);clip: rect(1px, 1px, 1px, 1px);height: 1px;margin: -1px;overflow: hidden;padding: 0;position: absolute;width: 1px;}#sk-container-id-6 div.sk-estimator {font-family: monospace;background-color: #f0f8ff;border: 1px dotted black;border-radius: 0.25em;box-sizing: border-box;margin-bottom: 0.5em;}#sk-container-id-6 div.sk-estimator:hover {background-color: #d4ebff;}#sk-container-id-6 div.sk-parallel-item::after {content: \"\";width: 100%;border-bottom: 1px solid gray;flex-grow: 1;}#sk-container-id-6 div.sk-label:hover label.sk-toggleable__label {background-color: #d4ebff;}#sk-container-id-6 div.sk-serial::before {content: \"\";position: absolute;border-left: 1px solid gray;box-sizing: border-box;top: 0;bottom: 0;left: 50%;z-index: 0;}#sk-container-id-6 div.sk-serial {display: flex;flex-direction: column;align-items: center;background-color: white;padding-right: 0.2em;padding-left: 0.2em;position: relative;}#sk-container-id-6 div.sk-item {position: relative;z-index: 1;}#sk-container-id-6 div.sk-parallel {display: flex;align-items: stretch;justify-content: center;background-color: white;position: relative;}#sk-container-id-6 div.sk-item::before, #sk-container-id-6 div.sk-parallel-item::before {content: \"\";position: absolute;border-left: 1px solid gray;box-sizing: border-box;top: 0;bottom: 0;left: 50%;z-index: -1;}#sk-container-id-6 div.sk-parallel-item {display: flex;flex-direction: column;z-index: 1;position: relative;background-color: white;}#sk-container-id-6 div.sk-parallel-item:first-child::after {align-self: flex-end;width: 50%;}#sk-container-id-6 div.sk-parallel-item:last-child::after {align-self: flex-start;width: 50%;}#sk-container-id-6 div.sk-parallel-item:only-child::after {width: 0;}#sk-container-id-6 div.sk-dashed-wrapped {border: 1px dashed gray;margin: 0 0.4em 0.5em 0.4em;box-sizing: border-box;padding-bottom: 0.4em;background-color: white;}#sk-container-id-6 div.sk-label label {font-family: monospace;font-weight: bold;display: inline-block;line-height: 1.2em;}#sk-container-id-6 div.sk-label-container {text-align: center;}#sk-container-id-6 div.sk-container {/* jupyter's `normalize.less` sets `[hidden] { display: none; }` but bootstrap.min.css set `[hidden] { display: none !important; }` so we also need the `!important` here to be able to override the default hidden behavior on the sphinx rendered scikit-learn.org. See: https://github.com/scikit-learn/scikit-learn/issues/21755 */display: inline-block !important;position: relative;}#sk-container-id-6 div.sk-text-repr-fallback {display: none;}</style><div id=\"sk-container-id-6\" class=\"sk-top-container\"><div class=\"sk-text-repr-fallback\"><pre>Pipeline(steps=[(&#x27;standardscaler&#x27;, StandardScaler()),\n",
       "                (&#x27;pca&#x27;, PCA(n_components=5)),\n",
       "                (&#x27;svc&#x27;,\n",
       "                 SVC(C=1, gamma=0.01, kernel=&#x27;linear&#x27;, probability=True))])</pre><b>In a Jupyter environment, please rerun this cell to show the HTML representation or trust the notebook. <br />On GitHub, the HTML representation is unable to render, please try loading this page with nbviewer.org.</b></div><div class=\"sk-container\" hidden><div class=\"sk-item sk-dashed-wrapped\"><div class=\"sk-label-container\"><div class=\"sk-label sk-toggleable\"><input class=\"sk-toggleable__control sk-hidden--visually\" id=\"sk-estimator-id-23\" type=\"checkbox\" ><label for=\"sk-estimator-id-23\" class=\"sk-toggleable__label sk-toggleable__label-arrow\">Pipeline</label><div class=\"sk-toggleable__content\"><pre>Pipeline(steps=[(&#x27;standardscaler&#x27;, StandardScaler()),\n",
       "                (&#x27;pca&#x27;, PCA(n_components=5)),\n",
       "                (&#x27;svc&#x27;,\n",
       "                 SVC(C=1, gamma=0.01, kernel=&#x27;linear&#x27;, probability=True))])</pre></div></div></div><div class=\"sk-serial\"><div class=\"sk-item\"><div class=\"sk-estimator sk-toggleable\"><input class=\"sk-toggleable__control sk-hidden--visually\" id=\"sk-estimator-id-24\" type=\"checkbox\" ><label for=\"sk-estimator-id-24\" class=\"sk-toggleable__label sk-toggleable__label-arrow\">StandardScaler</label><div class=\"sk-toggleable__content\"><pre>StandardScaler()</pre></div></div></div><div class=\"sk-item\"><div class=\"sk-estimator sk-toggleable\"><input class=\"sk-toggleable__control sk-hidden--visually\" id=\"sk-estimator-id-25\" type=\"checkbox\" ><label for=\"sk-estimator-id-25\" class=\"sk-toggleable__label sk-toggleable__label-arrow\">PCA</label><div class=\"sk-toggleable__content\"><pre>PCA(n_components=5)</pre></div></div></div><div class=\"sk-item\"><div class=\"sk-estimator sk-toggleable\"><input class=\"sk-toggleable__control sk-hidden--visually\" id=\"sk-estimator-id-26\" type=\"checkbox\" ><label for=\"sk-estimator-id-26\" class=\"sk-toggleable__label sk-toggleable__label-arrow\">SVC</label><div class=\"sk-toggleable__content\"><pre>SVC(C=1, gamma=0.01, kernel=&#x27;linear&#x27;, probability=True)</pre></div></div></div></div></div></div></div>"
      ],
      "text/plain": [
       "Pipeline(steps=[('standardscaler', StandardScaler()),\n",
       "                ('pca', PCA(n_components=5)),\n",
       "                ('svc',\n",
       "                 SVC(C=1, gamma=0.01, kernel='linear', probability=True))])"
      ]
     },
     "execution_count": 31,
     "metadata": {},
     "output_type": "execute_result"
    }
   ],
   "source": [
    "svc = make_pipeline(preprocessing.StandardScaler(),PCA(n_components=5),SVC(kernel='linear',C=1,gamma=0.01,probability=True))\n",
    "svc.fit(X_train, y_train)"
   ]
  },
  {
   "cell_type": "code",
   "execution_count": 32,
   "id": "NzsJW9cL4X2u",
   "metadata": {
    "id": "NzsJW9cL4X2u"
   },
   "outputs": [],
   "source": [
    "Y_pred = svc.predict(X_test) "
   ]
  },
  {
   "cell_type": "code",
   "execution_count": 33,
   "id": "7vcRQffP4cUp",
   "metadata": {
    "colab": {
     "base_uri": "https://localhost:8080/"
    },
    "id": "7vcRQffP4cUp",
    "outputId": "4c28889b-dcfc-4904-972c-50c17e6c6bec"
   },
   "outputs": [
    {
     "name": "stdout",
     "output_type": "stream",
     "text": [
      "              precision    recall  f1-score   support\n",
      "\n",
      "           0       0.68      0.83      0.75        23\n",
      "           1       0.88      0.76      0.82        38\n",
      "\n",
      "    accuracy                           0.79        61\n",
      "   macro avg       0.78      0.79      0.78        61\n",
      "weighted avg       0.80      0.79      0.79        61\n",
      "\n",
      "accuracy: 0.787\n"
     ]
    }
   ],
   "source": [
    "print(classification_report(y_test, Y_pred))\n",
    "\n",
    "accuracy = accuracy_score(y_test,Y_pred)\n",
    "print('accuracy: %.3f' %accuracy)"
   ]
  },
  {
   "cell_type": "markdown",
   "id": "4a6db027-166d-4923-be5f-352c2c7facc2",
   "metadata": {
    "id": "4a6db027-166d-4923-be5f-352c2c7facc2"
   },
   "source": [
    "## Random Search\n"
   ]
  },
  {
   "cell_type": "code",
   "execution_count": 34,
   "id": "8SFezvL55YIG",
   "metadata": {
    "id": "8SFezvL55YIG"
   },
   "outputs": [],
   "source": [
    "pipe1= make_pipeline(StandardScaler(),PCA(random_state=42), SVC())\n",
    "param_grid={\"pca__n_components\": np.arange(1, 29),'svc__gamma': [0.001, 0.01, 0.1, 1, 10], 'svc__C': [0.1, 1, 10, 100]}\n",
    "clf_Random = RandomizedSearchCV(pipe1, param_grid,cv=3, scoring='f1_macro')"
   ]
  },
  {
   "cell_type": "code",
   "execution_count": 35,
   "id": "h3gWr9I08khm",
   "metadata": {
    "colab": {
     "base_uri": "https://localhost:8080/"
    },
    "id": "h3gWr9I08khm",
    "outputId": "6300cdce-84f1-44cc-c33d-f4938d69adeb"
   },
   "outputs": [
    {
     "data": {
      "text/plain": [
       "RandomizedSearchCV(cv=3,\n",
       "                   estimator=Pipeline(steps=[('standardscaler',\n",
       "                                              StandardScaler()),\n",
       "                                             ('pca', PCA(random_state=42)),\n",
       "                                             ('svc', SVC())]),\n",
       "                   param_distributions={'pca__n_components': array([ 1,  2,  3,  4,  5,  6,  7,  8,  9, 10, 11, 12, 13, 14, 15, 16, 17,\n",
       "       18, 19, 20, 21, 22, 23, 24, 25, 26, 27, 28]),\n",
       "                                        'svc__C': [0.1, 1, 10, 100],\n",
       "                                        'svc__gamma': [0.001, 0.01, 0.1, 1,\n",
       "                                                       10]},\n",
       "                   scoring='f1_macro')"
      ]
     },
     "execution_count": 35,
     "metadata": {},
     "output_type": "execute_result"
    }
   ],
   "source": [
    "clf_Random.fit(X_train, y_train)"
   ]
  },
  {
   "cell_type": "code",
   "execution_count": 36,
   "id": "oxlaxenT8oal",
   "metadata": {
    "colab": {
     "base_uri": "https://localhost:8080/"
    },
    "id": "oxlaxenT8oal",
    "outputId": "a018548b-0949-42ed-d3df-5b84c46dda96"
   },
   "outputs": [
    {
     "name": "stdout",
     "output_type": "stream",
     "text": [
      "GridSearch CV best score : 0.8333\n",
      "\n",
      "\n",
      "Parameters that give the best results : \n",
      "\n",
      " {'svc__gamma': 10, 'svc__C': 1, 'pca__n_components': 1}\n"
     ]
    }
   ],
   "source": [
    "print('GridSearch CV best score : {:.4f}\\n\\n'.format(clf_Random.best_score_))\n",
    "print('Parameters that give the best results :','\\n\\n', (clf_Random.best_params_))"
   ]
  },
  {
   "cell_type": "code",
   "execution_count": 37,
   "id": "z5RNcezi8yQo",
   "metadata": {
    "colab": {
     "base_uri": "https://localhost:8080/"
    },
    "id": "z5RNcezi8yQo",
    "outputId": "367fa94d-9ae0-4659-c222-61e0b196ac59"
   },
   "outputs": [
    {
     "data": {
      "text/plain": [
       "Pipeline(steps=[('standardscaler', StandardScaler()),\n",
       "                ('pca', PCA(n_components=1)),\n",
       "                ('svc',\n",
       "                 SVC(C=10, gamma=0.01, kernel='linear', probability=True))])"
      ]
     },
     "execution_count": 37,
     "metadata": {},
     "output_type": "execute_result"
    }
   ],
   "source": [
    "svc1 = make_pipeline(preprocessing.StandardScaler(),PCA(n_components=1),SVC(kernel='linear',C=10,gamma=0.01,probability=True))\n",
    "svc1.fit(X_train, y_train)"
   ]
  },
  {
   "cell_type": "code",
   "execution_count": 38,
   "id": "vyowNf5P85XN",
   "metadata": {
    "id": "vyowNf5P85XN"
   },
   "outputs": [],
   "source": [
    "Y_pred = svc1.predict(X_test) "
   ]
  },
  {
   "cell_type": "code",
   "execution_count": 39,
   "id": "7A8PDZ4Z88v7",
   "metadata": {
    "colab": {
     "base_uri": "https://localhost:8080/"
    },
    "id": "7A8PDZ4Z88v7",
    "outputId": "59578598-8fb4-492c-bad7-fb64dd906e4d"
   },
   "outputs": [
    {
     "name": "stdout",
     "output_type": "stream",
     "text": [
      "              precision    recall  f1-score   support\n",
      "\n",
      "           0       0.88      0.88      0.88        33\n",
      "           1       0.86      0.86      0.86        28\n",
      "\n",
      "    accuracy                           0.87        61\n",
      "   macro avg       0.87      0.87      0.87        61\n",
      "weighted avg       0.87      0.87      0.87        61\n",
      "\n",
      "accuracy: 0.869\n"
     ]
    }
   ],
   "source": [
    "print(classification_report(y_test, Y_pred))\n",
    "\n",
    "accuracy = accuracy_score(y_test,Y_pred)\n",
    "print('accuracy: %.3f' %accuracy)"
   ]
  },
  {
   "cell_type": "markdown",
   "id": "5666af34-d162-40d2-967d-2768b35dfeff",
   "metadata": {
    "id": "5666af34-d162-40d2-967d-2768b35dfeff"
   },
   "source": [
    "## linux\n"
   ]
  },
  {
   "cell_type": "markdown",
   "id": "73d9c43d-d874-4eda-9a01-ee8e34d1dff9",
   "metadata": {
    "id": "73d9c43d-d874-4eda-9a01-ee8e34d1dff9"
   },
   "source": [
    "1-برای تنظیمات گراب بهتر است کدوم فولدر تغییر داده شود "
   ]
  },
  {
   "cell_type": "markdown",
   "id": "e7538b10-c5c3-4efb-b9fc-9329ae8f3d69",
   "metadata": {
    "id": "e7538b10-c5c3-4efb-b9fc-9329ae8f3d69"
   },
   "source": [
    "grub.cfg"
   ]
  },
  {
   "cell_type": "markdown",
   "id": "c36d1a0e-f752-45f4-b92f-c680869b988b",
   "metadata": {
    "id": "c36d1a0e-f752-45f4-b92f-c680869b988b"
   },
   "source": [
    "2-\n",
    "شما برنامه ای را برای پیش بینی قیمت کالا نوشته اید این برمامه برای ران شدن احتیاج به خواندن ورودی به عنوان کانفیگ دارد کانفیگ های برنامه بهتر است چگونه و در کجا اعمال شوند "
   ]
  },
  {
   "cell_type": "markdown",
   "id": "642d457d-eab7-4ddc-a5a4-84a9a7812ccc",
   "metadata": {
    "id": "642d457d-eab7-4ddc-a5a4-84a9a7812ccc"
   },
   "source": [
    "#3-به نظر شما نود پرینتر یا هر سخت افزار در کدام فولدر ذخیره میشود"
   ]
  },
  {
   "cell_type": "markdown",
   "id": "db463e48-f31a-47d6-a236-703f95035b23",
   "metadata": {
    "id": "db463e48-f31a-47d6-a236-703f95035b23"
   },
   "source": [
    "# 4-چیست bios کار "
   ]
  },
  {
   "cell_type": "markdown",
   "id": "0c7f7078-cd4a-402a-ba68-753f406d02b4",
   "metadata": {
    "id": "0c7f7078-cd4a-402a-ba68-753f406d02b4"
   },
   "source": [
    "بایوس یا   (Basic Input/Output System)  ابزاری است که سخت افزار سیستم را در مرحله آغازین کار سیستم  LOW_LEVEL  و قبل از شروع کار سیستم عامل شناسائی کرده و پس از کسب اطمینان از کارائی آن به سیستم عامل در شناسائی و کار با این سخت افزار کمک میکند"
   ]
  },
  {
   "cell_type": "markdown",
   "id": "64f487eb-9eb1-4ceb-a989-036e31d1e01f",
   "metadata": {
    "id": "64f487eb-9eb1-4ceb-a989-036e31d1e01f"
   },
   "source": [
    "# 5- منظور از ~ چیست"
   ]
  },
  {
   "cell_type": "markdown",
   "id": "0d746a5c-eff4-498b-9def-68a43f326a19",
   "metadata": {
    "id": "0d746a5c-eff4-498b-9def-68a43f326a19"
   },
   "source": [
    "The ~ (tilde) is a quick way of specifying your home directory. The ~/. somefilename means your home directory, the file"
   ]
  },
  {
   "cell_type": "code",
   "execution_count": null,
   "id": "8e909aee-c419-47c9-a12e-d355dbd4effe",
   "metadata": {
    "id": "8e909aee-c419-47c9-a12e-d355dbd4effe"
   },
   "outputs": [],
   "source": []
  }
 ],
 "metadata": {
  "colab": {
   "provenance": []
  },
  "kernelspec": {
   "display_name": "Python 3 (ipykernel)",
   "language": "python",
   "name": "python3"
  },
  "language_info": {
   "codemirror_mode": {
    "name": "ipython",
    "version": 3
   },
   "file_extension": ".py",
   "mimetype": "text/x-python",
   "name": "python",
   "nbconvert_exporter": "python",
   "pygments_lexer": "ipython3",
   "version": "3.9.13"
  }
 },
 "nbformat": 4,
 "nbformat_minor": 5
}
