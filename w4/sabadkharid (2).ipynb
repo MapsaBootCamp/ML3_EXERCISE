{
 "cells": [
  {
   "cell_type": "code",
   "execution_count": 48,
   "id": "fd1f58de-fb8c-42c0-ad52-117a2e332797",
   "metadata": {},
   "outputs": [
    {
     "data": {
      "text/html": [
       "<div>\n",
       "<style scoped>\n",
       "    .dataframe tbody tr th:only-of-type {\n",
       "        vertical-align: middle;\n",
       "    }\n",
       "\n",
       "    .dataframe tbody tr th {\n",
       "        vertical-align: top;\n",
       "    }\n",
       "\n",
       "    .dataframe thead th {\n",
       "        text-align: right;\n",
       "    }\n",
       "</style>\n",
       "<table border=\"1\" class=\"dataframe\">\n",
       "  <thead>\n",
       "    <tr style=\"text-align: right;\">\n",
       "      <th></th>\n",
       "      <th>Customer Id</th>\n",
       "      <th>Date</th>\n",
       "      <th>Product</th>\n",
       "      <th>Date2</th>\n",
       "    </tr>\n",
       "  </thead>\n",
       "  <tbody>\n",
       "    <tr>\n",
       "      <th>0</th>\n",
       "      <td>JKML5ZWXP0XQ</td>\n",
       "      <td>2020-07-20</td>\n",
       "      <td>tropical fruit</td>\n",
       "      <td>2020-07-20</td>\n",
       "    </tr>\n",
       "    <tr>\n",
       "      <th>1</th>\n",
       "      <td>YOGWQIUPDAJ7</td>\n",
       "      <td>2020-04-30</td>\n",
       "      <td>whole milk</td>\n",
       "      <td>2020-04-30</td>\n",
       "    </tr>\n",
       "    <tr>\n",
       "      <th>2</th>\n",
       "      <td>Q3NL22281AF6</td>\n",
       "      <td>2020-09-18</td>\n",
       "      <td>pip fruit</td>\n",
       "      <td>2020-09-18</td>\n",
       "    </tr>\n",
       "  </tbody>\n",
       "</table>\n",
       "</div>"
      ],
      "text/plain": [
       "    Customer Id        Date         Product      Date2\n",
       "0  JKML5ZWXP0XQ  2020-07-20  tropical fruit 2020-07-20\n",
       "1  YOGWQIUPDAJ7  2020-04-30      whole milk 2020-04-30\n",
       "2  Q3NL22281AF6  2020-09-18       pip fruit 2020-09-18"
      ]
     },
     "execution_count": 48,
     "metadata": {},
     "output_type": "execute_result"
    }
   ],
   "source": [
    "import pandas as pd\n",
    "df=pd.read_csv('supermarket.csv')\n",
    "df['Date2']= pd.to_datetime(df['Date'])\n",
    "df.head(3)\n"
   ]
  },
  {
   "cell_type": "markdown",
   "id": "8650de2f-678f-45fe-bbb8-4fca99d53bae",
   "metadata": {},
   "source": [
    "میزان فروش به ازای هر روز به صورت میانگین"
   ]
  },
  {
   "cell_type": "code",
   "execution_count": 19,
   "id": "e32f1414-2988-4257-817d-15c89f305460",
   "metadata": {},
   "outputs": [
    {
     "data": {
      "text/plain": [
       "Customer Id    44.93\n",
       "Product        44.93\n",
       "dtype: float64"
      ]
     },
     "execution_count": 19,
     "metadata": {},
     "output_type": "execute_result"
    }
   ],
   "source": [
    "tab=df.groupby(by='Date').count()\n",
    "tab.mean().round(2)"
   ]
  },
  {
   "cell_type": "markdown",
   "id": "b21d3f09-5933-4a5a-aa47-1be6cc50f860",
   "metadata": {},
   "source": [
    "چهار محصولی که کمتر از بقیه در سبد مشتریان قرار گرفته‌اند"
   ]
  },
  {
   "cell_type": "code",
   "execution_count": 32,
   "id": "ca00a86a-33f5-4fae-b021-3523e5171a33",
   "metadata": {},
   "outputs": [
    {
     "data": {
      "text/html": [
       "<div>\n",
       "<style scoped>\n",
       "    .dataframe tbody tr th:only-of-type {\n",
       "        vertical-align: middle;\n",
       "    }\n",
       "\n",
       "    .dataframe tbody tr th {\n",
       "        vertical-align: top;\n",
       "    }\n",
       "\n",
       "    .dataframe thead th {\n",
       "        text-align: right;\n",
       "    }\n",
       "</style>\n",
       "<table border=\"1\" class=\"dataframe\">\n",
       "  <thead>\n",
       "    <tr style=\"text-align: right;\">\n",
       "      <th></th>\n",
       "      <th>Customer Id</th>\n",
       "      <th>Date</th>\n",
       "    </tr>\n",
       "    <tr>\n",
       "      <th>Product</th>\n",
       "      <th></th>\n",
       "      <th></th>\n",
       "    </tr>\n",
       "  </thead>\n",
       "  <tbody>\n",
       "    <tr>\n",
       "      <th>kitchen utensil</th>\n",
       "      <td>1</td>\n",
       "      <td>1</td>\n",
       "    </tr>\n",
       "    <tr>\n",
       "      <th>preservation products</th>\n",
       "      <td>1</td>\n",
       "      <td>1</td>\n",
       "    </tr>\n",
       "    <tr>\n",
       "      <th>baby cosmetics</th>\n",
       "      <td>3</td>\n",
       "      <td>3</td>\n",
       "    </tr>\n",
       "    <tr>\n",
       "      <th>bags</th>\n",
       "      <td>4</td>\n",
       "      <td>4</td>\n",
       "    </tr>\n",
       "  </tbody>\n",
       "</table>\n",
       "</div>"
      ],
      "text/plain": [
       "                       Customer Id  Date\n",
       "Product                                 \n",
       "kitchen utensil                  1     1\n",
       "preservation products            1     1\n",
       "baby cosmetics                   3     3\n",
       "bags                             4     4"
      ]
     },
     "execution_count": 32,
     "metadata": {},
     "output_type": "execute_result"
    }
   ],
   "source": [
    "tab2=df.groupby(by='Product').count()\n",
    "tab2\n",
    "tab2.nsmallest(4,'Customer Id')"
   ]
  },
  {
   "cell_type": "markdown",
   "id": "30a05d49-c89d-416d-babc-d01d3ea720bf",
   "metadata": {},
   "source": [
    "پنج مشتری‌ای که در سال ۲۰۲۰، بیشترین تعداد \"سبد\" را داشته‌اند"
   ]
  },
  {
   "cell_type": "code",
   "execution_count": 36,
   "id": "fbfef813-41e5-4f87-b932-e0c09f59357a",
   "metadata": {},
   "outputs": [
    {
     "data": {
      "text/html": [
       "<div>\n",
       "<style scoped>\n",
       "    .dataframe tbody tr th:only-of-type {\n",
       "        vertical-align: middle;\n",
       "    }\n",
       "\n",
       "    .dataframe tbody tr th {\n",
       "        vertical-align: top;\n",
       "    }\n",
       "\n",
       "    .dataframe thead th {\n",
       "        text-align: right;\n",
       "    }\n",
       "</style>\n",
       "<table border=\"1\" class=\"dataframe\">\n",
       "  <thead>\n",
       "    <tr style=\"text-align: right;\">\n",
       "      <th></th>\n",
       "      <th>Date</th>\n",
       "      <th>Product</th>\n",
       "    </tr>\n",
       "    <tr>\n",
       "      <th>Customer Id</th>\n",
       "      <th></th>\n",
       "      <th></th>\n",
       "    </tr>\n",
       "  </thead>\n",
       "  <tbody>\n",
       "    <tr>\n",
       "      <th>0P1TPIH74E79</th>\n",
       "      <td>32</td>\n",
       "      <td>32</td>\n",
       "    </tr>\n",
       "    <tr>\n",
       "      <th>0ZRF32AJ06BC</th>\n",
       "      <td>30</td>\n",
       "      <td>30</td>\n",
       "    </tr>\n",
       "    <tr>\n",
       "      <th>L1V5UZI2G191</th>\n",
       "      <td>28</td>\n",
       "      <td>28</td>\n",
       "    </tr>\n",
       "    <tr>\n",
       "      <th>7V1DR149IGK5</th>\n",
       "      <td>26</td>\n",
       "      <td>26</td>\n",
       "    </tr>\n",
       "    <tr>\n",
       "      <th>JKC89PT6OZ01</th>\n",
       "      <td>26</td>\n",
       "      <td>26</td>\n",
       "    </tr>\n",
       "  </tbody>\n",
       "</table>\n",
       "</div>"
      ],
      "text/plain": [
       "              Date  Product\n",
       "Customer Id                \n",
       "0P1TPIH74E79    32       32\n",
       "0ZRF32AJ06BC    30       30\n",
       "L1V5UZI2G191    28       28\n",
       "7V1DR149IGK5    26       26\n",
       "JKC89PT6OZ01    26       26"
      ]
     },
     "execution_count": 36,
     "metadata": {},
     "output_type": "execute_result"
    }
   ],
   "source": [
    "tab3=df.groupby(by='Customer Id').count()\n",
    "tab3.nlargest(5,'Product')"
   ]
  },
  {
   "cell_type": "markdown",
   "id": "1224cc7e-8828-47a1-9391-2771cbc5df3c",
   "metadata": {},
   "source": [
    "کدام روز هفته، بیشترین تعداد محصول فروش رفته‌است؟"
   ]
  },
  {
   "cell_type": "code",
   "execution_count": 74,
   "id": "46a290c7-ee62-4d9d-809e-a679f56765c5",
   "metadata": {},
   "outputs": [
    {
     "data": {
      "text/html": [
       "<div>\n",
       "<style scoped>\n",
       "    .dataframe tbody tr th:only-of-type {\n",
       "        vertical-align: middle;\n",
       "    }\n",
       "\n",
       "    .dataframe tbody tr th {\n",
       "        vertical-align: top;\n",
       "    }\n",
       "\n",
       "    .dataframe thead th {\n",
       "        text-align: right;\n",
       "    }\n",
       "</style>\n",
       "<table border=\"1\" class=\"dataframe\">\n",
       "  <thead>\n",
       "    <tr style=\"text-align: right;\">\n",
       "      <th></th>\n",
       "      <th>Customer Id</th>\n",
       "      <th>Date</th>\n",
       "      <th>Product</th>\n",
       "      <th>Date2</th>\n",
       "    </tr>\n",
       "    <tr>\n",
       "      <th>Day</th>\n",
       "      <th></th>\n",
       "      <th></th>\n",
       "      <th></th>\n",
       "      <th></th>\n",
       "    </tr>\n",
       "  </thead>\n",
       "  <tbody>\n",
       "    <tr>\n",
       "      <th>2</th>\n",
       "      <td>4846</td>\n",
       "      <td>4846</td>\n",
       "      <td>4846</td>\n",
       "      <td>4846</td>\n",
       "    </tr>\n",
       "  </tbody>\n",
       "</table>\n",
       "</div>"
      ],
      "text/plain": [
       "     Customer Id  Date  Product  Date2\n",
       "Day                                   \n",
       "2           4846  4846     4846   4846"
      ]
     },
     "execution_count": 74,
     "metadata": {},
     "output_type": "execute_result"
    }
   ],
   "source": [
    "df['Day']=df['Date2'].dt.dayofweek\n",
    "df.groupby(by='Day').count().nlargest(1,'Product')"
   ]
  },
  {
   "cell_type": "code",
   "execution_count": 331,
   "id": "83fc6efc-ea42-46a2-ad96-cca122356d02",
   "metadata": {},
   "outputs": [],
   "source": [
    "# df2=pd.crosstab(df['Customer Id'], df['Product'])\n"
   ]
  },
  {
   "cell_type": "code",
   "execution_count": 307,
   "id": "8919e32c-fed5-4008-ac93-0be1cf389ab7",
   "metadata": {},
   "outputs": [
    {
     "data": {
      "text/html": [
       "<div>\n",
       "<style scoped>\n",
       "    .dataframe tbody tr th:only-of-type {\n",
       "        vertical-align: middle;\n",
       "    }\n",
       "\n",
       "    .dataframe tbody tr th {\n",
       "        vertical-align: top;\n",
       "    }\n",
       "\n",
       "    .dataframe thead th {\n",
       "        text-align: right;\n",
       "    }\n",
       "</style>\n",
       "<table border=\"1\" class=\"dataframe\">\n",
       "  <thead>\n",
       "    <tr style=\"text-align: right;\">\n",
       "      <th>Product</th>\n",
       "      <th>Instant food products</th>\n",
       "      <th>UHT-milk</th>\n",
       "      <th>abrasive cleaner</th>\n",
       "      <th>artif. sweetener</th>\n",
       "      <th>baby cosmetics</th>\n",
       "      <th>bags</th>\n",
       "      <th>baking powder</th>\n",
       "      <th>bathroom cleaner</th>\n",
       "      <th>beef</th>\n",
       "      <th>berries</th>\n",
       "      <th>...</th>\n",
       "      <th>tea</th>\n",
       "      <th>toilet cleaner</th>\n",
       "      <th>tropical fruit</th>\n",
       "      <th>turkey</th>\n",
       "      <th>waffles</th>\n",
       "      <th>whipped/sour cream</th>\n",
       "      <th>white bread</th>\n",
       "      <th>whole milk</th>\n",
       "      <th>yogurt</th>\n",
       "      <th>zwieback</th>\n",
       "    </tr>\n",
       "    <tr>\n",
       "      <th>Customer Id</th>\n",
       "      <th></th>\n",
       "      <th></th>\n",
       "      <th></th>\n",
       "      <th></th>\n",
       "      <th></th>\n",
       "      <th></th>\n",
       "      <th></th>\n",
       "      <th></th>\n",
       "      <th></th>\n",
       "      <th></th>\n",
       "      <th></th>\n",
       "      <th></th>\n",
       "      <th></th>\n",
       "      <th></th>\n",
       "      <th></th>\n",
       "      <th></th>\n",
       "      <th></th>\n",
       "      <th></th>\n",
       "      <th></th>\n",
       "      <th></th>\n",
       "      <th></th>\n",
       "    </tr>\n",
       "  </thead>\n",
       "  <tbody>\n",
       "    <tr>\n",
       "      <th>0011457U6R3Y</th>\n",
       "      <td>False</td>\n",
       "      <td>False</td>\n",
       "      <td>False</td>\n",
       "      <td>False</td>\n",
       "      <td>False</td>\n",
       "      <td>False</td>\n",
       "      <td>False</td>\n",
       "      <td>False</td>\n",
       "      <td>False</td>\n",
       "      <td>False</td>\n",
       "      <td>...</td>\n",
       "      <td>False</td>\n",
       "      <td>False</td>\n",
       "      <td>False</td>\n",
       "      <td>False</td>\n",
       "      <td>False</td>\n",
       "      <td>False</td>\n",
       "      <td>False</td>\n",
       "      <td>False</td>\n",
       "      <td>False</td>\n",
       "      <td>False</td>\n",
       "    </tr>\n",
       "  </tbody>\n",
       "</table>\n",
       "<p>1 rows × 137 columns</p>\n",
       "</div>"
      ],
      "text/plain": [
       "Product       Instant food products  UHT-milk  abrasive cleaner  \\\n",
       "Customer Id                                                       \n",
       "0011457U6R3Y                  False     False             False   \n",
       "\n",
       "Product       artif. sweetener  baby cosmetics   bags  baking powder  \\\n",
       "Customer Id                                                            \n",
       "0011457U6R3Y             False           False  False          False   \n",
       "\n",
       "Product       bathroom cleaner   beef  berries  ...    tea  toilet cleaner  \\\n",
       "Customer Id                                     ...                          \n",
       "0011457U6R3Y             False  False    False  ...  False           False   \n",
       "\n",
       "Product       tropical fruit  turkey  waffles  whipped/sour cream  \\\n",
       "Customer Id                                                         \n",
       "0011457U6R3Y           False   False    False               False   \n",
       "\n",
       "Product       white bread  whole milk  yogurt  zwieback  \n",
       "Customer Id                                              \n",
       "0011457U6R3Y        False       False   False     False  \n",
       "\n",
       "[1 rows x 137 columns]"
      ]
     },
     "execution_count": 307,
     "metadata": {},
     "output_type": "execute_result"
    }
   ],
   "source": [
    "import numpy as np\n",
    "import math\n",
    "tab4=pd.pivot_table(df, index=['Customer Id'],columns=['Product'], aggfunc=np.sum)\n",
    "tab4.columns = tab4.columns.droplevel()\n",
    "# tab4.reindex\n",
    "# tab5=tab4.reset_index()\n",
    "# tab6=tab5.drop(columns=['Customer Id'])\n",
    "tab7=tab4.applymap(lambda x: x>0)\n",
    "tab7.head(1)"
   ]
  },
  {
   "cell_type": "markdown",
   "id": "177d7b5e-726f-4027-bdc3-9f1ca80f9ccc",
   "metadata": {},
   "source": [
    "پنج محصولی که بیشترین support را دارند به ترتیب نزولی"
   ]
  },
  {
   "cell_type": "code",
   "execution_count": 327,
   "id": "4f02e1ee-6e7f-4724-a895-4ec97a12223e",
   "metadata": {},
   "outputs": [
    {
     "data": {
      "text/html": [
       "<div>\n",
       "<style scoped>\n",
       "    .dataframe tbody tr th:only-of-type {\n",
       "        vertical-align: middle;\n",
       "    }\n",
       "\n",
       "    .dataframe tbody tr th {\n",
       "        vertical-align: top;\n",
       "    }\n",
       "\n",
       "    .dataframe thead th {\n",
       "        text-align: right;\n",
       "    }\n",
       "</style>\n",
       "<table border=\"1\" class=\"dataframe\">\n",
       "  <thead>\n",
       "    <tr style=\"text-align: right;\">\n",
       "      <th></th>\n",
       "      <th>support</th>\n",
       "      <th>itemsets</th>\n",
       "    </tr>\n",
       "  </thead>\n",
       "  <tbody>\n",
       "    <tr>\n",
       "      <th>86</th>\n",
       "      <td>0.409967</td>\n",
       "      <td>(whole milk)</td>\n",
       "    </tr>\n",
       "    <tr>\n",
       "      <th>54</th>\n",
       "      <td>0.328282</td>\n",
       "      <td>(other vegetables)</td>\n",
       "    </tr>\n",
       "    <tr>\n",
       "      <th>64</th>\n",
       "      <td>0.308246</td>\n",
       "      <td>(rolls/buns)</td>\n",
       "    </tr>\n",
       "    <tr>\n",
       "      <th>72</th>\n",
       "      <td>0.273054</td>\n",
       "      <td>(soda)</td>\n",
       "    </tr>\n",
       "    <tr>\n",
       "      <th>87</th>\n",
       "      <td>0.247367</td>\n",
       "      <td>(yogurt)</td>\n",
       "    </tr>\n",
       "  </tbody>\n",
       "</table>\n",
       "</div>"
      ],
      "text/plain": [
       "     support            itemsets\n",
       "86  0.409967        (whole milk)\n",
       "54  0.328282  (other vegetables)\n",
       "64  0.308246        (rolls/buns)\n",
       "72  0.273054              (soda)\n",
       "87  0.247367            (yogurt)"
      ]
     },
     "execution_count": 327,
     "metadata": {},
     "output_type": "execute_result"
    }
   ],
   "source": [
    "from mlxtend.frequent_patterns import apriori\n",
    "\n",
    "support=apriori(tab7, min_support=0.01, use_colnames=True)\n",
    "bestprod=support.sort_values(by='support', ascending=False).head(5)\n",
    "bestprod\n"
   ]
  },
  {
   "cell_type": "markdown",
   "id": "93cac8a4-fdae-4677-bb7a-7abb0ab36b73",
   "metadata": {},
   "source": [
    " دو الگویی که بیشترین اطمینان را دارند،"
   ]
  },
  {
   "cell_type": "code",
   "execution_count": 330,
   "id": "888b5f65-d28a-408a-b6ed-811b88d2e5a0",
   "metadata": {},
   "outputs": [
    {
     "data": {
      "text/html": [
       "<div>\n",
       "<style scoped>\n",
       "    .dataframe tbody tr th:only-of-type {\n",
       "        vertical-align: middle;\n",
       "    }\n",
       "\n",
       "    .dataframe tbody tr th {\n",
       "        vertical-align: top;\n",
       "    }\n",
       "\n",
       "    .dataframe thead th {\n",
       "        text-align: right;\n",
       "    }\n",
       "</style>\n",
       "<table border=\"1\" class=\"dataframe\">\n",
       "  <thead>\n",
       "    <tr style=\"text-align: right;\">\n",
       "      <th></th>\n",
       "      <th>antecedents</th>\n",
       "      <th>consequents</th>\n",
       "      <th>antecedent support</th>\n",
       "      <th>consequent support</th>\n",
       "      <th>support</th>\n",
       "      <th>confidence</th>\n",
       "      <th>lift</th>\n",
       "      <th>leverage</th>\n",
       "      <th>conviction</th>\n",
       "    </tr>\n",
       "  </thead>\n",
       "  <tbody>\n",
       "    <tr>\n",
       "      <th>4701</th>\n",
       "      <td>(curd, soda, other vegetables)</td>\n",
       "      <td>(whole milk)</td>\n",
       "      <td>0.013871</td>\n",
       "      <td>0.409967</td>\n",
       "      <td>0.010275</td>\n",
       "      <td>0.740741</td>\n",
       "      <td>1.806832</td>\n",
       "      <td>0.004588</td>\n",
       "      <td>2.275843</td>\n",
       "    </tr>\n",
       "    <tr>\n",
       "      <th>4616</th>\n",
       "      <td>(butter, rolls/buns, yogurt)</td>\n",
       "      <td>(whole milk)</td>\n",
       "      <td>0.015155</td>\n",
       "      <td>0.409967</td>\n",
       "      <td>0.011045</td>\n",
       "      <td>0.728814</td>\n",
       "      <td>1.777739</td>\n",
       "      <td>0.004832</td>\n",
       "      <td>2.175748</td>\n",
       "    </tr>\n",
       "  </tbody>\n",
       "</table>\n",
       "</div>"
      ],
      "text/plain": [
       "                         antecedents   consequents  antecedent support  \\\n",
       "4701  (curd, soda, other vegetables)  (whole milk)            0.013871   \n",
       "4616    (butter, rolls/buns, yogurt)  (whole milk)            0.015155   \n",
       "\n",
       "      consequent support   support  confidence      lift  leverage  conviction  \n",
       "4701            0.409967  0.010275    0.740741  1.806832  0.004588    2.275843  \n",
       "4616            0.409967  0.011045    0.728814  1.777739  0.004832    2.175748  "
      ]
     },
     "execution_count": 330,
     "metadata": {},
     "output_type": "execute_result"
    }
   ],
   "source": [
    "from mlxtend.frequent_patterns import association_rules\n",
    "\n",
    "rules = association_rules(support, metric = 'lift', min_threshold = 1)\n",
    "rules.sort_values(by='confidence' , ascending=False).head(2)"
   ]
  }
 ],
 "metadata": {
  "kernelspec": {
   "display_name": "Python 3 (ipykernel)",
   "language": "python",
   "name": "python3"
  },
  "language_info": {
   "codemirror_mode": {
    "name": "ipython",
    "version": 3
   },
   "file_extension": ".py",
   "mimetype": "text/x-python",
   "name": "python",
   "nbconvert_exporter": "python",
   "pygments_lexer": "ipython3",
   "version": "3.9.13"
  }
 },
 "nbformat": 4,
 "nbformat_minor": 5
}
