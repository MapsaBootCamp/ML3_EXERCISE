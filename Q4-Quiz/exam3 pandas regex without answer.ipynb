{
 "cells": [
  {
   "cell_type": "markdown",
   "id": "25b0d7eb",
   "metadata": {},
   "source": [
    "# Questions and Results"
   ]
  },
  {
   "cell_type": "markdown",
   "id": "deedfbc7",
   "metadata": {},
   "source": [
    "## docker"
   ]
  },
  {
   "cell_type": "markdown",
   "id": "c00c53a5",
   "metadata": {},
   "source": [
    "### 1- write a command to make  postgres container from 3.9 version with volume that connect \"/etc/\" of host to \"/var/lib/postgresql/data\" of docker  user=\"me\" pass=\"me@pass\" in detached mode and name it \"mypostgrescontainer\""
   ]
  },
  {
   "cell_type": "markdown",
   "id": "55161555-e803-422a-922b-6acf0e17d963",
   "metadata": {},
   "source": [
    "docker run --name mypostgrescontainer -v /etc:/var/lib/postgresql/data -p 5432:5432 -e POSTGRES_USER=me -e POSTGRES_PASSWORD=me@pass -d postgres:3.9"
   ]
  },
  {
   "cell_type": "markdown",
   "id": "b4337666",
   "metadata": {},
   "source": [
    "### 2 - we made the above docker we want write a function in python to find the status of it (EXITED,RUNNING,PAUSED,...) waht is your suggestion command? "
   ]
  },
  {
   "cell_type": "markdown",
   "id": "c62e7225-1221-4db9-808f-10e6de4deb33",
   "metadata": {},
   "source": [
    "from typing import Optional\n",
    "\n",
    "import docker\n",
    "\n",
    "\n",
    "def is_container_running(container_name: str) -> Optional[bool]:\n",
    "    \n",
    "    docker_client = docker.from_env()\n",
    "\n",
    "    try:\n",
    "        container = docker_client.containers.get(container_name)\n",
    "    except docker.errors.NotFound as exc:\n",
    "        print(f\"Check container name!\\n{exc.explanation}\")\n",
    "    else:\n",
    "        container_state = container.attrs[\"State\"]\n",
    "        return container_state[\"Status\"]\n",
    "\n",
    "\n",
    "if __name__ == \"__main__\":\n",
    "    container_name = \"mypostgrescontainer\"\n",
    "    result = is_container_running(container_name)\n",
    "    print(result)"
   ]
  },
  {
   "cell_type": "markdown",
   "id": "8fe1e7e9-bc7d-4a8d-bb99-4d9f2c491455",
   "metadata": {},
   "source": [
    "### 3- با استفاده از دادگان ارائه شده محاسبه کنید هر مشتری چند درصد از هر محصول را خریده است. (با دقت دهگان درصد)"
   ]
  },
  {
   "cell_type": "markdown",
   "id": "a5681bd1-58d3-40ba-954c-466a676e93e0",
   "metadata": {
    "tags": []
   },
   "source": [
    "# solution"
   ]
  },
  {
   "cell_type": "code",
   "execution_count": 54,
   "id": "a5b79d67-c92a-4a06-9491-b69cea6a5e7d",
   "metadata": {},
   "outputs": [],
   "source": [
    "import pandas as pd\n",
    "import numpy as np"
   ]
  },
  {
   "cell_type": "code",
   "execution_count": 55,
   "id": "fcafa7a3-ff19-46cb-9a73-49f0a392a789",
   "metadata": {},
   "outputs": [],
   "source": [
    "data = pd.read_csv('quize_pandas.zip', compression='zip')"
   ]
  },
  {
   "cell_type": "code",
   "execution_count": 56,
   "id": "0f0a257d-6e62-4336-ba18-2afa996ef80c",
   "metadata": {},
   "outputs": [],
   "source": [
    "df = pd.pivot_table(data=data,values=[\"Count\",\"Volume\"] ,columns=[\"Product\",\"Model\" ], aggfunc=\"sum\", index = \"Customer\")\n",
    "df = df.fillna(0)"
   ]
  },
  {
   "cell_type": "code",
   "execution_count": 57,
   "id": "d37df90d-e8b5-468d-9fee-71dd367c393b",
   "metadata": {},
   "outputs": [
    {
     "data": {
      "text/html": [
       "<div>\n",
       "<style scoped>\n",
       "    .dataframe tbody tr th:only-of-type {\n",
       "        vertical-align: middle;\n",
       "    }\n",
       "\n",
       "    .dataframe tbody tr th {\n",
       "        vertical-align: top;\n",
       "    }\n",
       "\n",
       "    .dataframe thead tr th {\n",
       "        text-align: left;\n",
       "    }\n",
       "\n",
       "    .dataframe thead tr:last-of-type th {\n",
       "        text-align: right;\n",
       "    }\n",
       "</style>\n",
       "<table border=\"1\" class=\"dataframe\">\n",
       "  <thead>\n",
       "    <tr>\n",
       "      <th></th>\n",
       "      <th colspan=\"6\" halign=\"left\">Count</th>\n",
       "      <th colspan=\"3\" halign=\"left\">Volume</th>\n",
       "    </tr>\n",
       "    <tr>\n",
       "      <th>Product</th>\n",
       "      <th colspan=\"3\" halign=\"left\">P01</th>\n",
       "      <th colspan=\"3\" halign=\"left\">P03</th>\n",
       "      <th colspan=\"3\" halign=\"left\">P02</th>\n",
       "    </tr>\n",
       "    <tr>\n",
       "      <th>Model</th>\n",
       "      <th>M01</th>\n",
       "      <th>M02</th>\n",
       "      <th>M03</th>\n",
       "      <th>M01</th>\n",
       "      <th>M02</th>\n",
       "      <th>M03</th>\n",
       "      <th>M01</th>\n",
       "      <th>M02</th>\n",
       "      <th>M03</th>\n",
       "    </tr>\n",
       "    <tr>\n",
       "      <th>Customer</th>\n",
       "      <th></th>\n",
       "      <th></th>\n",
       "      <th></th>\n",
       "      <th></th>\n",
       "      <th></th>\n",
       "      <th></th>\n",
       "      <th></th>\n",
       "      <th></th>\n",
       "      <th></th>\n",
       "    </tr>\n",
       "  </thead>\n",
       "  <tbody>\n",
       "    <tr>\n",
       "      <th>CI100019</th>\n",
       "      <td>0.0</td>\n",
       "      <td>0.71875</td>\n",
       "      <td>0.833333</td>\n",
       "      <td>0.201923</td>\n",
       "      <td>0.421365</td>\n",
       "      <td>0.554348</td>\n",
       "      <td>0.000000</td>\n",
       "      <td>0.449101</td>\n",
       "      <td>0.121291</td>\n",
       "    </tr>\n",
       "    <tr>\n",
       "      <th>CI100021</th>\n",
       "      <td>1.0</td>\n",
       "      <td>0.00000</td>\n",
       "      <td>0.166667</td>\n",
       "      <td>0.403846</td>\n",
       "      <td>0.335312</td>\n",
       "      <td>0.445652</td>\n",
       "      <td>0.056476</td>\n",
       "      <td>0.247027</td>\n",
       "      <td>0.488387</td>\n",
       "    </tr>\n",
       "    <tr>\n",
       "      <th>CI100028</th>\n",
       "      <td>0.0</td>\n",
       "      <td>0.28125</td>\n",
       "      <td>0.000000</td>\n",
       "      <td>0.394231</td>\n",
       "      <td>0.243323</td>\n",
       "      <td>0.000000</td>\n",
       "      <td>0.943524</td>\n",
       "      <td>0.303872</td>\n",
       "      <td>0.390322</td>\n",
       "    </tr>\n",
       "  </tbody>\n",
       "</table>\n",
       "</div>"
      ],
      "text/plain": [
       "         Count                                                     Volume  \\\n",
       "Product    P01                          P03                           P02   \n",
       "Model      M01      M02       M03       M01       M02       M03       M01   \n",
       "Customer                                                                    \n",
       "CI100019   0.0  0.71875  0.833333  0.201923  0.421365  0.554348  0.000000   \n",
       "CI100021   1.0  0.00000  0.166667  0.403846  0.335312  0.445652  0.056476   \n",
       "CI100028   0.0  0.28125  0.000000  0.394231  0.243323  0.000000  0.943524   \n",
       "\n",
       "                              \n",
       "Product                       \n",
       "Model          M02       M03  \n",
       "Customer                      \n",
       "CI100019  0.449101  0.121291  \n",
       "CI100021  0.247027  0.488387  \n",
       "CI100028  0.303872  0.390322  "
      ]
     },
     "execution_count": 57,
     "metadata": {},
     "output_type": "execute_result"
    }
   ],
   "source": [
    "df = df.apply(lambda x: x / sum(x))\n",
    "df = df.dropna(axis=1)\n",
    "df"
   ]
  },
  {
   "cell_type": "markdown",
   "id": "a476e33a-016d-4941-931e-f86066d7bcf0",
   "metadata": {},
   "source": [
    "### 4- به هر سطر لیست دادگان میزان کل محصول خریداری شده اضافه کنید و بنا به شماره مشتری، محصول و مدل مرتب کنید "
   ]
  },
  {
   "cell_type": "code",
   "execution_count": null,
   "id": "4229af6d-a163-4070-9802-87edc4e91da2",
   "metadata": {},
   "outputs": [],
   "source": [
    "df = data.groupby([\"Customer\" , \"Product\" ,\"Model\"]).sum()\n",
    "d=data.groupby([\"Model\" , \"Product\"]).sum()"
   ]
  },
  {
   "cell_type": "code",
   "execution_count": null,
   "id": "3932046b-a7fc-46c4-88e2-c93d99c46d3a",
   "metadata": {},
   "outputs": [],
   "source": [
    "df[\"Count total\"] = 0\n",
    "df[\"Volume total\"] = 0\n",
    "\n",
    "for costumer , product , model in df.index:\n",
    "    df[\"Count total\"].loc[costumer,product, model] = d.loc[model , product][\"Count\"]\n",
    "    df[\"Volume total\"].loc[costumer,product, model] = d.loc[model , product][\"Volume\"]"
   ]
  },
  {
   "cell_type": "code",
   "execution_count": 60,
   "id": "2a86c78e-821a-4bf6-a869-94ee477fee54",
   "metadata": {},
   "outputs": [
    {
     "data": {
      "text/html": [
       "<div>\n",
       "<style scoped>\n",
       "    .dataframe tbody tr th:only-of-type {\n",
       "        vertical-align: middle;\n",
       "    }\n",
       "\n",
       "    .dataframe tbody tr th {\n",
       "        vertical-align: top;\n",
       "    }\n",
       "\n",
       "    .dataframe thead th {\n",
       "        text-align: right;\n",
       "    }\n",
       "</style>\n",
       "<table border=\"1\" class=\"dataframe\">\n",
       "  <thead>\n",
       "    <tr style=\"text-align: right;\">\n",
       "      <th></th>\n",
       "      <th></th>\n",
       "      <th></th>\n",
       "      <th>Count</th>\n",
       "      <th>Volume</th>\n",
       "      <th>Count total</th>\n",
       "      <th>Volume total</th>\n",
       "    </tr>\n",
       "    <tr>\n",
       "      <th>Customer</th>\n",
       "      <th>Product</th>\n",
       "      <th>Model</th>\n",
       "      <th></th>\n",
       "      <th></th>\n",
       "      <th></th>\n",
       "      <th></th>\n",
       "    </tr>\n",
       "  </thead>\n",
       "  <tbody>\n",
       "    <tr>\n",
       "      <th rowspan=\"7\" valign=\"top\">CI100019</th>\n",
       "      <th rowspan=\"2\" valign=\"top\">P01</th>\n",
       "      <th>M02</th>\n",
       "      <td>23.0</td>\n",
       "      <td>0.000000</td>\n",
       "      <td>32</td>\n",
       "      <td>0.000000</td>\n",
       "    </tr>\n",
       "    <tr>\n",
       "      <th>M03</th>\n",
       "      <td>10.0</td>\n",
       "      <td>0.000000</td>\n",
       "      <td>12</td>\n",
       "      <td>0.000000</td>\n",
       "    </tr>\n",
       "    <tr>\n",
       "      <th rowspan=\"2\" valign=\"top\">P02</th>\n",
       "      <th>M02</th>\n",
       "      <td>0.0</td>\n",
       "      <td>1.723917</td>\n",
       "      <td>0</td>\n",
       "      <td>3.838595</td>\n",
       "    </tr>\n",
       "    <tr>\n",
       "      <th>M03</th>\n",
       "      <td>0.0</td>\n",
       "      <td>1.370358</td>\n",
       "      <td>0</td>\n",
       "      <td>11.298089</td>\n",
       "    </tr>\n",
       "    <tr>\n",
       "      <th rowspan=\"3\" valign=\"top\">P03</th>\n",
       "      <th>M01</th>\n",
       "      <td>21.0</td>\n",
       "      <td>0.000000</td>\n",
       "      <td>104</td>\n",
       "      <td>0.000000</td>\n",
       "    </tr>\n",
       "    <tr>\n",
       "      <th>M02</th>\n",
       "      <td>142.0</td>\n",
       "      <td>0.000000</td>\n",
       "      <td>337</td>\n",
       "      <td>0.000000</td>\n",
       "    </tr>\n",
       "    <tr>\n",
       "      <th>M03</th>\n",
       "      <td>51.0</td>\n",
       "      <td>0.000000</td>\n",
       "      <td>92</td>\n",
       "      <td>0.000000</td>\n",
       "    </tr>\n",
       "    <tr>\n",
       "      <th rowspan=\"8\" valign=\"top\">CI100021</th>\n",
       "      <th rowspan=\"2\" valign=\"top\">P01</th>\n",
       "      <th>M01</th>\n",
       "      <td>1.0</td>\n",
       "      <td>0.000000</td>\n",
       "      <td>1</td>\n",
       "      <td>0.000000</td>\n",
       "    </tr>\n",
       "    <tr>\n",
       "      <th>M03</th>\n",
       "      <td>2.0</td>\n",
       "      <td>0.000000</td>\n",
       "      <td>12</td>\n",
       "      <td>0.000000</td>\n",
       "    </tr>\n",
       "    <tr>\n",
       "      <th rowspan=\"3\" valign=\"top\">P02</th>\n",
       "      <th>M01</th>\n",
       "      <td>0.0</td>\n",
       "      <td>0.427100</td>\n",
       "      <td>0</td>\n",
       "      <td>7.562549</td>\n",
       "    </tr>\n",
       "    <tr>\n",
       "      <th>M02</th>\n",
       "      <td>0.0</td>\n",
       "      <td>0.948237</td>\n",
       "      <td>0</td>\n",
       "      <td>3.838595</td>\n",
       "    </tr>\n",
       "    <tr>\n",
       "      <th>M03</th>\n",
       "      <td>0.0</td>\n",
       "      <td>5.517841</td>\n",
       "      <td>0</td>\n",
       "      <td>11.298089</td>\n",
       "    </tr>\n",
       "    <tr>\n",
       "      <th rowspan=\"3\" valign=\"top\">P03</th>\n",
       "      <th>M01</th>\n",
       "      <td>42.0</td>\n",
       "      <td>0.000000</td>\n",
       "      <td>104</td>\n",
       "      <td>0.000000</td>\n",
       "    </tr>\n",
       "    <tr>\n",
       "      <th>M02</th>\n",
       "      <td>113.0</td>\n",
       "      <td>0.000000</td>\n",
       "      <td>337</td>\n",
       "      <td>0.000000</td>\n",
       "    </tr>\n",
       "    <tr>\n",
       "      <th>M03</th>\n",
       "      <td>41.0</td>\n",
       "      <td>0.000000</td>\n",
       "      <td>92</td>\n",
       "      <td>0.000000</td>\n",
       "    </tr>\n",
       "    <tr>\n",
       "      <th rowspan=\"6\" valign=\"top\">CI100028</th>\n",
       "      <th>P01</th>\n",
       "      <th>M02</th>\n",
       "      <td>9.0</td>\n",
       "      <td>0.000000</td>\n",
       "      <td>32</td>\n",
       "      <td>0.000000</td>\n",
       "    </tr>\n",
       "    <tr>\n",
       "      <th rowspan=\"3\" valign=\"top\">P02</th>\n",
       "      <th>M01</th>\n",
       "      <td>0.0</td>\n",
       "      <td>7.135449</td>\n",
       "      <td>0</td>\n",
       "      <td>7.562549</td>\n",
       "    </tr>\n",
       "    <tr>\n",
       "      <th>M02</th>\n",
       "      <td>0.0</td>\n",
       "      <td>1.166441</td>\n",
       "      <td>0</td>\n",
       "      <td>3.838595</td>\n",
       "    </tr>\n",
       "    <tr>\n",
       "      <th>M03</th>\n",
       "      <td>0.0</td>\n",
       "      <td>4.409889</td>\n",
       "      <td>0</td>\n",
       "      <td>11.298089</td>\n",
       "    </tr>\n",
       "    <tr>\n",
       "      <th rowspan=\"2\" valign=\"top\">P03</th>\n",
       "      <th>M01</th>\n",
       "      <td>41.0</td>\n",
       "      <td>0.000000</td>\n",
       "      <td>104</td>\n",
       "      <td>0.000000</td>\n",
       "    </tr>\n",
       "    <tr>\n",
       "      <th>M02</th>\n",
       "      <td>82.0</td>\n",
       "      <td>0.000000</td>\n",
       "      <td>337</td>\n",
       "      <td>0.000000</td>\n",
       "    </tr>\n",
       "  </tbody>\n",
       "</table>\n",
       "</div>"
      ],
      "text/plain": [
       "                        Count    Volume  Count total  Volume total\n",
       "Customer Product Model                                            \n",
       "CI100019 P01     M02     23.0  0.000000           32      0.000000\n",
       "                 M03     10.0  0.000000           12      0.000000\n",
       "         P02     M02      0.0  1.723917            0      3.838595\n",
       "                 M03      0.0  1.370358            0     11.298089\n",
       "         P03     M01     21.0  0.000000          104      0.000000\n",
       "                 M02    142.0  0.000000          337      0.000000\n",
       "                 M03     51.0  0.000000           92      0.000000\n",
       "CI100021 P01     M01      1.0  0.000000            1      0.000000\n",
       "                 M03      2.0  0.000000           12      0.000000\n",
       "         P02     M01      0.0  0.427100            0      7.562549\n",
       "                 M02      0.0  0.948237            0      3.838595\n",
       "                 M03      0.0  5.517841            0     11.298089\n",
       "         P03     M01     42.0  0.000000          104      0.000000\n",
       "                 M02    113.0  0.000000          337      0.000000\n",
       "                 M03     41.0  0.000000           92      0.000000\n",
       "CI100028 P01     M02      9.0  0.000000           32      0.000000\n",
       "         P02     M01      0.0  7.135449            0      7.562549\n",
       "                 M02      0.0  1.166441            0      3.838595\n",
       "                 M03      0.0  4.409889            0     11.298089\n",
       "         P03     M01     41.0  0.000000          104      0.000000\n",
       "                 M02     82.0  0.000000          337      0.000000"
      ]
     },
     "execution_count": 60,
     "metadata": {},
     "output_type": "execute_result"
    }
   ],
   "source": [
    "df"
   ]
  },
  {
   "cell_type": "markdown",
   "id": "af966733",
   "metadata": {},
   "source": [
    "### 5- Write a Pandas program to extract email from  column ."
   ]
  },
  {
   "cell_type": "code",
   "execution_count": 1,
   "id": "7a167809",
   "metadata": {},
   "outputs": [],
   "source": [
    "import pandas as pd\n",
    "import re as re\n",
    "df = pd.DataFrame({\n",
    "    'email': ['samin@gmail.com','mohammad gm@yahoo.com','sara rp@abc.io', 'salvia', 'mehrdad.gm@github.com']\n",
    "    })"
   ]
  },
  {
   "cell_type": "code",
   "execution_count": 47,
   "id": "301787bc-a655-4597-b7bf-afd0f6bea736",
   "metadata": {},
   "outputs": [
    {
     "data": {
      "text/html": [
       "<div>\n",
       "<style scoped>\n",
       "    .dataframe tbody tr th:only-of-type {\n",
       "        vertical-align: middle;\n",
       "    }\n",
       "\n",
       "    .dataframe tbody tr th {\n",
       "        vertical-align: top;\n",
       "    }\n",
       "\n",
       "    .dataframe thead th {\n",
       "        text-align: right;\n",
       "    }\n",
       "</style>\n",
       "<table border=\"1\" class=\"dataframe\">\n",
       "  <thead>\n",
       "    <tr style=\"text-align: right;\">\n",
       "      <th></th>\n",
       "      <th>email</th>\n",
       "      <th>valid_email</th>\n",
       "    </tr>\n",
       "  </thead>\n",
       "  <tbody>\n",
       "    <tr>\n",
       "      <th>0</th>\n",
       "      <td>samin@gmail.com</td>\n",
       "      <td>samin@gmail.com</td>\n",
       "    </tr>\n",
       "    <tr>\n",
       "      <th>1</th>\n",
       "      <td>mohammad gm@yahoo.com</td>\n",
       "      <td>gm@yahoo.com</td>\n",
       "    </tr>\n",
       "    <tr>\n",
       "      <th>2</th>\n",
       "      <td>sara rp@abc.io</td>\n",
       "      <td>rp@abc.io</td>\n",
       "    </tr>\n",
       "    <tr>\n",
       "      <th>3</th>\n",
       "      <td>salvia</td>\n",
       "      <td></td>\n",
       "    </tr>\n",
       "    <tr>\n",
       "      <th>4</th>\n",
       "      <td>mehrdad.gm@github.com</td>\n",
       "      <td>mehrdad.gm@github.com</td>\n",
       "    </tr>\n",
       "  </tbody>\n",
       "</table>\n",
       "</div>"
      ],
      "text/plain": [
       "                   email            valid_email\n",
       "0        samin@gmail.com        samin@gmail.com\n",
       "1  mohammad gm@yahoo.com           gm@yahoo.com\n",
       "2         sara rp@abc.io              rp@abc.io\n",
       "3                 salvia                       \n",
       "4  mehrdad.gm@github.com  mehrdad.gm@github.com"
      ]
     },
     "execution_count": 47,
     "metadata": {},
     "output_type": "execute_result"
    }
   ],
   "source": [
    "df['valid_email']=df.email.str.findall(r'[\\w.]+@\\w{2,}.(?:com|io)').transform(''.join)\n",
    "df"
   ]
  },
  {
   "cell_type": "markdown",
   "id": "2debfb81",
   "metadata": {},
   "source": [
    "## review:"
   ]
  },
  {
   "cell_type": "markdown",
   "id": "edff48c7",
   "metadata": {},
   "source": [
    "### 6- make the plaot with bokeh like titanic.html file x axis is age y axis is survived and bolding of circles are according to Fare when you hover each circle it should show some extra informations"
   ]
  },
  {
   "cell_type": "code",
   "execution_count": 48,
   "id": "9293e666-4bc0-4efd-94bd-cf1dbda220b8",
   "metadata": {},
   "outputs": [],
   "source": [
    "from bokeh.io import curdoc, show"
   ]
  },
  {
   "cell_type": "code",
   "execution_count": 49,
   "id": "4c905f6f-0f7b-488f-8c5e-7c2a254db7ba",
   "metadata": {},
   "outputs": [],
   "source": [
    "from bokeh.models import HoverTool"
   ]
  },
  {
   "cell_type": "code",
   "execution_count": 50,
   "id": "296f43b8-fc23-43ef-896d-cfb809b6f947",
   "metadata": {},
   "outputs": [],
   "source": [
    "from bokeh.models import Circle, ColumnDataSource, Grid, LinearAxis, Plot"
   ]
  },
  {
   "cell_type": "code",
   "execution_count": 51,
   "id": "ebe46ff4-cba4-46f4-be89-13584a02dc35",
   "metadata": {},
   "outputs": [],
   "source": [
    "titanic_df=pd.read_csv('titanic.csv')"
   ]
  },
  {
   "cell_type": "code",
   "execution_count": 52,
   "id": "6f5ef8f9-a267-4669-91b9-b235d1940e59",
   "metadata": {},
   "outputs": [],
   "source": [
    "x = titanic_df['Age']\n",
    "y=titanic_df['Survived']\n",
    "sizes = titanic_df['Fare']\n",
    "\n",
    "source = ColumnDataSource(dict(x=x, y=y, sizes=sizes))\n",
    "\n",
    "plot = Plot(\n",
    "    title=None, width=1500, height=600,\n",
    "    min_border=0, toolbar_location=None)\n",
    "\n",
    "TOOLS = \"box_select,lasso_select,hover,help\"\n",
    "\n",
    "glyph = Circle(x=\"x\", y=\"y\", size=\"sizes\", line_color=\"#3288bd\", fill_color=\"blue\", line_width=3)"
   ]
  },
  {
   "cell_type": "code",
   "execution_count": 53,
   "id": "d30ea365-f006-4309-8f4e-6add3958f847",
   "metadata": {},
   "outputs": [],
   "source": [
    "plot.add_glyph(source, glyph)\n",
    "\n",
    "xaxis = LinearAxis()\n",
    "plot.add_layout(xaxis, 'below')\n",
    "\n",
    "yaxis = LinearAxis()\n",
    "plot.add_layout(yaxis, 'left')\n",
    "\n",
    "plot.add_layout(Grid(dimension=0, ticker=xaxis.ticker))\n",
    "plot.add_layout(Grid(dimension=1, ticker=yaxis.ticker))\n",
    "\n",
    "curdoc().add_root(plot)\n",
    "\n",
    "hover = HoverTool()\n",
    "hover.tooltips=[\n",
    "    (\"Age\", \"@x\"),\n",
    "    (\"Survived\", \"@y\"),\n",
    "    (\"Fare\", \"@sizes\")\n",
    "]\n",
    "\n",
    "plot.add_tools(hover)\n",
    "\n",
    "show(plot)"
   ]
  },
  {
   "cell_type": "code",
   "execution_count": null,
   "id": "88cf4d93-439f-4a50-8000-b96859ee7493",
   "metadata": {},
   "outputs": [],
   "source": []
  }
 ],
 "metadata": {
  "kernelspec": {
   "display_name": "Python 3 (ipykernel)",
   "language": "python",
   "name": "python3"
  },
  "language_info": {
   "codemirror_mode": {
    "name": "ipython",
    "version": 3
   },
   "file_extension": ".py",
   "mimetype": "text/x-python",
   "name": "python",
   "nbconvert_exporter": "python",
   "pygments_lexer": "ipython3",
   "version": "3.10.2"
  }
 },
 "nbformat": 4,
 "nbformat_minor": 5
}
