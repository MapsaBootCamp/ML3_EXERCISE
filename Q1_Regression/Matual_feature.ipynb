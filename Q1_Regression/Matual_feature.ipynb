{
 "cells": [
  {
   "cell_type": "markdown",
   "id": "6fb7dd6c-86f8-4756-ad09-62ffbdbc7095",
   "metadata": {},
   "source": [
    "## Import Libraries"
   ]
  },
  {
   "cell_type": "markdown",
   "id": "cb3a7785-3e8f-4eaa-8567-90a77685e61b",
   "metadata": {},
   "source": [
    "# Feature selection-->do it with matual Feature selection"
   ]
  },
  {
   "cell_type": "code",
   "execution_count": 349,
   "id": "d3ad3532-1e5d-4426-808d-265f6442c625",
   "metadata": {},
   "outputs": [],
   "source": [
    "import pandas as pd\n",
    "import numpy as np\n",
    "import matplotlib.pyplot as plt\n",
    "import seaborn as sns"
   ]
  },
  {
   "cell_type": "code",
   "execution_count": 350,
   "id": "04bd4720-bea0-47da-8f7e-8145bfe91fb5",
   "metadata": {},
   "outputs": [],
   "source": [
    "from sklearn.model_selection import train_test_split\n",
    "from sklearn.pipeline import make_pipeline\n",
    "from sklearn.linear_model import LogisticRegression,LinearRegression, Ridge, SGDRegressor,Lasso\n",
    "from sklearn import preprocessing\n",
    "from sklearn import metrics\n",
    "from sklearn.metrics import mean_absolute_error\n",
    "import math\n",
    "from sklearn.preprocessing import PolynomialFeatures\n",
    "from sklearn.model_selection import cross_val_score,cross_val_predict\n",
    "from mlxtend.plotting import plot_learning_curves\n"
   ]
  },
  {
   "cell_type": "markdown",
   "id": "6974c0b7-336c-4ce1-8bfe-1737bbff3217",
   "metadata": {},
   "source": [
    "## Read File"
   ]
  },
  {
   "cell_type": "code",
   "execution_count": 403,
   "id": "62fd56e5-b9a9-49f6-bdd4-970e45f14530",
   "metadata": {},
   "outputs": [
    {
     "data": {
      "text/html": [
       "<div>\n",
       "<style scoped>\n",
       "    .dataframe tbody tr th:only-of-type {\n",
       "        vertical-align: middle;\n",
       "    }\n",
       "\n",
       "    .dataframe tbody tr th {\n",
       "        vertical-align: top;\n",
       "    }\n",
       "\n",
       "    .dataframe thead th {\n",
       "        text-align: right;\n",
       "    }\n",
       "</style>\n",
       "<table border=\"1\" class=\"dataframe\">\n",
       "  <thead>\n",
       "    <tr style=\"text-align: right;\">\n",
       "      <th></th>\n",
       "      <th>instant</th>\n",
       "      <th>dteday</th>\n",
       "      <th>season</th>\n",
       "      <th>yr</th>\n",
       "      <th>mnth</th>\n",
       "      <th>holiday</th>\n",
       "      <th>weekday</th>\n",
       "      <th>workingday</th>\n",
       "      <th>weathersit</th>\n",
       "      <th>temp</th>\n",
       "      <th>atemp</th>\n",
       "      <th>hum</th>\n",
       "      <th>windspeed</th>\n",
       "      <th>casual</th>\n",
       "      <th>registered</th>\n",
       "      <th>cnt</th>\n",
       "    </tr>\n",
       "  </thead>\n",
       "  <tbody>\n",
       "    <tr>\n",
       "      <th>0</th>\n",
       "      <td>1</td>\n",
       "      <td>2011-01-01</td>\n",
       "      <td>1</td>\n",
       "      <td>0</td>\n",
       "      <td>1</td>\n",
       "      <td>0</td>\n",
       "      <td>6</td>\n",
       "      <td>0</td>\n",
       "      <td>2</td>\n",
       "      <td>0.344167</td>\n",
       "      <td>0.363625</td>\n",
       "      <td>0.805833</td>\n",
       "      <td>0.160446</td>\n",
       "      <td>331</td>\n",
       "      <td>654</td>\n",
       "      <td>985</td>\n",
       "    </tr>\n",
       "    <tr>\n",
       "      <th>1</th>\n",
       "      <td>2</td>\n",
       "      <td>2011-01-02</td>\n",
       "      <td>1</td>\n",
       "      <td>0</td>\n",
       "      <td>1</td>\n",
       "      <td>0</td>\n",
       "      <td>0</td>\n",
       "      <td>0</td>\n",
       "      <td>2</td>\n",
       "      <td>0.363478</td>\n",
       "      <td>0.353739</td>\n",
       "      <td>0.696087</td>\n",
       "      <td>0.248539</td>\n",
       "      <td>131</td>\n",
       "      <td>670</td>\n",
       "      <td>801</td>\n",
       "    </tr>\n",
       "    <tr>\n",
       "      <th>2</th>\n",
       "      <td>3</td>\n",
       "      <td>2011-01-03</td>\n",
       "      <td>1</td>\n",
       "      <td>0</td>\n",
       "      <td>1</td>\n",
       "      <td>0</td>\n",
       "      <td>1</td>\n",
       "      <td>1</td>\n",
       "      <td>1</td>\n",
       "      <td>0.196364</td>\n",
       "      <td>0.189405</td>\n",
       "      <td>0.437273</td>\n",
       "      <td>0.248309</td>\n",
       "      <td>120</td>\n",
       "      <td>1229</td>\n",
       "      <td>1349</td>\n",
       "    </tr>\n",
       "    <tr>\n",
       "      <th>3</th>\n",
       "      <td>4</td>\n",
       "      <td>2011-01-04</td>\n",
       "      <td>1</td>\n",
       "      <td>0</td>\n",
       "      <td>1</td>\n",
       "      <td>0</td>\n",
       "      <td>2</td>\n",
       "      <td>1</td>\n",
       "      <td>1</td>\n",
       "      <td>0.200000</td>\n",
       "      <td>0.212122</td>\n",
       "      <td>0.590435</td>\n",
       "      <td>0.160296</td>\n",
       "      <td>108</td>\n",
       "      <td>1454</td>\n",
       "      <td>1562</td>\n",
       "    </tr>\n",
       "    <tr>\n",
       "      <th>4</th>\n",
       "      <td>5</td>\n",
       "      <td>2011-01-05</td>\n",
       "      <td>1</td>\n",
       "      <td>0</td>\n",
       "      <td>1</td>\n",
       "      <td>0</td>\n",
       "      <td>3</td>\n",
       "      <td>1</td>\n",
       "      <td>1</td>\n",
       "      <td>0.226957</td>\n",
       "      <td>0.229270</td>\n",
       "      <td>0.436957</td>\n",
       "      <td>0.186900</td>\n",
       "      <td>82</td>\n",
       "      <td>1518</td>\n",
       "      <td>1600</td>\n",
       "    </tr>\n",
       "  </tbody>\n",
       "</table>\n",
       "</div>"
      ],
      "text/plain": [
       "   instant      dteday  season  yr  mnth  holiday  weekday  workingday  \\\n",
       "0        1  2011-01-01       1   0     1        0        6           0   \n",
       "1        2  2011-01-02       1   0     1        0        0           0   \n",
       "2        3  2011-01-03       1   0     1        0        1           1   \n",
       "3        4  2011-01-04       1   0     1        0        2           1   \n",
       "4        5  2011-01-05       1   0     1        0        3           1   \n",
       "\n",
       "   weathersit      temp     atemp       hum  windspeed  casual  registered  \\\n",
       "0           2  0.344167  0.363625  0.805833   0.160446     331         654   \n",
       "1           2  0.363478  0.353739  0.696087   0.248539     131         670   \n",
       "2           1  0.196364  0.189405  0.437273   0.248309     120        1229   \n",
       "3           1  0.200000  0.212122  0.590435   0.160296     108        1454   \n",
       "4           1  0.226957  0.229270  0.436957   0.186900      82        1518   \n",
       "\n",
       "    cnt  \n",
       "0   985  \n",
       "1   801  \n",
       "2  1349  \n",
       "3  1562  \n",
       "4  1600  "
      ]
     },
     "execution_count": 403,
     "metadata": {},
     "output_type": "execute_result"
    }
   ],
   "source": [
    "df=pd.read_csv('day.csv')\n",
    "df.head()"
   ]
  },
  {
   "cell_type": "code",
   "execution_count": 404,
   "id": "3aeef752-8468-431b-a0e5-c62a9ab6c22c",
   "metadata": {},
   "outputs": [
    {
     "data": {
      "text/plain": [
       "instant       0\n",
       "dteday        0\n",
       "season        0\n",
       "yr            0\n",
       "mnth          0\n",
       "holiday       0\n",
       "weekday       0\n",
       "workingday    0\n",
       "weathersit    0\n",
       "temp          0\n",
       "atemp         0\n",
       "hum           0\n",
       "windspeed     0\n",
       "casual        0\n",
       "registered    0\n",
       "cnt           0\n",
       "dtype: int64"
      ]
     },
     "execution_count": 404,
     "metadata": {},
     "output_type": "execute_result"
    }
   ],
   "source": [
    "df.isnull().sum()"
   ]
  },
  {
   "cell_type": "code",
   "execution_count": 405,
   "id": "cfbc38af-6f25-4879-9a31-51dc5bc81c33",
   "metadata": {},
   "outputs": [],
   "source": [
    "df['season']=df.season.replace({1:\"spring\",2:\"summer\",3:\"fall\",4:\"winter\"})\n",
    "df['weathersit']=df.weathersit.replace({1:\"Clear_Few Clouds\",2:\"Mist_cloudy\",3:\"Light rain_Light snow_Thunderstorm\",4:'Heavy Rain_Ice Pallets_Thunderstorm_Mist'})\n",
    "df['yr']=df.yr.replace([0,1],[2011,2012])\n",
    "df['weekday']=df.weekday.replace([0,1,2,3,4,5,6],[\"sun\",\"mon\",\"tue\",\"wed\",\"thu\",\"fri\",\"sat\"])"
   ]
  },
  {
   "cell_type": "code",
   "execution_count": 406,
   "id": "7fee8868-0d7c-4958-a276-3d34a937c0b3",
   "metadata": {},
   "outputs": [
    {
     "name": "stdout",
     "output_type": "stream",
     "text": [
      "<class 'pandas.core.frame.DataFrame'>\n",
      "RangeIndex: 731 entries, 0 to 730\n",
      "Data columns (total 16 columns):\n",
      " #   Column      Non-Null Count  Dtype  \n",
      "---  ------      --------------  -----  \n",
      " 0   instant     731 non-null    int64  \n",
      " 1   dteday      731 non-null    object \n",
      " 2   season      731 non-null    object \n",
      " 3   yr          731 non-null    int64  \n",
      " 4   mnth        731 non-null    int64  \n",
      " 5   holiday     731 non-null    int64  \n",
      " 6   weekday     731 non-null    object \n",
      " 7   workingday  731 non-null    int64  \n",
      " 8   weathersit  731 non-null    object \n",
      " 9   temp        731 non-null    float64\n",
      " 10  atemp       731 non-null    float64\n",
      " 11  hum         731 non-null    float64\n",
      " 12  windspeed   731 non-null    float64\n",
      " 13  casual      731 non-null    int64  \n",
      " 14  registered  731 non-null    int64  \n",
      " 15  cnt         731 non-null    int64  \n",
      "dtypes: float64(4), int64(8), object(4)\n",
      "memory usage: 91.5+ KB\n"
     ]
    }
   ],
   "source": [
    "df.info()"
   ]
  },
  {
   "cell_type": "markdown",
   "id": "99930da7-7806-4a31-8609-04278794a15a",
   "metadata": {
    "tags": []
   },
   "source": [
    "# Clean Dataset"
   ]
  },
  {
   "cell_type": "markdown",
   "id": "afa8567c-ad42-4bd6-9d11-25ece8903ab3",
   "metadata": {},
   "source": [
    "## Find Outliers"
   ]
  },
  {
   "cell_type": "code",
   "execution_count": 407,
   "id": "70f42f74-281a-4144-90d6-247291f41620",
   "metadata": {},
   "outputs": [
    {
     "data": {
      "image/png": "[encoded data removed]",
      "text/plain": [
       "<Figure size 1500x800 with 1 Axes>"
      ]
     },
     "metadata": {},
     "output_type": "display_data"
    }
   ],
   "source": [
    "fig,ax=plt.subplots(figsize=(15,8))\n",
    "sns.boxplot(data=df[['cnt']])\n",
    "ax.set_title('total_count outliers')\n",
    "plt.show()"
   ]
  },
  {
   "cell_type": "markdown",
   "id": "0024e460-a8c0-40d6-a49f-159bd72edf80",
   "metadata": {},
   "source": [
    "### There is no outliers data in cnt feature"
   ]
  },
  {
   "cell_type": "code",
   "execution_count": 408,
   "id": "ddbd1f8f-9f0a-4975-aeb3-76c6cb389fef",
   "metadata": {},
   "outputs": [
    {
     "data": {
      "image/png": "[encoded data removed]",
      "text/plain": [
       "<Figure size 1500x800 with 1 Axes>"
      ]
     },
     "metadata": {},
     "output_type": "display_data"
    }
   ],
   "source": [
    "fig,ax=plt.subplots(figsize=(15,8))\n",
    "\n",
    "sns.boxplot(data=df[['temp','windspeed','hum']])\n",
    "ax.set_title('total_count outliers')\n",
    "plt.show()"
   ]
  },
  {
   "cell_type": "markdown",
   "id": "39090433-397e-426d-9a63-74b1a48a389f",
   "metadata": {},
   "source": [
    "### There are some outliers in windspeed and hum feature"
   ]
  },
  {
   "cell_type": "code",
   "execution_count": 409,
   "id": "5ecde80c-06ac-4555-8a2c-881343502513",
   "metadata": {},
   "outputs": [],
   "source": [
    "import warnings\n",
    "warnings.filterwarnings(\"ignore\")"
   ]
  },
  {
   "cell_type": "code",
   "execution_count": 410,
   "id": "c06edb2d-d46e-4dd5-8dcc-ac193005442c",
   "metadata": {},
   "outputs": [
    {
     "data": {
      "text/html": [
       "<div>\n",
       "<style scoped>\n",
       "    .dataframe tbody tr th:only-of-type {\n",
       "        vertical-align: middle;\n",
       "    }\n",
       "\n",
       "    .dataframe tbody tr th {\n",
       "        vertical-align: top;\n",
       "    }\n",
       "\n",
       "    .dataframe thead th {\n",
       "        text-align: right;\n",
       "    }\n",
       "</style>\n",
       "<table border=\"1\" class=\"dataframe\">\n",
       "  <thead>\n",
       "    <tr style=\"text-align: right;\">\n",
       "      <th></th>\n",
       "      <th>index</th>\n",
       "      <th>instant</th>\n",
       "      <th>yr</th>\n",
       "      <th>mnth</th>\n",
       "      <th>holiday</th>\n",
       "      <th>workingday</th>\n",
       "      <th>temp</th>\n",
       "      <th>atemp</th>\n",
       "      <th>hum</th>\n",
       "      <th>windspeed</th>\n",
       "      <th>casual</th>\n",
       "      <th>registered</th>\n",
       "      <th>cnt</th>\n",
       "    </tr>\n",
       "  </thead>\n",
       "  <tbody>\n",
       "    <tr>\n",
       "      <th>count</th>\n",
       "      <td>717.000000</td>\n",
       "      <td>717.000000</td>\n",
       "      <td>717.000000</td>\n",
       "      <td>717.000000</td>\n",
       "      <td>717.000000</td>\n",
       "      <td>717.000000</td>\n",
       "      <td>717.000000</td>\n",
       "      <td>717.000000</td>\n",
       "      <td>717.000000</td>\n",
       "      <td>717.000000</td>\n",
       "      <td>717.000000</td>\n",
       "      <td>717.000000</td>\n",
       "      <td>717.000000</td>\n",
       "    </tr>\n",
       "    <tr>\n",
       "      <th>mean</th>\n",
       "      <td>365.779637</td>\n",
       "      <td>366.779637</td>\n",
       "      <td>2011.499303</td>\n",
       "      <td>6.562064</td>\n",
       "      <td>0.029289</td>\n",
       "      <td>0.684798</td>\n",
       "      <td>0.497365</td>\n",
       "      <td>0.476252</td>\n",
       "      <td>0.631562</td>\n",
       "      <td>0.186287</td>\n",
       "      <td>856.944212</td>\n",
       "      <td>3675.899582</td>\n",
       "      <td>4532.843794</td>\n",
       "    </tr>\n",
       "    <tr>\n",
       "      <th>std</th>\n",
       "      <td>210.971354</td>\n",
       "      <td>210.971354</td>\n",
       "      <td>0.500349</td>\n",
       "      <td>3.439113</td>\n",
       "      <td>0.168732</td>\n",
       "      <td>0.464921</td>\n",
       "      <td>0.183617</td>\n",
       "      <td>0.163155</td>\n",
       "      <td>0.139222</td>\n",
       "      <td>0.071786</td>\n",
       "      <td>689.273998</td>\n",
       "      <td>1557.676255</td>\n",
       "      <td>1933.542429</td>\n",
       "    </tr>\n",
       "    <tr>\n",
       "      <th>min</th>\n",
       "      <td>0.000000</td>\n",
       "      <td>1.000000</td>\n",
       "      <td>2011.000000</td>\n",
       "      <td>1.000000</td>\n",
       "      <td>0.000000</td>\n",
       "      <td>0.000000</td>\n",
       "      <td>0.059130</td>\n",
       "      <td>0.079070</td>\n",
       "      <td>0.254167</td>\n",
       "      <td>0.022392</td>\n",
       "      <td>2.000000</td>\n",
       "      <td>20.000000</td>\n",
       "      <td>22.000000</td>\n",
       "    </tr>\n",
       "    <tr>\n",
       "      <th>25%</th>\n",
       "      <td>184.000000</td>\n",
       "      <td>185.000000</td>\n",
       "      <td>2011.000000</td>\n",
       "      <td>4.000000</td>\n",
       "      <td>0.000000</td>\n",
       "      <td>0.000000</td>\n",
       "      <td>0.337500</td>\n",
       "      <td>0.337939</td>\n",
       "      <td>0.524583</td>\n",
       "      <td>0.134329</td>\n",
       "      <td>318.000000</td>\n",
       "      <td>2545.000000</td>\n",
       "      <td>3214.000000</td>\n",
       "    </tr>\n",
       "    <tr>\n",
       "      <th>50%</th>\n",
       "      <td>364.000000</td>\n",
       "      <td>365.000000</td>\n",
       "      <td>2011.000000</td>\n",
       "      <td>7.000000</td>\n",
       "      <td>0.000000</td>\n",
       "      <td>1.000000</td>\n",
       "      <td>0.505833</td>\n",
       "      <td>0.491783</td>\n",
       "      <td>0.630833</td>\n",
       "      <td>0.178496</td>\n",
       "      <td>727.000000</td>\n",
       "      <td>3681.000000</td>\n",
       "      <td>4570.000000</td>\n",
       "    </tr>\n",
       "    <tr>\n",
       "      <th>75%</th>\n",
       "      <td>549.000000</td>\n",
       "      <td>550.000000</td>\n",
       "      <td>2012.000000</td>\n",
       "      <td>10.000000</td>\n",
       "      <td>0.000000</td>\n",
       "      <td>1.000000</td>\n",
       "      <td>0.656667</td>\n",
       "      <td>0.611121</td>\n",
       "      <td>0.732917</td>\n",
       "      <td>0.230721</td>\n",
       "      <td>1120.000000</td>\n",
       "      <td>4807.000000</td>\n",
       "      <td>6031.000000</td>\n",
       "    </tr>\n",
       "    <tr>\n",
       "      <th>max</th>\n",
       "      <td>730.000000</td>\n",
       "      <td>731.000000</td>\n",
       "      <td>2012.000000</td>\n",
       "      <td>12.000000</td>\n",
       "      <td>1.000000</td>\n",
       "      <td>1.000000</td>\n",
       "      <td>0.861667</td>\n",
       "      <td>0.840896</td>\n",
       "      <td>0.972500</td>\n",
       "      <td>0.378108</td>\n",
       "      <td>3410.000000</td>\n",
       "      <td>6946.000000</td>\n",
       "      <td>8714.000000</td>\n",
       "    </tr>\n",
       "  </tbody>\n",
       "</table>\n",
       "</div>"
      ],
      "text/plain": [
       "            index     instant           yr        mnth     holiday  \\\n",
       "count  717.000000  717.000000   717.000000  717.000000  717.000000   \n",
       "mean   365.779637  366.779637  2011.499303    6.562064    0.029289   \n",
       "std    210.971354  210.971354     0.500349    3.439113    0.168732   \n",
       "min      0.000000    1.000000  2011.000000    1.000000    0.000000   \n",
       "25%    184.000000  185.000000  2011.000000    4.000000    0.000000   \n",
       "50%    364.000000  365.000000  2011.000000    7.000000    0.000000   \n",
       "75%    549.000000  550.000000  2012.000000   10.000000    0.000000   \n",
       "max    730.000000  731.000000  2012.000000   12.000000    1.000000   \n",
       "\n",
       "       workingday        temp       atemp         hum   windspeed  \\\n",
       "count  717.000000  717.000000  717.000000  717.000000  717.000000   \n",
       "mean     0.684798    0.497365    0.476252    0.631562    0.186287   \n",
       "std      0.464921    0.183617    0.163155    0.139222    0.071786   \n",
       "min      0.000000    0.059130    0.079070    0.254167    0.022392   \n",
       "25%      0.000000    0.337500    0.337939    0.524583    0.134329   \n",
       "50%      1.000000    0.505833    0.491783    0.630833    0.178496   \n",
       "75%      1.000000    0.656667    0.611121    0.732917    0.230721   \n",
       "max      1.000000    0.861667    0.840896    0.972500    0.378108   \n",
       "\n",
       "            casual   registered          cnt  \n",
       "count   717.000000   717.000000   717.000000  \n",
       "mean    856.944212  3675.899582  4532.843794  \n",
       "std     689.273998  1557.676255  1933.542429  \n",
       "min       2.000000    20.000000    22.000000  \n",
       "25%     318.000000  2545.000000  3214.000000  \n",
       "50%     727.000000  3681.000000  4570.000000  \n",
       "75%    1120.000000  4807.000000  6031.000000  \n",
       "max    3410.000000  6946.000000  8714.000000  "
      ]
     },
     "execution_count": 410,
     "metadata": {},
     "output_type": "execute_result"
    }
   ],
   "source": [
    "cols = ['windspeed','hum']\n",
    "Q1=df.quantile(0.25)\n",
    "Q3=df.quantile(0.75)\n",
    "IQR=Q3-Q1\n",
    "df =df[ ~((df[cols] < (Q1 - 1.5 * IQR)) | (df[cols] > (Q3 + 1.5 * IQR))).any(axis=1)].reset_index()\n",
    "df.describe()"
   ]
  },
  {
   "cell_type": "code",
   "execution_count": 411,
   "id": "c7c6b6e7-d285-4976-8a0d-213fbd201f28",
   "metadata": {},
   "outputs": [
    {
     "data": {
      "image/png": "[encoded data removed]",
      "text/plain": [
       "<Figure size 1500x800 with 1 Axes>"
      ]
     },
     "metadata": {},
     "output_type": "display_data"
    }
   ],
   "source": [
    "fig,ax=plt.subplots(figsize=(15,8))\n",
    "\n",
    "sns.boxplot(data=df[['temp','windspeed','hum']])\n",
    "ax.set_title('total_count outliers')\n",
    "plt.show()"
   ]
  },
  {
   "cell_type": "markdown",
   "id": "8c39fe4b-72cd-4783-9e7d-eda9aa26be4b",
   "metadata": {},
   "source": [
    "## Change numerical columns to categorical"
   ]
  },
  {
   "cell_type": "code",
   "execution_count": 412,
   "id": "42211566-1889-459b-970b-35977b2e0747",
   "metadata": {},
   "outputs": [],
   "source": [
    "df['season']=df.season.astype('object')\n",
    "df['yr']=df.yr.astype('object')\n",
    "df['mnth']=df.mnth.astype('object')\n",
    "df['holiday']=df.holiday.astype('object')\n",
    "df['weekday']=df.weekday.astype('object')\n",
    "df['workingday']=df.workingday.astype('object')\n",
    "df['weathersit']=df.weathersit.astype('object')"
   ]
  },
  {
   "cell_type": "code",
   "execution_count": 413,
   "id": "4c3a7a46-cd93-4a30-8bd7-e7a206fe0fb2",
   "metadata": {},
   "outputs": [
    {
     "name": "stdout",
     "output_type": "stream",
     "text": [
      "<class 'pandas.core.frame.DataFrame'>\n",
      "RangeIndex: 717 entries, 0 to 716\n",
      "Data columns (total 17 columns):\n",
      " #   Column      Non-Null Count  Dtype  \n",
      "---  ------      --------------  -----  \n",
      " 0   index       717 non-null    int64  \n",
      " 1   instant     717 non-null    int64  \n",
      " 2   dteday      717 non-null    object \n",
      " 3   season      717 non-null    object \n",
      " 4   yr          717 non-null    object \n",
      " 5   mnth        717 non-null    object \n",
      " 6   holiday     717 non-null    object \n",
      " 7   weekday     717 non-null    object \n",
      " 8   workingday  717 non-null    object \n",
      " 9   weathersit  717 non-null    object \n",
      " 10  temp        717 non-null    float64\n",
      " 11  atemp       717 non-null    float64\n",
      " 12  hum         717 non-null    float64\n",
      " 13  windspeed   717 non-null    float64\n",
      " 14  casual      717 non-null    int64  \n",
      " 15  registered  717 non-null    int64  \n",
      " 16  cnt         717 non-null    int64  \n",
      "dtypes: float64(4), int64(5), object(8)\n",
      "memory usage: 95.4+ KB\n"
     ]
    }
   ],
   "source": [
    "df.info()"
   ]
  },
  {
   "cell_type": "markdown",
   "id": "246740d9-c0c8-4403-96f0-e6988d5d6a99",
   "metadata": {},
   "source": [
    "# Change categorical columns"
   ]
  },
  {
   "cell_type": "code",
   "execution_count": 414,
   "id": "d28c864c-4d54-4ead-81b8-166b7ffea342",
   "metadata": {},
   "outputs": [],
   "source": [
    "df=df.drop(['index','instant','dteday'],axis=1)"
   ]
  },
  {
   "cell_type": "code",
   "execution_count": 415,
   "id": "b3f9e770-20c3-4732-88e7-09c2f92eb184",
   "metadata": {},
   "outputs": [
    {
     "name": "stdout",
     "output_type": "stream",
     "text": [
      "Categorical variables:\n",
      "['season', 'yr', 'mnth', 'holiday', 'weekday', 'workingday', 'weathersit']\n",
      "No. of. categorical features:  7\n"
     ]
    }
   ],
   "source": [
    "s =df.dtypes == 'object'\n",
    "object_cols = list(s[s].index)\n",
    "print(\"Categorical variables:\")\n",
    "print(object_cols)\n",
    "print('No. of. categorical features: ',len(object_cols))"
   ]
  },
  {
   "cell_type": "code",
   "execution_count": 416,
   "id": "b122693e-1572-48ed-b5d6-cfa352347b10",
   "metadata": {
    "tags": []
   },
   "outputs": [
    {
     "data": {
      "text/html": [
       "<div>\n",
       "<style scoped>\n",
       "    .dataframe tbody tr th:only-of-type {\n",
       "        vertical-align: middle;\n",
       "    }\n",
       "\n",
       "    .dataframe tbody tr th {\n",
       "        vertical-align: top;\n",
       "    }\n",
       "\n",
       "    .dataframe thead th {\n",
       "        text-align: right;\n",
       "    }\n",
       "</style>\n",
       "<table border=\"1\" class=\"dataframe\">\n",
       "  <thead>\n",
       "    <tr style=\"text-align: right;\">\n",
       "      <th></th>\n",
       "      <th>temp</th>\n",
       "      <th>atemp</th>\n",
       "      <th>hum</th>\n",
       "      <th>windspeed</th>\n",
       "      <th>casual</th>\n",
       "      <th>registered</th>\n",
       "      <th>cnt</th>\n",
       "      <th>season_spring</th>\n",
       "      <th>season_summer</th>\n",
       "      <th>season_winter</th>\n",
       "      <th>...</th>\n",
       "      <th>holiday_1</th>\n",
       "      <th>weekday_mon</th>\n",
       "      <th>weekday_sat</th>\n",
       "      <th>weekday_sun</th>\n",
       "      <th>weekday_thu</th>\n",
       "      <th>weekday_tue</th>\n",
       "      <th>weekday_wed</th>\n",
       "      <th>workingday_1</th>\n",
       "      <th>weathersit_Light rain_Light snow_Thunderstorm</th>\n",
       "      <th>weathersit_Mist_cloudy</th>\n",
       "    </tr>\n",
       "  </thead>\n",
       "  <tbody>\n",
       "    <tr>\n",
       "      <th>0</th>\n",
       "      <td>0.344167</td>\n",
       "      <td>0.363625</td>\n",
       "      <td>0.805833</td>\n",
       "      <td>0.160446</td>\n",
       "      <td>331</td>\n",
       "      <td>654</td>\n",
       "      <td>985</td>\n",
       "      <td>1</td>\n",
       "      <td>0</td>\n",
       "      <td>0</td>\n",
       "      <td>...</td>\n",
       "      <td>0</td>\n",
       "      <td>0</td>\n",
       "      <td>1</td>\n",
       "      <td>0</td>\n",
       "      <td>0</td>\n",
       "      <td>0</td>\n",
       "      <td>0</td>\n",
       "      <td>0</td>\n",
       "      <td>0</td>\n",
       "      <td>1</td>\n",
       "    </tr>\n",
       "    <tr>\n",
       "      <th>1</th>\n",
       "      <td>0.363478</td>\n",
       "      <td>0.353739</td>\n",
       "      <td>0.696087</td>\n",
       "      <td>0.248539</td>\n",
       "      <td>131</td>\n",
       "      <td>670</td>\n",
       "      <td>801</td>\n",
       "      <td>1</td>\n",
       "      <td>0</td>\n",
       "      <td>0</td>\n",
       "      <td>...</td>\n",
       "      <td>0</td>\n",
       "      <td>0</td>\n",
       "      <td>0</td>\n",
       "      <td>1</td>\n",
       "      <td>0</td>\n",
       "      <td>0</td>\n",
       "      <td>0</td>\n",
       "      <td>0</td>\n",
       "      <td>0</td>\n",
       "      <td>1</td>\n",
       "    </tr>\n",
       "    <tr>\n",
       "      <th>2</th>\n",
       "      <td>0.196364</td>\n",
       "      <td>0.189405</td>\n",
       "      <td>0.437273</td>\n",
       "      <td>0.248309</td>\n",
       "      <td>120</td>\n",
       "      <td>1229</td>\n",
       "      <td>1349</td>\n",
       "      <td>1</td>\n",
       "      <td>0</td>\n",
       "      <td>0</td>\n",
       "      <td>...</td>\n",
       "      <td>0</td>\n",
       "      <td>1</td>\n",
       "      <td>0</td>\n",
       "      <td>0</td>\n",
       "      <td>0</td>\n",
       "      <td>0</td>\n",
       "      <td>0</td>\n",
       "      <td>1</td>\n",
       "      <td>0</td>\n",
       "      <td>0</td>\n",
       "    </tr>\n",
       "    <tr>\n",
       "      <th>3</th>\n",
       "      <td>0.200000</td>\n",
       "      <td>0.212122</td>\n",
       "      <td>0.590435</td>\n",
       "      <td>0.160296</td>\n",
       "      <td>108</td>\n",
       "      <td>1454</td>\n",
       "      <td>1562</td>\n",
       "      <td>1</td>\n",
       "      <td>0</td>\n",
       "      <td>0</td>\n",
       "      <td>...</td>\n",
       "      <td>0</td>\n",
       "      <td>0</td>\n",
       "      <td>0</td>\n",
       "      <td>0</td>\n",
       "      <td>0</td>\n",
       "      <td>1</td>\n",
       "      <td>0</td>\n",
       "      <td>1</td>\n",
       "      <td>0</td>\n",
       "      <td>0</td>\n",
       "    </tr>\n",
       "    <tr>\n",
       "      <th>4</th>\n",
       "      <td>0.226957</td>\n",
       "      <td>0.229270</td>\n",
       "      <td>0.436957</td>\n",
       "      <td>0.186900</td>\n",
       "      <td>82</td>\n",
       "      <td>1518</td>\n",
       "      <td>1600</td>\n",
       "      <td>1</td>\n",
       "      <td>0</td>\n",
       "      <td>0</td>\n",
       "      <td>...</td>\n",
       "      <td>0</td>\n",
       "      <td>0</td>\n",
       "      <td>0</td>\n",
       "      <td>0</td>\n",
       "      <td>0</td>\n",
       "      <td>0</td>\n",
       "      <td>1</td>\n",
       "      <td>1</td>\n",
       "      <td>0</td>\n",
       "      <td>0</td>\n",
       "    </tr>\n",
       "    <tr>\n",
       "      <th>...</th>\n",
       "      <td>...</td>\n",
       "      <td>...</td>\n",
       "      <td>...</td>\n",
       "      <td>...</td>\n",
       "      <td>...</td>\n",
       "      <td>...</td>\n",
       "      <td>...</td>\n",
       "      <td>...</td>\n",
       "      <td>...</td>\n",
       "      <td>...</td>\n",
       "      <td>...</td>\n",
       "      <td>...</td>\n",
       "      <td>...</td>\n",
       "      <td>...</td>\n",
       "      <td>...</td>\n",
       "      <td>...</td>\n",
       "      <td>...</td>\n",
       "      <td>...</td>\n",
       "      <td>...</td>\n",
       "      <td>...</td>\n",
       "      <td>...</td>\n",
       "    </tr>\n",
       "    <tr>\n",
       "      <th>712</th>\n",
       "      <td>0.254167</td>\n",
       "      <td>0.226642</td>\n",
       "      <td>0.652917</td>\n",
       "      <td>0.350133</td>\n",
       "      <td>247</td>\n",
       "      <td>1867</td>\n",
       "      <td>2114</td>\n",
       "      <td>1</td>\n",
       "      <td>0</td>\n",
       "      <td>0</td>\n",
       "      <td>...</td>\n",
       "      <td>0</td>\n",
       "      <td>0</td>\n",
       "      <td>0</td>\n",
       "      <td>0</td>\n",
       "      <td>1</td>\n",
       "      <td>0</td>\n",
       "      <td>0</td>\n",
       "      <td>1</td>\n",
       "      <td>0</td>\n",
       "      <td>1</td>\n",
       "    </tr>\n",
       "    <tr>\n",
       "      <th>713</th>\n",
       "      <td>0.253333</td>\n",
       "      <td>0.255046</td>\n",
       "      <td>0.590000</td>\n",
       "      <td>0.155471</td>\n",
       "      <td>644</td>\n",
       "      <td>2451</td>\n",
       "      <td>3095</td>\n",
       "      <td>1</td>\n",
       "      <td>0</td>\n",
       "      <td>0</td>\n",
       "      <td>...</td>\n",
       "      <td>0</td>\n",
       "      <td>0</td>\n",
       "      <td>0</td>\n",
       "      <td>0</td>\n",
       "      <td>0</td>\n",
       "      <td>0</td>\n",
       "      <td>0</td>\n",
       "      <td>1</td>\n",
       "      <td>0</td>\n",
       "      <td>1</td>\n",
       "    </tr>\n",
       "    <tr>\n",
       "      <th>714</th>\n",
       "      <td>0.253333</td>\n",
       "      <td>0.242400</td>\n",
       "      <td>0.752917</td>\n",
       "      <td>0.124383</td>\n",
       "      <td>159</td>\n",
       "      <td>1182</td>\n",
       "      <td>1341</td>\n",
       "      <td>1</td>\n",
       "      <td>0</td>\n",
       "      <td>0</td>\n",
       "      <td>...</td>\n",
       "      <td>0</td>\n",
       "      <td>0</td>\n",
       "      <td>1</td>\n",
       "      <td>0</td>\n",
       "      <td>0</td>\n",
       "      <td>0</td>\n",
       "      <td>0</td>\n",
       "      <td>0</td>\n",
       "      <td>0</td>\n",
       "      <td>1</td>\n",
       "    </tr>\n",
       "    <tr>\n",
       "      <th>715</th>\n",
       "      <td>0.255833</td>\n",
       "      <td>0.231700</td>\n",
       "      <td>0.483333</td>\n",
       "      <td>0.350754</td>\n",
       "      <td>364</td>\n",
       "      <td>1432</td>\n",
       "      <td>1796</td>\n",
       "      <td>1</td>\n",
       "      <td>0</td>\n",
       "      <td>0</td>\n",
       "      <td>...</td>\n",
       "      <td>0</td>\n",
       "      <td>0</td>\n",
       "      <td>0</td>\n",
       "      <td>1</td>\n",
       "      <td>0</td>\n",
       "      <td>0</td>\n",
       "      <td>0</td>\n",
       "      <td>0</td>\n",
       "      <td>0</td>\n",
       "      <td>0</td>\n",
       "    </tr>\n",
       "    <tr>\n",
       "      <th>716</th>\n",
       "      <td>0.215833</td>\n",
       "      <td>0.223487</td>\n",
       "      <td>0.577500</td>\n",
       "      <td>0.154846</td>\n",
       "      <td>439</td>\n",
       "      <td>2290</td>\n",
       "      <td>2729</td>\n",
       "      <td>1</td>\n",
       "      <td>0</td>\n",
       "      <td>0</td>\n",
       "      <td>...</td>\n",
       "      <td>0</td>\n",
       "      <td>1</td>\n",
       "      <td>0</td>\n",
       "      <td>0</td>\n",
       "      <td>0</td>\n",
       "      <td>0</td>\n",
       "      <td>0</td>\n",
       "      <td>1</td>\n",
       "      <td>0</td>\n",
       "      <td>1</td>\n",
       "    </tr>\n",
       "  </tbody>\n",
       "</table>\n",
       "<p>717 rows × 32 columns</p>\n",
       "</div>"
      ],
      "text/plain": [
       "         temp     atemp       hum  windspeed  casual  registered   cnt  \\\n",
       "0    0.344167  0.363625  0.805833   0.160446     331         654   985   \n",
       "1    0.363478  0.353739  0.696087   0.248539     131         670   801   \n",
       "2    0.196364  0.189405  0.437273   0.248309     120        1229  1349   \n",
       "3    0.200000  0.212122  0.590435   0.160296     108        1454  1562   \n",
       "4    0.226957  0.229270  0.436957   0.186900      82        1518  1600   \n",
       "..        ...       ...       ...        ...     ...         ...   ...   \n",
       "712  0.254167  0.226642  0.652917   0.350133     247        1867  2114   \n",
       "713  0.253333  0.255046  0.590000   0.155471     644        2451  3095   \n",
       "714  0.253333  0.242400  0.752917   0.124383     159        1182  1341   \n",
       "715  0.255833  0.231700  0.483333   0.350754     364        1432  1796   \n",
       "716  0.215833  0.223487  0.577500   0.154846     439        2290  2729   \n",
       "\n",
       "     season_spring  season_summer  season_winter  ...  holiday_1  weekday_mon  \\\n",
       "0                1              0              0  ...          0            0   \n",
       "1                1              0              0  ...          0            0   \n",
       "2                1              0              0  ...          0            1   \n",
       "3                1              0              0  ...          0            0   \n",
       "4                1              0              0  ...          0            0   \n",
       "..             ...            ...            ...  ...        ...          ...   \n",
       "712              1              0              0  ...          0            0   \n",
       "713              1              0              0  ...          0            0   \n",
       "714              1              0              0  ...          0            0   \n",
       "715              1              0              0  ...          0            0   \n",
       "716              1              0              0  ...          0            1   \n",
       "\n",
       "     weekday_sat  weekday_sun  weekday_thu  weekday_tue  weekday_wed  \\\n",
       "0              1            0            0            0            0   \n",
       "1              0            1            0            0            0   \n",
       "2              0            0            0            0            0   \n",
       "3              0            0            0            1            0   \n",
       "4              0            0            0            0            1   \n",
       "..           ...          ...          ...          ...          ...   \n",
       "712            0            0            1            0            0   \n",
       "713            0            0            0            0            0   \n",
       "714            1            0            0            0            0   \n",
       "715            0            1            0            0            0   \n",
       "716            0            0            0            0            0   \n",
       "\n",
       "     workingday_1  weathersit_Light rain_Light snow_Thunderstorm  \\\n",
       "0               0                                              0   \n",
       "1               0                                              0   \n",
       "2               1                                              0   \n",
       "3               1                                              0   \n",
       "4               1                                              0   \n",
       "..            ...                                            ...   \n",
       "712             1                                              0   \n",
       "713             1                                              0   \n",
       "714             0                                              0   \n",
       "715             0                                              0   \n",
       "716             1                                              0   \n",
       "\n",
       "     weathersit_Mist_cloudy  \n",
       "0                         1  \n",
       "1                         1  \n",
       "2                         0  \n",
       "3                         0  \n",
       "4                         0  \n",
       "..                      ...  \n",
       "712                       1  \n",
       "713                       1  \n",
       "714                       1  \n",
       "715                       0  \n",
       "716                       1  \n",
       "\n",
       "[717 rows x 32 columns]"
      ]
     },
     "execution_count": 416,
     "metadata": {},
     "output_type": "execute_result"
    }
   ],
   "source": [
    "df = pd.get_dummies(df, columns = object_cols,drop_first=True)\n",
    "df"
   ]
  },
  {
   "cell_type": "code",
   "execution_count": 417,
   "id": "003d8459-6392-4a0e-be30-bda3a311164c",
   "metadata": {},
   "outputs": [
    {
     "data": {
      "image/png": "[encoded data removed]",
      "text/plain": [
       "<Figure size 640x480 with 1 Axes>"
      ]
     },
     "metadata": {},
     "output_type": "display_data"
    }
   ],
   "source": [
    "sns.histplot(df[\"cnt\"], kde=True)\n",
    "plt.show()"
   ]
  },
  {
   "cell_type": "markdown",
   "id": "fc99785a-0315-4bb8-b7a2-f2505fc78546",
   "metadata": {},
   "source": [
    "# Model prepration"
   ]
  },
  {
   "cell_type": "code",
   "execution_count": 418,
   "id": "f2a322dc-078b-424c-8de7-6bd8f1ad320c",
   "metadata": {},
   "outputs": [],
   "source": [
    "from sklearn.preprocessing import MinMaxScaler"
   ]
  },
  {
   "cell_type": "code",
   "execution_count": 419,
   "id": "ddd2e1a2-bbe1-4648-b428-7e53b07af30c",
   "metadata": {},
   "outputs": [],
   "source": [
    "scaler = MinMaxScaler()"
   ]
  },
  {
   "cell_type": "code",
   "execution_count": 420,
   "id": "1eda3e45-b96f-425c-932f-1d65a8dcb288",
   "metadata": {},
   "outputs": [],
   "source": [
    "X = df.drop(['cnt'],axis=1)\n",
    "y = df['cnt']\n"
   ]
  },
  {
   "cell_type": "markdown",
   "id": "3563c3cc-c4c4-43e7-9bb5-70cb92c93592",
   "metadata": {},
   "source": [
    "# Feature selection"
   ]
  },
  {
   "cell_type": "code",
   "execution_count": 423,
   "id": "db3c43a5-6e3b-4347-bb44-067b7fde6ea9",
   "metadata": {},
   "outputs": [
    {
     "data": {
      "text/plain": [
       "<AxesSubplot:>"
      ]
     },
     "execution_count": 423,
     "metadata": {},
     "output_type": "execute_result"
    },
    {
     "data": {
      "image/png": "[encoded data removed]",
      "text/plain": [
       "<Figure size 640x480 with 1 Axes>"
      ]
     },
     "metadata": {},
     "output_type": "display_data"
    }
   ],
   "source": [
    "importance = mutual_info_classif(X,y)\n",
    "importance_series = pd.Series(importance, index=X.columns)\n",
    "importance_series.plot(kind = 'barh')\n"
   ]
  },
  {
   "cell_type": "code",
   "execution_count": 424,
   "id": "1b58e196-0bfb-4972-8f4b-7b0ac3163f80",
   "metadata": {},
   "outputs": [
    {
     "data": {
      "text/html": [
       "<div>\n",
       "<style scoped>\n",
       "    .dataframe tbody tr th:only-of-type {\n",
       "        vertical-align: middle;\n",
       "    }\n",
       "\n",
       "    .dataframe tbody tr th {\n",
       "        vertical-align: top;\n",
       "    }\n",
       "\n",
       "    .dataframe thead th {\n",
       "        text-align: right;\n",
       "    }\n",
       "</style>\n",
       "<table border=\"1\" class=\"dataframe\">\n",
       "  <thead>\n",
       "    <tr style=\"text-align: right;\">\n",
       "      <th></th>\n",
       "      <th>atemp</th>\n",
       "      <th>windspeed</th>\n",
       "      <th>casual</th>\n",
       "      <th>registered</th>\n",
       "      <th>season_spring</th>\n",
       "      <th>yr_2012</th>\n",
       "      <th>mnth_3</th>\n",
       "      <th>mnth_8</th>\n",
       "      <th>mnth_9</th>\n",
       "      <th>weekday_mon</th>\n",
       "      <th>weekday_sat</th>\n",
       "      <th>weekday_tue</th>\n",
       "      <th>workingday_1</th>\n",
       "      <th>weathersit_Mist_cloudy</th>\n",
       "    </tr>\n",
       "  </thead>\n",
       "  <tbody>\n",
       "    <tr>\n",
       "      <th>0</th>\n",
       "      <td>0.363625</td>\n",
       "      <td>0.160446</td>\n",
       "      <td>331</td>\n",
       "      <td>654</td>\n",
       "      <td>1</td>\n",
       "      <td>0</td>\n",
       "      <td>0</td>\n",
       "      <td>0</td>\n",
       "      <td>0</td>\n",
       "      <td>0</td>\n",
       "      <td>1</td>\n",
       "      <td>0</td>\n",
       "      <td>0</td>\n",
       "      <td>1</td>\n",
       "    </tr>\n",
       "    <tr>\n",
       "      <th>1</th>\n",
       "      <td>0.353739</td>\n",
       "      <td>0.248539</td>\n",
       "      <td>131</td>\n",
       "      <td>670</td>\n",
       "      <td>1</td>\n",
       "      <td>0</td>\n",
       "      <td>0</td>\n",
       "      <td>0</td>\n",
       "      <td>0</td>\n",
       "      <td>0</td>\n",
       "      <td>0</td>\n",
       "      <td>0</td>\n",
       "      <td>0</td>\n",
       "      <td>1</td>\n",
       "    </tr>\n",
       "    <tr>\n",
       "      <th>2</th>\n",
       "      <td>0.189405</td>\n",
       "      <td>0.248309</td>\n",
       "      <td>120</td>\n",
       "      <td>1229</td>\n",
       "      <td>1</td>\n",
       "      <td>0</td>\n",
       "      <td>0</td>\n",
       "      <td>0</td>\n",
       "      <td>0</td>\n",
       "      <td>1</td>\n",
       "      <td>0</td>\n",
       "      <td>0</td>\n",
       "      <td>1</td>\n",
       "      <td>0</td>\n",
       "    </tr>\n",
       "    <tr>\n",
       "      <th>3</th>\n",
       "      <td>0.212122</td>\n",
       "      <td>0.160296</td>\n",
       "      <td>108</td>\n",
       "      <td>1454</td>\n",
       "      <td>1</td>\n",
       "      <td>0</td>\n",
       "      <td>0</td>\n",
       "      <td>0</td>\n",
       "      <td>0</td>\n",
       "      <td>0</td>\n",
       "      <td>0</td>\n",
       "      <td>1</td>\n",
       "      <td>1</td>\n",
       "      <td>0</td>\n",
       "    </tr>\n",
       "    <tr>\n",
       "      <th>4</th>\n",
       "      <td>0.229270</td>\n",
       "      <td>0.186900</td>\n",
       "      <td>82</td>\n",
       "      <td>1518</td>\n",
       "      <td>1</td>\n",
       "      <td>0</td>\n",
       "      <td>0</td>\n",
       "      <td>0</td>\n",
       "      <td>0</td>\n",
       "      <td>0</td>\n",
       "      <td>0</td>\n",
       "      <td>0</td>\n",
       "      <td>1</td>\n",
       "      <td>0</td>\n",
       "    </tr>\n",
       "  </tbody>\n",
       "</table>\n",
       "</div>"
      ],
      "text/plain": [
       "      atemp  windspeed  casual  registered  season_spring  yr_2012  mnth_3  \\\n",
       "0  0.363625   0.160446     331         654              1        0       0   \n",
       "1  0.353739   0.248539     131         670              1        0       0   \n",
       "2  0.189405   0.248309     120        1229              1        0       0   \n",
       "3  0.212122   0.160296     108        1454              1        0       0   \n",
       "4  0.229270   0.186900      82        1518              1        0       0   \n",
       "\n",
       "   mnth_8  mnth_9  weekday_mon  weekday_sat  weekday_tue  workingday_1  \\\n",
       "0       0       0            0            1            0             0   \n",
       "1       0       0            0            0            0             0   \n",
       "2       0       0            1            0            0             1   \n",
       "3       0       0            0            0            1             1   \n",
       "4       0       0            0            0            0             1   \n",
       "\n",
       "   weathersit_Mist_cloudy  \n",
       "0                       1  \n",
       "1                       1  \n",
       "2                       0  \n",
       "3                       0  \n",
       "4                       0  "
      ]
     },
     "execution_count": 424,
     "metadata": {},
     "output_type": "execute_result"
    }
   ],
   "source": [
    "d=df.loc[: , importance_series[importance_series > 0.1].index]\n",
    "d.head()"
   ]
  },
  {
   "cell_type": "markdown",
   "id": "1c9c7d20-ce87-4510-8714-a170d5c646c9",
   "metadata": {},
   "source": [
    "# Select features"
   ]
  },
  {
   "cell_type": "code",
   "execution_count": 425,
   "id": "5addaa77-9acc-4d76-8f5d-1ad3b1b4ce7c",
   "metadata": {},
   "outputs": [],
   "source": [
    "num_vars = ['atemp','windspeed','casual','registered','cnt']\n",
    "\n",
    "df[num_vars] = scaler.fit_transform(df[num_vars])"
   ]
  },
  {
   "cell_type": "code",
   "execution_count": 426,
   "id": "1a4fcdf9-5f32-47b9-a13e-d68cdfadbcc3",
   "metadata": {},
   "outputs": [],
   "source": [
    "X1=df.filter(['atemp','windspeed','casual','registered','season_spring','yr_2012','mnth_3','mnth_8','month_9','weekday_sat','weekday_mon','weekday_tue','workingday_1','weathersit_Mist_cloudy'],axis=1).values\n",
    "\n",
    "Y1=df['cnt'].values\n"
   ]
  },
  {
   "cell_type": "code",
   "execution_count": 427,
   "id": "932b731f-33c5-4326-8781-51091f8ae2e1",
   "metadata": {},
   "outputs": [],
   "source": [
    "X_train1, X_test1, y_train1, y_test1 = train_test_split(X1, y1, test_size = 0.25, random_state = 42)"
   ]
  },
  {
   "cell_type": "code",
   "execution_count": 428,
   "id": "ec4d2b73-32c7-4f32-bce5-7025dc501d68",
   "metadata": {},
   "outputs": [],
   "source": [
    "def Model(model):\n",
    "    \n",
    "    print(f\"Model MSE :  {metrics.mean_squared_error(y_test1,y_predict)}\")\n",
    "    print(f\"R2_SCORE : { metrics.r2_score(y_test1, y_predict)}\")\n",
    "\n"
   ]
  },
  {
   "cell_type": "code",
   "execution_count": 395,
   "id": "f142095e-a1a3-486d-9e83-c8047597c959",
   "metadata": {},
   "outputs": [],
   "source": [
    "from sklearn import linear_model"
   ]
  },
  {
   "cell_type": "code",
   "execution_count": 396,
   "id": "2cf80e01-0a06-4c17-9d58-e56856e140e2",
   "metadata": {},
   "outputs": [],
   "source": [
    "from sklearn.tree import DecisionTreeRegressor"
   ]
  },
  {
   "cell_type": "code",
   "execution_count": 397,
   "id": "5084c327-f869-4b57-bb66-00d88093bc11",
   "metadata": {},
   "outputs": [],
   "source": [
    "from sklearn.ensemble import RandomForestRegressor,AdaBoostClassifier"
   ]
  },
  {
   "cell_type": "code",
   "execution_count": 398,
   "id": "28b45882-16e7-4f53-afba-c8dcb61e31e6",
   "metadata": {},
   "outputs": [],
   "source": [
    "from sklearn.ensemble import GradientBoostingRegressor"
   ]
  },
  {
   "cell_type": "code",
   "execution_count": 399,
   "id": "a29d7970-8e51-4fab-990d-519afebe8acf",
   "metadata": {},
   "outputs": [],
   "source": [
    "from sklearn.svm import SVR"
   ]
  },
  {
   "cell_type": "code",
   "execution_count": 400,
   "id": "65ca38b1-e5e9-4ebc-805f-5969f31265e5",
   "metadata": {},
   "outputs": [],
   "source": [
    "from sklearn.feature_selection import mutual_info_classif"
   ]
  },
  {
   "cell_type": "markdown",
   "id": "2df95565-fa85-4140-81c4-211b044eead1",
   "metadata": {},
   "source": [
    "# 1.Linear Regression"
   ]
  },
  {
   "cell_type": "code",
   "execution_count": 429,
   "id": "31ce8b7b-6e3c-459c-8bae-40bec672c00e",
   "metadata": {},
   "outputs": [],
   "source": [
    "linear1 = LinearRegression()\n",
    "linear1.fit(X_train1, y_train1)\n",
    "y_predict= linear1.predict(X_test1)"
   ]
  },
  {
   "cell_type": "code",
   "execution_count": 430,
   "id": "9853df85-d176-4671-bbce-5c728d8626a2",
   "metadata": {},
   "outputs": [
    {
     "name": "stdout",
     "output_type": "stream",
     "text": [
      "Model MSE :  1.4814868569923108e-31\n",
      "R2_SCORE : 1.0\n"
     ]
    }
   ],
   "source": [
    "Model(linear1)"
   ]
  },
  {
   "cell_type": "code",
   "execution_count": 431,
   "id": "580cba8e-85e9-4847-945e-4b6370debf94",
   "metadata": {},
   "outputs": [
    {
     "name": "stdout",
     "output_type": "stream",
     "text": [
      "traning score: 1.0\n",
      "testing score: 1.0\n"
     ]
    }
   ],
   "source": [
    "mse10=metrics.mean_squared_error(y_test1, y_predict)\n",
    "training10 =linear1.score(X_train1, y_train1)\n",
    "testing10 = linear1.score(X_test1, y_test1)\n",
    "print(f'traning score: {training10}\\ntesting score: {testing10}')"
   ]
  },
  {
   "cell_type": "markdown",
   "id": "79e82961-68f0-4012-bac5-50f76b6597b5",
   "metadata": {},
   "source": [
    "# 2.Decision Tree Regression"
   ]
  },
  {
   "cell_type": "code",
   "execution_count": 432,
   "id": "8a0b51e0-2241-48b3-809a-d376e8bfffac",
   "metadata": {},
   "outputs": [
    {
     "data": {
      "text/html": [
       "<style>#sk-container-id-3 {color: black;background-color: white;}#sk-container-id-3 pre{padding: 0;}#sk-container-id-3 div.sk-toggleable {background-color: white;}#sk-container-id-3 label.sk-toggleable__label {cursor: pointer;display: block;width: 100%;margin-bottom: 0;padding: 0.3em;box-sizing: border-box;text-align: center;}#sk-container-id-3 label.sk-toggleable__label-arrow:before {content: \"▸\";float: left;margin-right: 0.25em;color: #696969;}#sk-container-id-3 label.sk-toggleable__label-arrow:hover:before {color: black;}#sk-container-id-3 div.sk-estimator:hover label.sk-toggleable__label-arrow:before {color: black;}#sk-container-id-3 div.sk-toggleable__content {max-height: 0;max-width: 0;overflow: hidden;text-align: left;background-color: #f0f8ff;}#sk-container-id-3 div.sk-toggleable__content pre {margin: 0.2em;color: black;border-radius: 0.25em;background-color: #f0f8ff;}#sk-container-id-3 input.sk-toggleable__control:checked~div.sk-toggleable__content {max-height: 200px;max-width: 100%;overflow: auto;}#sk-container-id-3 input.sk-toggleable__control:checked~label.sk-toggleable__label-arrow:before {content: \"▾\";}#sk-container-id-3 div.sk-estimator input.sk-toggleable__control:checked~label.sk-toggleable__label {background-color: #d4ebff;}#sk-container-id-3 div.sk-label input.sk-toggleable__control:checked~label.sk-toggleable__label {background-color: #d4ebff;}#sk-container-id-3 input.sk-hidden--visually {border: 0;clip: rect(1px 1px 1px 1px);clip: rect(1px, 1px, 1px, 1px);height: 1px;margin: -1px;overflow: hidden;padding: 0;position: absolute;width: 1px;}#sk-container-id-3 div.sk-estimator {font-family: monospace;background-color: #f0f8ff;border: 1px dotted black;border-radius: 0.25em;box-sizing: border-box;margin-bottom: 0.5em;}#sk-container-id-3 div.sk-estimator:hover {background-color: #d4ebff;}#sk-container-id-3 div.sk-parallel-item::after {content: \"\";width: 100%;border-bottom: 1px solid gray;flex-grow: 1;}#sk-container-id-3 div.sk-label:hover label.sk-toggleable__label {background-color: #d4ebff;}#sk-container-id-3 div.sk-serial::before {content: \"\";position: absolute;border-left: 1px solid gray;box-sizing: border-box;top: 0;bottom: 0;left: 50%;z-index: 0;}#sk-container-id-3 div.sk-serial {display: flex;flex-direction: column;align-items: center;background-color: white;padding-right: 0.2em;padding-left: 0.2em;position: relative;}#sk-container-id-3 div.sk-item {position: relative;z-index: 1;}#sk-container-id-3 div.sk-parallel {display: flex;align-items: stretch;justify-content: center;background-color: white;position: relative;}#sk-container-id-3 div.sk-item::before, #sk-container-id-3 div.sk-parallel-item::before {content: \"\";position: absolute;border-left: 1px solid gray;box-sizing: border-box;top: 0;bottom: 0;left: 50%;z-index: -1;}#sk-container-id-3 div.sk-parallel-item {display: flex;flex-direction: column;z-index: 1;position: relative;background-color: white;}#sk-container-id-3 div.sk-parallel-item:first-child::after {align-self: flex-end;width: 50%;}#sk-container-id-3 div.sk-parallel-item:last-child::after {align-self: flex-start;width: 50%;}#sk-container-id-3 div.sk-parallel-item:only-child::after {width: 0;}#sk-container-id-3 div.sk-dashed-wrapped {border: 1px dashed gray;margin: 0 0.4em 0.5em 0.4em;box-sizing: border-box;padding-bottom: 0.4em;background-color: white;}#sk-container-id-3 div.sk-label label {font-family: monospace;font-weight: bold;display: inline-block;line-height: 1.2em;}#sk-container-id-3 div.sk-label-container {text-align: center;}#sk-container-id-3 div.sk-container {/* jupyter's `normalize.less` sets `[hidden] { display: none; }` but bootstrap.min.css set `[hidden] { display: none !important; }` so we also need the `!important` here to be able to override the default hidden behavior on the sphinx rendered scikit-learn.org. See: https://github.com/scikit-learn/scikit-learn/issues/21755 */display: inline-block !important;position: relative;}#sk-container-id-3 div.sk-text-repr-fallback {display: none;}</style><div id=\"sk-container-id-3\" class=\"sk-top-container\"><div class=\"sk-text-repr-fallback\"><pre>DecisionTreeRegressor(max_leaf_nodes=5, min_samples_split=1)</pre><b>In a Jupyter environment, please rerun this cell to show the HTML representation or trust the notebook. <br />On GitHub, the HTML representation is unable to render, please try loading this page with nbviewer.org.</b></div><div class=\"sk-container\" hidden><div class=\"sk-item\"><div class=\"sk-estimator sk-toggleable\"><input class=\"sk-toggleable__control sk-hidden--visually\" id=\"sk-estimator-id-3\" type=\"checkbox\" checked><label for=\"sk-estimator-id-3\" class=\"sk-toggleable__label sk-toggleable__label-arrow\">DecisionTreeRegressor</label><div class=\"sk-toggleable__content\"><pre>DecisionTreeRegressor(max_leaf_nodes=5, min_samples_split=1)</pre></div></div></div></div></div>"
      ],
      "text/plain": [
       "DecisionTreeRegressor(max_leaf_nodes=5, min_samples_split=1)"
      ]
     },
     "execution_count": 432,
     "metadata": {},
     "output_type": "execute_result"
    }
   ],
   "source": [
    "dtr1=DecisionTreeRegressor(min_samples_split=1,max_leaf_nodes=5)\n",
    "dtr1.fit(X_train1,y_train1)"
   ]
  },
  {
   "cell_type": "code",
   "execution_count": 433,
   "id": "40503eaa-c722-4a7e-a438-ebab13e036ba",
   "metadata": {},
   "outputs": [],
   "source": [
    "y_predict= dtr1.predict(X_test1)"
   ]
  },
  {
   "cell_type": "code",
   "execution_count": 434,
   "id": "8e69317a-c3fe-47ce-bcfb-cddcea140638",
   "metadata": {},
   "outputs": [
    {
     "name": "stdout",
     "output_type": "stream",
     "text": [
      "Model MSE :  0.006551539148697768\n",
      "R2_SCORE : 0.8674869567358786\n"
     ]
    }
   ],
   "source": [
    "Model(dtr1)"
   ]
  },
  {
   "cell_type": "code",
   "execution_count": 435,
   "id": "29cac6dd-add9-4417-8bcb-29bf8d933b5a",
   "metadata": {},
   "outputs": [
    {
     "name": "stdout",
     "output_type": "stream",
     "text": [
      "traning score: 0.8714857080167583\n",
      "testing score: 0.8674869567358786\n"
     ]
    }
   ],
   "source": [
    "mse11=metrics.mean_squared_error(y_test1, y_predict)\n",
    "training11 =dtr1.score(X_train1, y_train1)\n",
    "testing11 = dtr1.score(X_test1, y_test1)\n",
    "print(f'traning score: {training11}\\ntesting score: {testing11}')"
   ]
  },
  {
   "cell_type": "markdown",
   "id": "c4c85787-4b51-4322-8fe8-fffff4b5f8d2",
   "metadata": {},
   "source": [
    "# 3.Polynomial Regression"
   ]
  },
  {
   "cell_type": "code",
   "execution_count": 436,
   "id": "bf75db5e-a8a2-4541-8f25-61e06614c3c5",
   "metadata": {},
   "outputs": [],
   "source": [
    "poly1 = make_pipeline( PolynomialFeatures(degree=4, include_bias=False), \n",
    "              Ridge(alpha=1))\n",
    "poly1.fit(X_train1, y_train1)\n",
    "y_predict= poly1.predict(X_test1)"
   ]
  },
  {
   "cell_type": "code",
   "execution_count": 437,
   "id": "3047b16a-64b0-4bc0-8a07-f887dddff311",
   "metadata": {},
   "outputs": [
    {
     "name": "stdout",
     "output_type": "stream",
     "text": [
      "Model MSE :  0.00015443844023311037\n",
      "R2_SCORE : 0.9968762900979808\n"
     ]
    }
   ],
   "source": [
    "Model(poly1)"
   ]
  },
  {
   "cell_type": "code",
   "execution_count": 438,
   "id": "d600aeec-d59c-4703-8a85-9e817a7c97f0",
   "metadata": {},
   "outputs": [
    {
     "name": "stdout",
     "output_type": "stream",
     "text": [
      "traning score: 0.9976574304214942\n",
      "testing score: 0.9968762900979808\n"
     ]
    }
   ],
   "source": [
    "mse12=metrics.mean_squared_error(y_test1, y_predict)\n",
    "training12 =poly1.score(X_train1, y_train1)\n",
    "testing12 = poly1.score(X_test1, y_test1)\n",
    "print(f'traning score: {training12}\\ntesting score: {testing12}')"
   ]
  },
  {
   "cell_type": "markdown",
   "id": "67723af3-e51b-43c3-b232-1e68fe5cf63f",
   "metadata": {},
   "source": [
    "# 4.RandomForestRegression"
   ]
  },
  {
   "cell_type": "code",
   "execution_count": 450,
   "id": "591d77ab-28f0-4170-b3c7-6666e2a05721",
   "metadata": {},
   "outputs": [],
   "source": [
    "random1= RandomForestRegressor(min_samples_split=3)\n",
    "random1.fit(X_train1, y_train1)\n",
    "y_predict= random1.predict(X_test1)"
   ]
  },
  {
   "cell_type": "code",
   "execution_count": 451,
   "id": "f8cc311e-b930-4580-b8f7-5a03642b472a",
   "metadata": {},
   "outputs": [
    {
     "name": "stdout",
     "output_type": "stream",
     "text": [
      "Model MSE :  0.00021401576591060947\n",
      "R2_SCORE : 0.9956712644458587\n"
     ]
    }
   ],
   "source": [
    "Model(random1)"
   ]
  },
  {
   "cell_type": "code",
   "execution_count": 452,
   "id": "d48f104a-fcbb-40aa-8cab-a405d00d2017",
   "metadata": {},
   "outputs": [
    {
     "name": "stdout",
     "output_type": "stream",
     "text": [
      "traning score: 0.9994241919324566\n",
      "testing score: 0.9956712644458587\n"
     ]
    }
   ],
   "source": [
    "mse13=metrics.mean_squared_error(y_test1, y_predict)\n",
    "training13 =random1.score(X_train1, y_train1)\n",
    "testing13 = random1.score(X_test1, y_test1)\n",
    "print(f'traning score: {training13}\\ntesting score: {testing13}')"
   ]
  },
  {
   "cell_type": "markdown",
   "id": "63455d26-00d5-4bd3-9605-33ad5161a364",
   "metadata": {},
   "source": [
    "# 5.GradientBoosting"
   ]
  },
  {
   "cell_type": "code",
   "execution_count": 453,
   "id": "21e2dba4-11e4-4ef9-b6f4-79cc7fd3a3b7",
   "metadata": {},
   "outputs": [],
   "source": [
    "gradient1= GradientBoostingRegressor(loss='absolute_error', learning_rate=0.1)\n",
    "gradient1.fit(X_train1, y_train1)\n",
    "y_predict= gradient1.predict(X_test1)"
   ]
  },
  {
   "cell_type": "code",
   "execution_count": 454,
   "id": "9a759720-bcb3-46aa-abc2-c31ecb7e19e7",
   "metadata": {},
   "outputs": [
    {
     "name": "stdout",
     "output_type": "stream",
     "text": [
      "Model MSE :  0.00021083051684216448\n",
      "R2_SCORE : 0.9957356900774598\n"
     ]
    }
   ],
   "source": [
    "Model(gradient1)"
   ]
  },
  {
   "cell_type": "code",
   "execution_count": 444,
   "id": "d2321364-6d33-4786-9407-f12202bd36b3",
   "metadata": {},
   "outputs": [
    {
     "name": "stdout",
     "output_type": "stream",
     "text": [
      "traning score: 0.9965237844444053\n",
      "testing score: 0.995235071307433\n"
     ]
    }
   ],
   "source": [
    "mse14=metrics.mean_squared_error(y_test1, y_predict)\n",
    "training14 =gradient1.score(X_train1, y_train1)\n",
    "testing14 = gradient1.score(X_test1, y_test1)\n",
    "print(f'traning score: {training14}\\ntesting score: {testing14}')"
   ]
  },
  {
   "cell_type": "markdown",
   "id": "95d4bf58-4e7d-42c3-8f48-e83d83b29d93",
   "metadata": {},
   "source": [
    "# 6.SVM Regression"
   ]
  },
  {
   "cell_type": "code",
   "execution_count": 455,
   "id": "a330aa03-a989-4c38-95d4-2a700e1653c9",
   "metadata": {},
   "outputs": [],
   "source": [
    "svr1= SVR(kernel='linear')\n",
    "svr1.fit(X_train1, y_train1)\n",
    "y_predict= svr1.predict(X_test1)"
   ]
  },
  {
   "cell_type": "code",
   "execution_count": 456,
   "id": "8e028e3c-7149-46c1-b27d-1f504f6d0ec3",
   "metadata": {},
   "outputs": [
    {
     "name": "stdout",
     "output_type": "stream",
     "text": [
      "Model MSE :  0.0015666348789743322\n",
      "R2_SCORE : 0.9683128573630104\n"
     ]
    }
   ],
   "source": [
    "Model(svr1)"
   ]
  },
  {
   "cell_type": "code",
   "execution_count": 457,
   "id": "3fd464cf-8f4d-4e47-8184-5071b05b3c94",
   "metadata": {},
   "outputs": [
    {
     "name": "stdout",
     "output_type": "stream",
     "text": [
      "traning score: 0.9699722538914834\n",
      "testing score: 0.9683128573630104\n"
     ]
    }
   ],
   "source": [
    "mse15=metrics.mean_squared_error(y_test1, y_predict)\n",
    "training15 =svr1.score(X_train1, y_train1)\n",
    "testing15 = svr1.score(X_test1, y_test1)\n",
    "print(f'traning score: {training15}\\ntesting score: {testing15}')"
   ]
  },
  {
   "cell_type": "markdown",
   "id": "e7f6006c-53b9-458c-91ae-475e6df6ceda",
   "metadata": {},
   "source": [
    "# Final result With Feature selection"
   ]
  },
  {
   "cell_type": "code",
   "execution_count": 458,
   "id": "5655e719-8b9a-4f42-ae89-2981b3ff6938",
   "metadata": {},
   "outputs": [
    {
     "data": {
      "text/html": [
       "<div>\n",
       "<style scoped>\n",
       "    .dataframe tbody tr th:only-of-type {\n",
       "        vertical-align: middle;\n",
       "    }\n",
       "\n",
       "    .dataframe tbody tr th {\n",
       "        vertical-align: top;\n",
       "    }\n",
       "\n",
       "    .dataframe thead th {\n",
       "        text-align: right;\n",
       "    }\n",
       "</style>\n",
       "<table border=\"1\" class=\"dataframe\">\n",
       "  <thead>\n",
       "    <tr style=\"text-align: right;\">\n",
       "      <th></th>\n",
       "      <th>Model</th>\n",
       "      <th>Test_Accuracy</th>\n",
       "      <th>Train_Accuracy</th>\n",
       "      <th>MSE</th>\n",
       "    </tr>\n",
       "  </thead>\n",
       "  <tbody>\n",
       "    <tr>\n",
       "      <th>0</th>\n",
       "      <td>Linear</td>\n",
       "      <td>1.000000</td>\n",
       "      <td>1.000000</td>\n",
       "      <td>1.481487e-31</td>\n",
       "    </tr>\n",
       "    <tr>\n",
       "      <th>1</th>\n",
       "      <td>DicisionTree</td>\n",
       "      <td>0.867487</td>\n",
       "      <td>0.871486</td>\n",
       "      <td>6.551539e-03</td>\n",
       "    </tr>\n",
       "    <tr>\n",
       "      <th>2</th>\n",
       "      <td>poly</td>\n",
       "      <td>0.996876</td>\n",
       "      <td>0.997657</td>\n",
       "      <td>1.544384e-04</td>\n",
       "    </tr>\n",
       "    <tr>\n",
       "      <th>3</th>\n",
       "      <td>RandomForest</td>\n",
       "      <td>0.995671</td>\n",
       "      <td>0.999424</td>\n",
       "      <td>2.140158e-04</td>\n",
       "    </tr>\n",
       "    <tr>\n",
       "      <th>4</th>\n",
       "      <td>GradientBoosting</td>\n",
       "      <td>0.995235</td>\n",
       "      <td>0.996524</td>\n",
       "      <td>2.355815e-04</td>\n",
       "    </tr>\n",
       "    <tr>\n",
       "      <th>5</th>\n",
       "      <td>Svm</td>\n",
       "      <td>0.968313</td>\n",
       "      <td>0.969972</td>\n",
       "      <td>1.566635e-03</td>\n",
       "    </tr>\n",
       "  </tbody>\n",
       "</table>\n",
       "</div>"
      ],
      "text/plain": [
       "              Model  Test_Accuracy  Train_Accuracy           MSE\n",
       "0            Linear       1.000000        1.000000  1.481487e-31\n",
       "1      DicisionTree       0.867487        0.871486  6.551539e-03\n",
       "2              poly       0.996876        0.997657  1.544384e-04\n",
       "3      RandomForest       0.995671        0.999424  2.140158e-04\n",
       "4  GradientBoosting       0.995235        0.996524  2.355815e-04\n",
       "5               Svm       0.968313        0.969972  1.566635e-03"
      ]
     },
     "execution_count": 458,
     "metadata": {},
     "output_type": "execute_result"
    }
   ],
   "source": [
    "data1={'Model':['Linear','DicisionTree','poly','RandomForest','GradientBoosting','Svm'],'Test_Accuracy':[testing10,testing11,testing12,testing13,testing14,testing15],\n",
    "     'Train_Accuracy':[training10,training11,training12,training13,training14,training15],'MSE':[mse10,mse11,mse12,mse13,mse14,mse15]}\n",
    "result1=pd.DataFrame(data1)\n",
    "result1"
   ]
  },
  {
   "cell_type": "code",
   "execution_count": null,
   "id": "c0daa2c1-6b88-4aa0-aea2-8555fa2ab437",
   "metadata": {},
   "outputs": [],
   "source": []
  }
 ],
 "metadata": {
  "kernelspec": {
   "display_name": "Python 3 (ipykernel)",
   "language": "python",
   "name": "python3"
  },
  "language_info": {
   "codemirror_mode": {
    "name": "ipython",
    "version": 3
   },
   "file_extension": ".py",
   "mimetype": "text/x-python",
   "name": "python",
   "nbconvert_exporter": "python",
   "pygments_lexer": "ipython3",
   "version": "3.9.13"
  }
 },
 "nbformat": 4,
 "nbformat_minor": 5
}
