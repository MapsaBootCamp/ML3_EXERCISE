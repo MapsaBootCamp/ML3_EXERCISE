{
  "metadata": {
    "language_info": {
      "codemirror_mode": {
        "name": "python",
        "version": 3
      },
      "file_extension": ".py",
      "mimetype": "text/x-python",
      "name": "python",
      "nbconvert_exporter": "python",
      "pygments_lexer": "ipython3",
      "version": "3.8"
    },
    "kernelspec": {
      "name": "python",
      "display_name": "Python (Pyodide)",
      "language": "python"
    }
  },
  "nbformat_minor": 4,
  "nbformat": 4,
  "cells": [
    {
      "cell_type": "code",
      "source": "b=[7 ,-4 ,1, 12, 7, -4 ,1 ,12, 7]\nprint(b)",
      "metadata": {
        "trusted": true
      },
      "execution_count": 5,
      "outputs": [
        {
          "name": "stdout",
          "text": "[7, -4, 1, 12, 7, -4, 1, 12, 7]\n",
          "output_type": "stream"
        }
      ]
    },
    {
      "cell_type": "code",
      "source": "def findfun(i,b,arr=[],j=0,firstitem=0,counter=0):\n    # for j in range(len(b)):\n    print(0,'i:',i,'j:',j,'   b[j]:',b[j])\n    if firstitem==0:\n        firstitem=b[i]\n    \n    if b[j]==firstitem and i!=j:\n        if counter==0:\n            counter=1\n        else:\n            print('False')\n            return(arr)\n    \n    if b[j]==b[i] and i!=j:\n        arr.append(b[j])\n        i+=1\n        print(1,'i:',i,'j:',j,'   b[j]:',b[j],'arr;',arr)\n        # return(True)\n    print(4,b[j],firstitem,i,j,counter)\n    \n\n    findfun(i,b,arr,j+1,firstitem,counter)\n    print('in if',b[j],firstitem,'arr;',arr)\n             \n            # return(True)\n    \n            \n\n            \nfor i in range(len(b)):\n    print('start for',b)\n    findfun(i,b)\n",
      "metadata": {
        "trusted": true
      },
      "execution_count": 43,
      "outputs": [
        {
          "name": "stdout",
          "text": "start for [7, -4, 1, 12, 7, -4, 1, 12, 7]\n0 i: 0 j: 0    b[j]: 7\n4 7 7 0 0 0\n0 i: 0 j: 1    b[j]: -4\n4 -4 7 0 1 0\n0 i: 0 j: 2    b[j]: 1\n4 1 7 0 2 0\n0 i: 0 j: 3    b[j]: 12\n4 12 7 0 3 0\n0 i: 0 j: 4    b[j]: 7\n1 i: 1 j: 4    b[j]: 7 arr; [7]\n4 7 7 1 4 1\n0 i: 1 j: 5    b[j]: -4\n1 i: 2 j: 5    b[j]: -4 arr; [7, -4]\n4 -4 7 2 5 1\n0 i: 2 j: 6    b[j]: 1\n1 i: 3 j: 6    b[j]: 1 arr; [7, -4, 1]\n4 1 7 3 6 1\n0 i: 3 j: 7    b[j]: 12\n1 i: 4 j: 7    b[j]: 12 arr; [7, -4, 1, 12]\n4 12 7 4 7 1\n0 i: 4 j: 8    b[j]: 7\nFalse\nin if 12 7 arr; [7, -4, 1, 12]\nin if 1 7 arr; [7, -4, 1, 12]\nin if -4 7 arr; [7, -4, 1, 12]\nin if 7 7 arr; [7, -4, 1, 12]\nin if 12 7 arr; [7, -4, 1, 12]\nin if 1 7 arr; [7, -4, 1, 12]\nin if -4 7 arr; [7, -4, 1, 12]\nin if 7 7 arr; [7, -4, 1, 12]\nstart for [7, -4, 1, 12, 7, -4, 1, 12, 7]\n0 i: 1 j: 0    b[j]: 7\n4 7 -4 1 0 0\n0 i: 1 j: 1    b[j]: -4\n4 -4 -4 1 1 0\n0 i: 1 j: 2    b[j]: 1\n4 1 -4 1 2 0\n0 i: 1 j: 3    b[j]: 12\n4 12 -4 1 3 0\n0 i: 1 j: 4    b[j]: 7\n4 7 -4 1 4 0\n0 i: 1 j: 5    b[j]: -4\n1 i: 2 j: 5    b[j]: -4 arr; [7, -4, 1, 12, -4]\n4 -4 -4 2 5 1\n0 i: 2 j: 6    b[j]: 1\n1 i: 3 j: 6    b[j]: 1 arr; [7, -4, 1, 12, -4, 1]\n4 1 -4 3 6 1\n0 i: 3 j: 7    b[j]: 12\n1 i: 4 j: 7    b[j]: 12 arr; [7, -4, 1, 12, -4, 1, 12]\n4 12 -4 4 7 1\n0 i: 4 j: 8    b[j]: 7\n1 i: 5 j: 8    b[j]: 7 arr; [7, -4, 1, 12, -4, 1, 12, 7]\n4 7 -4 5 8 1\n",
          "output_type": "stream"
        },
        {
          "ename": "<class 'IndexError'>",
          "evalue": "list index out of range",
          "traceback": [
            "\u001b[0;31m---------------------------------------------------------------------------\u001b[0m",
            "\u001b[0;31mIndexError\u001b[0m                                Traceback (most recent call last)",
            "Cell \u001b[0;32mIn [43], line 32\u001b[0m\n\u001b[1;32m     30\u001b[0m \u001b[38;5;28;01mfor\u001b[39;00m i \u001b[38;5;129;01min\u001b[39;00m \u001b[38;5;28mrange\u001b[39m(\u001b[38;5;28mlen\u001b[39m(b)):\n\u001b[1;32m     31\u001b[0m     \u001b[38;5;28mprint\u001b[39m(\u001b[38;5;124m'\u001b[39m\u001b[38;5;124mstart for\u001b[39m\u001b[38;5;124m'\u001b[39m,b)\n\u001b[0;32m---> 32\u001b[0m     \u001b[43mfindfun\u001b[49m\u001b[43m(\u001b[49m\u001b[43mi\u001b[49m\u001b[43m,\u001b[49m\u001b[43mb\u001b[49m\u001b[43m)\u001b[49m\n",
            "Cell \u001b[0;32mIn [43], line 22\u001b[0m, in \u001b[0;36mfindfun\u001b[0;34m(i, b, arr, j, firstitem, counter)\u001b[0m\n\u001b[1;32m     18\u001b[0m     \u001b[38;5;66;03m# return(True)\u001b[39;00m\n\u001b[1;32m     19\u001b[0m \u001b[38;5;28mprint\u001b[39m(\u001b[38;5;241m4\u001b[39m,b[j],firstitem,i,j,counter)\n\u001b[0;32m---> 22\u001b[0m \u001b[43mfindfun\u001b[49m\u001b[43m(\u001b[49m\u001b[43mi\u001b[49m\u001b[43m,\u001b[49m\u001b[43mb\u001b[49m\u001b[43m,\u001b[49m\u001b[43marr\u001b[49m\u001b[43m,\u001b[49m\u001b[43mj\u001b[49m\u001b[38;5;241;43m+\u001b[39;49m\u001b[38;5;241;43m1\u001b[39;49m\u001b[43m,\u001b[49m\u001b[43mfirstitem\u001b[49m\u001b[43m,\u001b[49m\u001b[43mcounter\u001b[49m\u001b[43m)\u001b[49m\n\u001b[1;32m     23\u001b[0m \u001b[38;5;28mprint\u001b[39m(\u001b[38;5;124m'\u001b[39m\u001b[38;5;124min if\u001b[39m\u001b[38;5;124m'\u001b[39m,b[j],firstitem,\u001b[38;5;124m'\u001b[39m\u001b[38;5;124marr;\u001b[39m\u001b[38;5;124m'\u001b[39m,arr)\n",
            "Cell \u001b[0;32mIn [43], line 22\u001b[0m, in \u001b[0;36mfindfun\u001b[0;34m(i, b, arr, j, firstitem, counter)\u001b[0m\n\u001b[1;32m     18\u001b[0m     \u001b[38;5;66;03m# return(True)\u001b[39;00m\n\u001b[1;32m     19\u001b[0m \u001b[38;5;28mprint\u001b[39m(\u001b[38;5;241m4\u001b[39m,b[j],firstitem,i,j,counter)\n\u001b[0;32m---> 22\u001b[0m \u001b[43mfindfun\u001b[49m\u001b[43m(\u001b[49m\u001b[43mi\u001b[49m\u001b[43m,\u001b[49m\u001b[43mb\u001b[49m\u001b[43m,\u001b[49m\u001b[43marr\u001b[49m\u001b[43m,\u001b[49m\u001b[43mj\u001b[49m\u001b[38;5;241;43m+\u001b[39;49m\u001b[38;5;241;43m1\u001b[39;49m\u001b[43m,\u001b[49m\u001b[43mfirstitem\u001b[49m\u001b[43m,\u001b[49m\u001b[43mcounter\u001b[49m\u001b[43m)\u001b[49m\n\u001b[1;32m     23\u001b[0m \u001b[38;5;28mprint\u001b[39m(\u001b[38;5;124m'\u001b[39m\u001b[38;5;124min if\u001b[39m\u001b[38;5;124m'\u001b[39m,b[j],firstitem,\u001b[38;5;124m'\u001b[39m\u001b[38;5;124marr;\u001b[39m\u001b[38;5;124m'\u001b[39m,arr)\n",
            "    \u001b[0;31m[... skipping similar frames: findfun at line 22 (6 times)]\u001b[0m\n",
            "Cell \u001b[0;32mIn [43], line 22\u001b[0m, in \u001b[0;36mfindfun\u001b[0;34m(i, b, arr, j, firstitem, counter)\u001b[0m\n\u001b[1;32m     18\u001b[0m     \u001b[38;5;66;03m# return(True)\u001b[39;00m\n\u001b[1;32m     19\u001b[0m \u001b[38;5;28mprint\u001b[39m(\u001b[38;5;241m4\u001b[39m,b[j],firstitem,i,j,counter)\n\u001b[0;32m---> 22\u001b[0m \u001b[43mfindfun\u001b[49m\u001b[43m(\u001b[49m\u001b[43mi\u001b[49m\u001b[43m,\u001b[49m\u001b[43mb\u001b[49m\u001b[43m,\u001b[49m\u001b[43marr\u001b[49m\u001b[43m,\u001b[49m\u001b[43mj\u001b[49m\u001b[38;5;241;43m+\u001b[39;49m\u001b[38;5;241;43m1\u001b[39;49m\u001b[43m,\u001b[49m\u001b[43mfirstitem\u001b[49m\u001b[43m,\u001b[49m\u001b[43mcounter\u001b[49m\u001b[43m)\u001b[49m\n\u001b[1;32m     23\u001b[0m \u001b[38;5;28mprint\u001b[39m(\u001b[38;5;124m'\u001b[39m\u001b[38;5;124min if\u001b[39m\u001b[38;5;124m'\u001b[39m,b[j],firstitem,\u001b[38;5;124m'\u001b[39m\u001b[38;5;124marr;\u001b[39m\u001b[38;5;124m'\u001b[39m,arr)\n",
            "Cell \u001b[0;32mIn [43], line 3\u001b[0m, in \u001b[0;36mfindfun\u001b[0;34m(i, b, arr, j, firstitem, counter)\u001b[0m\n\u001b[1;32m      1\u001b[0m \u001b[38;5;28;01mdef\u001b[39;00m \u001b[38;5;21mfindfun\u001b[39m(i,b,arr\u001b[38;5;241m=\u001b[39m[],j\u001b[38;5;241m=\u001b[39m\u001b[38;5;241m0\u001b[39m,firstitem\u001b[38;5;241m=\u001b[39m\u001b[38;5;241m0\u001b[39m,counter\u001b[38;5;241m=\u001b[39m\u001b[38;5;241m0\u001b[39m):\n\u001b[1;32m      2\u001b[0m     \u001b[38;5;66;03m# for j in range(len(b)):\u001b[39;00m\n\u001b[0;32m----> 3\u001b[0m     \u001b[38;5;28mprint\u001b[39m(\u001b[38;5;241m0\u001b[39m,\u001b[38;5;124m'\u001b[39m\u001b[38;5;124mi:\u001b[39m\u001b[38;5;124m'\u001b[39m,i,\u001b[38;5;124m'\u001b[39m\u001b[38;5;124mj:\u001b[39m\u001b[38;5;124m'\u001b[39m,j,\u001b[38;5;124m'\u001b[39m\u001b[38;5;124m   b[j]:\u001b[39m\u001b[38;5;124m'\u001b[39m,\u001b[43mb\u001b[49m\u001b[43m[\u001b[49m\u001b[43mj\u001b[49m\u001b[43m]\u001b[49m)\n\u001b[1;32m      4\u001b[0m     \u001b[38;5;28;01mif\u001b[39;00m firstitem\u001b[38;5;241m==\u001b[39m\u001b[38;5;241m0\u001b[39m:\n\u001b[1;32m      5\u001b[0m         firstitem\u001b[38;5;241m=\u001b[39mb[i]\n",
            "\u001b[0;31mIndexError\u001b[0m: list index out of range"
          ],
          "output_type": "error"
        }
      ]
    },
    {
      "cell_type": "code",
      "source": "",
      "metadata": {},
      "execution_count": null,
      "outputs": []
    }
  ]
}