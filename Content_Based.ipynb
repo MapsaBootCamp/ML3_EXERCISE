{
  "nbformat": 4,
  "nbformat_minor": 0,
  "metadata": {
    "colab": {
      "provenance": []
    },
    "kernelspec": {
      "name": "python3",
      "display_name": "Python 3"
    },
    "language_info": {
      "name": "python"
    }
  },
  "cells": [
    {
      "cell_type": "code",
      "source": [
        "import numpy as np\n",
        "import pandas as pd\n",
        "from typing import List, Dict\n",
        "from sklearn.feature_extraction.text import TfidfVectorizer\n",
        "from sklearn.metrics.pairwise import cosine_similarity"
      ],
      "metadata": {
        "id": "S8bZbhGydBAi"
      },
      "execution_count": null,
      "outputs": []
    },
    {
      "cell_type": "code",
      "source": [
        "songs = pd.read_csv('song_lyric_data.csv')\n",
        "songs.head()"
      ],
      "metadata": {
        "id": "zX2MfoF2dJbd",
        "colab": {
          "base_uri": "https://localhost:8080/",
          "height": 206
        },
        "outputId": "83c1cadd-4dc6-4b94-f8d0-29f6697e3182"
      },
      "execution_count": null,
      "outputs": [
        {
          "output_type": "execute_result",
          "data": {
            "text/plain": [
              "  artist                   song                                        link  \\\n",
              "0   ABBA  Ahe's My Kind Of Girl  /a/abba/ahes+my+kind+of+girl_20598417.html   \n",
              "1   ABBA       Andante, Andante       /a/abba/andante+andante_20002708.html   \n",
              "2   ABBA         As Good As New        /a/abba/as+good+as+new_20003033.html   \n",
              "3   ABBA                   Bang                  /a/abba/bang_20598415.html   \n",
              "4   ABBA       Bang-A-Boomerang      /a/abba/bang+a+boomerang_20002668.html   \n",
              "\n",
              "                                                text  \n",
              "0  Look at her face, it's a wonderful face  \\nAnd...  \n",
              "1  Take it easy with me, please  \\nTouch me gentl...  \n",
              "2  I'll never know why I had to go  \\nWhy I had t...  \n",
              "3  Making somebody happy is a question of give an...  \n",
              "4  Making somebody happy is a question of give an...  "
            ],
            "text/html": [
              "\n",
              "  <div id=\"df-cacd17c7-725e-4925-a8ef-effdc8accd33\">\n",
              "    <div class=\"colab-df-container\">\n",
              "      <div>\n",
              "<style scoped>\n",
              "    .dataframe tbody tr th:only-of-type {\n",
              "        vertical-align: middle;\n",
              "    }\n",
              "\n",
              "    .dataframe tbody tr th {\n",
              "        vertical-align: top;\n",
              "    }\n",
              "\n",
              "    .dataframe thead th {\n",
              "        text-align: right;\n",
              "    }\n",
              "</style>\n",
              "<table border=\"1\" class=\"dataframe\">\n",
              "  <thead>\n",
              "    <tr style=\"text-align: right;\">\n",
              "      <th></th>\n",
              "      <th>artist</th>\n",
              "      <th>song</th>\n",
              "      <th>link</th>\n",
              "      <th>text</th>\n",
              "    </tr>\n",
              "  </thead>\n",
              "  <tbody>\n",
              "    <tr>\n",
              "      <th>0</th>\n",
              "      <td>ABBA</td>\n",
              "      <td>Ahe's My Kind Of Girl</td>\n",
              "      <td>/a/abba/ahes+my+kind+of+girl_20598417.html</td>\n",
              "      <td>Look at her face, it's a wonderful face  \\nAnd...</td>\n",
              "    </tr>\n",
              "    <tr>\n",
              "      <th>1</th>\n",
              "      <td>ABBA</td>\n",
              "      <td>Andante, Andante</td>\n",
              "      <td>/a/abba/andante+andante_20002708.html</td>\n",
              "      <td>Take it easy with me, please  \\nTouch me gentl...</td>\n",
              "    </tr>\n",
              "    <tr>\n",
              "      <th>2</th>\n",
              "      <td>ABBA</td>\n",
              "      <td>As Good As New</td>\n",
              "      <td>/a/abba/as+good+as+new_20003033.html</td>\n",
              "      <td>I'll never know why I had to go  \\nWhy I had t...</td>\n",
              "    </tr>\n",
              "    <tr>\n",
              "      <th>3</th>\n",
              "      <td>ABBA</td>\n",
              "      <td>Bang</td>\n",
              "      <td>/a/abba/bang_20598415.html</td>\n",
              "      <td>Making somebody happy is a question of give an...</td>\n",
              "    </tr>\n",
              "    <tr>\n",
              "      <th>4</th>\n",
              "      <td>ABBA</td>\n",
              "      <td>Bang-A-Boomerang</td>\n",
              "      <td>/a/abba/bang+a+boomerang_20002668.html</td>\n",
              "      <td>Making somebody happy is a question of give an...</td>\n",
              "    </tr>\n",
              "  </tbody>\n",
              "</table>\n",
              "</div>\n",
              "      <button class=\"colab-df-convert\" onclick=\"convertToInteractive('df-cacd17c7-725e-4925-a8ef-effdc8accd33')\"\n",
              "              title=\"Convert this dataframe to an interactive table.\"\n",
              "              style=\"display:none;\">\n",
              "        \n",
              "  <svg xmlns=\"http://www.w3.org/2000/svg\" height=\"24px\"viewBox=\"0 0 24 24\"\n",
              "       width=\"24px\">\n",
              "    <path d=\"M0 0h24v24H0V0z\" fill=\"none\"/>\n",
              "    <path d=\"M18.56 5.44l.94 2.06.94-2.06 2.06-.94-2.06-.94-.94-2.06-.94 2.06-2.06.94zm-11 1L8.5 8.5l.94-2.06 2.06-.94-2.06-.94L8.5 2.5l-.94 2.06-2.06.94zm10 10l.94 2.06.94-2.06 2.06-.94-2.06-.94-.94-2.06-.94 2.06-2.06.94z\"/><path d=\"M17.41 7.96l-1.37-1.37c-.4-.4-.92-.59-1.43-.59-.52 0-1.04.2-1.43.59L10.3 9.45l-7.72 7.72c-.78.78-.78 2.05 0 2.83L4 21.41c.39.39.9.59 1.41.59.51 0 1.02-.2 1.41-.59l7.78-7.78 2.81-2.81c.8-.78.8-2.07 0-2.86zM5.41 20L4 18.59l7.72-7.72 1.47 1.35L5.41 20z\"/>\n",
              "  </svg>\n",
              "      </button>\n",
              "      \n",
              "  <style>\n",
              "    .colab-df-container {\n",
              "      display:flex;\n",
              "      flex-wrap:wrap;\n",
              "      gap: 12px;\n",
              "    }\n",
              "\n",
              "    .colab-df-convert {\n",
              "      background-color: #E8F0FE;\n",
              "      border: none;\n",
              "      border-radius: 50%;\n",
              "      cursor: pointer;\n",
              "      display: none;\n",
              "      fill: #1967D2;\n",
              "      height: 32px;\n",
              "      padding: 0 0 0 0;\n",
              "      width: 32px;\n",
              "    }\n",
              "\n",
              "    .colab-df-convert:hover {\n",
              "      background-color: #E2EBFA;\n",
              "      box-shadow: 0px 1px 2px rgba(60, 64, 67, 0.3), 0px 1px 3px 1px rgba(60, 64, 67, 0.15);\n",
              "      fill: #174EA6;\n",
              "    }\n",
              "\n",
              "    [theme=dark] .colab-df-convert {\n",
              "      background-color: #3B4455;\n",
              "      fill: #D2E3FC;\n",
              "    }\n",
              "\n",
              "    [theme=dark] .colab-df-convert:hover {\n",
              "      background-color: #434B5C;\n",
              "      box-shadow: 0px 1px 3px 1px rgba(0, 0, 0, 0.15);\n",
              "      filter: drop-shadow(0px 1px 2px rgba(0, 0, 0, 0.3));\n",
              "      fill: #FFFFFF;\n",
              "    }\n",
              "  </style>\n",
              "\n",
              "      <script>\n",
              "        const buttonEl =\n",
              "          document.querySelector('#df-cacd17c7-725e-4925-a8ef-effdc8accd33 button.colab-df-convert');\n",
              "        buttonEl.style.display =\n",
              "          google.colab.kernel.accessAllowed ? 'block' : 'none';\n",
              "\n",
              "        async function convertToInteractive(key) {\n",
              "          const element = document.querySelector('#df-cacd17c7-725e-4925-a8ef-effdc8accd33');\n",
              "          const dataTable =\n",
              "            await google.colab.kernel.invokeFunction('convertToInteractive',\n",
              "                                                     [key], {});\n",
              "          if (!dataTable) return;\n",
              "\n",
              "          const docLinkHtml = 'Like what you see? Visit the ' +\n",
              "            '<a target=\"_blank\" href=https://colab.research.google.com/notebooks/data_table.ipynb>data table notebook</a>'\n",
              "            + ' to learn more about interactive tables.';\n",
              "          element.innerHTML = '';\n",
              "          dataTable['output_type'] = 'display_data';\n",
              "          await google.colab.output.renderOutput(dataTable, element);\n",
              "          const docLink = document.createElement('div');\n",
              "          docLink.innerHTML = docLinkHtml;\n",
              "          element.appendChild(docLink);\n",
              "        }\n",
              "      </script>\n",
              "    </div>\n",
              "  </div>\n",
              "  "
            ]
          },
          "metadata": {},
          "execution_count": 8
        }
      ]
    },
    {
      "cell_type": "code",
      "source": [
        "songs = songs.sample(n=5000).drop('link', axis=1).reset_index(drop=True)"
      ],
      "metadata": {
        "id": "zVCfQz89dZSL"
      },
      "execution_count": null,
      "outputs": []
    },
    {
      "cell_type": "code",
      "source": [
        "songs['text'] = songs['text'].str.replace(r'\\n', '')"
      ],
      "metadata": {
        "id": "dLLCz00OdbSi",
        "colab": {
          "base_uri": "https://localhost:8080/"
        },
        "outputId": "4fcf64c8-98cb-4c27-840d-ec8e0ee7f87b"
      },
      "execution_count": null,
      "outputs": [
        {
          "output_type": "stream",
          "name": "stderr",
          "text": [
            "<ipython-input-10-215fe46be90d>:1: FutureWarning: The default value of regex will change from True to False in a future version.\n",
            "  songs['text'] = songs['text'].str.replace(r'\\n', '')\n"
          ]
        }
      ]
    },
    {
      "cell_type": "code",
      "source": [
        "tfidf = TfidfVectorizer(analyzer='word', stop_words='english')"
      ],
      "metadata": {
        "id": "O5aICjtGddSx"
      },
      "execution_count": null,
      "outputs": []
    },
    {
      "cell_type": "code",
      "source": [
        "lyrics_matrix = tfidf.fit_transform(songs['text'])"
      ],
      "metadata": {
        "id": "M0ymQuQSdfHD"
      },
      "execution_count": null,
      "outputs": []
    },
    {
      "cell_type": "code",
      "source": [
        "cosine_similarities = cosine_similarity(lyrics_matrix)"
      ],
      "metadata": {
        "id": "IXO1jl8CCa2k"
      },
      "execution_count": null,
      "outputs": []
    },
    {
      "cell_type": "code",
      "source": [
        "similarities = {}"
      ],
      "metadata": {
        "id": "TrqbZ1ZSdhcy"
      },
      "execution_count": null,
      "outputs": []
    },
    {
      "cell_type": "code",
      "source": [
        "for i in range(len(cosine_similarities)):\n",
        "  # Now we'll sort each element in cosine_similarities and get the indexes of the songs. \n",
        "  similar_indices = cosine_similarities[i].argsort()[:-50:-1] \n",
        "  # After that, we'll store in similarities each name of the 50 most similar songs.\n",
        "  # Except the first one that is the same song.\n",
        "  similarities[songs['song'].iloc[i]] = [(cosine_similarities[i][x], songs['song'][x], songs['artist'][x]) for x in similar_indices][1:]"
      ],
      "metadata": {
        "id": "_LLX9d1ydkFH"
      },
      "execution_count": null,
      "outputs": []
    },
    {
      "cell_type": "code",
      "source": [
        "class ContentBasedRecommender:\n",
        "  def __init__(self, matrix):\n",
        "    self.matrix_similar = matrix\n",
        "\n",
        "  def _print_message(self, song, recom_song):\n",
        "    rec_items = len(recom_song)\n",
        "        \n",
        "    print(f'The {rec_items} recommended songs for {song} are:')\n",
        "    for i in range(rec_items):\n",
        "      print(f\"Number {i+1}:\")\n",
        "      print(f\"{recom_song[i][1]} by {recom_song[i][2]} with {round(recom_song[i][0], 3)} similarity score\") \n",
        "      print(\"--------------------\")\n",
        "        \n",
        "  def recommend(self, recommendation):\n",
        "    # Get song to find recommendations for\n",
        "    song = recommendation['song']\n",
        "    # Get number of songs to recommend\n",
        "    number_songs = recommendation['number_songs']\n",
        "    # Get the number of songs most similars from matrix similarities\n",
        "    recom_song = self.matrix_similar[song][:number_songs]\n",
        "    # print each item\n",
        "    self._print_message(song=song, recom_song=recom_song)"
      ],
      "metadata": {
        "id": "UNTQzg8Odr5n"
      },
      "execution_count": null,
      "outputs": []
    },
    {
      "cell_type": "code",
      "source": [
        "recommedations = ContentBasedRecommender(similarities)"
      ],
      "metadata": {
        "id": "b3BWazJAd_2C"
      },
      "execution_count": null,
      "outputs": []
    },
    {
      "cell_type": "code",
      "source": [
        "recommendation = {\n",
        "    \"song\": songs['song'].iloc[10],\n",
        "    \"number_songs\": 10 \n",
        "}"
      ],
      "metadata": {
        "id": "Pq3ltXDGeCFa"
      },
      "execution_count": null,
      "outputs": []
    },
    {
      "cell_type": "code",
      "source": [
        "recommedations.recommend(recommendation)"
      ],
      "metadata": {
        "id": "3tHeTLR9eE8W",
        "colab": {
          "base_uri": "https://localhost:8080/"
        },
        "outputId": "05598862-3c28-4cc6-abb8-c6c798fe4de0"
      },
      "execution_count": null,
      "outputs": [
        {
          "output_type": "stream",
          "name": "stdout",
          "text": [
            "The 10 recommended songs for Unforgettable are:\n",
            "Number 1:\n",
            "Don't You Know by Young Jeezy with 0.28 similarity score\n",
            "--------------------\n",
            "Number 2:\n",
            "You Really Got Me by Van Halen with 0.251 similarity score\n",
            "--------------------\n",
            "Number 3:\n",
            "Think Of You by Lionel Richie with 0.251 similarity score\n",
            "--------------------\n",
            "Number 4:\n",
            "Blow It In The Wind by Chris Brown with 0.226 similarity score\n",
            "--------------------\n",
            "Number 5:\n",
            "Let Me Know by Gloria Gaynor with 0.211 similarity score\n",
            "--------------------\n",
            "Number 6:\n",
            "Let's Just Be by Ne-Yo with 0.208 similarity score\n",
            "--------------------\n",
            "Number 7:\n",
            "Show Me A Good Time by Drake with 0.206 similarity score\n",
            "--------------------\n",
            "Number 8:\n",
            "Died And Came Back by Young Buck with 0.204 similarity score\n",
            "--------------------\n",
            "Number 9:\n",
            "I Do by Uncle Kracker with 0.202 similarity score\n",
            "--------------------\n",
            "Number 10:\n",
            "It's All About You by Luther Vandross with 0.2 similarity score\n",
            "--------------------\n"
          ]
        }
      ]
    },
    {
      "cell_type": "code",
      "source": [
        "recommendation2 = {\n",
        "    \"song\": songs['song'].iloc[120],\n",
        "    \"number_songs\": 10 \n",
        "}"
      ],
      "metadata": {
        "id": "b6-1j5WqeIdH"
      },
      "execution_count": null,
      "outputs": []
    },
    {
      "cell_type": "code",
      "source": [
        "recommedations.recommend(recommendation2)"
      ],
      "metadata": {
        "id": "35gcqGU7eLYJ",
        "colab": {
          "base_uri": "https://localhost:8080/"
        },
        "outputId": "03034db1-e724-499e-cb41-9ec76de63e23"
      },
      "execution_count": null,
      "outputs": [
        {
          "output_type": "stream",
          "name": "stdout",
          "text": [
            "The 10 recommended songs for Yeah Yeah Yeah Yeah are:\n",
            "Number 1:\n",
            "Alphabet Street by Prince with 0.828 similarity score\n",
            "--------------------\n",
            "Number 2:\n",
            "Do You Wanna Touch Me (Oh Yeah) by Glee with 0.77 similarity score\n",
            "--------------------\n",
            "Number 3:\n",
            "Queen Of Torture by Wishbone Ash with 0.753 similarity score\n",
            "--------------------\n",
            "Number 4:\n",
            "It All Comes Down To Love by Faith Hill with 0.69 similarity score\n",
            "--------------------\n",
            "Number 5:\n",
            "Can We Get Together Again by Natalie Cole with 0.666 similarity score\n",
            "--------------------\n",
            "Number 6:\n",
            "Harlem Shuffle by Rolling Stones with 0.645 similarity score\n",
            "--------------------\n",
            "Number 7:\n",
            "Long Tall Sally by Kinks with 0.605 similarity score\n",
            "--------------------\n",
            "Number 8:\n",
            "What If God Smoked Cannabis? by Bob Rivers with 0.593 similarity score\n",
            "--------------------\n",
            "Number 9:\n",
            "Tight by INXS with 0.562 similarity score\n",
            "--------------------\n",
            "Number 10:\n",
            "To Be A Star by Cat Stevens with 0.539 similarity score\n",
            "--------------------\n"
          ]
        }
      ]
    },
    {
      "cell_type": "code",
      "source": [
        "recommendation3 = {\n",
        "    \"song\": songs['song'].iloc[50],\n",
        "    \"number_songs\": 10 \n",
        "}"
      ],
      "metadata": {
        "id": "MZN58PcsCu34"
      },
      "execution_count": null,
      "outputs": []
    },
    {
      "cell_type": "code",
      "source": [
        "recommedations.recommend(recommendation3)"
      ],
      "metadata": {
        "colab": {
          "base_uri": "https://localhost:8080/"
        },
        "id": "OxrEg-2iCzIY",
        "outputId": "6bae0a96-f5ec-4f82-ce23-329627b4b829"
      },
      "execution_count": null,
      "outputs": [
        {
          "output_type": "stream",
          "name": "stdout",
          "text": [
            "The 10 recommended songs for After Tonight are:\n",
            "Number 1:\n",
            "Give Me All Your Love by Whitesnake with 0.515 similarity score\n",
            "--------------------\n",
            "Number 2:\n",
            "Give Me Everything by Pitbull with 0.502 similarity score\n",
            "--------------------\n",
            "Number 3:\n",
            "Hey, Tonight by Creedence Clearwater Revival with 0.426 similarity score\n",
            "--------------------\n",
            "Number 4:\n",
            "Love Me Tonight by Tom Jones with 0.412 similarity score\n",
            "--------------------\n",
            "Number 5:\n",
            "Can't Die Tonight by W.A.S.P. with 0.382 similarity score\n",
            "--------------------\n",
            "Number 6:\n",
            "Are You Lonely Tonight by Cheap Trick with 0.356 similarity score\n",
            "--------------------\n",
            "Number 7:\n",
            "Don't Close Your Eyes, Tonight by John Denver with 0.333 similarity score\n",
            "--------------------\n",
            "Number 8:\n",
            "Hold Me by Savage Garden with 0.325 similarity score\n",
            "--------------------\n",
            "Number 9:\n",
            "Down On Love by Foreigner with 0.322 similarity score\n",
            "--------------------\n",
            "Number 10:\n",
            "A Heart Will Break by Cliff Richard with 0.316 similarity score\n",
            "--------------------\n"
          ]
        }
      ]
    }
  ]
}