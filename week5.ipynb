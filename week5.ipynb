{
 "cells": [
  {
   "cell_type": "code",
   "execution_count": 2,
   "id": "ada47c2e",
   "metadata": {},
   "outputs": [],
   "source": [
    "import nltk\n",
    "import matplotlib.pyplot as plt\n",
    "import pandas as pd\n",
    "from nltk.corpus import stopwords\n",
    "from nltk.tokenize import word_tokenize"
   ]
  },
  {
   "cell_type": "code",
   "execution_count": 4,
   "id": "0e543094",
   "metadata": {},
   "outputs": [],
   "source": [
    "import wordcloud\n",
    "from wordcloud import WordCloud"
   ]
  },
  {
   "cell_type": "markdown",
   "id": "40697c1c-cc86-4f20-9d5d-1e6c2979bc13",
   "metadata": {},
   "source": [
    "<br><p style=\"margin-left: 25%; font-size:20px;\">Machine Learning Camp: HomeWork 5</p><br>"
   ]
  },
  {
   "cell_type": "markdown",
   "id": "42e988e2-b110-4fe2-bb40-212815474940",
   "metadata": {
    "tags": []
   },
   "source": [
    "##\n",
    "<span style=\"font-wight:bold;font-size:20px\">1. Text Data analysis:</span> using “lincoln-last-speech.txt” which contains Lincoln’s last public address. Now answer the following questions and include your codes."
   ]
  },
  {
   "cell_type": "markdown",
   "id": "282ec989-2848-4256-b6dc-a62e95125d6b",
   "metadata": {},
   "source": [
    "##### a) Read the text and store the text in lAddress. Show the first 70 characters from the first element of the text."
   ]
  },
  {
   "cell_type": "code",
   "execution_count": 3,
   "id": "c76966b8-294e-4f78-8d0e-4be7b1523de1",
   "metadata": {},
   "outputs": [
    {
     "data": {
      "text/plain": [
       "'We meet this evening, not in sorrow, but in gladness of heart. The eva'"
      ]
     },
     "execution_count": 3,
     "metadata": {},
     "output_type": "execute_result"
    }
   ],
   "source": [
    "with open('lincoln-last-speech.txt',\"r\") as f:\n",
    "    lAddress = f.readlines()\n",
    "lAddress[0][:70]"
   ]
  },
  {
   "cell_type": "markdown",
   "id": "b25c28dc-6d9d-4bcd-b864-e90754485c7e",
   "metadata": {},
   "source": [
    "##### b) Now we are interested in the words used in his speech. Extract all the words from lAddress, convert all of them to lower case and store the result in vWord. Display first few words."
   ]
  },
  {
   "cell_type": "code",
   "execution_count": 5,
   "id": "870b68f2-eeeb-4a98-817c-aca8beb28694",
   "metadata": {},
   "outputs": [
    {
     "data": {
      "text/plain": [
       "[\"'we\", 'meet', 'this', 'evening', ',', 'not', 'in', 'sorrow', ',', 'but']"
      ]
     },
     "execution_count": 5,
     "metadata": {},
     "output_type": "execute_result"
    }
   ],
   "source": [
    "a=str(lAddress)\n",
    "word_tokens = word_tokenize(a[1:-1])\n",
    "\n",
    "vWord = [w.lower() for w in word_tokens]\n",
    "vWord[:10]"
   ]
  },
  {
   "cell_type": "markdown",
   "id": "ab02ba13-aecb-4c15-9f4b-a63e5ffadfd4",
   "metadata": {},
   "source": [
    "##### c) The words like am, is, my or through are not much of our interest and these types of words are called stop-words. Get all the English stop words and store them in sWord. Display few stop words in your report."
   ]
  },
  {
   "cell_type": "code",
   "execution_count": 6,
   "id": "d15a85b4-926b-4ecb-8b46-23b766865704",
   "metadata": {},
   "outputs": [
    {
     "data": {
      "text/plain": [
       "['i', 'me', 'my', 'myself', 'we', 'our', 'ours', 'ourselves', 'you', \"you're\"]"
      ]
     },
     "execution_count": 6,
     "metadata": {},
     "output_type": "execute_result"
    }
   ],
   "source": [
    "sWord=stopwords.words(\"english\")\n",
    "sWord[:10]"
   ]
  },
  {
   "cell_type": "markdown",
   "id": "00ab6e7e-d0cc-4ea3-bd77-e0a53b7d1fdf",
   "metadata": {},
   "source": [
    "##### d) Remove all the sWord from vWord and store the result in cleanWord. Display first few clean words."
   ]
  },
  {
   "cell_type": "code",
   "execution_count": 7,
   "id": "254af2d1-9fbf-4604-93f5-d0165054d07e",
   "metadata": {},
   "outputs": [
    {
     "data": {
      "text/plain": [
       "[\"'we\",\n",
       " 'meet',\n",
       " 'evening',\n",
       " ',',\n",
       " 'sorrow',\n",
       " ',',\n",
       " 'gladness',\n",
       " 'heart',\n",
       " '.',\n",
       " 'evacuation']"
      ]
     },
     "execution_count": 7,
     "metadata": {},
     "output_type": "execute_result"
    }
   ],
   "source": [
    "cleanWord=[w for w in vWord if w not in sWord]\n",
    "cleanWord[:10]"
   ]
  },
  {
   "cell_type": "markdown",
   "id": "3e6eb98b-5a5b-499d-9802-f266e39e2701",
   "metadata": {},
   "source": [
    "##### f) Construct a bar chart showing the count of each words for the 15 most frequently used words."
   ]
  },
  {
   "cell_type": "code",
   "execution_count": 8,
   "id": "49157609",
   "metadata": {},
   "outputs": [],
   "source": [
    "d=pd.Series(cleanWord).value_counts()[:15]"
   ]
  },
  {
   "cell_type": "code",
   "execution_count": 9,
   "id": "277a9e74",
   "metadata": {},
   "outputs": [
    {
     "data": {
      "image/png": "[encoded data removed]",
      "text/plain": [
       "<Figure size 432x288 with 1 Axes>"
      ]
     },
     "metadata": {
      "needs_background": "light"
     },
     "output_type": "display_data"
    }
   ],
   "source": [
    "d.plot(kind=\"bar\");"
   ]
  },
  {
   "cell_type": "markdown",
   "id": "5bc31d42-0a8b-42f1-8237-e26aff5a3dbd",
   "metadata": {},
   "source": [
    "##### h) The plot in question (1f) uses bar plot to display the data. Can you think of another plot that delivers the same information but looks much simpler? Demonstrate your answer by generating such a plot."
   ]
  },
  {
   "cell_type": "code",
   "execution_count": 10,
   "id": "f9be269c-45fa-46e7-b90a-4a7f6cf7ccf1",
   "metadata": {},
   "outputs": [
    {
     "data": {
      "image/png": "[encoded data removed]",
      "text/plain": [
       "<Figure size 432x288 with 1 Axes>"
      ]
     },
     "metadata": {
      "needs_background": "light"
     },
     "output_type": "display_data"
    }
   ],
   "source": [
    "d.plot(kind=\"line\");"
   ]
  },
  {
   "cell_type": "markdown",
   "id": "c1312b9d-a0d5-43f6-94a6-5cd97c1b5455",
   "metadata": {
    "tags": []
   },
   "source": [
    "##\n",
    "<span style=\"font-wight:bold;font-size:20px\">2. Answering Questions from Data:</span> Download the data from [ \n",
    "https://github.com/MapsaBootCamp/useful_datasets/blob/master/structuralData/flights.csv ]. Answer the following questions using this data.\n"
   ]
  },
  {
   "cell_type": "code",
   "execution_count": 11,
   "id": "d65a2ae1",
   "metadata": {},
   "outputs": [],
   "source": [
    "import numpy as np"
   ]
  },
  {
   "cell_type": "code",
   "execution_count": 12,
   "id": "b75d9481",
   "metadata": {},
   "outputs": [
    {
     "data": {
      "text/html": [
       "<div>\n",
       "<style scoped>\n",
       "    .dataframe tbody tr th:only-of-type {\n",
       "        vertical-align: middle;\n",
       "    }\n",
       "\n",
       "    .dataframe tbody tr th {\n",
       "        vertical-align: top;\n",
       "    }\n",
       "\n",
       "    .dataframe thead th {\n",
       "        text-align: right;\n",
       "    }\n",
       "</style>\n",
       "<table border=\"1\" class=\"dataframe\">\n",
       "  <thead>\n",
       "    <tr style=\"text-align: right;\">\n",
       "      <th></th>\n",
       "      <th>year</th>\n",
       "      <th>month</th>\n",
       "      <th>day</th>\n",
       "      <th>dep_time</th>\n",
       "      <th>sched_dep_time</th>\n",
       "      <th>dep_delay</th>\n",
       "      <th>arr_time</th>\n",
       "      <th>sched_arr_time</th>\n",
       "      <th>arr_delay</th>\n",
       "      <th>carrier</th>\n",
       "      <th>flight</th>\n",
       "      <th>tailnum</th>\n",
       "      <th>origin</th>\n",
       "      <th>dest</th>\n",
       "      <th>air_time</th>\n",
       "      <th>distance</th>\n",
       "      <th>hour</th>\n",
       "      <th>minute</th>\n",
       "      <th>time_hour</th>\n",
       "    </tr>\n",
       "  </thead>\n",
       "  <tbody>\n",
       "    <tr>\n",
       "      <th>0</th>\n",
       "      <td>2013</td>\n",
       "      <td>1</td>\n",
       "      <td>1</td>\n",
       "      <td>517.0</td>\n",
       "      <td>515</td>\n",
       "      <td>2.0</td>\n",
       "      <td>830.0</td>\n",
       "      <td>819</td>\n",
       "      <td>11.0</td>\n",
       "      <td>UA</td>\n",
       "      <td>1545</td>\n",
       "      <td>N14228</td>\n",
       "      <td>EWR</td>\n",
       "      <td>IAH</td>\n",
       "      <td>227.0</td>\n",
       "      <td>1400</td>\n",
       "      <td>5</td>\n",
       "      <td>15</td>\n",
       "      <td>2013-01-01 05:00:00</td>\n",
       "    </tr>\n",
       "    <tr>\n",
       "      <th>1</th>\n",
       "      <td>2013</td>\n",
       "      <td>1</td>\n",
       "      <td>1</td>\n",
       "      <td>533.0</td>\n",
       "      <td>529</td>\n",
       "      <td>4.0</td>\n",
       "      <td>850.0</td>\n",
       "      <td>830</td>\n",
       "      <td>20.0</td>\n",
       "      <td>UA</td>\n",
       "      <td>1714</td>\n",
       "      <td>N24211</td>\n",
       "      <td>LGA</td>\n",
       "      <td>IAH</td>\n",
       "      <td>227.0</td>\n",
       "      <td>1416</td>\n",
       "      <td>5</td>\n",
       "      <td>29</td>\n",
       "      <td>2013-01-01 05:00:00</td>\n",
       "    </tr>\n",
       "  </tbody>\n",
       "</table>\n",
       "</div>"
      ],
      "text/plain": [
       "   year  month  day  dep_time  sched_dep_time  dep_delay  arr_time  \\\n",
       "0  2013      1    1     517.0             515        2.0     830.0   \n",
       "1  2013      1    1     533.0             529        4.0     850.0   \n",
       "\n",
       "   sched_arr_time  arr_delay carrier  flight tailnum origin dest  air_time  \\\n",
       "0             819       11.0      UA    1545  N14228    EWR  IAH     227.0   \n",
       "1             830       20.0      UA    1714  N24211    LGA  IAH     227.0   \n",
       "\n",
       "   distance  hour  minute            time_hour  \n",
       "0      1400     5      15  2013-01-01 05:00:00  \n",
       "1      1416     5      29  2013-01-01 05:00:00  "
      ]
     },
     "execution_count": 12,
     "metadata": {},
     "output_type": "execute_result"
    }
   ],
   "source": [
    "d=pd.read_csv(\"flights.csv\")\n",
    "d.head(2)"
   ]
  },
  {
   "cell_type": "code",
   "execution_count": 13,
   "id": "bd97c4ad",
   "metadata": {},
   "outputs": [
    {
     "data": {
      "text/plain": [
       "2     1291\n",
       "6     1072\n",
       "12    1059\n",
       "7     1043\n",
       "3      891\n",
       "4      710\n",
       "5      601\n",
       "1      536\n",
       "8      506\n",
       "9      504\n",
       "11     253\n",
       "10     247\n",
       "Name: month, dtype: int64"
      ]
     },
     "execution_count": 13,
     "metadata": {},
     "output_type": "execute_result"
    }
   ],
   "source": [
    "d[\"new\"]=d[\"arr_time\"].apply(lambda x : str(x))\n",
    "d[d[\"new\"]==\"nan\"].month.value_counts()"
   ]
  },
  {
   "cell_type": "markdown",
   "id": "92251706-a801-42d7-be40-9d00e46b31f7",
   "metadata": {},
   "source": [
    "##### a) What month had the highest proportion of cancelled flights? What month had the lowest? Interpretany seasonal patterns. Please produce a plot that illustrates the proportion of cancelled flights for each month."
   ]
  },
  {
   "cell_type": "code",
   "execution_count": 14,
   "id": "0d70561d-c2d1-49c2-82b2-841bc59b1db7",
   "metadata": {},
   "outputs": [
    {
     "data": {
      "text/plain": [
       "<AxesSubplot:>"
      ]
     },
     "execution_count": 14,
     "metadata": {},
     "output_type": "execute_result"
    },
    {
     "data": {
      "image/png": "[encoded data removed]",
      "text/plain": [
       "<Figure size 432x288 with 1 Axes>"
      ]
     },
     "metadata": {
      "needs_background": "light"
     },
     "output_type": "display_data"
    }
   ],
   "source": [
    "d[d[\"new\"]==\"nan\"].month.value_counts().plot(kind=\"barh\")"
   ]
  },
  {
   "cell_type": "markdown",
   "id": "1cda509a-5148-462d-a1af-b444de62308c",
   "metadata": {},
   "source": [
    "##### b) What plane (specified by the tailnum variable) traveled the most times from New York City airports in 2013? Plot the number of trips per week over the year."
   ]
  },
  {
   "cell_type": "code",
   "execution_count": 15,
   "id": "5026ef7a-2f39-49fa-a267-6818ddef4a0b",
   "metadata": {},
   "outputs": [
    {
     "data": {
      "text/plain": [
       "0         N14228\n",
       "1         N24211\n",
       "2         N619AA\n",
       "3         N804JB\n",
       "4         N668DN\n",
       "           ...  \n",
       "336771       NaN\n",
       "336772       NaN\n",
       "336773    N535MQ\n",
       "336774    N511MQ\n",
       "336775    N839MQ\n",
       "Name: tailnum, Length: 336776, dtype: object"
      ]
     },
     "execution_count": 15,
     "metadata": {},
     "output_type": "execute_result"
    }
   ],
   "source": [
    "d.tailnum"
   ]
  },
  {
   "cell_type": "markdown",
   "id": "8066f094-c423-4741-9205-fb955bb3e32a",
   "metadata": {},
   "source": [
    "##### c) Download the plane data from [ https://github.com/MapsaBootCamp/useful_datasets/blob/master/structuralData/planes.csv ]. Use the flights and planes tables to answer the following questions: What is the oldest plane (specified by the tailnum variable) that flew from New York City airports in 2013? How many airplanes that flew from New York City are included in the planes table?"
   ]
  },
  {
   "cell_type": "code",
   "execution_count": 8,
   "id": "783c8a6a-6f51-4d38-bc76-2b28454f88db",
   "metadata": {},
   "outputs": [],
   "source": [
    "#TODO"
   ]
  },
  {
   "cell_type": "markdown",
   "id": "20d6d704-57ad-403b-9b2b-99e6b21a3c0a",
   "metadata": {},
   "source": [
    "##### d) Use the flights and planes tables to answer the following questions: How many planes have a missing date of manufacture? What are the five most common manufacturers (Note: pay close attention to the same manufacturer being represented multiple times)? Has the distribution of manufacturer changed over time as reflected by the airplanes flying from NYC in 2013? Produce a plot that backs up your claim."
   ]
  },
  {
   "cell_type": "code",
   "execution_count": 9,
   "id": "239ffd7f-5106-4d69-bb9e-d7bd608827b9",
   "metadata": {},
   "outputs": [],
   "source": [
    "#TODO"
   ]
  },
  {
   "cell_type": "markdown",
   "id": "30cf6379-efa0-42fc-bf77-7b355c306f03",
   "metadata": {},
   "source": [
    "##\n",
    "<span style=\"font-wight:bold;font-size:20px\">3. Regular Expressions:</span> Write a regular expression to match patterns in the following strings. Demonstrate\n",
    "that your regular expression indeed matched that pattern by including codes and results."
   ]
  },
  {
   "cell_type": "markdown",
   "id": "dd803993-9326-4b85-b281-b444350f2380",
   "metadata": {},
   "source": [
    "##### a) We have a list vText as follows. Write a regular expression that matches g, og, go or ogo in vText and replace the matches with ‘.’."
   ]
  },
  {
   "cell_type": "code",
   "execution_count": 16,
   "id": "d4101bdb",
   "metadata": {},
   "outputs": [],
   "source": [
    "import re"
   ]
  },
  {
   "cell_type": "code",
   "execution_count": 19,
   "id": "14e6e3e2-33a1-40cc-9d17-9fd9222bd865",
   "metadata": {},
   "outputs": [],
   "source": [
    "vText = ['google','logo','dig', 'blog', 'boogie']\n",
    "a=\" \".join(vText)"
   ]
  },
  {
   "cell_type": "code",
   "execution_count": 22,
   "id": "edaac5b0",
   "metadata": {},
   "outputs": [
    {
     "data": {
      "text/plain": [
       "'google logo dig blog boogie'"
      ]
     },
     "execution_count": 22,
     "metadata": {},
     "output_type": "execute_result"
    }
   ],
   "source": [
    "a"
   ]
  },
  {
   "cell_type": "code",
   "execution_count": 63,
   "id": "991d0849-7fbd-4e56-a020-a783cd649d7e",
   "metadata": {},
   "outputs": [
    {
     "data": {
      "text/plain": [
       "['.o.le', 'l.o', 'di.', 'bl.', 'bo.ie']"
      ]
     },
     "execution_count": 63,
     "metadata": {},
     "output_type": "execute_result"
    }
   ],
   "source": [
    "pat=r\"(g)|(og)|(go)|(ogo)\"\n",
    "\n",
    "mch=re.sub(pat,\".\",a)\n",
    "ss=mch.split(\" \")\n",
    "ss"
   ]
  },
  {
   "cell_type": "markdown",
   "id": "506dd8e8-b32b-42b3-897d-0fc574b6484c",
   "metadata": {},
   "source": [
    "##### b) Replace only the 5 or 6 digit numbers with the word “found” in the following list. Please make sure that 3, 4, or 7 digit numbers do not get changed."
   ]
  },
  {
   "cell_type": "code",
   "execution_count": 59,
   "id": "8b95b018-82e2-400d-a288-d68a1c019f2b",
   "metadata": {},
   "outputs": [],
   "source": [
    "vPhone = ['874','6783','345345', '32120', '468349', '8149674']\n",
    "txt=\" \".join(vPhone)\n",
    "txt\n",
    "pat=\"\\d{5,6}(\\D|\\s|^)\""
   ]
  },
  {
   "cell_type": "code",
   "execution_count": 62,
   "id": "5ac59c7f-6687-466d-ad19-833f2e6da9c1",
   "metadata": {},
   "outputs": [
    {
     "data": {
      "text/plain": [
       "['874', '6783', 'found', 'found', 'found', '8149674']"
      ]
     },
     "execution_count": 62,
     "metadata": {},
     "output_type": "execute_result"
    }
   ],
   "source": [
    "mch=re.sub(pat,\"found \",txt)\n",
    "b=mch.split(\" \")\n",
    "b"
   ]
  },
  {
   "cell_type": "markdown",
   "id": "dd7787da-c76a-46ce-839c-f31a0acbe1db",
   "metadata": {},
   "source": [
    "##### c) Replace all the characters that are not among the 26 English characters or a space. Please replace with an empty spring."
   ]
  },
  {
   "cell_type": "code",
   "execution_count": 66,
   "id": "772d5f4a-fd83-4bab-96c1-18f5f4c18e60",
   "metadata": {},
   "outputs": [],
   "source": [
    "myText = \"#y%o$u @g!o*t t9h(e) so#lu!tio$n c%or_r+e%ct\""
   ]
  },
  {
   "cell_type": "code",
   "execution_count": 70,
   "id": "d1372291-d85b-49a4-b919-e2b6d62cc607",
   "metadata": {},
   "outputs": [
    {
     "data": {
      "text/plain": [
       "'yougotthesolutioncorrect'"
      ]
     },
     "execution_count": 70,
     "metadata": {},
     "output_type": "execute_result"
    }
   ],
   "source": [
    "pat=r\"\\W|\\d|\\_\"\n",
    "mch=re.sub(pat,\"\",myText)\n",
    "mch"
   ]
  },
  {
   "cell_type": "markdown",
   "id": "830d18d6-a556-4da1-ac68-76f2b268d08e",
   "metadata": {},
   "source": [
    "##### d) In the following text, replace all the words that are exactly 3 or 4 characters long with triple dots ‘. . . ’"
   ]
  },
  {
   "cell_type": "code",
   "execution_count": 81,
   "id": "676266d1-8ea0-4edd-b9df-6e2f46de6e26",
   "metadata": {},
   "outputs": [],
   "source": [
    "myText = \"Each of the three and  four character words will be gone  now \""
   ]
  },
  {
   "cell_type": "code",
   "execution_count": 82,
   "id": "0e2cce50-9269-4239-a064-e0f5de78c5f7",
   "metadata": {},
   "outputs": [
    {
     "data": {
      "text/plain": [
       "'... of... three... ... character words... be... ... '"
      ]
     },
     "execution_count": 82,
     "metadata": {},
     "output_type": "execute_result"
    }
   ],
   "source": [
    "pat=r\"(^|\\s)\\w{3,4}(\\s|$)\"\n",
    "mch=re.sub(pat,\"... \",myText)\n",
    "mch"
   ]
  },
  {
   "cell_type": "markdown",
   "id": "9e069cf8-63ec-4fd5-8d01-3e000533881f",
   "metadata": {},
   "source": [
    "##### e) Extract all the three numbers embedded in the following text."
   ]
  },
  {
   "cell_type": "code",
   "execution_count": 84,
   "id": "391276cb-b8f3-406b-a017-8c4312f9253a",
   "metadata": {},
   "outputs": [],
   "source": [
    "bigText = 'There are four 20@14 numbers hid989den in the 500 texts'"
   ]
  },
  {
   "cell_type": "code",
   "execution_count": 86,
   "id": "f696810d-aff0-4c4b-a134-c91ce4d229f1",
   "metadata": {},
   "outputs": [
    {
     "data": {
      "text/plain": [
       "'2014989500'"
      ]
     },
     "execution_count": 86,
     "metadata": {},
     "output_type": "execute_result"
    }
   ],
   "source": [
    "mch=re.sub(r\"\\D|\\s\",\"\",bigText)\n",
    "mch"
   ]
  },
  {
   "cell_type": "markdown",
   "id": "9c2de3bc-7b9d-4292-a998-1a3c5594ec53",
   "metadata": {},
   "source": [
    "##### f) Extract all the words between parenthesis from the following string text and count number of words."
   ]
  },
  {
   "cell_type": "code",
   "execution_count": 87,
   "id": "ff687571-8659-4e98-8229-d3ba642b7c96",
   "metadata": {},
   "outputs": [],
   "source": [
    "myText = 'The salries are reported (in millions) for every company.'"
   ]
  },
  {
   "cell_type": "code",
   "execution_count": 101,
   "id": "e3599ecf-eec1-4374-88d4-b9d6df53287a",
   "metadata": {},
   "outputs": [
    {
     "data": {
      "text/plain": [
       "['(in millions)']"
      ]
     },
     "execution_count": 101,
     "metadata": {},
     "output_type": "execute_result"
    }
   ],
   "source": [
    "mch=re.findall(r\"\\(.*\\)\",myText)\n",
    "mch"
   ]
  },
  {
   "cell_type": "markdown",
   "id": "adb63503-1385-4ce4-b711-1c74af77ae9d",
   "metadata": {},
   "source": [
    "##### g) Extract the texts in between _ and dot(.) in the following list. Your output should be ‘bill’, ‘pay’, ‘fine-book’."
   ]
  },
  {
   "cell_type": "code",
   "execution_count": 138,
   "id": "138531b1-b467-4da4-be01-d43d45a332e9",
   "metadata": {},
   "outputs": [],
   "source": [
    "myText = [\"H_bill.xls\", \"Big_H_pay.xls\", \"Use_case_fine-book.pdf\"]"
   ]
  },
  {
   "cell_type": "code",
   "execution_count": 140,
   "id": "4acc9d49-f77e-41b0-9676-2d9ad09afba3",
   "metadata": {},
   "outputs": [
    {
     "data": {
      "text/plain": [
       "(['bill'], ['H_pay'], ['case_fine-book'])"
      ]
     },
     "execution_count": 140,
     "metadata": {},
     "output_type": "execute_result"
    }
   ],
   "source": [
    "n=\" \".join(myText)\n",
    "mch=re.findall(r\"(?<=\\_)(.*)(?=\\.)\",myText[0])\n",
    "mch1=re.findall(r\"(?<=\\_)(.*)(?=\\.)\",myText[1])\n",
    "mch2=re.findall(r\"(?<=\\_)(.*)(?=\\.)\",myText[2])\n",
    "\n",
    "mch,mch1,mch2"
   ]
  },
  {
   "cell_type": "markdown",
   "id": "c636aab9-20ea-4895-a589-7bff34f6d8ea",
   "metadata": {},
   "source": [
    "##### h) Extract the numbers (return only integers) that are followed by the units ‘ml’ or ‘lb’ in the following text."
   ]
  },
  {
   "cell_type": "code",
   "execution_count": 134,
   "id": "2fde1405-5b94-4775-82f3-3708dbb02b34",
   "metadata": {},
   "outputs": [],
   "source": [
    "myText = 'Received 10 apples with 200ml water at 8pm with 15 lb meat and 2lb salt'"
   ]
  },
  {
   "cell_type": "code",
   "execution_count": 135,
   "id": "9a920c6c-8156-43cf-912e-18287a6b5205",
   "metadata": {},
   "outputs": [
    {
     "data": {
      "text/plain": [
       "['200', '15 ', '2']"
      ]
     },
     "execution_count": 135,
     "metadata": {},
     "output_type": "execute_result"
    }
   ],
   "source": [
    "\n",
    "mch=re.findall(r\"\\d+ ?(?=lb)|\\d+(?=ml)\",myText)\n",
    "mch"
   ]
  },
  {
   "cell_type": "markdown",
   "id": "c730900e-5d30-490c-b53e-1ab271d84041",
   "metadata": {},
   "source": [
    "##### i) Extract only the word in between pair of symbols \\\\$. Count number of words you have found between pairs of dollar sign \\\\$"
   ]
  },
  {
   "cell_type": "code",
   "execution_count": 144,
   "id": "79220ba1-6eac-4aab-8e3b-3c1455677551",
   "metadata": {},
   "outputs": [],
   "source": [
    "myText = 'Math symbols are $written$ in $between$ dollar $signs$'"
   ]
  },
  {
   "cell_type": "code",
   "execution_count": 145,
   "id": "20daf141-048f-4244-abde-e339efde03a6",
   "metadata": {},
   "outputs": [
    {
     "data": {
      "text/plain": [
       "['written', 'between', 'signs']"
      ]
     },
     "execution_count": 145,
     "metadata": {},
     "output_type": "execute_result"
    }
   ],
   "source": [
    "mch=re.findall(r\"(?<=\\$)\\w*(?=\\$)\",myText)\n",
    "mch"
   ]
  },
  {
   "cell_type": "markdown",
   "id": "c7d17049-c284-4f51-9293-82cf84c1f331",
   "metadata": {},
   "source": [
    "##### j) Extract all the valid equations in the following text."
   ]
  },
  {
   "cell_type": "code",
   "execution_count": 150,
   "id": "cb1d7f28-d7be-4130-9c95-ea304bf3aa9b",
   "metadata": {},
   "outputs": [],
   "source": [
    "myText = 'equation1: 2+3=5, equation2 is: 2*3=6, do not extract 2w3=6'"
   ]
  },
  {
   "cell_type": "code",
   "execution_count": 151,
   "id": "63537259-79b1-4c38-b4db-526dfd2d6735",
   "metadata": {},
   "outputs": [
    {
     "data": {
      "text/plain": [
       "['2+3=5', '2*3=6']"
      ]
     },
     "execution_count": 151,
     "metadata": {},
     "output_type": "execute_result"
    }
   ],
   "source": [
    "mch=re.findall(r\"\\d\\W\\d=\\d\",myText)\n",
    "mch"
   ]
  }
 ],
 "metadata": {
  "kernelspec": {
   "display_name": "Python 3 (ipykernel)",
   "language": "python",
   "name": "python3"
  },
  "language_info": {
   "codemirror_mode": {
    "name": "ipython",
    "version": 3
   },
   "file_extension": ".py",
   "mimetype": "text/x-python",
   "name": "python",
   "nbconvert_exporter": "python",
   "pygments_lexer": "ipython3",
   "version": "3.9.12"
  }
 },
 "nbformat": 4,
 "nbformat_minor": 5
}
