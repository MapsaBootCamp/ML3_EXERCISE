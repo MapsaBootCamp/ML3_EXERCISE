{
  "cells": [
    {
      "cell_type": "markdown",
      "id": "40697c1c-cc86-4f20-9d5d-1e6c2979bc13",
      "metadata": {
        "id": "40697c1c-cc86-4f20-9d5d-1e6c2979bc13"
      },
      "source": [
        "<br><p style=\"margin-left: 25%; font-size:20px;\">Machine Learning Camp: HomeWork 5</p><br>"
      ]
    },
    {
      "cell_type": "markdown",
      "id": "42e988e2-b110-4fe2-bb40-212815474940",
      "metadata": {
        "tags": [],
        "id": "42e988e2-b110-4fe2-bb40-212815474940"
      },
      "source": [
        "##\n",
        "<span style=\"font-wight:bold;font-size:20px\">1. Text Data analysis:</span> using “lincoln-last-speech.txt” which contains Lincoln’s last public address. Now answer the following questions and include your codes."
      ]
    },
    {
      "cell_type": "markdown",
      "id": "282ec989-2848-4256-b6dc-a62e95125d6b",
      "metadata": {
        "id": "282ec989-2848-4256-b6dc-a62e95125d6b"
      },
      "source": [
        "##### a) Read the text and store the text in lAddress. Show the first 70 characters from the first element of the text."
      ]
    },
    {
      "cell_type": "code",
      "source": [
        "from google.colab import drive\n",
        "drive.mount('/content/drive')"
      ],
      "metadata": {
        "colab": {
          "base_uri": "https://localhost:8080/"
        },
        "id": "vHDj3fmWXQ0B",
        "outputId": "aea148a0-8213-4f6c-9b4e-25db0341b056"
      },
      "id": "vHDj3fmWXQ0B",
      "execution_count": 69,
      "outputs": [
        {
          "output_type": "stream",
          "name": "stdout",
          "text": [
            "Drive already mounted at /content/drive; to attempt to forcibly remount, call drive.mount(\"/content/drive\", force_remount=True).\n"
          ]
        }
      ]
    },
    {
      "cell_type": "code",
      "execution_count": 70,
      "id": "c76966b8-294e-4f78-8d0e-4be7b1523de1",
      "metadata": {
        "id": "c76966b8-294e-4f78-8d0e-4be7b1523de1"
      },
      "outputs": [],
      "source": [
        "import pandas as pd\n",
        "import numpy as np\n",
        "import nltk\n",
        "import matplotlib.pyplot as plt\n",
        "import seaborn as sns"
      ]
    },
    {
      "cell_type": "code",
      "source": [
        "# to worke white text we use nltk toolkit \n",
        "# after importong we should download some packages"
      ],
      "metadata": {
        "id": "mMkxH_ezGYLA"
      },
      "id": "mMkxH_ezGYLA",
      "execution_count": null,
      "outputs": []
    },
    {
      "cell_type": "code",
      "source": [
        "nltk.download('punkt')   # for tokenizing"
      ],
      "metadata": {
        "colab": {
          "base_uri": "https://localhost:8080/"
        },
        "id": "JS_s4FSdH5Zr",
        "outputId": "038ec380-54c1-468c-ebbf-bd22659888f4"
      },
      "id": "JS_s4FSdH5Zr",
      "execution_count": null,
      "outputs": [
        {
          "output_type": "stream",
          "name": "stderr",
          "text": [
            "[nltk_data] Downloading package punkt to /root/nltk_data...\n",
            "[nltk_data]   Unzipping tokenizers/punkt.zip.\n"
          ]
        },
        {
          "output_type": "execute_result",
          "data": {
            "text/plain": [
              "True"
            ]
          },
          "metadata": {},
          "execution_count": 3
        }
      ]
    },
    {
      "cell_type": "code",
      "source": [
        "nltk.download('stopwords') # deleting useless words (it , a , for , as ...)"
      ],
      "metadata": {
        "colab": {
          "base_uri": "https://localhost:8080/"
        },
        "id": "PJ5U6DMIIIqd",
        "outputId": "b6d73818-1306-48d2-d8bc-906a5592093a"
      },
      "id": "PJ5U6DMIIIqd",
      "execution_count": null,
      "outputs": [
        {
          "output_type": "stream",
          "name": "stderr",
          "text": [
            "[nltk_data] Downloading package stopwords to /root/nltk_data...\n",
            "[nltk_data]   Unzipping corpora/stopwords.zip.\n"
          ]
        },
        {
          "output_type": "execute_result",
          "data": {
            "text/plain": [
              "True"
            ]
          },
          "metadata": {},
          "execution_count": 4
        }
      ]
    },
    {
      "cell_type": "code",
      "source": [
        "IAddress=open('/content/drive/MyDrive/Colab Notebooks/ML3/Exercises/week5/lincoln-last-speech.txt', 'r')"
      ],
      "metadata": {
        "id": "44P3lwHiZS0G"
      },
      "id": "44P3lwHiZS0G",
      "execution_count": null,
      "outputs": []
    },
    {
      "cell_type": "code",
      "source": [
        "print(IAddress.read(70))"
      ],
      "metadata": {
        "colab": {
          "base_uri": "https://localhost:8080/"
        },
        "id": "6-tGRE9eZt2a",
        "outputId": "60018c5a-76c4-4361-faf4-60b1a45a6140"
      },
      "id": "6-tGRE9eZt2a",
      "execution_count": null,
      "outputs": [
        {
          "output_type": "stream",
          "name": "stdout",
          "text": [
            "We meet this evening, not in sorrow, but in gladness of heart. The eva\n"
          ]
        }
      ]
    },
    {
      "cell_type": "markdown",
      "id": "b25c28dc-6d9d-4bcd-b864-e90754485c7e",
      "metadata": {
        "id": "b25c28dc-6d9d-4bcd-b864-e90754485c7e"
      },
      "source": [
        "##### b) Now we are interested in the words used in his speech. Extract all the words from lAddress, convert all of them to lower case and store the result in vWord. Display first few words."
      ]
    },
    {
      "cell_type": "code",
      "source": [
        "IAddress.seek(0)\n",
        "vWords=IAddress.read().lower()\n",
        "vWords[:25]"
      ],
      "metadata": {
        "colab": {
          "base_uri": "https://localhost:8080/",
          "height": 35
        },
        "id": "gh9gSgmALzu3",
        "outputId": "67d8bd32-3ca4-4fcd-fb28-491c7a28d7a9"
      },
      "id": "gh9gSgmALzu3",
      "execution_count": null,
      "outputs": [
        {
          "output_type": "execute_result",
          "data": {
            "text/plain": [
              "'we meet this evening, not'"
            ],
            "application/vnd.google.colaboratory.intrinsic+json": {
              "type": "string"
            }
          },
          "metadata": {},
          "execution_count": 7
        }
      ]
    },
    {
      "cell_type": "code",
      "source": [
        "IAddress.seek(0)                               #also i thinke we can use thise way too\n",
        "vWords=word_tokenize(IAddress.read().lower())\n",
        "vWords[:10]"
      ],
      "metadata": {
        "colab": {
          "base_uri": "https://localhost:8080/"
        },
        "id": "FnnBWLA8T16T",
        "outputId": "72bdaf8f-686a-4d54-a40c-856d1b4f719a"
      },
      "id": "FnnBWLA8T16T",
      "execution_count": null,
      "outputs": [
        {
          "output_type": "execute_result",
          "data": {
            "text/plain": [
              "['we', 'meet', 'this', 'evening', ',', 'not', 'in', 'sorrow', ',', 'but']"
            ]
          },
          "metadata": {},
          "execution_count": 23
        }
      ]
    },
    {
      "cell_type": "markdown",
      "id": "ab02ba13-aecb-4c15-9f4b-a63e5ffadfd4",
      "metadata": {
        "id": "ab02ba13-aecb-4c15-9f4b-a63e5ffadfd4"
      },
      "source": [
        "##### c) The words like am, is, my or through are not much of our interest and these types of words are called stop-words. Get all the English stop words and store them in sWord. Display few stop words in your report."
      ]
    },
    {
      "cell_type": "code",
      "execution_count": null,
      "id": "d15a85b4-926b-4ecb-8b46-23b766865704",
      "metadata": {
        "id": "d15a85b4-926b-4ecb-8b46-23b766865704"
      },
      "outputs": [],
      "source": [
        "from nltk.tokenize import word_tokenize # use for spliting text by words\n",
        "from nltk.corpus import stopwords       # use for deleting useless words (as,or,of,...)"
      ]
    },
    {
      "cell_type": "code",
      "source": [
        "IAddress.seek(0)\n",
        "sWords=word_tokenize(IAddress.read() , language='english')\n",
        "sWords[:10]"
      ],
      "metadata": {
        "colab": {
          "base_uri": "https://localhost:8080/"
        },
        "id": "j-yNX6lPRg_M",
        "outputId": "81f0bd50-34da-4b9a-9f2b-3c05ae0053c5"
      },
      "id": "j-yNX6lPRg_M",
      "execution_count": null,
      "outputs": [
        {
          "output_type": "execute_result",
          "data": {
            "text/plain": [
              "['We', 'meet', 'this', 'evening', ',', 'not', 'in', 'sorrow', ',', 'but']"
            ]
          },
          "metadata": {},
          "execution_count": 10
        }
      ]
    },
    {
      "cell_type": "markdown",
      "id": "00ab6e7e-d0cc-4ea3-bd77-e0a53b7d1fdf",
      "metadata": {
        "id": "00ab6e7e-d0cc-4ea3-bd77-e0a53b7d1fdf"
      },
      "source": [
        "##### d) Remove all the sWord from vWord and store the result in cleanWord. Display first few clean words."
      ]
    },
    {
      "cell_type": "code",
      "execution_count": null,
      "id": "254af2d1-9fbf-4604-93f5-d0165054d07e",
      "metadata": {
        "id": "254af2d1-9fbf-4604-93f5-d0165054d07e",
        "colab": {
          "base_uri": "https://localhost:8080/"
        },
        "outputId": "c8b35c60-d4ef-472a-bc2a-095a011267a0"
      },
      "outputs": [
        {
          "output_type": "execute_result",
          "data": {
            "text/plain": [
              "['w', 'e', ' ', 'm', 'e', 'e', 't', ' ', 't', 'h']"
            ]
          },
          "metadata": {},
          "execution_count": 11
        }
      ],
      "source": [
        "cleanwords=[x for x in vWords if x not in sWords]\n",
        "cleanwords[:10]"
      ]
    },
    {
      "cell_type": "markdown",
      "id": "3e6eb98b-5a5b-499d-9802-f266e39e2701",
      "metadata": {
        "id": "3e6eb98b-5a5b-499d-9802-f266e39e2701"
      },
      "source": [
        "##### f) Construct a bar chart showing the count of each words for the 15 most frequently used words."
      ]
    },
    {
      "cell_type": "code",
      "execution_count": null,
      "id": "4256b7dd-9680-4852-be6c-f1b4aa51cfb8",
      "metadata": {
        "id": "4256b7dd-9680-4852-be6c-f1b4aa51cfb8",
        "colab": {
          "base_uri": "https://localhost:8080/",
          "height": 262
        },
        "outputId": "c344cf11-721a-44a4-8db0-ff42b0dd7603"
      },
      "outputs": [
        {
          "output_type": "display_data",
          "data": {
            "text/plain": [
              "<Figure size 432x288 with 1 Axes>"
            ],
            "image/png": "[encoded data removed]"
          },
          "metadata": {
            "needs_background": "light"
          }
        }
      ],
      "source": [
        "maxWords=pd.value_counts(np.array(cleanwords))[:14]\n",
        "d=pd.DataFrame(maxWords)\n",
        "plt.bar(d.index,d[0])\n",
        "plt.xticks(rotation='vertical')\n",
        "plt.show()"
      ]
    },
    {
      "cell_type": "markdown",
      "id": "5bc31d42-0a8b-42f1-8237-e26aff5a3dbd",
      "metadata": {
        "id": "5bc31d42-0a8b-42f1-8237-e26aff5a3dbd"
      },
      "source": [
        "##### h) The plot in question (1f) uses bar plot to display the data. Can you think of another plot that delivers the same information but looks much simpler? Demonstrate your answer by generating such a plot."
      ]
    },
    {
      "cell_type": "code",
      "execution_count": null,
      "id": "f9be269c-45fa-46e7-b90a-4a7f6cf7ccf1",
      "metadata": {
        "id": "f9be269c-45fa-46e7-b90a-4a7f6cf7ccf1"
      },
      "outputs": [],
      "source": [
        "from wordcloud import WordCloud\n",
        "word_cloud=WordCloud(collocations = False, background_color = 'white').generate(str(df1))\n",
        "plt.imshow(word_cloud, interpolation='bilinear')\n",
        "plt.axis(\"off\")\n",
        "plt.show()\n"
      ]
    },
    {
      "cell_type": "markdown",
      "id": "c1312b9d-a0d5-43f6-94a6-5cd97c1b5455",
      "metadata": {
        "tags": [],
        "id": "c1312b9d-a0d5-43f6-94a6-5cd97c1b5455"
      },
      "source": [
        "##\n",
        "<span style=\"font-wight:bold;font-size:20px\">2. Answering Questions from Data:</span> Download the data from [ \n",
        "https://github.com/MapsaBootCamp/useful_datasets/blob/master/structuralData/flights.csv ]. Answer the following questions using this data.\n"
      ]
    },
    {
      "cell_type": "markdown",
      "id": "92251706-a801-42d7-be40-9d00e46b31f7",
      "metadata": {
        "id": "92251706-a801-42d7-be40-9d00e46b31f7"
      },
      "source": [
        "##### a) What month had the highest proportion of cancelled flights? What month had the lowest? Interpretany seasonal patterns. Please produce a plot that illustrates the proportion of cancelled flights for each month."
      ]
    },
    {
      "cell_type": "code",
      "execution_count": null,
      "id": "0d70561d-c2d1-49c2-82b2-841bc59b1db7",
      "metadata": {
        "id": "0d70561d-c2d1-49c2-82b2-841bc59b1db7"
      },
      "outputs": [],
      "source": [
        "data=pd.read_csv('/content/drive/MyDrive/Colab Notebooks/ML3/Exercises/week5/Dataset/flights.csv')"
      ]
    },
    {
      "cell_type": "code",
      "source": [
        "data.head()"
      ],
      "metadata": {
        "colab": {
          "base_uri": "https://localhost:8080/",
          "height": 357
        },
        "id": "Fz8KBWOyYzI_",
        "outputId": "eb12056e-35b4-489a-b79c-d76cd57fdf51"
      },
      "id": "Fz8KBWOyYzI_",
      "execution_count": null,
      "outputs": [
        {
          "output_type": "execute_result",
          "data": {
            "text/plain": [
              "   year  month  day  dep_time  sched_dep_time  dep_delay  arr_time  \\\n",
              "0  2013      1    1     517.0             515        2.0     830.0   \n",
              "1  2013      1    1     533.0             529        4.0     850.0   \n",
              "2  2013      1    1     542.0             540        2.0     923.0   \n",
              "3  2013      1    1     544.0             545       -1.0    1004.0   \n",
              "4  2013      1    1     554.0             600       -6.0     812.0   \n",
              "\n",
              "   sched_arr_time  arr_delay carrier  flight tailnum origin dest  air_time  \\\n",
              "0             819       11.0      UA    1545  N14228    EWR  IAH     227.0   \n",
              "1             830       20.0      UA    1714  N24211    LGA  IAH     227.0   \n",
              "2             850       33.0      AA    1141  N619AA    JFK  MIA     160.0   \n",
              "3            1022      -18.0      B6     725  N804JB    JFK  BQN     183.0   \n",
              "4             837      -25.0      DL     461  N668DN    LGA  ATL     116.0   \n",
              "\n",
              "   distance  hour  minute            time_hour  \n",
              "0      1400     5      15  2013-01-01 05:00:00  \n",
              "1      1416     5      29  2013-01-01 05:00:00  \n",
              "2      1089     5      40  2013-01-01 05:00:00  \n",
              "3      1576     5      45  2013-01-01 05:00:00  \n",
              "4       762     6       0  2013-01-01 06:00:00  "
            ],
            "text/html": [
              "\n",
              "  <div id=\"df-07741eec-96bf-4267-9259-441f81a23b56\">\n",
              "    <div class=\"colab-df-container\">\n",
              "      <div>\n",
              "<style scoped>\n",
              "    .dataframe tbody tr th:only-of-type {\n",
              "        vertical-align: middle;\n",
              "    }\n",
              "\n",
              "    .dataframe tbody tr th {\n",
              "        vertical-align: top;\n",
              "    }\n",
              "\n",
              "    .dataframe thead th {\n",
              "        text-align: right;\n",
              "    }\n",
              "</style>\n",
              "<table border=\"1\" class=\"dataframe\">\n",
              "  <thead>\n",
              "    <tr style=\"text-align: right;\">\n",
              "      <th></th>\n",
              "      <th>year</th>\n",
              "      <th>month</th>\n",
              "      <th>day</th>\n",
              "      <th>dep_time</th>\n",
              "      <th>sched_dep_time</th>\n",
              "      <th>dep_delay</th>\n",
              "      <th>arr_time</th>\n",
              "      <th>sched_arr_time</th>\n",
              "      <th>arr_delay</th>\n",
              "      <th>carrier</th>\n",
              "      <th>flight</th>\n",
              "      <th>tailnum</th>\n",
              "      <th>origin</th>\n",
              "      <th>dest</th>\n",
              "      <th>air_time</th>\n",
              "      <th>distance</th>\n",
              "      <th>hour</th>\n",
              "      <th>minute</th>\n",
              "      <th>time_hour</th>\n",
              "    </tr>\n",
              "  </thead>\n",
              "  <tbody>\n",
              "    <tr>\n",
              "      <th>0</th>\n",
              "      <td>2013</td>\n",
              "      <td>1</td>\n",
              "      <td>1</td>\n",
              "      <td>517.0</td>\n",
              "      <td>515</td>\n",
              "      <td>2.0</td>\n",
              "      <td>830.0</td>\n",
              "      <td>819</td>\n",
              "      <td>11.0</td>\n",
              "      <td>UA</td>\n",
              "      <td>1545</td>\n",
              "      <td>N14228</td>\n",
              "      <td>EWR</td>\n",
              "      <td>IAH</td>\n",
              "      <td>227.0</td>\n",
              "      <td>1400</td>\n",
              "      <td>5</td>\n",
              "      <td>15</td>\n",
              "      <td>2013-01-01 05:00:00</td>\n",
              "    </tr>\n",
              "    <tr>\n",
              "      <th>1</th>\n",
              "      <td>2013</td>\n",
              "      <td>1</td>\n",
              "      <td>1</td>\n",
              "      <td>533.0</td>\n",
              "      <td>529</td>\n",
              "      <td>4.0</td>\n",
              "      <td>850.0</td>\n",
              "      <td>830</td>\n",
              "      <td>20.0</td>\n",
              "      <td>UA</td>\n",
              "      <td>1714</td>\n",
              "      <td>N24211</td>\n",
              "      <td>LGA</td>\n",
              "      <td>IAH</td>\n",
              "      <td>227.0</td>\n",
              "      <td>1416</td>\n",
              "      <td>5</td>\n",
              "      <td>29</td>\n",
              "      <td>2013-01-01 05:00:00</td>\n",
              "    </tr>\n",
              "    <tr>\n",
              "      <th>2</th>\n",
              "      <td>2013</td>\n",
              "      <td>1</td>\n",
              "      <td>1</td>\n",
              "      <td>542.0</td>\n",
              "      <td>540</td>\n",
              "      <td>2.0</td>\n",
              "      <td>923.0</td>\n",
              "      <td>850</td>\n",
              "      <td>33.0</td>\n",
              "      <td>AA</td>\n",
              "      <td>1141</td>\n",
              "      <td>N619AA</td>\n",
              "      <td>JFK</td>\n",
              "      <td>MIA</td>\n",
              "      <td>160.0</td>\n",
              "      <td>1089</td>\n",
              "      <td>5</td>\n",
              "      <td>40</td>\n",
              "      <td>2013-01-01 05:00:00</td>\n",
              "    </tr>\n",
              "    <tr>\n",
              "      <th>3</th>\n",
              "      <td>2013</td>\n",
              "      <td>1</td>\n",
              "      <td>1</td>\n",
              "      <td>544.0</td>\n",
              "      <td>545</td>\n",
              "      <td>-1.0</td>\n",
              "      <td>1004.0</td>\n",
              "      <td>1022</td>\n",
              "      <td>-18.0</td>\n",
              "      <td>B6</td>\n",
              "      <td>725</td>\n",
              "      <td>N804JB</td>\n",
              "      <td>JFK</td>\n",
              "      <td>BQN</td>\n",
              "      <td>183.0</td>\n",
              "      <td>1576</td>\n",
              "      <td>5</td>\n",
              "      <td>45</td>\n",
              "      <td>2013-01-01 05:00:00</td>\n",
              "    </tr>\n",
              "    <tr>\n",
              "      <th>4</th>\n",
              "      <td>2013</td>\n",
              "      <td>1</td>\n",
              "      <td>1</td>\n",
              "      <td>554.0</td>\n",
              "      <td>600</td>\n",
              "      <td>-6.0</td>\n",
              "      <td>812.0</td>\n",
              "      <td>837</td>\n",
              "      <td>-25.0</td>\n",
              "      <td>DL</td>\n",
              "      <td>461</td>\n",
              "      <td>N668DN</td>\n",
              "      <td>LGA</td>\n",
              "      <td>ATL</td>\n",
              "      <td>116.0</td>\n",
              "      <td>762</td>\n",
              "      <td>6</td>\n",
              "      <td>0</td>\n",
              "      <td>2013-01-01 06:00:00</td>\n",
              "    </tr>\n",
              "  </tbody>\n",
              "</table>\n",
              "</div>\n",
              "      <button class=\"colab-df-convert\" onclick=\"convertToInteractive('df-07741eec-96bf-4267-9259-441f81a23b56')\"\n",
              "              title=\"Convert this dataframe to an interactive table.\"\n",
              "              style=\"display:none;\">\n",
              "        \n",
              "  <svg xmlns=\"http://www.w3.org/2000/svg\" height=\"24px\"viewBox=\"0 0 24 24\"\n",
              "       width=\"24px\">\n",
              "    <path d=\"M0 0h24v24H0V0z\" fill=\"none\"/>\n",
              "    <path d=\"M18.56 5.44l.94 2.06.94-2.06 2.06-.94-2.06-.94-.94-2.06-.94 2.06-2.06.94zm-11 1L8.5 8.5l.94-2.06 2.06-.94-2.06-.94L8.5 2.5l-.94 2.06-2.06.94zm10 10l.94 2.06.94-2.06 2.06-.94-2.06-.94-.94-2.06-.94 2.06-2.06.94z\"/><path d=\"M17.41 7.96l-1.37-1.37c-.4-.4-.92-.59-1.43-.59-.52 0-1.04.2-1.43.59L10.3 9.45l-7.72 7.72c-.78.78-.78 2.05 0 2.83L4 21.41c.39.39.9.59 1.41.59.51 0 1.02-.2 1.41-.59l7.78-7.78 2.81-2.81c.8-.78.8-2.07 0-2.86zM5.41 20L4 18.59l7.72-7.72 1.47 1.35L5.41 20z\"/>\n",
              "  </svg>\n",
              "      </button>\n",
              "      \n",
              "  <style>\n",
              "    .colab-df-container {\n",
              "      display:flex;\n",
              "      flex-wrap:wrap;\n",
              "      gap: 12px;\n",
              "    }\n",
              "\n",
              "    .colab-df-convert {\n",
              "      background-color: #E8F0FE;\n",
              "      border: none;\n",
              "      border-radius: 50%;\n",
              "      cursor: pointer;\n",
              "      display: none;\n",
              "      fill: #1967D2;\n",
              "      height: 32px;\n",
              "      padding: 0 0 0 0;\n",
              "      width: 32px;\n",
              "    }\n",
              "\n",
              "    .colab-df-convert:hover {\n",
              "      background-color: #E2EBFA;\n",
              "      box-shadow: 0px 1px 2px rgba(60, 64, 67, 0.3), 0px 1px 3px 1px rgba(60, 64, 67, 0.15);\n",
              "      fill: #174EA6;\n",
              "    }\n",
              "\n",
              "    [theme=dark] .colab-df-convert {\n",
              "      background-color: #3B4455;\n",
              "      fill: #D2E3FC;\n",
              "    }\n",
              "\n",
              "    [theme=dark] .colab-df-convert:hover {\n",
              "      background-color: #434B5C;\n",
              "      box-shadow: 0px 1px 3px 1px rgba(0, 0, 0, 0.15);\n",
              "      filter: drop-shadow(0px 1px 2px rgba(0, 0, 0, 0.3));\n",
              "      fill: #FFFFFF;\n",
              "    }\n",
              "  </style>\n",
              "\n",
              "      <script>\n",
              "        const buttonEl =\n",
              "          document.querySelector('#df-07741eec-96bf-4267-9259-441f81a23b56 button.colab-df-convert');\n",
              "        buttonEl.style.display =\n",
              "          google.colab.kernel.accessAllowed ? 'block' : 'none';\n",
              "\n",
              "        async function convertToInteractive(key) {\n",
              "          const element = document.querySelector('#df-07741eec-96bf-4267-9259-441f81a23b56');\n",
              "          const dataTable =\n",
              "            await google.colab.kernel.invokeFunction('convertToInteractive',\n",
              "                                                     [key], {});\n",
              "          if (!dataTable) return;\n",
              "\n",
              "          const docLinkHtml = 'Like what you see? Visit the ' +\n",
              "            '<a target=\"_blank\" href=https://colab.research.google.com/notebooks/data_table.ipynb>data table notebook</a>'\n",
              "            + ' to learn more about interactive tables.';\n",
              "          element.innerHTML = '';\n",
              "          dataTable['output_type'] = 'display_data';\n",
              "          await google.colab.output.renderOutput(dataTable, element);\n",
              "          const docLink = document.createElement('div');\n",
              "          docLink.innerHTML = docLinkHtml;\n",
              "          element.appendChild(docLink);\n",
              "        }\n",
              "      </script>\n",
              "    </div>\n",
              "  </div>\n",
              "  "
            ]
          },
          "metadata": {},
          "execution_count": 33
        }
      ]
    },
    {
      "cell_type": "code",
      "source": [
        "\n",
        "round(data[data[\"dep_time\"].isnull()].value_counts([\"month\"],normalize=True).nlargest(1),2)\n"
      ],
      "metadata": {
        "colab": {
          "base_uri": "https://localhost:8080/"
        },
        "id": "rGygyNAChe5a",
        "outputId": "d5e786d5-3d69-4562-df83-20c5c2560132"
      },
      "id": "rGygyNAChe5a",
      "execution_count": null,
      "outputs": [
        {
          "output_type": "execute_result",
          "data": {
            "text/plain": [
              "month\n",
              "2        0.15\n",
              "dtype: float64"
            ]
          },
          "metadata": {},
          "execution_count": 35
        }
      ]
    },
    {
      "cell_type": "code",
      "source": [
        "data[data['dep_time'].isnull()].value_counts(['month']).plot(kind = \"bar\")\n"
      ],
      "metadata": {
        "colab": {
          "base_uri": "https://localhost:8080/",
          "height": 310
        },
        "id": "1_pY00QKhfdw",
        "outputId": "f6c27f31-2717-4637-d57f-ee96c1b858f9"
      },
      "id": "1_pY00QKhfdw",
      "execution_count": null,
      "outputs": [
        {
          "output_type": "execute_result",
          "data": {
            "text/plain": [
              "<matplotlib.axes._subplots.AxesSubplot at 0x7faf241a1430>"
            ]
          },
          "metadata": {},
          "execution_count": 36
        },
        {
          "output_type": "display_data",
          "data": {
            "text/plain": [
              "<Figure size 432x288 with 1 Axes>"
            ],
            "image/png": "[encoded data removed]"
          },
          "metadata": {
            "needs_background": "light"
          }
        }
      ]
    },
    {
      "cell_type": "markdown",
      "id": "1cda509a-5148-462d-a1af-b444de62308c",
      "metadata": {
        "id": "1cda509a-5148-462d-a1af-b444de62308c"
      },
      "source": [
        "##### b) What plane (specified by the tailnum variable) traveled the most times from New York City airports in 2013? Plot the number of trips per week over the year."
      ]
    },
    {
      "cell_type": "code",
      "source": [
        "(data[(data[\"year\"]==2013)&(data[\"origin\"]==\"JFK\")|(data[\"origin\"]==\"LGA\")]\n",
        " .groupby([\"tailnum\"])[\"tailnum\"]\n",
        " .count()\n",
        " .nlargest(1))\n",
        "\n",
        "\n"
      ],
      "metadata": {
        "colab": {
          "base_uri": "https://localhost:8080/"
        },
        "id": "JwtuiYOug9Va",
        "outputId": "e1642e0c-ce85-4b1d-f122-a6dddd921b3f"
      },
      "id": "JwtuiYOug9Va",
      "execution_count": null,
      "outputs": [
        {
          "output_type": "execute_result",
          "data": {
            "text/plain": [
              "tailnum\n",
              "N725MQ    575\n",
              "Name: tailnum, dtype: int64"
            ]
          },
          "metadata": {},
          "execution_count": 37
        }
      ]
    },
    {
      "cell_type": "code",
      "source": [],
      "metadata": {
        "id": "xJ7uRcy0gfFO"
      },
      "id": "xJ7uRcy0gfFO",
      "execution_count": null,
      "outputs": []
    },
    {
      "cell_type": "code",
      "execution_count": null,
      "id": "5026ef7a-2f39-49fa-a267-6818ddef4a0b",
      "metadata": {
        "id": "5026ef7a-2f39-49fa-a267-6818ddef4a0b"
      },
      "outputs": [],
      "source": []
    },
    {
      "cell_type": "markdown",
      "id": "8066f094-c423-4741-9205-fb955bb3e32a",
      "metadata": {
        "id": "8066f094-c423-4741-9205-fb955bb3e32a"
      },
      "source": [
        "##### c) Download the plane data from [ https://github.com/MapsaBootCamp/useful_datasets/blob/master/structuralData/planes.csv ]. Use the flights and planes tables to answer the following questions: What is the oldest plane (specified by the tailnum variable) that flew from New York City airports in 2013? How many airplanes that flew from New York City are included in the planes table?"
      ]
    },
    {
      "cell_type": "code",
      "source": [],
      "metadata": {
        "id": "LNB4FWWKa95G"
      },
      "id": "LNB4FWWKa95G",
      "execution_count": null,
      "outputs": []
    },
    {
      "cell_type": "markdown",
      "id": "20d6d704-57ad-403b-9b2b-99e6b21a3c0a",
      "metadata": {
        "id": "20d6d704-57ad-403b-9b2b-99e6b21a3c0a"
      },
      "source": [
        "##### d) Use the flights and planes tables to answer the following questions: How many planes have a missing date of manufacture? What are the five most common manufacturers (Note: pay close attention to the same manufacturer being represented multiple times)? Has the distribution of manufacturer changed over time as reflected by the airplanes flying from NYC in 2013? Produce a plot that backs up your claim."
      ]
    },
    {
      "cell_type": "code",
      "execution_count": null,
      "id": "239ffd7f-5106-4d69-bb9e-d7bd608827b9",
      "metadata": {
        "id": "239ffd7f-5106-4d69-bb9e-d7bd608827b9"
      },
      "outputs": [],
      "source": [
        "#TODO"
      ]
    },
    {
      "cell_type": "markdown",
      "id": "30cf6379-efa0-42fc-bf77-7b355c306f03",
      "metadata": {
        "id": "30cf6379-efa0-42fc-bf77-7b355c306f03"
      },
      "source": [
        "##\n",
        "<span style=\"font-wight:bold;font-size:20px\">3. Regular Expressions:</span> Write a regular expression to match patterns in the following strings. Demonstrate\n",
        "that your regular expression indeed matched that pattern by including codes and results."
      ]
    },
    {
      "cell_type": "markdown",
      "id": "dd803993-9326-4b85-b281-b444350f2380",
      "metadata": {
        "id": "dd803993-9326-4b85-b281-b444350f2380"
      },
      "source": [
        "##### a) We have a list vText as follows. Write a regular expression that matches g, og, go or ogo in vText and replace the matches with ‘.’."
      ]
    },
    {
      "cell_type": "code",
      "execution_count": 71,
      "id": "14e6e3e2-33a1-40cc-9d17-9fd9222bd865",
      "metadata": {
        "id": "14e6e3e2-33a1-40cc-9d17-9fd9222bd865"
      },
      "outputs": [],
      "source": [
        "vText = ['google','logo','dig', 'blog', 'boogie']"
      ]
    },
    {
      "cell_type": "code",
      "execution_count": 73,
      "id": "991d0849-7fbd-4e56-a020-a783cd649d7e",
      "metadata": {
        "id": "991d0849-7fbd-4e56-a020-a783cd649d7e",
        "colab": {
          "base_uri": "https://localhost:8080/",
          "height": 35
        },
        "outputId": "9a6c2593-168f-468f-d5d4-f04112de2b83"
      },
      "outputs": [
        {
          "output_type": "execute_result",
          "data": {
            "text/plain": [
              "\"['..le', 'l.', 'di.', 'bl.', 'bo.ie']\""
            ],
            "application/vnd.google.colaboratory.intrinsic+json": {
              "type": "string"
            }
          },
          "metadata": {},
          "execution_count": 73
        }
      ],
      "source": [
        "import re\n",
        "\n",
        "re.sub(r\"o{0,1}go{0,1}\", \".\" , str(vText))\n"
      ]
    },
    {
      "cell_type": "markdown",
      "id": "506dd8e8-b32b-42b3-897d-0fc574b6484c",
      "metadata": {
        "id": "506dd8e8-b32b-42b3-897d-0fc574b6484c"
      },
      "source": [
        "##### b) Replace only the 5 or 6 digit numbers with the word “found” in the following list. Please make sure that 3, 4, or 7 digit numbers do not get changed."
      ]
    },
    {
      "cell_type": "code",
      "execution_count": null,
      "id": "8b95b018-82e2-400d-a288-d68a1c019f2b",
      "metadata": {
        "id": "8b95b018-82e2-400d-a288-d68a1c019f2b"
      },
      "outputs": [],
      "source": [
        "vPhone = ['874','6783','345345', '32120', '468349', '8149674']"
      ]
    },
    {
      "cell_type": "code",
      "execution_count": 74,
      "id": "5ac59c7f-6687-466d-ad19-833f2e6da9c1",
      "metadata": {
        "id": "5ac59c7f-6687-466d-ad19-833f2e6da9c1",
        "colab": {
          "base_uri": "https://localhost:8080/",
          "height": 35
        },
        "outputId": "7d46dbd5-d100-4f91-d116-d8325b6f5018"
      },
      "outputs": [
        {
          "output_type": "execute_result",
          "data": {
            "text/plain": [
              "\"['874', '6783', found, found, found, '8149674']\""
            ],
            "application/vnd.google.colaboratory.intrinsic+json": {
              "type": "string"
            }
          },
          "metadata": {},
          "execution_count": 74
        }
      ],
      "source": [
        "re.sub(r\"\\D\\d{5,6}\\D\", \"found\" , str(vPhone))\n",
        "\n"
      ]
    },
    {
      "cell_type": "markdown",
      "id": "dd7787da-c76a-46ce-839c-f31a0acbe1db",
      "metadata": {
        "id": "dd7787da-c76a-46ce-839c-f31a0acbe1db"
      },
      "source": [
        "##### c) Replace all the characters that are not among the 26 English characters or a space. Please replace with an empty spring."
      ]
    },
    {
      "cell_type": "code",
      "execution_count": null,
      "id": "772d5f4a-fd83-4bab-96c1-18f5f4c18e60",
      "metadata": {
        "id": "772d5f4a-fd83-4bab-96c1-18f5f4c18e60"
      },
      "outputs": [],
      "source": [
        "myText = \"#y%o$u @g!o*t t9h(e) so#lu!tio$n c%or_r+e%ct\""
      ]
    },
    {
      "cell_type": "code",
      "execution_count": null,
      "id": "d1372291-d85b-49a4-b919-e2b6d62cc607",
      "metadata": {
        "id": "d1372291-d85b-49a4-b919-e2b6d62cc607",
        "colab": {
          "base_uri": "https://localhost:8080/",
          "height": 35
        },
        "outputId": "cf03f4c2-b2ae-41cc-8dd3-fc1949ac2743"
      },
      "outputs": [
        {
          "output_type": "execute_result",
          "data": {
            "text/plain": [
              "'you got the solution correct'"
            ],
            "application/vnd.google.colaboratory.intrinsic+json": {
              "type": "string"
            }
          },
          "metadata": {},
          "execution_count": 45
        }
      ],
      "source": [
        "re.sub(r\"[^a-zA-Z ]\", \"\" , str(myText))"
      ]
    },
    {
      "cell_type": "markdown",
      "id": "830d18d6-a556-4da1-ac68-76f2b268d08e",
      "metadata": {
        "id": "830d18d6-a556-4da1-ac68-76f2b268d08e"
      },
      "source": [
        "##### d) In the following text, replace all the words that are exactly 3 or 4 characters long with triple dots ‘. . . ’"
      ]
    },
    {
      "cell_type": "code",
      "execution_count": 76,
      "id": "676266d1-8ea0-4edd-b9df-6e2f46de6e26",
      "metadata": {
        "id": "676266d1-8ea0-4edd-b9df-6e2f46de6e26"
      },
      "outputs": [],
      "source": [
        "myText1 = \"Each of the three and four character words will be gone now\""
      ]
    },
    {
      "cell_type": "code",
      "execution_count": 77,
      "id": "0e2cce50-9269-4239-a064-e0f5de78c5f7",
      "metadata": {
        "id": "0e2cce50-9269-4239-a064-e0f5de78c5f7",
        "colab": {
          "base_uri": "https://localhost:8080/",
          "height": 35
        },
        "outputId": "b9b1526f-7ae5-4864-bdd9-f96a89608ce2"
      },
      "outputs": [
        {
          "output_type": "execute_result",
          "data": {
            "text/plain": [
              "'... of ... three ... ... character words ... be ... ...'"
            ],
            "application/vnd.google.colaboratory.intrinsic+json": {
              "type": "string"
            }
          },
          "metadata": {},
          "execution_count": 77
        }
      ],
      "source": [
        "re.sub(r\"\\b[a-zA-Z]{3,4}\\b\", \"...\" , str(myText1))\n"
      ]
    },
    {
      "cell_type": "markdown",
      "id": "9e069cf8-63ec-4fd5-8d01-3e000533881f",
      "metadata": {
        "id": "9e069cf8-63ec-4fd5-8d01-3e000533881f"
      },
      "source": [
        "##### e) Extract all the three numbers embedded in the following text."
      ]
    },
    {
      "cell_type": "code",
      "execution_count": 78,
      "id": "391276cb-b8f3-406b-a017-8c4312f9253a",
      "metadata": {
        "id": "391276cb-b8f3-406b-a017-8c4312f9253a"
      },
      "outputs": [],
      "source": [
        "bigText = 'There are four 20@14 numbers hid989den in the 500 texts'"
      ]
    },
    {
      "cell_type": "code",
      "execution_count": 79,
      "id": "f696810d-aff0-4c4b-a134-c91ce4d229f1",
      "metadata": {
        "id": "f696810d-aff0-4c4b-a134-c91ce4d229f1",
        "colab": {
          "base_uri": "https://localhost:8080/"
        },
        "outputId": "18869e60-6e2d-464f-a760-fa6c27f85348"
      },
      "outputs": [
        {
          "output_type": "execute_result",
          "data": {
            "text/plain": [
              "['20', '14', '989', '500']"
            ]
          },
          "metadata": {},
          "execution_count": 79
        }
      ],
      "source": [
        "re.findall(r\"[\\d]+\", str(bigText))"
      ]
    },
    {
      "cell_type": "markdown",
      "id": "9c2de3bc-7b9d-4292-a998-1a3c5594ec53",
      "metadata": {
        "id": "9c2de3bc-7b9d-4292-a998-1a3c5594ec53"
      },
      "source": [
        "##### f) Extract all the words between parenthesis from the following string text and count number of words."
      ]
    },
    {
      "cell_type": "code",
      "execution_count": 80,
      "id": "ff687571-8659-4e98-8229-d3ba642b7c96",
      "metadata": {
        "id": "ff687571-8659-4e98-8229-d3ba642b7c96"
      },
      "outputs": [],
      "source": [
        "myTextd = 'The salries are reported (in millions) for every company.'"
      ]
    },
    {
      "cell_type": "code",
      "execution_count": 81,
      "id": "e3599ecf-eec1-4374-88d4-b9d6df53287a",
      "metadata": {
        "id": "e3599ecf-eec1-4374-88d4-b9d6df53287a",
        "colab": {
          "base_uri": "https://localhost:8080/"
        },
        "outputId": "270021b0-bc0e-40cc-944f-8d9a8804533c"
      },
      "outputs": [
        {
          "output_type": "execute_result",
          "data": {
            "text/plain": [
              "(['in millions'], 10)"
            ]
          },
          "metadata": {},
          "execution_count": 81
        }
      ],
      "source": [
        "a = re.findall(r\"\\({1}(.*)\\){1}\", str(myTextd))\n",
        "b =re.findall(r\"[a-zA-Z]\",str(a))\n",
        "a , len(b)\n"
      ]
    },
    {
      "cell_type": "markdown",
      "id": "adb63503-1385-4ce4-b711-1c74af77ae9d",
      "metadata": {
        "id": "adb63503-1385-4ce4-b711-1c74af77ae9d"
      },
      "source": [
        "##### g) Extract the texts in between _ and dot(.) in the following list. Your output should be ‘bill’, ‘pay’, ‘fine-book’."
      ]
    },
    {
      "cell_type": "code",
      "execution_count": 83,
      "id": "138531b1-b467-4da4-be01-d43d45a332e9",
      "metadata": {
        "id": "138531b1-b467-4da4-be01-d43d45a332e9"
      },
      "outputs": [],
      "source": [
        "myText4= [\"H_bill.xls\", \"Big_H_pay.xls\", \"Use_case_fine-book.pdf\"]"
      ]
    },
    {
      "cell_type": "code",
      "execution_count": 84,
      "id": "4acc9d49-f77e-41b0-9676-2d9ad09afba3",
      "metadata": {
        "id": "4acc9d49-f77e-41b0-9676-2d9ad09afba3",
        "colab": {
          "base_uri": "https://localhost:8080/"
        },
        "outputId": "359ab47d-9f16-4559-a4af-f3e7ad07d34f"
      },
      "outputs": [
        {
          "output_type": "execute_result",
          "data": {
            "text/plain": [
              "['bill', 'pay', 'fine-book']"
            ]
          },
          "metadata": {},
          "execution_count": 84
        }
      ],
      "source": [
        "re.findall(r\"\\_([^_]+)\\.\", str(myText4))"
      ]
    },
    {
      "cell_type": "markdown",
      "id": "c636aab9-20ea-4895-a589-7bff34f6d8ea",
      "metadata": {
        "id": "c636aab9-20ea-4895-a589-7bff34f6d8ea"
      },
      "source": [
        "##### h) Extract the numbers (return only integers) that are followed by the units ‘ml’ or ‘lb’ in the following text."
      ]
    },
    {
      "cell_type": "code",
      "execution_count": 85,
      "id": "2fde1405-5b94-4775-82f3-3708dbb02b34",
      "metadata": {
        "id": "2fde1405-5b94-4775-82f3-3708dbb02b34"
      },
      "outputs": [],
      "source": [
        "myTexth = 'Received 10 apples with 200ml water at 8pm with 15 lb meat and 2lb salt'"
      ]
    },
    {
      "cell_type": "code",
      "execution_count": 86,
      "id": "9a920c6c-8156-43cf-912e-18287a6b5205",
      "metadata": {
        "id": "9a920c6c-8156-43cf-912e-18287a6b5205",
        "colab": {
          "base_uri": "https://localhost:8080/"
        },
        "outputId": "37ef641d-88ab-435a-8aaa-8c75a08129f7"
      },
      "outputs": [
        {
          "output_type": "execute_result",
          "data": {
            "text/plain": [
              "['200', '15', '2']"
            ]
          },
          "metadata": {},
          "execution_count": 86
        }
      ],
      "source": [
        "re.findall(r\"(\\d+) ?[(ml)|(lb)]\", str(myTexth))"
      ]
    },
    {
      "cell_type": "markdown",
      "id": "c730900e-5d30-490c-b53e-1ab271d84041",
      "metadata": {
        "id": "c730900e-5d30-490c-b53e-1ab271d84041"
      },
      "source": [
        "##### i) Extract only the word in between pair of symbols \\\\$. Count number of words you have found between pairs of dollar sign \\\\$"
      ]
    },
    {
      "cell_type": "code",
      "execution_count": 87,
      "id": "79220ba1-6eac-4aab-8e3b-3c1455677551",
      "metadata": {
        "id": "79220ba1-6eac-4aab-8e3b-3c1455677551"
      },
      "outputs": [],
      "source": [
        "myTextz= 'Math symbols are $written$ in $between$ dollar $signs$'"
      ]
    },
    {
      "cell_type": "code",
      "execution_count": 88,
      "id": "20daf141-048f-4244-abde-e339efde03a6",
      "metadata": {
        "id": "20daf141-048f-4244-abde-e339efde03a6",
        "colab": {
          "base_uri": "https://localhost:8080/"
        },
        "outputId": "0c81df2b-9cc7-41fc-e27d-0d05e7f07e82"
      },
      "outputs": [
        {
          "output_type": "execute_result",
          "data": {
            "text/plain": [
              "[]"
            ]
          },
          "metadata": {},
          "execution_count": 88
        }
      ],
      "source": [
        "re.findall(r\"(\\d+) ?[(ml)|(lb)]\", str(myTextz))\n"
      ]
    },
    {
      "cell_type": "markdown",
      "id": "c7d17049-c284-4f51-9293-82cf84c1f331",
      "metadata": {
        "id": "c7d17049-c284-4f51-9293-82cf84c1f331"
      },
      "source": [
        "##### j) Extract all the valid equations in the following text."
      ]
    },
    {
      "cell_type": "code",
      "execution_count": 89,
      "id": "cb1d7f28-d7be-4130-9c95-ea304bf3aa9b",
      "metadata": {
        "id": "cb1d7f28-d7be-4130-9c95-ea304bf3aa9b"
      },
      "outputs": [],
      "source": [
        "myTextj = 'equation1: 2+3=5, equation2 is: 2*3=6, do not extract 2w3=6'"
      ]
    },
    {
      "cell_type": "code",
      "execution_count": 90,
      "id": "63537259-79b1-4c38-b4db-526dfd2d6735",
      "metadata": {
        "id": "63537259-79b1-4c38-b4db-526dfd2d6735",
        "colab": {
          "base_uri": "https://localhost:8080/"
        },
        "outputId": "288e8497-088d-4c7d-d7ec-82f3e01734ae"
      },
      "outputs": [
        {
          "output_type": "execute_result",
          "data": {
            "text/plain": [
              "['2+3=5', '2*3=6']"
            ]
          },
          "metadata": {},
          "execution_count": 90
        }
      ],
      "source": [
        "\n",
        "re.findall(r\"\\d[+*]\\d=\\d\", str(myTextj))\n"
      ]
    },
    {
      "cell_type": "code",
      "source": [],
      "metadata": {
        "id": "T2L4_IyZm_9I"
      },
      "id": "T2L4_IyZm_9I",
      "execution_count": null,
      "outputs": []
    }
  ],
  "metadata": {
    "kernelspec": {
      "display_name": "Python 3 (ipykernel)",
      "language": "python",
      "name": "python3"
    },
    "language_info": {
      "codemirror_mode": {
        "name": "ipython",
        "version": 3
      },
      "file_extension": ".py",
      "mimetype": "text/x-python",
      "name": "python",
      "nbconvert_exporter": "python",
      "pygments_lexer": "ipython3",
      "version": "3.8.10"
    },
    "colab": {
      "provenance": []
    }
  },
  "nbformat": 4,
  "nbformat_minor": 5
}