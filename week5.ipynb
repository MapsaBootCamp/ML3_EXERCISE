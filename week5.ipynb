{
 "cells": [
  {
   "cell_type": "markdown",
   "id": "40697c1c-cc86-4f20-9d5d-1e6c2979bc13",
   "metadata": {},
   "source": [
    "<br><p style=\"margin-left: 25%; font-size:20px;\">Machine Learning Camp: HomeWork 5</p><br>"
   ]
  },
  {
   "cell_type": "code",
   "execution_count": 35,
   "id": "c47ac311-b10b-4854-98d0-0fc9401ca994",
   "metadata": {},
   "outputs": [],
   "source": [
    "import nltk\n",
    "import pandas as pd\n",
    "import numpy as np\n",
    "import matplotlib.pyplot as plt\n",
    "import seaborn as sns"
   ]
  },
  {
   "cell_type": "code",
   "execution_count": 16,
   "id": "7992d827-cef0-4c38-aeed-fc3fca3f8a41",
   "metadata": {},
   "outputs": [
    {
     "name": "stderr",
     "output_type": "stream",
     "text": [
      "[nltk_data] Downloading package punkt to\n",
      "[nltk_data]     C:\\Users\\aminr\\AppData\\Roaming\\nltk_data...\n",
      "[nltk_data]   Unzipping tokenizers\\punkt.zip.\n"
     ]
    },
    {
     "data": {
      "text/plain": [
       "True"
      ]
     },
     "execution_count": 16,
     "metadata": {},
     "output_type": "execute_result"
    }
   ],
   "source": [
    "# nltk.download('stopwords')\n",
    "# nltk.download('punkt')"
   ]
  },
  {
   "cell_type": "code",
   "execution_count": 31,
   "id": "e8dae939-a591-4c59-8adf-e3e5851b245e",
   "metadata": {},
   "outputs": [],
   "source": [
    "from nltk.corpus import stopwords\n",
    "from string import punctuation\n",
    "\n",
    "from nltk.tokenize import word_tokenize"
   ]
  },
  {
   "cell_type": "markdown",
   "id": "42e988e2-b110-4fe2-bb40-212815474940",
   "metadata": {
    "tags": []
   },
   "source": [
    "##\n",
    "<span style=\"font-wight:bold;font-size:20px\">1. Text Data analysis:</span> using “lincoln-last-speech.txt” which contains Lincoln’s last public address. Now answer the following questions and include your codes."
   ]
  },
  {
   "cell_type": "markdown",
   "id": "282ec989-2848-4256-b6dc-a62e95125d6b",
   "metadata": {},
   "source": [
    "##### a) Read the text and store the text in lAddress. Show the first 70 characters from the first element of the text."
   ]
  },
  {
   "cell_type": "code",
   "execution_count": 4,
   "id": "c76966b8-294e-4f78-8d0e-4be7b1523de1",
   "metadata": {},
   "outputs": [
    {
     "name": "stdout",
     "output_type": "stream",
     "text": [
      "We meet this evening, not in sorrow, but in gladness of heart. The eva\n"
     ]
    }
   ],
   "source": [
    "with open(\"lincoln-last-speech.txt\",\"r\") as text:\n",
    "    print(text.read(70))"
   ]
  },
  {
   "cell_type": "markdown",
   "id": "b25c28dc-6d9d-4bcd-b864-e90754485c7e",
   "metadata": {},
   "source": [
    "##### b) Now we are interested in the words used in his speech. Extract all the words from lAddress, convert all of them to lower case and store the result in vWord. Display first few words."
   ]
  },
  {
   "cell_type": "code",
   "execution_count": 46,
   "id": "870b68f2-eeeb-4a98-817c-aca8beb28694",
   "metadata": {},
   "outputs": [],
   "source": [
    "with open(\"lincoln-last-speech.txt\",\"r\") as text:\n",
    "    t = text.read()\n",
    "    no_punc_txt = \"\".join([char for char in t if char not in punctuation])\n",
    "    \n",
    "    word_tokens = word_tokenize(no_punc_txt)\n"
   ]
  },
  {
   "cell_type": "code",
   "execution_count": 47,
   "id": "a1c3c8e4-537c-453c-abc5-2f5cee38b8f5",
   "metadata": {},
   "outputs": [
    {
     "data": {
      "text/plain": [
       "['we', 'meet', 'this', 'evening', 'not']"
      ]
     },
     "execution_count": 47,
     "metadata": {},
     "output_type": "execute_result"
    }
   ],
   "source": [
    "vWords = [word.lower() for word in word_tokens]\n",
    "vWords[:5]"
   ]
  },
  {
   "cell_type": "markdown",
   "id": "ab02ba13-aecb-4c15-9f4b-a63e5ffadfd4",
   "metadata": {},
   "source": [
    "##### c) The words like am, is, my or through are not much of our interest and these types of words are called stop-words. Get all the English stop words and store them in sWord. Display few stop words in your report."
   ]
  },
  {
   "cell_type": "code",
   "execution_count": 48,
   "id": "d15a85b4-926b-4ecb-8b46-23b766865704",
   "metadata": {},
   "outputs": [],
   "source": [
    "sWords = stopwords.words(\"english\")"
   ]
  },
  {
   "cell_type": "code",
   "execution_count": 49,
   "id": "fcba839c-8797-4237-8398-a2d9b7849e00",
   "metadata": {},
   "outputs": [
    {
     "data": {
      "text/plain": [
       "['i', 'me', 'my', 'myself', 'we']"
      ]
     },
     "execution_count": 49,
     "metadata": {},
     "output_type": "execute_result"
    }
   ],
   "source": [
    "sWords[:5]"
   ]
  },
  {
   "cell_type": "markdown",
   "id": "00ab6e7e-d0cc-4ea3-bd77-e0a53b7d1fdf",
   "metadata": {},
   "source": [
    "##### d) Remove all the sWord from vWord and store the result in cleanWord. Display first few clean words."
   ]
  },
  {
   "cell_type": "code",
   "execution_count": 50,
   "id": "254af2d1-9fbf-4604-93f5-d0165054d07e",
   "metadata": {},
   "outputs": [],
   "source": [
    "cleanWords = [word for word in vWords if (word.lower() not in sWords) ]"
   ]
  },
  {
   "cell_type": "code",
   "execution_count": 51,
   "id": "a1a9e2e5-29bd-4dba-81f2-091f6c709100",
   "metadata": {},
   "outputs": [
    {
     "data": {
      "text/plain": [
       "['meet',\n",
       " 'evening',\n",
       " 'sorrow',\n",
       " 'gladness',\n",
       " 'heart',\n",
       " 'evacuation',\n",
       " 'petersburg',\n",
       " 'richmond',\n",
       " 'surrender',\n",
       " 'principal']"
      ]
     },
     "execution_count": 51,
     "metadata": {},
     "output_type": "execute_result"
    }
   ],
   "source": [
    "cleanWords[:10]"
   ]
  },
  {
   "cell_type": "markdown",
   "id": "3e6eb98b-5a5b-499d-9802-f266e39e2701",
   "metadata": {},
   "source": [
    "##### f) Construct a bar chart showing the count of each words for the 15 most frequently used words."
   ]
  },
  {
   "cell_type": "code",
   "execution_count": 52,
   "id": "4256b7dd-9680-4852-be6c-f1b4aa51cfb8",
   "metadata": {},
   "outputs": [],
   "source": [
    "cleanWords_sr = pd.Series(cleanWords)"
   ]
  },
  {
   "cell_type": "code",
   "execution_count": 57,
   "id": "d2e3f890-aea1-4a85-bcb1-309fbcffffba",
   "metadata": {},
   "outputs": [],
   "source": [
    "frequent_words_sr = cleanWords_sr.value_counts().nlargest(15)"
   ]
  },
  {
   "cell_type": "code",
   "execution_count": 95,
   "id": "b3a5de1f-0980-4998-b8e6-4a6e9f517a62",
   "metadata": {},
   "outputs": [
    {
     "data": {
      "image/png": "[encoded data removed]",
      "text/plain": [
       "<Figure size 432x288 with 1 Axes>"
      ]
     },
     "metadata": {
      "needs_background": "light"
     },
     "output_type": "display_data"
    }
   ],
   "source": [
    "fig , ax = plt.subplots(ncols=1 , nrows = 1)\n",
    "\n",
    "ax  = sns.barplot(x= frequent_words_sr.index ,y = frequent_words_sr.values)\n",
    "ax.set_xticklabels(ax.get_xticklabels(),rotation = 90 , fontdict={\"size\" : 12});\n",
    "ax.set_yticks(range(0,20,2));\n"
   ]
  },
  {
   "cell_type": "markdown",
   "id": "5bc31d42-0a8b-42f1-8237-e26aff5a3dbd",
   "metadata": {},
   "source": [
    "##### h) The plot in question (1f) uses bar plot to display the data. Can you think of another plot that delivers the same information but looks much simpler? Demonstrate your answer by generating such a plot."
   ]
  },
  {
   "cell_type": "code",
   "execution_count": 111,
   "id": "f9be269c-45fa-46e7-b90a-4a7f6cf7ccf1",
   "metadata": {},
   "outputs": [
    {
     "data": {
      "image/png": "[encoded data removed]",
      "text/plain": [
       "<Figure size 216x216 with 1 Axes>"
      ]
     },
     "metadata": {
      "needs_background": "light"
     },
     "output_type": "display_data"
    }
   ],
   "source": [
    "import wordcloud\n",
    "wordcloud = wordcloud.WordCloud(width = 800, height = 800, \n",
    "                      background_color ='white', stopwords = stopwords.words('english'),\n",
    "                      min_font_size = 10).generate(\" \".join(cleanWords_sr.to_list()))\n",
    " \n",
    "plt.figure(figsize = (3, 3), facecolor = None)\n",
    "plt.imshow(wordcloud)\n",
    "plt.axis(\"off\")\n",
    "plt.tight_layout(pad = 0)\n",
    " \n",
    "plt.show()"
   ]
  },
  {
   "cell_type": "markdown",
   "id": "c1312b9d-a0d5-43f6-94a6-5cd97c1b5455",
   "metadata": {
    "tags": []
   },
   "source": [
    "##\n",
    "<span style=\"font-wight:bold;font-size:20px\">2. Answering Questions from Data:</span> Download the data from [ \n",
    "https://github.com/MapsaBootCamp/useful_datasets/blob/master/structuralData/flights.csv ]. Answer the following questions using this data.\n"
   ]
  },
  {
   "cell_type": "markdown",
   "id": "92251706-a801-42d7-be40-9d00e46b31f7",
   "metadata": {
    "tags": []
   },
   "source": [
    "##### a) What month had the highest proportion of cancelled flights? What month had the lowest? Interpretany seasonal patterns. Please produce a plot that illustrates the proportion of cancelled flights for each month."
   ]
  },
  {
   "cell_type": "code",
   "execution_count": 114,
   "id": "0d70561d-c2d1-49c2-82b2-841bc59b1db7",
   "metadata": {},
   "outputs": [],
   "source": [
    "flights_df = pd.read_csv(\"flights.csv\")"
   ]
  },
  {
   "cell_type": "code",
   "execution_count": 119,
   "id": "dfa841c6-44fe-4775-a747-8c6ccf00bf64",
   "metadata": {},
   "outputs": [
    {
     "data": {
      "text/plain": [
       "0         False\n",
       "1         False\n",
       "2         False\n",
       "3         False\n",
       "4         False\n",
       "          ...  \n",
       "336771     True\n",
       "336772     True\n",
       "336773     True\n",
       "336774     True\n",
       "336775     True\n",
       "Name: arr_time, Length: 336776, dtype: bool"
      ]
     },
     "execution_count": 119,
     "metadata": {},
     "output_type": "execute_result"
    }
   ],
   "source": [
    "flights_df[\"arr_time\"].isna()"
   ]
  },
  {
   "cell_type": "code",
   "execution_count": 125,
   "id": "8795b504-4e3f-4ff0-9db3-d4325f9d8d9a",
   "metadata": {},
   "outputs": [],
   "source": [
    "flights_df[\"is_canceled\"] = flights_df[\"arr_time\"].isna().apply(lambda x: True if x else False)"
   ]
  },
  {
   "cell_type": "code",
   "execution_count": 137,
   "id": "260b4c1c-1073-4f92-8b61-b1bcb2f7e170",
   "metadata": {},
   "outputs": [],
   "source": [
    "canceled_flights = flights_df.groupby(\"month\",as_index=True).sum()[\"is_canceled\"]"
   ]
  },
  {
   "cell_type": "code",
   "execution_count": 141,
   "id": "dddecd0b-62b0-4fa5-b4fe-6f660f48074c",
   "metadata": {},
   "outputs": [],
   "source": [
    "num_flights_per_month = flights_df.groupby(\"month\",as_index=True).size()"
   ]
  },
  {
   "cell_type": "code",
   "execution_count": 145,
   "id": "15504186-44eb-4146-b0a0-6fb076ad4f13",
   "metadata": {},
   "outputs": [],
   "source": [
    "canceled_flights_perc = canceled_flights*100 / num_flights_per_month"
   ]
  },
  {
   "cell_type": "code",
   "execution_count": 147,
   "id": "dbd1e0af-d1f8-4a72-9fc7-b77eec49d7fc",
   "metadata": {},
   "outputs": [
    {
     "data": {
      "text/plain": [
       "month\n",
       "1     1.984891\n",
       "2     5.174141\n",
       "3     3.090102\n",
       "4     2.506177\n",
       "5     2.087095\n",
       "6     3.795631\n",
       "7     3.544605\n",
       "8     1.725373\n",
       "9     1.827809\n",
       "10    0.854997\n",
       "11    0.927827\n",
       "12    3.763995\n",
       "dtype: float64"
      ]
     },
     "execution_count": 147,
     "metadata": {},
     "output_type": "execute_result"
    }
   ],
   "source": [
    "canceled_flights_perc"
   ]
  },
  {
   "cell_type": "code",
   "execution_count": 149,
   "id": "e7a773d6-bd4c-4f69-870f-6e2590f08212",
   "metadata": {},
   "outputs": [
    {
     "data": {
      "text/html": [
       "<div>\n",
       "<style scoped>\n",
       "    .dataframe tbody tr th:only-of-type {\n",
       "        vertical-align: middle;\n",
       "    }\n",
       "\n",
       "    .dataframe tbody tr th {\n",
       "        vertical-align: top;\n",
       "    }\n",
       "\n",
       "    .dataframe thead th {\n",
       "        text-align: right;\n",
       "    }\n",
       "</style>\n",
       "<table border=\"1\" class=\"dataframe\">\n",
       "  <thead>\n",
       "    <tr style=\"text-align: right;\">\n",
       "      <th>month</th>\n",
       "      <th>1</th>\n",
       "      <th>2</th>\n",
       "      <th>3</th>\n",
       "      <th>4</th>\n",
       "      <th>5</th>\n",
       "      <th>6</th>\n",
       "      <th>7</th>\n",
       "      <th>8</th>\n",
       "      <th>9</th>\n",
       "      <th>10</th>\n",
       "      <th>11</th>\n",
       "      <th>12</th>\n",
       "    </tr>\n",
       "    <tr>\n",
       "      <th>is_canceled</th>\n",
       "      <th></th>\n",
       "      <th></th>\n",
       "      <th></th>\n",
       "      <th></th>\n",
       "      <th></th>\n",
       "      <th></th>\n",
       "      <th></th>\n",
       "      <th></th>\n",
       "      <th></th>\n",
       "      <th></th>\n",
       "      <th></th>\n",
       "      <th></th>\n",
       "    </tr>\n",
       "  </thead>\n",
       "  <tbody>\n",
       "    <tr>\n",
       "      <th>False</th>\n",
       "      <td>26468</td>\n",
       "      <td>23660</td>\n",
       "      <td>27943</td>\n",
       "      <td>27620</td>\n",
       "      <td>28195</td>\n",
       "      <td>27171</td>\n",
       "      <td>28382</td>\n",
       "      <td>28821</td>\n",
       "      <td>27070</td>\n",
       "      <td>28642</td>\n",
       "      <td>27015</td>\n",
       "      <td>27076</td>\n",
       "    </tr>\n",
       "    <tr>\n",
       "      <th>True</th>\n",
       "      <td>536</td>\n",
       "      <td>1291</td>\n",
       "      <td>891</td>\n",
       "      <td>710</td>\n",
       "      <td>601</td>\n",
       "      <td>1072</td>\n",
       "      <td>1043</td>\n",
       "      <td>506</td>\n",
       "      <td>504</td>\n",
       "      <td>247</td>\n",
       "      <td>253</td>\n",
       "      <td>1059</td>\n",
       "    </tr>\n",
       "  </tbody>\n",
       "</table>\n",
       "</div>"
      ],
      "text/plain": [
       "month           1      2      3      4      5      6      7      8      9   \\\n",
       "is_canceled                                                                  \n",
       "False        26468  23660  27943  27620  28195  27171  28382  28821  27070   \n",
       "True           536   1291    891    710    601   1072   1043    506    504   \n",
       "\n",
       "month           10     11     12  \n",
       "is_canceled                       \n",
       "False        28642  27015  27076  \n",
       "True           247    253   1059  "
      ]
     },
     "execution_count": 149,
     "metadata": {},
     "output_type": "execute_result"
    }
   ],
   "source": [
    "flights_df.pivot_table(index=\"is_canceled\" , columns= \"month\",aggfunc=\"size\")"
   ]
  },
  {
   "cell_type": "code",
   "execution_count": 155,
   "id": "f6712ba0-abd0-42f8-bc7d-0564727bded3",
   "metadata": {},
   "outputs": [
    {
     "data": {
      "text/plain": [
       "<AxesSubplot:xlabel='month'>"
      ]
     },
     "execution_count": 155,
     "metadata": {},
     "output_type": "execute_result"
    },
    {
     "data": {
      "image/png": "[encoded data removed]",
      "text/plain": [
       "<Figure size 432x288 with 1 Axes>"
      ]
     },
     "metadata": {
      "needs_background": "light"
     },
     "output_type": "display_data"
    }
   ],
   "source": [
    "sns.barplot(x= canceled_flights_perc.index , y = canceled_flights_perc.values , color= \"#87ceeb\")"
   ]
  },
  {
   "cell_type": "markdown",
   "id": "1cda509a-5148-462d-a1af-b444de62308c",
   "metadata": {},
   "source": [
    "##### b) What plane (specified by the tailnum variable) traveled the most times from New York City airports in 2013? Plot the number of trips per week over the year."
   ]
  },
  {
   "cell_type": "code",
   "execution_count": 163,
   "id": "f2046cca-d16f-4360-9104-2b5d96520ff6",
   "metadata": {},
   "outputs": [
    {
     "data": {
      "text/html": [
       "<div>\n",
       "<style scoped>\n",
       "    .dataframe tbody tr th:only-of-type {\n",
       "        vertical-align: middle;\n",
       "    }\n",
       "\n",
       "    .dataframe tbody tr th {\n",
       "        vertical-align: top;\n",
       "    }\n",
       "\n",
       "    .dataframe thead th {\n",
       "        text-align: right;\n",
       "    }\n",
       "</style>\n",
       "<table border=\"1\" class=\"dataframe\">\n",
       "  <thead>\n",
       "    <tr style=\"text-align: right;\">\n",
       "      <th></th>\n",
       "      <th>year</th>\n",
       "      <th>month</th>\n",
       "      <th>day</th>\n",
       "      <th>dep_time</th>\n",
       "      <th>sched_dep_time</th>\n",
       "      <th>dep_delay</th>\n",
       "      <th>arr_time</th>\n",
       "      <th>sched_arr_time</th>\n",
       "      <th>arr_delay</th>\n",
       "      <th>carrier</th>\n",
       "      <th>flight</th>\n",
       "      <th>tailnum</th>\n",
       "      <th>origin</th>\n",
       "      <th>dest</th>\n",
       "      <th>air_time</th>\n",
       "      <th>distance</th>\n",
       "      <th>hour</th>\n",
       "      <th>minute</th>\n",
       "      <th>time_hour</th>\n",
       "      <th>is_canceled</th>\n",
       "    </tr>\n",
       "  </thead>\n",
       "  <tbody>\n",
       "    <tr>\n",
       "      <th>0</th>\n",
       "      <td>2013</td>\n",
       "      <td>1</td>\n",
       "      <td>1</td>\n",
       "      <td>517.0</td>\n",
       "      <td>515</td>\n",
       "      <td>2.0</td>\n",
       "      <td>830.0</td>\n",
       "      <td>819</td>\n",
       "      <td>11.0</td>\n",
       "      <td>UA</td>\n",
       "      <td>1545</td>\n",
       "      <td>N14228</td>\n",
       "      <td>EWR</td>\n",
       "      <td>IAH</td>\n",
       "      <td>227.0</td>\n",
       "      <td>1400</td>\n",
       "      <td>5</td>\n",
       "      <td>15</td>\n",
       "      <td>2013-01-01 05:00:00</td>\n",
       "      <td>False</td>\n",
       "    </tr>\n",
       "    <tr>\n",
       "      <th>1</th>\n",
       "      <td>2013</td>\n",
       "      <td>1</td>\n",
       "      <td>1</td>\n",
       "      <td>533.0</td>\n",
       "      <td>529</td>\n",
       "      <td>4.0</td>\n",
       "      <td>850.0</td>\n",
       "      <td>830</td>\n",
       "      <td>20.0</td>\n",
       "      <td>UA</td>\n",
       "      <td>1714</td>\n",
       "      <td>N24211</td>\n",
       "      <td>LGA</td>\n",
       "      <td>IAH</td>\n",
       "      <td>227.0</td>\n",
       "      <td>1416</td>\n",
       "      <td>5</td>\n",
       "      <td>29</td>\n",
       "      <td>2013-01-01 05:00:00</td>\n",
       "      <td>False</td>\n",
       "    </tr>\n",
       "    <tr>\n",
       "      <th>2</th>\n",
       "      <td>2013</td>\n",
       "      <td>1</td>\n",
       "      <td>1</td>\n",
       "      <td>542.0</td>\n",
       "      <td>540</td>\n",
       "      <td>2.0</td>\n",
       "      <td>923.0</td>\n",
       "      <td>850</td>\n",
       "      <td>33.0</td>\n",
       "      <td>AA</td>\n",
       "      <td>1141</td>\n",
       "      <td>N619AA</td>\n",
       "      <td>JFK</td>\n",
       "      <td>MIA</td>\n",
       "      <td>160.0</td>\n",
       "      <td>1089</td>\n",
       "      <td>5</td>\n",
       "      <td>40</td>\n",
       "      <td>2013-01-01 05:00:00</td>\n",
       "      <td>False</td>\n",
       "    </tr>\n",
       "    <tr>\n",
       "      <th>3</th>\n",
       "      <td>2013</td>\n",
       "      <td>1</td>\n",
       "      <td>1</td>\n",
       "      <td>544.0</td>\n",
       "      <td>545</td>\n",
       "      <td>-1.0</td>\n",
       "      <td>1004.0</td>\n",
       "      <td>1022</td>\n",
       "      <td>-18.0</td>\n",
       "      <td>B6</td>\n",
       "      <td>725</td>\n",
       "      <td>N804JB</td>\n",
       "      <td>JFK</td>\n",
       "      <td>BQN</td>\n",
       "      <td>183.0</td>\n",
       "      <td>1576</td>\n",
       "      <td>5</td>\n",
       "      <td>45</td>\n",
       "      <td>2013-01-01 05:00:00</td>\n",
       "      <td>False</td>\n",
       "    </tr>\n",
       "    <tr>\n",
       "      <th>4</th>\n",
       "      <td>2013</td>\n",
       "      <td>1</td>\n",
       "      <td>1</td>\n",
       "      <td>554.0</td>\n",
       "      <td>600</td>\n",
       "      <td>-6.0</td>\n",
       "      <td>812.0</td>\n",
       "      <td>837</td>\n",
       "      <td>-25.0</td>\n",
       "      <td>DL</td>\n",
       "      <td>461</td>\n",
       "      <td>N668DN</td>\n",
       "      <td>LGA</td>\n",
       "      <td>ATL</td>\n",
       "      <td>116.0</td>\n",
       "      <td>762</td>\n",
       "      <td>6</td>\n",
       "      <td>0</td>\n",
       "      <td>2013-01-01 06:00:00</td>\n",
       "      <td>False</td>\n",
       "    </tr>\n",
       "    <tr>\n",
       "      <th>...</th>\n",
       "      <td>...</td>\n",
       "      <td>...</td>\n",
       "      <td>...</td>\n",
       "      <td>...</td>\n",
       "      <td>...</td>\n",
       "      <td>...</td>\n",
       "      <td>...</td>\n",
       "      <td>...</td>\n",
       "      <td>...</td>\n",
       "      <td>...</td>\n",
       "      <td>...</td>\n",
       "      <td>...</td>\n",
       "      <td>...</td>\n",
       "      <td>...</td>\n",
       "      <td>...</td>\n",
       "      <td>...</td>\n",
       "      <td>...</td>\n",
       "      <td>...</td>\n",
       "      <td>...</td>\n",
       "      <td>...</td>\n",
       "    </tr>\n",
       "    <tr>\n",
       "      <th>336771</th>\n",
       "      <td>2013</td>\n",
       "      <td>9</td>\n",
       "      <td>30</td>\n",
       "      <td>NaN</td>\n",
       "      <td>1455</td>\n",
       "      <td>NaN</td>\n",
       "      <td>NaN</td>\n",
       "      <td>1634</td>\n",
       "      <td>NaN</td>\n",
       "      <td>9E</td>\n",
       "      <td>3393</td>\n",
       "      <td>NaN</td>\n",
       "      <td>JFK</td>\n",
       "      <td>DCA</td>\n",
       "      <td>NaN</td>\n",
       "      <td>213</td>\n",
       "      <td>14</td>\n",
       "      <td>55</td>\n",
       "      <td>2013-09-30 14:00:00</td>\n",
       "      <td>True</td>\n",
       "    </tr>\n",
       "    <tr>\n",
       "      <th>336772</th>\n",
       "      <td>2013</td>\n",
       "      <td>9</td>\n",
       "      <td>30</td>\n",
       "      <td>NaN</td>\n",
       "      <td>2200</td>\n",
       "      <td>NaN</td>\n",
       "      <td>NaN</td>\n",
       "      <td>2312</td>\n",
       "      <td>NaN</td>\n",
       "      <td>9E</td>\n",
       "      <td>3525</td>\n",
       "      <td>NaN</td>\n",
       "      <td>LGA</td>\n",
       "      <td>SYR</td>\n",
       "      <td>NaN</td>\n",
       "      <td>198</td>\n",
       "      <td>22</td>\n",
       "      <td>0</td>\n",
       "      <td>2013-09-30 22:00:00</td>\n",
       "      <td>True</td>\n",
       "    </tr>\n",
       "    <tr>\n",
       "      <th>336773</th>\n",
       "      <td>2013</td>\n",
       "      <td>9</td>\n",
       "      <td>30</td>\n",
       "      <td>NaN</td>\n",
       "      <td>1210</td>\n",
       "      <td>NaN</td>\n",
       "      <td>NaN</td>\n",
       "      <td>1330</td>\n",
       "      <td>NaN</td>\n",
       "      <td>MQ</td>\n",
       "      <td>3461</td>\n",
       "      <td>N535MQ</td>\n",
       "      <td>LGA</td>\n",
       "      <td>BNA</td>\n",
       "      <td>NaN</td>\n",
       "      <td>764</td>\n",
       "      <td>12</td>\n",
       "      <td>10</td>\n",
       "      <td>2013-09-30 12:00:00</td>\n",
       "      <td>True</td>\n",
       "    </tr>\n",
       "    <tr>\n",
       "      <th>336774</th>\n",
       "      <td>2013</td>\n",
       "      <td>9</td>\n",
       "      <td>30</td>\n",
       "      <td>NaN</td>\n",
       "      <td>1159</td>\n",
       "      <td>NaN</td>\n",
       "      <td>NaN</td>\n",
       "      <td>1344</td>\n",
       "      <td>NaN</td>\n",
       "      <td>MQ</td>\n",
       "      <td>3572</td>\n",
       "      <td>N511MQ</td>\n",
       "      <td>LGA</td>\n",
       "      <td>CLE</td>\n",
       "      <td>NaN</td>\n",
       "      <td>419</td>\n",
       "      <td>11</td>\n",
       "      <td>59</td>\n",
       "      <td>2013-09-30 11:00:00</td>\n",
       "      <td>True</td>\n",
       "    </tr>\n",
       "    <tr>\n",
       "      <th>336775</th>\n",
       "      <td>2013</td>\n",
       "      <td>9</td>\n",
       "      <td>30</td>\n",
       "      <td>NaN</td>\n",
       "      <td>840</td>\n",
       "      <td>NaN</td>\n",
       "      <td>NaN</td>\n",
       "      <td>1020</td>\n",
       "      <td>NaN</td>\n",
       "      <td>MQ</td>\n",
       "      <td>3531</td>\n",
       "      <td>N839MQ</td>\n",
       "      <td>LGA</td>\n",
       "      <td>RDU</td>\n",
       "      <td>NaN</td>\n",
       "      <td>431</td>\n",
       "      <td>8</td>\n",
       "      <td>40</td>\n",
       "      <td>2013-09-30 08:00:00</td>\n",
       "      <td>True</td>\n",
       "    </tr>\n",
       "  </tbody>\n",
       "</table>\n",
       "<p>336776 rows × 20 columns</p>\n",
       "</div>"
      ],
      "text/plain": [
       "        year  month  day  dep_time  sched_dep_time  dep_delay  arr_time  \\\n",
       "0       2013      1    1     517.0             515        2.0     830.0   \n",
       "1       2013      1    1     533.0             529        4.0     850.0   \n",
       "2       2013      1    1     542.0             540        2.0     923.0   \n",
       "3       2013      1    1     544.0             545       -1.0    1004.0   \n",
       "4       2013      1    1     554.0             600       -6.0     812.0   \n",
       "...      ...    ...  ...       ...             ...        ...       ...   \n",
       "336771  2013      9   30       NaN            1455        NaN       NaN   \n",
       "336772  2013      9   30       NaN            2200        NaN       NaN   \n",
       "336773  2013      9   30       NaN            1210        NaN       NaN   \n",
       "336774  2013      9   30       NaN            1159        NaN       NaN   \n",
       "336775  2013      9   30       NaN             840        NaN       NaN   \n",
       "\n",
       "        sched_arr_time  arr_delay carrier  flight tailnum origin dest  \\\n",
       "0                  819       11.0      UA    1545  N14228    EWR  IAH   \n",
       "1                  830       20.0      UA    1714  N24211    LGA  IAH   \n",
       "2                  850       33.0      AA    1141  N619AA    JFK  MIA   \n",
       "3                 1022      -18.0      B6     725  N804JB    JFK  BQN   \n",
       "4                  837      -25.0      DL     461  N668DN    LGA  ATL   \n",
       "...                ...        ...     ...     ...     ...    ...  ...   \n",
       "336771            1634        NaN      9E    3393     NaN    JFK  DCA   \n",
       "336772            2312        NaN      9E    3525     NaN    LGA  SYR   \n",
       "336773            1330        NaN      MQ    3461  N535MQ    LGA  BNA   \n",
       "336774            1344        NaN      MQ    3572  N511MQ    LGA  CLE   \n",
       "336775            1020        NaN      MQ    3531  N839MQ    LGA  RDU   \n",
       "\n",
       "        air_time  distance  hour  minute            time_hour  is_canceled  \n",
       "0          227.0      1400     5      15  2013-01-01 05:00:00        False  \n",
       "1          227.0      1416     5      29  2013-01-01 05:00:00        False  \n",
       "2          160.0      1089     5      40  2013-01-01 05:00:00        False  \n",
       "3          183.0      1576     5      45  2013-01-01 05:00:00        False  \n",
       "4          116.0       762     6       0  2013-01-01 06:00:00        False  \n",
       "...          ...       ...   ...     ...                  ...          ...  \n",
       "336771       NaN       213    14      55  2013-09-30 14:00:00         True  \n",
       "336772       NaN       198    22       0  2013-09-30 22:00:00         True  \n",
       "336773       NaN       764    12      10  2013-09-30 12:00:00         True  \n",
       "336774       NaN       419    11      59  2013-09-30 11:00:00         True  \n",
       "336775       NaN       431     8      40  2013-09-30 08:00:00         True  \n",
       "\n",
       "[336776 rows x 20 columns]"
      ]
     },
     "execution_count": 163,
     "metadata": {},
     "output_type": "execute_result"
    }
   ],
   "source": [
    "flights_df"
   ]
  },
  {
   "cell_type": "code",
   "execution_count": 164,
   "id": "5a88fce5-882b-41f1-bc95-cba01df9f724",
   "metadata": {},
   "outputs": [],
   "source": [
    "flights_df[\"date\"] = pd.to_datetime(flights_df[[\"year\" , \"month\" , \"day\"]])"
   ]
  },
  {
   "cell_type": "code",
   "execution_count": 160,
   "id": "d1bb5a2f-97b7-42de-8272-7d12edf7bad1",
   "metadata": {},
   "outputs": [
    {
     "data": {
      "text/plain": [
       "array(['EWR', 'LGA', 'JFK'], dtype=object)"
      ]
     },
     "execution_count": 160,
     "metadata": {},
     "output_type": "execute_result"
    }
   ],
   "source": [
    "flights_df[\"origin\"].unique()"
   ]
  },
  {
   "cell_type": "code",
   "execution_count": 161,
   "id": "2cd43a3a-7dfc-46cf-81de-225adb354488",
   "metadata": {},
   "outputs": [],
   "source": [
    "# LaGuardia and John F. Kennedy airports both in NYC"
   ]
  },
  {
   "cell_type": "code",
   "execution_count": 175,
   "id": "05c1fe71-5ccd-48e3-80c4-b4795c45f4a8",
   "metadata": {},
   "outputs": [],
   "source": [
    "flights_df_2013 = flights_df[(flights_df[\"date\"] >= \"2013\") & (flights_df[\"date\"] < \"2014\") ]"
   ]
  },
  {
   "cell_type": "code",
   "execution_count": 184,
   "id": "5026ef7a-2f39-49fa-a267-6818ddef4a0b",
   "metadata": {},
   "outputs": [
    {
     "data": {
      "text/plain": [
       "tailnum\n",
       "N725MQ    575\n",
       "dtype: int64"
      ]
     },
     "execution_count": 184,
     "metadata": {},
     "output_type": "execute_result"
    }
   ],
   "source": [
    "(flights_df_2013[(flights_df_2013[\"origin\"] == \"LGA\" ) | (flights_df_2013[\"origin\"] == \"JFK\" )]\n",
    " .groupby(\"tailnum\")\n",
    " .size()\n",
    ".sort_values(ascending=False)\n",
    ".nlargest(1))"
   ]
  },
  {
   "cell_type": "code",
   "execution_count": 192,
   "id": "cc3564e8-cc01-4ac2-8b82-b1aa404263c7",
   "metadata": {},
   "outputs": [],
   "source": [
    "### flights per week for all planes\n",
    "flights_df_2013[\"week_of_year\"] = flights_df_2013 [\"date\"].dt.isocalendar().week"
   ]
  },
  {
   "cell_type": "code",
   "execution_count": 194,
   "id": "e6b6e057-0ffc-46e7-b989-a45d39fd231f",
   "metadata": {},
   "outputs": [],
   "source": [
    "flights_per_week = flights_df_2013.groupby(\"week_of_year\").size()"
   ]
  },
  {
   "cell_type": "code",
   "execution_count": 240,
   "id": "c48c6532-4422-4bf9-8800-8efa6b0968a1",
   "metadata": {},
   "outputs": [
    {
     "data": {
      "image/png": "[encoded data removed]",
      "text/plain": [
       "<Figure size 720x360 with 1 Axes>"
      ]
     },
     "metadata": {
      "needs_background": "light"
     },
     "output_type": "display_data"
    }
   ],
   "source": [
    "fig , ax = plt.subplots(ncols=1 , nrows = 1,figsize = (10,5))\n",
    "ax = sns.barplot(x = flights_per_week.index , y = flights_per_week.values)\n",
    "ax.set_xticklabels(ax.get_xticklabels(),rotation = 90);\n",
    "ax.set_title(\"Flights per week for all planes\" ,fontdict={\"size\" : 20});\n",
    "ax.set_xlabel(\"Week Number\")\n",
    "ax.set_yticks(range(0,int(ax.get_yticks()[-1]),1000));\n",
    "ax.set_ylabel(\"Number of flights\");\n",
    "ax.set_xticks(range(0,ax.get_xticks()[-1], 2));"
   ]
  },
  {
   "cell_type": "code",
   "execution_count": 206,
   "id": "066797a2-3e76-4504-965f-c4fed9d4da92",
   "metadata": {},
   "outputs": [],
   "source": [
    "### flights per week for N725MQ\n",
    "temp = flights_df_2013[flights_df_2013[\"tailnum\"] == \"N725MQ\"].groupby(\"week_of_year\").size()"
   ]
  },
  {
   "cell_type": "code",
   "execution_count": 234,
   "id": "f91b0871-d6af-4c99-a6f3-dcea3959343f",
   "metadata": {},
   "outputs": [
    {
     "data": {
      "image/png": "[encoded data removed]",
      "text/plain": [
       "<Figure size 720x360 with 1 Axes>"
      ]
     },
     "metadata": {
      "needs_background": "light"
     },
     "output_type": "display_data"
    }
   ],
   "source": [
    "fig , ax = plt.subplots(ncols=1 , nrows = 1,figsize = (10,5))\n",
    "ax = sns.barplot(x = temp.index , y = temp.values)\n",
    "ax.set_xticklabels(ax.get_xticklabels(),rotation = 90);\n",
    "ax.set_title(\"Flights per week for N725MQ\" ,fontdict={\"size\" : 20});\n",
    "ax.set_xlabel(\"Week Number\")\n",
    "ax.set_yticks(range(0,22,2));\n",
    "ax.set_ylabel(\"Number of flights\");\n",
    "ax.set_xticks(range(0,ax.get_xticks()[-1], 2));\n",
    "# ax.set_xticklabels([\"do\" , \"Se\" ],rotation = 90);\n"
   ]
  },
  {
   "cell_type": "markdown",
   "id": "8066f094-c423-4741-9205-fb955bb3e32a",
   "metadata": {
    "tags": []
   },
   "source": [
    "##### c) Download theuniqueane data from [ https://github.com/MapsaBootCamp/useful_datasets/blob/master/structuralData/planes.csv ]. Use the flights and planes tables to answer the following questions: What is the oldest plane (specified by the tailnum variable) that flew from New York City airports in 2013? How many airplanes that flew from New York City are included in the planes table?"
   ]
  },
  {
   "cell_type": "code",
   "execution_count": 241,
   "id": "783c8a6a-6f51-4d38-bc76-2b28454f88db",
   "metadata": {},
   "outputs": [],
   "source": [
    "planes_df = pd.read_csv(\"planes.csv\")"
   ]
  },
  {
   "cell_type": "code",
   "execution_count": 255,
   "id": "13268a81-fa48-4da2-8890-c0a5c4bc1242",
   "metadata": {},
   "outputs": [],
   "source": [
    "flights_from_nyc = flights_df_2013[(flights_df_2013[\"origin\"] == \"LGA\" ) | (flights_df_2013[\"origin\"] == \"JFK\" )] "
   ]
  },
  {
   "cell_type": "code",
   "execution_count": 256,
   "id": "d540cb12-3d56-44e6-9286-2d2d616b4511",
   "metadata": {},
   "outputs": [
    {
     "data": {
      "text/plain": [
       "index                              152304\n",
       "year_x                               2013\n",
       "month                                   1\n",
       "day                                    30\n",
       "dep_time                            741.0\n",
       "sched_dep_time                        745\n",
       "dep_delay                            -4.0\n",
       "arr_time                           1059.0\n",
       "sched_arr_time                       1125\n",
       "arr_delay                           -26.0\n",
       "carrier                                AA\n",
       "flight                                 59\n",
       "tailnum                            N381AA\n",
       "origin                                JFK\n",
       "dest                                  SFO\n",
       "air_time                            350.0\n",
       "distance                             2586\n",
       "hour                                    7\n",
       "minute                                 45\n",
       "time_hour             2013-01-30 07:00:00\n",
       "is_canceled                         False\n",
       "date                  2013-01-30 00:00:00\n",
       "week_of_year                            5\n",
       "year_y                             1956.0\n",
       "type              Fixed wing multi engine\n",
       "manufacturer                      DOUGLAS\n",
       "model                              DC-7BF\n",
       "engines                                 4\n",
       "seats                                 102\n",
       "speed                               232.0\n",
       "engine                      Reciprocating\n",
       "Name: 0, dtype: object"
      ]
     },
     "execution_count": 256,
     "metadata": {},
     "output_type": "execute_result"
    }
   ],
   "source": [
    "# Oldest plane from NYC:\n",
    "(pd.merge(flights_from_nyc, planes_df, how = \"inner\" , on = \"tailnum\")\n",
    " .sort_values(by = \"year_y\")\n",
    " .reset_index()\n",
    " .loc[0])"
   ]
  },
  {
   "cell_type": "code",
   "execution_count": 257,
   "id": "4071120d-9e43-4038-8086-04f1837afc2e",
   "metadata": {},
   "outputs": [
    {
     "data": {
      "text/plain": [
       "3591"
      ]
     },
     "execution_count": 257,
     "metadata": {},
     "output_type": "execute_result"
    }
   ],
   "source": [
    "# All planes from nyc\n",
    "flights_from_nyc.tailnum.nunique()"
   ]
  },
  {
   "cell_type": "code",
   "execution_count": 258,
   "id": "6837bed5-bc19-46d7-8a67-42995769a948",
   "metadata": {},
   "outputs": [
    {
     "data": {
      "text/plain": [
       "2888"
      ]
     },
     "execution_count": 258,
     "metadata": {},
     "output_type": "execute_result"
    }
   ],
   "source": [
    "# How many airplanes that flew from New York City are included in the planes table?\n",
    "pd.merge(flights_from_nyc, planes_df, how = \"inner\" , on = \"tailnum\").tailnum.nunique()"
   ]
  },
  {
   "cell_type": "markdown",
   "id": "20d6d704-57ad-403b-9b2b-99e6b21a3c0a",
   "metadata": {},
   "source": [
    "##### d) Use the flights and planes tables to answer the following questions: How many planes have a missing date of manufacture? What are the five most common manufacturers (Note: pay close attention to the same manufacturer being represented multiple times)? Has the distribution of manufacturer changed over time as reflected by the airplanes flying from NYC in 2013? Produce a plot that backs up your claim."
   ]
  },
  {
   "cell_type": "code",
   "execution_count": 9,
   "id": "239ffd7f-5106-4d69-bb9e-d7bd608827b9",
   "metadata": {},
   "outputs": [],
   "source": [
    "#TODO"
   ]
  },
  {
   "cell_type": "markdown",
   "id": "30cf6379-efa0-42fc-bf77-7b355c306f03",
   "metadata": {},
   "source": [
    "##\n",
    "<span style=\"font-wight:bold;font-size:20px\">3. Regular Expressions:</span> Write a regular expression to match patterns in the following strings. Demonstrate\n",
    "that your regular expression indeed matched that pattern by including codes and results."
   ]
  },
  {
   "cell_type": "markdown",
   "id": "dd803993-9326-4b85-b281-b444350f2380",
   "metadata": {},
   "source": [
    "##### a) We have a list vText as follows. Write a regular expression that matches g, og, go or ogo in vText and replace the matches with ‘.’."
   ]
  },
  {
   "cell_type": "code",
   "execution_count": 11,
   "id": "14e6e3e2-33a1-40cc-9d17-9fd9222bd865",
   "metadata": {},
   "outputs": [],
   "source": [
    "vText = ['google','logo','dig', 'blog', 'boogie']"
   ]
  },
  {
   "cell_type": "code",
   "execution_count": 12,
   "id": "991d0849-7fbd-4e56-a020-a783cd649d7e",
   "metadata": {},
   "outputs": [],
   "source": [
    "#TODO"
   ]
  },
  {
   "cell_type": "markdown",
   "id": "506dd8e8-b32b-42b3-897d-0fc574b6484c",
   "metadata": {},
   "source": [
    "##### b) Replace only the 5 or 6 digit numbers with the word “found” in the following list. Please make sure that 3, 4, or 7 digit numbers do not get changed."
   ]
  },
  {
   "cell_type": "code",
   "execution_count": 13,
   "id": "8b95b018-82e2-400d-a288-d68a1c019f2b",
   "metadata": {},
   "outputs": [],
   "source": [
    "vPhone = ['874','6783','345345', '32120', '468349', '8149674']"
   ]
  },
  {
   "cell_type": "code",
   "execution_count": 14,
   "id": "5ac59c7f-6687-466d-ad19-833f2e6da9c1",
   "metadata": {},
   "outputs": [],
   "source": [
    "#TODO"
   ]
  },
  {
   "cell_type": "markdown",
   "id": "dd7787da-c76a-46ce-839c-f31a0acbe1db",
   "metadata": {},
   "source": [
    "##### c) Replace all the characters that are not among the 26 English characters or a space. Please replace with an empty spring."
   ]
  },
  {
   "cell_type": "code",
   "execution_count": 15,
   "id": "772d5f4a-fd83-4bab-96c1-18f5f4c18e60",
   "metadata": {},
   "outputs": [],
   "source": [
    "myText = \"#y%o$u @g!o*t t9h(e) so#lu!tio$n c%or_r+e%ct\""
   ]
  },
  {
   "cell_type": "code",
   "execution_count": 16,
   "id": "d1372291-d85b-49a4-b919-e2b6d62cc607",
   "metadata": {},
   "outputs": [],
   "source": [
    "#TODO"
   ]
  },
  {
   "cell_type": "markdown",
   "id": "830d18d6-a556-4da1-ac68-76f2b268d08e",
   "metadata": {},
   "source": [
    "##### d) In the following text, replace all the words that are exactly 3 or 4 characters long with triple dots ‘. . . ’"
   ]
  },
  {
   "cell_type": "code",
   "execution_count": 17,
   "id": "676266d1-8ea0-4edd-b9df-6e2f46de6e26",
   "metadata": {},
   "outputs": [],
   "source": [
    "myText = \"Each of the three and four character words will be gone now\""
   ]
  },
  {
   "cell_type": "code",
   "execution_count": 18,
   "id": "0e2cce50-9269-4239-a064-e0f5de78c5f7",
   "metadata": {},
   "outputs": [],
   "source": [
    "#TODO"
   ]
  },
  {
   "cell_type": "markdown",
   "id": "9e069cf8-63ec-4fd5-8d01-3e000533881f",
   "metadata": {},
   "source": [
    "##### e) Extract all the three numbers embedded in the following text."
   ]
  },
  {
   "cell_type": "code",
   "execution_count": 19,
   "id": "391276cb-b8f3-406b-a017-8c4312f9253a",
   "metadata": {},
   "outputs": [],
   "source": [
    "bigText = 'There are four 20@14 numbers hid989den in the 500 texts'"
   ]
  },
  {
   "cell_type": "code",
   "execution_count": 20,
   "id": "f696810d-aff0-4c4b-a134-c91ce4d229f1",
   "metadata": {},
   "outputs": [],
   "source": [
    "#TODO"
   ]
  },
  {
   "cell_type": "markdown",
   "id": "9c2de3bc-7b9d-4292-a998-1a3c5594ec53",
   "metadata": {},
   "source": [
    "##### f) Extract all the words between parenthesis from the following string text and count number of words."
   ]
  },
  {
   "cell_type": "code",
   "execution_count": 21,
   "id": "ff687571-8659-4e98-8229-d3ba642b7c96",
   "metadata": {},
   "outputs": [],
   "source": [
    "myText = 'The salries are reported (in millions) for every company.'"
   ]
  },
  {
   "cell_type": "code",
   "execution_count": 22,
   "id": "e3599ecf-eec1-4374-88d4-b9d6df53287a",
   "metadata": {},
   "outputs": [],
   "source": [
    "#TODO"
   ]
  },
  {
   "cell_type": "markdown",
   "id": "adb63503-1385-4ce4-b711-1c74af77ae9d",
   "metadata": {},
   "source": [
    "##### g) Extract the texts in between _ and dot(.) in the following list. Your output should be ‘bill’, ‘pay’, ‘fine-book’."
   ]
  },
  {
   "cell_type": "code",
   "execution_count": 23,
   "id": "138531b1-b467-4da4-be01-d43d45a332e9",
   "metadata": {},
   "outputs": [],
   "source": [
    "myText = [\"H_bill.xls\", \"Big_H_pay.xls\", \"Use_case_fine-book.pdf\"]"
   ]
  },
  {
   "cell_type": "code",
   "execution_count": 24,
   "id": "4acc9d49-f77e-41b0-9676-2d9ad09afba3",
   "metadata": {},
   "outputs": [],
   "source": [
    "#TODO"
   ]
  },
  {
   "cell_type": "markdown",
   "id": "c636aab9-20ea-4895-a589-7bff34f6d8ea",
   "metadata": {},
   "source": [
    "##### h) Extract the numbers (return only integers) that are followed by the units ‘ml’ or ‘lb’ in the following text."
   ]
  },
  {
   "cell_type": "code",
   "execution_count": 25,
   "id": "2fde1405-5b94-4775-82f3-3708dbb02b34",
   "metadata": {},
   "outputs": [],
   "source": [
    "myText = 'Received 10 apples with 200ml water at 8pm with 15 lb meat and 2lb salt'"
   ]
  },
  {
   "cell_type": "code",
   "execution_count": 26,
   "id": "9a920c6c-8156-43cf-912e-18287a6b5205",
   "metadata": {},
   "outputs": [],
   "source": [
    "#TODO"
   ]
  },
  {
   "cell_type": "markdown",
   "id": "c730900e-5d30-490c-b53e-1ab271d84041",
   "metadata": {},
   "source": [
    "##### i) Extract only the word in between pair of symbols \\\\$. Count number of words you have found between pairs of dollar sign \\\\$"
   ]
  },
  {
   "cell_type": "code",
   "execution_count": 27,
   "id": "79220ba1-6eac-4aab-8e3b-3c1455677551",
   "metadata": {},
   "outputs": [],
   "source": [
    "myText = 'Math symbols are $written$ in $between$ dollar $signs$'"
   ]
  },
  {
   "cell_type": "code",
   "execution_count": 28,
   "id": "20daf141-048f-4244-abde-e339efde03a6",
   "metadata": {},
   "outputs": [],
   "source": [
    "#TODO"
   ]
  },
  {
   "cell_type": "markdown",
   "id": "c7d17049-c284-4f51-9293-82cf84c1f331",
   "metadata": {},
   "source": [
    "##### j) Extract all the valid equations in the following text."
   ]
  },
  {
   "cell_type": "code",
   "execution_count": 29,
   "id": "cb1d7f28-d7be-4130-9c95-ea304bf3aa9b",
   "metadata": {},
   "outputs": [],
   "source": [
    "myText = 'equation1: 2+3=5, equation2 is: 2*3=6, do not extract 2w3=6'"
   ]
  },
  {
   "cell_type": "code",
   "execution_count": 30,
   "id": "63537259-79b1-4c38-b4db-526dfd2d6735",
   "metadata": {},
   "outputs": [],
   "source": [
    "#TODO"
   ]
  }
 ],
 "metadata": {
  "kernelspec": {
   "display_name": "Python 3",
   "language": "python",
   "name": "python3"
  },
  "language_info": {
   "codemirror_mode": {
    "name": "ipython",
    "version": 3
   },
   "file_extension": ".py",
   "mimetype": "text/x-python",
   "name": "python",
   "nbconvert_exporter": "python",
   "pygments_lexer": "ipython3",
   "version": "3.9.7"
  }
 },
 "nbformat": 4,
 "nbformat_minor": 5
}
