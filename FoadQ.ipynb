{
 "cells": [
  {
   "cell_type": "markdown",
   "metadata": {
    "id": "iQOlJypPLioI"
   },
   "source": [
    "linux\n",
    "\n",
    "1- با چه دستوری مسیر پایتون را پیدا کنیم\n",
    "\n",
    "python -c \"import sys; print(sys.path)\"\n",
    "\n",
    "\n",
    "2- با چه دستوری از نوع فایل مطمین میشبم\n",
    "\n",
    "file filename\n",
    "\n",
    "\n",
    "3-منظور از اعداد نشان داده شده بعد از زدت دستور زیر چیست\n",
    "???\n",
    "\n",
    "\n",
    "4- دستوری که دایرکتوری بسازد که درون آن یک دایرکتوری دیگر هم هست\n",
    "\n",
    "mkdir -p name/{name1, name2, .... }\n",
    "\n",
    "\n",
    "5- با چه دستوری فایل بالا را به صورت ریکرسیو پاک می کنید\n",
    "\n",
    "\n",
    "\n",
    "6- با چه کامتد هایی میتوان فایل را خواند \n",
    "\n",
    "cat command \n",
    "less command\n",
    "more command\n",
    "gnome-open command\n",
    "\n",
    "\n",
    "7- برای تعقیب تعییرات یک فایل چه دستوری را پیشنهاد میدهید\n",
    "\n",
    "stat filename\n",
    "\n",
    "\n",
    "8- معادل دستورپرینت در بش چیست \n",
    " lp and lpr command\n"
   ]
  },
  {
   "cell_type": "code",
   "execution_count": null,
   "metadata": {},
   "outputs": [],
   "source": [
    "python -c \"import sys; print(sys.path)\""
   ]
  },
  {
   "cell_type": "code",
   "execution_count": null,
   "metadata": {},
   "outputs": [],
   "source": []
  },
  {
   "cell_type": "code",
   "execution_count": null,
   "metadata": {},
   "outputs": [],
   "source": []
  },
  {
   "cell_type": "code",
   "execution_count": null,
   "metadata": {},
   "outputs": [],
   "source": []
  },
  {
   "cell_type": "code",
   "execution_count": null,
   "metadata": {
    "id": "PauCK6aWR6uf"
   },
   "outputs": [],
   "source": [
    "import pandas as pd\n",
    "import numpy as np\n",
    "# import sandatetime\n",
    "import datetime \n",
    "import matplotlib.pyplot as plt\n",
    "from scipy import stats\n",
    "import plotly.express as px \n",
    "import glob\n",
    "import warnings\n",
    "\n",
    "from tensorflow import keras\n",
    "import tensorflow as tf\n"
   ]
  },
  {
   "cell_type": "code",
   "execution_count": 2,
   "metadata": {},
   "outputs": [],
   "source": [
    "df=pd.read_csv('cardi.csv' ,index_col='id')\n"
   ]
  },
  {
   "cell_type": "code",
   "execution_count": 5,
   "metadata": {},
   "outputs": [
    {
     "data": {
      "text/html": [
       "<div>\n",
       "<style scoped>\n",
       "    .dataframe tbody tr th:only-of-type {\n",
       "        vertical-align: middle;\n",
       "    }\n",
       "\n",
       "    .dataframe tbody tr th {\n",
       "        vertical-align: top;\n",
       "    }\n",
       "\n",
       "    .dataframe thead th {\n",
       "        text-align: right;\n",
       "    }\n",
       "</style>\n",
       "<table border=\"1\" class=\"dataframe\">\n",
       "  <thead>\n",
       "    <tr style=\"text-align: right;\">\n",
       "      <th></th>\n",
       "      <th>age</th>\n",
       "      <th>gender</th>\n",
       "      <th>height</th>\n",
       "      <th>weight</th>\n",
       "      <th>ap_hi</th>\n",
       "      <th>ap_lo</th>\n",
       "      <th>cholesterol</th>\n",
       "      <th>gluc</th>\n",
       "      <th>smoke</th>\n",
       "      <th>alco</th>\n",
       "      <th>active</th>\n",
       "      <th>cardio</th>\n",
       "    </tr>\n",
       "  </thead>\n",
       "  <tbody>\n",
       "    <tr>\n",
       "      <th>count</th>\n",
       "      <td>70000.000000</td>\n",
       "      <td>70000.000000</td>\n",
       "      <td>70000.000000</td>\n",
       "      <td>70000.000000</td>\n",
       "      <td>70000.000000</td>\n",
       "      <td>70000.000000</td>\n",
       "      <td>70000.000000</td>\n",
       "      <td>70000.000000</td>\n",
       "      <td>70000.000000</td>\n",
       "      <td>70000.000000</td>\n",
       "      <td>70000.000000</td>\n",
       "      <td>70000.000000</td>\n",
       "    </tr>\n",
       "    <tr>\n",
       "      <th>mean</th>\n",
       "      <td>19468.865814</td>\n",
       "      <td>1.349571</td>\n",
       "      <td>164.359229</td>\n",
       "      <td>74.205690</td>\n",
       "      <td>128.817286</td>\n",
       "      <td>96.630414</td>\n",
       "      <td>1.366871</td>\n",
       "      <td>1.226457</td>\n",
       "      <td>0.088129</td>\n",
       "      <td>0.053771</td>\n",
       "      <td>0.803729</td>\n",
       "      <td>0.499700</td>\n",
       "    </tr>\n",
       "    <tr>\n",
       "      <th>std</th>\n",
       "      <td>2467.251667</td>\n",
       "      <td>0.476838</td>\n",
       "      <td>8.210126</td>\n",
       "      <td>14.395757</td>\n",
       "      <td>154.011419</td>\n",
       "      <td>188.472530</td>\n",
       "      <td>0.680250</td>\n",
       "      <td>0.572270</td>\n",
       "      <td>0.283484</td>\n",
       "      <td>0.225568</td>\n",
       "      <td>0.397179</td>\n",
       "      <td>0.500003</td>\n",
       "    </tr>\n",
       "    <tr>\n",
       "      <th>min</th>\n",
       "      <td>10798.000000</td>\n",
       "      <td>1.000000</td>\n",
       "      <td>55.000000</td>\n",
       "      <td>10.000000</td>\n",
       "      <td>-150.000000</td>\n",
       "      <td>-70.000000</td>\n",
       "      <td>1.000000</td>\n",
       "      <td>1.000000</td>\n",
       "      <td>0.000000</td>\n",
       "      <td>0.000000</td>\n",
       "      <td>0.000000</td>\n",
       "      <td>0.000000</td>\n",
       "    </tr>\n",
       "    <tr>\n",
       "      <th>25%</th>\n",
       "      <td>17664.000000</td>\n",
       "      <td>1.000000</td>\n",
       "      <td>159.000000</td>\n",
       "      <td>65.000000</td>\n",
       "      <td>120.000000</td>\n",
       "      <td>80.000000</td>\n",
       "      <td>1.000000</td>\n",
       "      <td>1.000000</td>\n",
       "      <td>0.000000</td>\n",
       "      <td>0.000000</td>\n",
       "      <td>1.000000</td>\n",
       "      <td>0.000000</td>\n",
       "    </tr>\n",
       "    <tr>\n",
       "      <th>50%</th>\n",
       "      <td>19703.000000</td>\n",
       "      <td>1.000000</td>\n",
       "      <td>165.000000</td>\n",
       "      <td>72.000000</td>\n",
       "      <td>120.000000</td>\n",
       "      <td>80.000000</td>\n",
       "      <td>1.000000</td>\n",
       "      <td>1.000000</td>\n",
       "      <td>0.000000</td>\n",
       "      <td>0.000000</td>\n",
       "      <td>1.000000</td>\n",
       "      <td>0.000000</td>\n",
       "    </tr>\n",
       "    <tr>\n",
       "      <th>75%</th>\n",
       "      <td>21327.000000</td>\n",
       "      <td>2.000000</td>\n",
       "      <td>170.000000</td>\n",
       "      <td>82.000000</td>\n",
       "      <td>140.000000</td>\n",
       "      <td>90.000000</td>\n",
       "      <td>2.000000</td>\n",
       "      <td>1.000000</td>\n",
       "      <td>0.000000</td>\n",
       "      <td>0.000000</td>\n",
       "      <td>1.000000</td>\n",
       "      <td>1.000000</td>\n",
       "    </tr>\n",
       "    <tr>\n",
       "      <th>max</th>\n",
       "      <td>23713.000000</td>\n",
       "      <td>2.000000</td>\n",
       "      <td>250.000000</td>\n",
       "      <td>200.000000</td>\n",
       "      <td>16020.000000</td>\n",
       "      <td>11000.000000</td>\n",
       "      <td>3.000000</td>\n",
       "      <td>3.000000</td>\n",
       "      <td>1.000000</td>\n",
       "      <td>1.000000</td>\n",
       "      <td>1.000000</td>\n",
       "      <td>1.000000</td>\n",
       "    </tr>\n",
       "  </tbody>\n",
       "</table>\n",
       "</div>"
      ],
      "text/plain": [
       "                age        gender        height        weight         ap_hi  \\\n",
       "count  70000.000000  70000.000000  70000.000000  70000.000000  70000.000000   \n",
       "mean   19468.865814      1.349571    164.359229     74.205690    128.817286   \n",
       "std     2467.251667      0.476838      8.210126     14.395757    154.011419   \n",
       "min    10798.000000      1.000000     55.000000     10.000000   -150.000000   \n",
       "25%    17664.000000      1.000000    159.000000     65.000000    120.000000   \n",
       "50%    19703.000000      1.000000    165.000000     72.000000    120.000000   \n",
       "75%    21327.000000      2.000000    170.000000     82.000000    140.000000   \n",
       "max    23713.000000      2.000000    250.000000    200.000000  16020.000000   \n",
       "\n",
       "              ap_lo   cholesterol          gluc         smoke          alco  \\\n",
       "count  70000.000000  70000.000000  70000.000000  70000.000000  70000.000000   \n",
       "mean      96.630414      1.366871      1.226457      0.088129      0.053771   \n",
       "std      188.472530      0.680250      0.572270      0.283484      0.225568   \n",
       "min      -70.000000      1.000000      1.000000      0.000000      0.000000   \n",
       "25%       80.000000      1.000000      1.000000      0.000000      0.000000   \n",
       "50%       80.000000      1.000000      1.000000      0.000000      0.000000   \n",
       "75%       90.000000      2.000000      1.000000      0.000000      0.000000   \n",
       "max    11000.000000      3.000000      3.000000      1.000000      1.000000   \n",
       "\n",
       "             active        cardio  \n",
       "count  70000.000000  70000.000000  \n",
       "mean       0.803729      0.499700  \n",
       "std        0.397179      0.500003  \n",
       "min        0.000000      0.000000  \n",
       "25%        1.000000      0.000000  \n",
       "50%        1.000000      0.000000  \n",
       "75%        1.000000      1.000000  \n",
       "max        1.000000      1.000000  "
      ]
     },
     "execution_count": 5,
     "metadata": {},
     "output_type": "execute_result"
    }
   ],
   "source": [
    "df.describe()"
   ]
  },
  {
   "cell_type": "code",
   "execution_count": 22,
   "metadata": {},
   "outputs": [
    {
     "data": {
      "text/html": [
       "<div>\n",
       "<style scoped>\n",
       "    .dataframe tbody tr th:only-of-type {\n",
       "        vertical-align: middle;\n",
       "    }\n",
       "\n",
       "    .dataframe tbody tr th {\n",
       "        vertical-align: top;\n",
       "    }\n",
       "\n",
       "    .dataframe thead th {\n",
       "        text-align: right;\n",
       "    }\n",
       "</style>\n",
       "<table border=\"1\" class=\"dataframe\">\n",
       "  <thead>\n",
       "    <tr style=\"text-align: right;\">\n",
       "      <th></th>\n",
       "      <th>age</th>\n",
       "      <th>gender</th>\n",
       "      <th>height</th>\n",
       "      <th>weight</th>\n",
       "      <th>ap_hi</th>\n",
       "      <th>ap_lo</th>\n",
       "      <th>cholesterol</th>\n",
       "      <th>gluc</th>\n",
       "      <th>smoke</th>\n",
       "      <th>alco</th>\n",
       "      <th>active</th>\n",
       "      <th>cardio</th>\n",
       "    </tr>\n",
       "    <tr>\n",
       "      <th>id</th>\n",
       "      <th></th>\n",
       "      <th></th>\n",
       "      <th></th>\n",
       "      <th></th>\n",
       "      <th></th>\n",
       "      <th></th>\n",
       "      <th></th>\n",
       "      <th></th>\n",
       "      <th></th>\n",
       "      <th></th>\n",
       "      <th></th>\n",
       "      <th></th>\n",
       "    </tr>\n",
       "  </thead>\n",
       "  <tbody>\n",
       "    <tr>\n",
       "      <th>0</th>\n",
       "      <td>0.775650</td>\n",
       "      <td>2</td>\n",
       "      <td>0.672</td>\n",
       "      <td>0.310</td>\n",
       "      <td>0.006866</td>\n",
       "      <td>0.007273</td>\n",
       "      <td>0.333333</td>\n",
       "      <td>0.333333</td>\n",
       "      <td>0</td>\n",
       "      <td>0</td>\n",
       "      <td>1</td>\n",
       "      <td>0</td>\n",
       "    </tr>\n",
       "    <tr>\n",
       "      <th>1</th>\n",
       "      <td>0.853034</td>\n",
       "      <td>1</td>\n",
       "      <td>0.624</td>\n",
       "      <td>0.425</td>\n",
       "      <td>0.008739</td>\n",
       "      <td>0.008182</td>\n",
       "      <td>1.000000</td>\n",
       "      <td>0.333333</td>\n",
       "      <td>0</td>\n",
       "      <td>0</td>\n",
       "      <td>1</td>\n",
       "      <td>1</td>\n",
       "    </tr>\n",
       "    <tr>\n",
       "      <th>2</th>\n",
       "      <td>0.795218</td>\n",
       "      <td>1</td>\n",
       "      <td>0.660</td>\n",
       "      <td>0.320</td>\n",
       "      <td>0.008115</td>\n",
       "      <td>0.006364</td>\n",
       "      <td>1.000000</td>\n",
       "      <td>0.333333</td>\n",
       "      <td>0</td>\n",
       "      <td>0</td>\n",
       "      <td>0</td>\n",
       "      <td>1</td>\n",
       "    </tr>\n",
       "    <tr>\n",
       "      <th>3</th>\n",
       "      <td>0.743179</td>\n",
       "      <td>2</td>\n",
       "      <td>0.676</td>\n",
       "      <td>0.410</td>\n",
       "      <td>0.009363</td>\n",
       "      <td>0.009091</td>\n",
       "      <td>0.333333</td>\n",
       "      <td>0.333333</td>\n",
       "      <td>0</td>\n",
       "      <td>0</td>\n",
       "      <td>1</td>\n",
       "      <td>1</td>\n",
       "    </tr>\n",
       "    <tr>\n",
       "      <th>4</th>\n",
       "      <td>0.736895</td>\n",
       "      <td>1</td>\n",
       "      <td>0.624</td>\n",
       "      <td>0.280</td>\n",
       "      <td>0.006242</td>\n",
       "      <td>0.005455</td>\n",
       "      <td>0.333333</td>\n",
       "      <td>0.333333</td>\n",
       "      <td>0</td>\n",
       "      <td>0</td>\n",
       "      <td>0</td>\n",
       "      <td>0</td>\n",
       "    </tr>\n",
       "    <tr>\n",
       "      <th>...</th>\n",
       "      <td>...</td>\n",
       "      <td>...</td>\n",
       "      <td>...</td>\n",
       "      <td>...</td>\n",
       "      <td>...</td>\n",
       "      <td>...</td>\n",
       "      <td>...</td>\n",
       "      <td>...</td>\n",
       "      <td>...</td>\n",
       "      <td>...</td>\n",
       "      <td>...</td>\n",
       "      <td>...</td>\n",
       "    </tr>\n",
       "    <tr>\n",
       "      <th>99993</th>\n",
       "      <td>0.811369</td>\n",
       "      <td>2</td>\n",
       "      <td>0.672</td>\n",
       "      <td>0.380</td>\n",
       "      <td>0.007491</td>\n",
       "      <td>0.007273</td>\n",
       "      <td>0.333333</td>\n",
       "      <td>0.333333</td>\n",
       "      <td>1</td>\n",
       "      <td>0</td>\n",
       "      <td>1</td>\n",
       "      <td>0</td>\n",
       "    </tr>\n",
       "    <tr>\n",
       "      <th>99995</th>\n",
       "      <td>0.953106</td>\n",
       "      <td>1</td>\n",
       "      <td>0.632</td>\n",
       "      <td>0.630</td>\n",
       "      <td>0.008739</td>\n",
       "      <td>0.008182</td>\n",
       "      <td>0.666667</td>\n",
       "      <td>0.666667</td>\n",
       "      <td>0</td>\n",
       "      <td>0</td>\n",
       "      <td>1</td>\n",
       "      <td>1</td>\n",
       "    </tr>\n",
       "    <tr>\n",
       "      <th>99996</th>\n",
       "      <td>0.804032</td>\n",
       "      <td>2</td>\n",
       "      <td>0.732</td>\n",
       "      <td>0.525</td>\n",
       "      <td>0.011236</td>\n",
       "      <td>0.008182</td>\n",
       "      <td>1.000000</td>\n",
       "      <td>0.333333</td>\n",
       "      <td>0</td>\n",
       "      <td>1</td>\n",
       "      <td>0</td>\n",
       "      <td>1</td>\n",
       "    </tr>\n",
       "    <tr>\n",
       "      <th>99998</th>\n",
       "      <td>0.945937</td>\n",
       "      <td>1</td>\n",
       "      <td>0.652</td>\n",
       "      <td>0.360</td>\n",
       "      <td>0.008427</td>\n",
       "      <td>0.007273</td>\n",
       "      <td>0.333333</td>\n",
       "      <td>0.666667</td>\n",
       "      <td>0</td>\n",
       "      <td>0</td>\n",
       "      <td>0</td>\n",
       "      <td>1</td>\n",
       "    </tr>\n",
       "    <tr>\n",
       "      <th>99999</th>\n",
       "      <td>0.866192</td>\n",
       "      <td>1</td>\n",
       "      <td>0.680</td>\n",
       "      <td>0.360</td>\n",
       "      <td>0.007491</td>\n",
       "      <td>0.007273</td>\n",
       "      <td>0.666667</td>\n",
       "      <td>0.333333</td>\n",
       "      <td>0</td>\n",
       "      <td>0</td>\n",
       "      <td>1</td>\n",
       "      <td>0</td>\n",
       "    </tr>\n",
       "  </tbody>\n",
       "</table>\n",
       "<p>70000 rows × 12 columns</p>\n",
       "</div>"
      ],
      "text/plain": [
       "            age  gender  height  weight     ap_hi     ap_lo  cholesterol  \\\n",
       "id                                                                         \n",
       "0      0.775650       2   0.672   0.310  0.006866  0.007273     0.333333   \n",
       "1      0.853034       1   0.624   0.425  0.008739  0.008182     1.000000   \n",
       "2      0.795218       1   0.660   0.320  0.008115  0.006364     1.000000   \n",
       "3      0.743179       2   0.676   0.410  0.009363  0.009091     0.333333   \n",
       "4      0.736895       1   0.624   0.280  0.006242  0.005455     0.333333   \n",
       "...         ...     ...     ...     ...       ...       ...          ...   \n",
       "99993  0.811369       2   0.672   0.380  0.007491  0.007273     0.333333   \n",
       "99995  0.953106       1   0.632   0.630  0.008739  0.008182     0.666667   \n",
       "99996  0.804032       2   0.732   0.525  0.011236  0.008182     1.000000   \n",
       "99998  0.945937       1   0.652   0.360  0.008427  0.007273     0.333333   \n",
       "99999  0.866192       1   0.680   0.360  0.007491  0.007273     0.666667   \n",
       "\n",
       "           gluc  smoke  alco  active  cardio  \n",
       "id                                            \n",
       "0      0.333333      0     0       1       0  \n",
       "1      0.333333      0     0       1       1  \n",
       "2      0.333333      0     0       0       1  \n",
       "3      0.333333      0     0       1       1  \n",
       "4      0.333333      0     0       0       0  \n",
       "...         ...    ...   ...     ...     ...  \n",
       "99993  0.333333      1     0       1       0  \n",
       "99995  0.666667      0     0       1       1  \n",
       "99996  0.333333      0     1       0       1  \n",
       "99998  0.666667      0     0       0       1  \n",
       "99999  0.333333      0     0       1       0  \n",
       "\n",
       "[70000 rows x 12 columns]"
      ]
     },
     "execution_count": 22,
     "metadata": {},
     "output_type": "execute_result"
    }
   ],
   "source": [
    "col= ['age',\t'height',\t'weight'\t,'ap_hi',\t'ap_lo' , 'cholesterol' , \t'gluc'\t] \n",
    "for c in col:\n",
    "    cmax=df[c].max()\n",
    "    df[c]=df[c] / cmax\n",
    "df"
   ]
  },
  {
   "cell_type": "code",
   "execution_count": 3,
   "metadata": {},
   "outputs": [],
   "source": [
    "X = df.iloc[:, :-1].values\n",
    "y = df.loc[:, 'cardio'].values\n"
   ]
  },
  {
   "cell_type": "code",
   "execution_count": 49,
   "metadata": {},
   "outputs": [
    {
     "data": {
      "text/plain": [
       "array([[ 1.23301403,  1.36405487,  0.44345206, ...,  3.2166843 ,\n",
       "         4.19490608,  0.49416711],\n",
       "       [ 0.72637381,  1.36405487,  0.68705541, ..., -0.31087913,\n",
       "        -0.23838436,  0.49416711],\n",
       "       [ 0.51682741, -0.73310834,  0.07804703, ..., -0.31087913,\n",
       "        -0.23838436,  0.49416711],\n",
       "       ...,\n",
       "       [ 0.76366253,  1.36405487, -0.04375464, ...,  3.2166843 ,\n",
       "        -0.23838436,  0.49416711],\n",
       "       [ 0.67854697, -0.73310834, -0.89636637, ..., -0.31087913,\n",
       "        -0.23838436,  0.49416711],\n",
       "       [ 1.33717926, -0.73310834, -0.16555632, ..., -0.31087913,\n",
       "        -0.23838436,  0.49416711]])"
      ]
     },
     "execution_count": 49,
     "metadata": {},
     "output_type": "execute_result"
    }
   ],
   "source": [
    "X_train"
   ]
  },
  {
   "cell_type": "code",
   "execution_count": 4,
   "metadata": {},
   "outputs": [],
   "source": [
    "from sklearn.preprocessing import StandardScaler\n",
    "X = StandardScaler().fit_transform(X)\n"
   ]
  },
  {
   "cell_type": "code",
   "execution_count": 15,
   "metadata": {},
   "outputs": [],
   "source": [
    "from sklearn.model_selection import train_test_split\n",
    "\n",
    "X_train, X_test, y_train, y_test = train_test_split(X, y, test_size=0.2, random_state=42)\n",
    "X_train, X_val, y_train, y_val   = train_test_split(X_train, y_train, test_size=0.25, random_state=42)"
   ]
  },
  {
   "cell_type": "code",
   "execution_count": null,
   "metadata": {
    "jupyter": {
     "source_hidden": true
    },
    "tags": []
   },
   "outputs": [],
   "source": [
    "# tf.random.set_seed(42)\n",
    "model = keras.Sequential()\n",
    "model.add(keras.layers.Input(shape=[784]))\n",
    "# model.add(keras.layers.Flatten())\n",
    "model.add(keras.layers.Dense(300, activation=\"relu\"))\n",
    "model.add(keras.layers.Dense(100, activation=\"relu\"))\n",
    "model.add(keras.layers.Dense(10, activation=\"softmax\"))"
   ]
  },
  {
   "cell_type": "code",
   "execution_count": 54,
   "metadata": {},
   "outputs": [],
   "source": [
    "from   keras.models import Sequential\n",
    "from   keras.layers import Dense \n",
    "from tensorflow import keras\n",
    "\n",
    "norm_layer =keras.layers.Normalization(input_shape=X_train.shape[1:])\n",
    "model = keras.Sequential([norm_layer,\n",
    "keras.layers.Dense(50, activation=\"relu\"),\n",
    "keras.layers.Dense(80, activation=\"relu\"),\n",
    "\n",
    "keras.layers.Dense(100, activation=\"relu\"),\n",
    "\n",
    "\n",
    "keras.layers.Dense(2, activation=\"softmax\")\n",
    "])\n"
   ]
  },
  {
   "cell_type": "code",
   "execution_count": 56,
   "metadata": {},
   "outputs": [
    {
     "name": "stdout",
     "output_type": "stream",
     "text": [
      "Epoch 1/10\n",
      "657/657 [==============================] - 6s 6ms/step - loss: 0.2501 - accuracy: 0.4968 - val_loss: 0.2500 - val_accuracy: 0.4975\n",
      "Epoch 2/10\n",
      "657/657 [==============================] - 4s 6ms/step - loss: 0.2500 - accuracy: 0.5033 - val_loss: 0.2500 - val_accuracy: 0.5025\n",
      "Epoch 3/10\n",
      "657/657 [==============================] - 4s 6ms/step - loss: 0.2500 - accuracy: 0.5017 - val_loss: 0.2500 - val_accuracy: 0.4975\n",
      "Epoch 4/10\n",
      "657/657 [==============================] - 4s 6ms/step - loss: 0.2500 - accuracy: 0.5020 - val_loss: 0.2500 - val_accuracy: 0.4975\n",
      "438/438 [==============================] - 1s 3ms/step - loss: 0.2500 - accuracy: 0.4991\n",
      "438/438 [==============================] - 1s 2ms/step\n"
     ]
    }
   ],
   "source": [
    "\n",
    "optimizer = keras.optimizers.Adam(learning_rate=0.08)\n",
    "model.compile(loss=\"mean_squared_error\", optimizer=optimizer, metrics=[\"accuracy\"])\n",
    "early_stopping_cb = keras.callbacks.EarlyStopping(patience=3,restore_best_weights=True)\n",
    "checkpoint_cb = keras.callbacks.ModelCheckpoint(\"my_checkpoints\",save_weights_only=True)\n",
    "norm_layer.adapt(X_train)\n",
    "history = model.fit(X_train, y_train, epochs=10,  batch_size=64 ,  validation_data=(X_val, y_val) ,callbacks=[checkpoint_cb,early_stopping_cb])\n",
    "rmse_test = model.evaluate(X_test, y_test)\n",
    "y_pred = model.predict(X_test)\n"
   ]
  },
  {
   "cell_type": "markdown",
   "metadata": {
    "tags": []
   },
   "source": [
    "### Fine Tune"
   ]
  },
  {
   "cell_type": "code",
   "execution_count": 28,
   "metadata": {
    "id": "9yRlJUuiDucf"
   },
   "outputs": [],
   "source": [
    "import keras_tuner as kt\n",
    "\n",
    "def build_model(hp):\n",
    "  n_hidden = hp.Int(\"n_hidden\", min_value=0, max_value=8, default=2)\n",
    "  n_neurons = hp.Int(\"n_neurons\", min_value=16, max_value=256)\n",
    "  learning_rate = hp.Float(\"learning_rate\", min_value=1e-4,max_value=0.5,  sampling=\"log\")\n",
    "  optimizer = hp.Choice(\"optimizer\", values=[\"adam\" ,\"sgd\"])\n",
    "  \n",
    "  if optimizer == \"sgd\":\n",
    "    optimizer = keras.optimizers.SGD(learning_rate=learning_rate)\n",
    "  else:\n",
    "    optimizer = keras.optimizers.Adam(learning_rate=learning_rate)\n",
    "  \n",
    "  model = keras.Sequential()\n",
    "  # model.add(keras.layers.Normalization(input_shape=X_train.shape[1:]))\n",
    "\n",
    "\n",
    "\n",
    "  for _ in range(n_hidden):\n",
    "      model.add(keras.layers.Dense(n_neurons, activation=\"relu\"))\n",
    "  model.add(keras.layers.Dense(1,activation=\"softmax\"))\n",
    "  model.compile(loss=\"mse\", optimizer=optimizer,  metrics=[\"accuracy\"])\n",
    "  return model"
   ]
  },
  {
   "cell_type": "code",
   "execution_count": 32,
   "metadata": {
    "tags": []
   },
   "outputs": [
    {
     "name": "stdout",
     "output_type": "stream",
     "text": [
      "Trial 5 Complete [00h 00m 18s]\n",
      "accuracy: 0.49838095903396606\n",
      "\n",
      "Best accuracy So Far: 0.49838095903396606\n",
      "Total elapsed time: 00h 02m 23s\n",
      "INFO:tensorflow:Oracle triggered exit\n"
     ]
    }
   ],
   "source": [
    "obj= kt.Objective(\"accuracy\", direction=\"max\")\n",
    "random_search_tuner = kt.RandomSearch(build_model, objective=obj , max_trials=5,overwrite=True,directory=\"test\", project_name=\"my_rnd_search\")\n",
    "random_search_tuner.search(X_train, y_train, epochs=5,validation_data=(X_val, y_val))"
   ]
  },
  {
   "cell_type": "code",
   "execution_count": 44,
   "metadata": {},
   "outputs": [
    {
     "data": {
      "text/plain": [
       "<keras.engine.sequential.Sequential at 0x7f2186ba15d0>"
      ]
     },
     "execution_count": 44,
     "metadata": {},
     "output_type": "execute_result"
    }
   ],
   "source": [
    "best_hp=random_search_tuner.get_best_hyperparameters()[0]\n",
    "model = random_search_tuner.hypermodel.build(best_hp)\n",
    "model"
   ]
  },
  {
   "cell_type": "code",
   "execution_count": null,
   "metadata": {},
   "outputs": [],
   "source": []
  },
  {
   "cell_type": "code",
   "execution_count": null,
   "metadata": {
    "tags": []
   },
   "outputs": [],
   "source": []
  },
  {
   "cell_type": "code",
   "execution_count": 24,
   "metadata": {
    "id": "9yRlJUuiDucf"
   },
   "outputs": [],
   "source": [
    "import keras_tuner as kt\n",
    "\n",
    "def build_model(hp):\n",
    "  n_hidden = hp.Int(\"n_hidden\", min_value=0, max_value=8, default=2)\n",
    "  n_neurons = hp.Int(\"n_neurons\", min_value=16, max_value=256)\n",
    "  learning_rate = hp.Float(\"learning_rate\", min_value=1e-4,max_value=1e-2,  sampling=\"log\")\n",
    "  optimizer = hp.Choice(\"optimizer\", values=[\"sgd\", \"adam\"])\n",
    "  if optimizer == \"sgd\":\n",
    "    optimizer = tf.keras.optimizers.SGD(learning_rate=learning_rate)\n",
    "  else:\n",
    "    optimizer = tf.keras.optimizers.Adam(learning_rate=learning_rate)\n",
    "  model = tf.keras.Sequential()\n",
    "  # model.add(tf.keras.layers.Flatten())\n",
    "  for _ in range(n_hidden):\n",
    "    model.add(tf.keras.layers.Dense(n_neurons, activation=\"relu\"))\n",
    "\n",
    "  model.add(tf.keras.layers.Dense(1, activation=\"softmax\"))\n",
    "  model.compile(loss=\"categorical_crossentropy\", optimizer=optimizer,  metrics=[\"accuracy\"])\n",
    "  return model"
   ]
  },
  {
   "cell_type": "code",
   "execution_count": 25,
   "metadata": {
    "id": "vMWpXgHNljhm"
   },
   "outputs": [],
   "source": [
    "class MyClassificationHyperModel(kt.HyperModel):\n",
    "  def build(self, hp):\n",
    "    return build_model(hp)\n",
    "  def fit(self, hp, model, X, y, **kwargs):\n",
    "    batch_size = hp.Int(\"batch_size\", 32, 128, step=32, default=64)\n",
    "  \n",
    "    return model.fit(X, y, batch_size, **kwargs)"
   ]
  },
  {
   "cell_type": "code",
   "execution_count": null,
   "metadata": {
    "id": "hCJE9O_IFCyH"
   },
   "outputs": [],
   "source": [
    "hb_search_tuner = kt.Hyperband(MyClassificationHyperModel(), \n",
    "                                   factor=3, hyperband_iterations=2, \n",
    "                                   overwrite=True, directory=\"1\",\n",
    "                                   project_name=\"hyperband\",\n",
    "                                   max_epochs=10, objective=\"val_accuracy\", \n",
    "                                   seed=42)\n",
    "hb_search_tuner.search(X_train, y_train, epochs=10, validation_data=(X_val, y_val))"
   ]
  },
  {
   "cell_type": "code",
   "execution_count": null,
   "metadata": {},
   "outputs": [],
   "source": [
    "top3_models = random_search_tuner.get_best_models(num_models=3)\n",
    "best_model = top3_models[0]\n",
    "best_model.fit(X_train, y_train, epochs=10)\n",
    "test_loss, test_accuracy = best_model.evaluate(X_test, y_test)"
   ]
  },
  {
   "cell_type": "markdown",
   "metadata": {
    "jp-MarkdownHeadingCollapsed": true,
    "tags": []
   },
   "source": [
    "### TensorBoard"
   ]
  },
  {
   "cell_type": "code",
   "execution_count": 27,
   "metadata": {},
   "outputs": [],
   "source": [
    "from pathlib import Path\n",
    "from time import strftime\n",
    "def get_run_logdir(root_logdir=\"my_logs\"):\n",
    "    return Path(root_logdir) / strftime(\"run_%Y_%m_%d_%H_%M_%S\")\n",
    "run_logdir = get_run_logdir()"
   ]
  },
  {
   "cell_type": "code",
   "execution_count": null,
   "metadata": {},
   "outputs": [],
   "source": [
    "tensorboard_cb = keras.callbacks.TensorBoard(run_logdir,profile_batch=(100, 200))\n",
    "history = model.fit(X_train, y_train,epochs=25, validation_data=(X_val, y_val), callbacks=[tensorboard_cb])"
   ]
  },
  {
   "cell_type": "code",
   "execution_count": null,
   "metadata": {},
   "outputs": [],
   "source": [
    "%reload_ext tensorboard\n",
    "%tensorboard --logdir=data/ --host localhost --port 8088\n",
    "%load_ext tensorboard\n",
    "%tensorboard --logdir=./my_logs"
   ]
  }
 ],
 "metadata": {
  "colab": {
   "provenance": []
  },
  "kernelspec": {
   "display_name": "Python 3 (ipykernel)",
   "language": "python",
   "name": "python3"
  },
  "language_info": {
   "codemirror_mode": {
    "name": "ipython",
    "version": 3
   },
   "file_extension": ".py",
   "mimetype": "text/x-python",
   "name": "python",
   "nbconvert_exporter": "python",
   "pygments_lexer": "ipython3",
   "version": "3.10.6"
  },
  "widgets": {
   "application/vnd.jupyter.widget-state+json": {
    "state": {},
    "version_major": 2,
    "version_minor": 0
   }
  }
 },
 "nbformat": 4,
 "nbformat_minor": 4
}
