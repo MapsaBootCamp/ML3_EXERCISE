{
  "nbformat": 4,
  "nbformat_minor": 0,
  "metadata": {
    "colab": {
      "provenance": []
    },
    "kernelspec": {
      "name": "python3",
      "display_name": "Python 3"
    },
    "language_info": {
      "name": "python"
    }
  },
  "cells": [
    {
      "cell_type": "code",
      "execution_count": 1,
      "metadata": {
        "id": "EQ8-i9Zbq1Go"
      },
      "outputs": [],
      "source": [
        "import pandas as pd\n",
        "import seaborn as sns\n",
        "import numpy as np\n",
        "import matplotlib.pyplot as plt"
      ]
    },
    {
      "cell_type": "code",
      "source": [
        "df = pd.read_csv(\"electricity.csv\", parse_dates=['DateTime'], index_col='DateTime', na_values=[\"?\"])\n",
        "df.head()"
      ],
      "metadata": {
        "colab": {
          "base_uri": "https://localhost:8080/",
          "height": 475
        },
        "id": "vri92XG_yZ9e",
        "outputId": "7e9a9915-f076-4ee3-9dce-275d125c956e"
      },
      "execution_count": 15,
      "outputs": [
        {
          "output_type": "execute_result",
          "data": {
            "text/plain": [
              "                    Holiday  HolidayFlag  DayOfWeek  WeekOfYear  Day  Month  \\\n",
              "DateTime                                                                      \n",
              "2011-01-11 00:00:00    None            0          1          44    1     11   \n",
              "2011-01-11 00:30:00    None            0          1          44    1     11   \n",
              "2011-01-11 01:00:00    None            0          1          44    1     11   \n",
              "2011-01-11 01:30:00    None            0          1          44    1     11   \n",
              "2011-01-11 02:00:00    None            0          1          44    1     11   \n",
              "\n",
              "                     Year  PeriodOfDay  ForecastWindProduction  SystemLoadEA  \\\n",
              "DateTime                                                                       \n",
              "2011-01-11 00:00:00  2011            0                  315.31       3388.77   \n",
              "2011-01-11 00:30:00  2011            1                  321.80       3196.66   \n",
              "2011-01-11 01:00:00  2011            2                  328.57       3060.71   \n",
              "2011-01-11 01:30:00  2011            3                  335.60       2945.56   \n",
              "2011-01-11 02:00:00  2011            4                  342.90       2849.34   \n",
              "\n",
              "                     SMPEA  ORKTemperature  ORKWindspeed  CO2Intensity  \\\n",
              "DateTime                                                                 \n",
              "2011-01-11 00:00:00  49.26             6.0           9.3        600.71   \n",
              "2011-01-11 00:30:00  49.26             6.0          11.1        605.42   \n",
              "2011-01-11 01:00:00  49.10             5.0          11.1        589.97   \n",
              "2011-01-11 01:30:00  48.04             6.0           9.3        585.94   \n",
              "2011-01-11 02:00:00  33.75             6.0          11.1        571.52   \n",
              "\n",
              "                     ActualWindProduction  SystemLoadEP2  SMPEP2  \n",
              "DateTime                                                          \n",
              "2011-01-11 00:00:00                 356.0        3159.60   54.32  \n",
              "2011-01-11 00:30:00                 317.0        2973.01   54.23  \n",
              "2011-01-11 01:00:00                 311.0        2834.00   54.23  \n",
              "2011-01-11 01:30:00                 313.0        2725.99   53.47  \n",
              "2011-01-11 02:00:00                 346.0        2655.64   39.87  "
            ],
            "text/html": [
              "\n",
              "  <div id=\"df-09d5bf47-2bf7-480f-98bf-776946164580\">\n",
              "    <div class=\"colab-df-container\">\n",
              "      <div>\n",
              "<style scoped>\n",
              "    .dataframe tbody tr th:only-of-type {\n",
              "        vertical-align: middle;\n",
              "    }\n",
              "\n",
              "    .dataframe tbody tr th {\n",
              "        vertical-align: top;\n",
              "    }\n",
              "\n",
              "    .dataframe thead th {\n",
              "        text-align: right;\n",
              "    }\n",
              "</style>\n",
              "<table border=\"1\" class=\"dataframe\">\n",
              "  <thead>\n",
              "    <tr style=\"text-align: right;\">\n",
              "      <th></th>\n",
              "      <th>Holiday</th>\n",
              "      <th>HolidayFlag</th>\n",
              "      <th>DayOfWeek</th>\n",
              "      <th>WeekOfYear</th>\n",
              "      <th>Day</th>\n",
              "      <th>Month</th>\n",
              "      <th>Year</th>\n",
              "      <th>PeriodOfDay</th>\n",
              "      <th>ForecastWindProduction</th>\n",
              "      <th>SystemLoadEA</th>\n",
              "      <th>SMPEA</th>\n",
              "      <th>ORKTemperature</th>\n",
              "      <th>ORKWindspeed</th>\n",
              "      <th>CO2Intensity</th>\n",
              "      <th>ActualWindProduction</th>\n",
              "      <th>SystemLoadEP2</th>\n",
              "      <th>SMPEP2</th>\n",
              "    </tr>\n",
              "    <tr>\n",
              "      <th>DateTime</th>\n",
              "      <th></th>\n",
              "      <th></th>\n",
              "      <th></th>\n",
              "      <th></th>\n",
              "      <th></th>\n",
              "      <th></th>\n",
              "      <th></th>\n",
              "      <th></th>\n",
              "      <th></th>\n",
              "      <th></th>\n",
              "      <th></th>\n",
              "      <th></th>\n",
              "      <th></th>\n",
              "      <th></th>\n",
              "      <th></th>\n",
              "      <th></th>\n",
              "      <th></th>\n",
              "    </tr>\n",
              "  </thead>\n",
              "  <tbody>\n",
              "    <tr>\n",
              "      <th>2011-01-11 00:00:00</th>\n",
              "      <td>None</td>\n",
              "      <td>0</td>\n",
              "      <td>1</td>\n",
              "      <td>44</td>\n",
              "      <td>1</td>\n",
              "      <td>11</td>\n",
              "      <td>2011</td>\n",
              "      <td>0</td>\n",
              "      <td>315.31</td>\n",
              "      <td>3388.77</td>\n",
              "      <td>49.26</td>\n",
              "      <td>6.0</td>\n",
              "      <td>9.3</td>\n",
              "      <td>600.71</td>\n",
              "      <td>356.0</td>\n",
              "      <td>3159.60</td>\n",
              "      <td>54.32</td>\n",
              "    </tr>\n",
              "    <tr>\n",
              "      <th>2011-01-11 00:30:00</th>\n",
              "      <td>None</td>\n",
              "      <td>0</td>\n",
              "      <td>1</td>\n",
              "      <td>44</td>\n",
              "      <td>1</td>\n",
              "      <td>11</td>\n",
              "      <td>2011</td>\n",
              "      <td>1</td>\n",
              "      <td>321.80</td>\n",
              "      <td>3196.66</td>\n",
              "      <td>49.26</td>\n",
              "      <td>6.0</td>\n",
              "      <td>11.1</td>\n",
              "      <td>605.42</td>\n",
              "      <td>317.0</td>\n",
              "      <td>2973.01</td>\n",
              "      <td>54.23</td>\n",
              "    </tr>\n",
              "    <tr>\n",
              "      <th>2011-01-11 01:00:00</th>\n",
              "      <td>None</td>\n",
              "      <td>0</td>\n",
              "      <td>1</td>\n",
              "      <td>44</td>\n",
              "      <td>1</td>\n",
              "      <td>11</td>\n",
              "      <td>2011</td>\n",
              "      <td>2</td>\n",
              "      <td>328.57</td>\n",
              "      <td>3060.71</td>\n",
              "      <td>49.10</td>\n",
              "      <td>5.0</td>\n",
              "      <td>11.1</td>\n",
              "      <td>589.97</td>\n",
              "      <td>311.0</td>\n",
              "      <td>2834.00</td>\n",
              "      <td>54.23</td>\n",
              "    </tr>\n",
              "    <tr>\n",
              "      <th>2011-01-11 01:30:00</th>\n",
              "      <td>None</td>\n",
              "      <td>0</td>\n",
              "      <td>1</td>\n",
              "      <td>44</td>\n",
              "      <td>1</td>\n",
              "      <td>11</td>\n",
              "      <td>2011</td>\n",
              "      <td>3</td>\n",
              "      <td>335.60</td>\n",
              "      <td>2945.56</td>\n",
              "      <td>48.04</td>\n",
              "      <td>6.0</td>\n",
              "      <td>9.3</td>\n",
              "      <td>585.94</td>\n",
              "      <td>313.0</td>\n",
              "      <td>2725.99</td>\n",
              "      <td>53.47</td>\n",
              "    </tr>\n",
              "    <tr>\n",
              "      <th>2011-01-11 02:00:00</th>\n",
              "      <td>None</td>\n",
              "      <td>0</td>\n",
              "      <td>1</td>\n",
              "      <td>44</td>\n",
              "      <td>1</td>\n",
              "      <td>11</td>\n",
              "      <td>2011</td>\n",
              "      <td>4</td>\n",
              "      <td>342.90</td>\n",
              "      <td>2849.34</td>\n",
              "      <td>33.75</td>\n",
              "      <td>6.0</td>\n",
              "      <td>11.1</td>\n",
              "      <td>571.52</td>\n",
              "      <td>346.0</td>\n",
              "      <td>2655.64</td>\n",
              "      <td>39.87</td>\n",
              "    </tr>\n",
              "  </tbody>\n",
              "</table>\n",
              "</div>\n",
              "      <button class=\"colab-df-convert\" onclick=\"convertToInteractive('df-09d5bf47-2bf7-480f-98bf-776946164580')\"\n",
              "              title=\"Convert this dataframe to an interactive table.\"\n",
              "              style=\"display:none;\">\n",
              "        \n",
              "  <svg xmlns=\"http://www.w3.org/2000/svg\" height=\"24px\"viewBox=\"0 0 24 24\"\n",
              "       width=\"24px\">\n",
              "    <path d=\"M0 0h24v24H0V0z\" fill=\"none\"/>\n",
              "    <path d=\"M18.56 5.44l.94 2.06.94-2.06 2.06-.94-2.06-.94-.94-2.06-.94 2.06-2.06.94zm-11 1L8.5 8.5l.94-2.06 2.06-.94-2.06-.94L8.5 2.5l-.94 2.06-2.06.94zm10 10l.94 2.06.94-2.06 2.06-.94-2.06-.94-.94-2.06-.94 2.06-2.06.94z\"/><path d=\"M17.41 7.96l-1.37-1.37c-.4-.4-.92-.59-1.43-.59-.52 0-1.04.2-1.43.59L10.3 9.45l-7.72 7.72c-.78.78-.78 2.05 0 2.83L4 21.41c.39.39.9.59 1.41.59.51 0 1.02-.2 1.41-.59l7.78-7.78 2.81-2.81c.8-.78.8-2.07 0-2.86zM5.41 20L4 18.59l7.72-7.72 1.47 1.35L5.41 20z\"/>\n",
              "  </svg>\n",
              "      </button>\n",
              "      \n",
              "  <style>\n",
              "    .colab-df-container {\n",
              "      display:flex;\n",
              "      flex-wrap:wrap;\n",
              "      gap: 12px;\n",
              "    }\n",
              "\n",
              "    .colab-df-convert {\n",
              "      background-color: #E8F0FE;\n",
              "      border: none;\n",
              "      border-radius: 50%;\n",
              "      cursor: pointer;\n",
              "      display: none;\n",
              "      fill: #1967D2;\n",
              "      height: 32px;\n",
              "      padding: 0 0 0 0;\n",
              "      width: 32px;\n",
              "    }\n",
              "\n",
              "    .colab-df-convert:hover {\n",
              "      background-color: #E2EBFA;\n",
              "      box-shadow: 0px 1px 2px rgba(60, 64, 67, 0.3), 0px 1px 3px 1px rgba(60, 64, 67, 0.15);\n",
              "      fill: #174EA6;\n",
              "    }\n",
              "\n",
              "    [theme=dark] .colab-df-convert {\n",
              "      background-color: #3B4455;\n",
              "      fill: #D2E3FC;\n",
              "    }\n",
              "\n",
              "    [theme=dark] .colab-df-convert:hover {\n",
              "      background-color: #434B5C;\n",
              "      box-shadow: 0px 1px 3px 1px rgba(0, 0, 0, 0.15);\n",
              "      filter: drop-shadow(0px 1px 2px rgba(0, 0, 0, 0.3));\n",
              "      fill: #FFFFFF;\n",
              "    }\n",
              "  </style>\n",
              "\n",
              "      <script>\n",
              "        const buttonEl =\n",
              "          document.querySelector('#df-09d5bf47-2bf7-480f-98bf-776946164580 button.colab-df-convert');\n",
              "        buttonEl.style.display =\n",
              "          google.colab.kernel.accessAllowed ? 'block' : 'none';\n",
              "\n",
              "        async function convertToInteractive(key) {\n",
              "          const element = document.querySelector('#df-09d5bf47-2bf7-480f-98bf-776946164580');\n",
              "          const dataTable =\n",
              "            await google.colab.kernel.invokeFunction('convertToInteractive',\n",
              "                                                     [key], {});\n",
              "          if (!dataTable) return;\n",
              "\n",
              "          const docLinkHtml = 'Like what you see? Visit the ' +\n",
              "            '<a target=\"_blank\" href=https://colab.research.google.com/notebooks/data_table.ipynb>data table notebook</a>'\n",
              "            + ' to learn more about interactive tables.';\n",
              "          element.innerHTML = '';\n",
              "          dataTable['output_type'] = 'display_data';\n",
              "          await google.colab.output.renderOutput(dataTable, element);\n",
              "          const docLink = document.createElement('div');\n",
              "          docLink.innerHTML = docLinkHtml;\n",
              "          element.appendChild(docLink);\n",
              "        }\n",
              "      </script>\n",
              "    </div>\n",
              "  </div>\n",
              "  "
            ]
          },
          "metadata": {},
          "execution_count": 15
        }
      ]
    },
    {
      "cell_type": "markdown",
      "source": [
        "# Delet None data"
      ],
      "metadata": {
        "id": "tNAx2AAT4oR3"
      }
    },
    {
      "cell_type": "code",
      "source": [
        "df.dropna(inplace=True)"
      ],
      "metadata": {
        "id": "XNyuKNYeBAWs"
      },
      "execution_count": 24,
      "outputs": []
    },
    {
      "cell_type": "code",
      "source": [
        "df.info()"
      ],
      "metadata": {
        "colab": {
          "base_uri": "https://localhost:8080/"
        },
        "id": "zy2IDMVhyvB-",
        "outputId": "50b596ad-e1ac-4940-c6f8-c735f50590ed"
      },
      "execution_count": null,
      "outputs": [
        {
          "output_type": "stream",
          "name": "stdout",
          "text": [
            "<class 'pandas.core.frame.DataFrame'>\n",
            "DatetimeIndex: 38014 entries, 2011-01-11 00:00:00 to 2013-12-31 23:30:00\n",
            "Data columns (total 17 columns):\n",
            " #   Column                  Non-Null Count  Dtype  \n",
            "---  ------                  --------------  -----  \n",
            " 0   Holiday                 38014 non-null  object \n",
            " 1   HolidayFlag             38014 non-null  int64  \n",
            " 2   DayOfWeek               38014 non-null  int64  \n",
            " 3   WeekOfYear              38014 non-null  int64  \n",
            " 4   Day                     38014 non-null  int64  \n",
            " 5   Month                   38014 non-null  int64  \n",
            " 6   Year                    38014 non-null  int64  \n",
            " 7   PeriodOfDay             38014 non-null  int64  \n",
            " 8   ForecastWindProduction  38009 non-null  float64\n",
            " 9   SystemLoadEA            38012 non-null  float64\n",
            " 10  SMPEA                   38012 non-null  float64\n",
            " 11  ORKTemperature          37719 non-null  float64\n",
            " 12  ORKWindspeed            37715 non-null  float64\n",
            " 13  CO2Intensity            38007 non-null  float64\n",
            " 14  ActualWindProduction    38009 non-null  float64\n",
            " 15  SystemLoadEP2           38012 non-null  float64\n",
            " 16  SMPEP2                  38012 non-null  float64\n",
            "dtypes: float64(9), int64(7), object(1)\n",
            "memory usage: 5.2+ MB\n"
          ]
        }
      ]
    },
    {
      "cell_type": "code",
      "source": [
        "df.nunique()"
      ],
      "metadata": {
        "colab": {
          "base_uri": "https://localhost:8080/"
        },
        "id": "pv5LJWjz66mt",
        "outputId": "134003ef-2be2-415a-d5c6-a7d1b8ae1329"
      },
      "execution_count": null,
      "outputs": [
        {
          "output_type": "execute_result",
          "data": {
            "text/plain": [
              "Holiday                      15\n",
              "HolidayFlag                   2\n",
              "DayOfWeek                     7\n",
              "WeekOfYear                   52\n",
              "Day                          31\n",
              "Month                        12\n",
              "Year                          3\n",
              "PeriodOfDay                  48\n",
              "ForecastWindProduction    27254\n",
              "SystemLoadEA              35300\n",
              "SMPEA                      7322\n",
              "ORKTemperature               30\n",
              "ORKWindspeed                 52\n",
              "CO2Intensity              22328\n",
              "ActualWindProduction       1535\n",
              "SystemLoadEP2             35365\n",
              "SMPEP2                     7790\n",
              "dtype: int64"
            ]
          },
          "metadata": {},
          "execution_count": 9
        }
      ]
    },
    {
      "cell_type": "code",
      "source": [
        "df.describe()"
      ],
      "metadata": {
        "colab": {
          "base_uri": "https://localhost:8080/",
          "height": 364
        },
        "id": "Yw1PoDXrzH_m",
        "outputId": "609b3fd7-dc9d-43ea-8a29-6cdd26c45bf0"
      },
      "execution_count": null,
      "outputs": [
        {
          "output_type": "execute_result",
          "data": {
            "text/plain": [
              "        HolidayFlag     DayOfWeek    WeekOfYear           Day         Month  \\\n",
              "count  37682.000000  37682.000000  37682.000000  37682.000000  37682.000000   \n",
              "mean       0.037578      2.998355     28.044584     15.707181      6.886789   \n",
              "std        0.190175      1.998845     15.552428      8.804424      3.566915   \n",
              "min        0.000000      0.000000      1.000000      1.000000      1.000000   \n",
              "25%        0.000000      1.000000     14.000000      8.000000      4.000000   \n",
              "50%        0.000000      3.000000     29.000000     16.000000      7.000000   \n",
              "75%        0.000000      5.000000     43.000000     23.000000     10.000000   \n",
              "max        1.000000      6.000000     52.000000     31.000000     12.000000   \n",
              "\n",
              "               Year   PeriodOfDay  ForecastWindProduction  SystemLoadEA  \\\n",
              "count  37682.000000  37682.000000            37682.000000  37682.000000   \n",
              "mean    2012.386577     23.508651              542.871513   4020.753657   \n",
              "std        0.623780     13.854822              413.725304    860.148265   \n",
              "min     2011.000000      0.000000                0.680000   2183.940000   \n",
              "25%     2012.000000     12.000000              188.927500   3281.780000   \n",
              "50%     2012.000000     24.000000              440.645000   4105.530000   \n",
              "75%     2013.000000     36.000000              837.182500   4638.982500   \n",
              "max     2013.000000     47.000000             1680.000000   6492.910000   \n",
              "\n",
              "              SMPEA  ORKTemperature  ORKWindspeed  CO2Intensity  \\\n",
              "count  37682.000000    37682.000000  37682.000000  37682.000000   \n",
              "mean      62.747428        9.628443     19.209721    479.519761   \n",
              "std       32.300069        4.439757      9.569069     85.170896   \n",
              "min        0.000000       -4.000000      0.000000      0.000000   \n",
              "25%       45.540000        6.000000     13.000000    421.275000   \n",
              "50%       55.230000        9.000000     18.500000    480.350000   \n",
              "75%       70.320000       13.000000     24.100000    537.540000   \n",
              "max      587.580000       25.000000     75.900000    842.880000   \n",
              "\n",
              "       ActualWindProduction  SystemLoadEP2        SMPEP2  \n",
              "count          37682.000000   37682.000000  37682.000000  \n",
              "mean             519.814951    3787.560062     64.181344  \n",
              "std              377.879680     842.544909     35.432265  \n",
              "min                1.000000    1809.960000    -47.740000  \n",
              "25%              198.000000    3060.215000     45.800000  \n",
              "50%              444.000000    3867.220000     55.560000  \n",
              "75%              792.000000    4427.822500     72.120000  \n",
              "max             1769.000000    6309.750000   1000.000000  "
            ],
            "text/html": [
              "\n",
              "  <div id=\"df-c78f3a3a-9a1a-4263-b821-56f8ac01233b\">\n",
              "    <div class=\"colab-df-container\">\n",
              "      <div>\n",
              "<style scoped>\n",
              "    .dataframe tbody tr th:only-of-type {\n",
              "        vertical-align: middle;\n",
              "    }\n",
              "\n",
              "    .dataframe tbody tr th {\n",
              "        vertical-align: top;\n",
              "    }\n",
              "\n",
              "    .dataframe thead th {\n",
              "        text-align: right;\n",
              "    }\n",
              "</style>\n",
              "<table border=\"1\" class=\"dataframe\">\n",
              "  <thead>\n",
              "    <tr style=\"text-align: right;\">\n",
              "      <th></th>\n",
              "      <th>HolidayFlag</th>\n",
              "      <th>DayOfWeek</th>\n",
              "      <th>WeekOfYear</th>\n",
              "      <th>Day</th>\n",
              "      <th>Month</th>\n",
              "      <th>Year</th>\n",
              "      <th>PeriodOfDay</th>\n",
              "      <th>ForecastWindProduction</th>\n",
              "      <th>SystemLoadEA</th>\n",
              "      <th>SMPEA</th>\n",
              "      <th>ORKTemperature</th>\n",
              "      <th>ORKWindspeed</th>\n",
              "      <th>CO2Intensity</th>\n",
              "      <th>ActualWindProduction</th>\n",
              "      <th>SystemLoadEP2</th>\n",
              "      <th>SMPEP2</th>\n",
              "    </tr>\n",
              "  </thead>\n",
              "  <tbody>\n",
              "    <tr>\n",
              "      <th>count</th>\n",
              "      <td>37682.000000</td>\n",
              "      <td>37682.000000</td>\n",
              "      <td>37682.000000</td>\n",
              "      <td>37682.000000</td>\n",
              "      <td>37682.000000</td>\n",
              "      <td>37682.000000</td>\n",
              "      <td>37682.000000</td>\n",
              "      <td>37682.000000</td>\n",
              "      <td>37682.000000</td>\n",
              "      <td>37682.000000</td>\n",
              "      <td>37682.000000</td>\n",
              "      <td>37682.000000</td>\n",
              "      <td>37682.000000</td>\n",
              "      <td>37682.000000</td>\n",
              "      <td>37682.000000</td>\n",
              "      <td>37682.000000</td>\n",
              "    </tr>\n",
              "    <tr>\n",
              "      <th>mean</th>\n",
              "      <td>0.037578</td>\n",
              "      <td>2.998355</td>\n",
              "      <td>28.044584</td>\n",
              "      <td>15.707181</td>\n",
              "      <td>6.886789</td>\n",
              "      <td>2012.386577</td>\n",
              "      <td>23.508651</td>\n",
              "      <td>542.871513</td>\n",
              "      <td>4020.753657</td>\n",
              "      <td>62.747428</td>\n",
              "      <td>9.628443</td>\n",
              "      <td>19.209721</td>\n",
              "      <td>479.519761</td>\n",
              "      <td>519.814951</td>\n",
              "      <td>3787.560062</td>\n",
              "      <td>64.181344</td>\n",
              "    </tr>\n",
              "    <tr>\n",
              "      <th>std</th>\n",
              "      <td>0.190175</td>\n",
              "      <td>1.998845</td>\n",
              "      <td>15.552428</td>\n",
              "      <td>8.804424</td>\n",
              "      <td>3.566915</td>\n",
              "      <td>0.623780</td>\n",
              "      <td>13.854822</td>\n",
              "      <td>413.725304</td>\n",
              "      <td>860.148265</td>\n",
              "      <td>32.300069</td>\n",
              "      <td>4.439757</td>\n",
              "      <td>9.569069</td>\n",
              "      <td>85.170896</td>\n",
              "      <td>377.879680</td>\n",
              "      <td>842.544909</td>\n",
              "      <td>35.432265</td>\n",
              "    </tr>\n",
              "    <tr>\n",
              "      <th>min</th>\n",
              "      <td>0.000000</td>\n",
              "      <td>0.000000</td>\n",
              "      <td>1.000000</td>\n",
              "      <td>1.000000</td>\n",
              "      <td>1.000000</td>\n",
              "      <td>2011.000000</td>\n",
              "      <td>0.000000</td>\n",
              "      <td>0.680000</td>\n",
              "      <td>2183.940000</td>\n",
              "      <td>0.000000</td>\n",
              "      <td>-4.000000</td>\n",
              "      <td>0.000000</td>\n",
              "      <td>0.000000</td>\n",
              "      <td>1.000000</td>\n",
              "      <td>1809.960000</td>\n",
              "      <td>-47.740000</td>\n",
              "    </tr>\n",
              "    <tr>\n",
              "      <th>25%</th>\n",
              "      <td>0.000000</td>\n",
              "      <td>1.000000</td>\n",
              "      <td>14.000000</td>\n",
              "      <td>8.000000</td>\n",
              "      <td>4.000000</td>\n",
              "      <td>2012.000000</td>\n",
              "      <td>12.000000</td>\n",
              "      <td>188.927500</td>\n",
              "      <td>3281.780000</td>\n",
              "      <td>45.540000</td>\n",
              "      <td>6.000000</td>\n",
              "      <td>13.000000</td>\n",
              "      <td>421.275000</td>\n",
              "      <td>198.000000</td>\n",
              "      <td>3060.215000</td>\n",
              "      <td>45.800000</td>\n",
              "    </tr>\n",
              "    <tr>\n",
              "      <th>50%</th>\n",
              "      <td>0.000000</td>\n",
              "      <td>3.000000</td>\n",
              "      <td>29.000000</td>\n",
              "      <td>16.000000</td>\n",
              "      <td>7.000000</td>\n",
              "      <td>2012.000000</td>\n",
              "      <td>24.000000</td>\n",
              "      <td>440.645000</td>\n",
              "      <td>4105.530000</td>\n",
              "      <td>55.230000</td>\n",
              "      <td>9.000000</td>\n",
              "      <td>18.500000</td>\n",
              "      <td>480.350000</td>\n",
              "      <td>444.000000</td>\n",
              "      <td>3867.220000</td>\n",
              "      <td>55.560000</td>\n",
              "    </tr>\n",
              "    <tr>\n",
              "      <th>75%</th>\n",
              "      <td>0.000000</td>\n",
              "      <td>5.000000</td>\n",
              "      <td>43.000000</td>\n",
              "      <td>23.000000</td>\n",
              "      <td>10.000000</td>\n",
              "      <td>2013.000000</td>\n",
              "      <td>36.000000</td>\n",
              "      <td>837.182500</td>\n",
              "      <td>4638.982500</td>\n",
              "      <td>70.320000</td>\n",
              "      <td>13.000000</td>\n",
              "      <td>24.100000</td>\n",
              "      <td>537.540000</td>\n",
              "      <td>792.000000</td>\n",
              "      <td>4427.822500</td>\n",
              "      <td>72.120000</td>\n",
              "    </tr>\n",
              "    <tr>\n",
              "      <th>max</th>\n",
              "      <td>1.000000</td>\n",
              "      <td>6.000000</td>\n",
              "      <td>52.000000</td>\n",
              "      <td>31.000000</td>\n",
              "      <td>12.000000</td>\n",
              "      <td>2013.000000</td>\n",
              "      <td>47.000000</td>\n",
              "      <td>1680.000000</td>\n",
              "      <td>6492.910000</td>\n",
              "      <td>587.580000</td>\n",
              "      <td>25.000000</td>\n",
              "      <td>75.900000</td>\n",
              "      <td>842.880000</td>\n",
              "      <td>1769.000000</td>\n",
              "      <td>6309.750000</td>\n",
              "      <td>1000.000000</td>\n",
              "    </tr>\n",
              "  </tbody>\n",
              "</table>\n",
              "</div>\n",
              "      <button class=\"colab-df-convert\" onclick=\"convertToInteractive('df-c78f3a3a-9a1a-4263-b821-56f8ac01233b')\"\n",
              "              title=\"Convert this dataframe to an interactive table.\"\n",
              "              style=\"display:none;\">\n",
              "        \n",
              "  <svg xmlns=\"http://www.w3.org/2000/svg\" height=\"24px\"viewBox=\"0 0 24 24\"\n",
              "       width=\"24px\">\n",
              "    <path d=\"M0 0h24v24H0V0z\" fill=\"none\"/>\n",
              "    <path d=\"M18.56 5.44l.94 2.06.94-2.06 2.06-.94-2.06-.94-.94-2.06-.94 2.06-2.06.94zm-11 1L8.5 8.5l.94-2.06 2.06-.94-2.06-.94L8.5 2.5l-.94 2.06-2.06.94zm10 10l.94 2.06.94-2.06 2.06-.94-2.06-.94-.94-2.06-.94 2.06-2.06.94z\"/><path d=\"M17.41 7.96l-1.37-1.37c-.4-.4-.92-.59-1.43-.59-.52 0-1.04.2-1.43.59L10.3 9.45l-7.72 7.72c-.78.78-.78 2.05 0 2.83L4 21.41c.39.39.9.59 1.41.59.51 0 1.02-.2 1.41-.59l7.78-7.78 2.81-2.81c.8-.78.8-2.07 0-2.86zM5.41 20L4 18.59l7.72-7.72 1.47 1.35L5.41 20z\"/>\n",
              "  </svg>\n",
              "      </button>\n",
              "      \n",
              "  <style>\n",
              "    .colab-df-container {\n",
              "      display:flex;\n",
              "      flex-wrap:wrap;\n",
              "      gap: 12px;\n",
              "    }\n",
              "\n",
              "    .colab-df-convert {\n",
              "      background-color: #E8F0FE;\n",
              "      border: none;\n",
              "      border-radius: 50%;\n",
              "      cursor: pointer;\n",
              "      display: none;\n",
              "      fill: #1967D2;\n",
              "      height: 32px;\n",
              "      padding: 0 0 0 0;\n",
              "      width: 32px;\n",
              "    }\n",
              "\n",
              "    .colab-df-convert:hover {\n",
              "      background-color: #E2EBFA;\n",
              "      box-shadow: 0px 1px 2px rgba(60, 64, 67, 0.3), 0px 1px 3px 1px rgba(60, 64, 67, 0.15);\n",
              "      fill: #174EA6;\n",
              "    }\n",
              "\n",
              "    [theme=dark] .colab-df-convert {\n",
              "      background-color: #3B4455;\n",
              "      fill: #D2E3FC;\n",
              "    }\n",
              "\n",
              "    [theme=dark] .colab-df-convert:hover {\n",
              "      background-color: #434B5C;\n",
              "      box-shadow: 0px 1px 3px 1px rgba(0, 0, 0, 0.15);\n",
              "      filter: drop-shadow(0px 1px 2px rgba(0, 0, 0, 0.3));\n",
              "      fill: #FFFFFF;\n",
              "    }\n",
              "  </style>\n",
              "\n",
              "      <script>\n",
              "        const buttonEl =\n",
              "          document.querySelector('#df-c78f3a3a-9a1a-4263-b821-56f8ac01233b button.colab-df-convert');\n",
              "        buttonEl.style.display =\n",
              "          google.colab.kernel.accessAllowed ? 'block' : 'none';\n",
              "\n",
              "        async function convertToInteractive(key) {\n",
              "          const element = document.querySelector('#df-c78f3a3a-9a1a-4263-b821-56f8ac01233b');\n",
              "          const dataTable =\n",
              "            await google.colab.kernel.invokeFunction('convertToInteractive',\n",
              "                                                     [key], {});\n",
              "          if (!dataTable) return;\n",
              "\n",
              "          const docLinkHtml = 'Like what you see? Visit the ' +\n",
              "            '<a target=\"_blank\" href=https://colab.research.google.com/notebooks/data_table.ipynb>data table notebook</a>'\n",
              "            + ' to learn more about interactive tables.';\n",
              "          element.innerHTML = '';\n",
              "          dataTable['output_type'] = 'display_data';\n",
              "          await google.colab.output.renderOutput(dataTable, element);\n",
              "          const docLink = document.createElement('div');\n",
              "          docLink.innerHTML = docLinkHtml;\n",
              "          element.appendChild(docLink);\n",
              "        }\n",
              "      </script>\n",
              "    </div>\n",
              "  </div>\n",
              "  "
            ]
          },
          "metadata": {},
          "execution_count": 10
        }
      ]
    },
    {
      "cell_type": "markdown",
      "source": [
        "# Outliers"
      ],
      "metadata": {
        "id": "sxMFEdv842_O"
      }
    },
    {
      "cell_type": "code",
      "source": [
        "df2_ = df[['HolidayFlag',\t'DayOfWeek',\t'WeekOfYear',\t'Day',\t'Month',\t'Year',\t'PeriodOfDay',\t'ForecastWindProduction',\t'SystemLoadEA',\t'SMPEA',\t'ORKTemperature',\t'ORKWindspeed',\t'CO2Intensity',\t'ActualWindProduction',\t'SystemLoadEP2', 'SMPEP2']]\n",
        "for i in df2_:\n",
        "  df2_.sort_values(by=i, ascending=True, na_position='last')\n",
        "  q1, q3 = np.nanpercentile(df2_[i], [25,75])\n",
        "  iqr = q3-q1\n",
        "  lower_bound = q1-(1.5*iqr)\n",
        "  upper_bound = q3+(1.5*iqr)\n",
        "  outlier_data = df2_[i][(df2_[i] < lower_bound) | (df2_[i] > upper_bound)] \n",
        "  perc = (outlier_data.count()/df2_[i].count())*100\n",
        "  print('Outliers in %s is %.2f%% with count %.f' %(i, perc, outlier_data.count()))"
      ],
      "metadata": {
        "colab": {
          "base_uri": "https://localhost:8080/"
        },
        "id": "xsCzbQvw9cxS",
        "outputId": "13efff78-f90a-488c-a2a3-93ba4dd82f13"
      },
      "execution_count": null,
      "outputs": [
        {
          "output_type": "stream",
          "name": "stdout",
          "text": [
            "Outliers in HolidayFlag is 3.76% with count 1416\n",
            "Outliers in DayOfWeek is 0.00% with count 0\n",
            "Outliers in WeekOfYear is 0.00% with count 0\n",
            "Outliers in Day is 0.00% with count 0\n",
            "Outliers in Month is 0.00% with count 0\n",
            "Outliers in Year is 0.00% with count 0\n",
            "Outliers in PeriodOfDay is 0.00% with count 0\n",
            "Outliers in ForecastWindProduction is 0.00% with count 0\n",
            "Outliers in SystemLoadEA is 0.00% with count 0\n",
            "Outliers in SMPEA is 5.45% with count 2054\n",
            "Outliers in ORKTemperature is 0.15% with count 56\n",
            "Outliers in ORKWindspeed is 2.37% with count 892\n",
            "Outliers in CO2Intensity is 0.36% with count 136\n",
            "Outliers in ActualWindProduction is 0.01% with count 5\n",
            "Outliers in SystemLoadEP2 is 0.00% with count 0\n",
            "Outliers in SMPEP2 is 6.13% with count 2309\n"
          ]
        }
      ]
    },
    {
      "cell_type": "markdown",
      "source": [
        "# Delete outliers"
      ],
      "metadata": {
        "id": "XO67axlK5BSR"
      }
    },
    {
      "cell_type": "code",
      "source": [
        "Q1 = np.percentile(df[['HolidayFlag', 'SMPEA', 'ORKTemperature', 'ORKWindspeed', 'CO2Intensity', 'SMPEP2', 'ActualWindProduction']], 25,\n",
        "                   interpolation = 'midpoint')\n",
        " \n",
        "Q3 = np.percentile(df[['HolidayFlag', 'SMPEA', 'ORKTemperature', 'ORKWindspeed', 'CO2Intensity', 'SMPEP2', 'ActualWindProduction']], 75,\n",
        "                   interpolation = 'midpoint')\n",
        "IQR = Q3 - Q1\n",
        "\n",
        "upper = np.where(df[['HolidayFlag', 'SMPEA', 'ORKTemperature', 'ORKWindspeed', 'CO2Intensity', 'SMPEP2', 'ActualWindProduction']] >= (Q3+1.5*IQR))\n",
        "lower = np.where(df[['HolidayFlag', 'SMPEA', 'ORKTemperature', 'ORKWindspeed', 'CO2Intensity', 'SMPEP2', 'ActualWindProduction']] <= (Q1-1.5*IQR))\n",
        " \n",
        "\n",
        "df.drop(upper[0], inplace = True) \n",
        "df.drop(lower[0], inplace = True)\n",
        "df.describe()"
      ],
      "metadata": {
        "colab": {
          "base_uri": "https://localhost:8080/",
          "height": 401
        },
        "id": "wsYHHR2YrgTz",
        "outputId": "15ed1c41-198f-4287-afb9-3ce18151dca3"
      },
      "execution_count": 18,
      "outputs": [
        {
          "output_type": "stream",
          "name": "stderr",
          "text": [
            "<ipython-input-18-10e0ae10c3fe>:5: FutureWarning: Automatic reindexing on DataFrame vs Series comparisons is deprecated and will raise ValueError in a future version.  Do `left, right = left.align(right, axis=1, copy=False)` before e.g. `left == right`\n",
            "  df =df[ ~((df[cols] < (Q1 - 1.5 * IQR)) | (df[cols] > (Q3 + 1.5 * IQR))).any(axis=1)].reset_index()\n"
          ]
        },
        {
          "output_type": "execute_result",
          "data": {
            "text/plain": [
              "              index  HolidayFlag     DayOfWeek    WeekOfYear           Day  \\\n",
              "count  31248.000000      31248.0  31248.000000  31248.000000  31248.000000   \n",
              "mean   17680.084165          0.0      3.098470     28.178187     15.622984   \n",
              "std    10213.197747          0.0      1.978151     15.210106      8.695621   \n",
              "min        0.000000          0.0      0.000000      1.000000      1.000000   \n",
              "25%     8941.750000          0.0      1.000000     16.000000      8.000000   \n",
              "50%    17409.500000          0.0      3.000000     29.000000     16.000000   \n",
              "75%    26683.250000          0.0      5.000000     42.000000     23.000000   \n",
              "max    35405.000000          0.0      6.000000     52.000000     31.000000   \n",
              "\n",
              "              Month          Year   PeriodOfDay  ForecastWindProduction  \\\n",
              "count  31248.000000  31248.000000  31248.000000            31247.000000   \n",
              "mean       6.889817   2012.379576     22.337142              522.493001   \n",
              "std        3.502577      0.617038     14.089361              398.871260   \n",
              "min        1.000000   2011.000000      0.000000                0.900000   \n",
              "25%        4.000000   2012.000000     10.000000              182.825000   \n",
              "50%        7.000000   2012.000000     21.000000              422.500000   \n",
              "75%       10.000000   2013.000000     34.000000              800.220000   \n",
              "max       12.000000   2013.000000     47.000000             1601.800000   \n",
              "\n",
              "       SystemLoadEA         SMPEA  ORKTemperature  ORKWindspeed  CO2Intensity  \\\n",
              "count  31248.000000  31248.000000    31079.000000  31075.000000  31246.000000   \n",
              "mean    3902.719109     55.603412        9.761189     18.492811    484.497577   \n",
              "std      814.380498     15.456268        4.378893      8.651596     85.343230   \n",
              "min     2183.940000     11.310000       -2.000000      0.000000    241.180000   \n",
              "25%     3190.730000     44.600000        7.000000     11.100000    425.542500   \n",
              "50%     3957.635000     52.800000       10.000000     16.700000    485.795000   \n",
              "75%     4546.112500     65.260000       13.000000     24.100000    544.420000   \n",
              "max     6333.520000    101.390000       22.000000     40.700000    719.770000   \n",
              "\n",
              "       ActualWindProduction  SystemLoadEP2        SMPEP2  \n",
              "count          31247.000000   31248.000000  31248.000000  \n",
              "mean             503.602778    3678.039759     56.119638  \n",
              "std              364.387573     796.958887     16.245425  \n",
              "min                2.000000    1809.960000     11.280000  \n",
              "25%              195.000000    2975.050000     44.787500  \n",
              "50%              431.000000    3745.155000     53.180000  \n",
              "75%              765.000000    4341.052500     66.050000  \n",
              "max             1588.000000    6014.110000    101.880000  "
            ],
            "text/html": [
              "\n",
              "  <div id=\"df-40d55778-4c14-4fc7-af05-65c4075f3640\">\n",
              "    <div class=\"colab-df-container\">\n",
              "      <div>\n",
              "<style scoped>\n",
              "    .dataframe tbody tr th:only-of-type {\n",
              "        vertical-align: middle;\n",
              "    }\n",
              "\n",
              "    .dataframe tbody tr th {\n",
              "        vertical-align: top;\n",
              "    }\n",
              "\n",
              "    .dataframe thead th {\n",
              "        text-align: right;\n",
              "    }\n",
              "</style>\n",
              "<table border=\"1\" class=\"dataframe\">\n",
              "  <thead>\n",
              "    <tr style=\"text-align: right;\">\n",
              "      <th></th>\n",
              "      <th>index</th>\n",
              "      <th>HolidayFlag</th>\n",
              "      <th>DayOfWeek</th>\n",
              "      <th>WeekOfYear</th>\n",
              "      <th>Day</th>\n",
              "      <th>Month</th>\n",
              "      <th>Year</th>\n",
              "      <th>PeriodOfDay</th>\n",
              "      <th>ForecastWindProduction</th>\n",
              "      <th>SystemLoadEA</th>\n",
              "      <th>SMPEA</th>\n",
              "      <th>ORKTemperature</th>\n",
              "      <th>ORKWindspeed</th>\n",
              "      <th>CO2Intensity</th>\n",
              "      <th>ActualWindProduction</th>\n",
              "      <th>SystemLoadEP2</th>\n",
              "      <th>SMPEP2</th>\n",
              "    </tr>\n",
              "  </thead>\n",
              "  <tbody>\n",
              "    <tr>\n",
              "      <th>count</th>\n",
              "      <td>31248.000000</td>\n",
              "      <td>31248.0</td>\n",
              "      <td>31248.000000</td>\n",
              "      <td>31248.000000</td>\n",
              "      <td>31248.000000</td>\n",
              "      <td>31248.000000</td>\n",
              "      <td>31248.000000</td>\n",
              "      <td>31248.000000</td>\n",
              "      <td>31247.000000</td>\n",
              "      <td>31248.000000</td>\n",
              "      <td>31248.000000</td>\n",
              "      <td>31079.000000</td>\n",
              "      <td>31075.000000</td>\n",
              "      <td>31246.000000</td>\n",
              "      <td>31247.000000</td>\n",
              "      <td>31248.000000</td>\n",
              "      <td>31248.000000</td>\n",
              "    </tr>\n",
              "    <tr>\n",
              "      <th>mean</th>\n",
              "      <td>17680.084165</td>\n",
              "      <td>0.0</td>\n",
              "      <td>3.098470</td>\n",
              "      <td>28.178187</td>\n",
              "      <td>15.622984</td>\n",
              "      <td>6.889817</td>\n",
              "      <td>2012.379576</td>\n",
              "      <td>22.337142</td>\n",
              "      <td>522.493001</td>\n",
              "      <td>3902.719109</td>\n",
              "      <td>55.603412</td>\n",
              "      <td>9.761189</td>\n",
              "      <td>18.492811</td>\n",
              "      <td>484.497577</td>\n",
              "      <td>503.602778</td>\n",
              "      <td>3678.039759</td>\n",
              "      <td>56.119638</td>\n",
              "    </tr>\n",
              "    <tr>\n",
              "      <th>std</th>\n",
              "      <td>10213.197747</td>\n",
              "      <td>0.0</td>\n",
              "      <td>1.978151</td>\n",
              "      <td>15.210106</td>\n",
              "      <td>8.695621</td>\n",
              "      <td>3.502577</td>\n",
              "      <td>0.617038</td>\n",
              "      <td>14.089361</td>\n",
              "      <td>398.871260</td>\n",
              "      <td>814.380498</td>\n",
              "      <td>15.456268</td>\n",
              "      <td>4.378893</td>\n",
              "      <td>8.651596</td>\n",
              "      <td>85.343230</td>\n",
              "      <td>364.387573</td>\n",
              "      <td>796.958887</td>\n",
              "      <td>16.245425</td>\n",
              "    </tr>\n",
              "    <tr>\n",
              "      <th>min</th>\n",
              "      <td>0.000000</td>\n",
              "      <td>0.0</td>\n",
              "      <td>0.000000</td>\n",
              "      <td>1.000000</td>\n",
              "      <td>1.000000</td>\n",
              "      <td>1.000000</td>\n",
              "      <td>2011.000000</td>\n",
              "      <td>0.000000</td>\n",
              "      <td>0.900000</td>\n",
              "      <td>2183.940000</td>\n",
              "      <td>11.310000</td>\n",
              "      <td>-2.000000</td>\n",
              "      <td>0.000000</td>\n",
              "      <td>241.180000</td>\n",
              "      <td>2.000000</td>\n",
              "      <td>1809.960000</td>\n",
              "      <td>11.280000</td>\n",
              "    </tr>\n",
              "    <tr>\n",
              "      <th>25%</th>\n",
              "      <td>8941.750000</td>\n",
              "      <td>0.0</td>\n",
              "      <td>1.000000</td>\n",
              "      <td>16.000000</td>\n",
              "      <td>8.000000</td>\n",
              "      <td>4.000000</td>\n",
              "      <td>2012.000000</td>\n",
              "      <td>10.000000</td>\n",
              "      <td>182.825000</td>\n",
              "      <td>3190.730000</td>\n",
              "      <td>44.600000</td>\n",
              "      <td>7.000000</td>\n",
              "      <td>11.100000</td>\n",
              "      <td>425.542500</td>\n",
              "      <td>195.000000</td>\n",
              "      <td>2975.050000</td>\n",
              "      <td>44.787500</td>\n",
              "    </tr>\n",
              "    <tr>\n",
              "      <th>50%</th>\n",
              "      <td>17409.500000</td>\n",
              "      <td>0.0</td>\n",
              "      <td>3.000000</td>\n",
              "      <td>29.000000</td>\n",
              "      <td>16.000000</td>\n",
              "      <td>7.000000</td>\n",
              "      <td>2012.000000</td>\n",
              "      <td>21.000000</td>\n",
              "      <td>422.500000</td>\n",
              "      <td>3957.635000</td>\n",
              "      <td>52.800000</td>\n",
              "      <td>10.000000</td>\n",
              "      <td>16.700000</td>\n",
              "      <td>485.795000</td>\n",
              "      <td>431.000000</td>\n",
              "      <td>3745.155000</td>\n",
              "      <td>53.180000</td>\n",
              "    </tr>\n",
              "    <tr>\n",
              "      <th>75%</th>\n",
              "      <td>26683.250000</td>\n",
              "      <td>0.0</td>\n",
              "      <td>5.000000</td>\n",
              "      <td>42.000000</td>\n",
              "      <td>23.000000</td>\n",
              "      <td>10.000000</td>\n",
              "      <td>2013.000000</td>\n",
              "      <td>34.000000</td>\n",
              "      <td>800.220000</td>\n",
              "      <td>4546.112500</td>\n",
              "      <td>65.260000</td>\n",
              "      <td>13.000000</td>\n",
              "      <td>24.100000</td>\n",
              "      <td>544.420000</td>\n",
              "      <td>765.000000</td>\n",
              "      <td>4341.052500</td>\n",
              "      <td>66.050000</td>\n",
              "    </tr>\n",
              "    <tr>\n",
              "      <th>max</th>\n",
              "      <td>35405.000000</td>\n",
              "      <td>0.0</td>\n",
              "      <td>6.000000</td>\n",
              "      <td>52.000000</td>\n",
              "      <td>31.000000</td>\n",
              "      <td>12.000000</td>\n",
              "      <td>2013.000000</td>\n",
              "      <td>47.000000</td>\n",
              "      <td>1601.800000</td>\n",
              "      <td>6333.520000</td>\n",
              "      <td>101.390000</td>\n",
              "      <td>22.000000</td>\n",
              "      <td>40.700000</td>\n",
              "      <td>719.770000</td>\n",
              "      <td>1588.000000</td>\n",
              "      <td>6014.110000</td>\n",
              "      <td>101.880000</td>\n",
              "    </tr>\n",
              "  </tbody>\n",
              "</table>\n",
              "</div>\n",
              "      <button class=\"colab-df-convert\" onclick=\"convertToInteractive('df-40d55778-4c14-4fc7-af05-65c4075f3640')\"\n",
              "              title=\"Convert this dataframe to an interactive table.\"\n",
              "              style=\"display:none;\">\n",
              "        \n",
              "  <svg xmlns=\"http://www.w3.org/2000/svg\" height=\"24px\"viewBox=\"0 0 24 24\"\n",
              "       width=\"24px\">\n",
              "    <path d=\"M0 0h24v24H0V0z\" fill=\"none\"/>\n",
              "    <path d=\"M18.56 5.44l.94 2.06.94-2.06 2.06-.94-2.06-.94-.94-2.06-.94 2.06-2.06.94zm-11 1L8.5 8.5l.94-2.06 2.06-.94-2.06-.94L8.5 2.5l-.94 2.06-2.06.94zm10 10l.94 2.06.94-2.06 2.06-.94-2.06-.94-.94-2.06-.94 2.06-2.06.94z\"/><path d=\"M17.41 7.96l-1.37-1.37c-.4-.4-.92-.59-1.43-.59-.52 0-1.04.2-1.43.59L10.3 9.45l-7.72 7.72c-.78.78-.78 2.05 0 2.83L4 21.41c.39.39.9.59 1.41.59.51 0 1.02-.2 1.41-.59l7.78-7.78 2.81-2.81c.8-.78.8-2.07 0-2.86zM5.41 20L4 18.59l7.72-7.72 1.47 1.35L5.41 20z\"/>\n",
              "  </svg>\n",
              "      </button>\n",
              "      \n",
              "  <style>\n",
              "    .colab-df-container {\n",
              "      display:flex;\n",
              "      flex-wrap:wrap;\n",
              "      gap: 12px;\n",
              "    }\n",
              "\n",
              "    .colab-df-convert {\n",
              "      background-color: #E8F0FE;\n",
              "      border: none;\n",
              "      border-radius: 50%;\n",
              "      cursor: pointer;\n",
              "      display: none;\n",
              "      fill: #1967D2;\n",
              "      height: 32px;\n",
              "      padding: 0 0 0 0;\n",
              "      width: 32px;\n",
              "    }\n",
              "\n",
              "    .colab-df-convert:hover {\n",
              "      background-color: #E2EBFA;\n",
              "      box-shadow: 0px 1px 2px rgba(60, 64, 67, 0.3), 0px 1px 3px 1px rgba(60, 64, 67, 0.15);\n",
              "      fill: #174EA6;\n",
              "    }\n",
              "\n",
              "    [theme=dark] .colab-df-convert {\n",
              "      background-color: #3B4455;\n",
              "      fill: #D2E3FC;\n",
              "    }\n",
              "\n",
              "    [theme=dark] .colab-df-convert:hover {\n",
              "      background-color: #434B5C;\n",
              "      box-shadow: 0px 1px 3px 1px rgba(0, 0, 0, 0.15);\n",
              "      filter: drop-shadow(0px 1px 2px rgba(0, 0, 0, 0.3));\n",
              "      fill: #FFFFFF;\n",
              "    }\n",
              "  </style>\n",
              "\n",
              "      <script>\n",
              "        const buttonEl =\n",
              "          document.querySelector('#df-40d55778-4c14-4fc7-af05-65c4075f3640 button.colab-df-convert');\n",
              "        buttonEl.style.display =\n",
              "          google.colab.kernel.accessAllowed ? 'block' : 'none';\n",
              "\n",
              "        async function convertToInteractive(key) {\n",
              "          const element = document.querySelector('#df-40d55778-4c14-4fc7-af05-65c4075f3640');\n",
              "          const dataTable =\n",
              "            await google.colab.kernel.invokeFunction('convertToInteractive',\n",
              "                                                     [key], {});\n",
              "          if (!dataTable) return;\n",
              "\n",
              "          const docLinkHtml = 'Like what you see? Visit the ' +\n",
              "            '<a target=\"_blank\" href=https://colab.research.google.com/notebooks/data_table.ipynb>data table notebook</a>'\n",
              "            + ' to learn more about interactive tables.';\n",
              "          element.innerHTML = '';\n",
              "          dataTable['output_type'] = 'display_data';\n",
              "          await google.colab.output.renderOutput(dataTable, element);\n",
              "          const docLink = document.createElement('div');\n",
              "          docLink.innerHTML = docLinkHtml;\n",
              "          element.appendChild(docLink);\n",
              "        }\n",
              "      </script>\n",
              "    </div>\n",
              "  </div>\n",
              "  "
            ]
          },
          "metadata": {},
          "execution_count": 18
        }
      ]
    },
    {
      "cell_type": "markdown",
      "source": [
        "# Plot"
      ],
      "metadata": {
        "id": "otR_T7g85KbO"
      }
    },
    {
      "cell_type": "code",
      "source": [
        "df = df[['Day',\t'Month',\t'SystemLoadEA',\t'SMPEA',\t'ORKTemperature',\t'ORKWindspeed',\t'CO2Intensity',\t'ActualWindProduction',\t'SystemLoadEP2', 'SMPEP2']]\n",
        "df.hist(figsize=(12, 10), bins=30, edgecolor=\"black\")\n",
        "plt.subplots_adjust(hspace=0.7, wspace=0.4)"
      ],
      "metadata": {
        "colab": {
          "base_uri": "https://localhost:8080/",
          "height": 608
        },
        "id": "Rmgpg3QenH7k",
        "outputId": "a8608b92-beb1-446f-a367-7bf95b9f995f"
      },
      "execution_count": 19,
      "outputs": [
        {
          "output_type": "display_data",
          "data": {
            "text/plain": [
              "<Figure size 864x720 with 12 Axes>"
            ],
            "image/png": "[encoded data removed]"
          },
          "metadata": {
            "needs_background": "light"
          }
        }
      ]
    },
    {
      "cell_type": "markdown",
      "source": [
        "# Models"
      ],
      "metadata": {
        "id": "k3aKN3V3m4Iu"
      }
    },
    {
      "cell_type": "markdown",
      "source": [
        "# Linear regression model"
      ],
      "metadata": {
        "id": "MfbsYiAY3jFh"
      }
    },
    {
      "cell_type": "markdown",
      "source": [
        "# 1"
      ],
      "metadata": {
        "id": "DibVI5kOBtP4"
      }
    },
    {
      "cell_type": "code",
      "source": [
        "df = df[['Day',\t'Month',\t'SystemLoadEA',\t'SMPEA',\t'ORKTemperature',\t'ORKWindspeed',\t'CO2Intensity',\t'ActualWindProduction',\t'SystemLoadEP2', 'SMPEP2']]\n",
        "X = df.iloc[:, :-1].values\n",
        "y = df.iloc[:, -1].values"
      ],
      "metadata": {
        "id": "tMvSLJVdBG2S"
      },
      "execution_count": 25,
      "outputs": []
    },
    {
      "cell_type": "code",
      "source": [
        "from sklearn.model_selection import train_test_split\n",
        "X1_train, X1_test, y1_train, y1_test = train_test_split(X,y, test_size=0.3)"
      ],
      "metadata": {
        "id": "hdFdAd4dBJ7q"
      },
      "execution_count": 26,
      "outputs": []
    },
    {
      "cell_type": "code",
      "source": [
        "from sklearn.linear_model import LinearRegression\n",
        "from sklearn import metrics"
      ],
      "metadata": {
        "id": "K7dmGWBX_MNZ"
      },
      "execution_count": 27,
      "outputs": []
    },
    {
      "cell_type": "code",
      "source": [
        "linear1 = LinearRegression()\n",
        "linear1.fit(X1_train, y1_train)\n",
        "y1_pred = linear1.predict(X1_test)"
      ],
      "metadata": {
        "id": "K4TJXVUS_O56"
      },
      "execution_count": 28,
      "outputs": []
    },
    {
      "cell_type": "code",
      "source": [
        "print(\"MSE lr: \", metrics.mean_squared_error(y1_test, y1_pred))\n",
        "print(\"RMSE lr: \", (metrics.mean_squared_error(y1_test, y1_pred))**(1/2.0))\n",
        "print(\"R2_SCORE lr: \", metrics.r2_score(y1_test, y1_pred))\n",
        "print(\"MAPE lr: \", metrics.mean_absolute_percentage_error(y1_test, y1_pred))\n",
        "print(\"MAE lr: \", metrics.mean_absolute_error(y1_test, y1_pred))"
      ],
      "metadata": {
        "colab": {
          "base_uri": "https://localhost:8080/"
        },
        "id": "c7aD7179A-P-",
        "outputId": "42b8fae7-e868-4ddd-8115-5e8edfdf02f4"
      },
      "execution_count": 29,
      "outputs": [
        {
          "output_type": "stream",
          "name": "stdout",
          "text": [
            "MSE lr:  137.2403978938406\n",
            "RMSE lr:  11.714964698787641\n",
            "R2_SCORE lr:  0.47519215731350617\n",
            "MAPE lr:  0.16067777798481328\n",
            "MAE lr:  8.836384727487676\n"
          ]
        }
      ]
    },
    {
      "cell_type": "markdown",
      "source": [
        "# 2"
      ],
      "metadata": {
        "id": "5Q7XA3oCBvv5"
      }
    },
    {
      "cell_type": "code",
      "source": [
        "df = df[['Day',\t'Month',\t'SystemLoadEA',\t'SMPEA',\t'ORKTemperature',\t'ORKWindspeed',\t'CO2Intensity',\t'ActualWindProduction',\t'SystemLoadEP2', 'SMPEP2']]\n",
        "X = df.iloc[:, :-1].values\n",
        "y = df.iloc[:, -1].values"
      ],
      "metadata": {
        "id": "QZ54pxgOCRvx"
      },
      "execution_count": 30,
      "outputs": []
    },
    {
      "cell_type": "code",
      "source": [
        "from sklearn.model_selection import train_test_split\n",
        "from sklearn.preprocessing import StandardScaler\n",
        "X2_train, X2_test, y2_train, y2_test = train_test_split(X,y, test_size=0.3)\n",
        "st_x= StandardScaler()    \n",
        "X2_train= st_x.fit_transform(X2_train)    \n",
        "X2_test= st_x.transform(X2_test)"
      ],
      "metadata": {
        "id": "YnxuRLspCOnK"
      },
      "execution_count": 31,
      "outputs": []
    },
    {
      "cell_type": "code",
      "source": [
        "from sklearn.linear_model import LinearRegression\n",
        "from sklearn import metrics"
      ],
      "metadata": {
        "id": "h98sSO9WCUHN"
      },
      "execution_count": 32,
      "outputs": []
    },
    {
      "cell_type": "code",
      "source": [
        "linear2 = LinearRegression()\n",
        "linear2.fit(X2_train, y2_train)\n",
        "y2_pred = linear2.predict(X2_test)"
      ],
      "metadata": {
        "id": "Tn6TrXcLCV2b"
      },
      "execution_count": 33,
      "outputs": []
    },
    {
      "cell_type": "code",
      "source": [
        "print(\"MSE lr: \", metrics.mean_squared_error(y2_test, y2_pred))\n",
        "print(\"RMSE lr: \", (metrics.mean_squared_error(y2_test, y2_pred))**(1/2.0))\n",
        "print(\"R2_SCORE lr: \", metrics.r2_score(y2_test, y2_pred))\n",
        "print(\"MAPE lr: \", metrics.mean_absolute_percentage_error(y2_test, y2_pred))\n",
        "print(\"MAE lr: \", metrics.mean_absolute_error(y2_test, y2_pred))"
      ],
      "metadata": {
        "colab": {
          "base_uri": "https://localhost:8080/"
        },
        "id": "qoL3NKs9CYJj",
        "outputId": "253e3f03-700d-4f09-f181-50fb23002f26"
      },
      "execution_count": 34,
      "outputs": [
        {
          "output_type": "stream",
          "name": "stdout",
          "text": [
            "MSE lr:  139.37144030781621\n",
            "RMSE lr:  11.805568190807938\n",
            "R2_SCORE lr:  0.4801508534314737\n",
            "MAPE lr:  0.1627448792979886\n",
            "MAE lr:  8.918483237649028\n"
          ]
        }
      ]
    },
    {
      "cell_type": "markdown",
      "source": [
        "# 3"
      ],
      "metadata": {
        "id": "o2kfKU2UCfoA"
      }
    },
    {
      "cell_type": "code",
      "source": [
        "df = df[['Day',\t'Month',\t'SystemLoadEA',\t'SMPEA',\t'ORKTemperature',\t'ORKWindspeed',\t'CO2Intensity',\t'ActualWindProduction',\t'SystemLoadEP2', 'SMPEP2']]\n",
        "X = df.iloc[:, :-1].values\n",
        "y = df.iloc[:, -1].values"
      ],
      "metadata": {
        "id": "gvD7pF1DCkhh"
      },
      "execution_count": 35,
      "outputs": []
    },
    {
      "cell_type": "code",
      "source": [
        "from sklearn.model_selection import train_test_split\n",
        "from sklearn import preprocessing\n",
        "from sklearn.pipeline import make_pipeline\n",
        "from sklearn.preprocessing import StandardScaler\n",
        "X3_train, X3_test, y3_train, y3_test = train_test_split(X,y, test_size=0.3)"
      ],
      "metadata": {
        "id": "07PyLqxJCfWr"
      },
      "execution_count": 36,
      "outputs": []
    },
    {
      "cell_type": "code",
      "source": [
        "from sklearn.linear_model import LinearRegression\n",
        "from sklearn import metrics"
      ],
      "metadata": {
        "id": "t50KXVLMCmnZ"
      },
      "execution_count": 37,
      "outputs": []
    },
    {
      "cell_type": "code",
      "source": [
        "linear3 = make_pipeline(preprocessing.StandardScaler(), LinearRegression())\n",
        "linear3.fit(X3_train, y3_train)\n",
        "y3_pred = linear3.predict(X3_test)"
      ],
      "metadata": {
        "id": "karKkadJCogY"
      },
      "execution_count": 38,
      "outputs": []
    },
    {
      "cell_type": "code",
      "source": [
        "print(\"MSE lr: \", metrics.mean_squared_error(y3_test, y3_pred))\n",
        "print(\"RMSE lr: \", (metrics.mean_squared_error(y3_test, y3_pred))**(1/2.0))\n",
        "print(\"R2_SCORE lr: \", metrics.r2_score(y3_test, y3_pred))\n",
        "print(\"MAPE lr: \", metrics.mean_absolute_percentage_error(y3_test, y3_pred))\n",
        "print(\"MAE lr: \", metrics.mean_absolute_error(y3_test, y3_pred))"
      ],
      "metadata": {
        "colab": {
          "base_uri": "https://localhost:8080/"
        },
        "id": "rgtSwVZkCqZK",
        "outputId": "4e15893a-1ef0-4129-89b8-f8db765b2718"
      },
      "execution_count": 39,
      "outputs": [
        {
          "output_type": "stream",
          "name": "stdout",
          "text": [
            "MSE lr:  135.54056924723983\n",
            "RMSE lr:  11.64218919478806\n",
            "R2_SCORE lr:  0.48747349797807193\n",
            "MAPE lr:  0.16033754603529468\n",
            "MAE lr:  8.736067167137495\n"
          ]
        }
      ]
    },
    {
      "cell_type": "markdown",
      "source": [
        "# Ridge model"
      ],
      "metadata": {
        "id": "4rAi8_dinccj"
      }
    },
    {
      "cell_type": "markdown",
      "source": [
        "# 1"
      ],
      "metadata": {
        "id": "XUn2goVmnfse"
      }
    },
    {
      "cell_type": "code",
      "source": [
        "df = df[['Day',\t'Month',\t'SystemLoadEA',\t'SMPEA',\t'ORKTemperature',\t'ORKWindspeed',\t'CO2Intensity',\t'ActualWindProduction',\t'SystemLoadEP2', 'SMPEP2']]\n",
        "X = df.iloc[:, :-1].values\n",
        "y = df.iloc[:, -1].values"
      ],
      "metadata": {
        "id": "7Q89cdRPnbyv"
      },
      "execution_count": 45,
      "outputs": []
    },
    {
      "cell_type": "code",
      "source": [
        "from sklearn.model_selection import train_test_split\n",
        "a1_train, a1_test, b1_train, b1_test = train_test_split(X,y, test_size=0.3)"
      ],
      "metadata": {
        "id": "AAC7g0kfnlNl"
      },
      "execution_count": 46,
      "outputs": []
    },
    {
      "cell_type": "code",
      "source": [
        "from sklearn.linear_model import Ridge\n",
        "from sklearn import metrics"
      ],
      "metadata": {
        "id": "n6G4JL9ZnrAb"
      },
      "execution_count": 47,
      "outputs": []
    },
    {
      "cell_type": "code",
      "source": [
        "ridge1 = Ridge(alpha=0.9)\n",
        "ridge1.fit(a1_train, b1_train)\n",
        "b1_pred = ridge1.predict(a1_test)"
      ],
      "metadata": {
        "id": "oJmXT63onthb"
      },
      "execution_count": 48,
      "outputs": []
    },
    {
      "cell_type": "code",
      "source": [
        "print(\"MSE ridge: \", metrics.mean_squared_error(b1_test, b1_pred))\n",
        "print(\"RMSE ridge: \", (metrics.mean_squared_error(b1_test, b1_pred))**(1/2.0))\n",
        "print(\"R2_SCORE ridge: \", metrics.r2_score(b1_test, b1_pred))\n",
        "print(\"MAPE ridge: \", metrics.mean_absolute_percentage_error(b1_test, b1_pred))\n",
        "print(\"MAE ridge: \", metrics.mean_absolute_error(b1_test, b1_pred))"
      ],
      "metadata": {
        "colab": {
          "base_uri": "https://localhost:8080/"
        },
        "id": "tkKtSonxnwgu",
        "outputId": "4986453c-05b2-44d6-c806-1a6ae051335e"
      },
      "execution_count": 49,
      "outputs": [
        {
          "output_type": "stream",
          "name": "stdout",
          "text": [
            "MSE ridge:  140.74107669462222\n",
            "RMSE ridge:  11.863434439260084\n",
            "R2_SCORE ridge:  0.4708661313121847\n",
            "MAPE ridge:  0.159927841029279\n",
            "MAE ridge:  8.868463765300104\n"
          ]
        }
      ]
    },
    {
      "cell_type": "markdown",
      "source": [
        "# 2"
      ],
      "metadata": {
        "id": "bbOK2C3Rnx9W"
      }
    },
    {
      "cell_type": "code",
      "source": [
        "df = df[['Day',\t'Month',\t'SystemLoadEA',\t'SMPEA',\t'ORKTemperature',\t'ORKWindspeed',\t'CO2Intensity',\t'ActualWindProduction',\t'SystemLoadEP2', 'SMPEP2']]\n",
        "X = df.iloc[:, :-1].values\n",
        "y = df.iloc[:, -1].values"
      ],
      "metadata": {
        "id": "IUKSg-uGn2SU"
      },
      "execution_count": 55,
      "outputs": []
    },
    {
      "cell_type": "code",
      "source": [
        "from sklearn.model_selection import train_test_split\n",
        "from sklearn.preprocessing import StandardScaler\n",
        "a2_train, a2_test, b2_train, b2_test = train_test_split(X,y, test_size=0.3)\n",
        "st_a= StandardScaler()    \n",
        "a2_train= st_a.fit_transform(a2_train)    \n",
        "a2_test= st_a.transform(a2_test)"
      ],
      "metadata": {
        "id": "3ugYhhZHn6rV"
      },
      "execution_count": 56,
      "outputs": []
    },
    {
      "cell_type": "code",
      "source": [
        "from sklearn.linear_model import Ridge\n",
        "from sklearn import metrics"
      ],
      "metadata": {
        "id": "m3i5me0on9Oy"
      },
      "execution_count": 57,
      "outputs": []
    },
    {
      "cell_type": "code",
      "source": [
        "ridge2 = Ridge(alpha=0.9)\n",
        "ridge2.fit(a2_train, b2_train)\n",
        "b2_pred = ridge2.predict(a2_test)"
      ],
      "metadata": {
        "id": "MN2dROE3n_Ps"
      },
      "execution_count": 58,
      "outputs": []
    },
    {
      "cell_type": "code",
      "source": [
        "print(\"MSE ridge: \", metrics.mean_squared_error(b2_test, b2_pred))\n",
        "print(\"RMSE ridge: \", (metrics.mean_squared_error(b2_test, b2_pred))**(1/2.0))\n",
        "print(\"R2_SCORE ridge: \", metrics.r2_score(b2_test, b2_pred))\n",
        "print(\"MAPE ridge: \", metrics.mean_absolute_percentage_error(b2_test, b2_pred))\n",
        "print(\"MAE ridge: \", metrics.mean_absolute_error(b2_test, b2_pred))"
      ],
      "metadata": {
        "colab": {
          "base_uri": "https://localhost:8080/"
        },
        "id": "skLQiiygoBpA",
        "outputId": "c1d7dc93-cd00-482f-c7c1-dd48d268800e"
      },
      "execution_count": 59,
      "outputs": [
        {
          "output_type": "stream",
          "name": "stdout",
          "text": [
            "MSE ridge:  140.2042845457735\n",
            "RMSE ridge:  11.84078901702811\n",
            "R2_SCORE ridge:  0.4771743113970922\n",
            "MAPE ridge:  0.16244202875016187\n",
            "MAE ridge:  8.93016559201626\n"
          ]
        }
      ]
    },
    {
      "cell_type": "markdown",
      "source": [
        "# 3"
      ],
      "metadata": {
        "id": "ogZRQM5MoJOc"
      }
    },
    {
      "cell_type": "code",
      "source": [
        "df = df[['Day',\t'Month',\t'SystemLoadEA',\t'SMPEA',\t'ORKTemperature',\t'ORKWindspeed',\t'CO2Intensity',\t'ActualWindProduction',\t'SystemLoadEP2', 'SMPEP2']]\n",
        "X = df.iloc[:, :-1].values\n",
        "y = df.iloc[:, -1].values"
      ],
      "metadata": {
        "id": "yoz0pks_oLMM"
      },
      "execution_count": 65,
      "outputs": []
    },
    {
      "cell_type": "code",
      "source": [
        "from sklearn.model_selection import train_test_split\n",
        "from sklearn.pipeline import make_pipeline\n",
        "from sklearn.preprocessing import StandardScaler\n",
        "a3_train, a3_test, b3_train, b3_test = train_test_split(X,y, test_size=0.3)"
      ],
      "metadata": {
        "id": "kT6ys909oPZs"
      },
      "execution_count": 66,
      "outputs": []
    },
    {
      "cell_type": "code",
      "source": [
        "from sklearn.linear_model import Ridge\n",
        "from sklearn import metrics"
      ],
      "metadata": {
        "id": "-dT5mKn1oSCm"
      },
      "execution_count": 67,
      "outputs": []
    },
    {
      "cell_type": "code",
      "source": [
        "ridge3 = make_pipeline(preprocessing.StandardScaler(), Ridge())\n",
        "ridge3.fit(a3_train, b3_train)\n",
        "b3_pred = ridge3.predict(a3_test)"
      ],
      "metadata": {
        "id": "8SOwZvT3oUTc"
      },
      "execution_count": 68,
      "outputs": []
    },
    {
      "cell_type": "code",
      "source": [
        "print(\"MSE ridge: \", metrics.mean_squared_error(b3_test, b3_pred))\n",
        "print(\"RMSE ridge: \", (metrics.mean_squared_error(b3_test, b3_pred))**(1/2.0))\n",
        "print(\"R2_SCORE ridge: \", metrics.r2_score(b3_test, b3_pred))\n",
        "print(\"MAPE ridge: \", metrics.mean_absolute_percentage_error(b3_test, b3_pred))\n",
        "print(\"MAE ridge: \", metrics.mean_absolute_error(b3_test, b3_pred))"
      ],
      "metadata": {
        "colab": {
          "base_uri": "https://localhost:8080/"
        },
        "id": "0iVvfcTboWrA",
        "outputId": "e8da3db4-931e-4e3b-da6f-1f731465039b"
      },
      "execution_count": 69,
      "outputs": [
        {
          "output_type": "stream",
          "name": "stdout",
          "text": [
            "MSE ridge:  139.12497476569558\n",
            "RMSE ridge:  11.795125042393387\n",
            "R2_SCORE ridge:  0.47514691804860953\n",
            "MAPE ridge:  0.1598333671430828\n",
            "MAE ridge:  8.860215356846874\n"
          ]
        }
      ]
    },
    {
      "cell_type": "markdown",
      "source": [
        "# Polynomial regression model"
      ],
      "metadata": {
        "id": "-WSm8wY8oc_O"
      }
    },
    {
      "cell_type": "markdown",
      "source": [
        "# degree 2"
      ],
      "metadata": {
        "id": "EdQjF5itog4W"
      }
    },
    {
      "cell_type": "code",
      "source": [
        "df = df[['Day',\t'Month',\t'SystemLoadEA',\t'SMPEA',\t'ORKTemperature',\t'ORKWindspeed',\t'CO2Intensity',\t'ActualWindProduction',\t'SystemLoadEP2', 'SMPEP2']]\n",
        "X = df.iloc[:, :-1].values\n",
        "y = df.iloc[:, -1].values"
      ],
      "metadata": {
        "id": "4eKWfDrFor9V"
      },
      "execution_count": 80,
      "outputs": []
    },
    {
      "cell_type": "code",
      "source": [
        "from sklearn.model_selection import train_test_split\n",
        "c_train, c_test, d_train, d_test = train_test_split(X,y, test_size=0.3)"
      ],
      "metadata": {
        "id": "M4o8EDUBojDN"
      },
      "execution_count": 81,
      "outputs": []
    },
    {
      "cell_type": "code",
      "source": [
        "from sklearn.preprocessing import PolynomialFeatures"
      ],
      "metadata": {
        "id": "ggWw7PUcou0e"
      },
      "execution_count": 82,
      "outputs": []
    },
    {
      "cell_type": "code",
      "source": [
        "polyRegressor = PolynomialFeatures(degree=2, include_bias=False)\n",
        "c_train_poly = polyRegressor.fit_transform(c_train)\n",
        "c_test_poly = polyRegressor.fit_transform(c_test)\n",
        "poly = LinearRegression()\n",
        "poly.fit(c_train_poly, d_train)\n",
        "d_pred = poly.predict(c_test_poly)"
      ],
      "metadata": {
        "id": "fYMNd93roxEd"
      },
      "execution_count": 83,
      "outputs": []
    },
    {
      "cell_type": "code",
      "source": [
        "print(\"MSE poly: \", metrics.mean_squared_error(d_test, d_pred))\n",
        "print(\"RMSE poly: \", (metrics.mean_squared_error(d_test, d_pred))**(1/2.0))\n",
        "print(\"R2_SCORE poly: \", metrics.r2_score(d_test, d_pred))\n",
        "print(\"MAPE poly: \", metrics.mean_absolute_percentage_error(d_test, d_pred))\n",
        "print(\"MAE poly: \", metrics.mean_absolute_error(d_test, d_pred))"
      ],
      "metadata": {
        "colab": {
          "base_uri": "https://localhost:8080/"
        },
        "id": "o0Tsh32lo0EY",
        "outputId": "96d29280-cde2-4a14-fe1b-349544ee7e77"
      },
      "execution_count": 84,
      "outputs": [
        {
          "output_type": "stream",
          "name": "stdout",
          "text": [
            "MSE poly:  131.1781977957833\n",
            "RMSE poly:  11.453305103584\n",
            "R2_SCORE poly:  0.5029954087041034\n",
            "MAPE poly:  0.15655947075392065\n",
            "MAE poly:  8.654032755316303\n"
          ]
        }
      ]
    },
    {
      "cell_type": "markdown",
      "source": [
        "# degree3"
      ],
      "metadata": {
        "id": "VlBwEJSv-xzx"
      }
    },
    {
      "cell_type": "code",
      "source": [
        "df = df[['Day',\t'Month',\t'SystemLoadEA',\t'SMPEA',\t'ORKTemperature',\t'ORKWindspeed',\t'CO2Intensity',\t'ActualWindProduction',\t'SystemLoadEP2', 'SMPEP2']]\n",
        "X = df.iloc[:, :-1].values\n",
        "y = df.iloc[:, -1].values"
      ],
      "metadata": {
        "id": "WV5XB5v_-4Dp"
      },
      "execution_count": null,
      "outputs": []
    },
    {
      "cell_type": "code",
      "source": [
        "from sklearn.model_selection import train_test_split\n",
        "c_train, c_test, d_train, d_test = train_test_split(X,y, test_size=0.3)"
      ],
      "metadata": {
        "id": "B_qQGpM4-5wh"
      },
      "execution_count": null,
      "outputs": []
    },
    {
      "cell_type": "code",
      "source": [
        "from sklearn.preprocessing import PolynomialFeatures"
      ],
      "metadata": {
        "id": "HqvgzoFt-7t-"
      },
      "execution_count": null,
      "outputs": []
    },
    {
      "cell_type": "code",
      "source": [
        "polyRegressor = PolynomialFeatures(degree=3, include_bias=False)\n",
        "c1_train_poly = polyRegressor.fit_transform(c_train)\n",
        "c1_test_poly = polyRegressor.fit_transform(c_test)\n",
        "poly = LinearRegression()\n",
        "poly.fit(c1_train_poly, d_train)\n",
        "d1_pred = poly.predict(c1_test_poly)"
      ],
      "metadata": {
        "id": "3z-BE3Ow-xJ7"
      },
      "execution_count": null,
      "outputs": []
    },
    {
      "cell_type": "code",
      "source": [
        "print(\"MSE poly: \", metrics.mean_squared_error(d_test, d1_pred))\n",
        "print(\"RMSE poly: \", (metrics.mean_squared_error(d_test, d1_pred))**(1/2.0))\n",
        "print(\"R2_SCORE poly: \", metrics.r2_score(d_test, d1_pred))\n",
        "print(\"MAPE poly: \", metrics.mean_absolute_percentage_error(d_test, d1_pred))\n",
        "print(\"MAE poly: \", metrics.mean_absolute_error(d_test, d1_pred))"
      ],
      "metadata": {
        "colab": {
          "base_uri": "https://localhost:8080/"
        },
        "id": "IZu31DJ__FoJ",
        "outputId": "7012caa3-5d2f-4c95-d9e6-2cfd45db9bbb"
      },
      "execution_count": null,
      "outputs": [
        {
          "output_type": "stream",
          "name": "stdout",
          "text": [
            "MSE poly:  582.6576511425535\n",
            "RMSE poly:  24.138302573763415\n",
            "R2_SCORE poly:  0.5251451931074573\n",
            "MAPE poly:  101195102625621.58\n",
            "MAE poly:  13.583698928793996\n"
          ]
        }
      ]
    },
    {
      "cell_type": "markdown",
      "source": [
        "# RandomForest"
      ],
      "metadata": {
        "id": "vMf7vd6_reHR"
      }
    },
    {
      "cell_type": "code",
      "source": [
        "df = df[['Day',\t'Month',\t'SystemLoadEA',\t'SMPEA',\t'ORKTemperature',\t'ORKWindspeed',\t'CO2Intensity',\t'ActualWindProduction',\t'SystemLoadEP2', 'SMPEP2']]\n",
        "X = df.iloc[:, :-1].values\n",
        "y = df.iloc[:, -1].values"
      ],
      "metadata": {
        "id": "M6Ava9HrrdXJ"
      },
      "execution_count": 90,
      "outputs": []
    },
    {
      "cell_type": "code",
      "source": [
        "from sklearn.model_selection import train_test_split\n",
        "X_train, X_test, y_train, y_test = train_test_split(X,y, test_size=0.3)"
      ],
      "metadata": {
        "id": "TP5N9go4rk5k"
      },
      "execution_count": 91,
      "outputs": []
    },
    {
      "cell_type": "code",
      "source": [
        "from sklearn.ensemble import RandomForestRegressor"
      ],
      "metadata": {
        "id": "k3biO1Ezr0mB"
      },
      "execution_count": 92,
      "outputs": []
    },
    {
      "cell_type": "code",
      "source": [
        "random_Forest = RandomForestRegressor(min_samples_split=3)\n",
        "random_Forest.fit(X_train, y_train)\n",
        "predict= random_Forest.predict(X_test)"
      ],
      "metadata": {
        "id": "HTvf-cgv7H-b"
      },
      "execution_count": 93,
      "outputs": []
    },
    {
      "cell_type": "code",
      "source": [
        "print(\"MSE random: \", metrics.mean_squared_error(y_test, predict))\n",
        "print(\"RMSE random: \", (metrics.mean_squared_error(y_test, predict))**(1/2.0))\n",
        "print(\"R2_SCORE random: \", metrics.r2_score(y_test, predict))\n",
        "print(\"MAPE random: \", metrics.mean_absolute_percentage_error(y_test, predict))\n",
        "print(\"MAE random: \", metrics.mean_absolute_error(y_test, predict))"
      ],
      "metadata": {
        "colab": {
          "base_uri": "https://localhost:8080/"
        },
        "id": "vWx-4fwQ6mJd",
        "outputId": "a4e3080c-a4f3-44ad-83eb-3778759bf425"
      },
      "execution_count": 94,
      "outputs": [
        {
          "output_type": "stream",
          "name": "stdout",
          "text": [
            "MSE random:  63.56655023462293\n",
            "RMSE random:  7.972863364853491\n",
            "R2_SCORE random:  0.7607863175094456\n",
            "MAPE random:  0.09859348975981207\n",
            "MAE random:  5.363920185476258\n"
          ]
        }
      ]
    },
    {
      "cell_type": "markdown",
      "source": [
        "# SVM"
      ],
      "metadata": {
        "id": "qGXtdSPH7tpu"
      }
    },
    {
      "cell_type": "code",
      "source": [
        "df = df[['Day',\t'Month',\t'SystemLoadEA',\t'SMPEA',\t'ORKTemperature',\t'ORKWindspeed',\t'CO2Intensity',\t'ActualWindProduction',\t'SystemLoadEP2', 'SMPEP2']]\n",
        "X = df.iloc[:, :-1].values\n",
        "y = df.iloc[:, -1].values"
      ],
      "metadata": {
        "id": "tDmfJhhp76ce"
      },
      "execution_count": 85,
      "outputs": []
    },
    {
      "cell_type": "code",
      "source": [
        "from sklearn.preprocessing import StandardScaler\n",
        "X_train, X_test, y_train, y_test = train_test_split(X,y, test_size=0.3)\n",
        "st_x= StandardScaler()    \n",
        "X_train= st_x.fit_transform(X_train)    \n",
        "X_test= st_x.transform(X_test)"
      ],
      "metadata": {
        "id": "VdPBDvkV78lv"
      },
      "execution_count": 86,
      "outputs": []
    },
    {
      "cell_type": "code",
      "source": [
        "from sklearn.svm import SVR"
      ],
      "metadata": {
        "id": "d40xaXrp737A"
      },
      "execution_count": 87,
      "outputs": []
    },
    {
      "cell_type": "code",
      "source": [
        "svm = SVR(kernel='rbf')\n",
        "svm.fit(X_train, y_train)\n",
        "svr_predict= svm.predict(X_test)"
      ],
      "metadata": {
        "id": "ODU5nJ6q7tE9"
      },
      "execution_count": 88,
      "outputs": []
    },
    {
      "cell_type": "code",
      "source": [
        "print(\"MSE svm: \", metrics.mean_squared_error(y_test, svr_predict))\n",
        "print(\"RMSE svm: \", (metrics.mean_squared_error(y_test, svr_predict))**(1/2.0))\n",
        "print(\"R2_SCORE svm: \", metrics.r2_score(y_test, svr_predict))\n",
        "print(\"MAPE svm: \", metrics.mean_absolute_percentage_error(y_test, svr_predict))\n",
        "print(\"MAE svm: \", metrics.mean_absolute_error(y_test, svr_predict))"
      ],
      "metadata": {
        "colab": {
          "base_uri": "https://localhost:8080/"
        },
        "id": "F0U4ycgq8GdY",
        "outputId": "6df49d06-e58a-4e2c-9abc-ae78ed38675e"
      },
      "execution_count": 89,
      "outputs": [
        {
          "output_type": "stream",
          "name": "stdout",
          "text": [
            "MSE svm:  137.10987785640162\n",
            "RMSE svm:  11.709392719368568\n",
            "R2_SCORE svm:  0.48407806480995097\n",
            "MAPE svm:  0.1425991771180566\n",
            "MAE svm:  8.29216863315598\n"
          ]
        }
      ]
    }
  ]
}