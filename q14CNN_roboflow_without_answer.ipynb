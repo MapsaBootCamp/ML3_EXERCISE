{
 "cells": [
  {
   "cell_type": "code",
   "execution_count": 1,
   "metadata": {},
   "outputs": [],
   "source": [
    "import numpy as np"
   ]
  },
  {
   "cell_type": "markdown",
   "metadata": {
    "id": "9JgOKm7JdTNl"
   },
   "source": [
    "1-مجموع دیتایی در فابل مربوط به سوال 1 داده شده و عکس هایی به صورت باینری است آنها را خوانده و شبکه زیر را روی آن پیاده سازی کنید در انتها نمودار مقایسه \n",
    "Q1\n",
    "accuracy val_accuracy\n",
    "\n",
    "loss val_loss \n",
    "\n",
    "را برای مدل خود رسم کنید\n",
    "\n",
    "راهنمایی:\n",
    "\n",
    "در ابتدا ابعاد عکس را بیابید \n",
    "\n"
   ]
  },
  {
   "cell_type": "code",
   "execution_count": 37,
   "metadata": {},
   "outputs": [],
   "source": [
    "#loading .npy files into train and test data\n",
    "X_train = np.load(\"x_train.npy\") \n",
    "X_test = np.load(\"x_test.npy\") \n",
    "y_train = np.load(\"y_train.npy\") \n",
    "y_test = np.load(\"y_test.npy\") \n",
    "\n"
   ]
  },
  {
   "cell_type": "code",
   "execution_count": 24,
   "metadata": {},
   "outputs": [],
   "source": [
    "import tensorflow as tf"
   ]
  },
  {
   "cell_type": "code",
   "execution_count": 33,
   "metadata": {},
   "outputs": [],
   "source": [
    "X_train=tf.image.convert_image_dtype(X_train,tf.float32)\n",
    "X_test=tf.image.convert_image_dtype(X_test,tf.float32)\n",
    "y_train=tf.image.convert_image_dtype(y_train,tf.float32)\n",
    "y_test=tf.image.convert_image_dtype(y_test,tf.float32)\n"
   ]
  },
  {
   "cell_type": "code",
   "execution_count": 40,
   "metadata": {},
   "outputs": [
    {
     "name": "stdout",
     "output_type": "stream",
     "text": [
      "Epoch 1/10\n",
      "1875/1875 [==============================] - 261s 132ms/step - loss: 0.6055 - accuracy: 0.9344 - val_loss: 0.1294 - val_accuracy: 0.9651\n",
      "Epoch 2/10\n",
      "1875/1875 [==============================] - 228s 121ms/step - loss: 0.0937 - accuracy: 0.9733 - val_loss: 0.0912 - val_accuracy: 0.9726\n",
      "Epoch 3/10\n",
      "1875/1875 [==============================] - 207s 111ms/step - loss: 0.0680 - accuracy: 0.9798 - val_loss: 0.0662 - val_accuracy: 0.9789\n",
      "Epoch 4/10\n",
      "1875/1875 [==============================] - 214s 114ms/step - loss: 0.0593 - accuracy: 0.9823 - val_loss: 0.0724 - val_accuracy: 0.9795\n",
      "Epoch 5/10\n",
      "1875/1875 [==============================] - 218s 116ms/step - loss: 0.0532 - accuracy: 0.9837 - val_loss: 0.0558 - val_accuracy: 0.9829\n",
      "Epoch 6/10\n",
      "1875/1875 [==============================] - 237s 126ms/step - loss: 0.0485 - accuracy: 0.9850 - val_loss: 0.0677 - val_accuracy: 0.9820\n",
      "Epoch 7/10\n",
      "1875/1875 [==============================] - 203s 108ms/step - loss: 0.0406 - accuracy: 0.9875 - val_loss: 0.0531 - val_accuracy: 0.9855\n",
      "Epoch 8/10\n",
      "1875/1875 [==============================] - 219s 117ms/step - loss: 0.0383 - accuracy: 0.9886 - val_loss: 0.0541 - val_accuracy: 0.9846\n",
      "Epoch 9/10\n",
      "1875/1875 [==============================] - 203s 108ms/step - loss: 0.0336 - accuracy: 0.9895 - val_loss: 0.0793 - val_accuracy: 0.9805\n",
      "Epoch 10/10\n",
      "1875/1875 [==============================] - 217s 116ms/step - loss: 0.0317 - accuracy: 0.9905 - val_loss: 0.0643 - val_accuracy: 0.9830\n"
     ]
    }
   ],
   "source": [
    "model = tf.keras.models.Sequential([\n",
    "    tf.keras.layers.Conv2D(32, (3,3),strides=1 ,padding='same', activation='relu', input_shape=(28, 28, 1)),\n",
    "    tf.keras.layers.MaxPool2D((2,2),strides=2),\n",
    "    tf.keras.layers.Conv2D(64, (3,3),strides=1,padding='same', activation='relu'),\n",
    "    tf.keras.layers.MaxPool2D((2,2),strides=2),\n",
    "    tf.keras.layers.Flatten(),\n",
    "    tf.keras.layers.Dense(128, activation='relu'),\n",
    "    tf.keras.layers.Dense(num_classes, activation='softmax')\n",
    "])\n",
    "opt = keras.optimizers.Adam(learning_rate=0.01)\n",
    "model.compile(\n",
    "        loss=\"sparse_categorical_crossentropy\",\n",
    "        optimizer=opt, \n",
    "        metrics=[\"accuracy\"])\n",
    "callbacks = [tf.keras.callbacks.ModelCheckpoint(\"imde.keras\",\n",
    "                                             save_best_only=True)]\n",
    "history = model.fit(X_train, y_train, epochs=10, callbacks=callbacks, batch_size=32, validation_data=(X_test, y_test))"
   ]
  },
  {
   "cell_type": "code",
   "execution_count": 20,
   "metadata": {},
   "outputs": [
    {
     "data": {
      "text/plain": [
       "array([0, 1, 2, 3, 4, 5, 6, 7, 8, 9], dtype=uint8)"
      ]
     },
     "execution_count": 20,
     "metadata": {},
     "output_type": "execute_result"
    }
   ],
   "source": [
    "np.unique(y_train)"
   ]
  },
  {
   "cell_type": "markdown",
   "metadata": {
    "id": "5_g2T5OcfneT"
   },
   "source": [
    "را نام ببرید وفرق آنها با هم را توضیح دهید ACTIVATION انواع"
   ]
  },
  {
   "cell_type": "code",
   "execution_count": 42,
   "metadata": {},
   "outputs": [
    {
     "data": {
      "image/png": "[encoded data removed]",
      "text/plain": [
       "<Figure size 432x288 with 1 Axes>"
      ]
     },
     "metadata": {
      "needs_background": "light"
     },
     "output_type": "display_data"
    }
   ],
   "source": [
    "import matplotlib.pyplot as plt\n",
    "plt.plot(history.history['loss'])\n",
    "plt.plot(history.history['val_loss'])\n",
    "plt.title('model loss')\n",
    "plt.ylabel('loss')\n",
    "plt.xlabel('epoch')\n",
    "plt.legend(['loss', 'val loss'])\n",
    "plt.show()"
   ]
  },
  {
   "cell_type": "code",
   "execution_count": null,
   "metadata": {
    "id": "svJyQvk4ZYcz",
    "outputId": "bd4a5b5f-5cd8-4e39-95e7-7cd5c44b7e71"
   },
   "outputs": [
    {
     "data": {
      "text/plain": [
       "[<matplotlib.lines.Line2D at 0x7f77847bcd10>]"
      ]
     },
     "execution_count": 23,
     "metadata": {},
     "output_type": "execute_result"
    },
    {
     "data": {
      "image/png": "[encoded data removed]",
      "text/plain": [
       "<Figure size 432x288 with 1 Axes>"
      ]
     },
     "metadata": {
      "needs_background": "light"
     },
     "output_type": "display_data"
    }
   ],
   "source": [
    "'loss''val_loss'"
   ]
  },
  {
   "cell_type": "code",
   "execution_count": 43,
   "metadata": {},
   "outputs": [
    {
     "data": {
      "image/png": "[encoded data removed]",
      "text/plain": [
       "<Figure size 432x288 with 1 Axes>"
      ]
     },
     "metadata": {
      "needs_background": "light"
     },
     "output_type": "display_data"
    }
   ],
   "source": [
    "plt.plot(history.history['accuracy'])\n",
    "plt.plot(history.history['val_accuracy'])\n",
    "plt.title('model accuracy')\n",
    "plt.ylabel('accuracy')\n",
    "plt.xlabel('epoch')\n",
    "plt.legend(['train', 'validation'], loc='upper left')\n",
    "plt.show()"
   ]
  },
  {
   "cell_type": "code",
   "execution_count": null,
   "metadata": {
    "id": "LHXq8YvXZYc0",
    "outputId": "341108cf-fadb-4d2b-9a80-7493165a0b17"
   },
   "outputs": [
    {
     "data": {
      "text/plain": [
       "[<matplotlib.lines.Line2D at 0x7f7784734a50>]"
      ]
     },
     "execution_count": 24,
     "metadata": {},
     "output_type": "execute_result"
    },
    {
     "data": {
      "image/png": "[encoded data removed]",
      "text/plain": [
       "<Figure size 432x288 with 1 Axes>"
      ]
     },
     "metadata": {
      "needs_background": "light"
     },
     "output_type": "display_data"
    }
   ],
   "source": [
    "'accuracy''val_accuracy'"
   ]
  },
  {
   "cell_type": "markdown",
   "metadata": {
    "id": "7JH3GY4dgAzT"
   },
   "source": [
    "2-خورانده و  YOLO عکس های داده شده در فایل زیپ مربوطه را به عنوان داده جدید به \n",
    "\n",
    "مدل را با داده های جدید خود ترین کنید\n",
    "\n",
    "از مراحل کار اسکرین کرفته و کدهای مربوطه را نیز بنویسید\n",
    "\n",
    "\n",
    "راهنمایی \n",
    "\n",
    "استفاده کنید roboflowاز\n",
    "\n",
    "\n",
    "Q2"
   ]
  },
  {
   "cell_type": "markdown",
   "metadata": {
    "id": "lQF-fvkIpCZh"
   },
   "source": [
    "\n",
    "linux \n",
    "1-  کامند های زیر چه میکنند\n",
    "\n",
    "ls *li* \n",
    "<span style=\"font-family: Tahoma; font-size: 14pt>\n",
    "lists any files or directories that match the pattern \"li\" in the current working directory.\n",
    "\n",
    "So, if there are any files or directories in the current directory whose name contains the letters \"li\", then this command will display them. If there are no such files or directories, then the command will not return anything.\n",
    "\n",
    "It is worth noting that \"ls\" and \"li\" are two separate commands, and when used together without any options or arguments, they do not have any specific meaning or function.\n",
    "</span>\n",
    "ls *li\n",
    "\n",
    "lists any files or directories in the current working directory whose names end with the letters \"li\".\n",
    "\n",
    "The \"*\" character is known as a wildcard, which is used to match any sequence of characters. In this case, it matches any sequence of characters that precede the letters \"li\" at the end of the file or directory name.\n",
    "\n",
    "For example, if there are files named \"file1li\", \"file2li\", \"mylistli\", etc., in the current directory, then running \"ls *li\" will display the names of those files. However, files or directories with names that do not end with \"li\" will not be displayed.\n",
    "\n",
    "ls ??li*\n",
    " lists any files or directories in the current working directory whose names have at least two characters before \"li\" and then zero or more characters after \"li\".\n",
    "\n",
    "The \"??\" represents two characters that can be any combination of letters or numbers, and the \"*\" represents zero or more characters that can be any combination of letters or numbers.\n",
    "\n",
    "For example, if there are files named \"abli\", \"12li\", \"XYli.txt\", \"cdli123\", etc., in the current directory, then running \"ls ??li*\" will display the names of those files because they all have at least two characters before \"li\" and then zero or more characters after \"li\". However, files or directories with names that do not follow this pattern will not be displayed.\n",
    "\n",
    "\n",
    "grep -rin \"blah\"\n",
    "\n",
    "\n",
    "grep -v \"blah\"\n",
    "\n",
    "egrep -v \"^#|^$\" ~\n",
    "\n",
    "grep -rin \"blah\": This command searches for the word \"blah\" in all files in the current directory and its subdirectories recursively. The \"-r\" flag tells grep to search recursively, the \"-i\" flag tells it to ignore case sensitivity, and the \"-n\" flag tells it to display the line number of each match.\n",
    "\n",
    "grep -v \"blah\": This command searches for all lines in a file that do not contain the word \"blah\". The \"-v\" flag tells grep to invert the match, meaning that it will only display lines that do not match the pattern.\n",
    "\n",
    "egrep -v \"^#|^$\" ~: This command searches for all lines in the file \"~\" (which is typically the home directory of the current user) that do not start with \"#\" or consist entirely of whitespace. The \"egrep\" command is similar to \"grep\", but allows for more complex regular expressions. The \"-v\" flag tells it to invert the match, so it displays only lines that do not match the pattern. The \"^\" character represents the beginning of a line, and the \"|\" character represents \"or\". So the pattern \"^#|^$\" matches lines that either start with \"#\" or consist entirely of whitespace.\n",
    "\n",
    "\n",
    "2- من میخواهم خروجی دستور زیر فقط بعد از شارپ را نشان دهد\n",
    "\n",
    "cat /etc/services\n",
    "\n",
    "use this :\n",
    "\n",
    "    cat /etc/services | grep '#' \n",
    "\n",
    "\n",
    "\n",
    "\n",
    "3- دستوری بنویسید که در پوشه \n",
    "\n",
    "log\n",
    "\n",
    "به دنبال فولدری به اسم شما بگردد\n",
    "\n",
    "\n",
    "find log -type d -name \"<Mehrdad>\"\n",
    "</span>"
   ]
  },
  {
   "cell_type": "code",
   "execution_count": null,
   "metadata": {},
   "outputs": [],
   "source": [
    "\n",
    "\n",
    "\n",
    "\n",
    "\n"
   ]
  }
 ],
 "metadata": {
  "colab": {
   "provenance": []
  },
  "kernelspec": {
   "display_name": "Python 3 (ipykernel)",
   "language": "python",
   "name": "python3"
  },
  "language_info": {
   "codemirror_mode": {
    "name": "ipython",
    "version": 3
   },
   "file_extension": ".py",
   "mimetype": "text/x-python",
   "name": "python",
   "nbconvert_exporter": "python",
   "pygments_lexer": "ipython3",
   "version": "3.9.12"
  }
 },
 "nbformat": 4,
 "nbformat_minor": 1
}
