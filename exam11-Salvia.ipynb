{
 "cells": [
  {
   "cell_type": "markdown",
   "id": "29f5e5d5-7cc9-4dc4-8d4a-8cca2ba1bd63",
   "metadata": {},
   "source": [
    "۱-چیست و شرط لازم برای استفاده از آنها چیستensemble learning روش های"
   ]
  },
  {
   "cell_type": "markdown",
   "id": "c5817ec5-6cf6-4b85-9557-a893dc565cc8",
   "metadata": {},
   "source": [
    "روش استفاده از چند مدل در کنار هم برای مدلسازی است مدل هایی که ممکن است به تنهایی ضعیف عمل کنند و منجر به اورفیتینگ یا آندرفیتینگ شود ولی وقتی این مدل ها را در کنار هم قرار می دهیم مدل خوبی ساخته .می شود\n",
    "\n",
    ".شرط لازم این است که این مدل ها تا حد ممکن از همدیگر استقلال داشته باشند. و در فاز ترین تا حد ممکن مستقل ترین شده باشند\n",
    "به این شکل که یا مدل های مختافی برای هر کدام انتخاب شود یا دیتاها کامل مستقل باشد"
   ]
  },
  {
   "cell_type": "markdown",
   "id": "4fb4cd6c-fe75-4235-9f36-f5e0ae762d97",
   "metadata": {},
   "source": [
    "۲- را برای بهبود پیشنهاد میدهید ensembleشرکتی چند مدل برای پیش بینی قیمت نهایی کالا ترین کرده ولی همه ی آنها حتی روی داده های ترین هم به خوبی پاسخگو نیستند کدام روش"
   ]
  },
  {
   "cell_type": "markdown",
   "id": "8a8b115c-d8c1-4142-85b4-f221d480600a",
   "metadata": {},
   "source": [
    "RandomForestRegressor, BaggingRegressor, AdaBoostRegressor, StackingRegressor, XGBoost"
   ]
  },
  {
   "cell_type": "markdown",
   "id": "91508051-f77b-47c7-9e65-a8919ca04a3c",
   "metadata": {},
   "source": [
    "۳- دو معیار برای پیدا کردن ریشه در درخت تصمیم چیست و سه الگوریتم برای ایجاد آن را نام ببرید"
   ]
  },
  {
   "cell_type": "markdown",
   "id": "67c1724e-7d23-4902-9739-d6d11a6c504a",
   "metadata": {},
   "source": [
    "gini and entropy\n",
    "\n",
    "Bagging, Boosting, Stacking"
   ]
  },
  {
   "cell_type": "markdown",
   "id": "5a320be6-df7a-41e5-9993-ae62cbe1cd8f",
   "metadata": {},
   "source": [
    "۴-  چی بودbootstrapمنظور از"
   ]
  },
  {
   "cell_type": "markdown",
   "id": "c2d69598-6fd1-4d22-aa4f-3927c27c3bf7",
   "metadata": {},
   "source": [
    "منظور این است که برای هر مدل یک زیرمجموعه از دیتاهای ترین را برمیداریم و دوباره به سبد برمیگردانیم و برای مدل بعدی مجدد از همه دیتاها یک زیرمجموعه انتخاب می کنیم\n",
    "در واقع نمونه گیری با replacement \n",
    "است\n",
    "\n",
    "Random Sampling with Replacement"
   ]
  },
  {
   "cell_type": "markdown",
   "id": "891f5c1c-1f06-46c0-ae05-f49c84cd9854",
   "metadata": {},
   "source": [
    "۵-  را میتوان روی داده های لیبل دار زد ؟ چه روشی پیشنهاد شماست؟pcaآیا"
   ]
  },
  {
   "cell_type": "markdown",
   "id": "d578d15d-88f7-4048-999b-47cdd3473147",
   "metadata": {},
   "source": [
    "بله این روش هم برای داده های لیبل دار و هم برای داده های بدون لیبل قابل استفاده است، در واقع نسبت به لیبل کور است\n",
    "\n",
    "برای داده های لیبل دار می توان از روش LDA هم استفاده کرد"
   ]
  },
  {
   "cell_type": "markdown",
   "id": "031e01bc-73d8-44bd-80eb-7fa940b05395",
   "metadata": {},
   "source": [
    "۶-نیاز به استقلال دارد random forest چرا"
   ]
  },
  {
   "cell_type": "markdown",
   "id": "eb306571-9e5a-4bcf-b42f-c8007e128129",
   "metadata": {},
   "source": [
    "در واقع این یک مدل ensemble \n",
    "\n",
    "است که مدل های داخلی که همان درخت های تصمیم هستند باید تا حد ممکن نسبت به هم استقلال داشته باشند\n",
    "در نتیجه یک زیرمجموعه مستقل از دیتای ترین به هر درخت در رندم فارست اختصاص می یابد"
   ]
  },
  {
   "cell_type": "markdown",
   "id": "545338d1-b978-4041-8537-b2b2cd2b8cad",
   "metadata": {
    "tags": []
   },
   "source": [
    "‍7-  دو دیتای داده شده را با درخت تصمیم پیش بینی کرده و درخت را پرینت بگیریدirisروی دیتاست "
   ]
  },
  {
   "cell_type": "code",
   "execution_count": null,
   "id": "b8114311-a080-4807-b56f-c6e855a3a33a",
   "metadata": {},
   "outputs": [],
   "source": [
    "[6.1, 2.8, 1.8, 1.9],\n",
    "[8.1, 2.1, 2.5, 2.9]"
   ]
  },
  {
   "cell_type": "code",
   "execution_count": 3,
   "id": "6ac4c698-3f31-4d09-b9b3-12cb3cef53d3",
   "metadata": {},
   "outputs": [],
   "source": [
    "from sklearn.tree import DecisionTreeClassifier\n",
    "import pandas as pd\n",
    "from sklearn.datasets import load_iris\n",
    "\n",
    "X = load_iris().data\n",
    "y = load_iris().target\n",
    "\n",
    "from sklearn.model_selection import train_test_split\n",
    "\n",
    "X_train, X_test, y_train, y_test = train_test_split(X, y, test_size=0.2)"
   ]
  },
  {
   "cell_type": "code",
   "execution_count": 4,
   "id": "e65cf699-826a-436f-95c1-002c87b26609",
   "metadata": {},
   "outputs": [
    {
     "data": {
      "text/html": [
       "<style>#sk-container-id-1 {color: black;background-color: white;}#sk-container-id-1 pre{padding: 0;}#sk-container-id-1 div.sk-toggleable {background-color: white;}#sk-container-id-1 label.sk-toggleable__label {cursor: pointer;display: block;width: 100%;margin-bottom: 0;padding: 0.3em;box-sizing: border-box;text-align: center;}#sk-container-id-1 label.sk-toggleable__label-arrow:before {content: \"▸\";float: left;margin-right: 0.25em;color: #696969;}#sk-container-id-1 label.sk-toggleable__label-arrow:hover:before {color: black;}#sk-container-id-1 div.sk-estimator:hover label.sk-toggleable__label-arrow:before {color: black;}#sk-container-id-1 div.sk-toggleable__content {max-height: 0;max-width: 0;overflow: hidden;text-align: left;background-color: #f0f8ff;}#sk-container-id-1 div.sk-toggleable__content pre {margin: 0.2em;color: black;border-radius: 0.25em;background-color: #f0f8ff;}#sk-container-id-1 input.sk-toggleable__control:checked~div.sk-toggleable__content {max-height: 200px;max-width: 100%;overflow: auto;}#sk-container-id-1 input.sk-toggleable__control:checked~label.sk-toggleable__label-arrow:before {content: \"▾\";}#sk-container-id-1 div.sk-estimator input.sk-toggleable__control:checked~label.sk-toggleable__label {background-color: #d4ebff;}#sk-container-id-1 div.sk-label input.sk-toggleable__control:checked~label.sk-toggleable__label {background-color: #d4ebff;}#sk-container-id-1 input.sk-hidden--visually {border: 0;clip: rect(1px 1px 1px 1px);clip: rect(1px, 1px, 1px, 1px);height: 1px;margin: -1px;overflow: hidden;padding: 0;position: absolute;width: 1px;}#sk-container-id-1 div.sk-estimator {font-family: monospace;background-color: #f0f8ff;border: 1px dotted black;border-radius: 0.25em;box-sizing: border-box;margin-bottom: 0.5em;}#sk-container-id-1 div.sk-estimator:hover {background-color: #d4ebff;}#sk-container-id-1 div.sk-parallel-item::after {content: \"\";width: 100%;border-bottom: 1px solid gray;flex-grow: 1;}#sk-container-id-1 div.sk-label:hover label.sk-toggleable__label {background-color: #d4ebff;}#sk-container-id-1 div.sk-serial::before {content: \"\";position: absolute;border-left: 1px solid gray;box-sizing: border-box;top: 0;bottom: 0;left: 50%;z-index: 0;}#sk-container-id-1 div.sk-serial {display: flex;flex-direction: column;align-items: center;background-color: white;padding-right: 0.2em;padding-left: 0.2em;position: relative;}#sk-container-id-1 div.sk-item {position: relative;z-index: 1;}#sk-container-id-1 div.sk-parallel {display: flex;align-items: stretch;justify-content: center;background-color: white;position: relative;}#sk-container-id-1 div.sk-item::before, #sk-container-id-1 div.sk-parallel-item::before {content: \"\";position: absolute;border-left: 1px solid gray;box-sizing: border-box;top: 0;bottom: 0;left: 50%;z-index: -1;}#sk-container-id-1 div.sk-parallel-item {display: flex;flex-direction: column;z-index: 1;position: relative;background-color: white;}#sk-container-id-1 div.sk-parallel-item:first-child::after {align-self: flex-end;width: 50%;}#sk-container-id-1 div.sk-parallel-item:last-child::after {align-self: flex-start;width: 50%;}#sk-container-id-1 div.sk-parallel-item:only-child::after {width: 0;}#sk-container-id-1 div.sk-dashed-wrapped {border: 1px dashed gray;margin: 0 0.4em 0.5em 0.4em;box-sizing: border-box;padding-bottom: 0.4em;background-color: white;}#sk-container-id-1 div.sk-label label {font-family: monospace;font-weight: bold;display: inline-block;line-height: 1.2em;}#sk-container-id-1 div.sk-label-container {text-align: center;}#sk-container-id-1 div.sk-container {/* jupyter's `normalize.less` sets `[hidden] { display: none; }` but bootstrap.min.css set `[hidden] { display: none !important; }` so we also need the `!important` here to be able to override the default hidden behavior on the sphinx rendered scikit-learn.org. See: https://github.com/scikit-learn/scikit-learn/issues/21755 */display: inline-block !important;position: relative;}#sk-container-id-1 div.sk-text-repr-fallback {display: none;}</style><div id=\"sk-container-id-1\" class=\"sk-top-container\"><div class=\"sk-text-repr-fallback\"><pre>DecisionTreeClassifier()</pre><b>In a Jupyter environment, please rerun this cell to show the HTML representation or trust the notebook. <br />On GitHub, the HTML representation is unable to render, please try loading this page with nbviewer.org.</b></div><div class=\"sk-container\" hidden><div class=\"sk-item\"><div class=\"sk-estimator sk-toggleable\"><input class=\"sk-toggleable__control sk-hidden--visually\" id=\"sk-estimator-id-1\" type=\"checkbox\" checked><label for=\"sk-estimator-id-1\" class=\"sk-toggleable__label sk-toggleable__label-arrow\">DecisionTreeClassifier</label><div class=\"sk-toggleable__content\"><pre>DecisionTreeClassifier()</pre></div></div></div></div></div>"
      ],
      "text/plain": [
       "DecisionTreeClassifier()"
      ]
     },
     "execution_count": 4,
     "metadata": {},
     "output_type": "execute_result"
    }
   ],
   "source": [
    "dt = DecisionTreeClassifier()\n",
    "dt.fit(X_train, y_train)"
   ]
  },
  {
   "cell_type": "code",
   "execution_count": 6,
   "id": "93b511e4-3e4c-4750-97a3-d5dd22b7c74d",
   "metadata": {},
   "outputs": [
    {
     "data": {
      "text/plain": [
       "[Text(0.4, 0.9285714285714286, 'x[3] <= 0.75\\ngini = 0.666\\nsamples = 120\\nvalue = [41, 42, 37]'),\n",
       " Text(0.3, 0.7857142857142857, 'gini = 0.0\\nsamples = 41\\nvalue = [41, 0, 0]'),\n",
       " Text(0.5, 0.7857142857142857, 'x[2] <= 4.85\\ngini = 0.498\\nsamples = 79\\nvalue = [0, 42, 37]'),\n",
       " Text(0.2, 0.6428571428571429, 'x[3] <= 1.65\\ngini = 0.093\\nsamples = 41\\nvalue = [0, 39, 2]'),\n",
       " Text(0.1, 0.5, 'gini = 0.0\\nsamples = 38\\nvalue = [0, 38, 0]'),\n",
       " Text(0.3, 0.5, 'x[1] <= 3.1\\ngini = 0.444\\nsamples = 3\\nvalue = [0, 1, 2]'),\n",
       " Text(0.2, 0.35714285714285715, 'gini = 0.0\\nsamples = 2\\nvalue = [0, 0, 2]'),\n",
       " Text(0.4, 0.35714285714285715, 'gini = 0.0\\nsamples = 1\\nvalue = [0, 1, 0]'),\n",
       " Text(0.8, 0.6428571428571429, 'x[3] <= 1.75\\ngini = 0.145\\nsamples = 38\\nvalue = [0, 3, 35]'),\n",
       " Text(0.7, 0.5, 'x[2] <= 5.35\\ngini = 0.49\\nsamples = 7\\nvalue = [0, 3, 4]'),\n",
       " Text(0.6, 0.35714285714285715, 'x[3] <= 1.55\\ngini = 0.48\\nsamples = 5\\nvalue = [0, 3, 2]'),\n",
       " Text(0.5, 0.21428571428571427, 'x[2] <= 4.95\\ngini = 0.444\\nsamples = 3\\nvalue = [0, 1, 2]'),\n",
       " Text(0.4, 0.07142857142857142, 'gini = 0.0\\nsamples = 1\\nvalue = [0, 1, 0]'),\n",
       " Text(0.6, 0.07142857142857142, 'gini = 0.0\\nsamples = 2\\nvalue = [0, 0, 2]'),\n",
       " Text(0.7, 0.21428571428571427, 'gini = 0.0\\nsamples = 2\\nvalue = [0, 2, 0]'),\n",
       " Text(0.8, 0.35714285714285715, 'gini = 0.0\\nsamples = 2\\nvalue = [0, 0, 2]'),\n",
       " Text(0.9, 0.5, 'gini = 0.0\\nsamples = 31\\nvalue = [0, 0, 31]')]"
      ]
     },
     "execution_count": 6,
     "metadata": {},
     "output_type": "execute_result"
    },
    {
     "data": {
      "image/png": "[encoded data removed]",
      "text/plain": [
       "<Figure size 640x480 with 1 Axes>"
      ]
     },
     "metadata": {},
     "output_type": "display_data"
    }
   ],
   "source": [
    "tree.plot_tree(dt)"
   ]
  },
  {
   "cell_type": "code",
   "execution_count": 47,
   "id": "55dcf257-c7fd-41dd-afea-66b499ccb141",
   "metadata": {},
   "outputs": [
    {
     "data": {
      "text/plain": [
       "array([2, 2])"
      ]
     },
     "execution_count": 47,
     "metadata": {},
     "output_type": "execute_result"
    }
   ],
   "source": [
    "dt.predict([[6.1, 2.8, 1.8, 1.9], [8.1, 2.1, 2.5, 2.9]])"
   ]
  },
  {
   "cell_type": "markdown",
   "id": "aaba28bd-b565-4828-8976-0f8931d7f5c9",
   "metadata": {},
   "source": [
    "۸- روی دیتای پیش بینی بیماری قلبی با استفاده از\n",
    " درsvmالگوریتم \n",
    "greed search \n",
    "وrandom search\n",
    "پیش بینی را انجام دهید\n"
   ]
  },
  {
   "cell_type": "code",
   "execution_count": 48,
   "id": "c611ea09-4665-41c9-9974-6af40b5032b3",
   "metadata": {},
   "outputs": [],
   "source": [
    "from sklearn.svm import SVC\n",
    "from sklearn.model_selection import GridSearchCV\n",
    "from sklearn.pipeline import make_pipeline\n",
    "from sklearn import preprocessing\n",
    "from sklearn.metrics import mean_squared_error\n",
    "\n",
    "from sklearn.model_selection import RandomizedSearchCV"
   ]
  },
  {
   "cell_type": "code",
   "execution_count": 33,
   "id": "ee36a5e9-8638-4505-8880-659d03594763",
   "metadata": {},
   "outputs": [],
   "source": [
    "df=pd.read_csv('heart.csv')"
   ]
  },
  {
   "cell_type": "code",
   "execution_count": 34,
   "id": "c8bdb194-8850-411a-b44d-a6300bcd869f",
   "metadata": {},
   "outputs": [],
   "source": [
    "X = df.iloc[:, :-1].values\n",
    "y = df.iloc[:,-1].values"
   ]
  },
  {
   "cell_type": "code",
   "execution_count": 35,
   "id": "f8110874-426f-4f2e-96d0-8cfb550889ab",
   "metadata": {},
   "outputs": [],
   "source": [
    "from sklearn.model_selection import train_test_split\n",
    "X_train, X_test, y_train, y_test = train_test_split(X, y , test_size=0.3 , random_state=85)"
   ]
  },
  {
   "cell_type": "code",
   "execution_count": 36,
   "id": "e4c17ef4-bbc7-4be0-b888-4fdb1a6b733c",
   "metadata": {},
   "outputs": [],
   "source": [
    "def make_model(model, X_train, y_train, X_test, y_test):\n",
    "    model = model\n",
    "    model.fit(X_train, y_train)\n",
    "\n",
    "    y_predict= model.predict(X_test)\n",
    "    print(\"MSE: \", mean_squared_error(y_test, y_predict))"
   ]
  },
  {
   "cell_type": "code",
   "execution_count": 37,
   "id": "c7fd0162-2781-466b-b073-8b0af06b22f3",
   "metadata": {},
   "outputs": [],
   "source": [
    "def grid_search(parameters, model, cv, X, y):\n",
    "    parameters = parameters\n",
    "    model = model\n",
    "    clf = GridSearchCV(model, parameters, cv=cv)\n",
    "    clf.fit(X, y)\n",
    "    print(clf.best_params_)"
   ]
  },
  {
   "cell_type": "code",
   "execution_count": 31,
   "id": "8a7d3e72-2e4b-486a-8e32-73e5d1033ef7",
   "metadata": {},
   "outputs": [
    {
     "name": "stdout",
     "output_type": "stream",
     "text": [
      "{'C': 100, 'kernel': 'linear'}\n"
     ]
    }
   ],
   "source": [
    "parameters = {'kernel':('linear', 'poly', 'rbf', 'sigmoid'), 'C':[1, 10, 100]}\n",
    "grid_search(parameters, SVC(), 3, X_train, y_train)"
   ]
  },
  {
   "cell_type": "code",
   "execution_count": 44,
   "id": "ef50cae4-c3ce-4022-916a-ef4b8cd845c8",
   "metadata": {},
   "outputs": [
    {
     "name": "stdout",
     "output_type": "stream",
     "text": [
      "SVM Model\n",
      "MSE:  0.25274725274725274\n"
     ]
    }
   ],
   "source": [
    "print(\"SVM Model\")\n",
    "model = make_pipeline(preprocessing.StandardScaler(),SVC(kernel='linear', C=100))\n",
    "make_model(model, X_train, y_train, X_test, y_test)"
   ]
  },
  {
   "cell_type": "code",
   "execution_count": 49,
   "id": "5f3ebc6b-75c4-4df4-a0a9-f90553dd8d7c",
   "metadata": {},
   "outputs": [],
   "source": [
    "distributions = dict(C=[1, 10, 100],kernel=('linear', 'poly', 'rbf', 'sigmoid'))"
   ]
  },
  {
   "cell_type": "code",
   "execution_count": 51,
   "id": "af2ca18c-f605-4cb7-8d42-1e69ffc5929a",
   "metadata": {},
   "outputs": [
    {
     "data": {
      "text/plain": [
       "{'kernel': 'linear', 'C': 10}"
      ]
     },
     "execution_count": 51,
     "metadata": {},
     "output_type": "execute_result"
    }
   ],
   "source": [
    "clf = RandomizedSearchCV(SVC(), distributions, random_state=0)\n",
    "search = clf.fit(X_train, y_train)\n",
    "search.best_params_"
   ]
  },
  {
   "cell_type": "code",
   "execution_count": 52,
   "id": "55957a67-0069-464e-a11e-2723ca2c2f51",
   "metadata": {},
   "outputs": [
    {
     "name": "stdout",
     "output_type": "stream",
     "text": [
      "MSE:  0.24175824175824176\n"
     ]
    }
   ],
   "source": [
    "model = make_pipeline(preprocessing.StandardScaler(),SVC(kernel='linear', C=10))\n",
    "make_model(model, X_train, y_train, X_test, y_test)"
   ]
  },
  {
   "cell_type": "markdown",
   "id": "5666af34-d162-40d2-967d-2768b35dfeff",
   "metadata": {},
   "source": [
    "## linux\n"
   ]
  },
  {
   "cell_type": "markdown",
   "id": "73d9c43d-d874-4eda-9a01-ee8e34d1dff9",
   "metadata": {},
   "source": [
    "1-برای تنظیمات گراب بهتر است کدوم فولدر تغییر داده شود "
   ]
  },
  {
   "cell_type": "markdown",
   "id": "c36d1a0e-f752-45f4-b92f-c680869b988b",
   "metadata": {},
   "source": [
    "2-\n",
    "شما برنامه ای را برای پیش بینی قیمت کالا نوشته اید این برمامه برای ران شدن احتیاج به خواندن ورودی به عنوان کانفیگ دارد کانفیگ های برنامه بهتر است چگونه و در کجا اعمال شوند "
   ]
  },
  {
   "cell_type": "markdown",
   "id": "642d457d-eab7-4ddc-a5a4-84a9a7812ccc",
   "metadata": {},
   "source": [
    "3-به نظر شما نود پرینتر یا هر سخت افزار در کدام فولدر ذخیره میشود"
   ]
  },
  {
   "cell_type": "markdown",
   "id": "db463e48-f31a-47d6-a236-703f95035b23",
   "metadata": {},
   "source": [
    "4-چیست bios کار "
   ]
  },
  {
   "cell_type": "code",
   "execution_count": null,
   "id": "b513b4b2-679c-4ea6-bfb9-e056bbfee769",
   "metadata": {},
   "outputs": [],
   "source": [
    "5- منظور از ~ چیست"
   ]
  }
 ],
 "metadata": {
  "kernelspec": {
   "display_name": "Python 3 (ipykernel)",
   "language": "python",
   "name": "python3"
  },
  "language_info": {
   "codemirror_mode": {
    "name": "ipython",
    "version": 3
   },
   "file_extension": ".py",
   "mimetype": "text/x-python",
   "name": "python",
   "nbconvert_exporter": "python",
   "pygments_lexer": "ipython3",
   "version": "3.10.2"
  }
 },
 "nbformat": 4,
 "nbformat_minor": 5
}
