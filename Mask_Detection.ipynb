{
 "cells": [
  {
   "cell_type": "code",
   "execution_count": 1,
   "id": "ce702df0-6df6-4e2d-a611-dba27cd7022f",
   "metadata": {
    "tags": []
   },
   "outputs": [],
   "source": [
    "import warnings\n",
    "warnings.filterwarnings(\"ignore\")"
   ]
  },
  {
   "cell_type": "code",
   "execution_count": 2,
   "id": "935353fe-b80c-4449-afda-1c28755a41f9",
   "metadata": {
    "tags": []
   },
   "outputs": [],
   "source": [
    "import pandas as pd\n",
    "import matplotlib.pyplot as plt\n",
    "import seaborn as sns\n",
    "import numpy as np\n",
    "import os"
   ]
  },
  {
   "cell_type": "code",
   "execution_count": 4,
   "id": "cddb2f7d-ff77-4ac6-8f9c-af11564c8ce8",
   "metadata": {
    "tags": []
   },
   "outputs": [],
   "source": [
    "from sklearn.model_selection import train_test_split\n",
    "import tensorflow as tf\n",
    "\n",
    "import logging\n",
    "tf.get_logger().setLevel(logging.ERROR)\n",
    "from tensorflow import keras\n",
    "from tensorflow.keras import layers\n",
    "from sklearn.model_selection import train_test_split\n",
    "from sklearn import svm\n",
    "from tensorflow.keras.preprocessing.image import ImageDataGenerator\n",
    "from tensorflow.keras.models import Sequential\n",
    "from tensorflow.keras.layers import Conv2D, MaxPool2D, Dropout, SpatialDropout2D, BatchNormalization, Input,Activation, Dense, Flatten\n",
    "from tensorflow.keras.optimizers import Adam, RMSprop\n",
    "from tensorflow.keras.callbacks import ReduceLROnPlateau, EarlyStopping\n",
    "from tensorflow.keras.utils import plot_model\n",
    "from tensorflow.keras.losses import binary_crossentropy\n",
    "from tensorflow.keras.models import Model,save_model\n",
    "import zipfile\n",
    "from shutil import copyfile"
   ]
  },
  {
   "cell_type": "markdown",
   "id": "da8a4ff0-039f-4e3f-b7ae-e52a69027dc0",
   "metadata": {},
   "source": [
    "## Visualizing dataset"
   ]
  },
  {
   "cell_type": "markdown",
   "id": "0396aa33-5411-4f3c-b40d-144046c4cda8",
   "metadata": {},
   "source": [
    "### Import training dataset"
   ]
  },
  {
   "cell_type": "code",
   "execution_count": 5,
   "id": "32b484cf-5d1c-4d54-aac4-1a20da53720f",
   "metadata": {
    "tags": []
   },
   "outputs": [],
   "source": [
    "img_path = \"archive/Face Mask Dataset/Train/\""
   ]
  },
  {
   "cell_type": "code",
   "execution_count": 6,
   "id": "be714b67-6655-498d-b210-41f4a93a41b7",
   "metadata": {
    "tags": []
   },
   "outputs": [],
   "source": [
    "lable=['yes','no']"
   ]
  },
  {
   "cell_type": "code",
   "execution_count": 7,
   "id": "a776e2d6-3a3a-4dc5-a627-2e29e3f99c80",
   "metadata": {
    "tags": []
   },
   "outputs": [],
   "source": [
    "img_list = []\n",
    "label_list = []\n",
    "for label in lable:\n",
    "    for img_file in os.listdir(img_path+label):\n",
    "        img_list.append(img_path+label+'/'+img_file)\n",
    "        label_list.append(label)\n",
    "        \n",
    "df_train= pd.DataFrame({'img':img_list, 'label':label_list})"
   ]
  },
  {
   "cell_type": "code",
   "execution_count": 8,
   "id": "d81b1891-dffc-4cb2-a274-7ceaabdc3d72",
   "metadata": {
    "tags": []
   },
   "outputs": [
    {
     "data": {
      "text/html": [
       "<div>\n",
       "<style scoped>\n",
       "    .dataframe tbody tr th:only-of-type {\n",
       "        vertical-align: middle;\n",
       "    }\n",
       "\n",
       "    .dataframe tbody tr th {\n",
       "        vertical-align: top;\n",
       "    }\n",
       "\n",
       "    .dataframe thead th {\n",
       "        text-align: right;\n",
       "    }\n",
       "</style>\n",
       "<table border=\"1\" class=\"dataframe\">\n",
       "  <thead>\n",
       "    <tr style=\"text-align: right;\">\n",
       "      <th></th>\n",
       "      <th>img</th>\n",
       "      <th>label</th>\n",
       "    </tr>\n",
       "  </thead>\n",
       "  <tbody>\n",
       "    <tr>\n",
       "      <th>9995</th>\n",
       "      <td>archive/Face Mask Dataset/Train/no/518.png</td>\n",
       "      <td>no</td>\n",
       "    </tr>\n",
       "    <tr>\n",
       "      <th>9996</th>\n",
       "      <td>archive/Face Mask Dataset/Train/no/1853.png</td>\n",
       "      <td>no</td>\n",
       "    </tr>\n",
       "    <tr>\n",
       "      <th>9997</th>\n",
       "      <td>archive/Face Mask Dataset/Train/no/4619.png</td>\n",
       "      <td>no</td>\n",
       "    </tr>\n",
       "    <tr>\n",
       "      <th>9998</th>\n",
       "      <td>archive/Face Mask Dataset/Train/no/903.png</td>\n",
       "      <td>no</td>\n",
       "    </tr>\n",
       "    <tr>\n",
       "      <th>9999</th>\n",
       "      <td>archive/Face Mask Dataset/Train/no/2610.png</td>\n",
       "      <td>no</td>\n",
       "    </tr>\n",
       "  </tbody>\n",
       "</table>\n",
       "</div>"
      ],
      "text/plain": [
       "                                              img label\n",
       "9995   archive/Face Mask Dataset/Train/no/518.png    no\n",
       "9996  archive/Face Mask Dataset/Train/no/1853.png    no\n",
       "9997  archive/Face Mask Dataset/Train/no/4619.png    no\n",
       "9998   archive/Face Mask Dataset/Train/no/903.png    no\n",
       "9999  archive/Face Mask Dataset/Train/no/2610.png    no"
      ]
     },
     "execution_count": 8,
     "metadata": {},
     "output_type": "execute_result"
    }
   ],
   "source": [
    "df_train.tail()"
   ]
  },
  {
   "cell_type": "code",
   "execution_count": 9,
   "id": "144215ad-2b75-4874-914c-7b7e66eb4461",
   "metadata": {
    "tags": []
   },
   "outputs": [
    {
     "data": {
      "text/plain": [
       "yes    5000\n",
       "no     5000\n",
       "Name: label, dtype: int64"
      ]
     },
     "execution_count": 9,
     "metadata": {},
     "output_type": "execute_result"
    }
   ],
   "source": [
    "df_train['label'].value_counts()"
   ]
  },
  {
   "cell_type": "code",
   "execution_count": 10,
   "id": "33b7ed24-e2e2-4f05-8484-9e31da18111e",
   "metadata": {
    "tags": []
   },
   "outputs": [
    {
     "data": {
      "image/png": "[encoded data removed]",
      "text/plain": [
       "<Figure size 2000x100 with 2 Axes>"
      ]
     },
     "metadata": {},
     "output_type": "display_data"
    }
   ],
   "source": [
    "fig, ax = plt.subplots(ncols=len(lable), figsize=(20,1))\n",
    "fig.suptitle('Mask')\n",
    "random_num = 12\n",
    "for i,label in enumerate(lable):\n",
    "    ax[i].set_title(label)\n",
    "    ax[i].imshow(plt.imread(df_train[df_train['label']==label]['img'].iloc[random_num]))"
   ]
  },
  {
   "cell_type": "markdown",
   "id": "29485284-65b8-4bb9-93cd-61c73afb1903",
   "metadata": {},
   "source": [
    "## Validation dataset"
   ]
  },
  {
   "cell_type": "code",
   "execution_count": 11,
   "id": "84d6364e-0498-4b0a-be86-608a2be94195",
   "metadata": {
    "tags": []
   },
   "outputs": [],
   "source": [
    "img_path_v = \"archive/Face Mask Dataset/Validation/\""
   ]
  },
  {
   "cell_type": "code",
   "execution_count": 12,
   "id": "e6a1e165-4ed3-435c-8cb2-2952fa3ede38",
   "metadata": {
    "tags": []
   },
   "outputs": [],
   "source": [
    "lable=['yes','no']"
   ]
  },
  {
   "cell_type": "code",
   "execution_count": 13,
   "id": "07001da8-4a17-4754-a680-0c6c7788957a",
   "metadata": {
    "tags": []
   },
   "outputs": [],
   "source": [
    "img_list = []\n",
    "label_list = []\n",
    "for label in lable:\n",
    "    for img_file in os.listdir(img_path_v+label):\n",
    "        img_list.append(img_path_v+label+'/'+img_file)\n",
    "        label_list.append(label)\n",
    "        \n",
    "df_val= pd.DataFrame({'img':img_list, 'label':label_list})"
   ]
  },
  {
   "cell_type": "markdown",
   "id": "69a8d50a-a6a1-4705-a0b3-cf92d6fa2fdc",
   "metadata": {},
   "source": [
    "## Test dataset "
   ]
  },
  {
   "cell_type": "code",
   "execution_count": 14,
   "id": "675bb7a1-7ab8-45af-9515-37ca8032dac3",
   "metadata": {
    "tags": []
   },
   "outputs": [],
   "source": [
    "img_path_t = \"archive/Face Mask Dataset/Test/\""
   ]
  },
  {
   "cell_type": "code",
   "execution_count": 15,
   "id": "6060c140-61a3-497a-861f-1616fffbaaa5",
   "metadata": {
    "tags": []
   },
   "outputs": [],
   "source": [
    "lable=['yes','no']"
   ]
  },
  {
   "cell_type": "code",
   "execution_count": 16,
   "id": "4a6a41e4-31c5-4301-9f07-2be8e372bd16",
   "metadata": {
    "tags": []
   },
   "outputs": [],
   "source": [
    "img_list = []\n",
    "label_list = []\n",
    "for label in lable:\n",
    "    for img_file in os.listdir(img_path_t+label):\n",
    "        img_list.append(img_path_t+label+'/'+img_file)\n",
    "        label_list.append(label)\n",
    "        \n",
    "df_test= pd.DataFrame({'img':img_list, 'label':label_list})"
   ]
  },
  {
   "cell_type": "markdown",
   "id": "e5c28a61-d5c1-4fe7-aa05-b6740297966c",
   "metadata": {},
   "source": [
    "## Training and validation dataset"
   ]
  },
  {
   "cell_type": "code",
   "execution_count": 17,
   "id": "85f13d48-60eb-4580-aa22-365a7a8684dd",
   "metadata": {
    "tags": []
   },
   "outputs": [],
   "source": [
    "train_datagen = ImageDataGenerator(rescale=1./255)\n"
   ]
  },
  {
   "cell_type": "code",
   "execution_count": 18,
   "id": "5367ac72-cf0d-45ba-8eae-345152e3a456",
   "metadata": {
    "tags": []
   },
   "outputs": [
    {
     "name": "stdout",
     "output_type": "stream",
     "text": [
      "Found 10000 validated image filenames belonging to 2 classes.\n"
     ]
    }
   ],
   "source": [
    "train_generator = train_datagen.flow_from_dataframe(dataframe= df_train,x_col=\"img\",y_col=\"label\",target_size=(128,128))"
   ]
  },
  {
   "cell_type": "code",
   "execution_count": 19,
   "id": "ed56662e-63bc-4b01-84b9-341b003498f0",
   "metadata": {
    "tags": []
   },
   "outputs": [
    {
     "name": "stdout",
     "output_type": "stream",
     "text": [
      "Found 800 validated image filenames belonging to 2 classes.\n"
     ]
    }
   ],
   "source": [
    "valid_generator = train_datagen.flow_from_dataframe(dataframe= df_val,x_col=\"img\",y_col=\"label\",target_size=(128,128))"
   ]
  },
  {
   "cell_type": "code",
   "execution_count": 20,
   "id": "8970f6ba-0819-4560-b448-633c8c472fd7",
   "metadata": {
    "tags": []
   },
   "outputs": [
    {
     "name": "stdout",
     "output_type": "stream",
     "text": [
      "Found 992 validated image filenames belonging to 2 classes.\n"
     ]
    }
   ],
   "source": [
    "test_generator = train_datagen.flow_from_dataframe(dataframe= df_test,x_col=\"img\",y_col=\"label\",target_size=(128,128))"
   ]
  },
  {
   "cell_type": "code",
   "execution_count": 21,
   "id": "26f966df-056f-4b3a-9ffc-8e2d23560b3d",
   "metadata": {},
   "outputs": [
    {
     "data": {
      "text/plain": [
       "{'no': 0, 'yes': 1}"
      ]
     },
     "execution_count": 21,
     "metadata": {},
     "output_type": "execute_result"
    }
   ],
   "source": [
    "test_generator.class_indices"
   ]
  },
  {
   "cell_type": "code",
   "execution_count": 58,
   "id": "7347cdc2-a0c5-4941-9322-91a1e383f557",
   "metadata": {
    "tags": []
   },
   "outputs": [
    {
     "name": "stdout",
     "output_type": "stream",
     "text": [
      "['no', 'yes']\n"
     ]
    }
   ],
   "source": [
    "classes=list(train_generator.class_indices.keys())\n",
    "print (classes)"
   ]
  },
  {
   "cell_type": "code",
   "execution_count": 22,
   "id": "63034627-ad0d-4df6-869c-12cc3106d38e",
   "metadata": {
    "tags": []
   },
   "outputs": [
    {
     "name": "stdout",
     "output_type": "stream",
     "text": [
      "data batch shape: (32, 128, 128, 3)\n",
      "labels batch shape: (32, 2)\n"
     ]
    }
   ],
   "source": [
    "for data_batch, labels_batch in train_generator:\n",
    "    print('data batch shape:', data_batch.shape)\n",
    "\n",
    "    print('labels batch shape:', labels_batch.shape)\n",
    "\n",
    "    break"
   ]
  },
  {
   "cell_type": "markdown",
   "id": "511542a3-32a5-4cd4-a032-9d876dae1fcc",
   "metadata": {},
   "source": [
    "# Building a model"
   ]
  },
  {
   "cell_type": "code",
   "execution_count": 23,
   "id": "d7dcab8c-ee53-44e2-971b-4dfe63422405",
   "metadata": {
    "tags": []
   },
   "outputs": [],
   "source": [
    "from keras import layers\n",
    "from keras import models"
   ]
  },
  {
   "cell_type": "code",
   "execution_count": 26,
   "id": "add28246-e3a8-45f1-94fb-a4eae4d45187",
   "metadata": {
    "tags": []
   },
   "outputs": [],
   "source": [
    "input_shape = (128,128,3)\n",
    "input_image = Input(shape=input_shape)\n",
    "cnn_model = Conv2D(16, (3, 3), activation='relu', input_shape=input_shape)(input_image)\n",
    "cnn_model = MaxPool2D((2, 2))(cnn_model)\n",
    "cnn_model = Conv2D(32, (3, 3), activation='relu')(cnn_model)\n",
    "cnn_model = MaxPool2D((2, 2))(cnn_model)\n",
    "cnn_model = Conv2D(64, (3, 3), activation='relu',)(cnn_model)\n",
    "cnn_model = MaxPool2D((2, 2))(cnn_model)\n",
    "cnn_model = Conv2D(128, (3, 3), activation='relu')(cnn_model)\n",
    "cnn_model = MaxPool2D((2, 2))(cnn_model)\n",
    "cnn_model = Flatten()(cnn_model)\n",
    "cnn_model = Dense(1024)(cnn_model)\n",
    "output= Dense(2, activation='softmax')(cnn_model)\n",
    "cnn_model = Model(inputs=[input_image], outputs=[output])\n"
   ]
  },
  {
   "cell_type": "code",
   "execution_count": 27,
   "id": "a80a6afc-ab75-46ce-9deb-024a8d7b4674",
   "metadata": {
    "tags": []
   },
   "outputs": [
    {
     "name": "stdout",
     "output_type": "stream",
     "text": [
      "Model: \"model_2\"\n",
      "_________________________________________________________________\n",
      " Layer (type)                Output Shape              Param #   \n",
      "=================================================================\n",
      " input_3 (InputLayer)        [(None, 128, 128, 3)]     0         \n",
      "                                                                 \n",
      " conv2d_8 (Conv2D)           (None, 126, 126, 16)      448       \n",
      "                                                                 \n",
      " max_pooling2d_8 (MaxPooling  (None, 63, 63, 16)       0         \n",
      " 2D)                                                             \n",
      "                                                                 \n",
      " conv2d_9 (Conv2D)           (None, 61, 61, 32)        4640      \n",
      "                                                                 \n",
      " max_pooling2d_9 (MaxPooling  (None, 30, 30, 32)       0         \n",
      " 2D)                                                             \n",
      "                                                                 \n",
      " conv2d_10 (Conv2D)          (None, 28, 28, 64)        18496     \n",
      "                                                                 \n",
      " max_pooling2d_10 (MaxPoolin  (None, 14, 14, 64)       0         \n",
      " g2D)                                                            \n",
      "                                                                 \n",
      " conv2d_11 (Conv2D)          (None, 12, 12, 128)       73856     \n",
      "                                                                 \n",
      " max_pooling2d_11 (MaxPoolin  (None, 6, 6, 128)        0         \n",
      " g2D)                                                            \n",
      "                                                                 \n",
      " flatten_2 (Flatten)         (None, 4608)              0         \n",
      "                                                                 \n",
      " dense_4 (Dense)             (None, 1024)              4719616   \n",
      "                                                                 \n",
      " dense_5 (Dense)             (None, 2)                 2050      \n",
      "                                                                 \n",
      "=================================================================\n",
      "Total params: 4,819,106\n",
      "Trainable params: 4,819,106\n",
      "Non-trainable params: 0\n",
      "_________________________________________________________________\n"
     ]
    }
   ],
   "source": [
    "cnn_model.summary()\n"
   ]
  },
  {
   "cell_type": "code",
   "execution_count": 28,
   "id": "efd2a4d3-ae86-417f-8f02-92dbd1c198f0",
   "metadata": {
    "tags": []
   },
   "outputs": [],
   "source": [
    "cnn_model.compile(optimizer='Adam', loss='categorical_crossentropy', metrics=['accuracy'])"
   ]
  },
  {
   "cell_type": "code",
   "execution_count": 29,
   "id": "f857ab3d-b22a-4b6c-8572-7e877d3c1680",
   "metadata": {
    "tags": []
   },
   "outputs": [
    {
     "name": "stdout",
     "output_type": "stream",
     "text": [
      "Epoch 1/5\n",
      "313/313 [==============================] - 382s 1s/step - loss: 0.1913 - accuracy: 0.9278 - val_loss: 0.0472 - val_accuracy: 0.9837\n",
      "Epoch 2/5\n",
      "313/313 [==============================] - 247s 788ms/step - loss: 0.0507 - accuracy: 0.9831 - val_loss: 0.0229 - val_accuracy: 0.9937\n",
      "Epoch 3/5\n",
      "313/313 [==============================] - 237s 757ms/step - loss: 0.0379 - accuracy: 0.9862 - val_loss: 0.0135 - val_accuracy: 0.9950\n",
      "Epoch 4/5\n",
      "313/313 [==============================] - 238s 760ms/step - loss: 0.0367 - accuracy: 0.9886 - val_loss: 0.0329 - val_accuracy: 0.9875\n",
      "Epoch 5/5\n",
      "313/313 [==============================] - 237s 758ms/step - loss: 0.0310 - accuracy: 0.9890 - val_loss: 0.0199 - val_accuracy: 0.9862\n"
     ]
    }
   ],
   "source": [
    "history = cnn_model.fit(train_generator, epochs=5,\n",
    "validation_data=(valid_generator))"
   ]
  },
  {
   "cell_type": "code",
   "execution_count": 30,
   "id": "aba501e2-ec95-4a04-8be3-c4dd1bcfe95a",
   "metadata": {
    "tags": []
   },
   "outputs": [
    {
     "data": {
      "image/png": "[encoded data removed]",
      "text/plain": [
       "<Figure size 800x500 with 1 Axes>"
      ]
     },
     "metadata": {},
     "output_type": "display_data"
    }
   ],
   "source": [
    "pd.DataFrame(history.history).plot(\n",
    "figsize=(8, 5), xlim=[0, 29], ylim=[0, 1], grid=True,\n",
    "xlabel=\"Epoch\",\n",
    "style=[\"r--\", \"r--.\", \"b-\", \"b-*\"])\n",
    "plt.show()"
   ]
  },
  {
   "cell_type": "code",
   "execution_count": null,
   "id": "e640490d-3997-4531-9bbb-f673ddf1d69f",
   "metadata": {
    "tags": []
   },
   "outputs": [],
   "source": [
    "from tensorflow.keras.models import Sequential, save_model, load_model"
   ]
  },
  {
   "cell_type": "code",
   "execution_count": 37,
   "id": "63db93fe-f412-4b5d-97c9-db338ecfc65c",
   "metadata": {
    "tags": []
   },
   "outputs": [],
   "source": [
    "cnn_model.save(\"network.h5\")"
   ]
  },
  {
   "cell_type": "code",
   "execution_count": 116,
   "id": "c4f549da-93fe-4a84-b039-d989902737d2",
   "metadata": {
    "tags": []
   },
   "outputs": [
    {
     "name": "stderr",
     "output_type": "stream",
     "text": [
      "WARNING:absl:Found untraced functions such as _jit_compiled_convolution_op, _jit_compiled_convolution_op, _jit_compiled_convolution_op, _jit_compiled_convolution_op, _update_step_xla while saving (showing 5 of 5). These functions will not be directly callable after loading.\n"
     ]
    }
   ],
   "source": [
    "filepath = 'Sequentional'\n",
    "save_model(cnn_model, filepath)"
   ]
  },
  {
   "cell_type": "markdown",
   "id": "b75bb390-c0df-42cd-901e-9219ed8eaf05",
   "metadata": {},
   "source": [
    "# Using data augmentation"
   ]
  },
  {
   "cell_type": "code",
   "execution_count": 118,
   "id": "5ead2989-0ece-4569-9af7-136ad3b71316",
   "metadata": {
    "tags": []
   },
   "outputs": [],
   "source": [
    "train_datagen_A = ImageDataGenerator(\n",
    "rescale=1./255,\n",
    "rotation_range=40,\n",
    "width_shift_range=0.2,\n",
    "height_shift_range=0.2,\n",
    "shear_range=0.2,\n",
    "zoom_range=0.2,\n",
    "horizontal_flip=True,)"
   ]
  },
  {
   "cell_type": "code",
   "execution_count": 119,
   "id": "53791cdb-56db-42e1-b291-e403bf7e48de",
   "metadata": {
    "tags": []
   },
   "outputs": [],
   "source": [
    "test_datagen_A = ImageDataGenerator(rescale=1./255)"
   ]
  },
  {
   "cell_type": "code",
   "execution_count": 120,
   "id": "f6a629d0-d129-4d78-9da8-2fba70475fa0",
   "metadata": {
    "tags": []
   },
   "outputs": [
    {
     "name": "stdout",
     "output_type": "stream",
     "text": [
      "Found 10000 validated image filenames belonging to 2 classes.\n"
     ]
    }
   ],
   "source": [
    "train_generator = train_datagen_A.flow_from_dataframe(dataframe= df_train,x_col=\"img\",y_col=\"label\",target_size=(128,128))"
   ]
  },
  {
   "cell_type": "code",
   "execution_count": 121,
   "id": "6b8d2053-2ac4-4937-aa60-9ee102062c67",
   "metadata": {
    "tags": []
   },
   "outputs": [
    {
     "name": "stdout",
     "output_type": "stream",
     "text": [
      "Found 800 validated image filenames belonging to 2 classes.\n"
     ]
    }
   ],
   "source": [
    "valid_generator_A = test_datagen_A.flow_from_dataframe(dataframe= df_val,x_col=\"img\",y_col=\"label\",target_size=(128,128))"
   ]
  },
  {
   "cell_type": "code",
   "execution_count": 125,
   "id": "18ce98eb-14f4-48c3-baff-7009f737fa5b",
   "metadata": {
    "tags": []
   },
   "outputs": [],
   "source": [
    "model = models.Sequential()\n",
    "model.add(layers.Conv2D(32, (3, 3), activation='relu',\n",
    "input_shape=(128, 128, 3)))\n",
    "model.add(layers.MaxPooling2D((2, 2)))\n",
    "model.add(layers.Conv2D(64, (3, 3), activation='relu'))\n",
    "model.add(layers.MaxPooling2D((2, 2)))\n",
    "model.add(layers.Conv2D(128, (3, 3), activation='relu'))\n",
    "model.add(layers.MaxPooling2D((2, 2)))\n",
    "model.add(layers.Conv2D(128, (3, 3), activation='relu'))\n",
    "model.add(layers.MaxPooling2D((2, 2)))\n",
    "model.add(layers.Flatten())\n",
    "model.add(layers.Dropout(0.5))\n",
    "model.add(layers.Dense(512, activation='relu'))\n",
    "model.add(layers.Dense(1, activation='sigmoid'))"
   ]
  },
  {
   "cell_type": "code",
   "execution_count": 126,
   "id": "198a678c-d0dd-4613-be19-1b4c56220c03",
   "metadata": {
    "tags": []
   },
   "outputs": [
    {
     "name": "stdout",
     "output_type": "stream",
     "text": [
      "Model: \"sequential_9\"\n",
      "_________________________________________________________________\n",
      " Layer (type)                Output Shape              Param #   \n",
      "=================================================================\n",
      " conv2d_55 (Conv2D)          (None, 126, 126, 32)      896       \n",
      "                                                                 \n",
      " max_pooling2d_55 (MaxPoolin  (None, 63, 63, 32)       0         \n",
      " g2D)                                                            \n",
      "                                                                 \n",
      " conv2d_56 (Conv2D)          (None, 61, 61, 64)        18496     \n",
      "                                                                 \n",
      " max_pooling2d_56 (MaxPoolin  (None, 30, 30, 64)       0         \n",
      " g2D)                                                            \n",
      "                                                                 \n",
      " conv2d_57 (Conv2D)          (None, 28, 28, 128)       73856     \n",
      "                                                                 \n",
      " max_pooling2d_57 (MaxPoolin  (None, 14, 14, 128)      0         \n",
      " g2D)                                                            \n",
      "                                                                 \n",
      " conv2d_58 (Conv2D)          (None, 12, 12, 128)       147584    \n",
      "                                                                 \n",
      " max_pooling2d_58 (MaxPoolin  (None, 6, 6, 128)        0         \n",
      " g2D)                                                            \n",
      "                                                                 \n",
      " flatten_12 (Flatten)        (None, 4608)              0         \n",
      "                                                                 \n",
      " dropout_1 (Dropout)         (None, 4608)              0         \n",
      "                                                                 \n",
      " dense_25 (Dense)            (None, 512)               2359808   \n",
      "                                                                 \n",
      " dense_26 (Dense)            (None, 1)                 513       \n",
      "                                                                 \n",
      "=================================================================\n",
      "Total params: 2,601,153\n",
      "Trainable params: 2,601,153\n",
      "Non-trainable params: 0\n",
      "_________________________________________________________________\n"
     ]
    }
   ],
   "source": [
    "model.summary()"
   ]
  },
  {
   "cell_type": "code",
   "execution_count": 127,
   "id": "17531c16-fe89-455a-95cb-dd78b40cfe31",
   "metadata": {
    "tags": []
   },
   "outputs": [],
   "source": [
    "model.compile(optimizer='Adam', loss='categorical_crossentropy', metrics=['accuracy'])"
   ]
  },
  {
   "cell_type": "code",
   "execution_count": 128,
   "id": "0963ea59-4115-4893-b6bb-47f3bb325728",
   "metadata": {
    "tags": []
   },
   "outputs": [
    {
     "name": "stdout",
     "output_type": "stream",
     "text": [
      "Epoch 1/5\n",
      "313/313 [==============================] - 455s 1s/step - loss: 0.1716 - accuracy: 0.9356 - val_loss: 0.1622 - val_accuracy: 0.9425\n",
      "Epoch 2/5\n",
      "313/313 [==============================] - 399s 1s/step - loss: 0.1368 - accuracy: 0.9486 - val_loss: 0.1041 - val_accuracy: 0.9600\n",
      "Epoch 3/5\n",
      "313/313 [==============================] - 241s 749ms/step - loss: 0.1136 - accuracy: 0.9599 - val_loss: 0.0865 - val_accuracy: 0.9650\n",
      "Epoch 4/5\n",
      "313/313 [==============================] - 220s 702ms/step - loss: 0.1070 - accuracy: 0.9616 - val_loss: 0.0948 - val_accuracy: 0.9712\n",
      "Epoch 5/5\n",
      "313/313 [==============================] - 219s 699ms/step - loss: 0.0925 - accuracy: 0.9673 - val_loss: 0.1257 - val_accuracy: 0.9450\n"
     ]
    }
   ],
   "source": [
    "history = cnn_model.fit_generator(train_generator_A, epochs=5,\n",
    "validation_data=(valid_generator_A))"
   ]
  }
 ],
 "metadata": {
  "kernelspec": {
   "display_name": "Python 3 (ipykernel)",
   "language": "python",
   "name": "python3"
  },
  "language_info": {
   "codemirror_mode": {
    "name": "ipython",
    "version": 3
   },
   "file_extension": ".py",
   "mimetype": "text/x-python",
   "name": "python",
   "nbconvert_exporter": "python",
   "pygments_lexer": "ipython3",
   "version": "3.10.6"
  }
 },
 "nbformat": 4,
 "nbformat_minor": 5
}
