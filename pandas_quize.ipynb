{
  "metadata": {
    "kernelspec": {
      "name": "python",
      "display_name": "Python (Pyodide)",
      "language": "python"
    },
    "language_info": {
      "codemirror_mode": {
        "name": "python",
        "version": 3
      },
      "file_extension": ".py",
      "mimetype": "text/x-python",
      "name": "python",
      "nbconvert_exporter": "python",
      "pygments_lexer": "ipython3",
      "version": "3.8"
    }
  },
  "nbformat_minor": 5,
  "nbformat": 4,
  "cells": [
    {
      "cell_type": "code",
      "source": "import pandas as pd\nimport numpy as np",
      "metadata": {
        "trusted": true
      },
      "execution_count": 23,
      "outputs": [],
      "id": "a900e9d2-114f-45a8-85b6-f0c7d98a83a3"
    },
    {
      "cell_type": "code",
      "source": "data = pd.read_csv('quize_pandas.zip', compression='zip')",
      "metadata": {},
      "execution_count": 2,
      "outputs": [],
      "id": "ed070b6d-b7c3-466f-8475-d1970999eca1"
    },
    {
      "cell_type": "code",
      "source": "data = pd.read_csv('quize_pandas.csv')\nprint(data.head(10))",
      "metadata": {
        "trusted": true
      },
      "execution_count": 39,
      "outputs": [
        {
          "name": "stdout",
          "text": "   Customer Product Model  Count    Volume\n0  CI100019     P03   M01   21.0       NaN\n1  CI100028     P01   M02    9.0       NaN\n2  CI100019     P01   M02    9.0       NaN\n3  CI100019     P02   M03    NaN  1.370358\n4  CI100019     P03   M02   61.0       NaN\n5  CI100021     P03   M02   31.0       NaN\n6  CI100028     P02   M01    NaN  5.455363\n7  CI100021     P03   M01   31.0       NaN\n8  CI100021     P03   M01   11.0       NaN\n9  CI100028     P02   M03    NaN  3.574533\n",
          "output_type": "stream"
        }
      ],
      "id": "3f460b8a-c79f-4655-b222-26a3694187be"
    },
    {
      "cell_type": "markdown",
      "source": "# Questions and Results",
      "metadata": {},
      "id": "fa6d823b-5330-43aa-8367-03a53f2a8e5d"
    },
    {
      "cell_type": "markdown",
      "source": "با استفاده از دادگان ارائه شده محاسبه کنید هر مشتری چند درصد از هر محصول را خریده است. (با دقت دهگان درصد)",
      "metadata": {},
      "id": "8fe1e7e9-bc7d-4a8d-bb99-4d9f2c491455"
    },
    {
      "cell_type": "code",
      "source": "data.dropna(subset=['Count'],inplace=True)\ndata['percent']=data['Count']/data['Count'].sum()*100\n# # data.round(1)\ndata= data.round({'percent': 1})\n\ndata.head(2)",
      "metadata": {
        "trusted": true
      },
      "execution_count": 28,
      "outputs": [
        {
          "execution_count": 28,
          "output_type": "execute_result",
          "data": {
            "text/plain": "   Customer Product Model  Count  Volume  percent\n0  CI100019     P03   M01   21.0     NaN      3.6\n1  CI100028     P01   M02    9.0     NaN      1.6",
            "text/html": "<div>\n<style scoped>\n    .dataframe tbody tr th:only-of-type {\n        vertical-align: middle;\n    }\n\n    .dataframe tbody tr th {\n        vertical-align: top;\n    }\n\n    .dataframe thead th {\n        text-align: right;\n    }\n</style>\n<table border=\"1\" class=\"dataframe\">\n  <thead>\n    <tr style=\"text-align: right;\">\n      <th></th>\n      <th>Customer</th>\n      <th>Product</th>\n      <th>Model</th>\n      <th>Count</th>\n      <th>Volume</th>\n      <th>percent</th>\n    </tr>\n  </thead>\n  <tbody>\n    <tr>\n      <th>0</th>\n      <td>CI100019</td>\n      <td>P03</td>\n      <td>M01</td>\n      <td>21.0</td>\n      <td>NaN</td>\n      <td>3.6</td>\n    </tr>\n    <tr>\n      <th>1</th>\n      <td>CI100028</td>\n      <td>P01</td>\n      <td>M02</td>\n      <td>9.0</td>\n      <td>NaN</td>\n      <td>1.6</td>\n    </tr>\n  </tbody>\n</table>\n</div>"
          },
          "metadata": {}
        }
      ],
      "id": "a5b79d67-c92a-4a06-9491-b69cea6a5e7d"
    },
    {
      "cell_type": "code",
      "source": " pv=pd.pivot_table(data, values='percent', index=['Customer', 'Product','Model'], aggfunc=np.sum)\npv",
      "metadata": {
        "trusted": true
      },
      "execution_count": 31,
      "outputs": [
        {
          "execution_count": 31,
          "output_type": "execute_result",
          "data": {
            "text/plain": "                        percent\nCustomer Product Model         \nCI100019 P01     M02        4.0\n                 M03        1.7\n         P03     M01        3.6\n                 M02       24.6\n                 M03        8.8\nCI100021 P01     M01        0.2\n                 M03        0.3\n         P03     M01        7.3\n                 M02       19.6\n                 M03        7.1\nCI100028 P01     M02        1.6\n         P03     M01        7.1\n                 M02       14.2",
            "text/html": "<div>\n<style scoped>\n    .dataframe tbody tr th:only-of-type {\n        vertical-align: middle;\n    }\n\n    .dataframe tbody tr th {\n        vertical-align: top;\n    }\n\n    .dataframe thead th {\n        text-align: right;\n    }\n</style>\n<table border=\"1\" class=\"dataframe\">\n  <thead>\n    <tr style=\"text-align: right;\">\n      <th></th>\n      <th></th>\n      <th></th>\n      <th>percent</th>\n    </tr>\n    <tr>\n      <th>Customer</th>\n      <th>Product</th>\n      <th>Model</th>\n      <th></th>\n    </tr>\n  </thead>\n  <tbody>\n    <tr>\n      <th rowspan=\"5\" valign=\"top\">CI100019</th>\n      <th rowspan=\"2\" valign=\"top\">P01</th>\n      <th>M02</th>\n      <td>4.0</td>\n    </tr>\n    <tr>\n      <th>M03</th>\n      <td>1.7</td>\n    </tr>\n    <tr>\n      <th rowspan=\"3\" valign=\"top\">P03</th>\n      <th>M01</th>\n      <td>3.6</td>\n    </tr>\n    <tr>\n      <th>M02</th>\n      <td>24.6</td>\n    </tr>\n    <tr>\n      <th>M03</th>\n      <td>8.8</td>\n    </tr>\n    <tr>\n      <th rowspan=\"5\" valign=\"top\">CI100021</th>\n      <th rowspan=\"2\" valign=\"top\">P01</th>\n      <th>M01</th>\n      <td>0.2</td>\n    </tr>\n    <tr>\n      <th>M03</th>\n      <td>0.3</td>\n    </tr>\n    <tr>\n      <th rowspan=\"3\" valign=\"top\">P03</th>\n      <th>M01</th>\n      <td>7.3</td>\n    </tr>\n    <tr>\n      <th>M02</th>\n      <td>19.6</td>\n    </tr>\n    <tr>\n      <th>M03</th>\n      <td>7.1</td>\n    </tr>\n    <tr>\n      <th rowspan=\"3\" valign=\"top\">CI100028</th>\n      <th>P01</th>\n      <th>M02</th>\n      <td>1.6</td>\n    </tr>\n    <tr>\n      <th rowspan=\"2\" valign=\"top\">P03</th>\n      <th>M01</th>\n      <td>7.1</td>\n    </tr>\n    <tr>\n      <th>M02</th>\n      <td>14.2</td>\n    </tr>\n  </tbody>\n</table>\n</div>"
          },
          "metadata": {}
        }
      ],
      "id": "5050cf10-9519-48f7-beae-9fcf0b018c01"
    },
    {
      "cell_type": "markdown",
      "source": "به هر سطر لیست دادگان میزان کل محصول خریداری شده اضافه کنید و بنا به شماره مشتری، محصول و مدل مرتب کنید",
      "metadata": {},
      "id": "a476e33a-016d-4941-931e-f86066d7bcf0"
    },
    {
      "cell_type": "code",
      "source": " pv2=pd.pivot_table(data, values='Count', index=['Product','Model'], aggfunc=np.sum)\npv2",
      "metadata": {
        "trusted": true
      },
      "execution_count": 32,
      "outputs": [
        {
          "execution_count": 32,
          "output_type": "execute_result",
          "data": {
            "text/plain": "               Count\nProduct Model       \nP01     M01      1.0\n        M02     32.0\n        M03     12.0\nP03     M01    104.0\n        M02    337.0\n        M03     92.0",
            "text/html": "<div>\n<style scoped>\n    .dataframe tbody tr th:only-of-type {\n        vertical-align: middle;\n    }\n\n    .dataframe tbody tr th {\n        vertical-align: top;\n    }\n\n    .dataframe thead th {\n        text-align: right;\n    }\n</style>\n<table border=\"1\" class=\"dataframe\">\n  <thead>\n    <tr style=\"text-align: right;\">\n      <th></th>\n      <th></th>\n      <th>Count</th>\n    </tr>\n    <tr>\n      <th>Product</th>\n      <th>Model</th>\n      <th></th>\n    </tr>\n  </thead>\n  <tbody>\n    <tr>\n      <th rowspan=\"3\" valign=\"top\">P01</th>\n      <th>M01</th>\n      <td>1.0</td>\n    </tr>\n    <tr>\n      <th>M02</th>\n      <td>32.0</td>\n    </tr>\n    <tr>\n      <th>M03</th>\n      <td>12.0</td>\n    </tr>\n    <tr>\n      <th rowspan=\"3\" valign=\"top\">P03</th>\n      <th>M01</th>\n      <td>104.0</td>\n    </tr>\n    <tr>\n      <th>M02</th>\n      <td>337.0</td>\n    </tr>\n    <tr>\n      <th>M03</th>\n      <td>92.0</td>\n    </tr>\n  </tbody>\n</table>\n</div>"
          },
          "metadata": {}
        }
      ],
      "id": "4229af6d-a163-4070-9802-87edc4e91da2"
    },
    {
      "cell_type": "code",
      "source": "result = pd.merge(data, pv2, on=[\"Product\", \"Model\"])\nresult.rename(columns={'Count_y':'count_total','Count_x':'Count'}, inplace=True)\nresult.head(2)",
      "metadata": {
        "trusted": true
      },
      "execution_count": 38,
      "outputs": [
        {
          "execution_count": 38,
          "output_type": "execute_result",
          "data": {
            "text/plain": "   Customer Product Model  Count  Volume  percent  count_total\n0  CI100019     P03   M01   21.0     NaN      3.6        104.0\n1  CI100021     P03   M01   31.0     NaN      5.4        104.0",
            "text/html": "<div>\n<style scoped>\n    .dataframe tbody tr th:only-of-type {\n        vertical-align: middle;\n    }\n\n    .dataframe tbody tr th {\n        vertical-align: top;\n    }\n\n    .dataframe thead th {\n        text-align: right;\n    }\n</style>\n<table border=\"1\" class=\"dataframe\">\n  <thead>\n    <tr style=\"text-align: right;\">\n      <th></th>\n      <th>Customer</th>\n      <th>Product</th>\n      <th>Model</th>\n      <th>Count</th>\n      <th>Volume</th>\n      <th>percent</th>\n      <th>count_total</th>\n    </tr>\n  </thead>\n  <tbody>\n    <tr>\n      <th>0</th>\n      <td>CI100019</td>\n      <td>P03</td>\n      <td>M01</td>\n      <td>21.0</td>\n      <td>NaN</td>\n      <td>3.6</td>\n      <td>104.0</td>\n    </tr>\n    <tr>\n      <th>1</th>\n      <td>CI100021</td>\n      <td>P03</td>\n      <td>M01</td>\n      <td>31.0</td>\n      <td>NaN</td>\n      <td>5.4</td>\n      <td>104.0</td>\n    </tr>\n  </tbody>\n</table>\n</div>"
          },
          "metadata": {}
        }
      ],
      "id": "2bb6b7df-7ea1-4ba9-82cd-d43ac76eb2f2"
    },
    {
      "cell_type": "code",
      "source": "result['percent']=result['Count']/result['count_total']*100\n# # data.round(1)\nresult= result.round({'percent': 1})\nresult.head(2)",
      "metadata": {
        "trusted": true
      },
      "execution_count": 42,
      "outputs": [
        {
          "execution_count": 42,
          "output_type": "execute_result",
          "data": {
            "text/plain": "   Customer Product Model  Count  Volume  percent  count_total\n0  CI100019     P03   M01   21.0     NaN     20.2        104.0\n1  CI100021     P03   M01   31.0     NaN     29.8        104.0",
            "text/html": "<div>\n<style scoped>\n    .dataframe tbody tr th:only-of-type {\n        vertical-align: middle;\n    }\n\n    .dataframe tbody tr th {\n        vertical-align: top;\n    }\n\n    .dataframe thead th {\n        text-align: right;\n    }\n</style>\n<table border=\"1\" class=\"dataframe\">\n  <thead>\n    <tr style=\"text-align: right;\">\n      <th></th>\n      <th>Customer</th>\n      <th>Product</th>\n      <th>Model</th>\n      <th>Count</th>\n      <th>Volume</th>\n      <th>percent</th>\n      <th>count_total</th>\n    </tr>\n  </thead>\n  <tbody>\n    <tr>\n      <th>0</th>\n      <td>CI100019</td>\n      <td>P03</td>\n      <td>M01</td>\n      <td>21.0</td>\n      <td>NaN</td>\n      <td>20.2</td>\n      <td>104.0</td>\n    </tr>\n    <tr>\n      <th>1</th>\n      <td>CI100021</td>\n      <td>P03</td>\n      <td>M01</td>\n      <td>31.0</td>\n      <td>NaN</td>\n      <td>29.8</td>\n      <td>104.0</td>\n    </tr>\n  </tbody>\n</table>\n</div>"
          },
          "metadata": {}
        }
      ],
      "id": "a9c90385-0f8d-43b4-b9f1-c694aaaf833e"
    },
    {
      "cell_type": "code",
      "source": "pv3=pd.pivot_table(result, values='percent', index=['Customer', 'Product','Model','Count','count_total'], aggfunc=np.sum)\npv3",
      "metadata": {
        "trusted": true
      },
      "execution_count": 52,
      "outputs": [
        {
          "execution_count": 52,
          "output_type": "execute_result",
          "data": {
            "text/plain": "                                          percent\nCustomer Product Model Count count_total         \nCI100019 P01     M02   9.0   32.0            28.1\n                       14.0  32.0            43.8\n                 M03   10.0  12.0            83.3\n         P03     M01   21.0  104.0           20.2\n                 M02   61.0  337.0           18.1\n                       81.0  337.0           24.0\n                 M03   51.0  92.0            55.4\nCI100021 P01     M01   1.0   1.0            100.0\n                 M03   2.0   12.0            16.7\n         P03     M01   11.0  104.0           10.6\n                       31.0  104.0           29.8\n                 M02   31.0  337.0           18.4\n                       51.0  337.0           15.1\n                 M03   41.0  92.0            44.6\nCI100028 P01     M02   9.0   32.0            28.1\n         P03     M01   41.0  104.0           39.4\n                 M02   11.0  337.0            3.3\n                       71.0  337.0           21.1",
            "text/html": "<div>\n<style scoped>\n    .dataframe tbody tr th:only-of-type {\n        vertical-align: middle;\n    }\n\n    .dataframe tbody tr th {\n        vertical-align: top;\n    }\n\n    .dataframe thead th {\n        text-align: right;\n    }\n</style>\n<table border=\"1\" class=\"dataframe\">\n  <thead>\n    <tr style=\"text-align: right;\">\n      <th></th>\n      <th></th>\n      <th></th>\n      <th></th>\n      <th></th>\n      <th>percent</th>\n    </tr>\n    <tr>\n      <th>Customer</th>\n      <th>Product</th>\n      <th>Model</th>\n      <th>Count</th>\n      <th>count_total</th>\n      <th></th>\n    </tr>\n  </thead>\n  <tbody>\n    <tr>\n      <th rowspan=\"7\" valign=\"top\">CI100019</th>\n      <th rowspan=\"3\" valign=\"top\">P01</th>\n      <th rowspan=\"2\" valign=\"top\">M02</th>\n      <th>9.0</th>\n      <th>32.0</th>\n      <td>28.1</td>\n    </tr>\n    <tr>\n      <th>14.0</th>\n      <th>32.0</th>\n      <td>43.8</td>\n    </tr>\n    <tr>\n      <th>M03</th>\n      <th>10.0</th>\n      <th>12.0</th>\n      <td>83.3</td>\n    </tr>\n    <tr>\n      <th rowspan=\"4\" valign=\"top\">P03</th>\n      <th>M01</th>\n      <th>21.0</th>\n      <th>104.0</th>\n      <td>20.2</td>\n    </tr>\n    <tr>\n      <th rowspan=\"2\" valign=\"top\">M02</th>\n      <th>61.0</th>\n      <th>337.0</th>\n      <td>18.1</td>\n    </tr>\n    <tr>\n      <th>81.0</th>\n      <th>337.0</th>\n      <td>24.0</td>\n    </tr>\n    <tr>\n      <th>M03</th>\n      <th>51.0</th>\n      <th>92.0</th>\n      <td>55.4</td>\n    </tr>\n    <tr>\n      <th rowspan=\"7\" valign=\"top\">CI100021</th>\n      <th rowspan=\"2\" valign=\"top\">P01</th>\n      <th>M01</th>\n      <th>1.0</th>\n      <th>1.0</th>\n      <td>100.0</td>\n    </tr>\n    <tr>\n      <th>M03</th>\n      <th>2.0</th>\n      <th>12.0</th>\n      <td>16.7</td>\n    </tr>\n    <tr>\n      <th rowspan=\"5\" valign=\"top\">P03</th>\n      <th rowspan=\"2\" valign=\"top\">M01</th>\n      <th>11.0</th>\n      <th>104.0</th>\n      <td>10.6</td>\n    </tr>\n    <tr>\n      <th>31.0</th>\n      <th>104.0</th>\n      <td>29.8</td>\n    </tr>\n    <tr>\n      <th rowspan=\"2\" valign=\"top\">M02</th>\n      <th>31.0</th>\n      <th>337.0</th>\n      <td>18.4</td>\n    </tr>\n    <tr>\n      <th>51.0</th>\n      <th>337.0</th>\n      <td>15.1</td>\n    </tr>\n    <tr>\n      <th>M03</th>\n      <th>41.0</th>\n      <th>92.0</th>\n      <td>44.6</td>\n    </tr>\n    <tr>\n      <th rowspan=\"4\" valign=\"top\">CI100028</th>\n      <th>P01</th>\n      <th>M02</th>\n      <th>9.0</th>\n      <th>32.0</th>\n      <td>28.1</td>\n    </tr>\n    <tr>\n      <th rowspan=\"3\" valign=\"top\">P03</th>\n      <th>M01</th>\n      <th>41.0</th>\n      <th>104.0</th>\n      <td>39.4</td>\n    </tr>\n    <tr>\n      <th rowspan=\"2\" valign=\"top\">M02</th>\n      <th>11.0</th>\n      <th>337.0</th>\n      <td>3.3</td>\n    </tr>\n    <tr>\n      <th>71.0</th>\n      <th>337.0</th>\n      <td>21.1</td>\n    </tr>\n  </tbody>\n</table>\n</div>"
          },
          "metadata": {}
        }
      ],
      "id": "bb736c0c-5fed-4b42-a4e1-4eb21fcd15ff"
    }
  ]
}