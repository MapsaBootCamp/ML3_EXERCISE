{
 "cells": [
  {
   "cell_type": "code",
   "execution_count": 313,
   "id": "9c702224",
   "metadata": {},
   "outputs": [],
   "source": [
    "import pandas as pd\n",
    "import numpy as np\n",
    "import seaborn as sns\n",
    "import matplotlib.pyplot as plt\n",
    "from scipy.special import boxcox"
   ]
  },
  {
   "cell_type": "code",
   "execution_count": 314,
   "id": "7f48ab9f",
   "metadata": {},
   "outputs": [
    {
     "data": {
      "text/plain": [
       "Index(['instant', 'dteday', 'season', 'yr', 'mnth', 'holiday', 'weekday',\n",
       "       'workingday', 'weathersit', 'temp', 'atemp', 'hum', 'windspeed',\n",
       "       'casual', 'registered', 'cnt'],\n",
       "      dtype='object')"
      ]
     },
     "execution_count": 314,
     "metadata": {},
     "output_type": "execute_result"
    }
   ],
   "source": [
    "day = pd.read_csv('day.csv')\n",
    "day.columns"
   ]
  },
  {
   "cell_type": "code",
   "execution_count": 315,
   "id": "b08bb64e",
   "metadata": {},
   "outputs": [],
   "source": [
    "day['day'] = pd.to_datetime(day['dteday']).dt.day"
   ]
  },
  {
   "cell_type": "code",
   "execution_count": 316,
   "id": "e8eb0f51",
   "metadata": {},
   "outputs": [
    {
     "data": {
      "text/plain": [
       "cnt           1.000000\n",
       "registered    0.945517\n",
       "casual        0.672804\n",
       "atemp         0.631066\n",
       "instant       0.628830\n",
       "temp          0.627494\n",
       "yr            0.566710\n",
       "season        0.406100\n",
       "weathersit    0.297391\n",
       "mnth          0.279977\n",
       "windspeed     0.234545\n",
       "hum           0.100659\n",
       "holiday       0.068348\n",
       "weekday       0.067443\n",
       "workingday    0.061156\n",
       "day           0.024204\n",
       "Name: cnt, dtype: float64"
      ]
     },
     "execution_count": 316,
     "metadata": {},
     "output_type": "execute_result"
    }
   ],
   "source": [
    "corr_matrix = day.corr(numeric_only=True).abs()\n",
    "corr_matrix['cnt'].sort_values(ascending=False)"
   ]
  },
  {
   "cell_type": "code",
   "execution_count": 317,
   "id": "a0e8d06d",
   "metadata": {},
   "outputs": [],
   "source": [
    "# day[:17379].plot(x='dteday', y='cnt',figsize=(10,5),cmap = 'Set3')\n",
    "# plt.xticks(rotation=45)\n",
    "# plt.grid()"
   ]
  },
  {
   "cell_type": "code",
   "execution_count": 318,
   "id": "22c951a5",
   "metadata": {},
   "outputs": [],
   "source": [
    "# sns.barplot(x=\"mnth\", y=\"cnt\", data=hour, palette = 'Set3')\n",
    "# plt.title('count vs month')"
   ]
  },
  {
   "cell_type": "code",
   "execution_count": 319,
   "id": "821b8735",
   "metadata": {},
   "outputs": [],
   "source": [
    "# plt.figure(figsize=(10,5))\n",
    "# sns.barplot(x='hr',y='cnt',data=hour , palette = 'Set3')\n",
    "# plt.title('hours vs count')"
   ]
  },
  {
   "cell_type": "code",
   "execution_count": 320,
   "id": "a2f2ca89",
   "metadata": {},
   "outputs": [],
   "source": [
    "# figure, axes = plt.subplots(2,2)\n",
    "# figure.set_size_inches(10, 10)\n",
    "# # boxplot of all catagorical features \n",
    "# # season , weather , workingday , holiday\n",
    "# plt.subplot(2,2,1)\n",
    "# sns.boxplot(x='season',y='cnt',data=hour,palette = 'Set3')\n",
    "# plt.subplot(2,2,2)\n",
    "# sns.boxplot(x='weathersit',y='cnt',data=hour,palette = 'Set3')\n",
    "# plt.subplot(2,2,3)\n",
    "# sns.boxplot(x='workingday',y='cnt',data=hour,palette = 'Set3')\n",
    "# plt.subplot(2,2,4)\n",
    "# sns.boxplot(x='holiday',y='cnt',data=hour,palette = 'Set3')"
   ]
  },
  {
   "cell_type": "code",
   "execution_count": 321,
   "id": "385ebe0a",
   "metadata": {},
   "outputs": [],
   "source": [
    "# plt.figure(figsize = (15,10))\n",
    "# tc =round(hour.corr(numeric_only=True),2)\n",
    "# sns.heatmap(tc, annot = True, cmap = 'Set3', linecolor = 'white', linewidths=0.1)"
   ]
  },
  {
   "cell_type": "code",
   "execution_count": 322,
   "id": "5f0a5412",
   "metadata": {},
   "outputs": [],
   "source": [
    "# sns.set()\n",
    "# sns.pairplot(hour, height = 2.5,kind=\"kde\",corner=True)\n",
    "# plt.show();"
   ]
  },
  {
   "cell_type": "code",
   "execution_count": 323,
   "id": "33233f55",
   "metadata": {},
   "outputs": [],
   "source": [
    "# fig, axs = plt.subplots(3,2)\n",
    "# fig.set_size_inches(16,15)\n",
    "# sns.barplot(data=hour, x=\"weekday\", y=\"cnt\", hue='workingday', ax=axs[0][0],palette = 'Set3')\n",
    "# sns.barplot(data=hour, x=\"weekday\", y=\"cnt\", ax=axs[0][1],palette = 'Set3')\n",
    "# sns.lineplot(data=hour, x=\"hr\", y=\"cnt\", hue='workingday', marker='o', markers=True, dashes=False, ax=axs[1][0],palette = 'Set3')\n",
    "# sns.barplot(data=hour, x=\"dteday\", y=\"cnt\", ax=axs[1][1],palette = 'Set3')\n",
    "# sns.lineplot(data=hour, x=\"mnth\", y=\"cnt\", marker='o', markers=True, dashes=False, ax=axs[2][0])\n",
    "# sns.barplot(data=hour, x=\"yr\", y=\"cnt\", ax=axs[2][1],palette = 'Set3')"
   ]
  },
  {
   "cell_type": "code",
   "execution_count": 324,
   "id": "f9ee15ae",
   "metadata": {},
   "outputs": [],
   "source": [
    "# fig, axs = plt.subplots(1,3)\n",
    "# fig.set_size_inches(20,5)\n",
    "# sns.lineplot(data=hour, x=\"hum\", y=\"cnt\", ax=axs[0])\n",
    "# sns.lineplot(data=hour, x=\"windspeed\", y=\"cnt\", ax=axs[1])\n",
    "# sns.lineplot(data=hour, x=\"temp\", y=\"cnt\", ax=axs[2])"
   ]
  },
  {
   "cell_type": "code",
   "execution_count": 325,
   "id": "ecaf6c9d",
   "metadata": {},
   "outputs": [],
   "source": [
    "# plt.figure(figsize = (8,4))\n",
    "# sns.lineplot(x = 'mnth', y = 'cnt', data = hour, estimator = np.average, hue = 'weathersit', palette = 'Set3')\n",
    "# plt.ylabel('Average Count')\n",
    "# plt.show()"
   ]
  },
  {
   "cell_type": "code",
   "execution_count": 326,
   "id": "949b1316",
   "metadata": {},
   "outputs": [],
   "source": [
    "# fig, axes = plt.subplots(ncols = 2, figsize = (15,5), sharey = True)\n",
    "# sns.pointplot(x = 'hr', y = 'cnt', data = hour, estimator = np.average, hue = 'workingday', ax = axes[0], palette = 'Set3')\n",
    "# sns.pointplot(x = 'hr', y = 'cnt', data = hour, estimator = np.average, hue = 'holiday', ax = axes[1], palette = 'Set3')\n",
    "# ax = [0,1]\n",
    "# for i in ax:\n",
    "#     axes[i].set(ylabel='Average Count')"
   ]
  },
  {
   "cell_type": "markdown",
   "id": "030a4aaf",
   "metadata": {},
   "source": [
    "در روزهای کاری حدود ساعت 7 و 17 تقاضای زیادی وجود دارد. تقاضای کمتری در ساعت 0 تا 5 و 10 تا 14 ساعت وجود دارد.\n",
    "در روزهای غیر کاری در ساعات 10 تا 14 تقاضای زیادی وجود دارد. در حدود ساعت 7 تقاضای کمتری وجود دارد."
   ]
  },
  {
   "cell_type": "code",
   "execution_count": 327,
   "id": "8b8d02c9",
   "metadata": {},
   "outputs": [],
   "source": [
    "# plt.figure(figsize = (10,4))\n",
    "# g = sns.pointplot(x = 'hr', y = 'cnt', data = hour, estimator=np.average, hue = 'day', palette='Set3')\n",
    "# g.legend_.remove()"
   ]
  },
  {
   "cell_type": "code",
   "execution_count": 328,
   "id": "ec597d73",
   "metadata": {},
   "outputs": [],
   "source": [
    "# plot = sns.histplot(hour['cnt'], kde=True )\n",
    "# for bin_,i in zip(plot.patches,sns.color_palette(\"Set3\",50)):\n",
    "#     bin_.set_facecolor(i)"
   ]
  },
  {
   "cell_type": "code",
   "execution_count": 329,
   "id": "c0b114c0",
   "metadata": {},
   "outputs": [],
   "source": [
    "# print(\"Untransformed Skew:\", day[\"cnt\"].skew())\n",
    "# print(\"Log transformed Skew:\",np.log(day[\"cnt\"].skew()))\n",
    "# print(\"Sqrt transformed Skew:\",np.sqrt(day[\"cnt\"].skew()))\n",
    "# print(\"Boxcox transformed Skew:\",pd.Series(boxcox(day['cnt'], 0.4)).skew())"
   ]
  },
  {
   "cell_type": "markdown",
   "id": "18614543",
   "metadata": {},
   "source": [
    "روش باکس کمترین چولگی رو برای این ستون خواهد داشت"
   ]
  },
  {
   "cell_type": "code",
   "execution_count": 330,
   "id": "0a811417",
   "metadata": {},
   "outputs": [],
   "source": [
    "day = pd.get_dummies(day, columns=['yr','season','mnth',\"weekday\",\"weathersit\"],\n",
    "                      drop_first=False)"
   ]
  },
  {
   "cell_type": "code",
   "execution_count": 331,
   "id": "884233bb",
   "metadata": {},
   "outputs": [],
   "source": [
    "day = day.drop(['dteday','instant'], axis=1)"
   ]
  },
  {
   "cell_type": "code",
   "execution_count": 332,
   "id": "4b63924b",
   "metadata": {},
   "outputs": [
    {
     "data": {
      "text/plain": [
       "Index(['holiday', 'workingday', 'temp', 'atemp', 'hum', 'windspeed', 'casual',\n",
       "       'registered', 'cnt', 'day', 'yr_0', 'yr_1', 'season_1', 'season_2',\n",
       "       'season_3', 'season_4', 'mnth_1', 'mnth_2', 'mnth_3', 'mnth_4',\n",
       "       'mnth_5', 'mnth_6', 'mnth_7', 'mnth_8', 'mnth_9', 'mnth_10', 'mnth_11',\n",
       "       'mnth_12', 'weekday_0', 'weekday_1', 'weekday_2', 'weekday_3',\n",
       "       'weekday_4', 'weekday_5', 'weekday_6', 'weathersit_1', 'weathersit_2',\n",
       "       'weathersit_3'],\n",
       "      dtype='object')"
      ]
     },
     "execution_count": 332,
     "metadata": {},
     "output_type": "execute_result"
    }
   ],
   "source": [
    "day.columns"
   ]
  },
  {
   "cell_type": "code",
   "execution_count": 333,
   "id": "68713907",
   "metadata": {},
   "outputs": [],
   "source": [
    "from sklearn.model_selection import train_test_split\n",
    "from sklearn.pipeline import make_pipeline\n",
    "from sklearn.preprocessing import StandardScaler\n",
    "import xgboost as xgb\n",
    "\n",
    "from sklearn.linear_model import LinearRegression, Ridge, ElasticNetCV,SGDRegressor\n",
    "from sklearn.tree import DecisionTreeRegressor\n",
    "from sklearn.ensemble import RandomForestRegressor, GradientBoostingRegressor, ExtraTreesRegressor\n",
    "from sklearn import model_selection\n",
    "from sklearn.neighbors import KNeighborsRegressor\n",
    "\n",
    "\n",
    "from sklearn.metrics import mean_squared_error,make_scorer,r2_score,confusion_matrix,mean_absolute_error\n",
    "from sklearn import preprocessing\n",
    "from sklearn import metrics\n",
    "import math"
   ]
  },
  {
   "cell_type": "code",
   "execution_count": 334,
   "id": "174df04b",
   "metadata": {},
   "outputs": [],
   "source": [
    "X = day.drop(['cnt','casual','registered'],axis=1)\n",
    "y = day[['cnt','casual','registered']]\n",
    "X_train, X_test, y_train, y_test = train_test_split(X, y, test_size=0.20, random_state = 0)"
   ]
  },
  {
   "cell_type": "code",
   "execution_count": 335,
   "id": "7c6cd08e",
   "metadata": {},
   "outputs": [],
   "source": [
    "standard_scaler = preprocessing.StandardScaler()\n",
    "standard_scaler.fit(X_train, y_train)\n",
    "X_train_scaled = standard_scaler.transform(X_train)\n",
    "X_test_scaled = standard_scaler.transform(X_test)"
   ]
  },
  {
   "cell_type": "code",
   "execution_count": 336,
   "id": "60562c63",
   "metadata": {},
   "outputs": [],
   "source": [
    "y_train = np.log(y_train)\n",
    "y_test = np.log(y_test)"
   ]
  },
  {
   "cell_type": "code",
   "execution_count": 337,
   "id": "3e5d43b0",
   "metadata": {},
   "outputs": [],
   "source": [
    "yc_train = y_train['casual']\n",
    "yr_train = y_train['registered']\n",
    "yd_train = y_train[\"cnt\"]"
   ]
  },
  {
   "cell_type": "code",
   "execution_count": 338,
   "id": "05f1dfc1",
   "metadata": {},
   "outputs": [],
   "source": [
    "yc_test = y_test['casual']\n",
    "yr_test = y_test['registered']\n",
    "yd_test = y_test[\"cnt\"]"
   ]
  },
  {
   "cell_type": "code",
   "execution_count": 339,
   "id": "3b59c5bb",
   "metadata": {},
   "outputs": [],
   "source": [
    "# y_train = boxcox(y_train, 0.4)\n",
    "# y_test = boxcox(y_test, 0.4)\n",
    "# X_train = boxcox(X_train, 0.4)\n",
    "# X_test = boxcox(X_test, 0.4)"
   ]
  },
  {
   "cell_type": "markdown",
   "id": "615f70e4",
   "metadata": {},
   "source": [
    "تو قسمت های بالا وقتی روش باکس رو زدم چولگی کمتر شد\n",
    "ولی اینجا همون روش باکس رو مدل میزدم عدد های مدل بد میشد\n",
    "حالا یا من اشتباه میزدم\n",
    "یا واقعا خوب جواب نمیداد\n",
    "برای همین لگاریتم زدم"
   ]
  },
  {
   "cell_type": "code",
   "execution_count": 340,
   "id": "0cf701a0",
   "metadata": {},
   "outputs": [],
   "source": [
    "models = [LinearRegression(),Ridge(),DecisionTreeRegressor(), RandomForestRegressor(),ExtraTreesRegressor(),\n",
    "         SGDRegressor(),GradientBoostingRegressor(),KNeighborsRegressor()]"
   ]
  },
  {
   "cell_type": "code",
   "execution_count": 341,
   "id": "680cadc9",
   "metadata": {},
   "outputs": [],
   "source": [
    "def re(models):\n",
    "    for i in models:   \n",
    "        md = i\n",
    "        \n",
    "        md.fit(X_train_scaled, yc_train)\n",
    "        md.fit(X_train_scaled, yc_train)\n",
    "        yc_predict_md= md.predict(X_test_scaled)\n",
    "        \n",
    "        md.fit(X_train_scaled, yr_train)\n",
    "        md.fit(X_train_scaled, yr_train)\n",
    "        yr_predict_md= md.predict(X_test_scaled)\n",
    "        \n",
    "        y_predict_md=yc_predict_md+yr_predict_md\n",
    "        \n",
    "        \n",
    "        print(\"*****************\",i,\"*****************\")\n",
    "        print(\"MSE : \", metrics.mean_squared_error(yd_test, y_predict_md))\n",
    "        print(\"R2_SCORE : \", metrics.r2_score(yd_test, y_predict_md))\n",
    "        print(\"MAPE : \", metrics.mean_absolute_error(yd_test, y_predict_md,multioutput='uniform_average'))\n",
    "        print(\"\\n\")"
   ]
  },
  {
   "cell_type": "code",
   "execution_count": 342,
   "id": "a84ebf6f",
   "metadata": {},
   "outputs": [
    {
     "name": "stdout",
     "output_type": "stream",
     "text": [
      "***************** LinearRegression() *****************\n",
      "MSE :  38.264683435954005\n",
      "R2_SCORE :  -103.34853455086422\n",
      "MAPE :  6.120505622937067\n",
      "\n",
      "\n",
      "***************** Ridge() *****************\n",
      "MSE :  38.20892421880406\n",
      "R2_SCORE :  -103.19647808325907\n",
      "MAPE :  6.117094240225399\n",
      "\n",
      "\n",
      "***************** DecisionTreeRegressor() *****************\n",
      "MSE :  39.7937698769093\n",
      "R2_SCORE :  -107.51838295905357\n",
      "MAPE :  6.2145326301214325\n",
      "\n",
      "\n",
      "***************** RandomForestRegressor() *****************\n",
      "MSE :  39.12032462852606\n",
      "R2_SCORE :  -105.68188469331842\n",
      "MAPE :  6.193634862496655\n",
      "\n",
      "\n",
      "***************** ExtraTreesRegressor() *****************\n",
      "MSE :  39.06283842884414\n",
      "R2_SCORE :  -105.52511871082316\n",
      "MAPE :  6.184476914607341\n",
      "\n",
      "\n",
      "***************** SGDRegressor() *****************\n",
      "MSE :  38.27006187560564\n",
      "R2_SCORE :  -103.36320166020431\n",
      "MAPE :  6.122450357167718\n",
      "\n",
      "\n",
      "***************** GradientBoostingRegressor() *****************\n",
      "MSE :  38.82455444648786\n",
      "R2_SCORE :  -104.87531366520089\n",
      "MAPE :  6.1639094601194815\n",
      "\n",
      "\n",
      "***************** KNeighborsRegressor() *****************\n",
      "MSE :  38.314749658783285\n",
      "R2_SCORE :  -103.48506611244049\n",
      "MAPE :  6.126254989471473\n",
      "\n",
      "\n"
     ]
    }
   ],
   "source": [
    "re(models)"
   ]
  },
  {
   "cell_type": "code",
   "execution_count": null,
   "id": "18ed6efe",
   "metadata": {},
   "outputs": [],
   "source": []
  }
 ],
 "metadata": {
  "kernelspec": {
   "display_name": "Python 3 (ipykernel)",
   "language": "python",
   "name": "python3"
  },
  "language_info": {
   "codemirror_mode": {
    "name": "ipython",
    "version": 3
   },
   "file_extension": ".py",
   "mimetype": "text/x-python",
   "name": "python",
   "nbconvert_exporter": "python",
   "pygments_lexer": "ipython3",
   "version": "3.10.6"
  }
 },
 "nbformat": 4,
 "nbformat_minor": 5
}
