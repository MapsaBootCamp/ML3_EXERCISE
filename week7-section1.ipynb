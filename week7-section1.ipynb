{
 "cells": [
  {
   "cell_type": "markdown",
   "id": "85b822c2",
   "metadata": {},
   "source": [
    "<br><p style=\"margin-left: 25%; font-size:20px;\">Machine Learning Camp: HomeWork 7 Section 1</p><br>"
   ]
  },
  {
   "cell_type": "markdown",
   "id": "062c1974",
   "metadata": {},
   "source": [
    "## 1. **Extracting twitter data:** In this problem we would like to extract data from twitter."
   ]
  },
  {
   "cell_type": "markdown",
   "id": "3ee06a3d",
   "metadata": {},
   "source": [
    "a. **Twitter API:** Set up twitter API using any of the methods as mentioned in the class."
   ]
  },
  {
   "cell_type": "code",
   "execution_count": 3,
   "id": "7b1dc13f",
   "metadata": {},
   "outputs": [],
   "source": [
    "# TODO"
   ]
  },
  {
   "cell_type": "markdown",
   "id": "7bf5903e",
   "metadata": {},
   "source": [
    "b. Now search twitter messages for \"data science job\". Display few job informations."
   ]
  },
  {
   "cell_type": "code",
   "execution_count": 4,
   "id": "b4706756",
   "metadata": {},
   "outputs": [],
   "source": [
    "# TODO"
   ]
  },
  {
   "cell_type": "markdown",
   "id": "d18cc5c7",
   "metadata": {},
   "source": [
    "c. Search 300 tweets using the hash tag `#chess` and save them in an object called `rTweets`. Show the top 7 sources of tweets (such as android or iphone) in a ordered bar plot."
   ]
  },
  {
   "cell_type": "code",
   "execution_count": 5,
   "id": "300c3271",
   "metadata": {},
   "outputs": [],
   "source": [
    "# TODO"
   ]
  },
  {
   "cell_type": "markdown",
   "id": "a0d8fec3",
   "metadata": {},
   "source": [
    "d. Convert rTweets into a data frame and store it in an object called dTweets. Display some data from dTweets."
   ]
  },
  {
   "cell_type": "code",
   "execution_count": 6,
   "id": "0e7c4cde",
   "metadata": {
    "scrolled": true
   },
   "outputs": [],
   "source": [
    "# TODO "
   ]
  },
  {
   "cell_type": "markdown",
   "id": "62f70679",
   "metadata": {},
   "source": [
    "e. dTweets has a column showing the time the tweet was created. Generate a plot showing number of tweets on each of the hours."
   ]
  },
  {
   "cell_type": "code",
   "execution_count": 7,
   "id": "13c6b827",
   "metadata": {
    "scrolled": true
   },
   "outputs": [],
   "source": [
    "# TODO"
   ]
  },
  {
   "cell_type": "markdown",
   "id": "1817c004",
   "metadata": {},
   "source": [
    "f. Arrange the dataframe dTweets based on the retweetCount. While doing this select only columns text, screenName, retweetCount. Store the data in a object called mostTweets. Display five texts that are most retweeted."
   ]
  },
  {
   "cell_type": "code",
   "execution_count": 8,
   "id": "9f5673a7",
   "metadata": {
    "scrolled": false
   },
   "outputs": [],
   "source": [
    "# TODO"
   ]
  },
  {
   "cell_type": "markdown",
   "id": "494b69c0",
   "metadata": {},
   "source": [
    "g. Generate a bar chart showing top 15 screen names and count of retweets from mostTweets. Order the bars based on the retweet counts."
   ]
  },
  {
   "cell_type": "code",
   "execution_count": 9,
   "id": "fd0c8c4f",
   "metadata": {
    "scrolled": true
   },
   "outputs": [],
   "source": [
    "# TODO"
   ]
  },
  {
   "cell_type": "markdown",
   "id": "0f90e93b",
   "metadata": {},
   "source": [
    "## 2. **Working with databases:** Please follow the instruction below before answering the questions:\n",
    "* Import the sqlite3\n",
    "* Connect to titanic.db"
   ]
  },
  {
   "cell_type": "code",
   "execution_count": 11,
   "id": "0d472de3",
   "metadata": {},
   "outputs": [],
   "source": [
    "import seaborn as sns\n",
    "import pandas as pd\n",
    "import sqlite3"
   ]
  },
  {
   "cell_type": "code",
   "execution_count": 12,
   "id": "cad9be94",
   "metadata": {},
   "outputs": [],
   "source": [
    "conn=sqlite3.connect('titanic.db')\n",
    "curs=conn.cursor()"
   ]
  },
  {
   "cell_type": "markdown",
   "id": "23126c1f",
   "metadata": {},
   "source": [
    "a. What is the average age of passengers who survived? Group the data by Sex. Display only the column `Sex`, `AverageAge`"
   ]
  },
  {
   "cell_type": "code",
   "execution_count": 13,
   "id": "48079bd7",
   "metadata": {},
   "outputs": [
    {
     "data": {
      "text/plain": [
       "[('female', 28.630769230769232), ('male', 27.276021505376345)]"
      ]
     },
     "execution_count": 13,
     "metadata": {},
     "output_type": "execute_result"
    }
   ],
   "source": [
    "curs.execute(\"SELECT Sex, AVG(age) FROM titanic WHERE survived=1 GROUP BY sex\")\n",
    "curs.fetchall()"
   ]
  },
  {
   "cell_type": "markdown",
   "id": "833db4b5",
   "metadata": {},
   "source": [
    "b. What is the percentage of passengers who survived in each Passenger Class or `Pclass`? Group the data by `Sex`. Display Pclass, Sex, percentage value. "
   ]
  },
  {
   "cell_type": "code",
   "execution_count": 14,
   "id": "33adb0e1",
   "metadata": {},
   "outputs": [
    {
     "data": {
      "text/plain": [
       "[('1', 'female', 42),\n",
       " ('1', 'male', 57),\n",
       " ('2', 'female', 35),\n",
       " ('2', 'male', 50),\n",
       " ('3', 'female', 67),\n",
       " ('3', 'male', 162)]"
      ]
     },
     "execution_count": 14,
     "metadata": {},
     "output_type": "execute_result"
    }
   ],
   "source": [
    "curs.execute(\"SELECT PClass, Sex, (Count(survived)*100)/(select Count(*) from titanic group by pclass) FROM titanic GROUP BY PClass, Sex\")\n",
    "curs.fetchall()\n"
   ]
  },
  {
   "cell_type": "markdown",
   "id": "f77cc739",
   "metadata": {},
   "source": [
    "c. What is the average age of all the passenger (survived and not survived)? Group the data by `Pclass`, `Sex`, `Survived`. After that use `seaborn` to generate a line plot to show average age vs pclass, facet by sex and color it by survived."
   ]
  },
  {
   "cell_type": "code",
   "execution_count": 15,
   "id": "8bd1e502",
   "metadata": {},
   "outputs": [],
   "source": [
    "curs.execute(\"SELECT  PClass, Sex, survived,AVG(age) FROM titanic GROUP BY PClass, Sex, survived\")\n",
    "result=curs.fetchall()"
   ]
  },
  {
   "cell_type": "code",
   "execution_count": 16,
   "id": "e31e722c",
   "metadata": {},
   "outputs": [
    {
     "data": {
      "text/html": [
       "<div>\n",
       "<style scoped>\n",
       "    .dataframe tbody tr th:only-of-type {\n",
       "        vertical-align: middle;\n",
       "    }\n",
       "\n",
       "    .dataframe tbody tr th {\n",
       "        vertical-align: top;\n",
       "    }\n",
       "\n",
       "    .dataframe thead th {\n",
       "        text-align: right;\n",
       "    }\n",
       "</style>\n",
       "<table border=\"1\" class=\"dataframe\">\n",
       "  <thead>\n",
       "    <tr style=\"text-align: right;\">\n",
       "      <th></th>\n",
       "      <th>Pclass</th>\n",
       "      <th>Sex</th>\n",
       "      <th>Survived</th>\n",
       "      <th>AVG(age)</th>\n",
       "    </tr>\n",
       "  </thead>\n",
       "  <tbody>\n",
       "    <tr>\n",
       "      <th>0</th>\n",
       "      <td>1</td>\n",
       "      <td>female</td>\n",
       "      <td>0</td>\n",
       "      <td>25.666667</td>\n",
       "    </tr>\n",
       "    <tr>\n",
       "      <th>1</th>\n",
       "      <td>1</td>\n",
       "      <td>female</td>\n",
       "      <td>1</td>\n",
       "      <td>34.562500</td>\n",
       "    </tr>\n",
       "    <tr>\n",
       "      <th>2</th>\n",
       "      <td>1</td>\n",
       "      <td>male</td>\n",
       "      <td>0</td>\n",
       "      <td>44.581967</td>\n",
       "    </tr>\n",
       "    <tr>\n",
       "      <th>3</th>\n",
       "      <td>1</td>\n",
       "      <td>male</td>\n",
       "      <td>1</td>\n",
       "      <td>36.248000</td>\n",
       "    </tr>\n",
       "    <tr>\n",
       "      <th>4</th>\n",
       "      <td>2</td>\n",
       "      <td>female</td>\n",
       "      <td>0</td>\n",
       "      <td>36.000000</td>\n",
       "    </tr>\n",
       "    <tr>\n",
       "      <th>5</th>\n",
       "      <td>2</td>\n",
       "      <td>female</td>\n",
       "      <td>1</td>\n",
       "      <td>28.080882</td>\n",
       "    </tr>\n",
       "    <tr>\n",
       "      <th>6</th>\n",
       "      <td>2</td>\n",
       "      <td>male</td>\n",
       "      <td>0</td>\n",
       "      <td>33.369048</td>\n",
       "    </tr>\n",
       "    <tr>\n",
       "      <th>7</th>\n",
       "      <td>2</td>\n",
       "      <td>male</td>\n",
       "      <td>1</td>\n",
       "      <td>16.022000</td>\n",
       "    </tr>\n",
       "    <tr>\n",
       "      <th>8</th>\n",
       "      <td>3</td>\n",
       "      <td>female</td>\n",
       "      <td>0</td>\n",
       "      <td>23.818182</td>\n",
       "    </tr>\n",
       "    <tr>\n",
       "      <th>9</th>\n",
       "      <td>3</td>\n",
       "      <td>female</td>\n",
       "      <td>1</td>\n",
       "      <td>19.329787</td>\n",
       "    </tr>\n",
       "    <tr>\n",
       "      <th>10</th>\n",
       "      <td>3</td>\n",
       "      <td>male</td>\n",
       "      <td>0</td>\n",
       "      <td>27.255814</td>\n",
       "    </tr>\n",
       "    <tr>\n",
       "      <th>11</th>\n",
       "      <td>3</td>\n",
       "      <td>male</td>\n",
       "      <td>1</td>\n",
       "      <td>22.274211</td>\n",
       "    </tr>\n",
       "  </tbody>\n",
       "</table>\n",
       "</div>"
      ],
      "text/plain": [
       "   Pclass     Sex Survived   AVG(age)\n",
       "0       1  female        0  25.666667\n",
       "1       1  female        1  34.562500\n",
       "2       1    male        0  44.581967\n",
       "3       1    male        1  36.248000\n",
       "4       2  female        0  36.000000\n",
       "5       2  female        1  28.080882\n",
       "6       2    male        0  33.369048\n",
       "7       2    male        1  16.022000\n",
       "8       3  female        0  23.818182\n",
       "9       3  female        1  19.329787\n",
       "10      3    male        0  27.255814\n",
       "11      3    male        1  22.274211"
      ]
     },
     "execution_count": 16,
     "metadata": {},
     "output_type": "execute_result"
    }
   ],
   "source": [
    "table = pd.read_sql(\"SELECT  PClass, Sex, survived,AVG(age) FROM titanic GROUP BY PClass, Sex, survived\", conn)\n",
    "table"
   ]
  },
  {
   "cell_type": "code",
   "execution_count": 18,
   "id": "2f4f2e05",
   "metadata": {},
   "outputs": [
    {
     "data": {
      "text/plain": [
       "<seaborn.axisgrid.FacetGrid at 0x7fef4c37c8b0>"
      ]
     },
     "execution_count": 18,
     "metadata": {},
     "output_type": "execute_result"
    },
    {
     "data": {
      "image/png": "[encoded data removed]",
      "text/plain": [
       "<Figure size 790.5x360 with 2 Axes>"
      ]
     },
     "metadata": {
      "needs_background": "light"
     },
     "output_type": "display_data"
    }
   ],
   "source": [
    "sns.relplot(data=table, x='Pclass', y='AVG(age)', hue='Sex', col='Survived', kind='line')"
   ]
  },
  {
   "cell_type": "markdown",
   "id": "e24606d4",
   "metadata": {},
   "source": [
    "d. What is the name, age, sex and pclass of the 5 oldest and 5 youngest persons who died?"
   ]
  },
  {
   "cell_type": "code",
   "execution_count": 19,
   "id": "084a1019",
   "metadata": {},
   "outputs": [
    {
     "data": {
      "text/plain": [
       "[('Barkworth, Mr. Algernon Henry Wilson', '80', 'male', '1'),\n",
       " ('Svensson, Mr. Johan', '74', 'male', '3'),\n",
       " ('Goldschmidt, Mr. George B', '71', 'male', '1'),\n",
       " ('Artagaveytia, Mr. Ramon', '71', 'male', '1'),\n",
       " ('Connors, Mr. Patrick', '70.5', 'male', '3')]"
      ]
     },
     "execution_count": 19,
     "metadata": {},
     "output_type": "execute_result"
    }
   ],
   "source": [
    "curs.execute(\"SELECT  name, age, sex, pclass FROM titanic order by CAST(age as insigned) DESC limit 5\")\n",
    "curs.fetchall()"
   ]
  },
  {
   "cell_type": "code",
   "execution_count": 20,
   "id": "f34f23b8",
   "metadata": {},
   "outputs": [
    {
     "data": {
      "text/plain": [
       "[('Thomas, Master. Assad Alexander', '0.42', 'male', '3'),\n",
       " ('Hamalainen, Master. Viljo', '0.67', 'male', '2'),\n",
       " ('Baclini, Miss. Helene Barbara', '0.75', 'female', '3'),\n",
       " ('Baclini, Miss. Eugenie', '0.75', 'female', '3'),\n",
       " ('Caldwell, Master. Alden Gates', '0.83', 'male', '2')]"
      ]
     },
     "execution_count": 20,
     "metadata": {},
     "output_type": "execute_result"
    }
   ],
   "source": [
    "curs.execute(\"SELECT  name, age, sex, pclass FROM titanic where age is not NULL order by  CAST(age as insigned) ASC limit 5\")\n",
    "curs.fetchall()\n"
   ]
  },
  {
   "cell_type": "markdown",
   "id": "33b27917",
   "metadata": {},
   "source": [
    "e. On average which Passenger Class is more expensive?"
   ]
  },
  {
   "cell_type": "code",
   "execution_count": 22,
   "id": "a482458e",
   "metadata": {},
   "outputs": [
    {
     "data": {
      "text/plain": [
       "[('1', 84.19351635514012)]"
      ]
     },
     "execution_count": 22,
     "metadata": {},
     "output_type": "execute_result"
    }
   ],
   "source": [
    "curs.execute(\"SELECT pclass,avg(fare) FROM titanic group by pclass order by avg(fare) desc limit 1\")\n",
    "curs.fetchall()"
   ]
  }
 ],
 "metadata": {
  "kernelspec": {
   "display_name": "Python 3 (ipykernel)",
   "language": "python",
   "name": "python3"
  },
  "language_info": {
   "codemirror_mode": {
    "name": "ipython",
    "version": 3
   },
   "file_extension": ".py",
   "mimetype": "text/x-python",
   "name": "python",
   "nbconvert_exporter": "python",
   "pygments_lexer": "ipython3",
   "version": "3.9.12"
  }
 },
 "nbformat": 4,
 "nbformat_minor": 5
}
