{
 "cells": [
  {
   "cell_type": "markdown",
   "id": "85b822c2",
   "metadata": {},
   "source": [
    "<br><p style=\"margin-left: 25%; font-size:20px;\">Machine Learning Camp: HomeWork 7 Section 1</p><br>"
   ]
  },
  {
   "cell_type": "markdown",
   "id": "062c1974",
   "metadata": {},
   "source": [
    "## 1. **Extracting twitter data:** In this problem we would like to extract data from twitter."
   ]
  },
  {
   "cell_type": "markdown",
   "id": "3ee06a3d",
   "metadata": {},
   "source": [
    "a. **Twitter API:** Set up twitter API using any of the methods as mentioned in the class."
   ]
  },
  {
   "cell_type": "code",
   "execution_count": 2,
   "id": "7b1dc13f",
   "metadata": {},
   "outputs": [],
   "source": [
    "# TODO"
   ]
  },
  {
   "cell_type": "markdown",
   "id": "7bf5903e",
   "metadata": {},
   "source": [
    "b. Now search twitter messages for \"data science job\". Display few job informations."
   ]
  },
  {
   "cell_type": "code",
   "execution_count": 3,
   "id": "b4706756",
   "metadata": {},
   "outputs": [],
   "source": [
    "# TODO"
   ]
  },
  {
   "cell_type": "markdown",
   "id": "d18cc5c7",
   "metadata": {},
   "source": [
    "c. Search 300 tweets using the hash tag `#chess` and save them in an object called `rTweets`. Show the top 7 sources of tweets (such as android or iphone) in a ordered bar plot."
   ]
  },
  {
   "cell_type": "code",
   "execution_count": 4,
   "id": "300c3271",
   "metadata": {},
   "outputs": [],
   "source": [
    "# TODO"
   ]
  },
  {
   "cell_type": "markdown",
   "id": "a0d8fec3",
   "metadata": {},
   "source": [
    "d. Convert rTweets into a data frame and store it in an object called dTweets. Display some data from dTweets."
   ]
  },
  {
   "cell_type": "code",
   "execution_count": 5,
   "id": "0e7c4cde",
   "metadata": {
    "scrolled": true
   },
   "outputs": [],
   "source": [
    "# TODO "
   ]
  },
  {
   "cell_type": "markdown",
   "id": "62f70679",
   "metadata": {},
   "source": [
    "e. dTweets has a column showing the time the tweet was created. Generate a plot showing number of tweets on each of the hours."
   ]
  },
  {
   "cell_type": "code",
   "execution_count": 6,
   "id": "13c6b827",
   "metadata": {
    "scrolled": true
   },
   "outputs": [],
   "source": [
    "# TODO"
   ]
  },
  {
   "cell_type": "markdown",
   "id": "1817c004",
   "metadata": {},
   "source": [
    "f. Arrange the dataframe dTweets based on the retweetCount. While doing this select only columns text, screenName, retweetCount. Store the data in a object called mostTweets. Display five texts that are most retweeted."
   ]
  },
  {
   "cell_type": "code",
   "execution_count": 8,
   "id": "9f5673a7",
   "metadata": {
    "scrolled": false
   },
   "outputs": [],
   "source": [
    "# TODO"
   ]
  },
  {
   "cell_type": "markdown",
   "id": "494b69c0",
   "metadata": {},
   "source": [
    "g. Generate a bar chart showing top 15 screen names and count of retweets from mostTweets. Order the bars based on the retweet counts."
   ]
  },
  {
   "cell_type": "code",
   "execution_count": 9,
   "id": "fd0c8c4f",
   "metadata": {
    "scrolled": true
   },
   "outputs": [],
   "source": [
    "# TODO"
   ]
  },
  {
   "cell_type": "markdown",
   "id": "0f90e93b",
   "metadata": {},
   "source": [
    "## 2. **Working with databases:** Please follow the instruction below before answering the questions:\n",
    "* Import the sqlite3\n",
    "* Connect to titanic.db"
   ]
  },
  {
   "cell_type": "markdown",
   "id": "23126c1f",
   "metadata": {},
   "source": [
    "a. What is the average age of passengers who survived? Group the data by Sex. Display only the column `Sex`, `AverageAge`"
   ]
  },
  {
   "cell_type": "code",
   "execution_count": 1,
   "id": "48079bd7",
   "metadata": {},
   "outputs": [
    {
     "name": "stdout",
     "output_type": "stream",
     "text": [
      "[('titanic',)]\n"
     ]
    }
   ],
   "source": [
    "import sqlite3\n",
    "import pandas as pd\n",
    "connection = sqlite3.connect(\"titanic.db\")\n",
    "curs = connection.cursor()\n",
    "curs.execute(\"SELECT name FROM sqlite_master WHERE type='table';\")\n",
    "print(curs.fetchall())"
   ]
  },
  {
   "cell_type": "markdown",
   "id": "833db4b5",
   "metadata": {},
   "source": [
    "b. What is the percentage of passengers who survived in each Passenger Class or `Pclass`? Group the data by `Sex`. Display Pclass, Sex, percentage value. "
   ]
  },
  {
   "cell_type": "code",
   "execution_count": 2,
   "id": "34b1f293",
   "metadata": {},
   "outputs": [
    {
     "data": {
      "text/plain": [
       "[('1', 'female', 0.967391304347826),\n",
       " ('1', 'male', 0.36885245901639346),\n",
       " ('2', 'female', 0.9210526315789473),\n",
       " ('2', 'male', 0.1574074074074074),\n",
       " ('3', 'female', 0.5),\n",
       " ('3', 'male', 0.13544668587896252)]"
      ]
     },
     "execution_count": 2,
     "metadata": {},
     "output_type": "execute_result"
    }
   ],
   "source": [
    "curs.execute(\"SELECT Pclass,Sex, AVG(Survived) FROM titanic GROUP BY Pclass, Sex\")\n",
    "curs.fetchall()"
   ]
  },
  {
   "cell_type": "markdown",
   "id": "f77cc739",
   "metadata": {},
   "source": [
    "c. What is the average age of all the passenger (survived and not survived)? Group the data by `Pclass`, `Sex`, `Survived`. After that use `seaborn` to generate a line plot to show average age vs pclass, facet by sex and color it by survived."
   ]
  },
  {
   "cell_type": "code",
   "execution_count": 10,
   "id": "8bd1e502",
   "metadata": {},
   "outputs": [
    {
     "data": {
      "text/plain": [
       "[('1', 'female', '0', 25.666666666666668),\n",
       " ('1', 'female', '1', 34.5625),\n",
       " ('1', 'male', '0', 44.58196721311475),\n",
       " ('1', 'male', '1', 36.248000000000005),\n",
       " ('2', 'female', '0', 36.0),\n",
       " ('2', 'female', '1', 28.080882352941178),\n",
       " ('2', 'male', '0', 33.36904761904762),\n",
       " ('2', 'male', '1', 16.022),\n",
       " ('3', 'female', '0', 23.818181818181817),\n",
       " ('3', 'female', '1', 19.329787234042552),\n",
       " ('3', 'male', '0', 27.25581395348837),\n",
       " ('3', 'male', '1', 22.274210526315787)]"
      ]
     },
     "execution_count": 10,
     "metadata": {},
     "output_type": "execute_result"
    }
   ],
   "source": [
    "curs.execute(\"SELECT Pclass,Sex,Survived, AVG(Age) FROM titanic GROUP BY Pclass, Sex ,Survived\")\n",
    "output = curs.fetchall()\n",
    "output"
   ]
  },
  {
   "cell_type": "code",
   "execution_count": 11,
   "id": "55606114",
   "metadata": {},
   "outputs": [],
   "source": [
    "survived = []\n",
    "sex = []\n",
    "pclass = []\n",
    "avg_age = []\n",
    "for row in output:\n",
    "    pclass.append(row[0])\n",
    "    sex.append(row[1])\n",
    "    survived.append(row[2])\n",
    "    avg_age.append(row[3])"
   ]
  },
  {
   "cell_type": "code",
   "execution_count": 8,
   "id": "318ab734",
   "metadata": {},
   "outputs": [],
   "source": [
    "import seaborn as sns"
   ]
  },
  {
   "cell_type": "code",
   "execution_count": 18,
   "id": "f4aa677e",
   "metadata": {},
   "outputs": [
    {
     "data": {
      "text/plain": [
       "<AxesSubplot:>"
      ]
     },
     "execution_count": 18,
     "metadata": {},
     "output_type": "execute_result"
    },
    {
     "data": {
      "image/png": "[encoded data removed]",
      "text/plain": [
       "<Figure size 432x288 with 1 Axes>"
      ]
     },
     "metadata": {
      "needs_background": "light"
     },
     "output_type": "display_data"
    }
   ],
   "source": [
    "sns.lineplot(x = pclass  , y = avg_age , hue = survived , style= sex)"
   ]
  },
  {
   "cell_type": "markdown",
   "id": "e24606d4",
   "metadata": {},
   "source": [
    "d. What is the name, age, sex and pclass of the 5 oldest and 5 youngest persons who died?"
   ]
  },
  {
   "cell_type": "code",
   "execution_count": 65,
   "id": "c4c06290",
   "metadata": {},
   "outputs": [],
   "source": [
    "## AGE column type is str:\n",
    "\n",
    "query = \"\"\"ALTER TABLE titanic ADD Age_float  FLOAT\"\"\"\n",
    "curs.execute(query)\n",
    "connection.commit()"
   ]
  },
  {
   "cell_type": "code",
   "execution_count": 67,
   "id": "46fc6224",
   "metadata": {},
   "outputs": [],
   "source": [
    "curs.execute(\"UPDATE titanic SET Age_float=Age\")\n",
    "connection.commit()"
   ]
  },
  {
   "cell_type": "code",
   "execution_count": 76,
   "id": "084a1019",
   "metadata": {},
   "outputs": [
    {
     "name": "stdout",
     "output_type": "stream",
     "text": [
      "5 oldest passengers who died: \n",
      "\n",
      "Name:  Mr. Johan Svensson\n",
      "Age: 74\n",
      "Sex: male\n",
      "P_Class: 3\n",
      "----------\n",
      "Name:  Mr. George B Goldschmidt\n",
      "Age: 71\n",
      "Sex: male\n",
      "P_Class: 1\n",
      "----------\n",
      "Name:  Mr. Ramon Artagaveytia\n",
      "Age: 71\n",
      "Sex: male\n",
      "P_Class: 1\n",
      "----------\n",
      "Name:  Mr. Patrick Connors\n",
      "Age: 70\n",
      "Sex: male\n",
      "P_Class: 3\n",
      "----------\n",
      "Name:  Mr. Henry Michael Mitchell\n",
      "Age: 70\n",
      "Sex: male\n",
      "P_Class: 2\n",
      "----------\n"
     ]
    }
   ],
   "source": [
    "query = \"\"\"SELECT Name , Age_float , Sex , Pclass\n",
    "FROM titanic\n",
    "WHERE (Age_float IS NOT NULL) & (Survived = 0)\n",
    "ORDER BY Age_float DESC\n",
    "limit 5\n",
    "\"\"\"\n",
    "curs.execute(query)\n",
    "data = curs.fetchall()\n",
    "print(\"5 oldest passengers who died: \\n\")\n",
    "\n",
    "for item in data:\n",
    "    print(\"Name:\" , \" \".join(item[0].split(\",\")[::-1]))\n",
    "    print(\"Age:\" , int(item[1]))\n",
    "    print(\"Sex:\" , item[2])\n",
    "    print(\"P_Class:\" , item[3])\n",
    "    print(\"-\"*10)\n"
   ]
  },
  {
   "cell_type": "code",
   "execution_count": 77,
   "id": "084a1019",
   "metadata": {},
   "outputs": [
    {
     "name": "stdout",
     "output_type": "stream",
     "text": [
      "5 Youngest passengers who died: \n",
      "\n",
      "Name:  Master. Eino Viljami Panula\n",
      "Age: 1\n",
      "Sex: male\n",
      "P_Class: 3\n",
      "----------\n",
      "Name:  Master. Sidney Leonard Goodwin\n",
      "Age: 1\n",
      "Sex: male\n",
      "P_Class: 3\n",
      "----------\n",
      "Name:  Master. Gosta Leonard Palsson\n",
      "Age: 2\n",
      "Sex: male\n",
      "P_Class: 3\n",
      "----------\n",
      "Name:  Master. Eugene Rice\n",
      "Age: 2\n",
      "Sex: male\n",
      "P_Class: 3\n",
      "----------\n",
      "Name:  Miss. Ellis Anna Maria Andersson\n",
      "Age: 2\n",
      "Sex: female\n",
      "P_Class: 3\n",
      "----------\n"
     ]
    }
   ],
   "source": [
    "query = \"\"\"SELECT Name , Age_float , Sex , Pclass\n",
    "FROM titanic\n",
    "WHERE (Age_float IS NOT NULL) & (Survived = 0)\n",
    "ORDER BY Age_float ASC\n",
    "limit 5\n",
    "\"\"\"\n",
    "curs.execute(query)\n",
    "data = curs.fetchall()\n",
    "print(\"5 Youngest passengers who died: \\n\")\n",
    "\n",
    "for item in data:\n",
    "    print(\"Name:\" , \" \".join(item[0].split(\",\")[::-1]))\n",
    "    print(\"Age:\" , int(item[1]))\n",
    "    print(\"Sex:\" , item[2])\n",
    "    print(\"P_Class:\" , item[3])\n",
    "    print(\"-\"*10)\n"
   ]
  },
  {
   "cell_type": "markdown",
   "id": "33b27917",
   "metadata": {},
   "source": [
    "e. On average which Passenger Class is more expensive?"
   ]
  },
  {
   "cell_type": "code",
   "execution_count": 83,
   "id": "a482458e",
   "metadata": {},
   "outputs": [
    {
     "name": "stdout",
     "output_type": "stream",
     "text": [
      "The most expensive class is class 1 at price $84.2\n"
     ]
    }
   ],
   "source": [
    "curs.execute(\"SELECT Pclass , AVG(Fare) FROM titanic GROUP BY Pclass\")\n",
    "most_expensive = max(curs.fetchall() , key= lambda x:x[1])\n",
    "print(f\"The most expensive class is class {most_expensive[0]} at price ${round(most_expensive[1],1)}\")"
   ]
  }
 ],
 "metadata": {
  "kernelspec": {
   "display_name": "base",
   "language": "python",
   "name": "python3"
  },
  "language_info": {
   "codemirror_mode": {
    "name": "ipython",
    "version": 3
   },
   "file_extension": ".py",
   "mimetype": "text/x-python",
   "name": "python",
   "nbconvert_exporter": "python",
   "pygments_lexer": "ipython3",
   "version": "3.9.7"
  },
  "vscode": {
   "interpreter": {
    "hash": "7287290b0480c475e07faa8d8f2642b950c35b54c7904c27a4cb3f03b8542e7d"
   }
  }
 },
 "nbformat": 4,
 "nbformat_minor": 5
}
