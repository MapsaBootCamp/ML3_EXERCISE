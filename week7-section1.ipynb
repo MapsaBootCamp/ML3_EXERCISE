{
 "cells": [
  {
   "cell_type": "markdown",
   "id": "85b822c2",
   "metadata": {},
   "source": [
    "<br><p style=\"margin-left: 25%; font-size:20px;\">Machine Learning Camp: HomeWork 7 Section 1</p><br>"
   ]
  },
  {
   "cell_type": "markdown",
   "id": "062c1974",
   "metadata": {},
   "source": [
    "## 1. **Extracting twitter data:** In this problem we would like to extract data from twitter."
   ]
  },
  {
   "cell_type": "markdown",
   "id": "3ee06a3d",
   "metadata": {},
   "source": [
    "a. **Twitter API:** Set up twitter API using any of the methods as mentioned in the class."
   ]
  },
  {
   "cell_type": "code",
   "execution_count": 1,
   "id": "7b1dc13f",
   "metadata": {},
   "outputs": [],
   "source": [
    "# TODO"
   ]
  },
  {
   "cell_type": "markdown",
   "id": "7bf5903e",
   "metadata": {},
   "source": [
    "b. Now search twitter messages for \"data science job\". Display few job informations."
   ]
  },
  {
   "cell_type": "code",
   "execution_count": 2,
   "id": "b4706756",
   "metadata": {},
   "outputs": [],
   "source": [
    "# TODO"
   ]
  },
  {
   "cell_type": "markdown",
   "id": "d18cc5c7",
   "metadata": {},
   "source": [
    "c. Search 300 tweets using the hash tag `#chess` and save them in an object called `rTweets`. Show the top 7 sources of tweets (such as android or iphone) in a ordered bar plot."
   ]
  },
  {
   "cell_type": "code",
   "execution_count": 3,
   "id": "300c3271",
   "metadata": {},
   "outputs": [],
   "source": [
    "# TODO"
   ]
  },
  {
   "cell_type": "markdown",
   "id": "a0d8fec3",
   "metadata": {},
   "source": [
    "d. Convert rTweets into a data frame and store it in an object called dTweets. Display some data from dTweets."
   ]
  },
  {
   "cell_type": "code",
   "execution_count": 4,
   "id": "0e7c4cde",
   "metadata": {
    "scrolled": true
   },
   "outputs": [],
   "source": [
    "# TODO "
   ]
  },
  {
   "cell_type": "markdown",
   "id": "62f70679",
   "metadata": {},
   "source": [
    "e. dTweets has a column showing the time the tweet was created. Generate a plot showing number of tweets on each of the hours."
   ]
  },
  {
   "cell_type": "code",
   "execution_count": 5,
   "id": "13c6b827",
   "metadata": {
    "scrolled": true
   },
   "outputs": [],
   "source": [
    "# TODO"
   ]
  },
  {
   "cell_type": "markdown",
   "id": "1817c004",
   "metadata": {},
   "source": [
    "f. Arrange the dataframe dTweets based on the retweetCount. While doing this select only columns text, screenName, retweetCount. Store the data in a object called mostTweets. Display five texts that are most retweeted."
   ]
  },
  {
   "cell_type": "code",
   "execution_count": 6,
   "id": "9f5673a7",
   "metadata": {
    "scrolled": false
   },
   "outputs": [],
   "source": [
    "# TODO"
   ]
  },
  {
   "cell_type": "markdown",
   "id": "494b69c0",
   "metadata": {},
   "source": [
    "g. Generate a bar chart showing top 15 screen names and count of retweets from mostTweets. Order the bars based on the retweet counts."
   ]
  },
  {
   "cell_type": "code",
   "execution_count": 7,
   "id": "fd0c8c4f",
   "metadata": {
    "scrolled": true
   },
   "outputs": [],
   "source": [
    "# TODO"
   ]
  },
  {
   "cell_type": "markdown",
   "id": "0f90e93b",
   "metadata": {},
   "source": [
    "## 2. **Working with databases:** Please follow the instruction below before answering the questions:\n",
    "* Import the sqlite3\n",
    "* Connect to titanic.db"
   ]
  },
  {
   "cell_type": "code",
   "execution_count": 8,
   "id": "48079bd7",
   "metadata": {},
   "outputs": [],
   "source": [
    "import sqlite3\n",
    "import pandas as pd\n",
    "import seaborn as sns\n",
    "conn=sqlite3.connect('titanic.db')\n",
    "curs=conn.cursor()\n"
   ]
  },
  {
   "cell_type": "markdown",
   "id": "23126c1f",
   "metadata": {},
   "source": [
    "a. What is the average age of passengers who survived? Group the data by Sex. Display only the column `Sex`, `AverageAge`"
   ]
  },
  {
   "cell_type": "code",
   "execution_count": 9,
   "id": "a7a27cc7",
   "metadata": {},
   "outputs": [
    {
     "data": {
      "text/plain": [
       "[('female', 28.630769230769232), ('male', 27.276021505376345)]"
      ]
     },
     "execution_count": 9,
     "metadata": {},
     "output_type": "execute_result"
    }
   ],
   "source": [
    "curs.execute('SELECT sex, AVG(age) FROM titanic WHERE Survived=1 group by sex;')\n",
    "list(curs.fetchall())"
   ]
  },
  {
   "cell_type": "markdown",
   "id": "833db4b5",
   "metadata": {},
   "source": [
    "b. What is the percentage of passengers who survived in each Passenger Class or `Pclass`? Group the data by `Sex`. Display Pclass, Sex, percentage value. "
   ]
  },
  {
   "cell_type": "code",
   "execution_count": 10,
   "id": "34b1f293",
   "metadata": {},
   "outputs": [
    {
     "data": {
      "text/plain": [
       "[('female', '1', 26),\n",
       " ('male', '1', 13),\n",
       " ('female', '2', 20),\n",
       " ('male', '2', 5),\n",
       " ('female', '3', 21),\n",
       " ('male', '3', 13)]"
      ]
     },
     "execution_count": 10,
     "metadata": {},
     "output_type": "execute_result"
    }
   ],
   "source": [
    "curs.execute('SELECT sex,Pclass, count(Survived)*100/sum(count(*)) over() FROM titanic WHERE Survived=1 group by Pclass,sex')\n",
    "curs.fetchall()"
   ]
  },
  {
   "cell_type": "markdown",
   "id": "f77cc739",
   "metadata": {},
   "source": [
    "c. What is the average age of all the passenger (survived and not survived)? Group the data by `Pclass`, `Sex`, `Survived`. After that use `seaborn` to generate a line plot to show average age vs pclass, facet by sex and color it by survived."
   ]
  },
  {
   "cell_type": "code",
   "execution_count": 11,
   "id": "8bd1e502",
   "metadata": {},
   "outputs": [
    {
     "data": {
      "text/plain": [
       "[('female', '1', '0', 25.666666666666668),\n",
       " ('female', '1', '1', 34.5625),\n",
       " ('male', '1', '0', 44.58196721311475),\n",
       " ('male', '1', '1', 36.248000000000005),\n",
       " ('female', '2', '0', 36.0),\n",
       " ('female', '2', '1', 28.080882352941178),\n",
       " ('male', '2', '0', 33.36904761904762),\n",
       " ('male', '2', '1', 16.022),\n",
       " ('female', '3', '0', 23.818181818181817),\n",
       " ('female', '3', '1', 19.329787234042552),\n",
       " ('male', '3', '0', 27.25581395348837),\n",
       " ('male', '3', '1', 22.274210526315787)]"
      ]
     },
     "execution_count": 11,
     "metadata": {},
     "output_type": "execute_result"
    }
   ],
   "source": [
    "curs.execute('SELECT sex,Pclass,Survived,AVG(Age) FROM titanic  group by Pclass,sex,Survived')\n",
    "curs.fetchall()\n"
   ]
  },
  {
   "cell_type": "code",
   "execution_count": 19,
   "id": "5d6040a3",
   "metadata": {},
   "outputs": [
    {
     "data": {
      "text/html": [
       "<div>\n",
       "<style scoped>\n",
       "    .dataframe tbody tr th:only-of-type {\n",
       "        vertical-align: middle;\n",
       "    }\n",
       "\n",
       "    .dataframe tbody tr th {\n",
       "        vertical-align: top;\n",
       "    }\n",
       "\n",
       "    .dataframe thead th {\n",
       "        text-align: right;\n",
       "    }\n",
       "</style>\n",
       "<table border=\"1\" class=\"dataframe\">\n",
       "  <thead>\n",
       "    <tr style=\"text-align: right;\">\n",
       "      <th></th>\n",
       "      <th>Sex</th>\n",
       "      <th>Pclass</th>\n",
       "      <th>Survived</th>\n",
       "      <th>AVG(Age)</th>\n",
       "    </tr>\n",
       "  </thead>\n",
       "  <tbody>\n",
       "    <tr>\n",
       "      <th>0</th>\n",
       "      <td>female</td>\n",
       "      <td>1</td>\n",
       "      <td>0</td>\n",
       "      <td>25.666667</td>\n",
       "    </tr>\n",
       "    <tr>\n",
       "      <th>1</th>\n",
       "      <td>female</td>\n",
       "      <td>1</td>\n",
       "      <td>1</td>\n",
       "      <td>34.562500</td>\n",
       "    </tr>\n",
       "    <tr>\n",
       "      <th>2</th>\n",
       "      <td>male</td>\n",
       "      <td>1</td>\n",
       "      <td>0</td>\n",
       "      <td>44.581967</td>\n",
       "    </tr>\n",
       "    <tr>\n",
       "      <th>3</th>\n",
       "      <td>male</td>\n",
       "      <td>1</td>\n",
       "      <td>1</td>\n",
       "      <td>36.248000</td>\n",
       "    </tr>\n",
       "    <tr>\n",
       "      <th>4</th>\n",
       "      <td>female</td>\n",
       "      <td>2</td>\n",
       "      <td>0</td>\n",
       "      <td>36.000000</td>\n",
       "    </tr>\n",
       "    <tr>\n",
       "      <th>5</th>\n",
       "      <td>female</td>\n",
       "      <td>2</td>\n",
       "      <td>1</td>\n",
       "      <td>28.080882</td>\n",
       "    </tr>\n",
       "    <tr>\n",
       "      <th>6</th>\n",
       "      <td>male</td>\n",
       "      <td>2</td>\n",
       "      <td>0</td>\n",
       "      <td>33.369048</td>\n",
       "    </tr>\n",
       "    <tr>\n",
       "      <th>7</th>\n",
       "      <td>male</td>\n",
       "      <td>2</td>\n",
       "      <td>1</td>\n",
       "      <td>16.022000</td>\n",
       "    </tr>\n",
       "    <tr>\n",
       "      <th>8</th>\n",
       "      <td>female</td>\n",
       "      <td>3</td>\n",
       "      <td>0</td>\n",
       "      <td>23.818182</td>\n",
       "    </tr>\n",
       "    <tr>\n",
       "      <th>9</th>\n",
       "      <td>female</td>\n",
       "      <td>3</td>\n",
       "      <td>1</td>\n",
       "      <td>19.329787</td>\n",
       "    </tr>\n",
       "    <tr>\n",
       "      <th>10</th>\n",
       "      <td>male</td>\n",
       "      <td>3</td>\n",
       "      <td>0</td>\n",
       "      <td>27.255814</td>\n",
       "    </tr>\n",
       "    <tr>\n",
       "      <th>11</th>\n",
       "      <td>male</td>\n",
       "      <td>3</td>\n",
       "      <td>1</td>\n",
       "      <td>22.274211</td>\n",
       "    </tr>\n",
       "  </tbody>\n",
       "</table>\n",
       "</div>"
      ],
      "text/plain": [
       "       Sex Pclass Survived   AVG(Age)\n",
       "0   female      1        0  25.666667\n",
       "1   female      1        1  34.562500\n",
       "2     male      1        0  44.581967\n",
       "3     male      1        1  36.248000\n",
       "4   female      2        0  36.000000\n",
       "5   female      2        1  28.080882\n",
       "6     male      2        0  33.369048\n",
       "7     male      2        1  16.022000\n",
       "8   female      3        0  23.818182\n",
       "9   female      3        1  19.329787\n",
       "10    male      3        0  27.255814\n",
       "11    male      3        1  22.274211"
      ]
     },
     "execution_count": 19,
     "metadata": {},
     "output_type": "execute_result"
    }
   ],
   "source": [
    "data=pd.read_sql('SELECT sex,Pclass,Survived,AVG(Age) FROM titanic  group by Pclass,sex,Survived',conn)\n",
    "data"
   ]
  },
  {
   "cell_type": "code",
   "execution_count": 21,
   "id": "0ab9ffd9",
   "metadata": {},
   "outputs": [
    {
     "data": {
      "text/plain": [
       "<seaborn.axisgrid.FacetGrid at 0x7f93f088ac40>"
      ]
     },
     "execution_count": 21,
     "metadata": {},
     "output_type": "execute_result"
    },
    {
     "data": {
      "image/png": "[encoded data removed]",
      "text/plain": [
       "<Figure size 790.5x360 with 2 Axes>"
      ]
     },
     "metadata": {
      "needs_background": "light"
     },
     "output_type": "display_data"
    }
   ],
   "source": [
    "sns.relplot(data=data,x='Pclass',y='AVG(Age)',kind='line',hue='Sex',col='Survived')"
   ]
  },
  {
   "cell_type": "markdown",
   "id": "e24606d4",
   "metadata": {},
   "source": [
    "d. What is the name, age, sex and pclass of the 5 oldest and 5 youngest persons who died?"
   ]
  },
  {
   "cell_type": "code",
   "execution_count": 33,
   "id": "084a1019",
   "metadata": {},
   "outputs": [
    {
     "data": {
      "text/plain": [
       "[('Svensson, Mr. Johan', '74', 'male', '3'),\n",
       " ('Goldschmidt, Mr. George B', '71', 'male', '1'),\n",
       " ('Artagaveytia, Mr. Ramon', '71', 'male', '1'),\n",
       " ('Connors, Mr. Patrick', '70.5', 'male', '3'),\n",
       " ('Mitchell, Mr. Henry Michael', '70', 'male', '2')]"
      ]
     },
     "execution_count": 33,
     "metadata": {},
     "output_type": "execute_result"
    }
   ],
   "source": [
    "curs.execute('SELECT Name,Age,sex,Pclass FROM titanic  WHERE Survived=0 AND Age IS NOT NULL  ORDER BY cast(Age as FLOAT) DESC')\n",
    "curs.fetchmany(5)"
   ]
  },
  {
   "cell_type": "code",
   "execution_count": 32,
   "id": "61158718",
   "metadata": {},
   "outputs": [
    {
     "data": {
      "text/plain": [
       "[('Panula, Master. Eino Viljami', '1', 'male', '3'),\n",
       " ('Goodwin, Master. Sidney Leonard', '1', 'male', '3'),\n",
       " ('Palsson, Master. Gosta Leonard', '2', 'male', '3'),\n",
       " ('Rice, Master. Eugene', '2', 'male', '3'),\n",
       " ('Andersson, Miss. Ellis Anna Maria', '2', 'female', '3')]"
      ]
     },
     "execution_count": 32,
     "metadata": {},
     "output_type": "execute_result"
    }
   ],
   "source": [
    "curs.execute('SELECT Name,Age,sex,Pclass FROM titanic  WHERE Survived=0 AND Age IS NOT NULL ORDER BY cast(Age as FLOAT) ASC')\n",
    "curs.fetchmany(5)"
   ]
  },
  {
   "cell_type": "markdown",
   "id": "33b27917",
   "metadata": {},
   "source": [
    "e. On average which Passenger Class is more expensive?"
   ]
  },
  {
   "cell_type": "code",
   "execution_count": 34,
   "id": "a482458e",
   "metadata": {},
   "outputs": [
    {
     "data": {
      "text/plain": [
       "(84.19351635514012, '1')"
      ]
     },
     "execution_count": 34,
     "metadata": {},
     "output_type": "execute_result"
    }
   ],
   "source": [
    "curs.execute('SELECT AVG(Fare),Pclass FROM titanic group by Pclass ORDER BY  CAST(AVG(Fare) as FLOAT) DESC')\n",
    "curs.fetchone()"
   ]
  }
 ],
 "metadata": {
  "kernelspec": {
   "display_name": "base",
   "language": "python",
   "name": "python3"
  },
  "language_info": {
   "codemirror_mode": {
    "name": "ipython",
    "version": 3
   },
   "file_extension": ".py",
   "mimetype": "text/x-python",
   "name": "python",
   "nbconvert_exporter": "python",
   "pygments_lexer": "ipython3",
   "version": "3.9.12"
  },
  "vscode": {
   "interpreter": {
    "hash": "381afda6634acabfe02de722b0985adea3cc2e228af5cdbefa626e4cfe1e2f2d"
   }
  }
 },
 "nbformat": 4,
 "nbformat_minor": 5
}
