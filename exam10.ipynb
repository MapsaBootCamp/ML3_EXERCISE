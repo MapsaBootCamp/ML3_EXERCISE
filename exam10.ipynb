{
 "cells": [
  {
   "cell_type": "markdown",
   "id": "29f5e5d5-7cc9-4dc4-8d4a-8cca2ba1bd63",
   "metadata": {},
   "source": [
    "در صورت وجود همبستگی زیاد بین دو فیچر بیشترین تاثیر منفی بر کدام یک از مدل های کلاسبک است\n"
   ]
  },
  {
   "cell_type": "markdown",
   "id": "a410ddd1-d135-4090-bec8-fe7b9e63bddf",
   "metadata": {},
   "source": [
    "Naive Bayes\n",
    "چون شرط ساده کننده در این مدلسازی این است که فیچرها نسبت به هم استقلال داشته باشند\n",
    "\n",
    "###############"
   ]
  },
  {
   "cell_type": "markdown",
   "id": "4fb4cd6c-fe75-4235-9f36-f5e0ae762d97",
   "metadata": {},
   "source": [
    "نوشته و برای پیدا کردن آن ها از کدام فانکشن در کد استفاده میشود percision و recallفرمول "
   ]
  },
  {
   "cell_type": "markdown",
   "id": "ac051ff2-6e5d-4493-bbfd-768f277c42a4",
   "metadata": {},
   "source": [
    "هر دو معیارهایی برای ارزیابی کلاسیفایر هستند\n",
    "\n",
    "Precision= TP/(TP+FP)\n",
    "\n",
    "Recall=TP/(TP+FN)\n",
    "\n",
    "from sklearn.metrix import classification_Report\n",
    "\n",
    "model.classification_Report(y_test, y_predict)\n",
    "\n",
    "#################"
   ]
  },
  {
   "cell_type": "markdown",
   "id": "78d9654e-8278-4fa4-bc2b-7a8b1c8102b2",
   "metadata": {},
   "source": [
    "چیست و کدام یک معادل ریکال است roc curveدو پارامتر مهم در  "
   ]
  },
  {
   "cell_type": "markdown",
   "id": "cb6d3cb1-cfa6-4721-826b-b449d635fc57",
   "metadata": {},
   "source": [
    "TPR and FPR\n",
    "\n",
    "TPR= Recall\n",
    "\n",
    "FPR=احتمال آلارم اشتباه\n",
    "\n",
    "###########################"
   ]
  },
  {
   "cell_type": "markdown",
   "id": "89f19984-7836-45c8-b24f-9a76e27c66e7",
   "metadata": {},
   "source": [
    " چیستaucمنظور از  "
   ]
  },
  {
   "cell_type": "markdown",
   "id": "59fd7644-77af-49e9-b413-b390cbee9674",
   "metadata": {},
   "source": [
    "مساحت زیر سطح نمودار\n",
    "roc\n",
    "\n",
    "##########################"
   ]
  },
  {
   "cell_type": "markdown",
   "id": "4a3befcf-f45a-4c94-b318-2c95bbf50b46",
   "metadata": {},
   "source": [
    "را نام ببرید و به طور کلی کرنل در این مدل یعنی انجام چه کاری؟svm kernels"
   ]
  },
  {
   "cell_type": "markdown",
   "id": "2ecacf04-ccc1-47c0-a681-99a7b69adfcd",
   "metadata": {},
   "source": [
    "kernels= ‘linear’, ‘poly’, ‘rbf’, ‘sigmoid’, ‘precomputed’\n",
    "\n",
    "با استفاده از کرنل مسئله را در ابعاد بالاتری میبریم و در همان ابعاد مسئله را حل می کنیم\n",
    "\n",
    "#############################"
   ]
  },
  {
   "cell_type": "markdown",
   "id": "8e125274-fdd0-4595-bad9-c6ed748034b7",
   "metadata": {},
   "source": [
    "را می خواهیم پیاده سازی کنیم همانطور که میبیتید نسبت دیتاها بسیار متفاوت است چه راه حلی را پیشتهاد میکنید  svcدر دیتاستی ۱۰۰۰ داده با لیبل ۱ و ۲۰ داده با لیبل ۲ وجود دارد میخواهیم بر روی این دیتا مدل "
   ]
  },
  {
   "cell_type": "markdown",
   "id": "4807d41b-bbd5-4b95-9fec-afc30864f32a",
   "metadata": {},
   "source": [
    "برای داده های غیرمتوازن استفاده از این مدلسازی مناسب نیست\n",
    "در نتیجه ابتدا با وزن دهی به کلاس ها باید توازن بین کلاس ها ایحاد کرد سپس مدل زد\n",
    "\n",
    "####################################"
   ]
  },
  {
   "cell_type": "markdown",
   "id": "18852940-7c1c-437a-a329-7f20f5589438",
   "metadata": {},
   "source": [
    "زیر برقرار است عدد ۲ و عدد ۳ چه مفهومی را می رساند  confusion matrix بر روی داده های پیش بینی شده توسط یک مدل و لیبل های واقعی آن "
   ]
  },
  {
   "cell_type": "markdown",
   "id": "99116956-0a10-4b40-bfd1-09cccd310656",
   "metadata": {},
   "source": [
    "[[10  2 0]\n",
    " [ 0  8  3]\n",
    " [ 0  0 11]]"
   ]
  },
  {
   "cell_type": "markdown",
   "id": "2bedd989-f930-4797-8efd-d13653cc4174",
   "metadata": {},
   "source": [
    "عدد دو نشان می دهد که دو نمونه از کلاس اول به اشتباه در کلاس دو دسته بندی شده است\n",
    "عدد سه نشان می دهد که سه نمونه از کلاس دوم در کلاس سه اشتباها دسته بندی شده است\n",
    "\n",
    "###########################################"
   ]
  },
  {
   "cell_type": "markdown",
   "id": "ee396c07-99d7-4c2e-bf31-93dca02e1b1d",
   "metadata": {},
   "source": [
    "کنیم چه روش هایی را استفاده میکنید model-base   الگوریتم است برای اینکه این الگوریتم را کمی شبیه الگوریتم هایinstance-base یک knn الگوریتم"
   ]
  },
  {
   "cell_type": "markdown",
   "id": "413ca102-9b82-4435-93d7-e7d35ecad143",
   "metadata": {},
   "source": [
    "kd tree, ball tree\n",
    "\n",
    "#################################################"
   ]
  },
  {
   "cell_type": "markdown",
   "id": "21b44a13-a736-4af8-8219-205bc5400990",
   "metadata": {},
   "source": [
    "را امتحان کنید svmروی دیتای زیر پارامترهای الگوریتم مناسب   "
   ]
  },
  {
   "cell_type": "code",
   "execution_count": 17,
   "id": "3be1d377-bba5-4c5c-8643-5611e7fe8ee8",
   "metadata": {},
   "outputs": [],
   "source": [
    "import pandas as pd\n",
    "from sklearn.model_selection import train_test_split\n",
    "from sklearn.pipeline import make_pipeline\n",
    "from sklearn.preprocessing import StandardScaler\n",
    "from sklearn.svm import SVC\n",
    "from sklearn.metrics import classification_report, confusion_matrix"
   ]
  },
  {
   "cell_type": "code",
   "execution_count": 12,
   "id": "64c33c88-480f-4be5-90e9-be29b39fd307",
   "metadata": {},
   "outputs": [],
   "source": [
    "from sklearn.datasets import load_wine\n",
    "\n",
    "wine = load_wine(as_frame=True)"
   ]
  },
  {
   "cell_type": "code",
   "execution_count": 13,
   "id": "2120bf87-2e67-4ed5-aa7a-7443a2518876",
   "metadata": {},
   "outputs": [],
   "source": [
    "X=wine.data\n",
    "y=wine.target"
   ]
  },
  {
   "cell_type": "code",
   "execution_count": 14,
   "id": "1b12cd5e-1268-41a5-ae00-c5006d0720a3",
   "metadata": {},
   "outputs": [],
   "source": [
    "X_train, X_test, y_train, y_test=train_test_split(X,y,test_size=0.3,random_state=0)"
   ]
  },
  {
   "cell_type": "code",
   "execution_count": 22,
   "id": "c998e18a-8bf5-44ca-96cb-b893136141b2",
   "metadata": {},
   "outputs": [
    {
     "name": "stdout",
     "output_type": "stream",
     "text": [
      "No Parameter\n",
      "              precision    recall  f1-score   support\n",
      "\n",
      "           0       1.00      1.00      1.00        19\n",
      "           1       1.00      1.00      1.00        22\n",
      "           2       1.00      1.00      1.00        13\n",
      "\n",
      "    accuracy                           1.00        54\n",
      "   macro avg       1.00      1.00      1.00        54\n",
      "weighted avg       1.00      1.00      1.00        54\n",
      "\n",
      "[[19  0  0]\n",
      " [ 0 22  0]\n",
      " [ 0  0 13]]\n",
      "Parameter: gamma auto, C=10\n",
      "              precision    recall  f1-score   support\n",
      "\n",
      "           0       1.00      1.00      1.00        19\n",
      "           1       1.00      1.00      1.00        22\n",
      "           2       1.00      1.00      1.00        13\n",
      "\n",
      "    accuracy                           1.00        54\n",
      "   macro avg       1.00      1.00      1.00        54\n",
      "weighted avg       1.00      1.00      1.00        54\n",
      "\n",
      "[[19  0  0]\n",
      " [ 0 22  0]\n",
      " [ 0  0 13]]\n",
      "Parameter: gamma 10, C=100\n",
      "              precision    recall  f1-score   support\n",
      "\n",
      "           0       1.00      0.53      0.69        19\n",
      "           1       0.54      1.00      0.70        22\n",
      "           2       1.00      0.23      0.38        13\n",
      "\n",
      "    accuracy                           0.65        54\n",
      "   macro avg       0.85      0.59      0.59        54\n",
      "weighted avg       0.81      0.65      0.62        54\n",
      "\n",
      "[[10  9  0]\n",
      " [ 0 22  0]\n",
      " [ 0 10  3]]\n"
     ]
    }
   ],
   "source": [
    "#RBF\n",
    "pipe=make_pipeline(StandardScaler(),SVC())\n",
    "pipe.fit(X_train,y_train)\n",
    "predict=pipe.predict(X_test)\n",
    "print(\"No Parameter\")\n",
    "print(classification_report(y_test,predict))\n",
    "print(confusion_matrix(y_test, predict))\n",
    "\n",
    "pipe=make_pipeline(StandardScaler(),SVC(C=10,gamma='auto',decision_function_shape='ovr'))\n",
    "pipe.fit(X_train,y_train)\n",
    "predict=pipe.predict(X_test)\n",
    "print(\"Parameter: gamma auto, C=10\")\n",
    "print(classification_report(y_test,predict))\n",
    "print(confusion_matrix(y_test, predict))\n",
    "\n",
    "pipe=make_pipeline(StandardScaler(),SVC(C=50,gamma=1,decision_function_shape='ovr'))\n",
    "pipe.fit(X_train,y_train)\n",
    "predict=pipe.predict(X_test)\n",
    "print(\"Parameter: gamma 10, C=100\")\n",
    "print(classification_report(y_test,predict))\n",
    "print(confusion_matrix(y_test, predict))"
   ]
  },
  {
   "cell_type": "code",
   "execution_count": 23,
   "id": "21f923c0-c17c-423f-a9ad-1b21ef203415",
   "metadata": {},
   "outputs": [
    {
     "name": "stdout",
     "output_type": "stream",
     "text": [
      "No Parameter\n",
      "              precision    recall  f1-score   support\n",
      "\n",
      "           0       1.00      1.00      1.00        19\n",
      "           1       1.00      1.00      1.00        22\n",
      "           2       1.00      1.00      1.00        13\n",
      "\n",
      "    accuracy                           1.00        54\n",
      "   macro avg       1.00      1.00      1.00        54\n",
      "weighted avg       1.00      1.00      1.00        54\n",
      "\n",
      "[[19  0  0]\n",
      " [ 0 22  0]\n",
      " [ 0  0 13]]\n",
      "Parameter: gamma=auto  degree=5 C=10\n",
      "              precision    recall  f1-score   support\n",
      "\n",
      "           0       1.00      1.00      1.00        19\n",
      "           1       1.00      1.00      1.00        22\n",
      "           2       1.00      1.00      1.00        13\n",
      "\n",
      "    accuracy                           1.00        54\n",
      "   macro avg       1.00      1.00      1.00        54\n",
      "weighted avg       1.00      1.00      1.00        54\n",
      "\n",
      "[[19  0  0]\n",
      " [ 0 22  0]\n",
      " [ 0  0 13]]\n"
     ]
    }
   ],
   "source": [
    "#polynomial\n",
    "pipe=make_pipeline(StandardScaler(),SVC(kernel='linear'))\n",
    "pipe.fit(X_train,y_train)\n",
    "predict=pipe.predict(X_test)\n",
    "print(\"No Parameter\")\n",
    "print(classification_report(y_test,predict))\n",
    "print(confusion_matrix(y_test, predict))\n",
    "\n",
    "pipe=make_pipeline(StandardScaler(),SVC(kernel='linear', gamma='auto',degree=10, C=10))\n",
    "pipe.fit(X_train,y_train)\n",
    "predict=pipe.predict(X_test)\n",
    "print(\"Parameter: gamma=auto  degree=5 C=10\")\n",
    "print(classification_report(y_test,predict))\n",
    "print(confusion_matrix(y_test, predict))"
   ]
  },
  {
   "cell_type": "code",
   "execution_count": 24,
   "id": "63a575b9-d3db-4a94-9152-22b495b32481",
   "metadata": {},
   "outputs": [
    {
     "name": "stdout",
     "output_type": "stream",
     "text": [
      "No Parameter\n",
      "              precision    recall  f1-score   support\n",
      "\n",
      "           0       1.00      1.00      1.00        19\n",
      "           1       1.00      0.95      0.98        22\n",
      "           2       0.93      1.00      0.96        13\n",
      "\n",
      "    accuracy                           0.98        54\n",
      "   macro avg       0.98      0.98      0.98        54\n",
      "weighted avg       0.98      0.98      0.98        54\n",
      "\n",
      "[[19  0  0]\n",
      " [ 0 21  1]\n",
      " [ 0  0 13]]\n",
      "Parameter: gamma=200\n",
      "              precision    recall  f1-score   support\n",
      "\n",
      "           0       1.00      0.89      0.94        19\n",
      "           1       0.77      0.91      0.83        22\n",
      "           2       0.82      0.69      0.75        13\n",
      "\n",
      "    accuracy                           0.85        54\n",
      "   macro avg       0.86      0.83      0.84        54\n",
      "weighted avg       0.86      0.85      0.85        54\n",
      "\n",
      "[[17  2  0]\n",
      " [ 0 20  2]\n",
      " [ 0  4  9]]\n",
      "Parameter: gamma=auto\n",
      "              precision    recall  f1-score   support\n",
      "\n",
      "           0       1.00      1.00      1.00        19\n",
      "           1       1.00      0.95      0.98        22\n",
      "           2       0.93      1.00      0.96        13\n",
      "\n",
      "    accuracy                           0.98        54\n",
      "   macro avg       0.98      0.98      0.98        54\n",
      "weighted avg       0.98      0.98      0.98        54\n",
      "\n",
      "[[19  0  0]\n",
      " [ 0 21  1]\n",
      " [ 0  0 13]]\n"
     ]
    }
   ],
   "source": [
    "#sigmoid\n",
    "pipe=make_pipeline(StandardScaler(),SVC(kernel='sigmoid'))\n",
    "pipe.fit(X_train,y_train)\n",
    "predict=pipe.predict(X_test)\n",
    "print(\"No Parameter\")\n",
    "print(classification_report(y_test,predict))\n",
    "print(confusion_matrix(y_test, predict))\n",
    "\n",
    "pipe=make_pipeline(StandardScaler(),SVC(kernel='sigmoid', gamma=200))\n",
    "pipe.fit(X_train,y_train)\n",
    "predict=pipe.predict(X_test)\n",
    "print(\"Parameter: gamma=200\")\n",
    "print(classification_report(y_test,predict))\n",
    "print(confusion_matrix(y_test, predict))\n",
    "\n",
    "pipe=make_pipeline(StandardScaler(),SVC(kernel='sigmoid', gamma='auto'))\n",
    "pipe.fit(X_train,y_train)\n",
    "predict=pipe.predict(X_test)\n",
    "print(\"Parameter: gamma=auto\")\n",
    "print(classification_report(y_test,predict))\n",
    "print(confusion_matrix(y_test, predict))"
   ]
  },
  {
   "cell_type": "markdown",
   "id": "5666af34-d162-40d2-967d-2768b35dfeff",
   "metadata": {},
   "source": [
    "## linux\n"
   ]
  },
  {
   "cell_type": "markdown",
   "id": "0facc477-4398-4ce0-b90b-e148969e1ab0",
   "metadata": {},
   "source": [
    "چند دیستربیوشن مهم لینوکس دز دنیای امروز را نام ببرید و منظور از کرنل چیست"
   ]
  },
  {
   "cell_type": "markdown",
   "id": "098ef3e2-6af9-4c82-9767-1f56d2248691",
   "metadata": {},
   "source": [
    "Ubuntu, CentOs, Fedora, Alpine, \n",
    "\n",
    "A distribution is just the kernel (which may include distribution specific patches) plus all the extra programs that make it usable.\n",
    "\n",
    "The kernel is a central project, and is nominally the same in each distro, but most distros customize it a bit"
   ]
  }
 ],
 "metadata": {
  "kernelspec": {
   "display_name": "Python 3 (ipykernel)",
   "language": "python",
   "name": "python3"
  },
  "language_info": {
   "codemirror_mode": {
    "name": "ipython",
    "version": 3
   },
   "file_extension": ".py",
   "mimetype": "text/x-python",
   "name": "python",
   "nbconvert_exporter": "python",
   "pygments_lexer": "ipython3",
   "version": "3.10.2"
  }
 },
 "nbformat": 4,
 "nbformat_minor": 5
}
