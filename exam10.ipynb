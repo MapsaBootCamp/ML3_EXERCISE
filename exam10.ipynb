{
 "cells": [
  {
   "cell_type": "markdown",
   "id": "29f5e5d5-7cc9-4dc4-8d4a-8cca2ba1bd63",
   "metadata": {},
   "source": [
    "## در صورت وجود همبستگی زیاد بین دو فیچر بیشترین تاثیر منفی بر کدام یک از مدل های کلاسبک است   \n"
   ]
  },
  {
   "cell_type": "markdown",
   "id": "274d8d31",
   "metadata": {},
   "source": [
    "در صورت وجود همبستگی زیاد بین دو فیچر این احتمال وجود دارد که مدل تحت تاثیر مشکلی به نام چند خطی یا (مولتی کالنیریتی) قرار گیرد. چند خطی زمانی اتفاق می افتد که یک متغیر پیش بینی کننده در یک مدل رگرسیون چندگانه را بتوان به صورت خطی از بقیه با درجه دقت بالایی پیش بینی کرد. که مدل درخت تصمیم و مدل های تقویت شده آن از این قضیه مصون هستند چون آن ها فیچری که مرتبط تر است انتخاب میکنند.                         \n",
    "ولی بر مدل های زیر تاثیر منفی دارد.                                    \n",
    "Linear Regression, Logistic Regression and Naive Bayes algorithms are impacted by multicollinearity.\n"
   ]
  },
  {
   "cell_type": "markdown",
   "id": "4fb4cd6c-fe75-4235-9f36-f5e0ae762d97",
   "metadata": {},
   "source": [
    " ## نوشته و برای پیدا کردن آن ها از کدام فانکشن در کد استفاده میشود percision و recallفرمول"
   ]
  },
  {
   "cell_type": "markdown",
   "id": "7e47e83f",
   "metadata": {},
   "source": [
    "Precision = TruePositives / (TruePositives + FalsePositives)                                 \n",
    "Precision = TP/TP+FP                                                \n",
    "Recall = True Positive/True Positive + False Negative                                       \n",
    "Recall = TP/TP+FN                         \n",
    "recall_score(y_test, y_pred)                                           \n",
    "precision_score(y_test, y_pred)                                           "
   ]
  },
  {
   "cell_type": "markdown",
   "id": "78d9654e-8278-4fa4-bc2b-7a8b1c8102b2",
   "metadata": {},
   "source": [
    "## چیست و کدام یک معادل ریکال است roc curveدو پارامتر مهم در  "
   ]
  },
  {
   "cell_type": "markdown",
   "id": "cf009056",
   "metadata": {},
   "source": [
    "ROC curves typically:1. feature true positive rate (TPR) on the Y axis, and 2. false positive rate (FPR) on the X axis.\n",
    "This means that the top left corner of the plot is the “ideal” point - a FPR of zero, and a TPR of one.         \n",
    "Recall is calculated as the ratio of the number of true positives divided by the sum of the true positives and the false negatives"
   ]
  },
  {
   "cell_type": "markdown",
   "id": "89f19984-7836-45c8-b24f-9a76e27c66e7",
   "metadata": {},
   "source": [
    "##  چیستaucمنظور از  "
   ]
  },
  {
   "cell_type": "markdown",
   "id": "c7a4f613",
   "metadata": {},
   "source": [
    "(AUC):\n",
    "area under the receiver operating characteristic (ROC) curve.\n",
    "The Reciever operating characteristic curve plots the true positive (TP) rate versus the false positive (FP) rate at different classification thresholds\n"
   ]
  },
  {
   "cell_type": "markdown",
   "id": "4a3befcf-f45a-4c94-b318-2c95bbf50b46",
   "metadata": {},
   "source": [
    "## را نام ببرید و به طور کلی کرنل در این مدل یعنی انجام چه کاری؟svm kernels"
   ]
  },
  {
   "cell_type": "markdown",
   "id": "63237b16",
   "metadata": {},
   "source": [
    "linear,sigmoid,The polynomial and RBF                                    \n",
    "الگوریتم ها از مجموعه ای از توابع ریاضی که به عنوان کرنل تعریف می شوند، استفاده می کنند. وظیفه کرنل این است که داده ها را به عنوان ورودی گرفته و آن ها را به شکل مورد نیاز تبدیل کند. الگوریتم های مختلف اس وی ام توابع کرنل استفاده می کنند. این توابع می توانند انواع متفاوتی داشته باشند"
   ]
  },
  {
   "cell_type": "markdown",
   "id": "8e125274-fdd0-4595-bad9-c6ed748034b7",
   "metadata": {},
   "source": [
    "## را می خواهیم پیاده سازی کنیم همانطور که میبیتید نسبت دیتاها بسیار متفاوت است چه راه حلی را پیشتهاد میکنید  svcدر دیتاستی ۱۰۰۰ داده با لیبل ۱ و ۲۰ داده با لیبل ۲ وجود دارد میخواهیم بر روی این دیتا مدل "
   ]
  },
  {
   "cell_type": "markdown",
   "id": "9a747ce6",
   "metadata": {},
   "source": [
    "use class_weight:dict or ‘balanced’ parameter in svc .                                  \n",
    "set the C(Regularization parameter) of class i to class_weight[i]*C for SVC"
   ]
  },
  {
   "cell_type": "markdown",
   "id": "18852940-7c1c-437a-a329-7f20f5589438",
   "metadata": {},
   "source": [
    "## زیر برقرار است عدد ۲ و عدد ۳ چه مفهومی را می رساند  confusion matrix بر روی داده های پیش بینی شده توسط یک مدل و لیبل های واقعی آن "
   ]
  },
  {
   "cell_type": "markdown",
   "id": "d6da32aa",
   "metadata": {},
   "source": [
    "اگر سطر هارا مقدار واقعی و ستون ها را مقدار پیش بینی شده در نظر بگیریم عدد ۲ نشان دهنده این است که مجموع نمونه هایی که در کلاس ۱ بوده ولی به اشتباه در کلاس ۲ پیشبینی شده است.\n",
    "\n",
    " عدد ۳ به این معنا است که ۳ مورد مربوط به کلاس ۲ میباشد ولی به اشتباه در کلاس ۳ پیش بینی شده است\n",
    "\n",
    "هردو FN هستند "
   ]
  },
  {
   "cell_type": "code",
   "execution_count": null,
   "id": "288d63b4-81a3-4e42-8614-af6a16a1ad94",
   "metadata": {},
   "outputs": [],
   "source": [
    "[[10  2 0]\n",
    " [ 0  8  3]\n",
    " [ 0  0 11]]"
   ]
  },
  {
   "cell_type": "markdown",
   "id": "ee396c07-99d7-4c2e-bf31-93dca02e1b1d",
   "metadata": {},
   "source": [
    "## کنیم چه روش هایی را استفاده میکنید model-base   الگوریتم است برای اینکه این الگوریتم را کمی شبیه الگوریتم هایinstance-base یک knn الگوریتم"
   ]
  },
  {
   "cell_type": "markdown",
   "id": "8b55699c",
   "metadata": {},
   "source": [
    "1.we can integrate knn with algorithms like linear regression, logistic regression, random forest, etc.                       \n",
    "2.kd-tree,ball-tree       \n"
   ]
  },
  {
   "cell_type": "markdown",
   "id": "21b44a13-a736-4af8-8219-205bc5400990",
   "metadata": {},
   "source": [
    "## را امتحان کنید svmروی دیتای زیر پارامترهای الگوریتم مناسب   "
   ]
  },
  {
   "cell_type": "code",
   "execution_count": 30,
   "id": "64c33c88-480f-4be5-90e9-be29b39fd307",
   "metadata": {},
   "outputs": [
    {
     "data": {
      "text/plain": [
       "['data', 'target', 'frame', 'target_names', 'DESCR', 'feature_names']"
      ]
     },
     "execution_count": 30,
     "metadata": {},
     "output_type": "execute_result"
    }
   ],
   "source": [
    "from sklearn.datasets import load_wine\n",
    "import pandas as pd\n",
    "wine = load_wine(as_frame=True)\n",
    "list(wine.keys())"
   ]
  },
  {
   "cell_type": "code",
   "execution_count": 31,
   "id": "85361d28",
   "metadata": {},
   "outputs": [
    {
     "data": {
      "text/html": [
       "<div>\n",
       "<style scoped>\n",
       "    .dataframe tbody tr th:only-of-type {\n",
       "        vertical-align: middle;\n",
       "    }\n",
       "\n",
       "    .dataframe tbody tr th {\n",
       "        vertical-align: top;\n",
       "    }\n",
       "\n",
       "    .dataframe thead th {\n",
       "        text-align: right;\n",
       "    }\n",
       "</style>\n",
       "<table border=\"1\" class=\"dataframe\">\n",
       "  <thead>\n",
       "    <tr style=\"text-align: right;\">\n",
       "      <th></th>\n",
       "      <th>alcohol</th>\n",
       "      <th>malic_acid</th>\n",
       "      <th>ash</th>\n",
       "      <th>alcalinity_of_ash</th>\n",
       "      <th>magnesium</th>\n",
       "      <th>total_phenols</th>\n",
       "      <th>flavanoids</th>\n",
       "      <th>nonflavanoid_phenols</th>\n",
       "      <th>proanthocyanins</th>\n",
       "      <th>color_intensity</th>\n",
       "      <th>hue</th>\n",
       "      <th>od280/od315_of_diluted_wines</th>\n",
       "      <th>proline</th>\n",
       "      <th>target</th>\n",
       "    </tr>\n",
       "  </thead>\n",
       "  <tbody>\n",
       "    <tr>\n",
       "      <th>0</th>\n",
       "      <td>14.23</td>\n",
       "      <td>1.71</td>\n",
       "      <td>2.43</td>\n",
       "      <td>15.6</td>\n",
       "      <td>127.0</td>\n",
       "      <td>2.80</td>\n",
       "      <td>3.06</td>\n",
       "      <td>0.28</td>\n",
       "      <td>2.29</td>\n",
       "      <td>5.64</td>\n",
       "      <td>1.04</td>\n",
       "      <td>3.92</td>\n",
       "      <td>1065.0</td>\n",
       "      <td>0</td>\n",
       "    </tr>\n",
       "    <tr>\n",
       "      <th>1</th>\n",
       "      <td>13.20</td>\n",
       "      <td>1.78</td>\n",
       "      <td>2.14</td>\n",
       "      <td>11.2</td>\n",
       "      <td>100.0</td>\n",
       "      <td>2.65</td>\n",
       "      <td>2.76</td>\n",
       "      <td>0.26</td>\n",
       "      <td>1.28</td>\n",
       "      <td>4.38</td>\n",
       "      <td>1.05</td>\n",
       "      <td>3.40</td>\n",
       "      <td>1050.0</td>\n",
       "      <td>0</td>\n",
       "    </tr>\n",
       "    <tr>\n",
       "      <th>2</th>\n",
       "      <td>13.16</td>\n",
       "      <td>2.36</td>\n",
       "      <td>2.67</td>\n",
       "      <td>18.6</td>\n",
       "      <td>101.0</td>\n",
       "      <td>2.80</td>\n",
       "      <td>3.24</td>\n",
       "      <td>0.30</td>\n",
       "      <td>2.81</td>\n",
       "      <td>5.68</td>\n",
       "      <td>1.03</td>\n",
       "      <td>3.17</td>\n",
       "      <td>1185.0</td>\n",
       "      <td>0</td>\n",
       "    </tr>\n",
       "    <tr>\n",
       "      <th>3</th>\n",
       "      <td>14.37</td>\n",
       "      <td>1.95</td>\n",
       "      <td>2.50</td>\n",
       "      <td>16.8</td>\n",
       "      <td>113.0</td>\n",
       "      <td>3.85</td>\n",
       "      <td>3.49</td>\n",
       "      <td>0.24</td>\n",
       "      <td>2.18</td>\n",
       "      <td>7.80</td>\n",
       "      <td>0.86</td>\n",
       "      <td>3.45</td>\n",
       "      <td>1480.0</td>\n",
       "      <td>0</td>\n",
       "    </tr>\n",
       "    <tr>\n",
       "      <th>4</th>\n",
       "      <td>13.24</td>\n",
       "      <td>2.59</td>\n",
       "      <td>2.87</td>\n",
       "      <td>21.0</td>\n",
       "      <td>118.0</td>\n",
       "      <td>2.80</td>\n",
       "      <td>2.69</td>\n",
       "      <td>0.39</td>\n",
       "      <td>1.82</td>\n",
       "      <td>4.32</td>\n",
       "      <td>1.04</td>\n",
       "      <td>2.93</td>\n",
       "      <td>735.0</td>\n",
       "      <td>0</td>\n",
       "    </tr>\n",
       "  </tbody>\n",
       "</table>\n",
       "</div>"
      ],
      "text/plain": [
       "   alcohol  malic_acid   ash  alcalinity_of_ash  magnesium  total_phenols  \\\n",
       "0    14.23        1.71  2.43               15.6      127.0           2.80   \n",
       "1    13.20        1.78  2.14               11.2      100.0           2.65   \n",
       "2    13.16        2.36  2.67               18.6      101.0           2.80   \n",
       "3    14.37        1.95  2.50               16.8      113.0           3.85   \n",
       "4    13.24        2.59  2.87               21.0      118.0           2.80   \n",
       "\n",
       "   flavanoids  nonflavanoid_phenols  proanthocyanins  color_intensity   hue  \\\n",
       "0        3.06                  0.28             2.29             5.64  1.04   \n",
       "1        2.76                  0.26             1.28             4.38  1.05   \n",
       "2        3.24                  0.30             2.81             5.68  1.03   \n",
       "3        3.49                  0.24             2.18             7.80  0.86   \n",
       "4        2.69                  0.39             1.82             4.32  1.04   \n",
       "\n",
       "   od280/od315_of_diluted_wines  proline  target  \n",
       "0                          3.92   1065.0       0  \n",
       "1                          3.40   1050.0       0  \n",
       "2                          3.17   1185.0       0  \n",
       "3                          3.45   1480.0       0  \n",
       "4                          2.93    735.0       0  "
      ]
     },
     "execution_count": 31,
     "metadata": {},
     "output_type": "execute_result"
    }
   ],
   "source": [
    "df = pd.DataFrame(wine.data, columns=wine.feature_names)\n",
    "df['target'] = wine.target\n",
    "df.head()"
   ]
  },
  {
   "cell_type": "code",
   "execution_count": 32,
   "id": "e3e9c7d5",
   "metadata": {},
   "outputs": [],
   "source": [
    "X = df.drop('target', axis=1).values\n",
    "y = df.target.values"
   ]
  },
  {
   "cell_type": "code",
   "execution_count": 33,
   "id": "46984b52",
   "metadata": {},
   "outputs": [],
   "source": [
    "from sklearn.model_selection import train_test_split\n",
    "\n",
    "X_train, X_test, y_train, y_test = train_test_split(X, y, test_size=0.3)"
   ]
  },
  {
   "cell_type": "code",
   "execution_count": 34,
   "id": "654fc139",
   "metadata": {},
   "outputs": [],
   "source": [
    "from sklearn.svm import SVC \n",
    "from sklearn.pipeline import make_pipeline\n",
    "from sklearn.preprocessing import StandardScaler\n",
    "from sklearn import preprocessing\n",
    "from sklearn import metrics\n",
    "from sklearn.metrics import accuracy_score \n",
    "from sklearn.metrics import confusion_matrix\n",
    "from sklearn.metrics import accuracy_score ,precision_score,recall_score,f1_score"
   ]
  },
  {
   "cell_type": "code",
   "execution_count": 40,
   "id": "9a86e45c",
   "metadata": {},
   "outputs": [
    {
     "name": "stdout",
     "output_type": "stream",
     "text": [
      "Confusion matrix \n",
      " [[17  1  0]\n",
      " [ 0 22  0]\n",
      " [ 0  1 13]]\n",
      "accuracy_SVM: 0.963\n"
     ]
    }
   ],
   "source": [
    "svc = make_pipeline(preprocessing.StandardScaler(),SVC())\n",
    "svc.fit(X_train, y_train)\n",
    "Y_pred = svc.predict(X_test) \n",
    "\n",
    "accuracy = accuracy_score(y_test,Y_pred)\n",
    "cm1 = confusion_matrix(y_test, Y_pred)\n",
    "\n",
    "print('Confusion matrix \\n',cm1)\n",
    "print('accuracy_SVM: %.3f' %accuracy)"
   ]
  },
  {
   "cell_type": "code",
   "execution_count": 59,
   "id": "59153ba2",
   "metadata": {},
   "outputs": [
    {
     "name": "stdout",
     "output_type": "stream",
     "text": [
      "Confusion matrix \n",
      " [[18  0  0]\n",
      " [ 0 22  0]\n",
      " [ 0  1 13]]\n",
      "accuracy_SVM: 0.981\n"
     ]
    }
   ],
   "source": [
    "svc1 = make_pipeline(preprocessing.StandardScaler(),SVC(C=3.0, \n",
    "              kernel='rbf', \n",
    "              degree=3, \n",
    "              gamma='auto'))\n",
    "svc1.fit(X_train, y_train)\n",
    "Y_pred = svc1.predict(X_test) \n",
    "accuracy = accuracy_score(y_test,Y_pred)\n",
    "cm1 = confusion_matrix(y_test, Y_pred)\n",
    "\n",
    "print('Confusion matrix \\n',cm1)\n",
    "print('accuracy_SVM: %.3f' %accuracy)"
   ]
  },
  {
   "cell_type": "code",
   "execution_count": 56,
   "id": "0995ea3e",
   "metadata": {},
   "outputs": [
    {
     "name": "stdout",
     "output_type": "stream",
     "text": [
      "Confusion matrix \n",
      " [[18  0  0]\n",
      " [ 0 21  1]\n",
      " [ 0  1 13]]\n",
      "accuracy_SVM: 0.963\n"
     ]
    }
   ],
   "source": [
    "svc1 = make_pipeline(preprocessing.StandardScaler(),SVC(C=2,kernel='poly',degree=1, gamma=5))\n",
    "svc1.fit(X_train, y_train)\n",
    "Y_pred = svc1.predict(X_test) \n",
    "accuracy = accuracy_score(y_test,Y_pred)\n",
    "cm1 = confusion_matrix(y_test, Y_pred)\n",
    "\n",
    "print('Confusion matrix \\n',cm1)\n",
    "print('accuracy_SVM: %.3f' %accuracy)"
   ]
  },
  {
   "cell_type": "markdown",
   "id": "5666af34-d162-40d2-967d-2768b35dfeff",
   "metadata": {},
   "source": [
    "## linux\n"
   ]
  },
  {
   "cell_type": "markdown",
   "id": "4f2ea9fc",
   "metadata": {},
   "source": [
    "## چند دیستربیوشن مهم لینوکس دز دنیای امروز را نام ببرید و منظور از کرنل چیست"
   ]
  },
  {
   "cell_type": "markdown",
   "id": "8bde4335",
   "metadata": {},
   "source": [
    "\n",
    "Some of the most commonly used are Debian, Gentoo, Ubuntu, Linux Mint, Red Hat Enterprise Linux, CentOS, Fedora, Kali Linux, Arch Linux, and OpenSUSE\n",
    "\n",
    "Linux is the kernel: the program in the system that allocates the machine's resources to the other programs that you run. The kernel is an essential part of an operating system, but useless by itself; it can only function in the context of a complete operating system"
   ]
  },
  {
   "cell_type": "code",
   "execution_count": null,
   "id": "a418ba39",
   "metadata": {},
   "outputs": [],
   "source": []
  }
 ],
 "metadata": {
  "kernelspec": {
   "display_name": "Python 3 (ipykernel)",
   "language": "python",
   "name": "python3"
  },
  "language_info": {
   "codemirror_mode": {
    "name": "ipython",
    "version": 3
   },
   "file_extension": ".py",
   "mimetype": "text/x-python",
   "name": "python",
   "nbconvert_exporter": "python",
   "pygments_lexer": "ipython3",
   "version": "3.9.13"
  }
 },
 "nbformat": 4,
 "nbformat_minor": 5
}
