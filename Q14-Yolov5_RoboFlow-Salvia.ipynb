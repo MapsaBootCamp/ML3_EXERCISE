{
  "nbformat": 4,
  "nbformat_minor": 0,
  "metadata": {
    "colab": {
      "provenance": []
    },
    "kernelspec": {
      "name": "python3",
      "display_name": "Python 3"
    },
    "language_info": {
      "name": "python"
    }
  },
  "cells": [
    {
      "cell_type": "code",
      "execution_count": null,
      "metadata": {
        "id": "SXF4B64BxOzl"
      },
      "outputs": [],
      "source": [
        "!git clone https://github.com/ultralytics/yolov5  # clone"
      ]
    },
    {
      "cell_type": "code",
      "source": [
        "!cd yolov5"
      ],
      "metadata": {
        "id": "ZyIrfgB3yqIo"
      },
      "execution_count": null,
      "outputs": []
    },
    {
      "cell_type": "code",
      "source": [
        "!pip install -r yolov5/requirements.txt "
      ],
      "metadata": {
        "id": "n-siJn5Q2M8g"
      },
      "execution_count": null,
      "outputs": []
    },
    {
      "cell_type": "code",
      "source": [
        "!pip install roboflow"
      ],
      "metadata": {
        "id": "1NQ5GWWUWqSg"
      },
      "execution_count": null,
      "outputs": []
    },
    {
      "cell_type": "code",
      "source": [
        "from roboflow import Roboflow\n",
        "rf = Roboflow(api_key=\"skoGWsVoeVzNwbawoOV3\")\n",
        "project = rf.workspace(\"quiz14\").project(\"quiz14\")\n",
        "dataset = project.version(1).download(\"yolov8\")"
      ],
      "metadata": {
        "colab": {
          "base_uri": "https://localhost:8080/"
        },
        "id": "0Y9Tru1h1JlG",
        "outputId": "b2eeec83-a223-41d6-c9b6-bdd7ea79d9a9"
      },
      "execution_count": 53,
      "outputs": [
        {
          "output_type": "stream",
          "name": "stdout",
          "text": [
            "loading Roboflow workspace...\n",
            "loading Roboflow project...\n",
            "[WARNING] we noticed you are downloading a `yolov8` datasets but you don't have `ultralytics` installed. Roboflow `.deploy` supports only models trained with `ultralytics<=8.0.20`, to intall it `pip install ultralytics<=8.0.20`.\n",
            "Downloading Dataset Version Zip in /content/datasets/quiz14-1 to yolov8: 100% [186185 / 186185] bytes\n"
          ]
        },
        {
          "output_type": "stream",
          "name": "stderr",
          "text": [
            "Extracting Dataset Version Zip to /content/datasets/quiz14-1 in yolov8:: 100%|██████████| 15/15 [00:00<00:00, 2862.88it/s]\n"
          ]
        }
      ]
    },
    {
      "cell_type": "code",
      "source": [
        "import torch\n",
        "import os"
      ],
      "metadata": {
        "id": "hnnhSQJdVimF"
      },
      "execution_count": 45,
      "outputs": []
    },
    {
      "cell_type": "code",
      "source": [
        "os.environ['DATASET_DIRECTORY']='/content/datasets'"
      ],
      "metadata": {
        "id": "kgQbAIaWWHQ1"
      },
      "execution_count": 46,
      "outputs": []
    },
    {
      "cell_type": "code",
      "source": [
        "!python train.py --img 416 --batch 16 --epochs 5 --data /content/datasets/quiz14-1/data.yaml --weights yolov5s.pt --cache"
      ],
      "metadata": {
        "id": "waFMl6mUVl8N"
      },
      "execution_count": null,
      "outputs": []
    }
  ]
}