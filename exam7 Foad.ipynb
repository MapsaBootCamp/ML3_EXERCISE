{
 "cells": [
  {
   "cell_type": "markdown",
   "metadata": {},
   "source": [
    "use suffled3.csv"
   ]
  },
  {
   "cell_type": "code",
   "execution_count": 52,
   "metadata": {},
   "outputs": [],
   "source": [
    "import pandas as pd\n",
    "import seaborn as sns\n",
    "import numpy as np\n",
    "import matplotlib.pyplot as plt\n",
    "from datetime import datetime ,timedelta\n",
    "\n",
    "df=pd.read_csv('suffled3.csv',parse_dates=['Date'], index_col='Date' )\n"
   ]
  },
  {
   "cell_type": "code",
   "execution_count": 53,
   "metadata": {},
   "outputs": [
    {
     "name": "stdout",
     "output_type": "stream",
     "text": [
      "<class 'pandas.core.frame.DataFrame'>\n",
      "DatetimeIndex: 3872 entries, 2020-07-28 to 2015-08-18\n",
      "Data columns (total 7 columns):\n",
      " #   Column        Non-Null Count  Dtype  \n",
      "---  ------        --------------  -----  \n",
      " 0   Open          3872 non-null   float64\n",
      " 1   High          3872 non-null   float64\n",
      " 2   Low           3872 non-null   float64\n",
      " 3   Close         3872 non-null   float64\n",
      " 4   Volume        3872 non-null   int64  \n",
      " 5   Dividends     3872 non-null   float64\n",
      " 6   Stock Splits  3872 non-null   float64\n",
      "dtypes: float64(6), int64(1)\n",
      "memory usage: 242.0 KB\n"
     ]
    }
   ],
   "source": [
    "df.info()"
   ]
  },
  {
   "cell_type": "code",
   "execution_count": 6,
   "metadata": {},
   "outputs": [
    {
     "data": {
      "text/html": [
       "<div>\n",
       "<style scoped>\n",
       "    .dataframe tbody tr th:only-of-type {\n",
       "        vertical-align: middle;\n",
       "    }\n",
       "\n",
       "    .dataframe tbody tr th {\n",
       "        vertical-align: top;\n",
       "    }\n",
       "\n",
       "    .dataframe thead th {\n",
       "        text-align: right;\n",
       "    }\n",
       "</style>\n",
       "<table border=\"1\" class=\"dataframe\">\n",
       "  <thead>\n",
       "    <tr style=\"text-align: right;\">\n",
       "      <th></th>\n",
       "      <th>Open</th>\n",
       "      <th>High</th>\n",
       "      <th>Low</th>\n",
       "      <th>Close</th>\n",
       "      <th>Volume</th>\n",
       "      <th>Dividends</th>\n",
       "      <th>Stock Splits</th>\n",
       "    </tr>\n",
       "    <tr>\n",
       "      <th>Date</th>\n",
       "      <th></th>\n",
       "      <th></th>\n",
       "      <th></th>\n",
       "      <th></th>\n",
       "      <th></th>\n",
       "      <th></th>\n",
       "      <th></th>\n",
       "    </tr>\n",
       "  </thead>\n",
       "  <tbody>\n",
       "    <tr>\n",
       "      <th>2020-07-28</th>\n",
       "      <td>306.637012</td>\n",
       "      <td>308.326758</td>\n",
       "      <td>304.181926</td>\n",
       "      <td>304.480103</td>\n",
       "      <td>2116300</td>\n",
       "      <td>0.0</td>\n",
       "      <td>0.0</td>\n",
       "    </tr>\n",
       "    <tr>\n",
       "      <th>2015-09-17</th>\n",
       "      <td>89.160056</td>\n",
       "      <td>91.267558</td>\n",
       "      <td>89.140805</td>\n",
       "      <td>89.698959</td>\n",
       "      <td>4627000</td>\n",
       "      <td>0.0</td>\n",
       "      <td>0.0</td>\n",
       "    </tr>\n",
       "  </tbody>\n",
       "</table>\n",
       "</div>"
      ],
      "text/plain": [
       "                  Open        High         Low       Close   Volume  \\\n",
       "Date                                                                  \n",
       "2020-07-28  306.637012  308.326758  304.181926  304.480103  2116300   \n",
       "2015-09-17   89.160056   91.267558   89.140805   89.698959  4627000   \n",
       "\n",
       "            Dividends  Stock Splits  \n",
       "Date                                 \n",
       "2020-07-28        0.0           0.0  \n",
       "2015-09-17        0.0           0.0  "
      ]
     },
     "execution_count": 6,
     "metadata": {},
     "output_type": "execute_result"
    }
   ],
   "source": [
    "df.head(2)"
   ]
  },
  {
   "cell_type": "code",
   "execution_count": 7,
   "metadata": {},
   "outputs": [
    {
     "data": {
      "text/html": [
       "<div>\n",
       "<style scoped>\n",
       "    .dataframe tbody tr th:only-of-type {\n",
       "        vertical-align: middle;\n",
       "    }\n",
       "\n",
       "    .dataframe tbody tr th {\n",
       "        vertical-align: top;\n",
       "    }\n",
       "\n",
       "    .dataframe thead th {\n",
       "        text-align: right;\n",
       "    }\n",
       "</style>\n",
       "<table border=\"1\" class=\"dataframe\">\n",
       "  <thead>\n",
       "    <tr style=\"text-align: right;\">\n",
       "      <th></th>\n",
       "      <th>Open</th>\n",
       "      <th>High</th>\n",
       "      <th>Low</th>\n",
       "      <th>Close</th>\n",
       "      <th>Volume</th>\n",
       "      <th>Dividends</th>\n",
       "      <th>Stock Splits</th>\n",
       "    </tr>\n",
       "    <tr>\n",
       "      <th>Date</th>\n",
       "      <th></th>\n",
       "      <th></th>\n",
       "      <th></th>\n",
       "      <th></th>\n",
       "      <th></th>\n",
       "      <th></th>\n",
       "      <th></th>\n",
       "    </tr>\n",
       "  </thead>\n",
       "  <tbody>\n",
       "    <tr>\n",
       "      <th>2006-05-25</th>\n",
       "      <td>3.748967</td>\n",
       "      <td>4.283869</td>\n",
       "      <td>3.739664</td>\n",
       "      <td>4.279217</td>\n",
       "      <td>395343000</td>\n",
       "      <td>0.00</td>\n",
       "      <td>0.0</td>\n",
       "    </tr>\n",
       "    <tr>\n",
       "      <th>2006-05-26</th>\n",
       "      <td>4.307126</td>\n",
       "      <td>4.348058</td>\n",
       "      <td>4.103398</td>\n",
       "      <td>4.179680</td>\n",
       "      <td>103044000</td>\n",
       "      <td>0.00</td>\n",
       "      <td>0.0</td>\n",
       "    </tr>\n",
       "    <tr>\n",
       "      <th>2006-05-30</th>\n",
       "      <td>4.183400</td>\n",
       "      <td>4.184330</td>\n",
       "      <td>3.986184</td>\n",
       "      <td>4.093164</td>\n",
       "      <td>49898000</td>\n",
       "      <td>0.00</td>\n",
       "      <td>0.0</td>\n",
       "    </tr>\n",
       "    <tr>\n",
       "      <th>2006-05-31</th>\n",
       "      <td>4.125723</td>\n",
       "      <td>4.219679</td>\n",
       "      <td>4.125723</td>\n",
       "      <td>4.180608</td>\n",
       "      <td>30002000</td>\n",
       "      <td>0.00</td>\n",
       "      <td>0.0</td>\n",
       "    </tr>\n",
       "    <tr>\n",
       "      <th>2006-06-01</th>\n",
       "      <td>4.179678</td>\n",
       "      <td>4.474572</td>\n",
       "      <td>4.176887</td>\n",
       "      <td>4.419686</td>\n",
       "      <td>62344000</td>\n",
       "      <td>0.00</td>\n",
       "      <td>0.0</td>\n",
       "    </tr>\n",
       "    <tr>\n",
       "      <th>...</th>\n",
       "      <td>...</td>\n",
       "      <td>...</td>\n",
       "      <td>...</td>\n",
       "      <td>...</td>\n",
       "      <td>...</td>\n",
       "      <td>...</td>\n",
       "      <td>...</td>\n",
       "    </tr>\n",
       "    <tr>\n",
       "      <th>2021-10-05</th>\n",
       "      <td>347.121403</td>\n",
       "      <td>348.130138</td>\n",
       "      <td>342.497241</td>\n",
       "      <td>342.776886</td>\n",
       "      <td>4724100</td>\n",
       "      <td>0.00</td>\n",
       "      <td>0.0</td>\n",
       "    </tr>\n",
       "    <tr>\n",
       "      <th>2021-10-06</th>\n",
       "      <td>339.580960</td>\n",
       "      <td>348.439763</td>\n",
       "      <td>338.682072</td>\n",
       "      <td>348.250000</td>\n",
       "      <td>3712000</td>\n",
       "      <td>0.00</td>\n",
       "      <td>0.0</td>\n",
       "    </tr>\n",
       "    <tr>\n",
       "      <th>2021-10-07</th>\n",
       "      <td>349.000000</td>\n",
       "      <td>357.899994</td>\n",
       "      <td>349.000000</td>\n",
       "      <td>353.910004</td>\n",
       "      <td>3209200</td>\n",
       "      <td>0.44</td>\n",
       "      <td>0.0</td>\n",
       "    </tr>\n",
       "    <tr>\n",
       "      <th>2021-10-08</th>\n",
       "      <td>356.000000</td>\n",
       "      <td>360.369995</td>\n",
       "      <td>354.209991</td>\n",
       "      <td>354.959991</td>\n",
       "      <td>2336700</td>\n",
       "      <td>0.00</td>\n",
       "      <td>0.0</td>\n",
       "    </tr>\n",
       "    <tr>\n",
       "      <th>2021-10-11</th>\n",
       "      <td>353.950012</td>\n",
       "      <td>354.880005</td>\n",
       "      <td>346.899994</td>\n",
       "      <td>347.149994</td>\n",
       "      <td>2766800</td>\n",
       "      <td>0.00</td>\n",
       "      <td>0.0</td>\n",
       "    </tr>\n",
       "  </tbody>\n",
       "</table>\n",
       "<p>3872 rows × 7 columns</p>\n",
       "</div>"
      ],
      "text/plain": [
       "                  Open        High         Low       Close     Volume  \\\n",
       "Date                                                                    \n",
       "2006-05-25    3.748967    4.283869    3.739664    4.279217  395343000   \n",
       "2006-05-26    4.307126    4.348058    4.103398    4.179680  103044000   \n",
       "2006-05-30    4.183400    4.184330    3.986184    4.093164   49898000   \n",
       "2006-05-31    4.125723    4.219679    4.125723    4.180608   30002000   \n",
       "2006-06-01    4.179678    4.474572    4.176887    4.419686   62344000   \n",
       "...                ...         ...         ...         ...        ...   \n",
       "2021-10-05  347.121403  348.130138  342.497241  342.776886    4724100   \n",
       "2021-10-06  339.580960  348.439763  338.682072  348.250000    3712000   \n",
       "2021-10-07  349.000000  357.899994  349.000000  353.910004    3209200   \n",
       "2021-10-08  356.000000  360.369995  354.209991  354.959991    2336700   \n",
       "2021-10-11  353.950012  354.880005  346.899994  347.149994    2766800   \n",
       "\n",
       "            Dividends  Stock Splits  \n",
       "Date                                 \n",
       "2006-05-25       0.00           0.0  \n",
       "2006-05-26       0.00           0.0  \n",
       "2006-05-30       0.00           0.0  \n",
       "2006-05-31       0.00           0.0  \n",
       "2006-06-01       0.00           0.0  \n",
       "...               ...           ...  \n",
       "2021-10-05       0.00           0.0  \n",
       "2021-10-06       0.00           0.0  \n",
       "2021-10-07       0.44           0.0  \n",
       "2021-10-08       0.00           0.0  \n",
       "2021-10-11       0.00           0.0  \n",
       "\n",
       "[3872 rows x 7 columns]"
      ]
     },
     "execution_count": 7,
     "metadata": {},
     "output_type": "execute_result"
    }
   ],
   "source": [
    "df.sort_index()"
   ]
  },
  {
   "cell_type": "code",
   "execution_count": 21,
   "metadata": {},
   "outputs": [
    {
     "data": {
      "text/html": [
       "<div>\n",
       "<style scoped>\n",
       "    .dataframe tbody tr th:only-of-type {\n",
       "        vertical-align: middle;\n",
       "    }\n",
       "\n",
       "    .dataframe tbody tr th {\n",
       "        vertical-align: top;\n",
       "    }\n",
       "\n",
       "    .dataframe thead th {\n",
       "        text-align: right;\n",
       "    }\n",
       "</style>\n",
       "<table border=\"1\" class=\"dataframe\">\n",
       "  <thead>\n",
       "    <tr style=\"text-align: right;\">\n",
       "      <th></th>\n",
       "      <th>Open</th>\n",
       "      <th>High</th>\n",
       "      <th>Low</th>\n",
       "      <th>Close</th>\n",
       "      <th>Volume</th>\n",
       "      <th>Dividends</th>\n",
       "      <th>Stock Splits</th>\n",
       "    </tr>\n",
       "  </thead>\n",
       "  <tbody>\n",
       "    <tr>\n",
       "      <th>count</th>\n",
       "      <td>3872.000000</td>\n",
       "      <td>3872.000000</td>\n",
       "      <td>3872.000000</td>\n",
       "      <td>3872.000000</td>\n",
       "      <td>3.872000e+03</td>\n",
       "      <td>3872.000000</td>\n",
       "      <td>3872.000000</td>\n",
       "    </tr>\n",
       "    <tr>\n",
       "      <th>mean</th>\n",
       "      <td>104.896814</td>\n",
       "      <td>105.956054</td>\n",
       "      <td>103.769349</td>\n",
       "      <td>104.882714</td>\n",
       "      <td>1.232250e+07</td>\n",
       "      <td>0.002329</td>\n",
       "      <td>0.002583</td>\n",
       "    </tr>\n",
       "    <tr>\n",
       "      <th>std</th>\n",
       "      <td>106.245511</td>\n",
       "      <td>107.303589</td>\n",
       "      <td>105.050064</td>\n",
       "      <td>106.168693</td>\n",
       "      <td>1.759665e+07</td>\n",
       "      <td>0.025851</td>\n",
       "      <td>0.160706</td>\n",
       "    </tr>\n",
       "    <tr>\n",
       "      <th>min</th>\n",
       "      <td>3.748967</td>\n",
       "      <td>4.102467</td>\n",
       "      <td>3.739664</td>\n",
       "      <td>4.083861</td>\n",
       "      <td>6.411000e+05</td>\n",
       "      <td>0.000000</td>\n",
       "      <td>0.000000</td>\n",
       "    </tr>\n",
       "    <tr>\n",
       "      <th>25%</th>\n",
       "      <td>22.347203</td>\n",
       "      <td>22.637997</td>\n",
       "      <td>22.034458</td>\n",
       "      <td>22.300391</td>\n",
       "      <td>3.529475e+06</td>\n",
       "      <td>0.000000</td>\n",
       "      <td>0.000000</td>\n",
       "    </tr>\n",
       "    <tr>\n",
       "      <th>50%</th>\n",
       "      <td>70.810079</td>\n",
       "      <td>71.375896</td>\n",
       "      <td>70.224002</td>\n",
       "      <td>70.856083</td>\n",
       "      <td>5.891750e+06</td>\n",
       "      <td>0.000000</td>\n",
       "      <td>0.000000</td>\n",
       "    </tr>\n",
       "    <tr>\n",
       "      <th>75%</th>\n",
       "      <td>147.688448</td>\n",
       "      <td>148.645373</td>\n",
       "      <td>146.822013</td>\n",
       "      <td>147.688438</td>\n",
       "      <td>1.319775e+07</td>\n",
       "      <td>0.000000</td>\n",
       "      <td>0.000000</td>\n",
       "    </tr>\n",
       "    <tr>\n",
       "      <th>max</th>\n",
       "      <td>392.653890</td>\n",
       "      <td>400.521479</td>\n",
       "      <td>389.747812</td>\n",
       "      <td>394.685730</td>\n",
       "      <td>3.953430e+08</td>\n",
       "      <td>0.440000</td>\n",
       "      <td>10.000000</td>\n",
       "    </tr>\n",
       "  </tbody>\n",
       "</table>\n",
       "</div>"
      ],
      "text/plain": [
       "              Open         High          Low        Close        Volume  \\\n",
       "count  3872.000000  3872.000000  3872.000000  3872.000000  3.872000e+03   \n",
       "mean    104.896814   105.956054   103.769349   104.882714  1.232250e+07   \n",
       "std     106.245511   107.303589   105.050064   106.168693  1.759665e+07   \n",
       "min       3.748967     4.102467     3.739664     4.083861  6.411000e+05   \n",
       "25%      22.347203    22.637997    22.034458    22.300391  3.529475e+06   \n",
       "50%      70.810079    71.375896    70.224002    70.856083  5.891750e+06   \n",
       "75%     147.688448   148.645373   146.822013   147.688438  1.319775e+07   \n",
       "max     392.653890   400.521479   389.747812   394.685730  3.953430e+08   \n",
       "\n",
       "         Dividends  Stock Splits  \n",
       "count  3872.000000   3872.000000  \n",
       "mean      0.002329      0.002583  \n",
       "std       0.025851      0.160706  \n",
       "min       0.000000      0.000000  \n",
       "25%       0.000000      0.000000  \n",
       "50%       0.000000      0.000000  \n",
       "75%       0.000000      0.000000  \n",
       "max       0.440000     10.000000  "
      ]
     },
     "execution_count": 21,
     "metadata": {},
     "output_type": "execute_result"
    }
   ],
   "source": [
    "df.describe()"
   ]
  },
  {
   "cell_type": "code",
   "execution_count": 22,
   "metadata": {
    "colab": {
     "base_uri": "https://localhost:8080/",
     "height": 300
    },
    "id": "65Qu2U-bbD5-",
    "outputId": "1070bc24-e049-4202-f2ad-09f8a2802b47"
   },
   "outputs": [
    {
     "data": {
      "image/png": "[encoded data removed]",
      "text/plain": [
       "<Figure size 1100x400 with 2 Axes>"
      ]
     },
     "metadata": {},
     "output_type": "display_data"
    }
   ],
   "source": [
    "corr_date = df.corr()\n",
    "fig = plt.figure(figsize =(11, 4)) \n",
    "# figsize=(11,1)\n",
    "ax=sns.heatmap(corr_date, annot=True)\n",
    "plt.xticks()\n",
    "plt.show()\n",
    "#lables"
   ]
  },
  {
   "cell_type": "code",
   "execution_count": 8,
   "metadata": {
    "colab": {
     "base_uri": "https://localhost:8080/",
     "height": 426
    },
    "id": "9IAtx2lObMiQ",
    "outputId": "f8277a4e-b8a3-4261-a816-35c949bfaf9c"
   },
   "outputs": [
    {
     "data": {
      "text/plain": [
       "<AxesSubplot: xlabel='Date', ylabel='Close'>"
      ]
     },
     "execution_count": 8,
     "metadata": {},
     "output_type": "execute_result"
    },
    {
     "data": {
      "image/png": "[encoded data removed]",
      "text/plain": [
       "<Figure size 640x480 with 1 Axes>"
      ]
     },
     "metadata": {},
     "output_type": "display_data"
    }
   ],
   "source": [
    "df.sort_values('Date', ascending=True).Close.plot.line(xlabel='Date', ylabel='Close') \n",
    "#sort"
   ]
  },
  {
   "cell_type": "markdown",
   "metadata": {},
   "source": [
    "Linear Regression prediction with test_size=0.2 the label is close"
   ]
  },
  {
   "cell_type": "code",
   "execution_count": 10,
   "metadata": {},
   "outputs": [
    {
     "data": {
      "text/html": [
       "<div>\n",
       "<style scoped>\n",
       "    .dataframe tbody tr th:only-of-type {\n",
       "        vertical-align: middle;\n",
       "    }\n",
       "\n",
       "    .dataframe tbody tr th {\n",
       "        vertical-align: top;\n",
       "    }\n",
       "\n",
       "    .dataframe thead th {\n",
       "        text-align: right;\n",
       "    }\n",
       "</style>\n",
       "<table border=\"1\" class=\"dataframe\">\n",
       "  <thead>\n",
       "    <tr style=\"text-align: right;\">\n",
       "      <th></th>\n",
       "      <th>Open</th>\n",
       "      <th>High</th>\n",
       "      <th>Low</th>\n",
       "      <th>Close</th>\n",
       "      <th>Volume</th>\n",
       "      <th>Dividends</th>\n",
       "      <th>Stock Splits</th>\n",
       "    </tr>\n",
       "    <tr>\n",
       "      <th>Date</th>\n",
       "      <th></th>\n",
       "      <th></th>\n",
       "      <th></th>\n",
       "      <th></th>\n",
       "      <th></th>\n",
       "      <th></th>\n",
       "      <th></th>\n",
       "    </tr>\n",
       "  </thead>\n",
       "  <tbody>\n",
       "    <tr>\n",
       "      <th>2020-07-28</th>\n",
       "      <td>306.637012</td>\n",
       "      <td>308.326758</td>\n",
       "      <td>304.181926</td>\n",
       "      <td>304.480103</td>\n",
       "      <td>2116300</td>\n",
       "      <td>0.0</td>\n",
       "      <td>0.0</td>\n",
       "    </tr>\n",
       "    <tr>\n",
       "      <th>2015-09-17</th>\n",
       "      <td>89.160056</td>\n",
       "      <td>91.267558</td>\n",
       "      <td>89.140805</td>\n",
       "      <td>89.698959</td>\n",
       "      <td>4627000</td>\n",
       "      <td>0.0</td>\n",
       "      <td>0.0</td>\n",
       "    </tr>\n",
       "  </tbody>\n",
       "</table>\n",
       "</div>"
      ],
      "text/plain": [
       "                  Open        High         Low       Close   Volume  \\\n",
       "Date                                                                  \n",
       "2020-07-28  306.637012  308.326758  304.181926  304.480103  2116300   \n",
       "2015-09-17   89.160056   91.267558   89.140805   89.698959  4627000   \n",
       "\n",
       "            Dividends  Stock Splits  \n",
       "Date                                 \n",
       "2020-07-28        0.0           0.0  \n",
       "2015-09-17        0.0           0.0  "
      ]
     },
     "execution_count": 10,
     "metadata": {},
     "output_type": "execute_result"
    }
   ],
   "source": [
    "df.head(2)"
   ]
  },
  {
   "cell_type": "code",
   "execution_count": null,
   "metadata": {},
   "outputs": [],
   "source": [
    "X = df.iloc[:, [0,1,2,4,5,6]].values\n",
    "y = df.loc[:,'Close'].values\n",
    "X.shape\n"
   ]
  },
  {
   "cell_type": "code",
   "execution_count": 20,
   "metadata": {},
   "outputs": [],
   "source": [
    "from sklearn.model_selection import train_test_split\n",
    "from sklearn.pipeline import make_pipeline\n",
    "from sklearn.linear_model import LogisticRegression,LinearRegression, Ridge, SGDRegressor\n",
    "from sklearn import preprocessing\n",
    "from sklearn import metrics\n",
    "from sklearn.metrics import mean_absolute_error\n",
    "import math\n",
    "from sklearn.preprocessing import PolynomialFeatures\n"
   ]
  },
  {
   "cell_type": "code",
   "execution_count": 13,
   "metadata": {},
   "outputs": [
    {
     "data": {
      "text/plain": [
       "(3097, 6)"
      ]
     },
     "execution_count": 13,
     "metadata": {},
     "output_type": "execute_result"
    }
   ],
   "source": [
    "X_train, X_test, y_train, y_test = train_test_split(X, y , test_size=0.2 , random_state=85, )\n",
    "X_train.shape"
   ]
  },
  {
   "cell_type": "markdown",
   "metadata": {
    "tags": []
   },
   "source": [
    "### LinearRegression"
   ]
  },
  {
   "cell_type": "code",
   "execution_count": 16,
   "metadata": {},
   "outputs": [
    {
     "name": "stdout",
     "output_type": "stream",
     "text": [
      " intercept :  105.49255408507803\n",
      " coef :  [-6.00948460e+01  8.24675968e+01  8.46408643e+01  6.95331786e-03\n",
      "  2.18489707e-02  0.00000000e+00]\n"
     ]
    }
   ],
   "source": [
    "model = make_pipeline(preprocessing.StandardScaler(), LinearRegression())\n",
    "model.fit(X_train, y_train)\n",
    "print(\" intercept : \", model[1].intercept_)\n",
    "print(\" coef : \", model[1].coef_)\n",
    "y_predict_lr= model.predict(X_test)"
   ]
  },
  {
   "cell_type": "code",
   "execution_count": 88,
   "metadata": {},
   "outputs": [
    {
     "name": "stdout",
     "output_type": "stream",
     "text": [
      "R2_SCORE:  0.9998873777537246\n",
      "MSE :  1.1855199076042684\n",
      "RMSE:  1.0888158281381972\n",
      "Mean Absolute Error (MAE):  0.5237031988265423\n",
      "MAPE:  0.005970020069328038\n"
     ]
    },
    {
     "data": {
      "text/plain": [
       "0.010381270499265701"
      ]
     },
     "execution_count": 88,
     "metadata": {},
     "output_type": "execute_result"
    }
   ],
   "source": [
    "print(\"R2_SCORE: \", metrics.r2_score(y_test, y_predict_lr))\n",
    "print(\"MSE : \", metrics.mean_squared_error(y_test, y_predict_lr))\n",
    "print(\"RMSE: \", math.sqrt(metrics.mean_squared_error(y_test, y_predict_lr)))\n",
    "print(\"Mean Absolute Error (MAE): \", mean_absolute_error(y_test, y_predict_lr))\n",
    "print(\"MAPE: \", metrics.mean_absolute_percentage_error(y_test, y_predict_lr))\n",
    "math.sqrt(metrics.mean_squared_error(y_test, y_predict_lr)) / df[\"Close\"].mean()"
   ]
  },
  {
   "cell_type": "markdown",
   "metadata": {},
   "source": [
    "### Ridge + Polynomial"
   ]
  },
  {
   "cell_type": "code",
   "execution_count": 23,
   "metadata": {},
   "outputs": [],
   "source": [
    "ridge_poly_model = make_pipeline(preprocessing.StandardScaler(), \n",
    "              preprocessing.PolynomialFeatures(degree=3, include_bias=False), \n",
    "              Ridge(alpha=10))\n",
    "ridge_poly_model.fit(X_train, y_train)\n",
    "y_predict_ridge_poly = ridge_poly_model.predict(X_test)"
   ]
  },
  {
   "cell_type": "code",
   "execution_count": 24,
   "metadata": {},
   "outputs": [
    {
     "name": "stdout",
     "output_type": "stream",
     "text": [
      "R2_SCORE:  0.9998436277248163\n",
      "MSE :  1.6460552986514871\n",
      "RMSE:  1.2829868661258723\n",
      "Mean Absolute Error (MAE):  0.7269963674923812\n",
      "MAPE:  0.012935517806572268\n"
     ]
    },
    {
     "data": {
      "text/plain": [
       "0.01223258641182002"
      ]
     },
     "execution_count": 24,
     "metadata": {},
     "output_type": "execute_result"
    }
   ],
   "source": [
    "print(\"R2_SCORE: \", metrics.r2_score(y_test, y_predict_ridge_poly))\n",
    "print(\"MSE : \", metrics.mean_squared_error(y_test, y_predict_ridge_poly))\n",
    "print(\"RMSE: \", math.sqrt(metrics.mean_squared_error(y_test, y_predict_ridge_poly)))\n",
    "print(\"Mean Absolute Error (MAE): \", mean_absolute_error(y_test, y_predict_ridge_poly))\n",
    "print(\"MAPE: \", metrics.mean_absolute_percentage_error(y_test, y_predict_ridge_poly))\n",
    "math.sqrt(metrics.mean_squared_error(y_test, y_predict_ridge_poly)) / df[\"Close\"].mean()"
   ]
  },
  {
   "cell_type": "markdown",
   "metadata": {},
   "source": [
    "### PolynomialFeatures"
   ]
  },
  {
   "cell_type": "code",
   "execution_count": 26,
   "metadata": {},
   "outputs": [
    {
     "name": "stdout",
     "output_type": "stream",
     "text": [
      "before:  (3097, 6)\n",
      "after:  (3097, 27)\n"
     ]
    }
   ],
   "source": [
    "print(\"before: \", X_train.shape)\n",
    "polyRegressor = PolynomialFeatures(degree=2, include_bias=False)\n",
    "X_train_poly = polyRegressor.fit_transform(X_train)\n",
    "print(\"after: \", X_train_poly.shape)\n",
    "X_test_poly = polyRegressor.fit_transform(X_test)\n",
    "poly = LinearRegression()\n",
    "poly.fit(X_train_poly, y_train)\n",
    "prediction_plr = poly.predict(X_test_poly)"
   ]
  },
  {
   "cell_type": "code",
   "execution_count": 28,
   "metadata": {},
   "outputs": [
    {
     "name": "stdout",
     "output_type": "stream",
     "text": [
      "R2_SCORE:  0.9998652957346373\n",
      "MSE :  1.417966640765647\n",
      "RMSE:  1.1907840445545308\n",
      "Mean Absolute Error (MAE):  0.5984534622316132\n",
      "MAPE:  0.008035460441506319\n"
     ]
    },
    {
     "data": {
      "text/plain": [
       "0.011353482336740264"
      ]
     },
     "execution_count": 28,
     "metadata": {},
     "output_type": "execute_result"
    }
   ],
   "source": [
    "print(\"R2_SCORE: \", metrics.r2_score(y_test, prediction_plr))\n",
    "print(\"MSE : \", metrics.mean_squared_error(y_test, prediction_plr))\n",
    "print(\"RMSE: \", math.sqrt(metrics.mean_squared_error(y_test, prediction_plr)))\n",
    "print(\"Mean Absolute Error (MAE): \", mean_absolute_error(y_test, prediction_plr))\n",
    "print(\"MAPE: \", metrics.mean_absolute_percentage_error(y_test, prediction_plr))\n",
    "math.sqrt(metrics.mean_squared_error(y_test, prediction_plr)) / df[\"Close\"].mean()"
   ]
  },
  {
   "cell_type": "code",
   "execution_count": 36,
   "metadata": {},
   "outputs": [
    {
     "data": {
      "image/png": "[encoded data removed]",
      "text/plain": [
       "<Figure size 1000x500 with 7 Axes>"
      ]
     },
     "metadata": {},
     "output_type": "display_data"
    }
   ],
   "source": [
    "# Open\tHigh\tLow\tClose\tVolume\tDividends\tStock Splits\n",
    "plt.figure(figsize=(10, 5))\n",
    "no=330\n",
    "for col in df.columns:\n",
    "    no+=1\n",
    "    plt.subplot(no)\n",
    "    sns.histplot(df[col] , kde=True)  \n",
    "    "
   ]
  },
  {
   "cell_type": "markdown",
   "metadata": {},
   "source": [
    "### improve Model"
   ]
  },
  {
   "cell_type": "code",
   "execution_count": 270,
   "metadata": {},
   "outputs": [
    {
     "name": "stderr",
     "output_type": "stream",
     "text": [
      "/tmp/ipykernel_199/1714710327.py:5: UserWarning: Boolean Series key will be reindexed to match DataFrame index.\n",
      "  dfimprove=df2[(np.abs(stats.zscore(df)) <2).all(axis=1)]\n"
     ]
    }
   ],
   "source": [
    "df2=df[(df['Volume']<1e+08)& (df['Dividends']<0.1) & (df['Volume']<1.5e+07\t)& (df['Stock Splits']<1) ]\n",
    "\n",
    "import numpy as np\n",
    "from scipy import stats\n",
    "dfimprove=df2[(np.abs(stats.zscore(df)) <2).all(axis=1)]"
   ]
  },
  {
   "cell_type": "code",
   "execution_count": 271,
   "metadata": {},
   "outputs": [
    {
     "name": "stdout",
     "output_type": "stream",
     "text": [
      "<class 'pandas.core.frame.DataFrame'>\n",
      "DatetimeIndex: 2651 entries, 2020-07-28 to 2015-08-18\n",
      "Data columns (total 7 columns):\n",
      " #   Column        Non-Null Count  Dtype  \n",
      "---  ------        --------------  -----  \n",
      " 0   Open          2651 non-null   float64\n",
      " 1   High          2651 non-null   float64\n",
      " 2   Low           2651 non-null   float64\n",
      " 3   Close         2651 non-null   float64\n",
      " 4   Volume        2651 non-null   int64  \n",
      " 5   Dividends     2651 non-null   float64\n",
      " 6   Stock Splits  2651 non-null   float64\n",
      "dtypes: float64(6), int64(1)\n",
      "memory usage: 165.7 KB\n"
     ]
    }
   ],
   "source": [
    "dfimprove.info()"
   ]
  },
  {
   "cell_type": "code",
   "execution_count": 272,
   "metadata": {},
   "outputs": [
    {
     "data": {
      "text/html": [
       "<div>\n",
       "<style scoped>\n",
       "    .dataframe tbody tr th:only-of-type {\n",
       "        vertical-align: middle;\n",
       "    }\n",
       "\n",
       "    .dataframe tbody tr th {\n",
       "        vertical-align: top;\n",
       "    }\n",
       "\n",
       "    .dataframe thead th {\n",
       "        text-align: right;\n",
       "    }\n",
       "</style>\n",
       "<table border=\"1\" class=\"dataframe\">\n",
       "  <thead>\n",
       "    <tr style=\"text-align: right;\">\n",
       "      <th></th>\n",
       "      <th>Open</th>\n",
       "      <th>High</th>\n",
       "      <th>Low</th>\n",
       "      <th>Close</th>\n",
       "      <th>Volume</th>\n",
       "      <th>Dividends</th>\n",
       "      <th>Stock Splits</th>\n",
       "    </tr>\n",
       "  </thead>\n",
       "  <tbody>\n",
       "    <tr>\n",
       "      <th>count</th>\n",
       "      <td>2651.000000</td>\n",
       "      <td>2651.000000</td>\n",
       "      <td>2651.000000</td>\n",
       "      <td>2651.000000</td>\n",
       "      <td>2.651000e+03</td>\n",
       "      <td>2651.000000</td>\n",
       "      <td>2651.0</td>\n",
       "    </tr>\n",
       "    <tr>\n",
       "      <th>mean</th>\n",
       "      <td>103.973881</td>\n",
       "      <td>104.946097</td>\n",
       "      <td>102.944850</td>\n",
       "      <td>103.986200</td>\n",
       "      <td>5.876577e+06</td>\n",
       "      <td>0.000079</td>\n",
       "      <td>0.0</td>\n",
       "    </tr>\n",
       "    <tr>\n",
       "      <th>std</th>\n",
       "      <td>81.419810</td>\n",
       "      <td>82.284709</td>\n",
       "      <td>80.434975</td>\n",
       "      <td>81.405679</td>\n",
       "      <td>3.235707e+06</td>\n",
       "      <td>0.001364</td>\n",
       "      <td>0.0</td>\n",
       "    </tr>\n",
       "    <tr>\n",
       "      <th>min</th>\n",
       "      <td>4.084792</td>\n",
       "      <td>4.102467</td>\n",
       "      <td>4.062465</td>\n",
       "      <td>4.083861</td>\n",
       "      <td>6.411000e+05</td>\n",
       "      <td>0.000000</td>\n",
       "      <td>0.0</td>\n",
       "    </tr>\n",
       "    <tr>\n",
       "      <th>25%</th>\n",
       "      <td>40.281200</td>\n",
       "      <td>40.656351</td>\n",
       "      <td>39.884139</td>\n",
       "      <td>40.316301</td>\n",
       "      <td>3.316400e+06</td>\n",
       "      <td>0.000000</td>\n",
       "      <td>0.0</td>\n",
       "    </tr>\n",
       "    <tr>\n",
       "      <th>50%</th>\n",
       "      <td>83.707664</td>\n",
       "      <td>84.377629</td>\n",
       "      <td>82.843094</td>\n",
       "      <td>83.562302</td>\n",
       "      <td>4.830300e+06</td>\n",
       "      <td>0.000000</td>\n",
       "      <td>0.0</td>\n",
       "    </tr>\n",
       "    <tr>\n",
       "      <th>75%</th>\n",
       "      <td>145.072054</td>\n",
       "      <td>146.148948</td>\n",
       "      <td>143.319660</td>\n",
       "      <td>145.174850</td>\n",
       "      <td>7.765050e+06</td>\n",
       "      <td>0.000000</td>\n",
       "      <td>0.0</td>\n",
       "    </tr>\n",
       "    <tr>\n",
       "      <th>max</th>\n",
       "      <td>317.343344</td>\n",
       "      <td>318.000126</td>\n",
       "      <td>312.049282</td>\n",
       "      <td>315.562073</td>\n",
       "      <td>1.499100e+07</td>\n",
       "      <td>0.030000</td>\n",
       "      <td>0.0</td>\n",
       "    </tr>\n",
       "  </tbody>\n",
       "</table>\n",
       "</div>"
      ],
      "text/plain": [
       "              Open         High          Low        Close        Volume  \\\n",
       "count  2651.000000  2651.000000  2651.000000  2651.000000  2.651000e+03   \n",
       "mean    103.973881   104.946097   102.944850   103.986200  5.876577e+06   \n",
       "std      81.419810    82.284709    80.434975    81.405679  3.235707e+06   \n",
       "min       4.084792     4.102467     4.062465     4.083861  6.411000e+05   \n",
       "25%      40.281200    40.656351    39.884139    40.316301  3.316400e+06   \n",
       "50%      83.707664    84.377629    82.843094    83.562302  4.830300e+06   \n",
       "75%     145.072054   146.148948   143.319660   145.174850  7.765050e+06   \n",
       "max     317.343344   318.000126   312.049282   315.562073  1.499100e+07   \n",
       "\n",
       "         Dividends  Stock Splits  \n",
       "count  2651.000000        2651.0  \n",
       "mean      0.000079           0.0  \n",
       "std       0.001364           0.0  \n",
       "min       0.000000           0.0  \n",
       "25%       0.000000           0.0  \n",
       "50%       0.000000           0.0  \n",
       "75%       0.000000           0.0  \n",
       "max       0.030000           0.0  "
      ]
     },
     "execution_count": 272,
     "metadata": {},
     "output_type": "execute_result"
    }
   ],
   "source": [
    "dfimprove.describe()"
   ]
  },
  {
   "cell_type": "code",
   "execution_count": 273,
   "metadata": {},
   "outputs": [
    {
     "name": "stdout",
     "output_type": "stream",
     "text": [
      " intercept :  -0.003634039613316986\n",
      " coef :  [-1.85278455e+02  2.54517550e+02  2.43751994e+02 -6.32075285e-02\n",
      "  1.19919360e-01  0.00000000e+00]\n"
     ]
    }
   ],
   "source": [
    "X = dfimprove.iloc[:, [0,1,2,4,5,6]].values\n",
    "y = dfimprove.loc[:,'Close'].values\n",
    "X_train, X_test, y_train, y_test = train_test_split(X, y , test_size=0.2 , random_state=85, )\n",
    "model = make_pipeline(preprocessing.MaxAbsScaler(), LinearRegression())\n",
    "model.fit(X_train, y_train)\n",
    "print(\" intercept : \", model[1].intercept_)\n",
    "print(\" coef : \", model[1].coef_)\n",
    "y_predict_lr= model.predict(X_test)"
   ]
  },
  {
   "cell_type": "code",
   "execution_count": 274,
   "metadata": {},
   "outputs": [
    {
     "name": "stdout",
     "output_type": "stream",
     "text": [
      "R2_SCORE:  0.9999000653435082\n",
      "MSE :  0.7516755046010076\n",
      "RMSE:  0.8669922171513466\n",
      "Mean Absolute Error (MAE):  0.4776957594077769\n",
      "MAPE:  0.0044518747637987185\n"
     ]
    },
    {
     "data": {
      "text/plain": [
       "0.00826630224727396"
      ]
     },
     "execution_count": 274,
     "metadata": {},
     "output_type": "execute_result"
    }
   ],
   "source": [
    "print(\"R2_SCORE: \", metrics.r2_score(y_test, y_predict_lr))\n",
    "print(\"MSE : \", metrics.mean_squared_error(y_test, y_predict_lr))\n",
    "print(\"RMSE: \", math.sqrt(metrics.mean_squared_error(y_test, y_predict_lr)))\n",
    "print(\"Mean Absolute Error (MAE): \", mean_absolute_error(y_test, y_predict_lr))\n",
    "print(\"MAPE: \", metrics.mean_absolute_percentage_error(y_test, y_predict_lr))\n",
    "math.sqrt(metrics.mean_squared_error(y_test, y_predict_lr)) / df[\"Close\"].mean()"
   ]
  },
  {
   "cell_type": "code",
   "execution_count": 277,
   "metadata": {},
   "outputs": [],
   "source": [
    "ridge_poly_model = make_pipeline(preprocessing.StandardScaler(), \n",
    "              preprocessing.PolynomialFeatures(degree=2, include_bias=False), \n",
    "              Ridge(alpha=1))\n",
    "ridge_poly_model.fit(X_train, y_train)\n",
    "y_predict_ridge_poly = ridge_poly_model.predict(X_test)"
   ]
  },
  {
   "cell_type": "code",
   "execution_count": 278,
   "metadata": {},
   "outputs": [
    {
     "name": "stdout",
     "output_type": "stream",
     "text": [
      "R2_SCORE:  0.999871817698634\n",
      "MSE :  0.9641449667475643\n",
      "RMSE:  0.9819088383081009\n",
      "Mean Absolute Error (MAE):  0.5807346968582905\n",
      "MAPE:  0.006390538158184325\n"
     ]
    },
    {
     "data": {
      "text/plain": [
       "0.00936197012632181"
      ]
     },
     "execution_count": 278,
     "metadata": {},
     "output_type": "execute_result"
    }
   ],
   "source": [
    "print(\"R2_SCORE: \", metrics.r2_score(y_test, y_predict_ridge_poly))\n",
    "print(\"MSE : \", metrics.mean_squared_error(y_test, y_predict_ridge_poly))\n",
    "print(\"RMSE: \", math.sqrt(metrics.mean_squared_error(y_test, y_predict_ridge_poly)))\n",
    "print(\"Mean Absolute Error (MAE): \", mean_absolute_error(y_test, y_predict_ridge_poly))\n",
    "print(\"MAPE: \", metrics.mean_absolute_percentage_error(y_test, y_predict_ridge_poly))\n",
    "math.sqrt(metrics.mean_squared_error(y_test, y_predict_ridge_poly)) / df[\"Close\"].mean()"
   ]
  },
  {
   "cell_type": "code",
   "execution_count": 256,
   "metadata": {},
   "outputs": [],
   "source": [
    "df4=pd.DataFrame(X_test)\n",
    "df5=pd.DataFrame({'ytest':pd.Series(y_test),'yDif':pd.Series(y_test-y_predict_lr), 'y_predict_lr':pd.Series(y_predict_lr)})\n",
    "df3 = pd.concat([df4, df5], axis=1)\n",
    "# y_test - y_predict_lr, kde=True)"
   ]
  },
  {
   "cell_type": "code",
   "execution_count": 257,
   "metadata": {},
   "outputs": [
    {
     "data": {
      "text/html": [
       "<div>\n",
       "<style scoped>\n",
       "    .dataframe tbody tr th:only-of-type {\n",
       "        vertical-align: middle;\n",
       "    }\n",
       "\n",
       "    .dataframe tbody tr th {\n",
       "        vertical-align: top;\n",
       "    }\n",
       "\n",
       "    .dataframe thead th {\n",
       "        text-align: right;\n",
       "    }\n",
       "</style>\n",
       "<table border=\"1\" class=\"dataframe\">\n",
       "  <thead>\n",
       "    <tr style=\"text-align: right;\">\n",
       "      <th></th>\n",
       "      <th>0</th>\n",
       "      <th>1</th>\n",
       "      <th>2</th>\n",
       "      <th>3</th>\n",
       "      <th>4</th>\n",
       "      <th>5</th>\n",
       "      <th>ytest</th>\n",
       "      <th>yDif</th>\n",
       "      <th>y_predict_lr</th>\n",
       "    </tr>\n",
       "  </thead>\n",
       "  <tbody>\n",
       "    <tr>\n",
       "      <th>26</th>\n",
       "      <td>287.040419</td>\n",
       "      <td>295.626710</td>\n",
       "      <td>285.372769</td>\n",
       "      <td>5211800.0</td>\n",
       "      <td>0.0</td>\n",
       "      <td>0.0</td>\n",
       "      <td>288.588928</td>\n",
       "      <td>-4.119192</td>\n",
       "      <td>292.708120</td>\n",
       "    </tr>\n",
       "    <tr>\n",
       "      <th>447</th>\n",
       "      <td>249.472346</td>\n",
       "      <td>254.508008</td>\n",
       "      <td>249.462462</td>\n",
       "      <td>6252100.0</td>\n",
       "      <td>0.0</td>\n",
       "      <td>0.0</td>\n",
       "      <td>250.232620</td>\n",
       "      <td>-3.436690</td>\n",
       "      <td>253.669310</td>\n",
       "    </tr>\n",
       "    <tr>\n",
       "      <th>478</th>\n",
       "      <td>267.892478</td>\n",
       "      <td>273.610068</td>\n",
       "      <td>267.217493</td>\n",
       "      <td>6354400.0</td>\n",
       "      <td>0.0</td>\n",
       "      <td>0.0</td>\n",
       "      <td>268.726288</td>\n",
       "      <td>-3.373320</td>\n",
       "      <td>272.099608</td>\n",
       "    </tr>\n",
       "    <tr>\n",
       "      <th>87</th>\n",
       "      <td>248.013608</td>\n",
       "      <td>253.791740</td>\n",
       "      <td>242.522889</td>\n",
       "      <td>7819300.0</td>\n",
       "      <td>0.0</td>\n",
       "      <td>0.0</td>\n",
       "      <td>245.446640</td>\n",
       "      <td>-2.835259</td>\n",
       "      <td>248.281899</td>\n",
       "    </tr>\n",
       "    <tr>\n",
       "      <th>82</th>\n",
       "      <td>302.753777</td>\n",
       "      <td>305.215523</td>\n",
       "      <td>300.847904</td>\n",
       "      <td>2566400.0</td>\n",
       "      <td>0.0</td>\n",
       "      <td>0.0</td>\n",
       "      <td>301.522919</td>\n",
       "      <td>-1.922914</td>\n",
       "      <td>303.445833</td>\n",
       "    </tr>\n",
       "    <tr>\n",
       "      <th>...</th>\n",
       "      <td>...</td>\n",
       "      <td>...</td>\n",
       "      <td>...</td>\n",
       "      <td>...</td>\n",
       "      <td>...</td>\n",
       "      <td>...</td>\n",
       "      <td>...</td>\n",
       "      <td>...</td>\n",
       "      <td>...</td>\n",
       "    </tr>\n",
       "    <tr>\n",
       "      <th>175</th>\n",
       "      <td>275.488236</td>\n",
       "      <td>275.794694</td>\n",
       "      <td>262.656427</td>\n",
       "      <td>5513100.0</td>\n",
       "      <td>0.0</td>\n",
       "      <td>0.0</td>\n",
       "      <td>269.161285</td>\n",
       "      <td>3.693847</td>\n",
       "      <td>265.467438</td>\n",
       "    </tr>\n",
       "    <tr>\n",
       "      <th>389</th>\n",
       "      <td>296.589590</td>\n",
       "      <td>297.780734</td>\n",
       "      <td>288.747775</td>\n",
       "      <td>4512200.0</td>\n",
       "      <td>0.0</td>\n",
       "      <td>0.0</td>\n",
       "      <td>295.596954</td>\n",
       "      <td>4.204136</td>\n",
       "      <td>291.392819</td>\n",
       "    </tr>\n",
       "    <tr>\n",
       "      <th>428</th>\n",
       "      <td>289.194418</td>\n",
       "      <td>290.991086</td>\n",
       "      <td>283.050002</td>\n",
       "      <td>3642200.0</td>\n",
       "      <td>0.0</td>\n",
       "      <td>0.0</td>\n",
       "      <td>290.772705</td>\n",
       "      <td>4.911340</td>\n",
       "      <td>285.861365</td>\n",
       "    </tr>\n",
       "    <tr>\n",
       "      <th>153</th>\n",
       "      <td>256.348146</td>\n",
       "      <td>258.780116</td>\n",
       "      <td>249.657777</td>\n",
       "      <td>10412100.0</td>\n",
       "      <td>0.0</td>\n",
       "      <td>0.0</td>\n",
       "      <td>258.055481</td>\n",
       "      <td>5.047004</td>\n",
       "      <td>253.008477</td>\n",
       "    </tr>\n",
       "    <tr>\n",
       "      <th>298</th>\n",
       "      <td>273.960660</td>\n",
       "      <td>278.371049</td>\n",
       "      <td>260.521277</td>\n",
       "      <td>8131400.0</td>\n",
       "      <td>0.0</td>\n",
       "      <td>0.0</td>\n",
       "      <td>278.073730</td>\n",
       "      <td>11.421754</td>\n",
       "      <td>266.651976</td>\n",
       "    </tr>\n",
       "  </tbody>\n",
       "</table>\n",
       "<p>509 rows × 9 columns</p>\n",
       "</div>"
      ],
      "text/plain": [
       "              0           1           2           3    4    5       ytest  \\\n",
       "26   287.040419  295.626710  285.372769   5211800.0  0.0  0.0  288.588928   \n",
       "447  249.472346  254.508008  249.462462   6252100.0  0.0  0.0  250.232620   \n",
       "478  267.892478  273.610068  267.217493   6354400.0  0.0  0.0  268.726288   \n",
       "87   248.013608  253.791740  242.522889   7819300.0  0.0  0.0  245.446640   \n",
       "82   302.753777  305.215523  300.847904   2566400.0  0.0  0.0  301.522919   \n",
       "..          ...         ...         ...         ...  ...  ...         ...   \n",
       "175  275.488236  275.794694  262.656427   5513100.0  0.0  0.0  269.161285   \n",
       "389  296.589590  297.780734  288.747775   4512200.0  0.0  0.0  295.596954   \n",
       "428  289.194418  290.991086  283.050002   3642200.0  0.0  0.0  290.772705   \n",
       "153  256.348146  258.780116  249.657777  10412100.0  0.0  0.0  258.055481   \n",
       "298  273.960660  278.371049  260.521277   8131400.0  0.0  0.0  278.073730   \n",
       "\n",
       "          yDif  y_predict_lr  \n",
       "26   -4.119192    292.708120  \n",
       "447  -3.436690    253.669310  \n",
       "478  -3.373320    272.099608  \n",
       "87   -2.835259    248.281899  \n",
       "82   -1.922914    303.445833  \n",
       "..         ...           ...  \n",
       "175   3.693847    265.467438  \n",
       "389   4.204136    291.392819  \n",
       "428   4.911340    285.861365  \n",
       "153   5.047004    253.008477  \n",
       "298  11.421754    266.651976  \n",
       "\n",
       "[509 rows x 9 columns]"
      ]
     },
     "execution_count": 257,
     "metadata": {},
     "output_type": "execute_result"
    }
   ],
   "source": [
    "df3.sort_values('yDif')"
   ]
  },
  {
   "cell_type": "code",
   "execution_count": 279,
   "metadata": {},
   "outputs": [
    {
     "data": {
      "text/plain": [
       "<AxesSubplot: ylabel='Count'>"
      ]
     },
     "execution_count": 279,
     "metadata": {},
     "output_type": "execute_result"
    },
    {
     "data": {
      "image/png": "[encoded data removed]",
      "text/plain": [
       "<Figure size 640x480 with 1 Axes>"
      ]
     },
     "metadata": {},
     "output_type": "display_data"
    }
   ],
   "source": [
    "sns.histplot(y_test - y_predict_lr, kde=True)"
   ]
  },
  {
   "cell_type": "code",
   "execution_count": 280,
   "metadata": {},
   "outputs": [
    {
     "data": {
      "text/plain": [
       "<AxesSubplot: >"
      ]
     },
     "execution_count": 280,
     "metadata": {},
     "output_type": "execute_result"
    },
    {
     "data": {
      "image/png": "[encoded data removed]",
      "text/plain": [
       "<Figure size 640x480 with 1 Axes>"
      ]
     },
     "metadata": {},
     "output_type": "display_data"
    }
   ],
   "source": [
    "sns.scatterplot(x=y_test, y=y_predict_lr )"
   ]
  },
  {
   "cell_type": "markdown",
   "metadata": {},
   "source": [
    "2- write run postgress docker command\n",
    "and save y predicted labeles with datatime in database"
   ]
  },
  {
   "cell_type": "code",
   "execution_count": null,
   "metadata": {},
   "outputs": [],
   "source": [
    "# docker code:\n",
    "docker run --name postgresql -e POSTGRES_USER=foad -e POSTGRES_PASSWORD=Map@1396 -p 5432:5432 -v /data:/var/lib/postgresql/data -d postgres "
   ]
  },
  {
   "cell_type": "code",
   "execution_count": null,
   "metadata": {},
   "outputs": [],
   "source": [
    "import psycopg2\n",
    "import psycopg2.extras\n",
    "import pandas as pd"
   ]
  },
  {
   "cell_type": "code",
   "execution_count": null,
   "metadata": {},
   "outputs": [],
   "source": [
    "conn = psycopg2.connect(\n",
    "    host=\"localhost\",\n",
    "    database=\"ml\",\n",
    "    user=\"foad\",\n",
    "    password=\"mapsa1234\")"
   ]
  },
  {
   "cell_type": "code",
   "execution_count": null,
   "metadata": {},
   "outputs": [],
   "source": [
    "cur = conn.cursor(cursor_factory=psycopg2.extras.DictCursor)\n",
    "cur.execute(f\"CREATE TABLE ypridict (id serial PRIMARY KEY, y INT)\")\n",
    "conn.commit()\n"
   ]
  },
  {
   "cell_type": "code",
   "execution_count": null,
   "metadata": {},
   "outputs": [],
   "source": [
    "INSERT INTO table_name (column_list)\n",
    "VALUES\n",
    "    (value_list_1)\n",
    "    "
   ]
  },
  {
   "cell_type": "code",
   "execution_count": null,
   "metadata": {},
   "outputs": [],
   "source": [
    "cur.execute(f\"INSERT INTO ypridict (y) VALUES ({y_predict_lr})\")\n",
    "conn.commit()\n"
   ]
  },
  {
   "cell_type": "markdown",
   "metadata": {},
   "source": [
    "3- scrape  https://api.divar.ir/v8/web-search/tehran/buy-apartment?districts=992 api to find token then use https://api.divar.ir/v5/posts/{token} api and save apartment price and location property in json file"
   ]
  },
  {
   "cell_type": "markdown",
   "metadata": {},
   "source": [
    "### Supervised vs unsupervised\n"
   ]
  },
  {
   "cell_type": "code",
   "execution_count": null,
   "metadata": {},
   "outputs": [],
   "source": [
    "در روش سوپروایزد اهداف توسط انسان به ماشین داده میشود و تعریف میشود و ماشین با بررسی و یادگیری آنها اهداف تست را پیش بینی میکند. \n",
    "در روش یادگیری بدون نظارت ماشین اهداف را خود حدس میزند و طبقه بندی میکند"
   ]
  },
  {
   "cell_type": "code",
   "execution_count": null,
   "metadata": {},
   "outputs": [],
   "source": [
    "what is Semisupevised\n"
   ]
  },
  {
   "cell_type": "code",
   "execution_count": null,
   "metadata": {},
   "outputs": [],
   "source": [
    "ترکیب دو روش قبلی و استفاده از مزایای هرکدام است به این معنی که از داده های خیلی زیادی که امکان استفاده در روش یادگیری بدون نظارت هست استفاده میشود \n",
    "و تعداد از انها توسط انسان لیبل گذاری میشود ماشین با توجه به انها مدل را ایجاد میکند"
   ]
  },
  {
   "cell_type": "code",
   "execution_count": null,
   "metadata": {},
   "outputs": [],
   "source": [
    "what is the effect of Learning rate low and up\n"
   ]
  },
  {
   "cell_type": "code",
   "execution_count": null,
   "metadata": {},
   "outputs": [],
   "source": [
    "نرخ یادگیری پایین : ممکن است مدل به نقطه بهینه نرسد \n",
    "نرخ یادگیری بالا:  ممکن است نقطه بهینه رد شود\n"
   ]
  },
  {
   "cell_type": "code",
   "execution_count": null,
   "metadata": {},
   "outputs": [],
   "source": [
    "nstance base vs model based\n"
   ]
  },
  {
   "cell_type": "code",
   "execution_count": null,
   "metadata": {},
   "outputs": [],
   "source": [
    "    یادگیری مدل بیس یک مدل پارامتری ایجاد میکند که با اضافه شدن داده ها پارامترها و مدل الزاما تغییر پیدانمیکنند\n",
    "مدلهای اینستنس آموزش ابتدایی وجود ندارد \n",
    "اما با ورود داده جدید به روز شده و داده های بعدی درلحظه طبقه بندی میشوند و برای طبقه بندی بعدی به حافظه میروند مانند\n",
    "KNN"
   ]
  },
  {
   "cell_type": "code",
   "execution_count": null,
   "metadata": {},
   "outputs": [],
   "source": [
    "Data is more important or algorithm \n"
   ]
  },
  {
   "cell_type": "code",
   "execution_count": null,
   "metadata": {},
   "outputs": [],
   "source": [
    "داده با کیفیت و الگوریتم مناسب هردو لازمه یادگیری ماشین هستند و هرکدام که دچار مشکل شوند این فرآیند به خوبی انجام نمیشود\n"
   ]
  },
  {
   "cell_type": "code",
   "execution_count": null,
   "metadata": {},
   "outputs": [],
   "source": [
    "what is the meaning of Overfit and underfit and what can we do if they happen?\n"
   ]
  },
  {
   "cell_type": "code",
   "execution_count": null,
   "metadata": {},
   "outputs": [],
   "source": [
    "Overfit:\n",
    "    تطابق بیش از حد مدل به داده های آموزش که بعضا باعث پیچیده شدن زیاد مدل میشود\n",
    "    و باعث میشود نتیجه پیش بینی داده تست با خطای زیاد واریانس همراه شود.\n",
    "underfit:\n",
    "    عدم انطباق کافی مدل با داده در فاز یادگیری است که خطای بایاس را زیاد میکند. \n",
    "    مدل اگر بیش از حد ساده باشد با عث این خطا میشود.\n",
    "    \n",
    "    راهکار:\n",
    "        برای اورفیت مدل را باید با اعمال جرایم در ضرایب پارامترها ساده تر کرد. \n",
    "        مانند روش لاسو و بریج\n",
    "        \n",
    "        برای آندرفیت میتوان از روشها غیر خطی یا شبیه آن مانند پلی نمینال استفاده کرد.\n",
    "        "
   ]
  },
  {
   "cell_type": "code",
   "execution_count": null,
   "metadata": {},
   "outputs": [],
   "source": [
    "روش های گرادیان دیسنت چیست؟\n"
   ]
  },
  {
   "cell_type": "markdown",
   "metadata": {},
   "source": [
    "\n",
    "1. BATCH GRADIENT DESCENT:\n",
    "2. STOCHASTIC GRADIENT DESCENT:\n",
    "3. MINI-BATCH GRADIENT DESCENT:\n",
    "\n",
    "\n",
    "\n",
    "\n",
    "\n"
   ]
  }
 ],
 "metadata": {
  "colab": {
   "provenance": []
  },
  "kernelspec": {
   "display_name": "Python 3 (ipykernel)",
   "language": "python",
   "name": "python3"
  },
  "language_info": {
   "codemirror_mode": {
    "name": "ipython",
    "version": 3
   },
   "file_extension": ".py",
   "mimetype": "text/x-python",
   "name": "python",
   "nbconvert_exporter": "python",
   "pygments_lexer": "ipython3",
   "version": "3.10.6"
  },
  "vscode": {
   "interpreter": {
    "hash": "916dbcbb3f70747c44a77c7bcd40155683ae19c65e1c03b4aa3499c5328201f1"
   }
  },
  "widgets": {
   "application/vnd.jupyter.widget-state+json": {
    "state": {},
    "version_major": 2,
    "version_minor": 0
   }
  }
 },
 "nbformat": 4,
 "nbformat_minor": 4
}
