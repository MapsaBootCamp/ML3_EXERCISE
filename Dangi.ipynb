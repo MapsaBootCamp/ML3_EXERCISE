{
  "nbformat": 4,
  "nbformat_minor": 0,
  "metadata": {
    "colab": {
      "provenance": []
    },
    "kernelspec": {
      "name": "python3",
      "display_name": "Python 3"
    },
    "language_info": {
      "name": "python"
    }
  },
  "cells": [
    {
      "cell_type": "code",
      "source": [
        "details=list(map(int,input('please give the details\\n').split()))\n",
        "\n",
        "\n",
        "\n",
        "def check (details):\n",
        "\n",
        "    people=details[0]\n",
        "    cost=details[1]\n",
        "    Transactin_fee=details[2]\n",
        "    proportion=(cost/people)-(Transactin_fee/people)\n",
        "    \n",
        "    if proportion-int(proportion)!=0 or proportion<=0  :\n",
        "        return -1\n",
        "    else:\n",
        "        return proportion\n",
        "\n",
        "\n",
        "print(check(details))"
      ],
      "metadata": {
        "id": "eG445WNNDgiV"
      },
      "execution_count": null,
      "outputs": []
    }
  ]
}