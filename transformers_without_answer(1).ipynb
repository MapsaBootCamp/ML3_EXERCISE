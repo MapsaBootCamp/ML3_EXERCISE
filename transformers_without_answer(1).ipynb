{
  "nbformat": 4,
  "nbformat_minor": 0,
  "metadata": {
    "colab": {
      "provenance": []
    },
    "kernelspec": {
      "name": "python3",
      "display_name": "Python 3"
    },
    "language_info": {
      "name": "python"
    }
  },
  "cells": [
    {
      "cell_type": "markdown",
      "source": [
        "### جواب های خود را به فارسی و زبان خود بنویسید"
      ],
      "metadata": {
        "id": "G9xxwb9WQqsO"
      }
    },
    {
      "cell_type": "markdown",
      "source": [
        "۱- برای چه کاری استفاده میشود و ایراد آن چیست word embeding از تکنیک"
      ],
      "metadata": {
        "id": "rpwz9jmdDZ19"
      }
    },
    {
      "cell_type": "markdown",
      "source": [
        "یک روش نمایش کلمه ها به صورت یک بردار در فضایی با ابعاد پایین تر است و کلماتی که از لحاظ معنا مشابه هم هستند را در نزدیکی هم قرار میدهد و ایراد آن این است که به متن نگاه نمیکند و به کلمه به صورت مجزا نگاه میکند   \n",
        "\n",
        "\n",
        "\n"
      ],
      "metadata": {
        "id": "GYaXpWAlgnLl"
      }
    },
    {
      "cell_type": "markdown",
      "source": [
        "۲- چیست self-attention منظور از "
      ],
      "metadata": {
        "id": "QTBRXKLVMmKE"
      }
    },
    {
      "cell_type": "markdown",
      "source": [
        "در واقع به معنی کلمات در جمله نگاه میکند و بر اساس وزن کلمات و اهمیت آن ها در جمله یک بردار به آن کلمه \n",
        "اختصاص میدهد. \n",
        "\n",
        "outputs = sum(values * pairwise_scores(query, keys))\n",
        "\n",
        "در عمل کا و ولیو اغلب یکسان هستند و کیو تارگت است و سورس کا و ولیو هستند.\n",
        "و اگر به صورت کلسیفیکیشن باشد کیو و کا و ولیو هر سه یکسان هستند\n",
        "این توضیح این است که ما احتیاج داریم ورودی ها سه بار از مولتی هد عبور داده شوند\n",
        " "
      ],
      "metadata": {
        "id": "O6YHRn02iwNw"
      }
    },
    {
      "cell_type": "markdown",
      "source": [
        "۳- منظور از اصطلاح زیر چیست\n",
        "\n",
        "multi head attention\n",
        "\n",
        "position embeding"
      ],
      "metadata": {
        "id": "cKKpBs4DP1qZ"
      }
    },
    {
      "cell_type": "markdown",
      "source": [
        "مولتی هد اتنشن در واقع کیو و کا و ولیو را به عنوان ورودی میگیرد و این سه مقدار به صورت موازی و مستقل چندین بار از یک شبکه دنس عبور داده میشوند \n",
        "و در اتنشن با هم کانکت میشوند و خروجی یک اتنشن هد میشوند و داشتن هد های مستقل به لایه کمک میکند که گروهای مختلفی از فیچر ها برای هر کلمه داشته باشد و کانتکت این خروجی ها باعث ایجاد مولتی هد میشود"
      ],
      "metadata": {
        "id": "pIXcbDuzBZbj"
      }
    },
    {
      "cell_type": "markdown",
      "source": [
        "position embeding:\n",
        "در واقع یک عملیات پری پراسس است\n",
        "یک بردار متراکم است که جایگاه کلمه در جمله را رمزگذاری میکند.و ساده ترین راه برای پیاده سازی آن این است که از یک لایه امبدینگ استفاده شود  \n",
        "P E(pos,2i) = sin(pos/100002i/dmodel)\n",
        "\n",
        "P E(pos,2i+1) = cos(pos/100002i/dmodel)"
      ],
      "metadata": {
        "id": "jNU9I2uhnNGj"
      }
    },
    {
      "cell_type": "markdown",
      "source": [
        "۴- دو بخش اصلی ترنسفورمر ها چیست\n",
        "دو مدل زبر چگونه بوجود آمدند\n",
        "\n",
        "Bert gpt"
      ],
      "metadata": {
        "id": "8pwpnOJJRxTH"
      }
    },
    {
      "cell_type": "markdown",
      "source": [
        "encoder and decoder"
      ],
      "metadata": {
        "id": "Sjxu-3ZYv3ot"
      }
    },
    {
      "cell_type": "markdown",
      "source": [
        "‌Bert:یک ورد امبدینگ برا اساس متن است که برای فاین تیون کردن و تحلیل احساسی و یا پاسخ به سوالات استفاده میشود و در ساختار آن از انکودر استفاده شده است "
      ],
      "metadata": {
        "id": "q2XHg_1rHRWN"
      }
    },
    {
      "cell_type": "markdown",
      "source": [
        "GPT:\n",
        "یک مولد برای تولید محتوای زبان به صورت روان و منسجم است و از دیکودر ها تشکیل شده است\n"
      ],
      "metadata": {
        "id": "X_sAtUJSv-de"
      }
    }
  ]
}