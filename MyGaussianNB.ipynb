{
 "cells": [
  {
   "cell_type": "code",
   "execution_count": 14,
   "id": "8305e12a-7de7-4c58-b1d8-f4c05d211641",
   "metadata": {},
   "outputs": [],
   "source": [
    "import numpy as np\n",
    "from sklearn.base import BaseEstimator, ClassifierMixin\n",
    "from sklearn.utils.validation import check_X_y, check_array, check_is_fitted\n",
    "\n",
    "class GaussianNaiveBayesClassifier(BaseEstimator, ClassifierMixin):\n",
    "    def fit(self, X, y):\n",
    "        X, y = check_X_y(X, y)\n",
    "        self.priors_ = np.bincount(y) / len(y)\n",
    "        self.n_classes_ = np.max(y) + 1\n",
    "        \n",
    "        self.means_ = np.array([X[np.where(y==i)].mean(axis=0) for i in range(self.n_classes_)])\n",
    "        self.stds_ = np.array([X[np.where(y==i)].std(axis=0) for i in range(self.n_classes_)])\n",
    "        \n",
    "        \n",
    "        return self\n",
    "    \n",
    "    def predict_proba(self, X):\n",
    "        check_is_fitted(self)\n",
    "        X = check_array(X)\n",
    "        \n",
    "        res = []\n",
    "        for i in range(len(X)):\n",
    "            probas = []\n",
    "            for j in range(self.n_classes_):\n",
    "                probas.append((1/np.sqrt(2*np.pi*self.stds_[j]**2)*np.exp(-0.5*((X[i]-self.means_[j])/self.stds_[j])**2)).prod()*self.priors_[j])\n",
    "            probas = np.array(probas)\n",
    "            res.append(probas / probas.sum())\n",
    "            \n",
    "        \n",
    "        return np.array(res)\n",
    "    \n",
    "    def predict(self, X):\n",
    "        check_is_fitted(self)\n",
    "        X = check_array(X)\n",
    "        \n",
    "        res = self.predict_proba(X)\n",
    "        \n",
    "        return res.argmax(axis=1)"
   ]
  },
  {
   "cell_type": "code",
   "execution_count": 16,
   "id": "b0c91800-b413-42af-8dd6-0055d364029b",
   "metadata": {},
   "outputs": [
    {
     "data": {
      "text/plain": [
       "array([[8.06313823e-07, 1.36201957e-04, 9.99862992e-01],\n",
       "       [1.00000000e+00, 4.23258691e-14, 1.92051255e-11],\n",
       "       [4.30879705e-01, 5.69120295e-01, 9.66618838e-27]])"
      ]
     },
     "execution_count": 16,
     "metadata": {},
     "output_type": "execute_result"
    }
   ],
   "source": [
    "my_gauss = GaussianNaiveBayesClassifier()\n",
    "my_gauss.fit(X, y)\n",
    "my_gauss.predict_proba([[-2, 5], [0,0], [6, -0.3]])"
   ]
  },
  {
   "cell_type": "code",
   "execution_count": 17,
   "id": "00b71562-2516-4155-9c69-0c53ee2e13b5",
   "metadata": {},
   "outputs": [
    {
     "data": {
      "text/plain": [
       "array([2, 0, 1])"
      ]
     },
     "execution_count": 17,
     "metadata": {},
     "output_type": "execute_result"
    }
   ],
   "source": [
    "my_gauss.predict([[-2, 5], [0,0], [6, -0.3]])\n"
   ]
  },
  {
   "cell_type": "code",
   "execution_count": 18,
   "id": "7b395b3c-b86e-4291-ac29-8703152ed8b1",
   "metadata": {},
   "outputs": [
    {
     "data": {
      "text/plain": [
       "array([[8.06314158e-07, 1.36201959e-04, 9.99862992e-01],\n",
       "       [1.00000000e+00, 4.23259111e-14, 1.92051343e-11],\n",
       "       [4.30879698e-01, 5.69120302e-01, 9.66619630e-27]])"
      ]
     },
     "execution_count": 18,
     "metadata": {},
     "output_type": "execute_result"
    }
   ],
   "source": [
    "from sklearn.naive_bayes import GaussianNB\n",
    "\n",
    "gnb = GaussianNB()\n",
    "gnb.fit(X, y)\n",
    "gnb.predict_proba([[-2, 5], [0,0], [6, -0.3]])"
   ]
  },
  {
   "cell_type": "code",
   "execution_count": null,
   "id": "cf616402-5881-43c1-939a-0d83bc484fb2",
   "metadata": {},
   "outputs": [],
   "source": []
  }
 ],
 "metadata": {
  "kernelspec": {
   "display_name": "Python 3 (ipykernel)",
   "language": "python",
   "name": "python3"
  },
  "language_info": {
   "codemirror_mode": {
    "name": "ipython",
    "version": 3
   },
   "file_extension": ".py",
   "mimetype": "text/x-python",
   "name": "python",
   "nbconvert_exporter": "python",
   "pygments_lexer": "ipython3",
   "version": "3.10.5"
  }
 },
 "nbformat": 4,
 "nbformat_minor": 5
}
