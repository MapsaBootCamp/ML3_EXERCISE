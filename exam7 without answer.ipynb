{
  "cells": [
    {
      "attachments": {},
      "cell_type": "markdown",
      "metadata": {},
      "source": [
        "use suffled3.csv"
      ]
    },
    {
      "cell_type": "code",
      "execution_count": 1,
      "metadata": {},
      "outputs": [],
      "source": [
        "import pandas as pd\n",
        "import seaborn as sns\n",
        "import matplotlib.pyplot as plt\n",
        "\n"
      ]
    },
    {
      "cell_type": "code",
      "execution_count": 2,
      "metadata": {},
      "outputs": [
        {
          "data": {
            "text/html": [
              "<div>\n",
              "<style scoped>\n",
              "    .dataframe tbody tr th:only-of-type {\n",
              "        vertical-align: middle;\n",
              "    }\n",
              "\n",
              "    .dataframe tbody tr th {\n",
              "        vertical-align: top;\n",
              "    }\n",
              "\n",
              "    .dataframe thead th {\n",
              "        text-align: right;\n",
              "    }\n",
              "</style>\n",
              "<table border=\"1\" class=\"dataframe\">\n",
              "  <thead>\n",
              "    <tr style=\"text-align: right;\">\n",
              "      <th></th>\n",
              "      <th>Date</th>\n",
              "      <th>Open</th>\n",
              "      <th>High</th>\n",
              "      <th>Low</th>\n",
              "      <th>Close</th>\n",
              "      <th>Volume</th>\n",
              "      <th>Dividends</th>\n",
              "      <th>Stock Splits</th>\n",
              "    </tr>\n",
              "  </thead>\n",
              "  <tbody>\n",
              "    <tr>\n",
              "      <th>0</th>\n",
              "      <td>2020-07-28</td>\n",
              "      <td>306.637012</td>\n",
              "      <td>308.326758</td>\n",
              "      <td>304.181926</td>\n",
              "      <td>304.480103</td>\n",
              "      <td>2116300</td>\n",
              "      <td>0.0</td>\n",
              "      <td>0.0</td>\n",
              "    </tr>\n",
              "    <tr>\n",
              "      <th>1</th>\n",
              "      <td>2015-09-17</td>\n",
              "      <td>89.160056</td>\n",
              "      <td>91.267558</td>\n",
              "      <td>89.140805</td>\n",
              "      <td>89.698959</td>\n",
              "      <td>4627000</td>\n",
              "      <td>0.0</td>\n",
              "      <td>0.0</td>\n",
              "    </tr>\n",
              "    <tr>\n",
              "      <th>2</th>\n",
              "      <td>2021-07-12</td>\n",
              "      <td>374.526799</td>\n",
              "      <td>375.595456</td>\n",
              "      <td>371.610470</td>\n",
              "      <td>375.086090</td>\n",
              "      <td>2648300</td>\n",
              "      <td>0.0</td>\n",
              "      <td>0.0</td>\n",
              "    </tr>\n",
              "    <tr>\n",
              "      <th>3</th>\n",
              "      <td>2017-03-17</td>\n",
              "      <td>109.891268</td>\n",
              "      <td>110.524228</td>\n",
              "      <td>109.803631</td>\n",
              "      <td>109.871796</td>\n",
              "      <td>4119200</td>\n",
              "      <td>0.0</td>\n",
              "      <td>0.0</td>\n",
              "    </tr>\n",
              "    <tr>\n",
              "      <th>4</th>\n",
              "      <td>2007-08-22</td>\n",
              "      <td>13.291884</td>\n",
              "      <td>13.592761</td>\n",
              "      <td>13.205919</td>\n",
              "      <td>13.532025</td>\n",
              "      <td>26579000</td>\n",
              "      <td>0.0</td>\n",
              "      <td>0.0</td>\n",
              "    </tr>\n",
              "  </tbody>\n",
              "</table>\n",
              "</div>"
            ],
            "text/plain": [
              "         Date        Open        High         Low       Close    Volume  \\\n",
              "0  2020-07-28  306.637012  308.326758  304.181926  304.480103   2116300   \n",
              "1  2015-09-17   89.160056   91.267558   89.140805   89.698959   4627000   \n",
              "2  2021-07-12  374.526799  375.595456  371.610470  375.086090   2648300   \n",
              "3  2017-03-17  109.891268  110.524228  109.803631  109.871796   4119200   \n",
              "4  2007-08-22   13.291884   13.592761   13.205919   13.532025  26579000   \n",
              "\n",
              "   Dividends  Stock Splits  \n",
              "0        0.0           0.0  \n",
              "1        0.0           0.0  \n",
              "2        0.0           0.0  \n",
              "3        0.0           0.0  \n",
              "4        0.0           0.0  "
            ]
          },
          "execution_count": 2,
          "metadata": {},
          "output_type": "execute_result"
        }
      ],
      "source": [
        "df=pd.read_csv('suffled3.csv')\n",
        "\n",
        "df.head()"
      ]
    },
    {
      "cell_type": "code",
      "execution_count": 3,
      "metadata": {
        "colab": {
          "base_uri": "https://localhost:8080/",
          "height": 300
        },
        "id": "65Qu2U-bbD5-",
        "outputId": "1070bc24-e049-4202-f2ad-09f8a2802b47"
      },
      "outputs": [
        {
          "data": {
            "text/html": [
              "<div>\n",
              "<style scoped>\n",
              "    .dataframe tbody tr th:only-of-type {\n",
              "        vertical-align: middle;\n",
              "    }\n",
              "\n",
              "    .dataframe tbody tr th {\n",
              "        vertical-align: top;\n",
              "    }\n",
              "\n",
              "    .dataframe thead th {\n",
              "        text-align: right;\n",
              "    }\n",
              "</style>\n",
              "<table border=\"1\" class=\"dataframe\">\n",
              "  <thead>\n",
              "    <tr style=\"text-align: right;\">\n",
              "      <th></th>\n",
              "      <th>Open</th>\n",
              "      <th>High</th>\n",
              "      <th>Low</th>\n",
              "      <th>Close</th>\n",
              "      <th>Volume</th>\n",
              "      <th>Dividends</th>\n",
              "      <th>Stock Splits</th>\n",
              "    </tr>\n",
              "  </thead>\n",
              "  <tbody>\n",
              "    <tr>\n",
              "      <th>count</th>\n",
              "      <td>3872.000000</td>\n",
              "      <td>3872.000000</td>\n",
              "      <td>3872.000000</td>\n",
              "      <td>3872.000000</td>\n",
              "      <td>3.872000e+03</td>\n",
              "      <td>3872.000000</td>\n",
              "      <td>3872.000000</td>\n",
              "    </tr>\n",
              "    <tr>\n",
              "      <th>mean</th>\n",
              "      <td>104.896814</td>\n",
              "      <td>105.956054</td>\n",
              "      <td>103.769349</td>\n",
              "      <td>104.882714</td>\n",
              "      <td>1.232250e+07</td>\n",
              "      <td>0.002329</td>\n",
              "      <td>0.002583</td>\n",
              "    </tr>\n",
              "    <tr>\n",
              "      <th>std</th>\n",
              "      <td>106.245511</td>\n",
              "      <td>107.303589</td>\n",
              "      <td>105.050064</td>\n",
              "      <td>106.168693</td>\n",
              "      <td>1.759665e+07</td>\n",
              "      <td>0.025851</td>\n",
              "      <td>0.160706</td>\n",
              "    </tr>\n",
              "    <tr>\n",
              "      <th>min</th>\n",
              "      <td>3.748967</td>\n",
              "      <td>4.102467</td>\n",
              "      <td>3.739664</td>\n",
              "      <td>4.083861</td>\n",
              "      <td>6.411000e+05</td>\n",
              "      <td>0.000000</td>\n",
              "      <td>0.000000</td>\n",
              "    </tr>\n",
              "    <tr>\n",
              "      <th>25%</th>\n",
              "      <td>22.347203</td>\n",
              "      <td>22.637997</td>\n",
              "      <td>22.034458</td>\n",
              "      <td>22.300391</td>\n",
              "      <td>3.529475e+06</td>\n",
              "      <td>0.000000</td>\n",
              "      <td>0.000000</td>\n",
              "    </tr>\n",
              "    <tr>\n",
              "      <th>50%</th>\n",
              "      <td>70.810079</td>\n",
              "      <td>71.375896</td>\n",
              "      <td>70.224002</td>\n",
              "      <td>70.856083</td>\n",
              "      <td>5.891750e+06</td>\n",
              "      <td>0.000000</td>\n",
              "      <td>0.000000</td>\n",
              "    </tr>\n",
              "    <tr>\n",
              "      <th>75%</th>\n",
              "      <td>147.688448</td>\n",
              "      <td>148.645373</td>\n",
              "      <td>146.822013</td>\n",
              "      <td>147.688438</td>\n",
              "      <td>1.319775e+07</td>\n",
              "      <td>0.000000</td>\n",
              "      <td>0.000000</td>\n",
              "    </tr>\n",
              "    <tr>\n",
              "      <th>max</th>\n",
              "      <td>392.653890</td>\n",
              "      <td>400.521479</td>\n",
              "      <td>389.747812</td>\n",
              "      <td>394.685730</td>\n",
              "      <td>3.953430e+08</td>\n",
              "      <td>0.440000</td>\n",
              "      <td>10.000000</td>\n",
              "    </tr>\n",
              "  </tbody>\n",
              "</table>\n",
              "</div>"
            ],
            "text/plain": [
              "              Open         High          Low        Close        Volume  \\\n",
              "count  3872.000000  3872.000000  3872.000000  3872.000000  3.872000e+03   \n",
              "mean    104.896814   105.956054   103.769349   104.882714  1.232250e+07   \n",
              "std     106.245511   107.303589   105.050064   106.168693  1.759665e+07   \n",
              "min       3.748967     4.102467     3.739664     4.083861  6.411000e+05   \n",
              "25%      22.347203    22.637997    22.034458    22.300391  3.529475e+06   \n",
              "50%      70.810079    71.375896    70.224002    70.856083  5.891750e+06   \n",
              "75%     147.688448   148.645373   146.822013   147.688438  1.319775e+07   \n",
              "max     392.653890   400.521479   389.747812   394.685730  3.953430e+08   \n",
              "\n",
              "         Dividends  Stock Splits  \n",
              "count  3872.000000   3872.000000  \n",
              "mean      0.002329      0.002583  \n",
              "std       0.025851      0.160706  \n",
              "min       0.000000      0.000000  \n",
              "25%       0.000000      0.000000  \n",
              "50%       0.000000      0.000000  \n",
              "75%       0.000000      0.000000  \n",
              "max       0.440000     10.000000  "
            ]
          },
          "execution_count": 3,
          "metadata": {},
          "output_type": "execute_result"
        }
      ],
      "source": [
        "\n",
        "df.describe()\n"
      ]
    },
    {
      "cell_type": "code",
      "execution_count": 4,
      "metadata": {},
      "outputs": [],
      "source": [
        "#make date index\n",
        "df.Date=pd.to_datetime(df.Date)\n",
        "df.set_index('Date',inplace=True)"
      ]
    },
    {
      "cell_type": "code",
      "execution_count": 5,
      "metadata": {
        "colab": {
          "base_uri": "https://localhost:8080/",
          "height": 426
        },
        "id": "9IAtx2lObMiQ",
        "outputId": "f8277a4e-b8a3-4261-a816-35c949bfaf9c"
      },
      "outputs": [
        {
          "data": {
            "text/plain": [
              "<AxesSubplot:>"
            ]
          },
          "execution_count": 5,
          "metadata": {},
          "output_type": "execute_result"
        },
        {
          "data": {
            "image/png": "[encoded data removed]",
            "text/plain": [
              "<Figure size 1080x576 with 2 Axes>"
            ]
          },
          "metadata": {
            "needs_background": "light"
          },
          "output_type": "display_data"
        }
      ],
      "source": [
        "\n",
        "corr=df.corr()\n",
        "plt.figure(figsize=(15, 8))\n",
        "sns.set(font_scale=1.8)\n",
        "sns.heatmap(corr,annot=True, annot_kws={'size':15})"
      ]
    },
    {
      "cell_type": "code",
      "execution_count": 6,
      "metadata": {},
      "outputs": [],
      "source": [
        "\n",
        "df=df.reset_index()\n",
        "df=df.sort_values('Date',ascending=False)\n",
        "df.Date=df.Date.astype(str)\n",
        "\n",
        "\n"
      ]
    },
    {
      "cell_type": "code",
      "execution_count": 7,
      "metadata": {},
      "outputs": [
        {
          "data": {
            "text/plain": [
              "<AxesSubplot:xlabel='Date', ylabel='Close'>"
            ]
          },
          "execution_count": 7,
          "metadata": {},
          "output_type": "execute_result"
        },
        {
          "data": {
            "image/png": "[encoded data removed]",
            "text/plain": [
              "<Figure size 1080x576 with 1 Axes>"
            ]
          },
          "metadata": {},
          "output_type": "display_data"
        }
      ],
      "source": [
        "plt.figure(figsize=(15, 8))\n",
        "\n",
        "sns.lineplot(data=df,x='Date',y=\"Close\")"
      ]
    },
    {
      "attachments": {},
      "cell_type": "markdown",
      "metadata": {},
      "source": [
        "Linear Regression prediction with test_size=0.2 the label is close"
      ]
    },
    {
      "cell_type": "code",
      "execution_count": 8,
      "metadata": {},
      "outputs": [],
      "source": [
        "from sklearn.model_selection import train_test_split"
      ]
    },
    {
      "cell_type": "code",
      "execution_count": 9,
      "metadata": {},
      "outputs": [],
      "source": [
        "X= df.loc[:,['Open','High','Low','Volume','Dividends','Stock Splits']].values\n",
        "Y=df.loc[:,['Open','High','Low','Volume','Dividends','Stock Splits']].values\n",
        "\n",
        "\n",
        "X_train,X_test, Y_train,Y_test=train_test_split(X,Y,test_size=0.2,random_state=85)"
      ]
    },
    {
      "cell_type": "code",
      "execution_count": 10,
      "metadata": {},
      "outputs": [],
      "source": [
        "from sklearn.pipeline import Pipeline\n",
        "from sklearn.preprocessing import StandardScaler\n",
        "from sklearn.linear_model import LinearRegression"
      ]
    },
    {
      "cell_type": "code",
      "execution_count": 11,
      "metadata": {},
      "outputs": [
        {
          "data": {
            "text/plain": [
              "0.8331180017226472"
            ]
          },
          "execution_count": 11,
          "metadata": {},
          "output_type": "execute_result"
        }
      ],
      "source": [
        "pipe=Pipeline([('scaler', StandardScaler()),('LR_model',LinearRegression())])\n",
        "pipe.fit(X_train,Y_train)\n",
        "pipe.score(X_test,Y_test)"
      ]
    },
    {
      "cell_type": "code",
      "execution_count": 12,
      "metadata": {},
      "outputs": [],
      "source": [
        "Y_predict=pipe.predict(X_test)\n"
      ]
    },
    {
      "cell_type": "code",
      "execution_count": 13,
      "metadata": {},
      "outputs": [
        {
          "data": {
            "text/plain": [
              "0.021505376344086034"
            ]
          },
          "execution_count": 13,
          "metadata": {},
          "output_type": "execute_result"
        }
      ],
      "source": [
        "from sklearn.metrics import mean_squared_error\n",
        "mean_squared_error(Y_test, Y_predict)"
      ]
    },
    {
      "cell_type": "code",
      "execution_count": 14,
      "metadata": {},
      "outputs": [
        {
          "data": {
            "text/plain": [
              "0.0021505386977831407"
            ]
          },
          "execution_count": 14,
          "metadata": {},
          "output_type": "execute_result"
        }
      ],
      "source": [
        "from sklearn.metrics import mean_absolute_error\n",
        "mean_absolute_error(Y_test, Y_predict)"
      ]
    },
    {
      "cell_type": "code",
      "execution_count": 15,
      "metadata": {},
      "outputs": [
        {
          "data": {
            "text/plain": [
              "0.8331180017226472"
            ]
          },
          "execution_count": 15,
          "metadata": {},
          "output_type": "execute_result"
        }
      ],
      "source": [
        "from sklearn.metrics import r2_score\n",
        "r2_score(Y_test, Y_predict)"
      ]
    },
    {
      "cell_type": "code",
      "execution_count": 16,
      "metadata": {},
      "outputs": [
        {
          "data": {
            "text/plain": [
              "0.14664711502135333"
            ]
          },
          "execution_count": 16,
          "metadata": {},
          "output_type": "execute_result"
        }
      ],
      "source": [
        "import math\n",
        "from sklearn.metrics import mean_squared_error\n",
        "math.sqrt(mean_squared_error(Y_test, Y_predict))"
      ]
    },
    {
      "cell_type": "code",
      "execution_count": 17,
      "metadata": {},
      "outputs": [
        {
          "data": {
            "text/plain": [
              "0.021661626344087994"
            ]
          },
          "execution_count": 17,
          "metadata": {},
          "output_type": "execute_result"
        }
      ],
      "source": [
        "from sklearn.metrics import mean_absolute_percentage_error\n",
        "mean_absolute_percentage_error(Y_test, Y_predict)"
      ]
    },
    {
      "cell_type": "code",
      "execution_count": 29,
      "metadata": {},
      "outputs": [
        {
          "data": {
            "image/png": "[encoded data removed]",
            "text/plain": [
              "<Figure size 720x864 with 1 Axes>"
            ]
          },
          "metadata": {},
          "output_type": "display_data"
        }
      ],
      "source": [
        "plt.figure(figsize=(10, 12))\n",
        "plt.scatter(Y_test, Y_predict)\n",
        "plt.xlabel('Y_test')\n",
        "plt.ylabel('Y_predict')\n",
        "plt.show()"
      ]
    },
    {
      "attachments": {},
      "cell_type": "markdown",
      "metadata": {},
      "source": [
        "2- write run postgress docker command\n",
        "and save y predicted labeles with datatime in database"
      ]
    },
    {
      "cell_type": "code",
      "execution_count": null,
      "metadata": {},
      "outputs": [],
      "source": [
        "docker run --name postgresql -e POSTGRES_USER=Mapsa -e POSTGRES_PASSWORD=Mapsa1234 -p 5432:5432  -d postgres "
      ]
    },
    {
      "cell_type": "code",
      "execution_count": null,
      "metadata": {},
      "outputs": [],
      "source": [
        "conn = psycopg2.connect(\n",
        "    host=\"localhost\",\n",
        "    database=\"ml\",\n",
        "    user=\"Mapsa\",\n",
        "    password=\"Mapsa1234\")"
      ]
    },
    {
      "attachments": {},
      "cell_type": "markdown",
      "metadata": {},
      "source": [
        "3- scrape  https://api.divar.ir/v8/web-search/tehran/buy-apartment?districts=992 api to find token then use https://api.divar.ir/v5/posts/{token} api and save apartment price and location property in json file"
      ]
    },
    {
      "attachments": {},
      "cell_type": "markdown",
      "metadata": {},
      "source": [
        "ابتدا توکن ها را گرفته"
      ]
    },
    {
      "cell_type": "code",
      "execution_count": null,
      "metadata": {},
      "outputs": [],
      "source": [
        "import requests\n",
        "import time\n",
        "import json\n",
        "\n",
        "url = \"https://api.divar.ir/v8/web-search/tehran/buy-apartment?districts=992\"\n",
        "json1 ={\"json_schema\":{\"category\": {\"value\": \"residential-sell\"}, \"cities\": [\"1\"]},\n",
        "\"last-post-date\": 1671953475845188}\n",
        "headers = {\n",
        "    \"Content_Type\": \"application/json\"}\n",
        "\n",
        "tokens_list=[]\n",
        "res =requests.post(url, json=json1,headers=headers)\n",
        "\n",
        "data=res.json()\n",
        "\n",
        "last_post_date=data['last_post_date']\n",
        "\n",
        "\n",
        "count=0\n",
        "while True:\n",
        "    \n",
        "    url = \"https://api.divar.ir/v8/web-search/1/residential-sell\"\n",
        "    json2 ={\"json_schema\":{\"category\": {\"value\": \"residential-sell\"}, \"cities\": [\"1\"]},\n",
        "    \"last-post-date\": last_post_date}\n",
        "    headers = {\n",
        "        \"Content_Type\": \"application/json\"}\n",
        "    \n",
        "    res=requests.post(url,json=json2, headers=headers)\n",
        "    \n",
        "    try:\n",
        "        data= res.json()\n",
        "        \n",
        "        last_post_date=last_post_date-800000\n",
        "        \n",
        "     \n",
        "        \n",
        "        \n",
        "        \n",
        "        last_post_date=data['last_post_date']\n",
        "    \n",
        "\n",
        "    \n",
        "        for item in data['web_widgets']['post_list']:\n",
        "            token=item['data']['token']\n",
        "            tokens_list.append(token)\n",
        "        \n",
        "        \n",
        "            count+=1\n",
        "        \n",
        "        if count>=10:\n",
        "            break\n",
        "    except:\n",
        "        print (last_post_date,count)\n",
        "        txt_file=open ('token.txt','w',encoding='utf8')\n",
        "        txt_file.write(','.join(tokens_list))\n",
        "        txt_file.close()\n",
        "        break\n",
        "\n",
        "   \n",
        "    else:\n",
        "\n",
        "        txt_file=open ('token.txt','w',encoding='utf8')\n",
        "        txt_file.write(','.join(tokens_list))\n",
        "        txt_file.close()"
      ]
    },
    {
      "attachments": {},
      "cell_type": "markdown",
      "metadata": {},
      "source": [
        "سپس اطلاعات را گرفته"
      ]
    },
    {
      "cell_type": "code",
      "execution_count": null,
      "metadata": {},
      "outputs": [],
      "source": [
        "\n",
        "import requests\n",
        "import json\n",
        "import pandas as pd\n",
        "\n",
        "my_tokens=open('token1.txt','r')\n",
        "my_tokens=my_tokens.read().split(',')\n",
        "\n",
        "dataset=[]\n",
        "urls=list(map (lambda x:'https://api.divar.ir/v5/posts/%7Btoken%7D%s' %(x),my_tokens))\n",
        "\n",
        "\n",
        "\n",
        "\n",
        "\n",
        "for url in urls:\n",
        "    try:\n",
        "        res=requests.get(url)\n",
        "\n",
        "        data=res.json()\n",
        "    except:\n",
        "        continue\n",
        "    try:\n",
        "        district=data['sections'][1]['widgets'][0]['data']['subtitle'].split('،')[1].split('|')[0]\n",
        "      \n",
        "        value=data['sections'][8]['widgets'][1]['data']['value'].split()[0]\n",
        "       \n",
        "    except:\n",
        "        continue\n",
        "   \n",
        "    \n",
        "    house={\n",
        "        'district':district,\n",
        "        'value':value,\n",
        "        \n",
        "        \n",
        "        }\n",
        "    \n",
        "    dataset.append(house)\n",
        "filename='house.json'\n",
        "with open(filename, 'w') as file_object:  \n",
        "    json.dump(dataset, file_object)"
      ]
    },
    {
      "attachments": {},
      "cell_type": "markdown",
      "metadata": {},
      "source": [
        "Supervised vs unsupervised\n",
        "\n",
        "what is Semisupevised\n",
        "\n",
        "what is the effect of Learning rate low and up\n",
        "\n",
        "nstance base vs model based\n",
        "\n",
        "Data is more important or algorithm \n",
        "\n",
        "what is the meaning of Overfit and underfit and what can we do if they happen?\n",
        "\n",
        "روش های گرادیان دیسنت چیست؟\n"
      ]
    },
    {
      "attachments": {},
      "cell_type": "markdown",
      "metadata": {},
      "source": [
        "supervised:\n",
        "دارای لیبل هستند\n",
        "supervised learning uses labeled input and output data, while an unsupervised learning algorithm does not"
      ]
    },
    {
      "attachments": {},
      "cell_type": "markdown",
      "metadata": {},
      "source": [
        "Semi-supervised machine learning is a combination of supervised and unsupervised learning. It uses a small amount of labeled data and a large amount of unlabeled data, which provides the benefits of both unsupervised and supervised learning while avoiding the challenges of finding a large amount of labeled data."
      ]
    },
    {
      "attachments": {},
      "cell_type": "markdown",
      "metadata": {},
      "source": [
        "The main difference in these models is how they generalize information. Instance-based learning will memorize all the data in a training set and then set a new data point to the same or average output value of the most common data point or similar data points it has memorized. \n",
        "In model-based learning, the model would create a prediction line or prediction sections based on the different attributes of the data it trained on. A new data point would then fall along this line or within certain sections based on the attributes it possesses."
      ]
    },
    {
      "attachments": {},
      "cell_type": "markdown",
      "metadata": {},
      "source": [
        "data in definitely more important than algorithms. when you have insufficient, the none of algorithms can help you "
      ]
    },
    {
      "attachments": {},
      "cell_type": "markdown",
      "metadata": {},
      "source": [
        "Overfit:\n",
        "when the model cannot generalize and fits too closely to the training dataset instead\n",
        "- you should :Early stopping\n",
        "Early stopping pauses the training phase before the machine learning model learns the noise in the data\n",
        "eliminates irrelevant features\n",
        "\n",
        "underfit:\n",
        "the model cannot determine a meaningful relationship between the input and output data\n",
        "\n",
        "you should:\n",
        "Decrease regularization\n",
        "Increase the duration of training\n",
        "Feature selection"
      ]
    },
    {
      "attachments": {},
      "cell_type": "markdown",
      "metadata": {},
      "source": [
        "Batch gradient descent\n",
        "Stochastic gradient descent\n",
        "Mini-batch gradient descent"
      ]
    }
  ],
  "metadata": {
    "colab": {
      "provenance": []
    },
    "kernelspec": {
      "display_name": "base",
      "language": "python",
      "name": "python3"
    },
    "language_info": {
      "codemirror_mode": {
        "name": "ipython",
        "version": 3
      },
      "file_extension": ".py",
      "mimetype": "text/x-python",
      "name": "python",
      "nbconvert_exporter": "python",
      "pygments_lexer": "ipython3",
      "version": "3.9.12"
    },
    "vscode": {
      "interpreter": {
        "hash": "381afda6634acabfe02de722b0985adea3cc2e228af5cdbefa626e4cfe1e2f2d"
      }
    }
  },
  "nbformat": 4,
  "nbformat_minor": 0
}
