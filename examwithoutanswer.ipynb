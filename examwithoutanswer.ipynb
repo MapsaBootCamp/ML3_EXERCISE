{
 "cells": [
  {
   "cell_type": "markdown",
   "metadata": {},
   "source": [
    "روی داده های برق داده شده تمام کارهای مورد نیار را انجام داده و در انتها داده با فیچر های زیر را نیز پیش بینی کنید\n",
    "\n",
    "\"CO2Intensity\"=491.32, \"SystemLoadEA\"=4241.05, \"Day\"=10, \"ForecastWindProduction\"=54.10, , \"SMPEA\"=49.56, \"ORKTemperature\"=9.0, \"ORKWindspeed\"=14.8, \"ActualWindProduction\"=54.0, \"Month\"=12, \"SystemLoadEP2\"=4426.84]"
   ]
  },
  {
   "cell_type": "code",
   "execution_count": 1,
   "metadata": {},
   "outputs": [],
   "source": [
    "import pandas as pd\n",
    "import numpy as np\n",
    "import matplotlib.pyplot as plt\n",
    "import seaborn as sns"
   ]
  },
  {
   "cell_type": "code",
   "execution_count": 37,
   "metadata": {},
   "outputs": [],
   "source": [
    "import warnings\n",
    "warnings.filterwarnings(\"ignore\")"
   ]
  },
  {
   "cell_type": "code",
   "execution_count": 38,
   "metadata": {},
   "outputs": [
    {
     "data": {
      "text/html": [
       "<div>\n",
       "<style scoped>\n",
       "    .dataframe tbody tr th:only-of-type {\n",
       "        vertical-align: middle;\n",
       "    }\n",
       "\n",
       "    .dataframe tbody tr th {\n",
       "        vertical-align: top;\n",
       "    }\n",
       "\n",
       "    .dataframe thead th {\n",
       "        text-align: right;\n",
       "    }\n",
       "</style>\n",
       "<table border=\"1\" class=\"dataframe\">\n",
       "  <thead>\n",
       "    <tr style=\"text-align: right;\">\n",
       "      <th></th>\n",
       "      <th>DateTime</th>\n",
       "      <th>Holiday</th>\n",
       "      <th>HolidayFlag</th>\n",
       "      <th>DayOfWeek</th>\n",
       "      <th>WeekOfYear</th>\n",
       "      <th>Day</th>\n",
       "      <th>Month</th>\n",
       "      <th>Year</th>\n",
       "      <th>PeriodOfDay</th>\n",
       "      <th>ForecastWindProduction</th>\n",
       "      <th>SystemLoadEA</th>\n",
       "      <th>SMPEA</th>\n",
       "      <th>ORKTemperature</th>\n",
       "      <th>ORKWindspeed</th>\n",
       "      <th>CO2Intensity</th>\n",
       "      <th>ActualWindProduction</th>\n",
       "      <th>SystemLoadEP2</th>\n",
       "      <th>SMPEP2</th>\n",
       "    </tr>\n",
       "  </thead>\n",
       "  <tbody>\n",
       "    <tr>\n",
       "      <th>0</th>\n",
       "      <td>01/11/2011 00:00</td>\n",
       "      <td>None</td>\n",
       "      <td>0</td>\n",
       "      <td>1</td>\n",
       "      <td>44</td>\n",
       "      <td>1</td>\n",
       "      <td>11</td>\n",
       "      <td>2011</td>\n",
       "      <td>0</td>\n",
       "      <td>315.31</td>\n",
       "      <td>3388.77</td>\n",
       "      <td>49.26</td>\n",
       "      <td>6.00</td>\n",
       "      <td>9.30</td>\n",
       "      <td>600.71</td>\n",
       "      <td>356.00</td>\n",
       "      <td>3159.60</td>\n",
       "      <td>54.32</td>\n",
       "    </tr>\n",
       "    <tr>\n",
       "      <th>1</th>\n",
       "      <td>01/11/2011 00:30</td>\n",
       "      <td>None</td>\n",
       "      <td>0</td>\n",
       "      <td>1</td>\n",
       "      <td>44</td>\n",
       "      <td>1</td>\n",
       "      <td>11</td>\n",
       "      <td>2011</td>\n",
       "      <td>1</td>\n",
       "      <td>321.80</td>\n",
       "      <td>3196.66</td>\n",
       "      <td>49.26</td>\n",
       "      <td>6.00</td>\n",
       "      <td>11.10</td>\n",
       "      <td>605.42</td>\n",
       "      <td>317.00</td>\n",
       "      <td>2973.01</td>\n",
       "      <td>54.23</td>\n",
       "    </tr>\n",
       "    <tr>\n",
       "      <th>2</th>\n",
       "      <td>01/11/2011 01:00</td>\n",
       "      <td>None</td>\n",
       "      <td>0</td>\n",
       "      <td>1</td>\n",
       "      <td>44</td>\n",
       "      <td>1</td>\n",
       "      <td>11</td>\n",
       "      <td>2011</td>\n",
       "      <td>2</td>\n",
       "      <td>328.57</td>\n",
       "      <td>3060.71</td>\n",
       "      <td>49.10</td>\n",
       "      <td>5.00</td>\n",
       "      <td>11.10</td>\n",
       "      <td>589.97</td>\n",
       "      <td>311.00</td>\n",
       "      <td>2834.00</td>\n",
       "      <td>54.23</td>\n",
       "    </tr>\n",
       "    <tr>\n",
       "      <th>3</th>\n",
       "      <td>01/11/2011 01:30</td>\n",
       "      <td>None</td>\n",
       "      <td>0</td>\n",
       "      <td>1</td>\n",
       "      <td>44</td>\n",
       "      <td>1</td>\n",
       "      <td>11</td>\n",
       "      <td>2011</td>\n",
       "      <td>3</td>\n",
       "      <td>335.60</td>\n",
       "      <td>2945.56</td>\n",
       "      <td>48.04</td>\n",
       "      <td>6.00</td>\n",
       "      <td>9.30</td>\n",
       "      <td>585.94</td>\n",
       "      <td>313.00</td>\n",
       "      <td>2725.99</td>\n",
       "      <td>53.47</td>\n",
       "    </tr>\n",
       "    <tr>\n",
       "      <th>4</th>\n",
       "      <td>01/11/2011 02:00</td>\n",
       "      <td>None</td>\n",
       "      <td>0</td>\n",
       "      <td>1</td>\n",
       "      <td>44</td>\n",
       "      <td>1</td>\n",
       "      <td>11</td>\n",
       "      <td>2011</td>\n",
       "      <td>4</td>\n",
       "      <td>342.90</td>\n",
       "      <td>2849.34</td>\n",
       "      <td>33.75</td>\n",
       "      <td>6.00</td>\n",
       "      <td>11.10</td>\n",
       "      <td>571.52</td>\n",
       "      <td>346.00</td>\n",
       "      <td>2655.64</td>\n",
       "      <td>39.87</td>\n",
       "    </tr>\n",
       "  </tbody>\n",
       "</table>\n",
       "</div>"
      ],
      "text/plain": [
       "           DateTime Holiday  HolidayFlag  DayOfWeek  WeekOfYear  Day  Month  \\\n",
       "0  01/11/2011 00:00    None            0          1          44    1     11   \n",
       "1  01/11/2011 00:30    None            0          1          44    1     11   \n",
       "2  01/11/2011 01:00    None            0          1          44    1     11   \n",
       "3  01/11/2011 01:30    None            0          1          44    1     11   \n",
       "4  01/11/2011 02:00    None            0          1          44    1     11   \n",
       "\n",
       "   Year  PeriodOfDay ForecastWindProduction SystemLoadEA  SMPEA  \\\n",
       "0  2011            0                 315.31      3388.77  49.26   \n",
       "1  2011            1                 321.80      3196.66  49.26   \n",
       "2  2011            2                 328.57      3060.71  49.10   \n",
       "3  2011            3                 335.60      2945.56  48.04   \n",
       "4  2011            4                 342.90      2849.34  33.75   \n",
       "\n",
       "  ORKTemperature ORKWindspeed CO2Intensity ActualWindProduction SystemLoadEP2  \\\n",
       "0           6.00         9.30       600.71               356.00       3159.60   \n",
       "1           6.00        11.10       605.42               317.00       2973.01   \n",
       "2           5.00        11.10       589.97               311.00       2834.00   \n",
       "3           6.00         9.30       585.94               313.00       2725.99   \n",
       "4           6.00        11.10       571.52               346.00       2655.64   \n",
       "\n",
       "  SMPEP2  \n",
       "0  54.32  \n",
       "1  54.23  \n",
       "2  54.23  \n",
       "3  53.47  \n",
       "4  39.87  "
      ]
     },
     "execution_count": 38,
     "metadata": {},
     "output_type": "execute_result"
    }
   ],
   "source": [
    "df=pd.read_csv('electricity.csv')\n",
    "df.head()"
   ]
  },
  {
   "cell_type": "code",
   "execution_count": 39,
   "metadata": {},
   "outputs": [],
   "source": [
    "df=df.filter(['CO2Intensity','SystemLoadEA','Day','ForecastWindProduction','SMPEA','ORKTemperature','ORKWindspeed','ActualWindProduction','Month','SystemLoadEP2','SMPEP2'],axis=1)"
   ]
  },
  {
   "cell_type": "code",
   "execution_count": 40,
   "metadata": {},
   "outputs": [
    {
     "name": "stdout",
     "output_type": "stream",
     "text": [
      "<class 'pandas.core.frame.DataFrame'>\n",
      "RangeIndex: 38014 entries, 0 to 38013\n",
      "Data columns (total 11 columns):\n",
      " #   Column                  Non-Null Count  Dtype \n",
      "---  ------                  --------------  ----- \n",
      " 0   CO2Intensity            38014 non-null  object\n",
      " 1   SystemLoadEA            38014 non-null  object\n",
      " 2   Day                     38014 non-null  int64 \n",
      " 3   ForecastWindProduction  38014 non-null  object\n",
      " 4   SMPEA                   38014 non-null  object\n",
      " 5   ORKTemperature          38014 non-null  object\n",
      " 6   ORKWindspeed            38014 non-null  object\n",
      " 7   ActualWindProduction    38014 non-null  object\n",
      " 8   Month                   38014 non-null  int64 \n",
      " 9   SystemLoadEP2           38014 non-null  object\n",
      " 10  SMPEP2                  38014 non-null  object\n",
      "dtypes: int64(2), object(9)\n",
      "memory usage: 3.2+ MB\n"
     ]
    }
   ],
   "source": [
    "df.info()"
   ]
  },
  {
   "cell_type": "code",
   "execution_count": 41,
   "metadata": {},
   "outputs": [
    {
     "data": {
      "text/plain": [
       "CO2Intensity              0\n",
       "SystemLoadEA              0\n",
       "Day                       0\n",
       "ForecastWindProduction    0\n",
       "SMPEA                     0\n",
       "ORKTemperature            0\n",
       "ORKWindspeed              0\n",
       "ActualWindProduction      0\n",
       "Month                     0\n",
       "SystemLoadEP2             0\n",
       "SMPEP2                    0\n",
       "dtype: int64"
      ]
     },
     "execution_count": 41,
     "metadata": {},
     "output_type": "execute_result"
    }
   ],
   "source": [
    "df.isnull().sum()"
   ]
  },
  {
   "cell_type": "markdown",
   "metadata": {},
   "source": [
    "## Change Objective to Float"
   ]
  },
  {
   "cell_type": "code",
   "execution_count": 42,
   "metadata": {},
   "outputs": [],
   "source": [
    "df['SMPEP2'] = df['SMPEP2'].str.replace('?', 'nan')"
   ]
  },
  {
   "cell_type": "code",
   "execution_count": 43,
   "metadata": {},
   "outputs": [],
   "source": [
    "df['CO2Intensity'] = df['CO2Intensity'].str.replace('?', 'nan')"
   ]
  },
  {
   "cell_type": "code",
   "execution_count": 44,
   "metadata": {},
   "outputs": [],
   "source": [
    "df['SystemLoadEA'] = df['SystemLoadEA'].str.replace('?', 'nan')"
   ]
  },
  {
   "cell_type": "code",
   "execution_count": 45,
   "metadata": {},
   "outputs": [],
   "source": [
    "df['ForecastWindProduction'] = df['ForecastWindProduction'].str.replace('?', 'nan')"
   ]
  },
  {
   "cell_type": "code",
   "execution_count": 46,
   "metadata": {},
   "outputs": [],
   "source": [
    "df['SMPEA'] = df['SMPEA'].str.replace('?', 'nan')"
   ]
  },
  {
   "cell_type": "code",
   "execution_count": 47,
   "metadata": {},
   "outputs": [],
   "source": [
    "df['ORKTemperature'] = df['ORKTemperature'].str.replace('?', 'nan')"
   ]
  },
  {
   "cell_type": "code",
   "execution_count": 48,
   "metadata": {},
   "outputs": [],
   "source": [
    "df['ORKWindspeed'] = df['ORKWindspeed'].str.replace('?', 'nan')"
   ]
  },
  {
   "cell_type": "code",
   "execution_count": 49,
   "metadata": {},
   "outputs": [],
   "source": [
    "df['ActualWindProduction'] = df['ActualWindProduction'].str.replace('?', 'nan')"
   ]
  },
  {
   "cell_type": "code",
   "execution_count": 50,
   "metadata": {},
   "outputs": [],
   "source": [
    "df['SystemLoadEP2'] = df['SystemLoadEP2'].str.replace('?', 'nan')"
   ]
  },
  {
   "cell_type": "code",
   "execution_count": 51,
   "metadata": {},
   "outputs": [
    {
     "data": {
      "text/plain": [
       "(38014, 11)"
      ]
     },
     "execution_count": 51,
     "metadata": {},
     "output_type": "execute_result"
    }
   ],
   "source": [
    "df.shape"
   ]
  },
  {
   "cell_type": "code",
   "execution_count": 52,
   "metadata": {},
   "outputs": [],
   "source": [
    "df['CO2Intensity']=df.CO2Intensity.astype('float')\n",
    "df['SystemLoadEA']=df.SystemLoadEA.astype('float')\n",
    "df['ForecastWindProduction']=df.ForecastWindProduction.astype('float')\n",
    "df['ORKTemperature']=df.ORKTemperature.astype('float')\n",
    "df['ORKWindspeed']=df.ORKWindspeed.astype('float')\n",
    "df['ActualWindProduction']=df.ActualWindProduction.astype('float')\n",
    "df['SystemLoadEP2']=df.SystemLoadEP2.astype('float')\n",
    "df['SMPEA']=df.SMPEA.astype('float')\n",
    "\n",
    "df['SMPEP2']=df.SMPEP2.astype('float')\n",
    "df['Day']=df.Day.astype('float')\n",
    "\n",
    "df['Month']=df.Month.astype('float')"
   ]
  },
  {
   "cell_type": "code",
   "execution_count": 53,
   "metadata": {},
   "outputs": [
    {
     "name": "stdout",
     "output_type": "stream",
     "text": [
      "<class 'pandas.core.frame.DataFrame'>\n",
      "RangeIndex: 38014 entries, 0 to 38013\n",
      "Data columns (total 11 columns):\n",
      " #   Column                  Non-Null Count  Dtype  \n",
      "---  ------                  --------------  -----  \n",
      " 0   CO2Intensity            32761 non-null  float64\n",
      " 1   SystemLoadEA            32766 non-null  float64\n",
      " 2   Day                     38014 non-null  float64\n",
      " 3   ForecastWindProduction  32763 non-null  float64\n",
      " 4   SMPEA                   32766 non-null  float64\n",
      " 5   ORKTemperature          37719 non-null  float64\n",
      " 6   ORKWindspeed            37715 non-null  float64\n",
      " 7   ActualWindProduction    32763 non-null  float64\n",
      " 8   Month                   38014 non-null  float64\n",
      " 9   SystemLoadEP2           32766 non-null  float64\n",
      " 10  SMPEP2                  32766 non-null  float64\n",
      "dtypes: float64(11)\n",
      "memory usage: 3.2 MB\n"
     ]
    }
   ],
   "source": [
    "df.info()"
   ]
  },
  {
   "cell_type": "code",
   "execution_count": 54,
   "metadata": {},
   "outputs": [],
   "source": [
    "df=df.dropna()"
   ]
  },
  {
   "cell_type": "code",
   "execution_count": 55,
   "metadata": {},
   "outputs": [
    {
     "data": {
      "text/plain": [
       "CO2Intensity              0\n",
       "SystemLoadEA              0\n",
       "Day                       0\n",
       "ForecastWindProduction    0\n",
       "SMPEA                     0\n",
       "ORKTemperature            0\n",
       "ORKWindspeed              0\n",
       "ActualWindProduction      0\n",
       "Month                     0\n",
       "SystemLoadEP2             0\n",
       "SMPEP2                    0\n",
       "dtype: int64"
      ]
     },
     "execution_count": 55,
     "metadata": {},
     "output_type": "execute_result"
    }
   ],
   "source": [
    "df.isnull().sum()"
   ]
  },
  {
   "cell_type": "markdown",
   "metadata": {},
   "source": [
    "## Check outliers"
   ]
  },
  {
   "cell_type": "code",
   "execution_count": 56,
   "metadata": {},
   "outputs": [
    {
     "data": {
      "image/png": "[encoded data removed]",
      "text/plain": [
       "<Figure size 1500x800 with 1 Axes>"
      ]
     },
     "metadata": {},
     "output_type": "display_data"
    }
   ],
   "source": [
    "## The target is SMEP2\n",
    "fig,ax=plt.subplots(figsize=(15,8))\n",
    "sns.boxplot(data=df[['SMPEP2']])\n",
    "ax.set_title('total_count outliers')\n",
    "plt.show()"
   ]
  },
  {
   "cell_type": "code",
   "execution_count": 59,
   "metadata": {},
   "outputs": [
    {
     "data": {
      "text/html": [
       "<div>\n",
       "<style scoped>\n",
       "    .dataframe tbody tr th:only-of-type {\n",
       "        vertical-align: middle;\n",
       "    }\n",
       "\n",
       "    .dataframe tbody tr th {\n",
       "        vertical-align: top;\n",
       "    }\n",
       "\n",
       "    .dataframe thead th {\n",
       "        text-align: right;\n",
       "    }\n",
       "</style>\n",
       "<table border=\"1\" class=\"dataframe\">\n",
       "  <thead>\n",
       "    <tr style=\"text-align: right;\">\n",
       "      <th></th>\n",
       "      <th>level_0</th>\n",
       "      <th>index</th>\n",
       "      <th>CO2Intensity</th>\n",
       "      <th>SystemLoadEA</th>\n",
       "      <th>Day</th>\n",
       "      <th>ForecastWindProduction</th>\n",
       "      <th>SMPEA</th>\n",
       "      <th>ORKTemperature</th>\n",
       "      <th>ORKWindspeed</th>\n",
       "      <th>ActualWindProduction</th>\n",
       "      <th>Month</th>\n",
       "      <th>SystemLoadEP2</th>\n",
       "      <th>SMPEP2</th>\n",
       "    </tr>\n",
       "  </thead>\n",
       "  <tbody>\n",
       "    <tr>\n",
       "      <th>count</th>\n",
       "      <td>30284.000000</td>\n",
       "      <td>30284.000000</td>\n",
       "      <td>30284.000000</td>\n",
       "      <td>30284.000000</td>\n",
       "      <td>30284.000000</td>\n",
       "      <td>30284.000000</td>\n",
       "      <td>30284.000000</td>\n",
       "      <td>30284.000000</td>\n",
       "      <td>30284.00000</td>\n",
       "      <td>30284.000000</td>\n",
       "      <td>30284.000000</td>\n",
       "      <td>30284.000000</td>\n",
       "      <td>30284.000000</td>\n",
       "    </tr>\n",
       "    <tr>\n",
       "      <th>mean</th>\n",
       "      <td>15297.091203</td>\n",
       "      <td>16427.987881</td>\n",
       "      <td>489.440125</td>\n",
       "      <td>3941.137281</td>\n",
       "      <td>15.477447</td>\n",
       "      <td>521.479775</td>\n",
       "      <td>58.829567</td>\n",
       "      <td>9.777440</td>\n",
       "      <td>19.22854</td>\n",
       "      <td>500.387994</td>\n",
       "      <td>6.310824</td>\n",
       "      <td>3707.202335</td>\n",
       "      <td>57.565551</td>\n",
       "    </tr>\n",
       "    <tr>\n",
       "      <th>std</th>\n",
       "      <td>8853.584742</td>\n",
       "      <td>9479.134687</td>\n",
       "      <td>85.023533</td>\n",
       "      <td>825.164680</td>\n",
       "      <td>8.807416</td>\n",
       "      <td>402.890764</td>\n",
       "      <td>22.775291</td>\n",
       "      <td>4.489741</td>\n",
       "      <td>9.45169</td>\n",
       "      <td>367.549060</td>\n",
       "      <td>3.414700</td>\n",
       "      <td>802.998897</td>\n",
       "      <td>17.298474</td>\n",
       "    </tr>\n",
       "    <tr>\n",
       "      <th>min</th>\n",
       "      <td>0.000000</td>\n",
       "      <td>0.000000</td>\n",
       "      <td>0.000000</td>\n",
       "      <td>2183.940000</td>\n",
       "      <td>1.000000</td>\n",
       "      <td>0.900000</td>\n",
       "      <td>0.000000</td>\n",
       "      <td>-4.000000</td>\n",
       "      <td>0.00000</td>\n",
       "      <td>1.000000</td>\n",
       "      <td>1.000000</td>\n",
       "      <td>1809.960000</td>\n",
       "      <td>6.510000</td>\n",
       "    </tr>\n",
       "    <tr>\n",
       "      <th>25%</th>\n",
       "      <td>7621.750000</td>\n",
       "      <td>8307.750000</td>\n",
       "      <td>433.240000</td>\n",
       "      <td>3239.615000</td>\n",
       "      <td>8.000000</td>\n",
       "      <td>175.870000</td>\n",
       "      <td>44.910000</td>\n",
       "      <td>7.000000</td>\n",
       "      <td>13.00000</td>\n",
       "      <td>187.000000</td>\n",
       "      <td>3.000000</td>\n",
       "      <td>3013.297500</td>\n",
       "      <td>45.110000</td>\n",
       "    </tr>\n",
       "    <tr>\n",
       "      <th>50%</th>\n",
       "      <td>15277.500000</td>\n",
       "      <td>16199.500000</td>\n",
       "      <td>492.185000</td>\n",
       "      <td>3999.465000</td>\n",
       "      <td>15.000000</td>\n",
       "      <td>417.995000</td>\n",
       "      <td>53.780000</td>\n",
       "      <td>10.000000</td>\n",
       "      <td>18.50000</td>\n",
       "      <td>423.000000</td>\n",
       "      <td>6.000000</td>\n",
       "      <td>3770.950000</td>\n",
       "      <td>53.860000</td>\n",
       "    </tr>\n",
       "    <tr>\n",
       "      <th>75%</th>\n",
       "      <td>22974.250000</td>\n",
       "      <td>24831.250000</td>\n",
       "      <td>547.262500</td>\n",
       "      <td>4558.450000</td>\n",
       "      <td>23.000000</td>\n",
       "      <td>807.105000</td>\n",
       "      <td>67.580000</td>\n",
       "      <td>13.000000</td>\n",
       "      <td>24.10000</td>\n",
       "      <td>764.000000</td>\n",
       "      <td>9.000000</td>\n",
       "      <td>4350.252500</td>\n",
       "      <td>67.840000</td>\n",
       "    </tr>\n",
       "    <tr>\n",
       "      <th>max</th>\n",
       "      <td>30620.000000</td>\n",
       "      <td>32767.000000</td>\n",
       "      <td>842.880000</td>\n",
       "      <td>6414.100000</td>\n",
       "      <td>31.000000</td>\n",
       "      <td>1673.800000</td>\n",
       "      <td>474.390000</td>\n",
       "      <td>25.000000</td>\n",
       "      <td>72.20000</td>\n",
       "      <td>1505.000000</td>\n",
       "      <td>12.000000</td>\n",
       "      <td>6049.550000</td>\n",
       "      <td>106.260000</td>\n",
       "    </tr>\n",
       "  </tbody>\n",
       "</table>\n",
       "</div>"
      ],
      "text/plain": [
       "            level_0         index  CO2Intensity  SystemLoadEA           Day  \\\n",
       "count  30284.000000  30284.000000  30284.000000  30284.000000  30284.000000   \n",
       "mean   15297.091203  16427.987881    489.440125   3941.137281     15.477447   \n",
       "std     8853.584742   9479.134687     85.023533    825.164680      8.807416   \n",
       "min        0.000000      0.000000      0.000000   2183.940000      1.000000   \n",
       "25%     7621.750000   8307.750000    433.240000   3239.615000      8.000000   \n",
       "50%    15277.500000  16199.500000    492.185000   3999.465000     15.000000   \n",
       "75%    22974.250000  24831.250000    547.262500   4558.450000     23.000000   \n",
       "max    30620.000000  32767.000000    842.880000   6414.100000     31.000000   \n",
       "\n",
       "       ForecastWindProduction         SMPEA  ORKTemperature  ORKWindspeed  \\\n",
       "count            30284.000000  30284.000000    30284.000000   30284.00000   \n",
       "mean               521.479775     58.829567        9.777440      19.22854   \n",
       "std                402.890764     22.775291        4.489741       9.45169   \n",
       "min                  0.900000      0.000000       -4.000000       0.00000   \n",
       "25%                175.870000     44.910000        7.000000      13.00000   \n",
       "50%                417.995000     53.780000       10.000000      18.50000   \n",
       "75%                807.105000     67.580000       13.000000      24.10000   \n",
       "max               1673.800000    474.390000       25.000000      72.20000   \n",
       "\n",
       "       ActualWindProduction         Month  SystemLoadEP2        SMPEP2  \n",
       "count          30284.000000  30284.000000   30284.000000  30284.000000  \n",
       "mean             500.387994      6.310824    3707.202335     57.565551  \n",
       "std              367.549060      3.414700     802.998897     17.298474  \n",
       "min                1.000000      1.000000    1809.960000      6.510000  \n",
       "25%              187.000000      3.000000    3013.297500     45.110000  \n",
       "50%              423.000000      6.000000    3770.950000     53.860000  \n",
       "75%              764.000000      9.000000    4350.252500     67.840000  \n",
       "max             1505.000000     12.000000    6049.550000    106.260000  "
      ]
     },
     "execution_count": 59,
     "metadata": {},
     "output_type": "execute_result"
    }
   ],
   "source": [
    "cols = ['SMPEP2']\n",
    "Q1=df.quantile(0.20)\n",
    "Q3=df.quantile(0.75)\n",
    "IQR=Q3-Q1\n",
    "df =df[ ~((df[cols] < (Q1 - 1.5 * IQR)) | (df[cols] > (Q3 + 1.5 * IQR))).any(axis=1)].reset_index()\n",
    "df.describe()"
   ]
  },
  {
   "cell_type": "code",
   "execution_count": 60,
   "metadata": {},
   "outputs": [
    {
     "data": {
      "image/png": "[encoded data removed]",
      "text/plain": [
       "<Figure size 1500x800 with 1 Axes>"
      ]
     },
     "metadata": {},
     "output_type": "display_data"
    }
   ],
   "source": [
    "fig,ax=plt.subplots(figsize=(15,8))\n",
    "sns.boxplot(data=df[['SMPEP2']])\n",
    "ax.set_title('total_count outliers')\n",
    "plt.show()"
   ]
  },
  {
   "cell_type": "markdown",
   "metadata": {},
   "source": [
    "## Regression"
   ]
  },
  {
   "cell_type": "code",
   "execution_count": 74,
   "metadata": {},
   "outputs": [],
   "source": [
    "from sklearn.model_selection import train_test_split\n",
    "from sklearn.pipeline import make_pipeline\n",
    "from sklearn.linear_model import LogisticRegression,LinearRegression, Ridge, SGDRegressor,Lasso\n",
    "from sklearn import preprocessing\n",
    "from sklearn import metrics\n",
    "from sklearn.metrics import mean_absolute_error\n",
    "import math\n",
    "from sklearn.preprocessing import PolynomialFeatures\n",
    "from sklearn.model_selection import cross_val_score,cross_val_predict\n",
    "from mlxtend.plotting import plot_learning_curves"
   ]
  },
  {
   "cell_type": "code",
   "execution_count": 75,
   "metadata": {},
   "outputs": [],
   "source": [
    "X = df.drop(['SMPEP2'],axis=1).values\n",
    "y = df['SMPEP2'].values"
   ]
  },
  {
   "cell_type": "code",
   "execution_count": 76,
   "metadata": {},
   "outputs": [],
   "source": [
    "X_train, X_test, y_train, y_test = train_test_split(X, y, test_size = 0.25, random_state = 42)"
   ]
  },
  {
   "cell_type": "code",
   "execution_count": 77,
   "metadata": {},
   "outputs": [],
   "source": [
    "def Model(model):\n",
    "    \n",
    "    print(\"MSE (LinearRegression): \", metrics.mean_squared_error(y_test, y_predict))\n",
    "    print(\"R2_SCORE (LinearRegression): \", metrics.r2_score(y_test, y_predict))\n",
    "    print(\"MAPE (LinearRegression): \", metrics.mean_absolute_percentage_error(y_test, y_predict))"
   ]
  },
  {
   "cell_type": "markdown",
   "metadata": {},
   "source": [
    "## Linear Regression"
   ]
  },
  {
   "cell_type": "code",
   "execution_count": 78,
   "metadata": {},
   "outputs": [],
   "source": [
    "from sklearn import linear_model"
   ]
  },
  {
   "cell_type": "code",
   "execution_count": 79,
   "metadata": {},
   "outputs": [],
   "source": [
    "linear = make_pipeline(preprocessing.StandardScaler(),LinearRegression())\n",
    "linear.fit(X_train, y_train)\n",
    "y_predict= linear.predict(X_test)\n"
   ]
  },
  {
   "cell_type": "code",
   "execution_count": 80,
   "metadata": {},
   "outputs": [
    {
     "name": "stdout",
     "output_type": "stream",
     "text": [
      "MSE (LinearRegression):  158.59895568117292\n",
      "R2_SCORE (LinearRegression):  0.4533062562839848\n",
      "MAPE (LinearRegression):  0.1687416046607068\n"
     ]
    }
   ],
   "source": [
    "Model(linear)"
   ]
  },
  {
   "cell_type": "markdown",
   "metadata": {},
   "source": [
    "## DecisionTree"
   ]
  },
  {
   "cell_type": "code",
   "execution_count": 68,
   "metadata": {},
   "outputs": [],
   "source": [
    "from sklearn.tree import DecisionTreeRegressor"
   ]
  },
  {
   "cell_type": "code",
   "execution_count": 69,
   "metadata": {},
   "outputs": [
    {
     "data": {
      "text/html": [
       "<style>#sk-container-id-1 {color: black;background-color: white;}#sk-container-id-1 pre{padding: 0;}#sk-container-id-1 div.sk-toggleable {background-color: white;}#sk-container-id-1 label.sk-toggleable__label {cursor: pointer;display: block;width: 100%;margin-bottom: 0;padding: 0.3em;box-sizing: border-box;text-align: center;}#sk-container-id-1 label.sk-toggleable__label-arrow:before {content: \"▸\";float: left;margin-right: 0.25em;color: #696969;}#sk-container-id-1 label.sk-toggleable__label-arrow:hover:before {color: black;}#sk-container-id-1 div.sk-estimator:hover label.sk-toggleable__label-arrow:before {color: black;}#sk-container-id-1 div.sk-toggleable__content {max-height: 0;max-width: 0;overflow: hidden;text-align: left;background-color: #f0f8ff;}#sk-container-id-1 div.sk-toggleable__content pre {margin: 0.2em;color: black;border-radius: 0.25em;background-color: #f0f8ff;}#sk-container-id-1 input.sk-toggleable__control:checked~div.sk-toggleable__content {max-height: 200px;max-width: 100%;overflow: auto;}#sk-container-id-1 input.sk-toggleable__control:checked~label.sk-toggleable__label-arrow:before {content: \"▾\";}#sk-container-id-1 div.sk-estimator input.sk-toggleable__control:checked~label.sk-toggleable__label {background-color: #d4ebff;}#sk-container-id-1 div.sk-label input.sk-toggleable__control:checked~label.sk-toggleable__label {background-color: #d4ebff;}#sk-container-id-1 input.sk-hidden--visually {border: 0;clip: rect(1px 1px 1px 1px);clip: rect(1px, 1px, 1px, 1px);height: 1px;margin: -1px;overflow: hidden;padding: 0;position: absolute;width: 1px;}#sk-container-id-1 div.sk-estimator {font-family: monospace;background-color: #f0f8ff;border: 1px dotted black;border-radius: 0.25em;box-sizing: border-box;margin-bottom: 0.5em;}#sk-container-id-1 div.sk-estimator:hover {background-color: #d4ebff;}#sk-container-id-1 div.sk-parallel-item::after {content: \"\";width: 100%;border-bottom: 1px solid gray;flex-grow: 1;}#sk-container-id-1 div.sk-label:hover label.sk-toggleable__label {background-color: #d4ebff;}#sk-container-id-1 div.sk-serial::before {content: \"\";position: absolute;border-left: 1px solid gray;box-sizing: border-box;top: 0;bottom: 0;left: 50%;z-index: 0;}#sk-container-id-1 div.sk-serial {display: flex;flex-direction: column;align-items: center;background-color: white;padding-right: 0.2em;padding-left: 0.2em;position: relative;}#sk-container-id-1 div.sk-item {position: relative;z-index: 1;}#sk-container-id-1 div.sk-parallel {display: flex;align-items: stretch;justify-content: center;background-color: white;position: relative;}#sk-container-id-1 div.sk-item::before, #sk-container-id-1 div.sk-parallel-item::before {content: \"\";position: absolute;border-left: 1px solid gray;box-sizing: border-box;top: 0;bottom: 0;left: 50%;z-index: -1;}#sk-container-id-1 div.sk-parallel-item {display: flex;flex-direction: column;z-index: 1;position: relative;background-color: white;}#sk-container-id-1 div.sk-parallel-item:first-child::after {align-self: flex-end;width: 50%;}#sk-container-id-1 div.sk-parallel-item:last-child::after {align-self: flex-start;width: 50%;}#sk-container-id-1 div.sk-parallel-item:only-child::after {width: 0;}#sk-container-id-1 div.sk-dashed-wrapped {border: 1px dashed gray;margin: 0 0.4em 0.5em 0.4em;box-sizing: border-box;padding-bottom: 0.4em;background-color: white;}#sk-container-id-1 div.sk-label label {font-family: monospace;font-weight: bold;display: inline-block;line-height: 1.2em;}#sk-container-id-1 div.sk-label-container {text-align: center;}#sk-container-id-1 div.sk-container {/* jupyter's `normalize.less` sets `[hidden] { display: none; }` but bootstrap.min.css set `[hidden] { display: none !important; }` so we also need the `!important` here to be able to override the default hidden behavior on the sphinx rendered scikit-learn.org. See: https://github.com/scikit-learn/scikit-learn/issues/21755 */display: inline-block !important;position: relative;}#sk-container-id-1 div.sk-text-repr-fallback {display: none;}</style><div id=\"sk-container-id-1\" class=\"sk-top-container\"><div class=\"sk-text-repr-fallback\"><pre>Pipeline(steps=[(&#x27;standardscaler&#x27;, StandardScaler()),\n",
       "                (&#x27;decisiontreeregressor&#x27;, DecisionTreeRegressor())])</pre><b>In a Jupyter environment, please rerun this cell to show the HTML representation or trust the notebook. <br />On GitHub, the HTML representation is unable to render, please try loading this page with nbviewer.org.</b></div><div class=\"sk-container\" hidden><div class=\"sk-item sk-dashed-wrapped\"><div class=\"sk-label-container\"><div class=\"sk-label sk-toggleable\"><input class=\"sk-toggleable__control sk-hidden--visually\" id=\"sk-estimator-id-1\" type=\"checkbox\" ><label for=\"sk-estimator-id-1\" class=\"sk-toggleable__label sk-toggleable__label-arrow\">Pipeline</label><div class=\"sk-toggleable__content\"><pre>Pipeline(steps=[(&#x27;standardscaler&#x27;, StandardScaler()),\n",
       "                (&#x27;decisiontreeregressor&#x27;, DecisionTreeRegressor())])</pre></div></div></div><div class=\"sk-serial\"><div class=\"sk-item\"><div class=\"sk-estimator sk-toggleable\"><input class=\"sk-toggleable__control sk-hidden--visually\" id=\"sk-estimator-id-2\" type=\"checkbox\" ><label for=\"sk-estimator-id-2\" class=\"sk-toggleable__label sk-toggleable__label-arrow\">StandardScaler</label><div class=\"sk-toggleable__content\"><pre>StandardScaler()</pre></div></div></div><div class=\"sk-item\"><div class=\"sk-estimator sk-toggleable\"><input class=\"sk-toggleable__control sk-hidden--visually\" id=\"sk-estimator-id-3\" type=\"checkbox\" ><label for=\"sk-estimator-id-3\" class=\"sk-toggleable__label sk-toggleable__label-arrow\">DecisionTreeRegressor</label><div class=\"sk-toggleable__content\"><pre>DecisionTreeRegressor()</pre></div></div></div></div></div></div></div>"
      ],
      "text/plain": [
       "Pipeline(steps=[('standardscaler', StandardScaler()),\n",
       "                ('decisiontreeregressor', DecisionTreeRegressor())])"
      ]
     },
     "execution_count": 69,
     "metadata": {},
     "output_type": "execute_result"
    }
   ],
   "source": [
    "dtr=make_pipeline(preprocessing.StandardScaler(),DecisionTreeRegressor())\n",
    "dtr.fit(X_train,y_train)"
   ]
  },
  {
   "cell_type": "code",
   "execution_count": 70,
   "metadata": {},
   "outputs": [],
   "source": [
    "y_predict= dtr.predict(X_test)"
   ]
  },
  {
   "cell_type": "code",
   "execution_count": 71,
   "metadata": {},
   "outputs": [
    {
     "name": "stdout",
     "output_type": "stream",
     "text": [
      "MSE (LinearRegression):  118.78090319640734\n",
      "R2_SCORE (LinearRegression):  0.5905598724057546\n",
      "MAPE (LinearRegression):  0.09828710891227882\n"
     ]
    }
   ],
   "source": [
    "Model(dtr)"
   ]
  },
  {
   "cell_type": "markdown",
   "metadata": {},
   "source": [
    "## Polynomial"
   ]
  },
  {
   "cell_type": "code",
   "execution_count": 72,
   "metadata": {},
   "outputs": [],
   "source": [
    "poly = make_pipeline(preprocessing.StandardScaler(),PolynomialFeatures(degree=3, include_bias=False), \n",
    "              Ridge(alpha=1))\n",
    "poly.fit(X_train, y_train)\n",
    "y_predict= poly.predict(X_test)"
   ]
  },
  {
   "cell_type": "code",
   "execution_count": 73,
   "metadata": {},
   "outputs": [
    {
     "name": "stdout",
     "output_type": "stream",
     "text": [
      "MSE (LinearRegression):  126.43201518386368\n",
      "R2_SCORE (LinearRegression):  0.5641863377374583\n",
      "MAPE (LinearRegression):  0.14777256658932206\n"
     ]
    }
   ],
   "source": [
    "Model(poly)"
   ]
  },
  {
   "cell_type": "markdown",
   "metadata": {},
   "source": [
    "## RandomForestRegressor"
   ]
  },
  {
   "cell_type": "code",
   "execution_count": 82,
   "metadata": {},
   "outputs": [],
   "source": [
    "from sklearn.ensemble import RandomForestRegressor,AdaBoostClassifier"
   ]
  },
  {
   "cell_type": "code",
   "execution_count": 83,
   "metadata": {},
   "outputs": [],
   "source": [
    "random= make_pipeline(preprocessing.StandardScaler(),RandomForestRegressor(min_samples_split=3))\n",
    "random.fit(X_train, y_train)\n",
    "y_predict= random.predict(X_test)"
   ]
  },
  {
   "cell_type": "code",
   "execution_count": 84,
   "metadata": {},
   "outputs": [
    {
     "name": "stdout",
     "output_type": "stream",
     "text": [
      "MSE (LinearRegression):  53.71609635434494\n",
      "R2_SCORE (LinearRegression):  0.8148395511960294\n",
      "MAPE (LinearRegression):  0.08349982965713552\n"
     ]
    }
   ],
   "source": [
    "Model(random)"
   ]
  },
  {
   "cell_type": "markdown",
   "metadata": {},
   "source": [
    "## Gradeint Boosting"
   ]
  },
  {
   "cell_type": "code",
   "execution_count": 85,
   "metadata": {},
   "outputs": [],
   "source": [
    "from sklearn.ensemble import GradientBoostingRegressor"
   ]
  },
  {
   "cell_type": "code",
   "execution_count": 86,
   "metadata": {},
   "outputs": [],
   "source": [
    "gradient= make_pipeline(preprocessing.StandardScaler(),GradientBoostingRegressor(loss='absolute_error', learning_rate=0.5))\n",
    "gradient.fit(X_train, y_train)\n",
    "y_predict= gradient.predict(X_test)"
   ]
  },
  {
   "cell_type": "code",
   "execution_count": 87,
   "metadata": {},
   "outputs": [
    {
     "name": "stdout",
     "output_type": "stream",
     "text": [
      "MSE (LinearRegression):  120.57933118206925\n",
      "R2_SCORE (LinearRegression):  0.5843606554937488\n",
      "MAPE (LinearRegression):  0.12600843988857352\n"
     ]
    }
   ],
   "source": [
    "Model(gradient)"
   ]
  },
  {
   "cell_type": "markdown",
   "metadata": {},
   "source": [
    "## SVM"
   ]
  },
  {
   "cell_type": "code",
   "execution_count": 88,
   "metadata": {},
   "outputs": [],
   "source": [
    "from sklearn.svm import SVR"
   ]
  },
  {
   "cell_type": "code",
   "execution_count": 89,
   "metadata": {},
   "outputs": [],
   "source": [
    "svr=make_pipeline(preprocessing.StandardScaler(),SVR(kernel='rbf'))\n",
    "svr.fit(X_train, y_train)\n",
    "y_predict= svr.predict(X_test)"
   ]
  },
  {
   "cell_type": "code",
   "execution_count": 90,
   "metadata": {},
   "outputs": [
    {
     "name": "stdout",
     "output_type": "stream",
     "text": [
      "MSE (LinearRegression):  140.66908025116948\n",
      "R2_SCORE (LinearRegression):  0.5151108922671837\n",
      "MAPE (LinearRegression):  0.1387119274538769\n"
     ]
    }
   ],
   "source": [
    "Model(svr)"
   ]
  },
  {
   "cell_type": "markdown",
   "metadata": {},
   "source": [
    "به صورت واترمارک کنید و خروجی را ذخیره کنید logo.pngروی عکس یکی از دوستان یا خانواده"
   ]
  }
 ],
 "metadata": {
  "kernelspec": {
   "display_name": "Python 3 (ipykernel)",
   "language": "python",
   "name": "python3"
  },
  "language_info": {
   "codemirror_mode": {
    "name": "ipython",
    "version": 3
   },
   "file_extension": ".py",
   "mimetype": "text/x-python",
   "name": "python",
   "nbconvert_exporter": "python",
   "pygments_lexer": "ipython3",
   "version": "3.9.13"
  },
  "vscode": {
   "interpreter": {
    "hash": "e7370f93d1d0cde622a1f8e1c04877d8463912d04d973331ad4851f04de6915a"
   }
  }
 },
 "nbformat": 4,
 "nbformat_minor": 4
}
