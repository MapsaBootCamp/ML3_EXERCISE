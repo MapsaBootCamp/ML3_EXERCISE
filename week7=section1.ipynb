{
  "nbformat": 4,
  "nbformat_minor": 0,
  "metadata": {
    "colab": {
      "provenance": []
    },
    "kernelspec": {
      "name": "python3",
      "display_name": "Python 3"
    },
    "language_info": {
      "name": "python"
    }
  },
  "cells": [
    {
      "cell_type": "code",
      "source": [
        "import sqlite3\n",
        "import pandas as pd\n",
        "import seaborn as sns"
      ],
      "metadata": {
        "id": "nqoH4CYyWY1u"
      },
      "execution_count": 19,
      "outputs": []
    },
    {
      "cell_type": "code",
      "source": [
        "conn = sqlite3.connect(\"titanic.db\")\n",
        "curs = conn.cursor()\n",
        "curs.execute(\"SELECT name FROM sqlite_master WHERE type='table';\")\n",
        "print(curs.fetchall())"
      ],
      "metadata": {
        "colab": {
          "base_uri": "https://localhost:8080/"
        },
        "id": "BN4jCoiuXcwZ",
        "outputId": "963601cd-b772-4263-f101-0313dd5dd3f7"
      },
      "execution_count": 2,
      "outputs": [
        {
          "output_type": "stream",
          "name": "stdout",
          "text": [
            "[('titanic',)]\n"
          ]
        }
      ]
    },
    {
      "cell_type": "code",
      "source": [
        "query = \"SELECT * FROM titanic\"\n",
        "df = pd.read_sql_query(query, conn)\n",
        "df.head()"
      ],
      "metadata": {
        "colab": {
          "base_uri": "https://localhost:8080/",
          "height": 206
        },
        "id": "NayInXH7Xj-5",
        "outputId": "13cbf99c-707b-4253-f477-82a973a5fbaa"
      },
      "execution_count": 3,
      "outputs": [
        {
          "output_type": "execute_result",
          "data": {
            "text/plain": [
              "  PassengerId Survived Pclass  \\\n",
              "0           1        0      3   \n",
              "1           2        1      1   \n",
              "2           3        1      3   \n",
              "3           4        1      1   \n",
              "4           5        0      3   \n",
              "\n",
              "                                                Name     Sex Age SibSp Parch  \\\n",
              "0                            Braund, Mr. Owen Harris    male  22     1     0   \n",
              "1  Cumings, Mrs. John Bradley (Florence Briggs Th...  female  38     1     0   \n",
              "2                             Heikkinen, Miss. Laina  female  26     0     0   \n",
              "3       Futrelle, Mrs. Jacques Heath (Lily May Peel)  female  35     1     0   \n",
              "4                           Allen, Mr. William Henry    male  35     0     0   \n",
              "\n",
              "             Ticket     Fare Cabin Embarked  \n",
              "0         A/5 21171     7.25  None        S  \n",
              "1          PC 17599  71.2833   C85        C  \n",
              "2  STON/O2. 3101282    7.925  None        S  \n",
              "3            113803     53.1  C123        S  \n",
              "4            373450     8.05  None        S  "
            ],
            "text/html": [
              "\n",
              "  <div id=\"df-1c485321-2dba-4f7f-ac8b-023fc8341c74\">\n",
              "    <div class=\"colab-df-container\">\n",
              "      <div>\n",
              "<style scoped>\n",
              "    .dataframe tbody tr th:only-of-type {\n",
              "        vertical-align: middle;\n",
              "    }\n",
              "\n",
              "    .dataframe tbody tr th {\n",
              "        vertical-align: top;\n",
              "    }\n",
              "\n",
              "    .dataframe thead th {\n",
              "        text-align: right;\n",
              "    }\n",
              "</style>\n",
              "<table border=\"1\" class=\"dataframe\">\n",
              "  <thead>\n",
              "    <tr style=\"text-align: right;\">\n",
              "      <th></th>\n",
              "      <th>PassengerId</th>\n",
              "      <th>Survived</th>\n",
              "      <th>Pclass</th>\n",
              "      <th>Name</th>\n",
              "      <th>Sex</th>\n",
              "      <th>Age</th>\n",
              "      <th>SibSp</th>\n",
              "      <th>Parch</th>\n",
              "      <th>Ticket</th>\n",
              "      <th>Fare</th>\n",
              "      <th>Cabin</th>\n",
              "      <th>Embarked</th>\n",
              "    </tr>\n",
              "  </thead>\n",
              "  <tbody>\n",
              "    <tr>\n",
              "      <th>0</th>\n",
              "      <td>1</td>\n",
              "      <td>0</td>\n",
              "      <td>3</td>\n",
              "      <td>Braund, Mr. Owen Harris</td>\n",
              "      <td>male</td>\n",
              "      <td>22</td>\n",
              "      <td>1</td>\n",
              "      <td>0</td>\n",
              "      <td>A/5 21171</td>\n",
              "      <td>7.25</td>\n",
              "      <td>None</td>\n",
              "      <td>S</td>\n",
              "    </tr>\n",
              "    <tr>\n",
              "      <th>1</th>\n",
              "      <td>2</td>\n",
              "      <td>1</td>\n",
              "      <td>1</td>\n",
              "      <td>Cumings, Mrs. John Bradley (Florence Briggs Th...</td>\n",
              "      <td>female</td>\n",
              "      <td>38</td>\n",
              "      <td>1</td>\n",
              "      <td>0</td>\n",
              "      <td>PC 17599</td>\n",
              "      <td>71.2833</td>\n",
              "      <td>C85</td>\n",
              "      <td>C</td>\n",
              "    </tr>\n",
              "    <tr>\n",
              "      <th>2</th>\n",
              "      <td>3</td>\n",
              "      <td>1</td>\n",
              "      <td>3</td>\n",
              "      <td>Heikkinen, Miss. Laina</td>\n",
              "      <td>female</td>\n",
              "      <td>26</td>\n",
              "      <td>0</td>\n",
              "      <td>0</td>\n",
              "      <td>STON/O2. 3101282</td>\n",
              "      <td>7.925</td>\n",
              "      <td>None</td>\n",
              "      <td>S</td>\n",
              "    </tr>\n",
              "    <tr>\n",
              "      <th>3</th>\n",
              "      <td>4</td>\n",
              "      <td>1</td>\n",
              "      <td>1</td>\n",
              "      <td>Futrelle, Mrs. Jacques Heath (Lily May Peel)</td>\n",
              "      <td>female</td>\n",
              "      <td>35</td>\n",
              "      <td>1</td>\n",
              "      <td>0</td>\n",
              "      <td>113803</td>\n",
              "      <td>53.1</td>\n",
              "      <td>C123</td>\n",
              "      <td>S</td>\n",
              "    </tr>\n",
              "    <tr>\n",
              "      <th>4</th>\n",
              "      <td>5</td>\n",
              "      <td>0</td>\n",
              "      <td>3</td>\n",
              "      <td>Allen, Mr. William Henry</td>\n",
              "      <td>male</td>\n",
              "      <td>35</td>\n",
              "      <td>0</td>\n",
              "      <td>0</td>\n",
              "      <td>373450</td>\n",
              "      <td>8.05</td>\n",
              "      <td>None</td>\n",
              "      <td>S</td>\n",
              "    </tr>\n",
              "  </tbody>\n",
              "</table>\n",
              "</div>\n",
              "      <button class=\"colab-df-convert\" onclick=\"convertToInteractive('df-1c485321-2dba-4f7f-ac8b-023fc8341c74')\"\n",
              "              title=\"Convert this dataframe to an interactive table.\"\n",
              "              style=\"display:none;\">\n",
              "        \n",
              "  <svg xmlns=\"http://www.w3.org/2000/svg\" height=\"24px\"viewBox=\"0 0 24 24\"\n",
              "       width=\"24px\">\n",
              "    <path d=\"M0 0h24v24H0V0z\" fill=\"none\"/>\n",
              "    <path d=\"M18.56 5.44l.94 2.06.94-2.06 2.06-.94-2.06-.94-.94-2.06-.94 2.06-2.06.94zm-11 1L8.5 8.5l.94-2.06 2.06-.94-2.06-.94L8.5 2.5l-.94 2.06-2.06.94zm10 10l.94 2.06.94-2.06 2.06-.94-2.06-.94-.94-2.06-.94 2.06-2.06.94z\"/><path d=\"M17.41 7.96l-1.37-1.37c-.4-.4-.92-.59-1.43-.59-.52 0-1.04.2-1.43.59L10.3 9.45l-7.72 7.72c-.78.78-.78 2.05 0 2.83L4 21.41c.39.39.9.59 1.41.59.51 0 1.02-.2 1.41-.59l7.78-7.78 2.81-2.81c.8-.78.8-2.07 0-2.86zM5.41 20L4 18.59l7.72-7.72 1.47 1.35L5.41 20z\"/>\n",
              "  </svg>\n",
              "      </button>\n",
              "      \n",
              "  <style>\n",
              "    .colab-df-container {\n",
              "      display:flex;\n",
              "      flex-wrap:wrap;\n",
              "      gap: 12px;\n",
              "    }\n",
              "\n",
              "    .colab-df-convert {\n",
              "      background-color: #E8F0FE;\n",
              "      border: none;\n",
              "      border-radius: 50%;\n",
              "      cursor: pointer;\n",
              "      display: none;\n",
              "      fill: #1967D2;\n",
              "      height: 32px;\n",
              "      padding: 0 0 0 0;\n",
              "      width: 32px;\n",
              "    }\n",
              "\n",
              "    .colab-df-convert:hover {\n",
              "      background-color: #E2EBFA;\n",
              "      box-shadow: 0px 1px 2px rgba(60, 64, 67, 0.3), 0px 1px 3px 1px rgba(60, 64, 67, 0.15);\n",
              "      fill: #174EA6;\n",
              "    }\n",
              "\n",
              "    [theme=dark] .colab-df-convert {\n",
              "      background-color: #3B4455;\n",
              "      fill: #D2E3FC;\n",
              "    }\n",
              "\n",
              "    [theme=dark] .colab-df-convert:hover {\n",
              "      background-color: #434B5C;\n",
              "      box-shadow: 0px 1px 3px 1px rgba(0, 0, 0, 0.15);\n",
              "      filter: drop-shadow(0px 1px 2px rgba(0, 0, 0, 0.3));\n",
              "      fill: #FFFFFF;\n",
              "    }\n",
              "  </style>\n",
              "\n",
              "      <script>\n",
              "        const buttonEl =\n",
              "          document.querySelector('#df-1c485321-2dba-4f7f-ac8b-023fc8341c74 button.colab-df-convert');\n",
              "        buttonEl.style.display =\n",
              "          google.colab.kernel.accessAllowed ? 'block' : 'none';\n",
              "\n",
              "        async function convertToInteractive(key) {\n",
              "          const element = document.querySelector('#df-1c485321-2dba-4f7f-ac8b-023fc8341c74');\n",
              "          const dataTable =\n",
              "            await google.colab.kernel.invokeFunction('convertToInteractive',\n",
              "                                                     [key], {});\n",
              "          if (!dataTable) return;\n",
              "\n",
              "          const docLinkHtml = 'Like what you see? Visit the ' +\n",
              "            '<a target=\"_blank\" href=https://colab.research.google.com/notebooks/data_table.ipynb>data table notebook</a>'\n",
              "            + ' to learn more about interactive tables.';\n",
              "          element.innerHTML = '';\n",
              "          dataTable['output_type'] = 'display_data';\n",
              "          await google.colab.output.renderOutput(dataTable, element);\n",
              "          const docLink = document.createElement('div');\n",
              "          docLink.innerHTML = docLinkHtml;\n",
              "          element.appendChild(docLink);\n",
              "        }\n",
              "      </script>\n",
              "    </div>\n",
              "  </div>\n",
              "  "
            ]
          },
          "metadata": {},
          "execution_count": 3
        }
      ]
    },
    {
      "cell_type": "markdown",
      "source": [
        "### a. What is the average age of passengers who survived? Group the data by Sex. Display only the column Sex, AverageAge"
      ],
      "metadata": {
        "id": "pbe1XciW0LpF"
      }
    },
    {
      "cell_type": "code",
      "source": [
        "curs.execute(\"SELECT Sex, AVG(Age) FROM titanic WHERE Survived= 1 GROUP BY Sex\")\n",
        "curs.fetchall()"
      ],
      "metadata": {
        "colab": {
          "base_uri": "https://localhost:8080/"
        },
        "id": "XaiWGRynZwJg",
        "outputId": "903f6c5f-e275-4c08-9867-c270bf38192a"
      },
      "execution_count": 4,
      "outputs": [
        {
          "output_type": "execute_result",
          "data": {
            "text/plain": [
              "[('female', 28.84771573604061), ('male', 27.276021505376345)]"
            ]
          },
          "metadata": {},
          "execution_count": 4
        }
      ]
    },
    {
      "cell_type": "markdown",
      "source": [
        "### b. What is the percentage of passengers who survived in each Passenger Class or Pclass? Group the data by Sex. Display Pclass, Sex, percentage value."
      ],
      "metadata": {
        "id": "CnaVzS5-0P27"
      }
    },
    {
      "cell_type": "code",
      "source": [
        "curs.execute(\"SELECT Pclass,Sex, AVG(Survived=1)*100 FROM titanic GROUP BY Pclass, Sex\")\n",
        "curs.fetchall()"
      ],
      "metadata": {
        "colab": {
          "base_uri": "https://localhost:8080/"
        },
        "id": "e96fHQYxbkHf",
        "outputId": "3e6eb318-bec1-4284-c8a5-f4727303c0a1"
      },
      "execution_count": 5,
      "outputs": [
        {
          "output_type": "execute_result",
          "data": {
            "text/plain": [
              "[('1', 'female', 96.80851063829788),\n",
              " ('1', 'male', 36.885245901639344),\n",
              " ('2', 'female', 92.10526315789474),\n",
              " ('2', 'male', 15.74074074074074),\n",
              " ('3', 'female', 50.0),\n",
              " ('3', 'male', 13.544668587896252)]"
            ]
          },
          "metadata": {},
          "execution_count": 5
        }
      ]
    },
    {
      "cell_type": "markdown",
      "source": [
        "### c. What is the average age of all the passenger (survived and not survived)? Group the data by Pclass, Sex, Survived. After that use seaborn to generate a line plot to show average age vs pclass, facet by sex and color it by survived"
      ],
      "metadata": {
        "id": "13aUb2uN0ks1"
      }
    },
    {
      "cell_type": "code",
      "source": [
        "curs.execute(\"SELECT AVG(Age) FROM titanic\")\n",
        "curs.fetchall()"
      ],
      "metadata": {
        "colab": {
          "base_uri": "https://localhost:8080/"
        },
        "id": "8YP98Z8WKjLI",
        "outputId": "d3c3eeaa-88bb-486f-ec75-4bf453d96813"
      },
      "execution_count": 18,
      "outputs": [
        {
          "output_type": "execute_result",
          "data": {
            "text/plain": [
              "[(29.69911764705882,)]"
            ]
          },
          "metadata": {},
          "execution_count": 18
        }
      ]
    },
    {
      "cell_type": "code",
      "source": [
        "curs.execute(\"SELECT Pclass, Sex, Survived, AVG(Age) FROM titanic GROUP BY Pclass, Sex, survived\")\n",
        "curs.fetchall()"
      ],
      "metadata": {
        "colab": {
          "base_uri": "https://localhost:8080/"
        },
        "id": "bd6pi-6Rp3ld",
        "outputId": "b2662808-7f78-4b46-cb94-fa61cfb5b3b1"
      },
      "execution_count": 24,
      "outputs": [
        {
          "output_type": "execute_result",
          "data": {
            "text/plain": [
              "[('1', 'female', '0', 25.666666666666668),\n",
              " ('1', 'female', '1', 34.9390243902439),\n",
              " ('1', 'male', '0', 44.58196721311475),\n",
              " ('1', 'male', '1', 36.248000000000005),\n",
              " ('2', 'female', '0', 36.0),\n",
              " ('2', 'female', '1', 28.080882352941178),\n",
              " ('2', 'male', '0', 33.36904761904762),\n",
              " ('2', 'male', '1', 16.022),\n",
              " ('3', 'female', '0', 23.818181818181817),\n",
              " ('3', 'female', '1', 19.329787234042552),\n",
              " ('3', 'male', '0', 27.25581395348837),\n",
              " ('3', 'male', '1', 22.274210526315787)]"
            ]
          },
          "metadata": {},
          "execution_count": 24
        }
      ]
    },
    {
      "cell_type": "markdown",
      "source": [
        "### d. What is the name, age, sex and pclass of the 5 oldest and 5 youngest persons who died?"
      ],
      "metadata": {
        "id": "iWMxyJ_S0tSS"
      }
    },
    {
      "cell_type": "code",
      "source": [
        "curs.execute(\"SELECT Name, Age, Sex, Pclass FROM titanic WHERE AGE IS NOT NULL AND SURVIVED=0 ORDER BY CAST(Age AS INSIGNED) ASC LIMIT 5\")\n",
        "curs.fetchall()"
      ],
      "metadata": {
        "id": "62FS32ycqWzD",
        "colab": {
          "base_uri": "https://localhost:8080/"
        },
        "outputId": "b0473c4e-fa0b-4814-9dd6-f7c3ee8c1ea1"
      },
      "execution_count": 20,
      "outputs": [
        {
          "output_type": "execute_result",
          "data": {
            "text/plain": [
              "[('Panula, Master. Eino Viljami', '1', 'male', '3'),\n",
              " ('Goodwin, Master. Sidney Leonard', '1', 'male', '3'),\n",
              " ('Palsson, Master. Gosta Leonard', '2', 'male', '3'),\n",
              " ('Rice, Master. Eugene', '2', 'male', '3'),\n",
              " ('Andersson, Miss. Ellis Anna Maria', '2', 'female', '3')]"
            ]
          },
          "metadata": {},
          "execution_count": 20
        }
      ]
    },
    {
      "cell_type": "code",
      "source": [
        "curs.execute(\"SELECT Name, Age, Sex, Pclass FROM titanic WHERE AGE IS NOT NULL AND SURVIVED=0 ORDER BY CAST(Age AS INSIGNED) DESC LIMIT 5\")\n",
        "curs.fetchall()"
      ],
      "metadata": {
        "colab": {
          "base_uri": "https://localhost:8080/"
        },
        "id": "ty4Pal01KIbC",
        "outputId": "cbdfac15-ed1c-4e19-9ea4-256cb64a01b2"
      },
      "execution_count": 16,
      "outputs": [
        {
          "output_type": "execute_result",
          "data": {
            "text/plain": [
              "[('Svensson, Mr. Johan', '74', 'male', '3'),\n",
              " ('Goldschmidt, Mr. George B', '71', 'male', '1'),\n",
              " ('Artagaveytia, Mr. Ramon', '71', 'male', '1'),\n",
              " ('Connors, Mr. Patrick', '70.5', 'male', '3'),\n",
              " ('Mitchell, Mr. Henry Michael', '70', 'male', '2')]"
            ]
          },
          "metadata": {},
          "execution_count": 16
        }
      ]
    },
    {
      "cell_type": "markdown",
      "source": [
        "### e. On average which Passenger Class is more expensive?"
      ],
      "metadata": {
        "id": "uqIPSveP0wtl"
      }
    },
    {
      "cell_type": "code",
      "source": [
        "curs.execute(\"SELECT Pclass, AVG(Fare) FROM titanic GROUP BY Pclass\")\n",
        "curs.fetchall()"
      ],
      "metadata": {
        "colab": {
          "base_uri": "https://localhost:8080/"
        },
        "id": "CX2ybIJKuhpx",
        "outputId": "2f045659-ddb3-4736-f50d-743f2f340c04"
      },
      "execution_count": 7,
      "outputs": [
        {
          "output_type": "execute_result",
          "data": {
            "text/plain": [
              "[('1', 84.15468749999992), ('2', 20.66218315217391), ('3', 13.675550101832997)]"
            ]
          },
          "metadata": {},
          "execution_count": 7
        }
      ]
    }
  ]
}