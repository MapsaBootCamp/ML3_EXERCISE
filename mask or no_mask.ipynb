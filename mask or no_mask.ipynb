{
 "cells": [
  {
   "cell_type": "code",
   "execution_count": null,
   "id": "d65b7bc2",
   "metadata": {},
   "outputs": [],
   "source": [
    "# ProjectGurukul Face mask Detector\n",
    "\n",
    "  #Import necessary packages\n",
    "import cv2\n",
    "import uuid\n",
    "import mediapipe as mp"
   ]
  },
  {
   "cell_type": "code",
   "execution_count": 32,
   "id": "1f5c98e4",
   "metadata": {},
   "outputs": [],
   "source": [
    "# Define mediapipe Face detector\n",
    "face_detection = mp.solutions.face_detection.FaceDetection()"
   ]
  },
  {
   "cell_type": "code",
   "execution_count": 33,
   "id": "915192a1",
   "metadata": {},
   "outputs": [],
   "source": [
    "# Detection function for Face Mask Detection\n",
    "def get_detection(frame):\n",
    "    \n",
    "    height, width, channel = frame.shape\n",
    "    # Convert frame BGR to RGB colorspace\n",
    "    imgRGB = cv2.cvtColor(frame, cv2.COLOR_BGR2RGB)\n",
    "    # Detect results from the frame\n",
    "    result = face_detection.process(imgRGB)\n",
    "    # Extract data from result\n",
    "    try:\n",
    "        for count, detection in enumerate(result.detections):\n",
    "        # print(detection)\n",
    "        # Extract bounding box information\n",
    "            box = detection.location_data.relative_bounding_box\n",
    "            x, y, w, h = int(box.xmin*width), int(box.ymin * height),int(box.width*width), int(box.height*height)\n",
    "          \n",
    "    # If detection is not available then pass\n",
    "    except:\n",
    "        pass\n",
    "    return x, y, w, h"
   ]
  },
  {
   "cell_type": "code",
   "execution_count": 35,
   "id": "9d6b8d02",
   "metadata": {},
   "outputs": [],
   "source": [
    "cap = cv2.VideoCapture(0)"
   ]
  },
  {
   "cell_type": "code",
   "execution_count": 36,
   "id": "309308ec",
   "metadata": {},
   "outputs": [
    {
     "name": "stderr",
     "output_type": "stream",
     "text": [
      "Warning: Ignoring XDG_SESSION_TYPE=wayland on Gnome. Use QT_QPA_PLATFORM=wayland to run on Wayland anyway.\n"
     ]
    }
   ],
   "source": [
    "count = 0\n",
    "class_path = 'mask'\n",
    "while True:\n",
    "    _, frame = cap.read()\n",
    "    img = frame.copy()\n",
    "    try:\n",
    "        # Make detection\n",
    "        x, y, w, h = get_detection(frame)\n",
    "        cv2.rectangle(frame, (x, y), (x+w, y+h), (0, 0, 255), 2)\n",
    "\n",
    "        # Crop only the face part from the frame\n",
    "        crop_img = img[y:y+h, x:x+w]\n",
    "        filename = \"Data/\"+class_path+\"/\"+str(uuid.uuid4())+\".jpg\"\n",
    "\n",
    "        # Save the image to the destination path\n",
    "        cv2.imwrite(filename, crop_img)\n",
    "        cv2.imshow(\"frame\", crop_img)\n",
    "        count+=1\n",
    "    except:\n",
    "        pass\n",
    "    if cv2.waitKey(1) == ord('q') or count>=500:\n",
    "        break\n",
    "\n",
    "cap.release()\n",
    "cv2.destroyAllWindows()"
   ]
  },
  {
   "cell_type": "code",
   "execution_count": 37,
   "id": "15c7133b",
   "metadata": {},
   "outputs": [],
   "source": [
    "# import necessary packages\n",
    "import os\n",
    "import cv2\n",
    "import time\n",
    "from tqdm import tqdm\n",
    "import numpy as np\n",
    "import tensorflow as tf\n",
    "from sklearn.model_selection import train_test_split\n",
    "from tensorflow.keras.models import Sequential, load_model\n",
    "from tensorflow.keras.layers import Conv2D, Dense, MaxPooling2D, Flatten, Activation, Dropout"
   ]
  },
  {
   "cell_type": "code",
   "execution_count": 39,
   "id": "8ecc7c83",
   "metadata": {},
   "outputs": [
    {
     "name": "stdout",
     "output_type": "stream",
     "text": [
      "['mask', 'no_mask']\n"
     ]
    }
   ],
   "source": [
    "img_size = 100\n",
    "datadir = r'data'  # root data directory\n",
    "CATEGORIES = os.listdir(datadir)\n",
    "print(CATEGORIES)"
   ]
  },
  {
   "cell_type": "code",
   "execution_count": 41,
   "id": "254ec987",
   "metadata": {},
   "outputs": [
    {
     "name": "stdout",
     "output_type": "stream",
     "text": [
      "data/mask\n"
     ]
    },
    {
     "name": "stderr",
     "output_type": "stream",
     "text": [
      "100%|███████████████████████████████████████| 1000/1000 [00:16<00:00, 61.08it/s]\n"
     ]
    },
    {
     "name": "stdout",
     "output_type": "stream",
     "text": [
      "data/no_mask\n"
     ]
    },
    {
     "name": "stderr",
     "output_type": "stream",
     "text": [
      "100%|██████████████████████████████████████| 1000/1000 [00:06<00:00, 165.97it/s]\n"
     ]
    }
   ],
   "source": [
    "['no_mask', 'mask']\n",
    "    # Define two empty list to contain image data\n",
    "x, y = [], []\n",
    "   \n",
    "def PreProcess():\n",
    "    for category in CATEGORIES:\n",
    "        path = os.path.join(datadir, category)\n",
    "        classIndex = CATEGORIES.index(category)\n",
    "        print(path)\n",
    "        for imgs in tqdm(os.listdir(path)):\n",
    "            img_arr = cv2.imread(os.path.join(path, imgs))\n",
    "\n",
    "              # resize the image\n",
    "            resized_array = cv2.resize(img_arr, (img_size,img_size))\n",
    "            cv2.imshow(\"images\", resized_array)\n",
    "            cv2.waitKey(1)\n",
    "            resized_array = resized_array/255.0\n",
    "            x.append(resized_array)\n",
    "            y.append(classIndex)\n",
    "          \n",
    "PreProcess()\n",
    "cv2.destroyAllWindows()"
   ]
  },
  {
   "cell_type": "code",
   "execution_count": 42,
   "id": "4d0bcab1",
   "metadata": {},
   "outputs": [],
   "source": [
    "# Split data for training and testing\n",
    "X_train, X_test, y_train, y_test = train_test_split(x, y, test_size=0.20,random_state=42)\n",
    "  # Convert and resize the data to a numpy array\n",
    "X_train = np.array(X_train).reshape(-1, img_size, img_size, 3)\n",
    "y_train = np.array(y_train)\n",
    "X_test = np.array(X_test).reshape(-1, img_size, img_size, 3)\n",
    "y_test = np.array(y_test)"
   ]
  },
  {
   "cell_type": "code",
   "execution_count": 43,
   "id": "8e4815df",
   "metadata": {},
   "outputs": [
    {
     "name": "stderr",
     "output_type": "stream",
     "text": [
      "2023-03-05 10:41:37.499751: W tensorflow/compiler/xla/stream_executor/platform/default/dso_loader.cc:64] Could not load dynamic library 'libcuda.so.1'; dlerror: libcuda.so.1: cannot open shared object file: No such file or directory; LD_LIBRARY_PATH: /home/cmos/.local/lib/python3.10/site-packages/cv2/../../lib64:\n",
      "2023-03-05 10:41:37.537562: W tensorflow/compiler/xla/stream_executor/cuda/cuda_driver.cc:265] failed call to cuInit: UNKNOWN ERROR (303)\n",
      "2023-03-05 10:41:37.548789: I tensorflow/compiler/xla/stream_executor/cuda/cuda_diagnostics.cc:156] kernel driver does not appear to be running on this host (cmos-HP-ProBook-4540s): /proc/driver/nvidia/version does not exist\n"
     ]
    },
    {
     "name": "stdout",
     "output_type": "stream",
     "text": [
      "Model: \"sequential\"\n",
      "_________________________________________________________________\n",
      " Layer (type)                Output Shape              Param #   \n",
      "=================================================================\n",
      " conv2d (Conv2D)             (None, 98, 98, 64)        1792      \n",
      "                                                                 \n",
      " activation (Activation)     (None, 98, 98, 64)        0         \n",
      "                                                                 \n",
      " max_pooling2d (MaxPooling2D  (None, 49, 49, 64)       0         \n",
      " )                                                               \n",
      "                                                                 \n",
      " conv2d_1 (Conv2D)           (None, 47, 47, 256)       147712    \n",
      "                                                                 \n",
      " activation_1 (Activation)   (None, 47, 47, 256)       0         \n",
      "                                                                 \n",
      " max_pooling2d_1 (MaxPooling  (None, 23, 23, 256)      0         \n",
      " 2D)                                                             \n",
      "                                                                 \n",
      " conv2d_2 (Conv2D)           (None, 21, 21, 128)       295040    \n",
      "                                                                 \n",
      " activation_2 (Activation)   (None, 21, 21, 128)       0         \n",
      "                                                                 \n",
      " dropout (Dropout)           (None, 21, 21, 128)       0         \n",
      "                                                                 \n",
      " conv2d_3 (Conv2D)           (None, 19, 19, 32)        36896     \n",
      "                                                                 \n",
      " activation_3 (Activation)   (None, 19, 19, 32)        0         \n",
      "                                                                 \n",
      " max_pooling2d_2 (MaxPooling  (None, 9, 9, 32)         0         \n",
      " 2D)                                                             \n",
      "                                                                 \n",
      " dropout_1 (Dropout)         (None, 9, 9, 32)          0         \n",
      "                                                                 \n",
      " flatten (Flatten)           (None, 2592)              0         \n",
      "                                                                 \n",
      " dense (Dense)               (None, 100)               259300    \n",
      "                                                                 \n",
      " dense_1 (Dense)             (None, 16)                1616      \n",
      "                                                                 \n",
      " dense_2 (Dense)             (None, 2)                 34        \n",
      "                                                                 \n",
      " activation_4 (Activation)   (None, 2)                 0         \n",
      "                                                                 \n",
      "=================================================================\n",
      "Total params: 742,390\n",
      "Trainable params: 742,390\n",
      "Non-trainable params: 0\n",
      "_________________________________________________________________\n"
     ]
    }
   ],
   "source": [
    "# Create the model architecture \n",
    "model = Sequential()\n",
    "model.add(Conv2D(64,(3, 3), input_shape=(img_size, img_size, 3)))\n",
    "model.add(Activation('relu'))\n",
    "model.add(MaxPooling2D(pool_size = (2, 2)))\n",
    "model.add(Conv2D(256, (3, 3)))\n",
    "model.add(Activation('relu'))\n",
    "model.add(MaxPooling2D(pool_size = (2, 2)))\n",
    "model.add(Conv2D(128, (3, 3)))\n",
    "model.add(Activation('relu'))\n",
    "model.add(Dropout(0.25))\n",
    "model.add(Conv2D(32, (3, 3)))\n",
    "model.add(Activation('relu'))\n",
    "model.add(MaxPooling2D(pool_size = (2, 2)))\n",
    "model.add(Dropout(0.25))\n",
    "model.add(Flatten())\n",
    "model.add(Dense(100, activation='relu'))\n",
    "model.add(Dense(16, activation='relu'))\n",
    "model.add(Dense(len(CATEGORIES)))\n",
    "model.add(Activation('softmax'))\n",
    "# compile the model\n",
    "model.compile(optimizer='adam', loss = 'sparse_categorical_crossentropy', \n",
    "metrics=['accuracy'])\n",
    "model.summary()"
   ]
  },
  {
   "cell_type": "code",
   "execution_count": 44,
   "id": "120b61dc",
   "metadata": {},
   "outputs": [
    {
     "name": "stderr",
     "output_type": "stream",
     "text": [
      "2023-03-05 10:42:03.291532: W tensorflow/tsl/framework/cpu_allocator_impl.cc:82] Allocation of 134400000 exceeds 10% of free system memory.\n"
     ]
    },
    {
     "name": "stdout",
     "output_type": "stream",
     "text": [
      "Epoch 1/15\n"
     ]
    },
    {
     "name": "stderr",
     "output_type": "stream",
     "text": [
      "2023-03-05 10:42:10.722506: W tensorflow/tsl/framework/cpu_allocator_impl.cc:82] Allocation of 78675968 exceeds 10% of free system memory.\n",
      "2023-03-05 10:42:11.447328: W tensorflow/tsl/framework/cpu_allocator_impl.cc:82] Allocation of 19668992 exceeds 10% of free system memory.\n",
      "2023-03-05 10:42:11.520103: W tensorflow/tsl/framework/cpu_allocator_impl.cc:82] Allocation of 72384512 exceeds 10% of free system memory.\n",
      "2023-03-05 10:42:12.179312: W tensorflow/tsl/framework/cpu_allocator_impl.cc:82] Allocation of 17334272 exceeds 10% of free system memory.\n"
     ]
    },
    {
     "name": "stdout",
     "output_type": "stream",
     "text": [
      "35/35 [==============================] - 110s 3s/step - loss: 0.4471 - accuracy: 0.7955 - val_loss: 0.4047 - val_accuracy: 0.8417\n",
      "Epoch 2/15\n",
      "35/35 [==============================] - 100s 3s/step - loss: 0.2256 - accuracy: 0.9170 - val_loss: 0.2746 - val_accuracy: 0.8854\n",
      "Epoch 3/15\n",
      "35/35 [==============================] - 94s 3s/step - loss: 0.2091 - accuracy: 0.9304 - val_loss: 0.2438 - val_accuracy: 0.9021\n",
      "Epoch 4/15\n",
      "35/35 [==============================] - 99s 3s/step - loss: 0.2173 - accuracy: 0.9196 - val_loss: 0.2729 - val_accuracy: 0.8917\n",
      "Epoch 5/15\n",
      "35/35 [==============================] - 99s 3s/step - loss: 0.1876 - accuracy: 0.9330 - val_loss: 0.1801 - val_accuracy: 0.9375\n",
      "Epoch 6/15\n",
      "35/35 [==============================] - 99s 3s/step - loss: 0.1688 - accuracy: 0.9393 - val_loss: 0.1427 - val_accuracy: 0.9417\n",
      "Epoch 7/15\n",
      "35/35 [==============================] - 93s 3s/step - loss: 0.1246 - accuracy: 0.9554 - val_loss: 0.1924 - val_accuracy: 0.9187\n",
      "Epoch 8/15\n",
      "35/35 [==============================] - 98s 3s/step - loss: 0.1501 - accuracy: 0.9464 - val_loss: 0.1502 - val_accuracy: 0.9500\n",
      "Epoch 9/15\n",
      "35/35 [==============================] - 94s 3s/step - loss: 0.1540 - accuracy: 0.9500 - val_loss: 0.1511 - val_accuracy: 0.9396\n",
      "Epoch 10/15\n",
      "35/35 [==============================] - 97s 3s/step - loss: 0.1289 - accuracy: 0.9598 - val_loss: 0.0985 - val_accuracy: 0.9542\n",
      "Epoch 11/15\n",
      "35/35 [==============================] - 96s 3s/step - loss: 0.1166 - accuracy: 0.9527 - val_loss: 0.1241 - val_accuracy: 0.9375\n",
      "Epoch 12/15\n",
      "35/35 [==============================] - 102s 3s/step - loss: 0.0979 - accuracy: 0.9616 - val_loss: 0.1519 - val_accuracy: 0.9479\n",
      "Epoch 13/15\n",
      "35/35 [==============================] - 101s 3s/step - loss: 0.1082 - accuracy: 0.9563 - val_loss: 0.1195 - val_accuracy: 0.9479\n",
      "Epoch 14/15\n",
      "35/35 [==============================] - 93s 3s/step - loss: 0.1090 - accuracy: 0.9607 - val_loss: 0.1150 - val_accuracy: 0.9604\n",
      "Epoch 15/15\n",
      "35/35 [==============================] - 103s 3s/step - loss: 0.0819 - accuracy: 0.9696 - val_loss: 0.0925 - val_accuracy: 0.9583\n",
      "Time taken:  1531.6008491516113\n"
     ]
    }
   ],
   "source": [
    "batch_size = 32\n",
    "epochs = 15\n",
    "t1 = time.time()\n",
    "# fit the model\n",
    "model.fit(X_train, y_train, batch_size = batch_size, epochs=epochs,\n",
    "validation_split=0.3, verbose = 1)\n",
    "model.save('{}.h5'.format(\"model\"))\n",
    "t2 = time.time()\n",
    "print('Time taken: ',t2-t1)"
   ]
  },
  {
   "cell_type": "code",
   "execution_count": 45,
   "id": "6fc7d2d9",
   "metadata": {},
   "outputs": [
    {
     "name": "stdout",
     "output_type": "stream",
     "text": [
      "13/13 [==============================] - 11s 742ms/step - loss: 0.1753 - accuracy: 0.9500\n"
     ]
    }
   ],
   "source": [
    "validation_loss, validation_accuracy = model.evaluate(X_test, y_test)"
   ]
  },
  {
   "cell_type": "code",
   "execution_count": null,
   "id": "b7addd8a",
   "metadata": {},
   "outputs": [],
   "source": [
    "from tensorflow.keras.models import load_model\n",
    "\n",
    "# load the model\n",
    "model = load_model('model.h5')"
   ]
  },
  {
   "cell_type": "code",
   "execution_count": null,
   "id": "e0598bc4",
   "metadata": {},
   "outputs": [],
   "source": [
    "CATEGORIES = ['no_mask', 'mask']\n",
    "cap = cv2.VideoCapture(0)\n",
    "while True:\n",
    "    _, frame = cap.read()\n",
    "    img = frame.copy()\n",
    "    try:\n",
    "        x, y, w, h = get_detection(frame)\n",
    "        crop_img = img[y:y+h, x:x+w]\n",
    "        crop_img = cv2.resize(crop_img, (100, 100))\n",
    "        crop_img = np.expand_dims(crop_img, axis=0)\n",
    "        prediction = model.predict(crop_img)\n",
    "        index = np.argmax(prediction)\n",
    "        res = CATEGORIES[index]\n",
    "        if index == 0:\n",
    "            color = (0, 0, 255)\n",
    "        else:\n",
    "            color = (0, 255, 0)\n",
    "        cv2.rectangle(frame, (x, y), (x+w, y+h), color, 2)\n",
    "        cv2.putText(frame, res, (x, y-10), cv2.FONT_HERSHEY_SIMPLEX,0.8, color, 2, cv2.LINE_AA)\n",
    "    except:\n",
    "        pass\n",
    "\n",
    "    cv2.imshow(\"frame\", frame)\n",
    "    if cv2.waitKey(1) == ord('q'):\n",
    "        break"
   ]
  },
  {
   "cell_type": "code",
   "execution_count": null,
   "id": "80e9a229",
   "metadata": {},
   "outputs": [],
   "source": []
  }
 ],
 "metadata": {
  "kernelspec": {
   "display_name": "Python 3 (ipykernel)",
   "language": "python",
   "name": "python3"
  },
  "language_info": {
   "codemirror_mode": {
    "name": "ipython",
    "version": 3
   },
   "file_extension": ".py",
   "mimetype": "text/x-python",
   "name": "python",
   "nbconvert_exporter": "python",
   "pygments_lexer": "ipython3",
   "version": "3.10.6"
  }
 },
 "nbformat": 4,
 "nbformat_minor": 5
}
