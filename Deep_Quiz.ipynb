{
  "nbformat": 4,
  "nbformat_minor": 0,
  "metadata": {
    "colab": {
      "provenance": []
    },
    "kernelspec": {
      "name": "python3",
      "display_name": "Python 3"
    },
    "language_info": {
      "name": "python"
    }
  },
  "cells": [
    {
      "cell_type": "code",
      "execution_count": 1,
      "metadata": {
        "id": "eTxUzCgnNZPM"
      },
      "outputs": [],
      "source": [
        "from matplotlib import pyplot as plt\n",
        "import pandas as pd\n",
        "import tensorflow as tf\n",
        "from keras.models import Sequential\n",
        "from keras.layers import Dense, Activation\n",
        "from tensorflow import keras\n",
        "from keras.models import Model\n",
        "from keras.layers import Input\n",
        "from keras.layers import Dense, activation\n",
        "from tensorflow.keras import layers\n",
        "from tensorflow.keras.callbacks import TensorBoard"
      ]
    },
    {
      "cell_type": "code",
      "source": [
        "cardio = pd.read_csv('cardio_train1.csv')\n",
        "cardio.head()"
      ],
      "metadata": {
        "colab": {
          "base_uri": "https://localhost:8080/",
          "height": 206
        },
        "id": "8CtkQfspNxNJ",
        "outputId": "32fdeff5-4e30-4f92-ed91-4fb7b682d809"
      },
      "execution_count": 2,
      "outputs": [
        {
          "output_type": "execute_result",
          "data": {
            "text/plain": [
              "   id    age  gender  height  weight  ap_hi  ap_lo  cholesterol  gluc  smoke  \\\n",
              "0   0  18393       2     168    62.0    110     80            1     1      0   \n",
              "1   1  20228       1     156    85.0    140     90            3     1      0   \n",
              "2   2  18857       1     165    64.0    130     70            3     1      0   \n",
              "3   3  17623       2     169    82.0    150    100            1     1      0   \n",
              "4   4  17474       1     156    56.0    100     60            1     1      0   \n",
              "\n",
              "   alco  active  cardio  \n",
              "0     0       1       0  \n",
              "1     0       1       1  \n",
              "2     0       0       1  \n",
              "3     0       1       1  \n",
              "4     0       0       0  "
            ],
            "text/html": [
              "\n",
              "  <div id=\"df-f8b58a8f-6578-48e8-a560-aa6436f6aa27\">\n",
              "    <div class=\"colab-df-container\">\n",
              "      <div>\n",
              "<style scoped>\n",
              "    .dataframe tbody tr th:only-of-type {\n",
              "        vertical-align: middle;\n",
              "    }\n",
              "\n",
              "    .dataframe tbody tr th {\n",
              "        vertical-align: top;\n",
              "    }\n",
              "\n",
              "    .dataframe thead th {\n",
              "        text-align: right;\n",
              "    }\n",
              "</style>\n",
              "<table border=\"1\" class=\"dataframe\">\n",
              "  <thead>\n",
              "    <tr style=\"text-align: right;\">\n",
              "      <th></th>\n",
              "      <th>id</th>\n",
              "      <th>age</th>\n",
              "      <th>gender</th>\n",
              "      <th>height</th>\n",
              "      <th>weight</th>\n",
              "      <th>ap_hi</th>\n",
              "      <th>ap_lo</th>\n",
              "      <th>cholesterol</th>\n",
              "      <th>gluc</th>\n",
              "      <th>smoke</th>\n",
              "      <th>alco</th>\n",
              "      <th>active</th>\n",
              "      <th>cardio</th>\n",
              "    </tr>\n",
              "  </thead>\n",
              "  <tbody>\n",
              "    <tr>\n",
              "      <th>0</th>\n",
              "      <td>0</td>\n",
              "      <td>18393</td>\n",
              "      <td>2</td>\n",
              "      <td>168</td>\n",
              "      <td>62.0</td>\n",
              "      <td>110</td>\n",
              "      <td>80</td>\n",
              "      <td>1</td>\n",
              "      <td>1</td>\n",
              "      <td>0</td>\n",
              "      <td>0</td>\n",
              "      <td>1</td>\n",
              "      <td>0</td>\n",
              "    </tr>\n",
              "    <tr>\n",
              "      <th>1</th>\n",
              "      <td>1</td>\n",
              "      <td>20228</td>\n",
              "      <td>1</td>\n",
              "      <td>156</td>\n",
              "      <td>85.0</td>\n",
              "      <td>140</td>\n",
              "      <td>90</td>\n",
              "      <td>3</td>\n",
              "      <td>1</td>\n",
              "      <td>0</td>\n",
              "      <td>0</td>\n",
              "      <td>1</td>\n",
              "      <td>1</td>\n",
              "    </tr>\n",
              "    <tr>\n",
              "      <th>2</th>\n",
              "      <td>2</td>\n",
              "      <td>18857</td>\n",
              "      <td>1</td>\n",
              "      <td>165</td>\n",
              "      <td>64.0</td>\n",
              "      <td>130</td>\n",
              "      <td>70</td>\n",
              "      <td>3</td>\n",
              "      <td>1</td>\n",
              "      <td>0</td>\n",
              "      <td>0</td>\n",
              "      <td>0</td>\n",
              "      <td>1</td>\n",
              "    </tr>\n",
              "    <tr>\n",
              "      <th>3</th>\n",
              "      <td>3</td>\n",
              "      <td>17623</td>\n",
              "      <td>2</td>\n",
              "      <td>169</td>\n",
              "      <td>82.0</td>\n",
              "      <td>150</td>\n",
              "      <td>100</td>\n",
              "      <td>1</td>\n",
              "      <td>1</td>\n",
              "      <td>0</td>\n",
              "      <td>0</td>\n",
              "      <td>1</td>\n",
              "      <td>1</td>\n",
              "    </tr>\n",
              "    <tr>\n",
              "      <th>4</th>\n",
              "      <td>4</td>\n",
              "      <td>17474</td>\n",
              "      <td>1</td>\n",
              "      <td>156</td>\n",
              "      <td>56.0</td>\n",
              "      <td>100</td>\n",
              "      <td>60</td>\n",
              "      <td>1</td>\n",
              "      <td>1</td>\n",
              "      <td>0</td>\n",
              "      <td>0</td>\n",
              "      <td>0</td>\n",
              "      <td>0</td>\n",
              "    </tr>\n",
              "  </tbody>\n",
              "</table>\n",
              "</div>\n",
              "      <button class=\"colab-df-convert\" onclick=\"convertToInteractive('df-f8b58a8f-6578-48e8-a560-aa6436f6aa27')\"\n",
              "              title=\"Convert this dataframe to an interactive table.\"\n",
              "              style=\"display:none;\">\n",
              "        \n",
              "  <svg xmlns=\"http://www.w3.org/2000/svg\" height=\"24px\"viewBox=\"0 0 24 24\"\n",
              "       width=\"24px\">\n",
              "    <path d=\"M0 0h24v24H0V0z\" fill=\"none\"/>\n",
              "    <path d=\"M18.56 5.44l.94 2.06.94-2.06 2.06-.94-2.06-.94-.94-2.06-.94 2.06-2.06.94zm-11 1L8.5 8.5l.94-2.06 2.06-.94-2.06-.94L8.5 2.5l-.94 2.06-2.06.94zm10 10l.94 2.06.94-2.06 2.06-.94-2.06-.94-.94-2.06-.94 2.06-2.06.94z\"/><path d=\"M17.41 7.96l-1.37-1.37c-.4-.4-.92-.59-1.43-.59-.52 0-1.04.2-1.43.59L10.3 9.45l-7.72 7.72c-.78.78-.78 2.05 0 2.83L4 21.41c.39.39.9.59 1.41.59.51 0 1.02-.2 1.41-.59l7.78-7.78 2.81-2.81c.8-.78.8-2.07 0-2.86zM5.41 20L4 18.59l7.72-7.72 1.47 1.35L5.41 20z\"/>\n",
              "  </svg>\n",
              "      </button>\n",
              "      \n",
              "  <style>\n",
              "    .colab-df-container {\n",
              "      display:flex;\n",
              "      flex-wrap:wrap;\n",
              "      gap: 12px;\n",
              "    }\n",
              "\n",
              "    .colab-df-convert {\n",
              "      background-color: #E8F0FE;\n",
              "      border: none;\n",
              "      border-radius: 50%;\n",
              "      cursor: pointer;\n",
              "      display: none;\n",
              "      fill: #1967D2;\n",
              "      height: 32px;\n",
              "      padding: 0 0 0 0;\n",
              "      width: 32px;\n",
              "    }\n",
              "\n",
              "    .colab-df-convert:hover {\n",
              "      background-color: #E2EBFA;\n",
              "      box-shadow: 0px 1px 2px rgba(60, 64, 67, 0.3), 0px 1px 3px 1px rgba(60, 64, 67, 0.15);\n",
              "      fill: #174EA6;\n",
              "    }\n",
              "\n",
              "    [theme=dark] .colab-df-convert {\n",
              "      background-color: #3B4455;\n",
              "      fill: #D2E3FC;\n",
              "    }\n",
              "\n",
              "    [theme=dark] .colab-df-convert:hover {\n",
              "      background-color: #434B5C;\n",
              "      box-shadow: 0px 1px 3px 1px rgba(0, 0, 0, 0.15);\n",
              "      filter: drop-shadow(0px 1px 2px rgba(0, 0, 0, 0.3));\n",
              "      fill: #FFFFFF;\n",
              "    }\n",
              "  </style>\n",
              "\n",
              "      <script>\n",
              "        const buttonEl =\n",
              "          document.querySelector('#df-f8b58a8f-6578-48e8-a560-aa6436f6aa27 button.colab-df-convert');\n",
              "        buttonEl.style.display =\n",
              "          google.colab.kernel.accessAllowed ? 'block' : 'none';\n",
              "\n",
              "        async function convertToInteractive(key) {\n",
              "          const element = document.querySelector('#df-f8b58a8f-6578-48e8-a560-aa6436f6aa27');\n",
              "          const dataTable =\n",
              "            await google.colab.kernel.invokeFunction('convertToInteractive',\n",
              "                                                     [key], {});\n",
              "          if (!dataTable) return;\n",
              "\n",
              "          const docLinkHtml = 'Like what you see? Visit the ' +\n",
              "            '<a target=\"_blank\" href=https://colab.research.google.com/notebooks/data_table.ipynb>data table notebook</a>'\n",
              "            + ' to learn more about interactive tables.';\n",
              "          element.innerHTML = '';\n",
              "          dataTable['output_type'] = 'display_data';\n",
              "          await google.colab.output.renderOutput(dataTable, element);\n",
              "          const docLink = document.createElement('div');\n",
              "          docLink.innerHTML = docLinkHtml;\n",
              "          element.appendChild(docLink);\n",
              "        }\n",
              "      </script>\n",
              "    </div>\n",
              "  </div>\n",
              "  "
            ]
          },
          "metadata": {},
          "execution_count": 2
        }
      ]
    },
    {
      "cell_type": "code",
      "source": [
        "X = cardio.iloc[:, :-1].values\n",
        "y = cardio.iloc[:, -1].values"
      ],
      "metadata": {
        "id": "3mj3iZ1sP8kL"
      },
      "execution_count": 3,
      "outputs": []
    },
    {
      "cell_type": "code",
      "source": [
        "from sklearn.model_selection import train_test_split\n",
        "X_train, X_test, y_train, y_test = train_test_split(X,y, test_size=0.3)\n",
        "X_valid, X_test, y_valid, y_test = train_test_split(X_test,y_test, test_size=0.3)"
      ],
      "metadata": {
        "id": "iL8RCmr6Qnez"
      },
      "execution_count": 4,
      "outputs": []
    },
    {
      "cell_type": "code",
      "source": [
        "class PrintValTrainRatioCallback(tf.keras.callbacks.Callback):\n",
        "  def on_epoch_end(self, epoch, logs):\n",
        "    print(\"The  loss for epoch {} is {:7.2f} \".format(epoch, logs[\"loss\"]))"
      ],
      "metadata": {
        "id": "0KMz3H4zHqqp"
      },
      "execution_count": 15,
      "outputs": []
    },
    {
      "cell_type": "code",
      "source": [
        "test_callback = PrintValTrainRatioCallback()"
      ],
      "metadata": {
        "id": "FGipqEz6IMdx"
      },
      "execution_count": 16,
      "outputs": []
    },
    {
      "cell_type": "markdown",
      "source": [
        "# TensorBoard"
      ],
      "metadata": {
        "id": "LhSbb51CDEZ3"
      }
    },
    {
      "cell_type": "code",
      "source": [
        "%load_ext tensorboard\n",
        "log_folder = 'logs'"
      ],
      "metadata": {
        "colab": {
          "base_uri": "https://localhost:8080/"
        },
        "id": "OXe5YBNBVwqN",
        "outputId": "043fe02f-d4bb-4c18-d3bc-6cc2e67037ed"
      },
      "execution_count": 17,
      "outputs": [
        {
          "output_type": "stream",
          "name": "stdout",
          "text": [
            "The tensorboard extension is already loaded. To reload it, use:\n",
            "  %reload_ext tensorboard\n"
          ]
        }
      ]
    },
    {
      "cell_type": "code",
      "source": [
        "callbacks = [TensorBoard(log_dir=log_folder,\n",
        "                         histogram_freq=1,\n",
        "                         write_graph=True,\n",
        "                         write_images=True,\n",
        "                         update_freq='epoch',\n",
        "                         profile_batch=2,\n",
        "                         embeddings_freq=1)]"
      ],
      "metadata": {
        "id": "h9TGERHvU5m4"
      },
      "execution_count": 18,
      "outputs": []
    },
    {
      "cell_type": "markdown",
      "source": [
        "# Sequentional"
      ],
      "metadata": {
        "id": "TYBKbQuTAX4D"
      }
    },
    {
      "cell_type": "code",
      "source": [
        "model = keras.Sequential([\n",
        "    keras.layers.Dense(300, activation=\"relu\"),\n",
        "\t  keras.layers.Dense(150, activation=\"relu\"),\n",
        "    keras.layers.Dense(10, activation=\"softmax\")\n",
        "])"
      ],
      "metadata": {
        "id": "Wh89IvdpOS5n"
      },
      "execution_count": 14,
      "outputs": []
    },
    {
      "cell_type": "code",
      "source": [
        "model.compile(loss='sparse_categorical_crossentropy', optimizer='adam', metrics=['accuracy'])"
      ],
      "metadata": {
        "id": "rj4zni4H72Ic"
      },
      "execution_count": 21,
      "outputs": []
    },
    {
      "cell_type": "code",
      "source": [
        "history = model.fit(X_train, y_train, epochs=15, validation_data=(X_valid, y_valid), callbacks=[callbacks, test_callback])"
      ],
      "metadata": {
        "colab": {
          "base_uri": "https://localhost:8080/"
        },
        "id": "_GAu5bQEOacI",
        "outputId": "6eeea961-a4a4-43bf-ea82-4d58dfa69d45"
      },
      "execution_count": 22,
      "outputs": [
        {
          "output_type": "stream",
          "name": "stdout",
          "text": [
            "Epoch 1/15\n",
            "   2/1532 [..............................] - ETA: 1:18 - loss: 1736.3044 - accuracy: 0.2188     "
          ]
        },
        {
          "output_type": "stream",
          "name": "stderr",
          "text": [
            "WARNING:tensorflow:Callback method `on_train_batch_end` is slow compared to the batch time (batch time: 0.0059s vs `on_train_batch_end` time: 0.0117s). Check your callbacks.\n"
          ]
        },
        {
          "output_type": "stream",
          "name": "stdout",
          "text": [
            "1528/1532 [============================>.] - ETA: 0s - loss: 107.5499 - accuracy: 0.5055The  loss for epoch 0 is  107.44 \n",
            "1532/1532 [==============================] - 9s 5ms/step - loss: 107.4401 - accuracy: 0.5056 - val_loss: 66.0367 - val_accuracy: 0.5027\n",
            "Epoch 2/15\n",
            "1518/1532 [============================>.] - ETA: 0s - loss: 35.4116 - accuracy: 0.5179The  loss for epoch 1 is   35.26 \n",
            "1532/1532 [==============================] - 6s 4ms/step - loss: 35.2639 - accuracy: 0.5178 - val_loss: 18.0562 - val_accuracy: 0.5050\n",
            "Epoch 3/15\n",
            "1522/1532 [============================>.] - ETA: 0s - loss: 12.4168 - accuracy: 0.5224The  loss for epoch 2 is   12.38 \n",
            "1532/1532 [==============================] - 8s 5ms/step - loss: 12.3830 - accuracy: 0.5224 - val_loss: 10.5481 - val_accuracy: 0.5028\n",
            "Epoch 4/15\n",
            "1529/1532 [============================>.] - ETA: 0s - loss: 6.6497 - accuracy: 0.5323The  loss for epoch 3 is    6.64 \n",
            "1532/1532 [==============================] - 7s 5ms/step - loss: 6.6421 - accuracy: 0.5323 - val_loss: 1.2292 - val_accuracy: 0.5776\n",
            "Epoch 5/15\n",
            "1518/1532 [============================>.] - ETA: 0s - loss: 2.7216 - accuracy: 0.5373The  loss for epoch 4 is    2.71 \n",
            "1532/1532 [==============================] - 6s 4ms/step - loss: 2.7108 - accuracy: 0.5375 - val_loss: 2.8192 - val_accuracy: 0.5268\n",
            "Epoch 6/15\n",
            "1532/1532 [==============================] - ETA: 0s - loss: 1.3816 - accuracy: 0.5506The  loss for epoch 5 is    1.38 \n",
            "1532/1532 [==============================] - 7s 5ms/step - loss: 1.3816 - accuracy: 0.5506 - val_loss: 0.6646 - val_accuracy: 0.6167\n",
            "Epoch 7/15\n",
            "1530/1532 [============================>.] - ETA: 0s - loss: 0.7016 - accuracy: 0.5688The  loss for epoch 6 is    0.70 \n",
            "1532/1532 [==============================] - 7s 5ms/step - loss: 0.7016 - accuracy: 0.5688 - val_loss: 0.6860 - val_accuracy: 0.5379\n",
            "Epoch 8/15\n",
            "1531/1532 [============================>.] - ETA: 0s - loss: 0.6896 - accuracy: 0.5600The  loss for epoch 7 is    0.69 \n",
            "1532/1532 [==============================] - 7s 5ms/step - loss: 0.6896 - accuracy: 0.5600 - val_loss: 0.6934 - val_accuracy: 0.5828\n",
            "Epoch 9/15\n",
            "1516/1532 [============================>.] - ETA: 0s - loss: 0.7120 - accuracy: 0.5446The  loss for epoch 8 is    0.71 \n",
            "1532/1532 [==============================] - 6s 4ms/step - loss: 0.7118 - accuracy: 0.5446 - val_loss: 0.7028 - val_accuracy: 0.5467\n",
            "Epoch 10/15\n",
            "1517/1532 [============================>.] - ETA: 0s - loss: 0.6992 - accuracy: 0.5528The  loss for epoch 9 is    0.70 \n",
            "1532/1532 [==============================] - 8s 5ms/step - loss: 0.6990 - accuracy: 0.5529 - val_loss: 0.6724 - val_accuracy: 0.6099\n"
          ]
        }
      ]
    },
    {
      "cell_type": "markdown",
      "source": [
        "# Functional"
      ],
      "metadata": {
        "id": "tQK_LzrUAJjf"
      }
    },
    {
      "cell_type": "code",
      "source": [
        "norm_layer = tf.keras.layers.Normalization()\n",
        "hidden_layer1 = tf.keras.layers.Dense(200, activation=\"relu\")\n",
        "hidden_layer2 = tf.keras.layers.Dense(100, activation=\"relu\")\n",
        "concat_layer= tf.keras.layers.Concatenate()\n",
        "output_layer= tf.keras.layers.Dense(10,activation='softmax')\n",
        "\n",
        "input_ = tf.keras.layers.Input(shape=X_train.shape[1])\n",
        "normalized = norm_layer(input_)\n",
        "hidden1 = hidden_layer1(normalized)\n",
        "hidden2 = hidden_layer2(hidden1)\n",
        "concat=concat_layer([hidden1,hidden2])\n",
        "output=output_layer(concat)\n",
        "\n",
        "model = tf.keras.Model(inputs=[input_], outputs=[output])\n",
        "\n",
        "model.compile(loss=\"sparse_categorical_crossentropy\", optimizer='adam', metrics=[\"accuracy\"])\n",
        "history = model.fit(X_train, y_train, epochs=15, validation_data=(X_valid,y_valid), callbacks=[callbacks, test_callback])"
      ],
      "metadata": {
        "colab": {
          "base_uri": "https://localhost:8080/"
        },
        "id": "NcL6SM6UW-E7",
        "outputId": "0e88e9bb-d72c-45df-b992-3afc17985b96"
      },
      "execution_count": 24,
      "outputs": [
        {
          "output_type": "stream",
          "name": "stdout",
          "text": [
            "Epoch 1/15\n",
            "   6/1532 [..............................] - ETA: 2:33 - loss: 8741.3838 - accuracy: 0.0000e+00  "
          ]
        },
        {
          "output_type": "stream",
          "name": "stderr",
          "text": [
            "WARNING:tensorflow:Callback method `on_train_batch_end` is slow compared to the batch time (batch time: 0.0085s vs `on_train_batch_end` time: 0.0931s). Check your callbacks.\n"
          ]
        },
        {
          "output_type": "stream",
          "name": "stdout",
          "text": [
            "1517/1532 [============================>.] - ETA: 0s - loss: 155.2985 - accuracy: 0.5033The  loss for epoch 0 is  154.34 \n",
            "1532/1532 [==============================] - 8s 4ms/step - loss: 154.3385 - accuracy: 0.5037 - val_loss: 16.8699 - val_accuracy: 0.5476\n",
            "Epoch 2/15\n",
            "1530/1532 [============================>.] - ETA: 0s - loss: 84.3394 - accuracy: 0.5162The  loss for epoch 1 is   84.30 \n",
            "1532/1532 [==============================] - 6s 4ms/step - loss: 84.2981 - accuracy: 0.5162 - val_loss: 12.9286 - val_accuracy: 0.5475\n",
            "Epoch 3/15\n",
            "1519/1532 [============================>.] - ETA: 0s - loss: 59.1141 - accuracy: 0.5215The  loss for epoch 2 is   58.84 \n",
            "1532/1532 [==============================] - 6s 4ms/step - loss: 58.8355 - accuracy: 0.5213 - val_loss: 44.4553 - val_accuracy: 0.5120\n",
            "Epoch 4/15\n",
            "1523/1532 [============================>.] - ETA: 0s - loss: 46.5482 - accuracy: 0.5328The  loss for epoch 3 is   46.41 \n",
            "1532/1532 [==============================] - 6s 4ms/step - loss: 46.4131 - accuracy: 0.5330 - val_loss: 32.4635 - val_accuracy: 0.5114\n",
            "Epoch 5/15\n",
            "1524/1532 [============================>.] - ETA: 0s - loss: 35.8246 - accuracy: 0.5464The  loss for epoch 4 is   35.74 \n",
            "1532/1532 [==============================] - 6s 4ms/step - loss: 35.7398 - accuracy: 0.5465 - val_loss: 21.9451 - val_accuracy: 0.5279\n",
            "Epoch 6/15\n",
            "1524/1532 [============================>.] - ETA: 0s - loss: 23.8904 - accuracy: 0.5545The  loss for epoch 5 is   23.83 \n",
            "1532/1532 [==============================] - 5s 3ms/step - loss: 23.8294 - accuracy: 0.5547 - val_loss: 49.5402 - val_accuracy: 0.5026\n",
            "Epoch 7/15\n",
            "1527/1532 [============================>.] - ETA: 0s - loss: 25.0266 - accuracy: 0.5593The  loss for epoch 6 is   25.00 \n",
            "1532/1532 [==============================] - 7s 5ms/step - loss: 24.9964 - accuracy: 0.5593 - val_loss: 15.6429 - val_accuracy: 0.5725\n",
            "Epoch 8/15\n",
            "1532/1532 [==============================] - ETA: 0s - loss: 21.1735 - accuracy: 0.5703The  loss for epoch 7 is   21.17 \n",
            "1532/1532 [==============================] - 5s 3ms/step - loss: 21.1735 - accuracy: 0.5703 - val_loss: 35.5002 - val_accuracy: 0.5110\n",
            "Epoch 9/15\n",
            "1514/1532 [============================>.] - ETA: 0s - loss: 19.1998 - accuracy: 0.5677The  loss for epoch 8 is   19.10 \n",
            "1532/1532 [==============================] - 6s 4ms/step - loss: 19.1000 - accuracy: 0.5685 - val_loss: 7.3097 - val_accuracy: 0.6010\n",
            "Epoch 10/15\n",
            "1532/1532 [==============================] - ETA: 0s - loss: 15.8460 - accuracy: 0.5776The  loss for epoch 9 is   15.85 \n",
            "1532/1532 [==============================] - 6s 4ms/step - loss: 15.8460 - accuracy: 0.5776 - val_loss: 12.8929 - val_accuracy: 0.5524\n",
            "Epoch 11/15\n",
            "1524/1532 [============================>.] - ETA: 0s - loss: 17.7832 - accuracy: 0.5711The  loss for epoch 10 is   17.73 \n",
            "1532/1532 [==============================] - 6s 4ms/step - loss: 17.7286 - accuracy: 0.5713 - val_loss: 18.1549 - val_accuracy: 0.5440\n",
            "Epoch 12/15\n",
            "1526/1532 [============================>.] - ETA: 0s - loss: 15.6624 - accuracy: 0.5794The  loss for epoch 11 is   15.63 \n",
            "1532/1532 [==============================] - 5s 3ms/step - loss: 15.6261 - accuracy: 0.5796 - val_loss: 10.2583 - val_accuracy: 0.5662\n",
            "Epoch 13/15\n",
            "1526/1532 [============================>.] - ETA: 0s - loss: 12.1090 - accuracy: 0.5885The  loss for epoch 12 is   12.08 \n",
            "1532/1532 [==============================] - 7s 5ms/step - loss: 12.0775 - accuracy: 0.5889 - val_loss: 7.4311 - val_accuracy: 0.6112\n",
            "Epoch 14/15\n",
            "1513/1532 [============================>.] - ETA: 0s - loss: 12.0072 - accuracy: 0.5824The  loss for epoch 13 is   11.95 \n",
            "1532/1532 [==============================] - 5s 3ms/step - loss: 11.9451 - accuracy: 0.5827 - val_loss: 12.9901 - val_accuracy: 0.5406\n",
            "Epoch 15/15\n",
            "1521/1532 [============================>.] - ETA: 0s - loss: 11.8489 - accuracy: 0.5768The  loss for epoch 14 is   11.85 \n",
            "1532/1532 [==============================] - 6s 4ms/step - loss: 11.8537 - accuracy: 0.5768 - val_loss: 14.3626 - val_accuracy: 0.5286\n"
          ]
        }
      ]
    },
    {
      "cell_type": "markdown",
      "source": [
        "# Fine Tune"
      ],
      "metadata": {
        "id": "nzvyBI8fC7Xu"
      }
    },
    {
      "cell_type": "code",
      "source": [
        "%pip install keras-tuner"
      ],
      "metadata": {
        "id": "hRtbDp96C6W3"
      },
      "execution_count": null,
      "outputs": []
    },
    {
      "cell_type": "code",
      "source": [
        "import keras_tuner as kt"
      ],
      "metadata": {
        "id": "81PtFmr_CsQd"
      },
      "execution_count": null,
      "outputs": []
    },
    {
      "cell_type": "code",
      "source": [
        "def build_model(hp):\n",
        "  n_hidden = hp.Int(\"n_hidden\", min_value=0, max_value=8,\n",
        "  default=2)\n",
        "  n_neurons = hp.Int(\"n_neurons\", min_value=16, max_value=256)\n",
        "  learning_rate = hp.Float(\"learning_rate\", min_value=1e-4,max_value=1e-2,\n",
        "  sampling=\"log\")\n",
        "  optimizer = hp.Choice(\"optimizer\", values=[\"sgd\", \"adam\"])\n",
        "  if optimizer == \"sgd\":\n",
        "    optimizer = tf.keras.optimizers.SGD(learning_rate=learning_rate)\n",
        "  else:\n",
        "    optimizer = tf.keras.optimizers.Adam(learning_rate=learning_rate)\n",
        "  model = tf.keras.Sequential()\n",
        "  model.add(tf.keras.layers.Flatten())\n",
        "  for _ in range(n_hidden):\n",
        "    model.add(tf.keras.layers.Dense(n_neurons, activation=\"relu\"))\n",
        "\n",
        "  model.add(tf.keras.layers.Dense(10, activation=\"softmax\"))\n",
        "  model.compile(loss=\"sparse_categorical_crossentropy\", optimizer=optimizer, \n",
        "                metrics=[\"accuracy\"])\n",
        "  return model"
      ],
      "metadata": {
        "id": "2BvMRA_zA97Q"
      },
      "execution_count": 28,
      "outputs": []
    },
    {
      "cell_type": "code",
      "source": [
        "class MyClassificationHyperModel(kt.HyperModel):\n",
        "  def build(self, hp):\n",
        "    return build_model(hp)\n",
        "  def fit(self, hp, model, X, y, **kwargs):\n",
        "    batch_size = hp.Int(\"batch_size\", 32, 128, step=32, default=64)\n",
        "  \n",
        "    return model.fit(X, y, batch_size, **kwargs)"
      ],
      "metadata": {
        "id": "eQaSOBSGCojk"
      },
      "execution_count": null,
      "outputs": []
    },
    {
      "cell_type": "code",
      "source": [
        "hb_search_tuner = kt.Hyperband(MyClassificationHyperModel(), \n",
        "                                   factor=3, hyperband_iterations=2, \n",
        "                                   overwrite=True, directory=\"my_fashion_mnist\",\n",
        "                                   project_name=\"hyperband\",\n",
        "                                   max_epochs=10, objective=\"val_accuracy\", \n",
        "                                   seed=42)\n",
        "hb_search_tuner.search(X_train, y_train, epochs=10, validation_data=(X_valid, y_valid))"
      ],
      "metadata": {
        "id": "bMkeAMo6Cv8O"
      },
      "execution_count": null,
      "outputs": []
    },
    {
      "cell_type": "markdown",
      "source": [
        "# Classbase"
      ],
      "metadata": {
        "id": "GH3Ry9NRAo3_"
      }
    },
    {
      "cell_type": "code",
      "source": [
        "class WideAndDeepModel(tf.keras.Model):\n",
        "  def __init__(self, units=30, activation=\"relu\", **kwargs):\n",
        "    super().__init__(**kwargs)\n",
        "    self.norm_layer_wide = tf.keras.layers.Normalization()\n",
        "    self.norm_layer_deep = tf.keras.layers.Normalization()\n",
        "    self.hidden1 = tf.keras.layers.Dense(units, activation=activation)\n",
        "    self.hidden2 = tf.keras.layers.Dense(units, activation=activation)\n",
        "    self.main_output = tf.keras.layers.Dense(1)\n",
        "    self.aux_output = tf.keras.layers.Dense(1)\n",
        "\n",
        "\n",
        "  def call(self, inputs):\n",
        "    input_wide, input_deep = inputs\n",
        "    norm_wide = self.norm_layer_wide(input_wide)\n",
        "    norm_deep = self.norm_layer_deep(input_deep)\n",
        "    hidden1 = self.hidden1(norm_deep)\n",
        "    hidden2 = self.hidden2(hidden1)\n",
        "    concat = tf.keras.layers.concatenate([norm_wide, hidden2])\n",
        "    output = self.main_output(concat)\n",
        "    aux_output = self.aux_output(hidden2)\n",
        "    return output, aux_output"
      ],
      "metadata": {
        "id": "GE69Rp0hZs9l"
      },
      "execution_count": 29,
      "outputs": []
    },
    {
      "cell_type": "code",
      "source": [
        "class PrintValTrainRatioCallback(tf.keras.callbacks.Callback):\n",
        "  def on_epoch_end(self, epoch, logs):\n",
        "    print(logs)\n",
        "    ratio = logs[\"val_loss\"] / logs[\"loss\"]\n",
        "    print(f\"Epoch={epoch}, val/train={ratio:.2f}\")"
      ],
      "metadata": {
        "id": "_SEMaVoHBZ_4"
      },
      "execution_count": 33,
      "outputs": []
    },
    {
      "cell_type": "code",
      "source": [
        "test_callback = PrintValTrainRatioCallback()"
      ],
      "metadata": {
        "id": "sGItrIEUBcGS"
      },
      "execution_count": 34,
      "outputs": []
    },
    {
      "cell_type": "code",
      "source": [
        "model = WideAndDeepModel()"
      ],
      "metadata": {
        "id": "Tvdn7GblZwF7"
      },
      "execution_count": 35,
      "outputs": []
    },
    {
      "cell_type": "code",
      "source": [
        "model.compile(loss=\"mse\", optimizer=\"Adam\", metrics=[\"RootMeanSquaredError\"])\n",
        "history = model.fit(X_train, y_train, epochs=15, validation_data=(X_valid,y_valid), callbacks=[callbacks, test_callback])"
      ],
      "metadata": {
        "id": "OuIA5NkRZ1w1"
      },
      "execution_count": null,
      "outputs": []
    },
    {
      "cell_type": "markdown",
      "source": [
        "# linux"
      ],
      "metadata": {
        "id": "Aa_0MslT9pPE"
      }
    },
    {
      "cell_type": "markdown",
      "source": [
        "# 1- با چه دستوری مسیر پایتون را پیدا کنیم\n",
        "\n",
        "whereis python3"
      ],
      "metadata": {
        "id": "mqCAoZOc9xFS"
      }
    },
    {
      "cell_type": "markdown",
      "source": [
        "# 2- با چه دستوری از نوع فایل مطمین میشبم\n",
        "\n",
        "file -f filenames.lst"
      ],
      "metadata": {
        "id": "Shjsx3FY95ol"
      }
    },
    {
      "cell_type": "markdown",
      "source": [
        "# 3-منظور از اعداد نشان داده شده بعد از زدت دستور زیر چیست"
      ],
      "metadata": {
        "id": "3WbXlTlh995z"
      }
    },
    {
      "cell_type": "markdown",
      "source": [
        "# 4- دستوری که دایرکتوری بسازد که درون آن یک دایرکتوری دیگر هم هست\n",
        "\n",
        "\n",
        "mkdir -p"
      ],
      "metadata": {
        "id": "CJX97uXI-Ann"
      }
    },
    {
      "cell_type": "markdown",
      "source": [
        "# 5- با چه دستوری فایل بالا را به صورت ریکرسیو پاک می کنید\n",
        "\n",
        "-r"
      ],
      "metadata": {
        "id": "77dr5gWo-EQd"
      }
    },
    {
      "cell_type": "markdown",
      "source": [
        "# 6- با چه کامتد هایی میتوان فایل را خواند\n",
        "\n",
        "head command\n",
        "\n",
        "\n",
        "Cat command\n",
        "\n",
        "\n",
        "more command"
      ],
      "metadata": {
        "id": "sT1Hwyyr-ELL"
      }
    },
    {
      "cell_type": "markdown",
      "source": [
        "# 7- برای تعقیب تعییرات یک فایل چه دستوری را پیشنهاد میدهید"
      ],
      "metadata": {
        "id": "qKYMowKV-LkL"
      }
    },
    {
      "cell_type": "markdown",
      "source": [
        "# 8- معادل دستورپرینت در بش چیست\n",
        "\n"
      ],
      "metadata": {
        "id": "loZEHBem-Ogr"
      }
    }
  ]
}