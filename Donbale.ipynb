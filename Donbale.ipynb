{
  "nbformat": 4,
  "nbformat_minor": 0,
  "metadata": {
    "colab": {
      "provenance": []
    },
    "kernelspec": {
      "name": "python3",
      "display_name": "Python 3"
    },
    "language_info": {
      "name": "python"
    }
  },
  "cells": [
    {
      "cell_type": "code",
      "source": [
        "b=list(map(int,input().split()))\n",
        "incorrect_a=list(set(b))\n",
        "\n",
        "\n",
        "\n",
        "def find_a(b,incorrect_a):\n",
        "    for i in range (0,len(incorrect_a)):\n",
        "        \n",
        "        result= find_members(b,incorrect_a,i)\n",
        "        wrong_path=result[0]\n",
        "        \n",
        "        if wrong_path:\n",
        "            print(result[1])\n",
        "            break\n",
        "        else:\n",
        "            continue\n",
        "\n",
        "def find_members(b,incorrect_a,i,correct_a=[None for i in incorrect_a]):\n",
        "    \n",
        "    correct_a[i]=b[0]\n",
        "    \n",
        "    \n",
        "    b_index_pointer=1\n",
        "    n=len(incorrect_a)\n",
        "    real_i=i+1\n",
        "    while b_index_pointer <len(b):\n",
        "        print(correct_a)\n",
        "        \n",
        "        index_a=(real_i%n+1)\n",
        "        \n",
        "        \n",
        "        if b[b_index_pointer] not in correct_a:\n",
        "            correct_a[index_a-1]=b[b_index_pointer]\n",
        "            \n",
        "            b_index_pointer+=1\n",
        "            real_i=index_a\n",
        "        elif b[b_index_pointer] in correct_a and b[b_index_pointer]==correct_a[index_a-1]:\n",
        "            \n",
        "            b_index_pointer+=1\n",
        "            real_i=index_a\n",
        "        else:\n",
        "            \n",
        "            return [False]\n",
        "    return [True,correct_a]\n",
        "\n",
        "\n",
        "   \n",
        "\n",
        "find_a(b,incorrect_a)"
      ],
      "metadata": {
        "id": "eG445WNNDgiV"
      },
      "execution_count": null,
      "outputs": []
    }
  ]
}