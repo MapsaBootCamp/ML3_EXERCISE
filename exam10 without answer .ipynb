{
 "cells": [
  {
   "cell_type": "markdown",
   "id": "29f5e5d5-7cc9-4dc4-8d4a-8cca2ba1bd63",
   "metadata": {},
   "source": [
    "در صورت وجود همبستگی زیاد بین دو فیچر بیشترین تاثیر منفی بر کدام یک از مدل های کلاسبک است\n"
   ]
  },
  {
   "attachments": {},
   "cell_type": "markdown",
   "id": "94247038",
   "metadata": {},
   "source": [
    "linear models(linear regression,ogistic regression)"
   ]
  },
  {
   "cell_type": "markdown",
   "id": "4fb4cd6c-fe75-4235-9f36-f5e0ae762d97",
   "metadata": {},
   "source": [
    "نوشته و برای پیدا کردن آن ها از کدام فانکشن در کد استفاده میشود percision و recallفرمول "
   ]
  },
  {
   "attachments": {},
   "cell_type": "markdown",
   "id": "b497eda7",
   "metadata": {},
   "source": [
    "Recall=tp/(tp+fn)\n",
    "precision=tp/(tp+fp)\n",
    "precision_recall_fscore_support()"
   ]
  },
  {
   "cell_type": "markdown",
   "id": "78d9654e-8278-4fa4-bc2b-7a8b1c8102b2",
   "metadata": {},
   "source": [
    "چیست و کدام یک معادل ریکال است roc curveدو پارامتر مهم در  "
   ]
  },
  {
   "attachments": {},
   "cell_type": "markdown",
   "id": "ceae0292",
   "metadata": {},
   "source": [
    "True Positive Rate = recall\n",
    "False Positive Rate"
   ]
  },
  {
   "cell_type": "markdown",
   "id": "89f19984-7836-45c8-b24f-9a76e27c66e7",
   "metadata": {},
   "source": [
    " چیستaucمنظور از  "
   ]
  },
  {
   "attachments": {},
   "cell_type": "markdown",
   "id": "d98d8fbb",
   "metadata": {},
   "source": [
    "Area Under the ROC Curve"
   ]
  },
  {
   "cell_type": "markdown",
   "id": "4a3befcf-f45a-4c94-b318-2c95bbf50b46",
   "metadata": {},
   "source": [
    "را نام ببرید و به طور کلی کرنل در این مدل یعنی انجام چه کاری؟svm kernels"
   ]
  },
  {
   "attachments": {},
   "cell_type": "markdown",
   "id": "4cb60f20",
   "metadata": {},
   "source": [
    "بدون افزایش پیچیدگی در محاسبات می توان در دیگر فضا ها محاسبات را انچام داد.\n",
    "poly rbt sigmoid linear precomputed"
   ]
  },
  {
   "cell_type": "markdown",
   "id": "8e125274-fdd0-4595-bad9-c6ed748034b7",
   "metadata": {},
   "source": [
    "را می خواهیم پیاده سازی کنیم همانطور که میبیتید نسبت دیتاها بسیار متفاوت است چه راه حلی را پیشتهاد میکنید  svcدر دیتاستی ۱۰۰۰ داده با لیبل ۱ و ۲۰ داده با لیبل ۲ وجود دارد میخواهیم بر روی این دیتا مدل "
   ]
  },
  {
   "attachments": {},
   "cell_type": "markdown",
   "id": "a8578db4",
   "metadata": {},
   "source": [
    "random sampling\n",
    "over sampling (class.weight)\n",
    "SVMSMOTE"
   ]
  },
  {
   "cell_type": "markdown",
   "id": "18852940-7c1c-437a-a329-7f20f5589438",
   "metadata": {},
   "source": [
    "زیر برقرار است عدد ۲ و عدد ۳ چه مفهومی را می رساند  confusion matrix بر روی داده های پیش بینی شده توسط یک مدل و لیبل های واقعی آن "
   ]
  },
  {
   "cell_type": "code",
   "execution_count": null,
   "id": "288d63b4-81a3-4e42-8614-af6a16a1ad94",
   "metadata": {},
   "outputs": [],
   "source": [
    "[[10  2 0]\n",
    " [ 0  8  3]\n",
    " [ 0  0 11]]"
   ]
  },
  {
   "attachments": {},
   "cell_type": "markdown",
   "id": "8a032675",
   "metadata": {},
   "source": [
    "عدد ۲ یعنی ۲ لیبلی که که برابر با لیبل نوع اول بوده اند را برابر لیبل نوع دوم پیش بینی اشتباه انجام شده است"
   ]
  },
  {
   "attachments": {},
   "cell_type": "markdown",
   "id": "50d6e04f",
   "metadata": {},
   "source": [
    "عدد ۳ یعنی ۳ لیبلی که که برابر با لیبل نوع دوم بوده اند را برابر لیبل نوع سوم پیش بینی اشتباه انجام شده است"
   ]
  },
  {
   "cell_type": "markdown",
   "id": "ee396c07-99d7-4c2e-bf31-93dca02e1b1d",
   "metadata": {},
   "source": [
    "کنیم چه روش هایی را استفاده میکنید model-base   الگوریتم است برای اینکه این الگوریتم را کمی شبیه الگوریتم هایinstance-base یک knn الگوریتم"
   ]
  },
  {
   "attachments": {},
   "cell_type": "markdown",
   "id": "3e5bd0eb",
   "metadata": {},
   "source": [
    "increasing K"
   ]
  },
  {
   "cell_type": "markdown",
   "id": "21b44a13-a736-4af8-8219-205bc5400990",
   "metadata": {},
   "source": [
    "را امتحان کنید svmروی دیتای زیر پارامترهای الگوریتم مناسب   "
   ]
  },
  {
   "cell_type": "code",
   "execution_count": 16,
   "id": "64c33c88-480f-4be5-90e9-be29b39fd307",
   "metadata": {},
   "outputs": [],
   "source": [
    "from sklearn.datasets import load_wine\n",
    "\n",
    "wine = load_wine(as_frame=True)"
   ]
  },
  {
   "cell_type": "code",
   "execution_count": 17,
   "id": "1cef8e1b",
   "metadata": {},
   "outputs": [],
   "source": [
    "import pandas as pd"
   ]
  },
  {
   "cell_type": "code",
   "execution_count": 18,
   "id": "78ad5e15",
   "metadata": {},
   "outputs": [],
   "source": [
    "winedf=pd.DataFrame(wine.data,columns=wine.feature_names)"
   ]
  },
  {
   "cell_type": "code",
   "execution_count": 19,
   "id": "5a3da168",
   "metadata": {},
   "outputs": [],
   "source": [
    "winedf['target']=wine.target\n"
   ]
  },
  {
   "cell_type": "code",
   "execution_count": 20,
   "id": "d4068ff8",
   "metadata": {},
   "outputs": [
    {
     "data": {
      "text/html": [
       "<div>\n",
       "<style scoped>\n",
       "    .dataframe tbody tr th:only-of-type {\n",
       "        vertical-align: middle;\n",
       "    }\n",
       "\n",
       "    .dataframe tbody tr th {\n",
       "        vertical-align: top;\n",
       "    }\n",
       "\n",
       "    .dataframe thead th {\n",
       "        text-align: right;\n",
       "    }\n",
       "</style>\n",
       "<table border=\"1\" class=\"dataframe\">\n",
       "  <thead>\n",
       "    <tr style=\"text-align: right;\">\n",
       "      <th></th>\n",
       "      <th>alcohol</th>\n",
       "      <th>malic_acid</th>\n",
       "      <th>ash</th>\n",
       "      <th>alcalinity_of_ash</th>\n",
       "      <th>magnesium</th>\n",
       "      <th>total_phenols</th>\n",
       "      <th>flavanoids</th>\n",
       "      <th>nonflavanoid_phenols</th>\n",
       "      <th>proanthocyanins</th>\n",
       "      <th>color_intensity</th>\n",
       "      <th>hue</th>\n",
       "      <th>od280/od315_of_diluted_wines</th>\n",
       "      <th>proline</th>\n",
       "    </tr>\n",
       "    <tr>\n",
       "      <th>target</th>\n",
       "      <th></th>\n",
       "      <th></th>\n",
       "      <th></th>\n",
       "      <th></th>\n",
       "      <th></th>\n",
       "      <th></th>\n",
       "      <th></th>\n",
       "      <th></th>\n",
       "      <th></th>\n",
       "      <th></th>\n",
       "      <th></th>\n",
       "      <th></th>\n",
       "      <th></th>\n",
       "    </tr>\n",
       "  </thead>\n",
       "  <tbody>\n",
       "    <tr>\n",
       "      <th>0</th>\n",
       "      <td>59</td>\n",
       "      <td>59</td>\n",
       "      <td>59</td>\n",
       "      <td>59</td>\n",
       "      <td>59</td>\n",
       "      <td>59</td>\n",
       "      <td>59</td>\n",
       "      <td>59</td>\n",
       "      <td>59</td>\n",
       "      <td>59</td>\n",
       "      <td>59</td>\n",
       "      <td>59</td>\n",
       "      <td>59</td>\n",
       "    </tr>\n",
       "    <tr>\n",
       "      <th>1</th>\n",
       "      <td>71</td>\n",
       "      <td>71</td>\n",
       "      <td>71</td>\n",
       "      <td>71</td>\n",
       "      <td>71</td>\n",
       "      <td>71</td>\n",
       "      <td>71</td>\n",
       "      <td>71</td>\n",
       "      <td>71</td>\n",
       "      <td>71</td>\n",
       "      <td>71</td>\n",
       "      <td>71</td>\n",
       "      <td>71</td>\n",
       "    </tr>\n",
       "    <tr>\n",
       "      <th>2</th>\n",
       "      <td>48</td>\n",
       "      <td>48</td>\n",
       "      <td>48</td>\n",
       "      <td>48</td>\n",
       "      <td>48</td>\n",
       "      <td>48</td>\n",
       "      <td>48</td>\n",
       "      <td>48</td>\n",
       "      <td>48</td>\n",
       "      <td>48</td>\n",
       "      <td>48</td>\n",
       "      <td>48</td>\n",
       "      <td>48</td>\n",
       "    </tr>\n",
       "  </tbody>\n",
       "</table>\n",
       "</div>"
      ],
      "text/plain": [
       "        alcohol  malic_acid  ash  alcalinity_of_ash  magnesium  total_phenols  \\\n",
       "target                                                                          \n",
       "0            59          59   59                 59         59             59   \n",
       "1            71          71   71                 71         71             71   \n",
       "2            48          48   48                 48         48             48   \n",
       "\n",
       "        flavanoids  nonflavanoid_phenols  proanthocyanins  color_intensity  \\\n",
       "target                                                                       \n",
       "0               59                    59               59               59   \n",
       "1               71                    71               71               71   \n",
       "2               48                    48               48               48   \n",
       "\n",
       "        hue  od280/od315_of_diluted_wines  proline  \n",
       "target                                              \n",
       "0        59                            59       59  \n",
       "1        71                            71       71  \n",
       "2        48                            48       48  "
      ]
     },
     "execution_count": 20,
     "metadata": {},
     "output_type": "execute_result"
    }
   ],
   "source": [
    "winedf.groupby('target').count()"
   ]
  },
  {
   "cell_type": "code",
   "execution_count": 33,
   "id": "9c98f941",
   "metadata": {},
   "outputs": [],
   "source": [
    "from skopt.space import Real, Categorical, Integer\n",
    "from sklearn.svm import SVC\n",
    "from sklearn.model_selection import train_test_split\n",
    "from skopt import BayesSearchCV"
   ]
  },
  {
   "cell_type": "code",
   "execution_count": 31,
   "id": "219f7ed7",
   "metadata": {},
   "outputs": [],
   "source": [
    "X=winedf.iloc[:,:-1].values\n",
    "Y=winedf.iloc[:,-1].values"
   ]
  },
  {
   "cell_type": "code",
   "execution_count": 32,
   "id": "4c1b790e",
   "metadata": {},
   "outputs": [],
   "source": [
    "X_train, x_test, Y_train, y_test = train_test_split(X, Y,test_size=0.2,random_state=85)"
   ]
  },
  {
   "cell_type": "code",
   "execution_count": 29,
   "id": "8d0a5d31",
   "metadata": {},
   "outputs": [],
   "source": [
    "from sklearn.pipeline import Pipeline\n",
    "from sklearn.preprocessing import StandardScaler"
   ]
  },
  {
   "cell_type": "code",
   "execution_count": 39,
   "id": "1bbb505b",
   "metadata": {},
   "outputs": [],
   "source": [
    "Pipe=Pipeline([('scaler', StandardScaler()),('svc',SVC())])\n",
    "Bsearch={'svc':[SVC()],'svc__C':Integer(1,7,prior='uniform'),'svc__gamma':Categorical(['auto','scale']),'svc__kernel':Categorical(['poly','rbf']),'svc__degree': Integer(1,4)}\n",
    "opt=BayesSearchCV(Pipe,Bsearch)"
   ]
  },
  {
   "cell_type": "code",
   "execution_count": 40,
   "id": "bed9451b",
   "metadata": {},
   "outputs": [
    {
     "name": "stderr",
     "output_type": "stream",
     "text": [
      "/Users/arianzarifian/opt/anaconda3/lib/python3.9/site-packages/skopt/optimizer/optimizer.py:449: UserWarning: The objective has been evaluated at this point before.\n",
      "  warnings.warn(\"The objective has been evaluated \"\n",
      "/Users/arianzarifian/opt/anaconda3/lib/python3.9/site-packages/skopt/optimizer/optimizer.py:449: UserWarning: The objective has been evaluated at this point before.\n",
      "  warnings.warn(\"The objective has been evaluated \"\n",
      "/Users/arianzarifian/opt/anaconda3/lib/python3.9/site-packages/skopt/optimizer/optimizer.py:449: UserWarning: The objective has been evaluated at this point before.\n",
      "  warnings.warn(\"The objective has been evaluated \"\n",
      "/Users/arianzarifian/opt/anaconda3/lib/python3.9/site-packages/skopt/optimizer/optimizer.py:449: UserWarning: The objective has been evaluated at this point before.\n",
      "  warnings.warn(\"The objective has been evaluated \"\n",
      "/Users/arianzarifian/opt/anaconda3/lib/python3.9/site-packages/skopt/optimizer/optimizer.py:449: UserWarning: The objective has been evaluated at this point before.\n",
      "  warnings.warn(\"The objective has been evaluated \"\n",
      "/Users/arianzarifian/opt/anaconda3/lib/python3.9/site-packages/skopt/optimizer/optimizer.py:449: UserWarning: The objective has been evaluated at this point before.\n",
      "  warnings.warn(\"The objective has been evaluated \"\n",
      "/Users/arianzarifian/opt/anaconda3/lib/python3.9/site-packages/skopt/optimizer/optimizer.py:449: UserWarning: The objective has been evaluated at this point before.\n",
      "  warnings.warn(\"The objective has been evaluated \"\n",
      "/Users/arianzarifian/opt/anaconda3/lib/python3.9/site-packages/skopt/optimizer/optimizer.py:449: UserWarning: The objective has been evaluated at this point before.\n",
      "  warnings.warn(\"The objective has been evaluated \"\n",
      "/Users/arianzarifian/opt/anaconda3/lib/python3.9/site-packages/skopt/optimizer/optimizer.py:449: UserWarning: The objective has been evaluated at this point before.\n",
      "  warnings.warn(\"The objective has been evaluated \"\n",
      "/Users/arianzarifian/opt/anaconda3/lib/python3.9/site-packages/skopt/optimizer/optimizer.py:449: UserWarning: The objective has been evaluated at this point before.\n",
      "  warnings.warn(\"The objective has been evaluated \"\n",
      "/Users/arianzarifian/opt/anaconda3/lib/python3.9/site-packages/skopt/optimizer/optimizer.py:449: UserWarning: The objective has been evaluated at this point before.\n",
      "  warnings.warn(\"The objective has been evaluated \"\n",
      "/Users/arianzarifian/opt/anaconda3/lib/python3.9/site-packages/skopt/optimizer/optimizer.py:449: UserWarning: The objective has been evaluated at this point before.\n",
      "  warnings.warn(\"The objective has been evaluated \"\n",
      "/Users/arianzarifian/opt/anaconda3/lib/python3.9/site-packages/skopt/optimizer/optimizer.py:449: UserWarning: The objective has been evaluated at this point before.\n",
      "  warnings.warn(\"The objective has been evaluated \"\n",
      "/Users/arianzarifian/opt/anaconda3/lib/python3.9/site-packages/skopt/optimizer/optimizer.py:449: UserWarning: The objective has been evaluated at this point before.\n",
      "  warnings.warn(\"The objective has been evaluated \"\n",
      "/Users/arianzarifian/opt/anaconda3/lib/python3.9/site-packages/skopt/optimizer/optimizer.py:449: UserWarning: The objective has been evaluated at this point before.\n",
      "  warnings.warn(\"The objective has been evaluated \"\n",
      "/Users/arianzarifian/opt/anaconda3/lib/python3.9/site-packages/skopt/optimizer/optimizer.py:449: UserWarning: The objective has been evaluated at this point before.\n",
      "  warnings.warn(\"The objective has been evaluated \"\n"
     ]
    },
    {
     "data": {
      "text/plain": [
       "BayesSearchCV(estimator=Pipeline(steps=[('scaler', StandardScaler()),\n",
       "                                        ('svc', SVC())]),\n",
       "              search_spaces={'svc': [SVC(C=1, gamma='auto')],\n",
       "                             'svc__C': Integer(low=1, high=7, prior='uniform', transform='normalize'),\n",
       "                             'svc__degree': Integer(low=1, high=4, prior='uniform', transform='normalize'),\n",
       "                             'svc__gamma': Categorical(categories=('auto', 'scale'), prior=None),\n",
       "                             'svc__kernel': Categorical(categories=('poly', 'rbf'), prior=None)})"
      ]
     },
     "execution_count": 40,
     "metadata": {},
     "output_type": "execute_result"
    }
   ],
   "source": [
    "opt.fit(X_train, Y_train)"
   ]
  },
  {
   "cell_type": "code",
   "execution_count": 41,
   "id": "8127e2ac",
   "metadata": {},
   "outputs": [
    {
     "data": {
      "text/plain": [
       "1.0"
      ]
     },
     "execution_count": 41,
     "metadata": {},
     "output_type": "execute_result"
    }
   ],
   "source": [
    "opt.score(x_test,y_test)"
   ]
  },
  {
   "cell_type": "code",
   "execution_count": 48,
   "id": "4649b819",
   "metadata": {},
   "outputs": [],
   "source": [
    "y_predic=opt.predict(x_test)"
   ]
  },
  {
   "cell_type": "code",
   "execution_count": 49,
   "id": "72948d6c",
   "metadata": {},
   "outputs": [
    {
     "data": {
      "text/plain": [
       "array([[13,  0,  0],\n",
       "       [ 0, 15,  0],\n",
       "       [ 0,  0,  8]])"
      ]
     },
     "execution_count": 49,
     "metadata": {},
     "output_type": "execute_result"
    }
   ],
   "source": [
    "from sklearn.metrics import confusion_matrix\n",
    "confusion_matrix(y_test,y_predic)\n"
   ]
  },
  {
   "cell_type": "markdown",
   "id": "5666af34-d162-40d2-967d-2768b35dfeff",
   "metadata": {},
   "source": [
    "## linux\n"
   ]
  },
  {
   "cell_type": "code",
   "execution_count": null,
   "id": "67546622-1dc9-4330-8dd7-2b04c1dee0f7",
   "metadata": {},
   "outputs": [],
   "source": [
    "چند دیستربیوشن مهم لینوکس دز دنیای امروز را نام ببرید و منظور از کرنل چیست"
   ]
  }
 ],
 "metadata": {
  "kernelspec": {
   "display_name": "base",
   "language": "python",
   "name": "python3"
  },
  "language_info": {
   "codemirror_mode": {
    "name": "ipython",
    "version": 3
   },
   "file_extension": ".py",
   "mimetype": "text/x-python",
   "name": "python",
   "nbconvert_exporter": "python",
   "pygments_lexer": "ipython3",
   "version": "3.9.12"
  },
  "vscode": {
   "interpreter": {
    "hash": "381afda6634acabfe02de722b0985adea3cc2e228af5cdbefa626e4cfe1e2f2d"
   }
  }
 },
 "nbformat": 4,
 "nbformat_minor": 5
}
