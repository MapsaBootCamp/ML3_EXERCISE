{
  "nbformat": 4,
  "nbformat_minor": 0,
  "metadata": {
    "colab": {
      "provenance": []
    },
    "kernelspec": {
      "name": "python3",
      "display_name": "Python 3"
    },
    "language_info": {
      "name": "python"
    }
  },
  "cells": [
    {
      "cell_type": "code",
      "source": [
        "pip install fuzzywuzzy"
      ],
      "metadata": {
        "id": "2lxtKe7CSWck"
      },
      "execution_count": null,
      "outputs": []
    },
    {
      "cell_type": "code",
      "source": [
        "from sklearn.neighbors import NearestNeighbors\n",
        "from fuzzywuzzy import fuzz\n",
        "import numpy as np\n",
        "\n",
        "class Recommender:\n",
        "  def __init__(self, metric, algorithm, k, data, decode_id_song):\n",
        "    self.metric = metric\n",
        "    self.algorithm = algorithm\n",
        "    self.k = k\n",
        "    self.data = data\n",
        "    self.decode_id_song = decode_id_song\n",
        "    self.data = data\n",
        "    self.model = self._recommender().fit(data)\n",
        "    \n",
        "  def make_recommendation(self, new_song, n_recommendations):\n",
        "    recommended = self._recommend(new_song=new_song, n_recommendations=n_recommendations)\n",
        "    print(\"... Done\")\n",
        "    return recommended \n",
        "    \n",
        "  def _recommender(self):\n",
        "    return NearestNeighbors(metric=self.metric, algorithm=self.algorithm, n_neighbors=self.k, n_jobs=-1)\n",
        "    \n",
        "  def _recommend(self, new_song, n_recommendations):\n",
        "    # Get the id of the recommended songs\n",
        "    recommendations = []\n",
        "    recommendation_ids = self._get_recommendations(new_song=new_song, n_recommendations=n_recommendations)\n",
        "    # return the name of the song using a mapping dictionary\n",
        "    recommendations_map = self._map_indeces_to_song_title(recommendation_ids)\n",
        "    # Translate this recommendations into the ranking of song titles recommended\n",
        "    for i, (idx, dist) in enumerate(recommendation_ids):\n",
        "      recommendations.append(recommendations_map[idx])\n",
        "    return recommendations\n",
        "                 \n",
        "  def _get_recommendations(self, new_song, n_recommendations):\n",
        "    # Get the id of the song according to the text\n",
        "    recom_song_id = self._fuzzy_matching(song=new_song)\n",
        "    # Start the recommendation process\n",
        "    print(f\"Starting the recommendation process for {new_song} ...\")\n",
        "    # Return the n neighbors for the song id\n",
        "    distances, indices = self.model.kneighbors(self.data[recom_song_id], n_neighbors=n_recommendations+1)\n",
        "    return sorted(list(zip(indices.squeeze().tolist(), distances.squeeze().tolist())), key=lambda x: x[1])[:0:-1]\n",
        "    \n",
        "  def _map_indeces_to_song_title(self, recommendation_ids):\n",
        "    # get reverse mapper\n",
        "    return {song_id: song_title for song_title, song_id in self.decode_id_song.items()}\n",
        "  \n",
        "  def _fuzzy_matching(self, song):\n",
        "    match_tuple = []\n",
        "    # get match\n",
        "    for title, idx in self.decode_id_song.items():\n",
        "      ratio = fuzz.ratio(title.lower(), song.lower())\n",
        "      if ratio >= 60:\n",
        "        match_tuple.append((title, idx, ratio))\n",
        "        # sort\n",
        "    match_tuple = sorted(match_tuple, key=lambda x: x[2])[::-1]\n",
        "    if not match_tuple:\n",
        "      print(f\"The recommendation system could not find a match for {song}\")\n",
        "      return\n",
        "    return match_tuple[0][1]"
      ],
      "metadata": {
        "id": "Z6AKdvkGSL6f"
      },
      "execution_count": null,
      "outputs": []
    },
    {
      "cell_type": "code",
      "execution_count": null,
      "metadata": {
        "id": "THVlL8E4B0WI"
      },
      "outputs": [],
      "source": [
        "import warnings\n",
        "warnings.filterwarnings(\"ignore\", category=FutureWarning)"
      ]
    },
    {
      "cell_type": "code",
      "source": [
        "import pandas as pd\n",
        "import numpy as np\n",
        "import matplotlib.pyplot as plt\n",
        "import seaborn as sns"
      ],
      "metadata": {
        "id": "GHfvOUmnF5c7"
      },
      "execution_count": null,
      "outputs": []
    },
    {
      "cell_type": "code",
      "source": [
        "from scipy.sparse import csr_matrix"
      ],
      "metadata": {
        "id": "y3tybc5iF71r"
      },
      "execution_count": null,
      "outputs": []
    },
    {
      "cell_type": "code",
      "source": [
        "!pip install recommenders"
      ],
      "metadata": {
        "id": "VqEXja__N7Ul"
      },
      "execution_count": null,
      "outputs": []
    },
    {
      "cell_type": "code",
      "source": [
        "from recommeders.knn_recommender import Recommender"
      ],
      "metadata": {
        "id": "GlPkVxgvMcZz"
      },
      "execution_count": null,
      "outputs": []
    },
    {
      "cell_type": "code",
      "source": [
        "song_info = pd.read_csv('10000.txt',sep='\\t',header=None)\n",
        "song_info.columns = ['user_id', 'song_id', 'listen_count']"
      ],
      "metadata": {
        "id": "Gyui2eEaGCLN"
      },
      "execution_count": null,
      "outputs": []
    },
    {
      "cell_type": "code",
      "source": [
        "song_actual =  pd.read_csv('song_data.csv')\n",
        "song_actual.drop_duplicates(['song_id'], inplace=True)"
      ],
      "metadata": {
        "id": "T-lchaKbHbco"
      },
      "execution_count": null,
      "outputs": []
    },
    {
      "cell_type": "code",
      "source": [
        "songs = pd.merge(song_info, song_actual, on=\"song_id\", how=\"left\")\n",
        "songs.head()"
      ],
      "metadata": {
        "colab": {
          "base_uri": "https://localhost:8080/",
          "height": 206
        },
        "id": "r-BlTgrlHoO-",
        "outputId": "c4160316-0994-44b2-cab7-18cb300c525e"
      },
      "execution_count": null,
      "outputs": [
        {
          "output_type": "execute_result",
          "data": {
            "text/plain": [
              "                                    user_id             song_id  listen_count  \\\n",
              "0  b80344d063b5ccb3212f76538f3d9e43d87dca9e  SOAKIMP12A8C130995           1.0   \n",
              "1  b80344d063b5ccb3212f76538f3d9e43d87dca9e  SOBBMDR12A8C13253B           2.0   \n",
              "2  b80344d063b5ccb3212f76538f3d9e43d87dca9e  SOBXHDL12A81C204C0           1.0   \n",
              "3  b80344d063b5ccb3212f76538f3d9e43d87dca9e  SOBYHAJ12A6701BF1D           1.0   \n",
              "4  b80344d063b5ccb3212f76538f3d9e43d87dca9e  SODACBL12A8C13C273           1.0   \n",
              "\n",
              "             title                        release    artist_name    year  \n",
              "0         The Cove             Thicker Than Water   Jack Johnson     0.0  \n",
              "1  Entre Dos Aguas            Flamenco Para Niños  Paco De Lucia  1976.0  \n",
              "2         Stronger                     Graduation     Kanye West  2007.0  \n",
              "3   Constellations              In Between Dreams   Jack Johnson  2005.0  \n",
              "4     Learn To Fly  There Is Nothing Left To Lose   Foo Fighters  1999.0  "
            ],
            "text/html": [
              "\n",
              "  <div id=\"df-801fca5e-8cc1-4865-87ad-1a201b5f32f8\">\n",
              "    <div class=\"colab-df-container\">\n",
              "      <div>\n",
              "<style scoped>\n",
              "    .dataframe tbody tr th:only-of-type {\n",
              "        vertical-align: middle;\n",
              "    }\n",
              "\n",
              "    .dataframe tbody tr th {\n",
              "        vertical-align: top;\n",
              "    }\n",
              "\n",
              "    .dataframe thead th {\n",
              "        text-align: right;\n",
              "    }\n",
              "</style>\n",
              "<table border=\"1\" class=\"dataframe\">\n",
              "  <thead>\n",
              "    <tr style=\"text-align: right;\">\n",
              "      <th></th>\n",
              "      <th>user_id</th>\n",
              "      <th>song_id</th>\n",
              "      <th>listen_count</th>\n",
              "      <th>title</th>\n",
              "      <th>release</th>\n",
              "      <th>artist_name</th>\n",
              "      <th>year</th>\n",
              "    </tr>\n",
              "  </thead>\n",
              "  <tbody>\n",
              "    <tr>\n",
              "      <th>0</th>\n",
              "      <td>b80344d063b5ccb3212f76538f3d9e43d87dca9e</td>\n",
              "      <td>SOAKIMP12A8C130995</td>\n",
              "      <td>1.0</td>\n",
              "      <td>The Cove</td>\n",
              "      <td>Thicker Than Water</td>\n",
              "      <td>Jack Johnson</td>\n",
              "      <td>0.0</td>\n",
              "    </tr>\n",
              "    <tr>\n",
              "      <th>1</th>\n",
              "      <td>b80344d063b5ccb3212f76538f3d9e43d87dca9e</td>\n",
              "      <td>SOBBMDR12A8C13253B</td>\n",
              "      <td>2.0</td>\n",
              "      <td>Entre Dos Aguas</td>\n",
              "      <td>Flamenco Para Niños</td>\n",
              "      <td>Paco De Lucia</td>\n",
              "      <td>1976.0</td>\n",
              "    </tr>\n",
              "    <tr>\n",
              "      <th>2</th>\n",
              "      <td>b80344d063b5ccb3212f76538f3d9e43d87dca9e</td>\n",
              "      <td>SOBXHDL12A81C204C0</td>\n",
              "      <td>1.0</td>\n",
              "      <td>Stronger</td>\n",
              "      <td>Graduation</td>\n",
              "      <td>Kanye West</td>\n",
              "      <td>2007.0</td>\n",
              "    </tr>\n",
              "    <tr>\n",
              "      <th>3</th>\n",
              "      <td>b80344d063b5ccb3212f76538f3d9e43d87dca9e</td>\n",
              "      <td>SOBYHAJ12A6701BF1D</td>\n",
              "      <td>1.0</td>\n",
              "      <td>Constellations</td>\n",
              "      <td>In Between Dreams</td>\n",
              "      <td>Jack Johnson</td>\n",
              "      <td>2005.0</td>\n",
              "    </tr>\n",
              "    <tr>\n",
              "      <th>4</th>\n",
              "      <td>b80344d063b5ccb3212f76538f3d9e43d87dca9e</td>\n",
              "      <td>SODACBL12A8C13C273</td>\n",
              "      <td>1.0</td>\n",
              "      <td>Learn To Fly</td>\n",
              "      <td>There Is Nothing Left To Lose</td>\n",
              "      <td>Foo Fighters</td>\n",
              "      <td>1999.0</td>\n",
              "    </tr>\n",
              "  </tbody>\n",
              "</table>\n",
              "</div>\n",
              "      <button class=\"colab-df-convert\" onclick=\"convertToInteractive('df-801fca5e-8cc1-4865-87ad-1a201b5f32f8')\"\n",
              "              title=\"Convert this dataframe to an interactive table.\"\n",
              "              style=\"display:none;\">\n",
              "        \n",
              "  <svg xmlns=\"http://www.w3.org/2000/svg\" height=\"24px\"viewBox=\"0 0 24 24\"\n",
              "       width=\"24px\">\n",
              "    <path d=\"M0 0h24v24H0V0z\" fill=\"none\"/>\n",
              "    <path d=\"M18.56 5.44l.94 2.06.94-2.06 2.06-.94-2.06-.94-.94-2.06-.94 2.06-2.06.94zm-11 1L8.5 8.5l.94-2.06 2.06-.94-2.06-.94L8.5 2.5l-.94 2.06-2.06.94zm10 10l.94 2.06.94-2.06 2.06-.94-2.06-.94-.94-2.06-.94 2.06-2.06.94z\"/><path d=\"M17.41 7.96l-1.37-1.37c-.4-.4-.92-.59-1.43-.59-.52 0-1.04.2-1.43.59L10.3 9.45l-7.72 7.72c-.78.78-.78 2.05 0 2.83L4 21.41c.39.39.9.59 1.41.59.51 0 1.02-.2 1.41-.59l7.78-7.78 2.81-2.81c.8-.78.8-2.07 0-2.86zM5.41 20L4 18.59l7.72-7.72 1.47 1.35L5.41 20z\"/>\n",
              "  </svg>\n",
              "      </button>\n",
              "      \n",
              "  <style>\n",
              "    .colab-df-container {\n",
              "      display:flex;\n",
              "      flex-wrap:wrap;\n",
              "      gap: 12px;\n",
              "    }\n",
              "\n",
              "    .colab-df-convert {\n",
              "      background-color: #E8F0FE;\n",
              "      border: none;\n",
              "      border-radius: 50%;\n",
              "      cursor: pointer;\n",
              "      display: none;\n",
              "      fill: #1967D2;\n",
              "      height: 32px;\n",
              "      padding: 0 0 0 0;\n",
              "      width: 32px;\n",
              "    }\n",
              "\n",
              "    .colab-df-convert:hover {\n",
              "      background-color: #E2EBFA;\n",
              "      box-shadow: 0px 1px 2px rgba(60, 64, 67, 0.3), 0px 1px 3px 1px rgba(60, 64, 67, 0.15);\n",
              "      fill: #174EA6;\n",
              "    }\n",
              "\n",
              "    [theme=dark] .colab-df-convert {\n",
              "      background-color: #3B4455;\n",
              "      fill: #D2E3FC;\n",
              "    }\n",
              "\n",
              "    [theme=dark] .colab-df-convert:hover {\n",
              "      background-color: #434B5C;\n",
              "      box-shadow: 0px 1px 3px 1px rgba(0, 0, 0, 0.15);\n",
              "      filter: drop-shadow(0px 1px 2px rgba(0, 0, 0, 0.3));\n",
              "      fill: #FFFFFF;\n",
              "    }\n",
              "  </style>\n",
              "\n",
              "      <script>\n",
              "        const buttonEl =\n",
              "          document.querySelector('#df-801fca5e-8cc1-4865-87ad-1a201b5f32f8 button.colab-df-convert');\n",
              "        buttonEl.style.display =\n",
              "          google.colab.kernel.accessAllowed ? 'block' : 'none';\n",
              "\n",
              "        async function convertToInteractive(key) {\n",
              "          const element = document.querySelector('#df-801fca5e-8cc1-4865-87ad-1a201b5f32f8');\n",
              "          const dataTable =\n",
              "            await google.colab.kernel.invokeFunction('convertToInteractive',\n",
              "                                                     [key], {});\n",
              "          if (!dataTable) return;\n",
              "\n",
              "          const docLinkHtml = 'Like what you see? Visit the ' +\n",
              "            '<a target=\"_blank\" href=https://colab.research.google.com/notebooks/data_table.ipynb>data table notebook</a>'\n",
              "            + ' to learn more about interactive tables.';\n",
              "          element.innerHTML = '';\n",
              "          dataTable['output_type'] = 'display_data';\n",
              "          await google.colab.output.renderOutput(dataTable, element);\n",
              "          const docLink = document.createElement('div');\n",
              "          docLink.innerHTML = docLinkHtml;\n",
              "          element.appendChild(docLink);\n",
              "        }\n",
              "      </script>\n",
              "    </div>\n",
              "  </div>\n",
              "  "
            ]
          },
          "metadata": {},
          "execution_count": 19
        }
      ]
    },
    {
      "cell_type": "code",
      "source": [
        "songs.to_csv('songs.csv', index=False)"
      ],
      "metadata": {
        "id": "vZX_VeJJMC7J"
      },
      "execution_count": null,
      "outputs": []
    },
    {
      "cell_type": "code",
      "source": [
        "df_songs = pd.read_csv('songs.csv')\n",
        "df_songs.head()"
      ],
      "metadata": {
        "colab": {
          "base_uri": "https://localhost:8080/",
          "height": 206
        },
        "id": "q2gonnprMFO1",
        "outputId": "2bb40bbf-fdab-4049-e062-619274c4b59e"
      },
      "execution_count": null,
      "outputs": [
        {
          "output_type": "execute_result",
          "data": {
            "text/plain": [
              "                                    user_id             song_id  listen_count  \\\n",
              "0  b80344d063b5ccb3212f76538f3d9e43d87dca9e  SOAKIMP12A8C130995           1.0   \n",
              "1  b80344d063b5ccb3212f76538f3d9e43d87dca9e  SOBBMDR12A8C13253B           2.0   \n",
              "2  b80344d063b5ccb3212f76538f3d9e43d87dca9e  SOBXHDL12A81C204C0           1.0   \n",
              "3  b80344d063b5ccb3212f76538f3d9e43d87dca9e  SOBYHAJ12A6701BF1D           1.0   \n",
              "4  b80344d063b5ccb3212f76538f3d9e43d87dca9e  SODACBL12A8C13C273           1.0   \n",
              "\n",
              "             title                        release    artist_name    year  \n",
              "0         The Cove             Thicker Than Water   Jack Johnson     0.0  \n",
              "1  Entre Dos Aguas            Flamenco Para Niños  Paco De Lucia  1976.0  \n",
              "2         Stronger                     Graduation     Kanye West  2007.0  \n",
              "3   Constellations              In Between Dreams   Jack Johnson  2005.0  \n",
              "4     Learn To Fly  There Is Nothing Left To Lose   Foo Fighters  1999.0  "
            ],
            "text/html": [
              "\n",
              "  <div id=\"df-a7a62695-8859-4262-aec9-c52923ea8673\">\n",
              "    <div class=\"colab-df-container\">\n",
              "      <div>\n",
              "<style scoped>\n",
              "    .dataframe tbody tr th:only-of-type {\n",
              "        vertical-align: middle;\n",
              "    }\n",
              "\n",
              "    .dataframe tbody tr th {\n",
              "        vertical-align: top;\n",
              "    }\n",
              "\n",
              "    .dataframe thead th {\n",
              "        text-align: right;\n",
              "    }\n",
              "</style>\n",
              "<table border=\"1\" class=\"dataframe\">\n",
              "  <thead>\n",
              "    <tr style=\"text-align: right;\">\n",
              "      <th></th>\n",
              "      <th>user_id</th>\n",
              "      <th>song_id</th>\n",
              "      <th>listen_count</th>\n",
              "      <th>title</th>\n",
              "      <th>release</th>\n",
              "      <th>artist_name</th>\n",
              "      <th>year</th>\n",
              "    </tr>\n",
              "  </thead>\n",
              "  <tbody>\n",
              "    <tr>\n",
              "      <th>0</th>\n",
              "      <td>b80344d063b5ccb3212f76538f3d9e43d87dca9e</td>\n",
              "      <td>SOAKIMP12A8C130995</td>\n",
              "      <td>1.0</td>\n",
              "      <td>The Cove</td>\n",
              "      <td>Thicker Than Water</td>\n",
              "      <td>Jack Johnson</td>\n",
              "      <td>0.0</td>\n",
              "    </tr>\n",
              "    <tr>\n",
              "      <th>1</th>\n",
              "      <td>b80344d063b5ccb3212f76538f3d9e43d87dca9e</td>\n",
              "      <td>SOBBMDR12A8C13253B</td>\n",
              "      <td>2.0</td>\n",
              "      <td>Entre Dos Aguas</td>\n",
              "      <td>Flamenco Para Niños</td>\n",
              "      <td>Paco De Lucia</td>\n",
              "      <td>1976.0</td>\n",
              "    </tr>\n",
              "    <tr>\n",
              "      <th>2</th>\n",
              "      <td>b80344d063b5ccb3212f76538f3d9e43d87dca9e</td>\n",
              "      <td>SOBXHDL12A81C204C0</td>\n",
              "      <td>1.0</td>\n",
              "      <td>Stronger</td>\n",
              "      <td>Graduation</td>\n",
              "      <td>Kanye West</td>\n",
              "      <td>2007.0</td>\n",
              "    </tr>\n",
              "    <tr>\n",
              "      <th>3</th>\n",
              "      <td>b80344d063b5ccb3212f76538f3d9e43d87dca9e</td>\n",
              "      <td>SOBYHAJ12A6701BF1D</td>\n",
              "      <td>1.0</td>\n",
              "      <td>Constellations</td>\n",
              "      <td>In Between Dreams</td>\n",
              "      <td>Jack Johnson</td>\n",
              "      <td>2005.0</td>\n",
              "    </tr>\n",
              "    <tr>\n",
              "      <th>4</th>\n",
              "      <td>b80344d063b5ccb3212f76538f3d9e43d87dca9e</td>\n",
              "      <td>SODACBL12A8C13C273</td>\n",
              "      <td>1.0</td>\n",
              "      <td>Learn To Fly</td>\n",
              "      <td>There Is Nothing Left To Lose</td>\n",
              "      <td>Foo Fighters</td>\n",
              "      <td>1999.0</td>\n",
              "    </tr>\n",
              "  </tbody>\n",
              "</table>\n",
              "</div>\n",
              "      <button class=\"colab-df-convert\" onclick=\"convertToInteractive('df-a7a62695-8859-4262-aec9-c52923ea8673')\"\n",
              "              title=\"Convert this dataframe to an interactive table.\"\n",
              "              style=\"display:none;\">\n",
              "        \n",
              "  <svg xmlns=\"http://www.w3.org/2000/svg\" height=\"24px\"viewBox=\"0 0 24 24\"\n",
              "       width=\"24px\">\n",
              "    <path d=\"M0 0h24v24H0V0z\" fill=\"none\"/>\n",
              "    <path d=\"M18.56 5.44l.94 2.06.94-2.06 2.06-.94-2.06-.94-.94-2.06-.94 2.06-2.06.94zm-11 1L8.5 8.5l.94-2.06 2.06-.94-2.06-.94L8.5 2.5l-.94 2.06-2.06.94zm10 10l.94 2.06.94-2.06 2.06-.94-2.06-.94-.94-2.06-.94 2.06-2.06.94z\"/><path d=\"M17.41 7.96l-1.37-1.37c-.4-.4-.92-.59-1.43-.59-.52 0-1.04.2-1.43.59L10.3 9.45l-7.72 7.72c-.78.78-.78 2.05 0 2.83L4 21.41c.39.39.9.59 1.41.59.51 0 1.02-.2 1.41-.59l7.78-7.78 2.81-2.81c.8-.78.8-2.07 0-2.86zM5.41 20L4 18.59l7.72-7.72 1.47 1.35L5.41 20z\"/>\n",
              "  </svg>\n",
              "      </button>\n",
              "      \n",
              "  <style>\n",
              "    .colab-df-container {\n",
              "      display:flex;\n",
              "      flex-wrap:wrap;\n",
              "      gap: 12px;\n",
              "    }\n",
              "\n",
              "    .colab-df-convert {\n",
              "      background-color: #E8F0FE;\n",
              "      border: none;\n",
              "      border-radius: 50%;\n",
              "      cursor: pointer;\n",
              "      display: none;\n",
              "      fill: #1967D2;\n",
              "      height: 32px;\n",
              "      padding: 0 0 0 0;\n",
              "      width: 32px;\n",
              "    }\n",
              "\n",
              "    .colab-df-convert:hover {\n",
              "      background-color: #E2EBFA;\n",
              "      box-shadow: 0px 1px 2px rgba(60, 64, 67, 0.3), 0px 1px 3px 1px rgba(60, 64, 67, 0.15);\n",
              "      fill: #174EA6;\n",
              "    }\n",
              "\n",
              "    [theme=dark] .colab-df-convert {\n",
              "      background-color: #3B4455;\n",
              "      fill: #D2E3FC;\n",
              "    }\n",
              "\n",
              "    [theme=dark] .colab-df-convert:hover {\n",
              "      background-color: #434B5C;\n",
              "      box-shadow: 0px 1px 3px 1px rgba(0, 0, 0, 0.15);\n",
              "      filter: drop-shadow(0px 1px 2px rgba(0, 0, 0, 0.3));\n",
              "      fill: #FFFFFF;\n",
              "    }\n",
              "  </style>\n",
              "\n",
              "      <script>\n",
              "        const buttonEl =\n",
              "          document.querySelector('#df-a7a62695-8859-4262-aec9-c52923ea8673 button.colab-df-convert');\n",
              "        buttonEl.style.display =\n",
              "          google.colab.kernel.accessAllowed ? 'block' : 'none';\n",
              "\n",
              "        async function convertToInteractive(key) {\n",
              "          const element = document.querySelector('#df-a7a62695-8859-4262-aec9-c52923ea8673');\n",
              "          const dataTable =\n",
              "            await google.colab.kernel.invokeFunction('convertToInteractive',\n",
              "                                                     [key], {});\n",
              "          if (!dataTable) return;\n",
              "\n",
              "          const docLinkHtml = 'Like what you see? Visit the ' +\n",
              "            '<a target=\"_blank\" href=https://colab.research.google.com/notebooks/data_table.ipynb>data table notebook</a>'\n",
              "            + ' to learn more about interactive tables.';\n",
              "          element.innerHTML = '';\n",
              "          dataTable['output_type'] = 'display_data';\n",
              "          await google.colab.output.renderOutput(dataTable, element);\n",
              "          const docLink = document.createElement('div');\n",
              "          docLink.innerHTML = docLinkHtml;\n",
              "          element.appendChild(docLink);\n",
              "        }\n",
              "      </script>\n",
              "    </div>\n",
              "  </div>\n",
              "  "
            ]
          },
          "metadata": {},
          "execution_count": 31
        }
      ]
    },
    {
      "cell_type": "code",
      "source": [
        "print(f\"There are {df_songs.shape[0]} observations in the dataset\")"
      ],
      "metadata": {
        "colab": {
          "base_uri": "https://localhost:8080/"
        },
        "id": "4E6V7BTxIfoB",
        "outputId": "73b1fd52-f68d-4732-dd21-68174b213e4d"
      },
      "execution_count": null,
      "outputs": [
        {
          "output_type": "stream",
          "name": "stdout",
          "text": [
            "There are 135177 observations in the dataset\n"
          ]
        }
      ]
    },
    {
      "cell_type": "code",
      "source": [
        "unique_songs = df_songs['title'].unique().shape[0]\n",
        "print(f\"There are {unique_songs} unique songs in the dataset\")"
      ],
      "metadata": {
        "colab": {
          "base_uri": "https://localhost:8080/"
        },
        "id": "NI9c2jOmInBt",
        "outputId": "08bad5ee-e64b-4ab3-cc97-034f2afb3e22"
      },
      "execution_count": null,
      "outputs": [
        {
          "output_type": "stream",
          "name": "stdout",
          "text": [
            "There are 9555 unique songs in the dataset\n"
          ]
        }
      ]
    },
    {
      "cell_type": "code",
      "source": [
        "unique_artists = df_songs['artist_name'].unique().shape[0]\n",
        "print(f\"There are {unique_artists} unique artists in the dataset\")"
      ],
      "metadata": {
        "colab": {
          "base_uri": "https://localhost:8080/"
        },
        "id": "77muibVqIphB",
        "outputId": "f883e0e1-bacc-4b28-f079-4039568a157d"
      },
      "execution_count": null,
      "outputs": [
        {
          "output_type": "stream",
          "name": "stdout",
          "text": [
            "There are 3374 unique artists in the dataset\n"
          ]
        }
      ]
    },
    {
      "cell_type": "code",
      "source": [
        "unique_users = df_songs['user_id'].unique().shape[0]\n",
        "print(f\"There are {unique_users} unique users in the dataset\")"
      ],
      "metadata": {
        "colab": {
          "base_uri": "https://localhost:8080/"
        },
        "id": "bXIbwUrvIsQu",
        "outputId": "d0640e37-7d46-4a0c-92ad-e7ae7aabb85d"
      },
      "execution_count": null,
      "outputs": [
        {
          "output_type": "stream",
          "name": "stdout",
          "text": [
            "There are 5182 unique users in the dataset\n"
          ]
        }
      ]
    },
    {
      "cell_type": "code",
      "source": [
        "ten_pop_songs = df_songs.groupby('title')['listen_count'].count().reset_index().sort_values(['listen_count', 'title'], ascending = [0,1])\n",
        "ten_pop_songs['percentage']  = round(ten_pop_songs['listen_count'].div(ten_pop_songs['listen_count'].sum())*100, 2)"
      ],
      "metadata": {
        "id": "ZmUhUsypIv7t"
      },
      "execution_count": null,
      "outputs": []
    },
    {
      "cell_type": "code",
      "source": [
        "ten_pop_songs = ten_pop_songs[:10]\n",
        "ten_pop_songs"
      ],
      "metadata": {
        "colab": {
          "base_uri": "https://localhost:8080/",
          "height": 363
        },
        "id": "4A9nl9RdIyUv",
        "outputId": "5776046e-db62-4a5c-b434-f285c386dd6d"
      },
      "execution_count": null,
      "outputs": [
        {
          "output_type": "execute_result",
          "data": {
            "text/plain": [
              "                                                  title  listen_count  \\\n",
              "6826                                      Sehr kosmisch           591   \n",
              "8713                                               Undo           495   \n",
              "1959                     Dog Days Are Over (Radio Edit)           490   \n",
              "9483                                     You're The One           443   \n",
              "6815                                            Secrets           429   \n",
              "6488                                            Revelry           414   \n",
              "3431  Horn Concerto No. 4 in E flat K495: II. Romanc...           348   \n",
              "2590                                          Fireflies           339   \n",
              "8482                                           Tive Sim           327   \n",
              "3316                                   Hey_ Soul Sister           318   \n",
              "\n",
              "      percentage  \n",
              "6826        0.44  \n",
              "8713        0.37  \n",
              "1959        0.36  \n",
              "9483        0.33  \n",
              "6815        0.32  \n",
              "6488        0.31  \n",
              "3431        0.26  \n",
              "2590        0.25  \n",
              "8482        0.24  \n",
              "3316        0.24  "
            ],
            "text/html": [
              "\n",
              "  <div id=\"df-48da5de0-d5af-447a-915a-e16f3ed3f0fd\">\n",
              "    <div class=\"colab-df-container\">\n",
              "      <div>\n",
              "<style scoped>\n",
              "    .dataframe tbody tr th:only-of-type {\n",
              "        vertical-align: middle;\n",
              "    }\n",
              "\n",
              "    .dataframe tbody tr th {\n",
              "        vertical-align: top;\n",
              "    }\n",
              "\n",
              "    .dataframe thead th {\n",
              "        text-align: right;\n",
              "    }\n",
              "</style>\n",
              "<table border=\"1\" class=\"dataframe\">\n",
              "  <thead>\n",
              "    <tr style=\"text-align: right;\">\n",
              "      <th></th>\n",
              "      <th>title</th>\n",
              "      <th>listen_count</th>\n",
              "      <th>percentage</th>\n",
              "    </tr>\n",
              "  </thead>\n",
              "  <tbody>\n",
              "    <tr>\n",
              "      <th>6826</th>\n",
              "      <td>Sehr kosmisch</td>\n",
              "      <td>591</td>\n",
              "      <td>0.44</td>\n",
              "    </tr>\n",
              "    <tr>\n",
              "      <th>8713</th>\n",
              "      <td>Undo</td>\n",
              "      <td>495</td>\n",
              "      <td>0.37</td>\n",
              "    </tr>\n",
              "    <tr>\n",
              "      <th>1959</th>\n",
              "      <td>Dog Days Are Over (Radio Edit)</td>\n",
              "      <td>490</td>\n",
              "      <td>0.36</td>\n",
              "    </tr>\n",
              "    <tr>\n",
              "      <th>9483</th>\n",
              "      <td>You're The One</td>\n",
              "      <td>443</td>\n",
              "      <td>0.33</td>\n",
              "    </tr>\n",
              "    <tr>\n",
              "      <th>6815</th>\n",
              "      <td>Secrets</td>\n",
              "      <td>429</td>\n",
              "      <td>0.32</td>\n",
              "    </tr>\n",
              "    <tr>\n",
              "      <th>6488</th>\n",
              "      <td>Revelry</td>\n",
              "      <td>414</td>\n",
              "      <td>0.31</td>\n",
              "    </tr>\n",
              "    <tr>\n",
              "      <th>3431</th>\n",
              "      <td>Horn Concerto No. 4 in E flat K495: II. Romanc...</td>\n",
              "      <td>348</td>\n",
              "      <td>0.26</td>\n",
              "    </tr>\n",
              "    <tr>\n",
              "      <th>2590</th>\n",
              "      <td>Fireflies</td>\n",
              "      <td>339</td>\n",
              "      <td>0.25</td>\n",
              "    </tr>\n",
              "    <tr>\n",
              "      <th>8482</th>\n",
              "      <td>Tive Sim</td>\n",
              "      <td>327</td>\n",
              "      <td>0.24</td>\n",
              "    </tr>\n",
              "    <tr>\n",
              "      <th>3316</th>\n",
              "      <td>Hey_ Soul Sister</td>\n",
              "      <td>318</td>\n",
              "      <td>0.24</td>\n",
              "    </tr>\n",
              "  </tbody>\n",
              "</table>\n",
              "</div>\n",
              "      <button class=\"colab-df-convert\" onclick=\"convertToInteractive('df-48da5de0-d5af-447a-915a-e16f3ed3f0fd')\"\n",
              "              title=\"Convert this dataframe to an interactive table.\"\n",
              "              style=\"display:none;\">\n",
              "        \n",
              "  <svg xmlns=\"http://www.w3.org/2000/svg\" height=\"24px\"viewBox=\"0 0 24 24\"\n",
              "       width=\"24px\">\n",
              "    <path d=\"M0 0h24v24H0V0z\" fill=\"none\"/>\n",
              "    <path d=\"M18.56 5.44l.94 2.06.94-2.06 2.06-.94-2.06-.94-.94-2.06-.94 2.06-2.06.94zm-11 1L8.5 8.5l.94-2.06 2.06-.94-2.06-.94L8.5 2.5l-.94 2.06-2.06.94zm10 10l.94 2.06.94-2.06 2.06-.94-2.06-.94-.94-2.06-.94 2.06-2.06.94z\"/><path d=\"M17.41 7.96l-1.37-1.37c-.4-.4-.92-.59-1.43-.59-.52 0-1.04.2-1.43.59L10.3 9.45l-7.72 7.72c-.78.78-.78 2.05 0 2.83L4 21.41c.39.39.9.59 1.41.59.51 0 1.02-.2 1.41-.59l7.78-7.78 2.81-2.81c.8-.78.8-2.07 0-2.86zM5.41 20L4 18.59l7.72-7.72 1.47 1.35L5.41 20z\"/>\n",
              "  </svg>\n",
              "      </button>\n",
              "      \n",
              "  <style>\n",
              "    .colab-df-container {\n",
              "      display:flex;\n",
              "      flex-wrap:wrap;\n",
              "      gap: 12px;\n",
              "    }\n",
              "\n",
              "    .colab-df-convert {\n",
              "      background-color: #E8F0FE;\n",
              "      border: none;\n",
              "      border-radius: 50%;\n",
              "      cursor: pointer;\n",
              "      display: none;\n",
              "      fill: #1967D2;\n",
              "      height: 32px;\n",
              "      padding: 0 0 0 0;\n",
              "      width: 32px;\n",
              "    }\n",
              "\n",
              "    .colab-df-convert:hover {\n",
              "      background-color: #E2EBFA;\n",
              "      box-shadow: 0px 1px 2px rgba(60, 64, 67, 0.3), 0px 1px 3px 1px rgba(60, 64, 67, 0.15);\n",
              "      fill: #174EA6;\n",
              "    }\n",
              "\n",
              "    [theme=dark] .colab-df-convert {\n",
              "      background-color: #3B4455;\n",
              "      fill: #D2E3FC;\n",
              "    }\n",
              "\n",
              "    [theme=dark] .colab-df-convert:hover {\n",
              "      background-color: #434B5C;\n",
              "      box-shadow: 0px 1px 3px 1px rgba(0, 0, 0, 0.15);\n",
              "      filter: drop-shadow(0px 1px 2px rgba(0, 0, 0, 0.3));\n",
              "      fill: #FFFFFF;\n",
              "    }\n",
              "  </style>\n",
              "\n",
              "      <script>\n",
              "        const buttonEl =\n",
              "          document.querySelector('#df-48da5de0-d5af-447a-915a-e16f3ed3f0fd button.colab-df-convert');\n",
              "        buttonEl.style.display =\n",
              "          google.colab.kernel.accessAllowed ? 'block' : 'none';\n",
              "\n",
              "        async function convertToInteractive(key) {\n",
              "          const element = document.querySelector('#df-48da5de0-d5af-447a-915a-e16f3ed3f0fd');\n",
              "          const dataTable =\n",
              "            await google.colab.kernel.invokeFunction('convertToInteractive',\n",
              "                                                     [key], {});\n",
              "          if (!dataTable) return;\n",
              "\n",
              "          const docLinkHtml = 'Like what you see? Visit the ' +\n",
              "            '<a target=\"_blank\" href=https://colab.research.google.com/notebooks/data_table.ipynb>data table notebook</a>'\n",
              "            + ' to learn more about interactive tables.';\n",
              "          element.innerHTML = '';\n",
              "          dataTable['output_type'] = 'display_data';\n",
              "          await google.colab.output.renderOutput(dataTable, element);\n",
              "          const docLink = document.createElement('div');\n",
              "          docLink.innerHTML = docLinkHtml;\n",
              "          element.appendChild(docLink);\n",
              "        }\n",
              "      </script>\n",
              "    </div>\n",
              "  </div>\n",
              "  "
            ]
          },
          "metadata": {},
          "execution_count": 39
        }
      ]
    },
    {
      "cell_type": "code",
      "source": [
        "labels = ten_pop_songs['title'].tolist()\n",
        "counts = ten_pop_songs['listen_count'].tolist()"
      ],
      "metadata": {
        "id": "oHzhq1MgI10g"
      },
      "execution_count": null,
      "outputs": []
    },
    {
      "cell_type": "code",
      "source": [
        "plt.figure()\n",
        "sns.barplot(x=counts, y=labels, palette='Set3')\n",
        "sns.despine(left=True, bottom=True)"
      ],
      "metadata": {
        "colab": {
          "base_uri": "https://localhost:8080/",
          "height": 265
        },
        "id": "d3ArMjePI3jX",
        "outputId": "0490861e-d4cb-4f3b-f759-ff39ac6fdab9"
      },
      "execution_count": null,
      "outputs": [
        {
          "output_type": "display_data",
          "data": {
            "text/plain": [
              "<Figure size 432x288 with 1 Axes>"
            ],
            "image/png": "[encoded data removed]"
          },
          "metadata": {
            "needs_background": "light"
          }
        }
      ]
    },
    {
      "cell_type": "code",
      "source": [
        "ten_pop_artists  = df_songs.groupby(['artist_name'])['listen_count'].count().reset_index().sort_values(['listen_count', 'artist_name'], ascending = [0,1])"
      ],
      "metadata": {
        "id": "3XbJN7kII6xd"
      },
      "execution_count": null,
      "outputs": []
    },
    {
      "cell_type": "code",
      "source": [
        "ten_pop_artists = ten_pop_artists[:10]\n",
        "ten_pop_artists"
      ],
      "metadata": {
        "colab": {
          "base_uri": "https://localhost:8080/",
          "height": 363
        },
        "id": "NAAH0OzOI-1m",
        "outputId": "0d4bcf64-395b-49a3-d850-2d8425a4e7e4"
      },
      "execution_count": null,
      "outputs": [
        {
          "output_type": "execute_result",
          "data": {
            "text/plain": [
              "                 artist_name  listen_count\n",
              "647                 Coldplay          1903\n",
              "2848          The Black Keys          1518\n",
              "1105  Florence + The Machine          1312\n",
              "1649           Kings Of Leon          1273\n",
              "1368            Jack Johnson          1205\n",
              "2944             The Killers          1039\n",
              "2372               Radiohead           967\n",
              "734                Daft Punk           944\n",
              "1552           Justin Bieber           922\n",
              "976                   Eminem           849"
            ],
            "text/html": [
              "\n",
              "  <div id=\"df-ace13047-da6b-4cbe-b58c-5cc76a63d1da\">\n",
              "    <div class=\"colab-df-container\">\n",
              "      <div>\n",
              "<style scoped>\n",
              "    .dataframe tbody tr th:only-of-type {\n",
              "        vertical-align: middle;\n",
              "    }\n",
              "\n",
              "    .dataframe tbody tr th {\n",
              "        vertical-align: top;\n",
              "    }\n",
              "\n",
              "    .dataframe thead th {\n",
              "        text-align: right;\n",
              "    }\n",
              "</style>\n",
              "<table border=\"1\" class=\"dataframe\">\n",
              "  <thead>\n",
              "    <tr style=\"text-align: right;\">\n",
              "      <th></th>\n",
              "      <th>artist_name</th>\n",
              "      <th>listen_count</th>\n",
              "    </tr>\n",
              "  </thead>\n",
              "  <tbody>\n",
              "    <tr>\n",
              "      <th>647</th>\n",
              "      <td>Coldplay</td>\n",
              "      <td>1903</td>\n",
              "    </tr>\n",
              "    <tr>\n",
              "      <th>2848</th>\n",
              "      <td>The Black Keys</td>\n",
              "      <td>1518</td>\n",
              "    </tr>\n",
              "    <tr>\n",
              "      <th>1105</th>\n",
              "      <td>Florence + The Machine</td>\n",
              "      <td>1312</td>\n",
              "    </tr>\n",
              "    <tr>\n",
              "      <th>1649</th>\n",
              "      <td>Kings Of Leon</td>\n",
              "      <td>1273</td>\n",
              "    </tr>\n",
              "    <tr>\n",
              "      <th>1368</th>\n",
              "      <td>Jack Johnson</td>\n",
              "      <td>1205</td>\n",
              "    </tr>\n",
              "    <tr>\n",
              "      <th>2944</th>\n",
              "      <td>The Killers</td>\n",
              "      <td>1039</td>\n",
              "    </tr>\n",
              "    <tr>\n",
              "      <th>2372</th>\n",
              "      <td>Radiohead</td>\n",
              "      <td>967</td>\n",
              "    </tr>\n",
              "    <tr>\n",
              "      <th>734</th>\n",
              "      <td>Daft Punk</td>\n",
              "      <td>944</td>\n",
              "    </tr>\n",
              "    <tr>\n",
              "      <th>1552</th>\n",
              "      <td>Justin Bieber</td>\n",
              "      <td>922</td>\n",
              "    </tr>\n",
              "    <tr>\n",
              "      <th>976</th>\n",
              "      <td>Eminem</td>\n",
              "      <td>849</td>\n",
              "    </tr>\n",
              "  </tbody>\n",
              "</table>\n",
              "</div>\n",
              "      <button class=\"colab-df-convert\" onclick=\"convertToInteractive('df-ace13047-da6b-4cbe-b58c-5cc76a63d1da')\"\n",
              "              title=\"Convert this dataframe to an interactive table.\"\n",
              "              style=\"display:none;\">\n",
              "        \n",
              "  <svg xmlns=\"http://www.w3.org/2000/svg\" height=\"24px\"viewBox=\"0 0 24 24\"\n",
              "       width=\"24px\">\n",
              "    <path d=\"M0 0h24v24H0V0z\" fill=\"none\"/>\n",
              "    <path d=\"M18.56 5.44l.94 2.06.94-2.06 2.06-.94-2.06-.94-.94-2.06-.94 2.06-2.06.94zm-11 1L8.5 8.5l.94-2.06 2.06-.94-2.06-.94L8.5 2.5l-.94 2.06-2.06.94zm10 10l.94 2.06.94-2.06 2.06-.94-2.06-.94-.94-2.06-.94 2.06-2.06.94z\"/><path d=\"M17.41 7.96l-1.37-1.37c-.4-.4-.92-.59-1.43-.59-.52 0-1.04.2-1.43.59L10.3 9.45l-7.72 7.72c-.78.78-.78 2.05 0 2.83L4 21.41c.39.39.9.59 1.41.59.51 0 1.02-.2 1.41-.59l7.78-7.78 2.81-2.81c.8-.78.8-2.07 0-2.86zM5.41 20L4 18.59l7.72-7.72 1.47 1.35L5.41 20z\"/>\n",
              "  </svg>\n",
              "      </button>\n",
              "      \n",
              "  <style>\n",
              "    .colab-df-container {\n",
              "      display:flex;\n",
              "      flex-wrap:wrap;\n",
              "      gap: 12px;\n",
              "    }\n",
              "\n",
              "    .colab-df-convert {\n",
              "      background-color: #E8F0FE;\n",
              "      border: none;\n",
              "      border-radius: 50%;\n",
              "      cursor: pointer;\n",
              "      display: none;\n",
              "      fill: #1967D2;\n",
              "      height: 32px;\n",
              "      padding: 0 0 0 0;\n",
              "      width: 32px;\n",
              "    }\n",
              "\n",
              "    .colab-df-convert:hover {\n",
              "      background-color: #E2EBFA;\n",
              "      box-shadow: 0px 1px 2px rgba(60, 64, 67, 0.3), 0px 1px 3px 1px rgba(60, 64, 67, 0.15);\n",
              "      fill: #174EA6;\n",
              "    }\n",
              "\n",
              "    [theme=dark] .colab-df-convert {\n",
              "      background-color: #3B4455;\n",
              "      fill: #D2E3FC;\n",
              "    }\n",
              "\n",
              "    [theme=dark] .colab-df-convert:hover {\n",
              "      background-color: #434B5C;\n",
              "      box-shadow: 0px 1px 3px 1px rgba(0, 0, 0, 0.15);\n",
              "      filter: drop-shadow(0px 1px 2px rgba(0, 0, 0, 0.3));\n",
              "      fill: #FFFFFF;\n",
              "    }\n",
              "  </style>\n",
              "\n",
              "      <script>\n",
              "        const buttonEl =\n",
              "          document.querySelector('#df-ace13047-da6b-4cbe-b58c-5cc76a63d1da button.colab-df-convert');\n",
              "        buttonEl.style.display =\n",
              "          google.colab.kernel.accessAllowed ? 'block' : 'none';\n",
              "\n",
              "        async function convertToInteractive(key) {\n",
              "          const element = document.querySelector('#df-ace13047-da6b-4cbe-b58c-5cc76a63d1da');\n",
              "          const dataTable =\n",
              "            await google.colab.kernel.invokeFunction('convertToInteractive',\n",
              "                                                     [key], {});\n",
              "          if (!dataTable) return;\n",
              "\n",
              "          const docLinkHtml = 'Like what you see? Visit the ' +\n",
              "            '<a target=\"_blank\" href=https://colab.research.google.com/notebooks/data_table.ipynb>data table notebook</a>'\n",
              "            + ' to learn more about interactive tables.';\n",
              "          element.innerHTML = '';\n",
              "          dataTable['output_type'] = 'display_data';\n",
              "          await google.colab.output.renderOutput(dataTable, element);\n",
              "          const docLink = document.createElement('div');\n",
              "          docLink.innerHTML = docLinkHtml;\n",
              "          element.appendChild(docLink);\n",
              "        }\n",
              "      </script>\n",
              "    </div>\n",
              "  </div>\n",
              "  "
            ]
          },
          "metadata": {},
          "execution_count": 43
        }
      ]
    },
    {
      "cell_type": "code",
      "source": [
        "plt.figure()\n",
        "labels = ten_pop_artists['artist_name'].tolist()\n",
        "counts = ten_pop_artists['listen_count'].tolist()\n",
        "sns.barplot(x=counts, y=labels, palette='Set2')\n",
        "sns.despine(left=True, bottom=True)"
      ],
      "metadata": {
        "colab": {
          "base_uri": "https://localhost:8080/",
          "height": 265
        },
        "id": "tly0qoTJJBP9",
        "outputId": "5dfe55b8-a853-4e05-8153-da24849268bd"
      },
      "execution_count": null,
      "outputs": [
        {
          "output_type": "display_data",
          "data": {
            "text/plain": [
              "<Figure size 432x288 with 1 Axes>"
            ],
            "image/png": "[encoded data removed]"
          },
          "metadata": {
            "needs_background": "light"
          }
        }
      ]
    },
    {
      "cell_type": "code",
      "source": [
        "listen_counts = pd.DataFrame(df_songs.groupby('listen_count').size(), columns=['count'])"
      ],
      "metadata": {
        "id": "6TekW4A2JE3v"
      },
      "execution_count": null,
      "outputs": []
    },
    {
      "cell_type": "code",
      "source": [
        "print(f\"The maximum time the same user listened to the same songs was: {listen_counts.reset_index(drop=False)['listen_count'].iloc[-1]}\")"
      ],
      "metadata": {
        "colab": {
          "base_uri": "https://localhost:8080/"
        },
        "id": "r5yDx6s9JGmX",
        "outputId": "90fb2d6e-cfee-46ef-b594-e07bb8090c81"
      },
      "execution_count": null,
      "outputs": [
        {
          "output_type": "stream",
          "name": "stdout",
          "text": [
            "The maximum time the same user listened to the same songs was: 796.0\n"
          ]
        }
      ]
    },
    {
      "cell_type": "code",
      "source": [
        "print(f\"On average, a user listen to the same song {df_songs['listen_count'].mean()} times\")"
      ],
      "metadata": {
        "colab": {
          "base_uri": "https://localhost:8080/"
        },
        "id": "W_2FG0KPJIiF",
        "outputId": "3930ae51-a1e8-4230-ff52-92b8ebc928dc"
      },
      "execution_count": null,
      "outputs": [
        {
          "output_type": "stream",
          "name": "stdout",
          "text": [
            "On average, a user listen to the same song 3.0382686275670236 times\n"
          ]
        }
      ]
    },
    {
      "cell_type": "code",
      "source": [
        "plt.figure(figsize=(20, 5))\n",
        "sns.boxplot(x='listen_count', data=df_songs)\n",
        "sns.despine()"
      ],
      "metadata": {
        "colab": {
          "base_uri": "https://localhost:8080/",
          "height": 335
        },
        "id": "aWLOPzskJKYP",
        "outputId": "b5c04f5e-fa6f-4e33-934a-9330f5a3abea"
      },
      "execution_count": null,
      "outputs": [
        {
          "output_type": "display_data",
          "data": {
            "text/plain": [
              "<Figure size 1440x360 with 1 Axes>"
            ],
            "image/png": "[encoded data removed]"
          },
          "metadata": {
            "needs_background": "light"
          }
        }
      ]
    },
    {
      "cell_type": "code",
      "source": [
        "listen_counts_temp = listen_counts[listen_counts['count'] > 50].reset_index(drop=False)"
      ],
      "metadata": {
        "id": "elkJ_YDnLCCN"
      },
      "execution_count": null,
      "outputs": []
    },
    {
      "cell_type": "code",
      "source": [
        "plt.figure(figsize=(16, 8))\n",
        "sns.barplot(x='listen_count', y='count', palette='Set3', data=listen_counts_temp)\n",
        "plt.gca().spines['top'].set_visible(False)\n",
        "plt.gca().spines['right'].set_visible(False)\n",
        "plt.show()"
      ],
      "metadata": {
        "colab": {
          "base_uri": "https://localhost:8080/",
          "height": 498
        },
        "id": "p8AG-nykLD5k",
        "outputId": "fcea41fe-57cf-47e6-8549-71106643f20d"
      },
      "execution_count": null,
      "outputs": [
        {
          "output_type": "display_data",
          "data": {
            "text/plain": [
              "<Figure size 1152x576 with 1 Axes>"
            ],
            "image/png": "[encoded data removed]"
          },
          "metadata": {
            "needs_background": "light"
          }
        }
      ]
    },
    {
      "cell_type": "code",
      "source": [
        "song_user = df_songs.groupby('user_id')['song_id'].count()"
      ],
      "metadata": {
        "id": "1ZamgSosLGk2"
      },
      "execution_count": null,
      "outputs": []
    },
    {
      "cell_type": "code",
      "source": [
        "plt.figure(figsize=(16, 8))\n",
        "sns.distplot(song_user.values, color='orange')\n",
        "plt.gca().spines['top'].set_visible(False)\n",
        "plt.gca().spines['right'].set_visible(False)\n",
        "plt.show()"
      ],
      "metadata": {
        "colab": {
          "base_uri": "https://localhost:8080/",
          "height": 483
        },
        "id": "TtMwT0wWLI5s",
        "outputId": "7d93ecd1-6af8-4b10-a48f-ae59c5fe63a2"
      },
      "execution_count": null,
      "outputs": [
        {
          "output_type": "display_data",
          "data": {
            "text/plain": [
              "<Figure size 1152x576 with 1 Axes>"
            ],
            "image/png": "[encoded data removed]"
          },
          "metadata": {
            "needs_background": "light"
          }
        }
      ]
    },
    {
      "cell_type": "code",
      "source": [
        "print(f\"A user listens to an average of {np.mean(song_user)} songs\")"
      ],
      "metadata": {
        "colab": {
          "base_uri": "https://localhost:8080/"
        },
        "id": "ObIvUXxJLPgk",
        "outputId": "218247ea-bf22-4209-f91e-49f106a99110"
      },
      "execution_count": null,
      "outputs": [
        {
          "output_type": "stream",
          "name": "stdout",
          "text": [
            "A user listens to an average of 26.085681204168274 songs\n"
          ]
        }
      ]
    },
    {
      "cell_type": "code",
      "source": [
        "print(f\"A user listens to an average of {np.median(song_user)} songs, with minimum {np.min(song_user)} and maximum {np.max(song_user)} songs\")"
      ],
      "metadata": {
        "colab": {
          "base_uri": "https://localhost:8080/"
        },
        "id": "w5Tpn4t0LRyc",
        "outputId": "1dc5d153-6798-46c2-dfea-2dca91efd820"
      },
      "execution_count": null,
      "outputs": [
        {
          "output_type": "stream",
          "name": "stdout",
          "text": [
            "A user listens to an average of 16.0 songs, with minimum 0 and maximum 556 songs\n"
          ]
        }
      ]
    },
    {
      "cell_type": "code",
      "source": [
        "values_matrix = unique_users * unique_songs"
      ],
      "metadata": {
        "id": "-9eFqqwLLVjM"
      },
      "execution_count": null,
      "outputs": []
    },
    {
      "cell_type": "code",
      "source": [
        "zero_values_matrix = values_matrix - df_songs.shape[0]"
      ],
      "metadata": {
        "id": "HEXDjCNTLXnk"
      },
      "execution_count": null,
      "outputs": []
    },
    {
      "cell_type": "code",
      "source": [
        "print(f\"The matrix of users x songs has {zero_values_matrix} values that are zero\")"
      ],
      "metadata": {
        "colab": {
          "base_uri": "https://localhost:8080/"
        },
        "id": "_EwV0YoaLZUk",
        "outputId": "825f803d-9110-4c1c-9c98-1bee7c09923f"
      },
      "execution_count": null,
      "outputs": [
        {
          "output_type": "stream",
          "name": "stdout",
          "text": [
            "The matrix of users x songs has 49378833 values that are zero\n"
          ]
        }
      ]
    },
    {
      "cell_type": "code",
      "source": [
        "song_ten_id = song_user[song_user > 16].index.to_list()"
      ],
      "metadata": {
        "id": "JRdtfm-ZLiNt"
      },
      "execution_count": null,
      "outputs": []
    },
    {
      "cell_type": "code",
      "source": [
        "df_song_id_more_ten = df_songs[df_songs['user_id'].isin(song_ten_id)].reset_index(drop=True)"
      ],
      "metadata": {
        "id": "hwJy85ctLkHH"
      },
      "execution_count": null,
      "outputs": []
    },
    {
      "cell_type": "code",
      "source": [
        "df_songs_features = df_song_id_more_ten.pivot(index='song_id', columns='user_id', values='listen_count').fillna(0)\n",
        "mat_songs_features = csr_matrix(df_songs_features.values)"
      ],
      "metadata": {
        "id": "JlyGp-7ELmXr"
      },
      "execution_count": null,
      "outputs": []
    },
    {
      "cell_type": "code",
      "source": [
        "df_songs_features.head()"
      ],
      "metadata": {
        "colab": {
          "base_uri": "https://localhost:8080/",
          "height": 331
        },
        "id": "P_z-OO22LqO9",
        "outputId": "0d35d8f4-3ba3-470a-f846-c8aafb5dec5b"
      },
      "execution_count": null,
      "outputs": [
        {
          "output_type": "execute_result",
          "data": {
            "text/plain": [
              "user_id             000ebc858861aca26bac9b49f650ed424cf882fc  \\\n",
              "song_id                                                        \n",
              "SOAAAGQ12A8C1420C8                                       0.0   \n",
              "SOAACPJ12A81C21360                                       0.0   \n",
              "SOAACSG12AB018DC80                                       0.0   \n",
              "SOAAEJI12AB0188AB5                                       0.0   \n",
              "SOAAFAC12A67ADF7EB                                       0.0   \n",
              "\n",
              "user_id             002543003041db1d049206b09426d5cdffc0f451  \\\n",
              "song_id                                                        \n",
              "SOAAAGQ12A8C1420C8                                       0.0   \n",
              "SOAACPJ12A81C21360                                       0.0   \n",
              "SOAACSG12AB018DC80                                       0.0   \n",
              "SOAAEJI12AB0188AB5                                       0.0   \n",
              "SOAAFAC12A67ADF7EB                                       0.0   \n",
              "\n",
              "user_id             00342a0cdf56a45465f09a39040a5bc25b7d0046  \\\n",
              "song_id                                                        \n",
              "SOAAAGQ12A8C1420C8                                       0.0   \n",
              "SOAACPJ12A81C21360                                       0.0   \n",
              "SOAACSG12AB018DC80                                       0.0   \n",
              "SOAAEJI12AB0188AB5                                       0.0   \n",
              "SOAAFAC12A67ADF7EB                                       0.0   \n",
              "\n",
              "user_id             0039bd8483d578997718cdc0bf6c7c88b679f488  \\\n",
              "song_id                                                        \n",
              "SOAAAGQ12A8C1420C8                                       0.0   \n",
              "SOAACPJ12A81C21360                                       0.0   \n",
              "SOAACSG12AB018DC80                                       0.0   \n",
              "SOAAEJI12AB0188AB5                                       0.0   \n",
              "SOAAFAC12A67ADF7EB                                       0.0   \n",
              "\n",
              "user_id             006edf2afa5cba7e65ccc97892021a129d7012dd  \\\n",
              "song_id                                                        \n",
              "SOAAAGQ12A8C1420C8                                       0.0   \n",
              "SOAACPJ12A81C21360                                       0.0   \n",
              "SOAACSG12AB018DC80                                       0.0   \n",
              "SOAAEJI12AB0188AB5                                       0.0   \n",
              "SOAAFAC12A67ADF7EB                                       0.0   \n",
              "\n",
              "user_id             0076c212bcd96dd68107a0d31c08ca51b24c89d0  \\\n",
              "song_id                                                        \n",
              "SOAAAGQ12A8C1420C8                                       0.0   \n",
              "SOAACPJ12A81C21360                                       0.0   \n",
              "SOAACSG12AB018DC80                                       0.0   \n",
              "SOAAEJI12AB0188AB5                                       0.0   \n",
              "SOAAFAC12A67ADF7EB                                       0.0   \n",
              "\n",
              "user_id             009fab78deabfd28481ce0123f5a9894c094d971  \\\n",
              "song_id                                                        \n",
              "SOAAAGQ12A8C1420C8                                       0.0   \n",
              "SOAACPJ12A81C21360                                       0.0   \n",
              "SOAACSG12AB018DC80                                       0.0   \n",
              "SOAAEJI12AB0188AB5                                       0.0   \n",
              "SOAAFAC12A67ADF7EB                                       0.0   \n",
              "\n",
              "user_id             00a443baf550f4bbdd974ba73720abf2759166f3  \\\n",
              "song_id                                                        \n",
              "SOAAAGQ12A8C1420C8                                       0.0   \n",
              "SOAACPJ12A81C21360                                       0.0   \n",
              "SOAACSG12AB018DC80                                       0.0   \n",
              "SOAAEJI12AB0188AB5                                       0.0   \n",
              "SOAAFAC12A67ADF7EB                                       0.0   \n",
              "\n",
              "user_id             00c7057edc5395969f67d7302e3e39efb918e519  \\\n",
              "song_id                                                        \n",
              "SOAAAGQ12A8C1420C8                                       0.0   \n",
              "SOAACPJ12A81C21360                                       0.0   \n",
              "SOAACSG12AB018DC80                                       0.0   \n",
              "SOAAEJI12AB0188AB5                                       0.0   \n",
              "SOAAFAC12A67ADF7EB                                       0.0   \n",
              "\n",
              "user_id             00d818febdf653ba58391a780316057e59458ba1  ...  \\\n",
              "song_id                                                       ...   \n",
              "SOAAAGQ12A8C1420C8                                       0.0  ...   \n",
              "SOAACPJ12A81C21360                                       0.0  ...   \n",
              "SOAACSG12AB018DC80                                       0.0  ...   \n",
              "SOAAEJI12AB0188AB5                                       0.0  ...   \n",
              "SOAAFAC12A67ADF7EB                                       0.0  ...   \n",
              "\n",
              "user_id             ff19c1e49bbfb81dd9de29bc21961740c7bbb9b2  \\\n",
              "song_id                                                        \n",
              "SOAAAGQ12A8C1420C8                                       0.0   \n",
              "SOAACPJ12A81C21360                                       0.0   \n",
              "SOAACSG12AB018DC80                                       0.0   \n",
              "SOAAEJI12AB0188AB5                                       0.0   \n",
              "SOAAFAC12A67ADF7EB                                       0.0   \n",
              "\n",
              "user_id             ff3a54c32ae353b78711f74251eee8611f5dfd12  \\\n",
              "song_id                                                        \n",
              "SOAAAGQ12A8C1420C8                                       0.0   \n",
              "SOAACPJ12A81C21360                                       0.0   \n",
              "SOAACSG12AB018DC80                                       0.0   \n",
              "SOAAEJI12AB0188AB5                                       0.0   \n",
              "SOAAFAC12A67ADF7EB                                       0.0   \n",
              "\n",
              "user_id             ff555698f628cb0f0bfde553414d0a394ecbd6ec  \\\n",
              "song_id                                                        \n",
              "SOAAAGQ12A8C1420C8                                       0.0   \n",
              "SOAACPJ12A81C21360                                       0.0   \n",
              "SOAACSG12AB018DC80                                       0.0   \n",
              "SOAAEJI12AB0188AB5                                       0.0   \n",
              "SOAAFAC12A67ADF7EB                                       0.0   \n",
              "\n",
              "user_id             ff753593746245c03b354e126e14cbf7086adffb  \\\n",
              "song_id                                                        \n",
              "SOAAAGQ12A8C1420C8                                       0.0   \n",
              "SOAACPJ12A81C21360                                       0.0   \n",
              "SOAACSG12AB018DC80                                       0.0   \n",
              "SOAAEJI12AB0188AB5                                       0.0   \n",
              "SOAAFAC12A67ADF7EB                                       0.0   \n",
              "\n",
              "user_id             ff9570b53e7760488d9718982bd20211d1b807ff  \\\n",
              "song_id                                                        \n",
              "SOAAAGQ12A8C1420C8                                       0.0   \n",
              "SOAACPJ12A81C21360                                       0.0   \n",
              "SOAACSG12AB018DC80                                       0.0   \n",
              "SOAAEJI12AB0188AB5                                       0.0   \n",
              "SOAAFAC12A67ADF7EB                                       0.0   \n",
              "\n",
              "user_id             ff974317308fc68a357b975e00655321f34ed378  \\\n",
              "song_id                                                        \n",
              "SOAAAGQ12A8C1420C8                                       0.0   \n",
              "SOAACPJ12A81C21360                                       0.0   \n",
              "SOAACSG12AB018DC80                                       0.0   \n",
              "SOAAEJI12AB0188AB5                                       0.0   \n",
              "SOAAFAC12A67ADF7EB                                       0.0   \n",
              "\n",
              "user_id             ffa3986cda34a1c555864c5f7e6a2769b33408d8  \\\n",
              "song_id                                                        \n",
              "SOAAAGQ12A8C1420C8                                       0.0   \n",
              "SOAACPJ12A81C21360                                       0.0   \n",
              "SOAACSG12AB018DC80                                       0.0   \n",
              "SOAAEJI12AB0188AB5                                       0.0   \n",
              "SOAAFAC12A67ADF7EB                                       0.0   \n",
              "\n",
              "user_id             ffadf9297a99945c0513cd87939d91d8b602936b  \\\n",
              "song_id                                                        \n",
              "SOAAAGQ12A8C1420C8                                       0.0   \n",
              "SOAACPJ12A81C21360                                       0.0   \n",
              "SOAACSG12AB018DC80                                       0.0   \n",
              "SOAAEJI12AB0188AB5                                       0.0   \n",
              "SOAAFAC12A67ADF7EB                                       0.0   \n",
              "\n",
              "user_id             ffdaab327f2fc6b9fa01a4e3e7f41fdd0e468046  \\\n",
              "song_id                                                        \n",
              "SOAAAGQ12A8C1420C8                                       0.0   \n",
              "SOAACPJ12A81C21360                                       0.0   \n",
              "SOAACSG12AB018DC80                                       0.0   \n",
              "SOAAEJI12AB0188AB5                                       1.0   \n",
              "SOAAFAC12A67ADF7EB                                       0.0   \n",
              "\n",
              "user_id             fffce9c1537fbc350ea68823d956eaa8f5236dbe  \n",
              "song_id                                                       \n",
              "SOAAAGQ12A8C1420C8                                       0.0  \n",
              "SOAACPJ12A81C21360                                       0.0  \n",
              "SOAACSG12AB018DC80                                       0.0  \n",
              "SOAAEJI12AB0188AB5                                       0.0  \n",
              "SOAAFAC12A67ADF7EB                                       0.0  \n",
              "\n",
              "[5 rows x 2487 columns]"
            ],
            "text/html": [
              "\n",
              "  <div id=\"df-05fbd49b-fe95-4f21-b17f-df0e7339059e\">\n",
              "    <div class=\"colab-df-container\">\n",
              "      <div>\n",
              "<style scoped>\n",
              "    .dataframe tbody tr th:only-of-type {\n",
              "        vertical-align: middle;\n",
              "    }\n",
              "\n",
              "    .dataframe tbody tr th {\n",
              "        vertical-align: top;\n",
              "    }\n",
              "\n",
              "    .dataframe thead th {\n",
              "        text-align: right;\n",
              "    }\n",
              "</style>\n",
              "<table border=\"1\" class=\"dataframe\">\n",
              "  <thead>\n",
              "    <tr style=\"text-align: right;\">\n",
              "      <th>user_id</th>\n",
              "      <th>000ebc858861aca26bac9b49f650ed424cf882fc</th>\n",
              "      <th>002543003041db1d049206b09426d5cdffc0f451</th>\n",
              "      <th>00342a0cdf56a45465f09a39040a5bc25b7d0046</th>\n",
              "      <th>0039bd8483d578997718cdc0bf6c7c88b679f488</th>\n",
              "      <th>006edf2afa5cba7e65ccc97892021a129d7012dd</th>\n",
              "      <th>0076c212bcd96dd68107a0d31c08ca51b24c89d0</th>\n",
              "      <th>009fab78deabfd28481ce0123f5a9894c094d971</th>\n",
              "      <th>00a443baf550f4bbdd974ba73720abf2759166f3</th>\n",
              "      <th>00c7057edc5395969f67d7302e3e39efb918e519</th>\n",
              "      <th>00d818febdf653ba58391a780316057e59458ba1</th>\n",
              "      <th>...</th>\n",
              "      <th>ff19c1e49bbfb81dd9de29bc21961740c7bbb9b2</th>\n",
              "      <th>ff3a54c32ae353b78711f74251eee8611f5dfd12</th>\n",
              "      <th>ff555698f628cb0f0bfde553414d0a394ecbd6ec</th>\n",
              "      <th>ff753593746245c03b354e126e14cbf7086adffb</th>\n",
              "      <th>ff9570b53e7760488d9718982bd20211d1b807ff</th>\n",
              "      <th>ff974317308fc68a357b975e00655321f34ed378</th>\n",
              "      <th>ffa3986cda34a1c555864c5f7e6a2769b33408d8</th>\n",
              "      <th>ffadf9297a99945c0513cd87939d91d8b602936b</th>\n",
              "      <th>ffdaab327f2fc6b9fa01a4e3e7f41fdd0e468046</th>\n",
              "      <th>fffce9c1537fbc350ea68823d956eaa8f5236dbe</th>\n",
              "    </tr>\n",
              "    <tr>\n",
              "      <th>song_id</th>\n",
              "      <th></th>\n",
              "      <th></th>\n",
              "      <th></th>\n",
              "      <th></th>\n",
              "      <th></th>\n",
              "      <th></th>\n",
              "      <th></th>\n",
              "      <th></th>\n",
              "      <th></th>\n",
              "      <th></th>\n",
              "      <th></th>\n",
              "      <th></th>\n",
              "      <th></th>\n",
              "      <th></th>\n",
              "      <th></th>\n",
              "      <th></th>\n",
              "      <th></th>\n",
              "      <th></th>\n",
              "      <th></th>\n",
              "      <th></th>\n",
              "      <th></th>\n",
              "    </tr>\n",
              "  </thead>\n",
              "  <tbody>\n",
              "    <tr>\n",
              "      <th>SOAAAGQ12A8C1420C8</th>\n",
              "      <td>0.0</td>\n",
              "      <td>0.0</td>\n",
              "      <td>0.0</td>\n",
              "      <td>0.0</td>\n",
              "      <td>0.0</td>\n",
              "      <td>0.0</td>\n",
              "      <td>0.0</td>\n",
              "      <td>0.0</td>\n",
              "      <td>0.0</td>\n",
              "      <td>0.0</td>\n",
              "      <td>...</td>\n",
              "      <td>0.0</td>\n",
              "      <td>0.0</td>\n",
              "      <td>0.0</td>\n",
              "      <td>0.0</td>\n",
              "      <td>0.0</td>\n",
              "      <td>0.0</td>\n",
              "      <td>0.0</td>\n",
              "      <td>0.0</td>\n",
              "      <td>0.0</td>\n",
              "      <td>0.0</td>\n",
              "    </tr>\n",
              "    <tr>\n",
              "      <th>SOAACPJ12A81C21360</th>\n",
              "      <td>0.0</td>\n",
              "      <td>0.0</td>\n",
              "      <td>0.0</td>\n",
              "      <td>0.0</td>\n",
              "      <td>0.0</td>\n",
              "      <td>0.0</td>\n",
              "      <td>0.0</td>\n",
              "      <td>0.0</td>\n",
              "      <td>0.0</td>\n",
              "      <td>0.0</td>\n",
              "      <td>...</td>\n",
              "      <td>0.0</td>\n",
              "      <td>0.0</td>\n",
              "      <td>0.0</td>\n",
              "      <td>0.0</td>\n",
              "      <td>0.0</td>\n",
              "      <td>0.0</td>\n",
              "      <td>0.0</td>\n",
              "      <td>0.0</td>\n",
              "      <td>0.0</td>\n",
              "      <td>0.0</td>\n",
              "    </tr>\n",
              "    <tr>\n",
              "      <th>SOAACSG12AB018DC80</th>\n",
              "      <td>0.0</td>\n",
              "      <td>0.0</td>\n",
              "      <td>0.0</td>\n",
              "      <td>0.0</td>\n",
              "      <td>0.0</td>\n",
              "      <td>0.0</td>\n",
              "      <td>0.0</td>\n",
              "      <td>0.0</td>\n",
              "      <td>0.0</td>\n",
              "      <td>0.0</td>\n",
              "      <td>...</td>\n",
              "      <td>0.0</td>\n",
              "      <td>0.0</td>\n",
              "      <td>0.0</td>\n",
              "      <td>0.0</td>\n",
              "      <td>0.0</td>\n",
              "      <td>0.0</td>\n",
              "      <td>0.0</td>\n",
              "      <td>0.0</td>\n",
              "      <td>0.0</td>\n",
              "      <td>0.0</td>\n",
              "    </tr>\n",
              "    <tr>\n",
              "      <th>SOAAEJI12AB0188AB5</th>\n",
              "      <td>0.0</td>\n",
              "      <td>0.0</td>\n",
              "      <td>0.0</td>\n",
              "      <td>0.0</td>\n",
              "      <td>0.0</td>\n",
              "      <td>0.0</td>\n",
              "      <td>0.0</td>\n",
              "      <td>0.0</td>\n",
              "      <td>0.0</td>\n",
              "      <td>0.0</td>\n",
              "      <td>...</td>\n",
              "      <td>0.0</td>\n",
              "      <td>0.0</td>\n",
              "      <td>0.0</td>\n",
              "      <td>0.0</td>\n",
              "      <td>0.0</td>\n",
              "      <td>0.0</td>\n",
              "      <td>0.0</td>\n",
              "      <td>0.0</td>\n",
              "      <td>1.0</td>\n",
              "      <td>0.0</td>\n",
              "    </tr>\n",
              "    <tr>\n",
              "      <th>SOAAFAC12A67ADF7EB</th>\n",
              "      <td>0.0</td>\n",
              "      <td>0.0</td>\n",
              "      <td>0.0</td>\n",
              "      <td>0.0</td>\n",
              "      <td>0.0</td>\n",
              "      <td>0.0</td>\n",
              "      <td>0.0</td>\n",
              "      <td>0.0</td>\n",
              "      <td>0.0</td>\n",
              "      <td>0.0</td>\n",
              "      <td>...</td>\n",
              "      <td>0.0</td>\n",
              "      <td>0.0</td>\n",
              "      <td>0.0</td>\n",
              "      <td>0.0</td>\n",
              "      <td>0.0</td>\n",
              "      <td>0.0</td>\n",
              "      <td>0.0</td>\n",
              "      <td>0.0</td>\n",
              "      <td>0.0</td>\n",
              "      <td>0.0</td>\n",
              "    </tr>\n",
              "  </tbody>\n",
              "</table>\n",
              "<p>5 rows × 2487 columns</p>\n",
              "</div>\n",
              "      <button class=\"colab-df-convert\" onclick=\"convertToInteractive('df-05fbd49b-fe95-4f21-b17f-df0e7339059e')\"\n",
              "              title=\"Convert this dataframe to an interactive table.\"\n",
              "              style=\"display:none;\">\n",
              "        \n",
              "  <svg xmlns=\"http://www.w3.org/2000/svg\" height=\"24px\"viewBox=\"0 0 24 24\"\n",
              "       width=\"24px\">\n",
              "    <path d=\"M0 0h24v24H0V0z\" fill=\"none\"/>\n",
              "    <path d=\"M18.56 5.44l.94 2.06.94-2.06 2.06-.94-2.06-.94-.94-2.06-.94 2.06-2.06.94zm-11 1L8.5 8.5l.94-2.06 2.06-.94-2.06-.94L8.5 2.5l-.94 2.06-2.06.94zm10 10l.94 2.06.94-2.06 2.06-.94-2.06-.94-.94-2.06-.94 2.06-2.06.94z\"/><path d=\"M17.41 7.96l-1.37-1.37c-.4-.4-.92-.59-1.43-.59-.52 0-1.04.2-1.43.59L10.3 9.45l-7.72 7.72c-.78.78-.78 2.05 0 2.83L4 21.41c.39.39.9.59 1.41.59.51 0 1.02-.2 1.41-.59l7.78-7.78 2.81-2.81c.8-.78.8-2.07 0-2.86zM5.41 20L4 18.59l7.72-7.72 1.47 1.35L5.41 20z\"/>\n",
              "  </svg>\n",
              "      </button>\n",
              "      \n",
              "  <style>\n",
              "    .colab-df-container {\n",
              "      display:flex;\n",
              "      flex-wrap:wrap;\n",
              "      gap: 12px;\n",
              "    }\n",
              "\n",
              "    .colab-df-convert {\n",
              "      background-color: #E8F0FE;\n",
              "      border: none;\n",
              "      border-radius: 50%;\n",
              "      cursor: pointer;\n",
              "      display: none;\n",
              "      fill: #1967D2;\n",
              "      height: 32px;\n",
              "      padding: 0 0 0 0;\n",
              "      width: 32px;\n",
              "    }\n",
              "\n",
              "    .colab-df-convert:hover {\n",
              "      background-color: #E2EBFA;\n",
              "      box-shadow: 0px 1px 2px rgba(60, 64, 67, 0.3), 0px 1px 3px 1px rgba(60, 64, 67, 0.15);\n",
              "      fill: #174EA6;\n",
              "    }\n",
              "\n",
              "    [theme=dark] .colab-df-convert {\n",
              "      background-color: #3B4455;\n",
              "      fill: #D2E3FC;\n",
              "    }\n",
              "\n",
              "    [theme=dark] .colab-df-convert:hover {\n",
              "      background-color: #434B5C;\n",
              "      box-shadow: 0px 1px 3px 1px rgba(0, 0, 0, 0.15);\n",
              "      filter: drop-shadow(0px 1px 2px rgba(0, 0, 0, 0.3));\n",
              "      fill: #FFFFFF;\n",
              "    }\n",
              "  </style>\n",
              "\n",
              "      <script>\n",
              "        const buttonEl =\n",
              "          document.querySelector('#df-05fbd49b-fe95-4f21-b17f-df0e7339059e button.colab-df-convert');\n",
              "        buttonEl.style.display =\n",
              "          google.colab.kernel.accessAllowed ? 'block' : 'none';\n",
              "\n",
              "        async function convertToInteractive(key) {\n",
              "          const element = document.querySelector('#df-05fbd49b-fe95-4f21-b17f-df0e7339059e');\n",
              "          const dataTable =\n",
              "            await google.colab.kernel.invokeFunction('convertToInteractive',\n",
              "                                                     [key], {});\n",
              "          if (!dataTable) return;\n",
              "\n",
              "          const docLinkHtml = 'Like what you see? Visit the ' +\n",
              "            '<a target=\"_blank\" href=https://colab.research.google.com/notebooks/data_table.ipynb>data table notebook</a>'\n",
              "            + ' to learn more about interactive tables.';\n",
              "          element.innerHTML = '';\n",
              "          dataTable['output_type'] = 'display_data';\n",
              "          await google.colab.output.renderOutput(dataTable, element);\n",
              "          const docLink = document.createElement('div');\n",
              "          docLink.innerHTML = docLinkHtml;\n",
              "          element.appendChild(docLink);\n",
              "        }\n",
              "      </script>\n",
              "    </div>\n",
              "  </div>\n",
              "  "
            ]
          },
          "metadata": {},
          "execution_count": 62
        }
      ]
    },
    {
      "cell_type": "code",
      "source": [
        "df_unique_songs = df_songs.drop_duplicates(subset=['song_id']).reset_index(drop=True)[['song_id', 'title']]"
      ],
      "metadata": {
        "id": "fOnRpZe4Lsal"
      },
      "execution_count": null,
      "outputs": []
    },
    {
      "cell_type": "code",
      "source": [
        "decode_id_song = {\n",
        "    song: i for i, song in \n",
        "    enumerate(list(df_unique_songs.set_index('song_id').loc[df_songs_features.index].title))\n",
        "}"
      ],
      "metadata": {
        "id": "sTFLrYtiLu0d"
      },
      "execution_count": null,
      "outputs": []
    },
    {
      "cell_type": "code",
      "source": [
        "model = Recommender(metric='cosine', algorithm='brute', k=20, data=mat_songs_features, decode_id_song=decode_id_song)"
      ],
      "metadata": {
        "id": "-YG6JxfsLz-x"
      },
      "execution_count": null,
      "outputs": []
    },
    {
      "cell_type": "code",
      "source": [
        "song = 'I believe in miracles'"
      ],
      "metadata": {
        "id": "Wz_HcG_EL2jA"
      },
      "execution_count": null,
      "outputs": []
    },
    {
      "cell_type": "code",
      "source": [
        "new_recommendations = model.make_recommendation(new_song=song, n_recommendations=10)"
      ],
      "metadata": {
        "id": "66p2TOHhL4Zc"
      },
      "execution_count": null,
      "outputs": []
    },
    {
      "cell_type": "code",
      "source": [
        "print(f\"The recommendations for {song} are:\")\n",
        "print(f\"{new_recommendations}\")"
      ],
      "metadata": {
        "id": "n1nrWAglL6s5"
      },
      "execution_count": null,
      "outputs": []
    }
  ]
}