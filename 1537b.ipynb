{
 "metadata": {
  "language_info": {
   "codemirror_mode": {
    "name": "python",
    "version": 3
   },
   "file_extension": ".py",
   "mimetype": "text/x-python",
   "name": "python",
   "nbconvert_exporter": "python",
   "pygments_lexer": "ipython3",
   "version": "3.8"
  },
  "kernelspec": {
   "name": "python",
   "display_name": "Python (Pyodide)",
   "language": "python"
  }
 },
 "nbformat_minor": 4,
 "nbformat": 4,
 "cells": [
  {
   "cell_type": "code",
   "source": [
    "def calc(rows,cols,x,y):\n",
    "    difx=cols-x\n",
    "    dify=rows-y\n",
    "    x1=cols if difx>x else 1\n",
    "    y1 = rows if dify>y else 1\n",
    "    xmax,ymax=0,0\n",
    "    yarr,xarr=[],[]\n",
    "    \n",
    "    for xi in range(1,cols+1):\n",
    "        xm = abs(xi-x1)+abs(xi-x)\n",
    "        # print (xi,xm)\n",
    "        if xm > xmax:\n",
    "            xarr=[xi]\n",
    "            xmax=xm\n",
    "        elif xm == xmax:\n",
    "            xarr.append(xi)\n",
    "    \n",
    "    for yi in range(1,rows+1):\n",
    "        ym = abs(yi-y1)+abs(yi-y)\n",
    "        # print (yi,ym)\n",
    "        if ym > ymax:\n",
    "            yarr=[yi]\n",
    "            ymax=ym\n",
    "        elif ym == ymax:\n",
    "            yarr.append(yi)\n",
    "    \n",
    "      \n",
    "    \n",
    "    return(x1,y1,xarr,yarr)"
   ],
   "metadata": {
    "trusted": true,
    "pycharm": {
     "name": "#%%\n"
    }
   },
   "execution_count": 35,
   "outputs": []
  },
  {
   "cell_type": "code",
   "source": [
    "# import pandas as pd\n",
    "cols,rows=4,4\n",
    "x,y=1,2\n",
    "# df=pd.DataFrame([[' ' for i in range(cols)] for i in range(rows)])\n",
    "\n",
    "print(calc(rows,cols,x,y))"
   ],
   "metadata": {
    "trusted": true,
    "pycharm": {
     "name": "#%%\n"
    }
   },
   "execution_count": 36,
   "outputs": [
    {
     "name": "stdout",
     "text": "1 3\n2 3\n3 3\n4 3\n1 1\n2 1\n3 3\n4 5\n(4, 1, [1, 2, 3, 4], [4])\n",
     "output_type": "stream"
    }
   ]
  },
  {
   "cell_type": "code",
   "source": [],
   "metadata": {
    "pycharm": {
     "name": "#%%\n"
    }
   },
   "execution_count": null,
   "outputs": []
  }
 ]
}