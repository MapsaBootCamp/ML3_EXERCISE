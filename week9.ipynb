{
 "cells": [
  {
   "cell_type": "markdown",
   "metadata": {},
   "source": [
    "<div dir = \"rtl\" style=\"direction:rtl;line-height:300%;\">\n",
    "\t<font face=\"XB Zar\" size=6 color=#F32500>\n",
    "        <div  align=center>\n",
    "            تمرین هفته هشتم بوت کمپ یادگیری ماشین-\n",
    "            مپصا\n",
    "        </div>\n",
    "        <br/>\n",
    "    </font>\n",
    "</div>"
   ]
  },
  {
   "cell_type": "markdown",
   "metadata": {},
   "source": [
    "<div id=\"bayes\" style=\"direction:rtl;line-height:300%;\">\n",
    "\t<font face=\"XB Zar\" size=4>\n",
    "\t\t سوال یک:‌ هدف از این سوال آشنایی با الگوریتم K نزدیکترین همسایه براي مسایل دسته بندي میباشد.\n",
    "\t\tمجموعه داده را از لینک زیر دانلود کنید و به سوالات پاسخ دهید.\n",
    "\t\t</br>\n",
    "\t\t</br>\n",
    "</div>\n",
    "\t\thttps://archive.ics.uci.edu/ml/machine-learning-databases/heart-disease/processed.cleveland.data"
   ]
  },
  {
   "cell_type": "markdown",
   "metadata": {},
   "source": [
    " <div id=\"bayes\" style=\"direction:rtl;line-height:300%; padding-right: 200px;\">\n",
    "\t<font face=\"XB Zar\" size=4>\n",
    " الف- الگوریتم K نزدیکترین همسایه را با استفاده از معیار فاصله اقلیدسی پیاده سازي نمایید. در این پیاده سازي\n",
    "از تمامی ویژگیهاي این مجموعه داده که شامل 13 ویژگی است، استفاده نمایید. این مجموعه داده شامل 303 شخص  میباشد که به دو کلاس بیمار و سالم تقسیم شدهاند. مقادیر 1 تا 7، 10 و 15 را براي این الگوریتم استفاده نمایید و بهترین\n",
    "مقدار K را بدست آورید. لازم به ذکر است که در این بخش دادهها را به دو بخش یادگیري و آزمون با نسبت 2 به 1 تقسیم کنید. در نهایت دقت الگوریتم و ماتریس پریشانی را براي مجموعه داده آموزش و آزمون گزارش نمایید.\n",
    "\t\t</br>\n",
    "\t\t</br>\n",
    "</div>"
   ]
  },
  {
   "cell_type": "code",
   "execution_count": 1,
   "metadata": {},
   "outputs": [],
   "source": [
    "import pandas as pd\n",
    "import seaborn as sns\n",
    "import numpy as np\n",
    "import matplotlib.pyplot as plt\n",
    "import scipy.stats\n",
    "from sklearn.model_selection import train_test_split\n",
    "import math"
   ]
  },
  {
   "cell_type": "code",
   "execution_count": 54,
   "metadata": {},
   "outputs": [],
   "source": [
    "df=pd.read_csv('heart.csv')"
   ]
  },
  {
   "cell_type": "code",
   "execution_count": 186,
   "metadata": {},
   "outputs": [],
   "source": [
    "# df=df[pd.to_numeric(df.t, errors='coerce').notnull()]\n",
    "# df=df[pd.to_numeric(df.r, errors='coerce').notnull()]\n",
    "# df.r=df.r.astype('float64')\n",
    "# df.t=df.t.astype('float64')"
   ]
  },
  {
   "cell_type": "code",
   "execution_count": 34,
   "metadata": {},
   "outputs": [
    {
     "data": {
      "text/html": [
       "<div>\n",
       "<style scoped>\n",
       "    .dataframe tbody tr th:only-of-type {\n",
       "        vertical-align: middle;\n",
       "    }\n",
       "\n",
       "    .dataframe tbody tr th {\n",
       "        vertical-align: top;\n",
       "    }\n",
       "\n",
       "    .dataframe thead th {\n",
       "        text-align: right;\n",
       "    }\n",
       "</style>\n",
       "<table border=\"1\" class=\"dataframe\">\n",
       "  <thead>\n",
       "    <tr style=\"text-align: right;\">\n",
       "      <th></th>\n",
       "      <th>age</th>\n",
       "      <th>sex</th>\n",
       "      <th>cp</th>\n",
       "      <th>trestbps</th>\n",
       "      <th>chol</th>\n",
       "      <th>fbs</th>\n",
       "      <th>restecg</th>\n",
       "      <th>thalach</th>\n",
       "      <th>exang</th>\n",
       "      <th>oldpeak</th>\n",
       "      <th>slope</th>\n",
       "      <th>ca</th>\n",
       "      <th>thal</th>\n",
       "      <th>target</th>\n",
       "    </tr>\n",
       "  </thead>\n",
       "  <tbody>\n",
       "    <tr>\n",
       "      <th>0</th>\n",
       "      <td>52</td>\n",
       "      <td>1</td>\n",
       "      <td>0</td>\n",
       "      <td>125</td>\n",
       "      <td>212</td>\n",
       "      <td>0</td>\n",
       "      <td>1</td>\n",
       "      <td>168</td>\n",
       "      <td>0</td>\n",
       "      <td>1.0</td>\n",
       "      <td>2</td>\n",
       "      <td>2</td>\n",
       "      <td>3</td>\n",
       "      <td>0</td>\n",
       "    </tr>\n",
       "    <tr>\n",
       "      <th>1</th>\n",
       "      <td>53</td>\n",
       "      <td>1</td>\n",
       "      <td>0</td>\n",
       "      <td>140</td>\n",
       "      <td>203</td>\n",
       "      <td>1</td>\n",
       "      <td>0</td>\n",
       "      <td>155</td>\n",
       "      <td>1</td>\n",
       "      <td>3.1</td>\n",
       "      <td>0</td>\n",
       "      <td>0</td>\n",
       "      <td>3</td>\n",
       "      <td>0</td>\n",
       "    </tr>\n",
       "  </tbody>\n",
       "</table>\n",
       "</div>"
      ],
      "text/plain": [
       "   age  sex  cp  trestbps  chol  fbs  restecg  thalach  exang  oldpeak  slope  \\\n",
       "0   52    1   0       125   212    0        1      168      0      1.0      2   \n",
       "1   53    1   0       140   203    1        0      155      1      3.1      0   \n",
       "\n",
       "   ca  thal  target  \n",
       "0   2     3       0  \n",
       "1   0     3       0  "
      ]
     },
     "execution_count": 34,
     "metadata": {},
     "output_type": "execute_result"
    }
   ],
   "source": [
    "df.head(2)"
   ]
  },
  {
   "cell_type": "code",
   "execution_count": 9,
   "metadata": {},
   "outputs": [
    {
     "data": {
      "text/plain": [
       "age          41\n",
       "sex           2\n",
       "cp            4\n",
       "trestbps     49\n",
       "chol        152\n",
       "fbs           2\n",
       "restecg       3\n",
       "thalach      91\n",
       "exang         2\n",
       "oldpeak      40\n",
       "slope         3\n",
       "ca            5\n",
       "thal          4\n",
       "target        2\n",
       "dtype: int64"
      ]
     },
     "execution_count": 9,
     "metadata": {},
     "output_type": "execute_result"
    }
   ],
   "source": [
    "df.nunique()"
   ]
  },
  {
   "cell_type": "code",
   "execution_count": 3,
   "metadata": {},
   "outputs": [],
   "source": [
    "dfn=df.copy()\n",
    "for col in df.columns:\n",
    "    dfn[col]=(dfn[col]-dfn[col].min())/(dfn[col].max()-dfn[col].min())\n",
    "df=dfn"
   ]
  },
  {
   "cell_type": "code",
   "execution_count": 62,
   "metadata": {
    "tags": []
   },
   "outputs": [
    {
     "data": {
      "text/html": [
       "<div>\n",
       "<style scoped>\n",
       "    .dataframe tbody tr th:only-of-type {\n",
       "        vertical-align: middle;\n",
       "    }\n",
       "\n",
       "    .dataframe tbody tr th {\n",
       "        vertical-align: top;\n",
       "    }\n",
       "\n",
       "    .dataframe thead th {\n",
       "        text-align: right;\n",
       "    }\n",
       "</style>\n",
       "<table border=\"1\" class=\"dataframe\">\n",
       "  <thead>\n",
       "    <tr style=\"text-align: right;\">\n",
       "      <th></th>\n",
       "      <th>age</th>\n",
       "      <th>sex</th>\n",
       "      <th>cp</th>\n",
       "      <th>trestbps</th>\n",
       "      <th>chol</th>\n",
       "      <th>fbs</th>\n",
       "      <th>restecg</th>\n",
       "      <th>thalach</th>\n",
       "      <th>exang</th>\n",
       "      <th>oldpeak</th>\n",
       "      <th>slope</th>\n",
       "      <th>ca</th>\n",
       "      <th>thal</th>\n",
       "      <th>target</th>\n",
       "    </tr>\n",
       "  </thead>\n",
       "  <tbody>\n",
       "    <tr>\n",
       "      <th>count</th>\n",
       "      <td>1025.000000</td>\n",
       "      <td>1025.000000</td>\n",
       "      <td>1025.000000</td>\n",
       "      <td>1025.000000</td>\n",
       "      <td>1025.000000</td>\n",
       "      <td>1025.000000</td>\n",
       "      <td>1025.000000</td>\n",
       "      <td>1025.000000</td>\n",
       "      <td>1025.000000</td>\n",
       "      <td>1025.000000</td>\n",
       "      <td>1025.000000</td>\n",
       "      <td>1025.000000</td>\n",
       "      <td>1025.000000</td>\n",
       "      <td>1025.000000</td>\n",
       "    </tr>\n",
       "    <tr>\n",
       "      <th>mean</th>\n",
       "      <td>0.529878</td>\n",
       "      <td>0.695610</td>\n",
       "      <td>0.314146</td>\n",
       "      <td>0.354827</td>\n",
       "      <td>0.273973</td>\n",
       "      <td>0.149268</td>\n",
       "      <td>0.264878</td>\n",
       "      <td>0.596291</td>\n",
       "      <td>0.336585</td>\n",
       "      <td>0.172825</td>\n",
       "      <td>0.692683</td>\n",
       "      <td>0.188537</td>\n",
       "      <td>0.774634</td>\n",
       "      <td>0.513171</td>\n",
       "    </tr>\n",
       "    <tr>\n",
       "      <th>std</th>\n",
       "      <td>0.189006</td>\n",
       "      <td>0.460373</td>\n",
       "      <td>0.343214</td>\n",
       "      <td>0.165252</td>\n",
       "      <td>0.117791</td>\n",
       "      <td>0.356527</td>\n",
       "      <td>0.263939</td>\n",
       "      <td>0.175616</td>\n",
       "      <td>0.472772</td>\n",
       "      <td>0.189525</td>\n",
       "      <td>0.308878</td>\n",
       "      <td>0.257699</td>\n",
       "      <td>0.206887</td>\n",
       "      <td>0.500070</td>\n",
       "    </tr>\n",
       "    <tr>\n",
       "      <th>min</th>\n",
       "      <td>0.000000</td>\n",
       "      <td>0.000000</td>\n",
       "      <td>0.000000</td>\n",
       "      <td>0.000000</td>\n",
       "      <td>0.000000</td>\n",
       "      <td>0.000000</td>\n",
       "      <td>0.000000</td>\n",
       "      <td>0.000000</td>\n",
       "      <td>0.000000</td>\n",
       "      <td>0.000000</td>\n",
       "      <td>0.000000</td>\n",
       "      <td>0.000000</td>\n",
       "      <td>0.000000</td>\n",
       "      <td>0.000000</td>\n",
       "    </tr>\n",
       "    <tr>\n",
       "      <th>25%</th>\n",
       "      <td>0.395833</td>\n",
       "      <td>0.000000</td>\n",
       "      <td>0.000000</td>\n",
       "      <td>0.245283</td>\n",
       "      <td>0.194064</td>\n",
       "      <td>0.000000</td>\n",
       "      <td>0.000000</td>\n",
       "      <td>0.465649</td>\n",
       "      <td>0.000000</td>\n",
       "      <td>0.000000</td>\n",
       "      <td>0.500000</td>\n",
       "      <td>0.000000</td>\n",
       "      <td>0.666667</td>\n",
       "      <td>0.000000</td>\n",
       "    </tr>\n",
       "    <tr>\n",
       "      <th>50%</th>\n",
       "      <td>0.562500</td>\n",
       "      <td>1.000000</td>\n",
       "      <td>0.333333</td>\n",
       "      <td>0.339623</td>\n",
       "      <td>0.260274</td>\n",
       "      <td>0.000000</td>\n",
       "      <td>0.500000</td>\n",
       "      <td>0.618321</td>\n",
       "      <td>0.000000</td>\n",
       "      <td>0.129032</td>\n",
       "      <td>0.500000</td>\n",
       "      <td>0.000000</td>\n",
       "      <td>0.666667</td>\n",
       "      <td>1.000000</td>\n",
       "    </tr>\n",
       "    <tr>\n",
       "      <th>75%</th>\n",
       "      <td>0.666667</td>\n",
       "      <td>1.000000</td>\n",
       "      <td>0.666667</td>\n",
       "      <td>0.433962</td>\n",
       "      <td>0.340183</td>\n",
       "      <td>0.000000</td>\n",
       "      <td>0.500000</td>\n",
       "      <td>0.725191</td>\n",
       "      <td>1.000000</td>\n",
       "      <td>0.290323</td>\n",
       "      <td>1.000000</td>\n",
       "      <td>0.250000</td>\n",
       "      <td>1.000000</td>\n",
       "      <td>1.000000</td>\n",
       "    </tr>\n",
       "    <tr>\n",
       "      <th>max</th>\n",
       "      <td>1.000000</td>\n",
       "      <td>1.000000</td>\n",
       "      <td>1.000000</td>\n",
       "      <td>1.000000</td>\n",
       "      <td>1.000000</td>\n",
       "      <td>1.000000</td>\n",
       "      <td>1.000000</td>\n",
       "      <td>1.000000</td>\n",
       "      <td>1.000000</td>\n",
       "      <td>1.000000</td>\n",
       "      <td>1.000000</td>\n",
       "      <td>1.000000</td>\n",
       "      <td>1.000000</td>\n",
       "      <td>1.000000</td>\n",
       "    </tr>\n",
       "  </tbody>\n",
       "</table>\n",
       "</div>"
      ],
      "text/plain": [
       "               age          sex           cp     trestbps         chol  \\\n",
       "count  1025.000000  1025.000000  1025.000000  1025.000000  1025.000000   \n",
       "mean      0.529878     0.695610     0.314146     0.354827     0.273973   \n",
       "std       0.189006     0.460373     0.343214     0.165252     0.117791   \n",
       "min       0.000000     0.000000     0.000000     0.000000     0.000000   \n",
       "25%       0.395833     0.000000     0.000000     0.245283     0.194064   \n",
       "50%       0.562500     1.000000     0.333333     0.339623     0.260274   \n",
       "75%       0.666667     1.000000     0.666667     0.433962     0.340183   \n",
       "max       1.000000     1.000000     1.000000     1.000000     1.000000   \n",
       "\n",
       "               fbs      restecg      thalach        exang      oldpeak  \\\n",
       "count  1025.000000  1025.000000  1025.000000  1025.000000  1025.000000   \n",
       "mean      0.149268     0.264878     0.596291     0.336585     0.172825   \n",
       "std       0.356527     0.263939     0.175616     0.472772     0.189525   \n",
       "min       0.000000     0.000000     0.000000     0.000000     0.000000   \n",
       "25%       0.000000     0.000000     0.465649     0.000000     0.000000   \n",
       "50%       0.000000     0.500000     0.618321     0.000000     0.129032   \n",
       "75%       0.000000     0.500000     0.725191     1.000000     0.290323   \n",
       "max       1.000000     1.000000     1.000000     1.000000     1.000000   \n",
       "\n",
       "             slope           ca         thal       target  \n",
       "count  1025.000000  1025.000000  1025.000000  1025.000000  \n",
       "mean      0.692683     0.188537     0.774634     0.513171  \n",
       "std       0.308878     0.257699     0.206887     0.500070  \n",
       "min       0.000000     0.000000     0.000000     0.000000  \n",
       "25%       0.500000     0.000000     0.666667     0.000000  \n",
       "50%       0.500000     0.000000     0.666667     1.000000  \n",
       "75%       1.000000     0.250000     1.000000     1.000000  \n",
       "max       1.000000     1.000000     1.000000     1.000000  "
      ]
     },
     "execution_count": 62,
     "metadata": {},
     "output_type": "execute_result"
    }
   ],
   "source": [
    "df.describe()"
   ]
  },
  {
   "cell_type": "code",
   "execution_count": 55,
   "metadata": {},
   "outputs": [
    {
     "data": {
      "text/plain": [
       "(717,)"
      ]
     },
     "execution_count": 55,
     "metadata": {},
     "output_type": "execute_result"
    }
   ],
   "source": [
    "X = df.iloc[:,:-1].values #d e f g h i q w r t y\n",
    "y = df.iloc[:,-1].values\n",
    "X_train, X_test, y_train, y_test = train_test_split(X, y , test_size=0.3 , random_state=85, )\n",
    "y_train.shape"
   ]
  },
  {
   "cell_type": "code",
   "execution_count": 53,
   "metadata": {
    "tags": []
   },
   "outputs": [
    {
     "name": "stdout",
     "output_type": "stream",
     "text": [
      "Ogh result with normalization \n",
      "  accuracy:   precision:\n",
      "k=1 45% 0%\n",
      "k=2 69% 67%\n",
      "k=3 64% 78%\n",
      "k=4 65% 66%\n",
      "k=5 69% 66%\n",
      "k=6 65% 63%\n",
      "k=7 65% 62%\n",
      "k=10 67% 68%\n",
      "k=15 67% 69%\n",
      "k=35 76% 78%\n",
      "k=70 81% 84%\n"
     ]
    }
   ],
   "source": [
    "print(\"Ogh result with normalization \")\n",
    "print('  accuracy:' , '  precision:' )\n",
    "# print(X_train[1],1111,X_test[1])\n",
    "# distance.chebyshev(X_train[1],X_test[1])\n",
    "\n",
    "for k in (1,2,3,4,5,6,7,10,15,35,70): #,2,3,4,5,6,7,10,15,35\n",
    "    tp=fp=tn=fn=0\n",
    "    for rowtest in range(len(X_test)):\n",
    "        listdis=np.array(100) \n",
    "        for row in range(k):#len(X_train)\n",
    "            dis=0\n",
    "            for n in range(par):\n",
    "                # print('n',n,row)\n",
    "                dis += (X_train[row][n] - X_test[rowtest][n])**2\n",
    "                \n",
    "                # print(n, dis,X_train[row][n] , X_test[rowtest][n],111111111111111111111)       \n",
    "            \n",
    "            d=math.sqrt(dis)\n",
    "            listdis= np.append(listdis, [d]) \n",
    "        # print('distance list',listdis)            \n",
    "        arg = listdis.argsort()[:1]\n",
    "        \n",
    "        # result=scipy.stats.mode(y[arg],keepdims =True).mode\n",
    "        result=y_train[arg-1]\n",
    "        # print(arg,y[arg-1])\n",
    "        # print('arg no , result',arg, result)\n",
    "        # print('y_test: ',y_test[rowtest] )\n",
    "        if y_test[rowtest] ==1:\n",
    "            \n",
    "            if result == 1:\n",
    "                tp+=1 \n",
    "            else:\n",
    "                fn+=1\n",
    "        else:\n",
    "            if result== 1: \n",
    "                fp+=1 \n",
    "            else:\n",
    "                tn+=1\n",
    "    accuracy= (tp+tn)/(tp+tn+fp+fn)\n",
    "    precision=tp/(tp+fp+1)\n",
    "    print(f'k={k}', \"%.0f%%\" %(100*accuracy) , \"%.0f%%\" %(100*precision))\n",
    "    \n",
    "\n"
   ]
  },
  {
   "cell_type": "markdown",
   "metadata": {
    "tags": []
   },
   "source": [
    " <div id=\"bayes\" style=\"direction:rtl;line-height:300%; padding-right: 200px;\">\n",
    "\t<font face=\"XB Zar\" size=4>\n",
    "    ب- قسمت الف را فقط براي بهترین مقدار K ولی بدون نرمالسازي ویژگیها انجام دهید و نتیجه بهدستآمده را با\n",
    "قسمت قبلی مقایسه نمایید. به صورت کلی استفاده از نرمالسازي چه تاثیري بر روي دستهبندي میتواند داشته باشد؟\n",
    " توضیح دهید.\n",
    "</div>\n"
   ]
  },
  {
   "cell_type": "markdown",
   "metadata": {},
   "source": [
    "باتوجه به ناهمگون بودن داده ها عدم نرمال سازی باعث ایجاد وزن کاذب برای بعضی پارامترها میشود که نتایج را منحرف میکند"
   ]
  },
  {
   "cell_type": "code",
   "execution_count": 57,
   "metadata": {
    "tags": []
   },
   "outputs": [
    {
     "name": "stdout",
     "output_type": "stream",
     "text": [
      "Ogh result without normalization \n",
      "  accuracy:   precision:\n",
      "k=1 46% 54%\n",
      "k=2 53% 60%\n",
      "k=3 55% 64%\n",
      "k=4 59% 63%\n",
      "k=5 59% 63%\n",
      "k=6 59% 63%\n",
      "k=7 59% 63%\n",
      "k=10 60% 64%\n",
      "k=15 60% 64%\n",
      "k=35 66% 65%\n",
      "k=70 66% 67%\n"
     ]
    }
   ],
   "source": [
    "print(\"Ogh result without normalization \")\n",
    "print('  accuracy:' , '  precision:' )\n",
    "# print(X_train[1],1111,X_test[1])\n",
    "# distance.chebyshev(X_train[1],X_test[1])\n",
    "\n",
    "for k in (1,2,3,4,5,6,7,10,15,35,70): #,2,3,4,5,6,7,10,15,35\n",
    "    tp=fp=tn=fn=0\n",
    "    for rowtest in range(len(X_test)):\n",
    "        listdis=np.array(100) \n",
    "        for row in range(k):#len(X_train)\n",
    "            dis=0\n",
    "            for n in range(par):\n",
    "                # print('n',n,row)\n",
    "                dis += (X_train[row][n] - X_test[rowtest][n])**2\n",
    "                \n",
    "                # print(n, dis,X_train[row][n] , X_test[rowtest][n],111111111111111111111)       \n",
    "            \n",
    "            d=math.sqrt(dis)\n",
    "            listdis= np.append(listdis, [d]) \n",
    "        # print('distance list',listdis)            \n",
    "        arg = listdis.argsort()[:1]\n",
    "        \n",
    "        # result=scipy.stats.mode(y[arg],keepdims =True).mode\n",
    "        result=y_train[arg-1]\n",
    "        # print(arg,y[arg-1])\n",
    "        # print('arg no , result',arg, result)\n",
    "        # print('y_test: ',y_test[rowtest] )\n",
    "        if y_test[rowtest] ==1:\n",
    "            \n",
    "            if result == 1:\n",
    "                tp+=1 \n",
    "            else:\n",
    "                fn+=1\n",
    "        else:\n",
    "            if result== 1: \n",
    "                fp+=1 \n",
    "            else:\n",
    "                tn+=1\n",
    "    accuracy= (tp+tn)/(tp+tn+fp+fn)\n",
    "    precision=tp/(tp+fp+1)\n",
    "    print(f'k={k}', \"%.0f%%\" %(100*accuracy) , \"%.0f%%\" %(100*precision))\n",
    "    \n",
    "\n"
   ]
  },
  {
   "cell_type": "markdown",
   "metadata": {
    "tags": []
   },
   "source": [
    "<div id=\"bayes\" style=\"direction:rtl;line-height:300%; padding-right: 200px;\">\n",
    "\t<font face=\"XB Zar\" size=4>\n",
    "ج- قسمت الف را بار دیگر با معیارهاي فاصله زیر انجام دهید.\n",
    "</br>\n",
    "1. Manhattan 2. Chebyshev\n",
    "</div>"
   ]
  },
  {
   "cell_type": "code",
   "execution_count": 56,
   "metadata": {},
   "outputs": [
    {
     "data": {
      "text/plain": [
       "13"
      ]
     },
     "execution_count": 56,
     "metadata": {},
     "output_type": "execute_result"
    }
   ],
   "source": [
    "# from scipy.spatial import distance\n",
    "\n",
    "listdis=np.array(0) \n",
    "listdis\n",
    "par=X_train.shape[1]\n",
    "par"
   ]
  },
  {
   "cell_type": "code",
   "execution_count": 45,
   "metadata": {},
   "outputs": [
    {
     "name": "stdout",
     "output_type": "stream",
     "text": [
      "Manhattan result with normalization \n",
      "  accuracy:   precision:\n",
      "k=1 45% 0%\n",
      "k=2 70% 69%\n",
      "k=3 77% 87%\n",
      "k=4 71% 69%\n",
      "k=5 71% 68%\n",
      "k=6 68% 65%\n",
      "k=7 68% 65%\n",
      "k=10 65% 65%\n",
      "k=15 70% 71%\n",
      "k=35 81% 81%\n",
      "k=70 84% 85%\n"
     ]
    }
   ],
   "source": [
    "print(\"Manhattan result with normalization \")\n",
    "print('  accuracy:' , '  precision:' )\n",
    "# print(X_train[1],1111,X_test[1])\n",
    "# distance.chebyshev(X_train[1],X_test[1])\n",
    "\n",
    "for k in (1,2,3,4,5,6,7,10,15,35,70): #,2,3,4,5,6,7,10,15,35\n",
    "    tp=fp=tn=fn=0\n",
    "    for rowtest in range(len(X_test)):\n",
    "        listdis=np.array(100) \n",
    "        for row in range(k):#len(X_train)\n",
    "            dis=0\n",
    "            for n in range(par):\n",
    "                # print('n',n,row)\n",
    "                dis += abs(X_train[row][n] - X_test[rowtest][n])\n",
    "                \n",
    "                # print(n, dis,X_train[row][n] , X_test[rowtest][n],111111111111111111111)       \n",
    "            listdis= np.append(listdis, [dis]) \n",
    "        # print('distance list',listdis)            \n",
    "        arg = listdis.argsort()[:1]\n",
    "        \n",
    "        # result=scipy.stats.mode(y[arg],keepdims =True).mode\n",
    "        result=y_train[arg-1]\n",
    "        # print(arg,y[arg-1])\n",
    "        # print('arg no , result',arg, result)\n",
    "        # print('y_test: ',y_test[rowtest] )\n",
    "        if y_test[rowtest] ==1:\n",
    "            \n",
    "            if result == 1:\n",
    "                tp+=1 \n",
    "            else:\n",
    "                fn+=1\n",
    "        else:\n",
    "            if result== 1: \n",
    "                fp+=1 \n",
    "            else:\n",
    "                tn+=1\n",
    "    accuracy= (tp+tn)/(tp+tn+fp+fn)\n",
    "    precision=tp/(tp+fp+1)\n",
    "    print(f'k={k}', \"%.0f%%\" %(100*accuracy) , \"%.0f%%\" %(100*precision))\n",
    "    \n",
    "\n"
   ]
  },
  {
   "cell_type": "markdown",
   "metadata": {},
   "source": [
    "<div id=\"bayes\" style=\"direction:rtl;line-height:300%; padding-right: 200px;\">\n",
    "\t<font face=\"XB Zar\" size=4>\n",
    "\n",
    "سوال دو: در این تمرین از الگوریتم K نزدیکترین همسایه براي رگرسیون استفاده نمایید. مجموعه داده regression که در کنار\n",
    "این فایل قرار داده شده است را به دو بخش آموزش و آزمون با نسبت 2 به 1 تقسیم نمایید. سپس بهترین مقدار K را با  آزمون خطا بهدست آورید. خطاي MSE را براي این مدل براي هر دو مجموعه داده آزمون و آموزش گزارش کنید. مجموعه داده آموزش و آزمون را با رنگهاي متفاوت در نموداري نمایش دهید.\n",
    "</div>"
   ]
  },
  {
   "cell_type": "code",
   "execution_count": 6,
   "metadata": {},
   "outputs": [],
   "source": [
    "import pandas as pd\n",
    "import seaborn as sns\n",
    "import numpy as np\n",
    "import matplotlib.pyplot as plt\n",
    "from scipy import stats"
   ]
  },
  {
   "cell_type": "code",
   "execution_count": 14,
   "metadata": {},
   "outputs": [],
   "source": [
    "from sklearn.model_selection import train_test_split\n",
    "from sklearn import preprocessing\n",
    "from sklearn.pipeline import make_pipeline\n",
    "# from sklearn.linear_model import LinearRegression, Ridge, SGDRegressor,LogisticRegression\n",
    "from sklearn import metrics\n",
    "from sklearn.metrics import classification_report\n",
    "from sklearn.metrics import accuracy_score\n",
    "from sklearn.neighbors import KNeighborsRegressor\n",
    "from sklearn.metrics import confusion_matrix\n",
    "import math"
   ]
  },
  {
   "cell_type": "code",
   "execution_count": 2,
   "metadata": {},
   "outputs": [],
   "source": [
    "\n",
    "df=pd.read_csv('regression.txt')"
   ]
  },
  {
   "cell_type": "code",
   "execution_count": null,
   "metadata": {},
   "outputs": [],
   "source": [
    "df"
   ]
  },
  {
   "cell_type": "code",
   "execution_count": 18,
   "metadata": {},
   "outputs": [
    {
     "name": "stdout",
     "output_type": "stream",
     "text": [
      "<class 'pandas.core.frame.DataFrame'>\n",
      "Int64Index: 238 entries, 0 to 239\n",
      "Data columns (total 2 columns):\n",
      " #   Column  Non-Null Count  Dtype  \n",
      "---  ------  --------------  -----  \n",
      " 0   x       238 non-null    float64\n",
      " 1   y       238 non-null    float64\n",
      "dtypes: float64(2)\n",
      "memory usage: 5.6 KB\n"
     ]
    }
   ],
   "source": [
    "df.info()"
   ]
  },
  {
   "cell_type": "code",
   "execution_count": 7,
   "metadata": {},
   "outputs": [],
   "source": [
    "df=df[(np.abs(stats.zscore(df)) <2).all(axis=1)]"
   ]
  },
  {
   "cell_type": "code",
   "execution_count": 9,
   "metadata": {},
   "outputs": [],
   "source": [
    "X = df.iloc[:, :-1].values\n",
    "y = df.iloc[:,-1].values\n",
    "X_train, X_test, y_train, y_test = train_test_split(X, y , test_size=0.3 , random_state=85, )"
   ]
  },
  {
   "cell_type": "code",
   "execution_count": 54,
   "metadata": {},
   "outputs": [],
   "source": [
    "model = make_pipeline(preprocessing.StandardScaler(), KNeighborsRegressor(n_neighbors=4))\n",
    "model.fit(X_train, y_train)\n",
    "\n",
    "model.fit(X_train, y_train)\n",
    "y_predict= model.predict(X_test)"
   ]
  },
  {
   "cell_type": "code",
   "execution_count": 55,
   "metadata": {},
   "outputs": [
    {
     "name": "stdout",
     "output_type": "stream",
     "text": [
      "R2:  0.9553585774982267\n",
      "MSE:  0.042580802951388885\n",
      "MAE :  0.15950347222222222\n",
      "MAPE :  0.7159030800597517\n"
     ]
    },
    {
     "data": {
      "text/plain": [
       "2.430063190043194"
      ]
     },
     "execution_count": 55,
     "metadata": {},
     "output_type": "execute_result"
    }
   ],
   "source": [
    "print(\"R2: \", metrics.r2_score(y_test, y_predict))\n",
    "print(\"MSE: \", metrics.mean_squared_error(y_test, y_predict))\n",
    "print(\"MAE : \", metrics.mean_absolute_error(y_test, y_predict))\n",
    "print(\"MAPE : \", metrics.mean_absolute_percentage_error(y_test, y_predict))\n",
    "math.sqrt(metrics.mean_squared_error(y_test, y_predict)) / df[\"y\"].mean()"
   ]
  },
  {
   "cell_type": "code",
   "execution_count": null,
   "metadata": {},
   "outputs": [],
   "source": [
    "pd.concat( [pd.DataFrame(X_test),pd.Series(y_predict),pd.Series(y_test )],  axis=1)\n"
   ]
  },
  {
   "cell_type": "markdown",
   "metadata": {},
   "source": [
    "Best k is 4"
   ]
  }
 ],
 "metadata": {
  "kernelspec": {
   "display_name": "Python 3 (ipykernel)",
   "language": "python",
   "name": "python3"
  },
  "language_info": {
   "codemirror_mode": {
    "name": "ipython",
    "version": 3
   },
   "file_extension": ".py",
   "mimetype": "text/x-python",
   "name": "python",
   "nbconvert_exporter": "python",
   "pygments_lexer": "ipython3",
   "version": "3.10.6"
  },
  "vscode": {
   "interpreter": {
    "hash": "31f2aee4e71d21fbe5cf8b01ff0e069b9275f58929596ceb00d14d90e3e16cd6"
   }
  },
  "widgets": {
   "application/vnd.jupyter.widget-state+json": {
    "state": {},
    "version_major": 2,
    "version_minor": 0
   }
  }
 },
 "nbformat": 4,
 "nbformat_minor": 4
}
