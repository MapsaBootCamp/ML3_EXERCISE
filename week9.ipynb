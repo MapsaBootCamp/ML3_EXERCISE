{
 "cells": [
  {
   "attachments": {},
   "cell_type": "markdown",
   "metadata": {},
   "source": [
    "<div dir = \"rtl\" style=\"direction:rtl;line-height:300%;\">\n",
    "\t<font face=\"XB Zar\" size=6 color=#F32500>\n",
    "        <div  align=center>\n",
    "            تمرین هفته هشتم بوت کمپ یادگیری ماشین-\n",
    "            مپصا\n",
    "        </div>\n",
    "        <br/>\n",
    "    </font>\n",
    "</div>"
   ]
  },
  {
   "attachments": {},
   "cell_type": "markdown",
   "metadata": {},
   "source": [
    "<div id=\"bayes\" style=\"direction:rtl;line-height:300%;\">\n",
    "\t<font face=\"XB Zar\" size=4>\n",
    "\t\t سوال یک:‌ هدف از این سوال آشنایی با الگوریتم K نزدیکترین همسایه براي مسایل دسته بندي میباشد.\n",
    "\t\tمجموعه داده را از لینک زیر دانلود کنید و به سوالات پاسخ دهید.\n",
    "\t\t</br>\n",
    "\t\t</br>\n",
    "</div>\n",
    "\t\thttps://archive.ics.uci.edu/ml/machine-learning-databases/heart-disease/processed.cleveland.data"
   ]
  },
  {
   "attachments": {},
   "cell_type": "markdown",
   "metadata": {},
   "source": [
    " <div id=\"bayes\" style=\"direction:rtl;line-height:300%; padding-right: 200px;\">\n",
    "\t<font face=\"XB Zar\" size=4>\n",
    " الف- الگوریتم K نزدیکترین همسایه را با استفاده از معیار فاصله اقلیدسی پیاده سازي نمایید. در این پیاده سازي\n",
    "از تمامی ویژگیهاي این مجموعه داده که شامل 13 ویژگی است، استفاده نمایید. این مجموعه داده شامل 303 شخص  میباشد که به دو کلاس بیمار و سالم تقسیم شدهاند. مقادیر 1 تا 7، 10 و 15 را براي این الگوریتم استفاده نمایید و بهترین\n",
    "مقدار K را بدست آورید. لازم به ذکر است که در این بخش دادهها را به دو بخش یادگیري و آزمون با نسبت 2 به 1 تقسیم کنید. در نهایت دقت الگوریتم و ماتریس پریشانی را براي مجموعه داده آموزش و آزمون گزارش نمایید.\n",
    "\t\t</br>\n",
    "\t\t</br>\n",
    "</div>"
   ]
  },
  {
   "cell_type": "code",
   "execution_count": 10,
   "metadata": {},
   "outputs": [],
   "source": [
    "import pandas as pd\n",
    "import numpy as np\n",
    "import matplotlib.pyplot as plt\n",
    "data = pd.read_csv(\"processed.cleveland.data\")\n",
    "data.columns=['age','sex','cp','trestbps','chol','fbs','restecg','thalach','exang','oldpeak','slope','ca','thal','num']\n"
   ]
  },
  {
   "cell_type": "code",
   "execution_count": 15,
   "metadata": {},
   "outputs": [],
   "source": [
    "from sklearn.model_selection import train_test_split"
   ]
  },
  {
   "cell_type": "code",
   "execution_count": 158,
   "metadata": {},
   "outputs": [],
   "source": [
    "from sklearn.neighbors import KNeighborsRegressor\n",
    "from sklearn.neighbors import KNeighborsClassifier\n",
    "from sklearn.metrics import mean_squared_error\n",
    "from sklearn.model_selection import learning_curve\n",
    "from sklearn.metrics import classification_report\n",
    "from sklearn.metrics import confusion_matrix\n",
    "from sklearn.pipeline import make_pipeline\n",
    "from sklearn.preprocessing import StandardScaler\n"
   ]
  },
  {
   "cell_type": "code",
   "execution_count": 11,
   "metadata": {},
   "outputs": [
    {
     "data": {
      "text/html": [
       "<div>\n",
       "<style scoped>\n",
       "    .dataframe tbody tr th:only-of-type {\n",
       "        vertical-align: middle;\n",
       "    }\n",
       "\n",
       "    .dataframe tbody tr th {\n",
       "        vertical-align: top;\n",
       "    }\n",
       "\n",
       "    .dataframe thead th {\n",
       "        text-align: right;\n",
       "    }\n",
       "</style>\n",
       "<table border=\"1\" class=\"dataframe\">\n",
       "  <thead>\n",
       "    <tr style=\"text-align: right;\">\n",
       "      <th></th>\n",
       "      <th>age</th>\n",
       "      <th>sex</th>\n",
       "      <th>cp</th>\n",
       "      <th>trestbps</th>\n",
       "      <th>chol</th>\n",
       "      <th>fbs</th>\n",
       "      <th>restecg</th>\n",
       "      <th>thalach</th>\n",
       "      <th>exang</th>\n",
       "      <th>oldpeak</th>\n",
       "      <th>slope</th>\n",
       "      <th>ca</th>\n",
       "      <th>thal</th>\n",
       "      <th>num</th>\n",
       "    </tr>\n",
       "  </thead>\n",
       "  <tbody>\n",
       "    <tr>\n",
       "      <th>0</th>\n",
       "      <td>67.0</td>\n",
       "      <td>1.0</td>\n",
       "      <td>4.0</td>\n",
       "      <td>160.0</td>\n",
       "      <td>286.0</td>\n",
       "      <td>0.0</td>\n",
       "      <td>2.0</td>\n",
       "      <td>108.0</td>\n",
       "      <td>1.0</td>\n",
       "      <td>1.5</td>\n",
       "      <td>2.0</td>\n",
       "      <td>3.0</td>\n",
       "      <td>3.0</td>\n",
       "      <td>2</td>\n",
       "    </tr>\n",
       "    <tr>\n",
       "      <th>1</th>\n",
       "      <td>67.0</td>\n",
       "      <td>1.0</td>\n",
       "      <td>4.0</td>\n",
       "      <td>120.0</td>\n",
       "      <td>229.0</td>\n",
       "      <td>0.0</td>\n",
       "      <td>2.0</td>\n",
       "      <td>129.0</td>\n",
       "      <td>1.0</td>\n",
       "      <td>2.6</td>\n",
       "      <td>2.0</td>\n",
       "      <td>2.0</td>\n",
       "      <td>7.0</td>\n",
       "      <td>1</td>\n",
       "    </tr>\n",
       "    <tr>\n",
       "      <th>2</th>\n",
       "      <td>37.0</td>\n",
       "      <td>1.0</td>\n",
       "      <td>3.0</td>\n",
       "      <td>130.0</td>\n",
       "      <td>250.0</td>\n",
       "      <td>0.0</td>\n",
       "      <td>0.0</td>\n",
       "      <td>187.0</td>\n",
       "      <td>0.0</td>\n",
       "      <td>3.5</td>\n",
       "      <td>3.0</td>\n",
       "      <td>0.0</td>\n",
       "      <td>3.0</td>\n",
       "      <td>0</td>\n",
       "    </tr>\n",
       "    <tr>\n",
       "      <th>3</th>\n",
       "      <td>41.0</td>\n",
       "      <td>0.0</td>\n",
       "      <td>2.0</td>\n",
       "      <td>130.0</td>\n",
       "      <td>204.0</td>\n",
       "      <td>0.0</td>\n",
       "      <td>2.0</td>\n",
       "      <td>172.0</td>\n",
       "      <td>0.0</td>\n",
       "      <td>1.4</td>\n",
       "      <td>1.0</td>\n",
       "      <td>0.0</td>\n",
       "      <td>3.0</td>\n",
       "      <td>0</td>\n",
       "    </tr>\n",
       "    <tr>\n",
       "      <th>4</th>\n",
       "      <td>56.0</td>\n",
       "      <td>1.0</td>\n",
       "      <td>2.0</td>\n",
       "      <td>120.0</td>\n",
       "      <td>236.0</td>\n",
       "      <td>0.0</td>\n",
       "      <td>0.0</td>\n",
       "      <td>178.0</td>\n",
       "      <td>0.0</td>\n",
       "      <td>0.8</td>\n",
       "      <td>1.0</td>\n",
       "      <td>0.0</td>\n",
       "      <td>3.0</td>\n",
       "      <td>0</td>\n",
       "    </tr>\n",
       "  </tbody>\n",
       "</table>\n",
       "</div>"
      ],
      "text/plain": [
       "    age  sex   cp  trestbps   chol  fbs  restecg  thalach  exang  oldpeak  \\\n",
       "0  67.0  1.0  4.0     160.0  286.0  0.0      2.0    108.0    1.0      1.5   \n",
       "1  67.0  1.0  4.0     120.0  229.0  0.0      2.0    129.0    1.0      2.6   \n",
       "2  37.0  1.0  3.0     130.0  250.0  0.0      0.0    187.0    0.0      3.5   \n",
       "3  41.0  0.0  2.0     130.0  204.0  0.0      2.0    172.0    0.0      1.4   \n",
       "4  56.0  1.0  2.0     120.0  236.0  0.0      0.0    178.0    0.0      0.8   \n",
       "\n",
       "   slope   ca thal  num  \n",
       "0    2.0  3.0  3.0    2  \n",
       "1    2.0  2.0  7.0    1  \n",
       "2    3.0  0.0  3.0    0  \n",
       "3    1.0  0.0  3.0    0  \n",
       "4    1.0  0.0  3.0    0  "
      ]
     },
     "execution_count": 11,
     "metadata": {},
     "output_type": "execute_result"
    }
   ],
   "source": [
    "data.head()"
   ]
  },
  {
   "cell_type": "code",
   "execution_count": 95,
   "metadata": {},
   "outputs": [],
   "source": [
    "data.drop(data.loc[data['ca']=='?'].index,inplace=True)\n",
    "data.drop(data.loc[data['thal']=='?'].index,inplace=True)"
   ]
  },
  {
   "cell_type": "code",
   "execution_count": 96,
   "metadata": {},
   "outputs": [
    {
     "name": "stdout",
     "output_type": "stream",
     "text": [
      "<class 'pandas.core.frame.DataFrame'>\n",
      "Int64Index: 296 entries, 0 to 300\n",
      "Data columns (total 14 columns):\n",
      " #   Column    Non-Null Count  Dtype  \n",
      "---  ------    --------------  -----  \n",
      " 0   age       296 non-null    float64\n",
      " 1   sex       296 non-null    float64\n",
      " 2   cp        296 non-null    float64\n",
      " 3   trestbps  296 non-null    float64\n",
      " 4   chol      296 non-null    float64\n",
      " 5   fbs       296 non-null    float64\n",
      " 6   restecg   296 non-null    float64\n",
      " 7   thalach   296 non-null    float64\n",
      " 8   exang     296 non-null    float64\n",
      " 9   oldpeak   296 non-null    float64\n",
      " 10  slope     296 non-null    float64\n",
      " 11  ca        296 non-null    object \n",
      " 12  thal      296 non-null    object \n",
      " 13  num       296 non-null    int64  \n",
      "dtypes: float64(11), int64(1), object(2)\n",
      "memory usage: 34.7+ KB\n"
     ]
    }
   ],
   "source": [
    "data.info()"
   ]
  },
  {
   "cell_type": "code",
   "execution_count": 111,
   "metadata": {},
   "outputs": [],
   "source": [
    "x=data.iloc[:,:-1]\n",
    "y=data.iloc[:,-1]"
   ]
  },
  {
   "cell_type": "code",
   "execution_count": 115,
   "metadata": {},
   "outputs": [],
   "source": [
    "x_train, x_test, y_train, Y_test = train_test_split(x, y, test_size=0.33, random_state=42)"
   ]
  },
  {
   "cell_type": "code",
   "execution_count": 166,
   "metadata": {},
   "outputs": [],
   "source": [
    "def find_best_neighbors2(k,x_train,y_train): \n",
    "    pipe=make_pipeline(StandardScaler(),KNeighborsClassifier(n_neighbors=k))\n",
    "   \n",
    "    \n",
    "    neigh=pipe.fit(x_train,y_train)\n",
    "    y_predict=neigh.predict(x_train)\n",
    "    \n",
    "    print(confusion_matrix(y_train, y_predict))\n",
    "    "
   ]
  },
  {
   "cell_type": "code",
   "execution_count": 167,
   "metadata": {},
   "outputs": [
    {
     "name": "stdout",
     "output_type": "stream",
     "text": [
      "[[104   0   0   0   0]\n",
      " [  0  37   0   0   0]\n",
      " [  0   0  25   0   0]\n",
      " [  0   0   0  22   0]\n",
      " [  0   0   0   0  10]]\n",
      "[[104   0   0   0   0]\n",
      " [ 17  20   0   0   0]\n",
      " [  6   8  11   0   0]\n",
      " [  6   4   4   8   0]\n",
      " [  1   3   2   4   0]]\n",
      "[[98  4  1  1  0]\n",
      " [14 19  2  2  0]\n",
      " [10  6  8  1  0]\n",
      " [ 8  4  5  5  0]\n",
      " [ 2  4  2  0  2]]\n",
      "[[99  5  0  0  0]\n",
      " [17 16  2  2  0]\n",
      " [ 5 12  6  2  0]\n",
      " [ 4  7  6  4  1]\n",
      " [ 1  2  4  3  0]]\n",
      "[[101   3   0   0   0]\n",
      " [ 19  15   2   1   0]\n",
      " [  6  11   7   1   0]\n",
      " [  6   8   4   3   1]\n",
      " [  1   2   6   1   0]]\n"
     ]
    }
   ],
   "source": [
    "for k in [1,2,3,5,7]:\n",
    "    find_best_neighbors2(k,x_train,y_train)"
   ]
  },
  {
   "attachments": {},
   "cell_type": "markdown",
   "metadata": {},
   "source": [
    "k=2"
   ]
  },
  {
   "cell_type": "code",
   "execution_count": 169,
   "metadata": {},
   "outputs": [],
   "source": [
    "pipe=make_pipeline(StandardScaler(),KNeighborsClassifier(n_neighbors=2))\n",
    "   \n",
    "   \n",
    "neigh=pipe.fit(x_train,y_train)\n",
    "\n",
    "Y_predict=neigh.predict(x_test)\n"
   ]
  },
  {
   "cell_type": "code",
   "execution_count": 170,
   "metadata": {},
   "outputs": [
    {
     "name": "stdout",
     "output_type": "stream",
     "text": [
      "[[49  5  0  1  0]\n",
      " [10  5  2  0  0]\n",
      " [ 1  3  4  2  0]\n",
      " [ 4  5  4  0  0]\n",
      " [ 0  0  1  2  0]]\n"
     ]
    }
   ],
   "source": [
    "print(confusion_matrix(Y_test, Y_predict))"
   ]
  },
  {
   "cell_type": "code",
   "execution_count": 171,
   "metadata": {},
   "outputs": [
    {
     "name": "stdout",
     "output_type": "stream",
     "text": [
      "              precision    recall  f1-score   support\n",
      "\n",
      "           0       0.77      0.89      0.82        55\n",
      "           1       0.28      0.29      0.29        17\n",
      "           2       0.36      0.40      0.38        10\n",
      "           3       0.00      0.00      0.00        13\n",
      "           4       0.00      0.00      0.00         3\n",
      "\n",
      "    accuracy                           0.59        98\n",
      "   macro avg       0.28      0.32      0.30        98\n",
      "weighted avg       0.51      0.59      0.55        98\n",
      "\n"
     ]
    },
    {
     "name": "stderr",
     "output_type": "stream",
     "text": [
      "/Users/arianzarifian/opt/anaconda3/lib/python3.9/site-packages/sklearn/metrics/_classification.py:1318: UndefinedMetricWarning: Precision and F-score are ill-defined and being set to 0.0 in labels with no predicted samples. Use `zero_division` parameter to control this behavior.\n",
      "  _warn_prf(average, modifier, msg_start, len(result))\n",
      "/Users/arianzarifian/opt/anaconda3/lib/python3.9/site-packages/sklearn/metrics/_classification.py:1318: UndefinedMetricWarning: Precision and F-score are ill-defined and being set to 0.0 in labels with no predicted samples. Use `zero_division` parameter to control this behavior.\n",
      "  _warn_prf(average, modifier, msg_start, len(result))\n",
      "/Users/arianzarifian/opt/anaconda3/lib/python3.9/site-packages/sklearn/metrics/_classification.py:1318: UndefinedMetricWarning: Precision and F-score are ill-defined and being set to 0.0 in labels with no predicted samples. Use `zero_division` parameter to control this behavior.\n",
      "  _warn_prf(average, modifier, msg_start, len(result))\n"
     ]
    }
   ],
   "source": [
    "print(classification_report(Y_test, Y_predict))"
   ]
  },
  {
   "attachments": {},
   "cell_type": "markdown",
   "metadata": {},
   "source": [
    " <div id=\"bayes\" style=\"direction:rtl;line-height:300%; padding-right: 200px;\">\n",
    "\t<font face=\"XB Zar\" size=4>\n",
    "    ب- قسمت الف را فقط براي بهترین مقدار K ولی بدون نرمالسازي ویژگیها انجام دهید و نتیجه بهدستآمده را با\n",
    "قسمت قبلی مقایسه نمایید. به صورت کلی استفاده از نرمالسازي چه تاثیري بر روي دستهبندي میتواند داشته باشد؟\n",
    " توضیح دهید.\n",
    "</div>\n"
   ]
  },
  {
   "cell_type": "code",
   "execution_count": 113,
   "metadata": {},
   "outputs": [],
   "source": [
    "def find_best_neighbors1(k,x_train,y_train): \n",
    "   \n",
    "    neigh=KNeighborsClassifier(n_neighbors=k)\n",
    "    neigh.fit(x_train,y_train)\n",
    "    y_predict=neigh.predict(x_train)\n",
    "    print( y_predict.shape)\n",
    "    print(confusion_matrix(y_train, y_predict))\n"
   ]
  },
  {
   "cell_type": "code",
   "execution_count": null,
   "metadata": {},
   "outputs": [],
   "source": [
    "for k in [1,2,3,5,7]:\n",
    "    find_best_neighbors1(k,x_train,y_train)"
   ]
  },
  {
   "cell_type": "code",
   "execution_count": 116,
   "metadata": {},
   "outputs": [
    {
     "name": "stdout",
     "output_type": "stream",
     "text": [
      "(198,)\n",
      "[[104   0   0   0   0]\n",
      " [  0  37   0   0   0]\n",
      " [  0   0  25   0   0]\n",
      " [  0   0   0  22   0]\n",
      " [  0   0   0   0  10]]\n",
      "(198,)\n",
      "[[104   0   0   0   0]\n",
      " [ 20  17   0   0   0]\n",
      " [  9  10   6   0   0]\n",
      " [  8   6   3   5   0]\n",
      " [  3   3   2   0   2]]\n",
      "(198,)\n",
      "[[100   3   1   0   0]\n",
      " [ 21  12   3   0   1]\n",
      " [ 15   2   8   0   0]\n",
      " [ 11   5   0   5   1]\n",
      " [  5   2   0   0   3]]\n",
      "(198,)\n",
      "[[93  7  2  1  1]\n",
      " [21 15  0  1  0]\n",
      " [14  7  4  0  0]\n",
      " [12  5  2  2  1]\n",
      " [ 6  2  0  0  2]]\n",
      "(198,)\n",
      "[[97  4  0  2  1]\n",
      " [24  8  4  1  0]\n",
      " [14  7  3  1  0]\n",
      " [13  4  2  3  0]\n",
      " [ 7  1  0  1  1]]\n"
     ]
    }
   ],
   "source": [
    "for k in [1,2,3,5,7]:\n",
    "    find_best_neighbors1(k,x_train,y_train)"
   ]
  },
  {
   "cell_type": "code",
   "execution_count": 136,
   "metadata": {},
   "outputs": [
    {
     "name": "stdout",
     "output_type": "stream",
     "text": [
      "(198,)\n",
      "[[104   0   0   0   0]\n",
      " [  0  37   0   0   0]\n",
      " [  0   0  25   0   0]\n",
      " [  0   0   0  22   0]\n",
      " [  0   0   0   0  10]]\n",
      "(198,)\n",
      "[[104   0   0   0   0]\n",
      " [ 20  17   0   0   0]\n",
      " [  9  10   6   0   0]\n",
      " [  8   6   3   5   0]\n",
      " [  3   3   2   0   2]]\n",
      "(198,)\n",
      "[[100   3   1   0   0]\n",
      " [ 21  12   3   0   1]\n",
      " [ 15   2   8   0   0]\n",
      " [ 11   5   0   5   1]\n",
      " [  5   2   0   0   3]]\n",
      "(198,)\n",
      "[[93  7  2  1  1]\n",
      " [21 15  0  1  0]\n",
      " [14  7  4  0  0]\n",
      " [12  5  2  2  1]\n",
      " [ 6  2  0  0  2]]\n",
      "(198,)\n",
      "[[97  4  0  2  1]\n",
      " [24  8  4  1  0]\n",
      " [14  7  3  1  0]\n",
      " [13  4  2  3  0]\n",
      " [ 7  1  0  1  1]]\n"
     ]
    }
   ],
   "source": [
    "for k in [1,2,3,5,7]:\n",
    "    find_best_neighbors1(k,x_train,y_train)"
   ]
  },
  {
   "attachments": {},
   "cell_type": "markdown",
   "metadata": {},
   "source": [
    "k=2"
   ]
  },
  {
   "cell_type": "code",
   "execution_count": 154,
   "metadata": {},
   "outputs": [],
   "source": [
    "neigh=KNeighborsClassifier(n_neighbors=2)\n",
    "Y_predict=neigh.fit(x_train,y_train).predict(x_test)"
   ]
  },
  {
   "cell_type": "code",
   "execution_count": 155,
   "metadata": {},
   "outputs": [
    {
     "name": "stdout",
     "output_type": "stream",
     "text": [
      "[[45  8  0  2  0]\n",
      " [12  4  0  1  0]\n",
      " [ 1  7  2  0  0]\n",
      " [ 8  3  2  0  0]\n",
      " [ 2  1  0  0  0]]\n"
     ]
    }
   ],
   "source": [
    "print(confusion_matrix(Y_test, Y_predict))"
   ]
  },
  {
   "cell_type": "code",
   "execution_count": 172,
   "metadata": {},
   "outputs": [
    {
     "name": "stdout",
     "output_type": "stream",
     "text": [
      "              precision    recall  f1-score   support\n",
      "\n",
      "           0       0.77      0.89      0.82        55\n",
      "           1       0.28      0.29      0.29        17\n",
      "           2       0.36      0.40      0.38        10\n",
      "           3       0.00      0.00      0.00        13\n",
      "           4       0.00      0.00      0.00         3\n",
      "\n",
      "    accuracy                           0.59        98\n",
      "   macro avg       0.28      0.32      0.30        98\n",
      "weighted avg       0.51      0.59      0.55        98\n",
      "\n"
     ]
    },
    {
     "name": "stderr",
     "output_type": "stream",
     "text": [
      "/Users/arianzarifian/opt/anaconda3/lib/python3.9/site-packages/sklearn/metrics/_classification.py:1318: UndefinedMetricWarning: Precision and F-score are ill-defined and being set to 0.0 in labels with no predicted samples. Use `zero_division` parameter to control this behavior.\n",
      "  _warn_prf(average, modifier, msg_start, len(result))\n",
      "/Users/arianzarifian/opt/anaconda3/lib/python3.9/site-packages/sklearn/metrics/_classification.py:1318: UndefinedMetricWarning: Precision and F-score are ill-defined and being set to 0.0 in labels with no predicted samples. Use `zero_division` parameter to control this behavior.\n",
      "  _warn_prf(average, modifier, msg_start, len(result))\n",
      "/Users/arianzarifian/opt/anaconda3/lib/python3.9/site-packages/sklearn/metrics/_classification.py:1318: UndefinedMetricWarning: Precision and F-score are ill-defined and being set to 0.0 in labels with no predicted samples. Use `zero_division` parameter to control this behavior.\n",
      "  _warn_prf(average, modifier, msg_start, len(result))\n"
     ]
    }
   ],
   "source": [
    "print(classification_report(Y_test, Y_predict))"
   ]
  },
  {
   "attachments": {},
   "cell_type": "markdown",
   "metadata": {},
   "source": [
    "<div id=\"bayes\" style=\"direction:rtl;line-height:300%; padding-right: 200px;\">\n",
    "\t<font face=\"XB Zar\" size=4>\n",
    "ج- قسمت الف را بار دیگر با معیارهاي فاصله زیر انجام دهید.\n",
    "</br>\n",
    "1. Manhattan 2. Chebyshev\n",
    "</div>"
   ]
  },
  {
   "cell_type": "code",
   "execution_count": 173,
   "metadata": {},
   "outputs": [],
   "source": [
    "pipe=make_pipeline(StandardScaler(),KNeighborsClassifier(n_neighbors=2,metric='chebyshev'))\n",
    "   \n",
    "neigh=pipe.fit(x_train,y_train)\n",
    "\n",
    "Y_predict=neigh.predict(x_test)\n"
   ]
  },
  {
   "cell_type": "code",
   "execution_count": 174,
   "metadata": {},
   "outputs": [
    {
     "name": "stdout",
     "output_type": "stream",
     "text": [
      "              precision    recall  f1-score   support\n",
      "\n",
      "           0       0.70      0.87      0.77        55\n",
      "           1       0.29      0.29      0.29        17\n",
      "           2       0.30      0.30      0.30        10\n",
      "           3       0.50      0.08      0.13        13\n",
      "           4       0.00      0.00      0.00         3\n",
      "\n",
      "    accuracy                           0.58        98\n",
      "   macro avg       0.36      0.31      0.30        98\n",
      "weighted avg       0.54      0.58      0.53        98\n",
      "\n"
     ]
    },
    {
     "name": "stderr",
     "output_type": "stream",
     "text": [
      "/Users/arianzarifian/opt/anaconda3/lib/python3.9/site-packages/sklearn/metrics/_classification.py:1318: UndefinedMetricWarning: Precision and F-score are ill-defined and being set to 0.0 in labels with no predicted samples. Use `zero_division` parameter to control this behavior.\n",
      "  _warn_prf(average, modifier, msg_start, len(result))\n",
      "/Users/arianzarifian/opt/anaconda3/lib/python3.9/site-packages/sklearn/metrics/_classification.py:1318: UndefinedMetricWarning: Precision and F-score are ill-defined and being set to 0.0 in labels with no predicted samples. Use `zero_division` parameter to control this behavior.\n",
      "  _warn_prf(average, modifier, msg_start, len(result))\n",
      "/Users/arianzarifian/opt/anaconda3/lib/python3.9/site-packages/sklearn/metrics/_classification.py:1318: UndefinedMetricWarning: Precision and F-score are ill-defined and being set to 0.0 in labels with no predicted samples. Use `zero_division` parameter to control this behavior.\n",
      "  _warn_prf(average, modifier, msg_start, len(result))\n"
     ]
    }
   ],
   "source": [
    "print(classification_report(Y_test, Y_predict))"
   ]
  },
  {
   "cell_type": "code",
   "execution_count": 176,
   "metadata": {},
   "outputs": [],
   "source": [
    "pipe=make_pipeline(StandardScaler(),KNeighborsClassifier(n_neighbors=2,p=1))\n",
    "   \n",
    "neigh=pipe.fit(x_train,y_train)\n",
    "\n",
    "Y_predict=neigh.predict(x_test)\n"
   ]
  },
  {
   "cell_type": "code",
   "execution_count": 177,
   "metadata": {},
   "outputs": [
    {
     "name": "stdout",
     "output_type": "stream",
     "text": [
      "              precision    recall  f1-score   support\n",
      "\n",
      "           0       0.78      0.89      0.83        55\n",
      "           1       0.24      0.24      0.24        17\n",
      "           2       0.27      0.40      0.32        10\n",
      "           3       0.33      0.08      0.12        13\n",
      "           4       0.00      0.00      0.00         3\n",
      "\n",
      "    accuracy                           0.59        98\n",
      "   macro avg       0.32      0.32      0.30        98\n",
      "weighted avg       0.55      0.59      0.56        98\n",
      "\n"
     ]
    },
    {
     "name": "stderr",
     "output_type": "stream",
     "text": [
      "/Users/arianzarifian/opt/anaconda3/lib/python3.9/site-packages/sklearn/metrics/_classification.py:1318: UndefinedMetricWarning: Precision and F-score are ill-defined and being set to 0.0 in labels with no predicted samples. Use `zero_division` parameter to control this behavior.\n",
      "  _warn_prf(average, modifier, msg_start, len(result))\n",
      "/Users/arianzarifian/opt/anaconda3/lib/python3.9/site-packages/sklearn/metrics/_classification.py:1318: UndefinedMetricWarning: Precision and F-score are ill-defined and being set to 0.0 in labels with no predicted samples. Use `zero_division` parameter to control this behavior.\n",
      "  _warn_prf(average, modifier, msg_start, len(result))\n",
      "/Users/arianzarifian/opt/anaconda3/lib/python3.9/site-packages/sklearn/metrics/_classification.py:1318: UndefinedMetricWarning: Precision and F-score are ill-defined and being set to 0.0 in labels with no predicted samples. Use `zero_division` parameter to control this behavior.\n",
      "  _warn_prf(average, modifier, msg_start, len(result))\n"
     ]
    }
   ],
   "source": [
    "print(classification_report(Y_test, Y_predict))"
   ]
  },
  {
   "attachments": {},
   "cell_type": "markdown",
   "metadata": {},
   "source": [
    "<div id=\"bayes\" style=\"direction:rtl;line-height:300%; padding-right: 200px;\">\n",
    "\t<font face=\"XB Zar\" size=4>\n",
    "\n",
    "سوال دو: در این تمرین از الگوریتم K نزدیکترین همسایه براي رگرسیون استفاده نمایید. مجموعه داده regression که در کنار\n",
    "این فایل قرار داده شده است را به دو بخش آموزش و آزمون با نسبت 2 به 1 تقسیم نمایید. سپس بهترین مقدار K را با  آزمون خطا بهدست آورید. خطاي MSE را براي این مدل براي هر دو مجموعه داده آزمون و آموزش گزارش کنید. مجموعه داده آموزش و آزمون را با رنگهاي متفاوت در نموداري نمایش دهید.\n",
    "</div>"
   ]
  },
  {
   "cell_type": "code",
   "execution_count": 14,
   "metadata": {},
   "outputs": [],
   "source": [
    "df2=pd.read_csv('regression.txt')\n",
    "X=df2.x\n",
    "Y=df2.y"
   ]
  },
  {
   "cell_type": "code",
   "execution_count": 16,
   "metadata": {},
   "outputs": [],
   "source": [
    "X_train, X_test, Y_train, y_test = train_test_split(X, Y, test_size=0.33, random_state=42)"
   ]
  },
  {
   "cell_type": "code",
   "execution_count": 17,
   "metadata": {},
   "outputs": [
    {
     "data": {
      "text/plain": [
       "(160,)"
      ]
     },
     "execution_count": 17,
     "metadata": {},
     "output_type": "execute_result"
    }
   ],
   "source": [
    "X_train.shape"
   ]
  },
  {
   "cell_type": "code",
   "execution_count": 18,
   "metadata": {},
   "outputs": [],
   "source": [
    "X_train=np.array(X_train)\n",
    "X_train=X_train.reshape(-1,1)\n",
    "X_test=np.array(X_test)\n",
    "X_test=X_test.reshape(-1,1)\n"
   ]
  },
  {
   "cell_type": "code",
   "execution_count": null,
   "metadata": {},
   "outputs": [],
   "source": [
    "def find_best_neighbors(k,X_train,Y_train): \n",
    "   \n",
    "    train_sizes,train_scores,valid_scores=learning_curve(KNeighborsRegressor(n_neighbors=k),X_train,Y_train,train_sizes=[0.3,0.6,1], cv=5,scoring=\"neg_mean_squared_error\")\n",
    "    \n",
    "    train_errors=-train_scores.mean(axis=1)\n",
    "    valid_errors=-valid_scores.mean(axis=1)\n",
    "    plt.title('K=%s'%k)\n",
    "    \n",
    "    plt.plot(train_sizes, train_errors, \"r-+\", linewidth=2,label=\"train\")\n",
    "    plt.plot(train_sizes, valid_errors, \"b-\", linewidth=3,label=\"valid\")\n",
    "    plt.legend()\n",
    "    plt.xlabel('Training set size')\n",
    "    plt.show()\n"
   ]
  },
  {
   "cell_type": "code",
   "execution_count": 33,
   "metadata": {},
   "outputs": [
    {
     "data": {
      "image/png": "[encoded data removed]",
      "text/plain": [
       "<Figure size 432x288 with 1 Axes>"
      ]
     },
     "metadata": {
      "needs_background": "light"
     },
     "output_type": "display_data"
    },
    {
     "data": {
      "image/png": "[encoded data removed]",
      "text/plain": [
       "<Figure size 432x288 with 1 Axes>"
      ]
     },
     "metadata": {
      "needs_background": "light"
     },
     "output_type": "display_data"
    },
    {
     "data": {
      "image/png": "[encoded data removed]",
      "text/plain": [
       "<Figure size 432x288 with 1 Axes>"
      ]
     },
     "metadata": {
      "needs_background": "light"
     },
     "output_type": "display_data"
    },
    {
     "data": {
      "image/png": "[encoded data removed]",
      "text/plain": [
       "<Figure size 432x288 with 1 Axes>"
      ]
     },
     "metadata": {
      "needs_background": "light"
     },
     "output_type": "display_data"
    },
    {
     "data": {
      "image/png": "[encoded data removed]",
      "text/plain": [
       "<Figure size 432x288 with 1 Axes>"
      ]
     },
     "metadata": {
      "needs_background": "light"
     },
     "output_type": "display_data"
    },
    {
     "data": {
      "image/png": "[encoded data removed]",
      "text/plain": [
       "<Figure size 432x288 with 1 Axes>"
      ]
     },
     "metadata": {
      "needs_background": "light"
     },
     "output_type": "display_data"
    },
    {
     "data": {
      "image/png": "[encoded data removed]",
      "text/plain": [
       "<Figure size 432x288 with 1 Axes>"
      ]
     },
     "metadata": {
      "needs_background": "light"
     },
     "output_type": "display_data"
    },
    {
     "data": {
      "image/png": "[encoded data removed]",
      "text/plain": [
       "<Figure size 432x288 with 1 Axes>"
      ]
     },
     "metadata": {
      "needs_background": "light"
     },
     "output_type": "display_data"
    },
    {
     "data": {
      "image/png": "[encoded data removed]",
      "text/plain": [
       "<Figure size 432x288 with 1 Axes>"
      ]
     },
     "metadata": {
      "needs_background": "light"
     },
     "output_type": "display_data"
    }
   ],
   "source": [
    "for k in [1,3,5,7,9,11,13,15,17]:\n",
    "    find_best_neighbors(k,X_train,Y_train)"
   ]
  },
  {
   "cell_type": "code",
   "execution_count": 39,
   "metadata": {},
   "outputs": [],
   "source": [
    "def MSE(k,X_train,Y_train):\n",
    "    neigh = KNeighborsRegressor(n_neighbors=k)\n",
    "    neigh.fit(X_train,Y_train)\n",
    "    Y_predict = neigh.predict(X_train)\n",
    "    print(k, mean_squared_error(Y_train,Y_predict))"
   ]
  },
  {
   "cell_type": "code",
   "execution_count": 23,
   "metadata": {},
   "outputs": [
    {
     "name": "stdout",
     "output_type": "stream",
     "text": [
      "1 0.0\n",
      "3 0.027066103472222224\n",
      "5 0.03237942325\n",
      "7 0.036314229081632655\n",
      "9 0.0379381087191358\n",
      "11 0.04159238486570247\n",
      "13 0.04227646013313609\n",
      "15 0.04562966138888888\n",
      "17 0.05038440320069204\n"
     ]
    }
   ],
   "source": [
    "for k in [1,3,5,7,9,11,13,15,17]:\n",
    "    MSE(k,X_train,Y_train)"
   ]
  },
  {
   "attachments": {},
   "cell_type": "markdown",
   "metadata": {},
   "source": [
    "train data"
   ]
  },
  {
   "attachments": {},
   "cell_type": "markdown",
   "metadata": {},
   "source": [
    "K=5"
   ]
  },
  {
   "cell_type": "code",
   "execution_count": 24,
   "metadata": {},
   "outputs": [],
   "source": [
    "neigh=KNeighborsRegressor(n_neighbors=5)\n",
    "Y_predict=neigh.fit(X_train,Y_train).predict(X_train)\n",
    "\n",
    "\n"
   ]
  },
  {
   "cell_type": "code",
   "execution_count": 25,
   "metadata": {},
   "outputs": [
    {
     "data": {
      "image/png": "[encoded data removed]",
      "text/plain": [
       "<Figure size 432x288 with 1 Axes>"
      ]
     },
     "metadata": {
      "needs_background": "light"
     },
     "output_type": "display_data"
    }
   ],
   "source": [
    "plt.scatter(X_train,Y_train,c='red',marker='s',label='actual')\n",
    "plt.scatter(X_train,Y_predict,c='blue',label='predict')\n",
    "plt.legend()\n",
    "plt.show()"
   ]
  },
  {
   "attachments": {},
   "cell_type": "markdown",
   "metadata": {},
   "source": [
    "test data"
   ]
  },
  {
   "cell_type": "code",
   "execution_count": 26,
   "metadata": {},
   "outputs": [],
   "source": [
    "_Y_predict=neigh.predict(X_test)"
   ]
  },
  {
   "cell_type": "code",
   "execution_count": 27,
   "metadata": {},
   "outputs": [
    {
     "data": {
      "image/png": "[encoded data removed]",
      "text/plain": [
       "<Figure size 432x288 with 1 Axes>"
      ]
     },
     "metadata": {
      "needs_background": "light"
     },
     "output_type": "display_data"
    }
   ],
   "source": [
    "plt.scatter(X_test,y_test,c='red',marker='s',label='actual')\n",
    "plt.scatter(X_test,_Y_predict,c='blue',label='predict')\n",
    "plt.legend()\n",
    "plt.show()"
   ]
  },
  {
   "cell_type": "code",
   "execution_count": 28,
   "metadata": {},
   "outputs": [
    {
     "data": {
      "text/plain": [
       "0.045522595"
      ]
     },
     "execution_count": 28,
     "metadata": {},
     "output_type": "execute_result"
    }
   ],
   "source": [
    "mean_squared_error(y_test,_Y_predict)"
   ]
  }
 ],
 "metadata": {
  "kernelspec": {
   "display_name": "base",
   "language": "python",
   "name": "python3"
  },
  "language_info": {
   "codemirror_mode": {
    "name": "ipython",
    "version": 3
   },
   "file_extension": ".py",
   "mimetype": "text/x-python",
   "name": "python",
   "nbconvert_exporter": "python",
   "pygments_lexer": "ipython3",
   "version": "3.9.12"
  },
  "orig_nbformat": 4,
  "vscode": {
   "interpreter": {
    "hash": "381afda6634acabfe02de722b0985adea3cc2e228af5cdbefa626e4cfe1e2f2d"
   }
  }
 },
 "nbformat": 4,
 "nbformat_minor": 2
}
