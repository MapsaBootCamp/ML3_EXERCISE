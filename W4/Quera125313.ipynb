{
 "cells": [
  {
   "cell_type": "code",
   "execution_count": 1,
   "id": "99a1e8e2-36f6-49fe-95cf-bbf6879e2ca4",
   "metadata": {},
   "outputs": [],
   "source": [
    "import numpy as np\n",
    "import pandas as pd"
   ]
  },
  {
   "cell_type": "code",
   "execution_count": 2,
   "id": "d0ff1e9f-e07b-4e48-b381-0cddb021e663",
   "metadata": {},
   "outputs": [
    {
     "data": {
      "text/html": [
       "<div>\n",
       "<style scoped>\n",
       "    .dataframe tbody tr th:only-of-type {\n",
       "        vertical-align: middle;\n",
       "    }\n",
       "\n",
       "    .dataframe tbody tr th {\n",
       "        vertical-align: top;\n",
       "    }\n",
       "\n",
       "    .dataframe thead th {\n",
       "        text-align: right;\n",
       "    }\n",
       "</style>\n",
       "<table border=\"1\" class=\"dataframe\">\n",
       "  <thead>\n",
       "    <tr style=\"text-align: right;\">\n",
       "      <th></th>\n",
       "      <th>Customer Id</th>\n",
       "      <th>Date</th>\n",
       "      <th>Product</th>\n",
       "    </tr>\n",
       "  </thead>\n",
       "  <tbody>\n",
       "    <tr>\n",
       "      <th>0</th>\n",
       "      <td>JKML5ZWXP0XQ</td>\n",
       "      <td>2020-07-20</td>\n",
       "      <td>tropical fruit</td>\n",
       "    </tr>\n",
       "    <tr>\n",
       "      <th>1</th>\n",
       "      <td>YOGWQIUPDAJ7</td>\n",
       "      <td>2020-04-30</td>\n",
       "      <td>whole milk</td>\n",
       "    </tr>\n",
       "    <tr>\n",
       "      <th>2</th>\n",
       "      <td>Q3NL22281AF6</td>\n",
       "      <td>2020-09-18</td>\n",
       "      <td>pip fruit</td>\n",
       "    </tr>\n",
       "    <tr>\n",
       "      <th>3</th>\n",
       "      <td>C59GRTLMZQAU</td>\n",
       "      <td>2020-12-11</td>\n",
       "      <td>other vegetables</td>\n",
       "    </tr>\n",
       "    <tr>\n",
       "      <th>4</th>\n",
       "      <td>WUSF8LTEQZ5L</td>\n",
       "      <td>2020-01-02</td>\n",
       "      <td>whole milk</td>\n",
       "    </tr>\n",
       "    <tr>\n",
       "      <th>...</th>\n",
       "      <td>...</td>\n",
       "      <td>...</td>\n",
       "      <td>...</td>\n",
       "    </tr>\n",
       "    <tr>\n",
       "      <th>32705</th>\n",
       "      <td>PM1BQU9H9S2Q</td>\n",
       "      <td>2019-06-05</td>\n",
       "      <td>oil</td>\n",
       "    </tr>\n",
       "    <tr>\n",
       "      <th>32706</th>\n",
       "      <td>6AWIAP3ZV551</td>\n",
       "      <td>2019-08-10</td>\n",
       "      <td>sliced cheese</td>\n",
       "    </tr>\n",
       "    <tr>\n",
       "      <th>32707</th>\n",
       "      <td>LRWVFLSC8X5B</td>\n",
       "      <td>2019-02-23</td>\n",
       "      <td>candy</td>\n",
       "    </tr>\n",
       "    <tr>\n",
       "      <th>32708</th>\n",
       "      <td>8KYRMELYKNIH</td>\n",
       "      <td>2019-04-16</td>\n",
       "      <td>cake bar</td>\n",
       "    </tr>\n",
       "    <tr>\n",
       "      <th>32709</th>\n",
       "      <td>41NGW85T47Q1</td>\n",
       "      <td>2019-03-12</td>\n",
       "      <td>fruit/vegetable juice</td>\n",
       "    </tr>\n",
       "  </tbody>\n",
       "</table>\n",
       "<p>32710 rows × 3 columns</p>\n",
       "</div>"
      ],
      "text/plain": [
       "        Customer Id        Date                Product\n",
       "0      JKML5ZWXP0XQ  2020-07-20         tropical fruit\n",
       "1      YOGWQIUPDAJ7  2020-04-30             whole milk\n",
       "2      Q3NL22281AF6  2020-09-18              pip fruit\n",
       "3      C59GRTLMZQAU  2020-12-11       other vegetables\n",
       "4      WUSF8LTEQZ5L  2020-01-02             whole milk\n",
       "...             ...         ...                    ...\n",
       "32705  PM1BQU9H9S2Q  2019-06-05                    oil\n",
       "32706  6AWIAP3ZV551  2019-08-10          sliced cheese\n",
       "32707  LRWVFLSC8X5B  2019-02-23                  candy\n",
       "32708  8KYRMELYKNIH  2019-04-16               cake bar\n",
       "32709  41NGW85T47Q1  2019-03-12  fruit/vegetable juice\n",
       "\n",
       "[32710 rows x 3 columns]"
      ]
     },
     "execution_count": 2,
     "metadata": {},
     "output_type": "execute_result"
    }
   ],
   "source": [
    "data=pd.read_csv('supermarket.csv')\n",
    "data"
   ]
  },
  {
   "cell_type": "code",
   "execution_count": null,
   "id": "b4e9cb7d-b5f6-4ccf-94a6-dcde333f0dde",
   "metadata": {},
   "outputs": [],
   "source": [
    "تعداد محصولات یکتا در کل دادگان، چندتاست؟"
   ]
  },
  {
   "cell_type": "code",
   "execution_count": 14,
   "id": "81f7c770-e84e-4eb9-8bed-11cd99832775",
   "metadata": {},
   "outputs": [
    {
     "data": {
      "text/plain": [
       "137"
      ]
     },
     "execution_count": 14,
     "metadata": {},
     "output_type": "execute_result"
    }
   ],
   "source": [
    "data.Product.unique().size"
   ]
  },
  {
   "cell_type": "code",
   "execution_count": null,
   "id": "a6c46fe6-a472-4c05-acf2-fa0afa893714",
   "metadata": {},
   "outputs": [],
   "source": [
    "میزان فروش به ازای هر روز به صورت میانگین چند است (تا دو رقم بعد از اعشار)؟"
   ]
  },
  {
   "cell_type": "code",
   "execution_count": 42,
   "id": "f2e02da0-b431-42ad-90c1-4f61abbd3d5a",
   "metadata": {},
   "outputs": [
    {
     "data": {
      "text/plain": [
       "Date\n",
       "2019-01-01    46\n",
       "2019-01-02    56\n",
       "2019-01-03    46\n",
       "2019-01-04    57\n",
       "2019-01-05    36\n",
       "              ..\n",
       "2020-12-25    35\n",
       "2020-12-26    55\n",
       "2020-12-27    53\n",
       "2020-12-28    49\n",
       "2020-12-29    41\n",
       "Name: Product, Length: 728, dtype: int64"
      ]
     },
     "execution_count": 42,
     "metadata": {},
     "output_type": "execute_result"
    }
   ],
   "source": [
    "# data.groupby('Date')['Product'].count()\n"
   ]
  },
  {
   "cell_type": "code",
   "execution_count": 47,
   "id": "e9cdbcb6-66bf-4217-8d33-eecd0e09c5d6",
   "metadata": {},
   "outputs": [
    {
     "data": {
      "text/plain": [
       "44.93"
      ]
     },
     "execution_count": 47,
     "metadata": {},
     "output_type": "execute_result"
    }
   ],
   "source": [
    "round(data.Product.size/data.Date.unique().size, 2)"
   ]
  },
  {
   "cell_type": "code",
   "execution_count": null,
   "id": "d90f7c8a-4857-4ae2-9979-262e6b6b3cb6",
   "metadata": {},
   "outputs": [],
   "source": [
    "چهار محصولی که کمتر از بقیه در سبد مشتریان قرار گرفته‌اند، کدامند (ترتیب مهم نیست)"
   ]
  },
  {
   "cell_type": "code",
   "execution_count": 55,
   "id": "4d08aa1b-30bf-4b95-8b0c-0ac150f8fe5f",
   "metadata": {},
   "outputs": [
    {
     "data": {
      "text/plain": [
       "Product\n",
       "kitchen utensil          1\n",
       "preservation products    1\n",
       "baby cosmetics           3\n",
       "bags                     4\n",
       "Name: Product, dtype: int64"
      ]
     },
     "execution_count": 55,
     "metadata": {},
     "output_type": "execute_result"
    }
   ],
   "source": [
    "data.groupby('Product')['Product'].count().nsmallest(4)"
   ]
  },
  {
   "cell_type": "code",
   "execution_count": null,
   "id": "55ad3a1c-ee18-4c34-a022-b4c6e98ff108",
   "metadata": {},
   "outputs": [],
   "source": [
    "پنج مشتری‌ای که در سال ۲۰۲۰، بیشترین تعداد \"سبد\" را داشته‌اند، کدامند (ترتیب مهم نیست)؟"
   ]
  },
  {
   "cell_type": "code",
   "execution_count": 65,
   "id": "063c011b-68ab-44d7-913c-a87b253dc4fe",
   "metadata": {},
   "outputs": [
    {
     "data": {
      "text/plain": [
       "Customer Id    object\n",
       "Date           object\n",
       "Product        object\n",
       "dtype: object"
      ]
     },
     "execution_count": 65,
     "metadata": {},
     "output_type": "execute_result"
    }
   ],
   "source": [
    "data.dtypes"
   ]
  },
  {
   "cell_type": "code",
   "execution_count": 73,
   "id": "9ce770c0-9636-4806-9aa2-4ea154e28fe2",
   "metadata": {},
   "outputs": [
    {
     "data": {
      "text/plain": [
       "Customer Id\n",
       "0ZRF32AJ06BC    26\n",
       "KACGV5OJXMJW    23\n",
       "0P1TPIH74E79    21\n",
       "3HRBE45N5NB6    20\n",
       "ED8WY0DE27XG    20\n",
       "dtype: int64"
      ]
     },
     "execution_count": 73,
     "metadata": {},
     "output_type": "execute_result"
    }
   ],
   "source": [
    "\n",
    "# b = data['Date'].str.where('2020' in data['Date'])\n",
    "\n",
    "data[data['Date'].str.contains('2020')].value_counts('Customer Id').nlargest(5)"
   ]
  },
  {
   "cell_type": "code",
   "execution_count": null,
   "id": "1d73e771-205b-4322-9b1a-ad0e712b46fa",
   "metadata": {},
   "outputs": [],
   "source": [
    "کدام روز هفته، بیشترین تعداد محصول فروش رفته‌است؟"
   ]
  },
  {
   "cell_type": "code",
   "execution_count": 3,
   "id": "38a565ab-808f-4ab9-81c7-98af5dee2cfd",
   "metadata": {},
   "outputs": [
    {
     "data": {
      "text/html": [
       "<div>\n",
       "<style scoped>\n",
       "    .dataframe tbody tr th:only-of-type {\n",
       "        vertical-align: middle;\n",
       "    }\n",
       "\n",
       "    .dataframe tbody tr th {\n",
       "        vertical-align: top;\n",
       "    }\n",
       "\n",
       "    .dataframe thead th {\n",
       "        text-align: right;\n",
       "    }\n",
       "</style>\n",
       "<table border=\"1\" class=\"dataframe\">\n",
       "  <thead>\n",
       "    <tr style=\"text-align: right;\">\n",
       "      <th></th>\n",
       "      <th>Customer Id</th>\n",
       "      <th>Date</th>\n",
       "      <th>Product</th>\n",
       "    </tr>\n",
       "  </thead>\n",
       "  <tbody>\n",
       "    <tr>\n",
       "      <th>0</th>\n",
       "      <td>JKML5ZWXP0XQ</td>\n",
       "      <td>Monday</td>\n",
       "      <td>tropical fruit</td>\n",
       "    </tr>\n",
       "    <tr>\n",
       "      <th>1</th>\n",
       "      <td>YOGWQIUPDAJ7</td>\n",
       "      <td>Thursday</td>\n",
       "      <td>whole milk</td>\n",
       "    </tr>\n",
       "    <tr>\n",
       "      <th>2</th>\n",
       "      <td>Q3NL22281AF6</td>\n",
       "      <td>Friday</td>\n",
       "      <td>pip fruit</td>\n",
       "    </tr>\n",
       "    <tr>\n",
       "      <th>3</th>\n",
       "      <td>C59GRTLMZQAU</td>\n",
       "      <td>Friday</td>\n",
       "      <td>other vegetables</td>\n",
       "    </tr>\n",
       "    <tr>\n",
       "      <th>4</th>\n",
       "      <td>WUSF8LTEQZ5L</td>\n",
       "      <td>Thursday</td>\n",
       "      <td>whole milk</td>\n",
       "    </tr>\n",
       "    <tr>\n",
       "      <th>...</th>\n",
       "      <td>...</td>\n",
       "      <td>...</td>\n",
       "      <td>...</td>\n",
       "    </tr>\n",
       "    <tr>\n",
       "      <th>32705</th>\n",
       "      <td>PM1BQU9H9S2Q</td>\n",
       "      <td>Wednesday</td>\n",
       "      <td>oil</td>\n",
       "    </tr>\n",
       "    <tr>\n",
       "      <th>32706</th>\n",
       "      <td>6AWIAP3ZV551</td>\n",
       "      <td>Saturday</td>\n",
       "      <td>sliced cheese</td>\n",
       "    </tr>\n",
       "    <tr>\n",
       "      <th>32707</th>\n",
       "      <td>LRWVFLSC8X5B</td>\n",
       "      <td>Saturday</td>\n",
       "      <td>candy</td>\n",
       "    </tr>\n",
       "    <tr>\n",
       "      <th>32708</th>\n",
       "      <td>8KYRMELYKNIH</td>\n",
       "      <td>Tuesday</td>\n",
       "      <td>cake bar</td>\n",
       "    </tr>\n",
       "    <tr>\n",
       "      <th>32709</th>\n",
       "      <td>41NGW85T47Q1</td>\n",
       "      <td>Tuesday</td>\n",
       "      <td>fruit/vegetable juice</td>\n",
       "    </tr>\n",
       "  </tbody>\n",
       "</table>\n",
       "<p>32710 rows × 3 columns</p>\n",
       "</div>"
      ],
      "text/plain": [
       "        Customer Id       Date                Product\n",
       "0      JKML5ZWXP0XQ     Monday         tropical fruit\n",
       "1      YOGWQIUPDAJ7   Thursday             whole milk\n",
       "2      Q3NL22281AF6     Friday              pip fruit\n",
       "3      C59GRTLMZQAU     Friday       other vegetables\n",
       "4      WUSF8LTEQZ5L   Thursday             whole milk\n",
       "...             ...        ...                    ...\n",
       "32705  PM1BQU9H9S2Q  Wednesday                    oil\n",
       "32706  6AWIAP3ZV551   Saturday          sliced cheese\n",
       "32707  LRWVFLSC8X5B   Saturday                  candy\n",
       "32708  8KYRMELYKNIH    Tuesday               cake bar\n",
       "32709  41NGW85T47Q1    Tuesday  fruit/vegetable juice\n",
       "\n",
       "[32710 rows x 3 columns]"
      ]
     },
     "execution_count": 3,
     "metadata": {},
     "output_type": "execute_result"
    }
   ],
   "source": [
    "b=pd.to_datetime(data['Date'])\n",
    "data['Date']=b.dt.day_name()\n",
    "data"
   ]
  },
  {
   "cell_type": "code",
   "execution_count": 21,
   "id": "70b892db-346a-43c5-aab2-8ecbcfbfbbfe",
   "metadata": {},
   "outputs": [
    {
     "data": {
      "text/plain": [
       "6    Wednesday\n",
       "Name: Date, dtype: object"
      ]
     },
     "execution_count": 21,
     "metadata": {},
     "output_type": "execute_result"
    }
   ],
   "source": [
    "data.groupby('Date',as_index=False)['Product'].count().nlargest(1,'Product')['Date']"
   ]
  },
  {
   "cell_type": "code",
   "execution_count": null,
   "id": "b9e42a23-7ba7-4f2d-ab3f-5bde099082e0",
   "metadata": {},
   "outputs": [],
   "source": [
    "به استفاده از معیارهای support و confidence، به دو سوال زیر پاسخ دهید (مثال خروجی هر سوال، در زیر آن آورده شده‌است):"
   ]
  },
  {
   "cell_type": "code",
   "execution_count": null,
   "id": "0065a48b-cb55-4e23-9957-02e7282e7ead",
   "metadata": {},
   "outputs": [],
   "source": [
    "پنج محصولی که بیشترین support را دارند به ترتیب نزولی کدامند؟"
   ]
  },
  {
   "cell_type": "code",
   "execution_count": 24,
   "id": "19a01436-7dcb-4c81-9336-5af229a13ae8",
   "metadata": {},
   "outputs": [
    {
     "data": {
      "text/plain": [
       "3893"
      ]
     },
     "execution_count": 24,
     "metadata": {},
     "output_type": "execute_result"
    }
   ],
   "source": [
    "data['Customer Id'].unique().size"
   ]
  },
  {
   "cell_type": "code",
   "execution_count": 27,
   "id": "d3853e30-e838-4569-b41b-81b15ac7c3e2",
   "metadata": {},
   "outputs": [],
   "source": [
    "data=pd.read_csv('supermarket.csv')"
   ]
  },
  {
   "cell_type": "code",
   "execution_count": 30,
   "id": "0527f671-fef2-431d-ac56-1078fe32f6c7",
   "metadata": {},
   "outputs": [
    {
     "data": {
      "text/plain": [
       "Customer Id   Date      \n",
       "0011457U6R3Y  2020-10-13    3\n",
       "008J5Z3CJPYU  2019-01-27    2\n",
       "              2019-06-12    2\n",
       "              2019-10-17    1\n",
       "              2019-10-28    1\n",
       "                           ..\n",
       "ZZRT1GFUKTZ7  2019-03-30    2\n",
       "              2019-11-12    2\n",
       "              2019-12-28    2\n",
       "              2020-06-13    1\n",
       "              2020-07-30    2\n",
       "Name: Product, Length: 14753, dtype: int64"
      ]
     },
     "execution_count": 30,
     "metadata": {},
     "output_type": "execute_result"
    }
   ],
   "source": [
    "data.groupby(['Customer Id', 'Date'])['Product'].count()"
   ]
  },
  {
   "cell_type": "code",
   "execution_count": 41,
   "id": "e94a9df9-69b5-42a4-9677-3feb234c04a9",
   "metadata": {
    "tags": []
   },
   "outputs": [],
   "source": [
    "b=data.groupby(['Customer Id', 'Date'])['Product'].sum()\n",
    "all_baskets=len(b)"
   ]
  },
  {
   "cell_type": "code",
   "execution_count": 62,
   "id": "b3523b83-72e8-46ac-8af8-188ff2e44094",
   "metadata": {},
   "outputs": [
    {
     "data": {
      "text/plain": [
       "Product\n",
       "Instant food products      60\n",
       "UHT-milk                  320\n",
       "abrasive cleaner           22\n",
       "artif. sweetener           29\n",
       "baby cosmetics              3\n",
       "                         ... \n",
       "whipped/sour cream        654\n",
       "white bread               359\n",
       "whole milk               2363\n",
       "yogurt                   1285\n",
       "zwieback                   60\n",
       "Name: Product, Length: 137, dtype: int64"
      ]
     },
     "execution_count": 62,
     "metadata": {},
     "output_type": "execute_result"
    }
   ],
   "source": [
    "c=data.groupby('Product')['Product'].count()\n",
    "c"
   ]
  },
  {
   "cell_type": "code",
   "execution_count": 51,
   "id": "52a3efbb-5f75-4c23-ae7a-902c106f6974",
   "metadata": {},
   "outputs": [
    {
     "data": {
      "text/plain": [
       "Product\n",
       "Instant food products    0.004067\n",
       "UHT-milk                 0.021691\n",
       "abrasive cleaner         0.001491\n",
       "artif. sweetener         0.001966\n",
       "baby cosmetics           0.000203\n",
       "                           ...   \n",
       "whipped/sour cream       0.044330\n",
       "white bread              0.024334\n",
       "whole milk               0.160171\n",
       "yogurt                   0.087101\n",
       "zwieback                 0.004067\n",
       "Name: Product, Length: 137, dtype: float64"
      ]
     },
     "execution_count": 51,
     "metadata": {},
     "output_type": "execute_result"
    }
   ],
   "source": [
    "support=c/all_baskets\n",
    "support"
   ]
  },
  {
   "cell_type": "code",
   "execution_count": 52,
   "id": "ec1ab396-f80a-4524-9d4d-6164652066be",
   "metadata": {},
   "outputs": [
    {
     "data": {
      "text/plain": [
       "Product\n",
       "whole milk          0.160171\n",
       "other vegetables    0.123839\n",
       "rolls/buns          0.111571\n",
       "soda                0.098488\n",
       "yogurt              0.087101\n",
       "Name: Product, dtype: float64"
      ]
     },
     "execution_count": 52,
     "metadata": {},
     "output_type": "execute_result"
    }
   ],
   "source": [
    "support.nlargest(5)"
   ]
  },
  {
   "cell_type": "code",
   "execution_count": null,
   "id": "2d28bf05-0f7f-42fe-ac66-c1dc3a70c290",
   "metadata": {},
   "outputs": [],
   "source": [
    "از بین مواردی که support آن‌ها، حداقل ۰.۰۱ می‌باشد. دو الگویی که بیشترین confidence را دارند، به ترتیب نزولی کدامند؟"
   ]
  },
  {
   "cell_type": "code",
   "execution_count": 61,
   "id": "0e994c31-3994-4453-aee5-a8851af286a1",
   "metadata": {},
   "outputs": [
    {
     "data": {
      "text/plain": [
       "Product\n",
       "UHT-milk                    0.021691\n",
       "beef                        0.034434\n",
       "berries                     0.022097\n",
       "beverages                   0.016810\n",
       "bottled beer                0.045957\n",
       "bottled water               0.061547\n",
       "brown bread                 0.038162\n",
       "butter                      0.035722\n",
       "butter milk                 0.017827\n",
       "candy                       0.014573\n",
       "chewing gum                 0.012201\n",
       "chicken                     0.028265\n",
       "chocolate                   0.023927\n",
       "citrus fruit                0.053887\n",
       "coffee                      0.032061\n",
       "curd                        0.034163\n",
       "dessert                     0.023927\n",
       "domestic eggs               0.037619\n",
       "frozen meals                0.017013\n",
       "frozen vegetables           0.028401\n",
       "fruit/vegetable juice       0.034501\n",
       "grapes                      0.014641\n",
       "hamburger meat              0.022165\n",
       "hard cheese                 0.014912\n",
       "herbs                       0.010710\n",
       "hygiene articles            0.013895\n",
       "ice cream                   0.015387\n",
       "long life bakery product    0.018166\n",
       "margarine                   0.032671\n",
       "meat                        0.017081\n",
       "napkins                     0.022436\n",
       "oil                         0.015116\n",
       "onions                      0.020538\n",
       "other vegetables            0.123839\n",
       "pastry                      0.052464\n",
       "pip fruit                   0.049753\n",
       "processed cheese            0.010303\n",
       "rolls/buns                  0.111571\n",
       "root vegetables             0.070562\n",
       "salty snack                 0.019047\n",
       "sausage                     0.061208\n",
       "sliced cheese               0.014234\n",
       "soda                        0.098488\n",
       "soft cheese                 0.010167\n",
       "specialty bar               0.014167\n",
       "specialty chocolate         0.016200\n",
       "sugar                       0.017962\n",
       "tropical fruit              0.068732\n",
       "waffles                     0.018776\n",
       "whipped/sour cream          0.044330\n",
       "white bread                 0.024334\n",
       "whole milk                  0.160171\n",
       "yogurt                      0.087101\n",
       "Name: Product, dtype: float64"
      ]
     },
     "execution_count": 61,
     "metadata": {},
     "output_type": "execute_result"
    }
   ],
   "source": [
    "support.where(support>=0.01).dropna()"
   ]
  },
  {
   "cell_type": "code",
   "execution_count": null,
   "id": "21d541e1-9697-4b4d-bd6c-fb62463cc1ae",
   "metadata": {},
   "outputs": [],
   "source": []
  },
  {
   "cell_type": "code",
   "execution_count": null,
   "id": "03d2d997-5a01-42d7-962d-0e77f405392e",
   "metadata": {},
   "outputs": [],
   "source": []
  },
  {
   "cell_type": "code",
   "execution_count": null,
   "id": "3520ce03-a06c-4cd8-8966-e15f6e9aad46",
   "metadata": {},
   "outputs": [],
   "source": []
  }
 ],
 "metadata": {
  "kernelspec": {
   "display_name": "Python 3 (ipykernel)",
   "language": "python",
   "name": "python3"
  },
  "language_info": {
   "codemirror_mode": {
    "name": "ipython",
    "version": 3
   },
   "file_extension": ".py",
   "mimetype": "text/x-python",
   "name": "python",
   "nbconvert_exporter": "python",
   "pygments_lexer": "ipython3",
   "version": "3.10.2"
  }
 },
 "nbformat": 4,
 "nbformat_minor": 5
}
