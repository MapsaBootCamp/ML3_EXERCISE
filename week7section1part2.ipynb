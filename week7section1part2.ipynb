{
 "cells": [
  {
   "cell_type": "markdown",
   "id": "aaed4874",
   "metadata": {},
   "source": [
    "# Machine Learning Camp: HomeWork 7 Section 1"
   ]
  },
  {
   "cell_type": "code",
   "execution_count": 31,
   "id": "2bfc0f1e",
   "metadata": {},
   "outputs": [],
   "source": [
    "import sqlite3\n",
    "import pandas as pd\n",
    "import seaborn as sns"
   ]
  },
  {
   "cell_type": "code",
   "execution_count": 32,
   "id": "093933e6",
   "metadata": {},
   "outputs": [
    {
     "name": "stdout",
     "output_type": "stream",
     "text": [
      "[('titanic',)]\n"
     ]
    }
   ],
   "source": [
    "conn = sqlite3.connect(\"titanic.db\")\n",
    "curs = conn.cursor()\n",
    "curs.execute(\"SELECT name FROM sqlite_master WHERE type ='table';\")\n",
    "print(curs.fetchall())"
   ]
  },
  {
   "cell_type": "code",
   "execution_count": 33,
   "id": "63a34cd1",
   "metadata": {},
   "outputs": [
    {
     "name": "stdout",
     "output_type": "stream",
     "text": [
      "(('PassengerId', None, None, None, None, None, None), ('Survived', None, None, None, None, None, None), ('Pclass', None, None, None, None, None, None), ('Name', None, None, None, None, None, None), ('Sex', None, None, None, None, None, None), ('Age', None, None, None, None, None, None), ('SibSp', None, None, None, None, None, None), ('Parch', None, None, None, None, None, None), ('Ticket', None, None, None, None, None, None), ('Fare', None, None, None, None, None, None), ('Cabin', None, None, None, None, None, None), ('Embarked', None, None, None, None, None, None))\n"
     ]
    }
   ],
   "source": [
    "curs.execute(\"SELECT * FROM titanic\")\n",
    "print(curs.description)"
   ]
  },
  {
   "cell_type": "markdown",
   "id": "577b2d87",
   "metadata": {},
   "source": [
    "## 2. Working with databases: Please follow the instruction below before answering the questions:\n",
    "Import the sqlite3\n",
    "\n",
    "Connect to titanic.db\n"
   ]
  },
  {
   "cell_type": "markdown",
   "id": "04a3a37f",
   "metadata": {},
   "source": [
    "### a. What is the average age of passengers who survived? Group the data by Sex. Display only the column Sex, AverageAge"
   ]
  },
  {
   "cell_type": "code",
   "execution_count": 34,
   "id": "3288e6bd",
   "metadata": {},
   "outputs": [
    {
     "data": {
      "text/plain": [
       "[(28.343689655172415,)]"
      ]
     },
     "execution_count": 34,
     "metadata": {},
     "output_type": "execute_result"
    }
   ],
   "source": [
    "curs.execute(\"SELECT avg(Age) FROM titanic WHERE Survived = 1\")\n",
    "curs.fetchmany(1)"
   ]
  },
  {
   "cell_type": "code",
   "execution_count": 35,
   "id": "37a6a6cc",
   "metadata": {},
   "outputs": [
    {
     "data": {
      "text/plain": [
       "[('female', 28.84771573604061), ('male', 27.276021505376345)]"
      ]
     },
     "execution_count": 35,
     "metadata": {},
     "output_type": "execute_result"
    }
   ],
   "source": [
    "curs.execute(\"SELECT Sex, avg(Age) FROM titanic WHERE survived = 1 GROUP BY Sex\")\n",
    "curs.fetchall()"
   ]
  },
  {
   "cell_type": "markdown",
   "id": "67eb13ef",
   "metadata": {},
   "source": [
    "### b. What is the percentage of passengers who survived in each Passenger Class or Pclass? Group the data by Sex. Display Pclass, Sex, percentage value.\n",
    "\n"
   ]
  },
  {
   "cell_type": "code",
   "execution_count": 36,
   "id": "22989a6a",
   "metadata": {},
   "outputs": [
    {
     "data": {
      "text/plain": [
       "[('1', 39), ('2', 25), ('3', 34)]"
      ]
     },
     "execution_count": 36,
     "metadata": {},
     "output_type": "execute_result"
    }
   ],
   "source": [
    "curs.execute(\"\"\"SELECT Pclass, 100*count(Survived)/sum(count(*)) over() \n",
    "FROM titanic \n",
    "WHERE Survived = 1 \n",
    "GROUP BY Pclass\"\"\")\n",
    "curs.fetchall()"
   ]
  },
  {
   "cell_type": "code",
   "execution_count": 37,
   "id": "7c97b7ac",
   "metadata": {},
   "outputs": [
    {
     "data": {
      "text/plain": [
       "[('1', 'female', 26),\n",
       " ('1', 'male', 13),\n",
       " ('2', 'female', 20),\n",
       " ('2', 'male', 4),\n",
       " ('3', 'female', 21),\n",
       " ('3', 'male', 13)]"
      ]
     },
     "execution_count": 37,
     "metadata": {},
     "output_type": "execute_result"
    }
   ],
   "source": [
    "curs.execute(\"\"\"SELECT Pclass, Sex, 100*count(Survived)/sum(count(*)) over()\n",
    "FROM titanic \n",
    "WHERE Survived = 1 \n",
    "GROUP BY Pclass , Sex\"\"\")\n",
    "curs.fetchall()"
   ]
  },
  {
   "cell_type": "markdown",
   "id": "99dd4af6",
   "metadata": {},
   "source": [
    "### c. What is the average age of all the passenger (survived and not survived)? Group the data by Pclass, Sex, Survived. After that use seaborn to generate a line plot to show average age vs pclass, facet by sex and color it by survived."
   ]
  },
  {
   "cell_type": "code",
   "execution_count": 38,
   "id": "b6711f34",
   "metadata": {},
   "outputs": [
    {
     "data": {
      "text/plain": [
       "[(29.69911764705882,)]"
      ]
     },
     "execution_count": 38,
     "metadata": {},
     "output_type": "execute_result"
    }
   ],
   "source": [
    "curs.execute(\"SELECT avg(Age) FROM titanic\")\n",
    "curs.fetchall()"
   ]
  },
  {
   "cell_type": "code",
   "execution_count": 39,
   "id": "82559b2d",
   "metadata": {},
   "outputs": [
    {
     "data": {
      "text/plain": [
       "[('1', 'female', '0', 25.666666666666668),\n",
       " ('1', 'female', '1', 34.9390243902439),\n",
       " ('1', 'male', '0', 44.58196721311475),\n",
       " ('1', 'male', '1', 36.248000000000005),\n",
       " ('2', 'female', '0', 36.0),\n",
       " ('2', 'female', '1', 28.080882352941178),\n",
       " ('2', 'male', '0', 33.36904761904762),\n",
       " ('2', 'male', '1', 16.022),\n",
       " ('3', 'female', '0', 23.818181818181817),\n",
       " ('3', 'female', '1', 19.329787234042552),\n",
       " ('3', 'male', '0', 27.25581395348837),\n",
       " ('3', 'male', '1', 22.274210526315787)]"
      ]
     },
     "execution_count": 39,
     "metadata": {},
     "output_type": "execute_result"
    }
   ],
   "source": [
    "curs.execute(\"\"\"SELECT Pclass, Sex, Survived,avg(Age)\n",
    "FROM titanic \n",
    "GROUP BY Pclass, Sex, Survived\"\"\")\n",
    "curs.fetchall()"
   ]
  },
  {
   "cell_type": "code",
   "execution_count": 40,
   "id": "063decdc",
   "metadata": {},
   "outputs": [
    {
     "data": {
      "text/plain": [
       "<seaborn.axisgrid.FacetGrid at 0x7f8ed3e2c220>"
      ]
     },
     "execution_count": 40,
     "metadata": {},
     "output_type": "execute_result"
    },
    {
     "data": {
      "image/png": "[encoded data removed]",
      "text/plain": [
       "<Figure size 1098x500 with 2 Axes>"
      ]
     },
     "metadata": {},
     "output_type": "display_data"
    }
   ],
   "source": [
    "table = pd.read_sql(\"SELECT  PClass, Sex, survived,AVG(age) FROM titanic GROUP BY PClass, Sex, survived\", conn)\n",
    "sns.relplot(kind = 'line', data = table, x = 'Pclass', y = 'AVG(age)', hue = 'Sex', col = 'Survived')"
   ]
  },
  {
   "cell_type": "markdown",
   "id": "5df7ecf0",
   "metadata": {},
   "source": [
    "###  d.What is the name, age, sex and pclass of the 5 oldest and 5 youngest persons who died?"
   ]
  },
  {
   "cell_type": "code",
   "execution_count": 41,
   "id": "2e297f49",
   "metadata": {},
   "outputs": [
    {
     "data": {
      "text/plain": [
       "[('Svensson, Mr. Johan', '74', 'male', '3'),\n",
       " ('Goldschmidt, Mr. George B', '71', 'male', '1'),\n",
       " ('Artagaveytia, Mr. Ramon', '71', 'male', '1'),\n",
       " ('Connors, Mr. Patrick', '70.5', 'male', '3'),\n",
       " ('Mitchell, Mr. Henry Michael', '70', 'male', '2')]"
      ]
     },
     "execution_count": 41,
     "metadata": {},
     "output_type": "execute_result"
    }
   ],
   "source": [
    "curs.execute(\"\"\"SELECT Name, Age, Sex, Pclass \n",
    "FROM titanic \n",
    "WHERE age IS NOT NULL AND Survived = 0 \n",
    "ORDER BY CAST(age AS INSIGNED) DESC \n",
    "LIMIT 5\"\"\")\n",
    "curs.fetchall()"
   ]
  },
  {
   "cell_type": "code",
   "execution_count": 44,
   "id": "b17b25a5",
   "metadata": {},
   "outputs": [
    {
     "data": {
      "text/plain": [
       "[('Panula, Master. Eino Viljami', '1', 'male', '3'),\n",
       " ('Goodwin, Master. Sidney Leonard', '1', 'male', '3'),\n",
       " ('Palsson, Master. Gosta Leonard', '2', 'male', '3'),\n",
       " ('Rice, Master. Eugene', '2', 'male', '3'),\n",
       " ('Andersson, Miss. Ellis Anna Maria', '2', 'female', '3')]"
      ]
     },
     "execution_count": 44,
     "metadata": {},
     "output_type": "execute_result"
    }
   ],
   "source": [
    "curs.execute(\"\"\"SELECT Name,Age, Sex, Pclass \n",
    "FROM titanic \n",
    "WHERE age IS NOT NULL AND Survived = 0 \n",
    "ORDER BY CAST(age AS INSIGNED) ASC \n",
    "LIMIT 5\"\"\")\n",
    "curs.fetchall()"
   ]
  },
  {
   "cell_type": "markdown",
   "id": "6a132642",
   "metadata": {},
   "source": [
    "### e. On average which Passenger Class is more expensive?"
   ]
  },
  {
   "cell_type": "code",
   "execution_count": 43,
   "id": "77c18a96",
   "metadata": {},
   "outputs": [
    {
     "data": {
      "text/plain": [
       "[('1', 84.15468749999992)]"
      ]
     },
     "execution_count": 43,
     "metadata": {},
     "output_type": "execute_result"
    }
   ],
   "source": [
    "curs.execute(\"\"\"SELECT Pclass, AVG(Fare) \n",
    "             FROM titanic \n",
    "             GROUP BY Pclass \n",
    "             ORDER BY avg(fare) DESC \n",
    "             LIMIT 1 \"\"\")\n",
    "curs.fetchall()"
   ]
  }
 ],
 "metadata": {
  "kernelspec": {
   "display_name": "Python 3 (ipykernel)",
   "language": "python",
   "name": "python3"
  },
  "language_info": {
   "codemirror_mode": {
    "name": "ipython",
    "version": 3
   },
   "file_extension": ".py",
   "mimetype": "text/x-python",
   "name": "python",
   "nbconvert_exporter": "python",
   "pygments_lexer": "ipython3",
   "version": "3.10.6"
  }
 },
 "nbformat": 4,
 "nbformat_minor": 5
}
