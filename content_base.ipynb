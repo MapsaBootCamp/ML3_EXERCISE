{
 "cells": [
  {
   "cell_type": "code",
   "execution_count": 26,
   "metadata": {},
   "outputs": [],
   "source": [
    "from sentence_transformers import SentenceTransformer, util\n",
    "import pandas as pd\n",
    "from sklearn.metrics.pairwise import cosine_similarity\n",
    "import numpy as np\n",
    "from sklearn.decomposition import PCA"
   ]
  },
  {
   "cell_type": "code",
   "execution_count": 2,
   "metadata": {},
   "outputs": [],
   "source": [
    "df= pd.read_csv('song_lyric_data.csv')"
   ]
  },
  {
   "cell_type": "code",
   "execution_count": 92,
   "metadata": {},
   "outputs": [
    {
     "data": {
      "text/html": [
       "<div>\n",
       "<style scoped>\n",
       "    .dataframe tbody tr th:only-of-type {\n",
       "        vertical-align: middle;\n",
       "    }\n",
       "\n",
       "    .dataframe tbody tr th {\n",
       "        vertical-align: top;\n",
       "    }\n",
       "\n",
       "    .dataframe thead th {\n",
       "        text-align: right;\n",
       "    }\n",
       "</style>\n",
       "<table border=\"1\" class=\"dataframe\">\n",
       "  <thead>\n",
       "    <tr style=\"text-align: right;\">\n",
       "      <th></th>\n",
       "      <th>artist</th>\n",
       "      <th>song</th>\n",
       "      <th>link</th>\n",
       "      <th>text</th>\n",
       "    </tr>\n",
       "  </thead>\n",
       "  <tbody>\n",
       "    <tr>\n",
       "      <th>0</th>\n",
       "      <td>ABBA</td>\n",
       "      <td>Ahe's My Kind Of Girl</td>\n",
       "      <td>/a/abba/ahes+my+kind+of+girl_20598417.html</td>\n",
       "      <td>Look at her face, it's a wonderful face  \\nAnd...</td>\n",
       "    </tr>\n",
       "    <tr>\n",
       "      <th>1</th>\n",
       "      <td>ABBA</td>\n",
       "      <td>Andante, Andante</td>\n",
       "      <td>/a/abba/andante+andante_20002708.html</td>\n",
       "      <td>Take it easy with me, please  \\nTouch me gentl...</td>\n",
       "    </tr>\n",
       "    <tr>\n",
       "      <th>2</th>\n",
       "      <td>ABBA</td>\n",
       "      <td>As Good As New</td>\n",
       "      <td>/a/abba/as+good+as+new_20003033.html</td>\n",
       "      <td>I'll never know why I had to go  \\nWhy I had t...</td>\n",
       "    </tr>\n",
       "    <tr>\n",
       "      <th>3</th>\n",
       "      <td>ABBA</td>\n",
       "      <td>Bang</td>\n",
       "      <td>/a/abba/bang_20598415.html</td>\n",
       "      <td>Making somebody happy is a question of give an...</td>\n",
       "    </tr>\n",
       "    <tr>\n",
       "      <th>4</th>\n",
       "      <td>ABBA</td>\n",
       "      <td>Bang-A-Boomerang</td>\n",
       "      <td>/a/abba/bang+a+boomerang_20002668.html</td>\n",
       "      <td>Making somebody happy is a question of give an...</td>\n",
       "    </tr>\n",
       "    <tr>\n",
       "      <th>...</th>\n",
       "      <td>...</td>\n",
       "      <td>...</td>\n",
       "      <td>...</td>\n",
       "      <td>...</td>\n",
       "    </tr>\n",
       "    <tr>\n",
       "      <th>57645</th>\n",
       "      <td>Ziggy Marley</td>\n",
       "      <td>Good Old Days</td>\n",
       "      <td>/z/ziggy+marley/good+old+days_10198588.html</td>\n",
       "      <td>Irie days come on play  \\nLet the angels fly l...</td>\n",
       "    </tr>\n",
       "    <tr>\n",
       "      <th>57646</th>\n",
       "      <td>Ziggy Marley</td>\n",
       "      <td>Hand To Mouth</td>\n",
       "      <td>/z/ziggy+marley/hand+to+mouth_20531167.html</td>\n",
       "      <td>Power to the workers  \\nMore power  \\nPower to...</td>\n",
       "    </tr>\n",
       "    <tr>\n",
       "      <th>57647</th>\n",
       "      <td>Zwan</td>\n",
       "      <td>Come With Me</td>\n",
       "      <td>/z/zwan/come+with+me_20148981.html</td>\n",
       "      <td>all you need  \\nis something i'll believe  \\nf...</td>\n",
       "    </tr>\n",
       "    <tr>\n",
       "      <th>57648</th>\n",
       "      <td>Zwan</td>\n",
       "      <td>Desire</td>\n",
       "      <td>/z/zwan/desire_20148986.html</td>\n",
       "      <td>northern star  \\nam i frightened  \\nwhere can ...</td>\n",
       "    </tr>\n",
       "    <tr>\n",
       "      <th>57649</th>\n",
       "      <td>Zwan</td>\n",
       "      <td>Heartsong</td>\n",
       "      <td>/z/zwan/heartsong_20148991.html</td>\n",
       "      <td>come in  \\nmake yourself at home  \\ni'm a bit ...</td>\n",
       "    </tr>\n",
       "  </tbody>\n",
       "</table>\n",
       "<p>57650 rows × 4 columns</p>\n",
       "</div>"
      ],
      "text/plain": [
       "             artist                   song  \\\n",
       "0              ABBA  Ahe's My Kind Of Girl   \n",
       "1              ABBA       Andante, Andante   \n",
       "2              ABBA         As Good As New   \n",
       "3              ABBA                   Bang   \n",
       "4              ABBA       Bang-A-Boomerang   \n",
       "...             ...                    ...   \n",
       "57645  Ziggy Marley          Good Old Days   \n",
       "57646  Ziggy Marley          Hand To Mouth   \n",
       "57647          Zwan           Come With Me   \n",
       "57648          Zwan                 Desire   \n",
       "57649          Zwan              Heartsong   \n",
       "\n",
       "                                              link  \\\n",
       "0       /a/abba/ahes+my+kind+of+girl_20598417.html   \n",
       "1            /a/abba/andante+andante_20002708.html   \n",
       "2             /a/abba/as+good+as+new_20003033.html   \n",
       "3                       /a/abba/bang_20598415.html   \n",
       "4           /a/abba/bang+a+boomerang_20002668.html   \n",
       "...                                            ...   \n",
       "57645  /z/ziggy+marley/good+old+days_10198588.html   \n",
       "57646  /z/ziggy+marley/hand+to+mouth_20531167.html   \n",
       "57647           /z/zwan/come+with+me_20148981.html   \n",
       "57648                 /z/zwan/desire_20148986.html   \n",
       "57649              /z/zwan/heartsong_20148991.html   \n",
       "\n",
       "                                                    text  \n",
       "0      Look at her face, it's a wonderful face  \\nAnd...  \n",
       "1      Take it easy with me, please  \\nTouch me gentl...  \n",
       "2      I'll never know why I had to go  \\nWhy I had t...  \n",
       "3      Making somebody happy is a question of give an...  \n",
       "4      Making somebody happy is a question of give an...  \n",
       "...                                                  ...  \n",
       "57645  Irie days come on play  \\nLet the angels fly l...  \n",
       "57646  Power to the workers  \\nMore power  \\nPower to...  \n",
       "57647  all you need  \\nis something i'll believe  \\nf...  \n",
       "57648  northern star  \\nam i frightened  \\nwhere can ...  \n",
       "57649  come in  \\nmake yourself at home  \\ni'm a bit ...  \n",
       "\n",
       "[57650 rows x 4 columns]"
      ]
     },
     "execution_count": 92,
     "metadata": {},
     "output_type": "execute_result"
    }
   ],
   "source": [
    "df"
   ]
  },
  {
   "cell_type": "code",
   "execution_count": 3,
   "metadata": {},
   "outputs": [],
   "source": [
    "X= np.array(df.iloc[:,3])"
   ]
  },
  {
   "cell_type": "code",
   "execution_count": 19,
   "metadata": {},
   "outputs": [
    {
     "name": "stderr",
     "output_type": "stream",
     "text": [
      "Batches: 100%|██████████| 32/32 [00:08<00:00,  3.60it/s]\n"
     ]
    }
   ],
   "source": [
    "# This is a sentence-transformers model: It maps sentences & paragraphs to a 384 dimensional dense vector space\n",
    "model = SentenceTransformer('paraphrase-MiniLM-L6-v2')\n",
    "embeddings = model.encode(X,show_progress_bar=True)"
   ]
  },
  {
   "cell_type": "code",
   "execution_count": 22,
   "metadata": {},
   "outputs": [
    {
     "data": {
      "text/plain": [
       "(1000, 384)"
      ]
     },
     "execution_count": 22,
     "metadata": {},
     "output_type": "execute_result"
    }
   ],
   "source": [
    "embeddings.shape"
   ]
  },
  {
   "cell_type": "code",
   "execution_count": 20,
   "metadata": {},
   "outputs": [],
   "source": [
    "# reducing features for simplifying (95% of variance )\n",
    "pca = PCA(n_components=0.95)\n",
    "embeded_lyrics= pca.fit_transform(embeddings)"
   ]
  },
  {
   "cell_type": "code",
   "execution_count": 21,
   "metadata": {},
   "outputs": [
    {
     "data": {
      "text/plain": [
       "(1000, 151)"
      ]
     },
     "execution_count": 21,
     "metadata": {},
     "output_type": "execute_result"
    }
   ],
   "source": [
    "embeded_lyrics.shape"
   ]
  },
  {
   "cell_type": "code",
   "execution_count": 81,
   "metadata": {},
   "outputs": [],
   "source": [
    "def give_reccom (words,k=2):\n",
    "    \n",
    "    # words=np.array(words)\n",
    "    words_encoded= model.encode(words)\n",
    "    words_encoded=pca.transform(words_encoded.reshape(1, -1))\n",
    "    hits = util.semantic_search(words_encoded,embeded_lyrics,top_k=k)\n",
    "    reccoms_index=[]\n",
    "    for hit in hits[0]:\n",
    "        reccoms_index.append(hit['corpus_id'])\n",
    "\n",
    "    \n",
    "    return df.iloc[reccoms_index]\n",
    "    "
   ]
  },
  {
   "cell_type": "code",
   "execution_count": 96,
   "metadata": {},
   "outputs": [
    {
     "data": {
      "text/html": [
       "<div>\n",
       "<style scoped>\n",
       "    .dataframe tbody tr th:only-of-type {\n",
       "        vertical-align: middle;\n",
       "    }\n",
       "\n",
       "    .dataframe tbody tr th {\n",
       "        vertical-align: top;\n",
       "    }\n",
       "\n",
       "    .dataframe thead th {\n",
       "        text-align: right;\n",
       "    }\n",
       "</style>\n",
       "<table border=\"1\" class=\"dataframe\">\n",
       "  <thead>\n",
       "    <tr style=\"text-align: right;\">\n",
       "      <th></th>\n",
       "      <th>artist</th>\n",
       "      <th>song</th>\n",
       "      <th>link</th>\n",
       "      <th>text</th>\n",
       "    </tr>\n",
       "  </thead>\n",
       "  <tbody>\n",
       "    <tr>\n",
       "      <th>348</th>\n",
       "      <td>Aiza Seguerra</td>\n",
       "      <td>Huwag Mong Iwan Ang Puso</td>\n",
       "      <td>/a/aiza+seguerra/huwag+mong+iwan+ang+puso_2065...</td>\n",
       "      <td>Kay bilis naman ng panahon  \\nKailan lang tayo...</td>\n",
       "    </tr>\n",
       "    <tr>\n",
       "      <th>359</th>\n",
       "      <td>Aiza Seguerra</td>\n",
       "      <td>Sa Ugoy Ng Duyan</td>\n",
       "      <td>/a/aiza+seguerra/sa+ugoy+ng+duyan_20795061.html</td>\n",
       "      <td>Sana'y di magmaliw ang dati kong araw  \\nNang ...</td>\n",
       "    </tr>\n",
       "    <tr>\n",
       "      <th>353</th>\n",
       "      <td>Aiza Seguerra</td>\n",
       "      <td>Ikaw Na Ang Bahala: Panalangin</td>\n",
       "      <td>/a/aiza+seguerra/ikaw+na+ang+bahala+panalangin...</td>\n",
       "      <td>Ang ganda ng buhay, mahal kong Diyos  \\nSana p...</td>\n",
       "    </tr>\n",
       "  </tbody>\n",
       "</table>\n",
       "</div>"
      ],
      "text/plain": [
       "            artist                            song  \\\n",
       "348  Aiza Seguerra        Huwag Mong Iwan Ang Puso   \n",
       "359  Aiza Seguerra                Sa Ugoy Ng Duyan   \n",
       "353  Aiza Seguerra  Ikaw Na Ang Bahala: Panalangin   \n",
       "\n",
       "                                                  link  \\\n",
       "348  /a/aiza+seguerra/huwag+mong+iwan+ang+puso_2065...   \n",
       "359    /a/aiza+seguerra/sa+ugoy+ng+duyan_20795061.html   \n",
       "353  /a/aiza+seguerra/ikaw+na+ang+bahala+panalangin...   \n",
       "\n",
       "                                                  text  \n",
       "348  Kay bilis naman ng panahon  \\nKailan lang tayo...  \n",
       "359  Sana'y di magmaliw ang dati kong araw  \\nNang ...  \n",
       "353  Ang ganda ng buhay, mahal kong Diyos  \\nSana p...  "
      ]
     },
     "execution_count": 96,
     "metadata": {},
     "output_type": "execute_result"
    }
   ],
   "source": [
    "give_reccom(\"hi  \",3)"
   ]
  },
  {
   "cell_type": "code",
   "execution_count": null,
   "metadata": {},
   "outputs": [],
   "source": []
  }
 ],
 "metadata": {
  "kernelspec": {
   "display_name": "venv",
   "language": "python",
   "name": "python3"
  },
  "language_info": {
   "codemirror_mode": {
    "name": "ipython",
    "version": 3
   },
   "file_extension": ".py",
   "mimetype": "text/x-python",
   "name": "python",
   "nbconvert_exporter": "python",
   "pygments_lexer": "ipython3",
   "version": "3.10.10"
  },
  "orig_nbformat": 4,
  "vscode": {
   "interpreter": {
    "hash": "c22530e0b1ca318992d343d6aa964ee37b54c469b5144527ce673786e01d07c1"
   }
  }
 },
 "nbformat": 4,
 "nbformat_minor": 2
}
