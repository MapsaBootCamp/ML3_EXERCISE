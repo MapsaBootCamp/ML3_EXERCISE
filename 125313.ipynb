{
 "cells": [
  {
   "cell_type": "code",
   "execution_count": 1,
   "id": "4abd38ba",
   "metadata": {},
   "outputs": [],
   "source": [
    "import pandas as pd"
   ]
  },
  {
   "cell_type": "code",
   "execution_count": 2,
   "id": "7b60759c",
   "metadata": {},
   "outputs": [],
   "source": [
    "data=pd.read_csv(\"supermarket.csv\")"
   ]
  },
  {
   "cell_type": "code",
   "execution_count": 105,
   "id": "239a2520",
   "metadata": {},
   "outputs": [
    {
     "data": {
      "text/plain": [
       "(137,)"
      ]
     },
     "execution_count": 105,
     "metadata": {},
     "output_type": "execute_result"
    }
   ],
   "source": [
    "pd.unique(data[ 'Product']).shape"
   ]
  },
  {
   "cell_type": "code",
   "execution_count": 45,
   "id": "dd480b43",
   "metadata": {},
   "outputs": [
    {
     "data": {
      "text/html": [
       "<div>\n",
       "<style scoped>\n",
       "    .dataframe tbody tr th:only-of-type {\n",
       "        vertical-align: middle;\n",
       "    }\n",
       "\n",
       "    .dataframe tbody tr th {\n",
       "        vertical-align: top;\n",
       "    }\n",
       "\n",
       "    .dataframe thead th {\n",
       "        text-align: right;\n",
       "    }\n",
       "</style>\n",
       "<table border=\"1\" class=\"dataframe\">\n",
       "  <thead>\n",
       "    <tr style=\"text-align: right;\">\n",
       "      <th></th>\n",
       "      <th>Customer Id</th>\n",
       "      <th>Date</th>\n",
       "      <th>Product</th>\n",
       "    </tr>\n",
       "  </thead>\n",
       "  <tbody>\n",
       "    <tr>\n",
       "      <th>0</th>\n",
       "      <td>JKML5ZWXP0XQ</td>\n",
       "      <td>2020-07-20</td>\n",
       "      <td>tropical fruit</td>\n",
       "    </tr>\n",
       "    <tr>\n",
       "      <th>1</th>\n",
       "      <td>YOGWQIUPDAJ7</td>\n",
       "      <td>2020-04-30</td>\n",
       "      <td>whole milk</td>\n",
       "    </tr>\n",
       "    <tr>\n",
       "      <th>2</th>\n",
       "      <td>Q3NL22281AF6</td>\n",
       "      <td>2020-09-18</td>\n",
       "      <td>pip fruit</td>\n",
       "    </tr>\n",
       "    <tr>\n",
       "      <th>3</th>\n",
       "      <td>C59GRTLMZQAU</td>\n",
       "      <td>2020-12-11</td>\n",
       "      <td>other vegetables</td>\n",
       "    </tr>\n",
       "    <tr>\n",
       "      <th>4</th>\n",
       "      <td>WUSF8LTEQZ5L</td>\n",
       "      <td>2020-01-02</td>\n",
       "      <td>whole milk</td>\n",
       "    </tr>\n",
       "  </tbody>\n",
       "</table>\n",
       "</div>"
      ],
      "text/plain": [
       "    Customer Id        Date           Product\n",
       "0  JKML5ZWXP0XQ  2020-07-20    tropical fruit\n",
       "1  YOGWQIUPDAJ7  2020-04-30        whole milk\n",
       "2  Q3NL22281AF6  2020-09-18         pip fruit\n",
       "3  C59GRTLMZQAU  2020-12-11  other vegetables\n",
       "4  WUSF8LTEQZ5L  2020-01-02        whole milk"
      ]
     },
     "execution_count": 45,
     "metadata": {},
     "output_type": "execute_result"
    }
   ],
   "source": [
    "data.head()"
   ]
  },
  {
   "cell_type": "code",
   "execution_count": 227,
   "id": "1402c16f",
   "metadata": {},
   "outputs": [],
   "source": [
    "data['Date']=pd.to_datetime(data['Date'])"
   ]
  },
  {
   "cell_type": "code",
   "execution_count": 215,
   "id": "b9604751",
   "metadata": {},
   "outputs": [],
   "source": [
    "s1=data.sort_values(by='Date')"
   ]
  },
  {
   "cell_type": "code",
   "execution_count": 216,
   "id": "3d277d86",
   "metadata": {},
   "outputs": [
    {
     "data": {
      "text/html": [
       "<div>\n",
       "<style scoped>\n",
       "    .dataframe tbody tr th:only-of-type {\n",
       "        vertical-align: middle;\n",
       "    }\n",
       "\n",
       "    .dataframe tbody tr th {\n",
       "        vertical-align: top;\n",
       "    }\n",
       "\n",
       "    .dataframe thead th {\n",
       "        text-align: right;\n",
       "    }\n",
       "</style>\n",
       "<table border=\"1\" class=\"dataframe\">\n",
       "  <thead>\n",
       "    <tr style=\"text-align: right;\">\n",
       "      <th></th>\n",
       "      <th>Customer Id</th>\n",
       "      <th>Date</th>\n",
       "      <th>Product</th>\n",
       "    </tr>\n",
       "  </thead>\n",
       "  <tbody>\n",
       "    <tr>\n",
       "      <th>27799</th>\n",
       "      <td>KCTZ72QHMDFI</td>\n",
       "      <td>2019-01-01</td>\n",
       "      <td>Instant food products</td>\n",
       "    </tr>\n",
       "    <tr>\n",
       "      <th>13034</th>\n",
       "      <td>Y0P0N0Q7J20N</td>\n",
       "      <td>2019-01-01</td>\n",
       "      <td>specialty chocolate</td>\n",
       "    </tr>\n",
       "    <tr>\n",
       "      <th>25842</th>\n",
       "      <td>3K6D758U6XEW</td>\n",
       "      <td>2019-01-01</td>\n",
       "      <td>frozen vegetables</td>\n",
       "    </tr>\n",
       "    <tr>\n",
       "      <th>8096</th>\n",
       "      <td>4HQQAPAPG6SF</td>\n",
       "      <td>2019-01-01</td>\n",
       "      <td>citrus fruit</td>\n",
       "    </tr>\n",
       "    <tr>\n",
       "      <th>21803</th>\n",
       "      <td>XF4DEN65CUZO</td>\n",
       "      <td>2019-01-01</td>\n",
       "      <td>other vegetables</td>\n",
       "    </tr>\n",
       "  </tbody>\n",
       "</table>\n",
       "</div>"
      ],
      "text/plain": [
       "        Customer Id        Date                Product\n",
       "27799  KCTZ72QHMDFI  2019-01-01  Instant food products\n",
       "13034  Y0P0N0Q7J20N  2019-01-01    specialty chocolate\n",
       "25842  3K6D758U6XEW  2019-01-01      frozen vegetables\n",
       "8096   4HQQAPAPG6SF  2019-01-01           citrus fruit\n",
       "21803  XF4DEN65CUZO  2019-01-01       other vegetables"
      ]
     },
     "execution_count": 216,
     "metadata": {},
     "output_type": "execute_result"
    }
   ],
   "source": [
    "s1.head()"
   ]
  },
  {
   "cell_type": "code",
   "execution_count": 112,
   "id": "7e2ab5db",
   "metadata": {},
   "outputs": [
    {
     "data": {
      "text/html": [
       "<div>\n",
       "<style scoped>\n",
       "    .dataframe tbody tr th:only-of-type {\n",
       "        vertical-align: middle;\n",
       "    }\n",
       "\n",
       "    .dataframe tbody tr th {\n",
       "        vertical-align: top;\n",
       "    }\n",
       "\n",
       "    .dataframe thead th {\n",
       "        text-align: right;\n",
       "    }\n",
       "</style>\n",
       "<table border=\"1\" class=\"dataframe\">\n",
       "  <thead>\n",
       "    <tr style=\"text-align: right;\">\n",
       "      <th></th>\n",
       "      <th>Customer Id</th>\n",
       "      <th>Date</th>\n",
       "      <th>Product</th>\n",
       "      <th>new</th>\n",
       "    </tr>\n",
       "  </thead>\n",
       "  <tbody>\n",
       "    <tr>\n",
       "      <th>24743</th>\n",
       "      <td>3KDYM2HVF073</td>\n",
       "      <td>2019-12-10</td>\n",
       "      <td>Instant food products</td>\n",
       "      <td>1</td>\n",
       "    </tr>\n",
       "    <tr>\n",
       "      <th>32467</th>\n",
       "      <td>5WEVE9KL8TIT</td>\n",
       "      <td>2019-07-23</td>\n",
       "      <td>Instant food products</td>\n",
       "      <td>1</td>\n",
       "    </tr>\n",
       "    <tr>\n",
       "      <th>15793</th>\n",
       "      <td>UD64RW6MHI2H</td>\n",
       "      <td>2020-07-28</td>\n",
       "      <td>Instant food products</td>\n",
       "      <td>1</td>\n",
       "    </tr>\n",
       "    <tr>\n",
       "      <th>30474</th>\n",
       "      <td>0AGOEFY8O0XQ</td>\n",
       "      <td>2020-10-18</td>\n",
       "      <td>Instant food products</td>\n",
       "      <td>1</td>\n",
       "    </tr>\n",
       "    <tr>\n",
       "      <th>4217</th>\n",
       "      <td>3343PDWHXIRN</td>\n",
       "      <td>2020-07-02</td>\n",
       "      <td>Instant food products</td>\n",
       "      <td>1</td>\n",
       "    </tr>\n",
       "  </tbody>\n",
       "</table>\n",
       "</div>"
      ],
      "text/plain": [
       "        Customer Id       Date                Product  new\n",
       "24743  3KDYM2HVF073 2019-12-10  Instant food products    1\n",
       "32467  5WEVE9KL8TIT 2019-07-23  Instant food products    1\n",
       "15793  UD64RW6MHI2H 2020-07-28  Instant food products    1\n",
       "30474  0AGOEFY8O0XQ 2020-10-18  Instant food products    1\n",
       "4217   3343PDWHXIRN 2020-07-02  Instant food products    1"
      ]
     },
     "execution_count": 112,
     "metadata": {},
     "output_type": "execute_result"
    }
   ],
   "source": [
    "s1[\"new\"]=1\n",
    "s1.head()"
   ]
  },
  {
   "cell_type": "code",
   "execution_count": 109,
   "id": "5681e70f",
   "metadata": {},
   "outputs": [
    {
     "data": {
      "text/plain": [
       "new    44.93\n",
       "dtype: float64"
      ]
     },
     "execution_count": 109,
     "metadata": {},
     "output_type": "execute_result"
    }
   ],
   "source": [
    "s1.groupby([\"Date\"]).sum().mean().apply(lambda x: round(x,2))"
   ]
  },
  {
   "cell_type": "code",
   "execution_count": 110,
   "id": "d03b2589",
   "metadata": {},
   "outputs": [],
   "source": [
    "s1=data.sort_values(by='Product')"
   ]
  },
  {
   "cell_type": "code",
   "execution_count": 127,
   "id": "400e2a6b",
   "metadata": {},
   "outputs": [
    {
     "data": {
      "text/html": [
       "<div>\n",
       "<style scoped>\n",
       "    .dataframe tbody tr th:only-of-type {\n",
       "        vertical-align: middle;\n",
       "    }\n",
       "\n",
       "    .dataframe tbody tr th {\n",
       "        vertical-align: top;\n",
       "    }\n",
       "\n",
       "    .dataframe thead th {\n",
       "        text-align: right;\n",
       "    }\n",
       "</style>\n",
       "<table border=\"1\" class=\"dataframe\">\n",
       "  <thead>\n",
       "    <tr style=\"text-align: right;\">\n",
       "      <th></th>\n",
       "      <th>Customer Id</th>\n",
       "      <th>Date</th>\n",
       "      <th>Product</th>\n",
       "      <th>new</th>\n",
       "    </tr>\n",
       "  </thead>\n",
       "  <tbody>\n",
       "    <tr>\n",
       "      <th>24743</th>\n",
       "      <td>3KDYM2HVF073</td>\n",
       "      <td>2019-12-10</td>\n",
       "      <td>Instant food products</td>\n",
       "      <td>1</td>\n",
       "    </tr>\n",
       "    <tr>\n",
       "      <th>32467</th>\n",
       "      <td>5WEVE9KL8TIT</td>\n",
       "      <td>2019-07-23</td>\n",
       "      <td>Instant food products</td>\n",
       "      <td>1</td>\n",
       "    </tr>\n",
       "    <tr>\n",
       "      <th>15793</th>\n",
       "      <td>UD64RW6MHI2H</td>\n",
       "      <td>2020-07-28</td>\n",
       "      <td>Instant food products</td>\n",
       "      <td>1</td>\n",
       "    </tr>\n",
       "    <tr>\n",
       "      <th>30474</th>\n",
       "      <td>0AGOEFY8O0XQ</td>\n",
       "      <td>2020-10-18</td>\n",
       "      <td>Instant food products</td>\n",
       "      <td>1</td>\n",
       "    </tr>\n",
       "    <tr>\n",
       "      <th>4217</th>\n",
       "      <td>3343PDWHXIRN</td>\n",
       "      <td>2020-07-02</td>\n",
       "      <td>Instant food products</td>\n",
       "      <td>1</td>\n",
       "    </tr>\n",
       "  </tbody>\n",
       "</table>\n",
       "</div>"
      ],
      "text/plain": [
       "        Customer Id       Date                Product  new\n",
       "24743  3KDYM2HVF073 2019-12-10  Instant food products    1\n",
       "32467  5WEVE9KL8TIT 2019-07-23  Instant food products    1\n",
       "15793  UD64RW6MHI2H 2020-07-28  Instant food products    1\n",
       "30474  0AGOEFY8O0XQ 2020-10-18  Instant food products    1\n",
       "4217   3343PDWHXIRN 2020-07-02  Instant food products    1"
      ]
     },
     "execution_count": 127,
     "metadata": {},
     "output_type": "execute_result"
    }
   ],
   "source": [
    "s1.head()"
   ]
  },
  {
   "cell_type": "code",
   "execution_count": 131,
   "id": "66063145",
   "metadata": {},
   "outputs": [],
   "source": [
    "s2=pd.DataFrame(s1.groupby([\"Product\"]).sum())\n",
    "s3=s2.sort_values(by=\"new\").head(4)\n",
    "\n"
   ]
  },
  {
   "cell_type": "code",
   "execution_count": 132,
   "id": "b0057599",
   "metadata": {},
   "outputs": [
    {
     "data": {
      "text/plain": [
       "Index(['kitchen utensil', 'preservation products', 'baby cosmetics', 'bags'], dtype='object', name='Product')"
      ]
     },
     "execution_count": 132,
     "metadata": {},
     "output_type": "execute_result"
    }
   ],
   "source": [
    "s3.T.columns"
   ]
  },
  {
   "cell_type": "code",
   "execution_count": 133,
   "id": "2e9e0815",
   "metadata": {},
   "outputs": [
    {
     "data": {
      "text/html": [
       "<div>\n",
       "<style scoped>\n",
       "    .dataframe tbody tr th:only-of-type {\n",
       "        vertical-align: middle;\n",
       "    }\n",
       "\n",
       "    .dataframe tbody tr th {\n",
       "        vertical-align: top;\n",
       "    }\n",
       "\n",
       "    .dataframe thead th {\n",
       "        text-align: right;\n",
       "    }\n",
       "</style>\n",
       "<table border=\"1\" class=\"dataframe\">\n",
       "  <thead>\n",
       "    <tr style=\"text-align: right;\">\n",
       "      <th></th>\n",
       "      <th>new</th>\n",
       "    </tr>\n",
       "    <tr>\n",
       "      <th>Product</th>\n",
       "      <th></th>\n",
       "    </tr>\n",
       "  </thead>\n",
       "  <tbody>\n",
       "    <tr>\n",
       "      <th>kitchen utensil</th>\n",
       "      <td>1</td>\n",
       "    </tr>\n",
       "    <tr>\n",
       "      <th>preservation products</th>\n",
       "      <td>1</td>\n",
       "    </tr>\n",
       "    <tr>\n",
       "      <th>baby cosmetics</th>\n",
       "      <td>3</td>\n",
       "    </tr>\n",
       "    <tr>\n",
       "      <th>bags</th>\n",
       "      <td>4</td>\n",
       "    </tr>\n",
       "  </tbody>\n",
       "</table>\n",
       "</div>"
      ],
      "text/plain": [
       "                       new\n",
       "Product                   \n",
       "kitchen utensil          1\n",
       "preservation products    1\n",
       "baby cosmetics           3\n",
       "bags                     4"
      ]
     },
     "execution_count": 133,
     "metadata": {},
     "output_type": "execute_result"
    }
   ],
   "source": [
    "s3"
   ]
  },
  {
   "cell_type": "markdown",
   "id": "7ccd5060",
   "metadata": {},
   "source": [
    "<h3>جواب 4</h3>"
   ]
  },
  {
   "cell_type": "code",
   "execution_count": 217,
   "id": "e1d9ad9b",
   "metadata": {},
   "outputs": [],
   "source": [
    "s2=s1[\"Date\"].apply(lambda x:x if (\"2020\" in x) else 0)"
   ]
  },
  {
   "cell_type": "code",
   "execution_count": 218,
   "id": "83db220e",
   "metadata": {},
   "outputs": [],
   "source": [
    "s1[\"Date\"]=s2\n",
    "s3=s1[s1[\"Date\"] != 0]"
   ]
  },
  {
   "cell_type": "code",
   "execution_count": 219,
   "id": "69b4ef4a",
   "metadata": {},
   "outputs": [
    {
     "name": "stderr",
     "output_type": "stream",
     "text": [
      "C:\\Users\\Mehrdad\\AppData\\Local\\Temp\\ipykernel_1780\\1559669581.py:1: SettingWithCopyWarning: \n",
      "A value is trying to be set on a copy of a slice from a DataFrame.\n",
      "Try using .loc[row_indexer,col_indexer] = value instead\n",
      "\n",
      "See the caveats in the documentation: https://pandas.pydata.org/pandas-docs/stable/user_guide/indexing.html#returning-a-view-versus-a-copy\n",
      "  s3[\"New\"]=1\n"
     ]
    }
   ],
   "source": [
    "s3[\"New\"]=1"
   ]
  },
  {
   "cell_type": "code",
   "execution_count": 220,
   "id": "5d5dff8f",
   "metadata": {},
   "outputs": [],
   "source": [
    "s4=s3.groupby([\"Customer Id\"]).sum()"
   ]
  },
  {
   "cell_type": "code",
   "execution_count": 221,
   "id": "1f52184d",
   "metadata": {},
   "outputs": [
    {
     "data": {
      "text/html": [
       "<div>\n",
       "<style scoped>\n",
       "    .dataframe tbody tr th:only-of-type {\n",
       "        vertical-align: middle;\n",
       "    }\n",
       "\n",
       "    .dataframe tbody tr th {\n",
       "        vertical-align: top;\n",
       "    }\n",
       "\n",
       "    .dataframe thead th {\n",
       "        text-align: right;\n",
       "    }\n",
       "</style>\n",
       "<table border=\"1\" class=\"dataframe\">\n",
       "  <thead>\n",
       "    <tr style=\"text-align: right;\">\n",
       "      <th></th>\n",
       "      <th>New</th>\n",
       "    </tr>\n",
       "    <tr>\n",
       "      <th>Customer Id</th>\n",
       "      <th></th>\n",
       "    </tr>\n",
       "  </thead>\n",
       "  <tbody>\n",
       "    <tr>\n",
       "      <th>MEWMJVZWOVF0</th>\n",
       "      <td>18</td>\n",
       "    </tr>\n",
       "    <tr>\n",
       "      <th>QBUS9NZY39BE</th>\n",
       "      <td>19</td>\n",
       "    </tr>\n",
       "    <tr>\n",
       "      <th>KE1JWTCQMDSD</th>\n",
       "      <td>19</td>\n",
       "    </tr>\n",
       "    <tr>\n",
       "      <th>E7FD9BU4OK0F</th>\n",
       "      <td>19</td>\n",
       "    </tr>\n",
       "    <tr>\n",
       "      <th>3HRBE45N5NB6</th>\n",
       "      <td>20</td>\n",
       "    </tr>\n",
       "    <tr>\n",
       "      <th>NQQZGF4K1FE0</th>\n",
       "      <td>20</td>\n",
       "    </tr>\n",
       "    <tr>\n",
       "      <th>ED8WY0DE27XG</th>\n",
       "      <td>20</td>\n",
       "    </tr>\n",
       "    <tr>\n",
       "      <th>0P1TPIH74E79</th>\n",
       "      <td>21</td>\n",
       "    </tr>\n",
       "    <tr>\n",
       "      <th>KACGV5OJXMJW</th>\n",
       "      <td>23</td>\n",
       "    </tr>\n",
       "    <tr>\n",
       "      <th>0ZRF32AJ06BC</th>\n",
       "      <td>26</td>\n",
       "    </tr>\n",
       "  </tbody>\n",
       "</table>\n",
       "</div>"
      ],
      "text/plain": [
       "              New\n",
       "Customer Id      \n",
       "MEWMJVZWOVF0   18\n",
       "QBUS9NZY39BE   19\n",
       "KE1JWTCQMDSD   19\n",
       "E7FD9BU4OK0F   19\n",
       "3HRBE45N5NB6   20\n",
       "NQQZGF4K1FE0   20\n",
       "ED8WY0DE27XG   20\n",
       "0P1TPIH74E79   21\n",
       "KACGV5OJXMJW   23\n",
       "0ZRF32AJ06BC   26"
      ]
     },
     "execution_count": 221,
     "metadata": {},
     "output_type": "execute_result"
    }
   ],
   "source": [
    "s4.sort_values(by=\"New\").tail(10)"
   ]
  },
  {
   "cell_type": "code",
   "execution_count": 207,
   "id": "64e3f243",
   "metadata": {},
   "outputs": [
    {
     "ename": "AttributeError",
     "evalue": "'DataFrameGroupBy' object has no attribute 'T'",
     "output_type": "error",
     "traceback": [
      "\u001b[1;31m---------------------------------------------------------------------------\u001b[0m",
      "\u001b[1;31mAttributeError\u001b[0m                            Traceback (most recent call last)",
      "Input \u001b[1;32mIn [207]\u001b[0m, in \u001b[0;36m<cell line: 1>\u001b[1;34m()\u001b[0m\n\u001b[1;32m----> 1\u001b[0m \u001b[43ms4\u001b[49m\u001b[38;5;241;43m.\u001b[39;49m\u001b[43mT\u001b[49m\n",
      "File \u001b[1;32m~\\Desktop\\sample_project_1\\env\\lib\\site-packages\\pandas\\core\\groupby\\groupby.py:904\u001b[0m, in \u001b[0;36mGroupBy.__getattr__\u001b[1;34m(self, attr)\u001b[0m\n\u001b[0;32m    901\u001b[0m \u001b[38;5;28;01mif\u001b[39;00m attr \u001b[38;5;129;01min\u001b[39;00m \u001b[38;5;28mself\u001b[39m\u001b[38;5;241m.\u001b[39mobj:\n\u001b[0;32m    902\u001b[0m     \u001b[38;5;28;01mreturn\u001b[39;00m \u001b[38;5;28mself\u001b[39m[attr]\n\u001b[1;32m--> 904\u001b[0m \u001b[38;5;28;01mraise\u001b[39;00m \u001b[38;5;167;01mAttributeError\u001b[39;00m(\n\u001b[0;32m    905\u001b[0m     \u001b[38;5;124mf\u001b[39m\u001b[38;5;124m\"\u001b[39m\u001b[38;5;124m'\u001b[39m\u001b[38;5;132;01m{\u001b[39;00m\u001b[38;5;28mtype\u001b[39m(\u001b[38;5;28mself\u001b[39m)\u001b[38;5;241m.\u001b[39m\u001b[38;5;18m__name__\u001b[39m\u001b[38;5;132;01m}\u001b[39;00m\u001b[38;5;124m'\u001b[39m\u001b[38;5;124m object has no attribute \u001b[39m\u001b[38;5;124m'\u001b[39m\u001b[38;5;132;01m{\u001b[39;00mattr\u001b[38;5;132;01m}\u001b[39;00m\u001b[38;5;124m'\u001b[39m\u001b[38;5;124m\"\u001b[39m\n\u001b[0;32m    906\u001b[0m )\n",
      "\u001b[1;31mAttributeError\u001b[0m: 'DataFrameGroupBy' object has no attribute 'T'"
     ]
    }
   ],
   "source": [
    "s4.T"
   ]
  },
  {
   "cell_type": "code",
   "execution_count": 222,
   "id": "2730874f",
   "metadata": {},
   "outputs": [],
   "source": [
    "from datetime import datetime"
   ]
  },
  {
   "cell_type": "code",
   "execution_count": 233,
   "id": "e3b0bfe7",
   "metadata": {},
   "outputs": [],
   "source": [
    "data[\"week\"]=data[\"Date\"].apply(lambda x: x.weekday())"
   ]
  },
  {
   "cell_type": "code",
   "execution_count": 235,
   "id": "5fcb71f2",
   "metadata": {},
   "outputs": [],
   "source": [
    "data[\"new\"]=1"
   ]
  },
  {
   "cell_type": "code",
   "execution_count": 242,
   "id": "61dc53c7",
   "metadata": {},
   "outputs": [],
   "source": [
    "d2=pd.DataFrame(data.groupby([\"week\"]).sum())"
   ]
  },
  {
   "cell_type": "code",
   "execution_count": 240,
   "id": "dff5ab06",
   "metadata": {},
   "outputs": [
    {
     "data": {
      "text/html": [
       "<div>\n",
       "<style scoped>\n",
       "    .dataframe tbody tr th:only-of-type {\n",
       "        vertical-align: middle;\n",
       "    }\n",
       "\n",
       "    .dataframe tbody tr th {\n",
       "        vertical-align: top;\n",
       "    }\n",
       "\n",
       "    .dataframe thead th {\n",
       "        text-align: right;\n",
       "    }\n",
       "</style>\n",
       "<table border=\"1\" class=\"dataframe\">\n",
       "  <thead>\n",
       "    <tr style=\"text-align: right;\">\n",
       "      <th></th>\n",
       "      <th>new</th>\n",
       "    </tr>\n",
       "    <tr>\n",
       "      <th>week</th>\n",
       "      <th></th>\n",
       "    </tr>\n",
       "  </thead>\n",
       "  <tbody>\n",
       "    <tr>\n",
       "      <th>6</th>\n",
       "      <td>4480</td>\n",
       "    </tr>\n",
       "    <tr>\n",
       "      <th>4</th>\n",
       "      <td>4539</td>\n",
       "    </tr>\n",
       "    <tr>\n",
       "      <th>3</th>\n",
       "      <td>4614</td>\n",
       "    </tr>\n",
       "    <tr>\n",
       "      <th>0</th>\n",
       "      <td>4655</td>\n",
       "    </tr>\n",
       "    <tr>\n",
       "      <th>5</th>\n",
       "      <td>4774</td>\n",
       "    </tr>\n",
       "    <tr>\n",
       "      <th>1</th>\n",
       "      <td>4802</td>\n",
       "    </tr>\n",
       "    <tr>\n",
       "      <th>2</th>\n",
       "      <td>4846</td>\n",
       "    </tr>\n",
       "  </tbody>\n",
       "</table>\n",
       "</div>"
      ],
      "text/plain": [
       "       new\n",
       "week      \n",
       "6     4480\n",
       "4     4539\n",
       "3     4614\n",
       "0     4655\n",
       "5     4774\n",
       "1     4802\n",
       "2     4846"
      ]
     },
     "execution_count": 240,
     "metadata": {},
     "output_type": "execute_result"
    }
   ],
   "source": [
    "d2.sort_values(by=\"new\")"
   ]
  },
  {
   "cell_type": "code",
   "execution_count": null,
   "id": "de5adb57",
   "metadata": {},
   "outputs": [],
   "source": []
  }
 ],
 "metadata": {
  "kernelspec": {
   "display_name": "Python 3 (ipykernel)",
   "language": "python",
   "name": "python3"
  },
  "language_info": {
   "codemirror_mode": {
    "name": "ipython",
    "version": 3
   },
   "file_extension": ".py",
   "mimetype": "text/x-python",
   "name": "python",
   "nbconvert_exporter": "python",
   "pygments_lexer": "ipython3",
   "version": "3.9.12"
  }
 },
 "nbformat": 4,
 "nbformat_minor": 5
}
