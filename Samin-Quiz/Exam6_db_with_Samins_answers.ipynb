{
 "cells": [
  {
   "cell_type": "markdown",
   "metadata": {
    "tags": []
   },
   "source": [
    "answer below questions\n",
    "1-what is diffrent betwee select and select distinct\n",
    "\n",
    "2- with sql how do you select all the records from the table named\"Person\" where the value of the column\"FirstName\" starts with an \"a\"\n",
    "\n",
    "3-what does truncate do \n",
    "\n",
    "4-with which sql command you can change table schema ? make an example\n",
    "\n",
    "5-how do you cahnge a record that saved in table\n",
    "\n",
    "6-what is the meaning of pk and foreign key are they diffrent?\n",
    "\n"
   ]
  },
  {
   "cell_type": "markdown",
   "metadata": {},
   "source": [
    "# Answers\n",
    "1- SELECT will select all the columns from the tables in the FROM clause; SELECT DISTINCT will find all unique combinations of row data for tables in the FROM clause. DISTINCT forces a sort and unique filtering operations making it far slower for large data.\n",
    "\n",
    "2- SELECT * FROM Person WHERE FirstName LIKE 'a%';\n",
    "\n",
    "3- TRUNCATE TABLE removes all rows from a table, but the table structure and its columns, constraints, indexes, and so on remain. \n",
    "\n",
    "4- ALTER SCHEMA can only be used to move securables between schemas in the same database.\n",
    "\n",
    "5- With the UPDATE command\n",
    "\n",
    "6- A PK(primary key) constraint is a column that uniquely identifies every row in the table of the relational database management system, while a foreign key is a column that creates a relationship between two tables. The primary Key never accepts null values, whereas the foreign key may accept multiple null values."
   ]
  },
  {
   "cell_type": "markdown",
   "metadata": {},
   "source": [
    "## from calss\n",
    "#### fill in the ..... blanks\n"
   ]
  },
  {
   "cell_type": "code",
   "execution_count": 4,
   "metadata": {},
   "outputs": [],
   "source": [
    "import sqlite3\n",
    "conn = sqlite3.connect(\"titanic.db\")\n",
    "curs = conn.cursor()\n",
    "curs.execute(\"SELECT name FROM sqlite_master WHERE type='table';\")\n",
    "print(curs.fetchall())\n",
    "curs.execute(\"UPDATE titanic SET IsReverend = 0 WHERE Name NOT LIKE '%Rev%'\")\n",
    "conn.commit()"
   ]
  },
  {
   "cell_type": "code",
   "execution_count": null,
   "metadata": {},
   "outputs": [],
   "source": [
    "import psycopg2\n",
    "import psycopg2.extras\n",
    "import pandas as pd\n",
    "\n",
    "# Connect to your postgres DB\n",
    "conn = psycopg2.connect(\n",
    "    host =\"localhost\",\n",
    "    database = \"ml\",\n",
    "    user = \"mapsa\",\n",
    "    password = \"mapsa1234\")\n",
    "\n",
    "# pandas dataframe\n",
    "# df = pd.read_sql_query(\"SELECT * FROM users\", conn)\n",
    "\n",
    "# Open a cursor to perform database operations\n",
    "cur = conn.cursor(cursor_factory=psycopg2.extras.DictCursor)\n",
    "# cur = conn.cursor()\n",
    "\n",
    "\n",
    "# find users\n",
    "cur.execute(\"SELECT username FROM users\")"
   ]
  },
  {
   "cell_type": "markdown",
   "metadata": {
    "id": "OPWpWSXHJTSz"
   },
   "source": [
    "### sqlalchemy is big orm i want you use peewe orm that give you a hand in making queries\n",
    "1-use it to make sqlite database with name and day(date kind)scheme that named peewedb.db and create it"
   ]
  },
  {
   "cell_type": "code",
   "execution_count": 70,
   "metadata": {},
   "outputs": [],
   "source": [
    "import peewee\n",
    "from datetime import date"
   ]
  },
  {
   "cell_type": "code",
   "execution_count": 71,
   "metadata": {},
   "outputs": [],
   "source": [
    "sqlite_db = peewee.SqliteDatabase(\"peewedb.db\")"
   ]
  },
  {
   "cell_type": "code",
   "execution_count": 72,
   "metadata": {},
   "outputs": [],
   "source": [
    "class Person(peewee.Model):\n",
    "    Name = peewee.CharField()\n",
    "    Birthday = peewee.DateField()\n",
    "\n",
    "    class Meta:\n",
    "        database = sqlite_db\n",
    "#sqlite_db.connect()\n",
    "sqlite_db.create_tables([Person])"
   ]
  },
  {
   "cell_type": "markdown",
   "metadata": {},
   "source": [
    "2- add two row in your database first on is (name=azaddel and day= (1991,2,14) and second one is (name=yourname, day=yourbirthday) and save it to peewedb datbase in person table"
   ]
  },
  {
   "cell_type": "code",
   "execution_count": 73,
   "metadata": {},
   "outputs": [
    {
     "ename": "NameError",
     "evalue": "name 'person2' is not defined",
     "output_type": "error",
     "traceback": [
      "\u001b[0;31m---------------------------------------------------------------------------\u001b[0m",
      "\u001b[0;31mNameError\u001b[0m                                 Traceback (most recent call last)",
      "Cell \u001b[0;32mIn [73], line 4\u001b[0m\n\u001b[1;32m      2\u001b[0m person1\u001b[38;5;241m.\u001b[39msave()\n\u001b[1;32m      3\u001b[0m person1\u001b[38;5;241m=\u001b[39m Person(Name\u001b[38;5;241m=\u001b[39m\u001b[38;5;124m'\u001b[39m\u001b[38;5;124mSamin\u001b[39m\u001b[38;5;124m'\u001b[39m, Birthday\u001b[38;5;241m=\u001b[39mdate(\u001b[38;5;241m1999\u001b[39m,\u001b[38;5;241m7\u001b[39m,\u001b[38;5;241m13\u001b[39m))\n\u001b[0;32m----> 4\u001b[0m person2\u001b[38;5;241m.\u001b[39msave()\n",
      "\u001b[0;31mNameError\u001b[0m: name 'person2' is not defined"
     ]
    }
   ],
   "source": [
    "person1 = Person(Name='Azaddel', Birthday=date(1991,2,14))\n",
    "person1.save()\n",
    "person1= Person(Name='Samin', Birthday=date(1999,7,13))\n",
    "person2.save()"
   ]
  },
  {
   "cell_type": "markdown",
   "metadata": {},
   "source": [
    "3- filter the table with rows that their name is equal to your name "
   ]
  },
  {
   "cell_type": "code",
   "execution_count": 64,
   "metadata": {},
   "outputs": [
    {
     "data": {
      "text/plain": [
       "'Samin'"
      ]
     },
     "execution_count": 64,
     "metadata": {},
     "output_type": "execute_result"
    }
   ],
   "source": [
    "me = Person.select().where(Person.Name == 'Samin').get()\n",
    "me.Name\n"
   ]
  }
 ],
 "metadata": {
  "colab": {
   "provenance": []
  },
  "kernelspec": {
   "display_name": "Python 3 (ipykernel)",
   "language": "python",
   "name": "python3"
  },
  "language_info": {
   "codemirror_mode": {
    "name": "ipython",
    "version": 3
   },
   "file_extension": ".py",
   "mimetype": "text/x-python",
   "name": "python",
   "nbconvert_exporter": "python",
   "pygments_lexer": "ipython3",
   "version": "3.10.5"
  }
 },
 "nbformat": 4,
 "nbformat_minor": 4
}
