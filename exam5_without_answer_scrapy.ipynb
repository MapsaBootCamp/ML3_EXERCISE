{
 "cells": [
  {
   "cell_type": "markdown",
   "metadata": {
    "id": "OPWpWSXHJTSz"
   },
   "source": [
    "write  scarp python file that crawl this address https://www.theguardian.com/theguardian/series/the-quiz-thomas-eaton question and answers in each url \n",
    "\n",
    "- all things should run within python running file without runnig linux command\n",
    "- contents should save in csv file \n",
    "\n",
    "** look at csv_file to better understanding"
   ]
  },
  {
   "cell_type": "code",
   "execution_count": null,
   "metadata": {},
   "outputs": [],
   "source": []
  },
  {
   "cell_type": "markdown",
   "metadata": {
    "id": "5h2BXTmGLnWp"
   },
   "source": [
    "### review\n"
   ]
  },
  {
   "cell_type": "markdown",
   "metadata": {
    "id": "z3S3qRThKz8Z"
   },
   "source": [
    "write linux command to run postgress docker with volume username password as environments and runs on port 5432\n",
    "\n",
    "after running it show containers and images that are running on your machine and past the screenshot of them here"
   ]
  }
 ],
 "metadata": {
  "colab": {
   "provenance": []
  },
  "kernelspec": {
   "display_name": ".venv",
   "language": "python",
   "name": "python3"
  },
  "language_info": {
   "name": "python",
   "version": "3.9.9 (tags/v3.9.9:ccb0e6a, Nov 15 2021, 18:08:50) [MSC v.1929 64 bit (AMD64)]"
  },
  "vscode": {
   "interpreter": {
    "hash": "a85ea5f58a9f08f2e956f9ec283f65c40963f1e4661b56602ba4a3a257e4e05b"
   }
  }
 },
 "nbformat": 4,
 "nbformat_minor": 1
}
