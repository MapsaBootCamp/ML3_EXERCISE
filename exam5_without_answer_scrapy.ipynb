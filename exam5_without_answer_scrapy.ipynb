{
 "cells": [
  {
   "cell_type": "markdown",
   "metadata": {
    "id": "OPWpWSXHJTSz"
   },
   "source": [
    "write  scarp python file that crawl this address https://www.theguardian.com/theguardian/series/the-quiz-thomas-eaton question and answers in each url \n",
    "\n",
    "- all things should run within python running file without runnig linux command\n",
    "- contents should save in csv file \n",
    "\n",
    "** look at csv_file to better understanding"
   ]
  },
  {
   "cell_type": "markdown",
   "metadata": {
    "id": "5h2BXTmGLnWp"
   },
   "source": [
    "### review\n"
   ]
  },
  {
   "cell_type": "markdown",
   "metadata": {
    "id": "z3S3qRThKz8Z"
   },
   "source": [
    "write linux command to run postgress docker with volume username password as environments and runs on port 5432\n",
    "\n",
    "after running it show containers and images that are running on your machine and past the screenshot of them here"
   ]
  }
 ],
 "metadata": {
  "colab": {
   "provenance": []
  },
  "kernelspec": {
   "display_name": "Python 3 (ipykernel)",
   "language": "python",
   "name": "python3"
  },
  "language_info": {
   "name": "python"
  }
 },
 "nbformat": 4,
 "nbformat_minor": 1
}
