{
 "cells": [
  {
   "cell_type": "markdown",
   "metadata": {
    "id": "OPWpWSXHJTSz"
   },
   "source": [
    "write  scarp python file that crawl this address https://www.theguardian.com/theguardian/series/the-quiz-thomas-eaton question and answers in each url \n",
    "\n",
    "- all things should run within python running file without runnig linux command\n",
    "- contents should save in csv file \n",
    "\n",
    "** look at csv_file to better understanding"
   ]
  },
  {
   "cell_type": "code",
   "execution_count": null,
   "metadata": {},
   "outputs": [],
   "source": [
    "import scrapy\n",
    "\n",
    "\n",
    "class TheSpider(scrapy.Spider):\n",
    "    name = 'the'\n",
    "    allowed_domains = ['www.theguardian.com']\n",
    "    start_urls = ['http://www.theguardian.com/']\n",
    "\n",
    "    def parse(self, response):\n",
    "        re = response.css(\"div.fc-item__container\").getall()\n",
    "        for item in re:\n",
    "            result = item.css(p.dcr-1b64dqh)\n",
    "            yield result\n"
   ]
  },
  {
   "cell_type": "markdown",
   "metadata": {
    "id": "5h2BXTmGLnWp"
   },
   "source": [
    "### review\n"
   ]
  },
  {
   "cell_type": "markdown",
   "metadata": {
    "id": "z3S3qRThKz8Z"
   },
   "source": [
    "write linux command to run postgress docker with volume username password as environments and runs on port 5432\n",
    "\n",
    "after running it show containers and images that are running on your machine and past the screenshot of them here"
   ]
  },
  {
   "cell_type": "markdown",
   "metadata": {},
   "source": [
    "استاد من دستورش رو زدم\n",
    "docker run --name exam5 -e POSTGRES_USER=maryam -e POSTGRES_PASSWORD=mapsa123 -p 5432:5432 -v /data:/var/lib/postgresql/data -d postgres\n",
    "                \n",
    "                \n",
    " ولی میگه پورت ۴۵۳۲ پر هست\n",
    "        \n",
    "docker ps کانتیر های در حال اجرا\n",
    "docker ps -a کانتینرهای ساخته شده\n",
    "        \n",
    "ساخته شده اما ران نشده چون پورت اشغال هست\n",
    "        \n",
    "برای خاموش کردنش باید \n",
    "netstat -vanp tcp | grep 4532\n",
    "sudo systemctl stop name\n",
    "\n",
    "رو بزنم که بیاد کجا اون پورت روشنه و من خاموش کنم اما نصب نیست میخوام نصب کنم \n",
    "sudo apt install net-tools\n",
    "رو میزنم میگه باید اپدیت کنی میگم چشم \n",
    "sudo apt-get update\n",
    "که میزنم انجام نمیشه  \n",
    "vpn\n",
    "ام امروز کار نمیکنه\n",
    "و ابونوتو اپدیت نمیشه چون اینجا ایرانه \n",
    ":(\n"
   ]
  },
  {
   "cell_type": "code",
   "execution_count": null,
   "metadata": {},
   "outputs": [],
   "source": [
    "cmos@cmos-HP-ProBook-4540s:~$ docker run --name exam5 -e POSTGRES_USER=maryam -e POSTGRES_PASSWORD=mapsa123 -p 5432:5432 -v /data:/var/lib/postgresql/data -d postgres\n",
    "ae9dd44876d9a878ff4606a36dff5dda2d2cc5ffea44451cb6fe5c1be698e3c3\n",
    "docker: Error response from daemon: driver failed programming external connectivity on endpoint exam5 (a248f3bc3b52a9b0c3ae50cdf53b7aed28a61a855e3438be623d92e6b768d814): Error starting userland proxy: listen tcp4 0.0.0.0:5432: bind: address already in use.\n",
    "cmos@cmos-HP-ProBook-4540s:~$ docker ps\n",
    "CONTAINER ID   IMAGE     COMMAND   CREATED   STATUS    PORTS     NAMES\n",
    "cmos@cmos-HP-ProBook-4540s:~$ docker ps -a\n",
    "CONTAINER ID   IMAGE         COMMAND                  CREATED          STATUS                  PORTS     NAMES\n",
    "ae9dd44876d9   postgres      \"docker-entrypoint.s…\"   20 seconds ago   Created                           exam5\n",
    "47511cbc0cdc   postgres      \"docker-entrypoint.s…\"   3 days ago       Exited (1) 3 days ago             flamboyant_beaver\n",
    "8878a0ea539b   hello-world   \"/hello\"                 3 days ago       Exited (0) 3 days ago             compassionate_montalcini\n",
    "cmos@cmos-HP-ProBook-4540s:~$ netstat -vanp tcp | grep 4532\n",
    "Command 'netstat' not found, but can be installed with:\n",
    "sudo apt install net-tools\n",
    "cmos@cmos-HP-ProBook-4540s:~$ sudo apt install net-tools\n",
    "Reading package lists... Done\n",
    "Building dependency tree... Done\n",
    "Reading state information... Done\n",
    "The following NEW packages will be installed:\n",
    "  net-tools\n",
    "0 upgraded, 1 newly installed, 0 to remove and 0 not upgraded.\n",
    "Need to get 204 kB of archives.\n",
    "After this operation, 819 kB of additional disk space will be used.\n",
    "Ign:1 http://ir.archive.ubuntu.com/ubuntu jammy/main amd64 net-tools amd64 1.60+git20181103.0eebece-1ubuntu5\n",
    "Err:1 http://archive.ubuntu.com/ubuntu jammy/main amd64 net-tools amd64 1.60+git20181103.0eebece-1ubuntu5\n",
    "  403  Forbidden [IP: 89.106.206.253 5555]\n",
    "E: Failed to fetch http://archive.ubuntu.com/ubuntu/pool/main/n/net-tools/net-tools_1.60%2bgit20181103.0eebece-1ubuntu5_amd64.deb  403  Forbidden [IP: 89.106.206.253 5555]\n",
    "E: Unable to fetch some archives, maybe run apt-get update or try with --fix-missing?\n",
    "cmos@cmos-HP-ProBook-4540s:~$ sudo apt-get update\n",
    "Ign:1 https://dl.google.com/linux/chrome/deb stable InRelease\n",
    "Err:2 http://archive.ubuntu.com/ubuntu jammy InRelease                                                                                       \n",
    "  403  Forbidden [IP: 89.106.206.253 5555]\n",
    "Err:3 http://security.ubuntu.com/ubuntu jammy-security InRelease                                                                             \n",
    "  403  Forbidden [IP: 89.106.206.253 5555]\n",
    "Err:4 http://ir.archive.ubuntu.com/ubuntu jammy InRelease                                                                    \n",
    "  403  Forbidden [IP: 89.106.206.253 5555]\n",
    "Err:5 http://apt.postgresql.org/pub/repos/apt jammy-pgdg InRelease                                                           \n",
    "  403  Forbidden [IP: 89.106.206.253 5555]\n",
    "Err:6 http://archive.ubuntu.com/ubuntu jammy-updates InRelease                                         \n",
    "  403  Forbidden [IP: 89.106.206.253 5555]\n",
    "Err:7 http://ir.archive.ubuntu.com/ubuntu jammy-updates InRelease                                      \n",
    "  403  Forbidden [IP: 89.106.206.253 5555]\n",
    "Err:8 http://ir.archive.ubuntu.com/ubuntu jammy-backports InRelease              \n",
    "  403  Forbidden [IP: 89.106.206.253 5555]\n",
    "Hit:9 https://download.docker.com/linux/ubuntu focal InRelease\n",
    "Hit:10 https://download.docker.com/linux/ubuntu jammy InRelease\n",
    "Ign:1 https://dl.google.com/linux/chrome/deb stable InRelease\n",
    "Ign:1 https://dl.google.com/linux/chrome/deb stable InRelease\n",
    "Err:1 https://dl.google.com/linux/chrome/deb stable InRelease\n",
    "  Invalid response from proxy: HTTP/1.1 403 Forbidden  Server: squid/4.6  Mime-Version: 1.0  Date: Fri, 16 Dec 2022 09:50:11 GMT  Content-Type: text/html;charset=utf-8  Content-Length: 3515  X-Squid-Error: ERR_ACCESS_DENIED 0  Vary: Accept-Language  Content-Language: en  X-Cache: MISS from vm4439876538.bitcommand.com  X-Cache-Lookup: NONE from vm4439876538.bitcommand.com:5555  Connection: keep-alive     [IP: 89.106.206.253 5555]\n",
    "Reading package lists... Done\n",
    "N: See apt-secure(8) manpage for repository creation and user configuration details.\n",
    "N: Updating from such a repository can't be done securely, and is therefore disabled by default.\n",
    "E: The repository 'http://archive.ubuntu.com/ubuntu jammy InRelease' is no longer signed.\n",
    "E: Failed to fetch http://archive.ubuntu.com/ubuntu/dists/jammy/InRelease  403  Forbidden [IP: 89.106.206.253 5555]\n",
    "N: See apt-secure(8) manpage for repository creation and user configuration details.\n",
    "N: Updating from such a repository can't be done securely, and is therefore disabled by default.\n",
    "E: The repository 'http://security.ubuntu.com/ubuntu jammy-security InRelease' is no longer signed.\n",
    "E: Failed to fetch http://security.ubuntu.com/ubuntu/dists/jammy-security/InRelease  403  Forbidden [IP: 89.106.206.253 5555]\n",
    "N: See apt-secure(8) manpage for repository creation and user configuration details.\n",
    "N: Updating from such a repository can't be done securely, and is therefore disabled by default.\n",
    "E: The repository 'http://ir.archive.ubuntu.com/ubuntu jammy InRelease' is no longer signed.\n",
    "E: Failed to fetch http://ir.archive.ubuntu.com/ubuntu/dists/jammy/InRelease  403  Forbidden [IP: 89.106.206.253 5555]\n",
    "N: See apt-secure(8) manpage for repository creation and user configuration details.\n",
    "N: Updating from such a repository can't be done securely, and is therefore disabled by default.\n",
    "E: The repository 'http://apt.postgresql.org/pub/repos/apt jammy-pgdg InRelease' is no longer signed.\n",
    "E: Failed to fetch http://apt.postgresql.org/pub/repos/apt/dists/jammy-pgdg/InRelease  403  Forbidden [IP: 89.106.206.253 5555]\n",
    "N: See apt-secure(8) manpage for repository creation and user configuration details.\n",
    "N: Updating from such a repository can't be done securely, and is therefore disabled by default.\n",
    "E: The repository 'http://archive.ubuntu.com/ubuntu jammy-updates InRelease' is no longer signed.\n",
    "E: Failed to fetch http://archive.ubuntu.com/ubuntu/dists/jammy-updates/InRelease  403  Forbidden [IP: 89.106.206.253 5555]\n",
    "E: Failed to fetch http://ir.archive.ubuntu.com/ubuntu/dists/jammy-updates/InRelease  403  Forbidden [IP: 89.106.206.253 5555]\n",
    "E: The repository 'http://ir.archive.ubuntu.com/ubuntu jammy-updates InRelease' is no longer signed.\n",
    "N: Updating from such a repository can't be done securely, and is therefore disabled by default.\n",
    "N: See apt-secure(8) manpage for repository creation and user configuration details.\n",
    "E: Failed to fetch http://ir.archive.ubuntu.com/ubuntu/dists/jammy-backports/InRelease  403  Forbidden [IP: 89.106.206.253 5555]\n",
    "E: The repository 'http://ir.archive.ubuntu.com/ubuntu jammy-backports InRelease' is no longer signed.\n",
    "N: Updating from such a repository can't be done securely, and is therefore disabled by default.\n",
    "N: See apt-secure(8) manpage for repository creation and user configuration details.\n",
    "W: https://download.docker.com/linux/ubuntu/dists/focal/InRelease: Key is stored in legacy trusted.gpg keyring (/etc/apt/trusted.gpg), see the DEPRECATION section in apt-key(8) for details.\n",
    "W: Target Packages (main/binary-amd64/Packages) is configured multiple times in /etc/apt/sources.list:40 and /etc/apt/sources.list:54\n",
    "W: Target Packages (main/binary-i386/Packages) is configured multiple times in /etc/apt/sources.list:40 and /etc/apt/sources.list:54\n",
    "W: Target Packages (main/binary-all/Packages) is configured multiple times in /etc/apt/sources.list:40 and /etc/apt/sources.list:54\n",
    "W: Target Translations (main/i18n/Translation-en_US) is configured multiple times in /etc/apt/sources.list:40 and /etc/apt/sources.list:54\n",
    "W: Target Translations (main/i18n/Translation-en) is configured multiple times in /etc/apt/sources.list:40 and /etc/apt/sources.list:54\n",
    "W: Target DEP-11 (main/dep11/Components-amd64.yml) is configured multiple times in /etc/apt/sources.list:40 and /etc/apt/sources.list:54\n",
    "W: Target DEP-11 (main/dep11/Components-all.yml) is configured multiple times in /etc/apt/sources.list:40 and /etc/apt/sources.list:54\n",
    "W: Target DEP-11-icons-small (main/dep11/icons-48x48.tar) is configured multiple times in /etc/apt/sources.list:40 and /etc/apt/sources.list:54\n",
    "W: Target DEP-11-icons (main/dep11/icons-64x64.tar) is configured multiple times in /etc/apt/sources.list:40 and /etc/apt/sources.list:54\n",
    "W: Target DEP-11-icons-hidpi (main/dep11/icons-64x64@2.tar) is configured multiple times in /etc/apt/sources.list:40 and /etc/apt/sources.list:54\n",
    "W: Target CNF (main/cnf/Commands-amd64) is configured multiple times in /etc/apt/sources.list:40 and /etc/apt/sources.list:54\n",
    "W: Target CNF (main/cnf/Commands-all) is configured multiple times in /etc/apt/sources.list:40 and /etc/apt/sources.list:54\n",
    "W: Target Packages (restricted/binary-amd64/Packages) is configured multiple times in /etc/apt/sources.list:40 and /etc/apt/sources.list:54\n",
    "W: Target Packages (restricted/binary-i386/Packages) is configured multiple times in /etc/apt/sources.list:40 and /etc/apt/sources.list:54\n",
    "W: Target Packages (restricted/binary-all/Packages) is configured multiple times in /etc/apt/sources.list:40 and /etc/apt/sources.list:54\n",
    "W: Target Translations (restricted/i18n/Translation-en_US) is configured multiple times in /etc/apt/sources.list:40 and /etc/apt/sources.list:54\n",
    "W: Target Translations (restricted/i18n/Translation-en) is configured multiple times in /etc/apt/sources.list:40 and /etc/apt/sources.list:54\n",
    "W: Target DEP-11 (restricted/dep11/Components-amd64.yml) is configured multiple times in /etc/apt/sources.list:40 and /etc/apt/sources.list:54\n",
    "W: Target DEP-11 (restricted/dep11/Components-all.yml) is configured multiple times in /etc/apt/sources.list:40 and /etc/apt/sources.list:54\n",
    "W: Target DEP-11-icons-small (restricted/dep11/icons-48x48.tar) is configured multiple times in /etc/apt/sources.list:40 and /etc/apt/sources.list:54\n",
    "W: Target DEP-11-icons (restricted/dep11/icons-64x64.tar) is configured multiple times in /etc/apt/sources.list:40 and /etc/apt/sources.list:54\n",
    "W: Target DEP-11-icons-hidpi (restricted/dep11/icons-64x64@2.tar) is configured multiple times in /etc/apt/sources.list:40 and /etc/apt/sources.list:54\n",
    "W: Target CNF (restricted/cnf/Commands-amd64) is configured multiple times in /etc/apt/sources.list:40 and /etc/apt/sources.list:54\n",
    "W: Target CNF (restricted/cnf/Commands-all) is configured multiple times in /etc/apt/sources.list:40 and /etc/apt/sources.list:54\n"
   ]
  }
 ],
 "metadata": {
  "colab": {
   "provenance": []
  },
  "kernelspec": {
   "display_name": "Python 3 (ipykernel)",
   "language": "python",
   "name": "python3"
  },
  "language_info": {
   "codemirror_mode": {
    "name": "ipython",
    "version": 3
   },
   "file_extension": ".py",
   "mimetype": "text/x-python",
   "name": "python",
   "nbconvert_exporter": "python",
   "pygments_lexer": "ipython3",
   "version": "3.10.6"
  }
 },
 "nbformat": 4,
 "nbformat_minor": 1
}
