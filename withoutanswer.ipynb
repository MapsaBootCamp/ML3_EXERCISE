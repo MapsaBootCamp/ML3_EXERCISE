{
  "cells": [
    {
      "cell_type": "markdown",
      "metadata": {
        "id": "wrURYh0RF7Qc"
      },
      "source": [
        "روی دیتای\n",
        "\n",
        "cardio_train1\n",
        "\n",
        "شبکه عمیق خود را به صورت های\n",
        "\n",
        "sequentional functional classbase\n",
        "\n",
        "و تیون کردن هایپر پارمتر ها ترین کنید\n",
        "\n",
        "1- حتما تنسور بورد داشته باشد و به صورت یک لینک داده شود\n",
        "\n",
        "2-EarlyStopping\n",
        "\n",
        "3-  در ابتدای هر ایپاک شماره ایپاک و مقدار لاس را در متن زیر پرینت کند\n",
        "\n",
        "in ... epoch loss is ...\n"
      ]
    },
    {
      "cell_type": "code",
      "execution_count": 32,
      "metadata": {},
      "outputs": [],
      "source": [
        "import pandas as pd\n",
        "import numpy as np\n",
        "import datetime"
      ]
    },
    {
      "cell_type": "code",
      "execution_count": 8,
      "metadata": {},
      "outputs": [],
      "source": [
        "df= pd.read_csv('cardio_train1.csv',index_col='id')\n",
        "\n"
      ]
    },
    {
      "cell_type": "code",
      "execution_count": 12,
      "metadata": {},
      "outputs": [
        {
          "data": {
            "text/plain": [
              "False"
            ]
          },
          "execution_count": 12,
          "metadata": {},
          "output_type": "execute_result"
        }
      ],
      "source": [
        "df.isnull().values.any()"
      ]
    },
    {
      "cell_type": "code",
      "execution_count": 14,
      "metadata": {},
      "outputs": [
        {
          "name": "stdout",
          "output_type": "stream",
          "text": [
            "<class 'pandas.core.frame.DataFrame'>\n",
            "Int64Index: 70000 entries, 0 to 99999\n",
            "Data columns (total 12 columns):\n",
            " #   Column       Non-Null Count  Dtype  \n",
            "---  ------       --------------  -----  \n",
            " 0   age          70000 non-null  int64  \n",
            " 1   gender       70000 non-null  int64  \n",
            " 2   height       70000 non-null  int64  \n",
            " 3   weight       70000 non-null  float64\n",
            " 4   ap_hi        70000 non-null  int64  \n",
            " 5   ap_lo        70000 non-null  int64  \n",
            " 6   cholesterol  70000 non-null  int64  \n",
            " 7   gluc         70000 non-null  int64  \n",
            " 8   smoke        70000 non-null  int64  \n",
            " 9   alco         70000 non-null  int64  \n",
            " 10  active       70000 non-null  int64  \n",
            " 11  cardio       70000 non-null  int64  \n",
            "dtypes: float64(1), int64(11)\n",
            "memory usage: 6.9 MB\n"
          ]
        }
      ],
      "source": [
        "df.info()"
      ]
    },
    {
      "cell_type": "code",
      "execution_count": 27,
      "metadata": {},
      "outputs": [],
      "source": [
        "from sklearn.model_selection import train_test_split\n",
        "from sklearn.preprocessing import StandardScaler\n",
        "scaler = StandardScaler()\n",
        "\n",
        "X= df.iloc[:,:-1].values\n",
        "Y=df.iloc[:,-1].values\n",
        "X=scaler.fit_transform(X)\n",
        "X_train, X_test, y_train, y_test = train_test_split( X, Y, test_size=0.33, random_state=42)\n",
        "X_val, X_test, y_val, y_test = train_test_split( X_test, y_test, test_size=0.33, random_state=42)\n",
        "\n",
        "\n",
        "\n"
      ]
    },
    {
      "cell_type": "code",
      "execution_count": 28,
      "metadata": {},
      "outputs": [],
      "source": [
        "import tensorflow as tf \n",
        "\n"
      ]
    },
    {
      "cell_type": "code",
      "execution_count": 30,
      "metadata": {},
      "outputs": [
        {
          "name": "stdout",
          "output_type": "stream",
          "text": [
            "Metal device set to: Apple M2 Pro\n",
            "\n",
            "systemMemory: 16.00 GB\n",
            "maxCacheSize: 5.33 GB\n",
            "\n"
          ]
        },
        {
          "name": "stderr",
          "output_type": "stream",
          "text": [
            "2023-03-03 18:25:33.288265: I tensorflow/core/common_runtime/pluggable_device/pluggable_device_factory.cc:306] Could not identify NUMA node of platform GPU ID 0, defaulting to 0. Your kernel may not have been built with NUMA support.\n",
            "2023-03-03 18:25:33.288773: I tensorflow/core/common_runtime/pluggable_device/pluggable_device_factory.cc:272] Created TensorFlow device (/job:localhost/replica:0/task:0/device:GPU:0 with 0 MB memory) -> physical PluggableDevice (device: 0, name: METAL, pci bus id: <undefined>)\n"
          ]
        }
      ],
      "source": [
        "tf.random.set_seed(42)\n",
        "model= tf.keras.Sequential([tf.keras.layers.Dense(300,activation='relu'),tf.keras.layers.Dense(150,activation='relu'),tf.keras.layers.Dense(2,activation='softmax')])"
      ]
    },
    {
      "cell_type": "code",
      "execution_count": 37,
      "metadata": {},
      "outputs": [],
      "source": [
        "class LossAndErrorPrintingCallback(tf.keras.callbacks.Callback):\n",
        "    def on_epoch_end(self, epoch, logs=None):\n",
        "        print(\n",
        "            \"The  loss for epoch {} is {:7.2f} \".format(\n",
        "                epoch, logs[\"loss\"]\n",
        "            ))"
      ]
    },
    {
      "cell_type": "code",
      "execution_count": 39,
      "metadata": {},
      "outputs": [
        {
          "name": "stdout",
          "output_type": "stream",
          "text": [
            "Epoch 1/10\n"
          ]
        },
        {
          "name": "stderr",
          "output_type": "stream",
          "text": [
            "2023-03-03 18:46:50.833394: I tensorflow/core/grappler/optimizers/custom_graph_optimizer_registry.cc:114] Plugin optimizer for device_type GPU is enabled.\n"
          ]
        },
        {
          "name": "stdout",
          "output_type": "stream",
          "text": [
            "1466/1466 [==============================] - ETA: 0s - loss: 0.6321 - accuracy: 0.6441"
          ]
        },
        {
          "name": "stderr",
          "output_type": "stream",
          "text": [
            "2023-03-03 18:46:58.875122: I tensorflow/core/grappler/optimizers/custom_graph_optimizer_registry.cc:114] Plugin optimizer for device_type GPU is enabled.\n"
          ]
        },
        {
          "name": "stdout",
          "output_type": "stream",
          "text": [
            "The  loss for epoch 0 is    0.63 \n",
            "1466/1466 [==============================] - 10s 6ms/step - loss: 0.6321 - accuracy: 0.6441 - val_loss: 0.6191 - val_accuracy: 0.6537\n",
            "Epoch 2/10\n",
            "1466/1466 [==============================] - ETA: 0s - loss: 0.6186 - accuracy: 0.6586The  loss for epoch 1 is    0.62 \n",
            "1466/1466 [==============================] - 9s 6ms/step - loss: 0.6186 - accuracy: 0.6586 - val_loss: 0.6092 - val_accuracy: 0.6663\n",
            "Epoch 3/10\n",
            "1458/1466 [============================>.] - ETA: 0s - loss: 0.6081 - accuracy: 0.6696The  loss for epoch 2 is    0.61 \n",
            "1466/1466 [==============================] - 9s 6ms/step - loss: 0.6082 - accuracy: 0.6695 - val_loss: 0.5991 - val_accuracy: 0.6802\n",
            "Epoch 4/10\n",
            "1459/1466 [============================>.] - ETA: 0s - loss: 0.5960 - accuracy: 0.6879The  loss for epoch 3 is    0.60 \n",
            "1466/1466 [==============================] - 9s 6ms/step - loss: 0.5959 - accuracy: 0.6880 - val_loss: 0.5842 - val_accuracy: 0.7020\n",
            "Epoch 5/10\n",
            "1461/1466 [============================>.] - ETA: 0s - loss: 0.5824 - accuracy: 0.7063The  loss for epoch 4 is    0.58 \n",
            "1466/1466 [==============================] - 9s 6ms/step - loss: 0.5823 - accuracy: 0.7065 - val_loss: 0.5709 - val_accuracy: 0.7137\n",
            "Epoch 6/10\n",
            "1463/1466 [============================>.] - ETA: 0s - loss: 0.5721 - accuracy: 0.7182The  loss for epoch 5 is    0.57 \n",
            "1466/1466 [==============================] - 9s 6ms/step - loss: 0.5721 - accuracy: 0.7182 - val_loss: 0.5642 - val_accuracy: 0.7227\n",
            "Epoch 7/10\n",
            "1461/1466 [============================>.] - ETA: 0s - loss: 0.5663 - accuracy: 0.7213The  loss for epoch 6 is    0.57 \n",
            "1466/1466 [==============================] - 9s 6ms/step - loss: 0.5663 - accuracy: 0.7213 - val_loss: 0.5587 - val_accuracy: 0.7322\n",
            "Epoch 8/10\n",
            "1465/1466 [============================>.] - ETA: 0s - loss: 0.5623 - accuracy: 0.7263The  loss for epoch 7 is    0.56 \n",
            "1466/1466 [==============================] - 9s 6ms/step - loss: 0.5623 - accuracy: 0.7263 - val_loss: 0.5606 - val_accuracy: 0.7295\n",
            "Epoch 9/10\n",
            "1461/1466 [============================>.] - ETA: 0s - loss: 0.5610 - accuracy: 0.7262The  loss for epoch 8 is    0.56 \n",
            "1466/1466 [==============================] - 9s 6ms/step - loss: 0.5609 - accuracy: 0.7263 - val_loss: 0.5568 - val_accuracy: 0.7352\n",
            "Epoch 10/10\n",
            "1461/1466 [============================>.] - ETA: 0s - loss: 0.5600 - accuracy: 0.7286The  loss for epoch 9 is    0.56 \n",
            "1466/1466 [==============================] - 9s 6ms/step - loss: 0.5599 - accuracy: 0.7288 - val_loss: 0.5587 - val_accuracy: 0.7307\n"
          ]
        },
        {
          "data": {
            "text/plain": [
              "<keras.callbacks.History at 0x2bb1b3f70>"
            ]
          },
          "execution_count": 39,
          "metadata": {},
          "output_type": "execute_result"
        }
      ],
      "source": [
        "model.compile(loss='sparse_categorical_crossentropy',optimizer='sgd',metrics=['accuracy'])\n",
        "callback = tf.keras.callbacks.EarlyStopping(monitor='loss', patience=2)\n",
        "log_dir = \"logs/fit/\" + datetime.datetime.now().strftime(\"%Y%m%d-%H%M%S\")\n",
        "tensorboard_callback = tf.keras.callbacks.TensorBoard(log_dir=log_dir, histogram_freq=1)\n",
        "model.fit(X_train,y_train,epochs=10,validation_data=(X_val,y_val), callbacks=[callback,LossAndErrorPrintingCallback()])"
      ]
    },
    {
      "cell_type": "code",
      "execution_count": 41,
      "metadata": {},
      "outputs": [
        {
          "name": "stdout",
          "output_type": "stream",
          "text": [
            "Epoch 1/30\n",
            "   1/1466 [..............................] - ETA: 7:31 - loss: 2.4016 - accuracy: 0.0000e+00"
          ]
        },
        {
          "name": "stderr",
          "output_type": "stream",
          "text": [
            "2023-03-03 18:51:42.445332: I tensorflow/core/grappler/optimizers/custom_graph_optimizer_registry.cc:114] Plugin optimizer for device_type GPU is enabled.\n"
          ]
        },
        {
          "name": "stdout",
          "output_type": "stream",
          "text": [
            "1466/1466 [==============================] - ETA: 0s - loss: 0.7054 - accuracy: 0.6413"
          ]
        },
        {
          "name": "stderr",
          "output_type": "stream",
          "text": [
            "2023-03-03 18:51:50.900362: I tensorflow/core/grappler/optimizers/custom_graph_optimizer_registry.cc:114] Plugin optimizer for device_type GPU is enabled.\n"
          ]
        },
        {
          "name": "stdout",
          "output_type": "stream",
          "text": [
            "The  loss for epoch 0 is    0.71 \n",
            "1466/1466 [==============================] - 10s 7ms/step - loss: 0.7054 - accuracy: 0.6413 - val_loss: 0.6214 - val_accuracy: 0.6559\n",
            "Epoch 2/30\n",
            "1459/1466 [============================>.] - ETA: 0s - loss: 0.6202 - accuracy: 0.6611The  loss for epoch 1 is    0.62 \n",
            "1466/1466 [==============================] - 10s 7ms/step - loss: 0.6202 - accuracy: 0.6608 - val_loss: 0.6074 - val_accuracy: 0.6735\n",
            "Epoch 3/30\n",
            "1460/1466 [============================>.] - ETA: 0s - loss: 0.6074 - accuracy: 0.6759The  loss for epoch 2 is    0.61 \n",
            "1466/1466 [==============================] - 10s 7ms/step - loss: 0.6077 - accuracy: 0.6759 - val_loss: 0.5960 - val_accuracy: 0.6907\n",
            "Epoch 4/30\n",
            "1465/1466 [============================>.] - ETA: 0s - loss: 0.5965 - accuracy: 0.6954The  loss for epoch 3 is    0.60 \n",
            "1466/1466 [==============================] - 10s 7ms/step - loss: 0.5964 - accuracy: 0.6954 - val_loss: 0.5841 - val_accuracy: 0.7052\n",
            "Epoch 5/30\n",
            "1460/1466 [============================>.] - ETA: 0s - loss: 0.5866 - accuracy: 0.7062The  loss for epoch 4 is    0.59 \n",
            "1466/1466 [==============================] - 10s 7ms/step - loss: 0.5864 - accuracy: 0.7065 - val_loss: 0.5727 - val_accuracy: 0.7155\n",
            "Epoch 6/30\n",
            "1462/1466 [============================>.] - ETA: 0s - loss: 0.5791 - accuracy: 0.7153The  loss for epoch 5 is    0.58 \n",
            "1466/1466 [==============================] - 10s 7ms/step - loss: 0.5790 - accuracy: 0.7153 - val_loss: 0.5686 - val_accuracy: 0.7209\n",
            "Epoch 7/30\n",
            "1463/1466 [============================>.] - ETA: 0s - loss: 0.5743 - accuracy: 0.7189The  loss for epoch 6 is    0.57 \n",
            "1466/1466 [==============================] - 10s 7ms/step - loss: 0.5743 - accuracy: 0.7188 - val_loss: 0.5627 - val_accuracy: 0.7296\n",
            "Epoch 8/30\n",
            "1466/1466 [==============================] - ETA: 0s - loss: 0.5699 - accuracy: 0.7248The  loss for epoch 7 is    0.57 \n",
            "1466/1466 [==============================] - 10s 7ms/step - loss: 0.5699 - accuracy: 0.7248 - val_loss: 0.5636 - val_accuracy: 0.7302\n",
            "Epoch 9/30\n",
            "1461/1466 [============================>.] - ETA: 0s - loss: 0.5670 - accuracy: 0.7244The  loss for epoch 8 is    0.57 \n",
            "1466/1466 [==============================] - 10s 7ms/step - loss: 0.5668 - accuracy: 0.7245 - val_loss: 0.5617 - val_accuracy: 0.7315\n",
            "Epoch 10/30\n",
            "1458/1466 [============================>.] - ETA: 0s - loss: 0.5643 - accuracy: 0.7255The  loss for epoch 9 is    0.56 \n",
            "1466/1466 [==============================] - 10s 7ms/step - loss: 0.5642 - accuracy: 0.7255 - val_loss: 0.5605 - val_accuracy: 0.7320\n",
            "Epoch 11/30\n",
            "1466/1466 [==============================] - ETA: 0s - loss: 0.5633 - accuracy: 0.7269The  loss for epoch 10 is    0.56 \n",
            "1466/1466 [==============================] - 10s 7ms/step - loss: 0.5633 - accuracy: 0.7269 - val_loss: 0.5644 - val_accuracy: 0.7260\n",
            "Epoch 12/30\n",
            "1462/1466 [============================>.] - ETA: 0s - loss: 0.5621 - accuracy: 0.7246The  loss for epoch 11 is    0.56 \n",
            "1466/1466 [==============================] - 10s 7ms/step - loss: 0.5623 - accuracy: 0.7245 - val_loss: 0.5608 - val_accuracy: 0.7296\n",
            "Epoch 13/30\n",
            "1462/1466 [============================>.] - ETA: 0s - loss: 0.5607 - accuracy: 0.7270The  loss for epoch 12 is    0.56 \n",
            "1466/1466 [==============================] - 10s 7ms/step - loss: 0.5606 - accuracy: 0.7273 - val_loss: 0.5601 - val_accuracy: 0.7330\n",
            "Epoch 14/30\n",
            "1459/1466 [============================>.] - ETA: 0s - loss: 0.5594 - accuracy: 0.7283The  loss for epoch 13 is    0.56 \n",
            "1466/1466 [==============================] - 10s 7ms/step - loss: 0.5596 - accuracy: 0.7281 - val_loss: 0.5595 - val_accuracy: 0.7289\n",
            "Epoch 15/30\n",
            "1459/1466 [============================>.] - ETA: 0s - loss: 0.5596 - accuracy: 0.7292The  loss for epoch 14 is    0.56 \n",
            "1466/1466 [==============================] - 10s 7ms/step - loss: 0.5596 - accuracy: 0.7291 - val_loss: 0.5584 - val_accuracy: 0.7311\n",
            "Epoch 16/30\n",
            "1458/1466 [============================>.] - ETA: 0s - loss: 0.5590 - accuracy: 0.7304The  loss for epoch 15 is    0.56 \n",
            "1466/1466 [==============================] - 10s 7ms/step - loss: 0.5591 - accuracy: 0.7304 - val_loss: 0.5639 - val_accuracy: 0.7240\n",
            "Epoch 17/30\n",
            "1457/1466 [============================>.] - ETA: 0s - loss: 0.5580 - accuracy: 0.7294The  loss for epoch 16 is    0.56 \n",
            "1466/1466 [==============================] - 10s 7ms/step - loss: 0.5581 - accuracy: 0.7292 - val_loss: 0.5574 - val_accuracy: 0.7326\n",
            "Epoch 18/30\n",
            "1459/1466 [============================>.] - ETA: 0s - loss: 0.5578 - accuracy: 0.7292The  loss for epoch 17 is    0.56 \n",
            "1466/1466 [==============================] - 10s 7ms/step - loss: 0.5576 - accuracy: 0.7294 - val_loss: 0.5585 - val_accuracy: 0.7315\n",
            "Epoch 19/30\n",
            "1461/1466 [============================>.] - ETA: 0s - loss: 0.5573 - accuracy: 0.7306The  loss for epoch 18 is    0.56 \n",
            "1466/1466 [==============================] - 10s 7ms/step - loss: 0.5572 - accuracy: 0.7307 - val_loss: 0.5549 - val_accuracy: 0.7325\n",
            "Epoch 20/30\n",
            "1464/1466 [============================>.] - ETA: 0s - loss: 0.5558 - accuracy: 0.7293The  loss for epoch 19 is    0.56 \n",
            "1466/1466 [==============================] - 10s 7ms/step - loss: 0.5559 - accuracy: 0.7293 - val_loss: 0.5564 - val_accuracy: 0.7326\n",
            "Epoch 21/30\n",
            "1462/1466 [============================>.] - ETA: 0s - loss: 0.5567 - accuracy: 0.7301The  loss for epoch 20 is    0.56 \n",
            "1466/1466 [==============================] - 10s 7ms/step - loss: 0.5566 - accuracy: 0.7301 - val_loss: 0.5574 - val_accuracy: 0.7317\n",
            "Epoch 22/30\n",
            "1457/1466 [============================>.] - ETA: 0s - loss: 0.5551 - accuracy: 0.7305The  loss for epoch 21 is    0.55 \n",
            "1466/1466 [==============================] - 10s 7ms/step - loss: 0.5550 - accuracy: 0.7305 - val_loss: 0.5565 - val_accuracy: 0.7325\n",
            "Epoch 23/30\n",
            "1460/1466 [============================>.] - ETA: 0s - loss: 0.5542 - accuracy: 0.7328The  loss for epoch 22 is    0.55 \n",
            "1466/1466 [==============================] - 10s 7ms/step - loss: 0.5544 - accuracy: 0.7326 - val_loss: 0.5573 - val_accuracy: 0.7313\n",
            "Epoch 24/30\n",
            "1459/1466 [============================>.] - ETA: 0s - loss: 0.5537 - accuracy: 0.7314The  loss for epoch 23 is    0.55 \n",
            "1466/1466 [==============================] - 10s 7ms/step - loss: 0.5539 - accuracy: 0.7313 - val_loss: 0.5524 - val_accuracy: 0.7339\n",
            "Epoch 25/30\n",
            "1458/1466 [============================>.] - ETA: 0s - loss: 0.5533 - accuracy: 0.7316The  loss for epoch 24 is    0.55 \n",
            "1466/1466 [==============================] - 10s 7ms/step - loss: 0.5533 - accuracy: 0.7316 - val_loss: 0.5551 - val_accuracy: 0.7341\n",
            "Epoch 26/30\n",
            "1457/1466 [============================>.] - ETA: 0s - loss: 0.5540 - accuracy: 0.7314The  loss for epoch 25 is    0.55 \n",
            "1466/1466 [==============================] - 10s 7ms/step - loss: 0.5541 - accuracy: 0.7312 - val_loss: 0.5526 - val_accuracy: 0.7342\n",
            "Epoch 27/30\n",
            "1462/1466 [============================>.] - ETA: 0s - loss: 0.5527 - accuracy: 0.7313The  loss for epoch 26 is    0.55 \n",
            "1466/1466 [==============================] - 10s 7ms/step - loss: 0.5528 - accuracy: 0.7313 - val_loss: 0.5542 - val_accuracy: 0.7318\n",
            "Epoch 28/30\n",
            "1465/1466 [============================>.] - ETA: 0s - loss: 0.5523 - accuracy: 0.7326The  loss for epoch 27 is    0.55 \n",
            "1466/1466 [==============================] - 10s 7ms/step - loss: 0.5523 - accuracy: 0.7326 - val_loss: 0.5530 - val_accuracy: 0.7353\n",
            "Epoch 29/30\n",
            "1459/1466 [============================>.] - ETA: 0s - loss: 0.5517 - accuracy: 0.7328The  loss for epoch 28 is    0.55 \n",
            "1466/1466 [==============================] - 10s 7ms/step - loss: 0.5516 - accuracy: 0.7328 - val_loss: 0.5521 - val_accuracy: 0.7346\n",
            "Epoch 30/30\n",
            "1460/1466 [============================>.] - ETA: 0s - loss: 0.5511 - accuracy: 0.7325The  loss for epoch 29 is    0.55 \n",
            "1466/1466 [==============================] - 10s 7ms/step - loss: 0.5514 - accuracy: 0.7323 - val_loss: 0.5512 - val_accuracy: 0.7359\n"
          ]
        },
        {
          "data": {
            "text/plain": [
              "<keras.callbacks.History at 0x2bccbec80>"
            ]
          },
          "execution_count": 41,
          "metadata": {},
          "output_type": "execute_result"
        }
      ],
      "source": [
        "normaization_layer = tf.keras.layers.Normalization()\n",
        "hidden_1=tf.keras.layers.Dense(300,activation='relu')\n",
        "hidden_2=tf.keras.layers.Dense(250, activation='relu')\n",
        "concat_layer= tf.keras.layers.Concatenate()\n",
        "output_layer= tf.keras.layers.Dense(10,activation='softmax')\n",
        "input_=tf.keras.layers.Input(shape=X_train.shape[1])\n",
        "normalized = normaization_layer(input_)\n",
        "hidden1=hidden_1(normalized)\n",
        "hidden2=hidden_2(hidden1)\n",
        "concat=concat_layer([hidden1,hidden2])\n",
        "output=output_layer(concat)\n",
        "model=tf.keras.Model(inputs=[input_],outputs=[output])\n",
        "model.compile(loss='sparse_categorical_crossentropy',optimizer='sgd',metrics=['accuracy'])\n",
        "model.fit(X_train,y_train,epochs=30,validation_data=(X_val,y_val),callbacks=[callback,LossAndErrorPrintingCallback()])"
      ]
    },
    {
      "cell_type": "markdown",
      "metadata": {
        "id": "iQOlJypPLioI"
      },
      "source": [
        "linux\n",
        "\n",
        "1- با چه دستوری مسیر پایتون را پیدا کنیم\n",
        "\n",
        "\n",
        "\n",
        "2- با چه دستوری از نوع فایل مطمین میشبم\n",
        "\n",
        "\n",
        "\n",
        "3-منظور از اعداد نشان داده شده بعد از زدت دستور زیر چیست\n",
        "\n",
        "\n",
        "\n",
        "4- دستوری که دایرکتوری بسازد که درون آن یک دایرکتوری دیگر هم هست\n",
        "\n",
        "\n",
        "\n",
        "5- با چه دستوری فایل بالا را به صورت ریکرسیو پاک می کنید\n",
        "\n",
        "\n",
        "\n",
        "6- با چه کامتد هایی میتوان فایل را خواند \n",
        "\n",
        "\n",
        "\n",
        "7- برای تعقیب تعییرات یک فایل چه دستوری را پیشنهاد میدهید\n",
        "\n",
        "\n",
        "8- معادل دستورپرینت در بش چیست \n",
        "\n"
      ]
    },
    {
      "cell_type": "code",
      "execution_count": null,
      "metadata": {
        "id": "PauCK6aWR6uf"
      },
      "outputs": [],
      "source": []
    }
  ],
  "metadata": {
    "colab": {
      "provenance": []
    },
    "kernelspec": {
      "display_name": "venv",
      "language": "python",
      "name": "python3"
    },
    "language_info": {
      "codemirror_mode": {
        "name": "ipython",
        "version": 3
      },
      "file_extension": ".py",
      "mimetype": "text/x-python",
      "name": "python",
      "nbconvert_exporter": "python",
      "pygments_lexer": "ipython3",
      "version": "3.10.10"
    },
    "vscode": {
      "interpreter": {
        "hash": "c22530e0b1ca318992d343d6aa964ee37b54c469b5144527ce673786e01d07c1"
      }
    }
  },
  "nbformat": 4,
  "nbformat_minor": 0
}
