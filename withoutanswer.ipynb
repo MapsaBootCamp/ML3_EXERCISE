{
 "cells": [
  {
   "cell_type": "markdown",
   "metadata": {
    "id": "wrURYh0RF7Qc"
   },
   "source": [
    "روی دیتای\n",
    "\n",
    "cardio_train1\n",
    "\n",
    "شبکه عمیق خود را به صورت های\n",
    "\n",
    "sequentional functional classbase\n",
    "\n",
    "و تیون کردن هایپر پارمتر ها ترین کنید\n",
    "\n",
    "1- حتما تنسور بورد داشته باشد و به صورت یک لینک داده شود\n",
    "\n",
    "2-EarlyStopping\n",
    "\n",
    "3-  در ابتدای هر ایپاک شماره ایپاک و مقدار لاس را در متن زیر پرینت کند\n",
    "\n",
    "in ... epoch loss is ...\n"
   ]
  },
  {
   "cell_type": "code",
   "execution_count": 1,
   "metadata": {
    "tags": []
   },
   "outputs": [],
   "source": [
    "import warnings\n",
    "warnings.filterwarnings(\"ignore\")"
   ]
  },
  {
   "cell_type": "code",
   "execution_count": 16,
   "metadata": {
    "tags": []
   },
   "outputs": [],
   "source": [
    "import pandas as pd\n",
    "import numpy as np\n",
    "import matplotlib.pyplot as plt\n",
    "import seaborn as sns"
   ]
  },
  {
   "cell_type": "code",
   "execution_count": 95,
   "metadata": {
    "tags": []
   },
   "outputs": [],
   "source": [
    "import logging\n",
    "tf.get_logger().setLevel(logging.ERROR)\n",
    "from tensorflow.keras.models import Sequential\n",
    "import tensorflow as tf\n",
    "from tensorflow.keras.callbacks import TensorBoard\n",
    "from tensorflow.keras.layers import Dense,Dropout,Activation,Flatten\n",
    "from tensorflow.keras.utils import to_categorical\n",
    "from tensorflow.keras.optimizers import SGD,Adam\n",
    "from tensorflow.keras.metrics import categorical_crossentropy\n",
    "from keras.callbacks import EarlyStopping"
   ]
  },
  {
   "cell_type": "code",
   "execution_count": 390,
   "metadata": {
    "tags": []
   },
   "outputs": [
    {
     "data": {
      "text/html": [
       "<div>\n",
       "<style scoped>\n",
       "    .dataframe tbody tr th:only-of-type {\n",
       "        vertical-align: middle;\n",
       "    }\n",
       "\n",
       "    .dataframe tbody tr th {\n",
       "        vertical-align: top;\n",
       "    }\n",
       "\n",
       "    .dataframe thead th {\n",
       "        text-align: right;\n",
       "    }\n",
       "</style>\n",
       "<table border=\"1\" class=\"dataframe\">\n",
       "  <thead>\n",
       "    <tr style=\"text-align: right;\">\n",
       "      <th></th>\n",
       "      <th>id</th>\n",
       "      <th>age</th>\n",
       "      <th>gender</th>\n",
       "      <th>height</th>\n",
       "      <th>weight</th>\n",
       "      <th>ap_hi</th>\n",
       "      <th>ap_lo</th>\n",
       "      <th>cholesterol</th>\n",
       "      <th>gluc</th>\n",
       "      <th>smoke</th>\n",
       "      <th>alco</th>\n",
       "      <th>active</th>\n",
       "      <th>cardio</th>\n",
       "    </tr>\n",
       "  </thead>\n",
       "  <tbody>\n",
       "    <tr>\n",
       "      <th>0</th>\n",
       "      <td>0</td>\n",
       "      <td>18393</td>\n",
       "      <td>2</td>\n",
       "      <td>168</td>\n",
       "      <td>62.0</td>\n",
       "      <td>110</td>\n",
       "      <td>80</td>\n",
       "      <td>1</td>\n",
       "      <td>1</td>\n",
       "      <td>0</td>\n",
       "      <td>0</td>\n",
       "      <td>1</td>\n",
       "      <td>0</td>\n",
       "    </tr>\n",
       "    <tr>\n",
       "      <th>1</th>\n",
       "      <td>1</td>\n",
       "      <td>20228</td>\n",
       "      <td>1</td>\n",
       "      <td>156</td>\n",
       "      <td>85.0</td>\n",
       "      <td>140</td>\n",
       "      <td>90</td>\n",
       "      <td>3</td>\n",
       "      <td>1</td>\n",
       "      <td>0</td>\n",
       "      <td>0</td>\n",
       "      <td>1</td>\n",
       "      <td>1</td>\n",
       "    </tr>\n",
       "    <tr>\n",
       "      <th>2</th>\n",
       "      <td>2</td>\n",
       "      <td>18857</td>\n",
       "      <td>1</td>\n",
       "      <td>165</td>\n",
       "      <td>64.0</td>\n",
       "      <td>130</td>\n",
       "      <td>70</td>\n",
       "      <td>3</td>\n",
       "      <td>1</td>\n",
       "      <td>0</td>\n",
       "      <td>0</td>\n",
       "      <td>0</td>\n",
       "      <td>1</td>\n",
       "    </tr>\n",
       "    <tr>\n",
       "      <th>3</th>\n",
       "      <td>3</td>\n",
       "      <td>17623</td>\n",
       "      <td>2</td>\n",
       "      <td>169</td>\n",
       "      <td>82.0</td>\n",
       "      <td>150</td>\n",
       "      <td>100</td>\n",
       "      <td>1</td>\n",
       "      <td>1</td>\n",
       "      <td>0</td>\n",
       "      <td>0</td>\n",
       "      <td>1</td>\n",
       "      <td>1</td>\n",
       "    </tr>\n",
       "    <tr>\n",
       "      <th>4</th>\n",
       "      <td>4</td>\n",
       "      <td>17474</td>\n",
       "      <td>1</td>\n",
       "      <td>156</td>\n",
       "      <td>56.0</td>\n",
       "      <td>100</td>\n",
       "      <td>60</td>\n",
       "      <td>1</td>\n",
       "      <td>1</td>\n",
       "      <td>0</td>\n",
       "      <td>0</td>\n",
       "      <td>0</td>\n",
       "      <td>0</td>\n",
       "    </tr>\n",
       "  </tbody>\n",
       "</table>\n",
       "</div>"
      ],
      "text/plain": [
       "   id    age  gender  height  weight  ap_hi  ap_lo  cholesterol  gluc  smoke  \\\n",
       "0   0  18393       2     168    62.0    110     80            1     1      0   \n",
       "1   1  20228       1     156    85.0    140     90            3     1      0   \n",
       "2   2  18857       1     165    64.0    130     70            3     1      0   \n",
       "3   3  17623       2     169    82.0    150    100            1     1      0   \n",
       "4   4  17474       1     156    56.0    100     60            1     1      0   \n",
       "\n",
       "   alco  active  cardio  \n",
       "0     0       1       0  \n",
       "1     0       1       1  \n",
       "2     0       0       1  \n",
       "3     0       1       1  \n",
       "4     0       0       0  "
      ]
     },
     "execution_count": 390,
     "metadata": {},
     "output_type": "execute_result"
    }
   ],
   "source": [
    "df= pd.read_csv(\"cardio_train1.csv\")\n",
    "df.head()"
   ]
  },
  {
   "cell_type": "code",
   "execution_count": 391,
   "metadata": {
    "tags": []
   },
   "outputs": [],
   "source": [
    "df=df.drop(['id'],axis=1)"
   ]
  },
  {
   "cell_type": "code",
   "execution_count": 392,
   "metadata": {
    "tags": []
   },
   "outputs": [
    {
     "name": "stdout",
     "output_type": "stream",
     "text": [
      "<class 'pandas.core.frame.DataFrame'>\n",
      "RangeIndex: 70000 entries, 0 to 69999\n",
      "Data columns (total 12 columns):\n",
      " #   Column       Non-Null Count  Dtype  \n",
      "---  ------       --------------  -----  \n",
      " 0   age          70000 non-null  int64  \n",
      " 1   gender       70000 non-null  int64  \n",
      " 2   height       70000 non-null  int64  \n",
      " 3   weight       70000 non-null  float64\n",
      " 4   ap_hi        70000 non-null  int64  \n",
      " 5   ap_lo        70000 non-null  int64  \n",
      " 6   cholesterol  70000 non-null  int64  \n",
      " 7   gluc         70000 non-null  int64  \n",
      " 8   smoke        70000 non-null  int64  \n",
      " 9   alco         70000 non-null  int64  \n",
      " 10  active       70000 non-null  int64  \n",
      " 11  cardio       70000 non-null  int64  \n",
      "dtypes: float64(1), int64(11)\n",
      "memory usage: 6.4 MB\n"
     ]
    }
   ],
   "source": [
    "df.info()"
   ]
  },
  {
   "cell_type": "code",
   "execution_count": 393,
   "metadata": {
    "tags": []
   },
   "outputs": [
    {
     "data": {
      "image/png": "[encoded data removed]",
      "text/plain": [
       "<Figure size 900x500 with 11 Axes>"
      ]
     },
     "metadata": {},
     "output_type": "display_data"
    }
   ],
   "source": [
    "column=df.columns.drop(['cardio'])\n",
    "\n",
    "plt.figure(figsize=(9,5 ))\n",
    "no=0\n",
    "for col in column:\n",
    "    no+=1\n",
    "    plt.subplot(2,8,no)\n",
    "    plt.tight_layout()\n",
    "    # plt.axis('off')\n",
    "    sns.boxplot(y=df[col]) "
   ]
  },
  {
   "cell_type": "code",
   "execution_count": 394,
   "metadata": {
    "tags": []
   },
   "outputs": [
    {
     "data": {
      "text/html": [
       "<div>\n",
       "<style scoped>\n",
       "    .dataframe tbody tr th:only-of-type {\n",
       "        vertical-align: middle;\n",
       "    }\n",
       "\n",
       "    .dataframe tbody tr th {\n",
       "        vertical-align: top;\n",
       "    }\n",
       "\n",
       "    .dataframe thead th {\n",
       "        text-align: right;\n",
       "    }\n",
       "</style>\n",
       "<table border=\"1\" class=\"dataframe\">\n",
       "  <thead>\n",
       "    <tr style=\"text-align: right;\">\n",
       "      <th></th>\n",
       "      <th>index</th>\n",
       "      <th>age</th>\n",
       "      <th>gender</th>\n",
       "      <th>height</th>\n",
       "      <th>weight</th>\n",
       "      <th>ap_hi</th>\n",
       "      <th>ap_lo</th>\n",
       "      <th>cholesterol</th>\n",
       "      <th>gluc</th>\n",
       "      <th>smoke</th>\n",
       "      <th>alco</th>\n",
       "      <th>active</th>\n",
       "      <th>cardio</th>\n",
       "    </tr>\n",
       "  </thead>\n",
       "  <tbody>\n",
       "    <tr>\n",
       "      <th>count</th>\n",
       "      <td>68151.000000</td>\n",
       "      <td>68151.000000</td>\n",
       "      <td>68151.000000</td>\n",
       "      <td>68151.000000</td>\n",
       "      <td>68151.000000</td>\n",
       "      <td>68151.000000</td>\n",
       "      <td>68151.000000</td>\n",
       "      <td>68151.000000</td>\n",
       "      <td>68151.000000</td>\n",
       "      <td>68151.000000</td>\n",
       "      <td>68151.000000</td>\n",
       "      <td>68151.000000</td>\n",
       "      <td>68151.000000</td>\n",
       "    </tr>\n",
       "    <tr>\n",
       "      <th>mean</th>\n",
       "      <td>35002.223973</td>\n",
       "      <td>19461.846194</td>\n",
       "      <td>1.348036</td>\n",
       "      <td>164.424088</td>\n",
       "      <td>73.895565</td>\n",
       "      <td>126.316019</td>\n",
       "      <td>81.204986</td>\n",
       "      <td>1.362959</td>\n",
       "      <td>1.224604</td>\n",
       "      <td>0.087658</td>\n",
       "      <td>0.053088</td>\n",
       "      <td>0.803539</td>\n",
       "      <td>0.492553</td>\n",
       "    </tr>\n",
       "    <tr>\n",
       "      <th>std</th>\n",
       "      <td>20204.498124</td>\n",
       "      <td>2468.843863</td>\n",
       "      <td>0.476351</td>\n",
       "      <td>7.803836</td>\n",
       "      <td>13.817684</td>\n",
       "      <td>16.085418</td>\n",
       "      <td>9.268157</td>\n",
       "      <td>0.677766</td>\n",
       "      <td>0.570657</td>\n",
       "      <td>0.282799</td>\n",
       "      <td>0.224211</td>\n",
       "      <td>0.397324</td>\n",
       "      <td>0.499948</td>\n",
       "    </tr>\n",
       "    <tr>\n",
       "      <th>min</th>\n",
       "      <td>0.000000</td>\n",
       "      <td>10798.000000</td>\n",
       "      <td>1.000000</td>\n",
       "      <td>132.000000</td>\n",
       "      <td>21.000000</td>\n",
       "      <td>70.000000</td>\n",
       "      <td>40.000000</td>\n",
       "      <td>1.000000</td>\n",
       "      <td>1.000000</td>\n",
       "      <td>0.000000</td>\n",
       "      <td>0.000000</td>\n",
       "      <td>0.000000</td>\n",
       "      <td>0.000000</td>\n",
       "    </tr>\n",
       "    <tr>\n",
       "      <th>25%</th>\n",
       "      <td>17495.500000</td>\n",
       "      <td>17655.000000</td>\n",
       "      <td>1.000000</td>\n",
       "      <td>159.000000</td>\n",
       "      <td>65.000000</td>\n",
       "      <td>120.000000</td>\n",
       "      <td>80.000000</td>\n",
       "      <td>1.000000</td>\n",
       "      <td>1.000000</td>\n",
       "      <td>0.000000</td>\n",
       "      <td>0.000000</td>\n",
       "      <td>1.000000</td>\n",
       "      <td>0.000000</td>\n",
       "    </tr>\n",
       "    <tr>\n",
       "      <th>50%</th>\n",
       "      <td>35015.000000</td>\n",
       "      <td>19700.000000</td>\n",
       "      <td>1.000000</td>\n",
       "      <td>165.000000</td>\n",
       "      <td>72.000000</td>\n",
       "      <td>120.000000</td>\n",
       "      <td>80.000000</td>\n",
       "      <td>1.000000</td>\n",
       "      <td>1.000000</td>\n",
       "      <td>0.000000</td>\n",
       "      <td>0.000000</td>\n",
       "      <td>1.000000</td>\n",
       "      <td>0.000000</td>\n",
       "    </tr>\n",
       "    <tr>\n",
       "      <th>75%</th>\n",
       "      <td>52484.500000</td>\n",
       "      <td>21323.000000</td>\n",
       "      <td>2.000000</td>\n",
       "      <td>170.000000</td>\n",
       "      <td>82.000000</td>\n",
       "      <td>140.000000</td>\n",
       "      <td>90.000000</td>\n",
       "      <td>1.000000</td>\n",
       "      <td>1.000000</td>\n",
       "      <td>0.000000</td>\n",
       "      <td>0.000000</td>\n",
       "      <td>1.000000</td>\n",
       "      <td>1.000000</td>\n",
       "    </tr>\n",
       "    <tr>\n",
       "      <th>max</th>\n",
       "      <td>69999.000000</td>\n",
       "      <td>23713.000000</td>\n",
       "      <td>2.000000</td>\n",
       "      <td>196.000000</td>\n",
       "      <td>132.000000</td>\n",
       "      <td>185.000000</td>\n",
       "      <td>120.000000</td>\n",
       "      <td>3.000000</td>\n",
       "      <td>3.000000</td>\n",
       "      <td>1.000000</td>\n",
       "      <td>1.000000</td>\n",
       "      <td>1.000000</td>\n",
       "      <td>1.000000</td>\n",
       "    </tr>\n",
       "  </tbody>\n",
       "</table>\n",
       "</div>"
      ],
      "text/plain": [
       "              index           age        gender        height        weight  \\\n",
       "count  68151.000000  68151.000000  68151.000000  68151.000000  68151.000000   \n",
       "mean   35002.223973  19461.846194      1.348036    164.424088     73.895565   \n",
       "std    20204.498124   2468.843863      0.476351      7.803836     13.817684   \n",
       "min        0.000000  10798.000000      1.000000    132.000000     21.000000   \n",
       "25%    17495.500000  17655.000000      1.000000    159.000000     65.000000   \n",
       "50%    35015.000000  19700.000000      1.000000    165.000000     72.000000   \n",
       "75%    52484.500000  21323.000000      2.000000    170.000000     82.000000   \n",
       "max    69999.000000  23713.000000      2.000000    196.000000    132.000000   \n",
       "\n",
       "              ap_hi         ap_lo   cholesterol          gluc         smoke  \\\n",
       "count  68151.000000  68151.000000  68151.000000  68151.000000  68151.000000   \n",
       "mean     126.316019     81.204986      1.362959      1.224604      0.087658   \n",
       "std       16.085418      9.268157      0.677766      0.570657      0.282799   \n",
       "min       70.000000     40.000000      1.000000      1.000000      0.000000   \n",
       "25%      120.000000     80.000000      1.000000      1.000000      0.000000   \n",
       "50%      120.000000     80.000000      1.000000      1.000000      0.000000   \n",
       "75%      140.000000     90.000000      1.000000      1.000000      0.000000   \n",
       "max      185.000000    120.000000      3.000000      3.000000      1.000000   \n",
       "\n",
       "               alco        active        cardio  \n",
       "count  68151.000000  68151.000000  68151.000000  \n",
       "mean       0.053088      0.803539      0.492553  \n",
       "std        0.224211      0.397324      0.499948  \n",
       "min        0.000000      0.000000      0.000000  \n",
       "25%        0.000000      1.000000      0.000000  \n",
       "50%        0.000000      1.000000      0.000000  \n",
       "75%        0.000000      1.000000      1.000000  \n",
       "max        1.000000      1.000000      1.000000  "
      ]
     },
     "execution_count": 394,
     "metadata": {},
     "output_type": "execute_result"
    }
   ],
   "source": [
    "cols = ['age','height','weight','ap_hi','ap_lo']\n",
    "Q1=df.quantile(0.15)\n",
    "Q3=df.quantile(0.85)\n",
    "IQR=Q3-Q1\n",
    "df =df[ ~((df[cols] < (Q1 - 1.5 * IQR)) | (df[cols] > (Q3 + 1.5 * IQR))).any(axis=1)].reset_index()\n",
    "df.describe()\n",
    "\n"
   ]
  },
  {
   "cell_type": "code",
   "execution_count": 395,
   "metadata": {
    "tags": []
   },
   "outputs": [],
   "source": [
    "df=df.drop(['index'],axis=1)"
   ]
  },
  {
   "cell_type": "code",
   "execution_count": 396,
   "metadata": {
    "tags": []
   },
   "outputs": [
    {
     "data": {
      "text/plain": [
       "(68151, 12)"
      ]
     },
     "execution_count": 396,
     "metadata": {},
     "output_type": "execute_result"
    }
   ],
   "source": [
    "df.shape"
   ]
  },
  {
   "cell_type": "markdown",
   "metadata": {},
   "source": [
    "# Preparing to modeling"
   ]
  },
  {
   "cell_type": "code",
   "execution_count": 397,
   "metadata": {
    "tags": []
   },
   "outputs": [],
   "source": [
    "X=df.drop(['cardio'],axis=1).values\n",
    "y=df.filter(['cardio'],axis=1).values"
   ]
  },
  {
   "cell_type": "code",
   "execution_count": 398,
   "metadata": {
    "tags": []
   },
   "outputs": [],
   "source": [
    "from sklearn.preprocessing import StandardScaler\n",
    "stdsc = StandardScaler()\n",
    "X_train= stdsc.fit_transform(X)"
   ]
  },
  {
   "cell_type": "code",
   "execution_count": 399,
   "metadata": {
    "tags": []
   },
   "outputs": [],
   "source": [
    "X_val = X[45000:60000]\n",
    "y_val = y[45000:60000]\n",
    "X_train = X[:45000]\n",
    "y_train = y[:45000]\n",
    "X_test=X[60000:]\n",
    "y_test=y[60000:]"
   ]
  },
  {
   "cell_type": "code",
   "execution_count": 400,
   "metadata": {
    "tags": []
   },
   "outputs": [],
   "source": [
    "y_train = y_train.astype('uint8')"
   ]
  },
  {
   "cell_type": "markdown",
   "metadata": {},
   "source": [
    "# 1.Sequentional"
   ]
  },
  {
   "cell_type": "code",
   "execution_count": 401,
   "metadata": {
    "tags": []
   },
   "outputs": [],
   "source": [
    "early_stoping=EarlyStopping(monitor='loss', mode='max', verbose=1, patience=10)"
   ]
  },
  {
   "cell_type": "code",
   "execution_count": 405,
   "metadata": {
    "tags": []
   },
   "outputs": [],
   "source": [
    "tf.random.set_seed(42)\n",
    "model = keras.Sequential([\n",
    "layers.Dense(300, activation=\"relu\"),\n",
    "layers.Dense(100, activation=\"relu\"),\n",
    "layers.Dense(2,activation='softmax')\n",
    "])"
   ]
  },
  {
   "cell_type": "code",
   "execution_count": 406,
   "metadata": {
    "tags": []
   },
   "outputs": [],
   "source": [
    "model.compile(loss=\"sparse_categorical_crossentropy\",\n",
    "optimizer=\"Adam\",\n",
    "metrics=[\"accuracy\"])"
   ]
  },
  {
   "cell_type": "code",
   "execution_count": 407,
   "metadata": {
    "tags": []
   },
   "outputs": [
    {
     "name": "stdout",
     "output_type": "stream",
     "text": [
      "Epoch 1/20\n",
      "1407/1407 [==============================] - 7s 4ms/step - loss: 59.1780 - accuracy: 0.5070 - val_loss: 3.5609 - val_accuracy: 0.5298\n",
      "Epoch 2/20\n",
      "1407/1407 [==============================] - 6s 4ms/step - loss: 24.5334 - accuracy: 0.5164 - val_loss: 9.2367 - val_accuracy: 0.5078\n",
      "Epoch 3/20\n",
      "1407/1407 [==============================] - 6s 4ms/step - loss: 10.3386 - accuracy: 0.5317 - val_loss: 20.3677 - val_accuracy: 0.5078\n",
      "Epoch 4/20\n",
      "1407/1407 [==============================] - 6s 4ms/step - loss: 5.5834 - accuracy: 0.5564 - val_loss: 2.5264 - val_accuracy: 0.5447\n",
      "Epoch 5/20\n",
      "1407/1407 [==============================] - 6s 4ms/step - loss: 2.8680 - accuracy: 0.5781 - val_loss: 0.7660 - val_accuracy: 0.6993\n",
      "Epoch 6/20\n",
      "1407/1407 [==============================] - 6s 4ms/step - loss: 2.1128 - accuracy: 0.5889 - val_loss: 0.7142 - val_accuracy: 0.6897\n",
      "Epoch 7/20\n",
      "1407/1407 [==============================] - 6s 4ms/step - loss: 1.5325 - accuracy: 0.5910 - val_loss: 1.5040 - val_accuracy: 0.5151\n",
      "Epoch 8/20\n",
      "1407/1407 [==============================] - 6s 4ms/step - loss: 1.0569 - accuracy: 0.6088 - val_loss: 0.5864 - val_accuracy: 0.7093\n",
      "Epoch 9/20\n",
      "1407/1407 [==============================] - 6s 4ms/step - loss: 0.8406 - accuracy: 0.6114 - val_loss: 0.8762 - val_accuracy: 0.5440\n",
      "Epoch 10/20\n",
      "1407/1407 [==============================] - 6s 4ms/step - loss: 0.7271 - accuracy: 0.6166 - val_loss: 0.6423 - val_accuracy: 0.6253\n",
      "Epoch 11/20\n",
      "1407/1407 [==============================] - 6s 4ms/step - loss: 0.6569 - accuracy: 0.6304 - val_loss: 0.6939 - val_accuracy: 0.5512\n",
      "Epoch 11: early stopping\n"
     ]
    }
   ],
   "source": [
    "history = model.fit(X_train, y_train, epochs=20,\n",
    "validation_data=(X_val, y_val),callbacks=[early_stoping])\n"
   ]
  },
  {
   "cell_type": "code",
   "execution_count": 410,
   "metadata": {
    "tags": []
   },
   "outputs": [],
   "source": [
    "class PrintValTrainRatioCallback(tf.keras.callbacks.Callback):\n",
    "    def on_epoch_end(self, epoch, logs):\n",
    "        ratio = logs[\"loss\"]\n",
    "        print(f\"in Epoch={epoch}, the loss is={ratio:.2f}\")"
   ]
  },
  {
   "cell_type": "code",
   "execution_count": 426,
   "metadata": {
    "tags": []
   },
   "outputs": [
    {
     "name": "stdout",
     "output_type": "stream",
     "text": [
      "in Epoch=0, the loss is=0.69\n",
      "in Epoch=1, the loss is=0.69\n",
      "in Epoch=2, the loss is=0.69\n",
      "in Epoch=3, the loss is=0.69\n",
      "in Epoch=4, the loss is=0.69\n",
      "in Epoch=5, the loss is=0.69\n",
      "in Epoch=6, the loss is=0.69\n",
      "in Epoch=7, the loss is=0.69\n",
      "in Epoch=8, the loss is=0.69\n",
      "in Epoch=9, the loss is=0.69\n"
     ]
    }
   ],
   "source": [
    "val_train_ratio_cb = PrintValTrainRatioCallback()\n",
    "history = model.fit(\n",
    "    (X_train), (y_train), epochs=10,\n",
    "    validation_data=((X_val), (y_val)),\n",
    "    callbacks=[val_train_ratio_cb], verbose=0)"
   ]
  },
  {
   "cell_type": "markdown",
   "metadata": {},
   "source": [
    "# 2.functional"
   ]
  },
  {
   "cell_type": "code",
   "execution_count": 412,
   "metadata": {
    "tags": []
   },
   "outputs": [],
   "source": [
    "inputs = keras.Input(shape=(11,))"
   ]
  },
  {
   "cell_type": "code",
   "execution_count": 413,
   "metadata": {
    "tags": []
   },
   "outputs": [],
   "source": [
    "hidden1 = layers.Dense(300, activation=\"relu\")(inputs)\n",
    "hidden2 = layers.Dense(100, activation=\"relu\")(hidden1)\n",
    "hidden3 = layers.Dense(100, activation=\"relu\")(hidden2)\n",
    "concat = layers.concatenate([inputs, hidden3])\n",
    "outputs = layers.Dense(2, activation=\"softmax\")(concat)"
   ]
  },
  {
   "cell_type": "code",
   "execution_count": 414,
   "metadata": {
    "tags": []
   },
   "outputs": [],
   "source": [
    "model_F = keras.Model(inputs=inputs, outputs=outputs)\n"
   ]
  },
  {
   "cell_type": "code",
   "execution_count": 415,
   "metadata": {
    "tags": []
   },
   "outputs": [
    {
     "name": "stdout",
     "output_type": "stream",
     "text": [
      "Model: \"model\"\n",
      "__________________________________________________________________________________________________\n",
      " Layer (type)                   Output Shape         Param #     Connected to                     \n",
      "==================================================================================================\n",
      " input_1 (InputLayer)           [(None, 11)]         0           []                               \n",
      "                                                                                                  \n",
      " dense_7 (Dense)                (None, 300)          3600        ['input_1[0][0]']                \n",
      "                                                                                                  \n",
      " dense_8 (Dense)                (None, 100)          30100       ['dense_7[0][0]']                \n",
      "                                                                                                  \n",
      " dense_9 (Dense)                (None, 100)          10100       ['dense_8[0][0]']                \n",
      "                                                                                                  \n",
      " concatenate (Concatenate)      (None, 111)          0           ['input_1[0][0]',                \n",
      "                                                                  'dense_9[0][0]']                \n",
      "                                                                                                  \n",
      " dense_10 (Dense)               (None, 2)            224         ['concatenate[0][0]']            \n",
      "                                                                                                  \n",
      "==================================================================================================\n",
      "Total params: 44,024\n",
      "Trainable params: 44,024\n",
      "Non-trainable params: 0\n",
      "__________________________________________________________________________________________________\n"
     ]
    }
   ],
   "source": [
    "model_F.summary()"
   ]
  },
  {
   "cell_type": "code",
   "execution_count": 416,
   "metadata": {
    "tags": []
   },
   "outputs": [],
   "source": [
    "model_F.compile(loss=\"sparse_categorical_crossentropy\",\n",
    "optimizer=\"Adam\",\n",
    "metrics=[\"accuracy\"])"
   ]
  },
  {
   "cell_type": "code",
   "execution_count": 417,
   "metadata": {
    "tags": []
   },
   "outputs": [
    {
     "name": "stdout",
     "output_type": "stream",
     "text": [
      "Epoch 1/20\n",
      "1407/1407 [==============================] - 8s 5ms/step - loss: 34.1759 - accuracy: 0.4952 - val_loss: 8.4729 - val_accuracy: 0.4922\n",
      "Epoch 2/20\n",
      "1407/1407 [==============================] - 6s 4ms/step - loss: 18.6447 - accuracy: 0.5083 - val_loss: 10.2738 - val_accuracy: 0.4922\n",
      "Epoch 3/20\n",
      "1407/1407 [==============================] - 6s 5ms/step - loss: 9.9727 - accuracy: 0.5336 - val_loss: 26.4853 - val_accuracy: 0.4922\n",
      "Epoch 4/20\n",
      "1407/1407 [==============================] - 6s 4ms/step - loss: 5.8778 - accuracy: 0.5620 - val_loss: 1.1979 - val_accuracy: 0.6947\n",
      "Epoch 5/20\n",
      "1407/1407 [==============================] - 6s 4ms/step - loss: 6.5930 - accuracy: 0.5676 - val_loss: 1.5752 - val_accuracy: 0.6588\n",
      "Epoch 6/20\n",
      "1407/1407 [==============================] - 6s 4ms/step - loss: 3.6350 - accuracy: 0.6040 - val_loss: 1.5547 - val_accuracy: 0.6525\n",
      "Epoch 7/20\n",
      "1407/1407 [==============================] - 6s 4ms/step - loss: 3.8040 - accuracy: 0.5886 - val_loss: 5.0480 - val_accuracy: 0.5072\n",
      "Epoch 8/20\n",
      "1407/1407 [==============================] - 6s 5ms/step - loss: 3.2518 - accuracy: 0.6105 - val_loss: 7.7338 - val_accuracy: 0.5081\n",
      "Epoch 9/20\n",
      "1407/1407 [==============================] - 6s 4ms/step - loss: 2.6354 - accuracy: 0.6045 - val_loss: 1.5477 - val_accuracy: 0.6503\n",
      "Epoch 10/20\n",
      "1407/1407 [==============================] - 6s 4ms/step - loss: 2.2038 - accuracy: 0.6176 - val_loss: 7.8762 - val_accuracy: 0.4923\n",
      "Epoch 11/20\n",
      "1407/1407 [==============================] - 6s 4ms/step - loss: 2.1556 - accuracy: 0.6115 - val_loss: 7.6468 - val_accuracy: 0.4923\n",
      "Epoch 11: early stopping\n"
     ]
    }
   ],
   "source": [
    "history_F = model_F.fit(X_train, y_train, epochs=20,\n",
    "validation_data=(X_val, y_val),callbacks=[early_stoping])"
   ]
  },
  {
   "cell_type": "code",
   "execution_count": 275,
   "metadata": {
    "tags": []
   },
   "outputs": [
    {
     "name": "stdout",
     "output_type": "stream",
     "text": [
      "313/313 [==============================] - 1s 3ms/step - loss: 0.6931 - accuracy: 0.5151\n"
     ]
    }
   ],
   "source": [
    "eval_results = model.evaluate((X_test), (y_test))"
   ]
  },
  {
   "cell_type": "code",
   "execution_count": 237,
   "metadata": {
    "tags": []
   },
   "outputs": [
    {
     "name": "stdout",
     "output_type": "stream",
     "text": [
      "in Epoch=0, the loss is=1.17\n",
      "in Epoch=1, the loss is=1.15\n",
      "in Epoch=2, the loss is=1.23\n",
      "in Epoch=3, the loss is=1.21\n",
      "in Epoch=4, the loss is=1.15\n",
      "in Epoch=5, the loss is=1.19\n",
      "in Epoch=6, the loss is=1.10\n",
      "in Epoch=7, the loss is=1.13\n",
      "in Epoch=8, the loss is=1.17\n",
      "in Epoch=9, the loss is=1.14\n"
     ]
    }
   ],
   "source": [
    "val_train_ratio_cb = PrintValTrainRatioCallback()\n",
    "history = model_F.fit(\n",
    "    (X_train), (y_train), epochs=10,\n",
    "    validation_data=((X_val), (y_val)),\n",
    "    callbacks=[val_train_ratio_cb], verbose=0)"
   ]
  },
  {
   "cell_type": "markdown",
   "metadata": {},
   "source": [
    "# Using tensorboard for sequentional model"
   ]
  },
  {
   "cell_type": "code",
   "execution_count": 176,
   "metadata": {
    "tags": []
   },
   "outputs": [],
   "source": [
    "!pip install -q -U tensorboard-plugin-profile"
   ]
  },
  {
   "cell_type": "code",
   "execution_count": 181,
   "metadata": {
    "tags": []
   },
   "outputs": [],
   "source": [
    "from pathlib import Path\n",
    "from time import strftime\n",
    "\n",
    "def get_run_logdir(root_logdir=\"my_logs\"):\n",
    "    return Path(root_logdir) / strftime(\"run_%Y_%m_%d_%H_%M_%S\")\n",
    "\n",
    "run_logdir = get_run_logdir()"
   ]
  },
  {
   "cell_type": "code",
   "execution_count": 430,
   "metadata": {
    "tags": []
   },
   "outputs": [],
   "source": [
    "tf.keras.backend.clear_session()\n",
    "tf.random.set_seed(42)\n",
    "norm_layer = tf.keras.layers.Normalization(input_shape=X_train.shape[1:])\n",
    "\n",
    "optimizer = tf.keras.optimizers.SGD(learning_rate=1e-3)\n",
    "model.compile(loss=\"sparse_categorical_crossentropy\", optimizer=optimizer, metrics=[\"accuracy\"])\n",
    "norm_layer.adapt(X_train)"
   ]
  },
  {
   "cell_type": "code",
   "execution_count": 431,
   "metadata": {
    "tags": []
   },
   "outputs": [
    {
     "name": "stdout",
     "output_type": "stream",
     "text": [
      "Epoch 1/10\n"
     ]
    },
    {
     "name": "stderr",
     "output_type": "stream",
     "text": [
      "2023-03-04 11:12:47.936478: I tensorflow/core/profiler/lib/profiler_session.cc:101] Profiler session initializing.\n",
      "2023-03-04 11:12:47.936538: I tensorflow/core/profiler/lib/profiler_session.cc:116] Profiler session started.\n",
      "2023-03-04 11:12:47.938255: I tensorflow/core/profiler/lib/profiler_session.cc:128] Profiler session tear down.\n"
     ]
    },
    {
     "name": "stdout",
     "output_type": "stream",
     "text": [
      " 159/1407 [==>...........................] - ETA: 4s - loss: 0.7632 - accuracy: 0.5055"
     ]
    },
    {
     "name": "stderr",
     "output_type": "stream",
     "text": [
      "2023-03-04 11:12:49.253736: I tensorflow/core/profiler/lib/profiler_session.cc:101] Profiler session initializing.\n",
      "2023-03-04 11:12:49.253790: I tensorflow/core/profiler/lib/profiler_session.cc:116] Profiler session started.\n"
     ]
    },
    {
     "name": "stdout",
     "output_type": "stream",
     "text": [
      " 227/1407 [===>..........................] - ETA: 5s - loss: 0.7420 - accuracy: 0.5025"
     ]
    },
    {
     "name": "stderr",
     "output_type": "stream",
     "text": [
      "2023-03-04 11:12:49.826480: I tensorflow/core/profiler/lib/profiler_session.cc:67] Profiler session collecting data.\n",
      "2023-03-04 11:12:49.865706: I tensorflow/core/profiler/lib/profiler_session.cc:128] Profiler session tear down.\n",
      "2023-03-04 11:12:49.866009: I tensorflow/core/profiler/rpc/client/save_profile.cc:164] Collecting XSpace to repository: my_logs/run_2023_03_04_08_23_24/plugins/profile/2023_03_04_11_12_49/sara-HP-1000-Notebook-PC.xplane.pb\n"
     ]
    },
    {
     "name": "stdout",
     "output_type": "stream",
     "text": [
      "1407/1407 [==============================] - 7s 4ms/step - loss: 0.7034 - accuracy: 0.5085 - val_loss: 0.6948 - val_accuracy: 0.5078\n",
      "Epoch 2/10\n",
      "1407/1407 [==============================] - 5s 4ms/step - loss: 0.6937 - accuracy: 0.5084 - val_loss: 0.6940 - val_accuracy: 0.5079\n",
      "Epoch 3/10\n",
      "1407/1407 [==============================] - 5s 4ms/step - loss: 0.6931 - accuracy: 0.5084 - val_loss: 0.6940 - val_accuracy: 0.5079\n",
      "Epoch 4/10\n",
      "1407/1407 [==============================] - 5s 4ms/step - loss: 0.6931 - accuracy: 0.5084 - val_loss: 0.6940 - val_accuracy: 0.5079\n",
      "Epoch 5/10\n",
      "1407/1407 [==============================] - 6s 4ms/step - loss: 0.6931 - accuracy: 0.5084 - val_loss: 0.6940 - val_accuracy: 0.5079\n",
      "Epoch 6/10\n",
      "1407/1407 [==============================] - 5s 4ms/step - loss: 0.6931 - accuracy: 0.5084 - val_loss: 0.6940 - val_accuracy: 0.5079\n",
      "Epoch 7/10\n",
      "1407/1407 [==============================] - 6s 4ms/step - loss: 0.6931 - accuracy: 0.5084 - val_loss: 0.6940 - val_accuracy: 0.5079\n",
      "Epoch 8/10\n",
      "1407/1407 [==============================] - 5s 4ms/step - loss: 0.6931 - accuracy: 0.5084 - val_loss: 0.6940 - val_accuracy: 0.5079\n",
      "Epoch 9/10\n",
      "1407/1407 [==============================] - 5s 4ms/step - loss: 0.6931 - accuracy: 0.5084 - val_loss: 0.6940 - val_accuracy: 0.5079\n",
      "Epoch 10/10\n",
      "1407/1407 [==============================] - 5s 4ms/step - loss: 0.6931 - accuracy: 0.5084 - val_loss: 0.6940 - val_accuracy: 0.5079\n"
     ]
    }
   ],
   "source": [
    "tensorboard_cb = tf.keras.callbacks.TensorBoard(run_logdir,\n",
    "                                                profile_batch=(100, 200))\n",
    "history = model.fit(X_train, y_train, epochs=10,\n",
    "                    validation_data=(X_val, y_val),\n",
    "                    callbacks=[tensorboard_cb])"
   ]
  },
  {
   "cell_type": "code",
   "execution_count": 432,
   "metadata": {
    "tags": []
   },
   "outputs": [
    {
     "name": "stdout",
     "output_type": "stream",
     "text": [
      "The tensorboard extension is already loaded. To reload it, use:\n",
      "  %reload_ext tensorboard\n"
     ]
    },
    {
     "data": {
      "text/html": [
       "\n",
       "      <iframe id=\"tensorboard-frame-63a56de6cb6cb0f7\" width=\"100%\" height=\"800\" frameborder=\"0\">\n",
       "      </iframe>\n",
       "      <script>\n",
       "        (function() {\n",
       "          const frame = document.getElementById(\"tensorboard-frame-63a56de6cb6cb0f7\");\n",
       "          const url = new URL(\"/\", window.location);\n",
       "          const port = 6006;\n",
       "          if (port) {\n",
       "            url.port = port;\n",
       "          }\n",
       "          frame.src = url;\n",
       "        })();\n",
       "      </script>\n",
       "    "
      ],
      "text/plain": [
       "<IPython.core.display.HTML object>"
      ]
     },
     "metadata": {},
     "output_type": "display_data"
    }
   ],
   "source": [
    "%load_ext tensorboard\n",
    "%tensorboard --logdir=./my_logs"
   ]
  },
  {
   "cell_type": "code",
   "execution_count": 357,
   "metadata": {
    "tags": []
   },
   "outputs": [
    {
     "data": {
      "text/html": [
       "<a href=\"http://localhost:6006/\">http://localhost:6006/</a>"
      ],
      "text/plain": [
       "<IPython.core.display.HTML object>"
      ]
     },
     "metadata": {},
     "output_type": "display_data"
    }
   ],
   "source": [
    "from IPython.display import display, HTML\n",
    "\n",
    "display(HTML('<a href=\"http://localhost:6006/\">http://localhost:6006/</a>'))"
   ]
  },
  {
   "cell_type": "markdown",
   "metadata": {},
   "source": [
    "# Tune hyperparameters "
   ]
  },
  {
   "cell_type": "code",
   "execution_count": 137,
   "metadata": {
    "tags": []
   },
   "outputs": [],
   "source": [
    "import keras_tuner as kt"
   ]
  },
  {
   "cell_type": "code",
   "execution_count": 377,
   "metadata": {
    "tags": []
   },
   "outputs": [],
   "source": [
    "def build_model(hp):\n",
    "    global model\n",
    "    n_hidden = hp.Int(\"n_hidden\", min_value=0, max_value=8,\n",
    "    default=2)\n",
    "    n_neurons = hp.Int(\"n_neurons\", min_value=16, max_value=256)\n",
    "    learning_rate = hp.Float(\"learning_rate\", min_value=1e-4,max_value=1e-2,sampling=\"log\")\n",
    "    optimizer = hp.Choice(\"optimizer\", values=[\"sgd\", \"adam\"])\n",
    "    if optimizer == \"sgd\":\n",
    "        optimizer =tf.keras.optimizers.SGD(learning_rate=learning_rate)\n",
    "    else:\n",
    "        optimizer =tf.keras.optimizers.Adam(learning_rate=learning_rate)\n",
    "        model= tf.keras.Sequential()\n",
    "        model.add(100, activation='relu')\n",
    "    for _ in range(n_hidden):\n",
    "        model.add(tf.keras.layers.Dense(n_neurons,\n",
    "        activation=\"relu\"))\n",
    "        model.add(tf.keras.layers.Dense(2, activation=\"softmax\"))\n",
    "        model.compile(loss=\"sparse_categorical_crossentropy\",optimizer=optimizer,metrics=[\"accuracy\"])\n",
    "    return model"
   ]
  },
  {
   "cell_type": "code",
   "execution_count": 378,
   "metadata": {
    "tags": []
   },
   "outputs": [
    {
     "name": "stdout",
     "output_type": "stream",
     "text": [
      "Trial 5 Complete [00h 00m 00s]\n",
      "\n",
      "Best accuracy So Far: 0.5326499938964844\n",
      "Total elapsed time: 00h 01m 19s\n"
     ]
    }
   ],
   "source": [
    "random_search_tuner = kt.RandomSearch(build_model, objective=\"accuracy\", max_trials=5, overwrite=True, seed=42)\n",
    "random_search_tuner.search(X_train, y_train, epochs=10,\n",
    "                           validation_data=(X_val, y_val))"
   ]
  },
  {
   "cell_type": "code",
   "execution_count": 379,
   "metadata": {
    "tags": []
   },
   "outputs": [
    {
     "data": {
      "text/plain": [
       "{'n_hidden': 5,\n",
       " 'n_neurons': 25,\n",
       " 'learning_rate': 0.0006562536901904111,\n",
       " 'optimizer': 'sgd'}"
      ]
     },
     "execution_count": 379,
     "metadata": {},
     "output_type": "execute_result"
    }
   ],
   "source": [
    "top3_params = random_search_tuner.get_best_hyperparameters(num_trials=3)\n",
    "top3_params[0].values  # best hyperparameter values"
   ]
  },
  {
   "cell_type": "code",
   "execution_count": 382,
   "metadata": {
    "tags": []
   },
   "outputs": [
    {
     "data": {
      "text/plain": [
       "0.526199996471405"
      ]
     },
     "execution_count": 382,
     "metadata": {},
     "output_type": "execute_result"
    }
   ],
   "source": [
    "best_trial.metrics.get_last_value(\"val_accuracy\")"
   ]
  },
  {
   "cell_type": "markdown",
   "metadata": {
    "id": "iQOlJypPLioI"
   },
   "source": [
    "linux\n",
    "\n",
    "1- با چه دستوری مسیر پایتون را پیدا کنیم\n",
    "\n",
    "\n",
    "\n",
    "2- با چه دستوری از نوع فایل مطمین میشبم\n",
    "\n",
    "\n",
    "\n",
    "3-منظور از اعداد نشان داده شده بعد از زدت دستور زیر چیست\n",
    "\n",
    "\n",
    "\n",
    "4- دستوری که دایرکتوری بسازد که درون آن یک دایرکتوری دیگر هم هست\n",
    "\n",
    "\n",
    "\n",
    "5- با چه دستوری فایل بالا را به صورت ریکرسیو پاک می کنید\n",
    "\n",
    "\n",
    "\n",
    "6- با چه کامتد هایی میتوان فایل را خواند \n",
    "\n",
    "\n",
    "\n",
    "7- برای تعقیب تعییرات یک فایل چه دستوری را پیشنهاد میدهید\n",
    "\n",
    "\n",
    "8- معادل دستورپرینت در بش چیست \n",
    "\n"
   ]
  },
  {
   "cell_type": "markdown",
   "metadata": {
    "id": "PauCK6aWR6uf"
   },
   "source": [
    "### 1. whereis python3                  \n",
    "### dpkg -S python3"
   ]
  },
  {
   "cell_type": "markdown",
   "metadata": {},
   "source": [
    "### 2.file -f filenames.lst"
   ]
  },
  {
   "cell_type": "markdown",
   "metadata": {},
   "source": [
    "### 3."
   ]
  },
  {
   "cell_type": "markdown",
   "metadata": {},
   "source": [
    "### 4.mkdir -p "
   ]
  },
  {
   "cell_type": "markdown",
   "metadata": {},
   "source": [
    "### 5.use the rm command with the recursive option, -r "
   ]
  },
  {
   "cell_type": "markdown",
   "metadata": {},
   "source": [
    "### 6.  1.Cat command  2.less command  3.more command   4.nl command  5.gnome-open command  6.head command   7.tail command"
   ]
  },
  {
   "cell_type": "markdown",
   "metadata": {},
   "source": [
    "### 7.Tail and grep                                                \n",
    "### -mtime n                             \n"
   ]
  }
 ],
 "metadata": {
  "colab": {
   "provenance": []
  },
  "kernelspec": {
   "display_name": "Python 3 (ipykernel)",
   "language": "python",
   "name": "python3"
  },
  "language_info": {
   "codemirror_mode": {
    "name": "ipython",
    "version": 3
   },
   "file_extension": ".py",
   "mimetype": "text/x-python",
   "name": "python",
   "nbconvert_exporter": "python",
   "pygments_lexer": "ipython3",
   "version": "3.10.6"
  }
 },
 "nbformat": 4,
 "nbformat_minor": 4
}
