{
  "nbformat": 4,
  "nbformat_minor": 0,
  "metadata": {
    "colab": {
      "provenance": []
    },
    "kernelspec": {
      "name": "python3",
      "display_name": "Python 3"
    },
    "language_info": {
      "name": "python"
    }
  },
  "cells": [
    {
      "cell_type": "code",
      "execution_count": null,
      "metadata": {
        "id": "EQ8-i9Zbq1Go"
      },
      "outputs": [],
      "source": [
        "import pandas as pd\n",
        "import seaborn as sns\n",
        "import numpy as np\n",
        "import matplotlib.pyplot as plt"
      ]
    },
    {
      "cell_type": "code",
      "source": [
        "data = pd.read_csv(\"electricity.csv\", parse_dates=['DateTime'], index_col='DateTime', na_values=[\"?\"])\n",
        "data.head()"
      ],
      "metadata": {
        "colab": {
          "base_uri": "https://localhost:8080/",
          "height": 475
        },
        "id": "vri92XG_yZ9e",
        "outputId": "bc5d7bb4-e8e8-46f6-8147-95989328d4aa"
      },
      "execution_count": null,
      "outputs": [
        {
          "output_type": "execute_result",
          "data": {
            "text/plain": [
              "                    Holiday  HolidayFlag  DayOfWeek  WeekOfYear  Day  Month  \\\n",
              "DateTime                                                                      \n",
              "2011-01-11 00:00:00    None            0          1          44    1     11   \n",
              "2011-01-11 00:30:00    None            0          1          44    1     11   \n",
              "2011-01-11 01:00:00    None            0          1          44    1     11   \n",
              "2011-01-11 01:30:00    None            0          1          44    1     11   \n",
              "2011-01-11 02:00:00    None            0          1          44    1     11   \n",
              "\n",
              "                     Year  PeriodOfDay  ForecastWindProduction  SystemLoadEA  \\\n",
              "DateTime                                                                       \n",
              "2011-01-11 00:00:00  2011            0                  315.31       3388.77   \n",
              "2011-01-11 00:30:00  2011            1                  321.80       3196.66   \n",
              "2011-01-11 01:00:00  2011            2                  328.57       3060.71   \n",
              "2011-01-11 01:30:00  2011            3                  335.60       2945.56   \n",
              "2011-01-11 02:00:00  2011            4                  342.90       2849.34   \n",
              "\n",
              "                     SMPEA  ORKTemperature  ORKWindspeed  CO2Intensity  \\\n",
              "DateTime                                                                 \n",
              "2011-01-11 00:00:00  49.26             6.0           9.3        600.71   \n",
              "2011-01-11 00:30:00  49.26             6.0          11.1        605.42   \n",
              "2011-01-11 01:00:00  49.10             5.0          11.1        589.97   \n",
              "2011-01-11 01:30:00  48.04             6.0           9.3        585.94   \n",
              "2011-01-11 02:00:00  33.75             6.0          11.1        571.52   \n",
              "\n",
              "                     ActualWindProduction  SystemLoadEP2  SMPEP2  \n",
              "DateTime                                                          \n",
              "2011-01-11 00:00:00                 356.0        3159.60   54.32  \n",
              "2011-01-11 00:30:00                 317.0        2973.01   54.23  \n",
              "2011-01-11 01:00:00                 311.0        2834.00   54.23  \n",
              "2011-01-11 01:30:00                 313.0        2725.99   53.47  \n",
              "2011-01-11 02:00:00                 346.0        2655.64   39.87  "
            ],
            "text/html": [
              "\n",
              "  <div id=\"df-a3bbfa16-5771-4da9-bfef-bcfbb31e876b\">\n",
              "    <div class=\"colab-df-container\">\n",
              "      <div>\n",
              "<style scoped>\n",
              "    .dataframe tbody tr th:only-of-type {\n",
              "        vertical-align: middle;\n",
              "    }\n",
              "\n",
              "    .dataframe tbody tr th {\n",
              "        vertical-align: top;\n",
              "    }\n",
              "\n",
              "    .dataframe thead th {\n",
              "        text-align: right;\n",
              "    }\n",
              "</style>\n",
              "<table border=\"1\" class=\"dataframe\">\n",
              "  <thead>\n",
              "    <tr style=\"text-align: right;\">\n",
              "      <th></th>\n",
              "      <th>Holiday</th>\n",
              "      <th>HolidayFlag</th>\n",
              "      <th>DayOfWeek</th>\n",
              "      <th>WeekOfYear</th>\n",
              "      <th>Day</th>\n",
              "      <th>Month</th>\n",
              "      <th>Year</th>\n",
              "      <th>PeriodOfDay</th>\n",
              "      <th>ForecastWindProduction</th>\n",
              "      <th>SystemLoadEA</th>\n",
              "      <th>SMPEA</th>\n",
              "      <th>ORKTemperature</th>\n",
              "      <th>ORKWindspeed</th>\n",
              "      <th>CO2Intensity</th>\n",
              "      <th>ActualWindProduction</th>\n",
              "      <th>SystemLoadEP2</th>\n",
              "      <th>SMPEP2</th>\n",
              "    </tr>\n",
              "    <tr>\n",
              "      <th>DateTime</th>\n",
              "      <th></th>\n",
              "      <th></th>\n",
              "      <th></th>\n",
              "      <th></th>\n",
              "      <th></th>\n",
              "      <th></th>\n",
              "      <th></th>\n",
              "      <th></th>\n",
              "      <th></th>\n",
              "      <th></th>\n",
              "      <th></th>\n",
              "      <th></th>\n",
              "      <th></th>\n",
              "      <th></th>\n",
              "      <th></th>\n",
              "      <th></th>\n",
              "      <th></th>\n",
              "    </tr>\n",
              "  </thead>\n",
              "  <tbody>\n",
              "    <tr>\n",
              "      <th>2011-01-11 00:00:00</th>\n",
              "      <td>None</td>\n",
              "      <td>0</td>\n",
              "      <td>1</td>\n",
              "      <td>44</td>\n",
              "      <td>1</td>\n",
              "      <td>11</td>\n",
              "      <td>2011</td>\n",
              "      <td>0</td>\n",
              "      <td>315.31</td>\n",
              "      <td>3388.77</td>\n",
              "      <td>49.26</td>\n",
              "      <td>6.0</td>\n",
              "      <td>9.3</td>\n",
              "      <td>600.71</td>\n",
              "      <td>356.0</td>\n",
              "      <td>3159.60</td>\n",
              "      <td>54.32</td>\n",
              "    </tr>\n",
              "    <tr>\n",
              "      <th>2011-01-11 00:30:00</th>\n",
              "      <td>None</td>\n",
              "      <td>0</td>\n",
              "      <td>1</td>\n",
              "      <td>44</td>\n",
              "      <td>1</td>\n",
              "      <td>11</td>\n",
              "      <td>2011</td>\n",
              "      <td>1</td>\n",
              "      <td>321.80</td>\n",
              "      <td>3196.66</td>\n",
              "      <td>49.26</td>\n",
              "      <td>6.0</td>\n",
              "      <td>11.1</td>\n",
              "      <td>605.42</td>\n",
              "      <td>317.0</td>\n",
              "      <td>2973.01</td>\n",
              "      <td>54.23</td>\n",
              "    </tr>\n",
              "    <tr>\n",
              "      <th>2011-01-11 01:00:00</th>\n",
              "      <td>None</td>\n",
              "      <td>0</td>\n",
              "      <td>1</td>\n",
              "      <td>44</td>\n",
              "      <td>1</td>\n",
              "      <td>11</td>\n",
              "      <td>2011</td>\n",
              "      <td>2</td>\n",
              "      <td>328.57</td>\n",
              "      <td>3060.71</td>\n",
              "      <td>49.10</td>\n",
              "      <td>5.0</td>\n",
              "      <td>11.1</td>\n",
              "      <td>589.97</td>\n",
              "      <td>311.0</td>\n",
              "      <td>2834.00</td>\n",
              "      <td>54.23</td>\n",
              "    </tr>\n",
              "    <tr>\n",
              "      <th>2011-01-11 01:30:00</th>\n",
              "      <td>None</td>\n",
              "      <td>0</td>\n",
              "      <td>1</td>\n",
              "      <td>44</td>\n",
              "      <td>1</td>\n",
              "      <td>11</td>\n",
              "      <td>2011</td>\n",
              "      <td>3</td>\n",
              "      <td>335.60</td>\n",
              "      <td>2945.56</td>\n",
              "      <td>48.04</td>\n",
              "      <td>6.0</td>\n",
              "      <td>9.3</td>\n",
              "      <td>585.94</td>\n",
              "      <td>313.0</td>\n",
              "      <td>2725.99</td>\n",
              "      <td>53.47</td>\n",
              "    </tr>\n",
              "    <tr>\n",
              "      <th>2011-01-11 02:00:00</th>\n",
              "      <td>None</td>\n",
              "      <td>0</td>\n",
              "      <td>1</td>\n",
              "      <td>44</td>\n",
              "      <td>1</td>\n",
              "      <td>11</td>\n",
              "      <td>2011</td>\n",
              "      <td>4</td>\n",
              "      <td>342.90</td>\n",
              "      <td>2849.34</td>\n",
              "      <td>33.75</td>\n",
              "      <td>6.0</td>\n",
              "      <td>11.1</td>\n",
              "      <td>571.52</td>\n",
              "      <td>346.0</td>\n",
              "      <td>2655.64</td>\n",
              "      <td>39.87</td>\n",
              "    </tr>\n",
              "  </tbody>\n",
              "</table>\n",
              "</div>\n",
              "      <button class=\"colab-df-convert\" onclick=\"convertToInteractive('df-a3bbfa16-5771-4da9-bfef-bcfbb31e876b')\"\n",
              "              title=\"Convert this dataframe to an interactive table.\"\n",
              "              style=\"display:none;\">\n",
              "        \n",
              "  <svg xmlns=\"http://www.w3.org/2000/svg\" height=\"24px\"viewBox=\"0 0 24 24\"\n",
              "       width=\"24px\">\n",
              "    <path d=\"M0 0h24v24H0V0z\" fill=\"none\"/>\n",
              "    <path d=\"M18.56 5.44l.94 2.06.94-2.06 2.06-.94-2.06-.94-.94-2.06-.94 2.06-2.06.94zm-11 1L8.5 8.5l.94-2.06 2.06-.94-2.06-.94L8.5 2.5l-.94 2.06-2.06.94zm10 10l.94 2.06.94-2.06 2.06-.94-2.06-.94-.94-2.06-.94 2.06-2.06.94z\"/><path d=\"M17.41 7.96l-1.37-1.37c-.4-.4-.92-.59-1.43-.59-.52 0-1.04.2-1.43.59L10.3 9.45l-7.72 7.72c-.78.78-.78 2.05 0 2.83L4 21.41c.39.39.9.59 1.41.59.51 0 1.02-.2 1.41-.59l7.78-7.78 2.81-2.81c.8-.78.8-2.07 0-2.86zM5.41 20L4 18.59l7.72-7.72 1.47 1.35L5.41 20z\"/>\n",
              "  </svg>\n",
              "      </button>\n",
              "      \n",
              "  <style>\n",
              "    .colab-df-container {\n",
              "      display:flex;\n",
              "      flex-wrap:wrap;\n",
              "      gap: 12px;\n",
              "    }\n",
              "\n",
              "    .colab-df-convert {\n",
              "      background-color: #E8F0FE;\n",
              "      border: none;\n",
              "      border-radius: 50%;\n",
              "      cursor: pointer;\n",
              "      display: none;\n",
              "      fill: #1967D2;\n",
              "      height: 32px;\n",
              "      padding: 0 0 0 0;\n",
              "      width: 32px;\n",
              "    }\n",
              "\n",
              "    .colab-df-convert:hover {\n",
              "      background-color: #E2EBFA;\n",
              "      box-shadow: 0px 1px 2px rgba(60, 64, 67, 0.3), 0px 1px 3px 1px rgba(60, 64, 67, 0.15);\n",
              "      fill: #174EA6;\n",
              "    }\n",
              "\n",
              "    [theme=dark] .colab-df-convert {\n",
              "      background-color: #3B4455;\n",
              "      fill: #D2E3FC;\n",
              "    }\n",
              "\n",
              "    [theme=dark] .colab-df-convert:hover {\n",
              "      background-color: #434B5C;\n",
              "      box-shadow: 0px 1px 3px 1px rgba(0, 0, 0, 0.15);\n",
              "      filter: drop-shadow(0px 1px 2px rgba(0, 0, 0, 0.3));\n",
              "      fill: #FFFFFF;\n",
              "    }\n",
              "  </style>\n",
              "\n",
              "      <script>\n",
              "        const buttonEl =\n",
              "          document.querySelector('#df-a3bbfa16-5771-4da9-bfef-bcfbb31e876b button.colab-df-convert');\n",
              "        buttonEl.style.display =\n",
              "          google.colab.kernel.accessAllowed ? 'block' : 'none';\n",
              "\n",
              "        async function convertToInteractive(key) {\n",
              "          const element = document.querySelector('#df-a3bbfa16-5771-4da9-bfef-bcfbb31e876b');\n",
              "          const dataTable =\n",
              "            await google.colab.kernel.invokeFunction('convertToInteractive',\n",
              "                                                     [key], {});\n",
              "          if (!dataTable) return;\n",
              "\n",
              "          const docLinkHtml = 'Like what you see? Visit the ' +\n",
              "            '<a target=\"_blank\" href=https://colab.research.google.com/notebooks/data_table.ipynb>data table notebook</a>'\n",
              "            + ' to learn more about interactive tables.';\n",
              "          element.innerHTML = '';\n",
              "          dataTable['output_type'] = 'display_data';\n",
              "          await google.colab.output.renderOutput(dataTable, element);\n",
              "          const docLink = document.createElement('div');\n",
              "          docLink.innerHTML = docLinkHtml;\n",
              "          element.appendChild(docLink);\n",
              "        }\n",
              "      </script>\n",
              "    </div>\n",
              "  </div>\n",
              "  "
            ]
          },
          "metadata": {},
          "execution_count": 58
        }
      ]
    },
    {
      "cell_type": "code",
      "source": [
        "data.dropna(inplace=True)"
      ],
      "metadata": {
        "id": "UcCtoLZ5AVDG"
      },
      "execution_count": null,
      "outputs": []
    },
    {
      "cell_type": "code",
      "source": [
        "data.info()"
      ],
      "metadata": {
        "colab": {
          "base_uri": "https://localhost:8080/"
        },
        "id": "zy2IDMVhyvB-",
        "outputId": "1e16eca4-ed32-4015-a89f-420078e2a6b9"
      },
      "execution_count": null,
      "outputs": [
        {
          "output_type": "stream",
          "name": "stdout",
          "text": [
            "<class 'pandas.core.frame.DataFrame'>\n",
            "DatetimeIndex: 37682 entries, 2011-01-11 00:00:00 to 2013-12-31 23:30:00\n",
            "Data columns (total 17 columns):\n",
            " #   Column                  Non-Null Count  Dtype  \n",
            "---  ------                  --------------  -----  \n",
            " 0   Holiday                 37682 non-null  object \n",
            " 1   HolidayFlag             37682 non-null  int64  \n",
            " 2   DayOfWeek               37682 non-null  int64  \n",
            " 3   WeekOfYear              37682 non-null  int64  \n",
            " 4   Day                     37682 non-null  int64  \n",
            " 5   Month                   37682 non-null  int64  \n",
            " 6   Year                    37682 non-null  int64  \n",
            " 7   PeriodOfDay             37682 non-null  int64  \n",
            " 8   ForecastWindProduction  37682 non-null  float64\n",
            " 9   SystemLoadEA            37682 non-null  float64\n",
            " 10  SMPEA                   37682 non-null  float64\n",
            " 11  ORKTemperature          37682 non-null  float64\n",
            " 12  ORKWindspeed            37682 non-null  float64\n",
            " 13  CO2Intensity            37682 non-null  float64\n",
            " 14  ActualWindProduction    37682 non-null  float64\n",
            " 15  SystemLoadEP2           37682 non-null  float64\n",
            " 16  SMPEP2                  37682 non-null  float64\n",
            "dtypes: float64(9), int64(7), object(1)\n",
            "memory usage: 5.2+ MB\n"
          ]
        }
      ]
    },
    {
      "cell_type": "code",
      "source": [
        "data.nunique()"
      ],
      "metadata": {
        "colab": {
          "base_uri": "https://localhost:8080/"
        },
        "id": "pv5LJWjz66mt",
        "outputId": "2791f3d6-8d9b-4205-dcbe-679247920e18"
      },
      "execution_count": null,
      "outputs": [
        {
          "output_type": "execute_result",
          "data": {
            "text/plain": [
              "Holiday                      15\n",
              "HolidayFlag                   2\n",
              "DayOfWeek                     7\n",
              "WeekOfYear                   52\n",
              "Day                          31\n",
              "Month                        12\n",
              "Year                          3\n",
              "PeriodOfDay                  48\n",
              "ForecastWindProduction    27254\n",
              "SystemLoadEA              35300\n",
              "SMPEA                      7322\n",
              "ORKTemperature               30\n",
              "ORKWindspeed                 52\n",
              "CO2Intensity              22328\n",
              "ActualWindProduction       1535\n",
              "SystemLoadEP2             35365\n",
              "SMPEP2                     7790\n",
              "dtype: int64"
            ]
          },
          "metadata": {},
          "execution_count": 60
        }
      ]
    },
    {
      "cell_type": "code",
      "source": [
        "data.describe()"
      ],
      "metadata": {
        "colab": {
          "base_uri": "https://localhost:8080/",
          "height": 364
        },
        "id": "Yw1PoDXrzH_m",
        "outputId": "f78bfbbf-1896-4b3c-cc8a-45c6c5c6c591"
      },
      "execution_count": null,
      "outputs": [
        {
          "output_type": "execute_result",
          "data": {
            "text/plain": [
              "        HolidayFlag     DayOfWeek    WeekOfYear           Day         Month  \\\n",
              "count  37682.000000  37682.000000  37682.000000  37682.000000  37682.000000   \n",
              "mean       0.037578      2.998355     28.044584     15.707181      6.886789   \n",
              "std        0.190175      1.998845     15.552428      8.804424      3.566915   \n",
              "min        0.000000      0.000000      1.000000      1.000000      1.000000   \n",
              "25%        0.000000      1.000000     14.000000      8.000000      4.000000   \n",
              "50%        0.000000      3.000000     29.000000     16.000000      7.000000   \n",
              "75%        0.000000      5.000000     43.000000     23.000000     10.000000   \n",
              "max        1.000000      6.000000     52.000000     31.000000     12.000000   \n",
              "\n",
              "               Year   PeriodOfDay  ForecastWindProduction  SystemLoadEA  \\\n",
              "count  37682.000000  37682.000000            37682.000000  37682.000000   \n",
              "mean    2012.386577     23.508651              542.871513   4020.753657   \n",
              "std        0.623780     13.854822              413.725304    860.148265   \n",
              "min     2011.000000      0.000000                0.680000   2183.940000   \n",
              "25%     2012.000000     12.000000              188.927500   3281.780000   \n",
              "50%     2012.000000     24.000000              440.645000   4105.530000   \n",
              "75%     2013.000000     36.000000              837.182500   4638.982500   \n",
              "max     2013.000000     47.000000             1680.000000   6492.910000   \n",
              "\n",
              "              SMPEA  ORKTemperature  ORKWindspeed  CO2Intensity  \\\n",
              "count  37682.000000    37682.000000  37682.000000  37682.000000   \n",
              "mean      62.747428        9.628443     19.209721    479.519761   \n",
              "std       32.300069        4.439757      9.569069     85.170896   \n",
              "min        0.000000       -4.000000      0.000000      0.000000   \n",
              "25%       45.540000        6.000000     13.000000    421.275000   \n",
              "50%       55.230000        9.000000     18.500000    480.350000   \n",
              "75%       70.320000       13.000000     24.100000    537.540000   \n",
              "max      587.580000       25.000000     75.900000    842.880000   \n",
              "\n",
              "       ActualWindProduction  SystemLoadEP2        SMPEP2  \n",
              "count          37682.000000   37682.000000  37682.000000  \n",
              "mean             519.814951    3787.560062     64.181344  \n",
              "std              377.879680     842.544909     35.432265  \n",
              "min                1.000000    1809.960000    -47.740000  \n",
              "25%              198.000000    3060.215000     45.800000  \n",
              "50%              444.000000    3867.220000     55.560000  \n",
              "75%              792.000000    4427.822500     72.120000  \n",
              "max             1769.000000    6309.750000   1000.000000  "
            ],
            "text/html": [
              "\n",
              "  <div id=\"df-db453bee-b4c0-4b81-8ca7-dcba20cee9aa\">\n",
              "    <div class=\"colab-df-container\">\n",
              "      <div>\n",
              "<style scoped>\n",
              "    .dataframe tbody tr th:only-of-type {\n",
              "        vertical-align: middle;\n",
              "    }\n",
              "\n",
              "    .dataframe tbody tr th {\n",
              "        vertical-align: top;\n",
              "    }\n",
              "\n",
              "    .dataframe thead th {\n",
              "        text-align: right;\n",
              "    }\n",
              "</style>\n",
              "<table border=\"1\" class=\"dataframe\">\n",
              "  <thead>\n",
              "    <tr style=\"text-align: right;\">\n",
              "      <th></th>\n",
              "      <th>HolidayFlag</th>\n",
              "      <th>DayOfWeek</th>\n",
              "      <th>WeekOfYear</th>\n",
              "      <th>Day</th>\n",
              "      <th>Month</th>\n",
              "      <th>Year</th>\n",
              "      <th>PeriodOfDay</th>\n",
              "      <th>ForecastWindProduction</th>\n",
              "      <th>SystemLoadEA</th>\n",
              "      <th>SMPEA</th>\n",
              "      <th>ORKTemperature</th>\n",
              "      <th>ORKWindspeed</th>\n",
              "      <th>CO2Intensity</th>\n",
              "      <th>ActualWindProduction</th>\n",
              "      <th>SystemLoadEP2</th>\n",
              "      <th>SMPEP2</th>\n",
              "    </tr>\n",
              "  </thead>\n",
              "  <tbody>\n",
              "    <tr>\n",
              "      <th>count</th>\n",
              "      <td>37682.000000</td>\n",
              "      <td>37682.000000</td>\n",
              "      <td>37682.000000</td>\n",
              "      <td>37682.000000</td>\n",
              "      <td>37682.000000</td>\n",
              "      <td>37682.000000</td>\n",
              "      <td>37682.000000</td>\n",
              "      <td>37682.000000</td>\n",
              "      <td>37682.000000</td>\n",
              "      <td>37682.000000</td>\n",
              "      <td>37682.000000</td>\n",
              "      <td>37682.000000</td>\n",
              "      <td>37682.000000</td>\n",
              "      <td>37682.000000</td>\n",
              "      <td>37682.000000</td>\n",
              "      <td>37682.000000</td>\n",
              "    </tr>\n",
              "    <tr>\n",
              "      <th>mean</th>\n",
              "      <td>0.037578</td>\n",
              "      <td>2.998355</td>\n",
              "      <td>28.044584</td>\n",
              "      <td>15.707181</td>\n",
              "      <td>6.886789</td>\n",
              "      <td>2012.386577</td>\n",
              "      <td>23.508651</td>\n",
              "      <td>542.871513</td>\n",
              "      <td>4020.753657</td>\n",
              "      <td>62.747428</td>\n",
              "      <td>9.628443</td>\n",
              "      <td>19.209721</td>\n",
              "      <td>479.519761</td>\n",
              "      <td>519.814951</td>\n",
              "      <td>3787.560062</td>\n",
              "      <td>64.181344</td>\n",
              "    </tr>\n",
              "    <tr>\n",
              "      <th>std</th>\n",
              "      <td>0.190175</td>\n",
              "      <td>1.998845</td>\n",
              "      <td>15.552428</td>\n",
              "      <td>8.804424</td>\n",
              "      <td>3.566915</td>\n",
              "      <td>0.623780</td>\n",
              "      <td>13.854822</td>\n",
              "      <td>413.725304</td>\n",
              "      <td>860.148265</td>\n",
              "      <td>32.300069</td>\n",
              "      <td>4.439757</td>\n",
              "      <td>9.569069</td>\n",
              "      <td>85.170896</td>\n",
              "      <td>377.879680</td>\n",
              "      <td>842.544909</td>\n",
              "      <td>35.432265</td>\n",
              "    </tr>\n",
              "    <tr>\n",
              "      <th>min</th>\n",
              "      <td>0.000000</td>\n",
              "      <td>0.000000</td>\n",
              "      <td>1.000000</td>\n",
              "      <td>1.000000</td>\n",
              "      <td>1.000000</td>\n",
              "      <td>2011.000000</td>\n",
              "      <td>0.000000</td>\n",
              "      <td>0.680000</td>\n",
              "      <td>2183.940000</td>\n",
              "      <td>0.000000</td>\n",
              "      <td>-4.000000</td>\n",
              "      <td>0.000000</td>\n",
              "      <td>0.000000</td>\n",
              "      <td>1.000000</td>\n",
              "      <td>1809.960000</td>\n",
              "      <td>-47.740000</td>\n",
              "    </tr>\n",
              "    <tr>\n",
              "      <th>25%</th>\n",
              "      <td>0.000000</td>\n",
              "      <td>1.000000</td>\n",
              "      <td>14.000000</td>\n",
              "      <td>8.000000</td>\n",
              "      <td>4.000000</td>\n",
              "      <td>2012.000000</td>\n",
              "      <td>12.000000</td>\n",
              "      <td>188.927500</td>\n",
              "      <td>3281.780000</td>\n",
              "      <td>45.540000</td>\n",
              "      <td>6.000000</td>\n",
              "      <td>13.000000</td>\n",
              "      <td>421.275000</td>\n",
              "      <td>198.000000</td>\n",
              "      <td>3060.215000</td>\n",
              "      <td>45.800000</td>\n",
              "    </tr>\n",
              "    <tr>\n",
              "      <th>50%</th>\n",
              "      <td>0.000000</td>\n",
              "      <td>3.000000</td>\n",
              "      <td>29.000000</td>\n",
              "      <td>16.000000</td>\n",
              "      <td>7.000000</td>\n",
              "      <td>2012.000000</td>\n",
              "      <td>24.000000</td>\n",
              "      <td>440.645000</td>\n",
              "      <td>4105.530000</td>\n",
              "      <td>55.230000</td>\n",
              "      <td>9.000000</td>\n",
              "      <td>18.500000</td>\n",
              "      <td>480.350000</td>\n",
              "      <td>444.000000</td>\n",
              "      <td>3867.220000</td>\n",
              "      <td>55.560000</td>\n",
              "    </tr>\n",
              "    <tr>\n",
              "      <th>75%</th>\n",
              "      <td>0.000000</td>\n",
              "      <td>5.000000</td>\n",
              "      <td>43.000000</td>\n",
              "      <td>23.000000</td>\n",
              "      <td>10.000000</td>\n",
              "      <td>2013.000000</td>\n",
              "      <td>36.000000</td>\n",
              "      <td>837.182500</td>\n",
              "      <td>4638.982500</td>\n",
              "      <td>70.320000</td>\n",
              "      <td>13.000000</td>\n",
              "      <td>24.100000</td>\n",
              "      <td>537.540000</td>\n",
              "      <td>792.000000</td>\n",
              "      <td>4427.822500</td>\n",
              "      <td>72.120000</td>\n",
              "    </tr>\n",
              "    <tr>\n",
              "      <th>max</th>\n",
              "      <td>1.000000</td>\n",
              "      <td>6.000000</td>\n",
              "      <td>52.000000</td>\n",
              "      <td>31.000000</td>\n",
              "      <td>12.000000</td>\n",
              "      <td>2013.000000</td>\n",
              "      <td>47.000000</td>\n",
              "      <td>1680.000000</td>\n",
              "      <td>6492.910000</td>\n",
              "      <td>587.580000</td>\n",
              "      <td>25.000000</td>\n",
              "      <td>75.900000</td>\n",
              "      <td>842.880000</td>\n",
              "      <td>1769.000000</td>\n",
              "      <td>6309.750000</td>\n",
              "      <td>1000.000000</td>\n",
              "    </tr>\n",
              "  </tbody>\n",
              "</table>\n",
              "</div>\n",
              "      <button class=\"colab-df-convert\" onclick=\"convertToInteractive('df-db453bee-b4c0-4b81-8ca7-dcba20cee9aa')\"\n",
              "              title=\"Convert this dataframe to an interactive table.\"\n",
              "              style=\"display:none;\">\n",
              "        \n",
              "  <svg xmlns=\"http://www.w3.org/2000/svg\" height=\"24px\"viewBox=\"0 0 24 24\"\n",
              "       width=\"24px\">\n",
              "    <path d=\"M0 0h24v24H0V0z\" fill=\"none\"/>\n",
              "    <path d=\"M18.56 5.44l.94 2.06.94-2.06 2.06-.94-2.06-.94-.94-2.06-.94 2.06-2.06.94zm-11 1L8.5 8.5l.94-2.06 2.06-.94-2.06-.94L8.5 2.5l-.94 2.06-2.06.94zm10 10l.94 2.06.94-2.06 2.06-.94-2.06-.94-.94-2.06-.94 2.06-2.06.94z\"/><path d=\"M17.41 7.96l-1.37-1.37c-.4-.4-.92-.59-1.43-.59-.52 0-1.04.2-1.43.59L10.3 9.45l-7.72 7.72c-.78.78-.78 2.05 0 2.83L4 21.41c.39.39.9.59 1.41.59.51 0 1.02-.2 1.41-.59l7.78-7.78 2.81-2.81c.8-.78.8-2.07 0-2.86zM5.41 20L4 18.59l7.72-7.72 1.47 1.35L5.41 20z\"/>\n",
              "  </svg>\n",
              "      </button>\n",
              "      \n",
              "  <style>\n",
              "    .colab-df-container {\n",
              "      display:flex;\n",
              "      flex-wrap:wrap;\n",
              "      gap: 12px;\n",
              "    }\n",
              "\n",
              "    .colab-df-convert {\n",
              "      background-color: #E8F0FE;\n",
              "      border: none;\n",
              "      border-radius: 50%;\n",
              "      cursor: pointer;\n",
              "      display: none;\n",
              "      fill: #1967D2;\n",
              "      height: 32px;\n",
              "      padding: 0 0 0 0;\n",
              "      width: 32px;\n",
              "    }\n",
              "\n",
              "    .colab-df-convert:hover {\n",
              "      background-color: #E2EBFA;\n",
              "      box-shadow: 0px 1px 2px rgba(60, 64, 67, 0.3), 0px 1px 3px 1px rgba(60, 64, 67, 0.15);\n",
              "      fill: #174EA6;\n",
              "    }\n",
              "\n",
              "    [theme=dark] .colab-df-convert {\n",
              "      background-color: #3B4455;\n",
              "      fill: #D2E3FC;\n",
              "    }\n",
              "\n",
              "    [theme=dark] .colab-df-convert:hover {\n",
              "      background-color: #434B5C;\n",
              "      box-shadow: 0px 1px 3px 1px rgba(0, 0, 0, 0.15);\n",
              "      filter: drop-shadow(0px 1px 2px rgba(0, 0, 0, 0.3));\n",
              "      fill: #FFFFFF;\n",
              "    }\n",
              "  </style>\n",
              "\n",
              "      <script>\n",
              "        const buttonEl =\n",
              "          document.querySelector('#df-db453bee-b4c0-4b81-8ca7-dcba20cee9aa button.colab-df-convert');\n",
              "        buttonEl.style.display =\n",
              "          google.colab.kernel.accessAllowed ? 'block' : 'none';\n",
              "\n",
              "        async function convertToInteractive(key) {\n",
              "          const element = document.querySelector('#df-db453bee-b4c0-4b81-8ca7-dcba20cee9aa');\n",
              "          const dataTable =\n",
              "            await google.colab.kernel.invokeFunction('convertToInteractive',\n",
              "                                                     [key], {});\n",
              "          if (!dataTable) return;\n",
              "\n",
              "          const docLinkHtml = 'Like what you see? Visit the ' +\n",
              "            '<a target=\"_blank\" href=https://colab.research.google.com/notebooks/data_table.ipynb>data table notebook</a>'\n",
              "            + ' to learn more about interactive tables.';\n",
              "          element.innerHTML = '';\n",
              "          dataTable['output_type'] = 'display_data';\n",
              "          await google.colab.output.renderOutput(dataTable, element);\n",
              "          const docLink = document.createElement('div');\n",
              "          docLink.innerHTML = docLinkHtml;\n",
              "          element.appendChild(docLink);\n",
              "        }\n",
              "      </script>\n",
              "    </div>\n",
              "  </div>\n",
              "  "
            ]
          },
          "metadata": {},
          "execution_count": 62
        }
      ]
    },
    {
      "cell_type": "code",
      "source": [
        "df2_ = data[['HolidayFlag',\t'DayOfWeek',\t'WeekOfYear',\t'Day',\t'Month',\t'Year',\t'PeriodOfDay',\t'ForecastWindProduction',\t'SystemLoadEA',\t'SMPEA',\t'ORKTemperature',\t'ORKWindspeed',\t'CO2Intensity',\t'ActualWindProduction',\t'SystemLoadEP2', 'SMPEP2']]\n",
        "for i in df2_:\n",
        "  df2_.sort_values(by=i, ascending=True, na_position='last')\n",
        "  q1, q3 = np.nanpercentile(df2_[i], [25,75])\n",
        "  iqr = q3-q1\n",
        "  lower_bound = q1-(1.5*iqr)\n",
        "  upper_bound = q3+(1.5*iqr)\n",
        "  outlier_data = df2_[i][(df2_[i] < lower_bound) | (df2_[i] > upper_bound)] \n",
        "  perc = (outlier_data.count()/df2_[i].count())*100\n",
        "  print('Outliers in %s is %.2f%% with count %.f' %(i, perc, outlier_data.count()))"
      ],
      "metadata": {
        "colab": {
          "base_uri": "https://localhost:8080/"
        },
        "id": "xsCzbQvw9cxS",
        "outputId": "50bb13c0-dbfb-455e-8b85-cb7f9eebb5e6"
      },
      "execution_count": null,
      "outputs": [
        {
          "output_type": "stream",
          "name": "stdout",
          "text": [
            "Outliers in HolidayFlag is 3.76% with count 1416\n",
            "Outliers in DayOfWeek is 0.00% with count 0\n",
            "Outliers in WeekOfYear is 0.00% with count 0\n",
            "Outliers in Day is 0.00% with count 0\n",
            "Outliers in Month is 0.00% with count 0\n",
            "Outliers in Year is 0.00% with count 0\n",
            "Outliers in PeriodOfDay is 0.00% with count 0\n",
            "Outliers in ForecastWindProduction is 0.00% with count 0\n",
            "Outliers in SystemLoadEA is 0.00% with count 0\n",
            "Outliers in SMPEA is 5.45% with count 2054\n",
            "Outliers in ORKTemperature is 0.15% with count 56\n",
            "Outliers in ORKWindspeed is 2.37% with count 892\n",
            "Outliers in CO2Intensity is 0.36% with count 136\n",
            "Outliers in ActualWindProduction is 0.01% with count 5\n",
            "Outliers in SystemLoadEP2 is 0.00% with count 0\n",
            "Outliers in SMPEP2 is 6.13% with count 2309\n"
          ]
        }
      ]
    },
    {
      "cell_type": "code",
      "source": [
        "Q1 = np.percentile(data[['HolidayFlag', 'SMPEA', 'ORKTemperature', 'ORKWindspeed', 'CO2Intensity', 'SMPEP2', 'ActualWindProduction']], 25,\n",
        "                   interpolation = 'midpoint')\n",
        " \n",
        "Q3 = np.percentile(data[['HolidayFlag', 'SMPEA', 'ORKTemperature', 'ORKWindspeed', 'CO2Intensity', 'SMPEP2', 'ActualWindProduction']], 75,\n",
        "                   interpolation = 'midpoint')\n",
        "IQR = Q3 - Q1\n",
        "\n",
        "upper = np.where(data[['HolidayFlag', 'SMPEA', 'ORKTemperature', 'ORKWindspeed', 'CO2Intensity', 'SMPEP2', 'ActualWindProduction']] >= (Q3+1.5*IQR))\n",
        "lower = np.where(data[['HolidayFlag', 'SMPEA', 'ORKTemperature', 'ORKWindspeed', 'CO2Intensity', 'SMPEP2', 'ActualWindProduction']] <= (Q1-1.5*IQR))\n",
        " \n",
        "\n",
        "data.drop(upper[0], inplace = True) \n",
        "data.drop(lower[0], inplace = True)"
      ],
      "metadata": {
        "id": "iHEtjRfp93pt"
      },
      "execution_count": null,
      "outputs": []
    },
    {
      "cell_type": "markdown",
      "source": [
        "# Linear regression model"
      ],
      "metadata": {
        "id": "MfbsYiAY3jFh"
      }
    },
    {
      "cell_type": "markdown",
      "source": [
        "# 1"
      ],
      "metadata": {
        "id": "DibVI5kOBtP4"
      }
    },
    {
      "cell_type": "code",
      "source": [
        "df = data[['Day',\t'Month',\t'SystemLoadEA',\t'SMPEA',\t'ORKTemperature',\t'ORKWindspeed',\t'CO2Intensity',\t'ActualWindProduction',\t'SystemLoadEP2', 'SMPEP2']]\n",
        "X = df.iloc[:, :-1].values\n",
        "y = df.iloc[:, -1].values"
      ],
      "metadata": {
        "id": "tMvSLJVdBG2S"
      },
      "execution_count": null,
      "outputs": []
    },
    {
      "cell_type": "code",
      "source": [
        "from sklearn.model_selection import train_test_split\n",
        "X1_train, X1_test, y1_train, y1_test = train_test_split(X,y, test_size=0.3)"
      ],
      "metadata": {
        "id": "hdFdAd4dBJ7q"
      },
      "execution_count": null,
      "outputs": []
    },
    {
      "cell_type": "code",
      "source": [
        "from sklearn.linear_model import LinearRegression\n",
        "from sklearn import metrics"
      ],
      "metadata": {
        "id": "K7dmGWBX_MNZ"
      },
      "execution_count": null,
      "outputs": []
    },
    {
      "cell_type": "code",
      "source": [
        "linear1 = LinearRegression()\n",
        "linear1.fit(X1_train, y1_train)\n",
        "y1_pred = linear1.predict(X1_test)"
      ],
      "metadata": {
        "id": "K4TJXVUS_O56"
      },
      "execution_count": null,
      "outputs": []
    },
    {
      "cell_type": "code",
      "source": [
        "print(\"MSE lr: \", metrics.mean_squared_error(y1_test, y1_pred))\n",
        "print(\"RMSE lr: \", (metrics.mean_squared_error(y1_test, y1_pred))**(1/2.0))\n",
        "print(\"R2_SCORE lr: \", metrics.r2_score(y1_test, y1_pred))\n",
        "print(\"MAPE lr: \", metrics.mean_absolute_percentage_error(y1_test, y1_pred))\n",
        "print(\"MAE lr: \", metrics.mean_absolute_error(y1_test, y1_pred))"
      ],
      "metadata": {
        "colab": {
          "base_uri": "https://localhost:8080/"
        },
        "id": "c7aD7179A-P-",
        "outputId": "86da711b-e9b1-4287-d98e-09fa6699d8c8"
      },
      "execution_count": null,
      "outputs": [
        {
          "output_type": "stream",
          "name": "stdout",
          "text": [
            "MSE lr:  747.0182233538299\n",
            "RMSE lr:  27.331634114224308\n",
            "R2_SCORE lr:  0.43336168264456665\n",
            "MAPE lr:  117966242539144.14\n",
            "MAE lr:  14.644891960939685\n"
          ]
        }
      ]
    },
    {
      "cell_type": "markdown",
      "source": [
        "# 2"
      ],
      "metadata": {
        "id": "5Q7XA3oCBvv5"
      }
    },
    {
      "cell_type": "code",
      "source": [
        "df = data[['Day',\t'Month',\t'SystemLoadEA',\t'SMPEA',\t'ORKTemperature',\t'ORKWindspeed',\t'CO2Intensity',\t'ActualWindProduction',\t'SystemLoadEP2', 'SMPEP2']]\n",
        "X = df.iloc[:, :-1].values\n",
        "y = df.iloc[:, -1].values"
      ],
      "metadata": {
        "id": "QZ54pxgOCRvx"
      },
      "execution_count": null,
      "outputs": []
    },
    {
      "cell_type": "code",
      "source": [
        "from sklearn.model_selection import train_test_split\n",
        "from sklearn.preprocessing import StandardScaler\n",
        "X2_train, X2_test, y2_train, y2_test = train_test_split(X,y, test_size=0.3)\n",
        "st_x= StandardScaler()    \n",
        "X2_train= st_x.fit_transform(X2_train)    \n",
        "X2_test= st_x.transform(X2_test)"
      ],
      "metadata": {
        "id": "YnxuRLspCOnK"
      },
      "execution_count": null,
      "outputs": []
    },
    {
      "cell_type": "code",
      "source": [
        "from sklearn.linear_model import LinearRegression\n",
        "from sklearn import metrics"
      ],
      "metadata": {
        "id": "h98sSO9WCUHN"
      },
      "execution_count": null,
      "outputs": []
    },
    {
      "cell_type": "code",
      "source": [
        "linear2 = LinearRegression()\n",
        "linear2.fit(X2_train, y2_train)\n",
        "y2_pred = linear2.predict(X2_test)"
      ],
      "metadata": {
        "id": "Tn6TrXcLCV2b"
      },
      "execution_count": null,
      "outputs": []
    },
    {
      "cell_type": "code",
      "source": [
        "print(\"MSE lr: \", metrics.mean_squared_error(y2_test, y2_pred))\n",
        "print(\"RMSE lr: \", (metrics.mean_squared_error(y2_test, y2_pred))**(1/2.0))\n",
        "print(\"R2_SCORE lr: \", metrics.r2_score(y2_test, y2_pred))\n",
        "print(\"MAPE lr: \", metrics.mean_absolute_percentage_error(y2_test, y2_pred))\n",
        "print(\"MAE lr: \", metrics.mean_absolute_error(y2_test, y2_pred))"
      ],
      "metadata": {
        "colab": {
          "base_uri": "https://localhost:8080/"
        },
        "id": "qoL3NKs9CYJj",
        "outputId": "8aae40ee-292e-4627-c25c-0fc6bc3ba611"
      },
      "execution_count": null,
      "outputs": [
        {
          "output_type": "stream",
          "name": "stdout",
          "text": [
            "MSE lr:  718.0874213083193\n",
            "RMSE lr:  26.797153231422165\n",
            "R2_SCORE lr:  0.45112485010901837\n",
            "MAPE lr:  106602643091576.3\n",
            "MAE lr:  14.67282191574461\n"
          ]
        }
      ]
    },
    {
      "cell_type": "markdown",
      "source": [
        "# 3"
      ],
      "metadata": {
        "id": "o2kfKU2UCfoA"
      }
    },
    {
      "cell_type": "code",
      "source": [
        "df = data[['Day',\t'Month',\t'SystemLoadEA',\t'SMPEA',\t'ORKTemperature',\t'ORKWindspeed',\t'CO2Intensity',\t'ActualWindProduction',\t'SystemLoadEP2', 'SMPEP2']]\n",
        "X = df.iloc[:, :-1].values\n",
        "y = df.iloc[:, -1].values"
      ],
      "metadata": {
        "id": "gvD7pF1DCkhh"
      },
      "execution_count": null,
      "outputs": []
    },
    {
      "cell_type": "code",
      "source": [
        "from sklearn.model_selection import train_test_split\n",
        "from sklearn import preprocessing\n",
        "from sklearn.pipeline import make_pipeline\n",
        "from sklearn.preprocessing import StandardScaler\n",
        "X3_train, X3_test, y3_train, y3_test = train_test_split(X,y, test_size=0.3)"
      ],
      "metadata": {
        "id": "07PyLqxJCfWr"
      },
      "execution_count": null,
      "outputs": []
    },
    {
      "cell_type": "code",
      "source": [
        "from sklearn.linear_model import LinearRegression\n",
        "from sklearn import metrics"
      ],
      "metadata": {
        "id": "t50KXVLMCmnZ"
      },
      "execution_count": null,
      "outputs": []
    },
    {
      "cell_type": "code",
      "source": [
        "linear3 = make_pipeline(preprocessing.StandardScaler(), LinearRegression())\n",
        "linear3.fit(X3_train, y3_train)\n",
        "y3_pred = linear3.predict(X3_test)"
      ],
      "metadata": {
        "id": "karKkadJCogY"
      },
      "execution_count": null,
      "outputs": []
    },
    {
      "cell_type": "code",
      "source": [
        "print(\"MSE lr: \", metrics.mean_squared_error(y3_test, y3_pred))\n",
        "print(\"RMSE lr: \", (metrics.mean_squared_error(y3_test, y3_pred))**(1/2.0))\n",
        "print(\"R2_SCORE lr: \", metrics.r2_score(y3_test, y3_pred))\n",
        "print(\"MAPE lr: \", metrics.mean_absolute_percentage_error(y3_test, y3_pred))\n",
        "print(\"MAE lr: \", metrics.mean_absolute_error(y3_test, y3_pred))"
      ],
      "metadata": {
        "colab": {
          "base_uri": "https://localhost:8080/"
        },
        "id": "rgtSwVZkCqZK",
        "outputId": "902481f1-aa2e-4bc8-e982-53841ed0756c"
      },
      "execution_count": null,
      "outputs": [
        {
          "output_type": "stream",
          "name": "stdout",
          "text": [
            "MSE lr:  782.3854938054931\n",
            "RMSE lr:  27.97115467415482\n",
            "R2_SCORE lr:  0.409262414938536\n",
            "MAPE lr:  76451388347749.11\n",
            "MAE lr:  14.440755514021724\n"
          ]
        }
      ]
    }
  ]
}