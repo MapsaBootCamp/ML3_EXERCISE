{
 "cells": [
  {
   "cell_type": "markdown",
   "metadata": {
    "id": "OPWpWSXHJTSz"
   },
   "source": [
    "write  scarp python file that crawl this address https://www.theguardian.com/theguardian/series/the-quiz-thomas-eaton question and answers in each url \n",
    "\n",
    "- all things should run within python running file without runnig linux command\n",
    "- contents should save in csv file \n",
    "\n",
    "** look at csv_file to better understanding"
   ]
  },
  {
   "cell_type": "markdown",
   "metadata": {
    "id": "5h2BXTmGLnWp"
   },
   "source": [
    "### review\n"
   ]
  },
  {
   "cell_type": "markdown",
   "metadata": {
    "id": "z3S3qRThKz8Z"
   },
   "source": [
    "write linux command to run postgress docker with volume username password as environments and runs on port 5432\n",
    "\n",
    "after running it show containers and images that are running on your machine and past the screenshot of them here"
   ]
  },
  {
   "attachments": {},
   "cell_type": "markdown",
   "metadata": {},
   "source": [
    "docker run --name ml_postgres -e POSTGRS_DB=ml -e POSTGRES_USER=mapsa  -e POSTGRES_PASSWORD=mapsa1234 -p 5432:5432 -d postgres"
   ]
  },
  {
   "attachments": {},
   "cell_type": "markdown",
   "metadata": {},
   "source": [
    "ba vpn :\n",
    "Error response from daemon: pull access denied for 5432\n",
    "\n",
    "bedone vpn\n",
    "\n",
    "requested access to the resource is denied"
   ]
  }
 ],
 "metadata": {
  "colab": {
   "provenance": []
  },
  "kernelspec": {
   "display_name": "Python 3",
   "language": "python",
   "name": "python3"
  },
  "language_info": {
   "name": "python",
   "version": "3.10.5 (v3.10.5:f377153967, Jun  6 2022, 12:36:10) [Clang 13.0.0 (clang-1300.0.29.30)]"
  },
  "vscode": {
   "interpreter": {
    "hash": "aee8b7b246df8f9039afb4144a1f6fd8d2ca17a180786b69acc140d282b71a49"
   }
  }
 },
 "nbformat": 4,
 "nbformat_minor": 1
}
