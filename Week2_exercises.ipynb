{
 "cells": [
  {
   "cell_type": "markdown",
   "id": "2a1f1df6-a80b-4916-93e8-b06b873770e3",
   "metadata": {},
   "source": [
    "### Task 1:"
   ]
  },
  {
   "cell_type": "code",
   "execution_count": 11,
   "id": "87f61946-93a9-43a6-9722-67c76f555948",
   "metadata": {},
   "outputs": [
    {
     "name": "stdin",
     "output_type": "stream",
     "text": [
      " 3\n",
      " 3,2002,1\n",
      " 12,43553,2\n",
      " 3,13,1\n"
     ]
    },
    {
     "name": "stdout",
     "output_type": "stream",
     "text": [
      "667\n",
      "-1\n",
      "4\n"
     ]
    }
   ],
   "source": [
    "rounds = int(input())\n",
    "answers = []\n",
    "for _ in range(rounds):\n",
    "    n , s , a = list(map(int , input().split(\",\")))\n",
    "    result = ((s-a)/n)\n",
    "    if  result % 1 :\n",
    "        answers.append(-1)\n",
    "    else:\n",
    "        answers.append(result)\n",
    "        \n",
    "\n",
    "for ans in map(int,answers):\n",
    "    print(ans)"
   ]
  },
  {
   "cell_type": "markdown",
   "id": "586d2af2-ed19-4bfe-a188-1306f2a08755",
   "metadata": {},
   "source": [
    "### Task 2:"
   ]
  },
  {
   "cell_type": "code",
   "execution_count": 74,
   "id": "3e4ebacc-a652-4af1-a746-83f953b3d4ae",
   "metadata": {},
   "outputs": [],
   "source": [
    "def find_pattern(s:str):\n",
    "    for i in range(1,len(s)+1):\n",
    "        test_str = s[:i]\n",
    "        # print(test_str)\n",
    "        repeatation = int(len(s) // len(test_str)) +1\n",
    "        if (test_str * repeatation )[:len(s)] == s:\n",
    "            \n",
    "            return test_str\n",
    "    "
   ]
  },
  {
   "cell_type": "code",
   "execution_count": 75,
   "id": "1beba62d-fb23-49e4-ab2e-18efbe8225b1",
   "metadata": {},
   "outputs": [
    {
     "data": {
      "text/plain": [
       "'21326'"
      ]
     },
     "execution_count": 75,
     "metadata": {},
     "output_type": "execute_result"
    }
   ],
   "source": [
    "s = \"21326213262132621\"\n",
    "find_pattern(s)"
   ]
  }
 ],
 "metadata": {
  "kernelspec": {
   "display_name": "Python 3",
   "language": "python",
   "name": "python3"
  },
  "language_info": {
   "codemirror_mode": {
    "name": "ipython",
    "version": 3
   },
   "file_extension": ".py",
   "mimetype": "text/x-python",
   "name": "python",
   "nbconvert_exporter": "python",
   "pygments_lexer": "ipython3",
   "version": "3.9.7"
  }
 },
 "nbformat": 4,
 "nbformat_minor": 5
}
