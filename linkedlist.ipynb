{
  "metadata": {
    "language_info": {
      "codemirror_mode": {
        "name": "python",
        "version": 3
      },
      "file_extension": ".py",
      "mimetype": "text/x-python",
      "name": "python",
      "nbconvert_exporter": "python",
      "pygments_lexer": "ipython3",
      "version": "3.8"
    },
    "kernelspec": {
      "name": "python",
      "display_name": "Python (Pyodide)",
      "language": "python"
    }
  },
  "nbformat_minor": 4,
  "nbformat": 4,
  "cells": [
    {
      "cell_type": "code",
      "source": "class Node:\n    def __init__(self, name) -> None:\n        self.name = name\n        self.next_node = None\n        \n\n\nclass LinkedList:\n    counternext=0\n    spaceposition=0\n    \n    def __init__(self) -> None:\n        self.root = None\n        self.l=\"\"        \n\n    def __str__(self):\n        return(self.l)\n    \n    \n    def __iter__(self):\n        pass\n   \n    \n    def append(self, node):\n        if self.l=='':\n            self.l=str(node)\n        else:\n            self.l=self.l +' '+str(node)\n        print(self.l)\n\n    def __len__(self):\n        # counter=0\n        # newl=self.l.replace(\" \",\"\")                \n        # for i in (newl):\n        #     counter+=1\n        # print('--len---',self.l.count(' '))\n        return (self.l.count(' ')+1)\n    \n    def remove(self, index):\n        counter=0\n        # print(self.l.count(' '))\n        mylist=self.l.split(' ')\n        # print(mylist)\n        for i in mylist:\n            # print(i)\n            counter+=1\n            aaa=(self.__len__())\n            # print('len',aaa)\n            # print('l:',(self.l))\n            if counter== index:\n                newl=self.l.replace(\" \" +i+\" \",\" \")\n                if index==1:\n                    newl=self.l.replace(i+\" \",\" \")\n                if index==self.__len__():\n                    newl=self.l.replace(\" \" +i,\" \")\n                return(newl)\n            \n    def add_begin(self, node):\n        if self.l=='':\n            self.l=str(node)\n        else:\n            self.l=str(node)+' '+self.l\n        # print(self.l)\n        \n    def __next__(self):\n        # spaces=self.l.count(' ')\n        # mylist=self.l.split(' ')\n        self.spaceposition=self.l.find(\" \",self.spaceposition+1)\n        print('--------------',self.counternext,self.__len__())\n        if self.counternext == 0:\n            self.counternext +=1\n            return(self.l[0:self.spaceposition])\n        elif self.counternext==(self.__len__()-2):\n            # nextspace=self.l.find(self.spaceposition:10)\n            self.counternext =0\n            return(self.l[self.spaceposition:(len(self.l)+1)])\n        else:            \n            nextspace=self.l.find(\" \",self.spaceposition+1)\n            self.counternext +=1\n            return(self.l[self.spaceposition:nextspace])\n        \n        print('next------------:',self.spaceposition)\n        \n    \n    \n\n    \na=LinkedList()\na.append('1');a.append('a');a.append('aa');a.append('ab');a.add_begin('test')\nprint(a)\n# b=a.remove(4)\n# # print(len(a))\n# print(b)\n# print('len__()',len(a))\nprint('next:',next(a));print('next:',next(a));print('next:',next(a));print('next:',next(a));",
      "metadata": {
        "tags": [],
        "trusted": true
      },
      "execution_count": 42,
      "outputs": [
        {
          "name": "stdout",
          "text": "1\n1 a\n1 a aa\n1 a aa ab\ntest 1 a aa ab\n-------------- 0 5\nnext: test\n-------------- 1 5\nnext:  a\n-------------- 2 5\nnext:  aa\n-------------- 3 5\nnext:  ab\n",
          "output_type": "stream"
        }
      ]
    },
    {
      "cell_type": "code",
      "source": "",
      "metadata": {},
      "execution_count": null,
      "outputs": []
    }
  ]
}