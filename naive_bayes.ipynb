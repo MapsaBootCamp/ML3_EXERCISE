{
  "nbformat": 4,
  "nbformat_minor": 0,
  "metadata": {
    "colab": {
      "provenance": []
    },
    "kernelspec": {
      "name": "python3",
      "display_name": "Python 3"
    },
    "language_info": {
      "name": "python"
    }
  },
  "cells": [
    {
      "cell_type": "code",
      "source": [
        "import numpy as np"
      ],
      "metadata": {
        "id": "n0oQ_Vj9gd2r"
      },
      "execution_count": 2,
      "outputs": []
    },
    {
      "cell_type": "code",
      "execution_count": 3,
      "metadata": {
        "id": "csIQtc2tbArD"
      },
      "outputs": [],
      "source": [
        "class GaussianNB:\n",
        "\n",
        "  def __init__(self):\n",
        "    pass\n",
        "\n",
        "  def fit(self, X, y):\n",
        "    separated_X = self.separate_by_classes(X, y)\n",
        "    self.means = {}\n",
        "    self.std = {}\n",
        "    for class_type in self.classes:\n",
        "      self.means[class_type] = np.mean(separated_X[class_type], axis=0)[0]\n",
        "      self.std[class_type] = np.std(separated_X[class_type], axis=0)[0]\n",
        "\n",
        "\n",
        "  def predict(self, X):\n",
        "    pred = []\n",
        "    for x in X:\n",
        "      pred_class = None\n",
        "      max_prob = 0\n",
        "      for cls,prob in self.predict_proba(x).items():\n",
        "        if prob>max_prob:\n",
        "          max_prob = prob\n",
        "          pred_class = cls\n",
        "      pred.append(pred_class)\n",
        "    return pred\n",
        "\n",
        "\n",
        "  def Accuracy(y, prediction):\n",
        "    y = list(y)\n",
        "    prediction = list(prediction)\n",
        "    score = 0\n",
        "    for i, j in zip(y, prediction):\n",
        "      if i == j:\n",
        "        score += 1\n",
        "    return score / len(y)"
      ]
    }
  ]
}