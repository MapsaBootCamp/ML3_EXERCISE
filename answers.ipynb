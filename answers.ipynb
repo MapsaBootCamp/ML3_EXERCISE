{
 "cells": [
  {
   "cell_type": "markdown",
   "id": "f75e9d19",
   "metadata": {},
   "source": [
    " <h1 style=\"color: purple\">  جواب سوالات    </h1>\n",
    " <h1> 1 ) </h1>"
   ]
  },
  {
   "cell_type": "code",
   "execution_count": 2,
   "id": "4978c8b3",
   "metadata": {},
   "outputs": [],
   "source": [
    "import numpy as np\n",
    "import pandas as pd"
   ]
  },
  {
   "cell_type": "code",
   "execution_count": 3,
   "id": "7984471b",
   "metadata": {},
   "outputs": [],
   "source": [
    "numbers = np.array([ 4.5 , 7.8 ,  6.5,  0.5,  8. ,  6.5, 19. , 13.5,  2.5, 17. , 19. ,\n",
    "       19.5, 13. ,  12.21 ,  6.3 ,  0.5,  9.5, 13.5, 16. ,  2.5, 10.5,  8. ,\n",
    "       10. , 15.5,  7.5,  0. ,  1. , 10.5,  2. , 11. ,  3. , 14. ,  3.5,\n",
    "       18.5, 13. ,  1. , 14.5, 15. ,  1.52 , 15.5,  1.5,  2.8 ,  3.5,  6.5,\n",
    "        12.5, 14.5, 11.5,  8. ,  10.2 ,  5.5,  0.5, 23. ,  5. ,  0.5, 17.5,\n",
    "       17.5, 17.5, 15. ,  4.5, 17. , 18. , 10. ,  8.5, 14. , 18.5, 19.5,\n",
    "       16.3 ,  8.5,  0. ,  9.5,  6. ,  2. ,  5. ,  9.5,  4. ,  4. ,  1. ,\n",
    "        8. , 18.5, 18. , 15.5,  4.5,  1.5, 20. ,  0.5, 19. ,  4. ,  9.5,\n",
    "       12.8  ])"
   ]
  },
  {
   "cell_type": "markdown",
   "id": "410410b1",
   "metadata": {},
   "source": [
    "<h3> به کمک وکتورایز فرمول یک و دو را اعمال کرده و میبینیم که ماکسیم حال از ماکسیمم قبلی بالاتر نمیرود</h3>"
   ]
  },
  {
   "cell_type": "code",
   "execution_count": 4,
   "id": "3310d182",
   "metadata": {},
   "outputs": [],
   "source": [
    "scores=np.vectorize(lambda x:(10+(x/10)) if x<8.5 else (-1 * 0.0051*( x**2)+(0.8586*x)+3.4332))(numbers)"
   ]
  },
  {
   "cell_type": "markdown",
   "id": "a725e992",
   "metadata": {},
   "source": [
    "<h3>ارایه را از بزرگ به کوچک مرتب کرده 25 درصد بزرگ ها را انتخاب میکنیم</h3>"
   ]
  },
  {
   "cell_type": "code",
   "execution_count": 5,
   "id": "a2833c23",
   "metadata": {},
   "outputs": [],
   "source": [
    "x = np.sort(scores)\n",
    "M=x[-1::-1]\n",
    "top_new_twenty_five =M[:int(len(x)/4)] "
   ]
  },
  {
   "cell_type": "markdown",
   "id": "932c772f",
   "metadata": {},
   "source": [
    "<h3>حال 25 درصد داده های کوچکتر آرایه ی اول را درون متغیر جدید میریزیم</h3>"
   ]
  },
  {
   "cell_type": "code",
   "execution_count": 6,
   "id": "cf8ad6a2",
   "metadata": {},
   "outputs": [],
   "source": [
    "y=np.sort(numbers)\n",
    "down_old_twenty_five=y[:int(len(y)/4)]"
   ]
  },
  {
   "cell_type": "markdown",
   "id": "b01e9c7f",
   "metadata": {},
   "source": [
    "<h3>        داده های متناظر دو آرایه به دست آمده را از یکدیگر کسر کنید و در یک آرایه سه بعدی که اندازه ابعاد سوم و دوم آن یک میباشد بریزید\n",
    "</h3>"
   ]
  },
  {
   "cell_type": "code",
   "execution_count": 10,
   "id": "a7a3f878",
   "metadata": {},
   "outputs": [],
   "source": [
    "New = top_new_twenty_five - down_old_twenty_five\n",
    "New.reshape(int(len(New)),1,1)\n"
   ]
  },
  {
   "cell_type": "markdown",
   "id": "2ed2b5f6",
   "metadata": {},
   "source": [
    " <h1 style=\"color: purple\">  جواب سوالات    </h1>\n",
    " <h1> 2 ) </h1>"
   ]
  },
  {
   "cell_type": "code",
   "execution_count": 8,
   "id": "b537e8bd",
   "metadata": {},
   "outputs": [],
   "source": [
    "movies = pd.read_csv(\"imdb_movie_rank.csv\")"
   ]
  },
  {
   "cell_type": "markdown",
   "id": "e84339c9",
   "metadata": {},
   "source": [
    "<h3>در این دیتاست اگر داده ای وجود دارد که مقدار nullدارد سطرش را حذف کنید.</h3>"
   ]
  },
  {
   "cell_type": "code",
   "execution_count": 13,
   "id": "89aaa91d",
   "metadata": {},
   "outputs": [
    {
     "data": {
      "text/html": [
       "<div>\n",
       "<style scoped>\n",
       "    .dataframe tbody tr th:only-of-type {\n",
       "        vertical-align: middle;\n",
       "    }\n",
       "\n",
       "    .dataframe tbody tr th {\n",
       "        vertical-align: top;\n",
       "    }\n",
       "\n",
       "    .dataframe thead th {\n",
       "        text-align: right;\n",
       "    }\n",
       "</style>\n",
       "<table border=\"1\" class=\"dataframe\">\n",
       "  <thead>\n",
       "    <tr style=\"text-align: right;\">\n",
       "      <th></th>\n",
       "      <th>star_rating</th>\n",
       "      <th>title</th>\n",
       "      <th>content_rating</th>\n",
       "      <th>genre</th>\n",
       "      <th>duration</th>\n",
       "      <th>actors_list</th>\n",
       "    </tr>\n",
       "  </thead>\n",
       "  <tbody>\n",
       "    <tr>\n",
       "      <th>0</th>\n",
       "      <td>9.3</td>\n",
       "      <td>The Shawshank Redemption</td>\n",
       "      <td>R</td>\n",
       "      <td>Crime</td>\n",
       "      <td>142</td>\n",
       "      <td>[u'Tim Robbins', u'Morgan Freeman', u'Bob Gunt...</td>\n",
       "    </tr>\n",
       "    <tr>\n",
       "      <th>1</th>\n",
       "      <td>9.2</td>\n",
       "      <td>The Godfather</td>\n",
       "      <td>R</td>\n",
       "      <td>Crime</td>\n",
       "      <td>175</td>\n",
       "      <td>[u'Marlon Brando', u'Al Pacino', u'James Caan']</td>\n",
       "    </tr>\n",
       "    <tr>\n",
       "      <th>2</th>\n",
       "      <td>9.1</td>\n",
       "      <td>The Godfather: Part II</td>\n",
       "      <td>R</td>\n",
       "      <td>Crime</td>\n",
       "      <td>200</td>\n",
       "      <td>[u'Al Pacino', u'Robert De Niro', u'Robert Duv...</td>\n",
       "    </tr>\n",
       "    <tr>\n",
       "      <th>3</th>\n",
       "      <td>9.0</td>\n",
       "      <td>The Dark Knight</td>\n",
       "      <td>PG-13</td>\n",
       "      <td>Action</td>\n",
       "      <td>152</td>\n",
       "      <td>[u'Christian Bale', u'Heath Ledger', u'Aaron E...</td>\n",
       "    </tr>\n",
       "    <tr>\n",
       "      <th>4</th>\n",
       "      <td>8.9</td>\n",
       "      <td>Pulp Fiction</td>\n",
       "      <td>R</td>\n",
       "      <td>Crime</td>\n",
       "      <td>154</td>\n",
       "      <td>[u'John Travolta', u'Uma Thurman', u'Samuel L....</td>\n",
       "    </tr>\n",
       "  </tbody>\n",
       "</table>\n",
       "</div>"
      ],
      "text/plain": [
       "   star_rating                     title content_rating   genre  duration  \\\n",
       "0          9.3  The Shawshank Redemption              R   Crime       142   \n",
       "1          9.2             The Godfather              R   Crime       175   \n",
       "2          9.1    The Godfather: Part II              R   Crime       200   \n",
       "3          9.0           The Dark Knight          PG-13  Action       152   \n",
       "4          8.9              Pulp Fiction              R   Crime       154   \n",
       "\n",
       "                                         actors_list  \n",
       "0  [u'Tim Robbins', u'Morgan Freeman', u'Bob Gunt...  \n",
       "1    [u'Marlon Brando', u'Al Pacino', u'James Caan']  \n",
       "2  [u'Al Pacino', u'Robert De Niro', u'Robert Duv...  \n",
       "3  [u'Christian Bale', u'Heath Ledger', u'Aaron E...  \n",
       "4  [u'John Travolta', u'Uma Thurman', u'Samuel L....  "
      ]
     },
     "execution_count": 13,
     "metadata": {},
     "output_type": "execute_result"
    }
   ],
   "source": [
    "movies=movies.dropna()\n",
    "movies.head()"
   ]
  },
  {
   "cell_type": "markdown",
   "id": "f46f0fd4",
   "metadata": {},
   "source": [
    "<h3>فیلم ها را براساس مدت زمان فیلم به صورت نزولی مرتب کنید و پنجاه تای اول را در فایل csv با نام long_time ذخیره کنید</h3>"
   ]
  },
  {
   "cell_type": "code",
   "execution_count": 27,
   "id": "39351757",
   "metadata": {},
   "outputs": [],
   "source": [
    "movies_sorted = movies.sort_values(by=\"duration\")\n",
    "down_50=movies_sorted.head(50)\n",
    "down_50.to_csv(\"long_time.csv\")"
   ]
  },
  {
   "cell_type": "markdown",
   "id": "dc0e8579",
   "metadata": {},
   "source": [
    "<h3>تابعی بنویسید که نام بازیگر را به عنوان آرگومان بگیرد و تعداد فیلم های برتر از این لیست را که بازی کرده محاسبه کند.\n",
    "</h3>"
   ]
  },
  {
   "cell_type": "code",
   "execution_count": null,
   "id": "2565dc50",
   "metadata": {},
   "outputs": [],
   "source": [
    "def actorname(name):\n",
    "    a=[]\n",
    "    if name in movies[\"actor_list\"]:\n",
    "        a.append[]\n",
    "    \n"
   ]
  },
  {
   "cell_type": "markdown",
   "id": "89762a44",
   "metadata": {},
   "source": [
    "<h3>میانگین امتیاز فیلم ها را براساس ژانر نمایش به دست آورید.</h3>"
   ]
  },
  {
   "cell_type": "code",
   "execution_count": 32,
   "id": "deff77ee",
   "metadata": {},
   "outputs": [],
   "source": [
    "a=movies.groupby([\"genre\"])\n",
    "a.mean()\n"
   ]
  },
  {
   "cell_type": "markdown",
   "id": "dedbce52",
   "metadata": {},
   "source": [
    "<h3>ستونی به این داده ها اضافه کنید که در صورت اینکه یک فیلم مدت نمایش آن 150 دقیقه و یا بیشتر بود مقدار صفر و در غیر اینصورت 1 در هر سطر این ستون قرار گیرد. دیتافریم حاصل را در یک فایل csv ذخیره کنید.</h3>"
   ]
  },
  {
   "cell_type": "code",
   "execution_count": 38,
   "id": "1eefad6c",
   "metadata": {},
   "outputs": [],
   "source": [
    "movies[\"new\"]=np.vectorize(lambda x:0 if x>=150 else 1)(movies[\"duration\"])\n",
    "movies.to_csv(\"new.csv\")"
   ]
  },
  {
   "cell_type": "markdown",
   "id": "328e098d",
   "metadata": {},
   "source": [
    "<h3>عنوان ستونها را به نحوی تغییر دهید که در ستون های دارای _(آندرلاین) فاصله قرار گیرد. به عنوان مثال star_rating به star rating تبدیل می شود.</h3>"
   ]
  },
  {
   "cell_type": "code",
   "execution_count": 41,
   "id": "70c252ab",
   "metadata": {},
   "outputs": [],
   "source": [
    "movies.rename(columns={'star_rating':'star rating','content_rating':'content rating','actors_list':'actors list'}, inplace=True)"
   ]
  },
  {
   "cell_type": "markdown",
   "id": "b02b6763",
   "metadata": {},
   "source": [
    "<h3>داده ها را براساس ژانر گروه بندی و مرتب کنید و از هر ژانر صرفا سه تای برتر را نمایش دهید</h3>"
   ]
  },
  {
   "cell_type": "code",
   "execution_count": 49,
   "id": "c22a0a26",
   "metadata": {},
   "outputs": [
    {
     "data": {
      "text/html": [
       "<div>\n",
       "<style scoped>\n",
       "    .dataframe tbody tr th:only-of-type {\n",
       "        vertical-align: middle;\n",
       "    }\n",
       "\n",
       "    .dataframe tbody tr th {\n",
       "        vertical-align: top;\n",
       "    }\n",
       "\n",
       "    .dataframe thead th {\n",
       "        text-align: right;\n",
       "    }\n",
       "</style>\n",
       "<table border=\"1\" class=\"dataframe\">\n",
       "  <thead>\n",
       "    <tr style=\"text-align: right;\">\n",
       "      <th>star rating</th>\n",
       "      <th>7.4</th>\n",
       "      <th>7.5</th>\n",
       "      <th>7.6</th>\n",
       "      <th>7.7</th>\n",
       "      <th>7.8</th>\n",
       "      <th>7.9</th>\n",
       "      <th>8.0</th>\n",
       "      <th>8.1</th>\n",
       "      <th>8.2</th>\n",
       "      <th>8.3</th>\n",
       "      <th>8.4</th>\n",
       "      <th>8.5</th>\n",
       "      <th>8.6</th>\n",
       "      <th>8.7</th>\n",
       "      <th>8.8</th>\n",
       "      <th>8.9</th>\n",
       "      <th>9.0</th>\n",
       "      <th>9.1</th>\n",
       "      <th>9.2</th>\n",
       "      <th>9.3</th>\n",
       "    </tr>\n",
       "    <tr>\n",
       "      <th>genre</th>\n",
       "      <th></th>\n",
       "      <th></th>\n",
       "      <th></th>\n",
       "      <th></th>\n",
       "      <th></th>\n",
       "      <th></th>\n",
       "      <th></th>\n",
       "      <th></th>\n",
       "      <th></th>\n",
       "      <th></th>\n",
       "      <th></th>\n",
       "      <th></th>\n",
       "      <th></th>\n",
       "      <th></th>\n",
       "      <th></th>\n",
       "      <th></th>\n",
       "      <th></th>\n",
       "      <th></th>\n",
       "      <th></th>\n",
       "      <th></th>\n",
       "    </tr>\n",
       "  </thead>\n",
       "  <tbody>\n",
       "    <tr>\n",
       "      <th>Action</th>\n",
       "      <td>4</td>\n",
       "      <td>10</td>\n",
       "      <td>25</td>\n",
       "      <td>17</td>\n",
       "      <td>21</td>\n",
       "      <td>11</td>\n",
       "      <td>10</td>\n",
       "      <td>12</td>\n",
       "      <td>4</td>\n",
       "      <td>7</td>\n",
       "      <td>4</td>\n",
       "      <td>3</td>\n",
       "      <td>2</td>\n",
       "      <td>2</td>\n",
       "      <td>2</td>\n",
       "      <td>0</td>\n",
       "      <td>1</td>\n",
       "      <td>0</td>\n",
       "      <td>0</td>\n",
       "      <td>0</td>\n",
       "    </tr>\n",
       "    <tr>\n",
       "      <th>Adventure</th>\n",
       "      <td>6</td>\n",
       "      <td>6</td>\n",
       "      <td>6</td>\n",
       "      <td>5</td>\n",
       "      <td>9</td>\n",
       "      <td>5</td>\n",
       "      <td>12</td>\n",
       "      <td>7</td>\n",
       "      <td>2</td>\n",
       "      <td>8</td>\n",
       "      <td>3</td>\n",
       "      <td>1</td>\n",
       "      <td>0</td>\n",
       "      <td>1</td>\n",
       "      <td>2</td>\n",
       "      <td>1</td>\n",
       "      <td>0</td>\n",
       "      <td>0</td>\n",
       "      <td>0</td>\n",
       "      <td>0</td>\n",
       "    </tr>\n",
       "    <tr>\n",
       "      <th>Animation</th>\n",
       "      <td>2</td>\n",
       "      <td>4</td>\n",
       "      <td>6</td>\n",
       "      <td>8</td>\n",
       "      <td>9</td>\n",
       "      <td>6</td>\n",
       "      <td>9</td>\n",
       "      <td>4</td>\n",
       "      <td>5</td>\n",
       "      <td>3</td>\n",
       "      <td>3</td>\n",
       "      <td>2</td>\n",
       "      <td>1</td>\n",
       "      <td>0</td>\n",
       "      <td>0</td>\n",
       "      <td>0</td>\n",
       "      <td>0</td>\n",
       "      <td>0</td>\n",
       "      <td>0</td>\n",
       "      <td>0</td>\n",
       "    </tr>\n",
       "  </tbody>\n",
       "</table>\n",
       "</div>"
      ],
      "text/plain": [
       "star rating  7.4  7.5  7.6  7.7  7.8  7.9  8.0  8.1  8.2  8.3  8.4  8.5  8.6  \\\n",
       "genre                                                                          \n",
       "Action         4   10   25   17   21   11   10   12    4    7    4    3    2   \n",
       "Adventure      6    6    6    5    9    5   12    7    2    8    3    1    0   \n",
       "Animation      2    4    6    8    9    6    9    4    5    3    3    2    1   \n",
       "\n",
       "star rating  8.7  8.8  8.9  9.0  9.1  9.2  9.3  \n",
       "genre                                           \n",
       "Action         2    2    0    1    0    0    0  \n",
       "Adventure      1    2    1    0    0    0    0  \n",
       "Animation      0    0    0    0    0    0    0  "
      ]
     },
     "execution_count": 49,
     "metadata": {},
     "output_type": "execute_result"
    }
   ],
   "source": [
    "pd.crosstab(movies[\"genre\"],movies[\"star rating\"]).iloc[:3]"
   ]
  },
  {
   "cell_type": "markdown",
   "id": "82a06e97",
   "metadata": {},
   "source": [
    " <h1 style=\"color: purple\">  جواب سوالات    </h1>\n",
    " <h1> 3 ) </h1>"
   ]
  },
  {
   "cell_type": "markdown",
   "id": "6af9d639",
   "metadata": {},
   "source": [
    " read. csv() as well as the read. csv2() function are almost identical to the read. table() function, with the sole difference that they have the header and fill arguments set as TRUE by default."
   ]
  },
  {
   "cell_type": "markdown",
   "id": "3f89a4f3",
   "metadata": {},
   "source": [
    " <h1 style=\"color: purple\">  جواب سوالات    </h1>\n",
    " <h1> 4 ) </h1>"
   ]
  },
  {
   "cell_type": "markdown",
   "id": "38f90ebf",
   "metadata": {},
   "source": [
    "The crosstab() function is used to compute a simple cross tabulation of two (or more) factors. By default computes a frequency table of the factors unless an array of values and an aggregation function are passed. Values to group by in the rows. Values to group by in the columns"
   ]
  },
  {
   "cell_type": "markdown",
   "id": "5b7f36b2",
   "metadata": {},
   "source": [
    "یکی از بهترین راه های مقایسه ی دو ستون است.  در اینجا ژانر هارا دسته بندی کرده و اطلاعات  کانتنت ریتینگ آن را به تفکیک جدا کرده است "
   ]
  },
  {
   "cell_type": "markdown",
   "id": "a910bf15",
   "metadata": {},
   "source": [
    " <h1 style=\"color: purple\">  جواب سوالات    </h1>\n",
    " <h1> 5 ) </h1>"
   ]
  },
  {
   "cell_type": "code",
   "execution_count": 57,
   "id": "df9aa4a7",
   "metadata": {},
   "outputs": [
    {
     "data": {
      "text/html": [
       "<div>\n",
       "<style scoped>\n",
       "    .dataframe tbody tr th:only-of-type {\n",
       "        vertical-align: middle;\n",
       "    }\n",
       "\n",
       "    .dataframe tbody tr th {\n",
       "        vertical-align: top;\n",
       "    }\n",
       "\n",
       "    .dataframe thead th {\n",
       "        text-align: right;\n",
       "    }\n",
       "</style>\n",
       "<table border=\"1\" class=\"dataframe\">\n",
       "  <thead>\n",
       "    <tr style=\"text-align: right;\">\n",
       "      <th></th>\n",
       "      <th>star rating</th>\n",
       "      <th>duration</th>\n",
       "      <th>new</th>\n",
       "    </tr>\n",
       "  </thead>\n",
       "  <tbody>\n",
       "    <tr>\n",
       "      <th>star rating</th>\n",
       "      <td>1.000000</td>\n",
       "      <td>0.229410</td>\n",
       "      <td>-0.223764</td>\n",
       "    </tr>\n",
       "    <tr>\n",
       "      <th>duration</th>\n",
       "      <td>0.229410</td>\n",
       "      <td>1.000000</td>\n",
       "      <td>-0.744606</td>\n",
       "    </tr>\n",
       "    <tr>\n",
       "      <th>new</th>\n",
       "      <td>-0.223764</td>\n",
       "      <td>-0.744606</td>\n",
       "      <td>1.000000</td>\n",
       "    </tr>\n",
       "  </tbody>\n",
       "</table>\n",
       "</div>"
      ],
      "text/plain": [
       "             star rating  duration       new\n",
       "star rating     1.000000  0.229410 -0.223764\n",
       "duration        0.229410  1.000000 -0.744606\n",
       "new            -0.223764 -0.744606  1.000000"
      ]
     },
     "execution_count": 57,
     "metadata": {},
     "output_type": "execute_result"
    }
   ],
   "source": [
    "movies.corr()"
   ]
  },
  {
   "cell_type": "markdown",
   "id": "73d4e9dc",
   "metadata": {},
   "source": [
    "corr() is used to find the pairwise correlation of all columns in the Pandas Dataframe in Python."
   ]
  },
  {
   "cell_type": "markdown",
   "id": "8564e60e",
   "metadata": {},
   "source": [
    "در اینجا همبستگی استار ریتینگ دیوریشن و نیو بررسی شده است . همانطور که مشاهده میکنید بدلیل همبستگی هر ستون با خود قطر اصلی یک است"
   ]
  },
  {
   "cell_type": "markdown",
   "id": "df8242f6",
   "metadata": {},
   "source": [
    " <h1 style=\"color: purple\">  جواب سوالات    </h1>\n",
    " <h1> 6 ) </h1>"
   ]
  },
  {
   "cell_type": "code",
   "execution_count": 61,
   "id": "9de018be",
   "metadata": {},
   "outputs": [
    {
     "data": {
      "text/plain": [
       "content rating\n",
       "R            460\n",
       "PG-13        189\n",
       "PG           123\n",
       "NOT RATED     65\n",
       "APPROVED      47\n",
       "UNRATED       38\n",
       "G             32\n",
       "NC-17          7\n",
       "PASSED         7\n",
       "X              4\n",
       "GP             3\n",
       "TV-MA          1\n",
       "dtype: int64"
      ]
     },
     "execution_count": 61,
     "metadata": {},
     "output_type": "execute_result"
    }
   ],
   "source": [
    "movies.value_counts(subset =\"content rating\")"
   ]
  },
  {
   "cell_type": "markdown",
   "id": "eb5a4817",
   "metadata": {},
   "source": [
    " <h1 style=\"color: purple\">  جواب سوالات    </h1>\n",
    " <h1> 7 ) </h1>"
   ]
  },
  {
   "cell_type": "code",
   "execution_count": null,
   "id": "d25ffda1",
   "metadata": {},
   "outputs": [],
   "source": []
  },
  {
   "cell_type": "markdown",
   "id": "7996919c",
   "metadata": {},
   "source": [
    " <h1 style=\"color: purple\">  جواب سوالات    </h1>\n",
    " <h1> 8 ) </h1>"
   ]
  },
  {
   "cell_type": "markdown",
   "id": "e416e672",
   "metadata": {},
   "source": [
    "The pivot_table() function is used to create a spreadsheet-style pivot table as a DataFrame. The levels in the pivot table will be stored in MultiIndex objects (hierarchical indexes) on the index and columns of the result DataFrame."
   ]
  }
 ],
 "metadata": {
  "kernelspec": {
   "display_name": "Python 3 (ipykernel)",
   "language": "python",
   "name": "python3"
  },
  "language_info": {
   "codemirror_mode": {
    "name": "ipython",
    "version": 3
   },
   "file_extension": ".py",
   "mimetype": "text/x-python",
   "name": "python",
   "nbconvert_exporter": "python",
   "pygments_lexer": "ipython3",
   "version": "3.9.12"
  }
 },
 "nbformat": 4,
 "nbformat_minor": 5
}
