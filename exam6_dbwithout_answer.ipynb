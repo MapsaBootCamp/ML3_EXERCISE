{
 "cells": [
  {
   "attachments": {},
   "cell_type": "markdown",
   "metadata": {},
   "source": [
    "answer below questions\n",
    "\n",
    "1-what is diffrent betwee select and select distinct\n",
    "\n",
    "2- with sql how do you select all the records from the table named\"Person\" where the value of the column\"FirstName\" starts with an \"a\"\n",
    "\n",
    "3-what does truncate do \n",
    "\n",
    "4-with which sql command you can change table schema ? make an example\n",
    "\n",
    "5-how do you cahnge a record that saved in table\n",
    "\n",
    "6-what is the meaning of pk and foreign key are they diffrent?\n",
    "\n"
   ]
  },
  {
   "attachments": {},
   "cell_type": "markdown",
   "metadata": {},
   "source": [
    "1. SELECT * will select all the columns from the tables in the FROM clause; SELECT DISTINCT * will find all unique combinations of row data for tables in the FROM clause. DISTINCT forces a sort and unique filtering operations making it far slower for large data.\n",
    "\n",
    " اولی همه رکورد های موجود جدول را میاورد اما دومی ترکیب های خاص و یکتا را میاورد\n",
    "\n",
    "2. using following piece of code:\n",
    "\n",
    "cur.execute(\"SELECT * FROM Person WHERE FirstName 'a%'\")\n",
    "\n",
    "3. TRUNCATE TABLE removes all rows from a table, but the table structure and its columns, constraints, indexes, and so on remain. \n",
    "\n",
    "رکورد های موجود در جدول را تمیز میکند یعنی ساختار جدول حفظ میشود اما همه رکورد ها پاک میشود و خود جدول باقی میماند\n",
    "\n",
    "4. ALTER TABLE \"tablename\"\n",
    "\n",
    "برای اضافه کردن به جدول شخص در سوال 2 میتوانیم کد ملی را اینطوری اضافه نماییم\n",
    "\n",
    "cur.execute(\"\n",
    "ALTER TABLE Person\n",
    "ADD NationalID int;\n",
    "\")\n",
    "\n",
    "5. UPDATE table_name SET col1_name = new_value .... WHERE condition_that_select_record\n",
    "\n",
    "6. pk: کلید اولیه   fk: کلید خارجی\n",
    "\n",
    "کلید اولیه: یکی از خاصیت های یکتا و یونیک هر ریکورد که آن ریکورد خاص در آن جدول و دیتابیس به آن خاصیت شناخته میشود \n",
    "و به صورت معمول در باقی جداول با آن خاصیت یا کلید فرا خوانده میشود\n",
    "\n",
    "کلید خارجی: برای مثال سید خرید نیاز به یک خریدار دارد و برای آنکه خریدار هر سبد خرید شناخته شود باید یک خاصیت بخصوص از آن خریدار را در\n",
    "رکورد هر سبد خرید نگه داری نمود که به آن خاصیت به خصوص از خریدار در جدول سبد های خرید کلید خارجی خریدار میگویند\n",
    "\n",
    "\n",
    "\n"
   ]
  },
  {
   "attachments": {},
   "cell_type": "markdown",
   "metadata": {},
   "source": [
    "## from class\n",
    "#### fill in the ..... blanks\n"
   ]
  },
  {
   "cell_type": "code",
   "execution_count": 7,
   "metadata": {},
   "outputs": [
    {
     "name": "stdout",
     "output_type": "stream",
     "text": [
      "[('titanic',)]\n"
     ]
    }
   ],
   "source": [
    "import sqlite3\n",
    "conn = sqlite3.connect(\"titanic.db\")\n",
    "curs = conn.cursor()\n",
    "curs.execute(\"SELECT name FROM sqlite_master WHERE type='table';\")\n",
    "print(curs.fetchmany())\n",
    "curs.execute(\"UPDATE titanic SET IsReverend = 0 WHERE Name NOT LIKE '%Rev%'\")\n",
    "conn.close()"
   ]
  },
  {
   "cell_type": "code",
   "execution_count": null,
   "metadata": {},
   "outputs": [],
   "source": [
    "import psycopg2\n",
    "import psycopg2.extras\n",
    "import pandas as pd\n",
    "\n",
    "# Connect to your postgres DB\n",
    "conn = psycopg2.connect(\n",
    "    host=\"localhost\",\n",
    "    database=\"ml\",\n",
    "    user=\"mapsa\",\n",
    "    password=\"mapsa1234\")\n",
    "\n",
    "# pandas dataframe\n",
    "# df = pd.read_sql_query(\"SELECT * FROM users\", conn)\n",
    "\n",
    "# Open a cursor to perform database operations\n",
    "cur = conn.cursor(cursor_factory=psycopg2.extras.DictCursor)\n",
    "# cur = conn.cursor()\n",
    "\n",
    "\n",
    "# find users\n",
    "cur.execute(\"SELECT username FROM users\")\n",
    "# cur.fetchmany()"
   ]
  },
  {
   "cell_type": "markdown",
   "metadata": {
    "id": "OPWpWSXHJTSz"
   },
   "source": [
    "### sqlalchemy is big orm i want you use peewe orm that give you a hand in making queries\n",
    "1-use it to make sqlite database with name and day(date kind)scheme that named peewedb.db and create it"
   ]
  },
  {
   "cell_type": "code",
   "execution_count": 8,
   "metadata": {},
   "outputs": [
    {
     "name": "stdout",
     "output_type": "stream",
     "text": [
      "Requirement already satisfied: peewee in d:\\ml3_exercise\\.venv\\lib\\site-packages (3.15.4)\n"
     ]
    }
   ],
   "source": [
    "! pip install peewee\n",
    "import peewee"
   ]
  },
  {
   "cell_type": "markdown",
   "metadata": {},
   "source": [
    "2- add two row in your database first on is (name=azaddel and day= (1991,2,14) and second one is (name=yourname, day=yourbirthday) and save it to peewedb datbase in person table"
   ]
  },
  {
   "cell_type": "markdown",
   "metadata": {},
   "source": [
    "3- filter the table with rows that their name is equal to your name "
   ]
  },
  {
   "cell_type": "code",
   "execution_count": null,
   "metadata": {},
   "outputs": [],
   "source": [
    "me.name\n"
   ]
  }
 ],
 "metadata": {
  "colab": {
   "provenance": []
  },
  "kernelspec": {
   "display_name": ".venv",
   "language": "python",
   "name": "python3"
  },
  "language_info": {
   "codemirror_mode": {
    "name": "ipython",
    "version": 3
   },
   "file_extension": ".py",
   "mimetype": "text/x-python",
   "name": "python",
   "nbconvert_exporter": "python",
   "pygments_lexer": "ipython3",
   "version": "3.10.7"
  },
  "vscode": {
   "interpreter": {
    "hash": "8b7413deb8f258bb63c12f28d7f10873092ad3300d2a8cc15828dd1db22a4333"
   }
  }
 },
 "nbformat": 4,
 "nbformat_minor": 1
}
