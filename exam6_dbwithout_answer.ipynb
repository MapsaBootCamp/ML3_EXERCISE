{
 "cells": [
  {
   "cell_type": "markdown",
   "metadata": {},
   "source": [
    "# Answer below questions"
   ]
  },
  {
   "cell_type": "markdown",
   "metadata": {},
   "source": [
    "## 1-what is diffrent betwee select and select distinct\n",
    "\n",
    "SELECT * will select all the columns from the tables in the FROM clause; SELECT DISTINCT * will find all unique combinations of row data for tables in the FROM clause. DISTINCT forces a sort and unique filtering operations making it far slower for large data.\n"
   ]
  },
  {
   "cell_type": "markdown",
   "metadata": {},
   "source": [
    "## 2- with sql how do you select all the records from the table named\"Person\" where the value of the column\"FirstName\" starts with an \"a\"\n",
    "\n",
    " SELECT * FROM Person WHERE FirstName LIKE 'a%'"
   ]
  },
  {
   "cell_type": "markdown",
   "metadata": {},
   "source": [
    "## 3-what does truncate do \n",
    "TRUNCATE TABLE removes all rows from a table, but the table structure and its columns, constraints, indexes, and so on remain. To remove the table definition in addition to its data, use the DROP TABLE statement."
   ]
  },
  {
   "cell_type": "markdown",
   "metadata": {},
   "source": [
    "## 4-with which sql command you can change table schema ? make an example\n",
    "\n",
    "ALTER SCHEMA can only be used to move securables between schemas in the same database. To change or drop a securable within a schema, use the ALTER or DROP statement specific to that securable.\n",
    "\n",
    "The ALTER TABLE statement is used to add, delete, or modify columns in an existing table.\n",
    "The ALTER TABLE statement is also used to add and drop various constraints on an existing table.\n",
    "\n",
    "ALTER TABLE - ADD Column\n",
    "To add a column in a table, use the following syntax:\n",
    "\n",
    "ALTER TABLE table_name\n",
    "ADD column_name datatype;\n",
    "\n",
    "ALTER TABLE - DROP COLUMN\n",
    "To delete a column in a table, use the following syntax (notice that some database systems don't allow deleting a column):\n",
    "\n",
    "ALTER TABLE table_name\n",
    "DROP COLUMN column_name;\n",
    "\n",
    "ALTER TABLE - RENAME COLUMN\n",
    "To rename a column in a table, use the following syntax:\n",
    "\n",
    "ALTER TABLE table_name\n",
    "RENAME COLUMN old_name to new_name;\n",
    "\n",
    "ALTER TABLE - ALTER/MODIFY DATATYPE\n",
    "To change the data type of a column in a table, use the following syntax:\n",
    "\n",
    "SQL Server / MS Access:\n",
    "\n",
    "ALTER TABLE table_name\n",
    "ALTER COLUMN column_name datatype;\n",
    "My SQL / Oracle (prior version 10G):\n",
    "\n",
    "ALTER TABLE table_name\n",
    "MODIFY COLUMN column_name datatype;\n"
   ]
  },
  {
   "cell_type": "markdown",
   "metadata": {},
   "source": [
    "# 5-how do you cahnge a record that saved in table\n",
    "\n",
    "The UPDATE command in SQL is used to modify or change the existing records in a table. If we want to update a particular value, we use the WHERE clause along with the UPDATE clause.\n",
    "\n",
    "\n",
    "UPDATE table_name\n",
    "\n",
    "SET col1=val1, col2=val2…\n",
    "\n",
    "[Where condition];"
   ]
  },
  {
   "cell_type": "markdown",
   "metadata": {},
   "source": [
    "## 6-what is the meaning of pk and foreign key are they diffrent?\n",
    "A primary key is used to ensure data in the specific column is unique. \n",
    "A foreign key is a column or group of columns in a relational database table that provides a link between data in two tables. \n",
    "It uniquely identifies a record in the relational database table.\n"
   ]
  },
  {
   "cell_type": "markdown",
   "metadata": {},
   "source": [
    "## from calss\n",
    "#### fill in the ..... blanks\n"
   ]
  },
  {
   "cell_type": "code",
   "execution_count": null,
   "metadata": {},
   "outputs": [],
   "source": [
    "import sqlite3\n",
    "conn = sqlite3.connect(\"titanic.db\")\n",
    "curs = conn.cursor()\n",
    "curs.execute(\"SELECT name FROM sqlite_master WHERE type='table';\")\n",
    "print(curs.fetchmany(2))\n",
    "curs.execute(\"UPDATE titanic SET IsReverend = 0 WHERE Name NOT LIKE '%Rev%'\")\n",
    "conn.commit()"
   ]
  },
  {
   "cell_type": "code",
   "execution_count": null,
   "metadata": {},
   "outputs": [],
   "source": [
    "import psycopg2       ## Installing binary version\n",
    "import psycopg2.extras\n",
    "import pandas as pd\n",
    "\n",
    "# Connect to your postgres DB\n",
    "conn = psycopg2.connect(\n",
    "    host = \"localhost\",\n",
    "    dbname = \"ml\",\n",
    "    user = \"mapsa\",\n",
    "    password = \"mapsa1234\")\n",
    "\n",
    "# pandas dataframe\n",
    "# df = pd.read_sql_query(\"SELECT * FROM users\", conn)\n",
    "\n",
    "# Open a cursor to perform database operations\n",
    "cur = conn.cursor(cursor_factory = psycopg2.extras.DictCursor)\n",
    "# cur = conn.cursor()\n",
    "\n",
    "\n",
    "# find users\n",
    "cur.execute(\"SELECT username FROM users\")"
   ]
  },
  {
   "cell_type": "markdown",
   "metadata": {
    "id": "OPWpWSXHJTSz"
   },
   "source": [
    "### sqlalchemy is big orm i want you use peewe orm that give you a hand in making queries\n",
    "1-use it to make sqlite database with name and day(date kind)scheme that named peewedb.db and create it"
   ]
  },
  {
   "cell_type": "code",
   "execution_count": 110,
   "metadata": {},
   "outputs": [],
   "source": [
    "from peewee import *\n",
    "\n",
    "# Assumes you have created the database \"peewedb\" already.\n",
    "db = SqliteDatabase('peewedb.db')\n",
    "\n",
    "class Person (Model):\n",
    "    name=TextField()\n",
    "    date=DateTimeField()\n",
    "    class Meta:\n",
    "        database=db\n",
    "        db_table='Person'\n",
    "\n",
    "Person.create_table()"
   ]
  },
  {
   "cell_type": "markdown",
   "metadata": {},
   "source": [
    "2- add two row in your database first on is (name=azaddel and day= (1991,2,14) and second one is (name=yourname, day=yourbirthday) and save it to peewedb datbase in person table"
   ]
  },
  {
   "cell_type": "code",
   "execution_count": 115,
   "metadata": {},
   "outputs": [
    {
     "data": {
      "text/plain": [
       "6"
      ]
     },
     "execution_count": 115,
     "metadata": {},
     "output_type": "execute_result"
    }
   ],
   "source": [
    "(Person.insert_many([{\"name\":\"maryam\", \"date\":date(1986,1,5)}, {\"name\":\"azaddel\", \"date\":date(1991,2,14)}])\n",
    ".execute())"
   ]
  },
  {
   "cell_type": "markdown",
   "metadata": {},
   "source": [
    "3- filter the table with rows that their name is equal to your name "
   ]
  },
  {
   "cell_type": "code",
   "execution_count": 116,
   "metadata": {},
   "outputs": [
    {
     "data": {
      "text/plain": [
       "'maryam'"
      ]
     },
     "execution_count": 116,
     "metadata": {},
     "output_type": "execute_result"
    }
   ],
   "source": [
    "Person.select().where(Person.name == 'maryam').get().name"
   ]
  }
 ],
 "metadata": {
  "colab": {
   "provenance": []
  },
  "kernelspec": {
   "display_name": "Python 3 (ipykernel)",
   "language": "python",
   "name": "python3"
  },
  "language_info": {
   "codemirror_mode": {
    "name": "ipython",
    "version": 3
   },
   "file_extension": ".py",
   "mimetype": "text/x-python",
   "name": "python",
   "nbconvert_exporter": "python",
   "pygments_lexer": "ipython3",
   "version": "3.10.6"
  }
 },
 "nbformat": 4,
 "nbformat_minor": 1
}
