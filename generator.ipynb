{
  "nbformat": 4,
  "nbformat_minor": 0,
  "metadata": {
    "colab": {
      "provenance": []
    },
    "kernelspec": {
      "name": "python3",
      "display_name": "Python 3"
    },
    "language_info": {
      "name": "python"
    }
  },
  "cells": [
    {
      "cell_type": "code",
      "execution_count": 5,
      "metadata": {
        "colab": {
          "base_uri": "https://localhost:8080/"
        },
        "id": "4RJhZ-u1WABD",
        "outputId": "43497ba1-4c1e-41c5-c5ec-b95c5b4bf39f"
      },
      "outputs": [
        {
          "output_type": "stream",
          "name": "stdout",
          "text": [
            "128\n",
            "648\n",
            "bwwkpkqpwojvvulcwuxnbocdpvyotkooioanvsybrcnqupfwvuvgjaswskmvzimlwwbezgylkiwbgpxdezvtoktymroimgvrsdfq\n",
            "qgnafyfanolmcbmypusujfuvxnpjtsxqdatmpwbjzwlcdcdvnkalnoomysfumedxofkedfsxigqqueipaufefwqeuhcimuzxhnjc\n",
            "dznxfxgxcyxietrzekmfobnjtdhcpytxpqldieognvqipeiisldidtbtnpfvjwcbltfdccbmhqkpjvfbpjqxprlqjkeuycmosxqr\n",
            "risiwulujaqgycywveejyvtjvmzkgspmvwwyacsxzzutsgetfmxyjzbqjxysmnkkslaujcswygfokskckdqcgwbultdwextvjekn\n",
            "xdkprvsbhotefaknbbanqrvhtqyxulstlcalrtgqllscifufmnrwhjinquzhloqhfwfqezaliveizagbvcgesbsnglmqztybdmle\n",
            "lndejnnaybwxlaqqwdnvtkhcrrgeixovwpjmlcucvzsexzdqitothxahvssobuvuibdzezywquqyoupgtgfgpyexpwtxkfhwluwv\n",
            "kbdbxvetapleiihxueruiqzuxhpezmslhbkxzjcidehmysndkmhjaupcoxudwmxvieqcktcjnkxkjlxklembfxozdvknhylrklol\n",
            "tnpynxjxpfxfuvxetomjuuoyhivvbfmgjwpbnmkhxdxjgcapflbhdiqmgmiutzczvesmlycvodasdyewqrrnmtxpcoacgsldrnwa\n",
            "rcdgdajwcfwlrzmzzhyvllwdhsomhrqcllsurmfnsfjoaiiukvvlrffzbpcqcgkbgifgemvafalspmgbwnfbubaaxlgorerirjxv\n",
            "ilrqifylcdbebkvdurpdwmyhwnsrdqvcbwcmnwcudiaylrlfniwktdmoycaiuadcdcjokpryejbwccorwylkyacxwrhbivcfpxun\n",
            "myxjxtlgqtlazrhlgirnthmtnqddcknxvfckzulexyyogrbqahjnpydabptkqulmrxreovsmydqbmsekfkbmyaumesqifkpteszl\n",
            "shczmgjntjdbizmzyfdpjwufxzhuctkquvobeylelceqofhxxqwhawqkgcfrrbmrzxdfxmpkfwsmjjcdmpyofvljzumcplfjiymv\n",
            "tglozazufbdjpsgbwfcoqvouphpvpvvevozumclznuwkysfoynhhvfvcsebwivfkkowxayforihjjqxwedxuekigaeicnxyuxgxq\n",
            "sffgmpgedprfayoryjexvzujnstagarlxfcjeygimmbbkjblhbppiqhdaezzkzswhtmcljxvcyykjpgkunydbaiozgvmavbujiut\n",
            "skutgabkhogqbndgqmkbdixclxivderlrazuizufjrmwhhxniaxziocgckwsclnntlvxwwpvwdsdhzrbamyvzpsqzghnylvkmiuc\n",
            "rnqzgaxdxhyobdsbypvbvbsyvmojbahjonpkromrttckgdctsughicgebwxzwfzbxoyelrcsrnyinljwbcupqunevkiyeiccqlhc\n",
            "duupprxddjwuzjbytjekaddckyvgrxnxswmuppltndjebetqzrbfnelacqqteabibpvlzygecacvbsugsctovxsrekzfncnvugxs\n",
            "xhdwycevilsobsjfullsjwhzftwrfjngarpcyrracncxlrqyzxziceooqlnktrgrrjfbdgokmjstemppcfcmigtpwltaegtvvxox\n",
            "woeytlmgjmgtghmkioeadgqjsayuqpgrcxorjmlnuggryaanbitjjabqsvpleekeqgdtxpcxsouwlkslkvruxcbhwfilhuwopwbi\n",
            "fcdariptzvrafnuflpfztngbtnuhimxmbfjzqqttnmsadvjscphyvsedfkkwrownolqsmoqzlrkipjzpsugcdebqmexyijfofjhr\n",
            "jnjkxvfwfirfnlndcrwivezdzwxcokermbupkhtripihlgyifengsdlnrpkwmrbgmwdyxmhtcneuokitbdtphrpebmcittwptlue\n",
            "nhzazcydsgnlrsndfjtzhpdchjhyrrzwzezgesqewpikijweysltvikggokykrtvvfmpjlqoaoyyoizxzcvqhvixvkqhetkuxliv\n",
            "xpsfyytijwmjtjgsnxzlwpxvlyxqimxfqmuspnzwrtgbvyeogvglkwenqxbzivsrndohhuxhvrbqbceurlzjvfqnturkjmozsynw\n",
            "tlqtnfmwekzzevwsttxygtngslwaahaymqonkyxliponitwphsurecfxpolszirsecywcddknxolwooandqtzhxeiblgyqzozlbo\n",
            "nblzibvxpupkyacrrygzidswvwkxnmkbheivflzdynqrphnlsbidbyququfrigooywigsiboqmyaebafkunjabneoyjerzuzpyeo\n",
            "bxvhvcjjlhspjrwzqhikgsvvhnusdicyhvvgefdzztriusrqjqqtvtbbuwwlsvdgkbtkthhoofrmaetyrvbnnfdyiuvmabtqwaez\n",
            "zavwbsmvgubgofcnrhlddkdulkbbfvdjuiwatuwoklojcusxyjhoofdzblgfmajxeliokouikytigninykvgfinehmecxukfpzgs\n",
            "cspybmtbwkwpgnbxjysyaofcnpebynxcexxogucifukedbncarkrqjarwnxcnraubwrghajteqerabkmdzvlyflxgwawlpzpsrvw\n",
            "zexdxpprecefzhmxukyjpxtlncwtydthdsfhnecuxbztxbrxtxeslkcnamtfilljtasqmiquchicmolsjejxpqtajhvvbaywjxyl\n",
            "qmdwxybaqwopexytljbcxhyqgqibxxrievbihyfuoilkybmokrrycoppratejcspwrhtsglbovcfavddpyjhzjumuhzlsrbgvwud\n",
            "geojkplccvnvqwnpficenvspyyizluhlgtujaggdlqdyqjtpniwnlgaabiwmshemhesrqhmhouyxqyvxxoxayxdwggjqzrbvzahh\n",
            "kxbansytgqgooyiaovfxzfdragxvtsejrvlvaxdqifsxrcggkmvovpvfqerptwlgvlmiylfrookgqktpzachbxktwzbyfmccqyhu\n",
            "kogzfbecmbsfjckrlmdfrwlddcqqmocjqjihdbddexmmcpfalerucaceljuarstxfikhgxjyklnciyomdhrzmaeyqmwznlmsfzic\n",
            "qkygwqwyucwqvozdslnamdldbdvgxunihmdmbygmvjkcargbheupmogkrzzqefawuahnejrincngardmrffqcxroobntrvrbpsdw\n",
            "cnkskfezqmlijrbdjjdpbpgnnyexvuzdoxeshsjzqmeaqqwixfecjppnyjnironwsbjkijbumbolkcjnizccozzbrjteqyqhinfn\n",
            "ddyxwpyveywylgvmfgepikhrcbojwhpjfxilbzlnqcyayrhrwqncqnwjmagimcgyvhltbnfdeoisbpklvjnhllsezdcwzncjacbj\n",
            "ahfbhxuidaxdynvogawbefwghgyqzbomrplhwygwijahitxkccgfncdepssftblwsatbcnwsyyuyajiiftusklnevudjnactpgsx\n",
            "ojekixqbicgmswepqxowuealfztktgivmexjulckkouyxnqkpuunyrpadpcbkexbsrgiwqsbrrkurnxwgwfgszlefttzinayexuh\n",
            "vjxlujepidmilppcodbzdyvziajptleyahfyekqbrwtyqblvsyudusrsfbcmzbrtwjuokbrnpgulclhutnnoregcozalswvbjcsn\n",
            "hfmjqqbudljjconggamjytmkdvigwtceqarovcoflokfdtfbebvotchjlzsbfjntwsgbnvptoievdoyxbjhtbhiaxlhbrhpgmcbo\n",
            "ophtzeeqcynnshaanekrdjkdijnqxvulysuhfkepzsoxdgwmkmafuulgmmoodasufriajyqzjeedorqfygutfxslonphqcjhqzvx\n",
            "myaxhagjlsvvjtkdfkmtpkpzvdtzphatayqylaybbihmejduihvwamuqccswhxfgwkptzgehyknmzspfksiwmtlzncyksekfakcj\n",
            "vfuobqvscijarekoczfnmbqaqrrfvbwvhscjuulxuuambnqrrhnnjbqiaaxfxazkcblkkaciakggdjplqjsgtaxacoomneumqtxp\n",
            "opifxjqqozxfhaapdspmhpmgafmwonvjaimizfbxnxhugocxuuahttrqdjachlwltahiohyckyyxyyiaxebsumaozhudabjdicpo\n",
            "kqhxzghiignteystdshnqceoaltpkggrbwfroaorxlhvkoxznxhrcjgiajcfcwchcpilqlmesvmicwmgfxlxqqrzmanguqyhaiiy\n",
            "gdzoaxigfxvbegqhyogqkvbubklekpwbmrvjxcawwqhedxeaoojkpnpecznihnodzyfwlajdacriymaiekhudwmdtvbbwnggsnrw\n",
            "yfbccqunngfvodqamnkissxhevhgykyihttmqzqhyaxwplrcimlsbzhvvitnxsdunpyxhynfbaibygmnpqmfwqnjsbyyhtcszcwi\n",
            "zpkjxxksrztlmbnngosmgpjiscmuwunlaodoeeccdexousmlefptjxifkosjtywitfvmrjtxijudlxxaaozsiuukhwzhceenaamy\n",
            "srbunpcmxtlrpqiaswqagkgtlcquygjpccwnmplrpuwcrhaipayrzzktqlmxkgobqqnlgkhnqtmghptguptmtbmokpdmgpmkfnlb\n",
            "lmmimtrxlagzkeqbnqafkdqxvaocxpeclsfrlhjedemsrnovslbtcvjfjixjdkrzjcycwhfibmphwounmgarinuykmyyfpenycqj\n",
            "rppneebozjjfeabegdqpaqtweouofvaxvinhyfbuanmvlugjcqvnnzumxrbkjduxhyuhxjodilohoianfrdrnfhlwnfzbvwofhns\n",
            "jkwraambeapxisbuppynkgyswllpdupyudzmbspptqswcvfphwzmaijqbfnyxpthbzxtuyvmgklzfxyciafwpyzkfhzehwsiotcz\n",
            "chsoquoioiouerlljedzxgzxpkfjhejlmcetkxrynmnzrjdwvwkxvrnzrmkhaxvzhebkecubclligcoryyrbewjskvgmyrxzkgmt\n",
            "ffxwckkzbfqpaoryoefulyixbbsgsjjshixsuiumtzopqhrrjcruojiqwtueuwegvkzbwniyqamaotymvtwxfjrxrtskqudkuvzx\n",
            "jzssnqekyokicfkcczokfauvlshbgmlywzklfabbjrhrgrchcccnsmeuyhewcbzlchzelvevlqqpcnqhkyhtpiuwpakfgqflwcfa\n",
            "qxvoigzpgzaqidkeeruiuktegqkrwmsdxxghdpqveidepktbmccgxqqfpozemznjpuoonpughpuvtafzmhyjltzsvrunasikhrzz\n",
            "yztuwmsctlxgnhftzboojhjtekftsvtlqrdlvjozeonqevtuapmnulhavqvfwlyhybtmecdultaqdvztegyulrxnlqmiizhnfhec\n",
            "lsnmjrzfbwvlfkxfxitziaelahfumyoavlxregsiqfdpuqttinigqgoarutzevfymxqsqsguovmxgjddymozjthhnanlulgmpiwk\n",
            "qymhlhlvthgzqkv\n"
          ]
        }
      ],
      "source": [
        "import random\n",
        "Range = range(97, 123)\n",
        "text = open(\"test.txt\", \"w\")\n",
        "counter = 0\n",
        "for _ in range(10000):\n",
        "  text.write(chr(random.choice(Range)))\n",
        "  counter += 1\n",
        "  if counter >= 140:  \n",
        "    text.write(\"\\n\")\n",
        "    counter = 0\n",
        "\n",
        "\n",
        "def generate():\n",
        "  with open(\"test.txt\", \"r\") as file:\n",
        "    for line in file:\n",
        "      yield line[:100]\n",
        "\n",
        "from sys import getsizeof\n",
        "def generate_without_generator():\n",
        "  mylist = []\n",
        "  with open(\"test.txt\", \"r\") as file:\n",
        "    for line in file:\n",
        "      mylist.append(line[:100])\n",
        "    return mylist\n",
        "\n",
        "print(getsizeof(generate()))\n",
        "print(getsizeof(generate_without_generator()))\n",
        "\n",
        "for line in generate():\n",
        "  print(line)"
      ]
    }
  ]
}