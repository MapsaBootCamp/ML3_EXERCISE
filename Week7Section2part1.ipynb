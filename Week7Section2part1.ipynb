{
 "cells": [
  {
   "cell_type": "markdown",
   "id": "e154e70f",
   "metadata": {},
   "source": [
    "#              Machine Learning Camp: HomeWork 7 Section 2 part 1"
   ]
  },
  {
   "cell_type": "markdown",
   "id": "242d3106",
   "metadata": {},
   "source": [
    "## 1. Working with datetime data; The object myDate contains the date and time. Based on this object answer the following questions and type the answer after your findings."
   ]
  },
  {
   "cell_type": "code",
   "execution_count": 58,
   "id": "0b5548d1",
   "metadata": {},
   "outputs": [],
   "source": [
    "import pandas as pd\n",
    "import pytz\n",
    "from datetime import datetime ,timedelta\n",
    "from dateutil.parser import parse\n",
    "import holidays\n",
    "from pandas.tseries.offsets import BDay"
   ]
  },
  {
   "cell_type": "code",
   "execution_count": 3,
   "id": "a8aefca4",
   "metadata": {},
   "outputs": [],
   "source": [
    "myDate = \"2022-10-01 09:42:43\""
   ]
  },
  {
   "cell_type": "code",
   "execution_count": 4,
   "id": "2243dbcf",
   "metadata": {},
   "outputs": [
    {
     "data": {
      "text/plain": [
       "DatetimeIndex(['2022-10-01 09:42:43'], dtype='datetime64[ns]', freq=None)"
      ]
     },
     "execution_count": 4,
     "metadata": {},
     "output_type": "execute_result"
    }
   ],
   "source": [
    "myDate = pd.DatetimeIndex(pd.Series(myDate))\n",
    "myDate"
   ]
  },
  {
   "cell_type": "markdown",
   "id": "dc3343b9",
   "metadata": {},
   "source": [
    "### a. Convert myDate into a datetime object with Iran time zone. Display the result."
   ]
  },
  {
   "cell_type": "code",
   "execution_count": 5,
   "id": "f4beb205",
   "metadata": {},
   "outputs": [
    {
     "data": {
      "text/plain": [
       "DatetimeIndex(['2022-10-01 09:42:43+03:30'], dtype='datetime64[ns, Asia/Tehran]', freq=None)"
      ]
     },
     "execution_count": 5,
     "metadata": {},
     "output_type": "execute_result"
    }
   ],
   "source": [
    "myDate.tz_localize('Asia/Tehran')"
   ]
  },
  {
   "cell_type": "markdown",
   "id": "34f367d4",
   "metadata": {},
   "source": [
    "### b. Write your codes so that it displays the week day and also the month of myDate."
   ]
  },
  {
   "cell_type": "code",
   "execution_count": 6,
   "id": "8d02c038",
   "metadata": {},
   "outputs": [],
   "source": [
    "def weekday_month(value):\n",
    "    return value.weekday ,value.month"
   ]
  },
  {
   "cell_type": "code",
   "execution_count": 7,
   "id": "0bf20584",
   "metadata": {},
   "outputs": [
    {
     "name": "stdout",
     "output_type": "stream",
     "text": [
      "(Int64Index([5], dtype='int64'), Int64Index([10], dtype='int64'))\n"
     ]
    }
   ],
   "source": [
    "print(weekday_month(myDate))"
   ]
  },
  {
   "cell_type": "markdown",
   "id": "21fec84f",
   "metadata": {},
   "source": [
    "### c. What weekday and the month is it after exactly 100 years from myDate?"
   ]
  },
  {
   "cell_type": "code",
   "execution_count": 14,
   "id": "46787de9",
   "metadata": {},
   "outputs": [
    {
     "data": {
      "text/plain": [
       "DatetimeIndex(['2122-10-01 09:42:43'], dtype='datetime64[ns]', freq=None)"
      ]
     },
     "execution_count": 14,
     "metadata": {},
     "output_type": "execute_result"
    }
   ],
   "source": [
    "myDate + pd.offsets.DateOffset(years = 100)"
   ]
  },
  {
   "cell_type": "markdown",
   "id": "942bdc2d",
   "metadata": {},
   "source": [
    "### d. Add two month with myDate and display the resulting date time."
   ]
  },
  {
   "cell_type": "code",
   "execution_count": 17,
   "id": "e2bc46cf",
   "metadata": {},
   "outputs": [
    {
     "data": {
      "text/plain": [
       "DatetimeIndex(['2022-12-01 09:42:43'], dtype='datetime64[ns]', freq=None)"
      ]
     },
     "execution_count": 17,
     "metadata": {},
     "output_type": "execute_result"
    }
   ],
   "source": [
    "myDate + pd.offsets.DateOffset(months = 2)"
   ]
  },
  {
   "cell_type": "markdown",
   "id": "4878f510",
   "metadata": {},
   "source": [
    "### e. Suppose this homework is due on December 23, 2022 by 11.59PM. Compute and display how many seconds you got to complete this homework? Also compute the hours."
   ]
  },
  {
   "cell_type": "code",
   "execution_count": 468,
   "id": "9253c8b9",
   "metadata": {},
   "outputs": [
    {
     "data": {
      "text/plain": [
       "(302095.021312, 83.91528369777778)"
      ]
     },
     "execution_count": 468,
     "metadata": {},
     "output_type": "execute_result"
    }
   ],
   "source": [
    "homework = datetime(2022,12,23,23,59,0) \n",
    "now = datetime.now()\n",
    "e = (homework - now).total_seconds()\n",
    "e , e/3600"
   ]
  },
  {
   "cell_type": "markdown",
   "id": "c3f72e0a",
   "metadata": {},
   "source": [
    "### f. For the years 2021 & 2022, count the number of weekends. Which year has the highest number of Weekends?"
   ]
  },
  {
   "cell_type": "code",
   "execution_count": 49,
   "id": "40b40e3b",
   "metadata": {},
   "outputs": [
    {
     "name": "stdout",
     "output_type": "stream",
     "text": [
      "261 2021\n"
     ]
    }
   ],
   "source": [
    "year2021 = pd.date_range('2021-01-01', '2021-12-31',freq=BDay())\n",
    "year2022 = pd.date_range('2022-01-01', '2022-12-31',freq=BDay())\n",
    "if year2021.size > year2022.size:\n",
    "    print(year2021.size , 2021)\n",
    "else:\n",
    "    print(year2022.size ,2022)\n",
    "    "
   ]
  },
  {
   "cell_type": "markdown",
   "id": "1806651b",
   "metadata": {},
   "source": [
    "### g. What is the month(MM) and day(DD) on the 305th day of the current year?"
   ]
  },
  {
   "cell_type": "code",
   "execution_count": 42,
   "id": "c1578354",
   "metadata": {},
   "outputs": [
    {
     "data": {
      "text/plain": [
       "(11, 2)"
      ]
     },
     "execution_count": 42,
     "metadata": {},
     "output_type": "execute_result"
    }
   ],
   "source": [
    "g = datetime(2022,1,1)+ pd.offsets.DateOffset(days=305)\n",
    "g.month , g.day "
   ]
  },
  {
   "cell_type": "markdown",
   "id": "eb7e133e",
   "metadata": {},
   "source": [
    "### h. The Date 2022-10-20 is formatted YYYY-MM-DD, format it into MM-DD-YYYY"
   ]
  },
  {
   "cell_type": "code",
   "execution_count": 55,
   "id": "b8123c51",
   "metadata": {},
   "outputs": [
    {
     "data": {
      "text/plain": [
       "Index(['10-20-2022'], dtype='object')"
      ]
     },
     "execution_count": 55,
     "metadata": {},
     "output_type": "execute_result"
    }
   ],
   "source": [
    "h = \"2022-10-20\"\n",
    "h = pd.DatetimeIndex(pd.Series(h))\n",
    "h.strftime('%m-%d-%Y')"
   ]
  },
  {
   "cell_type": "markdown",
   "id": "b6de0327",
   "metadata": {},
   "source": [
    "### i. Find if the Date on the question above is the weekend or a weekday."
   ]
  },
  {
   "cell_type": "code",
   "execution_count": 76,
   "id": "380491f3",
   "metadata": {},
   "outputs": [
    {
     "name": "stdout",
     "output_type": "stream",
     "text": [
      "weekday\n"
     ]
    }
   ],
   "source": [
    "i = BDay().is_on_offset(datetime(2022, 10, 20))\n",
    "if i==True:\n",
    "    print(\"weekday\")\n",
    "else:\n",
    "    print(\"weekend\")\n"
   ]
  },
  {
   "cell_type": "markdown",
   "id": "71dcace0",
   "metadata": {},
   "source": [
    "### نوت زیر را برای خودم نوشتم"
   ]
  },
  {
   "cell_type": "code",
   "execution_count": 70,
   "id": "cda65c22",
   "metadata": {},
   "outputs": [
    {
     "data": {
      "text/plain": [
       "Timestamp('2022-10-21 00:00:00')"
      ]
     },
     "execution_count": 70,
     "metadata": {},
     "output_type": "execute_result"
    }
   ],
   "source": [
    "ts = pd.Timestamp(2022, 10, 20)\n",
    "ts + pd.offsets.CustomBusinessDay(1)"
   ]
  },
  {
   "cell_type": "code",
   "execution_count": null,
   "id": "64159161",
   "metadata": {},
   "outputs": [],
   "source": []
  }
 ],
 "metadata": {
  "kernelspec": {
   "display_name": "Python 3 (ipykernel)",
   "language": "python",
   "name": "python3"
  },
  "language_info": {
   "codemirror_mode": {
    "name": "ipython",
    "version": 3
   },
   "file_extension": ".py",
   "mimetype": "text/x-python",
   "name": "python",
   "nbconvert_exporter": "python",
   "pygments_lexer": "ipython3",
   "version": "3.10.6"
  }
 },
 "nbformat": 4,
 "nbformat_minor": 5
}
