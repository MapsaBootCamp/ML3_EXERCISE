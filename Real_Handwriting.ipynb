{
 "cells": [
  {
   "cell_type": "code",
   "execution_count": 5,
   "id": "c57f8c4a-4f73-4dce-8a6f-232ee5eebd83",
   "metadata": {
    "tags": []
   },
   "outputs": [],
   "source": [
    "from HodaDatasetReader import read_hoda_cdb, read_hoda_dataset"
   ]
  },
  {
   "cell_type": "code",
   "execution_count": 6,
   "id": "f756c0aa-8846-4f25-bee5-2c6ab016af8b",
   "metadata": {
    "tags": []
   },
   "outputs": [],
   "source": [
    "import warnings\n",
    "warnings.filterwarnings(\"ignore\")"
   ]
  },
  {
   "cell_type": "code",
   "execution_count": 7,
   "id": "fcb4fc5b-df56-4e74-b170-4181545a1dc4",
   "metadata": {},
   "outputs": [],
   "source": [
    "from sklearn.model_selection import train_test_split\n",
    "import tensorflow as tf\n",
    "\n",
    "import logging\n",
    "tf.get_logger().setLevel(logging.ERROR)\n",
    "from tensorflow.keras.models import Sequential\n",
    "from tensorflow.keras.callbacks import TensorBoard\n",
    "from tensorflow.keras.layers import Dense,Dropout,Activation,Flatten\n",
    "from tensorflow.keras.utils import to_categorical\n",
    "from tensorflow.keras.optimizers import SGD,Adam\n",
    "from tensorflow.keras.metrics import categorical_crossentropy\n",
    "import matplotlib.pyplot as plt\n",
    "import numpy as np\n",
    "import pandas as pd \n",
    "import os\n",
    "import cv2\n",
    "import pickle\n",
    "import random \n",
    "import time\n",
    "import zipfile\n",
    "from shutil import copyfile\n"
   ]
  },
  {
   "cell_type": "code",
   "execution_count": 9,
   "id": "6a07cb8e-89c9-47e6-a01a-72815bba9308",
   "metadata": {
    "tags": []
   },
   "outputs": [],
   "source": [
    "from keras.models import Sequential\n",
    "from keras.layers import Dense, Activation, Dropout\n"
   ]
  },
  {
   "cell_type": "markdown",
   "id": "ad3df167-3938-4d09-87d0-a7182292154f",
   "metadata": {},
   "source": [
    "## Import train dataset"
   ]
  },
  {
   "cell_type": "code",
   "execution_count": 33,
   "id": "9c0b7c6c-f4a9-4d9b-abd5-8dfce9913b9e",
   "metadata": {},
   "outputs": [],
   "source": [
    "X_train, y_train = read_hoda_dataset(dataset_path='Train 60000.cdb',\n",
    "                                images_height=32,\n",
    "                                images_width=32,\n",
    "                                one_hot=False,\n",
    "                                reshape=True)\n",
    "\n",
    "X_val = X_train[45000:]\n",
    "y_val = y_train[45000:]\n",
    "X_train = X_train[:35000]# Decrease the nymber of train instances to have low accuracy for comparing with real handwriting\n",
    "y_train = y_train[:35000]"
   ]
  },
  {
   "cell_type": "code",
   "execution_count": 34,
   "id": "bcda204b-0611-4845-9244-3e8b19e48e35",
   "metadata": {
    "tags": []
   },
   "outputs": [
    {
     "data": {
      "text/plain": [
       "(35000, 1024)"
      ]
     },
     "execution_count": 34,
     "metadata": {},
     "output_type": "execute_result"
    }
   ],
   "source": [
    "X_train.shape"
   ]
  },
  {
   "cell_type": "code",
   "execution_count": 35,
   "id": "3881fc88-fcfe-45f9-9759-3ff8a721e07f",
   "metadata": {
    "tags": []
   },
   "outputs": [
    {
     "data": {
      "text/plain": [
       "(15000, 1024)"
      ]
     },
     "execution_count": 35,
     "metadata": {},
     "output_type": "execute_result"
    }
   ],
   "source": [
    "X_val.shape"
   ]
  },
  {
   "cell_type": "markdown",
   "id": "4fb41cae-7bcb-414e-825c-76b02373d772",
   "metadata": {},
   "source": [
    "## Import Test dataset"
   ]
  },
  {
   "cell_type": "code",
   "execution_count": null,
   "id": "3643c1bb-c51a-472f-9676-41903725647f",
   "metadata": {
    "tags": []
   },
   "outputs": [],
   "source": [
    "X_test, y_test = read_hoda_dataset(dataset_path='Test 20000.cdb',\n",
    "                                images_height=32,\n",
    "                                images_width=32,\n",
    "                                one_hot=False,\n",
    "                                reshape=True)"
   ]
  },
  {
   "cell_type": "code",
   "execution_count": null,
   "id": "b9226d31-98df-437b-ba41-eeaf05d7b5c3",
   "metadata": {
    "tags": []
   },
   "outputs": [
    {
     "data": {
      "text/plain": [
       "(20000, 1024)"
      ]
     },
     "execution_count": 37,
     "metadata": {},
     "output_type": "execute_result"
    }
   ],
   "source": [
    "X_test.shape"
   ]
  },
  {
   "cell_type": "markdown",
   "id": "fc3f2f6f-605a-44a1-afdb-530db5711fbc",
   "metadata": {},
   "source": [
    "## reshape X_train , X_val,X_test"
   ]
  },
  {
   "cell_type": "code",
   "execution_count": 38,
   "id": "74b0b46f-1e50-4664-89af-b4a1b1779dbf",
   "metadata": {
    "tags": []
   },
   "outputs": [],
   "source": [
    "X_train = X_train.reshape(X_train.shape[0], 32, 32)\n",
    "X_test = X_test.reshape(X_test.shape[0], 32,32)\n",
    "X_val=X_val.reshape(X_val.shape[0], 32,32)"
   ]
  },
  {
   "cell_type": "code",
   "execution_count": 39,
   "id": "dcf664ad-483f-4b80-907c-a50358fc57e1",
   "metadata": {
    "tags": []
   },
   "outputs": [
    {
     "data": {
      "text/plain": [
       "(35000, 32, 32)"
      ]
     },
     "execution_count": 39,
     "metadata": {},
     "output_type": "execute_result"
    }
   ],
   "source": [
    "X_train.shape"
   ]
  },
  {
   "cell_type": "code",
   "execution_count": 40,
   "id": "acc1be4f-b58f-442d-869b-8022011b6c49",
   "metadata": {
    "tags": []
   },
   "outputs": [
    {
     "data": {
      "image/png": "[encoded data removed]",
      "text/plain": [
       "<Figure size 640x480 with 9 Axes>"
      ]
     },
     "metadata": {},
     "output_type": "display_data"
    }
   ],
   "source": [
    "for i in range(9):\n",
    "    plt.subplot(330 + (i+1))\n",
    "    plt.imshow(X_train[i].squeeze(),cmap='gray' )\n",
    "    plt.axis('off')\n",
    "    plt.title(y_train[i])"
   ]
  },
  {
   "cell_type": "code",
   "execution_count": 41,
   "id": "3ff70a4a-4ca6-40d3-b108-af6d9e9dbad3",
   "metadata": {
    "tags": []
   },
   "outputs": [
    {
     "data": {
      "text/plain": [
       "dtype('float32')"
      ]
     },
     "execution_count": 41,
     "metadata": {},
     "output_type": "execute_result"
    }
   ],
   "source": [
    "y_train.dtype"
   ]
  },
  {
   "cell_type": "code",
   "execution_count": 42,
   "id": "449b6cb0-1edf-4e2e-bcaf-4c40b48e0e78",
   "metadata": {
    "tags": []
   },
   "outputs": [],
   "source": [
    "X_train = X_train.reshape(X_train.shape[0], X_train.shape[1], X_train.shape[2], 1)\n",
    "X_test = X_test.reshape(X_test.shape[0], X_test.shape[1], X_test.shape[2], 1)\n",
    "X_val = X_val.reshape(X_val.shape[0], X_val.shape[1], X_val.shape[2], 1)\n"
   ]
  },
  {
   "cell_type": "code",
   "execution_count": 43,
   "id": "356959f7-c040-42e0-ab14-30aec35161d8",
   "metadata": {
    "tags": []
   },
   "outputs": [
    {
     "data": {
      "text/plain": [
       "(35000, 32, 32, 1)"
      ]
     },
     "execution_count": 43,
     "metadata": {},
     "output_type": "execute_result"
    }
   ],
   "source": [
    "X_train.shape"
   ]
  },
  {
   "cell_type": "markdown",
   "id": "43dabeca-16b0-4795-9c34-6b4c8637d629",
   "metadata": {},
   "source": [
    "## Normalization"
   ]
  },
  {
   "cell_type": "code",
   "execution_count": 44,
   "id": "4561ac5a-e099-414b-a3a6-461916eed000",
   "metadata": {
    "tags": []
   },
   "outputs": [],
   "source": [
    "X_train, X_val, X_test = X_train / 255, X_val / 255, X_test/ 255"
   ]
  },
  {
   "cell_type": "code",
   "execution_count": 45,
   "id": "0084be33-938d-41df-a817-b692d586848d",
   "metadata": {
    "tags": []
   },
   "outputs": [
    {
     "data": {
      "text/plain": [
       "(35000,)"
      ]
     },
     "execution_count": 45,
     "metadata": {},
     "output_type": "execute_result"
    }
   ],
   "source": [
    "y_train.shape"
   ]
  },
  {
   "cell_type": "code",
   "execution_count": 46,
   "id": "b0693f38-eead-40a0-8b51-59d74cb5b1ec",
   "metadata": {
    "tags": []
   },
   "outputs": [],
   "source": [
    "y_train = y_train.astype('uint8')\n",
    "y_test = y_test.astype('uint8')\n",
    "y_val = y_val.astype('uint8')"
   ]
  },
  {
   "cell_type": "code",
   "execution_count": 47,
   "id": "649f2272-3753-406c-bfa4-0224fda0e84e",
   "metadata": {
    "tags": []
   },
   "outputs": [
    {
     "data": {
      "text/plain": [
       "(35000,)"
      ]
     },
     "execution_count": 47,
     "metadata": {},
     "output_type": "execute_result"
    }
   ],
   "source": [
    "y_train.shape"
   ]
  },
  {
   "cell_type": "markdown",
   "id": "762565f5-1ea0-43da-b40a-197827f6b18b",
   "metadata": {},
   "source": [
    "## Identify the class of digits"
   ]
  },
  {
   "cell_type": "code",
   "execution_count": 48,
   "id": "96287236-3643-4628-849c-0a8168eed9fe",
   "metadata": {
    "tags": []
   },
   "outputs": [
    {
     "data": {
      "text/plain": [
       "6.0"
      ]
     },
     "execution_count": 48,
     "metadata": {},
     "output_type": "execute_result"
    }
   ],
   "source": [
    "class_names = [0.0, 1.0, 2.0,3.0,4.0,5.0,6.0,7.0,8.0,9.0]\n",
    "class_names[y_train[0]]"
   ]
  },
  {
   "cell_type": "code",
   "execution_count": 49,
   "id": "a73cf403-7f20-4147-bf30-861aff3c6d06",
   "metadata": {
    "tags": []
   },
   "outputs": [
    {
     "data": {
      "text/plain": [
       "(20000,)"
      ]
     },
     "execution_count": 49,
     "metadata": {},
     "output_type": "execute_result"
    }
   ],
   "source": [
    "y_test.shape"
   ]
  },
  {
   "cell_type": "markdown",
   "id": "9a88ac62-2392-40e9-affe-8750e312757d",
   "metadata": {},
   "source": [
    "# 1.Sequentional"
   ]
  },
  {
   "cell_type": "code",
   "execution_count": 50,
   "id": "90d31a00-c9a2-4a4f-9dc4-54afd178c5f1",
   "metadata": {
    "tags": []
   },
   "outputs": [],
   "source": [
    "tf.random.set_seed(42)\n",
    "model = tf.keras.Sequential([\n",
    "tf.keras.layers.Flatten(input_shape=[32, 32]),\n",
    "tf.keras.layers.Dense(300, activation=\"relu\"),\n",
    "tf.keras.layers.Dense(100, activation=\"relu\"),\n",
    "tf.keras.layers.Dense(10, activation=\"softmax\")\n",
    "])"
   ]
  },
  {
   "cell_type": "code",
   "execution_count": 51,
   "id": "e93f6643-6392-412b-afe4-76a2e31e2201",
   "metadata": {
    "tags": []
   },
   "outputs": [
    {
     "name": "stdout",
     "output_type": "stream",
     "text": [
      "Model: \"sequential_1\"\n",
      "_________________________________________________________________\n",
      " Layer (type)                Output Shape              Param #   \n",
      "=================================================================\n",
      " flatten_1 (Flatten)         (None, 1024)              0         \n",
      "                                                                 \n",
      " dense_3 (Dense)             (None, 300)               307500    \n",
      "                                                                 \n",
      " dense_4 (Dense)             (None, 100)               30100     \n",
      "                                                                 \n",
      " dense_5 (Dense)             (None, 10)                1010      \n",
      "                                                                 \n",
      "=================================================================\n",
      "Total params: 338,610\n",
      "Trainable params: 338,610\n",
      "Non-trainable params: 0\n",
      "_________________________________________________________________\n"
     ]
    }
   ],
   "source": [
    "model.summary()"
   ]
  },
  {
   "cell_type": "code",
   "execution_count": 52,
   "id": "45d3780b-502c-4846-8f2b-0afb7e47c0d8",
   "metadata": {
    "tags": []
   },
   "outputs": [
    {
     "data": {
      "text/plain": [
       "[<keras.layers.core.flatten.Flatten at 0x7f1c07d4f910>,\n",
       " <keras.layers.core.dense.Dense at 0x7f1c07d6c160>,\n",
       " <keras.layers.core.dense.Dense at 0x7f1bfc4adba0>,\n",
       " <keras.layers.core.dense.Dense at 0x7f1bfc4acfa0>]"
      ]
     },
     "execution_count": 52,
     "metadata": {},
     "output_type": "execute_result"
    }
   ],
   "source": [
    "model.layers"
   ]
  },
  {
   "cell_type": "code",
   "execution_count": 53,
   "id": "db3b7eee-6288-4d89-87d0-066b2287acab",
   "metadata": {
    "tags": []
   },
   "outputs": [],
   "source": [
    "model.compile(loss=\"sparse_categorical_crossentropy\",\n",
    "optimizer=\"Adam\",\n",
    "metrics=[\"accuracy\"])"
   ]
  },
  {
   "cell_type": "code",
   "execution_count": 54,
   "id": "b378d4ba-b062-4032-985b-317102ccee7e",
   "metadata": {
    "tags": []
   },
   "outputs": [
    {
     "name": "stdout",
     "output_type": "stream",
     "text": [
      "Epoch 1/10\n"
     ]
    },
    {
     "name": "stderr",
     "output_type": "stream",
     "text": [
      "2023-03-09 17:12:35.711404: W tensorflow/core/framework/cpu_allocator_impl.cc:82] Allocation of 143360000 exceeds 10% of free system memory.\n"
     ]
    },
    {
     "name": "stdout",
     "output_type": "stream",
     "text": [
      "1094/1094 [==============================] - 10s 8ms/step - loss: 0.4901 - accuracy: 0.8726 - val_loss: 0.2057 - val_accuracy: 0.9437\n",
      "Epoch 2/10\n",
      "1094/1094 [==============================] - 9s 8ms/step - loss: 0.1742 - accuracy: 0.9497 - val_loss: 0.1746 - val_accuracy: 0.9491\n",
      "Epoch 3/10\n",
      "1094/1094 [==============================] - 9s 8ms/step - loss: 0.1408 - accuracy: 0.9608 - val_loss: 0.1499 - val_accuracy: 0.9588\n",
      "Epoch 4/10\n",
      "1094/1094 [==============================] - 9s 8ms/step - loss: 0.1179 - accuracy: 0.9669 - val_loss: 0.1273 - val_accuracy: 0.9643\n",
      "Epoch 5/10\n",
      "1094/1094 [==============================] - 9s 8ms/step - loss: 0.1008 - accuracy: 0.9723 - val_loss: 0.1113 - val_accuracy: 0.9689\n",
      "Epoch 6/10\n",
      "1094/1094 [==============================] - 9s 8ms/step - loss: 0.0860 - accuracy: 0.9758 - val_loss: 0.1038 - val_accuracy: 0.9707\n",
      "Epoch 7/10\n",
      "1094/1094 [==============================] - 9s 8ms/step - loss: 0.0734 - accuracy: 0.9795 - val_loss: 0.0929 - val_accuracy: 0.9745\n",
      "Epoch 8/10\n",
      "1094/1094 [==============================] - 9s 8ms/step - loss: 0.0622 - accuracy: 0.9821 - val_loss: 0.0864 - val_accuracy: 0.9763\n",
      "Epoch 9/10\n",
      "1094/1094 [==============================] - 9s 8ms/step - loss: 0.0546 - accuracy: 0.9846 - val_loss: 0.0768 - val_accuracy: 0.9791\n",
      "Epoch 10/10\n",
      "1094/1094 [==============================] - 9s 8ms/step - loss: 0.0470 - accuracy: 0.9864 - val_loss: 0.0773 - val_accuracy: 0.9786\n"
     ]
    }
   ],
   "source": [
    "history = model.fit(X_train, y_train, epochs=10,\n",
    "validation_data=(X_val, y_val))"
   ]
  },
  {
   "cell_type": "code",
   "execution_count": null,
   "id": "2e71305a-b513-4f71-98f8-a03b3cceb6a4",
   "metadata": {
    "tags": []
   },
   "outputs": [
    {
     "data": {
      "image/png": "[encoded data removed]",
      "text/plain": [
       "<Figure size 800x500 with 1 Axes>"
      ]
     },
     "metadata": {},
     "output_type": "display_data"
    }
   ],
   "source": [
    "pd.DataFrame(history.history).plot(\n",
    "figsize=(8, 5), xlim=[0, 29], ylim=[0, 1], grid=True,\n",
    "xlabel=\"Epoch\",\n",
    "style=[\"r--\", \"r--.\", \"b-\", \"b-*\"])\n",
    "plt.show()"
   ]
  },
  {
   "cell_type": "markdown",
   "id": "ed55b453-f877-4ab5-b060-b5c253a1bb32",
   "metadata": {},
   "source": [
    "# Saving model"
   ]
  },
  {
   "cell_type": "code",
   "execution_count": 60,
   "id": "998a25b4-67b5-4474-ac31-93b80bbcbe90",
   "metadata": {
    "tags": []
   },
   "outputs": [],
   "source": [
    "from tensorflow.keras.models import Sequential, save_model, load_model"
   ]
  },
  {
   "cell_type": "code",
   "execution_count": 61,
   "id": "482d7c4c-506c-470f-bc57-7978034db914",
   "metadata": {
    "tags": []
   },
   "outputs": [
    {
     "name": "stderr",
     "output_type": "stream",
     "text": [
      "2023-03-09 17:14:28.412156: W tensorflow/python/util/util.cc:368] Sets are not currently considered sequences, but this may change in the future, so consider avoiding using them.\n"
     ]
    }
   ],
   "source": [
    "# Save the model\n",
    "filepath = 'Sequentional'\n",
    "save_model(model, filepath)"
   ]
  },
  {
   "cell_type": "markdown",
   "id": "8443a3f8-e919-4138-aabb-baef12e952c4",
   "metadata": {},
   "source": [
    "# Load model"
   ]
  },
  {
   "cell_type": "code",
   "execution_count": 62,
   "id": "edf7cbd7-7fef-40de-a37f-ce1cb7e8b4e1",
   "metadata": {
    "tags": []
   },
   "outputs": [],
   "source": [
    "filepath = 'Sequentional'\n",
    "\n",
    "model_S = load_model(filepath, compile = True)"
   ]
  },
  {
   "cell_type": "markdown",
   "id": "27c29343-32b3-4282-bcd7-8246c2072192",
   "metadata": {},
   "source": [
    "## Predict my handswriting"
   ]
  },
  {
   "cell_type": "code",
   "execution_count": 63,
   "id": "f3833702-b762-4239-9327-f96f8410b895",
   "metadata": {
    "tags": []
   },
   "outputs": [],
   "source": [
    "img_path = \"My/\""
   ]
  },
  {
   "cell_type": "code",
   "execution_count": 64,
   "id": "7d456eba-dfd3-456e-9252-bbf1a919ff21",
   "metadata": {
    "tags": []
   },
   "outputs": [],
   "source": [
    "lable=['0','1','2','3','4','5','6','7','8','9']\n"
   ]
  },
  {
   "cell_type": "code",
   "execution_count": 65,
   "id": "91ee887a-793f-4db9-9934-f05b0ab6bc43",
   "metadata": {
    "tags": []
   },
   "outputs": [
    {
     "data": {
      "text/html": [
       "<div>\n",
       "<style scoped>\n",
       "    .dataframe tbody tr th:only-of-type {\n",
       "        vertical-align: middle;\n",
       "    }\n",
       "\n",
       "    .dataframe tbody tr th {\n",
       "        vertical-align: top;\n",
       "    }\n",
       "\n",
       "    .dataframe thead th {\n",
       "        text-align: right;\n",
       "    }\n",
       "</style>\n",
       "<table border=\"1\" class=\"dataframe\">\n",
       "  <thead>\n",
       "    <tr style=\"text-align: right;\">\n",
       "      <th></th>\n",
       "      <th>img</th>\n",
       "      <th>label</th>\n",
       "    </tr>\n",
       "  </thead>\n",
       "  <tbody>\n",
       "    <tr>\n",
       "      <th>0</th>\n",
       "      <td>My/0/0.jpg</td>\n",
       "      <td>0</td>\n",
       "    </tr>\n",
       "    <tr>\n",
       "      <th>1</th>\n",
       "      <td>My/1/1.jpg</td>\n",
       "      <td>1</td>\n",
       "    </tr>\n",
       "    <tr>\n",
       "      <th>2</th>\n",
       "      <td>My/2/2.jpg</td>\n",
       "      <td>2</td>\n",
       "    </tr>\n",
       "    <tr>\n",
       "      <th>3</th>\n",
       "      <td>My/3/3.jpg</td>\n",
       "      <td>3</td>\n",
       "    </tr>\n",
       "    <tr>\n",
       "      <th>4</th>\n",
       "      <td>My/4/4.jpg</td>\n",
       "      <td>4</td>\n",
       "    </tr>\n",
       "    <tr>\n",
       "      <th>5</th>\n",
       "      <td>My/5/5.jpg</td>\n",
       "      <td>5</td>\n",
       "    </tr>\n",
       "    <tr>\n",
       "      <th>6</th>\n",
       "      <td>My/6/6.jpg</td>\n",
       "      <td>6</td>\n",
       "    </tr>\n",
       "    <tr>\n",
       "      <th>7</th>\n",
       "      <td>My/7/7.jpg</td>\n",
       "      <td>7</td>\n",
       "    </tr>\n",
       "    <tr>\n",
       "      <th>8</th>\n",
       "      <td>My/8/8.jpg</td>\n",
       "      <td>8</td>\n",
       "    </tr>\n",
       "    <tr>\n",
       "      <th>9</th>\n",
       "      <td>My/9/9.jpg</td>\n",
       "      <td>9</td>\n",
       "    </tr>\n",
       "  </tbody>\n",
       "</table>\n",
       "</div>"
      ],
      "text/plain": [
       "          img label\n",
       "0  My/0/0.jpg     0\n",
       "1  My/1/1.jpg     1\n",
       "2  My/2/2.jpg     2\n",
       "3  My/3/3.jpg     3\n",
       "4  My/4/4.jpg     4\n",
       "5  My/5/5.jpg     5\n",
       "6  My/6/6.jpg     6\n",
       "7  My/7/7.jpg     7\n",
       "8  My/8/8.jpg     8\n",
       "9  My/9/9.jpg     9"
      ]
     },
     "execution_count": 65,
     "metadata": {},
     "output_type": "execute_result"
    }
   ],
   "source": [
    "img_list = []\n",
    "label_list = []\n",
    "for label in lable:\n",
    "    for img_file in os.listdir(img_path+label):\n",
    "        img_list.append(img_path+label+'/'+img_file)\n",
    "        label_list.append(label)\n",
    "        \n",
    "df = pd.DataFrame({'img':img_list, 'label':label_list})\n",
    "df"
   ]
  },
  {
   "cell_type": "code",
   "execution_count": 66,
   "id": "f7139701-0e2f-4c86-9b48-eb57f1943720",
   "metadata": {
    "tags": []
   },
   "outputs": [],
   "source": [
    "df['label']=df.label.astype('uint8')\n"
   ]
  },
  {
   "cell_type": "code",
   "execution_count": 67,
   "id": "6040e289-f4f4-41b4-880b-9a15d08e1b3e",
   "metadata": {
    "tags": []
   },
   "outputs": [
    {
     "data": {
      "text/plain": [
       "(10,)"
      ]
     },
     "execution_count": 67,
     "metadata": {},
     "output_type": "execute_result"
    }
   ],
   "source": [
    "df['img'].shape"
   ]
  },
  {
   "cell_type": "code",
   "execution_count": 68,
   "id": "cd108a56-cea6-433e-9e94-75b31631a8ac",
   "metadata": {
    "tags": []
   },
   "outputs": [
    {
     "data": {
      "text/plain": [
       "6.0"
      ]
     },
     "execution_count": 68,
     "metadata": {},
     "output_type": "execute_result"
    }
   ],
   "source": [
    "class_names = [0.0, 1.0, 2.0,3.0,4.0,5.0,6.0,7.0,8.0,9.0]\n",
    "class_names[df['label'][6]]"
   ]
  },
  {
   "cell_type": "code",
   "execution_count": 69,
   "id": "2643f610-defb-489a-bd09-26a91bfb6dc1",
   "metadata": {
    "tags": []
   },
   "outputs": [],
   "source": [
    "from matplotlib import pyplot as plt\n",
    "from matplotlib import image as mpimg"
   ]
  },
  {
   "cell_type": "code",
   "execution_count": 71,
   "id": "9b391b3f-1fd1-45b7-81c4-af25cfe4ad76",
   "metadata": {
    "tags": []
   },
   "outputs": [],
   "source": [
    "X = []\n",
    "for img in df['img']:\n",
    "    img = cv2.imread(str(img))\n",
    "    img = cv2.resize(img, (32, 32))\n",
    "    gray = cv2.cvtColor(img, cv2.COLOR_RGB2GRAY)\n",
    "    gray = 255 - gray # change the range of real handwriting for matching with dataset instance\n",
    "    gray = gray/255\n",
    "    X.append(gray)"
   ]
  },
  {
   "cell_type": "code",
   "execution_count": 72,
   "id": "1fb411ca-2743-418b-832f-578eea8b9f98",
   "metadata": {
    "tags": []
   },
   "outputs": [],
   "source": [
    "X=np.asarray(X)"
   ]
  },
  {
   "cell_type": "code",
   "execution_count": 73,
   "id": "9aa00f5a-697b-427e-8bd9-594590cb0874",
   "metadata": {
    "tags": []
   },
   "outputs": [
    {
     "data": {
      "text/plain": [
       "(10, 32, 32)"
      ]
     },
     "execution_count": 73,
     "metadata": {},
     "output_type": "execute_result"
    }
   ],
   "source": [
    "X.shape"
   ]
  },
  {
   "cell_type": "code",
   "execution_count": 74,
   "id": "be383017-1abe-4191-b323-77cb5ee9ed7e",
   "metadata": {
    "tags": []
   },
   "outputs": [],
   "source": [
    "X= X.reshape(X.shape[0], X.shape[1], X.shape[2], 1)"
   ]
  },
  {
   "cell_type": "code",
   "execution_count": 75,
   "id": "d63c6580-4e74-4dfb-9ab8-e4adf1739cc7",
   "metadata": {
    "tags": []
   },
   "outputs": [
    {
     "data": {
      "text/plain": [
       "(10, 32, 32, 1)"
      ]
     },
     "execution_count": 75,
     "metadata": {},
     "output_type": "execute_result"
    }
   ],
   "source": [
    "X.shape"
   ]
  },
  {
   "cell_type": "code",
   "execution_count": 76,
   "id": "01f08f33-3c16-4657-b174-06d493e40d60",
   "metadata": {
    "tags": []
   },
   "outputs": [],
   "source": [
    "y=df['label']"
   ]
  },
  {
   "cell_type": "code",
   "execution_count": 77,
   "id": "9d826862-dba0-481c-a436-1847d3ea7ddf",
   "metadata": {
    "tags": []
   },
   "outputs": [],
   "source": [
    "y=np.asarray(y)"
   ]
  },
  {
   "cell_type": "code",
   "execution_count": 78,
   "id": "9a9c7f18-5d21-4ef3-a973-e9a2c3b470a1",
   "metadata": {
    "tags": []
   },
   "outputs": [
    {
     "data": {
      "image/png": "[encoded data removed]",
      "text/plain": [
       "<Figure size 640x480 with 9 Axes>"
      ]
     },
     "metadata": {},
     "output_type": "display_data"
    }
   ],
   "source": [
    "for i in range(9):\n",
    "    plt.subplot(330 + (i+1))\n",
    "    plt.imshow(X[i].squeeze(),cmap='gray' )\n",
    "    plt.axis('off')\n",
    "    plt.title(y[i])"
   ]
  },
  {
   "cell_type": "code",
   "execution_count": 79,
   "id": "0420af02-6fca-44ce-8624-d729447a5720",
   "metadata": {
    "tags": []
   },
   "outputs": [
    {
     "data": {
      "text/plain": [
       "array([[0., 0., 0., 0., 0., 1., 0., 0., 0., 0.],\n",
       "       [0., 1., 0., 0., 0., 0., 0., 0., 0., 0.],\n",
       "       [0., 0., 1., 0., 0., 0., 0., 0., 0., 0.],\n",
       "       [0., 0., 0., 1., 0., 0., 0., 0., 0., 0.],\n",
       "       [0., 0., 0., 0., 1., 0., 0., 0., 0., 0.],\n",
       "       [0., 0., 0., 0., 0., 1., 0., 0., 0., 0.],\n",
       "       [0., 0., 0., 0., 0., 0., 1., 0., 0., 0.],\n",
       "       [0., 0., 0., 0., 0., 0., 0., 1., 0., 0.],\n",
       "       [0., 0., 0., 0., 0., 0., 0., 0., 1., 0.],\n",
       "       [0., 0., 0., 0., 0., 0., 0., 0., 0., 1.]], dtype=float32)"
      ]
     },
     "execution_count": 79,
     "metadata": {},
     "output_type": "execute_result"
    }
   ],
   "source": [
    "X_n = X\n",
    "y_proba = model_S.predict(X_n)\n",
    "y_proba.round(2)"
   ]
  },
  {
   "cell_type": "code",
   "execution_count": 80,
   "id": "91c897b2-8794-4b16-b4c5-04e839aabebb",
   "metadata": {
    "tags": []
   },
   "outputs": [],
   "source": [
    "y_predi = y_proba.argmax(axis=1)"
   ]
  },
  {
   "cell_type": "code",
   "execution_count": 81,
   "id": "ab43958e-bc53-42da-b37d-44faca28d5c4",
   "metadata": {
    "tags": []
   },
   "outputs": [],
   "source": [
    "y_predi = y_proba.argmax(axis=-1)"
   ]
  },
  {
   "cell_type": "code",
   "execution_count": 82,
   "id": "382b72b5-0506-4811-a391-d5f1ba7af0e4",
   "metadata": {},
   "outputs": [
    {
     "data": {
      "text/plain": [
       "array([5, 1, 2, 3, 4, 5, 6, 7, 8, 9])"
      ]
     },
     "execution_count": 82,
     "metadata": {},
     "output_type": "execute_result"
    }
   ],
   "source": [
    "y_predi"
   ]
  },
  {
   "cell_type": "markdown",
   "id": "7142c5fb-4858-4139-92a7-751d9e4928fe",
   "metadata": {},
   "source": [
    "### The model can not to predict 0 correctly"
   ]
  },
  {
   "cell_type": "code",
   "execution_count": 83,
   "id": "6355f3b4-4e1c-401a-8fbd-b546c44b2a66",
   "metadata": {
    "tags": []
   },
   "outputs": [
    {
     "name": "stdout",
     "output_type": "stream",
     "text": [
      "              precision    recall  f1-score   support\n",
      "\n",
      "           0       0.00      0.00      0.00         1\n",
      "           1       1.00      1.00      1.00         1\n",
      "           2       1.00      1.00      1.00         1\n",
      "           3       1.00      1.00      1.00         1\n",
      "           4       1.00      1.00      1.00         1\n",
      "           5       0.50      1.00      0.67         1\n",
      "           6       1.00      1.00      1.00         1\n",
      "           7       1.00      1.00      1.00         1\n",
      "           8       1.00      1.00      1.00         1\n",
      "           9       1.00      1.00      1.00         1\n",
      "\n",
      "    accuracy                           0.90        10\n",
      "   macro avg       0.85      0.90      0.87        10\n",
      "weighted avg       0.85      0.90      0.87        10\n",
      "\n"
     ]
    }
   ],
   "source": [
    "from sklearn.metrics import classification_report\n",
    "print(classification_report(y, y_predi))"
   ]
  }
 ],
 "metadata": {
  "kernelspec": {
   "display_name": "Python 3 (ipykernel)",
   "language": "python",
   "name": "python3"
  },
  "language_info": {
   "codemirror_mode": {
    "name": "ipython",
    "version": 3
   },
   "file_extension": ".py",
   "mimetype": "text/x-python",
   "name": "python",
   "nbconvert_exporter": "python",
   "pygments_lexer": "ipython3",
   "version": "3.10.6"
  }
 },
 "nbformat": 4,
 "nbformat_minor": 5
}
